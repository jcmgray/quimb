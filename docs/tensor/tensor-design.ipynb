{
 "cells": [
  {
   "attachments": {},
   "cell_type": "markdown",
   "id": "8439a941-1b55-4675-afb9-98d2055e6f30",
   "metadata": {
    "raw_mimetype": "text/restructuredtext"
   },
   "source": [
    "(tensor-network-design)=\n",
    "\n",
    "# Design\n",
    "\n",
    "The section contains some notes on the design of quimb's tensor network\n",
    "functionality that should be helpful for a) understanding how certain functions\n",
    "work better, and b) implementing more advanced functions or contributing to quimb."
   ]
  },
  {
   "cell_type": "code",
   "execution_count": 1,
   "id": "9af27525-a469-434a-b5bf-e7a75949cfec",
   "metadata": {},
   "outputs": [],
   "source": [
    "%config InlineBackend.figure_formats = ['svg']\n",
    "\n",
    "# the main tensor and tensor network functionality\n",
    "import quimb.tensor as qtn\n",
    "\n",
    "# backend agnostic array functions\n",
    "from autoray import do"
   ]
  },
  {
   "cell_type": "markdown",
   "id": "093d8766-5b0c-4699-8593-1b943d245049",
   "metadata": {
    "raw_mimetype": "text/restructuredtext"
   },
   "source": [
    "## `Tensor`\n",
    "\n",
    "The {class}`~quimb.tensor.tensor_core.Tensor` object, unsurprisingly,\n",
    "is the core object in `quimb.tensor`. It has three main attributes.\n",
    "\n",
    "### `Tensor.data`\n",
    "\n",
    "This is **any n-dimensional array looking object** (i.e. something with a\n",
    "`.shape` attribute). Whenever array functions are performed on a\n",
    "tensors `.data`, [autoray](https://github.com/jcmgray/autoray)\n",
    "is used to dispatch to the correct backend functions, so `quimb`\n",
    "itself does no explicit conversion of array backends."
   ]
  },
  {
   "cell_type": "code",
   "execution_count": 2,
   "id": "40f9b2a0-09bc-4151-b79c-9d282a94241a",
   "metadata": {},
   "outputs": [],
   "source": [
    "data = do('random.uniform', size=(3, 4, 5), like='cupy')"
   ]
  },
  {
   "cell_type": "markdown",
   "id": "4147350d-9724-4995-87e0-37694b64befd",
   "metadata": {
    "raw_mimetype": "text/restructuredtext"
   },
   "source": [
    "Having said that, if the supplied `data` has no `.shape` attribute\n",
    "{func}`numpy.asarray` will be called on it.\n",
    "\n",
    "### `Tensor.inds`\n",
    "\n",
    "This is an **ordered tuple of index names** - one for each of the dimensions\n",
    "of `.data`. Functions that would normally require 'axes' to be specified\n",
    "instead can just use names, and these are propagated through all operations.\n",
    "For example, operations such as transposing the underyling array can just\n",
    "be done via reordering the `inds` of the tensor."
   ]
  },
  {
   "cell_type": "code",
   "execution_count": 3,
   "id": "55f6c6b1-8f81-4337-932d-9ee55a4ddc0e",
   "metadata": {},
   "outputs": [],
   "source": [
    "inds = ('a', 'b', 'c')"
   ]
  },
  {
   "cell_type": "markdown",
   "id": "99ad7574-08c1-4293-a98e-92b435e7a53f",
   "metadata": {
    "raw_mimetype": "text/restructuredtext"
   },
   "source": [
    "Moreover, the names of indices explicitly define the geometry of bonds\n",
    "(edges) in tensor networks at this local tensor level - there are no extra\n",
    "'index' objects and this information is thus completely local.\n",
    "\n",
    "### `Tensor.tags`\n",
    "\n",
    "These are an **ordered set** (quimb has a quick `dict` based implementation\n",
    "\\- {class}`~quimb.utils.oset`)  of **an arbitrary number of extra\n",
    "identifiers** for the tensor. The main use of these is that *within a\n",
    "tensor network* you can use any number of simultenous labelling schemes to\n",
    "identify your tensors with. You probably don't need to use any if just using\n",
    "raw tensors."
   ]
  },
  {
   "cell_type": "code",
   "execution_count": 4,
   "id": "a1fddf5b-346d-41df-9421-ea0d7c9ea4c0",
   "metadata": {},
   "outputs": [],
   "source": [
    "tags = qtn.oset(['hello', 'world'])"
   ]
  },
  {
   "cell_type": "markdown",
   "id": "a35e9c93-1c96-4625-8cce-092f0145115c",
   "metadata": {
    "raw_mimetype": "text/restructuredtext"
   },
   "source": [
    ":::{note}\n",
    "{class}`~quimb.utils.oset` is used in many places across `quimb.tensor`\n",
    "**in order to make all operations deterministic**, unlike {class}`set`. You can\n",
    "supply any (ideally itself ordered) iterable to `tags` and it will\n",
    "be converted for you.\n",
    ":::\n",
    "\n",
    "## Creating & Contracting Tensors\n",
    "\n",
    "We can use our `data`, `inds` and (optional) `tags` to create a tensor:"
   ]
  },
  {
   "cell_type": "code",
   "execution_count": 5,
   "id": "dc56644c-f9e8-4090-9c17-0209341a80a4",
   "metadata": {},
   "outputs": [
    {
     "data": {
      "text/html": [
       "<samp style='font-size: 12px;'><details><summary><b style=\"color: #e55471;\">Tensor</b>(shape=(<b style=\"color: #8a5bcf;\">3</b>, <b style=\"color: #80d749;\">4</b>, <b style=\"color: #7355d7;\">5</b>), inds=[<b style=\"color: #7aacd4;\">a</b>, <b style=\"color: #b9e292;\">b</b>, <b style=\"color: #5db6d5;\">c</b>], tags={<b style=\"color: #aa6dda;\">hello</b>, <b style=\"color: #79e441;\">world</b>}),</summary>backend=<b style=\"color: #d37dbf;\">cupy</b>, dtype=<b style=\"color: #75d2c6;\">float64</b>, data=array([[[0.97641966, 0.6964992 , 0.14297803, 0.4075414 , 0.38340721],\n",
       "        [0.11856711, 0.89633028, 0.59211389, 0.547883  , 0.5934418 ],\n",
       "        [0.75794605, 0.89411517, 0.3868147 , 0.0090452 , 0.29680125],\n",
       "        [0.91689399, 0.84223811, 0.46408656, 0.58087305, 0.89949236]],\n",
       "\n",
       "       [[0.74613888, 0.77655533, 0.05940234, 0.23631638, 0.82518739],\n",
       "        [0.57981722, 0.54969852, 0.79932289, 0.77402098, 0.86315628],\n",
       "        [0.46177098, 0.23686848, 0.35011062, 0.5614713 , 0.13329136],\n",
       "        [0.082935  , 0.51894518, 0.50928339, 0.95217395, 0.67710415]],\n",
       "\n",
       "       [[0.22488959, 0.53207111, 0.74554138, 0.95702639, 0.78858658],\n",
       "        [0.51136781, 0.55735051, 0.77407297, 0.20138574, 0.72253493],\n",
       "        [0.73572433, 0.78192978, 0.6545592 , 0.38579206, 0.46297037],\n",
       "        [0.52019734, 0.28735351, 0.57257375, 0.69800421, 0.21275464]]])</details></samp>"
      ],
      "text/plain": [
       "Tensor(shape=(3, 4, 5), inds=('a', 'b', 'c'), tags=oset(['hello', 'world']))"
      ]
     },
     "execution_count": 5,
     "metadata": {},
     "output_type": "execute_result"
    }
   ],
   "source": [
    "T = qtn.Tensor(data=data, inds=inds, tags=tags)\n",
    "T"
   ]
  },
  {
   "cell_type": "code",
   "execution_count": 6,
   "id": "dfe388b8-3251-4dbc-94f3-83aacc23d700",
   "metadata": {},
   "outputs": [
    {
     "data": {
      "image/svg+xml": [
       "<?xml version=\"1.0\" encoding=\"UTF-8\"?><!DOCTYPE svg  PUBLIC '-//W3C//DTD SVG 1.1//EN'  'http://www.w3.org/Graphics/SVG/1.1/DTD/svg11.dtd'><svg width=\"379.6pt\" height=\"347.33pt\" version=\"1.1\" viewBox=\"0 0 379.6 347.33\" xmlns=\"http://www.w3.org/2000/svg\" xmlns:xlink=\"http://www.w3.org/1999/xlink\"><defs><style type=\"text/css\">*{stroke-linejoin: round; stroke-linecap: butt}</style></defs><path d=\"m0 347.33h379.6v-347.33h-379.6v347.33z\" opacity=\"0\"/><path d=\"m198.31 173.66h-188.28\" clip-path=\"url(#2d68a5bc6dd)\" fill=\"none\" stroke=\"#737880\" stroke-linecap=\"round\" stroke-opacity=\".5\" stroke-width=\"1.585\"/><path d=\"m198.31 173.66 94.142-163.06\" clip-path=\"url(#2d68a5bc6dd)\" fill=\"none\" stroke=\"#737880\" stroke-linecap=\"round\" stroke-opacity=\".5\" stroke-width=\"2\"/><path d=\"m198.31 173.66 94.142 163.06\" clip-path=\"url(#2d68a5bc6dd)\" fill=\"none\" stroke=\"#737880\" stroke-linecap=\"round\" stroke-opacity=\".5\" stroke-width=\"2.3219\"/><path d=\"m10.024 173.66z\" clip-path=\"url(#2d68a5bc6dd)\" fill=\"#ffffff\"/><path d=\"m292.45 10.606z\" clip-path=\"url(#2d68a5bc6dd)\" fill=\"#ffffff\"/><path d=\"m292.45 336.72z\" clip-path=\"url(#2d68a5bc6dd)\" fill=\"#ffffff\"/><path d=\"m198.31 211.32c9.9867 0 19.566-3.9678 26.627-11.029 7.0617-7.0617 11.029-16.641 11.029-26.627s-3.9678-19.566-11.029-26.627c-7.0617-7.0617-16.641-11.029-26.627-11.029s-19.566 3.9678-26.627 11.029c-7.0617 7.0617-11.029 16.641-11.029 26.627s3.9678 19.566 11.029 26.627c7.0617 7.0617 16.641 11.029 26.627 11.029z\" clip-path=\"url(#2d68a5bc6dd)\" fill=\"#56b4e9\" stroke=\"#4da2d2\" stroke-width=\"2.6833\"/><g transform=\"translate(7.9172 175.61) scale(.07 -.07)\" fill=\"#545759\"><defs><path id=\"DejaVuSansMono-61\" transform=\"scale(.015625)\" d=\"m2194 1759h-191q-503 0-758-177-254-176-254-526 0-315 190-490 191-175 528-175 475 0 747 329 272 330 275 911v128h-537zm1115 238v-1997h-578v519q-184-313-464-462-279-148-679-148-535 0-854 302-318 302-318 808 0 584 392 887t1151 303h772v91q-3 419-213 608-209 189-668 189-294 0-594-85-300-84-584-246v575q319 122 611 182 292 61 567 61 434 0 742-128t499-384q118-156 168-386t50-689z\"/></defs><use xlink:href=\"#DejaVuSansMono-61\"/></g><g transform=\"translate(290.34 12.556) scale(.07 -.07)\" fill=\"#545759\"><defs><path id=\"DejaVuSansMono-62\" transform=\"scale(.015625)\" d=\"m2869 1747q0 669-213 1009-212 341-628 341-419 0-635-342-215-342-215-1008 0-663 215-1007 216-343 635-343 416 0 628 340 213 341 213 1010zm-1691 1306q138 256 380 393 242 138 561 138 631 0 993-486 363-485 363-1339 0-865-364-1358-364-492-998-492-313 0-552 136t-383 396v-441h-575v4863h575v-1810z\"/></defs><use xlink:href=\"#DejaVuSansMono-62\"/></g><g transform=\"translate(290.34 338.67) scale(.07 -.07)\" fill=\"#545759\"><defs><path id=\"DejaVuSansMono-63\" transform=\"scale(.015625)\" d=\"m3316 178q-232-134-477-201-245-68-501-68-813 0-1271 487-458 488-458 1351 0 862 458 1349 458 488 1271 488 253 0 493-66 241-65 485-202v-603q-228 203-458 293-230 91-520 91-541 0-832-350-290-350-290-1e3 0-647 292-999 292-351 830-351 300 0 537 92 238 92 441 286v-597z\"/></defs><use xlink:href=\"#DejaVuSansMono-63\"/></g><g transform=\"translate(162.19 176.45) scale(.1 -.1)\" fill=\"#545759\"><defs><path id=\"DejaVuSansMono-68\" transform=\"scale(.015625)\" d=\"m3284 2169v-2169h-578v2169q0 472-166 693-165 222-518 222-403 0-621-286-217-285-217-820v-1978h-575v4863h575v-1888q154 300 416 454 263 155 622 155 534 0 798-352 264-351 264-1063z\"/><path id=\"DejaVuSansMono-65\" transform=\"scale(.015625)\" d=\"m3475 1894v-281h-2491v-19q0-572 298-885 299-312 843-312 275 0 575 87 300 88 641 266v-572q-328-134-633-201-305-68-589-68-816 0-1276 489-459 490-459 1349 0 837 450 1337t1200 500q669 0 1055-453t386-1237zm-575 169q-12 506-239 770t-652 264q-415 0-684-275t-319-763l1894 4z\"/><path id=\"DejaVuSansMono-6c\" transform=\"scale(.015625)\" d=\"m1997 1269q0-388 142-585 142-196 420-196h672v-488h-728q-515 0-798 331-283 332-283 938v3178h-922v450h1497v-3628z\"/><path id=\"DejaVuSansMono-6f\" transform=\"scale(.015625)\" d=\"m1925 3097q-437 0-662-341-225-340-225-1009 0-666 225-1008t662-342q441 0 666 342t225 1008q0 669-225 1009-225 341-666 341zm0 487q728 0 1114-472 386-471 386-1365 0-897-385-1368-384-470-1115-470-728 0-1113 470-384 471-384 1368 0 894 384 1365 385 472 1113 472z\"/><path id=\"DejaVuSansMono-2c\" transform=\"scale(.015625)\" d=\"m1569 947h787v-647l-615-1197h-482l310 1197v647z\"/><path id=\"DejaVuSansMono-77\" transform=\"scale(.015625)\" d=\"m0 3500h569l609-2828 500 1806h491l506-1806 609 2828h569l-819-3500h-550l-559 1919-556-1919h-550l-819 3500z\"/><path id=\"DejaVuSansMono-72\" transform=\"scale(.015625)\" d=\"m3609 2778q-184 144-375 209-190 66-418 66-538 0-823-338-284-337-284-974v-1741h-578v3500h578v-684q144 372 442 570 299 198 708 198 213 0 397-53 185-53 353-165v-588z\"/><path id=\"DejaVuSansMono-64\" transform=\"scale(.015625)\" d=\"m2681 3053v1810h575v-4863h-575v441q-143-260-383-396-239-136-551-136-634 0-999 492-364 493-364 1358 0 854 366 1339 366 486 997 486 316 0 556-136 241-135 378-395zm-1690-1306q0-669 212-1010 213-340 628-340 416 0 633 343 217 344 217 1007 0 666-217 1008t-633 342q-415 0-628-341-212-340-212-1009z\"/></defs><use xlink:href=\"#DejaVuSansMono-68\"/><use x=\"60.205078\" xlink:href=\"#DejaVuSansMono-65\"/><use x=\"120.410156\" xlink:href=\"#DejaVuSansMono-6c\"/><use x=\"180.615234\" xlink:href=\"#DejaVuSansMono-6c\"/><use x=\"240.820312\" xlink:href=\"#DejaVuSansMono-6f\"/><use x=\"301.025391\" xlink:href=\"#DejaVuSansMono-2c\"/><use x=\"361.230469\" xlink:href=\"#DejaVuSansMono-20\"/><use x=\"421.435547\" xlink:href=\"#DejaVuSansMono-77\"/><use x=\"481.640625\" xlink:href=\"#DejaVuSansMono-6f\"/><use x=\"541.845703\" xlink:href=\"#DejaVuSansMono-72\"/><use x=\"602.050781\" xlink:href=\"#DejaVuSansMono-6c\"/><use x=\"662.255859\" xlink:href=\"#DejaVuSansMono-64\"/></g><path d=\"m302.27 182.53h68.122q2 0 2-2v-13.731q0-2-2-2h-68.122q-2 0-2 2v13.731q0 2 2 2z\" fill=\"none\" stroke=\"#999999\" stroke-opacity=\".2\"/><defs><path id=\"7b5ffa51184\" d=\"m0 5c1.326 0 2.5979-0.52683 3.5355-1.4645 0.93763-0.93764 1.4645-2.2095 1.4645-3.5355s-0.52683-2.5979-1.4645-3.5355c-0.93764-0.93763-2.2095-1.4645-3.5355-1.4645s-2.5979 0.52683-3.5355 1.4645c-0.93763 0.93764-1.4645 2.2095-1.4645 3.5355s0.52683 2.5979 1.4645 3.5355c0.93764 0.93763 2.2095 1.4645 3.5355 1.4645z\" stroke=\"#4da2d2\"/></defs><use x=\"314.27469\" y=\"172.950699\" fill=\"#56b4e9\" stroke=\"#4da2d2\" xlink:href=\"#7b5ffa51184\"/><g transform=\"translate(332.27 176.45) scale(.1 -.1)\" fill=\"#545759\"><use xlink:href=\"#DejaVuSansMono-20\"/><use x=\"60.205078\" xlink:href=\"#DejaVuSansMono-68\"/><use x=\"120.410156\" xlink:href=\"#DejaVuSansMono-65\"/><use x=\"180.615234\" xlink:href=\"#DejaVuSansMono-6c\"/><use x=\"240.820312\" xlink:href=\"#DejaVuSansMono-6c\"/><use x=\"301.025391\" xlink:href=\"#DejaVuSansMono-6f\"/></g><defs><clipPath id=\"2d68a5bc6dd\"><rect x=\"7.2\" y=\"7.3448\" width=\"288.07\" height=\"332.64\"/></clipPath></defs></svg>"
      ],
      "text/plain": [
       "<Figure size 600x600 with 1 Axes>"
      ]
     },
     "metadata": {
      "needs_background": "light"
     },
     "output_type": "display_data"
    }
   ],
   "source": [
    "T.draw(color='hello')"
   ]
  },
  {
   "cell_type": "markdown",
   "id": "534a8308-a3a8-4508-b02e-141b196e5fa3",
   "metadata": {
    "raw_mimetype": "text/restructuredtext"
   },
   "source": [
    "Just on their own (i.e. not within a tensor network) just the labelled dimension\n",
    "aspect of tensors is already very convenient.\n",
    "Here's {meth}`~quimb.tensor.tensor_core.Tensor.fuse`,\n",
    "for example, which would usually require some non-trivial combination of axis finding,\n",
    "permuting, reshaping etc:"
   ]
  },
  {
   "cell_type": "code",
   "execution_count": 7,
   "id": "d8b895d1-8051-4150-b06e-c3f7472f4659",
   "metadata": {},
   "outputs": [
    {
     "data": {
      "text/html": [
       "<samp style='font-size: 12px;'><details><summary><b style=\"color: #e55471;\">Tensor</b>(shape=(<b style=\"color: #76a3d6;\">15</b>, <b style=\"color: #80d749;\">4</b>), inds=[<b style=\"color: #5d99e5;\">ac</b>, <b style=\"color: #b9e292;\">b</b>], tags={<b style=\"color: #aa6dda;\">hello</b>, <b style=\"color: #79e441;\">world</b>}),</summary>backend=<b style=\"color: #d37dbf;\">cupy</b>, dtype=<b style=\"color: #75d2c6;\">float64</b>, data=array([[0.97641966, 0.11856711, 0.75794605, 0.91689399],\n",
       "       [0.6964992 , 0.89633028, 0.89411517, 0.84223811],\n",
       "       [0.14297803, 0.59211389, 0.3868147 , 0.46408656],\n",
       "       [0.4075414 , 0.547883  , 0.0090452 , 0.58087305],\n",
       "       [0.38340721, 0.5934418 , 0.29680125, 0.89949236],\n",
       "       [0.74613888, 0.57981722, 0.46177098, 0.082935  ],\n",
       "       [0.77655533, 0.54969852, 0.23686848, 0.51894518],\n",
       "       [0.05940234, 0.79932289, 0.35011062, 0.50928339],\n",
       "       [0.23631638, 0.77402098, 0.5614713 , 0.95217395],\n",
       "       [0.82518739, 0.86315628, 0.13329136, 0.67710415],\n",
       "       [0.22488959, 0.51136781, 0.73572433, 0.52019734],\n",
       "       [0.53207111, 0.55735051, 0.78192978, 0.28735351],\n",
       "       [0.74554138, 0.77407297, 0.6545592 , 0.57257375],\n",
       "       [0.95702639, 0.20138574, 0.38579206, 0.69800421],\n",
       "       [0.78858658, 0.72253493, 0.46297037, 0.21275464]])</details></samp>"
      ],
      "text/plain": [
       "Tensor(shape=(15, 4), inds=('ac', 'b'), tags=oset(['hello', 'world']))"
      ]
     },
     "execution_count": 7,
     "metadata": {},
     "output_type": "execute_result"
    }
   ],
   "source": [
    "T1 = T.fuse({'ac': ('a', 'c')})\n",
    "T1"
   ]
  },
  {
   "cell_type": "markdown",
   "id": "12e6e7d2-055d-4574-b9ce-5d821ef9bf0a",
   "metadata": {
    "raw_mimetype": "text/restructuredtext"
   },
   "source": [
    "More importantly, the indices of a tensor also exactly define the subscripts\n",
    "as would appear in a\n",
    "[implicit Einstein summation](https://en.wikipedia.org/wiki/Einstein_notation),\n",
    "such that if we create the following tensor:"
   ]
  },
  {
   "cell_type": "code",
   "execution_count": 8,
   "id": "912c4c6d-9167-4bea-8a4c-5a9aada03553",
   "metadata": {},
   "outputs": [
    {
     "data": {
      "text/html": [
       "<samp style='font-size: 12px;'><details><summary><b style=\"color: #e55471;\">Tensor</b>(shape=(<b style=\"color: #a4de79;\">6</b>, <b style=\"color: #76a3d6;\">15</b>), inds=[<b style=\"color: #4ee480;\">d</b>, <b style=\"color: #5d99e5;\">ac</b>], tags={<b style=\"color: #90e24b;\">T2</b>}),</summary>backend=<b style=\"color: #d37dbf;\">cupy</b>, dtype=<b style=\"color: #75d2c6;\">float64</b>, data=array([[0.61133688, 0.19963178, 0.54512192, 0.45136319, 0.95200169,\n",
       "        0.68349322, 0.72054855, 0.35749849, 0.01521056, 0.76230481,\n",
       "        0.95791951, 0.55055866, 0.84917076, 0.38681014, 0.795198  ],\n",
       "       [0.71160786, 0.90332059, 0.76197671, 0.53927703, 0.42098982,\n",
       "        0.82002418, 0.90061322, 0.48990883, 0.75245645, 0.54850696,\n",
       "        0.15722231, 0.14761825, 0.38377117, 0.71195033, 0.22025585],\n",
       "       [0.22271323, 0.6002882 , 0.29158765, 0.47496975, 0.89326597,\n",
       "        0.94999516, 0.37679517, 0.8857649 , 0.61252652, 0.66570427,\n",
       "        0.43343891, 0.10384877, 0.94062542, 0.72933167, 0.29090906],\n",
       "       [0.77569595, 0.91219689, 0.67441759, 0.0982548 , 0.86256351,\n",
       "        0.43845473, 0.18648777, 0.40573815, 0.11182709, 0.03758457,\n",
       "        0.66733917, 0.22062413, 0.37580556, 0.02836813, 0.46582853],\n",
       "       [0.62867367, 0.81370598, 0.10292322, 0.9020288 , 0.36236472,\n",
       "        0.29828873, 0.07717501, 0.36800433, 0.2745711 , 0.24406048,\n",
       "        0.73428318, 0.35486658, 0.56554947, 0.53758826, 0.45742711],\n",
       "       [0.41337104, 0.88415806, 0.50730996, 0.77998229, 0.97972492,\n",
       "        0.4472324 , 0.92755498, 0.04104936, 0.48683115, 0.97383488,\n",
       "        0.97269154, 0.96569825, 0.08422208, 0.4742093 , 0.76365892]])</details></samp>"
      ],
      "text/plain": [
       "Tensor(shape=(6, 15), inds=('d', 'ac'), tags=oset(['T2']))"
      ]
     },
     "execution_count": 8,
     "metadata": {},
     "output_type": "execute_result"
    }
   ],
   "source": [
    "T2 = qtn.Tensor(\n",
    "    # use whatever backend function T1's data is using\n",
    "    data=do('random.uniform', size=(6, 15), like=T1.data),\n",
    "    # 'd' is new, 'ac' is shared with T1\n",
    "    inds=['d', 'ac'],\n",
    "    tags=['T2'])\n",
    "T2"
   ]
  },
  {
   "cell_type": "markdown",
   "id": "04dd2505-df8c-4b2f-9540-89930de3b105",
   "metadata": {
    "raw_mimetype": "text/restructuredtext"
   },
   "source": [
    "The fact that both tensors have a `'ac'` index means that when combined\n",
    "the two corresponding dimensions are either implicitly or explicitly summed\n",
    "over (contracted) like so:\n",
    "\n",
    "```{math}\n",
    "T_{3}[b, d] = \\sum_{ac} T_1[ac, b] T_2[d, ac]\n",
    "```"
   ]
  },
  {
   "cell_type": "code",
   "execution_count": 9,
   "id": "1ea2814d-4b40-44bc-823f-ba490df361a6",
   "metadata": {},
   "outputs": [
    {
     "data": {
      "image/svg+xml": [
       "<?xml version=\"1.0\" encoding=\"UTF-8\"?><!DOCTYPE svg  PUBLIC '-//W3C//DTD SVG 1.1//EN'  'http://www.w3.org/Graphics/SVG/1.1/DTD/svg11.dtd'><svg width=\"408.26pt\" height=\"59.389pt\" version=\"1.1\" viewBox=\"0 0 408.26 59.389\" xmlns=\"http://www.w3.org/2000/svg\" xmlns:xlink=\"http://www.w3.org/1999/xlink\"><defs><style type=\"text/css\">*{stroke-linejoin: round; stroke-linecap: butt}</style></defs><path d=\"m0 59.389h408.26v-59.389h-408.26v59.389z\" opacity=\"0\"/><path d=\"m232.87 29.571-116.71 0.24605\" clip-path=\"url(#aad099248da)\" fill=\"none\" stroke=\"#737880\" stroke-linecap=\"round\" stroke-opacity=\".5\" stroke-width=\"3.9069\"/><path d=\"m232.87 29.571 105.84-0.22314\" clip-path=\"url(#aad099248da)\" fill=\"none\" stroke=\"#737880\" stroke-linecap=\"round\" stroke-opacity=\".5\" stroke-width=\"2\"/><path d=\"m116.16 29.817-105.68 0.22279\" clip-path=\"url(#aad099248da)\" fill=\"none\" stroke=\"#737880\" stroke-linecap=\"round\" stroke-opacity=\".5\" stroke-width=\"2.585\"/><path d=\"m338.72 29.348z\" clip-path=\"url(#aad099248da)\" fill=\"#ffffff\"/><path d=\"m10.482 30.04z\" clip-path=\"url(#aad099248da)\" fill=\"#ffffff\"/><path d=\"m232.87 49.508c5.2872 0 10.359-2.1006 14.097-5.8393 3.7386-3.7386 5.8393-8.81 5.8393-14.097 0-5.2872-2.1006-10.359-5.8393-14.097-3.7386-3.7386-8.81-5.8393-14.097-5.8393-5.2872 0-10.359 2.1006-14.097 5.8393s-5.8393 8.81-5.8393 14.097c0 5.2872 2.1006 10.359 5.8393 14.097 3.7386 3.7386 8.81 5.8393 14.097 5.8393z\" clip-path=\"url(#aad099248da)\" fill=\"#56b4e9\" stroke=\"#4da2d2\" stroke-width=\"2.1564\"/><path d=\"m116.16 49.754c5.2872 0 10.359-2.1006 14.097-5.8393 3.7386-3.7386 5.8393-8.81 5.8393-14.097 0-5.2872-2.1006-10.359-5.8393-14.097-3.7386-3.7386-8.81-5.8393-14.097-5.8393-5.2872 0-10.359 2.1006-14.097 5.8393-3.7386 3.7386-5.8393 8.81-5.8393 14.097 0 5.2872 2.1006 10.359 5.8393 14.097 3.7386 3.7386 8.81 5.8393 14.097 5.8393z\" clip-path=\"url(#aad099248da)\" fill=\"#e69f00\" stroke=\"#cf8f00\" stroke-width=\"2.1564\"/><g transform=\"translate(336.61 31.298) scale(.07 -.07)\" fill=\"#545759\"><defs><path id=\"DejaVuSansMono-62\" transform=\"scale(.015625)\" d=\"m2869 1747q0 669-213 1009-212 341-628 341-419 0-635-342-215-342-215-1008 0-663 215-1007 216-343 635-343 416 0 628 340 213 341 213 1010zm-1691 1306q138 256 380 393 242 138 561 138 631 0 993-486 363-485 363-1339 0-865-364-1358-364-492-998-492-313 0-552 136t-383 396v-441h-575v4863h575v-1810z\"/></defs><use xlink:href=\"#DejaVuSansMono-62\"/></g><g transform=\"translate(8.3752 31.99) scale(.07 -.07)\" fill=\"#545759\"><defs><path id=\"DejaVuSansMono-64\" transform=\"scale(.015625)\" d=\"m2681 3053v1810h575v-4863h-575v441q-143-260-383-396-239-136-551-136-634 0-999 492-364 493-364 1358 0 854 366 1339 366 486 997 486 316 0 556-136 241-135 378-395zm-1690-1306q0-669 212-1010 213-340 628-340 416 0 633 343 217 344 217 1007 0 666-217 1008t-633 342q-415 0-628-341-212-340-212-1009z\"/></defs><use xlink:href=\"#DejaVuSansMono-64\"/></g><g transform=\"translate(184.71 32.357) scale(.1 -.1)\" fill=\"#545759\"><defs><path id=\"DejaVuSansMono-68\" transform=\"scale(.015625)\" d=\"m3284 2169v-2169h-578v2169q0 472-166 693-165 222-518 222-403 0-621-286-217-285-217-820v-1978h-575v4863h575v-1888q154 300 416 454 263 155 622 155 534 0 798-352 264-351 264-1063z\"/><path id=\"DejaVuSansMono-65\" transform=\"scale(.015625)\" d=\"m3475 1894v-281h-2491v-19q0-572 298-885 299-312 843-312 275 0 575 87 300 88 641 266v-572q-328-134-633-201-305-68-589-68-816 0-1276 489-459 490-459 1349 0 837 450 1337t1200 500q669 0 1055-453t386-1237zm-575 169q-12 506-239 770t-652 264q-415 0-684-275t-319-763l1894 4z\"/><path id=\"DejaVuSansMono-6c\" transform=\"scale(.015625)\" d=\"m1997 1269q0-388 142-585 142-196 420-196h672v-488h-728q-515 0-798 331-283 332-283 938v3178h-922v450h1497v-3628z\"/><path id=\"DejaVuSansMono-6f\" transform=\"scale(.015625)\" d=\"m1925 3097q-437 0-662-341-225-340-225-1009 0-666 225-1008t662-342q441 0 666 342t225 1008q0 669-225 1009-225 341-666 341zm0 487q728 0 1114-472 386-471 386-1365 0-897-385-1368-384-470-1115-470-728 0-1113 470-384 471-384 1368 0 894 384 1365 385 472 1113 472z\"/><path id=\"DejaVuSansMono-2c\" transform=\"scale(.015625)\" d=\"m1569 947h787v-647l-615-1197h-482l310 1197v647z\"/><path id=\"DejaVuSansMono-77\" transform=\"scale(.015625)\" d=\"m0 3500h569l609-2828 500 1806h491l506-1806 609 2828h569l-819-3500h-550l-559 1919-556-1919h-550l-819 3500z\"/><path id=\"DejaVuSansMono-72\" transform=\"scale(.015625)\" d=\"m3609 2778q-184 144-375 209-190 66-418 66-538 0-823-338-284-337-284-974v-1741h-578v3500h578v-684q144 372 442 570 299 198 708 198 213 0 397-53 185-53 353-165v-588z\"/><path id=\"DejaVuSansMono-54\" transform=\"scale(.015625)\" d=\"m147 4666h3559v-532h-1459v-4134h-634v4134h-1466v532z\"/><path id=\"DejaVuSansMono-31\" transform=\"scale(.015625)\" d=\"m844 531h981v3566l-1056-238v575l1050 232h631v-4135h969v-531h-2575v531z\"/></defs><use xlink:href=\"#DejaVuSansMono-68\"/><use x=\"60.205078\" xlink:href=\"#DejaVuSansMono-65\"/><use x=\"120.410156\" xlink:href=\"#DejaVuSansMono-6c\"/><use x=\"180.615234\" xlink:href=\"#DejaVuSansMono-6c\"/><use x=\"240.820312\" xlink:href=\"#DejaVuSansMono-6f\"/><use x=\"301.025391\" xlink:href=\"#DejaVuSansMono-2c\"/><use x=\"361.230469\" xlink:href=\"#DejaVuSansMono-20\"/><use x=\"421.435547\" xlink:href=\"#DejaVuSansMono-77\"/><use x=\"481.640625\" xlink:href=\"#DejaVuSansMono-6f\"/><use x=\"541.845703\" xlink:href=\"#DejaVuSansMono-72\"/><use x=\"602.050781\" xlink:href=\"#DejaVuSansMono-6c\"/><use x=\"662.255859\" xlink:href=\"#DejaVuSansMono-64\"/><use x=\"722.460938\" xlink:href=\"#DejaVuSansMono-2c\"/><use x=\"782.666016\" xlink:href=\"#DejaVuSansMono-20\"/><use x=\"842.871094\" xlink:href=\"#DejaVuSansMono-54\"/><use x=\"903.076172\" xlink:href=\"#DejaVuSansMono-31\"/></g><g transform=\"translate(110.14 32.603) scale(.1 -.1)\" fill=\"#545759\"><defs><path id=\"DejaVuSansMono-32\" transform=\"scale(.015625)\" d=\"m1166 531h2143v-531h-2834v531q584 616 1021 1088 438 472 604 665 313 382 422 618t109 482q0 391-230 613-229 222-629 222-284 0-597-103-312-103-662-313v638q321 153 632 231t614 78q685 0 1102-364t417-955q0-300-139-600t-451-662q-175-203-508-563-333-359-1014-1075z\"/></defs><use xlink:href=\"#DejaVuSansMono-54\"/><use x=\"60.205078\" xlink:href=\"#DejaVuSansMono-32\"/></g><path d=\"m349 45.926h50.061q2 0 2-2v-28.462q0-2-2-2h-50.061q-2 0-2 2v28.462q0 2 2 2z\" fill=\"none\" stroke=\"#999999\" stroke-opacity=\".2\"/><defs><path id=\"2574158c23f\" d=\"m0 5c1.326 0 2.5979-0.52683 3.5355-1.4645 0.93763-0.93764 1.4645-2.2095 1.4645-3.5355s-0.52683-2.5979-1.4645-3.5355c-0.93764-0.93763-2.2095-1.4645-3.5355-1.4645s-2.5979 0.52683-3.5355 1.4645c-0.93763 0.93764-1.4645 2.2095-1.4645 3.5355s0.52683 2.5979 1.4645 3.5355c0.93764 0.93763 2.2095 1.4645 3.5355 1.4645z\" stroke=\"#4da2d2\"/></defs><use x=\"361\" y=\"21.614582\" fill=\"#56b4e9\" stroke=\"#4da2d2\" xlink:href=\"#2574158c23f\"/><g transform=\"translate(379 25.115) scale(.1 -.1)\" fill=\"#545759\"><use xlink:href=\"#DejaVuSansMono-20\"/><use x=\"60.205078\" xlink:href=\"#DejaVuSansMono-54\"/><use x=\"120.410156\" xlink:href=\"#DejaVuSansMono-31\"/></g><defs><path id=\"63d5047a353\" d=\"m0 5c1.326 0 2.5979-0.52683 3.5355-1.4645 0.93763-0.93764 1.4645-2.2095 1.4645-3.5355s-0.52683-2.5979-1.4645-3.5355c-0.93764-0.93763-2.2095-1.4645-3.5355-1.4645s-2.5979 0.52683-3.5355 1.4645c-0.93763 0.93764-1.4645 2.2095-1.4645 3.5355s0.52683 2.5979 1.4645 3.5355c0.93764 0.93763 2.2095 1.4645 3.5355 1.4645z\" stroke=\"#cf8f00\"/></defs><use x=\"361\" y=\"36.345832\" fill=\"#e69f00\" stroke=\"#cf8f00\" xlink:href=\"#63d5047a353\"/><g transform=\"translate(379 39.846) scale(.1 -.1)\" fill=\"#545759\"><use xlink:href=\"#DejaVuSansMono-20\"/><use x=\"60.205078\" xlink:href=\"#DejaVuSansMono-54\"/><use x=\"120.410156\" xlink:href=\"#DejaVuSansMono-32\"/></g><defs><clipPath id=\"aad099248da\"><rect x=\"7.2\" y=\"7.2\" width=\"334.8\" height=\"44.989\"/></clipPath></defs></svg>"
      ],
      "text/plain": [
       "<Figure size 600x600 with 1 Axes>"
      ]
     },
     "metadata": {
      "needs_background": "light"
     },
     "output_type": "display_data"
    }
   ],
   "source": [
    "T1.add_tag('T1')\n",
    "(T1 | T2).draw(color=['T1', 'T2'])"
   ]
  },
  {
   "cell_type": "code",
   "execution_count": 10,
   "id": "f3bcf673-2266-432b-82b8-79848fe9218d",
   "metadata": {},
   "outputs": [
    {
     "data": {
      "text/html": [
       "<samp style='font-size: 12px;'><details><summary><b style=\"color: #e55471;\">Tensor</b>(shape=(<b style=\"color: #80d749;\">4</b>, <b style=\"color: #a4de79;\">6</b>), inds=[<b style=\"color: #b9e292;\">b</b>, <b style=\"color: #4ee480;\">d</b>], tags={<b style=\"color: #aa6dda;\">hello</b>, <b style=\"color: #79e441;\">world</b>, <b style=\"color: #4dc1de;\">T1</b>, <b style=\"color: #90e24b;\">T2</b>}),</summary>backend=<b style=\"color: #d37dbf;\">cupy</b>, dtype=<b style=\"color: #75d2c6;\">float64</b>, data=array([[5.22498485, 5.03995703, 4.74283749, 3.35558005, 3.92328952,\n",
       "        5.61195934],\n",
       "       [5.24083022, 5.07076672, 5.40682846, 3.77210843, 3.95661664,\n",
       "        5.91813226],\n",
       "       [4.06943567, 3.88964851, 3.79027758, 3.51389366, 3.43819655,\n",
       "        4.50403753],\n",
       "       [4.82537913, 5.21932489, 5.04876845, 3.84178214, 4.11865728,\n",
       "        5.68091703]])</details></samp>"
      ],
      "text/plain": [
       "Tensor(shape=(4, 6), inds=('b', 'd'), tags=oset(['hello', 'world', 'T1', 'T2']))"
      ]
     },
     "execution_count": 10,
     "metadata": {},
     "output_type": "execute_result"
    }
   ],
   "source": [
    "T3 = T1 @ T2\n",
    "# == qtn.tensor_contract(T1, T2)\n",
    "# == T1.contract(T2)\n",
    "T3"
   ]
  },
  {
   "cell_type": "code",
   "execution_count": 11,
   "id": "1e84166a-83fa-474c-9028-b04c14695ae4",
   "metadata": {},
   "outputs": [
    {
     "data": {
      "image/svg+xml": [
       "<?xml version=\"1.0\" encoding=\"UTF-8\"?><!DOCTYPE svg  PUBLIC '-//W3C//DTD SVG 1.1//EN'  'http://www.w3.org/Graphics/SVG/1.1/DTD/svg11.dtd'><svg width=\"408.26pt\" height=\"88.056pt\" version=\"1.1\" viewBox=\"0 0 408.26 88.056\" xmlns=\"http://www.w3.org/2000/svg\" xmlns:xlink=\"http://www.w3.org/1999/xlink\"><defs><style type=\"text/css\">*{stroke-linejoin: round; stroke-linecap: butt}</style></defs><path d=\"m0 88.056h408.26v-88.056h-408.26v88.056z\" opacity=\"0\"/><path d=\"m174.6 44.028h-164.12\" clip-path=\"url(#c232dcd7d03)\" fill=\"none\" stroke=\"#737880\" stroke-linecap=\"round\" stroke-opacity=\".5\" stroke-width=\"2\"/><path d=\"m174.6 44.028h164.12\" clip-path=\"url(#c232dcd7d03)\" fill=\"none\" stroke=\"#737880\" stroke-linecap=\"round\" stroke-opacity=\".5\" stroke-width=\"2.585\"/><path d=\"m10.482 44.028z\" clip-path=\"url(#c232dcd7d03)\" fill=\"#ffffff\"/><path d=\"m338.72 44.028z\" clip-path=\"url(#c232dcd7d03)\" fill=\"#ffffff\"/><path d=\"m174.6 76.852c8.7049 0 17.054-3.4585 23.21-9.6138s9.6138-14.505 9.6138-23.21-3.4585-17.054-9.6138-23.21-14.505-9.6138-23.21-9.6138-17.054 3.4585-23.21 9.6138-9.6138 14.505-9.6138 23.21 3.4585 17.054 9.6138 23.21 14.505 9.6138 23.21 9.6138z\" clip-path=\"url(#c232dcd7d03)\" fill=\"#56b4e9\" stroke=\"#4da2d2\" stroke-width=\"2.6833\"/><g transform=\"translate(8.3752 45.978) scale(.07 -.07)\" fill=\"#545759\"><defs><path id=\"DejaVuSansMono-62\" transform=\"scale(.015625)\" d=\"m2869 1747q0 669-213 1009-212 341-628 341-419 0-635-342-215-342-215-1008 0-663 215-1007 216-343 635-343 416 0 628 340 213 341 213 1010zm-1691 1306q138 256 380 393 242 138 561 138 631 0 993-486 363-485 363-1339 0-865-364-1358-364-492-998-492-313 0-552 136t-383 396v-441h-575v4863h575v-1810z\"/></defs><use xlink:href=\"#DejaVuSansMono-62\"/></g><g transform=\"translate(336.61 45.978) scale(.07 -.07)\" fill=\"#545759\"><defs><path id=\"DejaVuSansMono-64\" transform=\"scale(.015625)\" d=\"m2681 3053v1810h575v-4863h-575v441q-143-260-383-396-239-136-551-136-634 0-999 492-364 493-364 1358 0 854 366 1339 366 486 997 486 316 0 556-136 241-135 378-395zm-1690-1306q0-669 212-1010 213-340 628-340 416 0 633 343 217 344 217 1007 0 666-217 1008t-633 342q-415 0-628-341-212-340-212-1009z\"/></defs><use xlink:href=\"#DejaVuSansMono-64\"/></g><g fill=\"#545759\"><g transform=\"translate(135.47 41.183) scale(.1 -.1)\"><defs><path id=\"DejaVuSansMono-68\" transform=\"scale(.015625)\" d=\"m3284 2169v-2169h-578v2169q0 472-166 693-165 222-518 222-403 0-621-286-217-285-217-820v-1978h-575v4863h575v-1888q154 300 416 454 263 155 622 155 534 0 798-352 264-351 264-1063z\"/><path id=\"DejaVuSansMono-65\" transform=\"scale(.015625)\" d=\"m3475 1894v-281h-2491v-19q0-572 298-885 299-312 843-312 275 0 575 87 300 88 641 266v-572q-328-134-633-201-305-68-589-68-816 0-1276 489-459 490-459 1349 0 837 450 1337t1200 500q669 0 1055-453t386-1237zm-575 169q-12 506-239 770t-652 264q-415 0-684-275t-319-763l1894 4z\"/><path id=\"DejaVuSansMono-6c\" transform=\"scale(.015625)\" d=\"m1997 1269q0-388 142-585 142-196 420-196h672v-488h-728q-515 0-798 331-283 332-283 938v3178h-922v450h1497v-3628z\"/><path id=\"DejaVuSansMono-6f\" transform=\"scale(.015625)\" d=\"m1925 3097q-437 0-662-341-225-340-225-1009 0-666 225-1008t662-342q441 0 666 342t225 1008q0 669-225 1009-225 341-666 341zm0 487q728 0 1114-472 386-471 386-1365 0-897-385-1368-384-470-1115-470-728 0-1113 470-384 471-384 1368 0 894 384 1365 385 472 1113 472z\"/><path id=\"DejaVuSansMono-2c\" transform=\"scale(.015625)\" d=\"m1569 947h787v-647l-615-1197h-482l310 1197v647z\"/><path id=\"DejaVuSansMono-77\" transform=\"scale(.015625)\" d=\"m0 3500h569l609-2828 500 1806h491l506-1806 609 2828h569l-819-3500h-550l-559 1919-556-1919h-550l-819 3500z\"/><path id=\"DejaVuSansMono-72\" transform=\"scale(.015625)\" d=\"m3609 2778q-184 144-375 209-190 66-418 66-538 0-823-338-284-337-284-974v-1741h-578v3500h578v-684q144 372 442 570 299 198 708 198 213 0 397-53 185-53 353-165v-588z\"/></defs><use xlink:href=\"#DejaVuSansMono-68\"/><use x=\"60.205078\" xlink:href=\"#DejaVuSansMono-65\"/><use x=\"120.410156\" xlink:href=\"#DejaVuSansMono-6c\"/><use x=\"180.615234\" xlink:href=\"#DejaVuSansMono-6c\"/><use x=\"240.820312\" xlink:href=\"#DejaVuSansMono-6f\"/><use x=\"301.025391\" xlink:href=\"#DejaVuSansMono-2c\"/><use x=\"361.230469\" xlink:href=\"#DejaVuSansMono-20\"/><use x=\"421.435547\" xlink:href=\"#DejaVuSansMono-77\"/><use x=\"481.640625\" xlink:href=\"#DejaVuSansMono-6f\"/><use x=\"541.845703\" xlink:href=\"#DejaVuSansMono-72\"/><use x=\"602.050781\" xlink:href=\"#DejaVuSansMono-6c\"/><use x=\"662.255859\" xlink:href=\"#DejaVuSansMono-64\"/><use x=\"722.460938\" xlink:href=\"#DejaVuSansMono-2c\"/></g><g transform=\"translate(156.54 52.445) scale(.1 -.1)\"><defs><path id=\"DejaVuSansMono-54\" transform=\"scale(.015625)\" d=\"m147 4666h3559v-532h-1459v-4134h-634v4134h-1466v532z\"/><path id=\"DejaVuSansMono-31\" transform=\"scale(.015625)\" d=\"m844 531h981v3566l-1056-238v575l1050 232h631v-4135h969v-531h-2575v531z\"/><path id=\"DejaVuSansMono-32\" transform=\"scale(.015625)\" d=\"m1166 531h2143v-531h-2834v531q584 616 1021 1088 438 472 604 665 313 382 422 618t109 482q0 391-230 613-229 222-629 222-284 0-597-103-312-103-662-313v638q321 153 632 231t614 78q685 0 1102-364t417-955q0-300-139-600t-451-662q-175-203-508-563-333-359-1014-1075z\"/></defs><use xlink:href=\"#DejaVuSansMono-54\"/><use x=\"60.205078\" xlink:href=\"#DejaVuSansMono-31\"/><use x=\"120.410156\" xlink:href=\"#DejaVuSansMono-2c\"/><use x=\"180.615234\" xlink:href=\"#DejaVuSansMono-20\"/><use x=\"240.820312\" xlink:href=\"#DejaVuSansMono-54\"/><use x=\"301.025391\" xlink:href=\"#DejaVuSansMono-32\"/></g></g><path d=\"m349 52.894h50.061q2 0 2-2v-13.731q0-2-2-2h-50.061q-2 0-2 2v13.731q0 2 2 2z\" fill=\"none\" stroke=\"#999999\" stroke-opacity=\".2\"/><defs><path id=\"8333d333454\" d=\"m0 5c1.326 0 2.5979-0.52683 3.5355-1.4645 0.93763-0.93764 1.4645-2.2095 1.4645-3.5355s-0.52683-2.5979-1.4645-3.5355c-0.93764-0.93763-2.2095-1.4645-3.5355-1.4645s-2.5979 0.52683-3.5355 1.4645c-0.93763 0.93764-1.4645 2.2095-1.4645 3.5355s0.52683 2.5979 1.4645 3.5355c0.93764 0.93763 2.2095 1.4645 3.5355 1.4645z\" stroke=\"#4da2d2\"/></defs><use x=\"361\" y=\"43.313937\" fill=\"#56b4e9\" stroke=\"#4da2d2\" xlink:href=\"#8333d333454\"/><g transform=\"translate(379 46.814) scale(.1 -.1)\" fill=\"#545759\"><use xlink:href=\"#DejaVuSansMono-20\"/><use x=\"60.205078\" xlink:href=\"#DejaVuSansMono-54\"/><use x=\"120.410156\" xlink:href=\"#DejaVuSansMono-31\"/></g><defs><clipPath id=\"c232dcd7d03\"><rect x=\"7.2\" y=\"7.2\" width=\"334.8\" height=\"73.656\"/></clipPath></defs></svg>"
      ],
      "text/plain": [
       "<Figure size 600x600 with 1 Axes>"
      ]
     },
     "metadata": {
      "needs_background": "light"
     },
     "output_type": "display_data"
    }
   ],
   "source": [
    "T3.draw(color=['T1'])"
   ]
  },
  {
   "cell_type": "markdown",
   "id": "f1b77873-09b1-4fea-85e8-0073bef23adb",
   "metadata": {
    "raw_mimetype": "text/restructuredtext"
   },
   "source": [
    "The `@` operator eagerly contracts two tensors according to this\n",
    "summation (via [`qtn.tensor_contract`](quimb.tensor.tensor_core.tensor_contract)),\n",
    "thereby removing the `'ac'` index. As you can see, contracting\n",
    "two tensors also merges their tags.\n",
    "\n",
    ":::{hint}\n",
    "In `quimb`, **the names of the indices entirely define the geometry\n",
    "of the tensor network**. If you want two tensor dimensions to be contracted\n",
    "just name them the same thing. Alternatively use\n",
    "[`qtn.connect`](quimb.tensor.tensor_core.connect) to name them for you. The actual\n",
    "name is not so important, in as much as its unique and shared, you can\n",
    "generate new names automatically using\n",
    "[`qtn.rand_uuid`](quimb.tensor.tensor_core.rand_uuid).\n",
    "\n",
    "The fact that the specific name of internal indices has no effect on the\n",
    "overall oject represented is made use of by\n",
    "[`TensorNetwork`](quimb.tensor.tensor_core.TensorNetwork) -\n",
    "see - {ref}`indexmangling`.\n",
    ":::\n",
    "\n",
    "## Copying & Modifying Tensors\n",
    "\n",
    "You can copy a tensor with [`Tensor.copy`](quimb.tensor.tensor_core.Tensor.copy), (note\n",
    "by default this **doesn't** copy the `.data` - see below), and update it with\n",
    "[`Tensor.modify`](quimb.tensor.tensor_core.Tensor.modify). Routing all changes to tensors\n",
    "through [`Tensor.modify`](quimb.tensor.tensor_core.Tensor.modify) allows various checks, and\n",
    "for tensors to automatically inform any tensor networks they belong to, for example.\n",
    "\n",
    "An example of a typical tensor method that demonstrates the above is the following:"
   ]
  },
  {
   "cell_type": "code",
   "execution_count": 12,
   "id": "420a1ff2-860f-451c-886a-d714823fad41",
   "metadata": {},
   "outputs": [
    {
     "data": {
      "text/html": [
       "<samp style='font-size: 12px;'><details><summary><b style=\"color: #e55471;\">Tensor</b>(shape=(<b style=\"color: #76a3d6;\">15</b>), inds=[<b style=\"color: #5d99e5;\">ac</b>], tags={<b style=\"color: #aa6dda;\">hello</b>, <b style=\"color: #79e441;\">world</b>, <b style=\"color: #4dc1de;\">T1</b>}),</summary>backend=<b style=\"color: #d37dbf;\">cupy</b>, dtype=<b style=\"color: #75d2c6;\">float64</b>, data=array([2.76982681, 3.32918276, 1.58599319, 1.54534265, 2.17314261,\n",
       "       1.87066208, 2.08206752, 1.71811924, 2.5239826 , 2.49873919,\n",
       "       1.99217906, 2.15870491, 2.7467473 , 2.2422084 , 2.18684652])</details></samp>"
      ],
      "text/plain": [
       "Tensor(shape=(15,), inds=('ac',), tags=oset(['hello', 'world', 'T1']))"
      ]
     },
     "execution_count": 12,
     "metadata": {},
     "output_type": "execute_result"
    }
   ],
   "source": [
    "def sum_reduce(self, ind, inplace=False):\n",
    "    \"\"\"Sum the array axis corresponding to ``ind``.\n",
    "    \"\"\"\n",
    "    # easily enables copy vs inplace version\n",
    "    t = self if inplace else self.copy()\n",
    "\n",
    "    # get the axis `ind` corresponds to\n",
    "    axis = t.inds.index(ind)\n",
    "\n",
    "    # use autoray.do to be backend agnostic\n",
    "    new_data = do('sum', t.data, axis=axis)\n",
    "    new_inds = t.inds[:axis] + t.inds[axis + 1:]\n",
    "\n",
    "    # update tensor using modify\n",
    "    t.modify(data=new_data, inds=new_inds)\n",
    "\n",
    "    # return `t` even if inplace to allow method chaining\n",
    "    return t\n",
    "\n",
    "sum_reduce(T1, 'b')"
   ]
  },
  {
   "cell_type": "markdown",
   "id": "60d9dc04-4014-479d-aa1c-52d3e9f1a122",
   "metadata": {
    "raw_mimetype": "text/restructuredtext"
   },
   "source": [
    "A convention that `quimb` adopts is for many common methods to have inplace\n",
    "versions specifically named with a trailing underscore, like:\n",
    "\n",
    "- [`Tensor.sum_reduce`](quimb.tensor.tensor_core.Tensor.sum_reduce)\n",
    "- [`Tensor.sum_reduce_`](quimb.tensor.tensor_core.Tensor.sum_reduce_)"
   ]
  },
  {
   "cell_type": "markdown",
   "id": "378ee4a0-06af-4429-873f-ee1fbdd2e3eb",
   "metadata": {
    "raw_mimetype": "text/restructuredtext"
   },
   "source": [
    ":::{warning}\n",
    "All array functions in `quimb` as assumed to be **pure**, i.e. return\n",
    "a new array and not modify the original.\n",
    "This allows tensor copies by default *to not copy their* `.data`, which saves\n",
    "memory and is more efficient with backends that e.g. construct an explicit\n",
    "computational graph. You should only inplace modify the actual arrays if\n",
    "you know what you are doing, or after calling `.copy(deep=True)` first.\n",
    ":::"
   ]
  },
  {
   "cell_type": "markdown",
   "id": "9584e4e4-39d7-4a49-8f11-4cc845acf7b2",
   "metadata": {
    "raw_mimetype": "text/restructuredtext"
   },
   "source": [
    "## `TensorNetwork`\n",
    "\n",
    "As described above, there is already an implicit tensor network\n",
    "geometry introduced by simply matching up tensor index names -\n",
    "and indeed you could just keep track of the tensors yourself.\n",
    "\n",
    "However, its generally useful to collect tensors into a\n",
    "{class}`~quimb.tensor.tensor_core.TensorNetwork` object,\n",
    "which enables $\\mathscr{O}(1)$ access to any tensors based on\n",
    "their `inds` or `tags`, as well as encapsulating all sorts of\n",
    "functionality the depends on the network relations of the tensors."
   ]
  },
  {
   "cell_type": "code",
   "execution_count": 13,
   "id": "db061f33-9bcc-4abf-83c2-d26c54e6564f",
   "metadata": {},
   "outputs": [
    {
     "data": {
      "text/html": [
       "<samp style='font-size: 12px;'><details><summary><b style=\"color: #3645cd;\">TensorNetwork</b>(tensors=3, indices=6)</summary><samp style='font-size: 12px;'><details><summary><b style=\"color: #e55471;\">Tensor</b>(shape=(<b style=\"color: #828fdd;\">2</b>, <b style=\"color: #8a5bcf;\">3</b>, <b style=\"color: #8a5bcf;\">3</b>), inds=[<b style=\"color: #7aacd4;\">a</b>, <b style=\"color: #d3826d;\">x</b>, <b style=\"color: #5483e2;\">y</b>], tags={<b style=\"color: #d27b9c;\">A</b>}),</summary>backend=<b style=\"color: #7fdd73;\">numpy</b>, dtype=<b style=\"color: #75d2c6;\">float64</b>, data=array([[[ 1.74058538, -0.09727624, -1.51295378],\n",
       "        [ 2.89531464, -0.57855413,  1.20852059],\n",
       "        [-0.76578221,  0.90925054,  0.4563162 ]],\n",
       "\n",
       "       [[ 1.22858738, -0.41212638, -0.83124623],\n",
       "        [ 0.81559135, -0.81969156, -1.11280435],\n",
       "        [-1.715578  ,  0.46736194,  1.31020563]]])</details></samp><samp style='font-size: 12px;'><details><summary><b style=\"color: #e55471;\">Tensor</b>(shape=(<b style=\"color: #828fdd;\">2</b>, <b style=\"color: #8a5bcf;\">3</b>, <b style=\"color: #8a5bcf;\">3</b>), inds=[<b style=\"color: #b9e292;\">b</b>, <b style=\"color: #5483e2;\">y</b>, <b style=\"color: #c4d489;\">z</b>], tags={<b style=\"color: #9e54e0;\">B</b>}),</summary>backend=<b style=\"color: #7fdd73;\">numpy</b>, dtype=<b style=\"color: #75d2c6;\">float64</b>, data=array([[[-0.77826738, -1.24821725, -0.62410868],\n",
       "        [-1.14399318, -0.16202123, -0.15981997],\n",
       "        [-1.31423348, -0.89974453, -0.46182192]],\n",
       "\n",
       "       [[-0.71201596,  1.62508318, -1.30336751],\n",
       "        [ 0.17445857,  1.12671226, -0.58820474],\n",
       "        [-1.34346682,  1.01526495, -0.05090115]]])</details></samp><samp style='font-size: 12px;'><details><summary><b style=\"color: #e55471;\">Tensor</b>(shape=(<b style=\"color: #828fdd;\">2</b>, <b style=\"color: #8a5bcf;\">3</b>, <b style=\"color: #8a5bcf;\">3</b>), inds=[<b style=\"color: #5db6d5;\">c</b>, <b style=\"color: #c4d489;\">z</b>, <b style=\"color: #d3826d;\">x</b>], tags={<b style=\"color: #d04867;\">C</b>}),</summary>backend=<b style=\"color: #7fdd73;\">numpy</b>, dtype=<b style=\"color: #75d2c6;\">float64</b>, data=array([[[ 0.14340117, -0.99054769,  0.30215627],\n",
       "        [ 0.01621206,  1.88997099, -0.47993354],\n",
       "        [-1.2574597 , -1.6274538 ,  0.11786352]],\n",
       "\n",
       "       [[-0.72554233, -0.39697657, -0.70370705],\n",
       "        [-0.70023463,  0.6874081 ,  0.61294832],\n",
       "        [ 0.92082505,  0.36431587,  0.3457875 ]]])</details></samp></details></samp>"
      ],
      "text/plain": [
       "TensorNetwork(tensors=3, indices=6)"
      ]
     },
     "execution_count": 13,
     "metadata": {},
     "output_type": "execute_result"
    }
   ],
   "source": [
    "ta = qtn.rand_tensor((2, 3, 3), ['a', 'x', 'y'], tags='A')\n",
    "tb = qtn.rand_tensor((2, 3, 3), ['b', 'y', 'z'], tags='B')\n",
    "tc = qtn.rand_tensor((2, 3, 3), ['c', 'z', 'x'], tags='C')\n",
    "\n",
    "tn = qtn.TensorNetwork([ta, tb, tc])\n",
    "tn"
   ]
  },
  {
   "cell_type": "code",
   "execution_count": 14,
   "id": "43ae33cd-40b9-41aa-8349-4d8b9d49520d",
   "metadata": {},
   "outputs": [
    {
     "data": {
      "image/svg+xml": [
       "<?xml version=\"1.0\" encoding=\"UTF-8\"?><!DOCTYPE svg  PUBLIC '-//W3C//DTD SVG 1.1//EN'  'http://www.w3.org/Graphics/SVG/1.1/DTD/svg11.dtd'><svg width=\"402.24pt\" height=\"306.8pt\" version=\"1.1\" viewBox=\"0 0 402.24 306.8\" xmlns=\"http://www.w3.org/2000/svg\" xmlns:xlink=\"http://www.w3.org/1999/xlink\"><defs><style type=\"text/css\">*{stroke-linejoin: round; stroke-linecap: butt}</style></defs><path d=\"m0 306.8h402.24v-306.8h-402.24v306.8z\" opacity=\"0\"/><path d=\"m175.91 132.71 0.98608-122.1\" clip-path=\"url(#121844740ff)\" fill=\"none\" stroke=\"#737880\" stroke-linecap=\"round\" stroke-opacity=\".5\"/><path d=\"m175.91 132.71 57.559 101.58\" clip-path=\"url(#121844740ff)\" fill=\"none\" stroke=\"#737880\" stroke-linecap=\"round\" stroke-opacity=\".5\" stroke-width=\"1.585\"/><path d=\"m175.91 132.71-59.193 100.64\" clip-path=\"url(#121844740ff)\" fill=\"none\" stroke=\"#737880\" stroke-linecap=\"round\" stroke-opacity=\".5\" stroke-width=\"1.585\"/><path d=\"m116.72 233.34-106.23 60.196\" clip-path=\"url(#121844740ff)\" fill=\"none\" stroke=\"#737880\" stroke-linecap=\"round\" stroke-opacity=\".5\"/><path d=\"m116.72 233.34 116.75 0.94288\" clip-path=\"url(#121844740ff)\" fill=\"none\" stroke=\"#737880\" stroke-linecap=\"round\" stroke-opacity=\".5\" stroke-width=\"1.585\"/><path d=\"m233.47 234.29 105.25 61.904\" clip-path=\"url(#121844740ff)\" fill=\"none\" stroke=\"#737880\" stroke-linecap=\"round\" stroke-opacity=\".5\"/><path d=\"m176.9 10.606z\" clip-path=\"url(#121844740ff)\" fill=\"#ffffff\"/><path d=\"m10.482 293.54z\" clip-path=\"url(#121844740ff)\" fill=\"#ffffff\"/><path d=\"m338.72 296.19z\" clip-path=\"url(#121844740ff)\" fill=\"#ffffff\"/><path d=\"m175.91 151.38c4.9526 0 9.7031-1.9677 13.205-5.4697 3.502-3.502 5.4697-8.2525 5.4697-13.205s-1.9677-9.7031-5.4697-13.205c-3.502-3.502-8.2525-5.4697-13.205-5.4697s-9.7031 1.9677-13.205 5.4697c-3.502 3.502-5.4697 8.2525-5.4697 13.205s1.9677 9.7031 5.4697 13.205 8.2525 5.4697 13.205 5.4697z\" clip-path=\"url(#121844740ff)\" fill=\"#56b4e9\" stroke=\"#4da2d2\" stroke-width=\"2.0485\"/><path d=\"m116.72 252.02c4.9526 0 9.7031-1.9677 13.205-5.4697s5.4697-8.2525 5.4697-13.205-1.9677-9.7031-5.4697-13.205-8.2525-5.4697-13.205-5.4697-9.7031 1.9677-13.205 5.4697-5.4697 8.2525-5.4697 13.205 1.9677 9.7031 5.4697 13.205 8.2525 5.4697 13.205 5.4697z\" clip-path=\"url(#121844740ff)\" fill=\"#e69f00\" stroke=\"#cf8f00\" stroke-width=\"2.0485\"/><path d=\"m233.47 252.96c4.9526 0 9.7031-1.9677 13.205-5.4697s5.4697-8.2525 5.4697-13.205-1.9677-9.7031-5.4697-13.205-8.2525-5.4697-13.205-5.4697c-4.9526 0-9.7031 1.9677-13.205 5.4697s-5.4697 8.2525-5.4697 13.205 1.9677 9.7031 5.4697 13.205 8.2525 5.4697 13.205 5.4697z\" clip-path=\"url(#121844740ff)\" fill=\"#009e73\" stroke=\"#008e68\" stroke-width=\"2.0485\"/><g transform=\"translate(174.79 12.556) scale(.07 -.07)\" fill=\"#545759\"><defs><path id=\"DejaVuSansMono-61\" transform=\"scale(.015625)\" d=\"m2194 1759h-191q-503 0-758-177-254-176-254-526 0-315 190-490 191-175 528-175 475 0 747 329 272 330 275 911v128h-537zm1115 238v-1997h-578v519q-184-313-464-462-279-148-679-148-535 0-854 302-318 302-318 808 0 584 392 887t1151 303h772v91q-3 419-213 608-209 189-668 189-294 0-594-85-300-84-584-246v575q319 122 611 182 292 61 567 61 434 0 742-128t499-384q118-156 168-386t50-689z\"/></defs><use xlink:href=\"#DejaVuSansMono-61\"/></g><g transform=\"translate(8.3752 295.49) scale(.07 -.07)\" fill=\"#545759\"><defs><path id=\"DejaVuSansMono-62\" transform=\"scale(.015625)\" d=\"m2869 1747q0 669-213 1009-212 341-628 341-419 0-635-342-215-342-215-1008 0-663 215-1007 216-343 635-343 416 0 628 340 213 341 213 1010zm-1691 1306q138 256 380 393 242 138 561 138 631 0 993-486 363-485 363-1339 0-865-364-1358-364-492-998-492-313 0-552 136t-383 396v-441h-575v4863h575v-1810z\"/></defs><use xlink:href=\"#DejaVuSansMono-62\"/></g><g transform=\"translate(336.61 298.14) scale(.07 -.07)\" fill=\"#545759\"><defs><path id=\"DejaVuSansMono-63\" transform=\"scale(.015625)\" d=\"m3316 178q-232-134-477-201-245-68-501-68-813 0-1271 487-458 488-458 1351 0 862 458 1349 458 488 1271 488 253 0 493-66 241-65 485-202v-603q-228 203-458 293-230 91-520 91-541 0-832-350-290-350-290-1e3 0-647 292-999 292-351 830-351 300 0 537 92 238 92 441 286v-597z\"/></defs><use xlink:href=\"#DejaVuSansMono-63\"/></g><g transform=\"translate(172.9 135.49) scale(.1 -.1)\" fill=\"#545759\"><defs><path id=\"DejaVuSansMono-41\" transform=\"scale(.015625)\" d=\"m1925 4109-666-2387h1332l-666 2387zm-381 557h765l1429-4666h-654l-343 1216h-1635l-337-1216h-653l1428 4666z\"/></defs><use xlink:href=\"#DejaVuSansMono-41\"/></g><g transform=\"translate(113.71 236.13) scale(.1 -.1)\" fill=\"#545759\"><defs><path id=\"DejaVuSansMono-42\" transform=\"scale(.015625)\" d=\"m1153 2228v-1709h747q550 0 784 192 235 192 235 633 0 456-247 670t-772 214h-747zm0 1919v-1406h735q456 0 660 175 205 175 205 565 0 353-202 509-201 157-663 157h-735zm-634 519h1381q716 0 1103-310 388-309 388-875 0-428-205-675t-614-309q459-69 720-393 261-323 261-823 0-634-416-958-415-323-1237-323h-1381v4666z\"/></defs><use xlink:href=\"#DejaVuSansMono-42\"/></g><g transform=\"translate(230.46 237.07) scale(.1 -.1)\" fill=\"#545759\"><defs><path id=\"DejaVuSansMono-43\" transform=\"scale(.015625)\" d=\"m3353 166q-240-128-494-192-253-65-537-65-897 0-1393 634-495 635-495 1785 0 1144 498 1783 499 639 1390 639 284 0 537-64 254-64 494-192v-647q-231 191-497 291-265 100-534 100-616 0-922-475t-306-1435q0-956 306-1431t922-475q275 0 539 100t492 291v-647z\"/></defs><use xlink:href=\"#DejaVuSansMono-43\"/></g><path d=\"m349 177h44.041q2 0 2-2v-43.194q0-2-2-2h-44.041q-2 0-2 2v43.194q0 2 2 2z\" fill=\"none\" stroke=\"#999999\" stroke-opacity=\".2\"/><defs><path id=\"5470f1793d6\" d=\"m0 5c1.326 0 2.5979-0.52683 3.5355-1.4645 0.93763-0.93764 1.4645-2.2095 1.4645-3.5355s-0.52683-2.5979-1.4645-3.5355c-0.93764-0.93763-2.2095-1.4645-3.5355-1.4645s-2.5979 0.52683-3.5355 1.4645c-0.93763 0.93764-1.4645 2.2095-1.4645 3.5355s0.52683 2.5979 1.4645 3.5355c0.93764 0.93763 2.2095 1.4645 3.5355 1.4645z\" stroke=\"#4da2d2\"/></defs><use x=\"361\" y=\"137.953379\" fill=\"#56b4e9\" stroke=\"#4da2d2\" xlink:href=\"#5470f1793d6\"/><g transform=\"translate(379 141.45) scale(.1 -.1)\" fill=\"#545759\"><defs></defs><use xlink:href=\"#DejaVuSansMono-20\"/><use x=\"60.205078\" xlink:href=\"#DejaVuSansMono-41\"/></g><defs><path id=\"c95c3248a01\" d=\"m0 5c1.326 0 2.5979-0.52683 3.5355-1.4645 0.93763-0.93764 1.4645-2.2095 1.4645-3.5355s-0.52683-2.5979-1.4645-3.5355c-0.93764-0.93763-2.2095-1.4645-3.5355-1.4645s-2.5979 0.52683-3.5355 1.4645c-0.93763 0.93764-1.4645 2.2095-1.4645 3.5355s0.52683 2.5979 1.4645 3.5355c0.93764 0.93763 2.2095 1.4645 3.5355 1.4645z\" stroke=\"#cf8f00\"/></defs><use x=\"361\" y=\"152.684629\" fill=\"#e69f00\" stroke=\"#cf8f00\" xlink:href=\"#c95c3248a01\"/><g transform=\"translate(379 156.18) scale(.1 -.1)\" fill=\"#545759\"><use xlink:href=\"#DejaVuSansMono-20\"/><use x=\"60.205078\" xlink:href=\"#DejaVuSansMono-42\"/></g><defs><path id=\"86234a27857\" d=\"m0 5c1.326 0 2.5979-0.52683 3.5355-1.4645 0.93763-0.93764 1.4645-2.2095 1.4645-3.5355s-0.52683-2.5979-1.4645-3.5355c-0.93764-0.93763-2.2095-1.4645-3.5355-1.4645s-2.5979 0.52683-3.5355 1.4645c-0.93763 0.93764-1.4645 2.2095-1.4645 3.5355s0.52683 2.5979 1.4645 3.5355c0.93764 0.93763 2.2095 1.4645 3.5355 1.4645z\" stroke=\"#008e68\"/></defs><use x=\"361\" y=\"167.415879\" fill=\"#009e73\" stroke=\"#008e68\" xlink:href=\"#86234a27857\"/><g transform=\"translate(379 170.92) scale(.1 -.1)\" fill=\"#545759\"><use xlink:href=\"#DejaVuSansMono-20\"/><use x=\"60.205078\" xlink:href=\"#DejaVuSansMono-43\"/></g><defs><clipPath id=\"121844740ff\"><rect x=\"7.2\" y=\"7.7501\" width=\"334.8\" height=\"291.3\"/></clipPath></defs></svg>"
      ],
      "text/plain": [
       "<Figure size 600x600 with 1 Axes>"
      ]
     },
     "metadata": {
      "needs_background": "light"
     },
     "output_type": "display_data"
    }
   ],
   "source": [
    "tn.draw(color=['A', 'B', 'C'])"
   ]
  },
  {
   "cell_type": "markdown",
   "id": "f05d3b00-da33-4b54-a089-812aae2c6baf",
   "metadata": {
    "raw_mimetype": "text/restructuredtext"
   },
   "source": [
    ":::{note}\n",
    "By default TNs take copies of the input tensors,\n",
    "(but again, not the actual data array).\n",
    "This can be turned off and it is\n",
    "possible e.g. to create multiple TNs that view\n",
    "the same tensors - see {ref}`virtualtns`.\n",
    ":::\n",
    "\n",
    "Tensor networks also have three key attributes...\n",
    "\n",
    "### `TensorNetwork.tensor_map`\n",
    "\n",
    "The key storage of a {class}`~quimb.tensor.tensor_core.TensorNetwork`\n",
    "is the `tensor_map` attribute. This is a mapping of 'tids' - unique\n",
    "integers reprensenting nodes in the network - to the actual tensor at\n",
    "that node, which need not be unique."
   ]
  },
  {
   "cell_type": "code",
   "execution_count": 15,
   "id": "26411458-1d1b-4a49-85c9-c12c75d95030",
   "metadata": {},
   "outputs": [
    {
     "data": {
      "text/plain": [
       "{0: Tensor(shape=(2, 3, 3), inds=('a', 'x', 'y'), tags=oset(['A'])),\n",
       " 1: Tensor(shape=(2, 3, 3), inds=('b', 'y', 'z'), tags=oset(['B'])),\n",
       " 2: Tensor(shape=(2, 3, 3), inds=('c', 'z', 'x'), tags=oset(['C']))}"
      ]
     },
     "execution_count": 15,
     "metadata": {},
     "output_type": "execute_result"
    }
   ],
   "source": [
    "tn.tensor_map"
   ]
  },
  {
   "cell_type": "markdown",
   "id": "19dfe390-2c5e-4dbe-891b-f56ab8fca264",
   "metadata": {
    "raw_mimetype": "text/restructuredtext"
   },
   "source": [
    "This means that the same tensor can be in the same or different tensor networks multiple times.\n",
    "\n",
    ":::{hint}\n",
    "`'tids'` are essentially vertex labels in the (hyper) graph of the TN.\n",
    ":::\n",
    "\n",
    "### `TensorNetwork.ind_map`\n",
    "\n",
    "This is a mapping of every index in the tensor network to the ordered\n",
    "set of 'tids' of the tensors which have that index."
   ]
  },
  {
   "cell_type": "code",
   "execution_count": 16,
   "id": "aaf6c0bb-5ec7-434e-b6c6-d2ac32da2183",
   "metadata": {},
   "outputs": [
    {
     "data": {
      "text/plain": [
       "{'a': oset([0]),\n",
       " 'x': oset([0, 2]),\n",
       " 'y': oset([0, 1]),\n",
       " 'b': oset([1]),\n",
       " 'z': oset([1, 2]),\n",
       " 'c': oset([2])}"
      ]
     },
     "execution_count": 16,
     "metadata": {},
     "output_type": "execute_result"
    }
   ],
   "source": [
    "tn.ind_map"
   ]
  },
  {
   "cell_type": "markdown",
   "id": "ab797008-6391-4c18-950d-b3c0c2f79cb9",
   "metadata": {},
   "source": [
    "For example if we wanted all tensors with the ``'z'`` index, we could call:"
   ]
  },
  {
   "cell_type": "code",
   "execution_count": 17,
   "id": "bfa98b91-7797-4e0d-b90e-19873ce5f3fb",
   "metadata": {},
   "outputs": [
    {
     "data": {
      "text/plain": [
       "[Tensor(shape=(2, 3, 3), inds=('b', 'y', 'z'), tags=oset(['B'])),\n",
       " Tensor(shape=(2, 3, 3), inds=('c', 'z', 'x'), tags=oset(['C']))]"
      ]
     },
     "execution_count": 17,
     "metadata": {},
     "output_type": "execute_result"
    }
   ],
   "source": [
    "[tn.tensor_map[tid] for tid in tn.ind_map['z']]"
   ]
  },
  {
   "cell_type": "markdown",
   "id": "01851ebc-adfd-4081-b4bc-deeae0668b54",
   "metadata": {
    "raw_mimetype": "text/restructuredtext"
   },
   "source": [
    ":::{hint}\n",
    "`ind_map[ix]` is essentially the set of (hyper) graph vertices the\n",
    "(hyper) edge `ix` is incident to.\n",
    ":::\n",
    "\n",
    "### `TensorNetwork.tag_map`\n",
    "\n",
    "Similarly, this is a mapping of every tag in the tensor network to the ordered\n",
    "set of 'tids' of the tensors which have that tag."
   ]
  },
  {
   "cell_type": "code",
   "execution_count": 18,
   "id": "78a80c9a-80c8-479d-a486-6fc3de2751ec",
   "metadata": {},
   "outputs": [
    {
     "data": {
      "text/plain": [
       "{'A': oset([0]), 'B': oset([1]), 'C': oset([2])}"
      ]
     },
     "execution_count": 18,
     "metadata": {},
     "output_type": "execute_result"
    }
   ],
   "source": [
    "tn.tag_map"
   ]
  },
  {
   "cell_type": "markdown",
   "id": "2c19e6c4-c436-4a19-9fa8-f7ebd1063bb2",
   "metadata": {},
   "source": [
    "If we wanted all tensors tagged with ``'B'`` we could call:"
   ]
  },
  {
   "cell_type": "code",
   "execution_count": 19,
   "id": "4c7f0ce6-24a6-4dce-be65-7db966b0ac50",
   "metadata": {},
   "outputs": [
    {
     "data": {
      "text/plain": [
       "[Tensor(shape=(2, 3, 3), inds=('b', 'y', 'z'), tags=oset(['B']))]"
      ]
     },
     "execution_count": 19,
     "metadata": {},
     "output_type": "execute_result"
    }
   ],
   "source": [
    "[tn.tensor_map[tid] for tid in tn.tag_map['B']]"
   ]
  },
  {
   "cell_type": "markdown",
   "id": "2d1f240c-b92e-4cdc-b117-4bd95f3bc9e4",
   "metadata": {
    "raw_mimetype": "text/restructuredtext"
   },
   "source": [
    "## Selecting Tensors Based on Tags - the `which` kwarg\n",
    "\n",
    "`tags` are the main high level method for labelling and\n",
    "accessing tensors. Many functions which take a `tags` and\n",
    "`which` arg, e.g. [`TensorNetwork.select`](quimb.tensor.tensor_core.TensorNetwork.select)\n",
    "internally call\n",
    "{meth}`~quimb.tensor.tensor_core.TensorNetwork._get_tids_from_tags`.\n",
    "When supplied to this, the `which` kwarg takes four options:\n",
    "\n",
    "- `'all'` return tids for tensors which match **all** the tags\n",
    "- `'!all'` return tids for tensors which *don't* match **all** the tags\n",
    "- `'any'` return tids for tensors which match **any** of the tags\n",
    "- `'!any'` return tids for tensors which *don't* match **any** of the tags"
   ]
  },
  {
   "cell_type": "code",
   "execution_count": 20,
   "id": "2ce0e951-ba70-4c37-9774-1975207d1ecd",
   "metadata": {},
   "outputs": [
    {
     "data": {
      "text/plain": [
       "oset([0, 1])"
      ]
     },
     "execution_count": 20,
     "metadata": {},
     "output_type": "execute_result"
    }
   ],
   "source": [
    "tn._get_tids_from_tags(['A', 'B'], which='any')"
   ]
  },
  {
   "cell_type": "markdown",
   "id": "ee09b293-7ca0-4d24-9e09-6c6ccd873914",
   "metadata": {
    "raw_mimetype": "text/restructuredtext"
   },
   "source": [
    "## Copying & Modifying Tensor Networks\n",
    "\n",
    "Tensor networks also have a\n",
    "[`TensorNetwork.copy`](quimb.tensor.tensor_core.TensorNetwork.copy) method which\n",
    "is used heavily. As with creation, by default this copies both\n",
    "the TN and the tensors it contains (but again, not their data).\n",
    "\n",
    "In terms of modifying tensor networks, `quimb` takes the general\n",
    "approach that you **directly modify tensors in a TN,\n",
    "which then automatically tell the TN, and possibly other\n",
    "TNs, about any relevant changes**."
   ]
  },
  {
   "cell_type": "code",
   "execution_count": 21,
   "id": "c525c027-ffc7-465c-bad7-3cbdad47be43",
   "metadata": {},
   "outputs": [
    {
     "data": {
      "text/plain": [
       "{'x': oset([0, 2]),\n",
       " 'y': oset([0, 1]),\n",
       " 'b': oset([1, 0]),\n",
       " 'z': oset([1, 2]),\n",
       " 'c': oset([2])}"
      ]
     },
     "execution_count": 21,
     "metadata": {},
     "output_type": "execute_result"
    }
   ],
   "source": [
    "# get the tensor identified by tag 'A'\n",
    "t = tn['A']\n",
    "\n",
    "# inplace rename an index\n",
    "t.reindex_({'a': 'b'})\n",
    "\n",
    "# changes are automatically reflected in ``tn``\n",
    "tn.ind_map"
   ]
  },
  {
   "cell_type": "code",
   "execution_count": 22,
   "id": "7bb7d4d8-ba65-4009-a104-a66bba63e3df",
   "metadata": {},
   "outputs": [
    {
     "data": {
      "image/svg+xml": [
       "<?xml version=\"1.0\" encoding=\"UTF-8\"?><!DOCTYPE svg  PUBLIC '-//W3C//DTD SVG 1.1//EN'  'http://www.w3.org/Graphics/SVG/1.1/DTD/svg11.dtd'><svg width=\"402.24pt\" height=\"174.79pt\" version=\"1.1\" viewBox=\"0 0 402.24 174.79\" xmlns=\"http://www.w3.org/2000/svg\" xmlns:xlink=\"http://www.w3.org/1999/xlink\"><defs><style type=\"text/css\">*{stroke-linejoin: round; stroke-linecap: butt}</style></defs><path d=\"m0 174.79h402.24v-174.79h-402.24v174.79z\" opacity=\"0\"/><path d=\"m322.54 149.84-147.7-36.093\" clip-path=\"url(#aaf02f77ad2)\" fill=\"none\" stroke=\"#737880\" stroke-linecap=\"round\" stroke-opacity=\".5\" stroke-width=\"1.585\"/><path d=\"m322.54 149.84q-15.421-20.992-18.558-28.795c-2.9124-7.2447-4.5517-23.417-6.069-31.222-1.5172-7.8055-6.0554-23.414-6.069-31.222q-0.014574-8.4096 6.4199-33.65\" clip-path=\"url(#aaf02f77ad2)\" fill=\"none\" stroke=\"#737880\" stroke-linecap=\"round\" stroke-opacity=\".5\" stroke-width=\"1.585\"/><path d=\"m322.54 149.84q6.4345-25.24 6.4199-33.65c-0.013532-7.8081-4.5517-23.417-6.069-31.222-1.5172-7.8055-3.1565-23.977-6.069-31.222q-3.1368-7.8027-18.558-28.795\" clip-path=\"url(#aaf02f77ad2)\" fill=\"none\" stroke=\"#737880\" stroke-linecap=\"round\" stroke-opacity=\".5\"/><path d=\"m298.26 24.953-123.43 88.795\" clip-path=\"url(#aaf02f77ad2)\" fill=\"none\" stroke=\"#737880\" stroke-linecap=\"round\" stroke-opacity=\".5\" stroke-width=\"1.585\"/><path d=\"m174.83 113.75-164.35 31.947\" clip-path=\"url(#aaf02f77ad2)\" fill=\"none\" stroke=\"#737880\" stroke-linecap=\"round\" stroke-opacity=\".5\"/><path d=\"m10.482 145.69z\" clip-path=\"url(#aaf02f77ad2)\" fill=\"#ffffff\"/><path d=\"m322.54 164.55c3.9009 0 7.6426-1.5498 10.401-4.3082s4.3082-6.5 4.3082-10.401c0-3.9009-1.5498-7.6426-4.3082-10.401-2.7584-2.7584-6.5-4.3082-10.401-4.3082-3.9009 0-7.6426 1.5498-10.401 4.3082-2.7584 2.7584-4.3082 6.5-4.3082 10.401 0 3.9009 1.5498 7.6426 4.3082 10.401s6.5 4.3082 10.401 4.3082z\" clip-path=\"url(#aaf02f77ad2)\" fill=\"#56b4e9\" stroke=\"#4da2d2\" stroke-width=\"1.8618\"/><path d=\"m298.26 39.662c3.9009 0 7.6426-1.5498 10.401-4.3082s4.3082-6.5 4.3082-10.401-1.5498-7.6426-4.3082-10.401-6.5-4.3082-10.401-4.3082-7.6426 1.5498-10.401 4.3082-4.3082 6.5-4.3082 10.401 1.5498 7.6426 4.3082 10.401 6.5 4.3082 10.401 4.3082z\" clip-path=\"url(#aaf02f77ad2)\" fill=\"#e69f00\" stroke=\"#cf8f00\" stroke-width=\"1.8618\"/><path d=\"m174.83 128.46c3.9009 0 7.6426-1.5498 10.401-4.3082s4.3082-6.5 4.3082-10.401c0-3.9009-1.5498-7.6426-4.3082-10.401s-6.5-4.3082-10.401-4.3082c-3.9009 0-7.6426 1.5498-10.401 4.3082s-4.3082 6.5-4.3082 10.401c0 3.9009 1.5498 7.6426 4.3082 10.401s6.5 4.3082 10.401 4.3082z\" clip-path=\"url(#aaf02f77ad2)\" fill=\"#009e73\" stroke=\"#008e68\" stroke-width=\"1.8618\"/><g transform=\"translate(8.3752 147.64) scale(.07 -.07)\" fill=\"#545759\"><defs><path id=\"DejaVuSansMono-63\" transform=\"scale(.015625)\" d=\"m3316 178q-232-134-477-201-245-68-501-68-813 0-1271 487-458 488-458 1351 0 862 458 1349 458 488 1271 488 253 0 493-66 241-65 485-202v-603q-228 203-458 293-230 91-520 91-541 0-832-350-290-350-290-1e3 0-647 292-999 292-351 830-351 300 0 537 92 238 92 441 286v-597z\"/></defs><use xlink:href=\"#DejaVuSansMono-63\"/></g><g transform=\"translate(319.53 152.63) scale(.1 -.1)\" fill=\"#545759\"><defs><path id=\"DejaVuSansMono-41\" transform=\"scale(.015625)\" d=\"m1925 4109-666-2387h1332l-666 2387zm-381 557h765l1429-4666h-654l-343 1216h-1635l-337-1216h-653l1428 4666z\"/></defs><use xlink:href=\"#DejaVuSansMono-41\"/></g><g transform=\"translate(295.25 27.738) scale(.1 -.1)\" fill=\"#545759\"><defs><path id=\"DejaVuSansMono-42\" transform=\"scale(.015625)\" d=\"m1153 2228v-1709h747q550 0 784 192 235 192 235 633 0 456-247 670t-772 214h-747zm0 1919v-1406h735q456 0 660 175 205 175 205 565 0 353-202 509-201 157-663 157h-735zm-634 519h1381q716 0 1103-310 388-309 388-875 0-428-205-675t-614-309q459-69 720-393 261-323 261-823 0-634-416-958-415-323-1237-323h-1381v4666z\"/></defs><use xlink:href=\"#DejaVuSansMono-42\"/></g><g transform=\"translate(171.82 116.53) scale(.1 -.1)\" fill=\"#545759\"><defs><path id=\"DejaVuSansMono-43\" transform=\"scale(.015625)\" d=\"m3353 166q-240-128-494-192-253-65-537-65-897 0-1393 634-495 635-495 1785 0 1144 498 1783 499 639 1390 639 284 0 537-64 254-64 494-192v-647q-231 191-497 291-265 100-534 100-616 0-922-475t-306-1435q0-956 306-1431t922-475q275 0 539 100t492 291v-647z\"/></defs><use xlink:href=\"#DejaVuSansMono-43\"/></g><path d=\"m349 110.99h44.041q2 0 2-2v-43.194q0-2-2-2h-44.041q-2 0-2 2v43.194q0 2 2 2z\" fill=\"none\" stroke=\"#999999\" stroke-opacity=\".2\"/><defs><path id=\"635f1b474bd\" d=\"m0 5c1.326 0 2.5979-0.52683 3.5355-1.4645 0.93763-0.93764 1.4645-2.2095 1.4645-3.5355s-0.52683-2.5979-1.4645-3.5355c-0.93764-0.93763-2.2095-1.4645-3.5355-1.4645s-2.5979 0.52683-3.5355 1.4645c-0.93763 0.93764-1.4645 2.2095-1.4645 3.5355s0.52683 2.5979 1.4645 3.5355c0.93764 0.93763 2.2095 1.4645 3.5355 1.4645z\" stroke=\"#4da2d2\"/></defs><use x=\"361\" y=\"71.951488\" fill=\"#56b4e9\" stroke=\"#4da2d2\" xlink:href=\"#635f1b474bd\"/><g transform=\"translate(379 75.451) scale(.1 -.1)\" fill=\"#545759\"><defs></defs><use xlink:href=\"#DejaVuSansMono-20\"/><use x=\"60.205078\" xlink:href=\"#DejaVuSansMono-41\"/></g><defs><path id=\"ee829cfd5ad\" d=\"m0 5c1.326 0 2.5979-0.52683 3.5355-1.4645 0.93763-0.93764 1.4645-2.2095 1.4645-3.5355s-0.52683-2.5979-1.4645-3.5355c-0.93764-0.93763-2.2095-1.4645-3.5355-1.4645s-2.5979 0.52683-3.5355 1.4645c-0.93763 0.93764-1.4645 2.2095-1.4645 3.5355s0.52683 2.5979 1.4645 3.5355c0.93764 0.93763 2.2095 1.4645 3.5355 1.4645z\" stroke=\"#cf8f00\"/></defs><use x=\"361\" y=\"86.682738\" fill=\"#e69f00\" stroke=\"#cf8f00\" xlink:href=\"#ee829cfd5ad\"/><g transform=\"translate(379 90.183) scale(.1 -.1)\" fill=\"#545759\"><use xlink:href=\"#DejaVuSansMono-20\"/><use x=\"60.205078\" xlink:href=\"#DejaVuSansMono-42\"/></g><defs><path id=\"4c9f429df45\" d=\"m0 5c1.326 0 2.5979-0.52683 3.5355-1.4645 0.93763-0.93764 1.4645-2.2095 1.4645-3.5355s-0.52683-2.5979-1.4645-3.5355c-0.93764-0.93763-2.2095-1.4645-3.5355-1.4645s-2.5979 0.52683-3.5355 1.4645c-0.93763 0.93764-1.4645 2.2095-1.4645 3.5355s0.52683 2.5979 1.4645 3.5355c0.93764 0.93763 2.2095 1.4645 3.5355 1.4645z\" stroke=\"#008e68\"/></defs><use x=\"361\" y=\"101.413988\" fill=\"#009e73\" stroke=\"#008e68\" xlink:href=\"#4c9f429df45\"/><g transform=\"translate(379 104.91) scale(.1 -.1)\" fill=\"#545759\"><use xlink:href=\"#DejaVuSansMono-20\"/><use x=\"60.205078\" xlink:href=\"#DejaVuSansMono-43\"/></g><defs><clipPath id=\"aaf02f77ad2\"><rect x=\"7.2\" y=\"7.2\" width=\"334.8\" height=\"160.39\"/></clipPath></defs></svg>"
      ],
      "text/plain": [
       "<Figure size 600x600 with 1 Axes>"
      ]
     },
     "metadata": {
      "needs_background": "light"
     },
     "output_type": "display_data"
    }
   ],
   "source": [
    "# 'b' should now be traced over\n",
    "tn.draw(color=['A', 'B', 'C'])"
   ]
  },
  {
   "cell_type": "markdown",
   "id": "deffe68a-c6e6-40fa-b7cc-cc0975e01bba",
   "metadata": {
    "raw_mimetype": "text/restructuredtext"
   },
   "source": [
    "This functionality is enabled by tensors having 'owners' - see {ref}`tensorowners`.\n",
    "\n",
    "The following function demonstrates the anatomy of a typical\n",
    "tensor network function. It performs the (probably not useful task) of:\n",
    "\n",
    "1. Getting all the tensors corresponding to a particular `tag`\n",
    "2. Getting all the tensors neighboring to these\n",
    "3. Performing a backend-agnostic `tanh` on the data of all these tensors"
   ]
  },
  {
   "cell_type": "code",
   "execution_count": 23,
   "id": "0146a6b7-44d2-4548-9282-13b32ad3c3d5",
   "metadata": {},
   "outputs": [],
   "source": [
    "def tanh_neighbors(self, tag, inplace=False):\n",
    "    \"\"\"Example function that demonstrates the anatomy of a\n",
    "    typical tensor network  method, using ``tensor_map``,\n",
    "    ``ind_map``, ``tag_map``, and ``modify``.\n",
    "    \"\"\"\n",
    "    # easily handle both copy and non copy methods\n",
    "    tn = self if inplace else self.copy()\n",
    "\n",
    "    # get the unique tensor identifiers from our tag\n",
    "    tids = tn.tag_map[tag]\n",
    "\n",
    "    # collect neighbors in here -> oset for determinism\n",
    "    neighbors = qtn.oset()\n",
    "\n",
    "    # for every tid in our tagged region\n",
    "    for tid in tids:\n",
    "\n",
    "        # get the tensor\n",
    "        t = tn.tensor_map[tid]\n",
    "\n",
    "        # for each of its inds\n",
    "        for ix in t.inds:\n",
    "\n",
    "            # add all tensors with that index to neighbors\n",
    "            neighbors |= tn.ind_map[ix]\n",
    "\n",
    "    # now apply tanh to our expanded region\n",
    "    for tid in neighbors:\n",
    "        # always use modify and autoray to update tensors\n",
    "        t = tn.tensor_map[tid]\n",
    "        t.modify(data=do('tanh', t.data))\n",
    "\n",
    "    # return tn even if self (i.e. inplace) for method chaining\n",
    "    return tn\n",
    "\n",
    "qtn.TensorNetwork.tanh_neighbors = tanh_neighbors\n",
    "\n",
    "# create trailing underscore inplace version\n",
    "import functools\n",
    "qtn.TensorNetwork.tanh_neighbors_ =  \\\n",
    "    functools.partialmethod(tanh_neighbors, inplace=True)"
   ]
  },
  {
   "cell_type": "markdown",
   "id": "b058cf0e-e46b-4b47-a4ea-b134c19b37c8",
   "metadata": {},
   "source": [
    "In use:"
   ]
  },
  {
   "cell_type": "code",
   "execution_count": 24,
   "id": "c538f2a0-ccbc-4fc8-9adf-28e464ce6130",
   "metadata": {},
   "outputs": [
    {
     "data": {
      "text/plain": [
       "1.7405853798277557"
      ]
     },
     "execution_count": 24,
     "metadata": {},
     "output_type": "execute_result"
    }
   ],
   "source": [
    "tn['A'].data.item(0)"
   ]
  },
  {
   "cell_type": "code",
   "execution_count": 25,
   "id": "f8aef278-5d9c-4604-93c9-b5031f77cddb",
   "metadata": {},
   "outputs": [
    {
     "data": {
      "text/html": [
       "<samp style='font-size: 12px;'><details><summary><b style=\"color: #3645cd;\">TensorNetwork</b>(tensors=3, indices=5)</summary><samp style='font-size: 12px;'><details><summary><b style=\"color: #e55471;\">Tensor</b>(shape=(<b style=\"color: #828fdd;\">2</b>, <b style=\"color: #8a5bcf;\">3</b>, <b style=\"color: #8a5bcf;\">3</b>), inds=[<b style=\"color: #b9e292;\">b</b>, <b style=\"color: #d3826d;\">x</b>, <b style=\"color: #5483e2;\">y</b>], tags={<b style=\"color: #d27b9c;\">A</b>}),</summary>backend=<b style=\"color: #7fdd73;\">numpy</b>, dtype=<b style=\"color: #75d2c6;\">float64</b>, data=array([[[ 0.94029449, -0.09697056, -0.90746183],\n",
       "        [ 0.99390651, -0.52161375,  0.83623517],\n",
       "        [-0.64447019,  0.72077234,  0.42707706]],\n",
       "\n",
       "       [[ 0.84216909, -0.39027667, -0.6811446 ],\n",
       "        [ 0.67266318, -0.67490196, -0.80505145],\n",
       "        [-0.93732835,  0.43606535,  0.86432743]]])</details></samp><samp style='font-size: 12px;'><details><summary><b style=\"color: #e55471;\">Tensor</b>(shape=(<b style=\"color: #828fdd;\">2</b>, <b style=\"color: #8a5bcf;\">3</b>, <b style=\"color: #8a5bcf;\">3</b>), inds=[<b style=\"color: #b9e292;\">b</b>, <b style=\"color: #5483e2;\">y</b>, <b style=\"color: #c4d489;\">z</b>], tags={<b style=\"color: #9e54e0;\">B</b>}),</summary>backend=<b style=\"color: #7fdd73;\">numpy</b>, dtype=<b style=\"color: #75d2c6;\">float64</b>, data=array([[[-0.6517111 , -0.84778297, -0.55398225],\n",
       "        [-0.81575435, -0.16061823, -0.158473  ],\n",
       "        [-0.86534269, -0.71617345, -0.43156796]],\n",
       "\n",
       "       [[-0.61193943,  0.92535818, -0.86258756],\n",
       "        [ 0.17270992,  0.80989104, -0.52860321],\n",
       "        [-0.87250242,  0.76793088, -0.05085724]]])</details></samp><samp style='font-size: 12px;'><details><summary><b style=\"color: #e55471;\">Tensor</b>(shape=(<b style=\"color: #828fdd;\">2</b>, <b style=\"color: #8a5bcf;\">3</b>, <b style=\"color: #8a5bcf;\">3</b>), inds=[<b style=\"color: #5db6d5;\">c</b>, <b style=\"color: #c4d489;\">z</b>, <b style=\"color: #d3826d;\">x</b>], tags={<b style=\"color: #d04867;\">C</b>}),</summary>backend=<b style=\"color: #7fdd73;\">numpy</b>, dtype=<b style=\"color: #75d2c6;\">float64</b>, data=array([[[ 0.14242623, -0.75759576,  0.29328465],\n",
       "        [ 0.01621064,  0.95537059, -0.44619038],\n",
       "        [-0.85036226, -0.92569812,  0.11732076]],\n",
       "\n",
       "       [[-0.62033062, -0.37735903, -0.60671552],\n",
       "        [-0.60451669,  0.59631434,  0.54619917],\n",
       "        [ 0.72628749,  0.34900989,  0.33263441]]])</details></samp></details></samp>"
      ],
      "text/plain": [
       "TensorNetwork(tensors=3, indices=5)"
      ]
     },
     "execution_count": 25,
     "metadata": {},
     "output_type": "execute_result"
    }
   ],
   "source": [
    "tn.tanh_neighbors_('B')"
   ]
  },
  {
   "cell_type": "code",
   "execution_count": 26,
   "id": "d42f2449-88d9-489b-9397-9c4973516018",
   "metadata": {},
   "outputs": [
    {
     "data": {
      "text/plain": [
       "0.9402944918012002"
      ]
     },
     "execution_count": 26,
     "metadata": {},
     "output_type": "execute_result"
    }
   ],
   "source": [
    "# since A is connected to B, its data should have been tanh'd\n",
    "tn['A'].data.item(0)"
   ]
  },
  {
   "cell_type": "markdown",
   "id": "b9d31ece-ab9a-441f-90ce-55c06a3fd3f9",
   "metadata": {
    "raw_mimetype": "text/restructuredtext"
   },
   "source": [
    "## Combining TNs\n",
    "\n",
    "(indexmangling)=\n",
    "\n",
    "### Index Mangling\n",
    "\n",
    "While it is very convenient generally to have the tensor network geometry\n",
    "defined 'locally' just by `Tensor.inds`, **there is one main drawback**.\n",
    "\n",
    "1. Imagine we have two tensor networks, `tn1` and `tn2`,\n",
    "   both with the same outer indices - e.g. `('k0', 'k1', 'k2', 'k3', ...).\n",
    "2. When we combine these these networks we expect the new TN to automatically\n",
    "   represent the overlap of these networks - i.e. with the `'k{}'` indices\n",
    "   contracted.\n",
    "3. **However**, if `tn2` has the same internal indices as `tn1` (e.g. it\n",
    "   actually is `tn1`, or is a copy of or is derived from `tn1` etc.),\n",
    "   then these indices will now clash and appear four times in the new TN.\n",
    "\n",
    "The solution `quimb` adopts is that when you combine two or more tensor\n",
    "networks, **inner indices in the latter will be mangled** - 'inner' being defined\n",
    "as those appearing $\\geq 2$ times. This is fairly natural since renaming\n",
    "internal indices has no effect on the overall TN object represented, but it does\n",
    "mean **you should only rely on outer index names being preserved**.\n",
    "\n",
    ":::{hint}\n",
    "In general in `quimb`, you should keep track of the external indices of\n",
    "a TN and the tags describing the internal tensor structure. If and when you\n",
    "need explicit index names you can retrieve them from the tensors with, e.g.:\n",
    "\n",
    "- [`qtn.bonds`](quimb.tensor.tensor_core.bonds)\n",
    "- [`qtn.group_inds`](quimb.tensor.tensor_core.group_inds)\n",
    "- [`Tensor.filter_bonds`](quimb.tensor.tensor_core.Tensor.filter_bonds)\n",
    ":::\n",
    "\n",
    "(virtualtns)=\n",
    "\n",
    "### Virtual TNs\n",
    "\n",
    "When you create a {class}`~quimb.tensor.tensor_core.TensorNetwork`, from some\n",
    "collection of tensors and/or other tensor networks, the tensors are added via:\n",
    "\n",
    "- [`TensorNetwork.add_tensor`](quimb.tensor.tensor_core.TensorNetwork.add_tensor)\n",
    "- [`TensorNetwork.add_tensor_network`](quimb.tensor.tensor_core.TensorNetwork.add_tensor_network)\n",
    "\n",
    "By default the tensors (**but not the data - see above**), are copied, so that\n",
    "they only appear in the new TN. This behavior corresponds to the\n",
    "`virtual=False` option and overloaded operators:\n",
    "\n",
    "- `&`\n",
    "- `&=`\n",
    "\n",
    "used to combine tensors and tensor networks."
   ]
  },
  {
   "cell_type": "code",
   "execution_count": 27,
   "id": "f38ca719-b294-463c-ade4-8e5ce0626823",
   "metadata": {},
   "outputs": [
    {
     "data": {
      "text/plain": [
       "False"
      ]
     },
     "execution_count": 27,
     "metadata": {},
     "output_type": "execute_result"
    }
   ],
   "source": [
    "tx = qtn.rand_tensor([3, 4], ['a', 'b'], tags='X')\n",
    "ty = qtn.rand_tensor([4, 5], ['b', 'c'], tags='Y')\n",
    "\n",
    "tn = tx & ty\n",
    "# == qtn.TensorNetwork([tx, ty], virtual=False)\n",
    "\n",
    "tx is tn['X']"
   ]
  },
  {
   "cell_type": "markdown",
   "id": "bdcf6d0c-9ff5-4369-86cd-348c241cbc6d",
   "metadata": {
    "raw_mimetype": "text/restructuredtext"
   },
   "source": [
    "Any changes to `tx` *won't* affect `tn`.\n",
    "\n",
    "If you want to tensor networks to 'view' existing tensors, either to\n",
    "have the tensors appear in multiple networks, or simply because you\n",
    "know a copy is not needed, you can use the `virtual=True` option.\n",
    "This corresponds to the overloaded operators:\n",
    "\n",
    "- `|`\n",
    "- `|=`\n",
    "\n",
    "used to combine tensors and tensor networks."
   ]
  },
  {
   "cell_type": "code",
   "execution_count": 28,
   "id": "a9e89076-0edf-4bac-a1ba-4cb02ad94a93",
   "metadata": {},
   "outputs": [
    {
     "data": {
      "text/plain": [
       "True"
      ]
     },
     "execution_count": 28,
     "metadata": {},
     "output_type": "execute_result"
    }
   ],
   "source": [
    "tn = tx | ty\n",
    "# == qtn.TensorNetwork([tx, ty], virtual=True)\n",
    "\n",
    "tx is tn['X']"
   ]
  },
  {
   "cell_type": "markdown",
   "id": "bbbbc167-898e-453a-8d86-8cf635306592",
   "metadata": {
    "raw_mimetype": "text/restructuredtext"
   },
   "source": [
    "Now any changes to ``tx`` *will* affect ``tn``.\n",
    "The ``virtual`` kwarg can also be supplied to ``copy``."
   ]
  },
  {
   "cell_type": "code",
   "execution_count": 29,
   "id": "dbc8bb41-abf8-4cc7-960f-4b96518a8b6d",
   "metadata": {},
   "outputs": [
    {
     "data": {
      "text/plain": [
       "True"
      ]
     },
     "execution_count": 29,
     "metadata": {},
     "output_type": "execute_result"
    }
   ],
   "source": [
    "tx is tn.copy(virtual=True)['X']"
   ]
  },
  {
   "cell_type": "markdown",
   "id": "b761603c-e52d-46e0-9538-0faab188ccf1",
   "metadata": {
    "raw_mimetype": "text/restructuredtext"
   },
   "source": [
    "(tensorowners)=\n",
    "\n",
    "## Tensor 'Owners'\n",
    "\n",
    "The piece of technology that enables tensors to tell, possibly mutiple,\n",
    "tensor networks about changes to their `inds` and `tags` is **owners**.\n",
    "You probably won't need to interact with this, but it might be useful\n",
    "to understand, what happens behind the scenes.\n",
    "\n",
    "When a tensor is added to a tensor network, the tensor itself stores\n",
    "a [weakref](https://docs.python.org/3/library/weakref.html) to the tensor\n",
    "network. If the tensor's indices or tags are then changed using\n",
    "[`Tensor.modify`](quimb.tensor.tensor_core.Tensor.modify), it can tell each tensor\n",
    "network it has been added to to update their `ind_map` and `tag_map`\n",
    "correctly."
   ]
  },
  {
   "cell_type": "code",
   "execution_count": 30,
   "id": "9ef5674e-35cc-4f57-8efe-a95d51ebdfb3",
   "metadata": {},
   "outputs": [
    {
     "data": {
      "text/plain": [
       "{8749283625669: (<weakref at 0x7f519f2b7c40; to 'TensorNetwork' at 0x7f519f14ac50>,\n",
       "  0),\n",
       " 8749283625672: (<weakref at 0x7f519f2b7e20; to 'TensorNetwork' at 0x7f519f14ac80>,\n",
       "  0)}"
      ]
     },
     "execution_count": 30,
     "metadata": {},
     "output_type": "execute_result"
    }
   ],
   "source": [
    "tx = qtn.rand_tensor([3, 4], ['a', 'b'], tags='X')\n",
    "ty = qtn.rand_tensor([4, 5], ['b', 'c'], tags='Y')\n",
    "tz = qtn.rand_tensor([4, 5], ['b', 'c'], tags='Z')\n",
    "\n",
    "tn_xy = tx | ty\n",
    "tn_xz = tx | tz\n",
    "\n",
    "tx.owners"
   ]
  },
  {
   "cell_type": "markdown",
   "id": "540c95ba-2b99-4907-97ea-bde635ceb31c",
   "metadata": {
    "raw_mimetype": "text/restructuredtext"
   },
   "source": [
    "A `weakref` is used so as not to prevent garbage collection of TNs, with stale\n",
    "weakrefs being simply cleared out.\n",
    "\n",
    ":::{note}\n",
    "Since {class}`~quimb.tensor.tensor_core.TensorNetwork` by default copies\n",
    "tensors before adding them, and a freshly copied tensor has no owners,\n",
    "most tensors are usually only 'owned' by a single tensor network.\n",
    ":::"
   ]
  },
  {
   "cell_type": "markdown",
   "id": "1d4739c3-038e-4554-a8ae-ee5df61e9f7e",
   "metadata": {
    "raw_mimetype": "text/restructuredtext"
   },
   "source": [
    "## Structured (1D, 2D, ...) Tensor Networks\n",
    "\n",
    "So far we have only talked about the design of generic tensor networks\n",
    "of any geometry, and noted that the external indices of a TN, plus the\n",
    "tags of the tensors inside it, are the things that essentially define it.\n",
    "\n",
    "Specific, structured, tensor networks such as MPS or PEPS are\n",
    "implemented as subclasses of\n",
    "{class}`~quimb.tensor.tensor_1d.TensorNetwork`, with extra properties\n",
    "that describe, for example, a 'format' for how the physical indices and\n",
    "tensors are  tagged as a function of coordinate. Methods that rely on\n",
    "assuming such structure can then be invoked.\n",
    "\n",
    "As an example consider\n",
    "{class}`~quimb.tensor.tensor_1d.MatrixProductState`,\n",
    "which is a subclass of\n",
    "{class}`~quimb.tensor.tensor_1d.TensorNetwork`\n",
    "but also has methods [mixed in](https://en.wikipedia.org/wiki/Mixin)\n",
    "from the following:\n",
    "\n",
    "- {class}`~quimb.tensor.tensor_1d.TensorNetwork1D` -\n",
    "  methods that apply to any TN with a 1D tagging structure, for example,\n",
    "  [`TensorNetwork1D.site_tag`](quimb.tensor.tensor_1d.TensorNetwork1D.site_tag).\n",
    "- {class}`~quimb.tensor.tensor_1d.TensorNetwork1DFlat` -\n",
    "  methods that apply to any 1D TN with a single tensor per site, for example,\n",
    "  [`TensorNetwork1DFlat.compress`](quimb.tensor.tensor_1d.TensorNetwork1DFlat.compress)\n",
    "- {class}`~quimb.tensor.tensor_1d.TensorNetwork1DVector`.\n",
    "  methods that apply to any 1D TN with a single physical index per site, for example,\n",
    "  [`TensorNetwork1DVector.site_ind`](quimb.tensor.tensor_1d.TensorNetwork1DVector.site_ind).\n",
    "\n",
    "The MPS class then has the following extra properties that are required:"
   ]
  },
  {
   "cell_type": "code",
   "execution_count": 31,
   "id": "df9dff48-a6ca-467c-969d-46faa142a6fd",
   "metadata": {},
   "outputs": [
    {
     "data": {
      "text/plain": [
       "('_site_tag_id', '_site_ind_id', 'cyclic', '_L')"
      ]
     },
     "execution_count": 31,
     "metadata": {},
     "output_type": "execute_result"
    }
   ],
   "source": [
    "qtn.MatrixProductState._EXTRA_PROPS"
   ]
  },
  {
   "cell_type": "markdown",
   "id": "fcfe9ffd-2353-483f-85b1-593c72f612d9",
   "metadata": {
    "raw_mimetype": "text/restructuredtext"
   },
   "source": [
    "- `'_site_tag_id'` being the string formatter that converts site coordinate to site tag\n",
    "- `'_site_ind_id'` being the string formatter that converts site coordinate to site ind\n",
    "- `'cyclic'` describing whether the MPS has periodic or open boundary conditions\n",
    "- `'_L'` describing the number of sites.\n",
    "\n",
    "These are usually generated automatically, from defaults or context:"
   ]
  },
  {
   "cell_type": "code",
   "execution_count": 32,
   "id": "05f419e6-4587-4a6d-9f11-dde6ab3b47dc",
   "metadata": {},
   "outputs": [
    {
     "data": {
      "text/plain": [
       "('I{}', 'k{}', True, 100)"
      ]
     },
     "execution_count": 32,
     "metadata": {},
     "output_type": "execute_result"
    }
   ],
   "source": [
    "mps = qtn.MPS_rand_state(L=100, bond_dim=20, cyclic=True)\n",
    "mps.site_tag_id, mps.site_ind_id, mps.cyclic, mps.L"
   ]
  },
  {
   "cell_type": "code",
   "execution_count": 33,
   "id": "43e6cda5-0814-44d5-af00-ca3a5b05efe7",
   "metadata": {},
   "outputs": [
    {
     "data": {
      "text/plain": [
       "('I{}', 'b{}', False, 4)"
      ]
     },
     "execution_count": 33,
     "metadata": {},
     "output_type": "execute_result"
    }
   ],
   "source": [
    "mps = qtn.MatrixProductState(\n",
    "    [\n",
    "        do('random.normal', size=(7, 2), like='numpy'),\n",
    "        do('random.normal', size=(7, 7, 2), like='numpy'),\n",
    "        do('random.normal', size=(7, 7, 2), like='numpy'),\n",
    "        do('random.normal', size=(7, 2), like='numpy'),\n",
    "    ],\n",
    "    site_ind_id='b{}'\n",
    ")\n",
    "mps.site_tag_id, mps.site_ind_id, mps.cyclic, mps.L"
   ]
  },
  {
   "cell_type": "markdown",
   "id": "0ee70b6d-b7dc-42bf-86fd-3199015e325f",
   "metadata": {
    "raw_mimetype": "text/restructuredtext"
   },
   "source": [
    "### Converting Structured Tensor Networks\n",
    "\n",
    "Sometimes you might have created or modified *another*\n",
    "{class}`~quimb.tensor.tensor_core.TensorNetwork` such that\n",
    "you know it matches the structure of some more specific\n",
    "geometry and now want to use relevant methods, for example,\n",
    "if you have constructed a 2D tensor network and now want to use\n",
    "[`TensorNetwork2D.contract_boundary`](quimb.tensor.tensor_2d.TensorNetwork2D.contract_boundary).\n",
    "The following describes how to convert between generic and\n",
    "structured tensor networks without going via the raw constructors,\n",
    "that might be fiddly and inefficient.\n",
    "\n",
    "Imagine we have the following tensors and generic TN:"
   ]
  },
  {
   "cell_type": "code",
   "execution_count": 34,
   "id": "c92b9393-8a8b-427b-a377-332e2d19b31d",
   "metadata": {},
   "outputs": [],
   "source": [
    "t00 = qtn.rand_tensor([2, 4, 4], inds=['k0,0', '00-01', '00-10'], tags=['I0,0', 'X0', 'Y0'])\n",
    "t01 = qtn.rand_tensor([2, 4, 4], inds=['k0,1', '00-01', '01-11'], tags=['I0,1', 'X0', 'Y0'])\n",
    "t10 = qtn.rand_tensor([2, 4, 4], inds=['k1,0', '00-10', '10-11'], tags=['I1,0', 'X1', 'Y1'])\n",
    "t11 = qtn.rand_tensor([2, 4, 4], inds=['k1,1', '01-11', '10-11'], tags=['I1,1', 'X1', 'Y1'])"
   ]
  },
  {
   "cell_type": "markdown",
   "id": "71034a85-ae32-4625-9b0a-e2e9c74d8325",
   "metadata": {},
   "source": [
    "These make up a little PEPS-like 2x2 TN:"
   ]
  },
  {
   "cell_type": "code",
   "execution_count": 35,
   "id": "31c7c3b9-ac6a-441e-9572-d624c1691663",
   "metadata": {},
   "outputs": [
    {
     "data": {
      "text/html": [
       "<samp style='font-size: 12px;'><details><summary><b style=\"color: #3645cd;\">TensorNetwork</b>(tensors=4, indices=8)</summary><samp style='font-size: 12px;'><details><summary><b style=\"color: #e55471;\">Tensor</b>(shape=(<b style=\"color: #828fdd;\">2</b>, <b style=\"color: #80d749;\">4</b>, <b style=\"color: #80d749;\">4</b>), inds=[<b style=\"color: #5fce5e;\">k0,0</b>, <b style=\"color: #3cd577;\">00-01</b>, <b style=\"color: #c1ce64;\">00-10</b>], tags={<b style=\"color: #8b77de;\">I0,0</b>, <b style=\"color: #d44388;\">X0</b>, <b style=\"color: #b1d42e;\">Y0</b>}),</summary>backend=<b style=\"color: #7fdd73;\">numpy</b>, dtype=<b style=\"color: #75d2c6;\">float64</b>, data=array([[[-1.10079799,  0.0596712 ,  0.11051359,  0.14294902],\n",
       "        [ 0.48908166,  0.42848178, -0.75141165, -0.44749067],\n",
       "        [ 0.86966155,  0.31911253,  1.68113226,  2.62923484],\n",
       "        [ 1.26233162, -0.24575065,  0.50711996, -0.3204049 ]],\n",
       "\n",
       "       [[ 1.67505259,  0.35965073,  1.97026062, -1.42291639],\n",
       "        [ 0.05697117,  0.63406443,  0.4456802 ,  0.74561541],\n",
       "        [ 1.86274148, -0.98858507,  0.35782756, -0.10051891],\n",
       "        [-0.11145768, -1.30228361, -0.93935626, -1.40401747]]])</details></samp><samp style='font-size: 12px;'><details><summary><b style=\"color: #e55471;\">Tensor</b>(shape=(<b style=\"color: #828fdd;\">2</b>, <b style=\"color: #80d749;\">4</b>, <b style=\"color: #80d749;\">4</b>), inds=[<b style=\"color: #de9a98;\">k0,1</b>, <b style=\"color: #3cd577;\">00-01</b>, <b style=\"color: #c4d491;\">01-11</b>], tags={<b style=\"color: #92d399;\">I0,1</b>, <b style=\"color: #d44388;\">X0</b>, <b style=\"color: #b1d42e;\">Y0</b>}),</summary>backend=<b style=\"color: #7fdd73;\">numpy</b>, dtype=<b style=\"color: #75d2c6;\">float64</b>, data=array([[[ 0.38860772, -0.23785043,  0.53180618,  1.00064276],\n",
       "        [ 1.81362309,  2.16673389, -1.128748  ,  0.24049856],\n",
       "        [ 0.02505905,  0.86045316,  0.02844933,  0.28908474],\n",
       "        [-0.35201407,  0.94671534, -1.69440475,  0.15656306]],\n",
       "\n",
       "       [[ 0.11541973,  0.14393308, -1.02624579, -0.18799492],\n",
       "        [ 1.50641591,  0.97460991, -0.75742392,  0.22991593],\n",
       "        [ 0.13252203, -0.92264156,  0.87362977,  1.13883566],\n",
       "        [-0.90282265, -1.60227634,  1.1316849 , -0.41218239]]])</details></samp><samp style='font-size: 12px;'><details><summary><b style=\"color: #e55471;\">Tensor</b>(shape=(<b style=\"color: #828fdd;\">2</b>, <b style=\"color: #80d749;\">4</b>, <b style=\"color: #80d749;\">4</b>), inds=[<b style=\"color: #84ce75;\">k1,0</b>, <b style=\"color: #c1ce64;\">00-10</b>, <b style=\"color: #72b9d3;\">10-11</b>], tags={<b style=\"color: #c28de0;\">I1,0</b>, <b style=\"color: #6fe251;\">X1</b>, <b style=\"color: #6c45d0;\">Y1</b>}),</summary>backend=<b style=\"color: #7fdd73;\">numpy</b>, dtype=<b style=\"color: #75d2c6;\">float64</b>, data=array([[[ 0.70519837,  0.6616975 ,  1.0114127 , -1.3656219 ],\n",
       "        [-0.02186246,  0.15600819, -3.09894756, -1.00428208],\n",
       "        [-0.23836214, -0.74322461, -1.58058123,  1.10484127],\n",
       "        [-1.84649077, -0.03061097, -0.22689998,  0.13139946]],\n",
       "\n",
       "       [[-1.41904566,  0.16417185, -1.35531029, -0.68284241],\n",
       "        [ 0.16804185,  1.2119743 , -1.04827067,  0.03572145],\n",
       "        [-0.3913261 , -0.33323323, -0.04251186,  0.69972619],\n",
       "        [ 0.03534986, -0.81910189,  0.78524742,  0.71433832]]])</details></samp><samp style='font-size: 12px;'><details><summary><b style=\"color: #e55471;\">Tensor</b>(shape=(<b style=\"color: #828fdd;\">2</b>, <b style=\"color: #80d749;\">4</b>, <b style=\"color: #80d749;\">4</b>), inds=[<b style=\"color: #d29586;\">k1,1</b>, <b style=\"color: #c4d491;\">01-11</b>, <b style=\"color: #72b9d3;\">10-11</b>], tags={<b style=\"color: #d67b97;\">I1,1</b>, <b style=\"color: #6fe251;\">X1</b>, <b style=\"color: #6c45d0;\">Y1</b>}),</summary>backend=<b style=\"color: #7fdd73;\">numpy</b>, dtype=<b style=\"color: #75d2c6;\">float64</b>, data=array([[[-0.33062103,  1.48883878,  1.74355326, -0.1238563 ],\n",
       "        [-1.4736216 , -0.8324853 , -0.86660347, -1.14581125],\n",
       "        [ 0.69396446, -0.25231889,  1.18294182,  0.37714141],\n",
       "        [ 1.54063522,  0.40692399, -1.41923073,  0.09172671]],\n",
       "\n",
       "       [[-0.89979094, -1.6911207 ,  0.15734748, -2.79835174],\n",
       "        [-0.07682657,  0.07359371,  0.39672031, -0.66140958],\n",
       "        [ 0.97479304, -1.40525561, -2.38343859,  0.89768701],\n",
       "        [-0.93541728, -1.48125354,  0.73259751, -0.84065252]]])</details></samp></details></samp>"
      ],
      "text/plain": [
       "TensorNetwork(tensors=4, indices=8)"
      ]
     },
     "execution_count": 35,
     "metadata": {},
     "output_type": "execute_result"
    }
   ],
   "source": [
    "tn = (t00 | t01 | t10 | t11)\n",
    "tn"
   ]
  },
  {
   "cell_type": "code",
   "execution_count": 36,
   "id": "4e990232-60c3-4c7b-9f21-d0b97a455608",
   "metadata": {},
   "outputs": [
    {
     "data": {
      "image/svg+xml": [
       "<?xml version=\"1.0\" encoding=\"UTF-8\"?><!DOCTYPE svg  PUBLIC '-//W3C//DTD SVG 1.1//EN'  'http://www.w3.org/Graphics/SVG/1.1/DTD/svg11.dtd'><svg width=\"423.31pt\" height=\"347.33pt\" version=\"1.1\" viewBox=\"0 0 423.31 347.33\" xmlns=\"http://www.w3.org/2000/svg\" xmlns:xlink=\"http://www.w3.org/1999/xlink\"><defs><style type=\"text/css\">*{stroke-linejoin: round; stroke-linecap: butt}</style></defs><path d=\"m0 347.33h423.31v-347.33h-423.31v347.33z\" opacity=\"0\"/><path d=\"m110.08 243.22-92.24 93.509\" clip-path=\"url(#e921c0c8146)\" fill=\"none\" stroke=\"#737880\" stroke-linecap=\"round\" stroke-opacity=\".5\"/><path d=\"m110.08 243.22 138.16-0.94323\" clip-path=\"url(#e921c0c8146)\" fill=\"none\" stroke=\"#737880\" stroke-linecap=\"round\" stroke-opacity=\".5\" stroke-width=\"2\"/><path d=\"m110.08 243.22-0.94372-138.16\" clip-path=\"url(#e921c0c8146)\" fill=\"none\" stroke=\"#737880\" stroke-linecap=\"round\" stroke-opacity=\".5\" stroke-width=\"2\"/><path d=\"m248.24 242.27 93.509 92.24\" clip-path=\"url(#e921c0c8146)\" fill=\"none\" stroke=\"#737880\" stroke-linecap=\"round\" stroke-opacity=\".5\"/><path d=\"m248.24 242.27-0.94372-138.16\" clip-path=\"url(#e921c0c8146)\" fill=\"none\" stroke=\"#737880\" stroke-linecap=\"round\" stroke-opacity=\".5\" stroke-width=\"2\"/><path d=\"m109.14 105.06-93.509-92.24\" clip-path=\"url(#e921c0c8146)\" fill=\"none\" stroke=\"#737880\" stroke-linecap=\"round\" stroke-opacity=\".5\"/><path d=\"m109.14 105.06 138.16-0.94323\" clip-path=\"url(#e921c0c8146)\" fill=\"none\" stroke=\"#737880\" stroke-linecap=\"round\" stroke-opacity=\".5\" stroke-width=\"2\"/><path d=\"m247.29 104.11 92.24-93.509\" clip-path=\"url(#e921c0c8146)\" fill=\"none\" stroke=\"#737880\" stroke-linecap=\"round\" stroke-opacity=\".5\"/><path d=\"m17.841 336.72z\" clip-path=\"url(#e921c0c8146)\" fill=\"#ffffff\"/><path d=\"m341.75 334.51z\" clip-path=\"url(#e921c0c8146)\" fill=\"#ffffff\"/><path d=\"m15.628 12.818z\" clip-path=\"url(#e921c0c8146)\" fill=\"#ffffff\"/><path d=\"m339.53 10.606z\" clip-path=\"url(#e921c0c8146)\" fill=\"#ffffff\"/><path d=\"m110.08 260.69c4.6348 0 9.0803-1.8414 12.358-5.1187 3.2773-3.2773 5.1187-7.7228 5.1187-12.358 0-4.6348-1.8414-9.0803-5.1187-12.358-3.2773-3.2773-7.7228-5.1187-12.358-5.1187-4.6348 0-9.0803 1.8414-12.358 5.1187-3.2773 3.2773-5.1187 7.7228-5.1187 12.358 0 4.6348 1.8414 9.0803 5.1187 12.358 3.2773 3.2773 7.7228 5.1187 12.358 5.1187z\" clip-path=\"url(#e921c0c8146)\" fill=\"#56b4e9\" stroke=\"#4da2d2\" stroke-width=\"1.9285\"/><path d=\"m248.24 259.75c4.6348 0 9.0803-1.8414 12.358-5.1187 3.2773-3.2773 5.1187-7.7228 5.1187-12.358s-1.8414-9.0803-5.1187-12.358c-3.2773-3.2773-7.7228-5.1187-12.358-5.1187s-9.0803 1.8414-12.358 5.1187c-3.2773 3.2773-5.1187 7.7228-5.1187 12.358s1.8414 9.0803 5.1187 12.358c3.2773 3.2773 7.7228 5.1187 12.358 5.1187z\" clip-path=\"url(#e921c0c8146)\" fill=\"#e69f00\" stroke=\"#cf8f00\" stroke-width=\"1.9285\"/><path d=\"m109.14 122.53c4.6348 0 9.0803-1.8414 12.358-5.1187 3.2773-3.2773 5.1187-7.7228 5.1187-12.358 0-4.6348-1.8414-9.0803-5.1187-12.358-3.2773-3.2773-7.7228-5.1187-12.358-5.1187-4.6348 0-9.0803 1.8414-12.358 5.1187s-5.1187 7.7228-5.1187 12.358c0 4.6348 1.8414 9.0803 5.1187 12.358s7.7228 5.1187 12.358 5.1187z\" clip-path=\"url(#e921c0c8146)\" fill=\"#009e73\" stroke=\"#008e68\" stroke-width=\"1.9285\"/><path d=\"m247.29 121.59c4.6348 0 9.0803-1.8414 12.358-5.1187 3.2773-3.2773 5.1187-7.7228 5.1187-12.358s-1.8414-9.0803-5.1187-12.358c-3.2773-3.2773-7.7228-5.1187-12.358-5.1187s-9.0803 1.8414-12.358 5.1187c-3.2773 3.2773-5.1187 7.7228-5.1187 12.358s1.8414 9.0803 5.1187 12.358c3.2773 3.2773 7.7228 5.1187 12.358 5.1187z\" clip-path=\"url(#e921c0c8146)\" fill=\"#d55e00\" stroke=\"#c05500\" stroke-width=\"1.9285\"/><g transform=\"translate(9.4123 338.67) scale(.07 -.07)\" fill=\"#545759\"><defs><path id=\"DejaVuSansMono-6b\" transform=\"scale(.015625)\" d=\"m738 4863h593v-2816l1510 1453h700l-1378-1319 1593-2181h-703l-1294 1806-428-403v-1403h-593v4863z\"/><path id=\"DejaVuSansMono-30\" transform=\"scale(.015625)\" d=\"m1509 2344q0 172 120 297 121 125 290 125 175 0 300-125t125-297q0-175-124-297-123-122-301-122-175 0-293 119-117 119-117 300zm416 1906q-441 0-658-475t-217-1447q0-969 217-1444t658-475q444 0 661 475t217 1444q0 972-217 1447t-661 475zm0 500q747 0 1130-613 383-612 383-1809 0-1194-383-1807-383-612-1130-612t-1128 612q-381 613-381 1807 0 1197 381 1809 381 613 1128 613z\"/><path id=\"DejaVuSansMono-2c\" transform=\"scale(.015625)\" d=\"m1569 947h787v-647l-615-1197h-482l310 1197v647z\"/></defs><use xlink:href=\"#DejaVuSansMono-6b\"/><use x=\"60.205078\" xlink:href=\"#DejaVuSansMono-30\"/><use x=\"120.410156\" xlink:href=\"#DejaVuSansMono-2c\"/><use x=\"180.615234\" xlink:href=\"#DejaVuSansMono-30\"/></g><g transform=\"translate(333.32 336.46) scale(.07 -.07)\" fill=\"#545759\"><defs><path id=\"DejaVuSansMono-31\" transform=\"scale(.015625)\" d=\"m844 531h981v3566l-1056-238v575l1050 232h631v-4135h969v-531h-2575v531z\"/></defs><use xlink:href=\"#DejaVuSansMono-6b\"/><use x=\"60.205078\" xlink:href=\"#DejaVuSansMono-30\"/><use x=\"120.410156\" xlink:href=\"#DejaVuSansMono-2c\"/><use x=\"180.615234\" xlink:href=\"#DejaVuSansMono-31\"/></g><g transform=\"translate(7.2 14.768) scale(.07 -.07)\" fill=\"#545759\"><use xlink:href=\"#DejaVuSansMono-6b\"/><use x=\"60.205078\" xlink:href=\"#DejaVuSansMono-31\"/><use x=\"120.410156\" xlink:href=\"#DejaVuSansMono-2c\"/><use x=\"180.615234\" xlink:href=\"#DejaVuSansMono-30\"/></g><g transform=\"translate(331.11 12.556) scale(.07 -.07)\" fill=\"#545759\"><use xlink:href=\"#DejaVuSansMono-6b\"/><use x=\"60.205078\" xlink:href=\"#DejaVuSansMono-31\"/><use x=\"120.410156\" xlink:href=\"#DejaVuSansMono-2c\"/><use x=\"180.615234\" xlink:href=\"#DejaVuSansMono-31\"/></g><g transform=\"translate(73.959 246) scale(.1 -.1)\" fill=\"#545759\"><defs><path id=\"DejaVuSansMono-49\" transform=\"scale(.015625)\" d=\"m628 4666h2591v-532h-978v-3603h978v-531h-2591v531h978v3603h-978v532z\"/><path id=\"DejaVuSansMono-58\" transform=\"scale(.015625)\" d=\"m269 4666h678l1025-1760 1044 1760h678l-1397-2194 1497-2472h-678l-1144 2009-1234-2009h-682l1563 2472-1350 2194z\"/><path id=\"DejaVuSansMono-59\" transform=\"scale(.015625)\" d=\"m116 4666h672l1137-2060 1134 2060h679l-1497-2572v-2094h-635v2094l-1490 2572z\"/></defs><use xlink:href=\"#DejaVuSansMono-49\"/><use x=\"60.205078\" xlink:href=\"#DejaVuSansMono-30\"/><use x=\"120.410156\" xlink:href=\"#DejaVuSansMono-2c\"/><use x=\"180.615234\" xlink:href=\"#DejaVuSansMono-30\"/><use x=\"240.820312\" xlink:href=\"#DejaVuSansMono-2c\"/><use x=\"301.025391\" xlink:href=\"#DejaVuSansMono-20\"/><use x=\"361.230469\" xlink:href=\"#DejaVuSansMono-58\"/><use x=\"421.435547\" xlink:href=\"#DejaVuSansMono-30\"/><use x=\"481.640625\" xlink:href=\"#DejaVuSansMono-2c\"/><use x=\"541.845703\" xlink:href=\"#DejaVuSansMono-20\"/><use x=\"602.050781\" xlink:href=\"#DejaVuSansMono-59\"/><use x=\"662.255859\" xlink:href=\"#DejaVuSansMono-30\"/></g><g transform=\"translate(212.12 245.06) scale(.1 -.1)\" fill=\"#545759\"><use xlink:href=\"#DejaVuSansMono-49\"/><use x=\"60.205078\" xlink:href=\"#DejaVuSansMono-30\"/><use x=\"120.410156\" xlink:href=\"#DejaVuSansMono-2c\"/><use x=\"180.615234\" xlink:href=\"#DejaVuSansMono-31\"/><use x=\"240.820312\" xlink:href=\"#DejaVuSansMono-2c\"/><use x=\"301.025391\" xlink:href=\"#DejaVuSansMono-20\"/><use x=\"361.230469\" xlink:href=\"#DejaVuSansMono-58\"/><use x=\"421.435547\" xlink:href=\"#DejaVuSansMono-30\"/><use x=\"481.640625\" xlink:href=\"#DejaVuSansMono-2c\"/><use x=\"541.845703\" xlink:href=\"#DejaVuSansMono-20\"/><use x=\"602.050781\" xlink:href=\"#DejaVuSansMono-59\"/><use x=\"662.255859\" xlink:href=\"#DejaVuSansMono-30\"/></g><g transform=\"translate(73.015 107.84) scale(.1 -.1)\" fill=\"#545759\"><use xlink:href=\"#DejaVuSansMono-49\"/><use x=\"60.205078\" xlink:href=\"#DejaVuSansMono-31\"/><use x=\"120.410156\" xlink:href=\"#DejaVuSansMono-2c\"/><use x=\"180.615234\" xlink:href=\"#DejaVuSansMono-30\"/><use x=\"240.820312\" xlink:href=\"#DejaVuSansMono-2c\"/><use x=\"301.025391\" xlink:href=\"#DejaVuSansMono-20\"/><use x=\"361.230469\" xlink:href=\"#DejaVuSansMono-58\"/><use x=\"421.435547\" xlink:href=\"#DejaVuSansMono-31\"/><use x=\"481.640625\" xlink:href=\"#DejaVuSansMono-2c\"/><use x=\"541.845703\" xlink:href=\"#DejaVuSansMono-20\"/><use x=\"602.050781\" xlink:href=\"#DejaVuSansMono-59\"/><use x=\"662.255859\" xlink:href=\"#DejaVuSansMono-31\"/></g><g transform=\"translate(211.17 106.9) scale(.1 -.1)\" fill=\"#545759\"><use xlink:href=\"#DejaVuSansMono-49\"/><use x=\"60.205078\" xlink:href=\"#DejaVuSansMono-31\"/><use x=\"120.410156\" xlink:href=\"#DejaVuSansMono-2c\"/><use x=\"180.615234\" xlink:href=\"#DejaVuSansMono-31\"/><use x=\"240.820312\" xlink:href=\"#DejaVuSansMono-2c\"/><use x=\"301.025391\" xlink:href=\"#DejaVuSansMono-20\"/><use x=\"361.230469\" xlink:href=\"#DejaVuSansMono-58\"/><use x=\"421.435547\" xlink:href=\"#DejaVuSansMono-31\"/><use x=\"481.640625\" xlink:href=\"#DejaVuSansMono-2c\"/><use x=\"541.845703\" xlink:href=\"#DejaVuSansMono-20\"/><use x=\"602.050781\" xlink:href=\"#DejaVuSansMono-59\"/><use x=\"662.255859\" xlink:href=\"#DejaVuSansMono-31\"/></g><path d=\"m352.01 204.63h62.102q2 0 2-2v-57.925q0-2-2-2h-62.102q-2 0-2 2v57.925q0 2 2 2z\" fill=\"none\" stroke=\"#999999\" stroke-opacity=\".2\"/><defs><path id=\"fd03d3dc738\" d=\"m0 5c1.326 0 2.5979-0.52683 3.5355-1.4645 0.93763-0.93764 1.4645-2.2095 1.4645-3.5355s-0.52683-2.5979-1.4645-3.5355c-0.93764-0.93763-2.2095-1.4645-3.5355-1.4645s-2.5979 0.52683-3.5355 1.4645c-0.93763 0.93764-1.4645 2.2095-1.4645 3.5355s0.52683 2.5979 1.4645 3.5355c0.93764 0.93763 2.2095 1.4645 3.5355 1.4645z\" stroke=\"#4da2d2\"/></defs><use x=\"364.007985\" y=\"150.853824\" fill=\"#56b4e9\" stroke=\"#4da2d2\" xlink:href=\"#fd03d3dc738\"/><g transform=\"translate(382.01 154.35) scale(.1 -.1)\" fill=\"#545759\"><use xlink:href=\"#DejaVuSansMono-20\"/><use x=\"60.205078\" xlink:href=\"#DejaVuSansMono-49\"/><use x=\"120.410156\" xlink:href=\"#DejaVuSansMono-30\"/><use x=\"180.615234\" xlink:href=\"#DejaVuSansMono-2c\"/><use x=\"240.820312\" xlink:href=\"#DejaVuSansMono-30\"/></g><defs><path id=\"54ea2330158\" d=\"m0 5c1.326 0 2.5979-0.52683 3.5355-1.4645 0.93763-0.93764 1.4645-2.2095 1.4645-3.5355s-0.52683-2.5979-1.4645-3.5355c-0.93764-0.93763-2.2095-1.4645-3.5355-1.4645s-2.5979 0.52683-3.5355 1.4645c-0.93763 0.93764-1.4645 2.2095-1.4645 3.5355s0.52683 2.5979 1.4645 3.5355c0.93764 0.93763 2.2095 1.4645 3.5355 1.4645z\" stroke=\"#cf8f00\"/></defs><use x=\"364.007985\" y=\"165.585074\" fill=\"#e69f00\" stroke=\"#cf8f00\" xlink:href=\"#54ea2330158\"/><g transform=\"translate(382.01 169.09) scale(.1 -.1)\" fill=\"#545759\"><use xlink:href=\"#DejaVuSansMono-20\"/><use x=\"60.205078\" xlink:href=\"#DejaVuSansMono-49\"/><use x=\"120.410156\" xlink:href=\"#DejaVuSansMono-30\"/><use x=\"180.615234\" xlink:href=\"#DejaVuSansMono-2c\"/><use x=\"240.820312\" xlink:href=\"#DejaVuSansMono-31\"/></g><defs><path id=\"cef8fa68a4c\" d=\"m0 5c1.326 0 2.5979-0.52683 3.5355-1.4645 0.93763-0.93764 1.4645-2.2095 1.4645-3.5355s-0.52683-2.5979-1.4645-3.5355c-0.93764-0.93763-2.2095-1.4645-3.5355-1.4645s-2.5979 0.52683-3.5355 1.4645c-0.93763 0.93764-1.4645 2.2095-1.4645 3.5355s0.52683 2.5979 1.4645 3.5355c0.93764 0.93763 2.2095 1.4645 3.5355 1.4645z\" stroke=\"#008e68\"/></defs><use x=\"364.007985\" y=\"180.316324\" fill=\"#009e73\" stroke=\"#008e68\" xlink:href=\"#cef8fa68a4c\"/><g transform=\"translate(382.01 183.82) scale(.1 -.1)\" fill=\"#545759\"><use xlink:href=\"#DejaVuSansMono-20\"/><use x=\"60.205078\" xlink:href=\"#DejaVuSansMono-49\"/><use x=\"120.410156\" xlink:href=\"#DejaVuSansMono-31\"/><use x=\"180.615234\" xlink:href=\"#DejaVuSansMono-2c\"/><use x=\"240.820312\" xlink:href=\"#DejaVuSansMono-30\"/></g><defs><path id=\"8c0a6626033\" d=\"m0 5c1.326 0 2.5979-0.52683 3.5355-1.4645 0.93763-0.93764 1.4645-2.2095 1.4645-3.5355s-0.52683-2.5979-1.4645-3.5355c-0.93764-0.93763-2.2095-1.4645-3.5355-1.4645s-2.5979 0.52683-3.5355 1.4645c-0.93763 0.93764-1.4645 2.2095-1.4645 3.5355s0.52683 2.5979 1.4645 3.5355c0.93764 0.93763 2.2095 1.4645 3.5355 1.4645z\" stroke=\"#c05500\"/></defs><use x=\"364.007985\" y=\"195.047574\" fill=\"#d55e00\" stroke=\"#c05500\" xlink:href=\"#8c0a6626033\"/><g transform=\"translate(382.01 198.55) scale(.1 -.1)\" fill=\"#545759\"><use xlink:href=\"#DejaVuSansMono-20\"/><use x=\"60.205078\" xlink:href=\"#DejaVuSansMono-49\"/><use x=\"120.410156\" xlink:href=\"#DejaVuSansMono-31\"/><use x=\"180.615234\" xlink:href=\"#DejaVuSansMono-2c\"/><use x=\"240.820312\" xlink:href=\"#DejaVuSansMono-31\"/></g><defs><clipPath id=\"e921c0c8146\"><rect x=\"12.367\" y=\"7.3448\" width=\"332.64\" height=\"332.64\"/></clipPath></defs></svg>"
      ],
      "text/plain": [
       "<Figure size 600x600 with 1 Axes>"
      ]
     },
     "metadata": {
      "needs_background": "light"
     },
     "output_type": "display_data"
    }
   ],
   "source": [
    "tn.draw(color=['I0,0', 'I0,1', 'I1,0', 'I1,1'])"
   ]
  },
  {
   "cell_type": "markdown",
   "id": "7eb3e0ec-7dbe-4b1b-a850-36200421d487",
   "metadata": {
    "raw_mimetype": "text/restructuredtext"
   },
   "source": [
    "However it doesn't have any of the special {class}`~quimb.tensor.tensor_2d.PEPS`\n",
    "methods yet. Rather than retrieving raw arrays and calling `PEPS(arrays)`,\n",
    "we can use the following functions to directly instantiate a PEPS:\n",
    "\n",
    ":::{note}\n",
    "Note the following only work because **we have already correctly tagged and\n",
    "labelled the tensors**, thus 'promising' that the PEPS structure exists.\n",
    ":::\n",
    "\n",
    "### `from_TN`"
   ]
  },
  {
   "cell_type": "code",
   "execution_count": 37,
   "id": "34cff793-4372-4f6f-bbd0-b8bbd93cebd2",
   "metadata": {},
   "outputs": [
    {
     "data": {
      "text/plain": [
       "('_site_tag_id', '_x_tag_id', '_y_tag_id', '_Lx', '_Ly', '_site_ind_id')"
      ]
     },
     "execution_count": 37,
     "metadata": {},
     "output_type": "execute_result"
    }
   ],
   "source": [
    "# we need to tell the constructor what values we are using for the following:\n",
    "qtn.PEPS._EXTRA_PROPS"
   ]
  },
  {
   "cell_type": "code",
   "execution_count": 38,
   "id": "fea30788-59b7-4197-840c-ebd6b6d4dc23",
   "metadata": {},
   "outputs": [
    {
     "data": {
      "text/html": [
       "<samp style='font-size: 12px;'><details><summary><b style=\"color: #cde19a;\">PEPS</b>(tensors=4, indices=8, Lx=2, Ly=2, max_bond=4)</summary><samp style='font-size: 12px;'><details><summary><b style=\"color: #e55471;\">Tensor</b>(shape=(<b style=\"color: #828fdd;\">2</b>, <b style=\"color: #80d749;\">4</b>, <b style=\"color: #80d749;\">4</b>), inds=[<b style=\"color: #5fce5e;\">k0,0</b>, <b style=\"color: #3cd577;\">00-01</b>, <b style=\"color: #c1ce64;\">00-10</b>], tags={<b style=\"color: #8b77de;\">I0,0</b>, <b style=\"color: #d44388;\">X0</b>, <b style=\"color: #b1d42e;\">Y0</b>}),</summary>backend=<b style=\"color: #7fdd73;\">numpy</b>, dtype=<b style=\"color: #75d2c6;\">float64</b>, data=array([[[-1.10079799,  0.0596712 ,  0.11051359,  0.14294902],\n",
       "        [ 0.48908166,  0.42848178, -0.75141165, -0.44749067],\n",
       "        [ 0.86966155,  0.31911253,  1.68113226,  2.62923484],\n",
       "        [ 1.26233162, -0.24575065,  0.50711996, -0.3204049 ]],\n",
       "\n",
       "       [[ 1.67505259,  0.35965073,  1.97026062, -1.42291639],\n",
       "        [ 0.05697117,  0.63406443,  0.4456802 ,  0.74561541],\n",
       "        [ 1.86274148, -0.98858507,  0.35782756, -0.10051891],\n",
       "        [-0.11145768, -1.30228361, -0.93935626, -1.40401747]]])</details></samp><samp style='font-size: 12px;'><details><summary><b style=\"color: #e55471;\">Tensor</b>(shape=(<b style=\"color: #828fdd;\">2</b>, <b style=\"color: #80d749;\">4</b>, <b style=\"color: #80d749;\">4</b>), inds=[<b style=\"color: #de9a98;\">k0,1</b>, <b style=\"color: #3cd577;\">00-01</b>, <b style=\"color: #c4d491;\">01-11</b>], tags={<b style=\"color: #92d399;\">I0,1</b>, <b style=\"color: #d44388;\">X0</b>, <b style=\"color: #b1d42e;\">Y0</b>}),</summary>backend=<b style=\"color: #7fdd73;\">numpy</b>, dtype=<b style=\"color: #75d2c6;\">float64</b>, data=array([[[ 0.38860772, -0.23785043,  0.53180618,  1.00064276],\n",
       "        [ 1.81362309,  2.16673389, -1.128748  ,  0.24049856],\n",
       "        [ 0.02505905,  0.86045316,  0.02844933,  0.28908474],\n",
       "        [-0.35201407,  0.94671534, -1.69440475,  0.15656306]],\n",
       "\n",
       "       [[ 0.11541973,  0.14393308, -1.02624579, -0.18799492],\n",
       "        [ 1.50641591,  0.97460991, -0.75742392,  0.22991593],\n",
       "        [ 0.13252203, -0.92264156,  0.87362977,  1.13883566],\n",
       "        [-0.90282265, -1.60227634,  1.1316849 , -0.41218239]]])</details></samp><samp style='font-size: 12px;'><details><summary><b style=\"color: #e55471;\">Tensor</b>(shape=(<b style=\"color: #828fdd;\">2</b>, <b style=\"color: #80d749;\">4</b>, <b style=\"color: #80d749;\">4</b>), inds=[<b style=\"color: #84ce75;\">k1,0</b>, <b style=\"color: #c1ce64;\">00-10</b>, <b style=\"color: #72b9d3;\">10-11</b>], tags={<b style=\"color: #c28de0;\">I1,0</b>, <b style=\"color: #6fe251;\">X1</b>, <b style=\"color: #6c45d0;\">Y1</b>}),</summary>backend=<b style=\"color: #7fdd73;\">numpy</b>, dtype=<b style=\"color: #75d2c6;\">float64</b>, data=array([[[ 0.70519837,  0.6616975 ,  1.0114127 , -1.3656219 ],\n",
       "        [-0.02186246,  0.15600819, -3.09894756, -1.00428208],\n",
       "        [-0.23836214, -0.74322461, -1.58058123,  1.10484127],\n",
       "        [-1.84649077, -0.03061097, -0.22689998,  0.13139946]],\n",
       "\n",
       "       [[-1.41904566,  0.16417185, -1.35531029, -0.68284241],\n",
       "        [ 0.16804185,  1.2119743 , -1.04827067,  0.03572145],\n",
       "        [-0.3913261 , -0.33323323, -0.04251186,  0.69972619],\n",
       "        [ 0.03534986, -0.81910189,  0.78524742,  0.71433832]]])</details></samp><samp style='font-size: 12px;'><details><summary><b style=\"color: #e55471;\">Tensor</b>(shape=(<b style=\"color: #828fdd;\">2</b>, <b style=\"color: #80d749;\">4</b>, <b style=\"color: #80d749;\">4</b>), inds=[<b style=\"color: #d29586;\">k1,1</b>, <b style=\"color: #c4d491;\">01-11</b>, <b style=\"color: #72b9d3;\">10-11</b>], tags={<b style=\"color: #d67b97;\">I1,1</b>, <b style=\"color: #6fe251;\">X1</b>, <b style=\"color: #6c45d0;\">Y1</b>}),</summary>backend=<b style=\"color: #7fdd73;\">numpy</b>, dtype=<b style=\"color: #75d2c6;\">float64</b>, data=array([[[-0.33062103,  1.48883878,  1.74355326, -0.1238563 ],\n",
       "        [-1.4736216 , -0.8324853 , -0.86660347, -1.14581125],\n",
       "        [ 0.69396446, -0.25231889,  1.18294182,  0.37714141],\n",
       "        [ 1.54063522,  0.40692399, -1.41923073,  0.09172671]],\n",
       "\n",
       "       [[-0.89979094, -1.6911207 ,  0.15734748, -2.79835174],\n",
       "        [-0.07682657,  0.07359371,  0.39672031, -0.66140958],\n",
       "        [ 0.97479304, -1.40525561, -2.38343859,  0.89768701],\n",
       "        [-0.93541728, -1.48125354,  0.73259751, -0.84065252]]])</details></samp></details></samp>"
      ],
      "text/plain": [
       "PEPS(tensors=4, indices=8, Lx=2, Ly=2, max_bond=4)"
      ]
     },
     "execution_count": 38,
     "metadata": {},
     "output_type": "execute_result"
    }
   ],
   "source": [
    "peps = qtn.PEPS.from_TN(\n",
    "    tn,\n",
    "    Lx=2,\n",
    "    Ly=2,\n",
    "    site_tag_id='I{},{}',\n",
    "    site_ind_id='k{},{}',\n",
    "    x_tag_id='X{}',\n",
    "    y_tag_id='Y{}',\n",
    ")\n",
    "peps"
   ]
  },
  {
   "cell_type": "code",
   "execution_count": 39,
   "id": "642c7756-da20-41f0-a431-cedd9db968ae",
   "metadata": {},
   "outputs": [
    {
     "name": "stdout",
     "output_type": "stream",
     "text": [
      "    4   \n",
      " ●━━━━●\n",
      "╱┃4  ╱┃4  \n",
      " ┃  4 ┃ \n",
      " ●━━━━●\n",
      "╱    ╱    \n"
     ]
    }
   ],
   "source": [
    "peps.show()"
   ]
  },
  {
   "cell_type": "markdown",
   "id": "7999ce2d-313b-4236-be68-6aa19f1a8dc4",
   "metadata": {
    "raw_mimetype": "text/restructuredtext"
   },
   "source": [
    "### `TensorNetwork.view_as`\n",
    "\n",
    "We can also use the method version,\n",
    "[`TensorNetwork.view_as`](quimb.tensor.tensor_core.TensorNetwork.view_as),\n",
    "which enables an inplace option:"
   ]
  },
  {
   "cell_type": "code",
   "execution_count": 40,
   "id": "a4e72fee-e518-4db0-bb8e-f7918d284734",
   "metadata": {},
   "outputs": [
    {
     "data": {
      "text/html": [
       "<samp style='font-size: 12px;'><details><summary><b style=\"color: #493fd5;\">TensorNetwork2DFlat</b>(tensors=4, indices=8, Lx=2, Ly=2, max_bond=4)</summary><samp style='font-size: 12px;'><details><summary><b style=\"color: #e55471;\">Tensor</b>(shape=(<b style=\"color: #828fdd;\">2</b>, <b style=\"color: #80d749;\">4</b>, <b style=\"color: #80d749;\">4</b>), inds=[<b style=\"color: #5fce5e;\">k0,0</b>, <b style=\"color: #3cd577;\">00-01</b>, <b style=\"color: #c1ce64;\">00-10</b>], tags={<b style=\"color: #8b77de;\">I0,0</b>, <b style=\"color: #d44388;\">X0</b>, <b style=\"color: #b1d42e;\">Y0</b>}),</summary>backend=<b style=\"color: #7fdd73;\">numpy</b>, dtype=<b style=\"color: #75d2c6;\">float64</b>, data=array([[[-1.10079799,  0.0596712 ,  0.11051359,  0.14294902],\n",
       "        [ 0.48908166,  0.42848178, -0.75141165, -0.44749067],\n",
       "        [ 0.86966155,  0.31911253,  1.68113226,  2.62923484],\n",
       "        [ 1.26233162, -0.24575065,  0.50711996, -0.3204049 ]],\n",
       "\n",
       "       [[ 1.67505259,  0.35965073,  1.97026062, -1.42291639],\n",
       "        [ 0.05697117,  0.63406443,  0.4456802 ,  0.74561541],\n",
       "        [ 1.86274148, -0.98858507,  0.35782756, -0.10051891],\n",
       "        [-0.11145768, -1.30228361, -0.93935626, -1.40401747]]])</details></samp><samp style='font-size: 12px;'><details><summary><b style=\"color: #e55471;\">Tensor</b>(shape=(<b style=\"color: #828fdd;\">2</b>, <b style=\"color: #80d749;\">4</b>, <b style=\"color: #80d749;\">4</b>), inds=[<b style=\"color: #de9a98;\">k0,1</b>, <b style=\"color: #3cd577;\">00-01</b>, <b style=\"color: #c4d491;\">01-11</b>], tags={<b style=\"color: #92d399;\">I0,1</b>, <b style=\"color: #d44388;\">X0</b>, <b style=\"color: #b1d42e;\">Y0</b>}),</summary>backend=<b style=\"color: #7fdd73;\">numpy</b>, dtype=<b style=\"color: #75d2c6;\">float64</b>, data=array([[[ 0.38860772, -0.23785043,  0.53180618,  1.00064276],\n",
       "        [ 1.81362309,  2.16673389, -1.128748  ,  0.24049856],\n",
       "        [ 0.02505905,  0.86045316,  0.02844933,  0.28908474],\n",
       "        [-0.35201407,  0.94671534, -1.69440475,  0.15656306]],\n",
       "\n",
       "       [[ 0.11541973,  0.14393308, -1.02624579, -0.18799492],\n",
       "        [ 1.50641591,  0.97460991, -0.75742392,  0.22991593],\n",
       "        [ 0.13252203, -0.92264156,  0.87362977,  1.13883566],\n",
       "        [-0.90282265, -1.60227634,  1.1316849 , -0.41218239]]])</details></samp><samp style='font-size: 12px;'><details><summary><b style=\"color: #e55471;\">Tensor</b>(shape=(<b style=\"color: #828fdd;\">2</b>, <b style=\"color: #80d749;\">4</b>, <b style=\"color: #80d749;\">4</b>), inds=[<b style=\"color: #84ce75;\">k1,0</b>, <b style=\"color: #c1ce64;\">00-10</b>, <b style=\"color: #72b9d3;\">10-11</b>], tags={<b style=\"color: #c28de0;\">I1,0</b>, <b style=\"color: #6fe251;\">X1</b>, <b style=\"color: #6c45d0;\">Y1</b>}),</summary>backend=<b style=\"color: #7fdd73;\">numpy</b>, dtype=<b style=\"color: #75d2c6;\">float64</b>, data=array([[[ 0.70519837,  0.6616975 ,  1.0114127 , -1.3656219 ],\n",
       "        [-0.02186246,  0.15600819, -3.09894756, -1.00428208],\n",
       "        [-0.23836214, -0.74322461, -1.58058123,  1.10484127],\n",
       "        [-1.84649077, -0.03061097, -0.22689998,  0.13139946]],\n",
       "\n",
       "       [[-1.41904566,  0.16417185, -1.35531029, -0.68284241],\n",
       "        [ 0.16804185,  1.2119743 , -1.04827067,  0.03572145],\n",
       "        [-0.3913261 , -0.33323323, -0.04251186,  0.69972619],\n",
       "        [ 0.03534986, -0.81910189,  0.78524742,  0.71433832]]])</details></samp><samp style='font-size: 12px;'><details><summary><b style=\"color: #e55471;\">Tensor</b>(shape=(<b style=\"color: #828fdd;\">2</b>, <b style=\"color: #80d749;\">4</b>, <b style=\"color: #80d749;\">4</b>), inds=[<b style=\"color: #d29586;\">k1,1</b>, <b style=\"color: #c4d491;\">01-11</b>, <b style=\"color: #72b9d3;\">10-11</b>], tags={<b style=\"color: #d67b97;\">I1,1</b>, <b style=\"color: #6fe251;\">X1</b>, <b style=\"color: #6c45d0;\">Y1</b>}),</summary>backend=<b style=\"color: #7fdd73;\">numpy</b>, dtype=<b style=\"color: #75d2c6;\">float64</b>, data=array([[[-0.33062103,  1.48883878,  1.74355326, -0.1238563 ],\n",
       "        [-1.4736216 , -0.8324853 , -0.86660347, -1.14581125],\n",
       "        [ 0.69396446, -0.25231889,  1.18294182,  0.37714141],\n",
       "        [ 1.54063522,  0.40692399, -1.41923073,  0.09172671]],\n",
       "\n",
       "       [[-0.89979094, -1.6911207 ,  0.15734748, -2.79835174],\n",
       "        [-0.07682657,  0.07359371,  0.39672031, -0.66140958],\n",
       "        [ 0.97479304, -1.40525561, -2.38343859,  0.89768701],\n",
       "        [-0.93541728, -1.48125354,  0.73259751, -0.84065252]]])</details></samp></details></samp>"
      ],
      "text/plain": [
       "TensorNetwork2DFlat(tensors=4, indices=8, Lx=2, Ly=2, max_bond=4)"
      ]
     },
     "execution_count": 40,
     "metadata": {},
     "output_type": "execute_result"
    }
   ],
   "source": [
    "tn.view_as_(\n",
    "    qtn.tensor_2d.TensorNetwork2DFlat,\n",
    "    Lx=2,\n",
    "    Ly=2,\n",
    "    site_tag_id='I{},{}',\n",
    "    x_tag_id='X{}',\n",
    "    y_tag_id='Y{}',\n",
    ")"
   ]
  },
  {
   "cell_type": "code",
   "execution_count": 41,
   "id": "87e2b3b6-a72b-4f0b-9f11-5687e6a34d37",
   "metadata": {},
   "outputs": [
    {
     "name": "stdout",
     "output_type": "stream",
     "text": [
      "    4   \n",
      " ●━━━━●\n",
      " ┃4   ┃4  \n",
      " ┃  4 ┃ \n",
      " ●━━━━●\n",
      "          \n"
     ]
    }
   ],
   "source": [
    "# `tn` is now a 'FLat 2D TN'\n",
    "tn.show()"
   ]
  },
  {
   "cell_type": "markdown",
   "id": "7cfa75bb-74d5-4cf8-9810-ca97d151f7f3",
   "metadata": {
    "raw_mimetype": "text/restructuredtext"
   },
   "source": [
    "### `TensorNetwork.view_like`\n",
    "\n",
    "Finally, and often most conveniently, if you have an\n",
    "existing structured TN with extra attributes you want to match,\n",
    "you can call\n",
    "[`TensorNetwork.view_like`]quimb.tensor.tensor_core.TensorNetwork.view_like), which\n",
    "defaults to picking up all the necessary attributes from whatever\n",
    "you supply to the `like=` kwarg:"
   ]
  },
  {
   "cell_type": "code",
   "execution_count": 42,
   "id": "be506146-c380-434d-98c7-34f1198082b1",
   "metadata": {},
   "outputs": [
    {
     "data": {
      "text/html": [
       "<samp style='font-size: 12px;'><details><summary><b style=\"color: #cde19a;\">PEPS</b>(tensors=4, indices=8, Lx=2, Ly=2, max_bond=4)</summary><samp style='font-size: 12px;'><details><summary><b style=\"color: #e55471;\">Tensor</b>(shape=(<b style=\"color: #828fdd;\">2</b>, <b style=\"color: #80d749;\">4</b>, <b style=\"color: #80d749;\">4</b>), inds=[<b style=\"color: #5fce5e;\">k0,0</b>, <b style=\"color: #3cd577;\">00-01</b>, <b style=\"color: #c1ce64;\">00-10</b>], tags={<b style=\"color: #8b77de;\">I0,0</b>, <b style=\"color: #d44388;\">X0</b>, <b style=\"color: #b1d42e;\">Y0</b>}),</summary>backend=<b style=\"color: #7fdd73;\">numpy</b>, dtype=<b style=\"color: #75d2c6;\">float64</b>, data=array([[[-1.10079799,  0.0596712 ,  0.11051359,  0.14294902],\n",
       "        [ 0.48908166,  0.42848178, -0.75141165, -0.44749067],\n",
       "        [ 0.86966155,  0.31911253,  1.68113226,  2.62923484],\n",
       "        [ 1.26233162, -0.24575065,  0.50711996, -0.3204049 ]],\n",
       "\n",
       "       [[ 1.67505259,  0.35965073,  1.97026062, -1.42291639],\n",
       "        [ 0.05697117,  0.63406443,  0.4456802 ,  0.74561541],\n",
       "        [ 1.86274148, -0.98858507,  0.35782756, -0.10051891],\n",
       "        [-0.11145768, -1.30228361, -0.93935626, -1.40401747]]])</details></samp><samp style='font-size: 12px;'><details><summary><b style=\"color: #e55471;\">Tensor</b>(shape=(<b style=\"color: #828fdd;\">2</b>, <b style=\"color: #80d749;\">4</b>, <b style=\"color: #80d749;\">4</b>), inds=[<b style=\"color: #de9a98;\">k0,1</b>, <b style=\"color: #3cd577;\">00-01</b>, <b style=\"color: #c4d491;\">01-11</b>], tags={<b style=\"color: #92d399;\">I0,1</b>, <b style=\"color: #d44388;\">X0</b>, <b style=\"color: #b1d42e;\">Y0</b>}),</summary>backend=<b style=\"color: #7fdd73;\">numpy</b>, dtype=<b style=\"color: #75d2c6;\">float64</b>, data=array([[[ 0.38860772, -0.23785043,  0.53180618,  1.00064276],\n",
       "        [ 1.81362309,  2.16673389, -1.128748  ,  0.24049856],\n",
       "        [ 0.02505905,  0.86045316,  0.02844933,  0.28908474],\n",
       "        [-0.35201407,  0.94671534, -1.69440475,  0.15656306]],\n",
       "\n",
       "       [[ 0.11541973,  0.14393308, -1.02624579, -0.18799492],\n",
       "        [ 1.50641591,  0.97460991, -0.75742392,  0.22991593],\n",
       "        [ 0.13252203, -0.92264156,  0.87362977,  1.13883566],\n",
       "        [-0.90282265, -1.60227634,  1.1316849 , -0.41218239]]])</details></samp><samp style='font-size: 12px;'><details><summary><b style=\"color: #e55471;\">Tensor</b>(shape=(<b style=\"color: #828fdd;\">2</b>, <b style=\"color: #80d749;\">4</b>, <b style=\"color: #80d749;\">4</b>), inds=[<b style=\"color: #84ce75;\">k1,0</b>, <b style=\"color: #c1ce64;\">00-10</b>, <b style=\"color: #72b9d3;\">10-11</b>], tags={<b style=\"color: #c28de0;\">I1,0</b>, <b style=\"color: #6fe251;\">X1</b>, <b style=\"color: #6c45d0;\">Y1</b>}),</summary>backend=<b style=\"color: #7fdd73;\">numpy</b>, dtype=<b style=\"color: #75d2c6;\">float64</b>, data=array([[[ 0.70519837,  0.6616975 ,  1.0114127 , -1.3656219 ],\n",
       "        [-0.02186246,  0.15600819, -3.09894756, -1.00428208],\n",
       "        [-0.23836214, -0.74322461, -1.58058123,  1.10484127],\n",
       "        [-1.84649077, -0.03061097, -0.22689998,  0.13139946]],\n",
       "\n",
       "       [[-1.41904566,  0.16417185, -1.35531029, -0.68284241],\n",
       "        [ 0.16804185,  1.2119743 , -1.04827067,  0.03572145],\n",
       "        [-0.3913261 , -0.33323323, -0.04251186,  0.69972619],\n",
       "        [ 0.03534986, -0.81910189,  0.78524742,  0.71433832]]])</details></samp><samp style='font-size: 12px;'><details><summary><b style=\"color: #e55471;\">Tensor</b>(shape=(<b style=\"color: #828fdd;\">2</b>, <b style=\"color: #80d749;\">4</b>, <b style=\"color: #80d749;\">4</b>), inds=[<b style=\"color: #d29586;\">k1,1</b>, <b style=\"color: #c4d491;\">01-11</b>, <b style=\"color: #72b9d3;\">10-11</b>], tags={<b style=\"color: #d67b97;\">I1,1</b>, <b style=\"color: #6fe251;\">X1</b>, <b style=\"color: #6c45d0;\">Y1</b>}),</summary>backend=<b style=\"color: #7fdd73;\">numpy</b>, dtype=<b style=\"color: #75d2c6;\">float64</b>, data=array([[[-0.33062103,  1.48883878,  1.74355326, -0.1238563 ],\n",
       "        [-1.4736216 , -0.8324853 , -0.86660347, -1.14581125],\n",
       "        [ 0.69396446, -0.25231889,  1.18294182,  0.37714141],\n",
       "        [ 1.54063522,  0.40692399, -1.41923073,  0.09172671]],\n",
       "\n",
       "       [[-0.89979094, -1.6911207 ,  0.15734748, -2.79835174],\n",
       "        [-0.07682657,  0.07359371,  0.39672031, -0.66140958],\n",
       "        [ 0.97479304, -1.40525561, -2.38343859,  0.89768701],\n",
       "        [-0.93541728, -1.48125354,  0.73259751, -0.84065252]]])</details></samp></details></samp>"
      ],
      "text/plain": [
       "PEPS(tensors=4, indices=8, Lx=2, Ly=2, max_bond=4)"
      ]
     },
     "execution_count": 42,
     "metadata": {},
     "output_type": "execute_result"
    }
   ],
   "source": [
    "other_peps = qtn.PEPS.rand(Lx=2, Ly=2, bond_dim=5)\n",
    "\n",
    "tn.view_like_(other_peps)"
   ]
  },
  {
   "cell_type": "code",
   "execution_count": 43,
   "id": "e924a66d-6879-4ba8-aedf-a012522e40ab",
   "metadata": {},
   "outputs": [
    {
     "name": "stdout",
     "output_type": "stream",
     "text": [
      "    9   \n",
      " ●━━━━●\n",
      "╱┃9  ╱┃9  \n",
      " ┃  9 ┃ \n",
      " ●━━━━●\n",
      "╱    ╱    \n"
     ]
    }
   ],
   "source": [
    "# `tn` is now a PEPS with its special methods\n",
    "tn.expand_bond_dimension(9).show()"
   ]
  },
  {
   "cell_type": "markdown",
   "id": "d3e97e99-a0d2-4990-bd56-19e4fe2869e9",
   "metadata": {
    "raw_mimetype": "text/restructuredtext"
   },
   "source": [
    "This is useful if you perform modifications to a specific type of TN,\n",
    "such that it loses its structured identity, but then you want to recast\n",
    "it as original type, knowing that all the tags and indices are still correct.\n",
    "\n",
    "### Compatible Subclasses\n",
    "\n",
    "One final feature to note regarding specific tensor network\n",
    "subclasses is that when you combine certain TNs with the\n",
    "`&` or `|` operators, if they are both 'compatible' versions\n",
    "of an inherited structured TN, they keep that structure:"
   ]
  },
  {
   "cell_type": "code",
   "execution_count": 44,
   "id": "cf3067ae-c060-47b2-bac1-84289f8eea2b",
   "metadata": {},
   "outputs": [
    {
     "data": {
      "text/html": [
       "<samp style='font-size: 12px;'><details><summary><b style=\"color: #e259a5;\">TensorNetwork1D</b>(tensors=20, indices=28, L=10, max_bond=7)</summary><samp style='font-size: 12px;'><details><summary><b style=\"color: #e55471;\">Tensor</b>(shape=(<b style=\"color: #7930d2;\">7</b>, <b style=\"color: #828fdd;\">2</b>), inds=[<b style=\"color: #df8799;\">_5ea058AAADz</b>, <b style=\"color: #b1dc61;\">k0</b>], tags={<b style=\"color: #d2b137;\">I0</b>}),</summary>backend=<b style=\"color: #7fdd73;\">numpy</b>, dtype=<b style=\"color: #75d2c6;\">float64</b>, data=array([[ 0.10667958,  0.43460376],\n",
       "       [ 0.18356072,  0.43281806],\n",
       "       [-0.47654754, -0.56836425],\n",
       "       [ 0.15192568, -0.23423402],\n",
       "       [-0.01854748,  0.31846122],\n",
       "       [-0.72145024,  0.27601746],\n",
       "       [-0.04482127, -0.32750076]])</details></samp><samp style='font-size: 12px;'><details><summary><b style=\"color: #e55471;\">Tensor</b>(shape=(<b style=\"color: #7930d2;\">7</b>, <b style=\"color: #7930d2;\">7</b>, <b style=\"color: #828fdd;\">2</b>), inds=[<b style=\"color: #df8799;\">_5ea058AAADz</b>, <b style=\"color: #5637e3;\">_5ea058AAAEA</b>, <b style=\"color: #8aa5db;\">k1</b>], tags={<b style=\"color: #d19b78;\">I1</b>}),</summary>backend=<b style=\"color: #7fdd73;\">numpy</b>, dtype=<b style=\"color: #75d2c6;\">float64</b>, data=array([[[ 0.36463648,  0.30896422],\n",
       "        [ 0.11027168,  0.21970176],\n",
       "        [ 0.30721991,  0.15809952],\n",
       "        [-0.42111672,  0.05444968],\n",
       "        [ 0.65572221,  0.31595011],\n",
       "        [ 0.14696424, -0.22293619],\n",
       "        [-0.3376481 , -0.10456457]],\n",
       "\n",
       "       [[ 0.31075154,  0.28757696],\n",
       "        [ 0.15469386,  0.38839358],\n",
       "        [-0.08841303,  0.1111061 ],\n",
       "        [-0.26989522, -0.06952075],\n",
       "        [ 0.02361441,  0.10043134],\n",
       "        [ 0.52958256,  0.33113841],\n",
       "        [-0.3940553 ,  0.1510596 ]],\n",
       "\n",
       "       [[ 0.44370206,  0.41030918],\n",
       "        [ 0.1495414 , -0.44699449],\n",
       "        [-0.29230541, -0.09843075],\n",
       "        [ 0.68732758, -0.01888702],\n",
       "        [-0.22780574,  0.10113459],\n",
       "        [-0.09463108,  0.19805312],\n",
       "        [-0.18875575,  0.16284019]],\n",
       "\n",
       "       [[-0.25523676, -0.30228712],\n",
       "        [ 0.50935002, -0.20146142],\n",
       "        [-0.13966482, -0.45600358],\n",
       "        [ 0.08364221, -0.01145466],\n",
       "        [ 0.13890749, -0.20123609],\n",
       "        [ 0.21198093,  0.44293016],\n",
       "        [ 0.09268257,  0.43444058]],\n",
       "\n",
       "       [[ 0.28231305, -0.08302645],\n",
       "        [-0.0208292 ,  0.48394883],\n",
       "        [-0.09448289, -0.56449763],\n",
       "        [-0.23068247,  0.39692065],\n",
       "        [-0.12987429,  0.41848041],\n",
       "        [-0.27097851,  0.05013033],\n",
       "        [ 0.0061537 , -0.21103555]],\n",
       "\n",
       "       [[-0.08354841,  0.02570106],\n",
       "        [ 0.04664423,  0.05903268],\n",
       "        [-0.25907206,  0.54869689],\n",
       "        [ 0.36122059, -0.74456619],\n",
       "        [-0.49386319,  0.03206811],\n",
       "        [-0.24166144, -0.42894566],\n",
       "        [ 0.06146449,  0.28889836]],\n",
       "\n",
       "       [[ 0.2979051 ,  0.21847142],\n",
       "        [-0.32912169,  0.34359257],\n",
       "        [ 0.71212591,  0.25432835],\n",
       "        [ 0.27494262, -0.08021264],\n",
       "        [ 0.03841404,  0.37004461],\n",
       "        [-0.06217767,  0.08544313],\n",
       "        [-0.28950812,  0.69772085]]])</details></samp><samp style='font-size: 12px;'><details><summary><b style=\"color: #e55471;\">Tensor</b>(shape=(<b style=\"color: #7930d2;\">7</b>, <b style=\"color: #7930d2;\">7</b>, <b style=\"color: #828fdd;\">2</b>), inds=[<b style=\"color: #5637e3;\">_5ea058AAAEA</b>, <b style=\"color: #8ea1d5;\">_5ea058AAAEB</b>, <b style=\"color: #df546d;\">k2</b>], tags={<b style=\"color: #dd5dd7;\">I2</b>}),</summary>backend=<b style=\"color: #7fdd73;\">numpy</b>, dtype=<b style=\"color: #75d2c6;\">float64</b>, data=array([[[-0.0674622 ,  0.09531434],\n",
       "        [ 0.15364688,  0.15622314],\n",
       "        [-0.21357801, -0.41162665],\n",
       "        [ 0.6631182 , -0.28943395],\n",
       "        [ 0.26401233,  0.06741417],\n",
       "        [-0.0411162 , -0.0489503 ],\n",
       "        [ 0.02282935, -0.18976925]],\n",
       "\n",
       "       [[ 0.20116235,  0.65447471],\n",
       "        [ 0.32566958,  0.20191934],\n",
       "        [ 0.38621883,  0.09371959],\n",
       "        [ 0.19572957, -0.43756167],\n",
       "        [ 0.41129239, -0.22185977],\n",
       "        [-0.03347971,  0.30013001],\n",
       "        [-0.24000569,  0.52581296]],\n",
       "\n",
       "       [[ 0.42691706,  0.23970259],\n",
       "        [ 0.00223142, -0.97076676],\n",
       "        [ 0.45769233, -0.13484798],\n",
       "        [ 0.26981586, -0.13052823],\n",
       "        [ 0.59690455,  0.29096862],\n",
       "        [-0.14098378, -0.13961376],\n",
       "        [ 0.29224598,  0.26579672]],\n",
       "\n",
       "       [[ 0.14108392, -0.33582179],\n",
       "        [-0.39195789, -0.06199785],\n",
       "        [ 0.13640521, -0.06081178],\n",
       "        [ 0.03779749, -0.51120059],\n",
       "        [ 0.26986231, -0.08686723],\n",
       "        [-0.16874409,  0.27254808],\n",
       "        [ 0.08551108,  0.10663054]],\n",
       "\n",
       "       [[ 0.12609989, -0.29698382],\n",
       "        [ 0.27114845, -0.13791775],\n",
       "        [-0.42853545, -0.22433165],\n",
       "        [ 0.56818702, -0.19075512],\n",
       "        [ 0.74381924, -0.73046484],\n",
       "        [ 0.20199693,  0.26213131],\n",
       "        [-0.03560184,  0.29315886]],\n",
       "\n",
       "       [[ 0.00679922, -0.29847277],\n",
       "        [ 0.01639847,  0.04672636],\n",
       "        [ 0.3687735 , -0.10892058],\n",
       "        [-0.055516  , -0.02295742],\n",
       "        [-0.11262614,  0.2034438 ],\n",
       "        [ 0.20534674, -0.01656091],\n",
       "        [ 0.80461272,  0.37958948]],\n",
       "\n",
       "       [[-0.04886204,  0.02001407],\n",
       "        [ 0.19129469,  0.22252211],\n",
       "        [ 0.2164089 ,  0.10759276],\n",
       "        [ 0.5321792 ,  0.5016342 ],\n",
       "        [ 0.08243591, -0.23207251],\n",
       "        [ 0.21088515,  0.55510654],\n",
       "        [-0.25027732,  0.34689043]]])</details></samp><samp style='font-size: 12px;'><details><summary><b style=\"color: #e55471;\">Tensor</b>(shape=(<b style=\"color: #7930d2;\">7</b>, <b style=\"color: #7930d2;\">7</b>, <b style=\"color: #828fdd;\">2</b>), inds=[<b style=\"color: #8ea1d5;\">_5ea058AAAEB</b>, <b style=\"color: #da3fda;\">_5ea058AAAEC</b>, <b style=\"color: #4c7be1;\">k3</b>], tags={<b style=\"color: #dd65d9;\">I3</b>}),</summary>backend=<b style=\"color: #7fdd73;\">numpy</b>, dtype=<b style=\"color: #75d2c6;\">float64</b>, data=array([[[ 0.01877289, -0.46872294],\n",
       "        [-0.32273201, -0.52393566],\n",
       "        [ 0.14766874,  0.22990295],\n",
       "        [ 0.46738969, -0.2962717 ],\n",
       "        [-0.32613964, -0.09734032],\n",
       "        [ 0.09629676, -0.72959512],\n",
       "        [-0.50785321,  0.09920142]],\n",
       "\n",
       "       [[ 0.00571944, -0.02300505],\n",
       "        [ 0.11230096, -0.00875314],\n",
       "        [ 0.21619887,  0.23794723],\n",
       "        [-0.02395151,  0.06949099],\n",
       "        [-0.38053327, -0.35882451],\n",
       "        [-0.10114924,  0.19781418],\n",
       "        [-0.32650307,  0.50972773]],\n",
       "\n",
       "       [[-0.17568399, -0.24117432],\n",
       "        [-0.02346306,  0.30784853],\n",
       "        [ 0.28284282, -0.16375829],\n",
       "        [ 0.44676813, -0.11073052],\n",
       "        [-0.47283812, -0.43061851],\n",
       "        [-0.03967218, -0.02517368],\n",
       "        [ 0.35029486,  0.38697832]],\n",
       "\n",
       "       [[-0.31207125,  0.34888349],\n",
       "        [-0.06298621,  0.14020835],\n",
       "        [-0.53112243,  0.12062568],\n",
       "        [-0.24809299, -0.35613623],\n",
       "        [-0.67188807, -0.01809549],\n",
       "        [-0.47233916,  0.01759363],\n",
       "        [ 0.01025288, -0.00743861]],\n",
       "\n",
       "       [[-0.96222181,  0.44479526],\n",
       "        [-0.40429563,  0.41391342],\n",
       "        [-0.23238099,  0.84558789],\n",
       "        [ 0.2833067 ,  0.20216819],\n",
       "        [-0.57650274, -0.13932612],\n",
       "        [-0.09260767, -0.1607125 ],\n",
       "        [ 0.03761778,  0.30235942]],\n",
       "\n",
       "       [[-0.40370173,  0.10895752],\n",
       "        [ 0.11319523,  0.3211773 ],\n",
       "        [ 0.22661239, -0.23341429],\n",
       "        [ 0.60734721, -0.08282081],\n",
       "        [-0.07995627, -0.40095008],\n",
       "        [ 0.20150293, -0.04646896],\n",
       "        [-0.26213453, -0.24730749]],\n",
       "\n",
       "       [[ 0.01166313,  0.29810887],\n",
       "        [ 0.24602542,  0.23117637],\n",
       "        [ 0.39975465, -0.36875793],\n",
       "        [-0.03667836,  0.32735391],\n",
       "        [-0.06952987, -0.01338072],\n",
       "        [ 0.23284358, -0.03186916],\n",
       "        [ 0.09296511,  0.35095442]]])</details></samp><samp style='font-size: 12px;'><details><summary><b style=\"color: #e55471;\">Tensor</b>(shape=(<b style=\"color: #7930d2;\">7</b>, <b style=\"color: #7930d2;\">7</b>, <b style=\"color: #828fdd;\">2</b>), inds=[<b style=\"color: #da3fda;\">_5ea058AAAEC</b>, <b style=\"color: #d9d570;\">_5ea058AAAED</b>, <b style=\"color: #462edc;\">k4</b>], tags={<b style=\"color: #998ad1;\">I4</b>}),</summary>backend=<b style=\"color: #7fdd73;\">numpy</b>, dtype=<b style=\"color: #75d2c6;\">float64</b>, data=array([[[-4.37366253e-01, -9.58257257e-02],\n",
       "        [ 5.94729822e-03,  5.86142358e-01],\n",
       "        [-1.32582101e-01, -1.05507291e-01],\n",
       "        [ 4.06790712e-01,  5.06505157e-02],\n",
       "        [ 4.14753982e-01, -2.90224835e-01],\n",
       "        [-5.05053403e-01, -9.29292347e-02],\n",
       "        [ 3.10814503e-01, -5.22636538e-02]],\n",
       "\n",
       "       [[ 2.86446393e-01, -3.14892027e-01],\n",
       "        [-3.28840177e-02, -1.63118851e-01],\n",
       "        [ 3.02865561e-01,  2.62736053e-01],\n",
       "        [ 3.71641055e-01, -1.33745452e-01],\n",
       "        [ 1.51440502e-01, -4.28394966e-01],\n",
       "        [-7.49159663e-01,  1.27625388e-02],\n",
       "        [-2.55485760e-01, -1.20265476e-01]],\n",
       "\n",
       "       [[ 9.48451482e-02, -1.71938086e-01],\n",
       "        [ 4.53733950e-01, -4.03677015e-01],\n",
       "        [ 1.56149253e-01,  2.24257627e-01],\n",
       "        [ 6.04253433e-01,  1.49966817e-01],\n",
       "        [-1.73911953e-01,  3.34109428e-01],\n",
       "        [ 2.04143045e-01,  6.44356234e-01],\n",
       "        [ 2.51640379e-01,  6.95786954e-01]],\n",
       "\n",
       "       [[-2.59426186e-02,  1.81668832e-01],\n",
       "        [-6.90665156e-02,  8.12671695e-02],\n",
       "        [ 6.18857017e-04, -1.96899058e-01],\n",
       "        [-4.47952354e-02, -1.46856986e-01],\n",
       "        [-7.24173341e-01,  2.14029251e-01],\n",
       "        [-3.37541552e-02, -2.37108557e-02],\n",
       "        [ 2.80703333e-02, -5.51674220e-02]],\n",
       "\n",
       "       [[ 3.88436394e-01, -2.98399687e-01],\n",
       "        [-8.02585897e-01,  7.21096401e-02],\n",
       "        [ 1.64654421e-01, -8.05473521e-01],\n",
       "        [ 3.90798150e-01,  4.81143158e-01],\n",
       "        [-1.04691886e-01,  2.24809706e-02],\n",
       "        [ 7.68435437e-02,  5.50124520e-01],\n",
       "        [-2.31065940e-01, -9.36867669e-04]],\n",
       "\n",
       "       [[-4.72971863e-02,  2.63528032e-01],\n",
       "        [ 3.91571653e-01,  4.88336618e-01],\n",
       "        [ 5.75985494e-02, -1.61371278e-01],\n",
       "        [ 6.78926864e-01, -7.88697575e-02],\n",
       "        [ 7.19814058e-02, -2.47750798e-01],\n",
       "        [ 1.83073701e-01,  1.47386788e-01],\n",
       "        [-5.26582144e-01,  3.71396017e-01]],\n",
       "\n",
       "       [[ 2.50881906e-01,  2.18197787e-01],\n",
       "        [-6.01454192e-01,  7.24352750e-02],\n",
       "        [ 1.69706572e-01,  9.29186700e-03],\n",
       "        [-2.74899397e-01, -2.17504562e-01],\n",
       "        [ 2.36616703e-01,  4.00599110e-01],\n",
       "        [ 1.15157890e-01,  3.28059035e-01],\n",
       "        [ 4.64251333e-01, -4.86459666e-01]]])</details></samp><samp style='font-size: 12px;'><details><summary><b style=\"color: #e55471;\">Tensor</b>(shape=(<b style=\"color: #7930d2;\">7</b>, <b style=\"color: #7930d2;\">7</b>, <b style=\"color: #828fdd;\">2</b>), inds=[<b style=\"color: #d9d570;\">_5ea058AAAED</b>, <b style=\"color: #9ce17b;\">_5ea058AAAEE</b>, <b style=\"color: #85dfdf;\">k5</b>], tags={<b style=\"color: #97dddc;\">I5</b>}),</summary>backend=<b style=\"color: #7fdd73;\">numpy</b>, dtype=<b style=\"color: #75d2c6;\">float64</b>, data=array([[[-0.37319043, -0.24048094],\n",
       "        [ 0.26421341, -0.2955586 ],\n",
       "        [ 0.14359197, -0.24042257],\n",
       "        [-0.48558971, -0.15783224],\n",
       "        [ 0.48457079, -0.45503191],\n",
       "        [ 0.27530444,  0.37429223],\n",
       "        [-0.20017181, -0.47650099]],\n",
       "\n",
       "       [[ 0.26580465,  0.50552621],\n",
       "        [ 0.05109448,  0.28938821],\n",
       "        [ 0.05460396, -0.06116214],\n",
       "        [-0.04545442, -0.38893047],\n",
       "        [ 0.33268127,  0.63356642],\n",
       "        [-0.00518775, -0.1182908 ],\n",
       "        [-0.15145152,  0.38530031]],\n",
       "\n",
       "       [[-0.63662418,  0.22903477],\n",
       "        [-0.12927536,  0.18247706],\n",
       "        [ 0.1124482 ,  0.17705573],\n",
       "        [ 0.79587811,  0.15708001],\n",
       "        [ 0.30540201,  0.58779977],\n",
       "        [ 0.20052386,  0.34651597],\n",
       "        [-0.41739019,  0.40943056]],\n",
       "\n",
       "       [[-0.34403997, -0.12042728],\n",
       "        [ 0.30757856,  0.13171954],\n",
       "        [-0.01963703,  0.09991927],\n",
       "        [-0.44709559,  0.52676178],\n",
       "        [-0.13306523,  0.3764855 ],\n",
       "        [-0.21889239, -0.19986471],\n",
       "        [-0.13660681,  0.24563983]],\n",
       "\n",
       "       [[ 0.14774158,  0.04077004],\n",
       "        [ 0.42138934, -0.30846518],\n",
       "        [ 0.32909284,  0.09477495],\n",
       "        [ 0.09579384, -0.01579478],\n",
       "        [-0.16357703,  0.58785853],\n",
       "        [-0.2296893 , -0.27447461],\n",
       "        [-0.44506946, -0.04805672]],\n",
       "\n",
       "       [[-0.22614202, -0.06629081],\n",
       "        [ 0.1520737 , -0.30768033],\n",
       "        [-0.40959512, -0.21091417],\n",
       "        [ 0.03813645, -0.46538803],\n",
       "        [-0.06145405, -0.05055765],\n",
       "        [-0.10123858,  0.27761483],\n",
       "        [-0.17135357,  0.43209868]],\n",
       "\n",
       "       [[ 0.44679691, -0.50490497],\n",
       "        [ 0.11513539,  0.15390761],\n",
       "        [ 0.0393863 , -0.1639887 ],\n",
       "        [-0.14713693, -0.32184128],\n",
       "        [-0.25192071,  0.12723526],\n",
       "        [ 0.29058953, -0.16738317],\n",
       "        [-0.98102126, -0.04164749]]])</details></samp><samp style='font-size: 12px;'><details><summary><b style=\"color: #e55471;\">Tensor</b>(shape=(<b style=\"color: #7930d2;\">7</b>, <b style=\"color: #7930d2;\">7</b>, <b style=\"color: #828fdd;\">2</b>), inds=[<b style=\"color: #9ce17b;\">_5ea058AAAEE</b>, <b style=\"color: #38e48f;\">_5ea058AAAEF</b>, <b style=\"color: #2cb7d3;\">k6</b>], tags={<b style=\"color: #b2de5f;\">I6</b>}),</summary>backend=<b style=\"color: #7fdd73;\">numpy</b>, dtype=<b style=\"color: #75d2c6;\">float64</b>, data=array([[[ 0.33646236, -0.23158709],\n",
       "        [-0.0990975 , -0.01770377],\n",
       "        [ 0.08546441, -0.02207693],\n",
       "        [ 0.30466761,  0.1849371 ],\n",
       "        [-0.01761516, -0.10857565],\n",
       "        [ 0.31819795,  0.43944061],\n",
       "        [ 0.20171031, -0.23998167]],\n",
       "\n",
       "       [[ 0.00993387,  0.75810682],\n",
       "        [-0.54994766, -0.01721529],\n",
       "        [ 0.25201891,  0.12435247],\n",
       "        [ 0.21839765,  0.23557524],\n",
       "        [-0.22855849, -0.08689068],\n",
       "        [-0.00521593, -0.12853708],\n",
       "        [-0.25892937,  0.33326892]],\n",
       "\n",
       "       [[-0.30996272, -0.01771899],\n",
       "        [-0.39106169, -0.09125562],\n",
       "        [ 0.09152637,  0.01754536],\n",
       "        [-0.16667507,  0.30241393],\n",
       "        [ 0.3920397 ,  0.2828755 ],\n",
       "        [ 0.16605798, -0.24619574],\n",
       "        [-0.07172969,  0.31317368]],\n",
       "\n",
       "       [[ 0.39665261, -0.59550305],\n",
       "        [-0.25453357, -0.17268722],\n",
       "        [-0.05346267, -0.08504999],\n",
       "        [-0.02641703,  0.40507495],\n",
       "        [ 0.41651265,  0.02810667],\n",
       "        [-0.6307981 , -0.09185413],\n",
       "        [-0.19168373, -0.15503258]],\n",
       "\n",
       "       [[-0.56857567, -0.00905714],\n",
       "        [-0.0718782 , -0.21073597],\n",
       "        [-0.16097361,  0.12340444],\n",
       "        [ 0.7915139 ,  0.36682742],\n",
       "        [ 0.29904958, -0.05178732],\n",
       "        [-0.15951871,  0.24854104],\n",
       "        [-0.05548262, -0.4102568 ]],\n",
       "\n",
       "       [[ 0.14383098,  0.3309253 ],\n",
       "        [ 0.1629967 , -0.09343837],\n",
       "        [-0.58783769,  0.29034635],\n",
       "        [-0.10327785, -0.19325075],\n",
       "        [ 0.0157258 , -0.06917776],\n",
       "        [ 0.14086102,  0.46545015],\n",
       "        [ 0.59108785,  0.24374455]],\n",
       "\n",
       "       [[-0.40337958,  0.39045244],\n",
       "        [-0.12640999,  0.28484834],\n",
       "        [ 0.10607389, -0.05495159],\n",
       "        [-0.11195234, -0.24112136],\n",
       "        [-0.26000908,  0.58962589],\n",
       "        [ 0.44485924,  0.30720018],\n",
       "        [ 0.29958977, -0.28277345]]])</details></samp><samp style='font-size: 12px;'><details><summary><b style=\"color: #e55471;\">Tensor</b>(shape=(<b style=\"color: #7930d2;\">7</b>, <b style=\"color: #7930d2;\">7</b>, <b style=\"color: #828fdd;\">2</b>), inds=[<b style=\"color: #38e48f;\">_5ea058AAAEF</b>, <b style=\"color: #45d353;\">_5ea058AAAEG</b>, <b style=\"color: #53e08f;\">k7</b>], tags={<b style=\"color: #5582d6;\">I7</b>}),</summary>backend=<b style=\"color: #7fdd73;\">numpy</b>, dtype=<b style=\"color: #75d2c6;\">float64</b>, data=array([[[-0.65800368, -0.12871699],\n",
       "        [-0.2267694 , -0.40363445],\n",
       "        [-0.08374168,  0.13119852],\n",
       "        [-0.03592643, -0.55884454],\n",
       "        [ 0.44337707,  0.18501541],\n",
       "        [-0.23693387,  0.71610163],\n",
       "        [-0.31863494, -0.49842103]],\n",
       "\n",
       "       [[-0.4650215 , -0.0588458 ],\n",
       "        [-0.22587947, -0.53966384],\n",
       "        [ 0.28018098, -0.10022684],\n",
       "        [ 0.15699422, -0.13864303],\n",
       "        [ 0.05603301,  0.24891115],\n",
       "        [-0.39931207,  0.14955892],\n",
       "        [-0.72154545, -0.41683622]],\n",
       "\n",
       "       [[ 0.09052714, -0.01655503],\n",
       "        [-0.21155056,  0.11277397],\n",
       "        [ 0.12414092, -0.43916799],\n",
       "        [ 0.13666432,  0.23105145],\n",
       "        [-0.13002448, -0.10921213],\n",
       "        [-0.12279022,  0.39396002],\n",
       "        [ 0.27803708, -0.00229879]],\n",
       "\n",
       "       [[-0.34842423,  0.33007101],\n",
       "        [ 0.29752476,  0.15363679],\n",
       "        [ 0.57046213,  0.34905194],\n",
       "        [ 0.31231561,  0.0089798 ],\n",
       "        [-0.10953436, -0.84333714],\n",
       "        [ 0.04308136,  0.03969103],\n",
       "        [-0.1342694 ,  0.05800314]],\n",
       "\n",
       "       [[-0.1680112 ,  0.34590386],\n",
       "        [ 0.39473769,  0.27517079],\n",
       "        [-0.36191761, -0.03798922],\n",
       "        [-0.40307874, -0.06952252],\n",
       "        [ 0.2025674 , -0.20939284],\n",
       "        [ 0.2422281 , -0.01955989],\n",
       "        [ 0.03105964, -0.22304362]],\n",
       "\n",
       "       [[ 0.28067431,  0.33849262],\n",
       "        [ 0.35385787,  0.0497614 ],\n",
       "        [-0.20989213, -0.20203254],\n",
       "        [ 0.16103388,  0.00209478],\n",
       "        [ 0.08297031,  0.26294267],\n",
       "        [ 0.49397951, -0.24814357],\n",
       "        [-0.29752701, -0.40784807]],\n",
       "\n",
       "       [[ 0.15512403,  1.11251792],\n",
       "        [ 0.31413473,  0.08692281],\n",
       "        [-0.27255984, -0.14534735],\n",
       "        [-0.17142208, -0.28043824],\n",
       "        [ 0.09315027,  0.08817523],\n",
       "        [-0.58168943, -0.70566156],\n",
       "        [-0.19742525, -0.17252979]]])</details></samp><samp style='font-size: 12px;'><details><summary><b style=\"color: #e55471;\">Tensor</b>(shape=(<b style=\"color: #7930d2;\">7</b>, <b style=\"color: #7930d2;\">7</b>, <b style=\"color: #828fdd;\">2</b>), inds=[<b style=\"color: #45d353;\">_5ea058AAAEG</b>, <b style=\"color: #e3e286;\">_5ea058AAAEH</b>, <b style=\"color: #7bcd9f;\">k8</b>], tags={<b style=\"color: #8a3dd8;\">I8</b>}),</summary>backend=<b style=\"color: #7fdd73;\">numpy</b>, dtype=<b style=\"color: #75d2c6;\">float64</b>, data=array([[[ 0.40793018,  0.73757475],\n",
       "        [-0.01552022,  0.7196414 ],\n",
       "        [ 0.44014854,  0.07947017],\n",
       "        [ 0.2728351 , -0.51344033],\n",
       "        [ 0.36840917,  0.04201604],\n",
       "        [ 0.35868278,  0.27465024],\n",
       "        [-0.13424817, -0.06131688]],\n",
       "\n",
       "       [[-0.47464014, -0.03673834],\n",
       "        [ 0.10086346,  0.20311108],\n",
       "        [-0.37488543, -0.02355421],\n",
       "        [ 0.10076884,  0.37445736],\n",
       "        [-0.28314453,  0.13011809],\n",
       "        [ 0.44963574,  0.68127882],\n",
       "        [-0.33825994, -0.05233583]],\n",
       "\n",
       "       [[ 0.45425561, -0.12516105],\n",
       "        [ 0.25616401,  0.09762562],\n",
       "        [-0.48146508, -0.10824366],\n",
       "        [ 0.24154111,  0.22869483],\n",
       "        [-0.01044511, -0.35609876],\n",
       "        [ 0.57737104,  0.01781104],\n",
       "        [-0.25961963,  0.2295816 ]],\n",
       "\n",
       "       [[-0.50145923, -0.06361463],\n",
       "        [-0.2705376 , -0.24379656],\n",
       "        [ 0.07847862,  0.16573037],\n",
       "        [ 0.2647418 ,  0.25473303],\n",
       "        [-0.35044035, -0.52064109],\n",
       "        [ 0.40498533,  0.31632263],\n",
       "        [ 0.21653174,  0.35346459]],\n",
       "\n",
       "       [[-0.28976109,  0.03497829],\n",
       "        [-0.10360018, -0.00098986],\n",
       "        [-0.02633051, -0.14786901],\n",
       "        [-0.18282857,  0.0332661 ],\n",
       "        [-0.117132  , -0.63453923],\n",
       "        [ 0.0634816 , -0.18597299],\n",
       "        [-0.26441395, -0.26023838]],\n",
       "\n",
       "       [[ 0.50188394,  0.43775824],\n",
       "        [-0.1708556 ,  0.04291476],\n",
       "        [-0.02036392, -0.07761347],\n",
       "        [-0.2146938 , -0.21185677],\n",
       "        [-0.46667896,  0.35474908],\n",
       "        [ 0.36145081, -0.11671075],\n",
       "        [ 0.12656567, -0.13309296]],\n",
       "\n",
       "       [[ 0.06034238,  0.15806676],\n",
       "        [-0.06910878, -0.31254089],\n",
       "        [ 0.06831289,  0.05236893],\n",
       "        [ 0.50363766, -0.00090138],\n",
       "        [ 0.08649658, -0.26779918],\n",
       "        [-0.168796  ,  0.0617152 ],\n",
       "        [ 0.44480359, -0.02352649]]])</details></samp><samp style='font-size: 12px;'><details><summary><b style=\"color: #e55471;\">Tensor</b>(shape=(<b style=\"color: #7930d2;\">7</b>, <b style=\"color: #828fdd;\">2</b>), inds=[<b style=\"color: #e3e286;\">_5ea058AAAEH</b>, <b style=\"color: #cc70c1;\">k9</b>], tags={<b style=\"color: #d74979;\">I9</b>}),</summary>backend=<b style=\"color: #7fdd73;\">numpy</b>, dtype=<b style=\"color: #75d2c6;\">float64</b>, data=array([[ 0.00077166,  0.17227245],\n",
       "       [-0.13695738,  0.05373427],\n",
       "       [-0.05799634,  0.03574974],\n",
       "       [-0.14151641,  0.20650976],\n",
       "       [-0.05642301,  0.07264482],\n",
       "       [-0.08117216, -0.17874181],\n",
       "       [-0.20722386, -0.00054867]])</details></samp><samp style='font-size: 12px;'><details><summary><b style=\"color: #e55471;\">Tensor</b>(shape=(<b style=\"color: #7930d2;\">7</b>, <b style=\"color: #828fdd;\">2</b>), inds=[<b style=\"color: #6d31dd;\">_5ea058AAAER</b>, <b style=\"color: #b1dc61;\">k0</b>], tags={<b style=\"color: #d2b137;\">I0</b>}),</summary>backend=<b style=\"color: #7fdd73;\">numpy</b>, dtype=<b style=\"color: #75d2c6;\">float64</b>, data=array([[ 0.47395716, -0.5498284 ],\n",
       "       [-0.04183531, -0.08086085],\n",
       "       [-0.04009412, -0.24181029],\n",
       "       [-0.85635818,  0.19401176],\n",
       "       [ 0.37738836, -0.00809324],\n",
       "       [-0.17171806, -0.58638134],\n",
       "       [ 0.21554743, -0.088293  ]])</details></samp><samp style='font-size: 12px;'><details><summary><b style=\"color: #e55471;\">Tensor</b>(shape=(<b style=\"color: #7930d2;\">7</b>, <b style=\"color: #7930d2;\">7</b>, <b style=\"color: #828fdd;\">2</b>), inds=[<b style=\"color: #6d31dd;\">_5ea058AAAER</b>, <b style=\"color: #7764df;\">_5ea058AAAES</b>, <b style=\"color: #8aa5db;\">k1</b>], tags={<b style=\"color: #d19b78;\">I1</b>}),</summary>backend=<b style=\"color: #7fdd73;\">numpy</b>, dtype=<b style=\"color: #75d2c6;\">float64</b>, data=array([[[ 0.37936801, -0.33524963],\n",
       "        [-0.00340863, -0.0716447 ],\n",
       "        [-0.40136615, -0.23344966],\n",
       "        [-0.28717451, -0.43441655],\n",
       "        [-0.14551537, -0.47234646],\n",
       "        [ 0.06015349, -0.00376255],\n",
       "        [-0.17055977,  0.33431599]],\n",
       "\n",
       "       [[ 0.18749911,  0.44551025],\n",
       "        [-0.27165046, -0.26065426],\n",
       "        [-0.09622248, -0.02663148],\n",
       "        [-0.26903189,  0.2954287 ],\n",
       "        [-0.32594954, -0.03835274],\n",
       "        [-0.47602812,  0.31669006],\n",
       "        [ 0.1240176 , -0.24603839]],\n",
       "\n",
       "       [[-0.32539047, -0.20313063],\n",
       "        [-0.18039085, -0.23169417],\n",
       "        [ 0.64880353,  0.12534983],\n",
       "        [ 0.4086111 , -0.26397866],\n",
       "        [-0.14896794, -0.63225808],\n",
       "        [-0.22194728,  1.0425243 ],\n",
       "        [ 0.3497811 ,  0.05070243]],\n",
       "\n",
       "       [[-0.11564027,  0.6999554 ],\n",
       "        [ 0.11100782,  0.09015069],\n",
       "        [ 0.3424783 ,  0.11267941],\n",
       "        [-0.32007561, -0.67625251],\n",
       "        [-0.14753574, -0.68019184],\n",
       "        [ 0.5979037 ,  0.26525484],\n",
       "        [-0.18916273, -0.07389329]],\n",
       "\n",
       "       [[ 0.02814397,  0.15646152],\n",
       "        [-0.83556811,  0.19369412],\n",
       "        [ 0.0467395 ,  0.05109171],\n",
       "        [ 0.14227155,  0.26713256],\n",
       "        [-0.21474369, -0.12171365],\n",
       "        [ 0.11172592, -0.20680093],\n",
       "        [ 0.30195661, -0.31662739]],\n",
       "\n",
       "       [[ 0.08180827, -0.24563849],\n",
       "        [-0.29335326, -0.3103717 ],\n",
       "        [-0.1112403 , -0.11045994],\n",
       "        [ 0.10624333, -0.37794902],\n",
       "        [-0.43856719,  0.01241654],\n",
       "        [ 0.51704076,  0.2858201 ],\n",
       "        [ 0.77424708,  0.31145638]],\n",
       "\n",
       "       [[-0.24639427, -0.01445314],\n",
       "        [-0.04828148, -0.13911124],\n",
       "        [ 0.50270079,  0.16621341],\n",
       "        [-0.02136756, -0.12510867],\n",
       "        [ 0.17637523, -0.05745199],\n",
       "        [ 0.05684481, -0.25533401],\n",
       "        [-0.57380813, -0.1062739 ]]])</details></samp><samp style='font-size: 12px;'><details><summary><b style=\"color: #e55471;\">Tensor</b>(shape=(<b style=\"color: #7930d2;\">7</b>, <b style=\"color: #7930d2;\">7</b>, <b style=\"color: #828fdd;\">2</b>), inds=[<b style=\"color: #7764df;\">_5ea058AAAES</b>, <b style=\"color: #d5ca76;\">_5ea058AAAET</b>, <b style=\"color: #df546d;\">k2</b>], tags={<b style=\"color: #dd5dd7;\">I2</b>}),</summary>backend=<b style=\"color: #7fdd73;\">numpy</b>, dtype=<b style=\"color: #75d2c6;\">float64</b>, data=array([[[ 0.18617003, -0.20597041],\n",
       "        [-0.0406378 ,  0.41378189],\n",
       "        [ 0.12622731, -0.32095298],\n",
       "        [ 0.13739043,  0.11821688],\n",
       "        [-0.57861509,  0.10228486],\n",
       "        [ 0.21299202, -0.17573596],\n",
       "        [ 0.20379633,  0.14619856]],\n",
       "\n",
       "       [[ 0.25206414, -0.14748162],\n",
       "        [ 0.31547876, -0.31596766],\n",
       "        [-0.33494531, -0.61102241],\n",
       "        [ 0.33621982,  0.65216703],\n",
       "        [ 0.76699593,  0.19788671],\n",
       "        [ 0.39924671, -0.27471272],\n",
       "        [-0.19833743,  0.1583553 ]],\n",
       "\n",
       "       [[-0.19148593,  0.31003284],\n",
       "        [-0.31336887,  0.3961306 ],\n",
       "        [-0.14011545,  0.2264034 ],\n",
       "        [-0.44780403,  0.44858553],\n",
       "        [ 0.13063928, -0.12151794],\n",
       "        [-0.17714548,  0.48442646],\n",
       "        [ 0.28540035,  0.2926135 ]],\n",
       "\n",
       "       [[ 0.2075224 , -0.41541152],\n",
       "        [-0.28158466, -0.41812664],\n",
       "        [-0.15470568, -0.55597806],\n",
       "        [-0.21738657, -0.00121673],\n",
       "        [ 0.08745507, -0.65638892],\n",
       "        [ 0.33671299, -0.04528144],\n",
       "        [-0.47511456,  0.23474704]],\n",
       "\n",
       "       [[ 0.61249883,  0.25040958],\n",
       "        [-0.02364388, -0.13047417],\n",
       "        [-0.30103411, -0.68340891],\n",
       "        [ 0.25342073,  0.62377141],\n",
       "        [ 0.1443986 , -0.29887648],\n",
       "        [ 0.43886196,  0.33722572],\n",
       "        [ 0.34918237, -0.13933612]],\n",
       "\n",
       "       [[ 0.3287949 , -0.23236067],\n",
       "        [-0.42462116, -0.05373624],\n",
       "        [-0.36562411,  0.36594392],\n",
       "        [ 0.25887158,  0.04388555],\n",
       "        [-0.20741747, -0.25791231],\n",
       "        [-0.15105595, -0.21845654],\n",
       "        [-0.08856615, -0.16183803]],\n",
       "\n",
       "       [[ 0.03535534, -0.10461482],\n",
       "        [ 0.01657496,  0.27218973],\n",
       "        [-0.06205513, -0.51618432],\n",
       "        [-0.26280241, -0.25926144],\n",
       "        [ 0.1929324 , -0.22571108],\n",
       "        [-0.22882741, -0.26216967],\n",
       "        [ 0.34696286,  0.16661178]]])</details></samp><samp style='font-size: 12px;'><details><summary><b style=\"color: #e55471;\">Tensor</b>(shape=(<b style=\"color: #7930d2;\">7</b>, <b style=\"color: #7930d2;\">7</b>, <b style=\"color: #828fdd;\">2</b>), inds=[<b style=\"color: #d5ca76;\">_5ea058AAAET</b>, <b style=\"color: #96bad8;\">_5ea058AAAEU</b>, <b style=\"color: #4c7be1;\">k3</b>], tags={<b style=\"color: #dd65d9;\">I3</b>}),</summary>backend=<b style=\"color: #7fdd73;\">numpy</b>, dtype=<b style=\"color: #75d2c6;\">float64</b>, data=array([[[-0.61429138,  0.15948804],\n",
       "        [ 0.11135708,  0.1793775 ],\n",
       "        [ 0.02364871,  0.20209696],\n",
       "        [ 0.33468274, -0.17069658],\n",
       "        [ 0.22944445,  0.6038976 ],\n",
       "        [-0.17303623,  0.13690422],\n",
       "        [ 0.14040089, -0.15102526]],\n",
       "\n",
       "       [[-0.58961828, -0.15462562],\n",
       "        [ 0.1529977 ,  0.01058179],\n",
       "        [-0.21566089, -0.20922437],\n",
       "        [-0.30491512,  0.42069114],\n",
       "        [-0.30145244,  0.08673978],\n",
       "        [-0.02473495,  0.07622847],\n",
       "        [ 0.13491501,  0.21787682]],\n",
       "\n",
       "       [[-0.48947543, -0.18206527],\n",
       "        [-0.91481232,  0.42034758],\n",
       "        [-0.19826054, -0.13786642],\n",
       "        [ 0.11704214,  0.27013931],\n",
       "        [ 0.34059784, -0.20993431],\n",
       "        [-0.01852917, -0.20168444],\n",
       "        [-0.16445711, -0.13836657]],\n",
       "\n",
       "       [[-0.00167299,  0.20938732],\n",
       "        [ 0.45506169,  0.49781732],\n",
       "        [ 0.31355304, -0.45655236],\n",
       "        [ 0.31657332, -0.41331866],\n",
       "        [ 0.38170817,  0.58938958],\n",
       "        [-0.065245  , -0.22745516],\n",
       "        [ 0.12223286, -0.34800888]],\n",
       "\n",
       "       [[-0.36322088,  0.10435939],\n",
       "        [-0.03852791,  0.15730841],\n",
       "        [-0.37585379,  0.19827358],\n",
       "        [-0.22372705,  0.11302068],\n",
       "        [ 0.34064066,  0.38286242],\n",
       "        [ 0.04932938,  0.04347563],\n",
       "        [-0.23293536, -0.09850435]],\n",
       "\n",
       "       [[ 0.12204388, -0.17168604],\n",
       "        [ 0.02803196, -0.16610741],\n",
       "        [-0.73502209, -0.05792304],\n",
       "        [-0.22800673,  0.08277428],\n",
       "        [ 0.56930488,  0.17278178],\n",
       "        [ 0.22730077,  0.03863085],\n",
       "        [ 0.16645379,  0.55584833]],\n",
       "\n",
       "       [[ 0.27870564, -0.1417862 ],\n",
       "        [-0.0016648 , -0.30653317],\n",
       "        [-0.65416888, -0.18487159],\n",
       "        [-0.16745256,  0.41772158],\n",
       "        [-0.05795884, -0.47801255],\n",
       "        [ 0.24239019, -0.23091666],\n",
       "        [-0.36323672,  0.18109307]]])</details></samp><samp style='font-size: 12px;'><details><summary><b style=\"color: #e55471;\">Tensor</b>(shape=(<b style=\"color: #7930d2;\">7</b>, <b style=\"color: #7930d2;\">7</b>, <b style=\"color: #828fdd;\">2</b>), inds=[<b style=\"color: #96bad8;\">_5ea058AAAEU</b>, <b style=\"color: #6f46d2;\">_5ea058AAAEV</b>, <b style=\"color: #462edc;\">k4</b>], tags={<b style=\"color: #998ad1;\">I4</b>}),</summary>backend=<b style=\"color: #7fdd73;\">numpy</b>, dtype=<b style=\"color: #75d2c6;\">float64</b>, data=array([[[ 0.78731107,  0.21004647],\n",
       "        [ 0.52741506,  0.43994766],\n",
       "        [ 0.47708148,  0.01481966],\n",
       "        [ 0.30408889,  0.51773454],\n",
       "        [ 0.15537385,  0.30171181],\n",
       "        [-0.48200314, -0.41248418],\n",
       "        [ 0.65291394, -0.33286303]],\n",
       "\n",
       "       [[-0.11552407, -0.3085487 ],\n",
       "        [-0.47943249, -0.09614137],\n",
       "        [ 0.50069197,  0.22250983],\n",
       "        [-0.54797332, -0.18607586],\n",
       "        [ 0.38843852,  0.00265275],\n",
       "        [-0.11764076,  0.31642717],\n",
       "        [ 0.17207371, -0.85904319]],\n",
       "\n",
       "       [[ 0.19963637,  0.18677644],\n",
       "        [ 0.18561212, -0.1731359 ],\n",
       "        [ 0.46093437, -0.13234629],\n",
       "        [-0.00962448,  0.39038536],\n",
       "        [ 0.48169   , -0.09446604],\n",
       "        [-0.37886595,  0.27405837],\n",
       "        [-0.15396321,  0.10296841]],\n",
       "\n",
       "       [[ 0.29467235,  0.49771329],\n",
       "        [ 0.24879117,  0.79315666],\n",
       "        [ 0.0874336 ,  0.07108681],\n",
       "        [-0.15998795, -0.21133163],\n",
       "        [-0.21104931,  0.36667451],\n",
       "        [-0.36025673, -0.06683243],\n",
       "        [-0.09955251, -0.10086256]],\n",
       "\n",
       "       [[-0.14837517,  0.14994806],\n",
       "        [ 0.14236737, -0.06020421],\n",
       "        [ 0.25331839,  0.03563144],\n",
       "        [ 0.09036226, -0.40487843],\n",
       "        [-0.20131316,  0.01037212],\n",
       "        [-0.38364995,  0.3672459 ],\n",
       "        [ 0.18759547, -0.29545806]],\n",
       "\n",
       "       [[ 0.5049154 , -0.22958862],\n",
       "        [-0.1597303 , -0.0887779 ],\n",
       "        [ 0.28666437, -0.59732172],\n",
       "        [-0.11373574, -0.14742915],\n",
       "        [ 0.026962  ,  0.15264385],\n",
       "        [-0.30225079, -0.28475259],\n",
       "        [-0.09374053, -0.16452018]],\n",
       "\n",
       "       [[-0.46108207, -0.29431788],\n",
       "        [ 0.50594233, -0.11105374],\n",
       "        [-0.25389343, -0.08446522],\n",
       "        [ 0.08727862,  0.24602351],\n",
       "        [-0.06263019, -0.02132593],\n",
       "        [ 0.68480669, -0.03278971],\n",
       "        [ 0.1320918 ,  0.00572759]]])</details></samp><samp style='font-size: 12px;'><details><summary><b style=\"color: #e55471;\">Tensor</b>(shape=(<b style=\"color: #7930d2;\">7</b>, <b style=\"color: #7930d2;\">7</b>, <b style=\"color: #828fdd;\">2</b>), inds=[<b style=\"color: #6f46d2;\">_5ea058AAAEV</b>, <b style=\"color: #554bd3;\">_5ea058AAAEW</b>, <b style=\"color: #85dfdf;\">k5</b>], tags={<b style=\"color: #97dddc;\">I5</b>}),</summary>backend=<b style=\"color: #7fdd73;\">numpy</b>, dtype=<b style=\"color: #75d2c6;\">float64</b>, data=array([[[ 0.51364797, -0.05129313],\n",
       "        [ 0.70325937,  0.02386915],\n",
       "        [ 0.19114355,  0.23573459],\n",
       "        [-0.63226395, -0.62909883],\n",
       "        [-0.22932703,  0.09187213],\n",
       "        [-0.41967212, -0.02675523],\n",
       "        [-0.29576288, -0.2168272 ]],\n",
       "\n",
       "       [[-0.45869116, -0.01779355],\n",
       "        [-0.04927913,  0.01325764],\n",
       "        [-0.03131577,  0.49120286],\n",
       "        [ 0.19169085, -0.14233112],\n",
       "        [-0.34506342, -0.17719807],\n",
       "        [-0.41280227,  0.43697613],\n",
       "        [ 0.28949735, -0.48692094]],\n",
       "\n",
       "       [[ 0.35971934,  0.085507  ],\n",
       "        [-0.17927927,  0.16269724],\n",
       "        [ 0.26949982,  0.24089774],\n",
       "        [ 0.04723488, -0.39356784],\n",
       "        [ 0.18284115,  0.20338727],\n",
       "        [ 0.05865349, -0.60845679],\n",
       "        [ 0.23929981, -0.1059546 ]],\n",
       "\n",
       "       [[-0.35244058, -0.08371223],\n",
       "        [-0.00801144,  0.44759691],\n",
       "        [-0.59055561,  0.39347605],\n",
       "        [ 0.0668733 ,  0.22434765],\n",
       "        [-0.01507118, -0.3575622 ],\n",
       "        [ 0.1431948 ,  0.51901979],\n",
       "        [-0.44053523,  0.3831614 ]],\n",
       "\n",
       "       [[-0.30060194,  0.0931552 ],\n",
       "        [-0.14095805,  0.17144856],\n",
       "        [ 0.52046393, -0.21912552],\n",
       "        [-0.17362052, -0.8160126 ],\n",
       "        [-0.44542313,  0.59560646],\n",
       "        [ 0.18510886,  0.20923147],\n",
       "        [-0.31669808,  0.25502686]],\n",
       "\n",
       "       [[-0.18306577, -0.20746615],\n",
       "        [ 0.21120363,  0.36578189],\n",
       "        [ 0.26170018, -0.0115031 ],\n",
       "        [ 0.26300372, -0.55516702],\n",
       "        [-0.01230597, -0.04557538],\n",
       "        [-0.04333503,  0.22461592],\n",
       "        [-0.17056938, -0.31543471]],\n",
       "\n",
       "       [[ 0.22401276,  0.02752952],\n",
       "        [ 0.29523743,  0.38584941],\n",
       "        [ 0.35414564, -0.0815388 ],\n",
       "        [-0.03486628,  0.10008203],\n",
       "        [-0.60031227, -0.43144617],\n",
       "        [ 0.38524697, -0.09778537],\n",
       "        [ 0.18044684,  0.56252633]]])</details></samp><samp style='font-size: 12px;'><details><summary><b style=\"color: #e55471;\">Tensor</b>(shape=(<b style=\"color: #7930d2;\">7</b>, <b style=\"color: #7930d2;\">7</b>, <b style=\"color: #828fdd;\">2</b>), inds=[<b style=\"color: #554bd3;\">_5ea058AAAEW</b>, <b style=\"color: #393de0;\">_5ea058AAAEX</b>, <b style=\"color: #2cb7d3;\">k6</b>], tags={<b style=\"color: #b2de5f;\">I6</b>}),</summary>backend=<b style=\"color: #7fdd73;\">numpy</b>, dtype=<b style=\"color: #75d2c6;\">float64</b>, data=array([[[-0.08416254, -0.0579689 ],\n",
       "        [-0.26615288, -0.09438523],\n",
       "        [ 0.55961413, -0.12349958],\n",
       "        [-0.38895929, -0.01365775],\n",
       "        [-0.29974783,  0.50690448],\n",
       "        [-0.17886188, -0.14730136],\n",
       "        [-0.23385431, -0.026047  ]],\n",
       "\n",
       "       [[ 0.51090189,  0.35497452],\n",
       "        [ 0.18397158,  0.39974937],\n",
       "        [ 0.16056089,  0.20187852],\n",
       "        [-0.0386433 ,  0.42650666],\n",
       "        [-0.13475823, -0.27543706],\n",
       "        [ 0.15131959,  0.02987652],\n",
       "        [ 0.07220134, -0.56702063]],\n",
       "\n",
       "       [[-0.39611837,  0.24513859],\n",
       "        [-0.20262517,  0.56382248],\n",
       "        [-0.49713261, -0.10003621],\n",
       "        [-0.18759944, -0.04383945],\n",
       "        [-0.06965295,  0.28456265],\n",
       "        [ 0.27040769, -0.39774807],\n",
       "        [ 0.00507573, -0.23567965]],\n",
       "\n",
       "       [[ 0.00394807, -0.56985675],\n",
       "        [ 0.09711578, -0.05933225],\n",
       "        [-0.21970798, -0.04312317],\n",
       "        [ 0.2233734 ,  0.44252441],\n",
       "        [-0.08452594, -0.1732618 ],\n",
       "        [ 0.42290529, -0.12223644],\n",
       "        [ 0.32487263,  0.00483605]],\n",
       "\n",
       "       [[ 0.03777547, -0.08431554],\n",
       "        [ 0.03941421,  0.59094796],\n",
       "        [ 0.18934892, -0.36456678],\n",
       "        [ 0.15828623,  0.29132   ],\n",
       "        [ 0.50695886,  0.12483893],\n",
       "        [ 0.37394813,  0.0600786 ],\n",
       "        [-0.05031781, -0.07473872]],\n",
       "\n",
       "       [[ 0.44370141,  0.13628731],\n",
       "        [-0.15349218, -0.26250782],\n",
       "        [ 0.37029134,  0.41577255],\n",
       "        [ 0.0776724 , -0.06259455],\n",
       "        [-0.25977525, -0.49513776],\n",
       "        [ 0.00827536,  0.67746206],\n",
       "        [ 0.21727701, -0.24625169]],\n",
       "\n",
       "       [[ 0.16761199,  0.02220682],\n",
       "        [-0.09161784, -0.02836317],\n",
       "        [-0.66472973, -0.15587899],\n",
       "        [ 0.58247699,  0.2643906 ],\n",
       "        [-0.01236895,  0.21687767],\n",
       "        [-0.25117893,  0.24708616],\n",
       "        [ 0.71025628,  0.10578184]]])</details></samp><samp style='font-size: 12px;'><details><summary><b style=\"color: #e55471;\">Tensor</b>(shape=(<b style=\"color: #7930d2;\">7</b>, <b style=\"color: #7930d2;\">7</b>, <b style=\"color: #828fdd;\">2</b>), inds=[<b style=\"color: #393de0;\">_5ea058AAAEX</b>, <b style=\"color: #e0a463;\">_5ea058AAAEY</b>, <b style=\"color: #53e08f;\">k7</b>], tags={<b style=\"color: #5582d6;\">I7</b>}),</summary>backend=<b style=\"color: #7fdd73;\">numpy</b>, dtype=<b style=\"color: #75d2c6;\">float64</b>, data=array([[[-0.45844823,  0.19821437],\n",
       "        [-0.50070115,  0.17094377],\n",
       "        [-0.67319816, -0.07647333],\n",
       "        [ 0.03047687,  0.02406828],\n",
       "        [-0.62353805,  0.10828566],\n",
       "        [-0.09422612,  0.48445926],\n",
       "        [ 0.36529513,  0.40705443]],\n",
       "\n",
       "       [[-0.04076505, -0.03983574],\n",
       "        [ 0.37114129,  0.02757671],\n",
       "        [ 0.05976666, -0.01888297],\n",
       "        [ 0.16732854, -0.19853326],\n",
       "        [-0.37967514,  0.03365298],\n",
       "        [-0.49694625, -0.66504023],\n",
       "        [ 0.70764006,  0.17127784]],\n",
       "\n",
       "       [[ 0.16653726, -0.18978569],\n",
       "        [ 0.20946685,  0.03558293],\n",
       "        [-0.19452723, -0.10302914],\n",
       "        [-0.53704991,  0.24556788],\n",
       "        [ 0.30772713,  0.16027986],\n",
       "        [ 0.85879266,  0.19407688],\n",
       "        [-0.53258289,  0.05346453]],\n",
       "\n",
       "       [[ 0.40837715, -0.29533384],\n",
       "        [-0.47594543,  0.21333849],\n",
       "        [-0.1050386 , -0.05675576],\n",
       "        [ 0.22193326, -0.41177346],\n",
       "        [-0.17850445,  0.23798179],\n",
       "        [-0.36880912, -0.0121511 ],\n",
       "        [-0.12499594, -0.11726721]],\n",
       "\n",
       "       [[-0.02470055, -0.05922319],\n",
       "        [-0.05955615, -0.12797192],\n",
       "        [-0.15261432,  0.35397322],\n",
       "        [ 0.16668137,  0.07480621],\n",
       "        [-0.00882383, -0.02154783],\n",
       "        [-0.34210173, -0.16146632],\n",
       "        [-0.4732369 , -0.66080432]],\n",
       "\n",
       "       [[-0.13566065, -0.04801924],\n",
       "        [-0.26504744,  0.30688566],\n",
       "        [ 0.0988583 ,  0.1705232 ],\n",
       "        [ 0.10661639,  0.47083813],\n",
       "        [ 0.11864655,  0.04496947],\n",
       "        [ 0.26307149, -0.69095818],\n",
       "        [-0.47671824,  0.04503324]],\n",
       "\n",
       "       [[-0.25374946,  0.19250075],\n",
       "        [ 0.47149054,  0.21589819],\n",
       "        [-0.36058823,  0.22073824],\n",
       "        [ 0.2440586 , -0.18564929],\n",
       "        [ 0.14559286,  0.10587352],\n",
       "        [-0.06487019,  0.15311495],\n",
       "        [-0.21291694, -0.45274407]]])</details></samp><samp style='font-size: 12px;'><details><summary><b style=\"color: #e55471;\">Tensor</b>(shape=(<b style=\"color: #7930d2;\">7</b>, <b style=\"color: #7930d2;\">7</b>, <b style=\"color: #828fdd;\">2</b>), inds=[<b style=\"color: #e0a463;\">_5ea058AAAEY</b>, <b style=\"color: #46c5d3;\">_5ea058AAAEZ</b>, <b style=\"color: #7bcd9f;\">k8</b>], tags={<b style=\"color: #8a3dd8;\">I8</b>}),</summary>backend=<b style=\"color: #7fdd73;\">numpy</b>, dtype=<b style=\"color: #75d2c6;\">float64</b>, data=array([[[ 0.24456271, -0.12176326],\n",
       "        [-0.40440777, -0.3713822 ],\n",
       "        [-0.09944227, -0.01234654],\n",
       "        [-0.75625724,  0.51645599],\n",
       "        [ 0.18954741, -0.35448119],\n",
       "        [ 0.33923677, -0.31658588],\n",
       "        [-0.62842783, -0.03817052]],\n",
       "\n",
       "       [[-0.37128572,  0.12138385],\n",
       "        [ 0.22812109,  0.64689099],\n",
       "        [ 0.22224472, -0.17281071],\n",
       "        [ 0.35256084, -0.36033104],\n",
       "        [-0.02964014, -0.11188638],\n",
       "        [ 0.42826982, -0.39809753],\n",
       "        [ 0.16748572, -0.15635467]],\n",
       "\n",
       "       [[ 0.31508692,  0.05269544],\n",
       "        [-0.05012618, -0.33509913],\n",
       "        [ 0.02628795,  0.27904   ],\n",
       "        [ 0.55128451, -0.49773928],\n",
       "        [-0.28395441,  0.16990847],\n",
       "        [-0.00684591, -0.18512134],\n",
       "        [-0.1172634 , -0.05983457]],\n",
       "\n",
       "       [[ 0.1411343 , -0.69501957],\n",
       "        [ 0.04219888,  0.06855935],\n",
       "        [-0.41487571,  0.06884335],\n",
       "        [ 0.40358933, -0.49723671],\n",
       "        [ 0.11392077, -0.45377457],\n",
       "        [-0.30389272, -0.0832783 ],\n",
       "        [-0.30842307,  0.00122607]],\n",
       "\n",
       "       [[-0.04746192, -0.12647542],\n",
       "        [-0.3377732 , -0.00438588],\n",
       "        [-0.02402572,  0.3029833 ],\n",
       "        [ 0.13637175, -0.23409117],\n",
       "        [ 0.36040963,  0.59882607],\n",
       "        [ 0.14990102, -0.03343051],\n",
       "        [ 0.10663151,  0.37216732]],\n",
       "\n",
       "       [[ 0.14140998,  0.20763977],\n",
       "        [ 0.23547196, -0.27723627],\n",
       "        [-0.21712285, -0.40360787],\n",
       "        [-0.05885538, -0.05081516],\n",
       "        [-0.00518586,  0.18117953],\n",
       "        [-0.54896781,  0.34085905],\n",
       "        [ 0.23078799,  0.24785405]],\n",
       "\n",
       "       [[-0.43450751, -0.01882217],\n",
       "        [ 0.40313653, -0.11985614],\n",
       "        [-0.13927992, -0.21346225],\n",
       "        [ 0.17328442,  0.44976657],\n",
       "        [ 0.46067941, -0.2740861 ],\n",
       "        [ 0.21052843, -0.09491916],\n",
       "        [-0.35267016, -0.15636201]]])</details></samp><samp style='font-size: 12px;'><details><summary><b style=\"color: #e55471;\">Tensor</b>(shape=(<b style=\"color: #7930d2;\">7</b>, <b style=\"color: #828fdd;\">2</b>), inds=[<b style=\"color: #46c5d3;\">_5ea058AAAEZ</b>, <b style=\"color: #cc70c1;\">k9</b>], tags={<b style=\"color: #d74979;\">I9</b>}),</summary>backend=<b style=\"color: #7fdd73;\">numpy</b>, dtype=<b style=\"color: #75d2c6;\">float64</b>, data=array([[ 0.16846815,  0.11286849],\n",
       "       [ 0.1167139 ,  0.02678773],\n",
       "       [-0.17737708, -0.06013245],\n",
       "       [ 0.22978633,  0.09973961],\n",
       "       [-0.11355793,  0.14300286],\n",
       "       [ 0.20092254, -0.30521252],\n",
       "       [ 0.01617367, -0.04109249]])</details></samp></details></samp>"
      ],
      "text/plain": [
       "TensorNetwork1D(tensors=20, indices=28, L=10, max_bond=7)"
      ]
     },
     "execution_count": 44,
     "metadata": {},
     "output_type": "execute_result"
    }
   ],
   "source": [
    "# so if we combine two MPS, which are both TensorNetwork1D\n",
    "mps_a = qtn.MPS_rand_state(10, 7)\n",
    "mps_b = qtn.MPS_rand_state(10, 7)\n",
    "\n",
    "# we get a TensorNetwork1D\n",
    "mps_a | mps_b"
   ]
  },
  {
   "cell_type": "code",
   "execution_count": 45,
   "id": "6ccfd39a-127d-4a2d-baf3-12abfb77660e",
   "metadata": {},
   "outputs": [
    {
     "data": {
      "text/html": [
       "<samp style='font-size: 12px;'><details><summary><b style=\"color: #dfe24e;\">TensorNetwork2D</b>(tensors=200, indices=460, Lx=10, Ly=10, max_bond=7)</summary><samp style='font-size: 12px;'><details><summary><b style=\"color: #e55471;\">Tensor</b>(shape=(<b style=\"color: #7930d2;\">7</b>, <b style=\"color: #7930d2;\">7</b>, <b style=\"color: #828fdd;\">2</b>), inds=[<b style=\"color: #d83a2c;\">_5ea058AAAEj</b>, <b style=\"color: #b9e358;\">_5ea058AAAEk</b>, <b style=\"color: #5fce5e;\">k0,0</b>], tags={<b style=\"color: #8b77de;\">I0,0</b>, <b style=\"color: #d44388;\">X0</b>, <b style=\"color: #b1d42e;\">Y0</b>}),</summary>backend=<b style=\"color: #7fdd73;\">numpy</b>, dtype=<b style=\"color: #75d2c6;\">float64</b>, data=array([[[-0.18945712,  0.04733577],\n",
       "        [ 0.11395101,  0.25020231],\n",
       "        [-0.27039268,  0.33628383],\n",
       "        [ 0.22535564, -0.18309576],\n",
       "        [-0.00395838,  0.01527437],\n",
       "        [-0.10016121, -0.18655138],\n",
       "        [-0.0214583 , -0.27461605]],\n",
       "\n",
       "       [[ 0.0644115 , -0.271691  ],\n",
       "        [ 0.1673902 ,  0.01083355],\n",
       "        [ 0.15142456, -0.00455654],\n",
       "        [-0.04770221,  0.03159731],\n",
       "        [ 0.00251603, -0.34378662],\n",
       "        [-0.24126223, -0.00207497],\n",
       "        [-0.04420883, -0.13983361]],\n",
       "\n",
       "       [[ 0.50898858,  0.08123947],\n",
       "        [ 0.0193988 , -0.01183026],\n",
       "        [ 0.0199097 , -0.18194533],\n",
       "        [-0.16061977, -0.08799774],\n",
       "        [ 0.14128153,  0.1963858 ],\n",
       "        [-0.16963567, -0.0523913 ],\n",
       "        [-0.1930432 , -0.37175708]],\n",
       "\n",
       "       [[ 0.08123199, -0.19606467],\n",
       "        [-0.12662249,  0.17052092],\n",
       "        [ 0.15104046,  0.07922823],\n",
       "        [-0.0964309 , -0.09962798],\n",
       "        [ 0.04545444,  0.04060369],\n",
       "        [ 0.14834529,  0.02477108],\n",
       "        [ 0.23559065,  0.23742286]],\n",
       "\n",
       "       [[ 0.04460572, -0.01688814],\n",
       "        [-0.06462653, -0.10666646],\n",
       "        [ 0.1485165 ,  0.06126698],\n",
       "        [ 0.24760386,  0.26277296],\n",
       "        [ 0.43826333,  0.30841239],\n",
       "        [ 0.00659603,  0.08740246],\n",
       "        [-0.05959811,  0.23595577]],\n",
       "\n",
       "       [[ 0.01975747, -0.07942149],\n",
       "        [ 0.01864525,  0.33346222],\n",
       "        [ 0.00312937,  0.40834082],\n",
       "        [-0.00192261, -0.35181204],\n",
       "        [ 0.24373095,  0.24885491],\n",
       "        [-0.07843895,  0.15079061],\n",
       "        [ 0.14989711,  0.03337135]],\n",
       "\n",
       "       [[ 0.22640118,  0.03562621],\n",
       "        [ 0.10399615, -0.08323904],\n",
       "        [ 0.25796734, -0.02694456],\n",
       "        [ 0.04500069, -0.13867799],\n",
       "        [-0.14243468,  0.11007008],\n",
       "        [ 0.11964526,  0.1383061 ],\n",
       "        [ 0.11297899, -0.16352407]]])</details></samp><samp style='font-size: 12px;'><details><summary><b style=\"color: #e55471;\">Tensor</b>(shape=(<b style=\"color: #7930d2;\">7</b>, <b style=\"color: #7930d2;\">7</b>, <b style=\"color: #7930d2;\">7</b>, <b style=\"color: #828fdd;\">2</b>), inds=[<b style=\"color: #d5663e;\">_5ea058AAAEl</b>, <b style=\"color: #6040da;\">_5ea058AAAEm</b>, <b style=\"color: #b9e358;\">_5ea058AAAEk</b>, <b style=\"color: #de9a98;\">k0,1</b>], tags={<b style=\"color: #92d399;\">I0,1</b>, <b style=\"color: #d44388;\">X0</b>, <b style=\"color: #6c45d0;\">Y1</b>}),</summary>backend=<b style=\"color: #7fdd73;\">numpy</b>, dtype=<b style=\"color: #75d2c6;\">float64</b>, data=...</details></samp><samp style='font-size: 12px;'><details><summary><b style=\"color: #e55471;\">Tensor</b>(shape=(<b style=\"color: #7930d2;\">7</b>, <b style=\"color: #7930d2;\">7</b>, <b style=\"color: #7930d2;\">7</b>, <b style=\"color: #828fdd;\">2</b>), inds=[<b style=\"color: #7fc7db;\">_5ea058AAAEn</b>, <b style=\"color: #57e49d;\">_5ea058AAAEo</b>, <b style=\"color: #6040da;\">_5ea058AAAEm</b>, <b style=\"color: #50d0ac;\">k0,2</b>], tags={<b style=\"color: #73d85d;\">I0,2</b>, <b style=\"color: #d44388;\">X0</b>, <b style=\"color: #3fdd7b;\">Y2</b>}),</summary>backend=<b style=\"color: #7fdd73;\">numpy</b>, dtype=<b style=\"color: #75d2c6;\">float64</b>, data=...</details></samp><samp style='font-size: 12px;'><details><summary><b style=\"color: #e55471;\">Tensor</b>(shape=(<b style=\"color: #7930d2;\">7</b>, <b style=\"color: #7930d2;\">7</b>, <b style=\"color: #7930d2;\">7</b>, <b style=\"color: #828fdd;\">2</b>), inds=[<b style=\"color: #b3e092;\">_5ea058AAAEp</b>, <b style=\"color: #dc8062;\">_5ea058AAAEq</b>, <b style=\"color: #57e49d;\">_5ea058AAAEo</b>, <b style=\"color: #69d040;\">k0,3</b>], tags={<b style=\"color: #deb79b;\">I0,3</b>, <b style=\"color: #d44388;\">X0</b>, <b style=\"color: #63d5a7;\">Y3</b>}),</summary>backend=<b style=\"color: #7fdd73;\">numpy</b>, dtype=<b style=\"color: #75d2c6;\">float64</b>, data=...</details></samp><samp style='font-size: 12px;'><details><summary><b style=\"color: #e55471;\">Tensor</b>(shape=(<b style=\"color: #7930d2;\">7</b>, <b style=\"color: #7930d2;\">7</b>, <b style=\"color: #7930d2;\">7</b>, <b style=\"color: #828fdd;\">2</b>), inds=[<b style=\"color: #badc91;\">_5ea058AAAEr</b>, <b style=\"color: #98d15e;\">_5ea058AAAEs</b>, <b style=\"color: #dc8062;\">_5ea058AAAEq</b>, <b style=\"color: #e58de5;\">k0,4</b>], tags={<b style=\"color: #ce966e;\">I0,4</b>, <b style=\"color: #d44388;\">X0</b>, <b style=\"color: #37ce56;\">Y4</b>}),</summary>backend=<b style=\"color: #7fdd73;\">numpy</b>, dtype=<b style=\"color: #75d2c6;\">float64</b>, data=...</details></samp><samp style='font-size: 12px;'><details><summary><b style=\"color: #e55471;\">Tensor</b>(shape=(<b style=\"color: #7930d2;\">7</b>, <b style=\"color: #7930d2;\">7</b>, <b style=\"color: #7930d2;\">7</b>, <b style=\"color: #828fdd;\">2</b>), inds=[<b style=\"color: #4dd174;\">_5ea058AAAEt</b>, <b style=\"color: #8f6ad6;\">_5ea058AAAEu</b>, <b style=\"color: #98d15e;\">_5ea058AAAEs</b>, <b style=\"color: #49d430;\">k0,5</b>], tags={<b style=\"color: #cd7d9d;\">I0,5</b>, <b style=\"color: #d44388;\">X0</b>, <b style=\"color: #c474d8;\">Y5</b>}),</summary>backend=<b style=\"color: #7fdd73;\">numpy</b>, dtype=<b style=\"color: #75d2c6;\">float64</b>, data=...</details></samp><samp style='font-size: 12px;'><details><summary><b style=\"color: #e55471;\">Tensor</b>(shape=(<b style=\"color: #7930d2;\">7</b>, <b style=\"color: #7930d2;\">7</b>, <b style=\"color: #7930d2;\">7</b>, <b style=\"color: #828fdd;\">2</b>), inds=[<b style=\"color: #79d7d9;\">_5ea058AAAEv</b>, <b style=\"color: #b877de;\">_5ea058AAAEw</b>, <b style=\"color: #8f6ad6;\">_5ea058AAAEu</b>, <b style=\"color: #df9e98;\">k0,6</b>], tags={<b style=\"color: #83dcd9;\">I0,6</b>, <b style=\"color: #d44388;\">X0</b>, <b style=\"color: #d8dc45;\">Y6</b>}),</summary>backend=<b style=\"color: #7fdd73;\">numpy</b>, dtype=<b style=\"color: #75d2c6;\">float64</b>, data=...</details></samp><samp style='font-size: 12px;'><details><summary><b style=\"color: #e55471;\">Tensor</b>(shape=(<b style=\"color: #7930d2;\">7</b>, <b style=\"color: #7930d2;\">7</b>, <b style=\"color: #7930d2;\">7</b>, <b style=\"color: #828fdd;\">2</b>), inds=[<b style=\"color: #d4c87b;\">_5ea058AAAEx</b>, <b style=\"color: #d7ce83;\">_5ea058AAAEy</b>, <b style=\"color: #b877de;\">_5ea058AAAEw</b>, <b style=\"color: #d99d8b;\">k0,7</b>], tags={<b style=\"color: #3fdc80;\">I0,7</b>, <b style=\"color: #d44388;\">X0</b>, <b style=\"color: #316ecf;\">Y7</b>}),</summary>backend=<b style=\"color: #7fdd73;\">numpy</b>, dtype=<b style=\"color: #75d2c6;\">float64</b>, data=...</details></samp><samp style='font-size: 12px;'><details><summary><b style=\"color: #e55471;\">Tensor</b>(shape=(<b style=\"color: #7930d2;\">7</b>, <b style=\"color: #7930d2;\">7</b>, <b style=\"color: #7930d2;\">7</b>, <b style=\"color: #828fdd;\">2</b>), inds=[<b style=\"color: #7bd1dc;\">_5ea058AAAEz</b>, <b style=\"color: #63d54d;\">_5ea058AAAFA</b>, <b style=\"color: #d7ce83;\">_5ea058AAAEy</b>, <b style=\"color: #dfd867;\">k0,8</b>], tags={<b style=\"color: #dcd371;\">I0,8</b>, <b style=\"color: #d44388;\">X0</b>, <b style=\"color: #dd32c8;\">Y8</b>}),</summary>backend=<b style=\"color: #7fdd73;\">numpy</b>, dtype=<b style=\"color: #75d2c6;\">float64</b>, data=...</details></samp><samp style='font-size: 12px;'><details><summary><b style=\"color: #e55471;\">Tensor</b>(shape=(<b style=\"color: #7930d2;\">7</b>, <b style=\"color: #7930d2;\">7</b>, <b style=\"color: #828fdd;\">2</b>), inds=[<b style=\"color: #607bd2;\">_5ea058AAAFB</b>, <b style=\"color: #63d54d;\">_5ea058AAAFA</b>, <b style=\"color: #e3374b;\">k0,9</b>], tags={<b style=\"color: #cb68dd;\">I0,9</b>, <b style=\"color: #d44388;\">X0</b>, <b style=\"color: #8ed3ae;\">Y9</b>}),</summary>backend=<b style=\"color: #7fdd73;\">numpy</b>, dtype=<b style=\"color: #75d2c6;\">float64</b>, data=array([[[-0.12157857,  0.24161   ],\n",
       "        [ 0.41460762, -0.04849642],\n",
       "        [-0.0332495 , -0.01508166],\n",
       "        [-0.04748053, -0.22953934],\n",
       "        [ 0.26398502,  0.23571598],\n",
       "        [ 0.09435663,  0.31150425],\n",
       "        [ 0.28419376,  0.23574838]],\n",
       "\n",
       "       [[ 0.21980332,  0.24134622],\n",
       "        [ 0.16117748, -0.10802498],\n",
       "        [ 0.51308873, -0.37409859],\n",
       "        [-0.19663492,  0.04822279],\n",
       "        [-0.0327776 ,  0.12235521],\n",
       "        [ 0.03224348,  0.28776351],\n",
       "        [ 0.20878521, -0.08138795]],\n",
       "\n",
       "       [[ 0.03165915, -0.12784148],\n",
       "        [-0.02866177, -0.01234716],\n",
       "        [ 0.23303737, -0.03226831],\n",
       "        [-0.0441102 , -0.16063379],\n",
       "        [ 0.16779209, -0.09493676],\n",
       "        [ 0.11110184, -0.13365511],\n",
       "        [-0.15680939,  0.19855325]],\n",
       "\n",
       "       [[ 0.02178109, -0.27466432],\n",
       "        [-0.003194  ,  0.21448861],\n",
       "        [ 0.03580574,  0.24084592],\n",
       "        [ 0.18790656, -0.36077226],\n",
       "        [ 0.07536634, -0.03645931],\n",
       "        [ 0.11691943,  0.25219886],\n",
       "        [ 0.12164802,  0.11102753]],\n",
       "\n",
       "       [[ 0.13786039,  0.10199639],\n",
       "        [ 0.30040412, -0.36796953],\n",
       "        [ 0.08601876, -0.00957148],\n",
       "        [ 0.11099973, -0.15113817],\n",
       "        [ 0.22138195,  0.12668388],\n",
       "        [-0.11017555,  0.00325563],\n",
       "        [ 0.18984643, -0.08675919]],\n",
       "\n",
       "       [[ 0.24661761,  0.18865507],\n",
       "        [-0.11735149,  0.3072796 ],\n",
       "        [ 0.13419097, -0.23414407],\n",
       "        [ 0.0371796 ,  0.07015309],\n",
       "        [-0.34676174,  0.12863882],\n",
       "        [ 0.02824097, -0.17235414],\n",
       "        [-0.23060837,  0.15910656]],\n",
       "\n",
       "       [[ 0.17518182, -0.09890955],\n",
       "        [ 0.16654388, -0.03732843],\n",
       "        [-0.10735401,  0.06406169],\n",
       "        [ 0.17888228,  0.11146607],\n",
       "        [ 0.11045499, -0.05856184],\n",
       "        [ 0.27557675,  0.09962027],\n",
       "        [-0.17436828, -0.16866183]]])</details></samp><samp style='font-size: 12px;'><details><summary><b style=\"color: #e55471;\">Tensor</b>(shape=(<b style=\"color: #7930d2;\">7</b>, <b style=\"color: #7930d2;\">7</b>, <b style=\"color: #7930d2;\">7</b>, <b style=\"color: #828fdd;\">2</b>), inds=[<b style=\"color: #97e3bd;\">_5ea058AAAFC</b>, <b style=\"color: #73d0aa;\">_5ea058AAAFD</b>, <b style=\"color: #d83a2c;\">_5ea058AAAEj</b>, <b style=\"color: #84ce75;\">k1,0</b>], tags={<b style=\"color: #c28de0;\">I1,0</b>, <b style=\"color: #6fe251;\">X1</b>, <b style=\"color: #b1d42e;\">Y0</b>}),</summary>backend=<b style=\"color: #7fdd73;\">numpy</b>, dtype=<b style=\"color: #75d2c6;\">float64</b>, data=...</details></samp><samp style='font-size: 12px;'><details><summary><b style=\"color: #e55471;\">Tensor</b>(shape=(<b style=\"color: #7930d2;\">7</b>, <b style=\"color: #7930d2;\">7</b>, <b style=\"color: #7930d2;\">7</b>, <b style=\"color: #7930d2;\">7</b>, <b style=\"color: #828fdd;\">2</b>), inds=[<b style=\"color: #7be145;\">_5ea058AAAFE</b>, <b style=\"color: #8ebdd9;\">_5ea058AAAFF</b>, <b style=\"color: #d5663e;\">_5ea058AAAEl</b>, <b style=\"color: #73d0aa;\">_5ea058AAAFD</b>, <b style=\"color: #d29586;\">k1,1</b>], tags={<b style=\"color: #d67b97;\">I1,1</b>, <b style=\"color: #6fe251;\">X1</b>, <b style=\"color: #6c45d0;\">Y1</b>}),</summary>backend=<b style=\"color: #7fdd73;\">numpy</b>, dtype=<b style=\"color: #75d2c6;\">float64</b>, data=...</details></samp><samp style='font-size: 12px;'><details><summary><b style=\"color: #e55471;\">Tensor</b>(shape=(<b style=\"color: #7930d2;\">7</b>, <b style=\"color: #7930d2;\">7</b>, <b style=\"color: #7930d2;\">7</b>, <b style=\"color: #7930d2;\">7</b>, <b style=\"color: #828fdd;\">2</b>), inds=[<b style=\"color: #51d35b;\">_5ea058AAAFG</b>, <b style=\"color: #87cfc9;\">_5ea058AAAFH</b>, <b style=\"color: #7fc7db;\">_5ea058AAAEn</b>, <b style=\"color: #8ebdd9;\">_5ea058AAAFF</b>, <b style=\"color: #dd4dba;\">k1,2</b>], tags={<b style=\"color: #da64ad;\">I1,2</b>, <b style=\"color: #6fe251;\">X1</b>, <b style=\"color: #3fdd7b;\">Y2</b>}),</summary>backend=<b style=\"color: #7fdd73;\">numpy</b>, dtype=<b style=\"color: #75d2c6;\">float64</b>, data=...</details></samp><samp style='font-size: 12px;'><details><summary><b style=\"color: #e55471;\">Tensor</b>(shape=(<b style=\"color: #7930d2;\">7</b>, <b style=\"color: #7930d2;\">7</b>, <b style=\"color: #7930d2;\">7</b>, <b style=\"color: #7930d2;\">7</b>, <b style=\"color: #828fdd;\">2</b>), inds=[<b style=\"color: #d9b688;\">_5ea058AAAFI</b>, <b style=\"color: #61cd62;\">_5ea058AAAFJ</b>, <b style=\"color: #b3e092;\">_5ea058AAAEp</b>, <b style=\"color: #87cfc9;\">_5ea058AAAFH</b>, <b style=\"color: #afe152;\">k1,3</b>], tags={<b style=\"color: #acd080;\">I1,3</b>, <b style=\"color: #6fe251;\">X1</b>, <b style=\"color: #63d5a7;\">Y3</b>}),</summary>backend=<b style=\"color: #7fdd73;\">numpy</b>, dtype=<b style=\"color: #75d2c6;\">float64</b>, data=...</details></samp><samp style='font-size: 12px;'><details><summary><b style=\"color: #e55471;\">Tensor</b>(shape=(<b style=\"color: #7930d2;\">7</b>, <b style=\"color: #7930d2;\">7</b>, <b style=\"color: #7930d2;\">7</b>, <b style=\"color: #7930d2;\">7</b>, <b style=\"color: #828fdd;\">2</b>), inds=[<b style=\"color: #55d16c;\">_5ea058AAAFK</b>, <b style=\"color: #d4e249;\">_5ea058AAAFL</b>, <b style=\"color: #badc91;\">_5ea058AAAEr</b>, <b style=\"color: #61cd62;\">_5ea058AAAFJ</b>, <b style=\"color: #cae55e;\">k1,4</b>], tags={<b style=\"color: #3ec8d1;\">I1,4</b>, <b style=\"color: #6fe251;\">X1</b>, <b style=\"color: #37ce56;\">Y4</b>}),</summary>backend=<b style=\"color: #7fdd73;\">numpy</b>, dtype=<b style=\"color: #75d2c6;\">float64</b>, data=...</details></samp><samp style='font-size: 12px;'><details><summary><b style=\"color: #e55471;\">Tensor</b>(shape=(<b style=\"color: #7930d2;\">7</b>, <b style=\"color: #7930d2;\">7</b>, <b style=\"color: #7930d2;\">7</b>, <b style=\"color: #7930d2;\">7</b>, <b style=\"color: #828fdd;\">2</b>), inds=[<b style=\"color: #dc30d0;\">_5ea058AAAFM</b>, <b style=\"color: #4066ce;\">_5ea058AAAFN</b>, <b style=\"color: #4dd174;\">_5ea058AAAEt</b>, <b style=\"color: #d4e249;\">_5ea058AAAFL</b>, <b style=\"color: #8dd840;\">k1,5</b>], tags={<b style=\"color: #e13e6b;\">I1,5</b>, <b style=\"color: #6fe251;\">X1</b>, <b style=\"color: #c474d8;\">Y5</b>}),</summary>backend=<b style=\"color: #7fdd73;\">numpy</b>, dtype=<b style=\"color: #75d2c6;\">float64</b>, data=...</details></samp><samp style='font-size: 12px;'><details><summary><b style=\"color: #e55471;\">Tensor</b>(shape=(<b style=\"color: #7930d2;\">7</b>, <b style=\"color: #7930d2;\">7</b>, <b style=\"color: #7930d2;\">7</b>, <b style=\"color: #7930d2;\">7</b>, <b style=\"color: #828fdd;\">2</b>), inds=[<b style=\"color: #96d3dd;\">_5ea058AAAFO</b>, <b style=\"color: #d38baa;\">_5ea058AAAFP</b>, <b style=\"color: #79d7d9;\">_5ea058AAAEv</b>, <b style=\"color: #4066ce;\">_5ea058AAAFN</b>, <b style=\"color: #49d695;\">k1,6</b>], tags={<b style=\"color: #9d6ad0;\">I1,6</b>, <b style=\"color: #6fe251;\">X1</b>, <b style=\"color: #d8dc45;\">Y6</b>}),</summary>backend=<b style=\"color: #7fdd73;\">numpy</b>, dtype=<b style=\"color: #75d2c6;\">float64</b>, data=...</details></samp><samp style='font-size: 12px;'><details><summary><b style=\"color: #e55471;\">Tensor</b>(shape=(<b style=\"color: #7930d2;\">7</b>, <b style=\"color: #7930d2;\">7</b>, <b style=\"color: #7930d2;\">7</b>, <b style=\"color: #7930d2;\">7</b>, <b style=\"color: #828fdd;\">2</b>), inds=[<b style=\"color: #daa05f;\">_5ea058AAAFQ</b>, <b style=\"color: #7d4ccf;\">_5ea058AAAFR</b>, <b style=\"color: #d4c87b;\">_5ea058AAAEx</b>, <b style=\"color: #d38baa;\">_5ea058AAAFP</b>, <b style=\"color: #7b45d4;\">k1,7</b>], tags={<b style=\"color: #84d68c;\">I1,7</b>, <b style=\"color: #6fe251;\">X1</b>, <b style=\"color: #316ecf;\">Y7</b>}),</summary>backend=<b style=\"color: #7fdd73;\">numpy</b>, dtype=<b style=\"color: #75d2c6;\">float64</b>, data=...</details></samp><samp style='font-size: 12px;'><details><summary><b style=\"color: #e55471;\">Tensor</b>(shape=(<b style=\"color: #7930d2;\">7</b>, <b style=\"color: #7930d2;\">7</b>, <b style=\"color: #7930d2;\">7</b>, <b style=\"color: #7930d2;\">7</b>, <b style=\"color: #828fdd;\">2</b>), inds=[<b style=\"color: #8bdb38;\">_5ea058AAAFS</b>, <b style=\"color: #da5e75;\">_5ea058AAAFT</b>, <b style=\"color: #7bd1dc;\">_5ea058AAAEz</b>, <b style=\"color: #7d4ccf;\">_5ea058AAAFR</b>, <b style=\"color: #c231e1;\">k1,8</b>], tags={<b style=\"color: #7fc8e1;\">I1,8</b>, <b style=\"color: #6fe251;\">X1</b>, <b style=\"color: #dd32c8;\">Y8</b>}),</summary>backend=<b style=\"color: #7fdd73;\">numpy</b>, dtype=<b style=\"color: #75d2c6;\">float64</b>, data=...</details></samp><samp style='font-size: 12px;'><details><summary><b style=\"color: #e55471;\">Tensor</b>(shape=(<b style=\"color: #7930d2;\">7</b>, <b style=\"color: #7930d2;\">7</b>, <b style=\"color: #7930d2;\">7</b>, <b style=\"color: #828fdd;\">2</b>), inds=[<b style=\"color: #8fd26b;\">_5ea058AAAFU</b>, <b style=\"color: #607bd2;\">_5ea058AAAFB</b>, <b style=\"color: #da5e75;\">_5ea058AAAFT</b>, <b style=\"color: #ad92dc;\">k1,9</b>], tags={<b style=\"color: #6d3bd4;\">I1,9</b>, <b style=\"color: #6fe251;\">X1</b>, <b style=\"color: #8ed3ae;\">Y9</b>}),</summary>backend=<b style=\"color: #7fdd73;\">numpy</b>, dtype=<b style=\"color: #75d2c6;\">float64</b>, data=...</details></samp><samp style='font-size: 12px;'><details><summary><b style=\"color: #e55471;\">Tensor</b>(shape=(<b style=\"color: #7930d2;\">7</b>, <b style=\"color: #7930d2;\">7</b>, <b style=\"color: #7930d2;\">7</b>, <b style=\"color: #828fdd;\">2</b>), inds=[<b style=\"color: #d7cf3b;\">_5ea058AAAFV</b>, <b style=\"color: #63a2d8;\">_5ea058AAAFW</b>, <b style=\"color: #97e3bd;\">_5ea058AAAFC</b>, <b style=\"color: #aa87d0;\">k2,0</b>], tags={<b style=\"color: #d472d0;\">I2,0</b>, <b style=\"color: #c654d5;\">X2</b>, <b style=\"color: #b1d42e;\">Y0</b>}),</summary>backend=<b style=\"color: #7fdd73;\">numpy</b>, dtype=<b style=\"color: #75d2c6;\">float64</b>, data=...</details></samp><samp style='font-size: 12px;'><details><summary><b style=\"color: #e55471;\">Tensor</b>(shape=(<b style=\"color: #7930d2;\">7</b>, <b style=\"color: #7930d2;\">7</b>, <b style=\"color: #7930d2;\">7</b>, <b style=\"color: #7930d2;\">7</b>, <b style=\"color: #828fdd;\">2</b>), inds=[<b style=\"color: #d9ac8f;\">_5ea058AAAFX</b>, <b style=\"color: #8252db;\">_5ea058AAAFY</b>, <b style=\"color: #7be145;\">_5ea058AAAFE</b>, <b style=\"color: #63a2d8;\">_5ea058AAAFW</b>, <b style=\"color: #e1962d;\">k2,1</b>], tags={<b style=\"color: #77df7d;\">I2,1</b>, <b style=\"color: #c654d5;\">X2</b>, <b style=\"color: #6c45d0;\">Y1</b>}),</summary>backend=<b style=\"color: #7fdd73;\">numpy</b>, dtype=<b style=\"color: #75d2c6;\">float64</b>, data=...</details></samp><samp style='font-size: 12px;'><details><summary><b style=\"color: #e55471;\">Tensor</b>(shape=(<b style=\"color: #7930d2;\">7</b>, <b style=\"color: #7930d2;\">7</b>, <b style=\"color: #7930d2;\">7</b>, <b style=\"color: #7930d2;\">7</b>, <b style=\"color: #828fdd;\">2</b>), inds=[<b style=\"color: #d5cc63;\">_5ea058AAAFZ</b>, <b style=\"color: #3eacd8;\">_5ea058AAAFa</b>, <b style=\"color: #51d35b;\">_5ea058AAAFG</b>, <b style=\"color: #8252db;\">_5ea058AAAFY</b>, <b style=\"color: #936adf;\">k2,2</b>], tags={<b style=\"color: #ceb179;\">I2,2</b>, <b style=\"color: #c654d5;\">X2</b>, <b style=\"color: #3fdd7b;\">Y2</b>}),</summary>backend=<b style=\"color: #7fdd73;\">numpy</b>, dtype=<b style=\"color: #75d2c6;\">float64</b>, data=...</details></samp><samp style='font-size: 12px;'><details><summary><b style=\"color: #e55471;\">Tensor</b>(shape=(<b style=\"color: #7930d2;\">7</b>, <b style=\"color: #7930d2;\">7</b>, <b style=\"color: #7930d2;\">7</b>, <b style=\"color: #7930d2;\">7</b>, <b style=\"color: #828fdd;\">2</b>), inds=[<b style=\"color: #d3e08b;\">_5ea058AAAFb</b>, <b style=\"color: #e29f99;\">_5ea058AAAFc</b>, <b style=\"color: #d9b688;\">_5ea058AAAFI</b>, <b style=\"color: #3eacd8;\">_5ea058AAAFa</b>, <b style=\"color: #8541d1;\">k2,3</b>], tags={<b style=\"color: #dfd34b;\">I2,3</b>, <b style=\"color: #c654d5;\">X2</b>, <b style=\"color: #63d5a7;\">Y3</b>}),</summary>backend=<b style=\"color: #7fdd73;\">numpy</b>, dtype=<b style=\"color: #75d2c6;\">float64</b>, data=...</details></samp><samp style='font-size: 12px;'><details><summary><b style=\"color: #e55471;\">Tensor</b>(shape=(<b style=\"color: #7930d2;\">7</b>, <b style=\"color: #7930d2;\">7</b>, <b style=\"color: #7930d2;\">7</b>, <b style=\"color: #7930d2;\">7</b>, <b style=\"color: #828fdd;\">2</b>), inds=[<b style=\"color: #dd963b;\">_5ea058AAAFd</b>, <b style=\"color: #81df97;\">_5ea058AAAFe</b>, <b style=\"color: #55d16c;\">_5ea058AAAFK</b>, <b style=\"color: #e29f99;\">_5ea058AAAFc</b>, <b style=\"color: #e35cac;\">k2,4</b>], tags={<b style=\"color: #cd4e47;\">I2,4</b>, <b style=\"color: #c654d5;\">X2</b>, <b style=\"color: #37ce56;\">Y4</b>}),</summary>backend=<b style=\"color: #7fdd73;\">numpy</b>, dtype=<b style=\"color: #75d2c6;\">float64</b>, data=...</details></samp><samp style='font-size: 12px;'><details><summary><b style=\"color: #e55471;\">Tensor</b>(shape=(<b style=\"color: #7930d2;\">7</b>, <b style=\"color: #7930d2;\">7</b>, <b style=\"color: #7930d2;\">7</b>, <b style=\"color: #7930d2;\">7</b>, <b style=\"color: #828fdd;\">2</b>), inds=[<b style=\"color: #9977df;\">_5ea058AAAFf</b>, <b style=\"color: #5fd759;\">_5ea058AAAFg</b>, <b style=\"color: #dc30d0;\">_5ea058AAAFM</b>, <b style=\"color: #81df97;\">_5ea058AAAFe</b>, <b style=\"color: #d465d0;\">k2,5</b>], tags={<b style=\"color: #e1a482;\">I2,5</b>, <b style=\"color: #c654d5;\">X2</b>, <b style=\"color: #c474d8;\">Y5</b>}),</summary>backend=<b style=\"color: #7fdd73;\">numpy</b>, dtype=<b style=\"color: #75d2c6;\">float64</b>, data=...</details></samp><samp style='font-size: 12px;'><details><summary><b style=\"color: #e55471;\">Tensor</b>(shape=(<b style=\"color: #7930d2;\">7</b>, <b style=\"color: #7930d2;\">7</b>, <b style=\"color: #7930d2;\">7</b>, <b style=\"color: #7930d2;\">7</b>, <b style=\"color: #828fdd;\">2</b>), inds=[<b style=\"color: #61cd3c;\">_5ea058AAAFh</b>, <b style=\"color: #e55ae0;\">_5ea058AAAFi</b>, <b style=\"color: #96d3dd;\">_5ea058AAAFO</b>, <b style=\"color: #5fd759;\">_5ea058AAAFg</b>, <b style=\"color: #e39594;\">k2,6</b>], tags={<b style=\"color: #bc7bd0;\">I2,6</b>, <b style=\"color: #c654d5;\">X2</b>, <b style=\"color: #d8dc45;\">Y6</b>}),</summary>backend=<b style=\"color: #7fdd73;\">numpy</b>, dtype=<b style=\"color: #75d2c6;\">float64</b>, data=...</details></samp><samp style='font-size: 12px;'><details><summary><b style=\"color: #e55471;\">Tensor</b>(shape=(<b style=\"color: #7930d2;\">7</b>, <b style=\"color: #7930d2;\">7</b>, <b style=\"color: #7930d2;\">7</b>, <b style=\"color: #7930d2;\">7</b>, <b style=\"color: #828fdd;\">2</b>), inds=[<b style=\"color: #b7e141;\">_5ea058AAAFj</b>, <b style=\"color: #d5d98f;\">_5ea058AAAFk</b>, <b style=\"color: #daa05f;\">_5ea058AAAFQ</b>, <b style=\"color: #e55ae0;\">_5ea058AAAFi</b>, <b style=\"color: #55a2cd;\">k2,7</b>], tags={<b style=\"color: #7c87da;\">I2,7</b>, <b style=\"color: #c654d5;\">X2</b>, <b style=\"color: #316ecf;\">Y7</b>}),</summary>backend=<b style=\"color: #7fdd73;\">numpy</b>, dtype=<b style=\"color: #75d2c6;\">float64</b>, data=...</details></samp><samp style='font-size: 12px;'><details><summary><b style=\"color: #e55471;\">Tensor</b>(shape=(<b style=\"color: #7930d2;\">7</b>, <b style=\"color: #7930d2;\">7</b>, <b style=\"color: #7930d2;\">7</b>, <b style=\"color: #7930d2;\">7</b>, <b style=\"color: #828fdd;\">2</b>), inds=[<b style=\"color: #58cd41;\">_5ea058AAAFl</b>, <b style=\"color: #99e1dc;\">_5ea058AAAFm</b>, <b style=\"color: #8bdb38;\">_5ea058AAAFS</b>, <b style=\"color: #d5d98f;\">_5ea058AAAFk</b>, <b style=\"color: #d2dd78;\">k2,8</b>], tags={<b style=\"color: #cfbd79;\">I2,8</b>, <b style=\"color: #c654d5;\">X2</b>, <b style=\"color: #dd32c8;\">Y8</b>}),</summary>backend=<b style=\"color: #7fdd73;\">numpy</b>, dtype=<b style=\"color: #75d2c6;\">float64</b>, data=...</details></samp><samp style='font-size: 12px;'><details><summary><b style=\"color: #e55471;\">Tensor</b>(shape=(<b style=\"color: #7930d2;\">7</b>, <b style=\"color: #7930d2;\">7</b>, <b style=\"color: #7930d2;\">7</b>, <b style=\"color: #828fdd;\">2</b>), inds=[<b style=\"color: #67ce59;\">_5ea058AAAFn</b>, <b style=\"color: #8fd26b;\">_5ea058AAAFU</b>, <b style=\"color: #99e1dc;\">_5ea058AAAFm</b>, <b style=\"color: #82db80;\">k2,9</b>], tags={<b style=\"color: #8053dd;\">I2,9</b>, <b style=\"color: #c654d5;\">X2</b>, <b style=\"color: #8ed3ae;\">Y9</b>}),</summary>backend=<b style=\"color: #7fdd73;\">numpy</b>, dtype=<b style=\"color: #75d2c6;\">float64</b>, data=...</details></samp><samp style='font-size: 12px;'><details><summary><b style=\"color: #e55471;\">Tensor</b>(shape=(<b style=\"color: #7930d2;\">7</b>, <b style=\"color: #7930d2;\">7</b>, <b style=\"color: #7930d2;\">7</b>, <b style=\"color: #828fdd;\">2</b>), inds=[<b style=\"color: #d18bd4;\">_5ea058AAAFo</b>, <b style=\"color: #e1409c;\">_5ea058AAAFp</b>, <b style=\"color: #d7cf3b;\">_5ea058AAAFV</b>, <b style=\"color: #42d58f;\">k3,0</b>], tags={<b style=\"color: #57ccd3;\">I3,0</b>, <b style=\"color: #e5db50;\">X3</b>, <b style=\"color: #b1d42e;\">Y0</b>}),</summary>backend=<b style=\"color: #7fdd73;\">numpy</b>, dtype=<b style=\"color: #75d2c6;\">float64</b>, data=...</details></samp><samp style='font-size: 12px;'><details><summary><b style=\"color: #e55471;\">Tensor</b>(shape=(<b style=\"color: #7930d2;\">7</b>, <b style=\"color: #7930d2;\">7</b>, <b style=\"color: #7930d2;\">7</b>, <b style=\"color: #7930d2;\">7</b>, <b style=\"color: #828fdd;\">2</b>), inds=[<b style=\"color: #e2a834;\">_5ea058AAAFq</b>, <b style=\"color: #e1d169;\">_5ea058AAAFr</b>, <b style=\"color: #d9ac8f;\">_5ea058AAAFX</b>, <b style=\"color: #e1409c;\">_5ea058AAAFp</b>, <b style=\"color: #cf3298;\">k3,1</b>], tags={<b style=\"color: #98d482;\">I3,1</b>, <b style=\"color: #e5db50;\">X3</b>, <b style=\"color: #6c45d0;\">Y1</b>}),</summary>backend=<b style=\"color: #7fdd73;\">numpy</b>, dtype=<b style=\"color: #75d2c6;\">float64</b>, data=...</details></samp><samp style='font-size: 12px;'><details><summary><b style=\"color: #e55471;\">Tensor</b>(shape=(<b style=\"color: #7930d2;\">7</b>, <b style=\"color: #7930d2;\">7</b>, <b style=\"color: #7930d2;\">7</b>, <b style=\"color: #7930d2;\">7</b>, <b style=\"color: #828fdd;\">2</b>), inds=[<b style=\"color: #53e377;\">_5ea058AAAFs</b>, <b style=\"color: #c18de0;\">_5ea058AAAFt</b>, <b style=\"color: #d5cc63;\">_5ea058AAAFZ</b>, <b style=\"color: #e1d169;\">_5ea058AAAFr</b>, <b style=\"color: #5b8bd1;\">k3,2</b>], tags={<b style=\"color: #da8d92;\">I3,2</b>, <b style=\"color: #e5db50;\">X3</b>, <b style=\"color: #3fdd7b;\">Y2</b>}),</summary>backend=<b style=\"color: #7fdd73;\">numpy</b>, dtype=<b style=\"color: #75d2c6;\">float64</b>, data=...</details></samp><samp style='font-size: 12px;'><details><summary><b style=\"color: #e55471;\">Tensor</b>(shape=(<b style=\"color: #7930d2;\">7</b>, <b style=\"color: #7930d2;\">7</b>, <b style=\"color: #7930d2;\">7</b>, <b style=\"color: #7930d2;\">7</b>, <b style=\"color: #828fdd;\">2</b>), inds=[<b style=\"color: #9dd44f;\">_5ea058AAAFu</b>, <b style=\"color: #a0dc96;\">_5ea058AAAFv</b>, <b style=\"color: #d3e08b;\">_5ea058AAAFb</b>, <b style=\"color: #c18de0;\">_5ea058AAAFt</b>, <b style=\"color: #5daed7;\">k3,3</b>], tags={<b style=\"color: #7fd635;\">I3,3</b>, <b style=\"color: #e5db50;\">X3</b>, <b style=\"color: #63d5a7;\">Y3</b>}),</summary>backend=<b style=\"color: #7fdd73;\">numpy</b>, dtype=<b style=\"color: #75d2c6;\">float64</b>, data=...</details></samp><samp style='font-size: 12px;'><details><summary><b style=\"color: #e55471;\">Tensor</b>(shape=(<b style=\"color: #7930d2;\">7</b>, <b style=\"color: #7930d2;\">7</b>, <b style=\"color: #7930d2;\">7</b>, <b style=\"color: #7930d2;\">7</b>, <b style=\"color: #828fdd;\">2</b>), inds=[<b style=\"color: #cd637d;\">_5ea058AAAFw</b>, <b style=\"color: #485cdb;\">_5ea058AAAFx</b>, <b style=\"color: #dd963b;\">_5ea058AAAFd</b>, <b style=\"color: #a0dc96;\">_5ea058AAAFv</b>, <b style=\"color: #d9738c;\">k3,4</b>], tags={<b style=\"color: #9f91da;\">I3,4</b>, <b style=\"color: #e5db50;\">X3</b>, <b style=\"color: #37ce56;\">Y4</b>}),</summary>backend=<b style=\"color: #7fdd73;\">numpy</b>, dtype=<b style=\"color: #75d2c6;\">float64</b>, data=...</details></samp><samp style='font-size: 12px;'><details><summary><b style=\"color: #e55471;\">Tensor</b>(shape=(<b style=\"color: #7930d2;\">7</b>, <b style=\"color: #7930d2;\">7</b>, <b style=\"color: #7930d2;\">7</b>, <b style=\"color: #7930d2;\">7</b>, <b style=\"color: #828fdd;\">2</b>), inds=[<b style=\"color: #de78c7;\">_5ea058AAAFy</b>, <b style=\"color: #e15f54;\">_5ea058AAAFz</b>, <b style=\"color: #9977df;\">_5ea058AAAFf</b>, <b style=\"color: #485cdb;\">_5ea058AAAFx</b>, <b style=\"color: #5d68d3;\">k3,5</b>], tags={<b style=\"color: #524fe4;\">I3,5</b>, <b style=\"color: #e5db50;\">X3</b>, <b style=\"color: #c474d8;\">Y5</b>}),</summary>backend=<b style=\"color: #7fdd73;\">numpy</b>, dtype=<b style=\"color: #75d2c6;\">float64</b>, data=...</details></samp><samp style='font-size: 12px;'><details><summary><b style=\"color: #e55471;\">Tensor</b>(shape=(<b style=\"color: #7930d2;\">7</b>, <b style=\"color: #7930d2;\">7</b>, <b style=\"color: #7930d2;\">7</b>, <b style=\"color: #7930d2;\">7</b>, <b style=\"color: #828fdd;\">2</b>), inds=[<b style=\"color: #4972e3;\">_5ea058AAAGA</b>, <b style=\"color: #d56e4c;\">_5ea058AAAGB</b>, <b style=\"color: #61cd3c;\">_5ea058AAAFh</b>, <b style=\"color: #e15f54;\">_5ea058AAAFz</b>, <b style=\"color: #d99591;\">k3,6</b>], tags={<b style=\"color: #c2d181;\">I3,6</b>, <b style=\"color: #e5db50;\">X3</b>, <b style=\"color: #d8dc45;\">Y6</b>}),</summary>backend=<b style=\"color: #7fdd73;\">numpy</b>, dtype=<b style=\"color: #75d2c6;\">float64</b>, data=...</details></samp><samp style='font-size: 12px;'><details><summary><b style=\"color: #e55471;\">Tensor</b>(shape=(<b style=\"color: #7930d2;\">7</b>, <b style=\"color: #7930d2;\">7</b>, <b style=\"color: #7930d2;\">7</b>, <b style=\"color: #7930d2;\">7</b>, <b style=\"color: #828fdd;\">2</b>), inds=[<b style=\"color: #a6e090;\">_5ea058AAAGC</b>, <b style=\"color: #e4e567;\">_5ea058AAAGD</b>, <b style=\"color: #b7e141;\">_5ea058AAAFj</b>, <b style=\"color: #d56e4c;\">_5ea058AAAGB</b>, <b style=\"color: #e5da90;\">k3,7</b>], tags={<b style=\"color: #7f9ddd;\">I3,7</b>, <b style=\"color: #e5db50;\">X3</b>, <b style=\"color: #316ecf;\">Y7</b>}),</summary>backend=<b style=\"color: #7fdd73;\">numpy</b>, dtype=<b style=\"color: #75d2c6;\">float64</b>, data=...</details></samp><samp style='font-size: 12px;'><details><summary><b style=\"color: #e55471;\">Tensor</b>(shape=(<b style=\"color: #7930d2;\">7</b>, <b style=\"color: #7930d2;\">7</b>, <b style=\"color: #7930d2;\">7</b>, <b style=\"color: #7930d2;\">7</b>, <b style=\"color: #828fdd;\">2</b>), inds=[<b style=\"color: #557adb;\">_5ea058AAAGE</b>, <b style=\"color: #e0416a;\">_5ea058AAAGF</b>, <b style=\"color: #58cd41;\">_5ea058AAAFl</b>, <b style=\"color: #e4e567;\">_5ea058AAAGD</b>, <b style=\"color: #92e3d4;\">k3,8</b>], tags={<b style=\"color: #81e148;\">I3,8</b>, <b style=\"color: #e5db50;\">X3</b>, <b style=\"color: #dd32c8;\">Y8</b>}),</summary>backend=<b style=\"color: #7fdd73;\">numpy</b>, dtype=<b style=\"color: #75d2c6;\">float64</b>, data=...</details></samp><samp style='font-size: 12px;'><details><summary><b style=\"color: #e55471;\">Tensor</b>(shape=(<b style=\"color: #7930d2;\">7</b>, <b style=\"color: #7930d2;\">7</b>, <b style=\"color: #7930d2;\">7</b>, <b style=\"color: #828fdd;\">2</b>), inds=[<b style=\"color: #ca94dd;\">_5ea058AAAGG</b>, <b style=\"color: #67ce59;\">_5ea058AAAFn</b>, <b style=\"color: #e0416a;\">_5ea058AAAGF</b>, <b style=\"color: #cf6d69;\">k3,9</b>], tags={<b style=\"color: #ce938c;\">I3,9</b>, <b style=\"color: #e5db50;\">X3</b>, <b style=\"color: #8ed3ae;\">Y9</b>}),</summary>backend=<b style=\"color: #7fdd73;\">numpy</b>, dtype=<b style=\"color: #75d2c6;\">float64</b>, data=...</details></samp><samp style='font-size: 12px;'><details><summary><b style=\"color: #e55471;\">Tensor</b>(shape=(<b style=\"color: #7930d2;\">7</b>, <b style=\"color: #7930d2;\">7</b>, <b style=\"color: #7930d2;\">7</b>, <b style=\"color: #828fdd;\">2</b>), inds=[<b style=\"color: #898acd;\">_5ea058AAAGH</b>, <b style=\"color: #4be234;\">_5ea058AAAGI</b>, <b style=\"color: #d18bd4;\">_5ea058AAAFo</b>, <b style=\"color: #cb7de2;\">k4,0</b>], tags={<b style=\"color: #d54a8d;\">I4,0</b>, <b style=\"color: #6ae463;\">X4</b>, <b style=\"color: #b1d42e;\">Y0</b>}),</summary>backend=<b style=\"color: #7fdd73;\">numpy</b>, dtype=<b style=\"color: #75d2c6;\">float64</b>, data=...</details></samp><samp style='font-size: 12px;'><details><summary><b style=\"color: #e55471;\">Tensor</b>(shape=(<b style=\"color: #7930d2;\">7</b>, <b style=\"color: #7930d2;\">7</b>, <b style=\"color: #7930d2;\">7</b>, <b style=\"color: #7930d2;\">7</b>, <b style=\"color: #828fdd;\">2</b>), inds=[<b style=\"color: #7db4d2;\">_5ea058AAAGJ</b>, <b style=\"color: #31d69a;\">_5ea058AAAGK</b>, <b style=\"color: #e2a834;\">_5ea058AAAFq</b>, <b style=\"color: #4be234;\">_5ea058AAAGI</b>, <b style=\"color: #70da4e;\">k4,1</b>], tags={<b style=\"color: #6373d7;\">I4,1</b>, <b style=\"color: #6ae463;\">X4</b>, <b style=\"color: #6c45d0;\">Y1</b>}),</summary>backend=<b style=\"color: #7fdd73;\">numpy</b>, dtype=<b style=\"color: #75d2c6;\">float64</b>, data=...</details></samp><samp style='font-size: 12px;'><details><summary><b style=\"color: #e55471;\">Tensor</b>(shape=(<b style=\"color: #7930d2;\">7</b>, <b style=\"color: #7930d2;\">7</b>, <b style=\"color: #7930d2;\">7</b>, <b style=\"color: #7930d2;\">7</b>, <b style=\"color: #828fdd;\">2</b>), inds=[<b style=\"color: #dac289;\">_5ea058AAAGL</b>, <b style=\"color: #60a5d6;\">_5ea058AAAGM</b>, <b style=\"color: #53e377;\">_5ea058AAAFs</b>, <b style=\"color: #31d69a;\">_5ea058AAAGK</b>, <b style=\"color: #d63d6a;\">k4,2</b>], tags={<b style=\"color: #48d235;\">I4,2</b>, <b style=\"color: #6ae463;\">X4</b>, <b style=\"color: #3fdd7b;\">Y2</b>}),</summary>backend=<b style=\"color: #7fdd73;\">numpy</b>, dtype=<b style=\"color: #75d2c6;\">float64</b>, data=...</details></samp><samp style='font-size: 12px;'><details><summary><b style=\"color: #e55471;\">Tensor</b>(shape=(<b style=\"color: #7930d2;\">7</b>, <b style=\"color: #7930d2;\">7</b>, <b style=\"color: #7930d2;\">7</b>, <b style=\"color: #7930d2;\">7</b>, <b style=\"color: #828fdd;\">2</b>), inds=[<b style=\"color: #d7664a;\">_5ea058AAAGN</b>, <b style=\"color: #7fd683;\">_5ea058AAAGO</b>, <b style=\"color: #9dd44f;\">_5ea058AAAFu</b>, <b style=\"color: #60a5d6;\">_5ea058AAAGM</b>, <b style=\"color: #74cce3;\">k4,3</b>], tags={<b style=\"color: #cfcb31;\">I4,3</b>, <b style=\"color: #6ae463;\">X4</b>, <b style=\"color: #63d5a7;\">Y3</b>}),</summary>backend=<b style=\"color: #7fdd73;\">numpy</b>, dtype=<b style=\"color: #75d2c6;\">float64</b>, data=...</details></samp><samp style='font-size: 12px;'><details><summary><b style=\"color: #e55471;\">Tensor</b>(shape=(<b style=\"color: #7930d2;\">7</b>, <b style=\"color: #7930d2;\">7</b>, <b style=\"color: #7930d2;\">7</b>, <b style=\"color: #7930d2;\">7</b>, <b style=\"color: #828fdd;\">2</b>), inds=[<b style=\"color: #b34fde;\">_5ea058AAAGP</b>, <b style=\"color: #66e199;\">_5ea058AAAGQ</b>, <b style=\"color: #cd637d;\">_5ea058AAAFw</b>, <b style=\"color: #7fd683;\">_5ea058AAAGO</b>, <b style=\"color: #de828e;\">k4,4</b>], tags={<b style=\"color: #8556e3;\">I4,4</b>, <b style=\"color: #6ae463;\">X4</b>, <b style=\"color: #37ce56;\">Y4</b>}),</summary>backend=<b style=\"color: #7fdd73;\">numpy</b>, dtype=<b style=\"color: #75d2c6;\">float64</b>, data=...</details></samp><samp style='font-size: 12px;'><details><summary><b style=\"color: #e55471;\">Tensor</b>(shape=(<b style=\"color: #7930d2;\">7</b>, <b style=\"color: #7930d2;\">7</b>, <b style=\"color: #7930d2;\">7</b>, <b style=\"color: #7930d2;\">7</b>, <b style=\"color: #828fdd;\">2</b>), inds=[<b style=\"color: #6aa7db;\">_5ea058AAAGR</b>, <b style=\"color: #3ad384;\">_5ea058AAAGS</b>, <b style=\"color: #de78c7;\">_5ea058AAAFy</b>, <b style=\"color: #66e199;\">_5ea058AAAGQ</b>, <b style=\"color: #add987;\">k4,5</b>], tags={<b style=\"color: #87d688;\">I4,5</b>, <b style=\"color: #6ae463;\">X4</b>, <b style=\"color: #c474d8;\">Y5</b>}),</summary>backend=<b style=\"color: #7fdd73;\">numpy</b>, dtype=<b style=\"color: #75d2c6;\">float64</b>, data=...</details></samp><samp style='font-size: 12px;'><details><summary><b style=\"color: #e55471;\">Tensor</b>(shape=(<b style=\"color: #7930d2;\">7</b>, <b style=\"color: #7930d2;\">7</b>, <b style=\"color: #7930d2;\">7</b>, <b style=\"color: #7930d2;\">7</b>, <b style=\"color: #828fdd;\">2</b>), inds=[<b style=\"color: #8cdd4f;\">_5ea058AAAGT</b>, <b style=\"color: #5e85d6;\">_5ea058AAAGU</b>, <b style=\"color: #4972e3;\">_5ea058AAAGA</b>, <b style=\"color: #3ad384;\">_5ea058AAAGS</b>, <b style=\"color: #d1746e;\">k4,6</b>], tags={<b style=\"color: #e4bf56;\">I4,6</b>, <b style=\"color: #6ae463;\">X4</b>, <b style=\"color: #d8dc45;\">Y6</b>}),</summary>backend=<b style=\"color: #7fdd73;\">numpy</b>, dtype=<b style=\"color: #75d2c6;\">float64</b>, data=...</details></samp><samp style='font-size: 12px;'><details><summary><b style=\"color: #e55471;\">Tensor</b>(shape=(<b style=\"color: #7930d2;\">7</b>, <b style=\"color: #7930d2;\">7</b>, <b style=\"color: #7930d2;\">7</b>, <b style=\"color: #7930d2;\">7</b>, <b style=\"color: #828fdd;\">2</b>), inds=[<b style=\"color: #d08394;\">_5ea058AAAGV</b>, <b style=\"color: #88d1a2;\">_5ea058AAAGW</b>, <b style=\"color: #a6e090;\">_5ea058AAAGC</b>, <b style=\"color: #5e85d6;\">_5ea058AAAGU</b>, <b style=\"color: #ce888d;\">k4,7</b>], tags={<b style=\"color: #8378ce;\">I4,7</b>, <b style=\"color: #6ae463;\">X4</b>, <b style=\"color: #316ecf;\">Y7</b>}),</summary>backend=<b style=\"color: #7fdd73;\">numpy</b>, dtype=<b style=\"color: #75d2c6;\">float64</b>, data=...</details></samp><samp style='font-size: 12px;'><details><summary><b style=\"color: #e55471;\">Tensor</b>(shape=(<b style=\"color: #7930d2;\">7</b>, <b style=\"color: #7930d2;\">7</b>, <b style=\"color: #7930d2;\">7</b>, <b style=\"color: #7930d2;\">7</b>, <b style=\"color: #828fdd;\">2</b>), inds=[<b style=\"color: #31d066;\">_5ea058AAAGX</b>, <b style=\"color: #d06983;\">_5ea058AAAGY</b>, <b style=\"color: #557adb;\">_5ea058AAAGE</b>, <b style=\"color: #88d1a2;\">_5ea058AAAGW</b>, <b style=\"color: #8dceb3;\">k4,8</b>], tags={<b style=\"color: #7ccde0;\">I4,8</b>, <b style=\"color: #6ae463;\">X4</b>, <b style=\"color: #dd32c8;\">Y8</b>}),</summary>backend=<b style=\"color: #7fdd73;\">numpy</b>, dtype=<b style=\"color: #75d2c6;\">float64</b>, data=...</details></samp><samp style='font-size: 12px;'><details><summary><b style=\"color: #e55471;\">Tensor</b>(shape=(<b style=\"color: #7930d2;\">7</b>, <b style=\"color: #7930d2;\">7</b>, <b style=\"color: #7930d2;\">7</b>, <b style=\"color: #828fdd;\">2</b>), inds=[<b style=\"color: #cf4bd1;\">_5ea058AAAGZ</b>, <b style=\"color: #ca94dd;\">_5ea058AAAGG</b>, <b style=\"color: #d06983;\">_5ea058AAAGY</b>, <b style=\"color: #4a6ace;\">k4,9</b>], tags={<b style=\"color: #645ce5;\">I4,9</b>, <b style=\"color: #6ae463;\">X4</b>, <b style=\"color: #8ed3ae;\">Y9</b>}),</summary>backend=<b style=\"color: #7fdd73;\">numpy</b>, dtype=<b style=\"color: #75d2c6;\">float64</b>, data=...</details></samp><samp style='font-size: 12px;'><details><summary><b style=\"color: #e55471;\">Tensor</b>(shape=(<b style=\"color: #7930d2;\">7</b>, <b style=\"color: #7930d2;\">7</b>, <b style=\"color: #7930d2;\">7</b>, <b style=\"color: #828fdd;\">2</b>), inds=[<b style=\"color: #91d4d9;\">_5ea058AAAGa</b>, <b style=\"color: #a6e035;\">_5ea058AAAGb</b>, <b style=\"color: #898acd;\">_5ea058AAAGH</b>, <b style=\"color: #d1d265;\">k5,0</b>], tags={<b style=\"color: #956dcc;\">I5,0</b>, <b style=\"color: #e2db77;\">X5</b>, <b style=\"color: #b1d42e;\">Y0</b>}),</summary>backend=<b style=\"color: #7fdd73;\">numpy</b>, dtype=<b style=\"color: #75d2c6;\">float64</b>, data=...</details></samp><samp style='font-size: 12px;'><details><summary><b style=\"color: #e55471;\">Tensor</b>(shape=(<b style=\"color: #7930d2;\">7</b>, <b style=\"color: #7930d2;\">7</b>, <b style=\"color: #7930d2;\">7</b>, <b style=\"color: #7930d2;\">7</b>, <b style=\"color: #828fdd;\">2</b>), inds=[<b style=\"color: #de8ddc;\">_5ea058AAAGc</b>, <b style=\"color: #31cdca;\">_5ea058AAAGd</b>, <b style=\"color: #7db4d2;\">_5ea058AAAGJ</b>, <b style=\"color: #a6e035;\">_5ea058AAAGb</b>, <b style=\"color: #5c97d1;\">k5,1</b>], tags={<b style=\"color: #8bd988;\">I5,1</b>, <b style=\"color: #e2db77;\">X5</b>, <b style=\"color: #6c45d0;\">Y1</b>}),</summary>backend=<b style=\"color: #7fdd73;\">numpy</b>, dtype=<b style=\"color: #75d2c6;\">float64</b>, data=...</details></samp><samp style='font-size: 12px;'><details><summary><b style=\"color: #e55471;\">Tensor</b>(shape=(<b style=\"color: #7930d2;\">7</b>, <b style=\"color: #7930d2;\">7</b>, <b style=\"color: #7930d2;\">7</b>, <b style=\"color: #7930d2;\">7</b>, <b style=\"color: #828fdd;\">2</b>), inds=[<b style=\"color: #7dcf79;\">_5ea058AAAGe</b>, <b style=\"color: #d48f84;\">_5ea058AAAGf</b>, <b style=\"color: #dac289;\">_5ea058AAAGL</b>, <b style=\"color: #31cdca;\">_5ea058AAAGd</b>, <b style=\"color: #dd6bc3;\">k5,2</b>], tags={<b style=\"color: #db99c9;\">I5,2</b>, <b style=\"color: #e2db77;\">X5</b>, <b style=\"color: #3fdd7b;\">Y2</b>}),</summary>backend=<b style=\"color: #7fdd73;\">numpy</b>, dtype=<b style=\"color: #75d2c6;\">float64</b>, data=...</details></samp><samp style='font-size: 12px;'><details><summary><b style=\"color: #e55471;\">Tensor</b>(shape=(<b style=\"color: #7930d2;\">7</b>, <b style=\"color: #7930d2;\">7</b>, <b style=\"color: #7930d2;\">7</b>, <b style=\"color: #7930d2;\">7</b>, <b style=\"color: #828fdd;\">2</b>), inds=[<b style=\"color: #2d41e1;\">_5ea058AAAGg</b>, <b style=\"color: #6ad24b;\">_5ea058AAAGh</b>, <b style=\"color: #d7664a;\">_5ea058AAAGN</b>, <b style=\"color: #d48f84;\">_5ea058AAAGf</b>, <b style=\"color: #356adf;\">k5,3</b>], tags={<b style=\"color: #ce6d4a;\">I5,3</b>, <b style=\"color: #e2db77;\">X5</b>, <b style=\"color: #63d5a7;\">Y3</b>}),</summary>backend=<b style=\"color: #7fdd73;\">numpy</b>, dtype=<b style=\"color: #75d2c6;\">float64</b>, data=...</details></samp><samp style='font-size: 12px;'><details><summary><b style=\"color: #e55471;\">Tensor</b>(shape=(<b style=\"color: #7930d2;\">7</b>, <b style=\"color: #7930d2;\">7</b>, <b style=\"color: #7930d2;\">7</b>, <b style=\"color: #7930d2;\">7</b>, <b style=\"color: #828fdd;\">2</b>), inds=[<b style=\"color: #a64cd3;\">_5ea058AAAGi</b>, <b style=\"color: #7fd191;\">_5ea058AAAGj</b>, <b style=\"color: #b34fde;\">_5ea058AAAGP</b>, <b style=\"color: #6ad24b;\">_5ea058AAAGh</b>, <b style=\"color: #b18bce;\">k5,4</b>], tags={<b style=\"color: #cbd26a;\">I5,4</b>, <b style=\"color: #e2db77;\">X5</b>, <b style=\"color: #37ce56;\">Y4</b>}),</summary>backend=<b style=\"color: #7fdd73;\">numpy</b>, dtype=<b style=\"color: #75d2c6;\">float64</b>, data=...</details></samp><samp style='font-size: 12px;'><details><summary><b style=\"color: #e55471;\">Tensor</b>(shape=(<b style=\"color: #7930d2;\">7</b>, <b style=\"color: #7930d2;\">7</b>, <b style=\"color: #7930d2;\">7</b>, <b style=\"color: #7930d2;\">7</b>, <b style=\"color: #828fdd;\">2</b>), inds=[<b style=\"color: #cae589;\">_5ea058AAAGk</b>, <b style=\"color: #6bb2cf;\">_5ea058AAAGl</b>, <b style=\"color: #6aa7db;\">_5ea058AAAGR</b>, <b style=\"color: #7fd191;\">_5ea058AAAGj</b>, <b style=\"color: #48d67a;\">k5,5</b>], tags={<b style=\"color: #95b6dc;\">I5,5</b>, <b style=\"color: #e2db77;\">X5</b>, <b style=\"color: #c474d8;\">Y5</b>}),</summary>backend=<b style=\"color: #7fdd73;\">numpy</b>, dtype=<b style=\"color: #75d2c6;\">float64</b>, data=...</details></samp><samp style='font-size: 12px;'><details><summary><b style=\"color: #e55471;\">Tensor</b>(shape=(<b style=\"color: #7930d2;\">7</b>, <b style=\"color: #7930d2;\">7</b>, <b style=\"color: #7930d2;\">7</b>, <b style=\"color: #7930d2;\">7</b>, <b style=\"color: #828fdd;\">2</b>), inds=[<b style=\"color: #cc8aa3;\">_5ea058AAAGm</b>, <b style=\"color: #6451d6;\">_5ea058AAAGn</b>, <b style=\"color: #8cdd4f;\">_5ea058AAAGT</b>, <b style=\"color: #6bb2cf;\">_5ea058AAAGl</b>, <b style=\"color: #e5615d;\">k5,6</b>], tags={<b style=\"color: #e1976f;\">I5,6</b>, <b style=\"color: #e2db77;\">X5</b>, <b style=\"color: #d8dc45;\">Y6</b>}),</summary>backend=<b style=\"color: #7fdd73;\">numpy</b>, dtype=<b style=\"color: #75d2c6;\">float64</b>, data=...</details></samp><samp style='font-size: 12px;'><details><summary><b style=\"color: #e55471;\">Tensor</b>(shape=(<b style=\"color: #7930d2;\">7</b>, <b style=\"color: #7930d2;\">7</b>, <b style=\"color: #7930d2;\">7</b>, <b style=\"color: #7930d2;\">7</b>, <b style=\"color: #828fdd;\">2</b>), inds=[<b style=\"color: #d84ac8;\">_5ea058AAAGo</b>, <b style=\"color: #7bdb71;\">_5ea058AAAGp</b>, <b style=\"color: #d08394;\">_5ea058AAAGV</b>, <b style=\"color: #6451d6;\">_5ea058AAAGn</b>, <b style=\"color: #d19772;\">k5,7</b>], tags={<b style=\"color: #d07dc7;\">I5,7</b>, <b style=\"color: #e2db77;\">X5</b>, <b style=\"color: #316ecf;\">Y7</b>}),</summary>backend=<b style=\"color: #7fdd73;\">numpy</b>, dtype=<b style=\"color: #75d2c6;\">float64</b>, data=...</details></samp><samp style='font-size: 12px;'><details><summary><b style=\"color: #e55471;\">Tensor</b>(shape=(<b style=\"color: #7930d2;\">7</b>, <b style=\"color: #7930d2;\">7</b>, <b style=\"color: #7930d2;\">7</b>, <b style=\"color: #7930d2;\">7</b>, <b style=\"color: #828fdd;\">2</b>), inds=[<b style=\"color: #d4a785;\">_5ea058AAAGq</b>, <b style=\"color: #30c2d8;\">_5ea058AAAGr</b>, <b style=\"color: #31d066;\">_5ea058AAAGX</b>, <b style=\"color: #7bdb71;\">_5ea058AAAGp</b>, <b style=\"color: #31e43d;\">k5,8</b>], tags={<b style=\"color: #d360cf;\">I5,8</b>, <b style=\"color: #e2db77;\">X5</b>, <b style=\"color: #dd32c8;\">Y8</b>}),</summary>backend=<b style=\"color: #7fdd73;\">numpy</b>, dtype=<b style=\"color: #75d2c6;\">float64</b>, data=...</details></samp><samp style='font-size: 12px;'><details><summary><b style=\"color: #e55471;\">Tensor</b>(shape=(<b style=\"color: #7930d2;\">7</b>, <b style=\"color: #7930d2;\">7</b>, <b style=\"color: #7930d2;\">7</b>, <b style=\"color: #828fdd;\">2</b>), inds=[<b style=\"color: #e58b60;\">_5ea058AAAGs</b>, <b style=\"color: #cf4bd1;\">_5ea058AAAGZ</b>, <b style=\"color: #30c2d8;\">_5ea058AAAGr</b>, <b style=\"color: #d090d9;\">k5,9</b>], tags={<b style=\"color: #745ece;\">I5,9</b>, <b style=\"color: #e2db77;\">X5</b>, <b style=\"color: #8ed3ae;\">Y9</b>}),</summary>backend=<b style=\"color: #7fdd73;\">numpy</b>, dtype=<b style=\"color: #75d2c6;\">float64</b>, data=...</details></samp><samp style='font-size: 12px;'><details><summary><b style=\"color: #e55471;\">Tensor</b>(shape=(<b style=\"color: #7930d2;\">7</b>, <b style=\"color: #7930d2;\">7</b>, <b style=\"color: #7930d2;\">7</b>, <b style=\"color: #828fdd;\">2</b>), inds=[<b style=\"color: #53df55;\">_5ea058AAAGt</b>, <b style=\"color: #d26f4c;\">_5ea058AAAGu</b>, <b style=\"color: #91d4d9;\">_5ea058AAAGa</b>, <b style=\"color: #4287dd;\">k6,0</b>], tags={<b style=\"color: #c66dcc;\">I6,0</b>, <b style=\"color: #49bce4;\">X6</b>, <b style=\"color: #b1d42e;\">Y0</b>}),</summary>backend=<b style=\"color: #7fdd73;\">numpy</b>, dtype=<b style=\"color: #75d2c6;\">float64</b>, data=...</details></samp><samp style='font-size: 12px;'><details><summary><b style=\"color: #e55471;\">Tensor</b>(shape=(<b style=\"color: #7930d2;\">7</b>, <b style=\"color: #7930d2;\">7</b>, <b style=\"color: #7930d2;\">7</b>, <b style=\"color: #7930d2;\">7</b>, <b style=\"color: #828fdd;\">2</b>), inds=[<b style=\"color: #9693e3;\">_5ea058AAAGv</b>, <b style=\"color: #7d5cce;\">_5ea058AAAGw</b>, <b style=\"color: #de8ddc;\">_5ea058AAAGc</b>, <b style=\"color: #d26f4c;\">_5ea058AAAGu</b>, <b style=\"color: #e260bd;\">k6,1</b>], tags={<b style=\"color: #68d875;\">I6,1</b>, <b style=\"color: #49bce4;\">X6</b>, <b style=\"color: #6c45d0;\">Y1</b>}),</summary>backend=<b style=\"color: #7fdd73;\">numpy</b>, dtype=<b style=\"color: #75d2c6;\">float64</b>, data=...</details></samp><samp style='font-size: 12px;'><details><summary><b style=\"color: #e55471;\">Tensor</b>(shape=(<b style=\"color: #7930d2;\">7</b>, <b style=\"color: #7930d2;\">7</b>, <b style=\"color: #7930d2;\">7</b>, <b style=\"color: #7930d2;\">7</b>, <b style=\"color: #828fdd;\">2</b>), inds=[<b style=\"color: #7cc9cd;\">_5ea058AAAGx</b>, <b style=\"color: #478fd9;\">_5ea058AAAGy</b>, <b style=\"color: #7dcf79;\">_5ea058AAAGe</b>, <b style=\"color: #7d5cce;\">_5ea058AAAGw</b>, <b style=\"color: #db8e8a;\">k6,2</b>], tags={<b style=\"color: #e29dcb;\">I6,2</b>, <b style=\"color: #49bce4;\">X6</b>, <b style=\"color: #3fdd7b;\">Y2</b>}),</summary>backend=<b style=\"color: #7fdd73;\">numpy</b>, dtype=<b style=\"color: #75d2c6;\">float64</b>, data=...</details></samp><samp style='font-size: 12px;'><details><summary><b style=\"color: #e55471;\">Tensor</b>(shape=(<b style=\"color: #7930d2;\">7</b>, <b style=\"color: #7930d2;\">7</b>, <b style=\"color: #7930d2;\">7</b>, <b style=\"color: #7930d2;\">7</b>, <b style=\"color: #828fdd;\">2</b>), inds=[<b style=\"color: #df83b3;\">_5ea058AAAGz</b>, <b style=\"color: #2b7fd5;\">_5ea058AAAHA</b>, <b style=\"color: #2d41e1;\">_5ea058AAAGg</b>, <b style=\"color: #478fd9;\">_5ea058AAAGy</b>, <b style=\"color: #6bd16c;\">k6,3</b>], tags={<b style=\"color: #e25ad7;\">I6,3</b>, <b style=\"color: #49bce4;\">X6</b>, <b style=\"color: #63d5a7;\">Y3</b>}),</summary>backend=<b style=\"color: #7fdd73;\">numpy</b>, dtype=<b style=\"color: #75d2c6;\">float64</b>, data=...</details></samp><samp style='font-size: 12px;'><details><summary><b style=\"color: #e55471;\">Tensor</b>(shape=(<b style=\"color: #7930d2;\">7</b>, <b style=\"color: #7930d2;\">7</b>, <b style=\"color: #7930d2;\">7</b>, <b style=\"color: #7930d2;\">7</b>, <b style=\"color: #828fdd;\">2</b>), inds=[<b style=\"color: #60d854;\">_5ea058AAAHB</b>, <b style=\"color: #5841cd;\">_5ea058AAAHC</b>, <b style=\"color: #a64cd3;\">_5ea058AAAGi</b>, <b style=\"color: #2b7fd5;\">_5ea058AAAHA</b>, <b style=\"color: #41b1d0;\">k6,4</b>], tags={<b style=\"color: #61d138;\">I6,4</b>, <b style=\"color: #49bce4;\">X6</b>, <b style=\"color: #37ce56;\">Y4</b>}),</summary>backend=<b style=\"color: #7fdd73;\">numpy</b>, dtype=<b style=\"color: #75d2c6;\">float64</b>, data=...</details></samp><samp style='font-size: 12px;'><details><summary><b style=\"color: #e55471;\">Tensor</b>(shape=(<b style=\"color: #7930d2;\">7</b>, <b style=\"color: #7930d2;\">7</b>, <b style=\"color: #7930d2;\">7</b>, <b style=\"color: #7930d2;\">7</b>, <b style=\"color: #828fdd;\">2</b>), inds=[<b style=\"color: #4ad3b1;\">_5ea058AAAHD</b>, <b style=\"color: #b6d736;\">_5ea058AAAHE</b>, <b style=\"color: #cae589;\">_5ea058AAAGk</b>, <b style=\"color: #5841cd;\">_5ea058AAAHC</b>, <b style=\"color: #a1d363;\">k6,5</b>], tags={<b style=\"color: #4d6ccf;\">I6,5</b>, <b style=\"color: #49bce4;\">X6</b>, <b style=\"color: #c474d8;\">Y5</b>}),</summary>backend=<b style=\"color: #7fdd73;\">numpy</b>, dtype=<b style=\"color: #75d2c6;\">float64</b>, data=...</details></samp><samp style='font-size: 12px;'><details><summary><b style=\"color: #e55471;\">Tensor</b>(shape=(<b style=\"color: #7930d2;\">7</b>, <b style=\"color: #7930d2;\">7</b>, <b style=\"color: #7930d2;\">7</b>, <b style=\"color: #7930d2;\">7</b>, <b style=\"color: #828fdd;\">2</b>), inds=[<b style=\"color: #3730d9;\">_5ea058AAAHF</b>, <b style=\"color: #4be35d;\">_5ea058AAAHG</b>, <b style=\"color: #cc8aa3;\">_5ea058AAAGm</b>, <b style=\"color: #b6d736;\">_5ea058AAAHE</b>, <b style=\"color: #3470d8;\">k6,6</b>], tags={<b style=\"color: #e4bd7b;\">I6,6</b>, <b style=\"color: #49bce4;\">X6</b>, <b style=\"color: #d8dc45;\">Y6</b>}),</summary>backend=<b style=\"color: #7fdd73;\">numpy</b>, dtype=<b style=\"color: #75d2c6;\">float64</b>, data=...</details></samp><samp style='font-size: 12px;'><details><summary><b style=\"color: #e55471;\">Tensor</b>(shape=(<b style=\"color: #7930d2;\">7</b>, <b style=\"color: #7930d2;\">7</b>, <b style=\"color: #7930d2;\">7</b>, <b style=\"color: #7930d2;\">7</b>, <b style=\"color: #828fdd;\">2</b>), inds=[<b style=\"color: #d08158;\">_5ea058AAAHH</b>, <b style=\"color: #ac71dc;\">_5ea058AAAHI</b>, <b style=\"color: #d84ac8;\">_5ea058AAAGo</b>, <b style=\"color: #4be35d;\">_5ea058AAAHG</b>, <b style=\"color: #95d42c;\">k6,7</b>], tags={<b style=\"color: #dd6469;\">I6,7</b>, <b style=\"color: #49bce4;\">X6</b>, <b style=\"color: #316ecf;\">Y7</b>}),</summary>backend=<b style=\"color: #7fdd73;\">numpy</b>, dtype=<b style=\"color: #75d2c6;\">float64</b>, data=...</details></samp><samp style='font-size: 12px;'><details><summary><b style=\"color: #e55471;\">Tensor</b>(shape=(<b style=\"color: #7930d2;\">7</b>, <b style=\"color: #7930d2;\">7</b>, <b style=\"color: #7930d2;\">7</b>, <b style=\"color: #7930d2;\">7</b>, <b style=\"color: #828fdd;\">2</b>), inds=[<b style=\"color: #7ede5f;\">_5ea058AAAHJ</b>, <b style=\"color: #5b47d3;\">_5ea058AAAHK</b>, <b style=\"color: #d4a785;\">_5ea058AAAGq</b>, <b style=\"color: #ac71dc;\">_5ea058AAAHI</b>, <b style=\"color: #6ce5ab;\">k6,8</b>], tags={<b style=\"color: #ce5849;\">I6,8</b>, <b style=\"color: #49bce4;\">X6</b>, <b style=\"color: #dd32c8;\">Y8</b>}),</summary>backend=<b style=\"color: #7fdd73;\">numpy</b>, dtype=<b style=\"color: #75d2c6;\">float64</b>, data=...</details></samp><samp style='font-size: 12px;'><details><summary><b style=\"color: #e55471;\">Tensor</b>(shape=(<b style=\"color: #7930d2;\">7</b>, <b style=\"color: #7930d2;\">7</b>, <b style=\"color: #7930d2;\">7</b>, <b style=\"color: #828fdd;\">2</b>), inds=[<b style=\"color: #9bdc56;\">_5ea058AAAHL</b>, <b style=\"color: #e58b60;\">_5ea058AAAGs</b>, <b style=\"color: #5b47d3;\">_5ea058AAAHK</b>, <b style=\"color: #de8c65;\">k6,9</b>], tags={<b style=\"color: #9ab4e1;\">I6,9</b>, <b style=\"color: #49bce4;\">X6</b>, <b style=\"color: #8ed3ae;\">Y9</b>}),</summary>backend=<b style=\"color: #7fdd73;\">numpy</b>, dtype=<b style=\"color: #75d2c6;\">float64</b>, data=...</details></samp><samp style='font-size: 12px;'><details><summary><b style=\"color: #e55471;\">Tensor</b>(shape=(<b style=\"color: #7930d2;\">7</b>, <b style=\"color: #7930d2;\">7</b>, <b style=\"color: #7930d2;\">7</b>, <b style=\"color: #828fdd;\">2</b>), inds=[<b style=\"color: #87b5dc;\">_5ea058AAAHM</b>, <b style=\"color: #4938d7;\">_5ea058AAAHN</b>, <b style=\"color: #53df55;\">_5ea058AAAGt</b>, <b style=\"color: #91d08c;\">k7,0</b>], tags={<b style=\"color: #6280d1;\">I7,0</b>, <b style=\"color: #39da32;\">X7</b>, <b style=\"color: #b1d42e;\">Y0</b>}),</summary>backend=<b style=\"color: #7fdd73;\">numpy</b>, dtype=<b style=\"color: #75d2c6;\">float64</b>, data=...</details></samp><samp style='font-size: 12px;'><details><summary><b style=\"color: #e55471;\">Tensor</b>(shape=(<b style=\"color: #7930d2;\">7</b>, <b style=\"color: #7930d2;\">7</b>, <b style=\"color: #7930d2;\">7</b>, <b style=\"color: #7930d2;\">7</b>, <b style=\"color: #828fdd;\">2</b>), inds=[<b style=\"color: #96d9bf;\">_5ea058AAAHO</b>, <b style=\"color: #b557d7;\">_5ea058AAAHP</b>, <b style=\"color: #9693e3;\">_5ea058AAAGv</b>, <b style=\"color: #4938d7;\">_5ea058AAAHN</b>, <b style=\"color: #33d3e1;\">k7,1</b>], tags={<b style=\"color: #e3e273;\">I7,1</b>, <b style=\"color: #39da32;\">X7</b>, <b style=\"color: #6c45d0;\">Y1</b>}),</summary>backend=<b style=\"color: #7fdd73;\">numpy</b>, dtype=<b style=\"color: #75d2c6;\">float64</b>, data=...</details></samp><samp style='font-size: 12px;'><details><summary><b style=\"color: #e55471;\">Tensor</b>(shape=(<b style=\"color: #7930d2;\">7</b>, <b style=\"color: #7930d2;\">7</b>, <b style=\"color: #7930d2;\">7</b>, <b style=\"color: #7930d2;\">7</b>, <b style=\"color: #828fdd;\">2</b>), inds=[<b style=\"color: #89c5e5;\">_5ea058AAAHQ</b>, <b style=\"color: #dc8db9;\">_5ea058AAAHR</b>, <b style=\"color: #7cc9cd;\">_5ea058AAAGx</b>, <b style=\"color: #b557d7;\">_5ea058AAAHP</b>, <b style=\"color: #3fd343;\">k7,2</b>], tags={<b style=\"color: #bd84ce;\">I7,2</b>, <b style=\"color: #39da32;\">X7</b>, <b style=\"color: #3fdd7b;\">Y2</b>}),</summary>backend=<b style=\"color: #7fdd73;\">numpy</b>, dtype=<b style=\"color: #75d2c6;\">float64</b>, data=...</details></samp><samp style='font-size: 12px;'><details><summary><b style=\"color: #e55471;\">Tensor</b>(shape=(<b style=\"color: #7930d2;\">7</b>, <b style=\"color: #7930d2;\">7</b>, <b style=\"color: #7930d2;\">7</b>, <b style=\"color: #7930d2;\">7</b>, <b style=\"color: #828fdd;\">2</b>), inds=[<b style=\"color: #6fd7b7;\">_5ea058AAAHS</b>, <b style=\"color: #c48bd2;\">_5ea058AAAHT</b>, <b style=\"color: #df83b3;\">_5ea058AAAGz</b>, <b style=\"color: #dc8db9;\">_5ea058AAAHR</b>, <b style=\"color: #6b49d1;\">k7,3</b>], tags={<b style=\"color: #dd4bdc;\">I7,3</b>, <b style=\"color: #39da32;\">X7</b>, <b style=\"color: #63d5a7;\">Y3</b>}),</summary>backend=<b style=\"color: #7fdd73;\">numpy</b>, dtype=<b style=\"color: #75d2c6;\">float64</b>, data=...</details></samp><samp style='font-size: 12px;'><details><summary><b style=\"color: #e55471;\">Tensor</b>(shape=(<b style=\"color: #7930d2;\">7</b>, <b style=\"color: #7930d2;\">7</b>, <b style=\"color: #7930d2;\">7</b>, <b style=\"color: #7930d2;\">7</b>, <b style=\"color: #828fdd;\">2</b>), inds=[<b style=\"color: #d3958e;\">_5ea058AAAHU</b>, <b style=\"color: #4193ce;\">_5ea058AAAHV</b>, <b style=\"color: #60d854;\">_5ea058AAAHB</b>, <b style=\"color: #c48bd2;\">_5ea058AAAHT</b>, <b style=\"color: #db4a6d;\">k7,4</b>], tags={<b style=\"color: #b48dd1;\">I7,4</b>, <b style=\"color: #39da32;\">X7</b>, <b style=\"color: #37ce56;\">Y4</b>}),</summary>backend=<b style=\"color: #7fdd73;\">numpy</b>, dtype=<b style=\"color: #75d2c6;\">float64</b>, data=...</details></samp><samp style='font-size: 12px;'><details><summary><b style=\"color: #e55471;\">Tensor</b>(shape=(<b style=\"color: #7930d2;\">7</b>, <b style=\"color: #7930d2;\">7</b>, <b style=\"color: #7930d2;\">7</b>, <b style=\"color: #7930d2;\">7</b>, <b style=\"color: #828fdd;\">2</b>), inds=[<b style=\"color: #5854d4;\">_5ea058AAAHW</b>, <b style=\"color: #8bb2cc;\">_5ea058AAAHX</b>, <b style=\"color: #4ad3b1;\">_5ea058AAAHD</b>, <b style=\"color: #4193ce;\">_5ea058AAAHV</b>, <b style=\"color: #cf82a5;\">k7,5</b>], tags={<b style=\"color: #62ce74;\">I7,5</b>, <b style=\"color: #39da32;\">X7</b>, <b style=\"color: #c474d8;\">Y5</b>}),</summary>backend=<b style=\"color: #7fdd73;\">numpy</b>, dtype=<b style=\"color: #75d2c6;\">float64</b>, data=...</details></samp><samp style='font-size: 12px;'><details><summary><b style=\"color: #e55471;\">Tensor</b>(shape=(<b style=\"color: #7930d2;\">7</b>, <b style=\"color: #7930d2;\">7</b>, <b style=\"color: #7930d2;\">7</b>, <b style=\"color: #7930d2;\">7</b>, <b style=\"color: #828fdd;\">2</b>), inds=[<b style=\"color: #73e07f;\">_5ea058AAAHY</b>, <b style=\"color: #e34b7a;\">_5ea058AAAHZ</b>, <b style=\"color: #3730d9;\">_5ea058AAAHF</b>, <b style=\"color: #8bb2cc;\">_5ea058AAAHX</b>, <b style=\"color: #cf6850;\">k7,6</b>], tags={<b style=\"color: #43c2d6;\">I7,6</b>, <b style=\"color: #39da32;\">X7</b>, <b style=\"color: #d8dc45;\">Y6</b>}),</summary>backend=<b style=\"color: #7fdd73;\">numpy</b>, dtype=<b style=\"color: #75d2c6;\">float64</b>, data=...</details></samp><samp style='font-size: 12px;'><details><summary><b style=\"color: #e55471;\">Tensor</b>(shape=(<b style=\"color: #7930d2;\">7</b>, <b style=\"color: #7930d2;\">7</b>, <b style=\"color: #7930d2;\">7</b>, <b style=\"color: #7930d2;\">7</b>, <b style=\"color: #828fdd;\">2</b>), inds=[<b style=\"color: #8edd77;\">_5ea058AAAHa</b>, <b style=\"color: #8598cd;\">_5ea058AAAHb</b>, <b style=\"color: #d08158;\">_5ea058AAAHH</b>, <b style=\"color: #e34b7a;\">_5ea058AAAHZ</b>, <b style=\"color: #345ed0;\">k7,7</b>], tags={<b style=\"color: #a059d3;\">I7,7</b>, <b style=\"color: #39da32;\">X7</b>, <b style=\"color: #316ecf;\">Y7</b>}),</summary>backend=<b style=\"color: #7fdd73;\">numpy</b>, dtype=<b style=\"color: #75d2c6;\">float64</b>, data=...</details></samp><samp style='font-size: 12px;'><details><summary><b style=\"color: #e55471;\">Tensor</b>(shape=(<b style=\"color: #7930d2;\">7</b>, <b style=\"color: #7930d2;\">7</b>, <b style=\"color: #7930d2;\">7</b>, <b style=\"color: #7930d2;\">7</b>, <b style=\"color: #828fdd;\">2</b>), inds=[<b style=\"color: #e2906a;\">_5ea058AAAHc</b>, <b style=\"color: #76d059;\">_5ea058AAAHd</b>, <b style=\"color: #7ede5f;\">_5ea058AAAHJ</b>, <b style=\"color: #8598cd;\">_5ea058AAAHb</b>, <b style=\"color: #82cd99;\">k7,8</b>], tags={<b style=\"color: #d136a1;\">I7,8</b>, <b style=\"color: #39da32;\">X7</b>, <b style=\"color: #dd32c8;\">Y8</b>}),</summary>backend=<b style=\"color: #7fdd73;\">numpy</b>, dtype=<b style=\"color: #75d2c6;\">float64</b>, data=...</details></samp><samp style='font-size: 12px;'><details><summary><b style=\"color: #e55471;\">Tensor</b>(shape=(<b style=\"color: #7930d2;\">7</b>, <b style=\"color: #7930d2;\">7</b>, <b style=\"color: #7930d2;\">7</b>, <b style=\"color: #828fdd;\">2</b>), inds=[<b style=\"color: #7b4fd3;\">_5ea058AAAHe</b>, <b style=\"color: #9bdc56;\">_5ea058AAAHL</b>, <b style=\"color: #76d059;\">_5ea058AAAHd</b>, <b style=\"color: #45d86b;\">k7,9</b>], tags={<b style=\"color: #c4e145;\">I7,9</b>, <b style=\"color: #39da32;\">X7</b>, <b style=\"color: #8ed3ae;\">Y9</b>}),</summary>backend=<b style=\"color: #7fdd73;\">numpy</b>, dtype=<b style=\"color: #75d2c6;\">float64</b>, data=...</details></samp><samp style='font-size: 12px;'><details><summary><b style=\"color: #e55471;\">Tensor</b>(shape=(<b style=\"color: #7930d2;\">7</b>, <b style=\"color: #7930d2;\">7</b>, <b style=\"color: #7930d2;\">7</b>, <b style=\"color: #828fdd;\">2</b>), inds=[<b style=\"color: #e597d2;\">_5ea058AAAHf</b>, <b style=\"color: #a355cf;\">_5ea058AAAHg</b>, <b style=\"color: #87b5dc;\">_5ea058AAAHM</b>, <b style=\"color: #d09b85;\">k8,0</b>], tags={<b style=\"color: #cd6ab9;\">I8,0</b>, <b style=\"color: #4cbecc;\">X8</b>, <b style=\"color: #b1d42e;\">Y0</b>}),</summary>backend=<b style=\"color: #7fdd73;\">numpy</b>, dtype=<b style=\"color: #75d2c6;\">float64</b>, data=...</details></samp><samp style='font-size: 12px;'><details><summary><b style=\"color: #e55471;\">Tensor</b>(shape=(<b style=\"color: #7930d2;\">7</b>, <b style=\"color: #7930d2;\">7</b>, <b style=\"color: #7930d2;\">7</b>, <b style=\"color: #7930d2;\">7</b>, <b style=\"color: #828fdd;\">2</b>), inds=[<b style=\"color: #db8d3c;\">_5ea058AAAHh</b>, <b style=\"color: #cc36a9;\">_5ea058AAAHi</b>, <b style=\"color: #96d9bf;\">_5ea058AAAHO</b>, <b style=\"color: #a355cf;\">_5ea058AAAHg</b>, <b style=\"color: #89d399;\">k8,1</b>], tags={<b style=\"color: #c9d539;\">I8,1</b>, <b style=\"color: #4cbecc;\">X8</b>, <b style=\"color: #6c45d0;\">Y1</b>}),</summary>backend=<b style=\"color: #7fdd73;\">numpy</b>, dtype=<b style=\"color: #75d2c6;\">float64</b>, data=...</details></samp><samp style='font-size: 12px;'><details><summary><b style=\"color: #e55471;\">Tensor</b>(shape=(<b style=\"color: #7930d2;\">7</b>, <b style=\"color: #7930d2;\">7</b>, <b style=\"color: #7930d2;\">7</b>, <b style=\"color: #7930d2;\">7</b>, <b style=\"color: #828fdd;\">2</b>), inds=[<b style=\"color: #7635cd;\">_5ea058AAAHj</b>, <b style=\"color: #6a45e0;\">_5ea058AAAHk</b>, <b style=\"color: #89c5e5;\">_5ea058AAAHQ</b>, <b style=\"color: #cc36a9;\">_5ea058AAAHi</b>, <b style=\"color: #3642d3;\">k8,2</b>], tags={<b style=\"color: #8b9fcf;\">I8,2</b>, <b style=\"color: #4cbecc;\">X8</b>, <b style=\"color: #3fdd7b;\">Y2</b>}),</summary>backend=<b style=\"color: #7fdd73;\">numpy</b>, dtype=<b style=\"color: #75d2c6;\">float64</b>, data=...</details></samp><samp style='font-size: 12px;'><details><summary><b style=\"color: #e55471;\">Tensor</b>(shape=(<b style=\"color: #7930d2;\">7</b>, <b style=\"color: #7930d2;\">7</b>, <b style=\"color: #7930d2;\">7</b>, <b style=\"color: #7930d2;\">7</b>, <b style=\"color: #828fdd;\">2</b>), inds=[<b style=\"color: #5cda88;\">_5ea058AAAHl</b>, <b style=\"color: #92e0a8;\">_5ea058AAAHm</b>, <b style=\"color: #6fd7b7;\">_5ea058AAAHS</b>, <b style=\"color: #6a45e0;\">_5ea058AAAHk</b>, <b style=\"color: #dc6d31;\">k8,3</b>], tags={<b style=\"color: #8ab9d8;\">I8,3</b>, <b style=\"color: #4cbecc;\">X8</b>, <b style=\"color: #63d5a7;\">Y3</b>}),</summary>backend=<b style=\"color: #7fdd73;\">numpy</b>, dtype=<b style=\"color: #75d2c6;\">float64</b>, data=...</details></samp><samp style='font-size: 12px;'><details><summary><b style=\"color: #e55471;\">Tensor</b>(shape=(<b style=\"color: #7930d2;\">7</b>, <b style=\"color: #7930d2;\">7</b>, <b style=\"color: #7930d2;\">7</b>, <b style=\"color: #7930d2;\">7</b>, <b style=\"color: #828fdd;\">2</b>), inds=[<b style=\"color: #ac68d3;\">_5ea058AAAHn</b>, <b style=\"color: #ce44cd;\">_5ea058AAAHo</b>, <b style=\"color: #d3958e;\">_5ea058AAAHU</b>, <b style=\"color: #92e0a8;\">_5ea058AAAHm</b>, <b style=\"color: #c02ad1;\">k8,4</b>], tags={<b style=\"color: #dd6ca5;\">I8,4</b>, <b style=\"color: #4cbecc;\">X8</b>, <b style=\"color: #37ce56;\">Y4</b>}),</summary>backend=<b style=\"color: #7fdd73;\">numpy</b>, dtype=<b style=\"color: #75d2c6;\">float64</b>, data=...</details></samp><samp style='font-size: 12px;'><details><summary><b style=\"color: #e55471;\">Tensor</b>(shape=(<b style=\"color: #7930d2;\">7</b>, <b style=\"color: #7930d2;\">7</b>, <b style=\"color: #7930d2;\">7</b>, <b style=\"color: #7930d2;\">7</b>, <b style=\"color: #828fdd;\">2</b>), inds=[<b style=\"color: #db7589;\">_5ea058AAAHp</b>, <b style=\"color: #506ddb;\">_5ea058AAAHq</b>, <b style=\"color: #5854d4;\">_5ea058AAAHW</b>, <b style=\"color: #ce44cd;\">_5ea058AAAHo</b>, <b style=\"color: #89d1a2;\">k8,5</b>], tags={<b style=\"color: #c863d3;\">I8,5</b>, <b style=\"color: #4cbecc;\">X8</b>, <b style=\"color: #c474d8;\">Y5</b>}),</summary>backend=<b style=\"color: #7fdd73;\">numpy</b>, dtype=<b style=\"color: #75d2c6;\">float64</b>, data=...</details></samp><samp style='font-size: 12px;'><details><summary><b style=\"color: #e55471;\">Tensor</b>(shape=(<b style=\"color: #7930d2;\">7</b>, <b style=\"color: #7930d2;\">7</b>, <b style=\"color: #7930d2;\">7</b>, <b style=\"color: #7930d2;\">7</b>, <b style=\"color: #828fdd;\">2</b>), inds=[<b style=\"color: #786ad6;\">_5ea058AAAHr</b>, <b style=\"color: #d96267;\">_5ea058AAAHs</b>, <b style=\"color: #73e07f;\">_5ea058AAAHY</b>, <b style=\"color: #506ddb;\">_5ea058AAAHq</b>, <b style=\"color: #e25f3d;\">k8,6</b>], tags={<b style=\"color: #c77cde;\">I8,6</b>, <b style=\"color: #4cbecc;\">X8</b>, <b style=\"color: #d8dc45;\">Y6</b>}),</summary>backend=<b style=\"color: #7fdd73;\">numpy</b>, dtype=<b style=\"color: #75d2c6;\">float64</b>, data=...</details></samp><samp style='font-size: 12px;'><details><summary><b style=\"color: #e55471;\">Tensor</b>(shape=(<b style=\"color: #7930d2;\">7</b>, <b style=\"color: #7930d2;\">7</b>, <b style=\"color: #7930d2;\">7</b>, <b style=\"color: #7930d2;\">7</b>, <b style=\"color: #828fdd;\">2</b>), inds=[<b style=\"color: #5ce370;\">_5ea058AAAHt</b>, <b style=\"color: #80e591;\">_5ea058AAAHu</b>, <b style=\"color: #8edd77;\">_5ea058AAAHa</b>, <b style=\"color: #d96267;\">_5ea058AAAHs</b>, <b style=\"color: #ac85cd;\">k8,7</b>], tags={<b style=\"color: #d87f84;\">I8,7</b>, <b style=\"color: #4cbecc;\">X8</b>, <b style=\"color: #316ecf;\">Y7</b>}),</summary>backend=<b style=\"color: #7fdd73;\">numpy</b>, dtype=<b style=\"color: #75d2c6;\">float64</b>, data=...</details></samp><samp style='font-size: 12px;'><details><summary><b style=\"color: #e55471;\">Tensor</b>(shape=(<b style=\"color: #7930d2;\">7</b>, <b style=\"color: #7930d2;\">7</b>, <b style=\"color: #7930d2;\">7</b>, <b style=\"color: #7930d2;\">7</b>, <b style=\"color: #828fdd;\">2</b>), inds=[<b style=\"color: #d8413b;\">_5ea058AAAHv</b>, <b style=\"color: #d54966;\">_5ea058AAAHw</b>, <b style=\"color: #e2906a;\">_5ea058AAAHc</b>, <b style=\"color: #80e591;\">_5ea058AAAHu</b>, <b style=\"color: #e2a875;\">k8,8</b>], tags={<b style=\"color: #86dd9d;\">I8,8</b>, <b style=\"color: #4cbecc;\">X8</b>, <b style=\"color: #dd32c8;\">Y8</b>}),</summary>backend=<b style=\"color: #7fdd73;\">numpy</b>, dtype=<b style=\"color: #75d2c6;\">float64</b>, data=...</details></samp><samp style='font-size: 12px;'><details><summary><b style=\"color: #e55471;\">Tensor</b>(shape=(<b style=\"color: #7930d2;\">7</b>, <b style=\"color: #7930d2;\">7</b>, <b style=\"color: #7930d2;\">7</b>, <b style=\"color: #828fdd;\">2</b>), inds=[<b style=\"color: #6d48e0;\">_5ea058AAAHx</b>, <b style=\"color: #7b4fd3;\">_5ea058AAAHe</b>, <b style=\"color: #d54966;\">_5ea058AAAHw</b>, <b style=\"color: #d07c9a;\">k8,9</b>], tags={<b style=\"color: #4de267;\">I8,9</b>, <b style=\"color: #4cbecc;\">X8</b>, <b style=\"color: #8ed3ae;\">Y9</b>}),</summary>backend=<b style=\"color: #7fdd73;\">numpy</b>, dtype=<b style=\"color: #75d2c6;\">float64</b>, data=...</details></samp><samp style='font-size: 12px;'><details><summary><b style=\"color: #e55471;\">Tensor</b>(shape=(<b style=\"color: #7930d2;\">7</b>, <b style=\"color: #7930d2;\">7</b>, <b style=\"color: #828fdd;\">2</b>), inds=[<b style=\"color: #dcce5f;\">_5ea058AAAHy</b>, <b style=\"color: #e597d2;\">_5ea058AAAHf</b>, <b style=\"color: #df406c;\">k9,0</b>], tags={<b style=\"color: #83de57;\">I9,0</b>, <b style=\"color: #8973cf;\">X9</b>, <b style=\"color: #b1d42e;\">Y0</b>}),</summary>backend=<b style=\"color: #7fdd73;\">numpy</b>, dtype=<b style=\"color: #75d2c6;\">float64</b>, data=array([[[ 0.41095166, -0.25378787],\n",
       "        [-0.35543473, -0.0435038 ],\n",
       "        [ 0.16586621, -0.11328361],\n",
       "        [ 0.22856655, -0.06458924],\n",
       "        [ 0.07386491, -0.13653966],\n",
       "        [ 0.06506377,  0.07501375],\n",
       "        [-0.11399144, -0.1518549 ]],\n",
       "\n",
       "       [[ 0.15119689, -0.16860582],\n",
       "        [ 0.13829012,  0.03127736],\n",
       "        [-0.08314063,  0.07096206],\n",
       "        [ 0.16171264,  0.16351128],\n",
       "        [-0.02334824, -0.32312151],\n",
       "        [-0.04392508,  0.17779242],\n",
       "        [-0.10118641,  0.15466673]],\n",
       "\n",
       "       [[-0.20247927, -0.20889139],\n",
       "        [-0.12521677, -0.1455537 ],\n",
       "        [-0.06994869, -0.09362385],\n",
       "        [-0.08286166,  0.30008448],\n",
       "        [ 0.23543103,  0.17068613],\n",
       "        [ 0.23195817,  0.06582497],\n",
       "        [-0.01197463, -0.27970348]],\n",
       "\n",
       "       [[ 0.23034017, -0.31215142],\n",
       "        [ 0.13855897, -0.26866738],\n",
       "        [ 0.22677439,  0.02264464],\n",
       "        [-0.18822234, -0.21160647],\n",
       "        [ 0.12650527, -0.41123326],\n",
       "        [ 0.02079681,  0.03439444],\n",
       "        [-0.09803844,  0.09402988]],\n",
       "\n",
       "       [[-0.25783507, -0.11126753],\n",
       "        [-0.04608879, -0.13867866],\n",
       "        [-0.32301813,  0.08634624],\n",
       "        [ 0.2792831 ,  0.01240703],\n",
       "        [-0.40054515,  0.04032573],\n",
       "        [-0.05173055,  0.12809015],\n",
       "        [-0.04522922, -0.12201716]],\n",
       "\n",
       "       [[-0.23811474,  0.21585966],\n",
       "        [-0.10873568, -0.11782258],\n",
       "        [-0.12358463,  0.05955648],\n",
       "        [ 0.18989939, -0.08107662],\n",
       "        [-0.154403  ,  0.01750408],\n",
       "        [ 0.2021266 ,  0.00810342],\n",
       "        [ 0.05971326, -0.00138899]],\n",
       "\n",
       "       [[-0.07307709,  0.09017588],\n",
       "        [ 0.24079384,  0.00536199],\n",
       "        [ 0.2296317 ,  0.06026196],\n",
       "        [ 0.12816055,  0.03475   ],\n",
       "        [-0.11037976,  0.30677594],\n",
       "        [ 0.09008634,  0.03713451],\n",
       "        [ 0.11890037, -0.36858366]]])</details></samp><samp style='font-size: 12px;'><details><summary><b style=\"color: #e55471;\">Tensor</b>(shape=(<b style=\"color: #7930d2;\">7</b>, <b style=\"color: #7930d2;\">7</b>, <b style=\"color: #7930d2;\">7</b>, <b style=\"color: #828fdd;\">2</b>), inds=[<b style=\"color: #d9e55f;\">_5ea058AAAHz</b>, <b style=\"color: #db8d3c;\">_5ea058AAAHh</b>, <b style=\"color: #dcce5f;\">_5ea058AAAHy</b>, <b style=\"color: #ccd556;\">k9,1</b>], tags={<b style=\"color: #43d7e3;\">I9,1</b>, <b style=\"color: #8973cf;\">X9</b>, <b style=\"color: #6c45d0;\">Y1</b>}),</summary>backend=<b style=\"color: #7fdd73;\">numpy</b>, dtype=<b style=\"color: #75d2c6;\">float64</b>, data=...</details></samp><samp style='font-size: 12px;'><details><summary><b style=\"color: #e55471;\">Tensor</b>(shape=(<b style=\"color: #7930d2;\">7</b>, <b style=\"color: #7930d2;\">7</b>, <b style=\"color: #7930d2;\">7</b>, <b style=\"color: #828fdd;\">2</b>), inds=[<b style=\"color: #dbc83b;\">_5ea058AAAIA</b>, <b style=\"color: #7635cd;\">_5ea058AAAHj</b>, <b style=\"color: #d9e55f;\">_5ea058AAAHz</b>, <b style=\"color: #8fb7e0;\">k9,2</b>], tags={<b style=\"color: #80add5;\">I9,2</b>, <b style=\"color: #8973cf;\">X9</b>, <b style=\"color: #3fdd7b;\">Y2</b>}),</summary>backend=<b style=\"color: #7fdd73;\">numpy</b>, dtype=<b style=\"color: #75d2c6;\">float64</b>, data=...</details></samp><samp style='font-size: 12px;'><details><summary><b style=\"color: #e55471;\">Tensor</b>(shape=(<b style=\"color: #7930d2;\">7</b>, <b style=\"color: #7930d2;\">7</b>, <b style=\"color: #7930d2;\">7</b>, <b style=\"color: #828fdd;\">2</b>), inds=[<b style=\"color: #b892dd;\">_5ea058AAAIB</b>, <b style=\"color: #5cda88;\">_5ea058AAAHl</b>, <b style=\"color: #dbc83b;\">_5ea058AAAIA</b>, <b style=\"color: #60db91;\">k9,3</b>], tags={<b style=\"color: #75dcd0;\">I9,3</b>, <b style=\"color: #8973cf;\">X9</b>, <b style=\"color: #63d5a7;\">Y3</b>}),</summary>backend=<b style=\"color: #7fdd73;\">numpy</b>, dtype=<b style=\"color: #75d2c6;\">float64</b>, data=...</details></samp><samp style='font-size: 12px;'><details><summary><b style=\"color: #e55471;\">Tensor</b>(shape=(<b style=\"color: #7930d2;\">7</b>, <b style=\"color: #7930d2;\">7</b>, <b style=\"color: #7930d2;\">7</b>, <b style=\"color: #828fdd;\">2</b>), inds=[<b style=\"color: #74e286;\">_5ea058AAAIC</b>, <b style=\"color: #ac68d3;\">_5ea058AAAHn</b>, <b style=\"color: #b892dd;\">_5ea058AAAIB</b>, <b style=\"color: #83df90;\">k9,4</b>], tags={<b style=\"color: #e4b062;\">I9,4</b>, <b style=\"color: #8973cf;\">X9</b>, <b style=\"color: #37ce56;\">Y4</b>}),</summary>backend=<b style=\"color: #7fdd73;\">numpy</b>, dtype=<b style=\"color: #75d2c6;\">float64</b>, data=...</details></samp><samp style='font-size: 12px;'><details><summary><b style=\"color: #e55471;\">Tensor</b>(shape=(<b style=\"color: #7930d2;\">7</b>, <b style=\"color: #7930d2;\">7</b>, <b style=\"color: #7930d2;\">7</b>, <b style=\"color: #828fdd;\">2</b>), inds=[<b style=\"color: #d47d6c;\">_5ea058AAAID</b>, <b style=\"color: #db7589;\">_5ea058AAAHp</b>, <b style=\"color: #74e286;\">_5ea058AAAIC</b>, <b style=\"color: #94d4bc;\">k9,5</b>], tags={<b style=\"color: #d9bd38;\">I9,5</b>, <b style=\"color: #8973cf;\">X9</b>, <b style=\"color: #c474d8;\">Y5</b>}),</summary>backend=<b style=\"color: #7fdd73;\">numpy</b>, dtype=<b style=\"color: #75d2c6;\">float64</b>, data=...</details></samp><samp style='font-size: 12px;'><details><summary><b style=\"color: #e55471;\">Tensor</b>(shape=(<b style=\"color: #7930d2;\">7</b>, <b style=\"color: #7930d2;\">7</b>, <b style=\"color: #7930d2;\">7</b>, <b style=\"color: #828fdd;\">2</b>), inds=[<b style=\"color: #c2dd5d;\">_5ea058AAAIE</b>, <b style=\"color: #786ad6;\">_5ea058AAAHr</b>, <b style=\"color: #d47d6c;\">_5ea058AAAID</b>, <b style=\"color: #88e2d8;\">k9,6</b>], tags={<b style=\"color: #e235ce;\">I9,6</b>, <b style=\"color: #8973cf;\">X9</b>, <b style=\"color: #d8dc45;\">Y6</b>}),</summary>backend=<b style=\"color: #7fdd73;\">numpy</b>, dtype=<b style=\"color: #75d2c6;\">float64</b>, data=...</details></samp><samp style='font-size: 12px;'><details><summary><b style=\"color: #e55471;\">Tensor</b>(shape=(<b style=\"color: #7930d2;\">7</b>, <b style=\"color: #7930d2;\">7</b>, <b style=\"color: #7930d2;\">7</b>, <b style=\"color: #828fdd;\">2</b>), inds=[<b style=\"color: #8749e0;\">_5ea058AAAIF</b>, <b style=\"color: #5ce370;\">_5ea058AAAHt</b>, <b style=\"color: #c2dd5d;\">_5ea058AAAIE</b>, <b style=\"color: #7960e1;\">k9,7</b>], tags={<b style=\"color: #757bcd;\">I9,7</b>, <b style=\"color: #8973cf;\">X9</b>, <b style=\"color: #316ecf;\">Y7</b>}),</summary>backend=<b style=\"color: #7fdd73;\">numpy</b>, dtype=<b style=\"color: #75d2c6;\">float64</b>, data=...</details></samp><samp style='font-size: 12px;'><details><summary><b style=\"color: #e55471;\">Tensor</b>(shape=(<b style=\"color: #7930d2;\">7</b>, <b style=\"color: #7930d2;\">7</b>, <b style=\"color: #7930d2;\">7</b>, <b style=\"color: #828fdd;\">2</b>), inds=[<b style=\"color: #d69d6f;\">_5ea058AAAIG</b>, <b style=\"color: #d8413b;\">_5ea058AAAHv</b>, <b style=\"color: #8749e0;\">_5ea058AAAIF</b>, <b style=\"color: #5a99da;\">k9,8</b>], tags={<b style=\"color: #d244c1;\">I9,8</b>, <b style=\"color: #8973cf;\">X9</b>, <b style=\"color: #dd32c8;\">Y8</b>}),</summary>backend=<b style=\"color: #7fdd73;\">numpy</b>, dtype=<b style=\"color: #75d2c6;\">float64</b>, data=...</details></samp><samp style='font-size: 12px;'><details><summary><b style=\"color: #e55471;\">Tensor</b>(shape=(<b style=\"color: #7930d2;\">7</b>, <b style=\"color: #7930d2;\">7</b>, <b style=\"color: #828fdd;\">2</b>), inds=[<b style=\"color: #6d48e0;\">_5ea058AAAHx</b>, <b style=\"color: #d69d6f;\">_5ea058AAAIG</b>, <b style=\"color: #46c3d9;\">k9,9</b>], tags={<b style=\"color: #c5e456;\">I9,9</b>, <b style=\"color: #8973cf;\">X9</b>, <b style=\"color: #8ed3ae;\">Y9</b>}),</summary>backend=<b style=\"color: #7fdd73;\">numpy</b>, dtype=<b style=\"color: #75d2c6;\">float64</b>, data=array([[[-0.24573353, -0.14727387],\n",
       "        [-0.05657491, -0.28271307],\n",
       "        [ 0.04672743, -0.04831343],\n",
       "        [ 0.13421271,  0.12574853],\n",
       "        [ 0.10747916,  0.00695116],\n",
       "        [-0.00882143,  0.10984055],\n",
       "        [-0.08258746, -0.03237999]],\n",
       "\n",
       "       [[-0.30437505, -0.119507  ],\n",
       "        [-0.40839816, -0.15348508],\n",
       "        [-0.07300267, -0.14723577],\n",
       "        [-0.02308698,  0.19687783],\n",
       "        [ 0.08437634,  0.10334722],\n",
       "        [-0.23326305,  0.21261936],\n",
       "        [-0.29865867,  0.05015615]],\n",
       "\n",
       "       [[ 0.22007881, -0.03879863],\n",
       "        [-0.00212981,  0.02821524],\n",
       "        [ 0.12168066,  0.02650084],\n",
       "        [-0.17446343,  0.19189974],\n",
       "        [ 0.45476891,  0.14171278],\n",
       "        [-0.03252183,  0.20127262],\n",
       "        [-0.12840357, -0.04993555]],\n",
       "\n",
       "       [[-0.06608241,  0.33742109],\n",
       "        [-0.37238338, -0.18034993],\n",
       "        [-0.10258263, -0.45572748],\n",
       "        [-0.09355153,  0.42465491],\n",
       "        [ 0.02882308, -0.04461744],\n",
       "        [ 0.15523016, -0.02903826],\n",
       "        [ 0.29048334, -0.1578078 ]],\n",
       "\n",
       "       [[-0.08972963,  0.07892939],\n",
       "        [-0.34735261,  0.16064733],\n",
       "        [ 0.17720014, -0.00359091],\n",
       "        [ 0.02845276, -0.18494751],\n",
       "        [ 0.06469324, -0.18093769],\n",
       "        [-0.04889939,  0.08259947],\n",
       "        [-0.02221498, -0.17020292]],\n",
       "\n",
       "       [[ 0.16730442,  0.15091053],\n",
       "        [-0.04144885, -0.0344569 ],\n",
       "        [-0.05661704,  0.41863354],\n",
       "        [-0.07263036,  0.10514986],\n",
       "        [-0.04628764,  0.34267562],\n",
       "        [ 0.1686543 , -0.19185386],\n",
       "        [-0.27959411,  0.02731203]],\n",
       "\n",
       "       [[-0.13132225, -0.1291075 ],\n",
       "        [ 0.19778585,  0.214208  ],\n",
       "        [ 0.10681338,  0.10651628],\n",
       "        [-0.15393502, -0.03712542],\n",
       "        [-0.00672591,  0.15715481],\n",
       "        [-0.03222432, -0.19906711],\n",
       "        [-0.10373137, -0.03450763]]])</details></samp><p>...</p></details></samp>"
      ],
      "text/plain": [
       "TensorNetwork2D(tensors=200, indices=460, Lx=10, Ly=10, max_bond=7)"
      ]
     },
     "execution_count": 45,
     "metadata": {},
     "output_type": "execute_result"
    }
   ],
   "source": [
    "# and if we combine two PEPS, which are both TensorNetwork2D\n",
    "peps_a = qtn.PEPS.rand(10, 10, 7)\n",
    "peps_b = qtn.PEPS.rand(10, 10, 7)\n",
    "\n",
    "# we get a TensorNetwork2D\n",
    "peps_a | peps_b"
   ]
  },
  {
   "cell_type": "markdown",
   "id": "e06bf174-9d66-4c1f-9933-c2de84433c20",
   "metadata": {
    "raw_mimetype": "text/restructuredtext"
   },
   "source": [
    "One key thing this allows is for structured contraction schemes\n",
    "to remain avaiable once norm- or expectation- TNs have been formed\n",
    "for example, without calling\n",
    "{meth}`~quimb.tensor.tensor_core.TensorNetwork.view_like`."
   ]
  },
  {
   "cell_type": "markdown",
   "id": "902ddfb1-67b7-41bd-ade2-57cc6b30672b",
   "metadata": {
    "raw_mimetype": "text/restructuredtext"
   },
   "source": [
    "## Standard vs. Hyper Indices & Tensor Networks\n",
    "\n",
    "- In standard summation expressions and tensor networks, if an index appears\n",
    "  twice it is contracted, and if it appears once, it is an 'outer' index that\n",
    "  will be retained. Such a setup is assumed to be the default when contracting\n",
    "  tensors, and an error will be raised if an index is encountered more than\n",
    "  twice.\n",
    "- On the other hand, it is a perfectly valid 'sum-of-products-of-tensor-entries'\n",
    "  expression to have indices appear an arbitrary number of times.\n",
    "  It can be very beneficial to do so in fact. `quimb`\n",
    "  supports this, with the main difference being that you will have to\n",
    "  explicitly name the `output_inds` for contractions, which can no\n",
    "  longer be automatically inferred."
   ]
  },
  {
   "cell_type": "code",
   "execution_count": 46,
   "id": "3dfbf976-85ca-403a-90a4-cd9e872cecc1",
   "metadata": {},
   "outputs": [
    {
     "data": {
      "text/html": [
       "<samp style='font-size: 12px;'><details><summary><b style=\"color: #e55471;\">Tensor</b>(shape=(<b style=\"color: #828fdd;\">2</b>, <b style=\"color: #828fdd;\">2</b>, <b style=\"color: #828fdd;\">2</b>), inds=[<b style=\"color: #7aacd4;\">a</b>, <b style=\"color: #b9e292;\">b</b>, <b style=\"color: #5db6d5;\">c</b>], tags={}),</summary>backend=<b style=\"color: #7fdd73;\">numpy</b>, dtype=<b style=\"color: #75d2c6;\">float64</b>, data=array([[[ 0.20015531, -0.0434293 ],\n",
       "        [-0.18780095,  0.06465794]],\n",
       "\n",
       "       [[ 0.17666851, -0.26065482],\n",
       "        [-0.12846997,  0.18518863]]])</details></samp>"
      ],
      "text/plain": [
       "Tensor(shape=(2, 2, 2), inds=('a', 'b', 'c'), tags=oset([]))"
      ]
     },
     "execution_count": 46,
     "metadata": {},
     "output_type": "execute_result"
    }
   ],
   "source": [
    "T1 = qtn.rand_tensor((2, 2), ('a', 'x'))\n",
    "T2 = qtn.rand_tensor((2, 2), ('b', 'x'))\n",
    "T3 = qtn.rand_tensor((2, 2), ('c', 'x'))\n",
    "\n",
    "# we'll get an error due to 'x' unless we specify output_inds\n",
    "qtn.tensor_contract(T1, T2, T3, output_inds=['a', 'b', 'c'])"
   ]
  },
  {
   "cell_type": "markdown",
   "id": "00a83fb4-72c9-49bc-b448-232fc6fdeb9b",
   "metadata": {
    "raw_mimetype": "text/restructuredtext"
   },
   "source": [
    "The above has performed the summation:\n",
    "\n",
    "$$\n",
    "T[a, b, c] = \\sum_{x}  T_1[a, x] T_2[b, x] T_2[c, x]\n",
    "$$\n",
    "\n",
    "I.e. everything that doesn't appear in the `output_inds` is\n",
    "summed over and removed. Indices such as 'x' can be thought\n",
    "of as hyperedges:"
   ]
  },
  {
   "cell_type": "code",
   "execution_count": 47,
   "id": "196a47aa-e073-4174-8a79-a04e6d0322bd",
   "metadata": {},
   "outputs": [
    {
     "data": {
      "image/svg+xml": [
       "<?xml version=\"1.0\" encoding=\"UTF-8\"?><!DOCTYPE svg  PUBLIC '-//W3C//DTD SVG 1.1//EN'  'http://www.w3.org/Graphics/SVG/1.1/DTD/svg11.dtd'><svg width=\"349.2pt\" height=\"306.26pt\" version=\"1.1\" viewBox=\"0 0 349.2 306.26\" xmlns=\"http://www.w3.org/2000/svg\" xmlns:xlink=\"http://www.w3.org/1999/xlink\"><defs><style type=\"text/css\">*{stroke-linejoin: round; stroke-linecap: butt}</style></defs><path d=\"m0 306.26h349.2v-306.26h-349.2v306.26z\" opacity=\"0\"/><path d=\"m264.18 54.816 74.541-42.464\" clip-path=\"url(#610b306ab2d)\" fill=\"none\" stroke=\"#737880\" stroke-linecap=\"round\" stroke-opacity=\".5\"/><path d=\"m264.18 54.816-90.102 51.248\" clip-path=\"url(#610b306ab2d)\" fill=\"none\" stroke=\"#ff3333\" stroke-linecap=\"round\" stroke-opacity=\".5\"/><path d=\"m84.559 53.875 89.515 52.19\" clip-path=\"url(#610b306ab2d)\" fill=\"none\" stroke=\"#ff3333\" stroke-linecap=\"round\" stroke-opacity=\".5\"/><path d=\"m173.38 209.8 0.6955-103.73\" clip-path=\"url(#610b306ab2d)\" fill=\"none\" stroke=\"#ff3333\" stroke-linecap=\"round\" stroke-opacity=\".5\"/><path d=\"m84.559 53.875-74.077-43.269\" clip-path=\"url(#610b306ab2d)\" fill=\"none\" stroke=\"#737880\" stroke-linecap=\"round\" stroke-opacity=\".5\"/><path d=\"m173.38 209.8-0.62261 85.856\" clip-path=\"url(#610b306ab2d)\" fill=\"none\" stroke=\"#737880\" stroke-linecap=\"round\" stroke-opacity=\".5\"/><path d=\"m338.72 12.352z\" clip-path=\"url(#610b306ab2d)\" fill=\"#ffffff\"/><path d=\"m174.07 106.06z\" clip-path=\"url(#610b306ab2d)\" fill=\"#ffffff\"/><path d=\"m10.482 10.606z\" clip-path=\"url(#610b306ab2d)\" fill=\"#ffffff\"/><path d=\"m172.76 295.65z\" clip-path=\"url(#610b306ab2d)\" fill=\"#ffffff\"/><path d=\"m264.18 73.473c4.9479 0 9.6939-1.9658 13.193-5.4646s5.4646-8.2447 5.4646-13.193c0-4.9479-1.9658-9.6939-5.4646-13.193s-8.2447-5.4646-13.193-5.4646-9.6939 1.9658-13.193 5.4646-5.4646 8.2447-5.4646 13.193c0 4.9479 1.9658 9.6939 5.4646 13.193s8.2447 5.4646 13.193 5.4646z\" clip-path=\"url(#610b306ab2d)\" fill=\"#737880\" stroke=\"#5d6167\" stroke-width=\"2.023\"/><path d=\"m84.559 72.532c4.9479 0 9.6939-1.9658 13.193-5.4646s5.4646-8.2447 5.4646-13.193c0-4.9479-1.9658-9.6939-5.4646-13.193s-8.2447-5.4646-13.193-5.4646c-4.9479 0-9.6939 1.9658-13.193 5.4646s-5.4646 8.2447-5.4646 13.193c0 4.9479 1.9658 9.6939 5.4646 13.193s8.2447 5.4646 13.193 5.4646z\" clip-path=\"url(#610b306ab2d)\" fill=\"#737880\" stroke=\"#5d6167\" stroke-width=\"2.023\"/><path d=\"m173.38 228.45c4.9479 0 9.6939-1.9658 13.193-5.4646s5.4646-8.2447 5.4646-13.193-1.9658-9.6939-5.4646-13.193c-3.4987-3.4987-8.2447-5.4646-13.193-5.4646s-9.6939 1.9658-13.193 5.4646c-3.4987 3.4987-5.4646 8.2447-5.4646 13.193s1.9658 9.6939 5.4646 13.193 8.2447 5.4646 13.193 5.4646z\" clip-path=\"url(#610b306ab2d)\" fill=\"#737880\" stroke=\"#5d6167\" stroke-width=\"2.023\"/><g transform=\"translate(336.61 14.302) scale(.07 -.07)\" fill=\"#545759\"><defs><path id=\"DejaVuSansMono-61\" transform=\"scale(.015625)\" d=\"m2194 1759h-191q-503 0-758-177-254-176-254-526 0-315 190-490 191-175 528-175 475 0 747 329 272 330 275 911v128h-537zm1115 238v-1997h-578v519q-184-313-464-462-279-148-679-148-535 0-854 302-318 302-318 808 0 584 392 887t1151 303h772v91q-3 419-213 608-209 189-668 189-294 0-594-85-300-84-584-246v575q319 122 611 182 292 61 567 61 434 0 742-128t499-384q118-156 168-386t50-689z\"/></defs><use xlink:href=\"#DejaVuSansMono-61\"/></g><g transform=\"translate(8.3752 12.556) scale(.07 -.07)\" fill=\"#545759\"><defs><path id=\"DejaVuSansMono-62\" transform=\"scale(.015625)\" d=\"m2869 1747q0 669-213 1009-212 341-628 341-419 0-635-342-215-342-215-1008 0-663 215-1007 216-343 635-343 416 0 628 340 213 341 213 1010zm-1691 1306q138 256 380 393 242 138 561 138 631 0 993-486 363-485 363-1339 0-865-364-1358-364-492-998-492-313 0-552 136t-383 396v-441h-575v4863h575v-1810z\"/></defs><use xlink:href=\"#DejaVuSansMono-62\"/></g><g transform=\"translate(170.65 297.6) scale(.07 -.07)\" fill=\"#545759\"><defs><path id=\"DejaVuSansMono-63\" transform=\"scale(.015625)\" d=\"m3316 178q-232-134-477-201-245-68-501-68-813 0-1271 487-458 488-458 1351 0 862 458 1349 458 488 1271 488 253 0 493-66 241-65 485-202v-603q-228 203-458 293-230 91-520 91-541 0-832-350-290-350-290-1e3 0-647 292-999 292-351 830-351 300 0 537 92 238 92 441 286v-597z\"/></defs><use xlink:href=\"#DejaVuSansMono-63\"/></g><defs><clipPath id=\"610b306ab2d\"><rect x=\"7.2\" y=\"7.7555\" width=\"334.8\" height=\"290.75\"/></clipPath></defs></svg>"
      ],
      "text/plain": [
       "<Figure size 600x600 with 1 Axes>"
      ]
     },
     "metadata": {
      "needs_background": "light"
     },
     "output_type": "display_data"
    }
   ],
   "source": [
    "(T1 | T2 | T3).draw(highlight_inds=['x'])"
   ]
  },
  {
   "cell_type": "markdown",
   "id": "1a076910-c430-4a98-baff-f74294e7c4f2",
   "metadata": {
    "raw_mimetype": "text/restructuredtext"
   },
   "source": [
    ":::{note}\n",
    "Contractions of 'standard' tensor networks can be performed just using\n",
    "pairwise 'matrix-multiplication equivalent' contractions,\n",
    "i.e. using {func}`~numpy.tensordot`. While 'hyper' tensor networks\n",
    "are still contracted using pairwise operations, these might require\n",
    "routines equivalent to 'batched-matrix-multiplication' and so\n",
    "{func}`~numpy.einsum`.\n",
    ":::"
   ]
  }
 ],
 "metadata": {
  "kernelspec": {
   "display_name": "Python 3",
   "language": "python",
   "name": "python3"
  },
  "language_info": {
   "codemirror_mode": {
    "name": "ipython",
    "version": 3
   },
   "file_extension": ".py",
   "mimetype": "text/x-python",
   "name": "python",
   "nbconvert_exporter": "python",
   "pygments_lexer": "ipython3",
   "version": "3"
  },
  "vscode": {
   "interpreter": {
    "hash": "39c10650315d977fb13868ea1402e99f3e10e9885c2c202e692ae90b8995050d"
   }
  }
 },
 "nbformat": 4,
 "nbformat_minor": 4
}
