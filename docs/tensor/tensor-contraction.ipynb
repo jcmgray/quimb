{
 "cells": [
  {
   "cell_type": "markdown",
   "id": "d446ce25-344f-4c86-9486-29c9cb196e88",
   "metadata": {
    "raw_mimetype": "text/restructuredtext",
    "tags": []
   },
   "source": [
    "(tensor-network-contraction)=\n",
    "\n",
    "# Contraction\n",
    "\n",
    "One of the core tasks of any tensor network algorithm is *contracting* a network of tensors into the single tensor, be it scalar or multi-dimensional, that it implicitly represents and a key part of `quimb` is handling this process automatically. In short, anywhere you see the `optimize` kwarg, it specifies what strategy to use for *automatic* contraction, and it is worth noting that there is always some trade-off between time spent optimizing the order, and then actually executing it.\n",
    "\n",
    "Before explaining the options, we'll first briefly explain the task and problem, setting up a simple initial TN:"
   ]
  },
  {
   "cell_type": "code",
   "execution_count": 2,
   "id": "bc8a4ba6-5d2b-4e8a-b95d-48672d131e42",
   "metadata": {},
   "outputs": [
    {
     "data": {
      "image/svg+xml": [
       "<?xml version=\"1.0\" encoding=\"UTF-8\"?><!DOCTYPE svg  PUBLIC '-//W3C//DTD SVG 1.1//EN'  'http://www.w3.org/Graphics/SVG/1.1/DTD/svg11.dtd'><svg width=\"408.26pt\" height=\"187.82pt\" version=\"1.1\" viewBox=\"0 0 408.26 187.82\" xmlns=\"http://www.w3.org/2000/svg\" xmlns:xlink=\"http://www.w3.org/1999/xlink\"><defs><style type=\"text/css\">*{stroke-linejoin: round; stroke-linecap: butt}</style></defs><path d=\"m0 187.82h408.26v-187.82h-408.26v187.82z\" opacity=\"0\"/><path d=\"m252.94 36.002 85.779-25.396\" clip-path=\"url(#ce235d102f6)\" fill=\"none\" stroke=\"#737880\" stroke-linecap=\"round\" stroke-opacity=\".5\"/><path d=\"m252.94 36.002-78.285-13.178\" clip-path=\"url(#ce235d102f6)\" fill=\"none\" stroke=\"#737880\" stroke-linecap=\"round\" stroke-opacity=\".5\" stroke-width=\"1.585\"/><g transform=\"translate(211.39 30.986) rotate(9.5554) scale(.07 -.07)\" fill=\"#545759\"><defs><path id=\"DejaVuSansMono-62\" transform=\"scale(.015625)\" d=\"m2869 1747q0 669-213 1009-212 341-628 341-419 0-635-342-215-342-215-1008 0-663 215-1007 216-343 635-343 416 0 628 340 213 341 213 1010zm-1691 1306q138 256 380 393 242 138 561 138 631 0 993-486 363-485 363-1339 0-865-364-1358-364-492-998-492-313 0-552 136t-383 396v-441h-575v4863h575v-1810z\"/></defs><use xlink:href=\"#DejaVuSansMono-62\"/></g><path d=\"m252.94 36.002-78 50.408\" clip-path=\"url(#ce235d102f6)\" fill=\"none\" stroke=\"#737880\" stroke-linecap=\"round\" stroke-opacity=\".5\" stroke-width=\"1.585\"/><g transform=\"translate(213.23 63.988) rotate(-32.873) scale(.07 -.07)\" fill=\"#545759\"><defs><path id=\"DejaVuSansMono-63\" transform=\"scale(.015625)\" d=\"m3316 178q-232-134-477-201-245-68-501-68-813 0-1271 487-458 488-458 1351 0 862 458 1349 458 488 1271 488 253 0 493-66 241-65 485-202v-603q-228 203-458 293-230 91-520 91-541 0-832-350-290-350-290-1e3 0-647 292-999 292-351 830-351 300 0 537 92 238 92 441 286v-597z\"/></defs><use xlink:href=\"#DejaVuSansMono-63\"/></g><path d=\"m174.94 86.41-78.449-49.708\" clip-path=\"url(#ce235d102f6)\" fill=\"none\" stroke=\"#737880\" stroke-linecap=\"round\" stroke-opacity=\".5\" stroke-width=\"1.585\"/><g transform=\"translate(132.89 62.076) rotate(32.36) scale(.07 -.07)\" fill=\"#545759\"><defs><path id=\"DejaVuSansMono-64\" transform=\"scale(.015625)\" d=\"m2681 3053v1810h575v-4863h-575v441q-143-260-383-396-239-136-551-136-634 0-999 492-364 493-364 1358 0 854 366 1339 366 486 997 486 316 0 556-136 241-135 378-395zm-1690-1306q0-669 212-1010 213-340 628-340 416 0 633 343 217 344 217 1007 0 666-217 1008t-633 342q-415 0-628-341-212-340-212-1009z\"/></defs><use xlink:href=\"#DejaVuSansMono-64\"/></g><path d=\"m174.94 86.41 0.40602 90.807\" clip-path=\"url(#ce235d102f6)\" fill=\"none\" stroke=\"#737880\" stroke-linecap=\"round\" stroke-opacity=\".5\" stroke-width=\"1.585\"/><path d=\"m174.94 86.41-0.28445-63.587\" clip-path=\"url(#ce235d102f6)\" fill=\"none\" stroke=\"#737880\" stroke-linecap=\"round\" stroke-opacity=\".5\" stroke-width=\"2\"/><g transform=\"translate(172.84 52.519) rotate(89.744) scale(.07 -.07)\" fill=\"#545759\"><defs><path id=\"DejaVuSansMono-66\" transform=\"scale(.015625)\" d=\"m3322 4863v-479h-653q-310 0-430-127-120-126-120-448v-309h1203v-447h-1203v-3053h-575v3053h-935v447h935v244q0 575 264 847t823 272h691z\"/></defs><use xlink:href=\"#DejaVuSansMono-66\"/></g><path d=\"m96.49 36.702-86.008-24.632\" clip-path=\"url(#ce235d102f6)\" fill=\"none\" stroke=\"#737880\" stroke-linecap=\"round\" stroke-opacity=\".5\" stroke-width=\"1.585\"/><path d=\"m96.49 36.702 78.164-13.878\" clip-path=\"url(#ce235d102f6)\" fill=\"none\" stroke=\"#737880\" stroke-linecap=\"round\" stroke-opacity=\".5\" stroke-width=\"2\"/><g transform=\"translate(133.84 32.051) rotate(-10.068) scale(.07 -.07)\" fill=\"#545759\"><defs><path id=\"DejaVuSansMono-68\" transform=\"scale(.015625)\" d=\"m3284 2169v-2169h-578v2169q0 472-166 693-165 222-518 222-403 0-621-286-217-285-217-820v-1978h-575v4863h575v-1888q154 300 416 454 263 155 622 155 534 0 798-352 264-351 264-1063z\"/></defs><use xlink:href=\"#DejaVuSansMono-68\"/></g><path d=\"m338.72 10.606z\" clip-path=\"url(#ce235d102f6)\" fill=\"#ffffff\"/><path d=\"m175.34 177.22z\" clip-path=\"url(#ce235d102f6)\" fill=\"#ffffff\"/><path d=\"m10.482 12.071z\" clip-path=\"url(#ce235d102f6)\" fill=\"#ffffff\"/><path d=\"m252.94 48.534c3.3235 0 6.5113-1.3204 8.8614-3.6705 2.3501-2.3501 3.6705-5.5379 3.6705-8.8614 0-3.3235-1.3204-6.5113-3.6705-8.8614-2.3501-2.3501-5.5379-3.6705-8.8614-3.6705-3.3235 0-6.5113 1.3204-8.8614 3.6705-2.3501 2.3501-3.6705 5.5379-3.6705 8.8614 0 3.3235 1.3204 6.5113 3.6705 8.8614 2.3501 2.3501 5.5379 3.6705 8.8614 3.6705z\" clip-path=\"url(#ce235d102f6)\" fill=\"#56b4e9\" stroke=\"#4da2d2\" stroke-width=\"1.7884\"/><path d=\"m174.94 98.942c3.3235 0 6.5113-1.3204 8.8614-3.6705 2.3501-2.3501 3.6705-5.5379 3.6705-8.8614s-1.3204-6.5113-3.6705-8.8614c-2.3501-2.3501-5.5379-3.6705-8.8614-3.6705-3.3235 0-6.5113 1.3204-8.8614 3.6705-2.3501 2.3501-3.6705 5.5379-3.6705 8.8614s1.3204 6.5113 3.6705 8.8614c2.3501 2.3501 5.5379 3.6705 8.8614 3.6705z\" clip-path=\"url(#ce235d102f6)\" fill=\"#e69f00\" stroke=\"#cf8f00\" stroke-width=\"1.7884\"/><path d=\"m96.49 49.234c3.3235 0 6.5113-1.3204 8.8614-3.6705 2.3501-2.3501 3.6705-5.5379 3.6705-8.8614s-1.3204-6.5113-3.6705-8.8614-5.5379-3.6705-8.8614-3.6705-6.5113 1.3204-8.8614 3.6705-3.6705 5.5379-3.6705 8.8614 1.3204 6.5113 3.6705 8.8614c2.3501 2.3501 5.5379 3.6705 8.8614 3.6705z\" clip-path=\"url(#ce235d102f6)\" fill=\"#009e73\" stroke=\"#008e68\" stroke-width=\"1.7884\"/><path d=\"m174.65 35.356c3.3235 0 6.5113-1.3204 8.8614-3.6705 2.3501-2.3501 3.6705-5.5379 3.6705-8.8614 0-3.3235-1.3204-6.5113-3.6705-8.8614-2.3501-2.3501-5.5379-3.6705-8.8614-3.6705-3.3235 0-6.5113 1.3204-8.8614 3.6705-2.3501 2.3501-3.6705 5.5379-3.6705 8.8614 0 3.3235 1.3204 6.5113 3.6705 8.8614 2.3501 2.3501 5.5379 3.6705 8.8614 3.6705z\" clip-path=\"url(#ce235d102f6)\" fill=\"#d55e00\" stroke=\"#c05500\" stroke-width=\"1.7884\"/><g transform=\"translate(336.61 12.556) scale(.07 -.07)\" fill=\"#545759\"><defs><path id=\"DejaVuSansMono-61\" transform=\"scale(.015625)\" d=\"m2194 1759h-191q-503 0-758-177-254-176-254-526 0-315 190-490 191-175 528-175 475 0 747 329 272 330 275 911v128h-537zm1115 238v-1997h-578v519q-184-313-464-462-279-148-679-148-535 0-854 302-318 302-318 808 0 584 392 887t1151 303h772v91q-3 419-213 608-209 189-668 189-294 0-594-85-300-84-584-246v575q319 122 611 182 292 61 567 61 434 0 742-128t499-384q118-156 168-386t50-689z\"/></defs><use xlink:href=\"#DejaVuSansMono-61\"/></g><g transform=\"translate(173.24 179.17) scale(.07 -.07)\" fill=\"#545759\"><defs><path id=\"DejaVuSansMono-65\" transform=\"scale(.015625)\" d=\"m3475 1894v-281h-2491v-19q0-572 298-885 299-312 843-312 275 0 575 87 300 88 641 266v-572q-328-134-633-201-305-68-589-68-816 0-1276 489-459 490-459 1349 0 837 450 1337t1200 500q669 0 1055-453t386-1237zm-575 169q-12 506-239 770t-652 264q-415 0-684-275t-319-763l1894 4z\"/></defs><use xlink:href=\"#DejaVuSansMono-65\"/></g><g transform=\"translate(8.3752 13.973) scale(.07 -.07)\" fill=\"#545759\"><defs><path id=\"DejaVuSansMono-67\" transform=\"scale(.015625)\" d=\"m2681 1778q0 647-211 983t-614 336q-422 0-644-336-221-336-221-983t223-986q224-339 649-339 396 0 607 340 211 341 211 985zm575-1553q0-788-372-1194-371-406-1093-406-238 0-498 44-259 43-518 128v569q306-144 556-213t460-69q465 0 677 254 213 253 213 803v25 390q-137-293-375-437-237-144-578-144-612 0-978 490-366 491-366 1313 0 825 366 1315 366 491 978 491 338 0 572-134t381-416v454h575v-3263z\"/></defs><use xlink:href=\"#DejaVuSansMono-67\"/></g><g transform=\"translate(246.92 38.788) scale(.1 -.1)\" fill=\"#545759\"><defs><path id=\"DejaVuSansMono-54\" transform=\"scale(.015625)\" d=\"m147 4666h3559v-532h-1459v-4134h-634v4134h-1466v532z\"/><path id=\"DejaVuSansMono-30\" transform=\"scale(.015625)\" d=\"m1509 2344q0 172 120 297 121 125 290 125 175 0 300-125t125-297q0-175-124-297-123-122-301-122-175 0-293 119-117 119-117 300zm416 1906q-441 0-658-475t-217-1447q0-969 217-1444t658-475q444 0 661 475t217 1444q0 972-217 1447t-661 475zm0 500q747 0 1130-613 383-612 383-1809 0-1194-383-1807-383-612-1130-612t-1128 612q-381 613-381 1807 0 1197 381 1809 381 613 1128 613z\"/></defs><use xlink:href=\"#DejaVuSansMono-54\"/><use x=\"60.205078\" xlink:href=\"#DejaVuSansMono-30\"/></g><g transform=\"translate(168.92 89.196) scale(.1 -.1)\" fill=\"#545759\"><defs><path id=\"DejaVuSansMono-31\" transform=\"scale(.015625)\" d=\"m844 531h981v3566l-1056-238v575l1050 232h631v-4135h969v-531h-2575v531z\"/></defs><use xlink:href=\"#DejaVuSansMono-54\"/><use x=\"60.205078\" xlink:href=\"#DejaVuSansMono-31\"/></g><g transform=\"translate(90.47 39.488) scale(.1 -.1)\" fill=\"#545759\"><defs><path id=\"DejaVuSansMono-32\" transform=\"scale(.015625)\" d=\"m1166 531h2143v-531h-2834v531q584 616 1021 1088 438 472 604 665 313 382 422 618t109 482q0 391-230 613-229 222-629 222-284 0-597-103-312-103-662-313v638q321 153 632 231t614 78q685 0 1102-364t417-955q0-300-139-600t-451-662q-175-203-508-563-333-359-1014-1075z\"/></defs><use xlink:href=\"#DejaVuSansMono-54\"/><use x=\"60.205078\" xlink:href=\"#DejaVuSansMono-32\"/></g><g transform=\"translate(168.63 25.61) scale(.1 -.1)\" fill=\"#545759\"><defs><path id=\"DejaVuSansMono-33\" transform=\"scale(.015625)\" d=\"m2425 2497q459-122 703-433t244-776q0-644-433-1012-433-367-1198-367-322 0-657 60-334 59-656 172v628q319-166 628-247 310-81 616-81 519 0 797 234t278 675q0 406-278 645t-753 239h-482v519h482q434 0 678 190 244 191 244 532 0 359-227 551-227 193-645 193-278 0-575-63-297-62-622-187v581q378 100 673 150 296 50 524 50 681 0 1089-342t408-908q0-384-215-641-214-256-623-362z\"/></defs><use xlink:href=\"#DejaVuSansMono-54\"/><use x=\"60.205078\" xlink:href=\"#DejaVuSansMono-33\"/></g><path d=\"m349 124.09h50.061q2 0 2-2v-57.925q0-2-2-2h-50.061q-2 0-2 2v57.925q0 2 2 2z\" fill=\"none\" stroke=\"#999999\" stroke-opacity=\".2\"/><defs><path id=\"2859e77e770\" d=\"m0 5c1.326 0 2.5979-0.52683 3.5355-1.4645 0.93763-0.93764 1.4645-2.2095 1.4645-3.5355s-0.52683-2.5979-1.4645-3.5355c-0.93764-0.93763-2.2095-1.4645-3.5355-1.4645s-2.5979 0.52683-3.5355 1.4645c-0.93763 0.93764-1.4645 2.2095-1.4645 3.5355s0.52683 2.5979 1.4645 3.5355c0.93764 0.93763 2.2095 1.4645 3.5355 1.4645z\" stroke=\"#4da2d2\"/></defs><use x=\"361\" y=\"70.317271\" fill=\"#56b4e9\" stroke=\"#4da2d2\" xlink:href=\"#2859e77e770\"/><g transform=\"translate(379 73.817) scale(.1 -.1)\" fill=\"#545759\"><defs></defs><use xlink:href=\"#DejaVuSansMono-20\"/><use x=\"60.205078\" xlink:href=\"#DejaVuSansMono-54\"/><use x=\"120.410156\" xlink:href=\"#DejaVuSansMono-30\"/></g><defs><path id=\"600cfe9305f\" d=\"m0 5c1.326 0 2.5979-0.52683 3.5355-1.4645 0.93763-0.93764 1.4645-2.2095 1.4645-3.5355s-0.52683-2.5979-1.4645-3.5355c-0.93764-0.93763-2.2095-1.4645-3.5355-1.4645s-2.5979 0.52683-3.5355 1.4645c-0.93763 0.93764-1.4645 2.2095-1.4645 3.5355s0.52683 2.5979 1.4645 3.5355c0.93764 0.93763 2.2095 1.4645 3.5355 1.4645z\" stroke=\"#cf8f00\"/></defs><use x=\"361\" y=\"85.048521\" fill=\"#e69f00\" stroke=\"#cf8f00\" xlink:href=\"#600cfe9305f\"/><g transform=\"translate(379 88.549) scale(.1 -.1)\" fill=\"#545759\"><use xlink:href=\"#DejaVuSansMono-20\"/><use x=\"60.205078\" xlink:href=\"#DejaVuSansMono-54\"/><use x=\"120.410156\" xlink:href=\"#DejaVuSansMono-31\"/></g><defs><path id=\"4d46c25cd24\" d=\"m0 5c1.326 0 2.5979-0.52683 3.5355-1.4645 0.93763-0.93764 1.4645-2.2095 1.4645-3.5355s-0.52683-2.5979-1.4645-3.5355c-0.93764-0.93763-2.2095-1.4645-3.5355-1.4645s-2.5979 0.52683-3.5355 1.4645c-0.93763 0.93764-1.4645 2.2095-1.4645 3.5355s0.52683 2.5979 1.4645 3.5355c0.93764 0.93763 2.2095 1.4645 3.5355 1.4645z\" stroke=\"#008e68\"/></defs><use x=\"361\" y=\"99.779771\" fill=\"#009e73\" stroke=\"#008e68\" xlink:href=\"#4d46c25cd24\"/><g transform=\"translate(379 103.28) scale(.1 -.1)\" fill=\"#545759\"><use xlink:href=\"#DejaVuSansMono-20\"/><use x=\"60.205078\" xlink:href=\"#DejaVuSansMono-54\"/><use x=\"120.410156\" xlink:href=\"#DejaVuSansMono-32\"/></g><defs><path id=\"b80af3d02ca\" d=\"m0 5c1.326 0 2.5979-0.52683 3.5355-1.4645 0.93763-0.93764 1.4645-2.2095 1.4645-3.5355s-0.52683-2.5979-1.4645-3.5355c-0.93764-0.93763-2.2095-1.4645-3.5355-1.4645s-2.5979 0.52683-3.5355 1.4645c-0.93763 0.93764-1.4645 2.2095-1.4645 3.5355s0.52683 2.5979 1.4645 3.5355c0.93764 0.93763 2.2095 1.4645 3.5355 1.4645z\" stroke=\"#c05500\"/></defs><use x=\"361\" y=\"114.511021\" fill=\"#d55e00\" stroke=\"#c05500\" xlink:href=\"#b80af3d02ca\"/><g transform=\"translate(379 118.01) scale(.1 -.1)\" fill=\"#545759\"><use xlink:href=\"#DejaVuSansMono-20\"/><use x=\"60.205078\" xlink:href=\"#DejaVuSansMono-54\"/><use x=\"120.410156\" xlink:href=\"#DejaVuSansMono-33\"/></g><defs><clipPath id=\"ce235d102f6\"><rect x=\"7.2\" y=\"7.3569\" width=\"334.8\" height=\"171.54\"/></clipPath></defs></svg>"
      ],
      "text/plain": [
       "<Figure size 600x600 with 1 Axes>"
      ]
     },
     "metadata": {
      "needs_background": "light"
     },
     "output_type": "display_data"
    },
    {
     "name": "stdout",
     "output_type": "stream",
     "text": [
      "outer inds: ('a', 'e', 'g')\n"
     ]
    }
   ],
   "source": [
    "%config InlineBackend.figure_formats = ['svg']\n",
    "import quimb.tensor as qtn\n",
    "\n",
    "tn = qtn.TensorNetwork((\n",
    "    qtn.rand_tensor([2, 3, 3], ['a', 'b', 'c'], 'T0'),\n",
    "    qtn.rand_tensor([3, 3, 3, 4], ['c', 'd', 'e', 'f'], 'T1'),\n",
    "    qtn.rand_tensor([3, 3, 4], ['d', 'g', 'h'], 'T2'),\n",
    "    qtn.rand_tensor([4, 3, 4], ['h', 'b', 'f'], 'T3'),\n",
    "))\n",
    "tn.draw(['T0', 'T1', 'T2', 'T3'], show_inds=\"all\")\n",
    "print(\"outer inds:\", tn.outer_inds())"
   ]
  },
  {
   "cell_type": "markdown",
   "id": "6f720581",
   "metadata": {},
   "source": [
    "This network by default has 'outer' indices ('a', 'e', 'g'), and can be thought of as a *lazy* representation of the 3D tensor with those indices. The actual 3D tensor is what we get when we [`contract`](quimb.tensor.tensor_core.TensorNetwork.contract) it:"
   ]
  },
  {
   "cell_type": "code",
   "execution_count": 3,
   "id": "57de5b18",
   "metadata": {},
   "outputs": [
    {
     "data": {
      "image/svg+xml": [
       "<?xml version=\"1.0\" encoding=\"UTF-8\"?><!DOCTYPE svg  PUBLIC '-//W3C//DTD SVG 1.1//EN'  'http://www.w3.org/Graphics/SVG/1.1/DTD/svg11.dtd'><svg width=\"265.73pt\" height=\"238.62pt\" version=\"1.1\" viewBox=\"0 0 265.73 238.62\" xmlns=\"http://www.w3.org/2000/svg\" xmlns:xlink=\"http://www.w3.org/1999/xlink\"><defs><style type=\"text/css\">*{stroke-linejoin: round; stroke-linecap: butt}</style></defs><path d=\"m0 238.62h265.73v-238.62h-265.73v238.62z\" opacity=\"0\"/><path d=\"m134.83 119.31h-125.52\" clip-path=\"url(#c6dd7ed34b9)\" fill=\"none\" stroke=\"#737880\" stroke-linecap=\"round\" stroke-opacity=\".5\"/><path d=\"m134.83 119.31 62.761-108.71\" clip-path=\"url(#c6dd7ed34b9)\" fill=\"none\" stroke=\"#737880\" stroke-linecap=\"round\" stroke-opacity=\".5\" stroke-width=\"1.585\"/><path d=\"m134.83 119.31 62.761 108.71\" clip-path=\"url(#c6dd7ed34b9)\" fill=\"none\" stroke=\"#737880\" stroke-linecap=\"round\" stroke-opacity=\".5\" stroke-width=\"1.585\"/><path d=\"m9.3071 119.31z\" clip-path=\"url(#c6dd7ed34b9)\" fill=\"#ffffff\"/><path d=\"m197.59 10.606z\" clip-path=\"url(#c6dd7ed34b9)\" fill=\"#ffffff\"/><path d=\"m197.59 228.02z\" clip-path=\"url(#c6dd7ed34b9)\" fill=\"#ffffff\"/><path d=\"m144.44 142.51c6.149-2.547 11.04-7.4375 13.586-13.586 2.547-6.149 2.547-13.065 0-19.214l-23.194 9.6071z\" clip-path=\"url(#c6dd7ed34b9)\" fill=\"#56b4e9\" stroke=\"#4da2d2\" stroke-width=\"2.6833\"/><path d=\"m158.02 109.7c-2.547-6.149-7.4375-11.04-13.586-13.586-6.149-2.547-13.065-2.547-19.214 0l9.6071 23.194z\" clip-path=\"url(#c6dd7ed34b9)\" fill=\"#e69f00\" stroke=\"#cf8f00\" stroke-width=\"2.6833\"/><path d=\"m125.22 96.118c-6.149 2.547-11.04 7.4375-13.586 13.586s-2.547 13.065 0 19.214l23.194-9.6071z\" clip-path=\"url(#c6dd7ed34b9)\" fill=\"#009e73\" stroke=\"#008e68\" stroke-width=\"2.6833\"/><path d=\"m111.64 128.92c1.2616 3.0458 3.1109 5.8134 5.442 8.1445s5.0987 4.1804 8.1445 5.442c3.0458 1.2616 6.3104 1.911 9.6071 1.911s6.5613-0.64938 9.6071-1.911l-9.6071-23.194z\" clip-path=\"url(#c6dd7ed34b9)\" fill=\"#d55e00\" stroke=\"#c05500\" stroke-width=\"2.6833\"/><g transform=\"translate(7.2 121.26) scale(.07 -.07)\" fill=\"#545759\"><defs><path id=\"DejaVuSansMono-61\" transform=\"scale(.015625)\" d=\"m2194 1759h-191q-503 0-758-177-254-176-254-526 0-315 190-490 191-175 528-175 475 0 747 329 272 330 275 911v128h-537zm1115 238v-1997h-578v519q-184-313-464-462-279-148-679-148-535 0-854 302-318 302-318 808 0 584 392 887t1151 303h772v91q-3 419-213 608-209 189-668 189-294 0-594-85-300-84-584-246v575q319 122 611 182 292 61 567 61 434 0 742-128t499-384q118-156 168-386t50-689z\"/></defs><use xlink:href=\"#DejaVuSansMono-61\"/></g><g transform=\"translate(195.48 12.556) scale(.07 -.07)\" fill=\"#545759\"><defs><path id=\"DejaVuSansMono-65\" transform=\"scale(.015625)\" d=\"m3475 1894v-281h-2491v-19q0-572 298-885 299-312 843-312 275 0 575 87 300 88 641 266v-572q-328-134-633-201-305-68-589-68-816 0-1276 489-459 490-459 1349 0 837 450 1337t1200 500q669 0 1055-453t386-1237zm-575 169q-12 506-239 770t-652 264q-415 0-684-275t-319-763l1894 4z\"/></defs><use xlink:href=\"#DejaVuSansMono-65\"/></g><g transform=\"translate(195.48 229.92) scale(.07 -.07)\" fill=\"#545759\"><defs><path id=\"DejaVuSansMono-67\" transform=\"scale(.015625)\" d=\"m2681 1778q0 647-211 983t-614 336q-422 0-644-336-221-336-221-983t223-986q224-339 649-339 396 0 607 340 211 341 211 985zm575-1553q0-788-372-1194-371-406-1093-406-238 0-498 44-259 43-518 128v569q306-144 556-213t460-69q465 0 677 254 213 253 213 803v25 390q-137-293-375-437-237-144-578-144-612 0-978 490-366 491-366 1313 0 825 366 1315 366 491 978 491 338 0 572-134t381-416v454h575v-3263z\"/></defs><use xlink:href=\"#DejaVuSansMono-67\"/></g><g transform=\"translate(92.688 122.1) scale(.1 -.1)\" fill=\"#545759\"><defs><path id=\"DejaVuSansMono-54\" transform=\"scale(.015625)\" d=\"m147 4666h3559v-532h-1459v-4134h-634v4134h-1466v532z\"/><path id=\"DejaVuSansMono-30\" transform=\"scale(.015625)\" d=\"m1509 2344q0 172 120 297 121 125 290 125 175 0 300-125t125-297q0-175-124-297-123-122-301-122-175 0-293 119-117 119-117 300zm416 1906q-441 0-658-475t-217-1447q0-969 217-1444t658-475q444 0 661 475t217 1444q0 972-217 1447t-661 475zm0 500q747 0 1130-613 383-612 383-1809 0-1194-383-1807-383-612-1130-612t-1128 612q-381 613-381 1807 0 1197 381 1809 381 613 1128 613z\"/><path id=\"DejaVuSansMono-2c\" transform=\"scale(.015625)\" d=\"m1569 947h787v-647l-615-1197h-482l310 1197v647z\"/><path id=\"DejaVuSansMono-31\" transform=\"scale(.015625)\" d=\"m844 531h981v3566l-1056-238v575l1050 232h631v-4135h969v-531h-2575v531z\"/><path id=\"DejaVuSansMono-32\" transform=\"scale(.015625)\" d=\"m1166 531h2143v-531h-2834v531q584 616 1021 1088 438 472 604 665 313 382 422 618t109 482q0 391-230 613-229 222-629 222-284 0-597-103-312-103-662-313v638q321 153 632 231t614 78q685 0 1102-364t417-955q0-300-139-600t-451-662q-175-203-508-563-333-359-1014-1075z\"/><path id=\"DejaVuSansMono-33\" transform=\"scale(.015625)\" d=\"m2425 2497q459-122 703-433t244-776q0-644-433-1012-433-367-1198-367-322 0-657 60-334 59-656 172v628q319-166 628-247 310-81 616-81 519 0 797 234t278 675q0 406-278 645t-753 239h-482v519h482q434 0 678 190 244 191 244 532 0 359-227 551-227 193-645 193-278 0-575-63-297-62-622-187v581q378 100 673 150 296 50 524 50 681 0 1089-342t408-908q0-384-215-641-214-256-623-362z\"/></defs><use xlink:href=\"#DejaVuSansMono-54\"/><use x=\"60.205078\" xlink:href=\"#DejaVuSansMono-30\"/><use x=\"120.410156\" xlink:href=\"#DejaVuSansMono-2c\"/><use x=\"180.615234\" xlink:href=\"#DejaVuSansMono-20\"/><use x=\"240.820312\" xlink:href=\"#DejaVuSansMono-54\"/><use x=\"301.025391\" xlink:href=\"#DejaVuSansMono-31\"/><use x=\"361.230469\" xlink:href=\"#DejaVuSansMono-2c\"/><use x=\"421.435547\" xlink:href=\"#DejaVuSansMono-20\"/><use x=\"481.640625\" xlink:href=\"#DejaVuSansMono-54\"/><use x=\"541.845703\" xlink:href=\"#DejaVuSansMono-32\"/><use x=\"602.050781\" xlink:href=\"#DejaVuSansMono-2c\"/><use x=\"662.255859\" xlink:href=\"#DejaVuSansMono-20\"/><use x=\"722.460938\" xlink:href=\"#DejaVuSansMono-54\"/><use x=\"782.666016\" xlink:href=\"#DejaVuSansMono-33\"/></g><path d=\"m206.47 150.27h50.061q2 0 2-2v-57.925q0-2-2-2h-50.061q-2 0-2 2v57.925q0 2 2 2z\" fill=\"none\" stroke=\"#999999\" stroke-opacity=\".2\"/><defs><path id=\"8f95e51ae4f\" d=\"m0 5c1.326 0 2.5979-0.52683 3.5355-1.4645 0.93763-0.93764 1.4645-2.2095 1.4645-3.5355s-0.52683-2.5979-1.4645-3.5355c-0.93764-0.93763-2.2095-1.4645-3.5355-1.4645s-2.5979 0.52683-3.5355 1.4645c-0.93763 0.93764-1.4645 2.2095-1.4645 3.5355s0.52683 2.5979 1.4645 3.5355c0.93764 0.93763 2.2095 1.4645 3.5355 1.4645z\" stroke=\"#4da2d2\"/></defs><use x=\"218.474062\" y=\"96.500882\" fill=\"#56b4e9\" stroke=\"#4da2d2\" xlink:href=\"#8f95e51ae4f\"/><g transform=\"translate(236.47 100) scale(.1 -.1)\" fill=\"#545759\"><use xlink:href=\"#DejaVuSansMono-20\"/><use x=\"60.205078\" xlink:href=\"#DejaVuSansMono-54\"/><use x=\"120.410156\" xlink:href=\"#DejaVuSansMono-30\"/></g><defs><path id=\"5c4ac5189a0\" d=\"m0 5c1.326 0 2.5979-0.52683 3.5355-1.4645 0.93763-0.93764 1.4645-2.2095 1.4645-3.5355s-0.52683-2.5979-1.4645-3.5355c-0.93764-0.93763-2.2095-1.4645-3.5355-1.4645s-2.5979 0.52683-3.5355 1.4645c-0.93763 0.93764-1.4645 2.2095-1.4645 3.5355s0.52683 2.5979 1.4645 3.5355c0.93764 0.93763 2.2095 1.4645 3.5355 1.4645z\" stroke=\"#cf8f00\"/></defs><use x=\"218.474062\" y=\"111.232132\" fill=\"#e69f00\" stroke=\"#cf8f00\" xlink:href=\"#5c4ac5189a0\"/><g transform=\"translate(236.47 114.73) scale(.1 -.1)\" fill=\"#545759\"><use xlink:href=\"#DejaVuSansMono-20\"/><use x=\"60.205078\" xlink:href=\"#DejaVuSansMono-54\"/><use x=\"120.410156\" xlink:href=\"#DejaVuSansMono-31\"/></g><defs><path id=\"36b2853bac9\" d=\"m0 5c1.326 0 2.5979-0.52683 3.5355-1.4645 0.93763-0.93764 1.4645-2.2095 1.4645-3.5355s-0.52683-2.5979-1.4645-3.5355c-0.93764-0.93763-2.2095-1.4645-3.5355-1.4645s-2.5979 0.52683-3.5355 1.4645c-0.93763 0.93764-1.4645 2.2095-1.4645 3.5355s0.52683 2.5979 1.4645 3.5355c0.93764 0.93763 2.2095 1.4645 3.5355 1.4645z\" stroke=\"#008e68\"/></defs><use x=\"218.474062\" y=\"125.963382\" fill=\"#009e73\" stroke=\"#008e68\" xlink:href=\"#36b2853bac9\"/><g transform=\"translate(236.47 129.46) scale(.1 -.1)\" fill=\"#545759\"><use xlink:href=\"#DejaVuSansMono-20\"/><use x=\"60.205078\" xlink:href=\"#DejaVuSansMono-54\"/><use x=\"120.410156\" xlink:href=\"#DejaVuSansMono-32\"/></g><defs><path id=\"956f3544f98\" d=\"m0 5c1.326 0 2.5979-0.52683 3.5355-1.4645 0.93763-0.93764 1.4645-2.2095 1.4645-3.5355s-0.52683-2.5979-1.4645-3.5355c-0.93764-0.93763-2.2095-1.4645-3.5355-1.4645s-2.5979 0.52683-3.5355 1.4645c-0.93763 0.93764-1.4645 2.2095-1.4645 3.5355s0.52683 2.5979 1.4645 3.5355c0.93764 0.93763 2.2095 1.4645 3.5355 1.4645z\" stroke=\"#c05500\"/></defs><use x=\"218.474062\" y=\"140.694632\" fill=\"#d55e00\" stroke=\"#c05500\" xlink:href=\"#956f3544f98\"/><g transform=\"translate(236.47 144.19) scale(.1 -.1)\" fill=\"#545759\"><use xlink:href=\"#DejaVuSansMono-20\"/><use x=\"60.205078\" xlink:href=\"#DejaVuSansMono-54\"/><use x=\"120.410156\" xlink:href=\"#DejaVuSansMono-33\"/></g><defs><clipPath id=\"c6dd7ed34b9\"><rect x=\"7.4243\" y=\"8.4318\" width=\"192.05\" height=\"221.76\"/></clipPath></defs></svg>"
      ],
      "text/plain": [
       "<Figure size 400x400 with 1 Axes>"
      ]
     },
     "metadata": {
      "needs_background": "light"
     },
     "output_type": "display_data"
    }
   ],
   "source": [
    "tn.contract().draw(['T0', 'T1', 'T2', 'T3'], figsize=(4, 4))"
   ]
  },
  {
   "cell_type": "markdown",
   "id": "ac75fe04",
   "metadata": {},
   "source": [
    "The mathematical definition of this operation can be written as a 'sum over products' like so:\n",
    "\n",
    "$$\n",
    "T_{\\{ x_\\mathrm{out} \\}} = \\sum_{ \\{ x\\} / \\{ x_\\mathrm{out} \\} }  \\prod_i T^i_{\\{ x_i \\}}\n",
    "$$\n",
    "\n",
    "Here $\\{x\\}$ is the set of all indices, $T^{[i]}_{\\{x_i\\}}$ is the ith tensor, indexed by set of indices incident to it $\\{x_i\\}$, and $\\{x_\\mathrm{out}\\}$ is the set of indices we are not summing over, often called the **'output'** or **'outer'** indices. Expanding out this shorthand for our tensor network gives us:\n",
    "\n",
    "$$\n",
    "T_{aeg} = \\sum_{c=0}^3\\sum_{d=0}^3\\sum_{b=0}^3\\sum_{f=0}^4\\sum_{h=0}^4 T^0_{abc} T^1_{cdef} T^2_{dgh} T^3_{hbf}\n",
    "$$\n",
    "\n",
    "Written in this way, you can see that each term in the sum is a product of scalars (combinations of specific entries of each tensor), but the number of terms scales exponentially in the number of indices. Naively performing the sum explicitly has essentially no space-cost, but a very badly scaling time-cost!\n",
    "\n",
    "```{hint}\n",
    "The default version of [`numpy.einsum`](numpy.einsum) (with `optimize=False`) performs the contraction in this way, it can still be practical in some cases involving small or few tensors.\n",
    "```\n",
    "\n",
    "Crucially however, we can 'move' sums into the expression, performing just that sum over only the tensors that have the relevant index:\n",
    "\n",
    "$$\n",
    "T_{aeg} = \\sum_{c=0}^3\\sum_{d=0}^3\\sum_{b=0}^3\\sum_{f=0}^4 T^0_{abc} T^1_{cdef} \\left(\\sum_{h=0}^4 T^2_{dgh} T^3_{hbf} \\right)\n",
    "\\\\\n",
    "T_{aeg} = \\sum_{c=0}^3\\sum_{d=0}^3\\sum_{b=0}^3\\sum_{f=0}^4 T^0_{abc} T^1_{cdef} T^5_{dgbf}\n",
    "$$\n",
    "\n",
    "This partial contraction to form $T^5$ is referred to as an *intermediate*, and we can repeat this process of choosing pairs of tensors to contract until only a single tensor is left.\n",
    "\n",
    "$$\n",
    "T_{aeg} = \\sum_{c=0}^3\\sum_{b=0}^3 T^0_{abc} \\left( \\sum_{d=0}^3 \\sum_{f=0}^4 T^1_{cdef} T^5_{dgbf} \\right)\n",
    "\\\\\n",
    "T_{aeg} = \\sum_{c=0}^3\\sum_{b=0}^3 T^0_{abc} T^6_{cegb}\n",
    "$$\n",
    "\n",
    "The order, or 'path', we do this in can be described as a binary *contraction tree*. It is always optimal time-wise to perform a contraction this way (with a cost that scales exponentially in the maximum number of indices appearing in any **single pairwise contraction**), though there is now a space-cost associated with forming the intermediate tensors.\n",
    "\n",
    "```{note}\n",
    "Exact contraction of an *arbitrary* tensor network still scales exponentially, even if the order is optimized, but certain geometries, specifially tree- and fractal- like, can be reduced to polynomial cost.\n",
    "```\n",
    "\n",
    "As the number of tensors grows, the number of possible contraction trees grows very quickly, and the total cost is extraordinarily sensitive to the particular tree chosen. This tricky optimization problem is handled for `quimb` using the [`cotengra`](https://cotengra.readthedocs.io) library, which is focused specifically on finding contraction trees and performing contractions.\n",
    "\n",
    "The `optimize` kwarg tells `cotengra` what strategy to use to find the contraction tree, and we can inspect the tree before we actually perform the contraction:"
   ]
  },
  {
   "cell_type": "code",
   "execution_count": 9,
   "id": "8c47dd3c",
   "metadata": {},
   "outputs": [
    {
     "name": "stdout",
     "output_type": "stream",
     "text": [
      "\u001b[37m(0) cost: \u001b[39m4.3e+02 \u001b[37mwidths: \u001b[39m5.2,5.6->6.8 \u001b[37mtype: \u001b[39mtensordot\n",
      "\u001b[37minputs: \u001b[34md\u001b[34mg\u001b[31m[h],\u001b[31m[h]\u001b[32mb\u001b[32mf\u001b[39m->\n",
      "\u001b[37moutput: \u001b[34md\u001b[34mg\u001b[32m(bf)\n",
      "\n",
      "\u001b[37m(1) cost: \u001b[39m9.7e+02 \u001b[37mwidths: \u001b[39m6.8,6.8->6.3 \u001b[37mtype: \u001b[39mtensordot\n",
      "\u001b[37minputs: \u001b[31m[d]\u001b[34mg\u001b[34mb\u001b[31m[f],\u001b[32mc\u001b[31m[d]\u001b[32me\u001b[31m[f]\u001b[39m->\n",
      "\u001b[37moutput: \u001b[34mg\u001b[34mb\u001b[32m(ce)\n",
      "\n",
      "\u001b[37m(2) cost: \u001b[39m1.6e+02 \u001b[37mwidths: \u001b[39m6.3,4.2->4.2 \u001b[37mtype: \u001b[39mtensordot+perm\n",
      "\u001b[37minputs: \u001b[34mg\u001b[31m[bc]\u001b[34me,\u001b[32ma\u001b[31m[bc]\u001b[39m->\n",
      "\u001b[37moutput: \u001b[32m(a)\u001b[34me\u001b[34mg\n",
      "\n",
      "\u001b[39m\n"
     ]
    },
    {
     "data": {
      "text/plain": [
       "'log10[FLOPs]=3.19 log2[SIZE]=6.75'"
      ]
     },
     "execution_count": 9,
     "metadata": {},
     "output_type": "execute_result"
    }
   ],
   "source": [
    "tree = tn.contraction_tree(optimize=\"greedy\")\n",
    "tree.print_contractions()\n",
    "tree.describe()"
   ]
  },
  {
   "cell_type": "markdown",
   "id": "0415aad5",
   "metadata": {},
   "source": [
    "So there will be $\\sim 10^{3.19} = 1566$ scalar operations with a largest intermediate\n",
    "of size $\\sim 2^{6.75} = 108$ elements (to get actual flops and memory you will need to scale by data-type etc.).\n",
    "\n",
    "\n",
    "We can visualize the tree in a number of ways:"
   ]
  },
  {
   "cell_type": "code",
   "execution_count": 5,
   "id": "1873c612",
   "metadata": {},
   "outputs": [
    {
     "data": {
      "image/svg+xml": [
       "<?xml version=\"1.0\" encoding=\"UTF-8\"?><!DOCTYPE svg  PUBLIC '-//W3C//DTD SVG 1.1//EN'  'http://www.w3.org/Graphics/SVG/1.1/DTD/svg11.dtd'><svg width=\"293.4pt\" height=\"190.65pt\" version=\"1.1\" viewBox=\"0 0 293.4 190.65\" xmlns=\"http://www.w3.org/2000/svg\" xmlns:xlink=\"http://www.w3.org/1999/xlink\"><defs><style type=\"text/css\">*{stroke-linejoin: round; stroke-linecap: butt}</style></defs><path d=\"m0 190.65h293.4v-190.65h-293.4v190.65z\" fill=\"none\"/><path d=\"m81.324 57.06c0 0.88268 0.28645 2.6912 0.55921 3.5307 0.27276 0.83948 1.1041 2.471 1.6229 3.1851 0.51883 0.7141 1.8136 2.0089 2.5277 2.5277 0.7141 0.51883 2.3854 1.224 3.1851 1.6229 18.29 9.1229 54.192 29.784 73.47 35.866 0.91936 0.29005 2.8883 0.60994 3.851 0.60994 0.96276 0 2.9354-0.31244 3.851-0.60994 0.91564-0.29751 2.6827-1.2172 3.4741-1.7701 13.316-9.3043 36.265-33.268 48.073-44.648 0.76011-0.73256 2.3734-2.1427 2.9864-2.9864 0.61296-0.84367 1.5951-2.7712 1.9174-3.763s0.66068-3.1285 0.66068-4.1713-0.33842-3.1796-0.66068-4.1713c-0.32225-0.9918-1.3044-2.9194-1.9174-3.763-0.61296-0.84367-2.1427-2.3734-2.9864-2.9864-0.84367-0.61296-2.7949-1.5019-3.763-1.9174-17.146-7.3583-52.476-20.333-70.526-24.909-1.0192-0.2584-3.1285-0.66068-4.1713-0.66068s-3.1796 0.33842-4.1713 0.66068c-0.9918 0.32225-2.8706 1.3606-3.763 1.9174-13.085 8.1632-37.847 27.071-49.509 37.193-0.67323 0.58435-2.0089 1.8136-2.5277 2.5277-0.51883 0.7141-1.3501 2.3456-1.6229 3.1851-0.27276 0.83948-0.55921 2.648-0.55921 3.5307\" clip-path=\"url(#90374067a87)\" fill=\"none\" stroke=\"#5e4fa2\"/><path d=\"m217.85 34.601c-17.146-7.3583-52.476-20.333-70.526-24.909-0.94094-0.23856-2.8883-0.60994-3.851-0.60994s-2.9354 0.31244-3.851 0.60994c-0.91564 0.29751-2.6952 1.2042-3.4741 1.7701-0.77889 0.5659-2.1911 1.9782-2.757 2.757-0.5659 0.77889-1.4726 2.5584-1.7701 3.4741-0.29751 0.91564-0.60994 2.8883-0.60994 3.851 0 0.96276 0.3755 2.9087 0.60994 3.851 4.4548 17.906 16.838 53.065 24.048 70.076 0.3479 0.82079 1.1041 2.471 1.6229 3.1851 0.51883 0.7141 1.8136 2.0089 2.5277 2.5277 0.7141 0.51883 2.3456 1.3501 3.1851 1.6229 0.83948 0.27276 2.648 0.55921 3.5307 0.55921s2.6912-0.28645 3.5307-0.55921c0.83948-0.27276 2.4596-1.1159 3.1851-1.6229 13.316-9.3043 36.265-33.268 48.073-44.648 0.70174-0.6763 2.1911-1.9782 2.757-2.757 0.5659-0.77889 1.4726-2.5584 1.7701-3.4741 0.29751-0.91564 0.60994-2.8883 0.60994-3.851 0-0.96276-0.31244-2.9354-0.60994-3.851-0.29751-0.91564-1.2042-2.6952-1.7701-3.4741-0.5659-0.77889-1.9781-2.1911-2.757-2.757-0.77889-0.5659-2.5803-1.3865-3.4741-1.7701\" clip-path=\"url(#90374067a87)\" fill=\"none\" stroke=\"#ffffbe\"/><path d=\"m21.363 42.573 71.386 14.488\" clip-path=\"url(#90374067a87)\" fill=\"none\" stroke=\"#808080\" stroke-linecap=\"round\" stroke-opacity=\".33333\"/><path d=\"m92.749 57.06 50.728-35.516\" clip-path=\"url(#90374067a87)\" fill=\"none\" stroke=\"#808080\" stroke-linecap=\"round\" stroke-opacity=\".33333\" stroke-width=\"1.585\"/><g transform=\"translate(117.42 42.509) rotate(-34.997) scale(.08 -.08)\" fill=\"#808080\"><defs><path id=\"DejaVuSansMono-62\" transform=\"scale(.015625)\" d=\"m2869 1747q0 669-213 1009-212 341-628 341-419 0-635-342-215-342-215-1008 0-663 215-1007 216-343 635-343 416 0 628 340 213 341 213 1010zm-1691 1306q138 256 380 393 242 138 561 138 631 0 993-486 363-485 363-1339 0-865-364-1358-364-492-998-492-313 0-552 136t-383 396v-441h-575v4863h575v-1810z\"/></defs><use xlink:href=\"#DejaVuSansMono-62\"/></g><path d=\"m92.749 57.06 73.79 34.88\" clip-path=\"url(#90374067a87)\" fill=\"none\" stroke=\"#808080\" stroke-linecap=\"round\" stroke-opacity=\".33333\" stroke-width=\"1.585\"/><g transform=\"translate(126.51 75.486) rotate(25.3) scale(.08 -.08)\" fill=\"#808080\"><defs><path id=\"DejaVuSansMono-63\" transform=\"scale(.015625)\" d=\"m3316 178q-232-134-477-201-245-68-501-68-813 0-1271 487-458 488-458 1351 0 862 458 1349 458 488 1271 488 253 0 493-66 241-65 485-202v-603q-228 203-458 293-230 91-520 91-541 0-832-350-290-350-290-1e3 0-647 292-999 292-351 830-351 300 0 537 92 238 92 441 286v-597z\"/></defs><use xlink:href=\"#DejaVuSansMono-63\"/></g><path d=\"m143.48 21.544 23.063 70.396\" clip-path=\"url(#90374067a87)\" fill=\"none\" stroke=\"#808080\" stroke-linecap=\"round\" stroke-opacity=\".33333\" stroke-width=\"2\"/><g transform=\"translate(152.14 55.148) rotate(71.861) scale(.08 -.08)\" fill=\"#808080\"><defs><path id=\"DejaVuSansMono-66\" transform=\"scale(.015625)\" d=\"m3322 4863v-479h-653q-310 0-430-127-120-126-120-448v-309h1203v-447h-1203v-3053h-575v3053h-935v447h935v244q0 575 264 847t823 272h691z\"/></defs><use xlink:href=\"#DejaVuSansMono-66\"/></g><path d=\"m143.48 21.544 70.526 24.909\" clip-path=\"url(#90374067a87)\" fill=\"none\" stroke=\"#808080\" stroke-linecap=\"round\" stroke-opacity=\".33333\" stroke-width=\"2\"/><g transform=\"translate(175.73 35.299) rotate(19.453) scale(.08 -.08)\" fill=\"#808080\"><defs><path id=\"DejaVuSansMono-68\" transform=\"scale(.015625)\" d=\"m3284 2169v-2169h-578v2169q0 472-166 693-165 222-518 222-403 0-621-286-217-285-217-820v-1978h-575v4863h575v-1888q154 300 416 454 263 155 622 155 534 0 798-352 264-351 264-1063z\"/></defs><use xlink:href=\"#DejaVuSansMono-68\"/></g><path d=\"m166.54 91.941 47.464-45.487\" clip-path=\"url(#90374067a87)\" fill=\"none\" stroke=\"#808080\" stroke-linecap=\"round\" stroke-opacity=\".33333\" stroke-width=\"1.585\"/><g transform=\"translate(190.08 72.473) rotate(-43.782) scale(.08 -.08)\" fill=\"#808080\"><defs><path id=\"DejaVuSansMono-64\" transform=\"scale(.015625)\" d=\"m2681 3053v1810h575v-4863h-575v441q-143-260-383-396-239-136-551-136-634 0-999 492-364 493-364 1358 0 854 366 1339 366 486 997 486 316 0 556-136 241-135 378-395zm-1690-1306q0-669 212-1010 213-340 628-340 416 0 633 343 217 344 217 1007 0 666-217 1008t-633 342q-415 0-628-341-212-340-212-1009z\"/></defs><use xlink:href=\"#DejaVuSansMono-64\"/></g><path d=\"m166.54 91.941 25.667 78.351\" clip-path=\"url(#90374067a87)\" fill=\"none\" stroke=\"#808080\" stroke-linecap=\"round\" stroke-opacity=\".33333\" stroke-width=\"1.585\"/><path d=\"m214 46.454 58.033-26.098\" clip-path=\"url(#90374067a87)\" fill=\"none\" stroke=\"#808080\" stroke-linecap=\"round\" stroke-opacity=\".33333\" stroke-width=\"1.585\"/><path d=\"m217.53 35.587c-17.146-7.3583-52.476-20.333-70.526-24.909-0.86268-0.21871-2.648-0.55921-3.5307-0.55921s-2.6912 0.28645-3.5307 0.55921c-0.83948 0.27276-2.471 1.1041-3.1851 1.6229-0.7141 0.51883-2.0089 1.8136-2.5277 2.5277-0.51883 0.7141-1.3501 2.3456-1.6229 3.1851-0.27276 0.83948-0.55921 2.648-0.55921 3.5307s0.28645 2.6912 0.55921 3.5307c0.27276 0.83948 1.1041 2.471 1.6229 3.1851 0.51883 0.7141 1.8136 2.0089 2.5277 2.5277 0.7141 0.51883 2.3656 1.2712 3.1851 1.6229 17.146 7.3583 52.476 20.333 70.526 24.909 0.86268 0.21871 2.648 0.55921 3.5307 0.55921s2.6912-0.28645 3.5307-0.55921c0.83948-0.27276 2.471-1.1041 3.1851-1.6229 0.7141-0.51883 2.0089-1.8136 2.5277-2.5277 0.51883-0.7141 1.3501-2.3456 1.6229-3.1851s0.55921-2.648 0.55921-3.5307-0.28645-2.6912-0.55921-3.5307c-0.27276-0.83948-1.1041-2.471-1.6229-3.1851-0.51883-0.7141-1.8136-2.0089-2.5277-2.5277-0.7141-0.51883-2.3656-1.2712-3.1851-1.6229\" clip-path=\"url(#90374067a87)\" fill=\"none\" stroke=\"#9e0142\"/><path d=\"m21.363 52.962c2.7552 0 5.398-1.0947 7.3462-3.0429s3.0429-4.591 3.0429-7.3462c0-2.7552-1.0947-5.398-3.0429-7.3462s-4.591-3.0429-7.3462-3.0429c-2.7552 0-5.398 1.0947-7.3462 3.0429s-3.0429 4.591-3.0429 7.3462c0 2.7552 1.0947 5.398 3.0429 7.3462s4.591 3.0429 7.3462 3.0429z\" clip-path=\"url(#90374067a87)\" fill=\"none\"/><path d=\"m92.749 67.449c2.7552 0 5.398-1.0947 7.3462-3.0429s3.0429-4.591 3.0429-7.3462c0-2.7552-1.0947-5.398-3.0429-7.3462s-4.591-3.0429-7.3462-3.0429c-2.7552 0-5.398 1.0947-7.3462 3.0429s-3.0429 4.591-3.0429 7.3462c0 2.7552 1.0947 5.398 3.0429 7.3462s4.591 3.0429 7.3462 3.0429z\" clip-path=\"url(#90374067a87)\" fill=\"#808080\" stroke=\"#555555\"/><path d=\"m143.48 31.933c2.7552 0 5.398-1.0947 7.3462-3.0429 1.9482-1.9482 3.0429-4.591 3.0429-7.3462 0-2.7552-1.0947-5.398-3.0429-7.3462-1.9482-1.9482-4.591-3.0429-7.3462-3.0429s-5.398 1.0947-7.3462 3.0429-3.0429 4.591-3.0429 7.3462c0 2.7552 1.0947 5.398 3.0429 7.3462s4.591 3.0429 7.3462 3.0429z\" clip-path=\"url(#90374067a87)\" fill=\"#808080\" stroke=\"#555555\"/><path d=\"m166.54 102.33c2.7552 0 5.398-1.0947 7.3462-3.0429s3.0429-4.591 3.0429-7.3462-1.0947-5.398-3.0429-7.3462c-1.9482-1.9482-4.591-3.0429-7.3462-3.0429-2.7552 0-5.398 1.0947-7.3462 3.0429-1.9482 1.9482-3.0429 4.591-3.0429 7.3462s1.0947 5.398 3.0429 7.3462 4.591 3.0429 7.3462 3.0429z\" clip-path=\"url(#90374067a87)\" fill=\"#808080\" stroke=\"#555555\"/><path d=\"m214 56.843c2.7552 0 5.398-1.0947 7.3462-3.0429 1.9482-1.9482 3.0429-4.591 3.0429-7.3462s-1.0947-5.398-3.0429-7.3462c-1.9482-1.9482-4.591-3.0429-7.3462-3.0429s-5.398 1.0947-7.3462 3.0429-3.0429 4.591-3.0429 7.3462 1.0947 5.398 3.0429 7.3462 4.591 3.0429 7.3462 3.0429z\" clip-path=\"url(#90374067a87)\" fill=\"#808080\" stroke=\"#555555\"/><path d=\"m192.21 180.68c2.7552 0 5.398-1.0947 7.3462-3.0429s3.0429-4.591 3.0429-7.3462c0-2.7552-1.0947-5.398-3.0429-7.3462s-4.591-3.0429-7.3462-3.0429c-2.7552 0-5.398 1.0947-7.3462 3.0429s-3.0429 4.591-3.0429 7.3462c0 2.7552 1.0947 5.398 3.0429 7.3462s4.591 3.0429 7.3462 3.0429z\" clip-path=\"url(#90374067a87)\" fill=\"none\"/><path d=\"m272.04 30.745c2.7552 0 5.398-1.0947 7.3462-3.0429s3.0429-4.591 3.0429-7.3462c0-2.7552-1.0947-5.398-3.0429-7.3462s-4.591-3.0429-7.3462-3.0429c-2.7552 0-5.398 1.0947-7.3462 3.0429s-3.0429 4.591-3.0429 7.3462c0 2.7552 1.0947 5.398 3.0429 7.3462s4.591 3.0429 7.3462 3.0429z\" clip-path=\"url(#90374067a87)\" fill=\"none\"/><g transform=\"translate(18.353 45.359) scale(.1 -.1)\" fill=\"#808080\"><defs><path id=\"DejaVuSansMono-61\" transform=\"scale(.015625)\" d=\"m2194 1759h-191q-503 0-758-177-254-176-254-526 0-315 190-490 191-175 528-175 475 0 747 329 272 330 275 911v128h-537zm1115 238v-1997h-578v519q-184-313-464-462-279-148-679-148-535 0-854 302-318 302-318 808 0 584 392 887t1151 303h772v91q-3 419-213 608-209 189-668 189-294 0-594-85-300-84-584-246v575q319 122 611 182 292 61 567 61 434 0 742-128t499-384q118-156 168-386t50-689z\"/></defs><use xlink:href=\"#DejaVuSansMono-61\"/></g><g transform=\"translate(89.739 59.846) scale(.1 -.1)\" fill=\"#808080\"><defs><path id=\"DejaVuSansMono-30\" transform=\"scale(.015625)\" d=\"m1509 2344q0 172 120 297 121 125 290 125 175 0 300-125t125-297q0-175-124-297-123-122-301-122-175 0-293 119-117 119-117 300zm416 1906q-441 0-658-475t-217-1447q0-969 217-1444t658-475q444 0 661 475t217 1444q0 972-217 1447t-661 475zm0 500q747 0 1130-613 383-612 383-1809 0-1194-383-1807-383-612-1130-612t-1128 612q-381 613-381 1807 0 1197 381 1809 381 613 1128 613z\"/></defs><use xlink:href=\"#DejaVuSansMono-30\"/></g><g transform=\"translate(140.47 24.33) scale(.1 -.1)\" fill=\"#808080\"><defs><path id=\"DejaVuSansMono-33\" transform=\"scale(.015625)\" d=\"m2425 2497q459-122 703-433t244-776q0-644-433-1012-433-367-1198-367-322 0-657 60-334 59-656 172v628q319-166 628-247 310-81 616-81 519 0 797 234t278 675q0 406-278 645t-753 239h-482v519h482q434 0 678 190 244 191 244 532 0 359-227 551-227 193-645 193-278 0-575-63-297-62-622-187v581q378 100 673 150 296 50 524 50 681 0 1089-342t408-908q0-384-215-641-214-256-623-362z\"/></defs><use xlink:href=\"#DejaVuSansMono-33\"/></g><g transform=\"translate(163.53 94.727) scale(.1 -.1)\" fill=\"#808080\"><defs><path id=\"DejaVuSansMono-31\" transform=\"scale(.015625)\" d=\"m844 531h981v3566l-1056-238v575l1050 232h631v-4135h969v-531h-2575v531z\"/></defs><use xlink:href=\"#DejaVuSansMono-31\"/></g><g transform=\"translate(210.99 49.24) scale(.1 -.1)\" fill=\"#808080\"><defs><path id=\"DejaVuSansMono-32\" transform=\"scale(.015625)\" d=\"m1166 531h2143v-531h-2834v531q584 616 1021 1088 438 472 604 665 313 382 422 618t109 482q0 391-230 613-229 222-629 222-284 0-597-103-312-103-662-313v638q321 153 632 231t614 78q685 0 1102-364t417-955q0-300-139-600t-451-662q-175-203-508-563-333-359-1014-1075z\"/></defs><use xlink:href=\"#DejaVuSansMono-32\"/></g><g transform=\"translate(189.2 173.08) scale(.1 -.1)\" fill=\"#808080\"><defs><path id=\"DejaVuSansMono-65\" transform=\"scale(.015625)\" d=\"m3475 1894v-281h-2491v-19q0-572 298-885 299-312 843-312 275 0 575 87 300 88 641 266v-572q-328-134-633-201-305-68-589-68-816 0-1276 489-459 490-459 1349 0 837 450 1337t1200 500q669 0 1055-453t386-1237zm-575 169q-12 506-239 770t-652 264q-415 0-684-275t-319-763l1894 4z\"/></defs><use xlink:href=\"#DejaVuSansMono-65\"/></g><g transform=\"translate(269.03 23.073) scale(.1 -.1)\" fill=\"#808080\"><defs><path id=\"DejaVuSansMono-67\" transform=\"scale(.015625)\" d=\"m2681 1778q0 647-211 983t-614 336q-422 0-644-336-221-336-221-983t223-986q224-339 649-339 396 0 607 340 211 341 211 985zm575-1553q0-788-372-1194-371-406-1093-406-238 0-498 44-259 43-518 128v569q306-144 556-213t460-69q465 0 677 254 213 253 213 803v25 390q-137-293-375-437-237-144-578-144-612 0-978 490-366 491-366 1313 0 825 366 1315 366 491 978 491 338 0 572-134t381-416v454h575v-3263z\"/></defs><use xlink:href=\"#DejaVuSansMono-67\"/></g><defs><clipPath id=\"90374067a87\"><rect x=\"7.2\" y=\"7.2\" width=\"279\" height=\"176.25\"/></clipPath></defs></svg>"
      ],
      "text/plain": [
       "<Figure size 500x500 with 1 Axes>"
      ]
     },
     "metadata": {
      "needs_background": "light"
     },
     "output_type": "display_data"
    }
   ],
   "source": [
    "tree.plot_rubberband();"
   ]
  },
  {
   "cell_type": "markdown",
   "id": "11812ca2",
   "metadata": {},
   "source": [
    "```{hint}\n",
    "`quimb` uses arbitrary strings for indices, whilst `cotengra` uses single\n",
    "unicode characters, so the labels will not always match up. You can call\n",
    "[`tn.get_symbol_map()`](quimb.tensor.tensor_core.TensorNetwork.get_symbol_map)\n",
    "to see the mapping.\n",
    "```"
   ]
  },
  {
   "cell_type": "code",
   "execution_count": 6,
   "id": "aa844377",
   "metadata": {},
   "outputs": [
    {
     "data": {
      "image/svg+xml": [
       "<?xml version=\"1.0\" encoding=\"UTF-8\"?><!DOCTYPE svg  PUBLIC '-//W3C//DTD SVG 1.1//EN'  'http://www.w3.org/Graphics/SVG/1.1/DTD/svg11.dtd'><svg width=\"452.92pt\" height=\"291.6pt\" version=\"1.1\" viewBox=\"0 0 452.92 291.6\" xmlns=\"http://www.w3.org/2000/svg\" xmlns:xlink=\"http://www.w3.org/1999/xlink\"><defs><style type=\"text/css\">*{stroke-linejoin: round; stroke-linecap: butt}</style></defs><path d=\"m0 291.6h452.92v-291.6h-452.92v291.6z\" fill=\"none\"/><g fill=\"none\" stroke=\"#808080\" stroke-opacity=\".2\"><path d=\"m112.78 210.5 64.73 6.5684\" clip-path=\"url(#88aa24ac0fc)\"/><path d=\"m177.51 217.06 45.998-16.102\" clip-path=\"url(#88aa24ac0fc)\" stroke-width=\"1.585\"/><path d=\"m177.51 217.06 66.91 15.814\" clip-path=\"url(#88aa24ac0fc)\" stroke-width=\"1.585\"/><path d=\"m223.5 200.96 20.912 31.917\" clip-path=\"url(#88aa24ac0fc)\" stroke-width=\"2\"/><path d=\"m223.5 200.96 63.951 11.293\" clip-path=\"url(#88aa24ac0fc)\" stroke-width=\"2\"/><g stroke-width=\"1.585\"><path d=\"m244.42 232.88 43.038-20.623\" clip-path=\"url(#88aa24ac0fc)\"/><path d=\"m244.42 232.88 23.274 35.523\" clip-path=\"url(#88aa24ac0fc)\"/><path d=\"m287.46 212.26 52.623-11.832\" clip-path=\"url(#88aa24ac0fc)\"/></g></g><g fill=\"none\" stroke-opacity=\".7\"><path d=\"m255.48 143.6 31.975 68.658\" clip-path=\"url(#88aa24ac0fc)\" stroke=\"#a6dcb6\" stroke-width=\"1.0273\"/><path d=\"m255.48 143.6-31.975 57.364\" clip-path=\"url(#88aa24ac0fc)\" stroke=\"#6cc4c9\" stroke-width=\"1.0761\"/><path d=\"m255.48 143.6-3.6877-56.825\" clip-path=\"url(#88aa24ac0fc)\" stroke=\"#084081\" stroke-width=\"1.215\"/><path d=\"m251.79 86.772-7.3753 146.11\" clip-path=\"url(#88aa24ac0fc)\" stroke=\"#084081\" stroke-width=\"1.215\"/><path d=\"m251.79 86.772-18.571-56.825\" clip-path=\"url(#88aa24ac0fc)\" stroke=\"#1272b1\" stroke-width=\"1.1655\"/><path d=\"m233.22 29.947-55.714 187.12\" clip-path=\"url(#88aa24ac0fc)\" stroke=\"#f7fcf0\" stroke-width=\".9115\"/></g><g fill-opacity=\".7\" stroke-opacity=\".7\"><path d=\"m255.48 145.15c0.41293 0 0.809-0.16406 1.101-0.45604s0.45604-0.68806 0.45604-1.101c0-0.41293-0.16406-0.809-0.45604-1.101s-0.68806-0.45604-1.101-0.45604-0.809 0.16406-1.101 0.45604-0.45604 0.68806-0.45604 1.101c0 0.41293 0.16406 0.809 0.45604 1.101s0.68806 0.45604 1.101 0.45604z\" clip-path=\"url(#88aa24ac0fc)\" fill=\"#b90026\" stroke=\"#b90026\"/><path d=\"m287.46 213.07c0.21654 0 0.42424-0.086031 0.57735-0.23915 0.15312-0.15312 0.23915-0.36081 0.23915-0.57735 0-0.21654-0.086031-0.42424-0.23915-0.57735-0.15312-0.15312-0.36081-0.23915-0.57735-0.23915-0.21654 0-0.42424 0.086031-0.57735 0.23915s-0.23915 0.36081-0.23915 0.57735c0 0.21654 0.086031 0.42424 0.23915 0.57735s0.36081 0.23915 0.57735 0.23915z\" clip-path=\"url(#88aa24ac0fc)\" fill=\"#ffffcc\" stroke=\"#ffffcc\"/><path d=\"m223.5 201.78c0.21654 0 0.42424-0.086031 0.57735-0.23915s0.23915-0.36081 0.23915-0.57735c0-0.21654-0.086031-0.42424-0.23915-0.57735s-0.36081-0.23915-0.57735-0.23915c-0.21654 0-0.42424 0.086031-0.57735 0.23915-0.15312 0.15312-0.23915 0.36081-0.23915 0.57735 0 0.21654 0.086031 0.42424 0.23915 0.57735 0.15312 0.15312 0.36081 0.23915 0.57735 0.23915z\" clip-path=\"url(#88aa24ac0fc)\" fill=\"#ffffcc\" stroke=\"#ffffcc\"/><path d=\"m251.79 88.403c0.43243 0 0.84721-0.17181 1.153-0.47758 0.30577-0.30578 0.47758-0.72055 0.47758-1.153s-0.17181-0.84721-0.47758-1.153c-0.30578-0.30578-0.72055-0.47758-1.153-0.47758s-0.84721 0.17181-1.153 0.47758c-0.30578 0.30577-0.47758 0.72055-0.47758 1.153s0.17181 0.84721 0.47758 1.153c0.30577 0.30577 0.72055 0.47758 1.153 0.47758z\" clip-path=\"url(#88aa24ac0fc)\" fill=\"#800026\" stroke=\"#800026\"/><path d=\"m244.42 233.69c0.21654 0 0.42424-0.086031 0.57735-0.23915s0.23915-0.36081 0.23915-0.57735c0-0.21654-0.086032-0.42424-0.23915-0.57735-0.15312-0.15312-0.36081-0.23915-0.57735-0.23915-0.21654 0-0.42424 0.086031-0.57735 0.23915-0.15312 0.15312-0.23915 0.36081-0.23915 0.57735 0 0.21654 0.086031 0.42424 0.23915 0.57735s0.36081 0.23915 0.57735 0.23915z\" clip-path=\"url(#88aa24ac0fc)\" fill=\"#ffffcc\" stroke=\"#ffffcc\"/><path d=\"m233.22 31.41c0.38809 0 0.76034-0.15419 1.0348-0.42861s0.42861-0.64667 0.42861-1.0348c0-0.38809-0.15419-0.76034-0.42861-1.0348s-0.64667-0.42861-1.0348-0.42861c-0.38809 0-0.76034 0.15419-1.0348 0.42861s-0.42861 0.64667-0.42861 1.0348c0 0.38809 0.15419 0.76034 0.42861 1.0348s0.64667 0.42861 1.0348 0.42861z\" clip-path=\"url(#88aa24ac0fc)\" fill=\"#e51e1d\" stroke=\"#e51e1d\"/><path d=\"m177.51 217.88c0.21654 0 0.42424-0.086032 0.57735-0.23915 0.15312-0.15312 0.23915-0.36081 0.23915-0.57735s-0.086031-0.42424-0.23915-0.57735c-0.15312-0.15312-0.36081-0.23915-0.57735-0.23915-0.21654 0-0.42424 0.086032-0.57735 0.23915s-0.23915 0.36081-0.23915 0.57735 0.086031 0.42424 0.23915 0.57735 0.36081 0.23915 0.57735 0.23915z\" clip-path=\"url(#88aa24ac0fc)\" fill=\"#ffffcc\" stroke=\"#ffffcc\"/></g><path d=\"m34.727 234h7.2v-180h-7.2v180z\" fill=\"none\"/><image transform=\"scale(1 -1) translate(0 -180)\" x=\"34.56\" y=\"-54\" width=\"7.2\" height=\"180\" xlink:href=\"data:image/png;base64, iVBORw0KGgoAAAANSUhEUgAAAAoAAAD6CAYAAACYoNakAAABJklEQVR4nO2ZQQ7DMAgESeX/v7W3XmrcH1SDtAhhO2e0Y2DBifJ8vu9l4BnLUJwNGBdQDARCtK0T0YEWlqEXRL8gOcNm2OGegD7SFA12TyWaDxeKiyjutB8DdeywpOo2hdyPCWhG3suP+mt4OAqLoU9U9ITrgyrqN0Wd4vXj30D+RnqkH7l71gMDqaI3UAzYjKKp4sTJ0EB9rzsoHurHFslsZDP+OsPnGirqdw/vNb80y9AZyZSZIkGRCQYUp9ftHl4eOZoJ5iSjd4/8Qxyj4SEz0FiRnvEWXKTIzwjRfgv+N1BecP5JWldw79AZfdYdllTlFFLFuqwTZoZvCrniTn7kw1XnR/zHx2Czh9FkEtBYkZ9RjsaBc8rRt4US9K2jBs3PKEb/AN6C8rnp8zhIAAAAAElFTkSuQmCC\"/><path d=\"m34.727 211.02h7.2\" clip-path=\"url(#5a5cf075951)\" fill=\"none\" stroke=\"#808080\" stroke-linecap=\"square\" stroke-opacity=\".1\" stroke-width=\".8\"/><defs><path id=\"46ad9ea5169\" d=\"m0 0h-3.5\" stroke=\"#808080\" stroke-width=\".8\"/></defs><use x=\"34.726875\" y=\"211.015721\" fill=\"#808080\" stroke=\"#808080\" stroke-width=\".8\" xlink:href=\"#46ad9ea5169\"/><g transform=\"translate(11.824 214.81) scale(.1 -.1)\" fill=\"#808080\"><defs><path id=\"DejaVuSans-34\" transform=\"scale(.015625)\" d=\"m2419 4116-1594-2491h1594v2491zm-166 550h794v-3041h666v-525h-666v-1100h-628v1100h-2106v609l1940 2957z\"/><path id=\"DejaVuSans-2e\" transform=\"scale(.015625)\" d=\"m684 794h660v-794h-660v794z\"/><path id=\"DejaVuSans-35\" transform=\"scale(.015625)\" d=\"m691 4666h2478v-532h-1900v-1143q137 47 274 70 138 23 276 23 781 0 1237-428 457-428 457-1159 0-753-469-1171-469-417-1322-417-294 0-599 50-304 50-629 150v635q281-153 581-228t634-75q541 0 856 284 316 284 316 772 0 487-316 771-315 285-856 285-253 0-505-56-251-56-513-175v2344z\"/></defs><use xlink:href=\"#DejaVuSans-34\"/><use x=\"63.623047\" xlink:href=\"#DejaVuSans-2e\"/><use x=\"95.410156\" xlink:href=\"#DejaVuSans-35\"/></g><path d=\"m34.727 176.2h7.2\" clip-path=\"url(#5a5cf075951)\" fill=\"none\" stroke=\"#808080\" stroke-linecap=\"square\" stroke-opacity=\".1\" stroke-width=\".8\"/><use x=\"34.726875\" y=\"176.198968\" fill=\"#808080\" stroke=\"#808080\" stroke-width=\".8\" xlink:href=\"#46ad9ea5169\"/><g transform=\"translate(11.824 180) scale(.1 -.1)\" fill=\"#808080\"><defs><path id=\"DejaVuSans-30\" transform=\"scale(.015625)\" d=\"m2034 4250q-487 0-733-480-245-479-245-1442 0-959 245-1439 246-480 733-480 491 0 736 480 246 480 246 1439 0 963-246 1442-245 480-736 480zm0 500q785 0 1199-621 414-620 414-1801 0-1178-414-1799-414-620-1199-620-784 0-1198 620-414 621-414 1799 0 1181 414 1801 414 621 1198 621z\"/></defs><use xlink:href=\"#DejaVuSans-35\"/><use x=\"63.623047\" xlink:href=\"#DejaVuSans-2e\"/><use x=\"95.410156\" xlink:href=\"#DejaVuSans-30\"/></g><path d=\"m34.727 141.38h7.2\" clip-path=\"url(#5a5cf075951)\" fill=\"none\" stroke=\"#808080\" stroke-linecap=\"square\" stroke-opacity=\".1\" stroke-width=\".8\"/><use x=\"34.726875\" y=\"141.382216\" fill=\"#808080\" stroke=\"#808080\" stroke-width=\".8\" xlink:href=\"#46ad9ea5169\"/><g transform=\"translate(11.824 145.18) scale(.1 -.1)\" fill=\"#808080\"><use xlink:href=\"#DejaVuSans-35\"/><use x=\"63.623047\" xlink:href=\"#DejaVuSans-2e\"/><use x=\"95.410156\" xlink:href=\"#DejaVuSans-35\"/></g><path d=\"m34.727 106.57h7.2\" clip-path=\"url(#5a5cf075951)\" fill=\"none\" stroke=\"#808080\" stroke-linecap=\"square\" stroke-opacity=\".1\" stroke-width=\".8\"/><use x=\"34.726875\" y=\"106.565463\" fill=\"#808080\" stroke=\"#808080\" stroke-width=\".8\" xlink:href=\"#46ad9ea5169\"/><g transform=\"translate(11.824 110.36) scale(.1 -.1)\" fill=\"#808080\"><defs><path id=\"DejaVuSans-36\" transform=\"scale(.015625)\" d=\"m2113 2584q-425 0-674-291-248-290-248-796 0-503 248-796 249-292 674-292t673 292q248 293 248 796 0 506-248 796-248 291-673 291zm1253 1979v-575q-238 112-480 171-242 60-480 60-625 0-955-422-329-422-376-1275 184 272 462 417 279 145 613 145 703 0 1111-427 408-426 408-1160 0-719-425-1154-425-434-1131-434-810 0-1238 620-428 621-428 1799 0 1106 525 1764t1409 658q238 0 480-47t505-140z\"/></defs><use xlink:href=\"#DejaVuSans-36\"/><use x=\"63.623047\" xlink:href=\"#DejaVuSans-2e\"/><use x=\"95.410156\" xlink:href=\"#DejaVuSans-30\"/></g><path d=\"m34.727 71.749h7.2\" clip-path=\"url(#5a5cf075951)\" fill=\"none\" stroke=\"#808080\" stroke-linecap=\"square\" stroke-opacity=\".1\" stroke-width=\".8\"/><use x=\"34.726875\" y=\"71.74871\" fill=\"#808080\" stroke=\"#808080\" stroke-width=\".8\" xlink:href=\"#46ad9ea5169\"/><g transform=\"translate(11.824 75.548) scale(.1 -.1)\" fill=\"#808080\"><use xlink:href=\"#DejaVuSans-36\"/><use x=\"63.623047\" xlink:href=\"#DejaVuSans-2e\"/><use x=\"95.410156\" xlink:href=\"#DejaVuSans-35\"/></g><defs><path id=\"f2c1a37c3c6\" d=\"m0 0h-2\" stroke=\"#808080\" stroke-width=\".6\"/></defs><use x=\"34.726875\" y=\"231.905772\" fill=\"#808080\" stroke=\"#808080\" stroke-width=\".6\" xlink:href=\"#f2c1a37c3c6\"/><use x=\"34.726875\" y=\"224.942422\" fill=\"#808080\" stroke=\"#808080\" stroke-width=\".6\" xlink:href=\"#f2c1a37c3c6\"/><use x=\"34.726875\" y=\"217.979071\" fill=\"#808080\" stroke=\"#808080\" stroke-width=\".6\" xlink:href=\"#f2c1a37c3c6\"/><use x=\"34.726875\" y=\"204.05237\" fill=\"#808080\" stroke=\"#808080\" stroke-width=\".6\" xlink:href=\"#f2c1a37c3c6\"/><use x=\"34.726875\" y=\"197.08902\" fill=\"#808080\" stroke=\"#808080\" stroke-width=\".6\" xlink:href=\"#f2c1a37c3c6\"/><use x=\"34.726875\" y=\"190.125669\" fill=\"#808080\" stroke=\"#808080\" stroke-width=\".6\" xlink:href=\"#f2c1a37c3c6\"/><use x=\"34.726875\" y=\"183.162319\" fill=\"#808080\" stroke=\"#808080\" stroke-width=\".6\" xlink:href=\"#f2c1a37c3c6\"/><use x=\"34.726875\" y=\"169.235618\" fill=\"#808080\" stroke=\"#808080\" stroke-width=\".6\" xlink:href=\"#f2c1a37c3c6\"/><use x=\"34.726875\" y=\"162.272267\" fill=\"#808080\" stroke=\"#808080\" stroke-width=\".6\" xlink:href=\"#f2c1a37c3c6\"/><use x=\"34.726875\" y=\"155.308917\" fill=\"#808080\" stroke=\"#808080\" stroke-width=\".6\" xlink:href=\"#f2c1a37c3c6\"/><use x=\"34.726875\" y=\"148.345566\" fill=\"#808080\" stroke=\"#808080\" stroke-width=\".6\" xlink:href=\"#f2c1a37c3c6\"/><use x=\"34.726875\" y=\"134.418865\" fill=\"#808080\" stroke=\"#808080\" stroke-width=\".6\" xlink:href=\"#f2c1a37c3c6\"/><use x=\"34.726875\" y=\"127.455514\" fill=\"#808080\" stroke=\"#808080\" stroke-width=\".6\" xlink:href=\"#f2c1a37c3c6\"/><use x=\"34.726875\" y=\"120.492164\" fill=\"#808080\" stroke=\"#808080\" stroke-width=\".6\" xlink:href=\"#f2c1a37c3c6\"/><use x=\"34.726875\" y=\"113.528813\" fill=\"#808080\" stroke=\"#808080\" stroke-width=\".6\" xlink:href=\"#f2c1a37c3c6\"/><use x=\"34.726875\" y=\"99.602112\" fill=\"#808080\" stroke=\"#808080\" stroke-width=\".6\" xlink:href=\"#f2c1a37c3c6\"/><use x=\"34.726875\" y=\"92.638762\" fill=\"#808080\" stroke=\"#808080\" stroke-width=\".6\" xlink:href=\"#f2c1a37c3c6\"/><use x=\"34.726875\" y=\"85.675411\" fill=\"#808080\" stroke=\"#808080\" stroke-width=\".6\" xlink:href=\"#f2c1a37c3c6\"/><use x=\"34.726875\" y=\"78.712061\" fill=\"#808080\" stroke=\"#808080\" stroke-width=\".6\" xlink:href=\"#f2c1a37c3c6\"/><use x=\"34.726875\" y=\"64.78536\" fill=\"#808080\" stroke=\"#808080\" stroke-width=\".6\" xlink:href=\"#f2c1a37c3c6\"/><use x=\"34.726875\" y=\"57.822009\" fill=\"#808080\" stroke=\"#808080\" stroke-width=\".6\" xlink:href=\"#f2c1a37c3c6\"/><g transform=\"translate(7.2 48) scale(.12 -.12)\" fill=\"#808080\"><defs><path id=\"DejaVuSans-6c\" transform=\"scale(.015625)\" d=\"m603 4863h575v-4863h-575v4863z\"/><path id=\"DejaVuSans-6f\" transform=\"scale(.015625)\" d=\"m1959 3097q-462 0-731-361t-269-989 267-989q268-361 733-361 460 0 728 362 269 363 269 988 0 622-269 986-268 364-728 364zm0 487q750 0 1178-488 429-487 429-1349 0-859-429-1349-428-489-1178-489-753 0-1180 489-426 490-426 1349 0 862 426 1349 427 488 1180 488z\"/><path id=\"DejaVuSans-67\" transform=\"scale(.015625)\" d=\"m2906 1791q0 625-258 968-257 344-723 344-462 0-720-344-258-343-258-968 0-622 258-966t720-344q466 0 723 344 258 344 258 966zm575-1357q0-893-397-1329-396-436-1215-436-303 0-572 45t-522 139v559q253-137 500-202 247-66 503-66 566 0 847 295t281 892v285q-178-310-456-463t-666-153q-643 0-1037 490-394 491-394 1301 0 812 394 1302 394 491 1037 491 388 0 666-153t456-462v531h575v-3066z\"/><path id=\"DejaVuSans-32\" transform=\"scale(.015625)\" d=\"m1228 531h2203v-531h-2962v531q359 372 979 998 621 627 780 809 303 340 423 576 121 236 121 464 0 372-261 606-261 235-680 235-297 0-627-103-329-103-704-313v638q381 153 712 231 332 78 607 78 725 0 1156-363 431-362 431-968 0-288-108-546-107-257-392-607-78-91-497-524-418-433-1181-1211z\"/><path id=\"DejaVuSans-5b\" transform=\"scale(.015625)\" d=\"m550 4863h1325v-447h-750v-4813h750v-447h-1325v5707z\"/><path id=\"DejaVuSans-53\" transform=\"scale(.015625)\" d=\"m3425 4513v-616q-359 172-678 256-319 85-616 85-515 0-795-200t-280-569q0-310 186-468 186-157 705-254l381-78q706-135 1042-474t336-907q0-679-455-1029-454-350-1332-350-331 0-705 75-373 75-773 222v650q384-215 753-325 369-109 725-109 540 0 834 212 294 213 294 607 0 343-211 537t-692 291l-385 75q-706 140-1022 440-315 300-315 835 0 619 436 975t1201 356q329 0 669-60 341-59 697-177z\"/><path id=\"DejaVuSans-49\" transform=\"scale(.015625)\" d=\"m628 4666h631v-4666h-631v4666z\"/><path id=\"DejaVuSans-5a\" transform=\"scale(.015625)\" d=\"m359 4666h3666v-482l-2950-3653h3022v-531h-3809v481l2950 3653h-2879v532z\"/><path id=\"DejaVuSans-45\" transform=\"scale(.015625)\" d=\"m628 4666h2950v-532h-2319v-1381h2222v-531h-2222v-1691h2375v-531h-3006v4666z\"/><path id=\"DejaVuSans-5d\" transform=\"scale(.015625)\" d=\"m1947 4863v-5707h-1325v447h747v4813h-747v447h1325z\"/></defs><use xlink:href=\"#DejaVuSans-6c\"/><use x=\"27.783203\" xlink:href=\"#DejaVuSans-6f\"/><use x=\"88.964844\" xlink:href=\"#DejaVuSans-67\"/><use x=\"152.441406\" xlink:href=\"#DejaVuSans-32\"/><use x=\"216.064453\" xlink:href=\"#DejaVuSans-5b\"/><use x=\"255.078125\" xlink:href=\"#DejaVuSans-53\"/><use x=\"318.554688\" xlink:href=\"#DejaVuSans-49\"/><use x=\"348.046875\" xlink:href=\"#DejaVuSans-5a\"/><use x=\"416.552734\" xlink:href=\"#DejaVuSans-45\"/><use x=\"479.736328\" xlink:href=\"#DejaVuSans-5d\"/></g><path d=\"m401.93 234h7.2v-180h-7.2v180z\" fill=\"none\"/><image transform=\"scale(1 -1) translate(0 -180)\" x=\"401.76\" y=\"-54\" width=\"7.2\" height=\"180\" xlink:href=\"data:image/png;base64, iVBORw0KGgoAAAANSUhEUgAAAAoAAAD6CAYAAACYoNakAAAA/UlEQVR4nO2W0Q3EMAxCXSn7T3Yj9eLboHqR6CEn7jcCg0nSK/OTAb4RiXAxIiYEOhkpMAtIOxl9KyzRRz1wpzOjr1k3XMS40/1YoOFZoeFO6T4KGmkKnL7bTJ/j9EnzGY2By+PhgXcpJNId+J+B3AzCLc3oYzS61kv7zECctxTsEBYpbrt+BGLX+My8wLiVmQqMNmn4A1Aknm+Xojhj4uLSq5kz8gdJLu00o2bUu+btKWFGPuNW7ZEz8sB5jhA46YOUcUEgnpECYToxMuUzMtyC9IIZtfSCGQic+sD5ZtTSzprJ++jczE59hPfoG0C+6yOBt0+6N3MO8Mhd/wBuCamaxZQfuAAAAABJRU5ErkJggg==\"/><path d=\"m401.93 234h7.2\" clip-path=\"url(#40ea3eae1fd)\" fill=\"none\" stroke=\"#808080\" stroke-linecap=\"square\" stroke-opacity=\".1\" stroke-width=\".8\"/><defs><path id=\"af92a7e4f17\" d=\"m0 0h3.5\" stroke=\"#808080\" stroke-width=\".8\"/></defs><use x=\"409.126875\" y=\"234\" fill=\"#808080\" stroke=\"#808080\" stroke-width=\".8\" xlink:href=\"#af92a7e4f17\"/><g transform=\"translate(416.13 237.8) scale(.1 -.1)\" fill=\"#808080\"><use xlink:href=\"#DejaVuSans-30\"/><use x=\"63.623047\" xlink:href=\"#DejaVuSans-2e\"/><use x=\"95.410156\" xlink:href=\"#DejaVuSans-30\"/></g><path d=\"m401.93 203.88h7.2\" clip-path=\"url(#40ea3eae1fd)\" fill=\"none\" stroke=\"#808080\" stroke-linecap=\"square\" stroke-opacity=\".1\" stroke-width=\".8\"/><use x=\"409.126875\" y=\"203.876153\" fill=\"#808080\" stroke=\"#808080\" stroke-width=\".8\" xlink:href=\"#af92a7e4f17\"/><g transform=\"translate(416.13 207.68) scale(.1 -.1)\" fill=\"#808080\"><use xlink:href=\"#DejaVuSans-30\"/><use x=\"63.623047\" xlink:href=\"#DejaVuSans-2e\"/><use x=\"95.410156\" xlink:href=\"#DejaVuSans-35\"/></g><path d=\"m401.93 173.75h7.2\" clip-path=\"url(#40ea3eae1fd)\" fill=\"none\" stroke=\"#808080\" stroke-linecap=\"square\" stroke-opacity=\".1\" stroke-width=\".8\"/><use x=\"409.126875\" y=\"173.752307\" fill=\"#808080\" stroke=\"#808080\" stroke-width=\".8\" xlink:href=\"#af92a7e4f17\"/><g transform=\"translate(416.13 177.55) scale(.1 -.1)\" fill=\"#808080\"><defs><path id=\"DejaVuSans-31\" transform=\"scale(.015625)\" d=\"m794 531h1031v3560l-1122-225v575l1116 225h631v-4135h1031v-531h-2687v531z\"/></defs><use xlink:href=\"#DejaVuSans-31\"/><use x=\"63.623047\" xlink:href=\"#DejaVuSans-2e\"/><use x=\"95.410156\" xlink:href=\"#DejaVuSans-30\"/></g><path d=\"m401.93 143.63h7.2\" clip-path=\"url(#40ea3eae1fd)\" fill=\"none\" stroke=\"#808080\" stroke-linecap=\"square\" stroke-opacity=\".1\" stroke-width=\".8\"/><use x=\"409.126875\" y=\"143.62846\" fill=\"#808080\" stroke=\"#808080\" stroke-width=\".8\" xlink:href=\"#af92a7e4f17\"/><g transform=\"translate(416.13 147.43) scale(.1 -.1)\" fill=\"#808080\"><use xlink:href=\"#DejaVuSans-31\"/><use x=\"63.623047\" xlink:href=\"#DejaVuSans-2e\"/><use x=\"95.410156\" xlink:href=\"#DejaVuSans-35\"/></g><path d=\"m401.93 113.5h7.2\" clip-path=\"url(#40ea3eae1fd)\" fill=\"none\" stroke=\"#808080\" stroke-linecap=\"square\" stroke-opacity=\".1\" stroke-width=\".8\"/><use x=\"409.126875\" y=\"113.504614\" fill=\"#808080\" stroke=\"#808080\" stroke-width=\".8\" xlink:href=\"#af92a7e4f17\"/><g transform=\"translate(416.13 117.3) scale(.1 -.1)\" fill=\"#808080\"><use xlink:href=\"#DejaVuSans-32\"/><use x=\"63.623047\" xlink:href=\"#DejaVuSans-2e\"/><use x=\"95.410156\" xlink:href=\"#DejaVuSans-30\"/></g><path d=\"m401.93 83.381h7.2\" clip-path=\"url(#40ea3eae1fd)\" fill=\"none\" stroke=\"#808080\" stroke-linecap=\"square\" stroke-opacity=\".1\" stroke-width=\".8\"/><use x=\"409.126875\" y=\"83.380767\" fill=\"#808080\" stroke=\"#808080\" stroke-width=\".8\" xlink:href=\"#af92a7e4f17\"/><g transform=\"translate(416.13 87.18) scale(.1 -.1)\" fill=\"#808080\"><use xlink:href=\"#DejaVuSans-32\"/><use x=\"63.623047\" xlink:href=\"#DejaVuSans-2e\"/><use x=\"95.410156\" xlink:href=\"#DejaVuSans-35\"/></g><defs><path id=\"1bb6f59854a\" d=\"m0 0h2\" stroke=\"#808080\" stroke-width=\".6\"/></defs><use x=\"409.126875\" y=\"227.975231\" fill=\"#808080\" stroke=\"#808080\" stroke-width=\".6\" xlink:href=\"#1bb6f59854a\"/><use x=\"409.126875\" y=\"221.950461\" fill=\"#808080\" stroke=\"#808080\" stroke-width=\".6\" xlink:href=\"#1bb6f59854a\"/><use x=\"409.126875\" y=\"215.925692\" fill=\"#808080\" stroke=\"#808080\" stroke-width=\".6\" xlink:href=\"#1bb6f59854a\"/><use x=\"409.126875\" y=\"209.900923\" fill=\"#808080\" stroke=\"#808080\" stroke-width=\".6\" xlink:href=\"#1bb6f59854a\"/><use x=\"409.126875\" y=\"197.851384\" fill=\"#808080\" stroke=\"#808080\" stroke-width=\".6\" xlink:href=\"#1bb6f59854a\"/><use x=\"409.126875\" y=\"191.826615\" fill=\"#808080\" stroke=\"#808080\" stroke-width=\".6\" xlink:href=\"#1bb6f59854a\"/><use x=\"409.126875\" y=\"185.801846\" fill=\"#808080\" stroke=\"#808080\" stroke-width=\".6\" xlink:href=\"#1bb6f59854a\"/><use x=\"409.126875\" y=\"179.777076\" fill=\"#808080\" stroke=\"#808080\" stroke-width=\".6\" xlink:href=\"#1bb6f59854a\"/><use x=\"409.126875\" y=\"167.727538\" fill=\"#808080\" stroke=\"#808080\" stroke-width=\".6\" xlink:href=\"#1bb6f59854a\"/><use x=\"409.126875\" y=\"161.702768\" fill=\"#808080\" stroke=\"#808080\" stroke-width=\".6\" xlink:href=\"#1bb6f59854a\"/><use x=\"409.126875\" y=\"155.677999\" fill=\"#808080\" stroke=\"#808080\" stroke-width=\".6\" xlink:href=\"#1bb6f59854a\"/><use x=\"409.126875\" y=\"149.65323\" fill=\"#808080\" stroke=\"#808080\" stroke-width=\".6\" xlink:href=\"#1bb6f59854a\"/><use x=\"409.126875\" y=\"137.603691\" fill=\"#808080\" stroke=\"#808080\" stroke-width=\".6\" xlink:href=\"#1bb6f59854a\"/><use x=\"409.126875\" y=\"131.578922\" fill=\"#808080\" stroke=\"#808080\" stroke-width=\".6\" xlink:href=\"#1bb6f59854a\"/><use x=\"409.126875\" y=\"125.554153\" fill=\"#808080\" stroke=\"#808080\" stroke-width=\".6\" xlink:href=\"#1bb6f59854a\"/><use x=\"409.126875\" y=\"119.529383\" fill=\"#808080\" stroke=\"#808080\" stroke-width=\".6\" xlink:href=\"#1bb6f59854a\"/><use x=\"409.126875\" y=\"107.479845\" fill=\"#808080\" stroke=\"#808080\" stroke-width=\".6\" xlink:href=\"#1bb6f59854a\"/><use x=\"409.126875\" y=\"101.455075\" fill=\"#808080\" stroke=\"#808080\" stroke-width=\".6\" xlink:href=\"#1bb6f59854a\"/><use x=\"409.126875\" y=\"95.430306\" fill=\"#808080\" stroke=\"#808080\" stroke-width=\".6\" xlink:href=\"#1bb6f59854a\"/><use x=\"409.126875\" y=\"89.405537\" fill=\"#808080\" stroke=\"#808080\" stroke-width=\".6\" xlink:href=\"#1bb6f59854a\"/><use x=\"409.126875\" y=\"77.355998\" fill=\"#808080\" stroke=\"#808080\" stroke-width=\".6\" xlink:href=\"#1bb6f59854a\"/><use x=\"409.126875\" y=\"71.331229\" fill=\"#808080\" stroke=\"#808080\" stroke-width=\".6\" xlink:href=\"#1bb6f59854a\"/><use x=\"409.126875\" y=\"65.30646\" fill=\"#808080\" stroke=\"#808080\" stroke-width=\".6\" xlink:href=\"#1bb6f59854a\"/><use x=\"409.126875\" y=\"59.28169\" fill=\"#808080\" stroke=\"#808080\" stroke-width=\".6\" xlink:href=\"#1bb6f59854a\"/><g transform=\"translate(365.34 48) scale(.12 -.12)\" fill=\"#808080\"><defs><path id=\"DejaVuSans-46\" transform=\"scale(.015625)\" d=\"m628 4666h2681v-532h-2050v-1375h1850v-531h-1850v-2228h-631v4666z\"/><path id=\"DejaVuSans-4c\" transform=\"scale(.015625)\" d=\"m628 4666h631v-4135h2272v-531h-2903v4666z\"/><path id=\"DejaVuSans-4f\" transform=\"scale(.015625)\" d=\"m2522 4238q-688 0-1093-513-404-512-404-1397 0-881 404-1394 405-512 1093-512 687 0 1089 512 402 513 402 1394 0 885-402 1397-402 513-1089 513zm0 512q981 0 1568-658 588-658 588-1764 0-1103-588-1761-587-658-1568-658-984 0-1574 656-589 657-589 1763t589 1764q590 658 1574 658z\"/><path id=\"DejaVuSans-50\" transform=\"scale(.015625)\" d=\"m1259 4147v-1753h794q441 0 681 228 241 228 241 650 0 419-241 647-240 228-681 228h-794zm-631 519h1425q785 0 1186-355 402-355 402-1039 0-691-402-1044-401-353-1186-353h-794v-1875h-631v4666z\"/></defs><use xlink:href=\"#DejaVuSans-6c\"/><use x=\"27.783203\" xlink:href=\"#DejaVuSans-6f\"/><use x=\"88.964844\" xlink:href=\"#DejaVuSans-67\"/><use x=\"152.441406\" xlink:href=\"#DejaVuSans-31\"/><use x=\"216.064453\" xlink:href=\"#DejaVuSans-30\"/><use x=\"279.6875\" xlink:href=\"#DejaVuSans-5b\"/><use x=\"318.701172\" xlink:href=\"#DejaVuSans-46\"/><use x=\"376.220703\" xlink:href=\"#DejaVuSans-4c\"/><use x=\"428.308594\" xlink:href=\"#DejaVuSans-4f\"/><use x=\"507.019531\" xlink:href=\"#DejaVuSans-50\"/><use x=\"567.322266\" xlink:href=\"#DejaVuSans-53\"/><use x=\"630.798828\" xlink:href=\"#DejaVuSans-5d\"/></g><defs><clipPath id=\"88aa24ac0fc\"><rect x=\"88.909\" y=\"7.2\" width=\"275.04\" height=\"277.2\"/></clipPath><clipPath id=\"5a5cf075951\"><rect x=\"34.727\" y=\"54\" width=\"7.2\" height=\"180\"/></clipPath><clipPath id=\"40ea3eae1fd\"><rect x=\"401.93\" y=\"54\" width=\"7.2\" height=\"180\"/></clipPath></defs></svg>"
      ],
      "text/plain": [
       "<Figure size 500x500 with 3 Axes>"
      ]
     },
     "metadata": {
      "needs_background": "light"
     },
     "output_type": "display_data"
    }
   ],
   "source": [
    "tree.plot_tent(order=True);"
   ]
  },
  {
   "cell_type": "code",
   "execution_count": 7,
   "id": "d45835c1",
   "metadata": {},
   "outputs": [
    {
     "data": {
      "image/svg+xml": [
       "<?xml version=\"1.0\" encoding=\"UTF-8\"?><!DOCTYPE svg  PUBLIC '-//W3C//DTD SVG 1.1//EN'  'http://www.w3.org/Graphics/SVG/1.1/DTD/svg11.dtd'><svg width=\"198.55pt\" height=\"240.28pt\" version=\"1.1\" viewBox=\"0 0 198.55 240.28\" xmlns=\"http://www.w3.org/2000/svg\" xmlns:xlink=\"http://www.w3.org/1999/xlink\"><defs><style type=\"text/css\">*{stroke-linejoin: round; stroke-linecap: butt}</style></defs><path d=\"m0 240.28h198.55v-240.28h-198.55v240.28z\" fill=\"none\"/><path d=\"m22.991 216.92q10.631-6.3361 13.18-9.3026c2.2463-2.6139 4.7678-9.5356 6.3571-12.714 1.5893-3.1785 5.6138-9.3488 6.3571-12.714q0.84357-3.8194-0.46605-16.126\" clip-path=\"url(#9a36243b9c7)\" fill=\"none\" stroke=\"#83dec4\" stroke-linecap=\"round\" stroke-width=\"2\"/><g transform=\"translate(46.394 190.91) rotate(-63.435) scale(.06 -.06)\" fill=\"#808080\"><defs><path id=\"DejaVuSansMono-68\" transform=\"scale(.015625)\" d=\"m3284 2169v-2169h-578v2169q0 472-166 693-165 222-518 222-403 0-621-286-217-285-217-820v-1978h-575v4863h575v-1888q154 300 416 454 263 155 622 155 534 0 798-352 264-351 264-1063z\"/></defs><use xlink:href=\"#DejaVuSansMono-68\"/></g><path d=\"m22.991 216.92q4.7678-9.5356 6.3571-12.714c1.5893-3.1785 4.7678-9.5356 6.3571-12.714 1.5893-3.1785 4.7678-9.5356 6.3571-12.714q1.5893-3.1785 6.3571-12.714\" clip-path=\"url(#9a36243b9c7)\" fill=\"none\" stroke=\"#5552d1\" stroke-linecap=\"round\" stroke-width=\"1.585\"/><g transform=\"translate(36.356 193.84) rotate(-63.435) scale(.06 -.06)\" fill=\"#808080\"><defs><path id=\"DejaVuSansMono-67\" transform=\"scale(.015625)\" d=\"m2681 1778q0 647-211 983t-614 336q-422 0-644-336-221-336-221-983t223-986q224-339 649-339 396 0 607 340 211 341 211 985zm575-1553q0-788-372-1194-371-406-1093-406-238 0-498 44-259 43-518 128v569q306-144 556-213t460-69q465 0 677 254 213 253 213 803v25 390q-137-293-375-437-237-144-578-144-612 0-978 490-366 491-366 1313 0 825 366 1315 366 491 978 491 338 0 572-134t381-416v454h575v-3263z\"/></defs><use xlink:href=\"#DejaVuSansMono-67\"/></g><path d=\"m22.991 216.92q-1.3096-12.306-0.46605-16.126c0.7433-3.3654 4.7678-9.5356 6.3571-12.714 1.5893-3.1785 4.1107-10.1 6.3571-12.714q2.5494-2.9665 13.18-9.3026\" clip-path=\"url(#9a36243b9c7)\" fill=\"none\" stroke=\"#4ee480\" stroke-linecap=\"round\" stroke-width=\"1.585\"/><g transform=\"translate(26.391 196.8) rotate(-63.435) scale(.06 -.06)\" fill=\"#808080\"><defs><path id=\"DejaVuSansMono-64\" transform=\"scale(.015625)\" d=\"m2681 3053v1810h575v-4863h-575v441q-143-260-383-396-239-136-551-136-634 0-999 492-364 493-364 1358 0 854 366 1339 366 486 997 486 316 0 556-136 241-135 378-395zm-1690-1306q0-669 212-1010 213-340 628-340 416 0 633 343 217 344 217 1007 0 666-217 1008t-633 342q-415 0-628-341-212-340-212-1009z\"/></defs><use xlink:href=\"#DejaVuSansMono-64\"/></g><path d=\"m73.848 216.92q1.3096-12.306 0.46605-16.126c-0.7433-3.3654-4.7678-9.5356-6.3571-12.714-1.5893-3.1785-4.1107-10.1-6.3571-12.714q-2.5494-2.9665-13.18-9.3026\" clip-path=\"url(#9a36243b9c7)\" fill=\"none\" stroke=\"#b9e292\" stroke-linecap=\"round\" stroke-width=\"1.585\"/><g transform=\"translate(62.475 180.86) rotate(63.435) scale(.06 -.06)\" fill=\"#808080\"><defs><path id=\"DejaVuSansMono-62\" transform=\"scale(.015625)\" d=\"m2869 1747q0 669-213 1009-212 341-628 341-419 0-635-342-215-342-215-1008 0-663 215-1007 216-343 635-343 416 0 628 340 213 341 213 1010zm-1691 1306q138 256 380 393 242 138 561 138 631 0 993-486 363-485 363-1339 0-865-364-1358-364-492-998-492-313 0-552 136t-383 396v-441h-575v4863h575v-1810z\"/></defs><use xlink:href=\"#DejaVuSansMono-62\"/></g><path d=\"m73.848 216.92q-4.7678-9.5356-6.3571-12.714c-1.5893-3.1785-4.7678-9.5356-6.3571-12.714-1.5893-3.1785-4.7678-9.5356-6.3571-12.714q-1.5893-3.1785-6.3571-12.714\" clip-path=\"url(#9a36243b9c7)\" fill=\"none\" stroke=\"#dee363\" stroke-linecap=\"round\" stroke-width=\"2\"/><g transform=\"translate(58.831 190.63) rotate(63.435) scale(.06 -.06)\" fill=\"#808080\"><defs><path id=\"DejaVuSansMono-66\" transform=\"scale(.015625)\" d=\"m3322 4863v-479h-653q-310 0-430-127-120-126-120-448v-309h1203v-447h-1203v-3053h-575v3053h-935v447h935v244q0 575 264 847t823 272h691z\"/></defs><use xlink:href=\"#DejaVuSansMono-66\"/></g><path d=\"m73.848 216.92q-10.631-6.3361-13.18-9.3026c-2.2463-2.6139-4.7678-9.5356-6.3571-12.714s-5.6138-9.3488-6.3571-12.714q-0.84357-3.8194 0.46605-16.126\" clip-path=\"url(#9a36243b9c7)\" fill=\"none\" stroke=\"#83dec4\" stroke-linecap=\"round\" stroke-width=\"2\"/><g transform=\"translate(55.186 200.4) rotate(63.435) scale(.06 -.06)\" fill=\"#808080\"><use xlink:href=\"#DejaVuSansMono-68\"/></g><path d=\"m48.419 166.07q14.048-3.898 17.673-6.6114c3.0526-2.2853 7.1517-9.5356 9.5356-12.714s8.1964-9.1438 9.5356-12.714q1.59-4.239 1.3986-18.817\" clip-path=\"url(#9a36243b9c7)\" fill=\"none\" stroke=\"#5552d1\" stroke-linecap=\"round\" stroke-width=\"1.585\"/><g transform=\"translate(80.616 142.81) rotate(-53.13) scale(.06 -.06)\" fill=\"#808080\"><use xlink:href=\"#DejaVuSansMono-67\"/></g><path d=\"m48.419 166.07q9.4982-7.7199 12.248-10.68c2.6893-2.8949 7.1517-9.5356 9.5356-12.714 2.3839-3.1785 7.5095-9.3219 9.5356-12.714q2.0717-3.4686 6.8233-14.748\" clip-path=\"url(#9a36243b9c7)\" fill=\"none\" stroke=\"#dee363\" stroke-linecap=\"round\" stroke-width=\"2\"/><g transform=\"translate(72.046 143) rotate(-53.13) scale(.06 -.06)\" fill=\"#808080\"><use xlink:href=\"#DejaVuSansMono-66\"/></g><path d=\"m48.419 166.07q4.7516-11.28 6.8233-14.748c2.0261-3.3922 7.1517-9.5356 9.5356-12.714 2.3839-3.1785 6.8464-9.8193 9.5356-12.714q2.7498-2.96 12.248-10.68\" clip-path=\"url(#9a36243b9c7)\" fill=\"none\" stroke=\"#4ee480\" stroke-linecap=\"round\" stroke-width=\"1.585\"/><g transform=\"translate(63.442 143.17) rotate(-53.13) scale(.06 -.06)\" fill=\"#808080\"><use xlink:href=\"#DejaVuSansMono-64\"/></g><path d=\"m48.419 166.07q-0.19143-14.578 1.3986-18.817c1.3392-3.5704 7.1517-9.5356 9.5356-12.714 2.3839-3.1785 6.483-10.429 9.5356-12.714q3.6242-2.7133 17.673-6.6114\" clip-path=\"url(#9a36243b9c7)\" fill=\"none\" stroke=\"#b9e292\" stroke-linecap=\"round\" stroke-width=\"1.585\"/><g transform=\"translate(54.839 143.34) rotate(-53.13) scale(.06 -.06)\" fill=\"#808080\"><use xlink:href=\"#DejaVuSansMono-62\"/></g><path d=\"m124.7 166.07q0.19143-14.578-1.3986-18.817c-1.3392-3.5704-7.1517-9.5356-9.5356-12.714-2.3839-3.1785-6.483-10.429-9.5356-12.714q-3.6242-2.7133-17.673-6.6114\" clip-path=\"url(#9a36243b9c7)\" fill=\"none\" stroke=\"#5db6d5\" stroke-linecap=\"round\" stroke-width=\"1.585\"/><g transform=\"translate(106.58 127.74) rotate(53.13) scale(.06 -.06)\" fill=\"#808080\"><defs><path id=\"DejaVuSansMono-63\" transform=\"scale(.015625)\" d=\"m3316 178q-232-134-477-201-245-68-501-68-813 0-1271 487-458 488-458 1351 0 862 458 1349 458 488 1271 488 253 0 493-66 241-65 485-202v-603q-228 203-458 293-230 91-520 91-541 0-832-350-290-350-290-1e3 0-647 292-999 292-351 830-351 300 0 537 92 238 92 441 286v-597z\"/></defs><use xlink:href=\"#DejaVuSansMono-63\"/></g><path d=\"m124.7 166.07q-4.7516-11.28-6.8233-14.748c-2.0261-3.3922-7.1517-9.5356-9.5356-12.714-2.3839-3.1785-6.8464-9.8193-9.5356-12.714q-2.7498-2.96-12.248-10.68\" clip-path=\"url(#9a36243b9c7)\" fill=\"none\" stroke=\"#4ee480\" stroke-linecap=\"round\" stroke-width=\"1.585\"/><g transform=\"translate(104.34 136.04) rotate(53.13) scale(.06 -.06)\" fill=\"#808080\"><use xlink:href=\"#DejaVuSansMono-64\"/></g><path d=\"m124.7 166.07q-9.4982-7.7199-12.248-10.68c-2.6893-2.8949-7.1517-9.5356-9.5356-12.714-2.3839-3.1785-7.5095-9.3219-9.5356-12.714q-2.0717-3.4686-6.8233-14.748\" clip-path=\"url(#9a36243b9c7)\" fill=\"none\" stroke=\"#3ddfb7\" stroke-linecap=\"round\" stroke-width=\"1.585\"/><g transform=\"translate(102.09 144.35) rotate(53.13) scale(.06 -.06)\" fill=\"#808080\"><defs><path id=\"DejaVuSansMono-65\" transform=\"scale(.015625)\" d=\"m3475 1894v-281h-2491v-19q0-572 298-885 299-312 843-312 275 0 575 87 300 88 641 266v-572q-328-134-633-201-305-68-589-68-816 0-1276 489-459 490-459 1349 0 837 450 1337t1200 500q669 0 1055-453t386-1237zm-575 169q-12 506-239 770t-652 264q-415 0-684-275t-319-763l1894 4z\"/></defs><use xlink:href=\"#DejaVuSansMono-65\"/></g><path d=\"m124.7 166.07q-14.048-3.898-17.673-6.6114c-3.0526-2.2853-7.1517-9.5356-9.5356-12.714s-8.1964-9.1438-9.5356-12.714q-1.59-4.239-1.3986-18.817\" clip-path=\"url(#9a36243b9c7)\" fill=\"none\" stroke=\"#dee363\" stroke-linecap=\"round\" stroke-width=\"2\"/><g transform=\"translate(99.843 152.66) rotate(53.13) scale(.06 -.06)\" fill=\"#808080\"><use xlink:href=\"#DejaVuSansMono-66\"/></g><path d=\"m86.562 115.21q14.809-3.4092 18.78-6.0163c3.4017-2.2335 8.3437-9.5356 11.125-12.714 2.7812-3.1785 9.3626-9.0461 11.125-12.714q2.057-4.2816 3.4702-19.412\" clip-path=\"url(#9a36243b9c7)\" fill=\"none\" stroke=\"#5552d1\" stroke-linecap=\"round\" stroke-width=\"1.585\"/><g transform=\"translate(122.07 92.556) rotate(-48.814) scale(.06 -.06)\" fill=\"#808080\"><use xlink:href=\"#DejaVuSansMono-67\"/></g><path d=\"m86.562 115.21q10.549-7.5504 13.676-10.482c3.0667-2.8738 8.3437-9.5356 11.125-12.714 2.7812-3.1785 8.6835-9.2931 11.125-12.714q2.49-3.4893 8.5733-14.947\" clip-path=\"url(#9a36243b9c7)\" fill=\"none\" stroke=\"#3ddfb7\" stroke-linecap=\"round\" stroke-width=\"1.585\"/><g transform=\"translate(113.29 92.356) rotate(-48.814) scale(.06 -.06)\" fill=\"#808080\"><use xlink:href=\"#DejaVuSansMono-65\"/></g><path d=\"m86.562 115.21q6.0833-11.457 8.5733-14.947c2.4413-3.4211 8.3437-9.5356 11.125-12.714 2.7812-3.1785 8.0581-9.8403 11.125-12.714q3.1279-2.9311 13.676-10.482\" clip-path=\"url(#9a36243b9c7)\" fill=\"none\" stroke=\"#5db6d5\" stroke-linecap=\"round\" stroke-width=\"1.585\"/><g transform=\"translate(104.47 92.129) rotate(-48.814) scale(.06 -.06)\" fill=\"#808080\"><use xlink:href=\"#DejaVuSansMono-63\"/></g><path d=\"m86.562 115.21q1.4132-15.13 3.4702-19.412c1.7622-3.6681 8.3437-9.5356 11.125-12.714 2.7812-3.1785 7.7232-10.481 11.125-12.714q3.9706-2.6071 18.78-6.0163\" clip-path=\"url(#9a36243b9c7)\" fill=\"none\" stroke=\"#b9e292\" stroke-linecap=\"round\" stroke-width=\"1.585\"/><g transform=\"translate(95.663 91.902) rotate(-48.814) scale(.06 -.06)\" fill=\"#808080\"><use xlink:href=\"#DejaVuSansMono-62\"/></g><path d=\"m175.56 115.21q-3.1851-13.777-5.3839-17.738c-2.004-3.61-8.3437-9.5356-11.125-12.714-2.7812-3.1785-7.8128-10.249-11.125-12.714q-3.634-2.7051-16.866-7.6907\" clip-path=\"url(#9a36243b9c7)\" fill=\"none\" stroke=\"#7aacd4\" stroke-linecap=\"round\"/><g transform=\"translate(151.04 78.144) rotate(48.814) scale(.06 -.06)\" fill=\"#808080\"><defs><path id=\"DejaVuSansMono-61\" transform=\"scale(.015625)\" d=\"m2194 1759h-191q-503 0-758-177-254-176-254-526 0-315 190-490 191-175 528-175 475 0 747 329 272 330 275 911v128h-537zm1115 238v-1997h-578v519q-184-313-464-462-279-148-679-148-535 0-854 302-318 302-318 808 0 584 392 887t1151 303h772v91q-3 419-213 608-209 189-668 189-294 0-594-85-300-84-584-246v575q319 122 611 182 292 61 567 61 434 0 742-128t499-384q118-156 168-386t50-689z\"/></defs><use xlink:href=\"#DejaVuSansMono-61\"/></g><path d=\"m175.56 115.21q-8.3437-9.5356-11.125-12.714c-2.7812-3.1785-8.3437-9.5356-11.125-12.714-2.7812-3.1785-8.3437-9.5356-11.125-12.714q-2.7812-3.1785-11.125-12.714\" clip-path=\"url(#9a36243b9c7)\" fill=\"none\" stroke=\"#b9e292\" stroke-linecap=\"round\" stroke-width=\"1.585\"/><g transform=\"translate(150.86 89.524) rotate(48.814) scale(.06 -.06)\" fill=\"#808080\"><use xlink:href=\"#DejaVuSansMono-62\"/></g><path d=\"m175.56 115.21q-13.232-4.9856-16.866-7.6907c-3.312-2.4654-8.3437-9.5356-11.125-12.714-2.7812-3.1785-9.1209-9.1041-11.125-12.714q-2.1988-3.961-5.3839-17.738\" clip-path=\"url(#9a36243b9c7)\" fill=\"none\" stroke=\"#5db6d5\" stroke-linecap=\"round\" stroke-width=\"1.585\"/><g transform=\"translate(150.68 100.9) rotate(48.814) scale(.06 -.06)\" fill=\"#808080\"><use xlink:href=\"#DejaVuSansMono-63\"/></g><path d=\"m131.06 64.354q-6.6749-18.931-7.6285-25.428-0.91334-6.223 0-25.428\" clip-path=\"url(#9a36243b9c7)\" fill=\"none\" stroke=\"#7aacd4\" stroke-linecap=\"round\"/><path d=\"m131.06 64.354q0-19.071 0-25.428t0-25.428\" clip-path=\"url(#9a36243b9c7)\" fill=\"none\" stroke=\"#3ddfb7\" stroke-linecap=\"round\" stroke-width=\"1.585\"/><path d=\"m131.06 64.354q6.6749-18.931 7.6285-25.428 0.91334-6.223 0-25.428\" clip-path=\"url(#9a36243b9c7)\" fill=\"none\" stroke=\"#5552d1\" stroke-linecap=\"round\" stroke-width=\"1.585\"/><path d=\"m22.991 229.64c3.3718 0 6.606-1.3396 8.9903-3.7239s3.7239-5.6184 3.7239-8.9903-1.3396-6.606-3.7239-8.9903-5.6184-3.7239-8.9903-3.7239-6.606 1.3396-8.9903 3.7239-3.7239 5.6184-3.7239 8.9903 1.3396 6.606 3.7239 8.9903 5.6184 3.7239 8.9903 3.7239z\" clip-path=\"url(#9a36243b9c7)\" fill=\"#e69f00\" stroke=\"#996a00\"/><path d=\"m73.848 229.64c3.3718 0 6.606-1.3396 8.9903-3.7239s3.7239-5.6184 3.7239-8.9903-1.3396-6.606-3.7239-8.9903-5.6184-3.7239-8.9903-3.7239-6.606 1.3396-8.9903 3.7239c-2.3842 2.3842-3.7239 5.6184-3.7239 8.9903s1.3396 6.606 3.7239 8.9903c2.3842 2.3842 5.6184 3.7239 8.9903 3.7239z\" clip-path=\"url(#9a36243b9c7)\" fill=\"#cc79a7\" stroke=\"#88516f\"/><path d=\"m48.419 178.78c3.3718 0 6.606-1.3396 8.9903-3.7239s3.7239-5.6184 3.7239-8.9903-1.3396-6.606-3.7239-8.9903-5.6184-3.7239-8.9903-3.7239-6.606 1.3396-8.9903 3.7239-3.7239 5.6184-3.7239 8.9903 1.3396 6.606 3.7239 8.9903 5.6184 3.7239 8.9903 3.7239z\" clip-path=\"url(#9a36243b9c7)\" fill=\"#808080\" fill-opacity=\".5\" stroke=\"#555555\" stroke-opacity=\".5\"/><path d=\"m124.7 178.78c3.3718 0 6.606-1.3396 8.9903-3.7239 2.3842-2.3842 3.7239-5.6184 3.7239-8.9903s-1.3396-6.606-3.7239-8.9903c-2.3842-2.3842-5.6184-3.7239-8.9903-3.7239s-6.606 1.3396-8.9903 3.7239-3.7239 5.6184-3.7239 8.9903 1.3396 6.606 3.7239 8.9903 5.6184 3.7239 8.9903 3.7239z\" clip-path=\"url(#9a36243b9c7)\" fill=\"#009e73\" stroke=\"#00694d\"/><path d=\"m86.562 127.93c3.3718 0 6.606-1.3396 8.9903-3.7239 2.3842-2.3842 3.7239-5.6184 3.7239-8.9903s-1.3396-6.606-3.7239-8.9903-5.6184-3.7239-8.9903-3.7239-6.606 1.3396-8.9903 3.7239-3.7239 5.6184-3.7239 8.9903 1.3396 6.606 3.7239 8.9903c2.3842 2.3842 5.6184 3.7239 8.9903 3.7239z\" clip-path=\"url(#9a36243b9c7)\" fill=\"#808080\" fill-opacity=\".5\" stroke=\"#555555\" stroke-opacity=\".5\"/><path d=\"m175.56 127.93c3.3718 0 6.606-1.3396 8.9903-3.7239 2.3842-2.3842 3.7239-5.6184 3.7239-8.9903s-1.3396-6.606-3.7239-8.9903-5.6184-3.7239-8.9903-3.7239-6.606 1.3396-8.9903 3.7239-3.7239 5.6184-3.7239 8.9903 1.3396 6.606 3.7239 8.9903c2.3842 2.3842 5.6184 3.7239 8.9903 3.7239z\" clip-path=\"url(#9a36243b9c7)\" fill=\"#0072b2\" stroke=\"#004c77\"/><path d=\"m131.06 77.069c3.3718 0 6.606-1.3396 8.9903-3.7239s3.7239-5.6184 3.7239-8.9903-1.3396-6.606-3.7239-8.9903c-2.3842-2.3842-5.6184-3.7239-8.9903-3.7239s-6.606 1.3396-8.9903 3.7239c-2.3842 2.3842-3.7239 5.6184-3.7239 8.9903s1.3396 6.606 3.7239 8.9903 5.6184 3.7239 8.9903 3.7239z\" clip-path=\"url(#9a36243b9c7)\" fill=\"#808080\" fill-opacity=\".5\" stroke=\"#555555\" stroke-opacity=\".5\"/><g transform=\"translate(20.583 219.15) scale(.08 -.08)\" fill=\"#808080\"><defs><path id=\"DejaVuSansMono-32\" transform=\"scale(.015625)\" d=\"m1166 531h2143v-531h-2834v531q584 616 1021 1088 438 472 604 665 313 382 422 618t109 482q0 391-230 613-229 222-629 222-284 0-597-103-312-103-662-313v638q321 153 632 231t614 78q685 0 1102-364t417-955q0-300-139-600t-451-662q-175-203-508-563-333-359-1014-1075z\"/></defs><use xlink:href=\"#DejaVuSansMono-32\"/></g><g transform=\"translate(71.439 219.15) scale(.08 -.08)\" fill=\"#808080\"><defs><path id=\"DejaVuSansMono-33\" transform=\"scale(.015625)\" d=\"m2425 2497q459-122 703-433t244-776q0-644-433-1012-433-367-1198-367-322 0-657 60-334 59-656 172v628q319-166 628-247 310-81 616-81 519 0 797 234t278 675q0 406-278 645t-753 239h-482v519h482q434 0 678 190 244 191 244 532 0 359-227 551-227 193-645 193-278 0-575-63-297-62-622-187v581q378 100 673 150 296 50 524 50 681 0 1089-342t408-908q0-384-215-641-214-256-623-362z\"/></defs><use xlink:href=\"#DejaVuSansMono-33\"/></g><g transform=\"translate(122.3 168.3) scale(.08 -.08)\" fill=\"#808080\"><defs><path id=\"DejaVuSansMono-31\" transform=\"scale(.015625)\" d=\"m844 531h981v3566l-1056-238v575l1050 232h631v-4135h969v-531h-2575v531z\"/></defs><use xlink:href=\"#DejaVuSansMono-31\"/></g><g transform=\"translate(173.15 117.44) scale(.08 -.08)\" fill=\"#808080\"><defs><path id=\"DejaVuSansMono-30\" transform=\"scale(.015625)\" d=\"m1509 2344q0 172 120 297 121 125 290 125 175 0 300-125t125-297q0-175-124-297-123-122-301-122-175 0-293 119-117 119-117 300zm416 1906q-441 0-658-475t-217-1447q0-969 217-1444t658-475q444 0 661 475t217 1444q0 972-217 1447t-661 475zm0 500q747 0 1130-613 383-612 383-1809 0-1194-383-1807-383-612-1130-612t-1128 612q-381 613-381 1807 0 1197 381 1809 381 613 1128 613z\"/></defs><use xlink:href=\"#DejaVuSansMono-30\"/></g><g transform=\"translate(121.63 11.791) scale(.06 -.06)\" fill=\"#808080\"><use xlink:href=\"#DejaVuSansMono-61\"/></g><g transform=\"translate(129.26 11.791) scale(.06 -.06)\" fill=\"#808080\"><use xlink:href=\"#DejaVuSansMono-65\"/></g><g transform=\"translate(136.88 11.75) scale(.06 -.06)\" fill=\"#808080\"><use xlink:href=\"#DejaVuSansMono-67\"/></g><defs><clipPath id=\"9a36243b9c7\"><rect x=\"7.2\" y=\"11.324\" width=\"184.15\" height=\"221.76\"/></clipPath></defs></svg>"
      ],
      "text/plain": [
       "<Figure size 400x400 with 1 Axes>"
      ]
     },
     "metadata": {
      "needs_background": "light"
     },
     "output_type": "display_data"
    }
   ],
   "source": [
    "tree.plot_flat();"
   ]
  },
  {
   "cell_type": "markdown",
   "id": "4477196a",
   "metadata": {},
   "source": [
    "See the [`cotengra`](cotengra) documentation for more details on the contraction tree."
   ]
  },
  {
   "cell_type": "markdown",
   "id": "444090fd-a0a4-4602-bdeb-6135cc61cc63",
   "metadata": {
    "raw_mimetype": "text/restructuredtext",
    "tags": []
   },
   "source": [
    "## Contraction Interfaces\n",
    "\n",
    "Contraction in `quimb` is accessed through various functions and methods. The\n",
    "main three being:\n",
    "\n",
    "* [`qtn.tensor_contract`](quimb.tensor.tensor_core.tensor_contract) - this is the core function\n",
    "  that takes a collection of [`Tensor`](quimb.tensor.tensor_core.Tensor) objects, finds the contraction tree, and performs the contraction. Most other contractions methods call this under the hood and pass any kwargs on to this.\n",
    "* [`ta @ tb`](quimb.tensor.tensor_core.Tensor.__matmul__) - this simply contracts two tensors, assuming all shared indices should be contracted away.\n",
    "* [`TensorNetwork.contract`](quimb.tensor.tensor_core.TensorNetwork.contract) - this is the main method for contracting all or part of a TN, possibly using a structured method or approximation contraction."
   ]
  },
  {
   "cell_type": "markdown",
   "id": "5c66e232",
   "metadata": {},
   "source": [
    "Then there are more specialized methods:\n",
    "\n",
    "* [`TensorNetwork.contract_tags`](quimb.tensor.tensor_core.TensorNetwork.contract_tags): contract partial **subgraphs** within a TN based with matching `tags`.\n",
    "* [`TensorNetwork.contract_between`](quimb.tensor.tensor_core.TensorNetwork.contract_between): contract a **pair** of tensors, identified by different tags.\n",
    "* [`TensorNetwork.contract_ind`](quimb.tensor.tensor_core.TensorNetwork.contract_ind): contract all tensors within a TN that share a **particular index**.\n",
    "* [`TensorNetwork.contract_cumulative`](quimb.tensor.tensor_core.TensorNetwork.contract_cumulative): contract tensors using a **`bubble`** order of tags.\n",
    "* [`TensorNetwork.to_dense`](quimb.tensor.tensor_core.TensorNetwork.to_dense): contract **and fuse** groups of outer indices into an output array.\n",
    "* [`TensorNetwork.trace`](quimb.tensor.tensor_core.TensorNetwork.trace): glue two sequences of outer indices together and the contract everything.\n",
    "\n",
    "Plus many more methods - anywhere you see the `optimize` kwargs.\n",
    "There are also various method for extracting *information* about a contraction before actually performing it:\n",
    "\n",
    "* [`TensorNetwork.contraction_path`](quimb.tensor.tensor_core.TensorNetwork.contraction_path): the `numpy` or [`opt_einsum`](https://optimized-einsum.readthedocs.io) style `path`. This is the most compact way to store and reuse a particular ordering. See below for its definition.\n",
    "* [`TensorNetwork.contraction_tree`](quimb.tensor.tensor_core.TensorNetwork.contraction_tree): the [`cotengra.ContractionTree`](cotengra.ContractionTree) object, which allows one to visualize and query all attributes of the contraction, such as FLOPs and memory requirements.\n",
    "* [`TensorNetwork.contraction_info`](quimb.tensor.tensor_core.TensorNetwork.contraction_info): the [`opt_einsum.PathInfo`](opt_einsum.PathInfo) object, an alternative informational object with some of same information.\n",
    "* [`TensorNetwork.contraction_width`](quimb.tensor.tensor_core.TensorNetwork.contraction_width): *log2 of the maximum size of any intermediate tensor*, useful for estimating memory requirements.\n",
    "* [`TensorNetwork.contraction_cost`](quimb.tensor.tensor_core.TensorNetwork.contraction_cost): the total number of scalar multiplications required to perform the contraction, useful for estimating time requirements."
   ]
  },
  {
   "cell_type": "markdown",
   "id": "49a1fca4",
   "metadata": {},
   "source": [
    "## The `optimize` kwarg:\n",
    "\n",
    "The optimize kwarg can generally take one of the following options:\n",
    "\n",
    "### `str` preset\n",
    "\n",
    "- `'auto'` - a decent default for one-off contractions\n",
    "- `'auto-hq'` - a decent default for repeated contractions or when higher quality is needed\n",
    "- `'greedy'` - a super quick optimizer that is fine for simple networks\n",
    "- `'optimal'` - exponential cost but OK for small networks\n",
    "- `'random-greedy'` - pretty quick with decent results, good for large networks\n",
    "- `'random-greedy-128'` - the same but with 4x more trials for higher quality\n",
    "\n",
    "The auto methods use optimal path finding for small networks, then switch to random-greedy for hyper-optimized methods for larger networks.\n",
    "\n",
    "### `cotengra.HyperOptimizer`\n",
    "\n",
    "To really customize the path-finding process and investigate contaction costs you may want to supply a customized [`cotengra.HyperOptimizer`](cotengra.HyperOptimizer) instance:"
   ]
  },
  {
   "cell_type": "code",
   "execution_count": 19,
   "id": "c6d26c90",
   "metadata": {},
   "outputs": [],
   "source": [
    "import cotengra as ctg\n",
    "\n",
    "# standard optimizers can only be supplied to a single contraction,\n",
    "# -> if supplied more than once they simply run for longer\n",
    "opt = ctg.RandomGreedyOptimizer(max_repeats=1024)\n",
    "\n",
    "# reusable means it is like a 'preset' we can supply it to many different\n",
    "# contractions -> if it sees the same network it will recall the previous tree\n",
    "opt = ctg.ReusableHyperOptimizer(\n",
    "    # turn on subtree reconfiguration for higher quality path\n",
    "    reconf_opts={},\n",
    "    # target both flops and write - usually wise for practical performance\n",
    "    minimize=\"combo\",\n",
    "    # only spend time on hard contractions\n",
    "    max_time=\"rate:1e9\",\n",
    "    # hash contraction up to index permutation, for maximum reuse\n",
    "    hash_method=\"b\",\n",
    "    # cmaes is a good balance between speed and quality\n",
    "    optlib=\"cmaes\",\n",
    "    # store contractions on disk\n",
    "    directory=True,\n",
    "    # turn this on to see live progress each contraction\n",
    "    progbar=False,\n",
    ")"
   ]
  },
  {
   "cell_type": "markdown",
   "id": "2a85fc01",
   "metadata": {},
   "source": [
    "### `opt_einsum` `PathOptimizer`\n",
    "\n",
    "`quimb` also accepts [`opt_einsum.PathOptimizer`](opt_einsum.PathOptimize) instances, (though `cotengra` is the preferred method)."
   ]
  },
  {
   "cell_type": "code",
   "execution_count": 22,
   "id": "ad79be7d",
   "metadata": {},
   "outputs": [],
   "source": [
    "import opt_einsum as oe\n",
    "\n",
    "opt = oe.RandomGreedy()"
   ]
  },
  {
   "cell_type": "markdown",
   "id": "194a65cb",
   "metadata": {},
   "source": [
    "### Explicit contraction paths\n",
    "\n",
    "### path, ssa_path, tree\n",
    "\n",
    "### path caching\n",
    "\n",
    "geometry hash\n",
    "\n",
    "caching within cotengra\n",
    "\n",
    "\n",
    "## Hyper edges and `output_inds`\n",
    "\n",
    "most general einsum equation\n",
    "\n",
    "\n",
    "## Structured Contractions\n",
    "\n",
    "e.g. 1D chain\n",
    "\n",
    "\n",
    "## Approximate boundary contraction\n",
    "\n",
    "coarse graining contractions\n",
    "\n",
    "hyper edges not supported\n",
    "\n",
    "\n",
    "## Automatic approximate / compressed contraction\n",
    "\n",
    "* [`contract_compressed`](quimb.tensor.tensor_core.TensorNetwork.contract_compressed)\n",
    "* contract_around\n",
    "\n",
    "\n",
    "## `strip_exponent` and equalize_norms"
   ]
  }
 ],
 "metadata": {
  "kernelspec": {
   "display_name": "Python 3",
   "language": "python",
   "name": "python3"
  },
  "language_info": {
   "codemirror_mode": {
    "name": "ipython",
    "version": 3
   },
   "file_extension": ".py",
   "mimetype": "text/x-python",
   "name": "python",
   "nbconvert_exporter": "python",
   "pygments_lexer": "ipython3",
   "version": "3"
  }
 },
 "nbformat": 4,
 "nbformat_minor": 5
}
