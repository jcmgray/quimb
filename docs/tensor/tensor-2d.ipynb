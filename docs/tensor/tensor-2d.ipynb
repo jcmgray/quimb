{
 "cells": [
  {
   "attachments": {},
   "cell_type": "markdown",
   "id": "b8ea8078-51fb-4c24-93b9-8016fc1f5c49",
   "metadata": {
    "raw_mimetype": "text/restructuredtext"
   },
   "source": [
    "(tensor-network-2d)=\n",
    "\n",
    "# 2D Algorithms\n",
    "\n",
    "As with 1D tensor networks (TNs), 2D TNs in `quimb` are a combination of\n",
    "'mixin' subclasses of {class}`~quimb.tensor.tensor_core.TensorNetwork` each\n",
    "with some extra details about how the  tensors are labelled and indices named.\n",
    "Having this extra information about the 2D structure then allows special\n",
    "methods for e.g.  boundary contraction.\n",
    "\n",
    "Here's a quick reference of some key objects:\n",
    "\n",
    "- {class}`~quimb.tensor.tensor_2d.TensorNetwork2D`\n",
    "- {class}`~quimb.tensor.tensor_2d.PEPS`\n",
    "- {class}`~quimb.tensor.tensor_2d.PEPO`\n",
    "- {class}`~quimb.tensor.tensor_2d_tebd.LocalHam2D`\n",
    "\n",
    "And key algorithms:\n",
    "\n",
    "- {class}`~quimb.tensor.tensor_2d.TensorNetwork2D.contract_boundary`\n",
    "- {class}`~quimb.tensor.tensor_2d.TensorNetwork2DVector.gate`\n",
    "- {class}`~quimb.tensor.tensor_2d.TensorNetwork2DVector.compute_local_expectation`\n",
    "- {class}`~quimb.tensor.tensor_2d_tebd.SimpleUpdate`\n",
    "- {class}`~quimb.tensor.tensor_2d_tebd.FullUpdate`"
   ]
  },
  {
   "cell_type": "markdown",
   "id": "5ff31dc4-2ebb-4ebb-92cf-516493f961c7",
   "metadata": {
    "raw_mimetype": "text/restructuredtext"
   },
   "source": [
    "## Structure of a 2D Tensor Network"
   ]
  },
  {
   "cell_type": "code",
   "execution_count": 1,
   "id": "82e3491a-efa4-4b8d-9f02-347026391d1e",
   "metadata": {},
   "outputs": [],
   "source": [
    "%config InlineBackend.figure_formats = ['svg']\n",
    "import quimb as qu\n",
    "import quimb.tensor as qtn"
   ]
  },
  {
   "cell_type": "markdown",
   "id": "e65622e2-48c9-4c47-8566-3d00c8010422",
   "metadata": {
    "raw_mimetype": "text/restructuredtext"
   },
   "source": [
    "As an example we can take a look at a randomly generated PEPS, which also inherits\n",
    "methods from these mixin subclasses: {class}`~quimb.tensor.tensor_2d.TensorNetwork2DVector`\n",
    "and {class}`~quimb.tensor.tensor_2d.TensorNetwork2DFlat`,\n",
    "since it has a) a single physical index per site and\n",
    "b) a single tensor per site, respectively."
   ]
  },
  {
   "cell_type": "code",
   "execution_count": 2,
   "id": "0b8d2263-f589-401d-a4fa-1992dfe176f5",
   "metadata": {},
   "outputs": [
    {
     "data": {
      "text/html": [
       "<samp style='font-size: 12px;'><details><summary><b style=\"color: #cde19a;\">PEPS</b>(tensors=25, indices=65, Lx=5, Ly=5, max_bond=3)</summary><samp style='font-size: 12px;'><details><summary><b style=\"color: #e55471;\">Tensor</b>(shape=(<b style=\"color: #8a5bcf;\">3</b>, <b style=\"color: #8a5bcf;\">3</b>, <b style=\"color: #828fdd;\">2</b>), inds=[<b style=\"color: #c4d937;\">_aea46cAAAAA</b>, <b style=\"color: #cd7539;\">_aea46cAAAAB</b>, <b style=\"color: #5fce5e;\">k0,0</b>], tags={<b style=\"color: #8b77de;\">I0,0</b>, <b style=\"color: #d44388;\">X0</b>, <b style=\"color: #b1d42e;\">Y0</b>}),</summary>backend=<b style=\"color: #7fdd73;\">numpy</b>, dtype=<b style=\"color: #75d2c6;\">float64</b>, data=array([[[ 0.19758123, -0.20600803],\n",
       "        [-0.02115149, -0.30155026],\n",
       "        [ 0.08369179,  0.42321298]],\n",
       "\n",
       "       [[-0.78599677,  0.27198615],\n",
       "        [-0.01315806, -0.26534693],\n",
       "        [-0.00531344,  0.33645332]],\n",
       "\n",
       "       [[-0.57577375,  0.10554638],\n",
       "        [-0.07281841,  0.45726951],\n",
       "        [ 0.26362141, -0.08463805]]])</details></samp><samp style='font-size: 12px;'><details><summary><b style=\"color: #e55471;\">Tensor</b>(shape=(<b style=\"color: #8a5bcf;\">3</b>, <b style=\"color: #8a5bcf;\">3</b>, <b style=\"color: #8a5bcf;\">3</b>, <b style=\"color: #828fdd;\">2</b>), inds=[<b style=\"color: #85e5b7;\">_aea46cAAAAC</b>, <b style=\"color: #6dcd2c;\">_aea46cAAAAD</b>, <b style=\"color: #cd7539;\">_aea46cAAAAB</b>, <b style=\"color: #de9a98;\">k0,1</b>], tags={<b style=\"color: #92d399;\">I0,1</b>, <b style=\"color: #d44388;\">X0</b>, <b style=\"color: #6c45d0;\">Y1</b>}),</summary>backend=<b style=\"color: #7fdd73;\">numpy</b>, dtype=<b style=\"color: #75d2c6;\">float64</b>, data=array([[[[-0.0886793 ,  0.38960521],\n",
       "         [-0.07864096, -0.1405622 ],\n",
       "         [-0.27039043,  0.40912656]],\n",
       "\n",
       "        [[-0.25722849, -0.3621938 ],\n",
       "         [-0.01145245,  0.07481682],\n",
       "         [-0.04101569, -0.31399061]],\n",
       "\n",
       "        [[-0.0585233 ,  0.08844857],\n",
       "         [-0.34306234,  0.14325768],\n",
       "         [ 0.44382168, -0.17613362]]],\n",
       "\n",
       "\n",
       "       [[[-0.11086622, -0.07888345],\n",
       "         [-0.08731526, -0.1098593 ],\n",
       "         [-0.08997919, -0.25855771]],\n",
       "\n",
       "        [[-0.00974778, -0.06474578],\n",
       "         [-0.53768285,  0.26626594],\n",
       "         [ 0.1852418 , -0.17064799]],\n",
       "\n",
       "        [[-0.23546533,  0.10044162],\n",
       "         [-0.04641026, -0.33127844],\n",
       "         [ 0.31312999,  0.24287011]]],\n",
       "\n",
       "\n",
       "       [[[-0.41959896, -0.14805525],\n",
       "         [ 0.02569746, -0.49149678],\n",
       "         [-0.08605362,  0.07599989]],\n",
       "\n",
       "        [[-0.19989431, -0.1171608 ],\n",
       "         [-0.27427135, -0.18171656],\n",
       "         [-0.35111996, -0.0948195 ]],\n",
       "\n",
       "        [[ 0.33734665, -0.66881823],\n",
       "         [ 0.2574683 , -0.32198307],\n",
       "         [-0.44438948,  0.2297073 ]]]])</details></samp><samp style='font-size: 12px;'><details><summary><b style=\"color: #e55471;\">Tensor</b>(shape=(<b style=\"color: #8a5bcf;\">3</b>, <b style=\"color: #8a5bcf;\">3</b>, <b style=\"color: #8a5bcf;\">3</b>, <b style=\"color: #828fdd;\">2</b>), inds=[<b style=\"color: #e46344;\">_aea46cAAAAE</b>, <b style=\"color: #dfb396;\">_aea46cAAAAF</b>, <b style=\"color: #6dcd2c;\">_aea46cAAAAD</b>, <b style=\"color: #50d0ac;\">k0,2</b>], tags={<b style=\"color: #73d85d;\">I0,2</b>, <b style=\"color: #d44388;\">X0</b>, <b style=\"color: #3fdd7b;\">Y2</b>}),</summary>backend=<b style=\"color: #7fdd73;\">numpy</b>, dtype=<b style=\"color: #75d2c6;\">float64</b>, data=array([[[[ 0.00787712,  0.07483492],\n",
       "         [ 0.23423454, -0.41977078],\n",
       "         [-0.07098577, -0.08227457]],\n",
       "\n",
       "        [[ 0.58049387, -0.28265144],\n",
       "         [-0.50102255, -0.1383515 ],\n",
       "         [ 0.46154386,  0.15899825]],\n",
       "\n",
       "        [[-0.48357646, -0.32435753],\n",
       "         [-0.24554998, -0.0063898 ],\n",
       "         [-0.4288379 ,  0.28063253]]],\n",
       "\n",
       "\n",
       "       [[[ 0.4529943 ,  0.12319876],\n",
       "         [-0.12452825, -0.25212084],\n",
       "         [ 0.07434282,  0.07358095]],\n",
       "\n",
       "        [[-0.07124641, -0.06452709],\n",
       "         [-0.10609616,  0.06050403],\n",
       "         [-0.27691535,  0.18652204]],\n",
       "\n",
       "        [[ 0.18944672,  0.28066808],\n",
       "         [-0.26338667,  0.05858565],\n",
       "         [ 0.17191266,  0.09251535]]],\n",
       "\n",
       "\n",
       "       [[[-0.40473276, -0.77385977],\n",
       "         [ 0.15369863,  0.34102213],\n",
       "         [-0.3052184 ,  0.00141725]],\n",
       "\n",
       "        [[ 0.07717418,  0.39021751],\n",
       "         [ 0.37797629, -0.3581846 ],\n",
       "         [-0.00915705, -0.21592738]],\n",
       "\n",
       "        [[ 0.21857823,  0.02861824],\n",
       "         [-0.12619608,  0.21470106],\n",
       "         [ 0.26837599,  0.3497904 ]]]])</details></samp><samp style='font-size: 12px;'><details><summary><b style=\"color: #e55471;\">Tensor</b>(shape=(<b style=\"color: #8a5bcf;\">3</b>, <b style=\"color: #8a5bcf;\">3</b>, <b style=\"color: #8a5bcf;\">3</b>, <b style=\"color: #828fdd;\">2</b>), inds=[<b style=\"color: #e2bb43;\">_aea46cAAAAG</b>, <b style=\"color: #9cdde1;\">_aea46cAAAAH</b>, <b style=\"color: #dfb396;\">_aea46cAAAAF</b>, <b style=\"color: #69d040;\">k0,3</b>], tags={<b style=\"color: #deb79b;\">I0,3</b>, <b style=\"color: #d44388;\">X0</b>, <b style=\"color: #63d5a7;\">Y3</b>}),</summary>backend=<b style=\"color: #7fdd73;\">numpy</b>, dtype=<b style=\"color: #75d2c6;\">float64</b>, data=array([[[[-0.35302799, -0.18588165],\n",
       "         [ 0.06628363,  0.18146305],\n",
       "         [-0.64362369, -0.2252469 ]],\n",
       "\n",
       "        [[ 0.08364773,  0.01679925],\n",
       "         [ 0.18941434, -0.14216882],\n",
       "         [-0.07795615,  0.24121163]],\n",
       "\n",
       "        [[ 0.36766087,  0.18291524],\n",
       "         [ 0.48242292,  0.17032754],\n",
       "         [-0.18111091,  0.32120585]]],\n",
       "\n",
       "\n",
       "       [[[-0.73965826,  0.12207832],\n",
       "         [-0.21999   , -0.35361801],\n",
       "         [-0.36855658, -0.31388888]],\n",
       "\n",
       "        [[ 0.41657027,  0.14911351],\n",
       "         [-0.03321268, -0.036751  ],\n",
       "         [ 0.27384496, -0.24498083]],\n",
       "\n",
       "        [[ 0.35392829,  0.46963827],\n",
       "         [-0.28648917, -0.16491934],\n",
       "         [ 0.08454636,  0.3485048 ]]],\n",
       "\n",
       "\n",
       "       [[[-0.2487877 , -0.81637444],\n",
       "         [-0.11929533,  0.21710726],\n",
       "         [-0.05459544, -0.16750029]],\n",
       "\n",
       "        [[-0.12530134, -0.44630833],\n",
       "         [ 0.22974167, -0.14514381],\n",
       "         [ 0.32546501, -0.07342843]],\n",
       "\n",
       "        [[-0.26259823,  0.26310325],\n",
       "         [-0.1439656 ,  0.08012546],\n",
       "         [ 0.14057252, -0.31473198]]]])</details></samp><samp style='font-size: 12px;'><details><summary><b style=\"color: #e55471;\">Tensor</b>(shape=(<b style=\"color: #8a5bcf;\">3</b>, <b style=\"color: #8a5bcf;\">3</b>, <b style=\"color: #828fdd;\">2</b>), inds=[<b style=\"color: #63a5d3;\">_aea46cAAAAI</b>, <b style=\"color: #9cdde1;\">_aea46cAAAAH</b>, <b style=\"color: #e58de5;\">k0,4</b>], tags={<b style=\"color: #ce966e;\">I0,4</b>, <b style=\"color: #d44388;\">X0</b>, <b style=\"color: #37ce56;\">Y4</b>}),</summary>backend=<b style=\"color: #7fdd73;\">numpy</b>, dtype=<b style=\"color: #75d2c6;\">float64</b>, data=array([[[ 0.43152581, -0.23969586],\n",
       "        [-0.16808012,  0.08247557],\n",
       "        [ 0.33020835, -0.28069495]],\n",
       "\n",
       "       [[-0.15814594, -0.3455025 ],\n",
       "        [-0.4347297 , -0.65814361],\n",
       "        [ 0.24335002,  0.01839728]],\n",
       "\n",
       "       [[-0.18092796,  0.07677303],\n",
       "        [-0.27159058, -0.12283561],\n",
       "        [-0.37800116, -0.40040474]]])</details></samp><samp style='font-size: 12px;'><details><summary><b style=\"color: #e55471;\">Tensor</b>(shape=(<b style=\"color: #8a5bcf;\">3</b>, <b style=\"color: #8a5bcf;\">3</b>, <b style=\"color: #8a5bcf;\">3</b>, <b style=\"color: #828fdd;\">2</b>), inds=[<b style=\"color: #dc3c79;\">_aea46cAAAAJ</b>, <b style=\"color: #789cd2;\">_aea46cAAAAK</b>, <b style=\"color: #c4d937;\">_aea46cAAAAA</b>, <b style=\"color: #84ce75;\">k1,0</b>], tags={<b style=\"color: #c28de0;\">I1,0</b>, <b style=\"color: #6fe251;\">X1</b>, <b style=\"color: #b1d42e;\">Y0</b>}),</summary>backend=<b style=\"color: #7fdd73;\">numpy</b>, dtype=<b style=\"color: #75d2c6;\">float64</b>, data=array([[[[ 0.78977302,  0.20610627],\n",
       "         [-0.17232708, -0.32686794],\n",
       "         [ 0.12781562, -0.11373377]],\n",
       "\n",
       "        [[ 0.09609733,  0.32360355],\n",
       "         [-0.14147276,  0.08949845],\n",
       "         [-0.14720314, -0.19955648]],\n",
       "\n",
       "        [[-0.2027934 , -0.11879961],\n",
       "         [-0.14779857,  0.06389199],\n",
       "         [-0.06141446, -0.08943344]]],\n",
       "\n",
       "\n",
       "       [[[ 0.01172702,  0.65384372],\n",
       "         [-0.4016258 ,  0.62405045],\n",
       "         [ 0.0183161 , -0.42458339]],\n",
       "\n",
       "        [[ 0.00276003,  0.25519974],\n",
       "         [-0.29860681, -0.19277402],\n",
       "         [ 0.36346475,  0.07670103]],\n",
       "\n",
       "        [[-0.2414894 ,  0.04928607],\n",
       "         [-0.53921085,  0.55625126],\n",
       "         [ 0.33501048,  0.14937114]]],\n",
       "\n",
       "\n",
       "       [[[ 0.47162932,  0.17082597],\n",
       "         [ 0.06865947, -0.28654631],\n",
       "         [-0.46735522, -0.20633878]],\n",
       "\n",
       "        [[ 0.24972016, -0.17040072],\n",
       "         [ 0.15429501,  0.4294151 ],\n",
       "         [-0.19904102, -0.00177625]],\n",
       "\n",
       "        [[ 0.05496409,  0.03333935],\n",
       "         [-0.25443675,  0.27334373],\n",
       "         [ 0.05015645,  0.10742787]]]])</details></samp><samp style='font-size: 12px;'><details><summary><b style=\"color: #e55471;\">Tensor</b>(shape=(<b style=\"color: #8a5bcf;\">3</b>, <b style=\"color: #8a5bcf;\">3</b>, <b style=\"color: #8a5bcf;\">3</b>, <b style=\"color: #8a5bcf;\">3</b>, <b style=\"color: #828fdd;\">2</b>), inds=[<b style=\"color: #602ee1;\">_aea46cAAAAL</b>, <b style=\"color: #e0a79a;\">_aea46cAAAAM</b>, <b style=\"color: #85e5b7;\">_aea46cAAAAC</b>, <b style=\"color: #789cd2;\">_aea46cAAAAK</b>, <b style=\"color: #d29586;\">k1,1</b>], tags={<b style=\"color: #d67b97;\">I1,1</b>, <b style=\"color: #6fe251;\">X1</b>, <b style=\"color: #6c45d0;\">Y1</b>}),</summary>backend=<b style=\"color: #7fdd73;\">numpy</b>, dtype=<b style=\"color: #75d2c6;\">float64</b>, data=...</details></samp><samp style='font-size: 12px;'><details><summary><b style=\"color: #e55471;\">Tensor</b>(shape=(<b style=\"color: #8a5bcf;\">3</b>, <b style=\"color: #8a5bcf;\">3</b>, <b style=\"color: #8a5bcf;\">3</b>, <b style=\"color: #8a5bcf;\">3</b>, <b style=\"color: #828fdd;\">2</b>), inds=[<b style=\"color: #71d567;\">_aea46cAAAAN</b>, <b style=\"color: #ce33b7;\">_aea46cAAAAO</b>, <b style=\"color: #e46344;\">_aea46cAAAAE</b>, <b style=\"color: #e0a79a;\">_aea46cAAAAM</b>, <b style=\"color: #dd4dba;\">k1,2</b>], tags={<b style=\"color: #da64ad;\">I1,2</b>, <b style=\"color: #6fe251;\">X1</b>, <b style=\"color: #3fdd7b;\">Y2</b>}),</summary>backend=<b style=\"color: #7fdd73;\">numpy</b>, dtype=<b style=\"color: #75d2c6;\">float64</b>, data=...</details></samp><samp style='font-size: 12px;'><details><summary><b style=\"color: #e55471;\">Tensor</b>(shape=(<b style=\"color: #8a5bcf;\">3</b>, <b style=\"color: #8a5bcf;\">3</b>, <b style=\"color: #8a5bcf;\">3</b>, <b style=\"color: #8a5bcf;\">3</b>, <b style=\"color: #828fdd;\">2</b>), inds=[<b style=\"color: #7d89df;\">_aea46cAAAAP</b>, <b style=\"color: #327ad1;\">_aea46cAAAAQ</b>, <b style=\"color: #e2bb43;\">_aea46cAAAAG</b>, <b style=\"color: #ce33b7;\">_aea46cAAAAO</b>, <b style=\"color: #afe152;\">k1,3</b>], tags={<b style=\"color: #acd080;\">I1,3</b>, <b style=\"color: #6fe251;\">X1</b>, <b style=\"color: #63d5a7;\">Y3</b>}),</summary>backend=<b style=\"color: #7fdd73;\">numpy</b>, dtype=<b style=\"color: #75d2c6;\">float64</b>, data=...</details></samp><samp style='font-size: 12px;'><details><summary><b style=\"color: #e55471;\">Tensor</b>(shape=(<b style=\"color: #8a5bcf;\">3</b>, <b style=\"color: #8a5bcf;\">3</b>, <b style=\"color: #8a5bcf;\">3</b>, <b style=\"color: #828fdd;\">2</b>), inds=[<b style=\"color: #d4b38d;\">_aea46cAAAAR</b>, <b style=\"color: #63a5d3;\">_aea46cAAAAI</b>, <b style=\"color: #327ad1;\">_aea46cAAAAQ</b>, <b style=\"color: #cae55e;\">k1,4</b>], tags={<b style=\"color: #3ec8d1;\">I1,4</b>, <b style=\"color: #6fe251;\">X1</b>, <b style=\"color: #37ce56;\">Y4</b>}),</summary>backend=<b style=\"color: #7fdd73;\">numpy</b>, dtype=<b style=\"color: #75d2c6;\">float64</b>, data=array([[[[ 0.36548229, -0.26015584],\n",
       "         [ 0.14163331, -0.06427805],\n",
       "         [ 0.3257745 , -0.53845238]],\n",
       "\n",
       "        [[ 0.49660934,  0.35980179],\n",
       "         [ 0.35161007, -0.26212529],\n",
       "         [ 0.17691887, -0.41049041]],\n",
       "\n",
       "        [[ 0.35321357,  0.14903971],\n",
       "         [ 0.58041384, -0.14440401],\n",
       "         [ 0.10477843,  0.04271563]]],\n",
       "\n",
       "\n",
       "       [[[-0.18523296,  0.08600995],\n",
       "         [-0.00249853,  0.00309299],\n",
       "         [-0.38302772, -0.11931442]],\n",
       "\n",
       "        [[-0.01032181,  0.35569799],\n",
       "         [-0.1177868 ,  0.09307973],\n",
       "         [-0.32977233,  0.31827419]],\n",
       "\n",
       "        [[-0.01066864,  0.5333739 ],\n",
       "         [-0.51256   ,  0.03966059],\n",
       "         [ 0.25838267, -0.18445352]]],\n",
       "\n",
       "\n",
       "       [[[ 0.45910942,  0.03237033],\n",
       "         [ 0.1103594 , -0.06656127],\n",
       "         [-0.28261971,  0.47622606]],\n",
       "\n",
       "        [[ 0.2713872 ,  0.22772949],\n",
       "         [-0.70921321, -0.6142656 ],\n",
       "         [-0.22789126, -0.07517024]],\n",
       "\n",
       "        [[-0.18087422,  0.29178375],\n",
       "         [-0.17016618, -0.13840751],\n",
       "         [-0.15878981, -0.07968   ]]]])</details></samp><samp style='font-size: 12px;'><details><summary><b style=\"color: #e55471;\">Tensor</b>(shape=(<b style=\"color: #8a5bcf;\">3</b>, <b style=\"color: #8a5bcf;\">3</b>, <b style=\"color: #8a5bcf;\">3</b>, <b style=\"color: #828fdd;\">2</b>), inds=[<b style=\"color: #db635e;\">_aea46cAAAAS</b>, <b style=\"color: #d0874e;\">_aea46cAAAAT</b>, <b style=\"color: #dc3c79;\">_aea46cAAAAJ</b>, <b style=\"color: #aa87d0;\">k2,0</b>], tags={<b style=\"color: #d472d0;\">I2,0</b>, <b style=\"color: #c654d5;\">X2</b>, <b style=\"color: #b1d42e;\">Y0</b>}),</summary>backend=<b style=\"color: #7fdd73;\">numpy</b>, dtype=<b style=\"color: #75d2c6;\">float64</b>, data=array([[[[-0.38056033,  0.24804757],\n",
       "         [-0.07572871, -0.13027434],\n",
       "         [-0.30343203,  0.09497906]],\n",
       "\n",
       "        [[ 0.08621316, -0.30894061],\n",
       "         [-0.07400557,  0.2997675 ],\n",
       "         [ 0.13113942, -0.02904785]],\n",
       "\n",
       "        [[-0.47955682,  0.73818644],\n",
       "         [-0.08958236, -0.44780715],\n",
       "         [-0.27007575, -0.09415205]]],\n",
       "\n",
       "\n",
       "       [[[-0.1108852 ,  0.0971295 ],\n",
       "         [-0.19637978, -0.23722133],\n",
       "         [-0.3326612 , -0.14791084]],\n",
       "\n",
       "        [[-0.1607138 , -0.3585758 ],\n",
       "         [ 0.17374931,  0.07621275],\n",
       "         [-0.13889808,  0.31498138]],\n",
       "\n",
       "        [[-0.00429754,  0.35580526],\n",
       "         [ 0.23141829, -0.10033515],\n",
       "         [ 0.08118212, -0.37380152]]],\n",
       "\n",
       "\n",
       "       [[[ 0.28702139, -0.00675585],\n",
       "         [ 0.26061321,  0.16028784],\n",
       "         [ 0.58456152,  0.66808804]],\n",
       "\n",
       "        [[ 0.12426176, -0.21271792],\n",
       "         [-0.57620289,  0.1145728 ],\n",
       "         [-0.12986616, -0.36577064]],\n",
       "\n",
       "        [[ 0.18087245,  0.12187611],\n",
       "         [ 0.2093346 , -0.4805098 ],\n",
       "         [ 0.38713581, -0.1013577 ]]]])</details></samp><samp style='font-size: 12px;'><details><summary><b style=\"color: #e55471;\">Tensor</b>(shape=(<b style=\"color: #8a5bcf;\">3</b>, <b style=\"color: #8a5bcf;\">3</b>, <b style=\"color: #8a5bcf;\">3</b>, <b style=\"color: #8a5bcf;\">3</b>, <b style=\"color: #828fdd;\">2</b>), inds=[<b style=\"color: #de9781;\">_aea46cAAAAU</b>, <b style=\"color: #8ed580;\">_aea46cAAAAV</b>, <b style=\"color: #602ee1;\">_aea46cAAAAL</b>, <b style=\"color: #d0874e;\">_aea46cAAAAT</b>, <b style=\"color: #e1962d;\">k2,1</b>], tags={<b style=\"color: #77df7d;\">I2,1</b>, <b style=\"color: #c654d5;\">X2</b>, <b style=\"color: #6c45d0;\">Y1</b>}),</summary>backend=<b style=\"color: #7fdd73;\">numpy</b>, dtype=<b style=\"color: #75d2c6;\">float64</b>, data=...</details></samp><samp style='font-size: 12px;'><details><summary><b style=\"color: #e55471;\">Tensor</b>(shape=(<b style=\"color: #8a5bcf;\">3</b>, <b style=\"color: #8a5bcf;\">3</b>, <b style=\"color: #8a5bcf;\">3</b>, <b style=\"color: #8a5bcf;\">3</b>, <b style=\"color: #828fdd;\">2</b>), inds=[<b style=\"color: #d26acc;\">_aea46cAAAAW</b>, <b style=\"color: #8873d9;\">_aea46cAAAAX</b>, <b style=\"color: #71d567;\">_aea46cAAAAN</b>, <b style=\"color: #8ed580;\">_aea46cAAAAV</b>, <b style=\"color: #936adf;\">k2,2</b>], tags={<b style=\"color: #ceb179;\">I2,2</b>, <b style=\"color: #c654d5;\">X2</b>, <b style=\"color: #3fdd7b;\">Y2</b>}),</summary>backend=<b style=\"color: #7fdd73;\">numpy</b>, dtype=<b style=\"color: #75d2c6;\">float64</b>, data=...</details></samp><samp style='font-size: 12px;'><details><summary><b style=\"color: #e55471;\">Tensor</b>(shape=(<b style=\"color: #8a5bcf;\">3</b>, <b style=\"color: #8a5bcf;\">3</b>, <b style=\"color: #8a5bcf;\">3</b>, <b style=\"color: #8a5bcf;\">3</b>, <b style=\"color: #828fdd;\">2</b>), inds=[<b style=\"color: #928bd4;\">_aea46cAAAAY</b>, <b style=\"color: #b58bd6;\">_aea46cAAAAZ</b>, <b style=\"color: #7d89df;\">_aea46cAAAAP</b>, <b style=\"color: #8873d9;\">_aea46cAAAAX</b>, <b style=\"color: #8541d1;\">k2,3</b>], tags={<b style=\"color: #dfd34b;\">I2,3</b>, <b style=\"color: #c654d5;\">X2</b>, <b style=\"color: #63d5a7;\">Y3</b>}),</summary>backend=<b style=\"color: #7fdd73;\">numpy</b>, dtype=<b style=\"color: #75d2c6;\">float64</b>, data=...</details></samp><samp style='font-size: 12px;'><details><summary><b style=\"color: #e55471;\">Tensor</b>(shape=(<b style=\"color: #8a5bcf;\">3</b>, <b style=\"color: #8a5bcf;\">3</b>, <b style=\"color: #8a5bcf;\">3</b>, <b style=\"color: #828fdd;\">2</b>), inds=[<b style=\"color: #38a2d0;\">_aea46cAAAAa</b>, <b style=\"color: #d4b38d;\">_aea46cAAAAR</b>, <b style=\"color: #b58bd6;\">_aea46cAAAAZ</b>, <b style=\"color: #e35cac;\">k2,4</b>], tags={<b style=\"color: #cd4e47;\">I2,4</b>, <b style=\"color: #c654d5;\">X2</b>, <b style=\"color: #37ce56;\">Y4</b>}),</summary>backend=<b style=\"color: #7fdd73;\">numpy</b>, dtype=<b style=\"color: #75d2c6;\">float64</b>, data=array([[[[ 0.01567375, -0.09310011],\n",
       "         [ 0.24768273, -0.11738978],\n",
       "         [-0.251629  , -0.1782275 ]],\n",
       "\n",
       "        [[-0.26829665,  0.31267077],\n",
       "         [-0.22495458, -0.12581883],\n",
       "         [ 0.26748041, -0.66605332]],\n",
       "\n",
       "        [[-0.023022  ,  0.11326969],\n",
       "         [ 0.18469781, -0.55483234],\n",
       "         [ 0.32973489,  0.27550022]]],\n",
       "\n",
       "\n",
       "       [[[ 0.10759164, -0.63445143],\n",
       "         [ 0.03337969,  0.25331677],\n",
       "         [ 0.45157972, -0.17408386]],\n",
       "\n",
       "        [[ 0.20383984,  0.45867942],\n",
       "         [ 0.01499983, -0.2965261 ],\n",
       "         [-0.19994835,  0.14174105]],\n",
       "\n",
       "        [[ 0.19374226, -0.60597725],\n",
       "         [ 0.49222259,  0.19789102],\n",
       "         [ 0.20171385,  0.0422929 ]]],\n",
       "\n",
       "\n",
       "       [[[-0.26715396, -0.16995193],\n",
       "         [ 0.34863328,  0.45914815],\n",
       "         [ 0.08663278,  0.61174177]],\n",
       "\n",
       "        [[ 0.22506451, -0.12569846],\n",
       "         [-0.27588113, -0.29585981],\n",
       "         [ 0.17803576,  0.11039606]],\n",
       "\n",
       "        [[-0.03518468, -0.36600593],\n",
       "         [ 0.64683561,  0.09689121],\n",
       "         [-0.27371473, -0.15114634]]]])</details></samp><samp style='font-size: 12px;'><details><summary><b style=\"color: #e55471;\">Tensor</b>(shape=(<b style=\"color: #8a5bcf;\">3</b>, <b style=\"color: #8a5bcf;\">3</b>, <b style=\"color: #8a5bcf;\">3</b>, <b style=\"color: #828fdd;\">2</b>), inds=[<b style=\"color: #35c8cc;\">_aea46cAAAAb</b>, <b style=\"color: #cc3048;\">_aea46cAAAAc</b>, <b style=\"color: #db635e;\">_aea46cAAAAS</b>, <b style=\"color: #42d58f;\">k3,0</b>], tags={<b style=\"color: #57ccd3;\">I3,0</b>, <b style=\"color: #e5db50;\">X3</b>, <b style=\"color: #b1d42e;\">Y0</b>}),</summary>backend=<b style=\"color: #7fdd73;\">numpy</b>, dtype=<b style=\"color: #75d2c6;\">float64</b>, data=array([[[[-0.03287723,  0.22373023],\n",
       "         [ 0.21720609, -0.12940337],\n",
       "         [ 0.26421373,  0.12598597]],\n",
       "\n",
       "        [[-0.05993477,  0.23901176],\n",
       "         [-0.5080131 ,  0.1581344 ],\n",
       "         [-0.2468453 , -0.24597057]],\n",
       "\n",
       "        [[ 0.05509204,  0.20433684],\n",
       "         [ 0.25810118,  0.6133055 ],\n",
       "         [ 0.12314849,  0.09794608]]],\n",
       "\n",
       "\n",
       "       [[[ 0.26466672,  0.46330901],\n",
       "         [-0.37261901, -0.14613522],\n",
       "         [-0.04725875, -0.05370155]],\n",
       "\n",
       "        [[-0.21671809, -0.6030256 ],\n",
       "         [ 0.18518784,  0.51043185],\n",
       "         [ 0.17336402,  0.17334707]],\n",
       "\n",
       "        [[ 0.23415478,  0.31106511],\n",
       "         [-0.08608762,  0.33643773],\n",
       "         [-0.02513669,  0.29852203]]],\n",
       "\n",
       "\n",
       "       [[[ 0.11660528, -0.63708811],\n",
       "         [ 0.29317834,  0.55391842],\n",
       "         [ 0.22281977,  0.02624954]],\n",
       "\n",
       "        [[-0.61615086,  0.31477655],\n",
       "         [-0.21857305, -0.23485264],\n",
       "         [-0.07015365,  0.18019487]],\n",
       "\n",
       "        [[ 0.47228582, -0.02025982],\n",
       "         [ 0.03324436, -0.05201856],\n",
       "         [ 0.08216902, -0.15068886]]]])</details></samp><samp style='font-size: 12px;'><details><summary><b style=\"color: #e55471;\">Tensor</b>(shape=(<b style=\"color: #8a5bcf;\">3</b>, <b style=\"color: #8a5bcf;\">3</b>, <b style=\"color: #8a5bcf;\">3</b>, <b style=\"color: #8a5bcf;\">3</b>, <b style=\"color: #828fdd;\">2</b>), inds=[<b style=\"color: #cda265;\">_aea46cAAAAd</b>, <b style=\"color: #d69a57;\">_aea46cAAAAe</b>, <b style=\"color: #de9781;\">_aea46cAAAAU</b>, <b style=\"color: #cc3048;\">_aea46cAAAAc</b>, <b style=\"color: #cf3298;\">k3,1</b>], tags={<b style=\"color: #98d482;\">I3,1</b>, <b style=\"color: #e5db50;\">X3</b>, <b style=\"color: #6c45d0;\">Y1</b>}),</summary>backend=<b style=\"color: #7fdd73;\">numpy</b>, dtype=<b style=\"color: #75d2c6;\">float64</b>, data=...</details></samp><samp style='font-size: 12px;'><details><summary><b style=\"color: #e55471;\">Tensor</b>(shape=(<b style=\"color: #8a5bcf;\">3</b>, <b style=\"color: #8a5bcf;\">3</b>, <b style=\"color: #8a5bcf;\">3</b>, <b style=\"color: #8a5bcf;\">3</b>, <b style=\"color: #828fdd;\">2</b>), inds=[<b style=\"color: #e1945c;\">_aea46cAAAAf</b>, <b style=\"color: #dbdf8e;\">_aea46cAAAAg</b>, <b style=\"color: #d26acc;\">_aea46cAAAAW</b>, <b style=\"color: #d69a57;\">_aea46cAAAAe</b>, <b style=\"color: #5b8bd1;\">k3,2</b>], tags={<b style=\"color: #da8d92;\">I3,2</b>, <b style=\"color: #e5db50;\">X3</b>, <b style=\"color: #3fdd7b;\">Y2</b>}),</summary>backend=<b style=\"color: #7fdd73;\">numpy</b>, dtype=<b style=\"color: #75d2c6;\">float64</b>, data=...</details></samp><samp style='font-size: 12px;'><details><summary><b style=\"color: #e55471;\">Tensor</b>(shape=(<b style=\"color: #8a5bcf;\">3</b>, <b style=\"color: #8a5bcf;\">3</b>, <b style=\"color: #8a5bcf;\">3</b>, <b style=\"color: #8a5bcf;\">3</b>, <b style=\"color: #828fdd;\">2</b>), inds=[<b style=\"color: #37dfd4;\">_aea46cAAAAh</b>, <b style=\"color: #c730e4;\">_aea46cAAAAi</b>, <b style=\"color: #928bd4;\">_aea46cAAAAY</b>, <b style=\"color: #dbdf8e;\">_aea46cAAAAg</b>, <b style=\"color: #5daed7;\">k3,3</b>], tags={<b style=\"color: #7fd635;\">I3,3</b>, <b style=\"color: #e5db50;\">X3</b>, <b style=\"color: #63d5a7;\">Y3</b>}),</summary>backend=<b style=\"color: #7fdd73;\">numpy</b>, dtype=<b style=\"color: #75d2c6;\">float64</b>, data=...</details></samp><samp style='font-size: 12px;'><details><summary><b style=\"color: #e55471;\">Tensor</b>(shape=(<b style=\"color: #8a5bcf;\">3</b>, <b style=\"color: #8a5bcf;\">3</b>, <b style=\"color: #8a5bcf;\">3</b>, <b style=\"color: #828fdd;\">2</b>), inds=[<b style=\"color: #5bd196;\">_aea46cAAAAj</b>, <b style=\"color: #38a2d0;\">_aea46cAAAAa</b>, <b style=\"color: #c730e4;\">_aea46cAAAAi</b>, <b style=\"color: #d9738c;\">k3,4</b>], tags={<b style=\"color: #9f91da;\">I3,4</b>, <b style=\"color: #e5db50;\">X3</b>, <b style=\"color: #37ce56;\">Y4</b>}),</summary>backend=<b style=\"color: #7fdd73;\">numpy</b>, dtype=<b style=\"color: #75d2c6;\">float64</b>, data=array([[[[-0.02785434, -0.19377183],\n",
       "         [ 0.13567531, -0.10062713],\n",
       "         [-0.07749432,  0.35753385]],\n",
       "\n",
       "        [[-0.25709318, -0.08090333],\n",
       "         [ 0.10074147,  0.21459987],\n",
       "         [-0.05594702,  0.48585484]],\n",
       "\n",
       "        [[-0.02995602, -0.12112102],\n",
       "         [ 0.14817227,  0.37143844],\n",
       "         [ 0.09314821,  0.2501424 ]]],\n",
       "\n",
       "\n",
       "       [[[-0.22927907, -0.16533426],\n",
       "         [-0.19022857, -0.49516235],\n",
       "         [ 0.03630534, -0.491662  ]],\n",
       "\n",
       "        [[ 0.66526663, -0.06528429],\n",
       "         [ 0.19440541, -0.33161728],\n",
       "         [-0.22234613, -0.22712846]],\n",
       "\n",
       "        [[-0.21079084, -0.07107046],\n",
       "         [-0.19357984, -0.570392  ],\n",
       "         [ 0.49999969,  0.07619666]]],\n",
       "\n",
       "\n",
       "       [[[-0.36850847,  0.26388082],\n",
       "         [-0.02058343, -0.5785781 ],\n",
       "         [-0.13305771, -0.17363738]],\n",
       "\n",
       "        [[-0.01600171, -0.25669566],\n",
       "         [-0.07669599,  0.34866238],\n",
       "         [ 0.53794805, -0.77247211]],\n",
       "\n",
       "        [[ 0.46701018, -0.03136358],\n",
       "         [-0.36865922,  0.55544779],\n",
       "         [-0.05441975,  0.31138795]]]])</details></samp><samp style='font-size: 12px;'><details><summary><b style=\"color: #e55471;\">Tensor</b>(shape=(<b style=\"color: #8a5bcf;\">3</b>, <b style=\"color: #8a5bcf;\">3</b>, <b style=\"color: #828fdd;\">2</b>), inds=[<b style=\"color: #5ccd9d;\">_aea46cAAAAk</b>, <b style=\"color: #35c8cc;\">_aea46cAAAAb</b>, <b style=\"color: #cb7de2;\">k4,0</b>], tags={<b style=\"color: #d54a8d;\">I4,0</b>, <b style=\"color: #6ae463;\">X4</b>, <b style=\"color: #b1d42e;\">Y0</b>}),</summary>backend=<b style=\"color: #7fdd73;\">numpy</b>, dtype=<b style=\"color: #75d2c6;\">float64</b>, data=array([[[-0.03622255, -0.64783791],\n",
       "        [-0.35413836, -0.06839641],\n",
       "        [-0.26610905, -0.4381159 ]],\n",
       "\n",
       "       [[ 0.30796793, -0.02458458],\n",
       "        [ 0.29830521, -0.13475392],\n",
       "        [ 0.05871056, -0.29670865]],\n",
       "\n",
       "       [[ 0.08531347, -0.27240719],\n",
       "        [ 0.03741549,  0.46378323],\n",
       "        [-0.29799446, -0.68974713]]])</details></samp><samp style='font-size: 12px;'><details><summary><b style=\"color: #e55471;\">Tensor</b>(shape=(<b style=\"color: #8a5bcf;\">3</b>, <b style=\"color: #8a5bcf;\">3</b>, <b style=\"color: #8a5bcf;\">3</b>, <b style=\"color: #828fdd;\">2</b>), inds=[<b style=\"color: #da8c79;\">_aea46cAAAAl</b>, <b style=\"color: #cda265;\">_aea46cAAAAd</b>, <b style=\"color: #5ccd9d;\">_aea46cAAAAk</b>, <b style=\"color: #70da4e;\">k4,1</b>], tags={<b style=\"color: #6373d7;\">I4,1</b>, <b style=\"color: #6ae463;\">X4</b>, <b style=\"color: #6c45d0;\">Y1</b>}),</summary>backend=<b style=\"color: #7fdd73;\">numpy</b>, dtype=<b style=\"color: #75d2c6;\">float64</b>, data=array([[[[ 7.32071132e-02,  1.63793612e-01],\n",
       "         [ 1.95103932e-02,  6.34924932e-02],\n",
       "         [-1.86589186e-01,  5.02850574e-01]],\n",
       "\n",
       "        [[ 2.21822008e-02,  1.45419471e-01],\n",
       "         [ 1.70098419e-02, -3.45904379e-01],\n",
       "         [ 1.17070971e-01,  7.49301787e-01]],\n",
       "\n",
       "        [[ 1.82502382e-01,  1.30361449e-01],\n",
       "         [-6.40960880e-02, -6.50550425e-01],\n",
       "         [-1.58615286e-01, -2.17396291e-01]]],\n",
       "\n",
       "\n",
       "       [[[ 3.36823530e-01,  4.77320168e-01],\n",
       "         [ 3.33942936e-02, -3.22675181e-01],\n",
       "         [ 3.00501540e-01, -1.30890164e-01]],\n",
       "\n",
       "        [[-4.93261133e-02,  1.80571112e-01],\n",
       "         [-8.34259724e-02, -1.36661366e-01],\n",
       "         [ 6.47967822e-01,  2.89957316e-01]],\n",
       "\n",
       "        [[ 3.51996531e-01, -2.58543810e-01],\n",
       "         [ 3.93574280e-01,  2.09913863e-01],\n",
       "         [-1.49833263e-04, -3.14774589e-01]]],\n",
       "\n",
       "\n",
       "       [[[ 1.95185567e-01, -3.00442172e-01],\n",
       "         [ 5.46766593e-01,  2.17461520e-01],\n",
       "         [ 5.47755703e-01,  1.47049000e-01]],\n",
       "\n",
       "        [[-2.89939243e-02, -2.29325724e-01],\n",
       "         [-2.19042143e-01, -5.19124212e-01],\n",
       "         [-2.76151915e-01, -3.36271916e-01]],\n",
       "\n",
       "        [[ 5.01194142e-01,  1.12354943e-01],\n",
       "         [-2.74712104e-01,  1.17000234e-01],\n",
       "         [ 1.01969558e-02, -1.37528548e-01]]]])</details></samp><samp style='font-size: 12px;'><details><summary><b style=\"color: #e55471;\">Tensor</b>(shape=(<b style=\"color: #8a5bcf;\">3</b>, <b style=\"color: #8a5bcf;\">3</b>, <b style=\"color: #8a5bcf;\">3</b>, <b style=\"color: #828fdd;\">2</b>), inds=[<b style=\"color: #3ed44e;\">_aea46cAAAAm</b>, <b style=\"color: #e1945c;\">_aea46cAAAAf</b>, <b style=\"color: #da8c79;\">_aea46cAAAAl</b>, <b style=\"color: #d63d6a;\">k4,2</b>], tags={<b style=\"color: #48d235;\">I4,2</b>, <b style=\"color: #6ae463;\">X4</b>, <b style=\"color: #3fdd7b;\">Y2</b>}),</summary>backend=<b style=\"color: #7fdd73;\">numpy</b>, dtype=<b style=\"color: #75d2c6;\">float64</b>, data=array([[[[-0.04691427,  0.04518512],\n",
       "         [-0.48821014,  0.14472043],\n",
       "         [ 0.2289111 , -0.49996531]],\n",
       "\n",
       "        [[-0.22946103, -0.56242939],\n",
       "         [-0.1519321 , -0.08036349],\n",
       "         [-0.07974806, -0.12597931]],\n",
       "\n",
       "        [[ 0.16025181,  0.3009493 ],\n",
       "         [-0.21928384, -0.14216206],\n",
       "         [-0.56038647,  0.15624933]]],\n",
       "\n",
       "\n",
       "       [[[ 0.24839524, -0.28966023],\n",
       "         [-0.20838007, -0.18817065],\n",
       "         [ 0.17665091, -0.02378777]],\n",
       "\n",
       "        [[ 0.35291229, -0.26963928],\n",
       "         [ 0.16652744,  0.39175549],\n",
       "         [ 0.00254081, -0.59435346]],\n",
       "\n",
       "        [[ 0.36046884, -0.19522254],\n",
       "         [-0.00934237,  0.10191553],\n",
       "         [-0.62675368,  0.20896072]]],\n",
       "\n",
       "\n",
       "       [[[ 0.22663422, -0.21799479],\n",
       "         [-0.10634787, -0.2027503 ],\n",
       "         [ 0.68532395, -0.02940163]],\n",
       "\n",
       "        [[ 0.1583736 ,  0.1362018 ],\n",
       "         [-0.14871838,  0.16141379],\n",
       "         [ 0.33185367,  0.43178459]],\n",
       "\n",
       "        [[-0.06391033,  0.27971557],\n",
       "         [-0.20968179, -0.51190256],\n",
       "         [ 0.29081901,  0.09433118]]]])</details></samp><samp style='font-size: 12px;'><details><summary><b style=\"color: #e55471;\">Tensor</b>(shape=(<b style=\"color: #8a5bcf;\">3</b>, <b style=\"color: #8a5bcf;\">3</b>, <b style=\"color: #8a5bcf;\">3</b>, <b style=\"color: #828fdd;\">2</b>), inds=[<b style=\"color: #b73ace;\">_aea46cAAAAn</b>, <b style=\"color: #37dfd4;\">_aea46cAAAAh</b>, <b style=\"color: #3ed44e;\">_aea46cAAAAm</b>, <b style=\"color: #74cce3;\">k4,3</b>], tags={<b style=\"color: #cfcb31;\">I4,3</b>, <b style=\"color: #6ae463;\">X4</b>, <b style=\"color: #63d5a7;\">Y3</b>}),</summary>backend=<b style=\"color: #7fdd73;\">numpy</b>, dtype=<b style=\"color: #75d2c6;\">float64</b>, data=array([[[[-0.04268813,  0.65947468],\n",
       "         [-0.00643255, -0.57697121],\n",
       "         [ 0.57728807,  0.70715589]],\n",
       "\n",
       "        [[-0.02511551,  0.29979619],\n",
       "         [ 0.25984809,  0.37272275],\n",
       "         [-0.23439044, -0.13467509]],\n",
       "\n",
       "        [[ 0.06414487,  0.11633378],\n",
       "         [-0.17244477, -0.11933729],\n",
       "         [-0.06883606,  0.03145422]]],\n",
       "\n",
       "\n",
       "       [[[-0.40488939,  0.19470758],\n",
       "         [ 0.12764037, -0.56489277],\n",
       "         [-0.18223419, -0.34254078]],\n",
       "\n",
       "        [[ 0.41968604,  0.19940955],\n",
       "         [ 0.21937432,  0.17137236],\n",
       "         [-0.09779707, -0.3709037 ]],\n",
       "\n",
       "        [[ 0.09661398, -0.59484165],\n",
       "         [ 0.16929148,  0.24812902],\n",
       "         [ 0.23701328,  0.24395429]]],\n",
       "\n",
       "\n",
       "       [[[-0.01667156, -0.10023877],\n",
       "         [-0.00398862, -0.02343363],\n",
       "         [ 0.47390102,  0.32692523]],\n",
       "\n",
       "        [[ 0.70393136,  0.02803209],\n",
       "         [-0.21699308, -0.21125616],\n",
       "         [ 0.30153273,  0.38770508]],\n",
       "\n",
       "        [[-0.16267959, -0.18765657],\n",
       "         [ 0.00855063, -0.16643927],\n",
       "         [-0.19250898,  0.23623521]]]])</details></samp><samp style='font-size: 12px;'><details><summary><b style=\"color: #e55471;\">Tensor</b>(shape=(<b style=\"color: #8a5bcf;\">3</b>, <b style=\"color: #8a5bcf;\">3</b>, <b style=\"color: #828fdd;\">2</b>), inds=[<b style=\"color: #5bd196;\">_aea46cAAAAj</b>, <b style=\"color: #b73ace;\">_aea46cAAAAn</b>, <b style=\"color: #de828e;\">k4,4</b>], tags={<b style=\"color: #8556e3;\">I4,4</b>, <b style=\"color: #6ae463;\">X4</b>, <b style=\"color: #37ce56;\">Y4</b>}),</summary>backend=<b style=\"color: #7fdd73;\">numpy</b>, dtype=<b style=\"color: #75d2c6;\">float64</b>, data=array([[[ 0.04200821,  0.31899505],\n",
       "        [-0.21784933, -0.42481105],\n",
       "        [-0.45498257,  0.35867999]],\n",
       "\n",
       "       [[ 0.24995048, -0.17124387],\n",
       "        [ 0.52845545,  0.69610531],\n",
       "        [ 0.18589178, -0.07414434]],\n",
       "\n",
       "       [[-0.25978338, -0.16469329],\n",
       "        [ 0.01989423, -0.17488996],\n",
       "        [-0.23159834, -0.48782655]]])</details></samp></details></samp>"
      ],
      "text/plain": [
       "PEPS(tensors=25, indices=65, Lx=5, Ly=5, max_bond=3)"
      ]
     },
     "execution_count": 2,
     "metadata": {},
     "output_type": "execute_result"
    }
   ],
   "source": [
    "peps = qtn.PEPS.rand(Lx=5, Ly=5, bond_dim=3, seed=666)\n",
    "peps"
   ]
  },
  {
   "cell_type": "code",
   "execution_count": 3,
   "id": "753061b5-1665-4bc8-9a31-7bafcca55b02",
   "metadata": {},
   "outputs": [
    {
     "name": "stdout",
     "output_type": "stream",
     "text": [
      "    3    3    3    3   \n",
      " ●━━━━●━━━━●━━━━●━━━━●\n",
      "╱┃3  ╱┃3  ╱┃3  ╱┃3  ╱┃3  \n",
      " ┃  3 ┃  3 ┃  3 ┃  3 ┃ \n",
      " ●━━━━●━━━━●━━━━●━━━━●\n",
      "╱┃3  ╱┃3  ╱┃3  ╱┃3  ╱┃3  \n",
      " ┃  3 ┃  3 ┃  3 ┃  3 ┃ \n",
      " ●━━━━●━━━━●━━━━●━━━━●\n",
      "╱┃3  ╱┃3  ╱┃3  ╱┃3  ╱┃3  \n",
      " ┃  3 ┃  3 ┃  3 ┃  3 ┃ \n",
      " ●━━━━●━━━━●━━━━●━━━━●\n",
      "╱┃3  ╱┃3  ╱┃3  ╱┃3  ╱┃3  \n",
      " ┃  3 ┃  3 ┃  3 ┃  3 ┃ \n",
      " ●━━━━●━━━━●━━━━●━━━━●\n",
      "╱    ╱    ╱    ╱    ╱    \n"
     ]
    }
   ],
   "source": [
    "peps.show()"
   ]
  },
  {
   "cell_type": "markdown",
   "id": "bb666f28-cc18-4087-a256-b235efb7e8c9",
   "metadata": {},
   "source": [
    "You can see all the special properties the `PEPS` class carries with:"
   ]
  },
  {
   "cell_type": "code",
   "execution_count": 4,
   "id": "88fd3fd0-1a40-408b-bf00-dbe4c854bdee",
   "metadata": {},
   "outputs": [
    {
     "data": {
      "text/plain": [
       "('_site_tag_id', '_x_tag_id', '_y_tag_id', '_Lx', '_Ly', '_site_ind_id')"
      ]
     },
     "execution_count": 4,
     "metadata": {},
     "output_type": "execute_result"
    }
   ],
   "source": [
    "peps._EXTRA_PROPS"
   ]
  },
  {
   "cell_type": "markdown",
   "id": "6a656257-d35f-4a10-9606-06d00ee2c27c",
   "metadata": {},
   "source": [
    "This enable various convenient functions:"
   ]
  },
  {
   "cell_type": "code",
   "execution_count": 5,
   "id": "48acf058-6dea-4de6-93ff-500790400902",
   "metadata": {},
   "outputs": [
    {
     "data": {
      "text/plain": [
       "'k3,4'"
      ]
     },
     "execution_count": 5,
     "metadata": {},
     "output_type": "execute_result"
    }
   ],
   "source": [
    "# index specifying an physical site\n",
    "peps.site_ind(3, 4)"
   ]
  },
  {
   "cell_type": "code",
   "execution_count": 6,
   "id": "da57336a-ae80-4fb6-a354-b36656692c6b",
   "metadata": {},
   "outputs": [
    {
     "data": {
      "text/plain": [
       "'I3,4'"
      ]
     },
     "execution_count": 6,
     "metadata": {},
     "output_type": "execute_result"
    }
   ],
   "source": [
    "# tag specifying a coordinate\n",
    "peps.site_tag(3, 4)"
   ]
  },
  {
   "cell_type": "code",
   "execution_count": 7,
   "id": "fa9eabf6-0fdc-40fe-950c-7cfc9793f8e9",
   "metadata": {},
   "outputs": [
    {
     "data": {
      "text/html": [
       "<samp style='font-size: 12px;'><details><summary><b style=\"color: #e55471;\">Tensor</b>(shape=(<b style=\"color: #8a5bcf;\">3</b>, <b style=\"color: #8a5bcf;\">3</b>, <b style=\"color: #8a5bcf;\">3</b>, <b style=\"color: #828fdd;\">2</b>), inds=[<b style=\"color: #5bd196;\">_aea46cAAAAj</b>, <b style=\"color: #38a2d0;\">_aea46cAAAAa</b>, <b style=\"color: #c730e4;\">_aea46cAAAAi</b>, <b style=\"color: #d9738c;\">k3,4</b>], tags={<b style=\"color: #9f91da;\">I3,4</b>, <b style=\"color: #e5db50;\">X3</b>, <b style=\"color: #37ce56;\">Y4</b>}),</summary>backend=<b style=\"color: #7fdd73;\">numpy</b>, dtype=<b style=\"color: #75d2c6;\">float64</b>, data=array([[[[-0.02785434, -0.19377183],\n",
       "         [ 0.13567531, -0.10062713],\n",
       "         [-0.07749432,  0.35753385]],\n",
       "\n",
       "        [[-0.25709318, -0.08090333],\n",
       "         [ 0.10074147,  0.21459987],\n",
       "         [-0.05594702,  0.48585484]],\n",
       "\n",
       "        [[-0.02995602, -0.12112102],\n",
       "         [ 0.14817227,  0.37143844],\n",
       "         [ 0.09314821,  0.2501424 ]]],\n",
       "\n",
       "\n",
       "       [[[-0.22927907, -0.16533426],\n",
       "         [-0.19022857, -0.49516235],\n",
       "         [ 0.03630534, -0.491662  ]],\n",
       "\n",
       "        [[ 0.66526663, -0.06528429],\n",
       "         [ 0.19440541, -0.33161728],\n",
       "         [-0.22234613, -0.22712846]],\n",
       "\n",
       "        [[-0.21079084, -0.07107046],\n",
       "         [-0.19357984, -0.570392  ],\n",
       "         [ 0.49999969,  0.07619666]]],\n",
       "\n",
       "\n",
       "       [[[-0.36850847,  0.26388082],\n",
       "         [-0.02058343, -0.5785781 ],\n",
       "         [-0.13305771, -0.17363738]],\n",
       "\n",
       "        [[-0.01600171, -0.25669566],\n",
       "         [-0.07669599,  0.34866238],\n",
       "         [ 0.53794805, -0.77247211]],\n",
       "\n",
       "        [[ 0.46701018, -0.03136358],\n",
       "         [-0.36865922,  0.55544779],\n",
       "         [-0.05441975,  0.31138795]]]])</details></samp>"
      ],
      "text/plain": [
       "Tensor(shape=(3, 3, 3, 2), inds=('_aea46cAAAAj', '_aea46cAAAAa', '_aea46cAAAAi', 'k3,4'), tags=oset(['I3,4', 'X3', 'Y4']))"
      ]
     },
     "execution_count": 7,
     "metadata": {},
     "output_type": "execute_result"
    }
   ],
   "source": [
    "# access by coordinate rather than full tag\n",
    "peps[3, 4]"
   ]
  },
  {
   "cell_type": "code",
   "execution_count": 8,
   "id": "0f6b5d94-4c98-420a-93ed-e7abd30395e4",
   "metadata": {},
   "outputs": [
    {
     "data": {
      "image/svg+xml": [
       "<?xml version=\"1.0\" encoding=\"UTF-8\"?><!DOCTYPE svg  PUBLIC '-//W3C//DTD SVG 1.1//EN'  'http://www.w3.org/Graphics/SVG/1.1/DTD/svg11.dtd'><svg width=\"348.24pt\" height=\"347.04pt\" version=\"1.1\" viewBox=\"0 0 348.24 347.04\" xmlns=\"http://www.w3.org/2000/svg\"><defs><style type=\"text/css\">*{stroke-linejoin: round; stroke-linecap: butt}</style></defs><path d=\"m0 347.04h348.24v-347.04h-348.24v347.04z\" opacity=\"0\"/><path d=\"m54.611 62.929 52.182-5.8921\" clip-path=\"url(#d67082f1927)\" fill=\"none\" stroke=\"#737880\" stroke-linecap=\"round\" stroke-opacity=\".5\" stroke-width=\"1.585\"/><path d=\"m54.611 62.929-1.9643 52.537\" clip-path=\"url(#d67082f1927)\" fill=\"none\" stroke=\"#737880\" stroke-linecap=\"round\" stroke-opacity=\".5\" stroke-width=\"1.585\"/><path d=\"m54.611 62.929-31.887-29.666\" clip-path=\"url(#d67082f1927)\" fill=\"none\" stroke=\"#737880\" stroke-linecap=\"round\" stroke-opacity=\".5\"/><path d=\"m52.647 115.47 54.196-4.0645\" clip-path=\"url(#d67082f1927)\" fill=\"none\" stroke=\"#737880\" stroke-linecap=\"round\" stroke-opacity=\".5\" stroke-width=\"1.585\"/><path d=\"m52.647 115.47 0.48114 62.846\" clip-path=\"url(#d67082f1927)\" fill=\"none\" stroke=\"#737880\" stroke-linecap=\"round\" stroke-opacity=\".5\" stroke-width=\"1.585\"/><path d=\"m52.647 115.47-41.002-12.992\" clip-path=\"url(#d67082f1927)\" fill=\"none\" stroke=\"#737880\" stroke-linecap=\"round\" stroke-opacity=\".5\"/><path d=\"m53.128 178.31 55.484-1.9977\" clip-path=\"url(#d67082f1927)\" fill=\"none\" stroke=\"#737880\" stroke-linecap=\"round\" stroke-opacity=\".5\" stroke-width=\"1.585\"/><path d=\"m53.128 178.31 4.8724 62.448\" clip-path=\"url(#d67082f1927)\" fill=\"none\" stroke=\"#737880\" stroke-linecap=\"round\" stroke-opacity=\".5\" stroke-width=\"1.585\"/><path d=\"m53.128 178.31-42.655 1.5256\" clip-path=\"url(#d67082f1927)\" fill=\"none\" stroke=\"#737880\" stroke-linecap=\"round\" stroke-opacity=\".5\"/><path d=\"m58.001 240.76 54.38 0.10085\" clip-path=\"url(#d67082f1927)\" fill=\"none\" stroke=\"#737880\" stroke-linecap=\"round\" stroke-opacity=\".5\" stroke-width=\"1.585\"/><path d=\"m58.001 240.76 6.2274 52.146\" clip-path=\"url(#d67082f1927)\" fill=\"none\" stroke=\"#737880\" stroke-linecap=\"round\" stroke-opacity=\".5\" stroke-width=\"1.585\"/><path d=\"m58.001 240.76-39.755 15.971\" clip-path=\"url(#d67082f1927)\" fill=\"none\" stroke=\"#737880\" stroke-linecap=\"round\" stroke-opacity=\".5\"/><path d=\"m64.228 292.91 52.606 1.9659\" clip-path=\"url(#d67082f1927)\" fill=\"none\" stroke=\"#737880\" stroke-linecap=\"round\" stroke-opacity=\".5\" stroke-width=\"1.585\"/><path d=\"m64.228 292.91-29.567 31.891\" clip-path=\"url(#d67082f1927)\" fill=\"none\" stroke=\"#737880\" stroke-linecap=\"round\" stroke-opacity=\".5\"/><path d=\"m106.79 57.037 62.34-4.0865\" clip-path=\"url(#d67082f1927)\" fill=\"none\" stroke=\"#737880\" stroke-linecap=\"round\" stroke-opacity=\".5\" stroke-width=\"1.585\"/><path d=\"m106.79 57.037 0.049838 54.365\" clip-path=\"url(#d67082f1927)\" fill=\"none\" stroke=\"#737880\" stroke-linecap=\"round\" stroke-opacity=\".5\" stroke-width=\"1.585\"/><path d=\"m106.79 57.037-15.894-40.008\" clip-path=\"url(#d67082f1927)\" fill=\"none\" stroke=\"#737880\" stroke-linecap=\"round\" stroke-opacity=\".5\"/><path d=\"m106.84 111.4 64.976-3.2214\" clip-path=\"url(#d67082f1927)\" fill=\"none\" stroke=\"#737880\" stroke-linecap=\"round\" stroke-opacity=\".5\" stroke-width=\"1.585\"/><path d=\"m106.84 111.4 1.7691 64.913\" clip-path=\"url(#d67082f1927)\" fill=\"none\" stroke=\"#737880\" stroke-linecap=\"round\" stroke-opacity=\".5\" stroke-width=\"1.585\"/><path d=\"m106.84 111.4-25.319-23.825\" clip-path=\"url(#d67082f1927)\" fill=\"none\" stroke=\"#737880\" stroke-linecap=\"round\" stroke-opacity=\".5\"/><path d=\"m108.61 176.31 65.451-2.7502\" clip-path=\"url(#d67082f1927)\" fill=\"none\" stroke=\"#737880\" stroke-linecap=\"round\" stroke-opacity=\".5\" stroke-width=\"1.585\"/><path d=\"m108.61 176.31 3.7682 64.547\" clip-path=\"url(#d67082f1927)\" fill=\"none\" stroke=\"#737880\" stroke-linecap=\"round\" stroke-opacity=\".5\" stroke-width=\"1.585\"/><path d=\"m108.61 176.31-30.057 2.5857\" clip-path=\"url(#d67082f1927)\" fill=\"none\" stroke=\"#737880\" stroke-linecap=\"round\" stroke-opacity=\".5\"/><path d=\"m112.38 240.86 64.806-2.1561\" clip-path=\"url(#d67082f1927)\" fill=\"none\" stroke=\"#737880\" stroke-linecap=\"round\" stroke-opacity=\".5\" stroke-width=\"1.585\"/><path d=\"m112.38 240.86 4.4536 54.011\" clip-path=\"url(#d67082f1927)\" fill=\"none\" stroke=\"#737880\" stroke-linecap=\"round\" stroke-opacity=\".5\" stroke-width=\"1.585\"/><path d=\"m112.38 240.86-23.03 25.683\" clip-path=\"url(#d67082f1927)\" fill=\"none\" stroke=\"#737880\" stroke-linecap=\"round\" stroke-opacity=\".5\"/><path d=\"m116.83 294.87 62.404-0.76847\" clip-path=\"url(#d67082f1927)\" fill=\"none\" stroke=\"#737880\" stroke-linecap=\"round\" stroke-opacity=\".5\" stroke-width=\"1.585\"/><path d=\"m116.83 294.87-12.929 41.048\" clip-path=\"url(#d67082f1927)\" fill=\"none\" stroke=\"#737880\" stroke-linecap=\"round\" stroke-opacity=\".5\"/><path d=\"m169.13 52.95 62.805-0.51792\" clip-path=\"url(#d67082f1927)\" fill=\"none\" stroke=\"#737880\" stroke-linecap=\"round\" stroke-opacity=\".5\" stroke-width=\"1.585\"/><path d=\"m169.13 52.95 2.6858 55.23\" clip-path=\"url(#d67082f1927)\" fill=\"none\" stroke=\"#737880\" stroke-linecap=\"round\" stroke-opacity=\".5\" stroke-width=\"1.585\"/><path d=\"m169.13 52.95-1.8084-42.489\" clip-path=\"url(#d67082f1927)\" fill=\"none\" stroke=\"#737880\" stroke-linecap=\"round\" stroke-opacity=\".5\"/><path d=\"m171.82 108.18 64.523-1.5815\" clip-path=\"url(#d67082f1927)\" fill=\"none\" stroke=\"#737880\" stroke-linecap=\"round\" stroke-opacity=\".5\" stroke-width=\"1.585\"/><path d=\"m171.82 108.18 2.2436 65.384\" clip-path=\"url(#d67082f1927)\" fill=\"none\" stroke=\"#737880\" stroke-linecap=\"round\" stroke-opacity=\".5\" stroke-width=\"1.585\"/><path d=\"m171.82 108.18 0.78213-29.688\" clip-path=\"url(#d67082f1927)\" fill=\"none\" stroke=\"#737880\" stroke-linecap=\"round\" stroke-opacity=\".5\"/><path d=\"m174.06 173.56 65.563-2.5635\" clip-path=\"url(#d67082f1927)\" fill=\"none\" stroke=\"#737880\" stroke-linecap=\"round\" stroke-opacity=\".5\" stroke-width=\"1.585\"/><path d=\"m174.06 173.56 3.1233 65.141\" clip-path=\"url(#d67082f1927)\" fill=\"none\" stroke=\"#737880\" stroke-linecap=\"round\" stroke-opacity=\".5\" stroke-width=\"1.585\"/><path d=\"m174.06 173.56-16.911-11.32\" clip-path=\"url(#d67082f1927)\" fill=\"none\" stroke=\"#737880\" stroke-linecap=\"round\" stroke-opacity=\".5\"/><path d=\"m177.19 238.71 64.424-3.2869\" clip-path=\"url(#d67082f1927)\" fill=\"none\" stroke=\"#737880\" stroke-linecap=\"round\" stroke-opacity=\".5\" stroke-width=\"1.585\"/><path d=\"m177.19 238.71 2.0518 55.398\" clip-path=\"url(#d67082f1927)\" fill=\"none\" stroke=\"#737880\" stroke-linecap=\"round\" stroke-opacity=\".5\" stroke-width=\"1.585\"/><path d=\"m177.19 238.71 1.988 29.72\" clip-path=\"url(#d67082f1927)\" fill=\"none\" stroke=\"#737880\" stroke-linecap=\"round\" stroke-opacity=\".5\"/><path d=\"m179.24 294.1 62.4-4.4753\" clip-path=\"url(#d67082f1927)\" fill=\"none\" stroke=\"#737880\" stroke-linecap=\"round\" stroke-opacity=\".5\" stroke-width=\"1.585\"/><path d=\"m179.24 294.1 1.8749 42.475\" clip-path=\"url(#d67082f1927)\" fill=\"none\" stroke=\"#737880\" stroke-linecap=\"round\" stroke-opacity=\".5\"/><path d=\"m231.94 52.432 52.351 1.9648\" clip-path=\"url(#d67082f1927)\" fill=\"none\" stroke=\"#737880\" stroke-linecap=\"round\" stroke-opacity=\".5\" stroke-width=\"1.585\"/><path d=\"m231.94 52.432 4.4039 54.167\" clip-path=\"url(#d67082f1927)\" fill=\"none\" stroke=\"#737880\" stroke-linecap=\"round\" stroke-opacity=\".5\" stroke-width=\"1.585\"/><path d=\"m231.94 52.432 12.555-40.895\" clip-path=\"url(#d67082f1927)\" fill=\"none\" stroke=\"#737880\" stroke-linecap=\"round\" stroke-opacity=\".5\"/><path d=\"m236.34 106.6 54.464-0.1267\" clip-path=\"url(#d67082f1927)\" fill=\"none\" stroke=\"#737880\" stroke-linecap=\"round\" stroke-opacity=\".5\" stroke-width=\"1.585\"/><path d=\"m236.34 106.6 3.2839 64.402\" clip-path=\"url(#d67082f1927)\" fill=\"none\" stroke=\"#737880\" stroke-linecap=\"round\" stroke-opacity=\".5\" stroke-width=\"1.585\"/><path d=\"m236.34 106.6 23.944-25.077\" clip-path=\"url(#d67082f1927)\" fill=\"none\" stroke=\"#737880\" stroke-linecap=\"round\" stroke-opacity=\".5\"/><path d=\"m239.63 171 55.508-2.2769\" clip-path=\"url(#d67082f1927)\" fill=\"none\" stroke=\"#737880\" stroke-linecap=\"round\" stroke-opacity=\".5\" stroke-width=\"1.585\"/><path d=\"m239.63 171 1.9841 64.418\" clip-path=\"url(#d67082f1927)\" fill=\"none\" stroke=\"#737880\" stroke-linecap=\"round\" stroke-opacity=\".5\" stroke-width=\"1.585\"/><path d=\"m239.63 171 29.811-0.68293\" clip-path=\"url(#d67082f1927)\" fill=\"none\" stroke=\"#737880\" stroke-linecap=\"round\" stroke-opacity=\".5\"/><path d=\"m241.61 235.42 54.207-4.2962\" clip-path=\"url(#d67082f1927)\" fill=\"none\" stroke=\"#737880\" stroke-linecap=\"round\" stroke-opacity=\".5\" stroke-width=\"1.585\"/><path d=\"m241.61 235.42 0.0278 54.21\" clip-path=\"url(#d67082f1927)\" fill=\"none\" stroke=\"#737880\" stroke-linecap=\"round\" stroke-opacity=\".5\" stroke-width=\"1.585\"/><path d=\"m241.61 235.42 25.799 23.111\" clip-path=\"url(#d67082f1927)\" fill=\"none\" stroke=\"#737880\" stroke-linecap=\"round\" stroke-opacity=\".5\"/><path d=\"m241.64 289.63 52.167-6.134\" clip-path=\"url(#d67082f1927)\" fill=\"none\" stroke=\"#737880\" stroke-linecap=\"round\" stroke-opacity=\".5\" stroke-width=\"1.585\"/><path d=\"m241.64 289.63 15.876 39.798\" clip-path=\"url(#d67082f1927)\" fill=\"none\" stroke=\"#737880\" stroke-linecap=\"round\" stroke-opacity=\".5\"/><path d=\"m284.29 54.397 6.5167 52.075\" clip-path=\"url(#d67082f1927)\" fill=\"none\" stroke=\"#737880\" stroke-linecap=\"round\" stroke-opacity=\".5\" stroke-width=\"1.585\"/><path d=\"m284.29 54.397 29.321-31.912\" clip-path=\"url(#d67082f1927)\" fill=\"none\" stroke=\"#737880\" stroke-linecap=\"round\" stroke-opacity=\".5\"/><path d=\"m290.81 106.47 4.3284 62.252\" clip-path=\"url(#d67082f1927)\" fill=\"none\" stroke=\"#737880\" stroke-linecap=\"round\" stroke-opacity=\".5\" stroke-width=\"1.585\"/><path d=\"m290.81 106.47 39.959-15.908\" clip-path=\"url(#d67082f1927)\" fill=\"none\" stroke=\"#737880\" stroke-linecap=\"round\" stroke-opacity=\".5\"/><path d=\"m295.13 168.72 0.68324 62.398\" clip-path=\"url(#d67082f1927)\" fill=\"none\" stroke=\"#737880\" stroke-linecap=\"round\" stroke-opacity=\".5\" stroke-width=\"1.585\"/><path d=\"m295.13 168.72 42.637-1.6642\" clip-path=\"url(#d67082f1927)\" fill=\"none\" stroke=\"#737880\" stroke-linecap=\"round\" stroke-opacity=\".5\"/><path d=\"m295.82 231.12-2.0121 52.372\" clip-path=\"url(#d67082f1927)\" fill=\"none\" stroke=\"#737880\" stroke-linecap=\"round\" stroke-opacity=\".5\" stroke-width=\"1.585\"/><path d=\"m295.82 231.12 41.091 12.702\" clip-path=\"url(#d67082f1927)\" fill=\"none\" stroke=\"#737880\" stroke-linecap=\"round\" stroke-opacity=\".5\"/><path d=\"m293.81 283.49 31.816 29.432\" clip-path=\"url(#d67082f1927)\" fill=\"none\" stroke=\"#737880\" stroke-linecap=\"round\" stroke-opacity=\".5\"/><path d=\"m22.724 33.262z\" clip-path=\"url(#d67082f1927)\" fill=\"#ffffff\"/><path d=\"m11.645 102.47z\" clip-path=\"url(#d67082f1927)\" fill=\"#ffffff\"/><path d=\"m10.473 179.84z\" clip-path=\"url(#d67082f1927)\" fill=\"#ffffff\"/><path d=\"m18.246 256.73z\" clip-path=\"url(#d67082f1927)\" fill=\"#ffffff\"/><path d=\"m34.661 324.8z\" clip-path=\"url(#d67082f1927)\" fill=\"#ffffff\"/><path d=\"m90.9 17.028z\" clip-path=\"url(#d67082f1927)\" fill=\"#ffffff\"/><path d=\"m81.524 87.576z\" clip-path=\"url(#d67082f1927)\" fill=\"#ffffff\"/><path d=\"m78.555 178.9z\" clip-path=\"url(#d67082f1927)\" fill=\"#ffffff\"/><path d=\"m89.35 266.54z\" clip-path=\"url(#d67082f1927)\" fill=\"#ffffff\"/><path d=\"m103.9 335.92z\" clip-path=\"url(#d67082f1927)\" fill=\"#ffffff\"/><path d=\"m167.33 10.461z\" clip-path=\"url(#d67082f1927)\" fill=\"#ffffff\"/><path d=\"m172.6 78.492z\" clip-path=\"url(#d67082f1927)\" fill=\"#ffffff\"/><path d=\"m157.15 162.24z\" clip-path=\"url(#d67082f1927)\" fill=\"#ffffff\"/><path d=\"m179.17 268.43z\" clip-path=\"url(#d67082f1927)\" fill=\"#ffffff\"/><path d=\"m181.11 336.58z\" clip-path=\"url(#d67082f1927)\" fill=\"#ffffff\"/><path d=\"m244.49 11.537z\" clip-path=\"url(#d67082f1927)\" fill=\"#ffffff\"/><path d=\"m260.29 81.522z\" clip-path=\"url(#d67082f1927)\" fill=\"#ffffff\"/><path d=\"m269.44 170.32z\" clip-path=\"url(#d67082f1927)\" fill=\"#ffffff\"/><path d=\"m267.41 258.53z\" clip-path=\"url(#d67082f1927)\" fill=\"#ffffff\"/><path d=\"m257.51 329.43z\" clip-path=\"url(#d67082f1927)\" fill=\"#ffffff\"/><path d=\"m313.61 22.484z\" clip-path=\"url(#d67082f1927)\" fill=\"#ffffff\"/><path d=\"m330.76 90.564z\" clip-path=\"url(#d67082f1927)\" fill=\"#ffffff\"/><path d=\"m337.77 167.06z\" clip-path=\"url(#d67082f1927)\" fill=\"#ffffff\"/><path d=\"m336.91 243.82z\" clip-path=\"url(#d67082f1927)\" fill=\"#ffffff\"/><path d=\"m325.62 312.93z\" clip-path=\"url(#d67082f1927)\" fill=\"#ffffff\"/><path d=\"m54.611 70.604c2.0355 0 3.9878-0.8087 5.4271-2.248 1.4393-1.4393 2.248-3.3917 2.248-5.4271 0-2.0355-0.8087-3.9878-2.248-5.4271s-3.3917-2.248-5.4271-2.248c-2.0355 0-3.9878 0.8087-5.4271 2.248-1.4393 1.4393-2.248 3.3917-2.248 5.4271 0 2.0355 0.8087 3.9878 2.248 5.4271 1.4393 1.4393 3.3917 2.248 5.4271 2.248z\" clip-path=\"url(#d67082f1927)\" fill=\"#0072b2\" stroke=\"#0067a0\" stroke-width=\"1.1587\"/><path d=\"m52.647 123.14c2.0355 0 3.9878-0.8087 5.4271-2.248 1.4393-1.4393 2.248-3.3917 2.248-5.4271s-0.8087-3.9878-2.248-5.4271c-1.4393-1.4393-3.3917-2.248-5.4271-2.248s-3.9878 0.8087-5.4271 2.248-2.248 3.3917-2.248 5.4271 0.8087 3.9878 2.248 5.4271 3.3917 2.248 5.4271 2.248z\" clip-path=\"url(#d67082f1927)\" fill=\"#589abf\" stroke=\"#4f8aac\" stroke-width=\"1.1587\"/><path d=\"m53.128 185.99c2.0355 0 3.9878-0.8087 5.4271-2.248 1.4393-1.4393 2.248-3.3917 2.248-5.4271s-0.8087-3.9878-2.248-5.4271-3.3917-2.248-5.4271-2.248-3.9878 0.8087-5.4271 2.248c-1.4393 1.4393-2.248 3.3917-2.248 5.4271s0.8087 3.9878 2.248 5.4271c1.4393 1.4393 3.3917 2.248 5.4271 2.248z\" clip-path=\"url(#d67082f1927)\" fill=\"#93b8cd\" stroke=\"#84a6b9\" stroke-width=\"1.1587\"/><path d=\"m58.001 248.44c2.0355 0 3.9878-0.8087 5.4271-2.248s2.248-3.3917 2.248-5.4271-0.8087-3.9878-2.248-5.4271c-1.4393-1.4393-3.3917-2.248-5.4271-2.248s-3.9878 0.8087-5.4271 2.248c-1.4393 1.4393-2.248 3.3917-2.248 5.4271s0.8087 3.9878 2.248 5.4271 3.3917 2.248 5.4271 2.248z\" clip-path=\"url(#d67082f1927)\" fill=\"#59acdb\" stroke=\"#509bc5\" stroke-width=\"1.1587\"/><path d=\"m64.228 300.58c2.0355 0 3.9878-0.8087 5.4271-2.248 1.4393-1.4393 2.248-3.3917 2.248-5.4271s-0.8087-3.9878-2.248-5.4271c-1.4393-1.4393-3.3917-2.248-5.4271-2.248s-3.9878 0.8087-5.4271 2.248-2.248 3.3917-2.248 5.4271 0.8087 3.9878 2.248 5.4271 3.3917 2.248 5.4271 2.248z\" clip-path=\"url(#d67082f1927)\" fill=\"#62b8e8\" stroke=\"#58a6d1\" stroke-width=\"1.1587\"/><path d=\"m106.79 64.712c2.0355 0 3.9878-0.8087 5.4271-2.248s2.248-3.3917 2.248-5.4271-0.8087-3.9878-2.248-5.4271c-1.4393-1.4393-3.3917-2.248-5.4271-2.248s-3.9878 0.8087-5.4271 2.248c-1.4393 1.4393-2.248 3.3917-2.248 5.4271s0.8087 3.9878 2.248 5.4271 3.3917 2.248 5.4271 2.248z\" clip-path=\"url(#d67082f1927)\" fill=\"#95c0cc\" stroke=\"#86adb7\" stroke-width=\"1.1587\"/><path d=\"m106.84 119.08c2.0355 0 3.9878-0.8087 5.4271-2.248 1.4393-1.4393 2.248-3.3917 2.248-5.4271s-0.8087-3.9878-2.248-5.4271c-1.4393-1.4393-3.3917-2.248-5.4271-2.248-2.0355 0-3.9878 0.8087-5.4271 2.248-1.4393 1.4393-2.248 3.3917-2.248 5.4271s0.8087 3.9878 2.248 5.4271 3.3917 2.248 5.4271 2.248z\" clip-path=\"url(#d67082f1927)\" fill=\"#69abad\" stroke=\"#5e9a9c\" stroke-width=\"1.1587\"/><path d=\"m108.61 183.99c2.0355 0 3.9878-0.8087 5.4271-2.248s2.248-3.3917 2.248-5.4271-0.8087-3.9878-2.248-5.4271c-1.4393-1.4393-3.3917-2.248-5.4271-2.248s-3.9878 0.8087-5.4271 2.248c-1.4393 1.4393-2.248 3.3917-2.248 5.4271s0.8087 3.9878 2.248 5.4271 3.3917 2.248 5.4271 2.248z\" clip-path=\"url(#d67082f1927)\" fill=\"#18a492\" stroke=\"#159383\" stroke-width=\"1.1587\"/><path d=\"m112.38 248.54c2.0355 0 3.9878-0.8087 5.4271-2.248s2.248-3.3917 2.248-5.4271-0.8087-3.9878-2.248-5.4271-3.3917-2.248-5.4271-2.248-3.9878 0.8087-5.4271 2.248c-1.4393 1.4393-2.248 3.3917-2.248 5.4271s0.8087 3.9878 2.248 5.4271c1.4393 1.4393 3.3917 2.248 5.4271 2.248z\" clip-path=\"url(#d67082f1927)\" fill=\"#319e80\" stroke=\"#2c8e74\" stroke-width=\"1.1587\"/><path d=\"m116.83 302.55c2.0355 0 3.9878-0.8087 5.4271-2.248s2.248-3.3917 2.248-5.4271-0.8087-3.9878-2.248-5.4271c-1.4393-1.4393-3.3917-2.248-5.4271-2.248s-3.9878 0.8087-5.4271 2.248c-1.4393 1.4393-2.248 3.3917-2.248 5.4271s0.8087 3.9878 2.248 5.4271c1.4393 1.4393 3.3917 2.248 5.4271 2.248z\" clip-path=\"url(#d67082f1927)\" fill=\"#8ab097\" stroke=\"#7c9f88\" stroke-width=\"1.1587\"/><path d=\"m169.13 60.625c2.0355 0 3.9878-0.8087 5.4271-2.248s2.248-3.3917 2.248-5.4271-0.8087-3.9878-2.248-5.4271-3.3917-2.248-5.4271-2.248-3.9878 0.8087-5.4271 2.248c-1.4393 1.4393-2.248 3.3917-2.248 5.4271s0.8087 3.9878 2.248 5.4271c1.4393 1.4393 3.3917 2.248 5.4271 2.248z\" clip-path=\"url(#d67082f1927)\" fill=\"#88c172\" stroke=\"#7aad67\" stroke-width=\"1.1587\"/><path d=\"m171.82 115.86c2.0355 0 3.9878-0.8087 5.4271-2.248 1.4393-1.4393 2.248-3.3917 2.248-5.4271s-0.8087-3.9878-2.248-5.4271-3.3917-2.248-5.4271-2.248c-2.0355 0-3.9878 0.8087-5.4271 2.248-1.4393 1.4393-2.248 3.3917-2.248 5.4271s0.8087 3.9878 2.248 5.4271c1.4393 1.4393 3.3917 2.248 5.4271 2.248z\" clip-path=\"url(#d67082f1927)\" fill=\"#b6d354\" stroke=\"#a4be4b\" stroke-width=\"1.1587\"/><path d=\"m174.06 181.24c2.0355 0 3.9878-0.8087 5.4271-2.248 1.4393-1.4393 2.248-3.3917 2.248-5.4271s-0.8087-3.9878-2.248-5.4271c-1.4393-1.4393-3.3917-2.248-5.4271-2.248s-3.9878 0.8087-5.4271 2.248-2.248 3.3917-2.248 5.4271 0.8087 3.9878 2.248 5.4271c1.4393 1.4393 3.3917 2.248 5.4271 2.248z\" clip-path=\"url(#d67082f1927)\" fill=\"#f0eaa1\" stroke=\"#d8d390\" stroke-width=\"1.1587\"/><path d=\"m177.19 246.38c2.0355 0 3.9878-0.8087 5.4271-2.248s2.248-3.3917 2.248-5.4271-0.8087-3.9878-2.248-5.4271c-1.4393-1.4393-3.3917-2.248-5.4271-2.248-2.0355 0-3.9878 0.8087-5.4271 2.248-1.4393 1.4393-2.248 3.3917-2.248 5.4271s0.8087 3.9878 2.248 5.4271c1.4393 1.4393 3.3917 2.248 5.4271 2.248z\" clip-path=\"url(#d67082f1927)\" fill=\"#eee198\" stroke=\"#d6cb89\" stroke-width=\"1.1587\"/><path d=\"m179.24 301.78c2.0355 0 3.9878-0.8087 5.4271-2.248 1.4393-1.4393 2.248-3.3917 2.248-5.4271s-0.8087-3.9878-2.248-5.4271c-1.4393-1.4393-3.3917-2.248-5.4271-2.248-2.0355 0-3.9878 0.8087-5.4271 2.248s-2.248 3.3917-2.248 5.4271 0.8087 3.9878 2.248 5.4271c1.4393 1.4393 3.3917 2.248 5.4271 2.248z\" clip-path=\"url(#d67082f1927)\" fill=\"#ebc329\" stroke=\"#d3af25\" stroke-width=\"1.1587\"/><path d=\"m231.94 60.107c2.0355 0 3.9878-0.8087 5.4271-2.248 1.4393-1.4393 2.248-3.3917 2.248-5.4271 0-2.0355-0.8087-3.9878-2.248-5.4271s-3.3917-2.248-5.4271-2.248-3.9878 0.8087-5.4271 2.248-2.248 3.3917-2.248 5.4271c0 2.0355 0.8087 3.9878 2.248 5.4271 1.4393 1.4393 3.3917 2.248 5.4271 2.248z\" clip-path=\"url(#d67082f1927)\" fill=\"#e8bc41\" stroke=\"#d1aa3b\" stroke-width=\"1.1587\"/><path d=\"m236.34 114.27c2.0355 0 3.9878-0.8087 5.4271-2.248s2.248-3.3917 2.248-5.4271c0-2.0355-0.8087-3.9878-2.248-5.4271-1.4393-1.4393-3.3917-2.248-5.4271-2.248s-3.9878 0.8087-5.4271 2.248c-1.4393 1.4393-2.248 3.3917-2.248 5.4271 0 2.0355 0.8087 3.9878 2.248 5.4271s3.3917 2.248 5.4271 2.248z\" clip-path=\"url(#d67082f1927)\" fill=\"#e6ce99\" stroke=\"#cfba89\" stroke-width=\"1.1587\"/><path d=\"m239.63 178.68c2.0355 0 3.9878-0.8087 5.4271-2.248s2.248-3.3917 2.248-5.4271-0.8087-3.9878-2.248-5.4271c-1.4393-1.4393-3.3917-2.248-5.4271-2.248-2.0355 0-3.9878 0.8087-5.4271 2.248-1.4393 1.4393-2.248 3.3917-2.248 5.4271s0.8087 3.9878 2.248 5.4271c1.4393 1.4393 3.3917 2.248 5.4271 2.248z\" clip-path=\"url(#d67082f1927)\" fill=\"#e2a846\" stroke=\"#cb973f\" stroke-width=\"1.1587\"/><path d=\"m241.61 243.09c2.0355 0 3.9878-0.8087 5.4271-2.248 1.4393-1.4393 2.248-3.3917 2.248-5.4271 0-2.0355-0.8087-3.9878-2.248-5.4271s-3.3917-2.248-5.4271-2.248-3.9878 0.8087-5.4271 2.248-2.248 3.3917-2.248 5.4271c0 2.0355 0.8087 3.9878 2.248 5.4271 1.4393 1.4393 3.3917 2.248 5.4271 2.248z\" clip-path=\"url(#d67082f1927)\" fill=\"#dd7e02\" stroke=\"#c77202\" stroke-width=\"1.1587\"/><path d=\"m241.64 297.3c2.0355 0 3.9878-0.8087 5.4271-2.248s2.248-3.3917 2.248-5.4271-0.8087-3.9878-2.248-5.4271-3.3917-2.248-5.4271-2.248-3.9878 0.8087-5.4271 2.248-2.248 3.3917-2.248 5.4271 0.8087 3.9878 2.248 5.4271 3.3917 2.248 5.4271 2.248z\" clip-path=\"url(#d67082f1927)\" fill=\"#d9a167\" stroke=\"#c3915d\" stroke-width=\"1.1587\"/><path d=\"m284.29 62.072c2.0355 0 3.9878-0.8087 5.4271-2.248 1.4393-1.4393 2.248-3.3917 2.248-5.4271 0-2.0355-0.8087-3.9878-2.248-5.4271-1.4393-1.4393-3.3917-2.248-5.4271-2.248s-3.9878 0.8087-5.4271 2.248c-1.4393 1.4393-2.248 3.3917-2.248 5.4271 0 2.0355 0.8087 3.9878 2.248 5.4271s3.3917 2.248 5.4271 2.248z\" clip-path=\"url(#d67082f1927)\" fill=\"#d5a681\" stroke=\"#c09574\" stroke-width=\"1.1587\"/><path d=\"m290.81 114.15c2.0355 0 3.9878-0.8087 5.4271-2.248s2.248-3.3917 2.248-5.4271-0.8087-3.9878-2.248-5.4271c-1.4393-1.4393-3.3917-2.248-5.4271-2.248-2.0355 0-3.9878 0.8087-5.4271 2.248-1.4393 1.4393-2.248 3.3917-2.248 5.4271s0.8087 3.9878 2.248 5.4271c1.4393 1.4393 3.3917 2.248 5.4271 2.248z\" clip-path=\"url(#d67082f1927)\" fill=\"#d36f3c\" stroke=\"#be6436\" stroke-width=\"1.1587\"/><path d=\"m295.13 176.4c2.0355 0 3.9878-0.8087 5.4271-2.248 1.4393-1.4393 2.248-3.3917 2.248-5.4271 0-2.0355-0.8087-3.9878-2.248-5.4271s-3.3917-2.248-5.4271-2.248c-2.0355 0-3.9878 0.8087-5.4271 2.248-1.4393 1.4393-2.248 3.3917-2.248 5.4271 0 2.0355 0.8087 3.9878 2.248 5.4271 1.4393 1.4393 3.3917 2.248 5.4271 2.248z\" clip-path=\"url(#d67082f1927)\" fill=\"#d07b68\" stroke=\"#bc6f5d\" stroke-width=\"1.1587\"/><path d=\"m295.82 238.8c2.0355 0 3.9878-0.8087 5.4271-2.248 1.4393-1.4393 2.248-3.3917 2.248-5.4271s-0.8087-3.9878-2.248-5.4271-3.3917-2.248-5.4271-2.248c-2.0355 0-3.9878 0.8087-5.4271 2.248-1.4393 1.4393-2.248 3.3917-2.248 5.4271s0.8087 3.9878 2.248 5.4271c1.4393 1.4393 3.3917 2.248 5.4271 2.248z\" clip-path=\"url(#d67082f1927)\" fill=\"#ceadb2\" stroke=\"#ba9ca0\" stroke-width=\"1.1587\"/><path d=\"m293.81 291.17c2.0355 0 3.9878-0.8087 5.4271-2.248 1.4393-1.4393 2.248-3.3917 2.248-5.4271s-0.8087-3.9878-2.248-5.4271-3.3917-2.248-5.4271-2.248-3.9878 0.8087-5.4271 2.248c-1.4393 1.4393-2.248 3.3917-2.248 5.4271s0.8087 3.9878 2.248 5.4271c1.4393 1.4393 3.3917 2.248 5.4271 2.248z\" clip-path=\"url(#d67082f1927)\" fill=\"#cc9ab6\" stroke=\"#b88aa3\" stroke-width=\"1.1587\"/><defs><clipPath id=\"d67082f1927\"><rect x=\"7.2\" y=\"7.2\" width=\"333.84\" height=\"332.64\"/></clipPath></defs></svg>"
      ],
      "text/plain": [
       "<Figure size 600x600 with 1 Axes>"
      ]
     },
     "metadata": {
      "needs_background": "light"
     },
     "output_type": "display_data"
    }
   ],
   "source": [
    "peps.draw(color=peps.site_tags)"
   ]
  },
  {
   "cell_type": "markdown",
   "id": "9958ada3-3ea5-4dcb-a705-b4f684fd7840",
   "metadata": {
    "raw_mimetype": "text/restructuredtext"
   },
   "source": [
    "## Combining 2D Tensor Networks\n",
    "\n",
    "When you combine two 2D tensor networks with the `&` or `|` operators the\n",
    "new combined TN will be `~quimb.tensor.tensor_2d.TensorNetwork2D` if they are\n",
    "compatible (i.e. all extra properties match). That means that if you combine two\n",
    "PEPS for example, the new object still has a boundary contraction method."
   ]
  },
  {
   "cell_type": "code",
   "execution_count": 9,
   "id": "49024af8-a881-4566-b229-481891c8750d",
   "metadata": {},
   "outputs": [
    {
     "data": {
      "text/html": [
       "<samp style='font-size: 12px;'><details><summary><b style=\"color: #dfe24e;\">TensorNetwork2D</b>(tensors=50, indices=105, Lx=5, Ly=5, max_bond=3)</summary><samp style='font-size: 12px;'><details><summary><b style=\"color: #e55471;\">Tensor</b>(shape=(<b style=\"color: #8a5bcf;\">3</b>, <b style=\"color: #8a5bcf;\">3</b>, <b style=\"color: #828fdd;\">2</b>), inds=[<b style=\"color: #c4d937;\">_aea46cAAAAA</b>, <b style=\"color: #cd7539;\">_aea46cAAAAB</b>, <b style=\"color: #5fce5e;\">k0,0</b>], tags={<b style=\"color: #8b77de;\">I0,0</b>, <b style=\"color: #d44388;\">X0</b>, <b style=\"color: #b1d42e;\">Y0</b>}),</summary>backend=<b style=\"color: #7fdd73;\">numpy</b>, dtype=<b style=\"color: #75d2c6;\">float64</b>, data=array([[[ 0.19758123, -0.20600803],\n",
       "        [-0.02115149, -0.30155026],\n",
       "        [ 0.08369179,  0.42321298]],\n",
       "\n",
       "       [[-0.78599677,  0.27198615],\n",
       "        [-0.01315806, -0.26534693],\n",
       "        [-0.00531344,  0.33645332]],\n",
       "\n",
       "       [[-0.57577375,  0.10554638],\n",
       "        [-0.07281841,  0.45726951],\n",
       "        [ 0.26362141, -0.08463805]]])</details></samp><samp style='font-size: 12px;'><details><summary><b style=\"color: #e55471;\">Tensor</b>(shape=(<b style=\"color: #8a5bcf;\">3</b>, <b style=\"color: #8a5bcf;\">3</b>, <b style=\"color: #8a5bcf;\">3</b>, <b style=\"color: #828fdd;\">2</b>), inds=[<b style=\"color: #85e5b7;\">_aea46cAAAAC</b>, <b style=\"color: #6dcd2c;\">_aea46cAAAAD</b>, <b style=\"color: #cd7539;\">_aea46cAAAAB</b>, <b style=\"color: #de9a98;\">k0,1</b>], tags={<b style=\"color: #92d399;\">I0,1</b>, <b style=\"color: #d44388;\">X0</b>, <b style=\"color: #6c45d0;\">Y1</b>}),</summary>backend=<b style=\"color: #7fdd73;\">numpy</b>, dtype=<b style=\"color: #75d2c6;\">float64</b>, data=array([[[[-0.0886793 ,  0.38960521],\n",
       "         [-0.07864096, -0.1405622 ],\n",
       "         [-0.27039043,  0.40912656]],\n",
       "\n",
       "        [[-0.25722849, -0.3621938 ],\n",
       "         [-0.01145245,  0.07481682],\n",
       "         [-0.04101569, -0.31399061]],\n",
       "\n",
       "        [[-0.0585233 ,  0.08844857],\n",
       "         [-0.34306234,  0.14325768],\n",
       "         [ 0.44382168, -0.17613362]]],\n",
       "\n",
       "\n",
       "       [[[-0.11086622, -0.07888345],\n",
       "         [-0.08731526, -0.1098593 ],\n",
       "         [-0.08997919, -0.25855771]],\n",
       "\n",
       "        [[-0.00974778, -0.06474578],\n",
       "         [-0.53768285,  0.26626594],\n",
       "         [ 0.1852418 , -0.17064799]],\n",
       "\n",
       "        [[-0.23546533,  0.10044162],\n",
       "         [-0.04641026, -0.33127844],\n",
       "         [ 0.31312999,  0.24287011]]],\n",
       "\n",
       "\n",
       "       [[[-0.41959896, -0.14805525],\n",
       "         [ 0.02569746, -0.49149678],\n",
       "         [-0.08605362,  0.07599989]],\n",
       "\n",
       "        [[-0.19989431, -0.1171608 ],\n",
       "         [-0.27427135, -0.18171656],\n",
       "         [-0.35111996, -0.0948195 ]],\n",
       "\n",
       "        [[ 0.33734665, -0.66881823],\n",
       "         [ 0.2574683 , -0.32198307],\n",
       "         [-0.44438948,  0.2297073 ]]]])</details></samp><samp style='font-size: 12px;'><details><summary><b style=\"color: #e55471;\">Tensor</b>(shape=(<b style=\"color: #8a5bcf;\">3</b>, <b style=\"color: #8a5bcf;\">3</b>, <b style=\"color: #8a5bcf;\">3</b>, <b style=\"color: #828fdd;\">2</b>), inds=[<b style=\"color: #e46344;\">_aea46cAAAAE</b>, <b style=\"color: #dfb396;\">_aea46cAAAAF</b>, <b style=\"color: #6dcd2c;\">_aea46cAAAAD</b>, <b style=\"color: #50d0ac;\">k0,2</b>], tags={<b style=\"color: #73d85d;\">I0,2</b>, <b style=\"color: #d44388;\">X0</b>, <b style=\"color: #3fdd7b;\">Y2</b>}),</summary>backend=<b style=\"color: #7fdd73;\">numpy</b>, dtype=<b style=\"color: #75d2c6;\">float64</b>, data=array([[[[ 0.00787712,  0.07483492],\n",
       "         [ 0.23423454, -0.41977078],\n",
       "         [-0.07098577, -0.08227457]],\n",
       "\n",
       "        [[ 0.58049387, -0.28265144],\n",
       "         [-0.50102255, -0.1383515 ],\n",
       "         [ 0.46154386,  0.15899825]],\n",
       "\n",
       "        [[-0.48357646, -0.32435753],\n",
       "         [-0.24554998, -0.0063898 ],\n",
       "         [-0.4288379 ,  0.28063253]]],\n",
       "\n",
       "\n",
       "       [[[ 0.4529943 ,  0.12319876],\n",
       "         [-0.12452825, -0.25212084],\n",
       "         [ 0.07434282,  0.07358095]],\n",
       "\n",
       "        [[-0.07124641, -0.06452709],\n",
       "         [-0.10609616,  0.06050403],\n",
       "         [-0.27691535,  0.18652204]],\n",
       "\n",
       "        [[ 0.18944672,  0.28066808],\n",
       "         [-0.26338667,  0.05858565],\n",
       "         [ 0.17191266,  0.09251535]]],\n",
       "\n",
       "\n",
       "       [[[-0.40473276, -0.77385977],\n",
       "         [ 0.15369863,  0.34102213],\n",
       "         [-0.3052184 ,  0.00141725]],\n",
       "\n",
       "        [[ 0.07717418,  0.39021751],\n",
       "         [ 0.37797629, -0.3581846 ],\n",
       "         [-0.00915705, -0.21592738]],\n",
       "\n",
       "        [[ 0.21857823,  0.02861824],\n",
       "         [-0.12619608,  0.21470106],\n",
       "         [ 0.26837599,  0.3497904 ]]]])</details></samp><samp style='font-size: 12px;'><details><summary><b style=\"color: #e55471;\">Tensor</b>(shape=(<b style=\"color: #8a5bcf;\">3</b>, <b style=\"color: #8a5bcf;\">3</b>, <b style=\"color: #8a5bcf;\">3</b>, <b style=\"color: #828fdd;\">2</b>), inds=[<b style=\"color: #e2bb43;\">_aea46cAAAAG</b>, <b style=\"color: #9cdde1;\">_aea46cAAAAH</b>, <b style=\"color: #dfb396;\">_aea46cAAAAF</b>, <b style=\"color: #69d040;\">k0,3</b>], tags={<b style=\"color: #deb79b;\">I0,3</b>, <b style=\"color: #d44388;\">X0</b>, <b style=\"color: #63d5a7;\">Y3</b>}),</summary>backend=<b style=\"color: #7fdd73;\">numpy</b>, dtype=<b style=\"color: #75d2c6;\">float64</b>, data=array([[[[-0.35302799, -0.18588165],\n",
       "         [ 0.06628363,  0.18146305],\n",
       "         [-0.64362369, -0.2252469 ]],\n",
       "\n",
       "        [[ 0.08364773,  0.01679925],\n",
       "         [ 0.18941434, -0.14216882],\n",
       "         [-0.07795615,  0.24121163]],\n",
       "\n",
       "        [[ 0.36766087,  0.18291524],\n",
       "         [ 0.48242292,  0.17032754],\n",
       "         [-0.18111091,  0.32120585]]],\n",
       "\n",
       "\n",
       "       [[[-0.73965826,  0.12207832],\n",
       "         [-0.21999   , -0.35361801],\n",
       "         [-0.36855658, -0.31388888]],\n",
       "\n",
       "        [[ 0.41657027,  0.14911351],\n",
       "         [-0.03321268, -0.036751  ],\n",
       "         [ 0.27384496, -0.24498083]],\n",
       "\n",
       "        [[ 0.35392829,  0.46963827],\n",
       "         [-0.28648917, -0.16491934],\n",
       "         [ 0.08454636,  0.3485048 ]]],\n",
       "\n",
       "\n",
       "       [[[-0.2487877 , -0.81637444],\n",
       "         [-0.11929533,  0.21710726],\n",
       "         [-0.05459544, -0.16750029]],\n",
       "\n",
       "        [[-0.12530134, -0.44630833],\n",
       "         [ 0.22974167, -0.14514381],\n",
       "         [ 0.32546501, -0.07342843]],\n",
       "\n",
       "        [[-0.26259823,  0.26310325],\n",
       "         [-0.1439656 ,  0.08012546],\n",
       "         [ 0.14057252, -0.31473198]]]])</details></samp><samp style='font-size: 12px;'><details><summary><b style=\"color: #e55471;\">Tensor</b>(shape=(<b style=\"color: #8a5bcf;\">3</b>, <b style=\"color: #8a5bcf;\">3</b>, <b style=\"color: #828fdd;\">2</b>), inds=[<b style=\"color: #63a5d3;\">_aea46cAAAAI</b>, <b style=\"color: #9cdde1;\">_aea46cAAAAH</b>, <b style=\"color: #e58de5;\">k0,4</b>], tags={<b style=\"color: #ce966e;\">I0,4</b>, <b style=\"color: #d44388;\">X0</b>, <b style=\"color: #37ce56;\">Y4</b>}),</summary>backend=<b style=\"color: #7fdd73;\">numpy</b>, dtype=<b style=\"color: #75d2c6;\">float64</b>, data=array([[[ 0.43152581, -0.23969586],\n",
       "        [-0.16808012,  0.08247557],\n",
       "        [ 0.33020835, -0.28069495]],\n",
       "\n",
       "       [[-0.15814594, -0.3455025 ],\n",
       "        [-0.4347297 , -0.65814361],\n",
       "        [ 0.24335002,  0.01839728]],\n",
       "\n",
       "       [[-0.18092796,  0.07677303],\n",
       "        [-0.27159058, -0.12283561],\n",
       "        [-0.37800116, -0.40040474]]])</details></samp><samp style='font-size: 12px;'><details><summary><b style=\"color: #e55471;\">Tensor</b>(shape=(<b style=\"color: #8a5bcf;\">3</b>, <b style=\"color: #8a5bcf;\">3</b>, <b style=\"color: #8a5bcf;\">3</b>, <b style=\"color: #828fdd;\">2</b>), inds=[<b style=\"color: #dc3c79;\">_aea46cAAAAJ</b>, <b style=\"color: #789cd2;\">_aea46cAAAAK</b>, <b style=\"color: #c4d937;\">_aea46cAAAAA</b>, <b style=\"color: #84ce75;\">k1,0</b>], tags={<b style=\"color: #c28de0;\">I1,0</b>, <b style=\"color: #6fe251;\">X1</b>, <b style=\"color: #b1d42e;\">Y0</b>}),</summary>backend=<b style=\"color: #7fdd73;\">numpy</b>, dtype=<b style=\"color: #75d2c6;\">float64</b>, data=array([[[[ 0.78977302,  0.20610627],\n",
       "         [-0.17232708, -0.32686794],\n",
       "         [ 0.12781562, -0.11373377]],\n",
       "\n",
       "        [[ 0.09609733,  0.32360355],\n",
       "         [-0.14147276,  0.08949845],\n",
       "         [-0.14720314, -0.19955648]],\n",
       "\n",
       "        [[-0.2027934 , -0.11879961],\n",
       "         [-0.14779857,  0.06389199],\n",
       "         [-0.06141446, -0.08943344]]],\n",
       "\n",
       "\n",
       "       [[[ 0.01172702,  0.65384372],\n",
       "         [-0.4016258 ,  0.62405045],\n",
       "         [ 0.0183161 , -0.42458339]],\n",
       "\n",
       "        [[ 0.00276003,  0.25519974],\n",
       "         [-0.29860681, -0.19277402],\n",
       "         [ 0.36346475,  0.07670103]],\n",
       "\n",
       "        [[-0.2414894 ,  0.04928607],\n",
       "         [-0.53921085,  0.55625126],\n",
       "         [ 0.33501048,  0.14937114]]],\n",
       "\n",
       "\n",
       "       [[[ 0.47162932,  0.17082597],\n",
       "         [ 0.06865947, -0.28654631],\n",
       "         [-0.46735522, -0.20633878]],\n",
       "\n",
       "        [[ 0.24972016, -0.17040072],\n",
       "         [ 0.15429501,  0.4294151 ],\n",
       "         [-0.19904102, -0.00177625]],\n",
       "\n",
       "        [[ 0.05496409,  0.03333935],\n",
       "         [-0.25443675,  0.27334373],\n",
       "         [ 0.05015645,  0.10742787]]]])</details></samp><samp style='font-size: 12px;'><details><summary><b style=\"color: #e55471;\">Tensor</b>(shape=(<b style=\"color: #8a5bcf;\">3</b>, <b style=\"color: #8a5bcf;\">3</b>, <b style=\"color: #8a5bcf;\">3</b>, <b style=\"color: #8a5bcf;\">3</b>, <b style=\"color: #828fdd;\">2</b>), inds=[<b style=\"color: #602ee1;\">_aea46cAAAAL</b>, <b style=\"color: #e0a79a;\">_aea46cAAAAM</b>, <b style=\"color: #85e5b7;\">_aea46cAAAAC</b>, <b style=\"color: #789cd2;\">_aea46cAAAAK</b>, <b style=\"color: #d29586;\">k1,1</b>], tags={<b style=\"color: #d67b97;\">I1,1</b>, <b style=\"color: #6fe251;\">X1</b>, <b style=\"color: #6c45d0;\">Y1</b>}),</summary>backend=<b style=\"color: #7fdd73;\">numpy</b>, dtype=<b style=\"color: #75d2c6;\">float64</b>, data=...</details></samp><samp style='font-size: 12px;'><details><summary><b style=\"color: #e55471;\">Tensor</b>(shape=(<b style=\"color: #8a5bcf;\">3</b>, <b style=\"color: #8a5bcf;\">3</b>, <b style=\"color: #8a5bcf;\">3</b>, <b style=\"color: #8a5bcf;\">3</b>, <b style=\"color: #828fdd;\">2</b>), inds=[<b style=\"color: #71d567;\">_aea46cAAAAN</b>, <b style=\"color: #ce33b7;\">_aea46cAAAAO</b>, <b style=\"color: #e46344;\">_aea46cAAAAE</b>, <b style=\"color: #e0a79a;\">_aea46cAAAAM</b>, <b style=\"color: #dd4dba;\">k1,2</b>], tags={<b style=\"color: #da64ad;\">I1,2</b>, <b style=\"color: #6fe251;\">X1</b>, <b style=\"color: #3fdd7b;\">Y2</b>}),</summary>backend=<b style=\"color: #7fdd73;\">numpy</b>, dtype=<b style=\"color: #75d2c6;\">float64</b>, data=...</details></samp><samp style='font-size: 12px;'><details><summary><b style=\"color: #e55471;\">Tensor</b>(shape=(<b style=\"color: #8a5bcf;\">3</b>, <b style=\"color: #8a5bcf;\">3</b>, <b style=\"color: #8a5bcf;\">3</b>, <b style=\"color: #8a5bcf;\">3</b>, <b style=\"color: #828fdd;\">2</b>), inds=[<b style=\"color: #7d89df;\">_aea46cAAAAP</b>, <b style=\"color: #327ad1;\">_aea46cAAAAQ</b>, <b style=\"color: #e2bb43;\">_aea46cAAAAG</b>, <b style=\"color: #ce33b7;\">_aea46cAAAAO</b>, <b style=\"color: #afe152;\">k1,3</b>], tags={<b style=\"color: #acd080;\">I1,3</b>, <b style=\"color: #6fe251;\">X1</b>, <b style=\"color: #63d5a7;\">Y3</b>}),</summary>backend=<b style=\"color: #7fdd73;\">numpy</b>, dtype=<b style=\"color: #75d2c6;\">float64</b>, data=...</details></samp><samp style='font-size: 12px;'><details><summary><b style=\"color: #e55471;\">Tensor</b>(shape=(<b style=\"color: #8a5bcf;\">3</b>, <b style=\"color: #8a5bcf;\">3</b>, <b style=\"color: #8a5bcf;\">3</b>, <b style=\"color: #828fdd;\">2</b>), inds=[<b style=\"color: #d4b38d;\">_aea46cAAAAR</b>, <b style=\"color: #63a5d3;\">_aea46cAAAAI</b>, <b style=\"color: #327ad1;\">_aea46cAAAAQ</b>, <b style=\"color: #cae55e;\">k1,4</b>], tags={<b style=\"color: #3ec8d1;\">I1,4</b>, <b style=\"color: #6fe251;\">X1</b>, <b style=\"color: #37ce56;\">Y4</b>}),</summary>backend=<b style=\"color: #7fdd73;\">numpy</b>, dtype=<b style=\"color: #75d2c6;\">float64</b>, data=array([[[[ 0.36548229, -0.26015584],\n",
       "         [ 0.14163331, -0.06427805],\n",
       "         [ 0.3257745 , -0.53845238]],\n",
       "\n",
       "        [[ 0.49660934,  0.35980179],\n",
       "         [ 0.35161007, -0.26212529],\n",
       "         [ 0.17691887, -0.41049041]],\n",
       "\n",
       "        [[ 0.35321357,  0.14903971],\n",
       "         [ 0.58041384, -0.14440401],\n",
       "         [ 0.10477843,  0.04271563]]],\n",
       "\n",
       "\n",
       "       [[[-0.18523296,  0.08600995],\n",
       "         [-0.00249853,  0.00309299],\n",
       "         [-0.38302772, -0.11931442]],\n",
       "\n",
       "        [[-0.01032181,  0.35569799],\n",
       "         [-0.1177868 ,  0.09307973],\n",
       "         [-0.32977233,  0.31827419]],\n",
       "\n",
       "        [[-0.01066864,  0.5333739 ],\n",
       "         [-0.51256   ,  0.03966059],\n",
       "         [ 0.25838267, -0.18445352]]],\n",
       "\n",
       "\n",
       "       [[[ 0.45910942,  0.03237033],\n",
       "         [ 0.1103594 , -0.06656127],\n",
       "         [-0.28261971,  0.47622606]],\n",
       "\n",
       "        [[ 0.2713872 ,  0.22772949],\n",
       "         [-0.70921321, -0.6142656 ],\n",
       "         [-0.22789126, -0.07517024]],\n",
       "\n",
       "        [[-0.18087422,  0.29178375],\n",
       "         [-0.17016618, -0.13840751],\n",
       "         [-0.15878981, -0.07968   ]]]])</details></samp><samp style='font-size: 12px;'><details><summary><b style=\"color: #e55471;\">Tensor</b>(shape=(<b style=\"color: #8a5bcf;\">3</b>, <b style=\"color: #8a5bcf;\">3</b>, <b style=\"color: #8a5bcf;\">3</b>, <b style=\"color: #828fdd;\">2</b>), inds=[<b style=\"color: #db635e;\">_aea46cAAAAS</b>, <b style=\"color: #d0874e;\">_aea46cAAAAT</b>, <b style=\"color: #dc3c79;\">_aea46cAAAAJ</b>, <b style=\"color: #aa87d0;\">k2,0</b>], tags={<b style=\"color: #d472d0;\">I2,0</b>, <b style=\"color: #c654d5;\">X2</b>, <b style=\"color: #b1d42e;\">Y0</b>}),</summary>backend=<b style=\"color: #7fdd73;\">numpy</b>, dtype=<b style=\"color: #75d2c6;\">float64</b>, data=array([[[[-0.38056033,  0.24804757],\n",
       "         [-0.07572871, -0.13027434],\n",
       "         [-0.30343203,  0.09497906]],\n",
       "\n",
       "        [[ 0.08621316, -0.30894061],\n",
       "         [-0.07400557,  0.2997675 ],\n",
       "         [ 0.13113942, -0.02904785]],\n",
       "\n",
       "        [[-0.47955682,  0.73818644],\n",
       "         [-0.08958236, -0.44780715],\n",
       "         [-0.27007575, -0.09415205]]],\n",
       "\n",
       "\n",
       "       [[[-0.1108852 ,  0.0971295 ],\n",
       "         [-0.19637978, -0.23722133],\n",
       "         [-0.3326612 , -0.14791084]],\n",
       "\n",
       "        [[-0.1607138 , -0.3585758 ],\n",
       "         [ 0.17374931,  0.07621275],\n",
       "         [-0.13889808,  0.31498138]],\n",
       "\n",
       "        [[-0.00429754,  0.35580526],\n",
       "         [ 0.23141829, -0.10033515],\n",
       "         [ 0.08118212, -0.37380152]]],\n",
       "\n",
       "\n",
       "       [[[ 0.28702139, -0.00675585],\n",
       "         [ 0.26061321,  0.16028784],\n",
       "         [ 0.58456152,  0.66808804]],\n",
       "\n",
       "        [[ 0.12426176, -0.21271792],\n",
       "         [-0.57620289,  0.1145728 ],\n",
       "         [-0.12986616, -0.36577064]],\n",
       "\n",
       "        [[ 0.18087245,  0.12187611],\n",
       "         [ 0.2093346 , -0.4805098 ],\n",
       "         [ 0.38713581, -0.1013577 ]]]])</details></samp><samp style='font-size: 12px;'><details><summary><b style=\"color: #e55471;\">Tensor</b>(shape=(<b style=\"color: #8a5bcf;\">3</b>, <b style=\"color: #8a5bcf;\">3</b>, <b style=\"color: #8a5bcf;\">3</b>, <b style=\"color: #8a5bcf;\">3</b>, <b style=\"color: #828fdd;\">2</b>), inds=[<b style=\"color: #de9781;\">_aea46cAAAAU</b>, <b style=\"color: #8ed580;\">_aea46cAAAAV</b>, <b style=\"color: #602ee1;\">_aea46cAAAAL</b>, <b style=\"color: #d0874e;\">_aea46cAAAAT</b>, <b style=\"color: #e1962d;\">k2,1</b>], tags={<b style=\"color: #77df7d;\">I2,1</b>, <b style=\"color: #c654d5;\">X2</b>, <b style=\"color: #6c45d0;\">Y1</b>}),</summary>backend=<b style=\"color: #7fdd73;\">numpy</b>, dtype=<b style=\"color: #75d2c6;\">float64</b>, data=...</details></samp><samp style='font-size: 12px;'><details><summary><b style=\"color: #e55471;\">Tensor</b>(shape=(<b style=\"color: #8a5bcf;\">3</b>, <b style=\"color: #8a5bcf;\">3</b>, <b style=\"color: #8a5bcf;\">3</b>, <b style=\"color: #8a5bcf;\">3</b>, <b style=\"color: #828fdd;\">2</b>), inds=[<b style=\"color: #d26acc;\">_aea46cAAAAW</b>, <b style=\"color: #8873d9;\">_aea46cAAAAX</b>, <b style=\"color: #71d567;\">_aea46cAAAAN</b>, <b style=\"color: #8ed580;\">_aea46cAAAAV</b>, <b style=\"color: #936adf;\">k2,2</b>], tags={<b style=\"color: #ceb179;\">I2,2</b>, <b style=\"color: #c654d5;\">X2</b>, <b style=\"color: #3fdd7b;\">Y2</b>}),</summary>backend=<b style=\"color: #7fdd73;\">numpy</b>, dtype=<b style=\"color: #75d2c6;\">float64</b>, data=...</details></samp><samp style='font-size: 12px;'><details><summary><b style=\"color: #e55471;\">Tensor</b>(shape=(<b style=\"color: #8a5bcf;\">3</b>, <b style=\"color: #8a5bcf;\">3</b>, <b style=\"color: #8a5bcf;\">3</b>, <b style=\"color: #8a5bcf;\">3</b>, <b style=\"color: #828fdd;\">2</b>), inds=[<b style=\"color: #928bd4;\">_aea46cAAAAY</b>, <b style=\"color: #b58bd6;\">_aea46cAAAAZ</b>, <b style=\"color: #7d89df;\">_aea46cAAAAP</b>, <b style=\"color: #8873d9;\">_aea46cAAAAX</b>, <b style=\"color: #8541d1;\">k2,3</b>], tags={<b style=\"color: #dfd34b;\">I2,3</b>, <b style=\"color: #c654d5;\">X2</b>, <b style=\"color: #63d5a7;\">Y3</b>}),</summary>backend=<b style=\"color: #7fdd73;\">numpy</b>, dtype=<b style=\"color: #75d2c6;\">float64</b>, data=...</details></samp><samp style='font-size: 12px;'><details><summary><b style=\"color: #e55471;\">Tensor</b>(shape=(<b style=\"color: #8a5bcf;\">3</b>, <b style=\"color: #8a5bcf;\">3</b>, <b style=\"color: #8a5bcf;\">3</b>, <b style=\"color: #828fdd;\">2</b>), inds=[<b style=\"color: #38a2d0;\">_aea46cAAAAa</b>, <b style=\"color: #d4b38d;\">_aea46cAAAAR</b>, <b style=\"color: #b58bd6;\">_aea46cAAAAZ</b>, <b style=\"color: #e35cac;\">k2,4</b>], tags={<b style=\"color: #cd4e47;\">I2,4</b>, <b style=\"color: #c654d5;\">X2</b>, <b style=\"color: #37ce56;\">Y4</b>}),</summary>backend=<b style=\"color: #7fdd73;\">numpy</b>, dtype=<b style=\"color: #75d2c6;\">float64</b>, data=array([[[[ 0.01567375, -0.09310011],\n",
       "         [ 0.24768273, -0.11738978],\n",
       "         [-0.251629  , -0.1782275 ]],\n",
       "\n",
       "        [[-0.26829665,  0.31267077],\n",
       "         [-0.22495458, -0.12581883],\n",
       "         [ 0.26748041, -0.66605332]],\n",
       "\n",
       "        [[-0.023022  ,  0.11326969],\n",
       "         [ 0.18469781, -0.55483234],\n",
       "         [ 0.32973489,  0.27550022]]],\n",
       "\n",
       "\n",
       "       [[[ 0.10759164, -0.63445143],\n",
       "         [ 0.03337969,  0.25331677],\n",
       "         [ 0.45157972, -0.17408386]],\n",
       "\n",
       "        [[ 0.20383984,  0.45867942],\n",
       "         [ 0.01499983, -0.2965261 ],\n",
       "         [-0.19994835,  0.14174105]],\n",
       "\n",
       "        [[ 0.19374226, -0.60597725],\n",
       "         [ 0.49222259,  0.19789102],\n",
       "         [ 0.20171385,  0.0422929 ]]],\n",
       "\n",
       "\n",
       "       [[[-0.26715396, -0.16995193],\n",
       "         [ 0.34863328,  0.45914815],\n",
       "         [ 0.08663278,  0.61174177]],\n",
       "\n",
       "        [[ 0.22506451, -0.12569846],\n",
       "         [-0.27588113, -0.29585981],\n",
       "         [ 0.17803576,  0.11039606]],\n",
       "\n",
       "        [[-0.03518468, -0.36600593],\n",
       "         [ 0.64683561,  0.09689121],\n",
       "         [-0.27371473, -0.15114634]]]])</details></samp><samp style='font-size: 12px;'><details><summary><b style=\"color: #e55471;\">Tensor</b>(shape=(<b style=\"color: #8a5bcf;\">3</b>, <b style=\"color: #8a5bcf;\">3</b>, <b style=\"color: #8a5bcf;\">3</b>, <b style=\"color: #828fdd;\">2</b>), inds=[<b style=\"color: #35c8cc;\">_aea46cAAAAb</b>, <b style=\"color: #cc3048;\">_aea46cAAAAc</b>, <b style=\"color: #db635e;\">_aea46cAAAAS</b>, <b style=\"color: #42d58f;\">k3,0</b>], tags={<b style=\"color: #57ccd3;\">I3,0</b>, <b style=\"color: #e5db50;\">X3</b>, <b style=\"color: #b1d42e;\">Y0</b>}),</summary>backend=<b style=\"color: #7fdd73;\">numpy</b>, dtype=<b style=\"color: #75d2c6;\">float64</b>, data=array([[[[-0.03287723,  0.22373023],\n",
       "         [ 0.21720609, -0.12940337],\n",
       "         [ 0.26421373,  0.12598597]],\n",
       "\n",
       "        [[-0.05993477,  0.23901176],\n",
       "         [-0.5080131 ,  0.1581344 ],\n",
       "         [-0.2468453 , -0.24597057]],\n",
       "\n",
       "        [[ 0.05509204,  0.20433684],\n",
       "         [ 0.25810118,  0.6133055 ],\n",
       "         [ 0.12314849,  0.09794608]]],\n",
       "\n",
       "\n",
       "       [[[ 0.26466672,  0.46330901],\n",
       "         [-0.37261901, -0.14613522],\n",
       "         [-0.04725875, -0.05370155]],\n",
       "\n",
       "        [[-0.21671809, -0.6030256 ],\n",
       "         [ 0.18518784,  0.51043185],\n",
       "         [ 0.17336402,  0.17334707]],\n",
       "\n",
       "        [[ 0.23415478,  0.31106511],\n",
       "         [-0.08608762,  0.33643773],\n",
       "         [-0.02513669,  0.29852203]]],\n",
       "\n",
       "\n",
       "       [[[ 0.11660528, -0.63708811],\n",
       "         [ 0.29317834,  0.55391842],\n",
       "         [ 0.22281977,  0.02624954]],\n",
       "\n",
       "        [[-0.61615086,  0.31477655],\n",
       "         [-0.21857305, -0.23485264],\n",
       "         [-0.07015365,  0.18019487]],\n",
       "\n",
       "        [[ 0.47228582, -0.02025982],\n",
       "         [ 0.03324436, -0.05201856],\n",
       "         [ 0.08216902, -0.15068886]]]])</details></samp><samp style='font-size: 12px;'><details><summary><b style=\"color: #e55471;\">Tensor</b>(shape=(<b style=\"color: #8a5bcf;\">3</b>, <b style=\"color: #8a5bcf;\">3</b>, <b style=\"color: #8a5bcf;\">3</b>, <b style=\"color: #8a5bcf;\">3</b>, <b style=\"color: #828fdd;\">2</b>), inds=[<b style=\"color: #cda265;\">_aea46cAAAAd</b>, <b style=\"color: #d69a57;\">_aea46cAAAAe</b>, <b style=\"color: #de9781;\">_aea46cAAAAU</b>, <b style=\"color: #cc3048;\">_aea46cAAAAc</b>, <b style=\"color: #cf3298;\">k3,1</b>], tags={<b style=\"color: #98d482;\">I3,1</b>, <b style=\"color: #e5db50;\">X3</b>, <b style=\"color: #6c45d0;\">Y1</b>}),</summary>backend=<b style=\"color: #7fdd73;\">numpy</b>, dtype=<b style=\"color: #75d2c6;\">float64</b>, data=...</details></samp><samp style='font-size: 12px;'><details><summary><b style=\"color: #e55471;\">Tensor</b>(shape=(<b style=\"color: #8a5bcf;\">3</b>, <b style=\"color: #8a5bcf;\">3</b>, <b style=\"color: #8a5bcf;\">3</b>, <b style=\"color: #8a5bcf;\">3</b>, <b style=\"color: #828fdd;\">2</b>), inds=[<b style=\"color: #e1945c;\">_aea46cAAAAf</b>, <b style=\"color: #dbdf8e;\">_aea46cAAAAg</b>, <b style=\"color: #d26acc;\">_aea46cAAAAW</b>, <b style=\"color: #d69a57;\">_aea46cAAAAe</b>, <b style=\"color: #5b8bd1;\">k3,2</b>], tags={<b style=\"color: #da8d92;\">I3,2</b>, <b style=\"color: #e5db50;\">X3</b>, <b style=\"color: #3fdd7b;\">Y2</b>}),</summary>backend=<b style=\"color: #7fdd73;\">numpy</b>, dtype=<b style=\"color: #75d2c6;\">float64</b>, data=...</details></samp><samp style='font-size: 12px;'><details><summary><b style=\"color: #e55471;\">Tensor</b>(shape=(<b style=\"color: #8a5bcf;\">3</b>, <b style=\"color: #8a5bcf;\">3</b>, <b style=\"color: #8a5bcf;\">3</b>, <b style=\"color: #8a5bcf;\">3</b>, <b style=\"color: #828fdd;\">2</b>), inds=[<b style=\"color: #37dfd4;\">_aea46cAAAAh</b>, <b style=\"color: #c730e4;\">_aea46cAAAAi</b>, <b style=\"color: #928bd4;\">_aea46cAAAAY</b>, <b style=\"color: #dbdf8e;\">_aea46cAAAAg</b>, <b style=\"color: #5daed7;\">k3,3</b>], tags={<b style=\"color: #7fd635;\">I3,3</b>, <b style=\"color: #e5db50;\">X3</b>, <b style=\"color: #63d5a7;\">Y3</b>}),</summary>backend=<b style=\"color: #7fdd73;\">numpy</b>, dtype=<b style=\"color: #75d2c6;\">float64</b>, data=...</details></samp><samp style='font-size: 12px;'><details><summary><b style=\"color: #e55471;\">Tensor</b>(shape=(<b style=\"color: #8a5bcf;\">3</b>, <b style=\"color: #8a5bcf;\">3</b>, <b style=\"color: #8a5bcf;\">3</b>, <b style=\"color: #828fdd;\">2</b>), inds=[<b style=\"color: #5bd196;\">_aea46cAAAAj</b>, <b style=\"color: #38a2d0;\">_aea46cAAAAa</b>, <b style=\"color: #c730e4;\">_aea46cAAAAi</b>, <b style=\"color: #d9738c;\">k3,4</b>], tags={<b style=\"color: #9f91da;\">I3,4</b>, <b style=\"color: #e5db50;\">X3</b>, <b style=\"color: #37ce56;\">Y4</b>}),</summary>backend=<b style=\"color: #7fdd73;\">numpy</b>, dtype=<b style=\"color: #75d2c6;\">float64</b>, data=array([[[[-0.02785434, -0.19377183],\n",
       "         [ 0.13567531, -0.10062713],\n",
       "         [-0.07749432,  0.35753385]],\n",
       "\n",
       "        [[-0.25709318, -0.08090333],\n",
       "         [ 0.10074147,  0.21459987],\n",
       "         [-0.05594702,  0.48585484]],\n",
       "\n",
       "        [[-0.02995602, -0.12112102],\n",
       "         [ 0.14817227,  0.37143844],\n",
       "         [ 0.09314821,  0.2501424 ]]],\n",
       "\n",
       "\n",
       "       [[[-0.22927907, -0.16533426],\n",
       "         [-0.19022857, -0.49516235],\n",
       "         [ 0.03630534, -0.491662  ]],\n",
       "\n",
       "        [[ 0.66526663, -0.06528429],\n",
       "         [ 0.19440541, -0.33161728],\n",
       "         [-0.22234613, -0.22712846]],\n",
       "\n",
       "        [[-0.21079084, -0.07107046],\n",
       "         [-0.19357984, -0.570392  ],\n",
       "         [ 0.49999969,  0.07619666]]],\n",
       "\n",
       "\n",
       "       [[[-0.36850847,  0.26388082],\n",
       "         [-0.02058343, -0.5785781 ],\n",
       "         [-0.13305771, -0.17363738]],\n",
       "\n",
       "        [[-0.01600171, -0.25669566],\n",
       "         [-0.07669599,  0.34866238],\n",
       "         [ 0.53794805, -0.77247211]],\n",
       "\n",
       "        [[ 0.46701018, -0.03136358],\n",
       "         [-0.36865922,  0.55544779],\n",
       "         [-0.05441975,  0.31138795]]]])</details></samp><samp style='font-size: 12px;'><details><summary><b style=\"color: #e55471;\">Tensor</b>(shape=(<b style=\"color: #8a5bcf;\">3</b>, <b style=\"color: #8a5bcf;\">3</b>, <b style=\"color: #828fdd;\">2</b>), inds=[<b style=\"color: #5ccd9d;\">_aea46cAAAAk</b>, <b style=\"color: #35c8cc;\">_aea46cAAAAb</b>, <b style=\"color: #cb7de2;\">k4,0</b>], tags={<b style=\"color: #d54a8d;\">I4,0</b>, <b style=\"color: #6ae463;\">X4</b>, <b style=\"color: #b1d42e;\">Y0</b>}),</summary>backend=<b style=\"color: #7fdd73;\">numpy</b>, dtype=<b style=\"color: #75d2c6;\">float64</b>, data=array([[[-0.03622255, -0.64783791],\n",
       "        [-0.35413836, -0.06839641],\n",
       "        [-0.26610905, -0.4381159 ]],\n",
       "\n",
       "       [[ 0.30796793, -0.02458458],\n",
       "        [ 0.29830521, -0.13475392],\n",
       "        [ 0.05871056, -0.29670865]],\n",
       "\n",
       "       [[ 0.08531347, -0.27240719],\n",
       "        [ 0.03741549,  0.46378323],\n",
       "        [-0.29799446, -0.68974713]]])</details></samp><samp style='font-size: 12px;'><details><summary><b style=\"color: #e55471;\">Tensor</b>(shape=(<b style=\"color: #8a5bcf;\">3</b>, <b style=\"color: #8a5bcf;\">3</b>, <b style=\"color: #8a5bcf;\">3</b>, <b style=\"color: #828fdd;\">2</b>), inds=[<b style=\"color: #da8c79;\">_aea46cAAAAl</b>, <b style=\"color: #cda265;\">_aea46cAAAAd</b>, <b style=\"color: #5ccd9d;\">_aea46cAAAAk</b>, <b style=\"color: #70da4e;\">k4,1</b>], tags={<b style=\"color: #6373d7;\">I4,1</b>, <b style=\"color: #6ae463;\">X4</b>, <b style=\"color: #6c45d0;\">Y1</b>}),</summary>backend=<b style=\"color: #7fdd73;\">numpy</b>, dtype=<b style=\"color: #75d2c6;\">float64</b>, data=array([[[[ 7.32071132e-02,  1.63793612e-01],\n",
       "         [ 1.95103932e-02,  6.34924932e-02],\n",
       "         [-1.86589186e-01,  5.02850574e-01]],\n",
       "\n",
       "        [[ 2.21822008e-02,  1.45419471e-01],\n",
       "         [ 1.70098419e-02, -3.45904379e-01],\n",
       "         [ 1.17070971e-01,  7.49301787e-01]],\n",
       "\n",
       "        [[ 1.82502382e-01,  1.30361449e-01],\n",
       "         [-6.40960880e-02, -6.50550425e-01],\n",
       "         [-1.58615286e-01, -2.17396291e-01]]],\n",
       "\n",
       "\n",
       "       [[[ 3.36823530e-01,  4.77320168e-01],\n",
       "         [ 3.33942936e-02, -3.22675181e-01],\n",
       "         [ 3.00501540e-01, -1.30890164e-01]],\n",
       "\n",
       "        [[-4.93261133e-02,  1.80571112e-01],\n",
       "         [-8.34259724e-02, -1.36661366e-01],\n",
       "         [ 6.47967822e-01,  2.89957316e-01]],\n",
       "\n",
       "        [[ 3.51996531e-01, -2.58543810e-01],\n",
       "         [ 3.93574280e-01,  2.09913863e-01],\n",
       "         [-1.49833263e-04, -3.14774589e-01]]],\n",
       "\n",
       "\n",
       "       [[[ 1.95185567e-01, -3.00442172e-01],\n",
       "         [ 5.46766593e-01,  2.17461520e-01],\n",
       "         [ 5.47755703e-01,  1.47049000e-01]],\n",
       "\n",
       "        [[-2.89939243e-02, -2.29325724e-01],\n",
       "         [-2.19042143e-01, -5.19124212e-01],\n",
       "         [-2.76151915e-01, -3.36271916e-01]],\n",
       "\n",
       "        [[ 5.01194142e-01,  1.12354943e-01],\n",
       "         [-2.74712104e-01,  1.17000234e-01],\n",
       "         [ 1.01969558e-02, -1.37528548e-01]]]])</details></samp><samp style='font-size: 12px;'><details><summary><b style=\"color: #e55471;\">Tensor</b>(shape=(<b style=\"color: #8a5bcf;\">3</b>, <b style=\"color: #8a5bcf;\">3</b>, <b style=\"color: #8a5bcf;\">3</b>, <b style=\"color: #828fdd;\">2</b>), inds=[<b style=\"color: #3ed44e;\">_aea46cAAAAm</b>, <b style=\"color: #e1945c;\">_aea46cAAAAf</b>, <b style=\"color: #da8c79;\">_aea46cAAAAl</b>, <b style=\"color: #d63d6a;\">k4,2</b>], tags={<b style=\"color: #48d235;\">I4,2</b>, <b style=\"color: #6ae463;\">X4</b>, <b style=\"color: #3fdd7b;\">Y2</b>}),</summary>backend=<b style=\"color: #7fdd73;\">numpy</b>, dtype=<b style=\"color: #75d2c6;\">float64</b>, data=array([[[[-0.04691427,  0.04518512],\n",
       "         [-0.48821014,  0.14472043],\n",
       "         [ 0.2289111 , -0.49996531]],\n",
       "\n",
       "        [[-0.22946103, -0.56242939],\n",
       "         [-0.1519321 , -0.08036349],\n",
       "         [-0.07974806, -0.12597931]],\n",
       "\n",
       "        [[ 0.16025181,  0.3009493 ],\n",
       "         [-0.21928384, -0.14216206],\n",
       "         [-0.56038647,  0.15624933]]],\n",
       "\n",
       "\n",
       "       [[[ 0.24839524, -0.28966023],\n",
       "         [-0.20838007, -0.18817065],\n",
       "         [ 0.17665091, -0.02378777]],\n",
       "\n",
       "        [[ 0.35291229, -0.26963928],\n",
       "         [ 0.16652744,  0.39175549],\n",
       "         [ 0.00254081, -0.59435346]],\n",
       "\n",
       "        [[ 0.36046884, -0.19522254],\n",
       "         [-0.00934237,  0.10191553],\n",
       "         [-0.62675368,  0.20896072]]],\n",
       "\n",
       "\n",
       "       [[[ 0.22663422, -0.21799479],\n",
       "         [-0.10634787, -0.2027503 ],\n",
       "         [ 0.68532395, -0.02940163]],\n",
       "\n",
       "        [[ 0.1583736 ,  0.1362018 ],\n",
       "         [-0.14871838,  0.16141379],\n",
       "         [ 0.33185367,  0.43178459]],\n",
       "\n",
       "        [[-0.06391033,  0.27971557],\n",
       "         [-0.20968179, -0.51190256],\n",
       "         [ 0.29081901,  0.09433118]]]])</details></samp><samp style='font-size: 12px;'><details><summary><b style=\"color: #e55471;\">Tensor</b>(shape=(<b style=\"color: #8a5bcf;\">3</b>, <b style=\"color: #8a5bcf;\">3</b>, <b style=\"color: #8a5bcf;\">3</b>, <b style=\"color: #828fdd;\">2</b>), inds=[<b style=\"color: #b73ace;\">_aea46cAAAAn</b>, <b style=\"color: #37dfd4;\">_aea46cAAAAh</b>, <b style=\"color: #3ed44e;\">_aea46cAAAAm</b>, <b style=\"color: #74cce3;\">k4,3</b>], tags={<b style=\"color: #cfcb31;\">I4,3</b>, <b style=\"color: #6ae463;\">X4</b>, <b style=\"color: #63d5a7;\">Y3</b>}),</summary>backend=<b style=\"color: #7fdd73;\">numpy</b>, dtype=<b style=\"color: #75d2c6;\">float64</b>, data=array([[[[-0.04268813,  0.65947468],\n",
       "         [-0.00643255, -0.57697121],\n",
       "         [ 0.57728807,  0.70715589]],\n",
       "\n",
       "        [[-0.02511551,  0.29979619],\n",
       "         [ 0.25984809,  0.37272275],\n",
       "         [-0.23439044, -0.13467509]],\n",
       "\n",
       "        [[ 0.06414487,  0.11633378],\n",
       "         [-0.17244477, -0.11933729],\n",
       "         [-0.06883606,  0.03145422]]],\n",
       "\n",
       "\n",
       "       [[[-0.40488939,  0.19470758],\n",
       "         [ 0.12764037, -0.56489277],\n",
       "         [-0.18223419, -0.34254078]],\n",
       "\n",
       "        [[ 0.41968604,  0.19940955],\n",
       "         [ 0.21937432,  0.17137236],\n",
       "         [-0.09779707, -0.3709037 ]],\n",
       "\n",
       "        [[ 0.09661398, -0.59484165],\n",
       "         [ 0.16929148,  0.24812902],\n",
       "         [ 0.23701328,  0.24395429]]],\n",
       "\n",
       "\n",
       "       [[[-0.01667156, -0.10023877],\n",
       "         [-0.00398862, -0.02343363],\n",
       "         [ 0.47390102,  0.32692523]],\n",
       "\n",
       "        [[ 0.70393136,  0.02803209],\n",
       "         [-0.21699308, -0.21125616],\n",
       "         [ 0.30153273,  0.38770508]],\n",
       "\n",
       "        [[-0.16267959, -0.18765657],\n",
       "         [ 0.00855063, -0.16643927],\n",
       "         [-0.19250898,  0.23623521]]]])</details></samp><samp style='font-size: 12px;'><details><summary><b style=\"color: #e55471;\">Tensor</b>(shape=(<b style=\"color: #8a5bcf;\">3</b>, <b style=\"color: #8a5bcf;\">3</b>, <b style=\"color: #828fdd;\">2</b>), inds=[<b style=\"color: #5bd196;\">_aea46cAAAAj</b>, <b style=\"color: #b73ace;\">_aea46cAAAAn</b>, <b style=\"color: #de828e;\">k4,4</b>], tags={<b style=\"color: #8556e3;\">I4,4</b>, <b style=\"color: #6ae463;\">X4</b>, <b style=\"color: #37ce56;\">Y4</b>}),</summary>backend=<b style=\"color: #7fdd73;\">numpy</b>, dtype=<b style=\"color: #75d2c6;\">float64</b>, data=array([[[ 0.04200821,  0.31899505],\n",
       "        [-0.21784933, -0.42481105],\n",
       "        [-0.45498257,  0.35867999]],\n",
       "\n",
       "       [[ 0.24995048, -0.17124387],\n",
       "        [ 0.52845545,  0.69610531],\n",
       "        [ 0.18589178, -0.07414434]],\n",
       "\n",
       "       [[-0.25978338, -0.16469329],\n",
       "        [ 0.01989423, -0.17488996],\n",
       "        [-0.23159834, -0.48782655]]])</details></samp><samp style='font-size: 12px;'><details><summary><b style=\"color: #e55471;\">Tensor</b>(shape=(<b style=\"color: #8a5bcf;\">3</b>, <b style=\"color: #8a5bcf;\">3</b>, <b style=\"color: #828fdd;\">2</b>), inds=[<b style=\"color: #65c4e1;\">_aea46cAAAAs</b>, <b style=\"color: #96d5dd;\">_aea46cAAAAo</b>, <b style=\"color: #5fce5e;\">k0,0</b>], tags={<b style=\"color: #8b77de;\">I0,0</b>, <b style=\"color: #d44388;\">X0</b>, <b style=\"color: #b1d42e;\">Y0</b>}),</summary>backend=<b style=\"color: #7fdd73;\">numpy</b>, dtype=<b style=\"color: #75d2c6;\">float64</b>, data=array([[[ 0.19758123, -0.20600803],\n",
       "        [-0.02115149, -0.30155026],\n",
       "        [ 0.08369179,  0.42321298]],\n",
       "\n",
       "       [[-0.78599677,  0.27198615],\n",
       "        [-0.01315806, -0.26534693],\n",
       "        [-0.00531344,  0.33645332]],\n",
       "\n",
       "       [[-0.57577375,  0.10554638],\n",
       "        [-0.07281841,  0.45726951],\n",
       "        [ 0.26362141, -0.08463805]]])</details></samp><samp style='font-size: 12px;'><details><summary><b style=\"color: #e55471;\">Tensor</b>(shape=(<b style=\"color: #8a5bcf;\">3</b>, <b style=\"color: #8a5bcf;\">3</b>, <b style=\"color: #8a5bcf;\">3</b>, <b style=\"color: #828fdd;\">2</b>), inds=[<b style=\"color: #665fe5;\">_aea46cAAAAt</b>, <b style=\"color: #c8da36;\">_aea46cAAAAp</b>, <b style=\"color: #96d5dd;\">_aea46cAAAAo</b>, <b style=\"color: #de9a98;\">k0,1</b>], tags={<b style=\"color: #92d399;\">I0,1</b>, <b style=\"color: #d44388;\">X0</b>, <b style=\"color: #6c45d0;\">Y1</b>}),</summary>backend=<b style=\"color: #7fdd73;\">numpy</b>, dtype=<b style=\"color: #75d2c6;\">float64</b>, data=array([[[[-0.0886793 ,  0.38960521],\n",
       "         [-0.07864096, -0.1405622 ],\n",
       "         [-0.27039043,  0.40912656]],\n",
       "\n",
       "        [[-0.25722849, -0.3621938 ],\n",
       "         [-0.01145245,  0.07481682],\n",
       "         [-0.04101569, -0.31399061]],\n",
       "\n",
       "        [[-0.0585233 ,  0.08844857],\n",
       "         [-0.34306234,  0.14325768],\n",
       "         [ 0.44382168, -0.17613362]]],\n",
       "\n",
       "\n",
       "       [[[-0.11086622, -0.07888345],\n",
       "         [-0.08731526, -0.1098593 ],\n",
       "         [-0.08997919, -0.25855771]],\n",
       "\n",
       "        [[-0.00974778, -0.06474578],\n",
       "         [-0.53768285,  0.26626594],\n",
       "         [ 0.1852418 , -0.17064799]],\n",
       "\n",
       "        [[-0.23546533,  0.10044162],\n",
       "         [-0.04641026, -0.33127844],\n",
       "         [ 0.31312999,  0.24287011]]],\n",
       "\n",
       "\n",
       "       [[[-0.41959896, -0.14805525],\n",
       "         [ 0.02569746, -0.49149678],\n",
       "         [-0.08605362,  0.07599989]],\n",
       "\n",
       "        [[-0.19989431, -0.1171608 ],\n",
       "         [-0.27427135, -0.18171656],\n",
       "         [-0.35111996, -0.0948195 ]],\n",
       "\n",
       "        [[ 0.33734665, -0.66881823],\n",
       "         [ 0.2574683 , -0.32198307],\n",
       "         [-0.44438948,  0.2297073 ]]]])</details></samp><samp style='font-size: 12px;'><details><summary><b style=\"color: #e55471;\">Tensor</b>(shape=(<b style=\"color: #8a5bcf;\">3</b>, <b style=\"color: #8a5bcf;\">3</b>, <b style=\"color: #8a5bcf;\">3</b>, <b style=\"color: #828fdd;\">2</b>), inds=[<b style=\"color: #a9cc78;\">_aea46cAAAAv</b>, <b style=\"color: #50d870;\">_aea46cAAAAq</b>, <b style=\"color: #c8da36;\">_aea46cAAAAp</b>, <b style=\"color: #50d0ac;\">k0,2</b>], tags={<b style=\"color: #73d85d;\">I0,2</b>, <b style=\"color: #d44388;\">X0</b>, <b style=\"color: #3fdd7b;\">Y2</b>}),</summary>backend=<b style=\"color: #7fdd73;\">numpy</b>, dtype=<b style=\"color: #75d2c6;\">float64</b>, data=array([[[[ 0.00787712,  0.07483492],\n",
       "         [ 0.23423454, -0.41977078],\n",
       "         [-0.07098577, -0.08227457]],\n",
       "\n",
       "        [[ 0.58049387, -0.28265144],\n",
       "         [-0.50102255, -0.1383515 ],\n",
       "         [ 0.46154386,  0.15899825]],\n",
       "\n",
       "        [[-0.48357646, -0.32435753],\n",
       "         [-0.24554998, -0.0063898 ],\n",
       "         [-0.4288379 ,  0.28063253]]],\n",
       "\n",
       "\n",
       "       [[[ 0.4529943 ,  0.12319876],\n",
       "         [-0.12452825, -0.25212084],\n",
       "         [ 0.07434282,  0.07358095]],\n",
       "\n",
       "        [[-0.07124641, -0.06452709],\n",
       "         [-0.10609616,  0.06050403],\n",
       "         [-0.27691535,  0.18652204]],\n",
       "\n",
       "        [[ 0.18944672,  0.28066808],\n",
       "         [-0.26338667,  0.05858565],\n",
       "         [ 0.17191266,  0.09251535]]],\n",
       "\n",
       "\n",
       "       [[[-0.40473276, -0.77385977],\n",
       "         [ 0.15369863,  0.34102213],\n",
       "         [-0.3052184 ,  0.00141725]],\n",
       "\n",
       "        [[ 0.07717418,  0.39021751],\n",
       "         [ 0.37797629, -0.3581846 ],\n",
       "         [-0.00915705, -0.21592738]],\n",
       "\n",
       "        [[ 0.21857823,  0.02861824],\n",
       "         [-0.12619608,  0.21470106],\n",
       "         [ 0.26837599,  0.3497904 ]]]])</details></samp><samp style='font-size: 12px;'><details><summary><b style=\"color: #e55471;\">Tensor</b>(shape=(<b style=\"color: #8a5bcf;\">3</b>, <b style=\"color: #8a5bcf;\">3</b>, <b style=\"color: #8a5bcf;\">3</b>, <b style=\"color: #828fdd;\">2</b>), inds=[<b style=\"color: #e2de6c;\">_aea46cAAAAx</b>, <b style=\"color: #d049c0;\">_aea46cAAAAr</b>, <b style=\"color: #50d870;\">_aea46cAAAAq</b>, <b style=\"color: #69d040;\">k0,3</b>], tags={<b style=\"color: #deb79b;\">I0,3</b>, <b style=\"color: #d44388;\">X0</b>, <b style=\"color: #63d5a7;\">Y3</b>}),</summary>backend=<b style=\"color: #7fdd73;\">numpy</b>, dtype=<b style=\"color: #75d2c6;\">float64</b>, data=array([[[[-0.35302799, -0.18588165],\n",
       "         [ 0.06628363,  0.18146305],\n",
       "         [-0.64362369, -0.2252469 ]],\n",
       "\n",
       "        [[ 0.08364773,  0.01679925],\n",
       "         [ 0.18941434, -0.14216882],\n",
       "         [-0.07795615,  0.24121163]],\n",
       "\n",
       "        [[ 0.36766087,  0.18291524],\n",
       "         [ 0.48242292,  0.17032754],\n",
       "         [-0.18111091,  0.32120585]]],\n",
       "\n",
       "\n",
       "       [[[-0.73965826,  0.12207832],\n",
       "         [-0.21999   , -0.35361801],\n",
       "         [-0.36855658, -0.31388888]],\n",
       "\n",
       "        [[ 0.41657027,  0.14911351],\n",
       "         [-0.03321268, -0.036751  ],\n",
       "         [ 0.27384496, -0.24498083]],\n",
       "\n",
       "        [[ 0.35392829,  0.46963827],\n",
       "         [-0.28648917, -0.16491934],\n",
       "         [ 0.08454636,  0.3485048 ]]],\n",
       "\n",
       "\n",
       "       [[[-0.2487877 , -0.81637444],\n",
       "         [-0.11929533,  0.21710726],\n",
       "         [-0.05459544, -0.16750029]],\n",
       "\n",
       "        [[-0.12530134, -0.44630833],\n",
       "         [ 0.22974167, -0.14514381],\n",
       "         [ 0.32546501, -0.07342843]],\n",
       "\n",
       "        [[-0.26259823,  0.26310325],\n",
       "         [-0.1439656 ,  0.08012546],\n",
       "         [ 0.14057252, -0.31473198]]]])</details></samp><samp style='font-size: 12px;'><details><summary><b style=\"color: #e55471;\">Tensor</b>(shape=(<b style=\"color: #8a5bcf;\">3</b>, <b style=\"color: #8a5bcf;\">3</b>, <b style=\"color: #828fdd;\">2</b>), inds=[<b style=\"color: #bc8edf;\">_aea46cAAAAz</b>, <b style=\"color: #d049c0;\">_aea46cAAAAr</b>, <b style=\"color: #e58de5;\">k0,4</b>], tags={<b style=\"color: #ce966e;\">I0,4</b>, <b style=\"color: #d44388;\">X0</b>, <b style=\"color: #37ce56;\">Y4</b>}),</summary>backend=<b style=\"color: #7fdd73;\">numpy</b>, dtype=<b style=\"color: #75d2c6;\">float64</b>, data=array([[[ 0.43152581, -0.23969586],\n",
       "        [-0.16808012,  0.08247557],\n",
       "        [ 0.33020835, -0.28069495]],\n",
       "\n",
       "       [[-0.15814594, -0.3455025 ],\n",
       "        [-0.4347297 , -0.65814361],\n",
       "        [ 0.24335002,  0.01839728]],\n",
       "\n",
       "       [[-0.18092796,  0.07677303],\n",
       "        [-0.27159058, -0.12283561],\n",
       "        [-0.37800116, -0.40040474]]])</details></samp><samp style='font-size: 12px;'><details><summary><b style=\"color: #e55471;\">Tensor</b>(shape=(<b style=\"color: #8a5bcf;\">3</b>, <b style=\"color: #8a5bcf;\">3</b>, <b style=\"color: #8a5bcf;\">3</b>, <b style=\"color: #828fdd;\">2</b>), inds=[<b style=\"color: #e1458b;\">_aea46cAAABB</b>, <b style=\"color: #c290d3;\">_aea46cAAAAu</b>, <b style=\"color: #65c4e1;\">_aea46cAAAAs</b>, <b style=\"color: #84ce75;\">k1,0</b>], tags={<b style=\"color: #c28de0;\">I1,0</b>, <b style=\"color: #6fe251;\">X1</b>, <b style=\"color: #b1d42e;\">Y0</b>}),</summary>backend=<b style=\"color: #7fdd73;\">numpy</b>, dtype=<b style=\"color: #75d2c6;\">float64</b>, data=array([[[[ 0.78977302,  0.20610627],\n",
       "         [-0.17232708, -0.32686794],\n",
       "         [ 0.12781562, -0.11373377]],\n",
       "\n",
       "        [[ 0.09609733,  0.32360355],\n",
       "         [-0.14147276,  0.08949845],\n",
       "         [-0.14720314, -0.19955648]],\n",
       "\n",
       "        [[-0.2027934 , -0.11879961],\n",
       "         [-0.14779857,  0.06389199],\n",
       "         [-0.06141446, -0.08943344]]],\n",
       "\n",
       "\n",
       "       [[[ 0.01172702,  0.65384372],\n",
       "         [-0.4016258 ,  0.62405045],\n",
       "         [ 0.0183161 , -0.42458339]],\n",
       "\n",
       "        [[ 0.00276003,  0.25519974],\n",
       "         [-0.29860681, -0.19277402],\n",
       "         [ 0.36346475,  0.07670103]],\n",
       "\n",
       "        [[-0.2414894 ,  0.04928607],\n",
       "         [-0.53921085,  0.55625126],\n",
       "         [ 0.33501048,  0.14937114]]],\n",
       "\n",
       "\n",
       "       [[[ 0.47162932,  0.17082597],\n",
       "         [ 0.06865947, -0.28654631],\n",
       "         [-0.46735522, -0.20633878]],\n",
       "\n",
       "        [[ 0.24972016, -0.17040072],\n",
       "         [ 0.15429501,  0.4294151 ],\n",
       "         [-0.19904102, -0.00177625]],\n",
       "\n",
       "        [[ 0.05496409,  0.03333935],\n",
       "         [-0.25443675,  0.27334373],\n",
       "         [ 0.05015645,  0.10742787]]]])</details></samp><samp style='font-size: 12px;'><details><summary><b style=\"color: #e55471;\">Tensor</b>(shape=(<b style=\"color: #8a5bcf;\">3</b>, <b style=\"color: #8a5bcf;\">3</b>, <b style=\"color: #8a5bcf;\">3</b>, <b style=\"color: #8a5bcf;\">3</b>, <b style=\"color: #828fdd;\">2</b>), inds=[<b style=\"color: #9571e1;\">_aea46cAAABC</b>, <b style=\"color: #82cd9c;\">_aea46cAAAAw</b>, <b style=\"color: #665fe5;\">_aea46cAAAAt</b>, <b style=\"color: #c290d3;\">_aea46cAAAAu</b>, <b style=\"color: #d29586;\">k1,1</b>], tags={<b style=\"color: #d67b97;\">I1,1</b>, <b style=\"color: #6fe251;\">X1</b>, <b style=\"color: #6c45d0;\">Y1</b>}),</summary>backend=<b style=\"color: #7fdd73;\">numpy</b>, dtype=<b style=\"color: #75d2c6;\">float64</b>, data=...</details></samp><samp style='font-size: 12px;'><details><summary><b style=\"color: #e55471;\">Tensor</b>(shape=(<b style=\"color: #8a5bcf;\">3</b>, <b style=\"color: #8a5bcf;\">3</b>, <b style=\"color: #8a5bcf;\">3</b>, <b style=\"color: #8a5bcf;\">3</b>, <b style=\"color: #828fdd;\">2</b>), inds=[<b style=\"color: #85da74;\">_aea46cAAABE</b>, <b style=\"color: #da6382;\">_aea46cAAAAy</b>, <b style=\"color: #a9cc78;\">_aea46cAAAAv</b>, <b style=\"color: #82cd9c;\">_aea46cAAAAw</b>, <b style=\"color: #dd4dba;\">k1,2</b>], tags={<b style=\"color: #da64ad;\">I1,2</b>, <b style=\"color: #6fe251;\">X1</b>, <b style=\"color: #3fdd7b;\">Y2</b>}),</summary>backend=<b style=\"color: #7fdd73;\">numpy</b>, dtype=<b style=\"color: #75d2c6;\">float64</b>, data=...</details></samp><samp style='font-size: 12px;'><details><summary><b style=\"color: #e55471;\">Tensor</b>(shape=(<b style=\"color: #8a5bcf;\">3</b>, <b style=\"color: #8a5bcf;\">3</b>, <b style=\"color: #8a5bcf;\">3</b>, <b style=\"color: #8a5bcf;\">3</b>, <b style=\"color: #828fdd;\">2</b>), inds=[<b style=\"color: #6ccdb4;\">_aea46cAAABG</b>, <b style=\"color: #dc4870;\">_aea46cAAABA</b>, <b style=\"color: #e2de6c;\">_aea46cAAAAx</b>, <b style=\"color: #da6382;\">_aea46cAAAAy</b>, <b style=\"color: #afe152;\">k1,3</b>], tags={<b style=\"color: #acd080;\">I1,3</b>, <b style=\"color: #6fe251;\">X1</b>, <b style=\"color: #63d5a7;\">Y3</b>}),</summary>backend=<b style=\"color: #7fdd73;\">numpy</b>, dtype=<b style=\"color: #75d2c6;\">float64</b>, data=...</details></samp><samp style='font-size: 12px;'><details><summary><b style=\"color: #e55471;\">Tensor</b>(shape=(<b style=\"color: #8a5bcf;\">3</b>, <b style=\"color: #8a5bcf;\">3</b>, <b style=\"color: #8a5bcf;\">3</b>, <b style=\"color: #828fdd;\">2</b>), inds=[<b style=\"color: #da84d6;\">_aea46cAAABI</b>, <b style=\"color: #bc8edf;\">_aea46cAAAAz</b>, <b style=\"color: #dc4870;\">_aea46cAAABA</b>, <b style=\"color: #cae55e;\">k1,4</b>], tags={<b style=\"color: #3ec8d1;\">I1,4</b>, <b style=\"color: #6fe251;\">X1</b>, <b style=\"color: #37ce56;\">Y4</b>}),</summary>backend=<b style=\"color: #7fdd73;\">numpy</b>, dtype=<b style=\"color: #75d2c6;\">float64</b>, data=array([[[[ 0.36548229, -0.26015584],\n",
       "         [ 0.14163331, -0.06427805],\n",
       "         [ 0.3257745 , -0.53845238]],\n",
       "\n",
       "        [[ 0.49660934,  0.35980179],\n",
       "         [ 0.35161007, -0.26212529],\n",
       "         [ 0.17691887, -0.41049041]],\n",
       "\n",
       "        [[ 0.35321357,  0.14903971],\n",
       "         [ 0.58041384, -0.14440401],\n",
       "         [ 0.10477843,  0.04271563]]],\n",
       "\n",
       "\n",
       "       [[[-0.18523296,  0.08600995],\n",
       "         [-0.00249853,  0.00309299],\n",
       "         [-0.38302772, -0.11931442]],\n",
       "\n",
       "        [[-0.01032181,  0.35569799],\n",
       "         [-0.1177868 ,  0.09307973],\n",
       "         [-0.32977233,  0.31827419]],\n",
       "\n",
       "        [[-0.01066864,  0.5333739 ],\n",
       "         [-0.51256   ,  0.03966059],\n",
       "         [ 0.25838267, -0.18445352]]],\n",
       "\n",
       "\n",
       "       [[[ 0.45910942,  0.03237033],\n",
       "         [ 0.1103594 , -0.06656127],\n",
       "         [-0.28261971,  0.47622606]],\n",
       "\n",
       "        [[ 0.2713872 ,  0.22772949],\n",
       "         [-0.70921321, -0.6142656 ],\n",
       "         [-0.22789126, -0.07517024]],\n",
       "\n",
       "        [[-0.18087422,  0.29178375],\n",
       "         [-0.17016618, -0.13840751],\n",
       "         [-0.15878981, -0.07968   ]]]])</details></samp><samp style='font-size: 12px;'><details><summary><b style=\"color: #e55471;\">Tensor</b>(shape=(<b style=\"color: #8a5bcf;\">3</b>, <b style=\"color: #8a5bcf;\">3</b>, <b style=\"color: #8a5bcf;\">3</b>, <b style=\"color: #828fdd;\">2</b>), inds=[<b style=\"color: #44bbd8;\">_aea46cAAABK</b>, <b style=\"color: #d236c0;\">_aea46cAAABD</b>, <b style=\"color: #e1458b;\">_aea46cAAABB</b>, <b style=\"color: #aa87d0;\">k2,0</b>], tags={<b style=\"color: #d472d0;\">I2,0</b>, <b style=\"color: #c654d5;\">X2</b>, <b style=\"color: #b1d42e;\">Y0</b>}),</summary>backend=<b style=\"color: #7fdd73;\">numpy</b>, dtype=<b style=\"color: #75d2c6;\">float64</b>, data=array([[[[-0.38056033,  0.24804757],\n",
       "         [-0.07572871, -0.13027434],\n",
       "         [-0.30343203,  0.09497906]],\n",
       "\n",
       "        [[ 0.08621316, -0.30894061],\n",
       "         [-0.07400557,  0.2997675 ],\n",
       "         [ 0.13113942, -0.02904785]],\n",
       "\n",
       "        [[-0.47955682,  0.73818644],\n",
       "         [-0.08958236, -0.44780715],\n",
       "         [-0.27007575, -0.09415205]]],\n",
       "\n",
       "\n",
       "       [[[-0.1108852 ,  0.0971295 ],\n",
       "         [-0.19637978, -0.23722133],\n",
       "         [-0.3326612 , -0.14791084]],\n",
       "\n",
       "        [[-0.1607138 , -0.3585758 ],\n",
       "         [ 0.17374931,  0.07621275],\n",
       "         [-0.13889808,  0.31498138]],\n",
       "\n",
       "        [[-0.00429754,  0.35580526],\n",
       "         [ 0.23141829, -0.10033515],\n",
       "         [ 0.08118212, -0.37380152]]],\n",
       "\n",
       "\n",
       "       [[[ 0.28702139, -0.00675585],\n",
       "         [ 0.26061321,  0.16028784],\n",
       "         [ 0.58456152,  0.66808804]],\n",
       "\n",
       "        [[ 0.12426176, -0.21271792],\n",
       "         [-0.57620289,  0.1145728 ],\n",
       "         [-0.12986616, -0.36577064]],\n",
       "\n",
       "        [[ 0.18087245,  0.12187611],\n",
       "         [ 0.2093346 , -0.4805098 ],\n",
       "         [ 0.38713581, -0.1013577 ]]]])</details></samp><samp style='font-size: 12px;'><details><summary><b style=\"color: #e55471;\">Tensor</b>(shape=(<b style=\"color: #8a5bcf;\">3</b>, <b style=\"color: #8a5bcf;\">3</b>, <b style=\"color: #8a5bcf;\">3</b>, <b style=\"color: #8a5bcf;\">3</b>, <b style=\"color: #828fdd;\">2</b>), inds=[<b style=\"color: #d77ad8;\">_aea46cAAABL</b>, <b style=\"color: #cb75d8;\">_aea46cAAABF</b>, <b style=\"color: #9571e1;\">_aea46cAAABC</b>, <b style=\"color: #d236c0;\">_aea46cAAABD</b>, <b style=\"color: #e1962d;\">k2,1</b>], tags={<b style=\"color: #77df7d;\">I2,1</b>, <b style=\"color: #c654d5;\">X2</b>, <b style=\"color: #6c45d0;\">Y1</b>}),</summary>backend=<b style=\"color: #7fdd73;\">numpy</b>, dtype=<b style=\"color: #75d2c6;\">float64</b>, data=...</details></samp><samp style='font-size: 12px;'><details><summary><b style=\"color: #e55471;\">Tensor</b>(shape=(<b style=\"color: #8a5bcf;\">3</b>, <b style=\"color: #8a5bcf;\">3</b>, <b style=\"color: #8a5bcf;\">3</b>, <b style=\"color: #8a5bcf;\">3</b>, <b style=\"color: #828fdd;\">2</b>), inds=[<b style=\"color: #5cd644;\">_aea46cAAABN</b>, <b style=\"color: #a547de;\">_aea46cAAABH</b>, <b style=\"color: #85da74;\">_aea46cAAABE</b>, <b style=\"color: #cb75d8;\">_aea46cAAABF</b>, <b style=\"color: #936adf;\">k2,2</b>], tags={<b style=\"color: #ceb179;\">I2,2</b>, <b style=\"color: #c654d5;\">X2</b>, <b style=\"color: #3fdd7b;\">Y2</b>}),</summary>backend=<b style=\"color: #7fdd73;\">numpy</b>, dtype=<b style=\"color: #75d2c6;\">float64</b>, data=...</details></samp><samp style='font-size: 12px;'><details><summary><b style=\"color: #e55471;\">Tensor</b>(shape=(<b style=\"color: #8a5bcf;\">3</b>, <b style=\"color: #8a5bcf;\">3</b>, <b style=\"color: #8a5bcf;\">3</b>, <b style=\"color: #8a5bcf;\">3</b>, <b style=\"color: #828fdd;\">2</b>), inds=[<b style=\"color: #dfbc67;\">_aea46cAAABP</b>, <b style=\"color: #2bccad;\">_aea46cAAABJ</b>, <b style=\"color: #6ccdb4;\">_aea46cAAABG</b>, <b style=\"color: #a547de;\">_aea46cAAABH</b>, <b style=\"color: #8541d1;\">k2,3</b>], tags={<b style=\"color: #dfd34b;\">I2,3</b>, <b style=\"color: #c654d5;\">X2</b>, <b style=\"color: #63d5a7;\">Y3</b>}),</summary>backend=<b style=\"color: #7fdd73;\">numpy</b>, dtype=<b style=\"color: #75d2c6;\">float64</b>, data=...</details></samp><samp style='font-size: 12px;'><details><summary><b style=\"color: #e55471;\">Tensor</b>(shape=(<b style=\"color: #8a5bcf;\">3</b>, <b style=\"color: #8a5bcf;\">3</b>, <b style=\"color: #8a5bcf;\">3</b>, <b style=\"color: #828fdd;\">2</b>), inds=[<b style=\"color: #4bdb63;\">_aea46cAAABR</b>, <b style=\"color: #da84d6;\">_aea46cAAABI</b>, <b style=\"color: #2bccad;\">_aea46cAAABJ</b>, <b style=\"color: #e35cac;\">k2,4</b>], tags={<b style=\"color: #cd4e47;\">I2,4</b>, <b style=\"color: #c654d5;\">X2</b>, <b style=\"color: #37ce56;\">Y4</b>}),</summary>backend=<b style=\"color: #7fdd73;\">numpy</b>, dtype=<b style=\"color: #75d2c6;\">float64</b>, data=array([[[[ 0.01567375, -0.09310011],\n",
       "         [ 0.24768273, -0.11738978],\n",
       "         [-0.251629  , -0.1782275 ]],\n",
       "\n",
       "        [[-0.26829665,  0.31267077],\n",
       "         [-0.22495458, -0.12581883],\n",
       "         [ 0.26748041, -0.66605332]],\n",
       "\n",
       "        [[-0.023022  ,  0.11326969],\n",
       "         [ 0.18469781, -0.55483234],\n",
       "         [ 0.32973489,  0.27550022]]],\n",
       "\n",
       "\n",
       "       [[[ 0.10759164, -0.63445143],\n",
       "         [ 0.03337969,  0.25331677],\n",
       "         [ 0.45157972, -0.17408386]],\n",
       "\n",
       "        [[ 0.20383984,  0.45867942],\n",
       "         [ 0.01499983, -0.2965261 ],\n",
       "         [-0.19994835,  0.14174105]],\n",
       "\n",
       "        [[ 0.19374226, -0.60597725],\n",
       "         [ 0.49222259,  0.19789102],\n",
       "         [ 0.20171385,  0.0422929 ]]],\n",
       "\n",
       "\n",
       "       [[[-0.26715396, -0.16995193],\n",
       "         [ 0.34863328,  0.45914815],\n",
       "         [ 0.08663278,  0.61174177]],\n",
       "\n",
       "        [[ 0.22506451, -0.12569846],\n",
       "         [-0.27588113, -0.29585981],\n",
       "         [ 0.17803576,  0.11039606]],\n",
       "\n",
       "        [[-0.03518468, -0.36600593],\n",
       "         [ 0.64683561,  0.09689121],\n",
       "         [-0.27371473, -0.15114634]]]])</details></samp><samp style='font-size: 12px;'><details><summary><b style=\"color: #e55471;\">Tensor</b>(shape=(<b style=\"color: #8a5bcf;\">3</b>, <b style=\"color: #8a5bcf;\">3</b>, <b style=\"color: #8a5bcf;\">3</b>, <b style=\"color: #828fdd;\">2</b>), inds=[<b style=\"color: #cfca4e;\">_aea46cAAABT</b>, <b style=\"color: #de8742;\">_aea46cAAABM</b>, <b style=\"color: #44bbd8;\">_aea46cAAABK</b>, <b style=\"color: #42d58f;\">k3,0</b>], tags={<b style=\"color: #57ccd3;\">I3,0</b>, <b style=\"color: #e5db50;\">X3</b>, <b style=\"color: #b1d42e;\">Y0</b>}),</summary>backend=<b style=\"color: #7fdd73;\">numpy</b>, dtype=<b style=\"color: #75d2c6;\">float64</b>, data=array([[[[-0.03287723,  0.22373023],\n",
       "         [ 0.21720609, -0.12940337],\n",
       "         [ 0.26421373,  0.12598597]],\n",
       "\n",
       "        [[-0.05993477,  0.23901176],\n",
       "         [-0.5080131 ,  0.1581344 ],\n",
       "         [-0.2468453 , -0.24597057]],\n",
       "\n",
       "        [[ 0.05509204,  0.20433684],\n",
       "         [ 0.25810118,  0.6133055 ],\n",
       "         [ 0.12314849,  0.09794608]]],\n",
       "\n",
       "\n",
       "       [[[ 0.26466672,  0.46330901],\n",
       "         [-0.37261901, -0.14613522],\n",
       "         [-0.04725875, -0.05370155]],\n",
       "\n",
       "        [[-0.21671809, -0.6030256 ],\n",
       "         [ 0.18518784,  0.51043185],\n",
       "         [ 0.17336402,  0.17334707]],\n",
       "\n",
       "        [[ 0.23415478,  0.31106511],\n",
       "         [-0.08608762,  0.33643773],\n",
       "         [-0.02513669,  0.29852203]]],\n",
       "\n",
       "\n",
       "       [[[ 0.11660528, -0.63708811],\n",
       "         [ 0.29317834,  0.55391842],\n",
       "         [ 0.22281977,  0.02624954]],\n",
       "\n",
       "        [[-0.61615086,  0.31477655],\n",
       "         [-0.21857305, -0.23485264],\n",
       "         [-0.07015365,  0.18019487]],\n",
       "\n",
       "        [[ 0.47228582, -0.02025982],\n",
       "         [ 0.03324436, -0.05201856],\n",
       "         [ 0.08216902, -0.15068886]]]])</details></samp><samp style='font-size: 12px;'><details><summary><b style=\"color: #e55471;\">Tensor</b>(shape=(<b style=\"color: #8a5bcf;\">3</b>, <b style=\"color: #8a5bcf;\">3</b>, <b style=\"color: #8a5bcf;\">3</b>, <b style=\"color: #8a5bcf;\">3</b>, <b style=\"color: #828fdd;\">2</b>), inds=[<b style=\"color: #6677d3;\">_aea46cAAABU</b>, <b style=\"color: #a292d9;\">_aea46cAAABO</b>, <b style=\"color: #d77ad8;\">_aea46cAAABL</b>, <b style=\"color: #de8742;\">_aea46cAAABM</b>, <b style=\"color: #cf3298;\">k3,1</b>], tags={<b style=\"color: #98d482;\">I3,1</b>, <b style=\"color: #e5db50;\">X3</b>, <b style=\"color: #6c45d0;\">Y1</b>}),</summary>backend=<b style=\"color: #7fdd73;\">numpy</b>, dtype=<b style=\"color: #75d2c6;\">float64</b>, data=...</details></samp><samp style='font-size: 12px;'><details><summary><b style=\"color: #e55471;\">Tensor</b>(shape=(<b style=\"color: #8a5bcf;\">3</b>, <b style=\"color: #8a5bcf;\">3</b>, <b style=\"color: #8a5bcf;\">3</b>, <b style=\"color: #8a5bcf;\">3</b>, <b style=\"color: #828fdd;\">2</b>), inds=[<b style=\"color: #7fdee0;\">_aea46cAAABW</b>, <b style=\"color: #dc8e99;\">_aea46cAAABQ</b>, <b style=\"color: #5cd644;\">_aea46cAAABN</b>, <b style=\"color: #a292d9;\">_aea46cAAABO</b>, <b style=\"color: #5b8bd1;\">k3,2</b>], tags={<b style=\"color: #da8d92;\">I3,2</b>, <b style=\"color: #e5db50;\">X3</b>, <b style=\"color: #3fdd7b;\">Y2</b>}),</summary>backend=<b style=\"color: #7fdd73;\">numpy</b>, dtype=<b style=\"color: #75d2c6;\">float64</b>, data=...</details></samp><samp style='font-size: 12px;'><details><summary><b style=\"color: #e55471;\">Tensor</b>(shape=(<b style=\"color: #8a5bcf;\">3</b>, <b style=\"color: #8a5bcf;\">3</b>, <b style=\"color: #8a5bcf;\">3</b>, <b style=\"color: #8a5bcf;\">3</b>, <b style=\"color: #828fdd;\">2</b>), inds=[<b style=\"color: #d93c75;\">_aea46cAAABY</b>, <b style=\"color: #d0d756;\">_aea46cAAABS</b>, <b style=\"color: #dfbc67;\">_aea46cAAABP</b>, <b style=\"color: #dc8e99;\">_aea46cAAABQ</b>, <b style=\"color: #5daed7;\">k3,3</b>], tags={<b style=\"color: #7fd635;\">I3,3</b>, <b style=\"color: #e5db50;\">X3</b>, <b style=\"color: #63d5a7;\">Y3</b>}),</summary>backend=<b style=\"color: #7fdd73;\">numpy</b>, dtype=<b style=\"color: #75d2c6;\">float64</b>, data=...</details></samp><samp style='font-size: 12px;'><details><summary><b style=\"color: #e55471;\">Tensor</b>(shape=(<b style=\"color: #8a5bcf;\">3</b>, <b style=\"color: #8a5bcf;\">3</b>, <b style=\"color: #8a5bcf;\">3</b>, <b style=\"color: #828fdd;\">2</b>), inds=[<b style=\"color: #4abae1;\">_aea46cAAABa</b>, <b style=\"color: #4bdb63;\">_aea46cAAABR</b>, <b style=\"color: #d0d756;\">_aea46cAAABS</b>, <b style=\"color: #d9738c;\">k3,4</b>], tags={<b style=\"color: #9f91da;\">I3,4</b>, <b style=\"color: #e5db50;\">X3</b>, <b style=\"color: #37ce56;\">Y4</b>}),</summary>backend=<b style=\"color: #7fdd73;\">numpy</b>, dtype=<b style=\"color: #75d2c6;\">float64</b>, data=array([[[[-0.02785434, -0.19377183],\n",
       "         [ 0.13567531, -0.10062713],\n",
       "         [-0.07749432,  0.35753385]],\n",
       "\n",
       "        [[-0.25709318, -0.08090333],\n",
       "         [ 0.10074147,  0.21459987],\n",
       "         [-0.05594702,  0.48585484]],\n",
       "\n",
       "        [[-0.02995602, -0.12112102],\n",
       "         [ 0.14817227,  0.37143844],\n",
       "         [ 0.09314821,  0.2501424 ]]],\n",
       "\n",
       "\n",
       "       [[[-0.22927907, -0.16533426],\n",
       "         [-0.19022857, -0.49516235],\n",
       "         [ 0.03630534, -0.491662  ]],\n",
       "\n",
       "        [[ 0.66526663, -0.06528429],\n",
       "         [ 0.19440541, -0.33161728],\n",
       "         [-0.22234613, -0.22712846]],\n",
       "\n",
       "        [[-0.21079084, -0.07107046],\n",
       "         [-0.19357984, -0.570392  ],\n",
       "         [ 0.49999969,  0.07619666]]],\n",
       "\n",
       "\n",
       "       [[[-0.36850847,  0.26388082],\n",
       "         [-0.02058343, -0.5785781 ],\n",
       "         [-0.13305771, -0.17363738]],\n",
       "\n",
       "        [[-0.01600171, -0.25669566],\n",
       "         [-0.07669599,  0.34866238],\n",
       "         [ 0.53794805, -0.77247211]],\n",
       "\n",
       "        [[ 0.46701018, -0.03136358],\n",
       "         [-0.36865922,  0.55544779],\n",
       "         [-0.05441975,  0.31138795]]]])</details></samp><samp style='font-size: 12px;'><details><summary><b style=\"color: #e55471;\">Tensor</b>(shape=(<b style=\"color: #8a5bcf;\">3</b>, <b style=\"color: #8a5bcf;\">3</b>, <b style=\"color: #828fdd;\">2</b>), inds=[<b style=\"color: #d84248;\">_aea46cAAABV</b>, <b style=\"color: #cfca4e;\">_aea46cAAABT</b>, <b style=\"color: #cb7de2;\">k4,0</b>], tags={<b style=\"color: #d54a8d;\">I4,0</b>, <b style=\"color: #6ae463;\">X4</b>, <b style=\"color: #b1d42e;\">Y0</b>}),</summary>backend=<b style=\"color: #7fdd73;\">numpy</b>, dtype=<b style=\"color: #75d2c6;\">float64</b>, data=array([[[-0.03622255, -0.64783791],\n",
       "        [-0.35413836, -0.06839641],\n",
       "        [-0.26610905, -0.4381159 ]],\n",
       "\n",
       "       [[ 0.30796793, -0.02458458],\n",
       "        [ 0.29830521, -0.13475392],\n",
       "        [ 0.05871056, -0.29670865]],\n",
       "\n",
       "       [[ 0.08531347, -0.27240719],\n",
       "        [ 0.03741549,  0.46378323],\n",
       "        [-0.29799446, -0.68974713]]])</details></samp><samp style='font-size: 12px;'><details><summary><b style=\"color: #e55471;\">Tensor</b>(shape=(<b style=\"color: #8a5bcf;\">3</b>, <b style=\"color: #8a5bcf;\">3</b>, <b style=\"color: #8a5bcf;\">3</b>, <b style=\"color: #828fdd;\">2</b>), inds=[<b style=\"color: #77e244;\">_aea46cAAABX</b>, <b style=\"color: #6677d3;\">_aea46cAAABU</b>, <b style=\"color: #d84248;\">_aea46cAAABV</b>, <b style=\"color: #70da4e;\">k4,1</b>], tags={<b style=\"color: #6373d7;\">I4,1</b>, <b style=\"color: #6ae463;\">X4</b>, <b style=\"color: #6c45d0;\">Y1</b>}),</summary>backend=<b style=\"color: #7fdd73;\">numpy</b>, dtype=<b style=\"color: #75d2c6;\">float64</b>, data=array([[[[ 7.32071132e-02,  1.63793612e-01],\n",
       "         [ 1.95103932e-02,  6.34924932e-02],\n",
       "         [-1.86589186e-01,  5.02850574e-01]],\n",
       "\n",
       "        [[ 2.21822008e-02,  1.45419471e-01],\n",
       "         [ 1.70098419e-02, -3.45904379e-01],\n",
       "         [ 1.17070971e-01,  7.49301787e-01]],\n",
       "\n",
       "        [[ 1.82502382e-01,  1.30361449e-01],\n",
       "         [-6.40960880e-02, -6.50550425e-01],\n",
       "         [-1.58615286e-01, -2.17396291e-01]]],\n",
       "\n",
       "\n",
       "       [[[ 3.36823530e-01,  4.77320168e-01],\n",
       "         [ 3.33942936e-02, -3.22675181e-01],\n",
       "         [ 3.00501540e-01, -1.30890164e-01]],\n",
       "\n",
       "        [[-4.93261133e-02,  1.80571112e-01],\n",
       "         [-8.34259724e-02, -1.36661366e-01],\n",
       "         [ 6.47967822e-01,  2.89957316e-01]],\n",
       "\n",
       "        [[ 3.51996531e-01, -2.58543810e-01],\n",
       "         [ 3.93574280e-01,  2.09913863e-01],\n",
       "         [-1.49833263e-04, -3.14774589e-01]]],\n",
       "\n",
       "\n",
       "       [[[ 1.95185567e-01, -3.00442172e-01],\n",
       "         [ 5.46766593e-01,  2.17461520e-01],\n",
       "         [ 5.47755703e-01,  1.47049000e-01]],\n",
       "\n",
       "        [[-2.89939243e-02, -2.29325724e-01],\n",
       "         [-2.19042143e-01, -5.19124212e-01],\n",
       "         [-2.76151915e-01, -3.36271916e-01]],\n",
       "\n",
       "        [[ 5.01194142e-01,  1.12354943e-01],\n",
       "         [-2.74712104e-01,  1.17000234e-01],\n",
       "         [ 1.01969558e-02, -1.37528548e-01]]]])</details></samp><samp style='font-size: 12px;'><details><summary><b style=\"color: #e55471;\">Tensor</b>(shape=(<b style=\"color: #8a5bcf;\">3</b>, <b style=\"color: #8a5bcf;\">3</b>, <b style=\"color: #8a5bcf;\">3</b>, <b style=\"color: #828fdd;\">2</b>), inds=[<b style=\"color: #47d8b2;\">_aea46cAAABZ</b>, <b style=\"color: #7fdee0;\">_aea46cAAABW</b>, <b style=\"color: #77e244;\">_aea46cAAABX</b>, <b style=\"color: #d63d6a;\">k4,2</b>], tags={<b style=\"color: #48d235;\">I4,2</b>, <b style=\"color: #6ae463;\">X4</b>, <b style=\"color: #3fdd7b;\">Y2</b>}),</summary>backend=<b style=\"color: #7fdd73;\">numpy</b>, dtype=<b style=\"color: #75d2c6;\">float64</b>, data=array([[[[-0.04691427,  0.04518512],\n",
       "         [-0.48821014,  0.14472043],\n",
       "         [ 0.2289111 , -0.49996531]],\n",
       "\n",
       "        [[-0.22946103, -0.56242939],\n",
       "         [-0.1519321 , -0.08036349],\n",
       "         [-0.07974806, -0.12597931]],\n",
       "\n",
       "        [[ 0.16025181,  0.3009493 ],\n",
       "         [-0.21928384, -0.14216206],\n",
       "         [-0.56038647,  0.15624933]]],\n",
       "\n",
       "\n",
       "       [[[ 0.24839524, -0.28966023],\n",
       "         [-0.20838007, -0.18817065],\n",
       "         [ 0.17665091, -0.02378777]],\n",
       "\n",
       "        [[ 0.35291229, -0.26963928],\n",
       "         [ 0.16652744,  0.39175549],\n",
       "         [ 0.00254081, -0.59435346]],\n",
       "\n",
       "        [[ 0.36046884, -0.19522254],\n",
       "         [-0.00934237,  0.10191553],\n",
       "         [-0.62675368,  0.20896072]]],\n",
       "\n",
       "\n",
       "       [[[ 0.22663422, -0.21799479],\n",
       "         [-0.10634787, -0.2027503 ],\n",
       "         [ 0.68532395, -0.02940163]],\n",
       "\n",
       "        [[ 0.1583736 ,  0.1362018 ],\n",
       "         [-0.14871838,  0.16141379],\n",
       "         [ 0.33185367,  0.43178459]],\n",
       "\n",
       "        [[-0.06391033,  0.27971557],\n",
       "         [-0.20968179, -0.51190256],\n",
       "         [ 0.29081901,  0.09433118]]]])</details></samp><samp style='font-size: 12px;'><details><summary><b style=\"color: #e55471;\">Tensor</b>(shape=(<b style=\"color: #8a5bcf;\">3</b>, <b style=\"color: #8a5bcf;\">3</b>, <b style=\"color: #8a5bcf;\">3</b>, <b style=\"color: #828fdd;\">2</b>), inds=[<b style=\"color: #e347be;\">_aea46cAAABb</b>, <b style=\"color: #d93c75;\">_aea46cAAABY</b>, <b style=\"color: #47d8b2;\">_aea46cAAABZ</b>, <b style=\"color: #74cce3;\">k4,3</b>], tags={<b style=\"color: #cfcb31;\">I4,3</b>, <b style=\"color: #6ae463;\">X4</b>, <b style=\"color: #63d5a7;\">Y3</b>}),</summary>backend=<b style=\"color: #7fdd73;\">numpy</b>, dtype=<b style=\"color: #75d2c6;\">float64</b>, data=array([[[[-0.04268813,  0.65947468],\n",
       "         [-0.00643255, -0.57697121],\n",
       "         [ 0.57728807,  0.70715589]],\n",
       "\n",
       "        [[-0.02511551,  0.29979619],\n",
       "         [ 0.25984809,  0.37272275],\n",
       "         [-0.23439044, -0.13467509]],\n",
       "\n",
       "        [[ 0.06414487,  0.11633378],\n",
       "         [-0.17244477, -0.11933729],\n",
       "         [-0.06883606,  0.03145422]]],\n",
       "\n",
       "\n",
       "       [[[-0.40488939,  0.19470758],\n",
       "         [ 0.12764037, -0.56489277],\n",
       "         [-0.18223419, -0.34254078]],\n",
       "\n",
       "        [[ 0.41968604,  0.19940955],\n",
       "         [ 0.21937432,  0.17137236],\n",
       "         [-0.09779707, -0.3709037 ]],\n",
       "\n",
       "        [[ 0.09661398, -0.59484165],\n",
       "         [ 0.16929148,  0.24812902],\n",
       "         [ 0.23701328,  0.24395429]]],\n",
       "\n",
       "\n",
       "       [[[-0.01667156, -0.10023877],\n",
       "         [-0.00398862, -0.02343363],\n",
       "         [ 0.47390102,  0.32692523]],\n",
       "\n",
       "        [[ 0.70393136,  0.02803209],\n",
       "         [-0.21699308, -0.21125616],\n",
       "         [ 0.30153273,  0.38770508]],\n",
       "\n",
       "        [[-0.16267959, -0.18765657],\n",
       "         [ 0.00855063, -0.16643927],\n",
       "         [-0.19250898,  0.23623521]]]])</details></samp><samp style='font-size: 12px;'><details><summary><b style=\"color: #e55471;\">Tensor</b>(shape=(<b style=\"color: #8a5bcf;\">3</b>, <b style=\"color: #8a5bcf;\">3</b>, <b style=\"color: #828fdd;\">2</b>), inds=[<b style=\"color: #4abae1;\">_aea46cAAABa</b>, <b style=\"color: #e347be;\">_aea46cAAABb</b>, <b style=\"color: #de828e;\">k4,4</b>], tags={<b style=\"color: #8556e3;\">I4,4</b>, <b style=\"color: #6ae463;\">X4</b>, <b style=\"color: #37ce56;\">Y4</b>}),</summary>backend=<b style=\"color: #7fdd73;\">numpy</b>, dtype=<b style=\"color: #75d2c6;\">float64</b>, data=array([[[ 0.04200821,  0.31899505],\n",
       "        [-0.21784933, -0.42481105],\n",
       "        [-0.45498257,  0.35867999]],\n",
       "\n",
       "       [[ 0.24995048, -0.17124387],\n",
       "        [ 0.52845545,  0.69610531],\n",
       "        [ 0.18589178, -0.07414434]],\n",
       "\n",
       "       [[-0.25978338, -0.16469329],\n",
       "        [ 0.01989423, -0.17488996],\n",
       "        [-0.23159834, -0.48782655]]])</details></samp></details></samp>"
      ],
      "text/plain": [
       "TensorNetwork2D(tensors=50, indices=105, Lx=5, Ly=5, max_bond=3)"
      ]
     },
     "execution_count": 9,
     "metadata": {},
     "output_type": "execute_result"
    }
   ],
   "source": [
    "norm = peps.H & peps\n",
    "norm"
   ]
  },
  {
   "cell_type": "code",
   "execution_count": 10,
   "id": "a4cf759f-ae7a-4a26-95d9-e28330f31039",
   "metadata": {},
   "outputs": [
    {
     "data": {
      "image/svg+xml": [
       "<?xml version=\"1.0\" encoding=\"UTF-8\"?><!DOCTYPE svg  PUBLIC '-//W3C//DTD SVG 1.1//EN'  'http://www.w3.org/Graphics/SVG/1.1/DTD/svg11.dtd'><svg width=\"236.76pt\" height=\"236.16pt\" version=\"1.1\" viewBox=\"0 0 236.76 236.16\" xmlns=\"http://www.w3.org/2000/svg\"><defs><style type=\"text/css\">*{stroke-linejoin: round; stroke-linecap: butt}</style></defs><path d=\"m0 236.16h236.76v-236.16h-236.76v236.16z\" opacity=\"0\"/><path d=\"m203.19 32.982 3.2349 42.539\" clip-path=\"url(#c67b31a50fa)\" fill=\"none\" stroke=\"#737880\" stroke-linecap=\"round\" stroke-opacity=\".5\" stroke-width=\"1.585\"/><path d=\"m203.19 32.982-42.606-2.9505\" clip-path=\"url(#c67b31a50fa)\" fill=\"none\" stroke=\"#737880\" stroke-linecap=\"round\" stroke-opacity=\".5\" stroke-width=\"1.585\"/><path d=\"m203.19 32.982 13.318-13.804\" clip-path=\"url(#c67b31a50fa)\" fill=\"none\" stroke=\"#737880\" stroke-linecap=\"round\" stroke-opacity=\".5\"/><path d=\"m160.58 30.031 2.043 43.746\" clip-path=\"url(#c67b31a50fa)\" fill=\"none\" stroke=\"#737880\" stroke-linecap=\"round\" stroke-opacity=\".5\" stroke-width=\"1.585\"/><path d=\"m160.58 30.031-51.208-1.6453\" clip-path=\"url(#c67b31a50fa)\" fill=\"none\" stroke=\"#737880\" stroke-linecap=\"round\" stroke-opacity=\".5\" stroke-width=\"1.585\"/><path d=\"m160.58 30.031 13.273-14.704\" clip-path=\"url(#c67b31a50fa)\" fill=\"none\" stroke=\"#737880\" stroke-linecap=\"round\" stroke-opacity=\".5\"/><path d=\"m109.37 28.386 0.85023 44.026\" clip-path=\"url(#c67b31a50fa)\" fill=\"none\" stroke=\"#737880\" stroke-linecap=\"round\" stroke-opacity=\".5\" stroke-width=\"1.585\"/><path d=\"m109.37 28.386-51.422 0.17798\" clip-path=\"url(#c67b31a50fa)\" fill=\"none\" stroke=\"#737880\" stroke-linecap=\"round\" stroke-opacity=\".5\" stroke-width=\"1.585\"/><path d=\"m109.37 28.386 13.47-15.043\" clip-path=\"url(#c67b31a50fa)\" fill=\"none\" stroke=\"#737880\" stroke-linecap=\"round\" stroke-opacity=\".5\"/><path d=\"m57.951 28.564-0.3795 43.59\" clip-path=\"url(#c67b31a50fa)\" fill=\"none\" stroke=\"#737880\" stroke-linecap=\"round\" stroke-opacity=\".5\" stroke-width=\"1.585\"/><path d=\"m57.951 28.564-43.145 1.6335\" clip-path=\"url(#c67b31a50fa)\" fill=\"none\" stroke=\"#737880\" stroke-linecap=\"round\" stroke-opacity=\".5\" stroke-width=\"1.585\"/><path d=\"m57.951 28.564 13.932-15.182\" clip-path=\"url(#c67b31a50fa)\" fill=\"none\" stroke=\"#737880\" stroke-linecap=\"round\" stroke-opacity=\".5\"/><path d=\"m14.806 30.197-1.4577 42.35\" clip-path=\"url(#c67b31a50fa)\" fill=\"none\" stroke=\"#737880\" stroke-linecap=\"round\" stroke-opacity=\".5\" stroke-width=\"1.585\"/><path d=\"m14.806 30.197 14.742-15.104\" clip-path=\"url(#c67b31a50fa)\" fill=\"none\" stroke=\"#737880\" stroke-linecap=\"round\" stroke-opacity=\".5\"/><path d=\"m206.42 75.521 1.9473 51.182\" clip-path=\"url(#c67b31a50fa)\" fill=\"none\" stroke=\"#737880\" stroke-linecap=\"round\" stroke-opacity=\".5\" stroke-width=\"1.585\"/><path d=\"m206.42 75.521-43.798-1.7439\" clip-path=\"url(#c67b31a50fa)\" fill=\"none\" stroke=\"#737880\" stroke-linecap=\"round\" stroke-opacity=\".5\" stroke-width=\"1.585\"/><path d=\"m206.42 75.521 14.29-13.748\" clip-path=\"url(#c67b31a50fa)\" fill=\"none\" stroke=\"#737880\" stroke-linecap=\"round\" stroke-opacity=\".5\"/><path d=\"m162.62 73.777 1.6518 52.357\" clip-path=\"url(#c67b31a50fa)\" fill=\"none\" stroke=\"#737880\" stroke-linecap=\"round\" stroke-opacity=\".5\" stroke-width=\"1.585\"/><path d=\"m162.62 73.777-52.401-1.3652\" clip-path=\"url(#c67b31a50fa)\" fill=\"none\" stroke=\"#737880\" stroke-linecap=\"round\" stroke-opacity=\".5\" stroke-width=\"1.585\"/><path d=\"m162.62 73.777 14.008-14.435\" clip-path=\"url(#c67b31a50fa)\" fill=\"none\" stroke=\"#737880\" stroke-linecap=\"round\" stroke-opacity=\".5\"/><path d=\"m110.22 72.412 1.0627 52.943\" clip-path=\"url(#c67b31a50fa)\" fill=\"none\" stroke=\"#737880\" stroke-linecap=\"round\" stroke-opacity=\".5\" stroke-width=\"1.585\"/><path d=\"m110.22 72.412-52.651-0.2582\" clip-path=\"url(#c67b31a50fa)\" fill=\"none\" stroke=\"#737880\" stroke-linecap=\"round\" stroke-opacity=\".5\" stroke-width=\"1.585\"/><path d=\"m110.22 72.412 13.926-14.668\" clip-path=\"url(#c67b31a50fa)\" fill=\"none\" stroke=\"#737880\" stroke-linecap=\"round\" stroke-opacity=\".5\"/><path d=\"m57.572 72.154 0.61784 52.176\" clip-path=\"url(#c67b31a50fa)\" fill=\"none\" stroke=\"#737880\" stroke-linecap=\"round\" stroke-opacity=\".5\" stroke-width=\"1.585\"/><path d=\"m57.572 72.154-44.223 0.39314\" clip-path=\"url(#c67b31a50fa)\" fill=\"none\" stroke=\"#737880\" stroke-linecap=\"round\" stroke-opacity=\".5\" stroke-width=\"1.585\"/><path d=\"m57.572 72.154 14.35-14.708\" clip-path=\"url(#c67b31a50fa)\" fill=\"none\" stroke=\"#737880\" stroke-linecap=\"round\" stroke-opacity=\".5\"/><path d=\"m13.348 72.547 0.33556 50.921\" clip-path=\"url(#c67b31a50fa)\" fill=\"none\" stroke=\"#737880\" stroke-linecap=\"round\" stroke-opacity=\".5\" stroke-width=\"1.585\"/><path d=\"m13.348 72.547 14.844-14.31\" clip-path=\"url(#c67b31a50fa)\" fill=\"none\" stroke=\"#737880\" stroke-linecap=\"round\" stroke-opacity=\".5\"/><path d=\"m208.37 126.7 0.21788 51.258\" clip-path=\"url(#c67b31a50fa)\" fill=\"none\" stroke=\"#737880\" stroke-linecap=\"round\" stroke-opacity=\".5\" stroke-width=\"1.585\"/><path d=\"m208.37 126.7-44.094-0.56893\" clip-path=\"url(#c67b31a50fa)\" fill=\"none\" stroke=\"#737880\" stroke-linecap=\"round\" stroke-opacity=\".5\" stroke-width=\"1.585\"/><path d=\"m208.37 126.7 14.728-14.039\" clip-path=\"url(#c67b31a50fa)\" fill=\"none\" stroke=\"#737880\" stroke-linecap=\"round\" stroke-opacity=\".5\"/><path d=\"m164.28 126.13 0.66462 52.57\" clip-path=\"url(#c67b31a50fa)\" fill=\"none\" stroke=\"#737880\" stroke-linecap=\"round\" stroke-opacity=\".5\" stroke-width=\"1.585\"/><path d=\"m164.28 126.13-52.99-0.77972\" clip-path=\"url(#c67b31a50fa)\" fill=\"none\" stroke=\"#737880\" stroke-linecap=\"round\" stroke-opacity=\".5\" stroke-width=\"1.585\"/><path d=\"m164.28 126.13 14.334-14.382\" clip-path=\"url(#c67b31a50fa)\" fill=\"none\" stroke=\"#737880\" stroke-linecap=\"round\" stroke-opacity=\".5\"/><path d=\"m111.29 125.35 1.4055 52.966\" clip-path=\"url(#c67b31a50fa)\" fill=\"none\" stroke=\"#737880\" stroke-linecap=\"round\" stroke-opacity=\".5\" stroke-width=\"1.585\"/><path d=\"m111.29 125.35-53.096-1.025\" clip-path=\"url(#c67b31a50fa)\" fill=\"none\" stroke=\"#737880\" stroke-linecap=\"round\" stroke-opacity=\".5\" stroke-width=\"1.585\"/><path d=\"m111.29 125.35 14.23-14.61\" clip-path=\"url(#c67b31a50fa)\" fill=\"none\" stroke=\"#737880\" stroke-linecap=\"round\" stroke-opacity=\".5\"/><path d=\"m58.189 124.33 2.0117 52.412\" clip-path=\"url(#c67b31a50fa)\" fill=\"none\" stroke=\"#737880\" stroke-linecap=\"round\" stroke-opacity=\".5\" stroke-width=\"1.585\"/><path d=\"m58.189 124.33-44.506-0.86157\" clip-path=\"url(#c67b31a50fa)\" fill=\"none\" stroke=\"#737880\" stroke-linecap=\"round\" stroke-opacity=\".5\" stroke-width=\"1.585\"/><path d=\"m58.189 124.33 14.299-14.289\" clip-path=\"url(#c67b31a50fa)\" fill=\"none\" stroke=\"#737880\" stroke-linecap=\"round\" stroke-opacity=\".5\"/><path d=\"m13.684 123.47 2.4443 50.848\" clip-path=\"url(#c67b31a50fa)\" fill=\"none\" stroke=\"#737880\" stroke-linecap=\"round\" stroke-opacity=\".5\" stroke-width=\"1.585\"/><path d=\"m13.684 123.47 14.713-13.991\" clip-path=\"url(#c67b31a50fa)\" fill=\"none\" stroke=\"#737880\" stroke-linecap=\"round\" stroke-opacity=\".5\"/><path d=\"m208.59 177.96-1.2672 43.109\" clip-path=\"url(#c67b31a50fa)\" fill=\"none\" stroke=\"#737880\" stroke-linecap=\"round\" stroke-opacity=\".5\" stroke-width=\"1.585\"/><path d=\"m208.59 177.96-43.647 0.74306\" clip-path=\"url(#c67b31a50fa)\" fill=\"none\" stroke=\"#737880\" stroke-linecap=\"round\" stroke-opacity=\".5\" stroke-width=\"1.585\"/><path d=\"m208.59 177.96 14.821-14.323\" clip-path=\"url(#c67b31a50fa)\" fill=\"none\" stroke=\"#737880\" stroke-linecap=\"round\" stroke-opacity=\".5\"/><path d=\"m164.94 178.7 0.03626 44.114\" clip-path=\"url(#c67b31a50fa)\" fill=\"none\" stroke=\"#737880\" stroke-linecap=\"round\" stroke-opacity=\".5\" stroke-width=\"1.585\"/><path d=\"m164.94 178.7-52.249-0.38379\" clip-path=\"url(#c67b31a50fa)\" fill=\"none\" stroke=\"#737880\" stroke-linecap=\"round\" stroke-opacity=\".5\" stroke-width=\"1.585\"/><path d=\"m164.94 178.7 14.343-14.762\" clip-path=\"url(#c67b31a50fa)\" fill=\"none\" stroke=\"#737880\" stroke-linecap=\"round\" stroke-opacity=\".5\"/><path d=\"m112.69 178.32 1.3015 44.49\" clip-path=\"url(#c67b31a50fa)\" fill=\"none\" stroke=\"#737880\" stroke-linecap=\"round\" stroke-opacity=\".5\" stroke-width=\"1.585\"/><path d=\"m112.69 178.32-52.49-1.5787\" clip-path=\"url(#c67b31a50fa)\" fill=\"none\" stroke=\"#737880\" stroke-linecap=\"round\" stroke-opacity=\".5\" stroke-width=\"1.585\"/><path d=\"m112.69 178.32 13.955-14.651\" clip-path=\"url(#c67b31a50fa)\" fill=\"none\" stroke=\"#737880\" stroke-linecap=\"round\" stroke-opacity=\".5\"/><path d=\"m60.201 176.74 2.8272 44.015\" clip-path=\"url(#c67b31a50fa)\" fill=\"none\" stroke=\"#737880\" stroke-linecap=\"round\" stroke-opacity=\".5\" stroke-width=\"1.585\"/><path d=\"m60.201 176.74-44.073-2.4255\" clip-path=\"url(#c67b31a50fa)\" fill=\"none\" stroke=\"#737880\" stroke-linecap=\"round\" stroke-opacity=\".5\" stroke-width=\"1.585\"/><path d=\"m60.201 176.74 14.054-14.476\" clip-path=\"url(#c67b31a50fa)\" fill=\"none\" stroke=\"#737880\" stroke-linecap=\"round\" stroke-opacity=\".5\"/><path d=\"m16.128 174.32 4.2902 42.553\" clip-path=\"url(#c67b31a50fa)\" fill=\"none\" stroke=\"#737880\" stroke-linecap=\"round\" stroke-opacity=\".5\" stroke-width=\"1.585\"/><path d=\"m16.128 174.32 14.277-13.726\" clip-path=\"url(#c67b31a50fa)\" fill=\"none\" stroke=\"#737880\" stroke-linecap=\"round\" stroke-opacity=\".5\"/><path d=\"m207.32 221.07-42.343 1.7477\" clip-path=\"url(#c67b31a50fa)\" fill=\"none\" stroke=\"#737880\" stroke-linecap=\"round\" stroke-opacity=\".5\" stroke-width=\"1.585\"/><path d=\"m207.32 221.07 14.667-15.104\" clip-path=\"url(#c67b31a50fa)\" fill=\"none\" stroke=\"#737880\" stroke-linecap=\"round\" stroke-opacity=\".5\"/><path d=\"m164.98 222.82-50.983-0.008037\" clip-path=\"url(#c67b31a50fa)\" fill=\"none\" stroke=\"#737880\" stroke-linecap=\"round\" stroke-opacity=\".5\" stroke-width=\"1.585\"/><path d=\"m164.98 222.82 13.909-15.194\" clip-path=\"url(#c67b31a50fa)\" fill=\"none\" stroke=\"#737880\" stroke-linecap=\"round\" stroke-opacity=\".5\"/><path d=\"m113.99 222.81-50.965-2.0529\" clip-path=\"url(#c67b31a50fa)\" fill=\"none\" stroke=\"#737880\" stroke-linecap=\"round\" stroke-opacity=\".5\" stroke-width=\"1.585\"/><path d=\"m113.99 222.81 13.508-15.101\" clip-path=\"url(#c67b31a50fa)\" fill=\"none\" stroke=\"#737880\" stroke-linecap=\"round\" stroke-opacity=\".5\"/><path d=\"m63.028 220.76-42.61-3.8881\" clip-path=\"url(#c67b31a50fa)\" fill=\"none\" stroke=\"#737880\" stroke-linecap=\"round\" stroke-opacity=\".5\" stroke-width=\"1.585\"/><path d=\"m63.028 220.76 13.27-14.756\" clip-path=\"url(#c67b31a50fa)\" fill=\"none\" stroke=\"#737880\" stroke-linecap=\"round\" stroke-opacity=\".5\"/><path d=\"m20.418 216.87 13.266-13.838\" clip-path=\"url(#c67b31a50fa)\" fill=\"none\" stroke=\"#737880\" stroke-linecap=\"round\" stroke-opacity=\".5\"/><path d=\"m216.5 19.178 4.2074 42.596\" clip-path=\"url(#c67b31a50fa)\" fill=\"none\" stroke=\"#737880\" stroke-linecap=\"round\" stroke-opacity=\".5\" stroke-width=\"1.585\"/><path d=\"m216.5 19.178-42.651-3.8504\" clip-path=\"url(#c67b31a50fa)\" fill=\"none\" stroke=\"#737880\" stroke-linecap=\"round\" stroke-opacity=\".5\" stroke-width=\"1.585\"/><path d=\"m173.85 15.327 2.7778 44.015\" clip-path=\"url(#c67b31a50fa)\" fill=\"none\" stroke=\"#737880\" stroke-linecap=\"round\" stroke-opacity=\".5\" stroke-width=\"1.585\"/><path d=\"m173.85 15.327-51.011-1.9848\" clip-path=\"url(#c67b31a50fa)\" fill=\"none\" stroke=\"#737880\" stroke-linecap=\"round\" stroke-opacity=\".5\" stroke-width=\"1.585\"/><path d=\"m122.84 13.342 1.306 44.401\" clip-path=\"url(#c67b31a50fa)\" fill=\"none\" stroke=\"#737880\" stroke-linecap=\"round\" stroke-opacity=\".5\" stroke-width=\"1.585\"/><path d=\"m122.84 13.342-50.96 0.039348\" clip-path=\"url(#c67b31a50fa)\" fill=\"none\" stroke=\"#737880\" stroke-linecap=\"round\" stroke-opacity=\".5\" stroke-width=\"1.585\"/><path d=\"m71.883 13.382 0.038258 44.064\" clip-path=\"url(#c67b31a50fa)\" fill=\"none\" stroke=\"#737880\" stroke-linecap=\"round\" stroke-opacity=\".5\" stroke-width=\"1.585\"/><path d=\"m71.883 13.382-42.335 1.7118\" clip-path=\"url(#c67b31a50fa)\" fill=\"none\" stroke=\"#737880\" stroke-linecap=\"round\" stroke-opacity=\".5\" stroke-width=\"1.585\"/><path d=\"m29.548 15.093-1.3562 43.143\" clip-path=\"url(#c67b31a50fa)\" fill=\"none\" stroke=\"#737880\" stroke-linecap=\"round\" stroke-opacity=\".5\" stroke-width=\"1.585\"/><path d=\"m220.71 61.773 2.3852 50.891\" clip-path=\"url(#c67b31a50fa)\" fill=\"none\" stroke=\"#737880\" stroke-linecap=\"round\" stroke-opacity=\".5\" stroke-width=\"1.585\"/><path d=\"m220.71 61.773-44.08-2.4315\" clip-path=\"url(#c67b31a50fa)\" fill=\"none\" stroke=\"#737880\" stroke-linecap=\"round\" stroke-opacity=\".5\" stroke-width=\"1.585\"/><path d=\"m176.63 59.342 1.9782 52.411\" clip-path=\"url(#c67b31a50fa)\" fill=\"none\" stroke=\"#737880\" stroke-linecap=\"round\" stroke-opacity=\".5\" stroke-width=\"1.585\"/><path d=\"m176.63 59.342-52.483-1.5983\" clip-path=\"url(#c67b31a50fa)\" fill=\"none\" stroke=\"#737880\" stroke-linecap=\"round\" stroke-opacity=\".5\" stroke-width=\"1.585\"/><path d=\"m124.15 57.743 1.3668 53.002\" clip-path=\"url(#c67b31a50fa)\" fill=\"none\" stroke=\"#737880\" stroke-linecap=\"round\" stroke-opacity=\".5\" stroke-width=\"1.585\"/><path d=\"m124.15 57.743-52.228-0.29752\" clip-path=\"url(#c67b31a50fa)\" fill=\"none\" stroke=\"#737880\" stroke-linecap=\"round\" stroke-opacity=\".5\" stroke-width=\"1.585\"/><path d=\"m71.921 57.446 0.56755 52.595\" clip-path=\"url(#c67b31a50fa)\" fill=\"none\" stroke=\"#737880\" stroke-linecap=\"round\" stroke-opacity=\".5\" stroke-width=\"1.585\"/><path d=\"m71.921 57.446-43.729 0.79091\" clip-path=\"url(#c67b31a50fa)\" fill=\"none\" stroke=\"#737880\" stroke-linecap=\"round\" stroke-opacity=\".5\" stroke-width=\"1.585\"/><path d=\"m28.192 58.237 0.20482 51.24\" clip-path=\"url(#c67b31a50fa)\" fill=\"none\" stroke=\"#737880\" stroke-linecap=\"round\" stroke-opacity=\".5\" stroke-width=\"1.585\"/><path d=\"m223.1 112.66 0.31121 50.974\" clip-path=\"url(#c67b31a50fa)\" fill=\"none\" stroke=\"#737880\" stroke-linecap=\"round\" stroke-opacity=\".5\" stroke-width=\"1.585\"/><path d=\"m223.1 112.66-44.487-0.91135\" clip-path=\"url(#c67b31a50fa)\" fill=\"none\" stroke=\"#737880\" stroke-linecap=\"round\" stroke-opacity=\".5\" stroke-width=\"1.585\"/><path d=\"m178.61 111.75 0.67356 52.189\" clip-path=\"url(#c67b31a50fa)\" fill=\"none\" stroke=\"#737880\" stroke-linecap=\"round\" stroke-opacity=\".5\" stroke-width=\"1.585\"/><path d=\"m178.61 111.75-53.094-1.0077\" clip-path=\"url(#c67b31a50fa)\" fill=\"none\" stroke=\"#737880\" stroke-linecap=\"round\" stroke-opacity=\".5\" stroke-width=\"1.585\"/><path d=\"m125.52 110.74 1.1304 52.924\" clip-path=\"url(#c67b31a50fa)\" fill=\"none\" stroke=\"#737880\" stroke-linecap=\"round\" stroke-opacity=\".5\" stroke-width=\"1.585\"/><path d=\"m125.52 110.74-53.027-0.70462\" clip-path=\"url(#c67b31a50fa)\" fill=\"none\" stroke=\"#737880\" stroke-linecap=\"round\" stroke-opacity=\".5\" stroke-width=\"1.585\"/><path d=\"m72.489 110.04 1.766 52.225\" clip-path=\"url(#c67b31a50fa)\" fill=\"none\" stroke=\"#737880\" stroke-linecap=\"round\" stroke-opacity=\".5\" stroke-width=\"1.585\"/><path d=\"m72.489 110.04-44.092-0.56348\" clip-path=\"url(#c67b31a50fa)\" fill=\"none\" stroke=\"#737880\" stroke-linecap=\"round\" stroke-opacity=\".5\" stroke-width=\"1.585\"/><path d=\"m28.397 109.48 2.0082 51.113\" clip-path=\"url(#c67b31a50fa)\" fill=\"none\" stroke=\"#737880\" stroke-linecap=\"round\" stroke-opacity=\".5\" stroke-width=\"1.585\"/><path d=\"m223.41 163.64-1.4218 42.329\" clip-path=\"url(#c67b31a50fa)\" fill=\"none\" stroke=\"#737880\" stroke-linecap=\"round\" stroke-opacity=\".5\" stroke-width=\"1.585\"/><path d=\"m223.41 163.64-44.125 0.30452\" clip-path=\"url(#c67b31a50fa)\" fill=\"none\" stroke=\"#737880\" stroke-linecap=\"round\" stroke-opacity=\".5\" stroke-width=\"1.585\"/><path d=\"m179.28 163.94-0.39752 43.682\" clip-path=\"url(#c67b31a50fa)\" fill=\"none\" stroke=\"#737880\" stroke-linecap=\"round\" stroke-opacity=\".5\" stroke-width=\"1.585\"/><path d=\"m179.28 163.94-52.637-0.27337\" clip-path=\"url(#c67b31a50fa)\" fill=\"none\" stroke=\"#737880\" stroke-linecap=\"round\" stroke-opacity=\".5\" stroke-width=\"1.585\"/><path d=\"m126.65 163.67 0.85436 44.039\" clip-path=\"url(#c67b31a50fa)\" fill=\"none\" stroke=\"#737880\" stroke-linecap=\"round\" stroke-opacity=\".5\" stroke-width=\"1.585\"/><path d=\"m126.65 163.67-52.391-1.4034\" clip-path=\"url(#c67b31a50fa)\" fill=\"none\" stroke=\"#737880\" stroke-linecap=\"round\" stroke-opacity=\".5\" stroke-width=\"1.585\"/><path d=\"m74.255 162.27 2.0431 43.735\" clip-path=\"url(#c67b31a50fa)\" fill=\"none\" stroke=\"#737880\" stroke-linecap=\"round\" stroke-opacity=\".5\" stroke-width=\"1.585\"/><path d=\"m74.255 162.27-43.85-1.6757\" clip-path=\"url(#c67b31a50fa)\" fill=\"none\" stroke=\"#737880\" stroke-linecap=\"round\" stroke-opacity=\".5\" stroke-width=\"1.585\"/><path d=\"m30.405 160.59 3.2794 42.441\" clip-path=\"url(#c67b31a50fa)\" fill=\"none\" stroke=\"#737880\" stroke-linecap=\"round\" stroke-opacity=\".5\" stroke-width=\"1.585\"/><path d=\"m221.99 205.97-43.101 1.6573\" clip-path=\"url(#c67b31a50fa)\" fill=\"none\" stroke=\"#737880\" stroke-linecap=\"round\" stroke-opacity=\".5\" stroke-width=\"1.585\"/><path d=\"m178.89 207.62-51.385 0.084462\" clip-path=\"url(#c67b31a50fa)\" fill=\"none\" stroke=\"#737880\" stroke-linecap=\"round\" stroke-opacity=\".5\" stroke-width=\"1.585\"/><path d=\"m127.5 207.71-51.203-1.7078\" clip-path=\"url(#c67b31a50fa)\" fill=\"none\" stroke=\"#737880\" stroke-linecap=\"round\" stroke-opacity=\".5\" stroke-width=\"1.585\"/><path d=\"m76.298 206-42.613-2.9698\" clip-path=\"url(#c67b31a50fa)\" fill=\"none\" stroke=\"#737880\" stroke-linecap=\"round\" stroke-opacity=\".5\" stroke-width=\"1.585\"/><path d=\"m203.19 36.589c0.95671 0 1.8744-0.3801 2.5509-1.0566s1.0566-1.5942 1.0566-2.5509-0.3801-1.8744-1.0566-2.5509-1.5942-1.0566-2.5509-1.0566c-0.95671 0-1.8744 0.3801-2.5509 1.0566s-1.0566 1.5942-1.0566 2.5509 0.3801 1.8744 1.0566 2.5509 1.5942 1.0566 2.5509 1.0566z\" clip-path=\"url(#c67b31a50fa)\" fill=\"#0072b2\" stroke=\"#0067a0\" stroke-width=\".98567\"/><path d=\"m160.58 33.638c0.95671 0 1.8744-0.3801 2.5509-1.0566 0.6765-0.6765 1.0566-1.5942 1.0566-2.5509s-0.3801-1.8744-1.0566-2.5509c-0.6765-0.6765-1.5942-1.0566-2.5509-1.0566-0.95671 0-1.8744 0.3801-2.5509 1.0566s-1.0566 1.5942-1.0566 2.5509 0.3801 1.8744 1.0566 2.5509 1.5942 1.0566 2.5509 1.0566z\" clip-path=\"url(#c67b31a50fa)\" fill=\"#589abf\" stroke=\"#4f8aac\" stroke-width=\".98567\"/><path d=\"m109.37 31.993c0.95671 0 1.8744-0.3801 2.5509-1.0566s1.0566-1.5942 1.0566-2.5509-0.3801-1.8744-1.0566-2.5509-1.5942-1.0566-2.5509-1.0566c-0.95671 0-1.8744 0.3801-2.5509 1.0566-0.6765 0.6765-1.0566 1.5942-1.0566 2.5509s0.3801 1.8744 1.0566 2.5509c0.6765 0.6765 1.5942 1.0566 2.5509 1.0566z\" clip-path=\"url(#c67b31a50fa)\" fill=\"#93b8cd\" stroke=\"#84a6b9\" stroke-width=\".98567\"/><path d=\"m57.951 32.171c0.95671 0 1.8744-0.3801 2.5509-1.0566 0.6765-0.6765 1.0566-1.5942 1.0566-2.5509 0-0.95671-0.3801-1.8744-1.0566-2.5509s-1.5942-1.0566-2.5509-1.0566-1.8744 0.3801-2.5509 1.0566-1.0566 1.5942-1.0566 2.5509c0 0.95671 0.3801 1.8744 1.0566 2.5509 0.6765 0.6765 1.5942 1.0566 2.5509 1.0566z\" clip-path=\"url(#c67b31a50fa)\" fill=\"#59acdb\" stroke=\"#509bc5\" stroke-width=\".98567\"/><path d=\"m14.806 33.805c0.95671 0 1.8744-0.3801 2.5509-1.0566s1.0566-1.5942 1.0566-2.5509c0-0.95671-0.3801-1.8744-1.0566-2.5509s-1.5942-1.0566-2.5509-1.0566-1.8744 0.3801-2.5509 1.0566c-0.6765 0.6765-1.0566 1.5942-1.0566 2.5509 0 0.95671 0.3801 1.8744 1.0566 2.5509 0.6765 0.6765 1.5942 1.0566 2.5509 1.0566z\" clip-path=\"url(#c67b31a50fa)\" fill=\"#62b8e8\" stroke=\"#58a6d1\" stroke-width=\".98567\"/><path d=\"m206.42 79.128c0.95671 0 1.8744-0.3801 2.5509-1.0566s1.0566-1.5942 1.0566-2.5509-0.3801-1.8744-1.0566-2.5509-1.5942-1.0566-2.5509-1.0566-1.8744 0.3801-2.5509 1.0566c-0.6765 0.6765-1.0566 1.5942-1.0566 2.5509s0.3801 1.8744 1.0566 2.5509c0.6765 0.6765 1.5942 1.0566 2.5509 1.0566z\" clip-path=\"url(#c67b31a50fa)\" fill=\"#95c0cc\" stroke=\"#86adb7\" stroke-width=\".98567\"/><path d=\"m162.62 77.384c0.95671 0 1.8744-0.3801 2.5509-1.0566s1.0566-1.5942 1.0566-2.5509c0-0.95671-0.3801-1.8744-1.0566-2.5509s-1.5942-1.0566-2.5509-1.0566c-0.95671 0-1.8744 0.3801-2.5509 1.0566s-1.0566 1.5942-1.0566 2.5509c0 0.95671 0.3801 1.8744 1.0566 2.5509s1.5942 1.0566 2.5509 1.0566z\" clip-path=\"url(#c67b31a50fa)\" fill=\"#69abad\" stroke=\"#5e9a9c\" stroke-width=\".98567\"/><path d=\"m110.22 76.019c0.95671 0 1.8744-0.3801 2.5509-1.0566s1.0566-1.5942 1.0566-2.5509-0.3801-1.8744-1.0566-2.5509-1.5942-1.0566-2.5509-1.0566-1.8744 0.3801-2.5509 1.0566-1.0566 1.5942-1.0566 2.5509 0.3801 1.8744 1.0566 2.5509 1.5942 1.0566 2.5509 1.0566z\" clip-path=\"url(#c67b31a50fa)\" fill=\"#18a492\" stroke=\"#159383\" stroke-width=\".98567\"/><path d=\"m57.572 75.761c0.95671 0 1.8744-0.3801 2.5509-1.0566s1.0566-1.5942 1.0566-2.5509c0-0.95671-0.3801-1.8744-1.0566-2.5509s-1.5942-1.0566-2.5509-1.0566-1.8744 0.3801-2.5509 1.0566-1.0566 1.5942-1.0566 2.5509c0 0.95671 0.3801 1.8744 1.0566 2.5509s1.5942 1.0566 2.5509 1.0566z\" clip-path=\"url(#c67b31a50fa)\" fill=\"#319e80\" stroke=\"#2c8e74\" stroke-width=\".98567\"/><path d=\"m13.348 76.154c0.95671 0 1.8744-0.3801 2.5509-1.0566s1.0566-1.5942 1.0566-2.5509-0.3801-1.8744-1.0566-2.5509-1.5942-1.0566-2.5509-1.0566-1.8744 0.3801-2.5509 1.0566-1.0566 1.5942-1.0566 2.5509 0.3801 1.8744 1.0566 2.5509 1.5942 1.0566 2.5509 1.0566z\" clip-path=\"url(#c67b31a50fa)\" fill=\"#8ab097\" stroke=\"#7c9f88\" stroke-width=\".98567\"/><path d=\"m208.37 130.31c0.95671 0 1.8744-0.3801 2.5509-1.0566 0.6765-0.6765 1.0566-1.5942 1.0566-2.5509 0-0.95671-0.3801-1.8744-1.0566-2.5509s-1.5942-1.0566-2.5509-1.0566c-0.95671 0-1.8744 0.3801-2.5509 1.0566-0.6765 0.6765-1.0566 1.5942-1.0566 2.5509 0 0.95671 0.3801 1.8744 1.0566 2.5509 0.6765 0.6765 1.5942 1.0566 2.5509 1.0566z\" clip-path=\"url(#c67b31a50fa)\" fill=\"#88c172\" stroke=\"#7aad67\" stroke-width=\".98567\"/><path d=\"m164.28 129.74c0.95671 0 1.8744-0.3801 2.5509-1.0566 0.6765-0.6765 1.0566-1.5942 1.0566-2.5509 0-0.95671-0.3801-1.8744-1.0566-2.5509-0.6765-0.6765-1.5942-1.0566-2.5509-1.0566-0.95671 0-1.8744 0.3801-2.5509 1.0566s-1.0566 1.5942-1.0566 2.5509c0 0.95671 0.3801 1.8744 1.0566 2.5509s1.5942 1.0566 2.5509 1.0566z\" clip-path=\"url(#c67b31a50fa)\" fill=\"#b6d354\" stroke=\"#a4be4b\" stroke-width=\".98567\"/><path d=\"m111.29 128.96c0.95671 0 1.8744-0.3801 2.5509-1.0566 0.6765-0.6765 1.0566-1.5942 1.0566-2.5509s-0.3801-1.8744-1.0566-2.5509-1.5942-1.0566-2.5509-1.0566-1.8744 0.3801-2.5509 1.0566-1.0566 1.5942-1.0566 2.5509 0.3801 1.8744 1.0566 2.5509c0.6765 0.6765 1.5942 1.0566 2.5509 1.0566z\" clip-path=\"url(#c67b31a50fa)\" fill=\"#f0eaa1\" stroke=\"#d8d390\" stroke-width=\".98567\"/><path d=\"m58.189 127.94c0.95671 0 1.8744-0.3801 2.5509-1.0566s1.0566-1.5942 1.0566-2.5509-0.3801-1.8744-1.0566-2.5509-1.5942-1.0566-2.5509-1.0566c-0.95671 0-1.8744 0.3801-2.5509 1.0566s-1.0566 1.5942-1.0566 2.5509 0.3801 1.8744 1.0566 2.5509 1.5942 1.0566 2.5509 1.0566z\" clip-path=\"url(#c67b31a50fa)\" fill=\"#eee198\" stroke=\"#d6cb89\" stroke-width=\".98567\"/><path d=\"m13.684 127.08c0.95671 0 1.8744-0.3801 2.5509-1.0566s1.0566-1.5942 1.0566-2.5509c0-0.95671-0.3801-1.8744-1.0566-2.5509s-1.5942-1.0566-2.5509-1.0566-1.8744 0.3801-2.5509 1.0566-1.0566 1.5942-1.0566 2.5509c0 0.95671 0.3801 1.8744 1.0566 2.5509s1.5942 1.0566 2.5509 1.0566z\" clip-path=\"url(#c67b31a50fa)\" fill=\"#ebc329\" stroke=\"#d3af25\" stroke-width=\".98567\"/><path d=\"m208.59 181.57c0.95671 0 1.8744-0.3801 2.5509-1.0566 0.6765-0.6765 1.0566-1.5942 1.0566-2.5509 0-0.95671-0.3801-1.8744-1.0566-2.5509s-1.5942-1.0566-2.5509-1.0566c-0.95671 0-1.8744 0.3801-2.5509 1.0566s-1.0566 1.5942-1.0566 2.5509c0 0.95671 0.3801 1.8744 1.0566 2.5509 0.6765 0.6765 1.5942 1.0566 2.5509 1.0566z\" clip-path=\"url(#c67b31a50fa)\" fill=\"#e8bc41\" stroke=\"#d1aa3b\" stroke-width=\".98567\"/><path d=\"m164.94 182.31c0.95671 0 1.8744-0.3801 2.5509-1.0566 0.6765-0.6765 1.0566-1.5942 1.0566-2.5509s-0.3801-1.8744-1.0566-2.5509-1.5942-1.0566-2.5509-1.0566-1.8744 0.3801-2.5509 1.0566-1.0566 1.5942-1.0566 2.5509 0.3801 1.8744 1.0566 2.5509c0.6765 0.6765 1.5942 1.0566 2.5509 1.0566z\" clip-path=\"url(#c67b31a50fa)\" fill=\"#e6ce99\" stroke=\"#cfba89\" stroke-width=\".98567\"/><path d=\"m112.69 181.93c0.95671 0 1.8744-0.3801 2.5509-1.0566s1.0566-1.5942 1.0566-2.5509c0-0.95671-0.3801-1.8744-1.0566-2.5509s-1.5942-1.0566-2.5509-1.0566-1.8744 0.3801-2.5509 1.0566-1.0566 1.5942-1.0566 2.5509c0 0.95671 0.3801 1.8744 1.0566 2.5509s1.5942 1.0566 2.5509 1.0566z\" clip-path=\"url(#c67b31a50fa)\" fill=\"#e2a846\" stroke=\"#cb973f\" stroke-width=\".98567\"/><path d=\"m60.201 180.35c0.95671 0 1.8744-0.3801 2.5509-1.0566s1.0566-1.5942 1.0566-2.5509c0-0.95671-0.3801-1.8744-1.0566-2.5509s-1.5942-1.0566-2.5509-1.0566c-0.95671 0-1.8744 0.3801-2.5509 1.0566s-1.0566 1.5942-1.0566 2.5509c0 0.95671 0.3801 1.8744 1.0566 2.5509s1.5942 1.0566 2.5509 1.0566z\" clip-path=\"url(#c67b31a50fa)\" fill=\"#dd7e02\" stroke=\"#c77202\" stroke-width=\".98567\"/><path d=\"m16.128 177.92c0.95671 0 1.8744-0.3801 2.5509-1.0566s1.0566-1.5942 1.0566-2.5509c0-0.95671-0.3801-1.8744-1.0566-2.5509s-1.5942-1.0566-2.5509-1.0566c-0.95671 0-1.8744 0.3801-2.5509 1.0566s-1.0566 1.5942-1.0566 2.5509c0 0.95671 0.3801 1.8744 1.0566 2.5509s1.5942 1.0566 2.5509 1.0566z\" clip-path=\"url(#c67b31a50fa)\" fill=\"#d9a167\" stroke=\"#c3915d\" stroke-width=\".98567\"/><path d=\"m207.32 224.68c0.95671 0 1.8744-0.3801 2.5509-1.0566s1.0566-1.5942 1.0566-2.5509c0-0.95671-0.3801-1.8744-1.0566-2.5509s-1.5942-1.0566-2.5509-1.0566c-0.95671 0-1.8744 0.3801-2.5509 1.0566s-1.0566 1.5942-1.0566 2.5509c0 0.95671 0.3801 1.8744 1.0566 2.5509s1.5942 1.0566 2.5509 1.0566z\" clip-path=\"url(#c67b31a50fa)\" fill=\"#d5a681\" stroke=\"#c09574\" stroke-width=\".98567\"/><path d=\"m164.98 226.43c0.95671 0 1.8744-0.3801 2.5509-1.0566s1.0566-1.5942 1.0566-2.5509-0.3801-1.8744-1.0566-2.5509-1.5942-1.0566-2.5509-1.0566c-0.95671 0-1.8744 0.3801-2.5509 1.0566s-1.0566 1.5942-1.0566 2.5509 0.3801 1.8744 1.0566 2.5509 1.5942 1.0566 2.5509 1.0566z\" clip-path=\"url(#c67b31a50fa)\" fill=\"#d36f3c\" stroke=\"#be6436\" stroke-width=\".98567\"/><path d=\"m113.99 226.42c0.95671 0 1.8744-0.3801 2.5509-1.0566s1.0566-1.5942 1.0566-2.5509c0-0.95671-0.3801-1.8744-1.0566-2.5509s-1.5942-1.0566-2.5509-1.0566-1.8744 0.3801-2.5509 1.0566-1.0566 1.5942-1.0566 2.5509c0 0.95671 0.3801 1.8744 1.0566 2.5509s1.5942 1.0566 2.5509 1.0566z\" clip-path=\"url(#c67b31a50fa)\" fill=\"#d07b68\" stroke=\"#bc6f5d\" stroke-width=\".98567\"/><path d=\"m63.028 224.36c0.95671 0 1.8744-0.3801 2.5509-1.0566 0.6765-0.6765 1.0566-1.5942 1.0566-2.5509s-0.3801-1.8744-1.0566-2.5509-1.5942-1.0566-2.5509-1.0566c-0.95671 0-1.8744 0.3801-2.5509 1.0566s-1.0566 1.5942-1.0566 2.5509 0.3801 1.8744 1.0566 2.5509c0.6765 0.6765 1.5942 1.0566 2.5509 1.0566z\" clip-path=\"url(#c67b31a50fa)\" fill=\"#ceadb2\" stroke=\"#ba9ca0\" stroke-width=\".98567\"/><path d=\"m20.418 220.48c0.95671 0 1.8744-0.3801 2.5509-1.0566s1.0566-1.5942 1.0566-2.5509c0-0.95671-0.3801-1.8744-1.0566-2.5509s-1.5942-1.0566-2.5509-1.0566-1.8744 0.3801-2.5509 1.0566-1.0566 1.5942-1.0566 2.5509c0 0.95671 0.3801 1.8744 1.0566 2.5509s1.5942 1.0566 2.5509 1.0566z\" clip-path=\"url(#c67b31a50fa)\" fill=\"#cc9ab6\" stroke=\"#b88aa3\" stroke-width=\".98567\"/><path d=\"m216.5 22.785c0.95671 0 1.8744-0.3801 2.5509-1.0566s1.0566-1.5942 1.0566-2.5509c0-0.95671-0.3801-1.8744-1.0566-2.5509s-1.5942-1.0566-2.5509-1.0566c-0.95671 0-1.8744 0.3801-2.5509 1.0566-0.6765 0.6765-1.0566 1.5942-1.0566 2.5509 0 0.95671 0.3801 1.8744 1.0566 2.5509 0.6765 0.6765 1.5942 1.0566 2.5509 1.0566z\" clip-path=\"url(#c67b31a50fa)\" fill=\"#0072b2\" stroke=\"#0067a0\" stroke-width=\".98567\"/><path d=\"m173.85 18.935c0.95671 0 1.8744-0.3801 2.5509-1.0566s1.0566-1.5942 1.0566-2.5509-0.3801-1.8744-1.0566-2.5509-1.5942-1.0566-2.5509-1.0566-1.8744 0.3801-2.5509 1.0566-1.0566 1.5942-1.0566 2.5509 0.3801 1.8744 1.0566 2.5509 1.5942 1.0566 2.5509 1.0566z\" clip-path=\"url(#c67b31a50fa)\" fill=\"#589abf\" stroke=\"#4f8aac\" stroke-width=\".98567\"/><path d=\"m122.84 16.95c0.95671 0 1.8744-0.3801 2.5509-1.0566s1.0566-1.5942 1.0566-2.5509-0.3801-1.8744-1.0566-2.5509-1.5942-1.0566-2.5509-1.0566-1.8744 0.3801-2.5509 1.0566-1.0566 1.5942-1.0566 2.5509 0.3801 1.8744 1.0566 2.5509 1.5942 1.0566 2.5509 1.0566z\" clip-path=\"url(#c67b31a50fa)\" fill=\"#93b8cd\" stroke=\"#84a6b9\" stroke-width=\".98567\"/><path d=\"m71.883 16.989c0.95671 0 1.8744-0.3801 2.5509-1.0566 0.6765-0.6765 1.0566-1.5942 1.0566-2.5509 0-0.95671-0.3801-1.8744-1.0566-2.5509s-1.5942-1.0566-2.5509-1.0566c-0.95671 0-1.8744 0.3801-2.5509 1.0566-0.6765 0.6765-1.0566 1.5942-1.0566 2.5509 0 0.95671 0.3801 1.8744 1.0566 2.5509 0.6765 0.6765 1.5942 1.0566 2.5509 1.0566z\" clip-path=\"url(#c67b31a50fa)\" fill=\"#59acdb\" stroke=\"#509bc5\" stroke-width=\".98567\"/><path d=\"m29.548 18.701c0.95671 0 1.8744-0.3801 2.5509-1.0566s1.0566-1.5942 1.0566-2.5509c0-0.95671-0.3801-1.8744-1.0566-2.5509s-1.5942-1.0566-2.5509-1.0566c-0.95671 0-1.8744 0.3801-2.5509 1.0566s-1.0566 1.5942-1.0566 2.5509c0 0.95671 0.3801 1.8744 1.0566 2.5509s1.5942 1.0566 2.5509 1.0566z\" clip-path=\"url(#c67b31a50fa)\" fill=\"#62b8e8\" stroke=\"#58a6d1\" stroke-width=\".98567\"/><path d=\"m220.71 65.381c0.95671 0 1.8744-0.3801 2.5509-1.0566 0.6765-0.6765 1.0566-1.5942 1.0566-2.5509 0-0.95671-0.3801-1.8744-1.0566-2.5509-0.6765-0.6765-1.5942-1.0566-2.5509-1.0566-0.95671 0-1.8744 0.3801-2.5509 1.0566s-1.0566 1.5942-1.0566 2.5509c0 0.95671 0.3801 1.8744 1.0566 2.5509s1.5942 1.0566 2.5509 1.0566z\" clip-path=\"url(#c67b31a50fa)\" fill=\"#95c0cc\" stroke=\"#86adb7\" stroke-width=\".98567\"/><path d=\"m176.63 62.949c0.95671 0 1.8744-0.3801 2.5509-1.0566 0.6765-0.6765 1.0566-1.5942 1.0566-2.5509 0-0.95671-0.3801-1.8744-1.0566-2.5509-0.6765-0.6765-1.5942-1.0566-2.5509-1.0566-0.95671 0-1.8744 0.3801-2.5509 1.0566s-1.0566 1.5942-1.0566 2.5509c0 0.95671 0.3801 1.8744 1.0566 2.5509s1.5942 1.0566 2.5509 1.0566z\" clip-path=\"url(#c67b31a50fa)\" fill=\"#69abad\" stroke=\"#5e9a9c\" stroke-width=\".98567\"/><path d=\"m124.15 61.351c0.95671 0 1.8744-0.3801 2.5509-1.0566s1.0566-1.5942 1.0566-2.5509-0.3801-1.8744-1.0566-2.5509-1.5942-1.0566-2.5509-1.0566c-0.95671 0-1.8744 0.3801-2.5509 1.0566s-1.0566 1.5942-1.0566 2.5509 0.3801 1.8744 1.0566 2.5509 1.5942 1.0566 2.5509 1.0566z\" clip-path=\"url(#c67b31a50fa)\" fill=\"#18a492\" stroke=\"#159383\" stroke-width=\".98567\"/><path d=\"m71.921 61.053c0.95671 0 1.8744-0.3801 2.5509-1.0566 0.6765-0.6765 1.0566-1.5942 1.0566-2.5509s-0.3801-1.8744-1.0566-2.5509c-0.6765-0.6765-1.5942-1.0566-2.5509-1.0566-0.95671 0-1.8744 0.3801-2.5509 1.0566-0.6765 0.6765-1.0566 1.5942-1.0566 2.5509s0.3801 1.8744 1.0566 2.5509 1.5942 1.0566 2.5509 1.0566z\" clip-path=\"url(#c67b31a50fa)\" fill=\"#319e80\" stroke=\"#2c8e74\" stroke-width=\".98567\"/><path d=\"m28.192 61.844c0.95671 0 1.8744-0.3801 2.5509-1.0566s1.0566-1.5942 1.0566-2.5509-0.3801-1.8744-1.0566-2.5509-1.5942-1.0566-2.5509-1.0566c-0.95671 0-1.8744 0.3801-2.5509 1.0566-0.6765 0.6765-1.0566 1.5942-1.0566 2.5509s0.3801 1.8744 1.0566 2.5509c0.6765 0.6765 1.5942 1.0566 2.5509 1.0566z\" clip-path=\"url(#c67b31a50fa)\" fill=\"#8ab097\" stroke=\"#7c9f88\" stroke-width=\".98567\"/><path d=\"m223.1 116.27c0.95671 0 1.8744-0.3801 2.5509-1.0566 0.6765-0.6765 1.0566-1.5942 1.0566-2.5509 0-0.95671-0.3801-1.8744-1.0566-2.5509-0.6765-0.6765-1.5942-1.0566-2.5509-1.0566s-1.8744 0.3801-2.5509 1.0566-1.0566 1.5942-1.0566 2.5509c0 0.95671 0.3801 1.8744 1.0566 2.5509s1.5942 1.0566 2.5509 1.0566z\" clip-path=\"url(#c67b31a50fa)\" fill=\"#88c172\" stroke=\"#7aad67\" stroke-width=\".98567\"/><path d=\"m178.61 115.36c0.95671 0 1.8744-0.3801 2.5509-1.0566s1.0566-1.5942 1.0566-2.5509-0.3801-1.8744-1.0566-2.5509-1.5942-1.0566-2.5509-1.0566-1.8744 0.3801-2.5509 1.0566-1.0566 1.5942-1.0566 2.5509 0.3801 1.8744 1.0566 2.5509 1.5942 1.0566 2.5509 1.0566z\" clip-path=\"url(#c67b31a50fa)\" fill=\"#b6d354\" stroke=\"#a4be4b\" stroke-width=\".98567\"/><path d=\"m125.52 114.35c0.95671 0 1.8744-0.3801 2.5509-1.0566s1.0566-1.5942 1.0566-2.5509-0.3801-1.8744-1.0566-2.5509-1.5942-1.0566-2.5509-1.0566c-0.95671 0-1.8744 0.3801-2.5509 1.0566-0.6765 0.6765-1.0566 1.5942-1.0566 2.5509s0.3801 1.8744 1.0566 2.5509c0.6765 0.6765 1.5942 1.0566 2.5509 1.0566z\" clip-path=\"url(#c67b31a50fa)\" fill=\"#f0eaa1\" stroke=\"#d8d390\" stroke-width=\".98567\"/><path d=\"m72.489 113.65c0.95671 0 1.8744-0.3801 2.5509-1.0566 0.6765-0.6765 1.0566-1.5942 1.0566-2.5509 0-0.95671-0.3801-1.8744-1.0566-2.5509s-1.5942-1.0566-2.5509-1.0566-1.8744 0.3801-2.5509 1.0566-1.0566 1.5942-1.0566 2.5509c0 0.95671 0.3801 1.8744 1.0566 2.5509 0.6765 0.6765 1.5942 1.0566 2.5509 1.0566z\" clip-path=\"url(#c67b31a50fa)\" fill=\"#eee198\" stroke=\"#d6cb89\" stroke-width=\".98567\"/><path d=\"m28.397 113.08c0.95671 0 1.8744-0.3801 2.5509-1.0566s1.0566-1.5942 1.0566-2.5509c0-0.95671-0.3801-1.8744-1.0566-2.5509-0.6765-0.6765-1.5942-1.0566-2.5509-1.0566s-1.8744 0.3801-2.5509 1.0566c-0.6765 0.6765-1.0566 1.5942-1.0566 2.5509 0 0.95671 0.3801 1.8744 1.0566 2.5509s1.5942 1.0566 2.5509 1.0566z\" clip-path=\"url(#c67b31a50fa)\" fill=\"#ebc329\" stroke=\"#d3af25\" stroke-width=\".98567\"/><path d=\"m223.41 167.25c0.95671 0 1.8744-0.3801 2.5509-1.0566s1.0566-1.5942 1.0566-2.5509c0-0.95671-0.3801-1.8744-1.0566-2.5509s-1.5942-1.0566-2.5509-1.0566-1.8744 0.3801-2.5509 1.0566-1.0566 1.5942-1.0566 2.5509c0 0.95671 0.3801 1.8744 1.0566 2.5509s1.5942 1.0566 2.5509 1.0566z\" clip-path=\"url(#c67b31a50fa)\" fill=\"#e8bc41\" stroke=\"#d1aa3b\" stroke-width=\".98567\"/><path d=\"m179.28 167.55c0.95671 0 1.8744-0.3801 2.5509-1.0566s1.0566-1.5942 1.0566-2.5509c0-0.95671-0.3801-1.8744-1.0566-2.5509s-1.5942-1.0566-2.5509-1.0566c-0.95671 0-1.8744 0.3801-2.5509 1.0566-0.6765 0.6765-1.0566 1.5942-1.0566 2.5509 0 0.95671 0.3801 1.8744 1.0566 2.5509 0.6765 0.6765 1.5942 1.0566 2.5509 1.0566z\" clip-path=\"url(#c67b31a50fa)\" fill=\"#e6ce99\" stroke=\"#cfba89\" stroke-width=\".98567\"/><path d=\"m126.65 167.28c0.95671 0 1.8744-0.3801 2.5509-1.0566 0.6765-0.6765 1.0566-1.5942 1.0566-2.5509 0-0.95671-0.3801-1.8744-1.0566-2.5509s-1.5942-1.0566-2.5509-1.0566c-0.95671 0-1.8744 0.3801-2.5509 1.0566s-1.0566 1.5942-1.0566 2.5509c0 0.95671 0.3801 1.8744 1.0566 2.5509 0.6765 0.6765 1.5942 1.0566 2.5509 1.0566z\" clip-path=\"url(#c67b31a50fa)\" fill=\"#e2a846\" stroke=\"#cb973f\" stroke-width=\".98567\"/><path d=\"m74.255 165.87c0.95671 0 1.8744-0.3801 2.5509-1.0566s1.0566-1.5942 1.0566-2.5509c0-0.95671-0.3801-1.8744-1.0566-2.5509s-1.5942-1.0566-2.5509-1.0566c-0.95671 0-1.8744 0.3801-2.5509 1.0566s-1.0566 1.5942-1.0566 2.5509c0 0.95671 0.3801 1.8744 1.0566 2.5509s1.5942 1.0566 2.5509 1.0566z\" clip-path=\"url(#c67b31a50fa)\" fill=\"#dd7e02\" stroke=\"#c77202\" stroke-width=\".98567\"/><path d=\"m30.405 164.2c0.95671 0 1.8744-0.3801 2.5509-1.0566 0.6765-0.6765 1.0566-1.5942 1.0566-2.5509 0-0.95671-0.3801-1.8744-1.0566-2.5509-0.6765-0.6765-1.5942-1.0566-2.5509-1.0566-0.95671 0-1.8744 0.3801-2.5509 1.0566s-1.0566 1.5942-1.0566 2.5509c0 0.95671 0.3801 1.8744 1.0566 2.5509s1.5942 1.0566 2.5509 1.0566z\" clip-path=\"url(#c67b31a50fa)\" fill=\"#d9a167\" stroke=\"#c3915d\" stroke-width=\".98567\"/><path d=\"m221.99 209.57c0.95671 0 1.8744-0.3801 2.5509-1.0566s1.0566-1.5942 1.0566-2.5509-0.3801-1.8744-1.0566-2.5509-1.5942-1.0566-2.5509-1.0566-1.8744 0.3801-2.5509 1.0566-1.0566 1.5942-1.0566 2.5509 0.3801 1.8744 1.0566 2.5509 1.5942 1.0566 2.5509 1.0566z\" clip-path=\"url(#c67b31a50fa)\" fill=\"#d5a681\" stroke=\"#c09574\" stroke-width=\".98567\"/><path d=\"m178.89 211.23c0.95671 0 1.8744-0.3801 2.5509-1.0566 0.6765-0.6765 1.0566-1.5942 1.0566-2.5509 0-0.95671-0.3801-1.8744-1.0566-2.5509s-1.5942-1.0566-2.5509-1.0566c-0.95671 0-1.8744 0.3801-2.5509 1.0566s-1.0566 1.5942-1.0566 2.5509c0 0.95671 0.3801 1.8744 1.0566 2.5509 0.6765 0.6765 1.5942 1.0566 2.5509 1.0566z\" clip-path=\"url(#c67b31a50fa)\" fill=\"#d36f3c\" stroke=\"#be6436\" stroke-width=\".98567\"/><path d=\"m127.5 211.32c0.95671 0 1.8744-0.3801 2.5509-1.0566s1.0566-1.5942 1.0566-2.5509c0-0.95671-0.3801-1.8744-1.0566-2.5509s-1.5942-1.0566-2.5509-1.0566c-0.95671 0-1.8744 0.3801-2.5509 1.0566s-1.0566 1.5942-1.0566 2.5509c0 0.95671 0.3801 1.8744 1.0566 2.5509s1.5942 1.0566 2.5509 1.0566z\" clip-path=\"url(#c67b31a50fa)\" fill=\"#d07b68\" stroke=\"#bc6f5d\" stroke-width=\".98567\"/><path d=\"m76.298 209.61c0.95671 0 1.8744-0.3801 2.5509-1.0566s1.0566-1.5942 1.0566-2.5509c0-0.95671-0.3801-1.8744-1.0566-2.5509s-1.5942-1.0566-2.5509-1.0566-1.8744 0.3801-2.5509 1.0566-1.0566 1.5942-1.0566 2.5509c0 0.95671 0.3801 1.8744 1.0566 2.5509s1.5942 1.0566 2.5509 1.0566z\" clip-path=\"url(#c67b31a50fa)\" fill=\"#ceadb2\" stroke=\"#ba9ca0\" stroke-width=\".98567\"/><path d=\"m33.684 206.64c0.95671 0 1.8744-0.3801 2.5509-1.0566s1.0566-1.5942 1.0566-2.5509c0-0.95671-0.3801-1.8744-1.0566-2.5509s-1.5942-1.0566-2.5509-1.0566-1.8744 0.3801-2.5509 1.0566-1.0566 1.5942-1.0566 2.5509c0 0.95671 0.3801 1.8744 1.0566 2.5509s1.5942 1.0566 2.5509 1.0566z\" clip-path=\"url(#c67b31a50fa)\" fill=\"#cc9ab6\" stroke=\"#b88aa3\" stroke-width=\".98567\"/><defs><clipPath id=\"c67b31a50fa\"><rect x=\"7.2\" y=\"7.2\" width=\"222.36\" height=\"221.76\"/></clipPath></defs></svg>"
      ],
      "text/plain": [
       "<Figure size 400x400 with 1 Axes>"
      ]
     },
     "metadata": {
      "needs_background": "light"
     },
     "output_type": "display_data"
    }
   ],
   "source": [
    "norm.draw(color=norm.site_tags, figsize=(4, 4))"
   ]
  },
  {
   "cell_type": "markdown",
   "id": "6f0b0d46-dc88-4d9c-9596-f55df99fd8e0",
   "metadata": {
    "raw_mimetype": "text/restructuredtext"
   },
   "source": [
    "## Contracting 2D Tensor Networks\n",
    "\n",
    "Note that unlike 1D tensor networks, 2D tensor networks cannot be efficiently\n",
    "contracted exactly, and so care should taken when calling `.contract`\n",
    "directly. Our PEPS here is still small enough however for our memory:"
   ]
  },
  {
   "cell_type": "code",
   "execution_count": 11,
   "id": "6b0d38a7-b6a5-42d4-8059-1424a4bba4fd",
   "metadata": {},
   "outputs": [
    {
     "data": {
      "text/plain": [
       "0.5077521135992215"
      ]
     },
     "execution_count": 11,
     "metadata": {},
     "output_type": "execute_result"
    }
   ],
   "source": [
    "norm.contract(all, optimize='auto-hq')"
   ]
  },
  {
   "cell_type": "markdown",
   "id": "e8f2dfda-6f65-4213-8b73-a8ba5eae9f42",
   "metadata": {
    "raw_mimetype": "text/restructuredtext"
   },
   "source": [
    "The `contract` function then treats it as any other tensor network.\n",
    "\n",
    "More generally, one would want to use **boundary contraction** to approximately\n",
    "contract any 2D tensor networks, using one of the following methods:\n",
    "\n",
    "- {meth}`~quimb.tensor.tensor_2d.TensorNetwork2D.contract_boundary`,\n",
    "- {meth}`~quimb.tensor.tensor_2d.TensorNetwork2D.contract_boundary_from_bottom`,\n",
    "- {meth}`~quimb.tensor.tensor_2d.TensorNetwork2D.contract_boundary_from_left`,\n",
    "- {meth}`~quimb.tensor.tensor_2d.TensorNetwork2D.contract_boundary_from_top`,\n",
    "- {meth}`~quimb.tensor.tensor_2d.TensorNetwork2D.contract_boundary_from_right`,\n",
    "\n",
    "Here, one *compresses* between tensors as we\n",
    "contract to limit bonds from growing beyond a maximum size:"
   ]
  },
  {
   "cell_type": "code",
   "execution_count": 12,
   "id": "cdc75e9d-fc49-4baf-9e10-2f57ffa0982b",
   "metadata": {},
   "outputs": [
    {
     "name": "stdout",
     "output_type": "stream",
     "text": [
      "CPU times: user 1.62 s, sys: 34.8 ms, total: 1.65 s\n",
      "Wall time: 234 ms\n"
     ]
    },
    {
     "data": {
      "text/plain": [
       "0.506999178700516"
      ]
     },
     "execution_count": 12,
     "metadata": {},
     "output_type": "execute_result"
    }
   ],
   "source": [
    "%%time\n",
    "norm.contract_boundary(max_bond=32)"
   ]
  },
  {
   "cell_type": "markdown",
   "id": "ba1d189a-427d-4d39-9998-2b39db631b02",
   "metadata": {
    "raw_mimetype": "text/restructuredtext"
   },
   "source": [
    "We can see here than the answer is slightly off, even with a large bond\n",
    "dimension of `64` (random PEPS are harder than 'physical' PEPS to\n",
    "contract usually).\n",
    "\n",
    ":::{warning}\n",
    "The default options for\n",
    "{meth}`~quimb.tensor.tensor_2d.TensorNetwork2D.contract_boundary` are those\n",
    "of {func}`~quimb.tensor.tensor_core.tensor_split`, meaning\n",
    "`max_bond=None` (no dimension limit) and `cutoff=1e-10` (only remove\n",
    "very small singular values). **These won't be nearly aggressive enough to\n",
    "contract most 2D TNs efficiently - you should set these!**\n",
    ":::"
   ]
  },
  {
   "cell_type": "markdown",
   "id": "9866d316-2ca2-4862-9499-0ab974cd9c68",
   "metadata": {},
   "source": [
    "By default `contract_boundary` also flattens the TN as it goes.\n",
    "If you want to do a multilayer boundary contraction you need to tag\n",
    "the different layers and specify them:"
   ]
  },
  {
   "cell_type": "code",
   "execution_count": 13,
   "id": "3e2d29b1-0520-48b7-8011-b6dae7f58236",
   "metadata": {},
   "outputs": [],
   "source": [
    "peps.add_tag('KET')\n",
    "pepsH = peps.conj().retag({'KET': 'BRA'})\n",
    "norm = pepsH & peps"
   ]
  },
  {
   "cell_type": "code",
   "execution_count": 14,
   "id": "dafeca62-cd01-4bd6-b97f-b85502474ca0",
   "metadata": {},
   "outputs": [
    {
     "data": {
      "image/svg+xml": [
       "<?xml version=\"1.0\" encoding=\"UTF-8\"?><!DOCTYPE svg  PUBLIC '-//W3C//DTD SVG 1.1//EN'  'http://www.w3.org/Graphics/SVG/1.1/DTD/svg11.dtd'><svg width=\"246.25pt\" height=\"180.72pt\" version=\"1.1\" viewBox=\"0 0 246.25 180.72\" xmlns=\"http://www.w3.org/2000/svg\" xmlns:xlink=\"http://www.w3.org/1999/xlink\"><defs><style type=\"text/css\">*{stroke-linejoin: round; stroke-linecap: butt}</style></defs><path d=\"m0 180.72h246.25v-180.72h-246.25v180.72z\" opacity=\"0\"/><path d=\"m154.19 26.536 2.4262 31.905\" clip-path=\"url(#9d1e7f1fbb3)\" fill=\"none\" stroke=\"#737880\" stroke-linecap=\"round\" stroke-opacity=\".5\" stroke-width=\"1.585\"/><path d=\"m154.19 26.536-31.955-2.2129\" clip-path=\"url(#9d1e7f1fbb3)\" fill=\"none\" stroke=\"#737880\" stroke-linecap=\"round\" stroke-opacity=\".5\" stroke-width=\"1.585\"/><path d=\"m154.19 26.536 9.9882-10.353\" clip-path=\"url(#9d1e7f1fbb3)\" fill=\"none\" stroke=\"#737880\" stroke-linecap=\"round\" stroke-opacity=\".5\"/><path d=\"m122.24 24.323 1.5322 32.809\" clip-path=\"url(#9d1e7f1fbb3)\" fill=\"none\" stroke=\"#737880\" stroke-linecap=\"round\" stroke-opacity=\".5\" stroke-width=\"1.585\"/><path d=\"m122.24 24.323-38.406-1.234\" clip-path=\"url(#9d1e7f1fbb3)\" fill=\"none\" stroke=\"#737880\" stroke-linecap=\"round\" stroke-opacity=\".5\" stroke-width=\"1.585\"/><path d=\"m122.24 24.323 9.9548-11.028\" clip-path=\"url(#9d1e7f1fbb3)\" fill=\"none\" stroke=\"#737880\" stroke-linecap=\"round\" stroke-opacity=\".5\"/><path d=\"m83.83 23.089 0.63767 33.02\" clip-path=\"url(#9d1e7f1fbb3)\" fill=\"none\" stroke=\"#737880\" stroke-linecap=\"round\" stroke-opacity=\".5\" stroke-width=\"1.585\"/><path d=\"m83.83 23.089-38.566 0.13349\" clip-path=\"url(#9d1e7f1fbb3)\" fill=\"none\" stroke=\"#737880\" stroke-linecap=\"round\" stroke-opacity=\".5\" stroke-width=\"1.585\"/><path d=\"m83.83 23.089 10.102-11.283\" clip-path=\"url(#9d1e7f1fbb3)\" fill=\"none\" stroke=\"#737880\" stroke-linecap=\"round\" stroke-opacity=\".5\"/><path d=\"m45.263 23.223-0.28462 32.692\" clip-path=\"url(#9d1e7f1fbb3)\" fill=\"none\" stroke=\"#737880\" stroke-linecap=\"round\" stroke-opacity=\".5\" stroke-width=\"1.585\"/><path d=\"m45.263 23.223-32.359 1.2251\" clip-path=\"url(#9d1e7f1fbb3)\" fill=\"none\" stroke=\"#737880\" stroke-linecap=\"round\" stroke-opacity=\".5\" stroke-width=\"1.585\"/><path d=\"m45.263 23.223 10.449-11.387\" clip-path=\"url(#9d1e7f1fbb3)\" fill=\"none\" stroke=\"#737880\" stroke-linecap=\"round\" stroke-opacity=\".5\"/><path d=\"m12.904 24.448-1.0933 31.762\" clip-path=\"url(#9d1e7f1fbb3)\" fill=\"none\" stroke=\"#737880\" stroke-linecap=\"round\" stroke-opacity=\".5\" stroke-width=\"1.585\"/><path d=\"m12.904 24.448 11.057-11.328\" clip-path=\"url(#9d1e7f1fbb3)\" fill=\"none\" stroke=\"#737880\" stroke-linecap=\"round\" stroke-opacity=\".5\"/><path d=\"m156.62 58.441 1.4605 38.387\" clip-path=\"url(#9d1e7f1fbb3)\" fill=\"none\" stroke=\"#737880\" stroke-linecap=\"round\" stroke-opacity=\".5\" stroke-width=\"1.585\"/><path d=\"m156.62 58.441-32.849-1.3079\" clip-path=\"url(#9d1e7f1fbb3)\" fill=\"none\" stroke=\"#737880\" stroke-linecap=\"round\" stroke-opacity=\".5\" stroke-width=\"1.585\"/><path d=\"m156.62 58.441 10.718-10.311\" clip-path=\"url(#9d1e7f1fbb3)\" fill=\"none\" stroke=\"#737880\" stroke-linecap=\"round\" stroke-opacity=\".5\"/><path d=\"m123.77 57.133 1.2389 39.268\" clip-path=\"url(#9d1e7f1fbb3)\" fill=\"none\" stroke=\"#737880\" stroke-linecap=\"round\" stroke-opacity=\".5\" stroke-width=\"1.585\"/><path d=\"m123.77 57.133-39.3-1.0239\" clip-path=\"url(#9d1e7f1fbb3)\" fill=\"none\" stroke=\"#737880\" stroke-linecap=\"round\" stroke-opacity=\".5\" stroke-width=\"1.585\"/><path d=\"m123.77 57.133 10.506-10.826\" clip-path=\"url(#9d1e7f1fbb3)\" fill=\"none\" stroke=\"#737880\" stroke-linecap=\"round\" stroke-opacity=\".5\"/><path d=\"m84.467 56.109 0.79704 39.707\" clip-path=\"url(#9d1e7f1fbb3)\" fill=\"none\" stroke=\"#737880\" stroke-linecap=\"round\" stroke-opacity=\".5\" stroke-width=\"1.585\"/><path d=\"m84.467 56.109-39.489-0.19365\" clip-path=\"url(#9d1e7f1fbb3)\" fill=\"none\" stroke=\"#737880\" stroke-linecap=\"round\" stroke-opacity=\".5\" stroke-width=\"1.585\"/><path d=\"m84.467 56.109 10.444-11.001\" clip-path=\"url(#9d1e7f1fbb3)\" fill=\"none\" stroke=\"#737880\" stroke-linecap=\"round\" stroke-opacity=\".5\"/><path d=\"m44.979 55.915 0.46338 39.132\" clip-path=\"url(#9d1e7f1fbb3)\" fill=\"none\" stroke=\"#737880\" stroke-linecap=\"round\" stroke-opacity=\".5\" stroke-width=\"1.585\"/><path d=\"m44.979 55.915-33.168 0.29486\" clip-path=\"url(#9d1e7f1fbb3)\" fill=\"none\" stroke=\"#737880\" stroke-linecap=\"round\" stroke-opacity=\".5\" stroke-width=\"1.585\"/><path d=\"m44.979 55.915 10.762-11.031\" clip-path=\"url(#9d1e7f1fbb3)\" fill=\"none\" stroke=\"#737880\" stroke-linecap=\"round\" stroke-opacity=\".5\"/><path d=\"m11.811 56.21 0.25167 38.191\" clip-path=\"url(#9d1e7f1fbb3)\" fill=\"none\" stroke=\"#737880\" stroke-linecap=\"round\" stroke-opacity=\".5\" stroke-width=\"1.585\"/><path d=\"m11.811 56.21 11.133-10.733\" clip-path=\"url(#9d1e7f1fbb3)\" fill=\"none\" stroke=\"#737880\" stroke-linecap=\"round\" stroke-opacity=\".5\"/><path d=\"m158.08 96.827 0.16341 38.443\" clip-path=\"url(#9d1e7f1fbb3)\" fill=\"none\" stroke=\"#737880\" stroke-linecap=\"round\" stroke-opacity=\".5\" stroke-width=\"1.585\"/><path d=\"m158.08 96.827-33.07-0.4267\" clip-path=\"url(#9d1e7f1fbb3)\" fill=\"none\" stroke=\"#737880\" stroke-linecap=\"round\" stroke-opacity=\".5\" stroke-width=\"1.585\"/><path d=\"m158.08 96.827 11.046-10.529\" clip-path=\"url(#9d1e7f1fbb3)\" fill=\"none\" stroke=\"#737880\" stroke-linecap=\"round\" stroke-opacity=\".5\"/><path d=\"m125.01 96.401 0.49846 39.427\" clip-path=\"url(#9d1e7f1fbb3)\" fill=\"none\" stroke=\"#737880\" stroke-linecap=\"round\" stroke-opacity=\".5\" stroke-width=\"1.585\"/><path d=\"m125.01 96.401-39.742-0.5848\" clip-path=\"url(#9d1e7f1fbb3)\" fill=\"none\" stroke=\"#737880\" stroke-linecap=\"round\" stroke-opacity=\".5\" stroke-width=\"1.585\"/><path d=\"m125.01 96.401 10.751-10.786\" clip-path=\"url(#9d1e7f1fbb3)\" fill=\"none\" stroke=\"#737880\" stroke-linecap=\"round\" stroke-opacity=\".5\"/><path d=\"m85.264 95.816 1.0542 39.724\" clip-path=\"url(#9d1e7f1fbb3)\" fill=\"none\" stroke=\"#737880\" stroke-linecap=\"round\" stroke-opacity=\".5\" stroke-width=\"1.585\"/><path d=\"m85.264 95.816-39.822-0.76871\" clip-path=\"url(#9d1e7f1fbb3)\" fill=\"none\" stroke=\"#737880\" stroke-linecap=\"round\" stroke-opacity=\".5\" stroke-width=\"1.585\"/><path d=\"m85.264 95.816 10.672-10.957\" clip-path=\"url(#9d1e7f1fbb3)\" fill=\"none\" stroke=\"#737880\" stroke-linecap=\"round\" stroke-opacity=\".5\"/><path d=\"m45.442 95.047 1.5088 39.309\" clip-path=\"url(#9d1e7f1fbb3)\" fill=\"none\" stroke=\"#737880\" stroke-linecap=\"round\" stroke-opacity=\".5\" stroke-width=\"1.585\"/><path d=\"m45.442 95.047-33.379-0.64617\" clip-path=\"url(#9d1e7f1fbb3)\" fill=\"none\" stroke=\"#737880\" stroke-linecap=\"round\" stroke-opacity=\".5\" stroke-width=\"1.585\"/><path d=\"m45.442 95.047 10.725-10.717\" clip-path=\"url(#9d1e7f1fbb3)\" fill=\"none\" stroke=\"#737880\" stroke-linecap=\"round\" stroke-opacity=\".5\"/><path d=\"m12.063 94.401 1.8332 38.136\" clip-path=\"url(#9d1e7f1fbb3)\" fill=\"none\" stroke=\"#737880\" stroke-linecap=\"round\" stroke-opacity=\".5\" stroke-width=\"1.585\"/><path d=\"m12.063 94.401 11.035-10.493\" clip-path=\"url(#9d1e7f1fbb3)\" fill=\"none\" stroke=\"#737880\" stroke-linecap=\"round\" stroke-opacity=\".5\"/><path d=\"m158.24 135.27-0.95039 32.332\" clip-path=\"url(#9d1e7f1fbb3)\" fill=\"none\" stroke=\"#737880\" stroke-linecap=\"round\" stroke-opacity=\".5\" stroke-width=\"1.585\"/><path d=\"m158.24 135.27-32.735 0.5573\" clip-path=\"url(#9d1e7f1fbb3)\" fill=\"none\" stroke=\"#737880\" stroke-linecap=\"round\" stroke-opacity=\".5\" stroke-width=\"1.585\"/><path d=\"m158.24 135.27 11.116-10.742\" clip-path=\"url(#9d1e7f1fbb3)\" fill=\"none\" stroke=\"#737880\" stroke-linecap=\"round\" stroke-opacity=\".5\"/><path d=\"m125.51 135.83 0.027195 33.085\" clip-path=\"url(#9d1e7f1fbb3)\" fill=\"none\" stroke=\"#737880\" stroke-linecap=\"round\" stroke-opacity=\".5\" stroke-width=\"1.585\"/><path d=\"m125.51 135.83-39.187-0.28784\" clip-path=\"url(#9d1e7f1fbb3)\" fill=\"none\" stroke=\"#737880\" stroke-linecap=\"round\" stroke-opacity=\".5\" stroke-width=\"1.585\"/><path d=\"m125.51 135.83 10.757-11.071\" clip-path=\"url(#9d1e7f1fbb3)\" fill=\"none\" stroke=\"#737880\" stroke-linecap=\"round\" stroke-opacity=\".5\"/><path d=\"m86.319 135.54 0.97615 33.367\" clip-path=\"url(#9d1e7f1fbb3)\" fill=\"none\" stroke=\"#737880\" stroke-linecap=\"round\" stroke-opacity=\".5\" stroke-width=\"1.585\"/><path d=\"m86.319 135.54-39.368-1.184\" clip-path=\"url(#9d1e7f1fbb3)\" fill=\"none\" stroke=\"#737880\" stroke-linecap=\"round\" stroke-opacity=\".5\" stroke-width=\"1.585\"/><path d=\"m86.319 135.54 10.466-10.988\" clip-path=\"url(#9d1e7f1fbb3)\" fill=\"none\" stroke=\"#737880\" stroke-linecap=\"round\" stroke-opacity=\".5\"/><path d=\"m46.951 134.36 2.1204 33.012\" clip-path=\"url(#9d1e7f1fbb3)\" fill=\"none\" stroke=\"#737880\" stroke-linecap=\"round\" stroke-opacity=\".5\" stroke-width=\"1.585\"/><path d=\"m46.951 134.36-33.055-1.8191\" clip-path=\"url(#9d1e7f1fbb3)\" fill=\"none\" stroke=\"#737880\" stroke-linecap=\"round\" stroke-opacity=\".5\" stroke-width=\"1.585\"/><path d=\"m46.951 134.36 10.54-10.857\" clip-path=\"url(#9d1e7f1fbb3)\" fill=\"none\" stroke=\"#737880\" stroke-linecap=\"round\" stroke-opacity=\".5\"/><path d=\"m13.896 132.54 3.2176 31.915\" clip-path=\"url(#9d1e7f1fbb3)\" fill=\"none\" stroke=\"#737880\" stroke-linecap=\"round\" stroke-opacity=\".5\" stroke-width=\"1.585\"/><path d=\"m13.896 132.54 10.708-10.295\" clip-path=\"url(#9d1e7f1fbb3)\" fill=\"none\" stroke=\"#737880\" stroke-linecap=\"round\" stroke-opacity=\".5\"/><path d=\"m157.29 167.6-31.758 1.3108\" clip-path=\"url(#9d1e7f1fbb3)\" fill=\"none\" stroke=\"#737880\" stroke-linecap=\"round\" stroke-opacity=\".5\" stroke-width=\"1.585\"/><path d=\"m157.29 167.6 11-11.328\" clip-path=\"url(#9d1e7f1fbb3)\" fill=\"none\" stroke=\"#737880\" stroke-linecap=\"round\" stroke-opacity=\".5\"/><path d=\"m125.53 168.91-38.238-0.006028\" clip-path=\"url(#9d1e7f1fbb3)\" fill=\"none\" stroke=\"#737880\" stroke-linecap=\"round\" stroke-opacity=\".5\" stroke-width=\"1.585\"/><path d=\"m125.53 168.91 10.432-11.395\" clip-path=\"url(#9d1e7f1fbb3)\" fill=\"none\" stroke=\"#737880\" stroke-linecap=\"round\" stroke-opacity=\".5\"/><path d=\"m87.295 168.91-38.223-1.5397\" clip-path=\"url(#9d1e7f1fbb3)\" fill=\"none\" stroke=\"#737880\" stroke-linecap=\"round\" stroke-opacity=\".5\" stroke-width=\"1.585\"/><path d=\"m87.295 168.91 10.131-11.326\" clip-path=\"url(#9d1e7f1fbb3)\" fill=\"none\" stroke=\"#737880\" stroke-linecap=\"round\" stroke-opacity=\".5\"/><path d=\"m49.071 167.37-31.958-2.9161\" clip-path=\"url(#9d1e7f1fbb3)\" fill=\"none\" stroke=\"#737880\" stroke-linecap=\"round\" stroke-opacity=\".5\" stroke-width=\"1.585\"/><path d=\"m49.071 167.37 9.9522-11.067\" clip-path=\"url(#9d1e7f1fbb3)\" fill=\"none\" stroke=\"#737880\" stroke-linecap=\"round\" stroke-opacity=\".5\"/><path d=\"m17.114 164.45 9.9497-10.378\" clip-path=\"url(#9d1e7f1fbb3)\" fill=\"none\" stroke=\"#737880\" stroke-linecap=\"round\" stroke-opacity=\".5\"/><path d=\"m164.18 16.183 3.1556 31.947\" clip-path=\"url(#9d1e7f1fbb3)\" fill=\"none\" stroke=\"#737880\" stroke-linecap=\"round\" stroke-opacity=\".5\" stroke-width=\"1.585\"/><path d=\"m164.18 16.183-31.988-2.8878\" clip-path=\"url(#9d1e7f1fbb3)\" fill=\"none\" stroke=\"#737880\" stroke-linecap=\"round\" stroke-opacity=\".5\" stroke-width=\"1.585\"/><path d=\"m132.19 13.295 2.0833 33.011\" clip-path=\"url(#9d1e7f1fbb3)\" fill=\"none\" stroke=\"#737880\" stroke-linecap=\"round\" stroke-opacity=\".5\" stroke-width=\"1.585\"/><path d=\"m132.19 13.295-38.258-1.4886\" clip-path=\"url(#9d1e7f1fbb3)\" fill=\"none\" stroke=\"#737880\" stroke-linecap=\"round\" stroke-opacity=\".5\" stroke-width=\"1.585\"/><path d=\"m93.932 11.807 0.97952 33.301\" clip-path=\"url(#9d1e7f1fbb3)\" fill=\"none\" stroke=\"#737880\" stroke-linecap=\"round\" stroke-opacity=\".5\" stroke-width=\"1.585\"/><path d=\"m93.932 11.807-38.22 0.029511\" clip-path=\"url(#9d1e7f1fbb3)\" fill=\"none\" stroke=\"#737880\" stroke-linecap=\"round\" stroke-opacity=\".5\" stroke-width=\"1.585\"/><path d=\"m55.712 11.836 0.028693 33.048\" clip-path=\"url(#9d1e7f1fbb3)\" fill=\"none\" stroke=\"#737880\" stroke-linecap=\"round\" stroke-opacity=\".5\" stroke-width=\"1.585\"/><path d=\"m55.712 11.836-31.751 1.2839\" clip-path=\"url(#9d1e7f1fbb3)\" fill=\"none\" stroke=\"#737880\" stroke-linecap=\"round\" stroke-opacity=\".5\" stroke-width=\"1.585\"/><path d=\"m23.961 13.12-1.0171 32.357\" clip-path=\"url(#9d1e7f1fbb3)\" fill=\"none\" stroke=\"#737880\" stroke-linecap=\"round\" stroke-opacity=\".5\" stroke-width=\"1.585\"/><path d=\"m167.33 48.13 1.7889 38.168\" clip-path=\"url(#9d1e7f1fbb3)\" fill=\"none\" stroke=\"#737880\" stroke-linecap=\"round\" stroke-opacity=\".5\" stroke-width=\"1.585\"/><path d=\"m167.33 48.13-33.06-1.8236\" clip-path=\"url(#9d1e7f1fbb3)\" fill=\"none\" stroke=\"#737880\" stroke-linecap=\"round\" stroke-opacity=\".5\" stroke-width=\"1.585\"/><path d=\"m134.27 46.306 1.4837 39.308\" clip-path=\"url(#9d1e7f1fbb3)\" fill=\"none\" stroke=\"#737880\" stroke-linecap=\"round\" stroke-opacity=\".5\" stroke-width=\"1.585\"/><path d=\"m134.27 46.306-39.362-1.1987\" clip-path=\"url(#9d1e7f1fbb3)\" fill=\"none\" stroke=\"#737880\" stroke-linecap=\"round\" stroke-opacity=\".5\" stroke-width=\"1.585\"/><path d=\"m94.912 45.108 1.0251 39.751\" clip-path=\"url(#9d1e7f1fbb3)\" fill=\"none\" stroke=\"#737880\" stroke-linecap=\"round\" stroke-opacity=\".5\" stroke-width=\"1.585\"/><path d=\"m94.912 45.108-39.171-0.22314\" clip-path=\"url(#9d1e7f1fbb3)\" fill=\"none\" stroke=\"#737880\" stroke-linecap=\"round\" stroke-opacity=\".5\" stroke-width=\"1.585\"/><path d=\"m55.741 44.884 0.42566 39.446\" clip-path=\"url(#9d1e7f1fbb3)\" fill=\"none\" stroke=\"#737880\" stroke-linecap=\"round\" stroke-opacity=\".5\" stroke-width=\"1.585\"/><path d=\"m55.741 44.884-32.797 0.59318\" clip-path=\"url(#9d1e7f1fbb3)\" fill=\"none\" stroke=\"#737880\" stroke-linecap=\"round\" stroke-opacity=\".5\" stroke-width=\"1.585\"/><path d=\"m22.944 45.478 0.15362 38.43\" clip-path=\"url(#9d1e7f1fbb3)\" fill=\"none\" stroke=\"#737880\" stroke-linecap=\"round\" stroke-opacity=\".5\" stroke-width=\"1.585\"/><path d=\"m169.12 86.298 0.23341 38.23\" clip-path=\"url(#9d1e7f1fbb3)\" fill=\"none\" stroke=\"#737880\" stroke-linecap=\"round\" stroke-opacity=\".5\" stroke-width=\"1.585\"/><path d=\"m169.12 86.298-33.365-0.68351\" clip-path=\"url(#9d1e7f1fbb3)\" fill=\"none\" stroke=\"#737880\" stroke-linecap=\"round\" stroke-opacity=\".5\" stroke-width=\"1.585\"/><path d=\"m135.76 85.615 0.50517 39.142\" clip-path=\"url(#9d1e7f1fbb3)\" fill=\"none\" stroke=\"#737880\" stroke-linecap=\"round\" stroke-opacity=\".5\" stroke-width=\"1.585\"/><path d=\"m135.76 85.615-39.82-0.7558\" clip-path=\"url(#9d1e7f1fbb3)\" fill=\"none\" stroke=\"#737880\" stroke-linecap=\"round\" stroke-opacity=\".5\" stroke-width=\"1.585\"/><path d=\"m95.937 84.859 0.84779 39.693\" clip-path=\"url(#9d1e7f1fbb3)\" fill=\"none\" stroke=\"#737880\" stroke-linecap=\"round\" stroke-opacity=\".5\" stroke-width=\"1.585\"/><path d=\"m95.937 84.859-39.77-0.52846\" clip-path=\"url(#9d1e7f1fbb3)\" fill=\"none\" stroke=\"#737880\" stroke-linecap=\"round\" stroke-opacity=\".5\" stroke-width=\"1.585\"/><path d=\"m56.167 84.33 1.3245 39.169\" clip-path=\"url(#9d1e7f1fbb3)\" fill=\"none\" stroke=\"#737880\" stroke-linecap=\"round\" stroke-opacity=\".5\" stroke-width=\"1.585\"/><path d=\"m56.167 84.33-33.069-0.42261\" clip-path=\"url(#9d1e7f1fbb3)\" fill=\"none\" stroke=\"#737880\" stroke-linecap=\"round\" stroke-opacity=\".5\" stroke-width=\"1.585\"/><path d=\"m23.098 83.908 1.5062 38.335\" clip-path=\"url(#9d1e7f1fbb3)\" fill=\"none\" stroke=\"#737880\" stroke-linecap=\"round\" stroke-opacity=\".5\" stroke-width=\"1.585\"/><path d=\"m169.36 124.53-1.0663 31.747\" clip-path=\"url(#9d1e7f1fbb3)\" fill=\"none\" stroke=\"#737880\" stroke-linecap=\"round\" stroke-opacity=\".5\" stroke-width=\"1.585\"/><path d=\"m169.36 124.53-33.094 0.22839\" clip-path=\"url(#9d1e7f1fbb3)\" fill=\"none\" stroke=\"#737880\" stroke-linecap=\"round\" stroke-opacity=\".5\" stroke-width=\"1.585\"/><path d=\"m136.26 124.76-0.29814 32.761\" clip-path=\"url(#9d1e7f1fbb3)\" fill=\"none\" stroke=\"#737880\" stroke-linecap=\"round\" stroke-opacity=\".5\" stroke-width=\"1.585\"/><path d=\"m136.26 124.76-39.478-0.20503\" clip-path=\"url(#9d1e7f1fbb3)\" fill=\"none\" stroke=\"#737880\" stroke-linecap=\"round\" stroke-opacity=\".5\" stroke-width=\"1.585\"/><path d=\"m96.785 124.55 0.64077 33.03\" clip-path=\"url(#9d1e7f1fbb3)\" fill=\"none\" stroke=\"#737880\" stroke-linecap=\"round\" stroke-opacity=\".5\" stroke-width=\"1.585\"/><path d=\"m96.785 124.55-39.293-1.0526\" clip-path=\"url(#9d1e7f1fbb3)\" fill=\"none\" stroke=\"#737880\" stroke-linecap=\"round\" stroke-opacity=\".5\" stroke-width=\"1.585\"/><path d=\"m57.491 123.5 1.5323 32.801\" clip-path=\"url(#9d1e7f1fbb3)\" fill=\"none\" stroke=\"#737880\" stroke-linecap=\"round\" stroke-opacity=\".5\" stroke-width=\"1.585\"/><path d=\"m57.491 123.5-32.887-1.2568\" clip-path=\"url(#9d1e7f1fbb3)\" fill=\"none\" stroke=\"#737880\" stroke-linecap=\"round\" stroke-opacity=\".5\" stroke-width=\"1.585\"/><path d=\"m24.604 122.24 2.4595 31.831\" clip-path=\"url(#9d1e7f1fbb3)\" fill=\"none\" stroke=\"#737880\" stroke-linecap=\"round\" stroke-opacity=\".5\" stroke-width=\"1.585\"/><path d=\"m168.29 156.27-32.326 1.243\" clip-path=\"url(#9d1e7f1fbb3)\" fill=\"none\" stroke=\"#737880\" stroke-linecap=\"round\" stroke-opacity=\".5\" stroke-width=\"1.585\"/><path d=\"m135.96 157.52-38.539 0.063347\" clip-path=\"url(#9d1e7f1fbb3)\" fill=\"none\" stroke=\"#737880\" stroke-linecap=\"round\" stroke-opacity=\".5\" stroke-width=\"1.585\"/><path d=\"m97.425 157.58-38.402-1.2808\" clip-path=\"url(#9d1e7f1fbb3)\" fill=\"none\" stroke=\"#737880\" stroke-linecap=\"round\" stroke-opacity=\".5\" stroke-width=\"1.585\"/><path d=\"m59.023 156.3-31.96-2.2273\" clip-path=\"url(#9d1e7f1fbb3)\" fill=\"none\" stroke=\"#737880\" stroke-linecap=\"round\" stroke-opacity=\".5\" stroke-width=\"1.585\"/><path d=\"m154.19 29.242c0.71753 0 1.4058-0.28508 1.9131-0.79245s0.79245-1.1956 0.79245-1.9131c0-0.71753-0.28508-1.4058-0.79245-1.9131-0.50737-0.50737-1.1956-0.79245-1.9131-0.79245s-1.4058 0.28508-1.9131 0.79245c-0.50737 0.50737-0.79245 1.1956-0.79245 1.9131 0 0.71753 0.28508 1.4058 0.79245 1.9131s1.1956 0.79245 1.9131 0.79245z\" clip-path=\"url(#9d1e7f1fbb3)\" fill=\"#e69f00\" stroke=\"#cf8f00\" stroke-width=\".98567\"/><path d=\"m122.24 27.029c0.71753 0 1.4058-0.28508 1.9131-0.79245s0.79245-1.1956 0.79245-1.9131-0.28508-1.4058-0.79245-1.9131-1.1956-0.79245-1.9131-0.79245-1.4058 0.28508-1.9131 0.79245-0.79245 1.1956-0.79245 1.9131 0.28508 1.4058 0.79245 1.9131 1.1956 0.79245 1.9131 0.79245z\" clip-path=\"url(#9d1e7f1fbb3)\" fill=\"#e69f00\" stroke=\"#cf8f00\" stroke-width=\".98567\"/><path d=\"m83.83 25.795c0.71753 0 1.4058-0.28508 1.9131-0.79245 0.50737-0.50737 0.79245-1.1956 0.79245-1.9131s-0.28508-1.4058-0.79245-1.9131c-0.50737-0.50737-1.1956-0.79245-1.9131-0.79245-0.71753 0-1.4058 0.28508-1.9131 0.79245s-0.79245 1.1956-0.79245 1.9131 0.28508 1.4058 0.79245 1.9131 1.1956 0.79245 1.9131 0.79245z\" clip-path=\"url(#9d1e7f1fbb3)\" fill=\"#e69f00\" stroke=\"#cf8f00\" stroke-width=\".98567\"/><path d=\"m45.263 25.928c0.71753 0 1.4058-0.28508 1.9131-0.79245s0.79245-1.1956 0.79245-1.9131c0-0.71753-0.28508-1.4058-0.79245-1.9131s-1.1956-0.79245-1.9131-0.79245c-0.71753 0-1.4058 0.28508-1.9131 0.79245s-0.79245 1.1956-0.79245 1.9131c0 0.71753 0.28508 1.4058 0.79245 1.9131s1.1956 0.79245 1.9131 0.79245z\" clip-path=\"url(#9d1e7f1fbb3)\" fill=\"#e69f00\" stroke=\"#cf8f00\" stroke-width=\".98567\"/><path d=\"m12.904 27.153c0.71753 0 1.4058-0.28508 1.9131-0.79245s0.79245-1.1956 0.79245-1.9131-0.28508-1.4058-0.79245-1.9131-1.1956-0.79245-1.9131-0.79245c-0.71753 0-1.4058 0.28508-1.9131 0.79245s-0.79245 1.1956-0.79245 1.9131 0.28508 1.4058 0.79245 1.9131 1.1956 0.79245 1.9131 0.79245z\" clip-path=\"url(#9d1e7f1fbb3)\" fill=\"#e69f00\" stroke=\"#cf8f00\" stroke-width=\".98567\"/><path d=\"m156.62 61.146c0.71753 0 1.4058-0.28508 1.9131-0.79245s0.79245-1.1956 0.79245-1.9131-0.28508-1.4058-0.79245-1.9131-1.1956-0.79245-1.9131-0.79245-1.4058 0.28508-1.9131 0.79245-0.79245 1.1956-0.79245 1.9131 0.28508 1.4058 0.79245 1.9131 1.1956 0.79245 1.9131 0.79245z\" clip-path=\"url(#9d1e7f1fbb3)\" fill=\"#e69f00\" stroke=\"#cf8f00\" stroke-width=\".98567\"/><path d=\"m123.77 59.838c0.71753 0 1.4058-0.28508 1.9131-0.79245s0.79245-1.1956 0.79245-1.9131-0.28508-1.4058-0.79245-1.9131-1.1956-0.79245-1.9131-0.79245c-0.71753 0-1.4058 0.28508-1.9131 0.79245s-0.79245 1.1956-0.79245 1.9131 0.28508 1.4058 0.79245 1.9131 1.1956 0.79245 1.9131 0.79245z\" clip-path=\"url(#9d1e7f1fbb3)\" fill=\"#e69f00\" stroke=\"#cf8f00\" stroke-width=\".98567\"/><path d=\"m84.467 58.814c0.71753 0 1.4058-0.28508 1.9131-0.79245 0.50737-0.50737 0.79245-1.1956 0.79245-1.9131s-0.28508-1.4058-0.79245-1.9131c-0.50737-0.50737-1.1956-0.79245-1.9131-0.79245-0.71753 0-1.4058 0.28508-1.9131 0.79245s-0.79245 1.1956-0.79245 1.9131 0.28508 1.4058 0.79245 1.9131 1.1956 0.79245 1.9131 0.79245z\" clip-path=\"url(#9d1e7f1fbb3)\" fill=\"#e69f00\" stroke=\"#cf8f00\" stroke-width=\".98567\"/><path d=\"m44.979 58.621c0.71753 0 1.4058-0.28508 1.9131-0.79245s0.79245-1.1956 0.79245-1.9131c0-0.71753-0.28508-1.4058-0.79245-1.9131s-1.1956-0.79245-1.9131-0.79245-1.4058 0.28508-1.9131 0.79245-0.79245 1.1956-0.79245 1.9131c0 0.71753 0.28508 1.4058 0.79245 1.9131s1.1956 0.79245 1.9131 0.79245z\" clip-path=\"url(#9d1e7f1fbb3)\" fill=\"#e69f00\" stroke=\"#cf8f00\" stroke-width=\".98567\"/><path d=\"m11.811 58.916c0.71753 0 1.4058-0.28508 1.9131-0.79245s0.79245-1.1956 0.79245-1.9131c0-0.71753-0.28508-1.4058-0.79245-1.9131s-1.1956-0.79245-1.9131-0.79245c-0.71753 0-1.4058 0.28508-1.9131 0.79245s-0.79245 1.1956-0.79245 1.9131c0 0.71753 0.28508 1.4058 0.79245 1.9131s1.1956 0.79245 1.9131 0.79245z\" clip-path=\"url(#9d1e7f1fbb3)\" fill=\"#e69f00\" stroke=\"#cf8f00\" stroke-width=\".98567\"/><path d=\"m158.08 99.533c0.71753 0 1.4058-0.28508 1.9131-0.79245s0.79245-1.1956 0.79245-1.9131-0.28508-1.4058-0.79245-1.9131-1.1956-0.79245-1.9131-0.79245c-0.71753 0-1.4058 0.28508-1.9131 0.79245s-0.79245 1.1956-0.79245 1.9131 0.28508 1.4058 0.79245 1.9131 1.1956 0.79245 1.9131 0.79245z\" clip-path=\"url(#9d1e7f1fbb3)\" fill=\"#e69f00\" stroke=\"#cf8f00\" stroke-width=\".98567\"/><path d=\"m125.01 99.106c0.71753 0 1.4058-0.28508 1.9131-0.79245s0.79245-1.1956 0.79245-1.9131c0-0.71753-0.28508-1.4058-0.79245-1.9131s-1.1956-0.79245-1.9131-0.79245c-0.71753 0-1.4058 0.28508-1.9131 0.79245s-0.79245 1.1956-0.79245 1.9131c0 0.71753 0.28508 1.4058 0.79245 1.9131s1.1956 0.79245 1.9131 0.79245z\" clip-path=\"url(#9d1e7f1fbb3)\" fill=\"#e69f00\" stroke=\"#cf8f00\" stroke-width=\".98567\"/><path d=\"m85.264 98.521c0.71753 0 1.4058-0.28508 1.9131-0.79245s0.79245-1.1956 0.79245-1.9131c0-0.71753-0.28508-1.4058-0.79245-1.9131s-1.1956-0.79245-1.9131-0.79245c-0.71753 0-1.4058 0.28508-1.9131 0.79245s-0.79245 1.1956-0.79245 1.9131c0 0.71753 0.28508 1.4058 0.79245 1.9131s1.1956 0.79245 1.9131 0.79245z\" clip-path=\"url(#9d1e7f1fbb3)\" fill=\"#e69f00\" stroke=\"#cf8f00\" stroke-width=\".98567\"/><path d=\"m45.442 97.753c0.71753 0 1.4058-0.28508 1.9131-0.79245s0.79245-1.1956 0.79245-1.9131c0-0.71753-0.28508-1.4058-0.79245-1.9131-0.50737-0.50737-1.1956-0.79245-1.9131-0.79245s-1.4058 0.28508-1.9131 0.79245c-0.50737 0.50737-0.79245 1.1956-0.79245 1.9131 0 0.71753 0.28508 1.4058 0.79245 1.9131s1.1956 0.79245 1.9131 0.79245z\" clip-path=\"url(#9d1e7f1fbb3)\" fill=\"#e69f00\" stroke=\"#cf8f00\" stroke-width=\".98567\"/><path d=\"m12.063 97.107c0.71753 0 1.4058-0.28508 1.9131-0.79245s0.79245-1.1956 0.79245-1.9131-0.28508-1.4058-0.79245-1.9131-1.1956-0.79245-1.9131-0.79245c-0.71753 0-1.4058 0.28508-1.9131 0.79245-0.50737 0.50737-0.79245 1.1956-0.79245 1.9131s0.28508 1.4058 0.79245 1.9131c0.50737 0.50737 1.1956 0.79245 1.9131 0.79245z\" clip-path=\"url(#9d1e7f1fbb3)\" fill=\"#e69f00\" stroke=\"#cf8f00\" stroke-width=\".98567\"/><path d=\"m158.24 137.98c0.71753 0 1.4058-0.28508 1.9131-0.79245s0.79245-1.1956 0.79245-1.9131c0-0.71753-0.28508-1.4058-0.79245-1.9131s-1.1956-0.79245-1.9131-0.79245-1.4058 0.28508-1.9131 0.79245-0.79245 1.1956-0.79245 1.9131c0 0.71753 0.28508 1.4058 0.79245 1.9131s1.1956 0.79245 1.9131 0.79245z\" clip-path=\"url(#9d1e7f1fbb3)\" fill=\"#e69f00\" stroke=\"#cf8f00\" stroke-width=\".98567\"/><path d=\"m125.51 138.53c0.71753 0 1.4058-0.28508 1.9131-0.79245 0.50737-0.50737 0.79245-1.1956 0.79245-1.9131 0-0.71753-0.28508-1.4058-0.79245-1.9131-0.50737-0.50737-1.1956-0.79245-1.9131-0.79245-0.71753 0-1.4058 0.28508-1.9131 0.79245s-0.79245 1.1956-0.79245 1.9131c0 0.71753 0.28508 1.4058 0.79245 1.9131s1.1956 0.79245 1.9131 0.79245z\" clip-path=\"url(#9d1e7f1fbb3)\" fill=\"#e69f00\" stroke=\"#cf8f00\" stroke-width=\".98567\"/><path d=\"m86.319 138.25c0.71753 0 1.4058-0.28508 1.9131-0.79245 0.50737-0.50737 0.79245-1.1956 0.79245-1.9131 0-0.71753-0.28508-1.4058-0.79245-1.9131s-1.1956-0.79245-1.9131-0.79245-1.4058 0.28508-1.9131 0.79245-0.79245 1.1956-0.79245 1.9131c0 0.71753 0.28508 1.4058 0.79245 1.9131 0.50737 0.50737 1.1956 0.79245 1.9131 0.79245z\" clip-path=\"url(#9d1e7f1fbb3)\" fill=\"#e69f00\" stroke=\"#cf8f00\" stroke-width=\".98567\"/><path d=\"m46.951 137.06c0.71753 0 1.4058-0.28508 1.9131-0.79245s0.79245-1.1956 0.79245-1.9131c0-0.71753-0.28508-1.4058-0.79245-1.9131-0.50737-0.50737-1.1956-0.79245-1.9131-0.79245s-1.4058 0.28508-1.9131 0.79245c-0.50737 0.50737-0.79245 1.1956-0.79245 1.9131 0 0.71753 0.28508 1.4058 0.79245 1.9131s1.1956 0.79245 1.9131 0.79245z\" clip-path=\"url(#9d1e7f1fbb3)\" fill=\"#e69f00\" stroke=\"#cf8f00\" stroke-width=\".98567\"/><path d=\"m13.896 135.24c0.71753 0 1.4058-0.28508 1.9131-0.79245s0.79245-1.1956 0.79245-1.9131-0.28508-1.4058-0.79245-1.9131-1.1956-0.79245-1.9131-0.79245c-0.71753 0-1.4058 0.28508-1.9131 0.79245s-0.79245 1.1956-0.79245 1.9131 0.28508 1.4058 0.79245 1.9131 1.1956 0.79245 1.9131 0.79245z\" clip-path=\"url(#9d1e7f1fbb3)\" fill=\"#e69f00\" stroke=\"#cf8f00\" stroke-width=\".98567\"/><path d=\"m157.29 170.31c0.71753 0 1.4058-0.28508 1.9131-0.79245 0.50737-0.50737 0.79245-1.1956 0.79245-1.9131s-0.28508-1.4058-0.79245-1.9131c-0.50737-0.50737-1.1956-0.79245-1.9131-0.79245-0.71753 0-1.4058 0.28508-1.9131 0.79245s-0.79245 1.1956-0.79245 1.9131 0.28508 1.4058 0.79245 1.9131 1.1956 0.79245 1.9131 0.79245z\" clip-path=\"url(#9d1e7f1fbb3)\" fill=\"#e69f00\" stroke=\"#cf8f00\" stroke-width=\".98567\"/><path d=\"m125.53 171.62c0.71753 0 1.4058-0.28508 1.9131-0.79245s0.79245-1.1956 0.79245-1.9131-0.28508-1.4058-0.79245-1.9131-1.1956-0.79245-1.9131-0.79245-1.4058 0.28508-1.9131 0.79245-0.79245 1.1956-0.79245 1.9131 0.28508 1.4058 0.79245 1.9131 1.1956 0.79245 1.9131 0.79245z\" clip-path=\"url(#9d1e7f1fbb3)\" fill=\"#e69f00\" stroke=\"#cf8f00\" stroke-width=\".98567\"/><path d=\"m87.295 171.61c0.71753 0 1.4058-0.28508 1.9131-0.79245s0.79245-1.1956 0.79245-1.9131-0.28508-1.4058-0.79245-1.9131-1.1956-0.79245-1.9131-0.79245c-0.71753 0-1.4058 0.28508-1.9131 0.79245s-0.79245 1.1956-0.79245 1.9131 0.28508 1.4058 0.79245 1.9131 1.1956 0.79245 1.9131 0.79245z\" clip-path=\"url(#9d1e7f1fbb3)\" fill=\"#e69f00\" stroke=\"#cf8f00\" stroke-width=\".98567\"/><path d=\"m49.071 170.07c0.71753 0 1.4058-0.28508 1.9131-0.79245s0.79245-1.1956 0.79245-1.9131c0-0.71753-0.28508-1.4058-0.79245-1.9131-0.50737-0.50737-1.1956-0.79245-1.9131-0.79245s-1.4058 0.28508-1.9131 0.79245c-0.50737 0.50737-0.79245 1.1956-0.79245 1.9131 0 0.71753 0.28508 1.4058 0.79245 1.9131s1.1956 0.79245 1.9131 0.79245z\" clip-path=\"url(#9d1e7f1fbb3)\" fill=\"#e69f00\" stroke=\"#cf8f00\" stroke-width=\".98567\"/><path d=\"m17.114 167.16c0.71753 0 1.4058-0.28508 1.9131-0.79245s0.79245-1.1956 0.79245-1.9131-0.28508-1.4058-0.79245-1.9131-1.1956-0.79245-1.9131-0.79245c-0.71753 0-1.4058 0.28508-1.9131 0.79245s-0.79245 1.1956-0.79245 1.9131 0.28508 1.4058 0.79245 1.9131 1.1956 0.79245 1.9131 0.79245z\" clip-path=\"url(#9d1e7f1fbb3)\" fill=\"#e69f00\" stroke=\"#cf8f00\" stroke-width=\".98567\"/><path d=\"m164.18 18.889c0.71753 0 1.4058-0.28508 1.9131-0.79245s0.79245-1.1956 0.79245-1.9131-0.28508-1.4058-0.79245-1.9131-1.1956-0.79245-1.9131-0.79245c-0.71753 0-1.4058 0.28508-1.9131 0.79245s-0.79245 1.1956-0.79245 1.9131 0.28508 1.4058 0.79245 1.9131 1.1956 0.79245 1.9131 0.79245z\" clip-path=\"url(#9d1e7f1fbb3)\" fill=\"#56b4e9\" stroke=\"#4da2d2\" stroke-width=\".98567\"/><path d=\"m132.19 16.001c0.71753 0 1.4058-0.28508 1.9131-0.79245s0.79245-1.1956 0.79245-1.9131-0.28508-1.4058-0.79245-1.9131-1.1956-0.79245-1.9131-0.79245c-0.71753 0-1.4058 0.28508-1.9131 0.79245-0.50737 0.50737-0.79245 1.1956-0.79245 1.9131s0.28508 1.4058 0.79245 1.9131c0.50737 0.50737 1.1956 0.79245 1.9131 0.79245z\" clip-path=\"url(#9d1e7f1fbb3)\" fill=\"#56b4e9\" stroke=\"#4da2d2\" stroke-width=\".98567\"/><path d=\"m93.932 14.512c0.71753 0 1.4058-0.28508 1.9131-0.79245s0.79245-1.1956 0.79245-1.9131-0.28508-1.4058-0.79245-1.9131-1.1956-0.79245-1.9131-0.79245-1.4058 0.28508-1.9131 0.79245-0.79245 1.1956-0.79245 1.9131 0.28508 1.4058 0.79245 1.9131 1.1956 0.79245 1.9131 0.79245z\" clip-path=\"url(#9d1e7f1fbb3)\" fill=\"#56b4e9\" stroke=\"#4da2d2\" stroke-width=\".98567\"/><path d=\"m55.712 14.542c0.71753 0 1.4058-0.28508 1.9131-0.79245s0.79245-1.1956 0.79245-1.9131-0.28508-1.4058-0.79245-1.9131-1.1956-0.79245-1.9131-0.79245-1.4058 0.28508-1.9131 0.79245-0.79245 1.1956-0.79245 1.9131 0.28508 1.4058 0.79245 1.9131 1.1956 0.79245 1.9131 0.79245z\" clip-path=\"url(#9d1e7f1fbb3)\" fill=\"#56b4e9\" stroke=\"#4da2d2\" stroke-width=\".98567\"/><path d=\"m23.961 15.826c0.71753 0 1.4058-0.28508 1.9131-0.79245s0.79245-1.1956 0.79245-1.9131-0.28508-1.4058-0.79245-1.9131-1.1956-0.79245-1.9131-0.79245c-0.71753 0-1.4058 0.28508-1.9131 0.79245s-0.79245 1.1956-0.79245 1.9131 0.28508 1.4058 0.79245 1.9131 1.1956 0.79245 1.9131 0.79245z\" clip-path=\"url(#9d1e7f1fbb3)\" fill=\"#56b4e9\" stroke=\"#4da2d2\" stroke-width=\".98567\"/><path d=\"m167.33 50.835c0.71753 0 1.4058-0.28508 1.9131-0.79245s0.79245-1.1956 0.79245-1.9131-0.28508-1.4058-0.79245-1.9131-1.1956-0.79245-1.9131-0.79245-1.4058 0.28508-1.9131 0.79245-0.79245 1.1956-0.79245 1.9131 0.28508 1.4058 0.79245 1.9131 1.1956 0.79245 1.9131 0.79245z\" clip-path=\"url(#9d1e7f1fbb3)\" fill=\"#56b4e9\" stroke=\"#4da2d2\" stroke-width=\".98567\"/><path d=\"m134.27 49.012c0.71753 0 1.4058-0.28508 1.9131-0.79245s0.79245-1.1956 0.79245-1.9131c0-0.71753-0.28508-1.4058-0.79245-1.9131s-1.1956-0.79245-1.9131-0.79245-1.4058 0.28508-1.9131 0.79245-0.79245 1.1956-0.79245 1.9131c0 0.71753 0.28508 1.4058 0.79245 1.9131s1.1956 0.79245 1.9131 0.79245z\" clip-path=\"url(#9d1e7f1fbb3)\" fill=\"#56b4e9\" stroke=\"#4da2d2\" stroke-width=\".98567\"/><path d=\"m94.912 47.813c0.71753 0 1.4058-0.28508 1.9131-0.79245 0.50737-0.50737 0.79245-1.1956 0.79245-1.9131 0-0.71753-0.28508-1.4058-0.79245-1.9131-0.50737-0.50737-1.1956-0.79245-1.9131-0.79245-0.71753 0-1.4058 0.28508-1.9131 0.79245s-0.79245 1.1956-0.79245 1.9131c0 0.71753 0.28508 1.4058 0.79245 1.9131s1.1956 0.79245 1.9131 0.79245z\" clip-path=\"url(#9d1e7f1fbb3)\" fill=\"#56b4e9\" stroke=\"#4da2d2\" stroke-width=\".98567\"/><path d=\"m55.741 47.59c0.71753 0 1.4058-0.28508 1.9131-0.79245s0.79245-1.1956 0.79245-1.9131c0-0.71753-0.28508-1.4058-0.79245-1.9131s-1.1956-0.79245-1.9131-0.79245c-0.71753 0-1.4058 0.28508-1.9131 0.79245-0.50737 0.50737-0.79245 1.1956-0.79245 1.9131 0 0.71753 0.28508 1.4058 0.79245 1.9131 0.50737 0.50737 1.1956 0.79245 1.9131 0.79245z\" clip-path=\"url(#9d1e7f1fbb3)\" fill=\"#56b4e9\" stroke=\"#4da2d2\" stroke-width=\".98567\"/><path d=\"m22.944 48.183c0.71753 0 1.4058-0.28508 1.9131-0.79245s0.79245-1.1956 0.79245-1.9131c0-0.71753-0.28508-1.4058-0.79245-1.9131s-1.1956-0.79245-1.9131-0.79245-1.4058 0.28508-1.9131 0.79245-0.79245 1.1956-0.79245 1.9131c0 0.71753 0.28508 1.4058 0.79245 1.9131s1.1956 0.79245 1.9131 0.79245z\" clip-path=\"url(#9d1e7f1fbb3)\" fill=\"#56b4e9\" stroke=\"#4da2d2\" stroke-width=\".98567\"/><path d=\"m169.12 89.004c0.71753 0 1.4058-0.28508 1.9131-0.79245s0.79245-1.1956 0.79245-1.9131-0.28508-1.4058-0.79245-1.9131-1.1956-0.79245-1.9131-0.79245c-0.71753 0-1.4058 0.28508-1.9131 0.79245s-0.79245 1.1956-0.79245 1.9131 0.28508 1.4058 0.79245 1.9131 1.1956 0.79245 1.9131 0.79245z\" clip-path=\"url(#9d1e7f1fbb3)\" fill=\"#56b4e9\" stroke=\"#4da2d2\" stroke-width=\".98567\"/><path d=\"m135.76 88.32c0.71753 0 1.4058-0.28508 1.9131-0.79245s0.79245-1.1956 0.79245-1.9131-0.28508-1.4058-0.79245-1.9131-1.1956-0.79245-1.9131-0.79245-1.4058 0.28508-1.9131 0.79245-0.79245 1.1956-0.79245 1.9131 0.28508 1.4058 0.79245 1.9131 1.1956 0.79245 1.9131 0.79245z\" clip-path=\"url(#9d1e7f1fbb3)\" fill=\"#56b4e9\" stroke=\"#4da2d2\" stroke-width=\".98567\"/><path d=\"m95.937 87.564c0.71753 0 1.4058-0.28508 1.9131-0.79245 0.50737-0.50737 0.79245-1.1956 0.79245-1.9131s-0.28508-1.4058-0.79245-1.9131c-0.50737-0.50737-1.1956-0.79245-1.9131-0.79245-0.71753 0-1.4058 0.28508-1.9131 0.79245s-0.79245 1.1956-0.79245 1.9131 0.28508 1.4058 0.79245 1.9131 1.1956 0.79245 1.9131 0.79245z\" clip-path=\"url(#9d1e7f1fbb3)\" fill=\"#56b4e9\" stroke=\"#4da2d2\" stroke-width=\".98567\"/><path d=\"m56.167 87.036c0.71753 0 1.4058-0.28508 1.9131-0.79245s0.79245-1.1956 0.79245-1.9131-0.28508-1.4058-0.79245-1.9131-1.1956-0.79245-1.9131-0.79245c-0.71753 0-1.4058 0.28508-1.9131 0.79245s-0.79245 1.1956-0.79245 1.9131 0.28508 1.4058 0.79245 1.9131 1.1956 0.79245 1.9131 0.79245z\" clip-path=\"url(#9d1e7f1fbb3)\" fill=\"#56b4e9\" stroke=\"#4da2d2\" stroke-width=\".98567\"/><path d=\"m23.098 86.613c0.71753 0 1.4058-0.28508 1.9131-0.79245s0.79245-1.1956 0.79245-1.9131c0-0.71753-0.28508-1.4058-0.79245-1.9131s-1.1956-0.79245-1.9131-0.79245-1.4058 0.28508-1.9131 0.79245-0.79245 1.1956-0.79245 1.9131c0 0.71753 0.28508 1.4058 0.79245 1.9131s1.1956 0.79245 1.9131 0.79245z\" clip-path=\"url(#9d1e7f1fbb3)\" fill=\"#56b4e9\" stroke=\"#4da2d2\" stroke-width=\".98567\"/><path d=\"m169.36 127.23c0.71753 0 1.4058-0.28508 1.9131-0.79245s0.79245-1.1956 0.79245-1.9131-0.28508-1.4058-0.79245-1.9131-1.1956-0.79245-1.9131-0.79245c-0.71753 0-1.4058 0.28508-1.9131 0.79245s-0.79245 1.1956-0.79245 1.9131 0.28508 1.4058 0.79245 1.9131 1.1956 0.79245 1.9131 0.79245z\" clip-path=\"url(#9d1e7f1fbb3)\" fill=\"#56b4e9\" stroke=\"#4da2d2\" stroke-width=\".98567\"/><path d=\"m136.26 127.46c0.71753 0 1.4058-0.28508 1.9131-0.79245 0.50737-0.50737 0.79245-1.1956 0.79245-1.9131s-0.28508-1.4058-0.79245-1.9131c-0.50737-0.50737-1.1956-0.79245-1.9131-0.79245-0.71753 0-1.4058 0.28508-1.9131 0.79245s-0.79245 1.1956-0.79245 1.9131 0.28508 1.4058 0.79245 1.9131 1.1956 0.79245 1.9131 0.79245z\" clip-path=\"url(#9d1e7f1fbb3)\" fill=\"#56b4e9\" stroke=\"#4da2d2\" stroke-width=\".98567\"/><path d=\"m96.785 127.26c0.71753 0 1.4058-0.28508 1.9131-0.79245s0.79245-1.1956 0.79245-1.9131-0.28508-1.4058-0.79245-1.9131-1.1956-0.79245-1.9131-0.79245-1.4058 0.28508-1.9131 0.79245-0.79245 1.1956-0.79245 1.9131 0.28508 1.4058 0.79245 1.9131 1.1956 0.79245 1.9131 0.79245z\" clip-path=\"url(#9d1e7f1fbb3)\" fill=\"#56b4e9\" stroke=\"#4da2d2\" stroke-width=\".98567\"/><path d=\"m57.491 126.2c0.71753 0 1.4058-0.28508 1.9131-0.79245 0.50737-0.50737 0.79245-1.1956 0.79245-1.9131 0-0.71753-0.28508-1.4058-0.79245-1.9131s-1.1956-0.79245-1.9131-0.79245c-0.71753 0-1.4058 0.28508-1.9131 0.79245-0.50737 0.50737-0.79245 1.1956-0.79245 1.9131 0 0.71753 0.28508 1.4058 0.79245 1.9131 0.50737 0.50737 1.1956 0.79245 1.9131 0.79245z\" clip-path=\"url(#9d1e7f1fbb3)\" fill=\"#56b4e9\" stroke=\"#4da2d2\" stroke-width=\".98567\"/><path d=\"m24.604 124.95c0.71753 0 1.4058-0.28508 1.9131-0.79245s0.79245-1.1956 0.79245-1.9131c0-0.71753-0.28508-1.4058-0.79245-1.9131s-1.1956-0.79245-1.9131-0.79245-1.4058 0.28508-1.9131 0.79245-0.79245 1.1956-0.79245 1.9131c0 0.71753 0.28508 1.4058 0.79245 1.9131s1.1956 0.79245 1.9131 0.79245z\" clip-path=\"url(#9d1e7f1fbb3)\" fill=\"#56b4e9\" stroke=\"#4da2d2\" stroke-width=\".98567\"/><path d=\"m168.29 158.98c0.71753 0 1.4058-0.28508 1.9131-0.79245 0.50737-0.50737 0.79245-1.1956 0.79245-1.9131 0-0.71753-0.28508-1.4058-0.79245-1.9131s-1.1956-0.79245-1.9131-0.79245-1.4058 0.28508-1.9131 0.79245-0.79245 1.1956-0.79245 1.9131c0 0.71753 0.28508 1.4058 0.79245 1.9131 0.50737 0.50737 1.1956 0.79245 1.9131 0.79245z\" clip-path=\"url(#9d1e7f1fbb3)\" fill=\"#56b4e9\" stroke=\"#4da2d2\" stroke-width=\".98567\"/><path d=\"m135.96 160.22c0.71753 0 1.4058-0.28508 1.9131-0.79245s0.79245-1.1956 0.79245-1.9131-0.28508-1.4058-0.79245-1.9131-1.1956-0.79245-1.9131-0.79245-1.4058 0.28508-1.9131 0.79245-0.79245 1.1956-0.79245 1.9131 0.28508 1.4058 0.79245 1.9131 1.1956 0.79245 1.9131 0.79245z\" clip-path=\"url(#9d1e7f1fbb3)\" fill=\"#56b4e9\" stroke=\"#4da2d2\" stroke-width=\".98567\"/><path d=\"m97.425 160.29c0.71753 0 1.4058-0.28508 1.9131-0.79245s0.79245-1.1956 0.79245-1.9131-0.28508-1.4058-0.79245-1.9131-1.1956-0.79245-1.9131-0.79245-1.4058 0.28508-1.9131 0.79245-0.79245 1.1956-0.79245 1.9131 0.28508 1.4058 0.79245 1.9131 1.1956 0.79245 1.9131 0.79245z\" clip-path=\"url(#9d1e7f1fbb3)\" fill=\"#56b4e9\" stroke=\"#4da2d2\" stroke-width=\".98567\"/><path d=\"m59.023 159.01c0.71753 0 1.4058-0.28508 1.9131-0.79245 0.50737-0.50737 0.79245-1.1956 0.79245-1.9131 0-0.71753-0.28508-1.4058-0.79245-1.9131s-1.1956-0.79245-1.9131-0.79245c-0.71753 0-1.4058 0.28508-1.9131 0.79245-0.50737 0.50737-0.79245 1.1956-0.79245 1.9131 0 0.71753 0.28508 1.4058 0.79245 1.9131 0.50737 0.50737 1.1956 0.79245 1.9131 0.79245z\" clip-path=\"url(#9d1e7f1fbb3)\" fill=\"#56b4e9\" stroke=\"#4da2d2\" stroke-width=\".98567\"/><path d=\"m27.063 156.78c0.71753 0 1.4058-0.28508 1.9131-0.79245 0.50737-0.50737 0.79245-1.1956 0.79245-1.9131s-0.28508-1.4058-0.79245-1.9131c-0.50737-0.50737-1.1956-0.79245-1.9131-0.79245-0.71753 0-1.4058 0.28508-1.9131 0.79245s-0.79245 1.1956-0.79245 1.9131 0.28508 1.4058 0.79245 1.9131 1.1956 0.79245 1.9131 0.79245z\" clip-path=\"url(#9d1e7f1fbb3)\" fill=\"#56b4e9\" stroke=\"#4da2d2\" stroke-width=\".98567\"/><path d=\"m180.97 106.59h56.081q2 0 2-2v-28.462q0-2-2-2h-56.081q-2 0-2 2v28.462q0 2 2 2z\" fill=\"none\" stroke=\"#999999\" stroke-opacity=\".2\"/><defs><path id=\"81c072d998d\" d=\"m0 5c1.326 0 2.5979-0.52683 3.5355-1.4645 0.93763-0.93764 1.4645-2.2095 1.4645-3.5355s-0.52683-2.5979-1.4645-3.5355c-0.93764-0.93763-2.2095-1.4645-3.5355-1.4645s-2.5979 0.52683-3.5355 1.4645c-0.93763 0.93764-1.4645 2.2095-1.4645 3.5355s0.52683 2.5979 1.4645 3.5355c0.93764 0.93763 2.2095 1.4645 3.5355 1.4645z\" stroke=\"#4da2d2\"/></defs><use x=\"192.967207\" y=\"82.280313\" fill=\"#56b4e9\" stroke=\"#4da2d2\" xlink:href=\"#81c072d998d\"/><g transform=\"translate(210.97 85.78) scale(.1 -.1)\" fill=\"#545759\"><defs><path id=\"DejaVuSansMono-4b\" transform=\"scale(.015625)\" d=\"m428 4666h635v-2075l1971 2075h741l-1816-1907 1869-2759h-762l-1522 2338-481-513v-1825h-635v4666z\"/><path id=\"DejaVuSansMono-45\" transform=\"scale(.015625)\" d=\"m616 4666h2768v-532h-2137v-1381h2044v-531h-2044v-1691h2197v-531h-2828v4666z\"/><path id=\"DejaVuSansMono-54\" transform=\"scale(.015625)\" d=\"m147 4666h3559v-532h-1459v-4134h-634v4134h-1466v532z\"/></defs><use xlink:href=\"#DejaVuSansMono-20\"/><use x=\"60.205078\" xlink:href=\"#DejaVuSansMono-4b\"/><use x=\"120.410156\" xlink:href=\"#DejaVuSansMono-45\"/><use x=\"180.615234\" xlink:href=\"#DejaVuSansMono-54\"/></g><defs><path id=\"904647ba582\" d=\"m0 5c1.326 0 2.5979-0.52683 3.5355-1.4645 0.93763-0.93764 1.4645-2.2095 1.4645-3.5355s-0.52683-2.5979-1.4645-3.5355c-0.93764-0.93763-2.2095-1.4645-3.5355-1.4645s-2.5979 0.52683-3.5355 1.4645c-0.93763 0.93764-1.4645 2.2095-1.4645 3.5355s0.52683 2.5979 1.4645 3.5355c0.93764 0.93763 2.2095 1.4645 3.5355 1.4645z\" stroke=\"#cf8f00\"/></defs><use x=\"192.967207\" y=\"97.011563\" fill=\"#e69f00\" stroke=\"#cf8f00\" xlink:href=\"#904647ba582\"/><g transform=\"translate(210.97 100.51) scale(.1 -.1)\" fill=\"#545759\"><defs><path id=\"DejaVuSansMono-42\" transform=\"scale(.015625)\" d=\"m1153 2228v-1709h747q550 0 784 192 235 192 235 633 0 456-247 670t-772 214h-747zm0 1919v-1406h735q456 0 660 175 205 175 205 565 0 353-202 509-201 157-663 157h-735zm-634 519h1381q716 0 1103-310 388-309 388-875 0-428-205-675t-614-309q459-69 720-393 261-323 261-823 0-634-416-958-415-323-1237-323h-1381v4666z\"/><path id=\"DejaVuSansMono-52\" transform=\"scale(.015625)\" d=\"m2375 2203q244-62 416-236 172-173 428-692l634-1275h-678l-556 1178q-241 503-433 648-192 146-502 146h-603v-1972h-634v4666h1300q769 0 1178-347t409-1003q0-463-252-755-251-292-707-358zm-1294 1944v-1656h691q453 0 675 203t222 622q0 403-236 617t-686 214h-666z\"/><path id=\"DejaVuSansMono-41\" transform=\"scale(.015625)\" d=\"m1925 4109-666-2387h1332l-666 2387zm-381 557h765l1429-4666h-654l-343 1216h-1635l-337-1216h-653l1428 4666z\"/></defs><use xlink:href=\"#DejaVuSansMono-20\"/><use x=\"60.205078\" xlink:href=\"#DejaVuSansMono-42\"/><use x=\"120.410156\" xlink:href=\"#DejaVuSansMono-52\"/><use x=\"180.615234\" xlink:href=\"#DejaVuSansMono-41\"/></g><defs><clipPath id=\"9d1e7f1fbb3\"><rect x=\"7.2\" y=\"7.2\" width=\"166.77\" height=\"166.32\"/></clipPath></defs></svg>"
      ],
      "text/plain": [
       "<Figure size 300x300 with 1 Axes>"
      ]
     },
     "metadata": {
      "needs_background": "light"
     },
     "output_type": "display_data"
    }
   ],
   "source": [
    "norm.draw(color=['KET', 'BRA'], figsize=(3, 3))"
   ]
  },
  {
   "cell_type": "markdown",
   "id": "41252ed8-b5db-4648-bf6f-e55cce15cdef",
   "metadata": {},
   "source": [
    "Now we can specify `layer_tags=['KET', 'BRA']` to any of the boundary\n",
    "contraction methods. Here we perform an inplace boundary contraction around\n",
    "the sites `(2, 2)` and `(2, 3)`."
   ]
  },
  {
   "cell_type": "code",
   "execution_count": 15,
   "id": "ada08cfa-e0e9-499a-9061-7ae10a245328",
   "metadata": {},
   "outputs": [
    {
     "data": {
      "text/html": [
       "<samp style='font-size: 12px;'><details><summary><b style=\"color: #dfe24e;\">TensorNetwork2D</b>(tensors=15, indices=29, Lx=5, Ly=5, max_bond=64)</summary><samp style='font-size: 12px;'><details><summary><b style=\"color: #e55471;\">Tensor</b>(shape=(<b style=\"color: #8a5bcf;\">3</b>, <b style=\"color: #8a5bcf;\">3</b>, <b style=\"color: #8a5bcf;\">3</b>, <b style=\"color: #8a5bcf;\">3</b>, <b style=\"color: #828fdd;\">2</b>), inds=[<b style=\"color: #d26acc;\">_aea46cAAAAW</b>, <b style=\"color: #8873d9;\">_aea46cAAAAX</b>, <b style=\"color: #71d567;\">_aea46cAAAAN</b>, <b style=\"color: #8ed580;\">_aea46cAAAAV</b>, <b style=\"color: #936adf;\">k2,2</b>], tags={<b style=\"color: #ceb179;\">I2,2</b>, <b style=\"color: #c654d5;\">X2</b>, <b style=\"color: #3fdd7b;\">Y2</b>, <b style=\"color: #9f93de;\">BRA</b>}),</summary>backend=<b style=\"color: #7fdd73;\">numpy</b>, dtype=<b style=\"color: #75d2c6;\">float64</b>, data=...</details></samp><samp style='font-size: 12px;'><details><summary><b style=\"color: #e55471;\">Tensor</b>(shape=(<b style=\"color: #8a5bcf;\">3</b>, <b style=\"color: #8a5bcf;\">3</b>, <b style=\"color: #8a5bcf;\">3</b>, <b style=\"color: #8a5bcf;\">3</b>, <b style=\"color: #828fdd;\">2</b>), inds=[<b style=\"color: #928bd4;\">_aea46cAAAAY</b>, <b style=\"color: #b58bd6;\">_aea46cAAAAZ</b>, <b style=\"color: #7d89df;\">_aea46cAAAAP</b>, <b style=\"color: #8873d9;\">_aea46cAAAAX</b>, <b style=\"color: #8541d1;\">k2,3</b>], tags={<b style=\"color: #dfd34b;\">I2,3</b>, <b style=\"color: #c654d5;\">X2</b>, <b style=\"color: #63d5a7;\">Y3</b>, <b style=\"color: #9f93de;\">BRA</b>}),</summary>backend=<b style=\"color: #7fdd73;\">numpy</b>, dtype=<b style=\"color: #75d2c6;\">float64</b>, data=...</details></samp><samp style='font-size: 12px;'><details><summary><b style=\"color: #e55471;\">Tensor</b>(shape=(<b style=\"color: #8a5bcf;\">3</b>, <b style=\"color: #8a5bcf;\">3</b>, <b style=\"color: #8a5bcf;\">3</b>, <b style=\"color: #828fdd;\">2</b>), inds=[<b style=\"color: #38a2d0;\">_aea46cAAAAa</b>, <b style=\"color: #d4b38d;\">_aea46cAAAAR</b>, <b style=\"color: #b58bd6;\">_aea46cAAAAZ</b>, <b style=\"color: #e35cac;\">k2,4</b>], tags={<b style=\"color: #cd4e47;\">I2,4</b>, <b style=\"color: #c654d5;\">X2</b>, <b style=\"color: #37ce56;\">Y4</b>, <b style=\"color: #9f93de;\">BRA</b>}),</summary>backend=<b style=\"color: #7fdd73;\">numpy</b>, dtype=<b style=\"color: #75d2c6;\">float64</b>, data=array([[[[ 0.01567375, -0.09310011],\n",
       "         [ 0.24768273, -0.11738978],\n",
       "         [-0.251629  , -0.1782275 ]],\n",
       "\n",
       "        [[-0.26829665,  0.31267077],\n",
       "         [-0.22495458, -0.12581883],\n",
       "         [ 0.26748041, -0.66605332]],\n",
       "\n",
       "        [[-0.023022  ,  0.11326969],\n",
       "         [ 0.18469781, -0.55483234],\n",
       "         [ 0.32973489,  0.27550022]]],\n",
       "\n",
       "\n",
       "       [[[ 0.10759164, -0.63445143],\n",
       "         [ 0.03337969,  0.25331677],\n",
       "         [ 0.45157972, -0.17408386]],\n",
       "\n",
       "        [[ 0.20383984,  0.45867942],\n",
       "         [ 0.01499983, -0.2965261 ],\n",
       "         [-0.19994835,  0.14174105]],\n",
       "\n",
       "        [[ 0.19374226, -0.60597725],\n",
       "         [ 0.49222259,  0.19789102],\n",
       "         [ 0.20171385,  0.0422929 ]]],\n",
       "\n",
       "\n",
       "       [[[-0.26715396, -0.16995193],\n",
       "         [ 0.34863328,  0.45914815],\n",
       "         [ 0.08663278,  0.61174177]],\n",
       "\n",
       "        [[ 0.22506451, -0.12569846],\n",
       "         [-0.27588113, -0.29585981],\n",
       "         [ 0.17803576,  0.11039606]],\n",
       "\n",
       "        [[-0.03518468, -0.36600593],\n",
       "         [ 0.64683561,  0.09689121],\n",
       "         [-0.27371473, -0.15114634]]]])</details></samp><samp style='font-size: 12px;'><details><summary><b style=\"color: #e55471;\">Tensor</b>(shape=(<b style=\"color: #8a5bcf;\">3</b>, <b style=\"color: #8a5bcf;\">3</b>, <b style=\"color: #8a5bcf;\">3</b>, <b style=\"color: #8a5bcf;\">3</b>, <b style=\"color: #828fdd;\">2</b>), inds=[<b style=\"color: #6cd6be;\">_aea46cAAACl</b>, <b style=\"color: #a054cf;\">_aea46cAAACf</b>, <b style=\"color: #cf7035;\">_aea46cAAACc</b>, <b style=\"color: #d99f81;\">_aea46cAAACd</b>, <b style=\"color: #936adf;\">k2,2</b>], tags={<b style=\"color: #ceb179;\">I2,2</b>, <b style=\"color: #c654d5;\">X2</b>, <b style=\"color: #3fdd7b;\">Y2</b>, <b style=\"color: #e4c44b;\">KET</b>}),</summary>backend=<b style=\"color: #7fdd73;\">numpy</b>, dtype=<b style=\"color: #75d2c6;\">float64</b>, data=...</details></samp><samp style='font-size: 12px;'><details><summary><b style=\"color: #e55471;\">Tensor</b>(shape=(<b style=\"color: #8a5bcf;\">3</b>, <b style=\"color: #8a5bcf;\">3</b>, <b style=\"color: #8a5bcf;\">3</b>, <b style=\"color: #8a5bcf;\">3</b>, <b style=\"color: #828fdd;\">2</b>), inds=[<b style=\"color: #8cd2ba;\">_aea46cAAACn</b>, <b style=\"color: #d49388;\">_aea46cAAACh</b>, <b style=\"color: #8de397;\">_aea46cAAACe</b>, <b style=\"color: #a054cf;\">_aea46cAAACf</b>, <b style=\"color: #8541d1;\">k2,3</b>], tags={<b style=\"color: #dfd34b;\">I2,3</b>, <b style=\"color: #c654d5;\">X2</b>, <b style=\"color: #63d5a7;\">Y3</b>, <b style=\"color: #e4c44b;\">KET</b>}),</summary>backend=<b style=\"color: #7fdd73;\">numpy</b>, dtype=<b style=\"color: #75d2c6;\">float64</b>, data=...</details></samp><samp style='font-size: 12px;'><details><summary><b style=\"color: #e55471;\">Tensor</b>(shape=(<b style=\"color: #8a5bcf;\">3</b>, <b style=\"color: #8a5bcf;\">3</b>, <b style=\"color: #8a5bcf;\">3</b>, <b style=\"color: #828fdd;\">2</b>), inds=[<b style=\"color: #cd8f62;\">_aea46cAAACp</b>, <b style=\"color: #93d95a;\">_aea46cAAACg</b>, <b style=\"color: #d49388;\">_aea46cAAACh</b>, <b style=\"color: #e35cac;\">k2,4</b>], tags={<b style=\"color: #cd4e47;\">I2,4</b>, <b style=\"color: #c654d5;\">X2</b>, <b style=\"color: #37ce56;\">Y4</b>, <b style=\"color: #e4c44b;\">KET</b>}),</summary>backend=<b style=\"color: #7fdd73;\">numpy</b>, dtype=<b style=\"color: #75d2c6;\">float64</b>, data=array([[[[ 0.01567375, -0.09310011],\n",
       "         [ 0.24768273, -0.11738978],\n",
       "         [-0.251629  , -0.1782275 ]],\n",
       "\n",
       "        [[-0.26829665,  0.31267077],\n",
       "         [-0.22495458, -0.12581883],\n",
       "         [ 0.26748041, -0.66605332]],\n",
       "\n",
       "        [[-0.023022  ,  0.11326969],\n",
       "         [ 0.18469781, -0.55483234],\n",
       "         [ 0.32973489,  0.27550022]]],\n",
       "\n",
       "\n",
       "       [[[ 0.10759164, -0.63445143],\n",
       "         [ 0.03337969,  0.25331677],\n",
       "         [ 0.45157972, -0.17408386]],\n",
       "\n",
       "        [[ 0.20383984,  0.45867942],\n",
       "         [ 0.01499983, -0.2965261 ],\n",
       "         [-0.19994835,  0.14174105]],\n",
       "\n",
       "        [[ 0.19374226, -0.60597725],\n",
       "         [ 0.49222259,  0.19789102],\n",
       "         [ 0.20171385,  0.0422929 ]]],\n",
       "\n",
       "\n",
       "       [[[-0.26715396, -0.16995193],\n",
       "         [ 0.34863328,  0.45914815],\n",
       "         [ 0.08663278,  0.61174177]],\n",
       "\n",
       "        [[ 0.22506451, -0.12569846],\n",
       "         [-0.27588113, -0.29585981],\n",
       "         [ 0.17803576,  0.11039606]],\n",
       "\n",
       "        [[-0.03518468, -0.36600593],\n",
       "         [ 0.64683561,  0.09689121],\n",
       "         [-0.27371473, -0.15114634]]]])</details></samp><samp style='font-size: 12px;'><details><summary><b style=\"color: #e55471;\">Tensor</b>(shape=(<b style=\"color: #8a5bcf;\">3</b>, <b style=\"color: #4da1d2;\">64</b>, <b style=\"color: #4da1d2;\">64</b>, <b style=\"color: #8a5bcf;\">3</b>), inds=[<b style=\"color: #71d567;\">_aea46cAAAAN</b>, <b style=\"color: #ce33b7;\">_aea46cAAAAO</b>, <b style=\"color: #e0a79a;\">_aea46cAAAAM</b>, <b style=\"color: #cf7035;\">_aea46cAAACc</b>], tags={<b style=\"color: #da64ad;\">I1,2</b>, <b style=\"color: #6fe251;\">X1</b>, <b style=\"color: #3fdd7b;\">Y2</b>, <b style=\"color: #9f93de;\">BRA</b>, <b style=\"color: #73d85d;\">I0,2</b>, <b style=\"color: #d44388;\">X0</b>, <b style=\"color: #e4c44b;\">KET</b>}),</summary>backend=<b style=\"color: #7fdd73;\">numpy</b>, dtype=<b style=\"color: #75d2c6;\">float64</b>, data=...</details></samp><samp style='font-size: 12px;'><details><summary><b style=\"color: #e55471;\">Tensor</b>(shape=(<b style=\"color: #8a5bcf;\">3</b>, <b style=\"color: #c14bdb;\">9</b>, <b style=\"color: #4da1d2;\">64</b>, <b style=\"color: #8a5bcf;\">3</b>), inds=[<b style=\"color: #7d89df;\">_aea46cAAAAP</b>, <b style=\"color: #327ad1;\">_aea46cAAAAQ</b>, <b style=\"color: #ce33b7;\">_aea46cAAAAO</b>, <b style=\"color: #8de397;\">_aea46cAAACe</b>], tags={<b style=\"color: #acd080;\">I1,3</b>, <b style=\"color: #6fe251;\">X1</b>, <b style=\"color: #63d5a7;\">Y3</b>, <b style=\"color: #9f93de;\">BRA</b>, <b style=\"color: #deb79b;\">I0,3</b>, <b style=\"color: #d44388;\">X0</b>, <b style=\"color: #e4c44b;\">KET</b>}),</summary>backend=<b style=\"color: #7fdd73;\">numpy</b>, dtype=<b style=\"color: #75d2c6;\">float64</b>, data=...</details></samp><samp style='font-size: 12px;'><details><summary><b style=\"color: #e55471;\">Tensor</b>(shape=(<b style=\"color: #8a5bcf;\">3</b>, <b style=\"color: #c14bdb;\">9</b>, <b style=\"color: #8a5bcf;\">3</b>), inds=[<b style=\"color: #d4b38d;\">_aea46cAAAAR</b>, <b style=\"color: #327ad1;\">_aea46cAAAAQ</b>, <b style=\"color: #93d95a;\">_aea46cAAACg</b>], tags={<b style=\"color: #3ec8d1;\">I1,4</b>, <b style=\"color: #6fe251;\">X1</b>, <b style=\"color: #37ce56;\">Y4</b>, <b style=\"color: #9f93de;\">BRA</b>, <b style=\"color: #ce966e;\">I0,4</b>, <b style=\"color: #d44388;\">X0</b>, <b style=\"color: #e4c44b;\">KET</b>}),</summary>backend=<b style=\"color: #7fdd73;\">numpy</b>, dtype=<b style=\"color: #75d2c6;\">float64</b>, data=array([[[ 3.56981949e-01, -1.00848316e-01, -2.99876514e-02],\n",
       "        [-7.47813095e-02,  5.10592372e-02,  9.14969049e-02],\n",
       "        [ 5.78916294e-02,  6.67496076e-02,  2.51375552e-02],\n",
       "        [ 1.95345094e-02, -2.59605747e-02,  4.49697344e-02],\n",
       "        [-2.49502542e-16,  2.33798059e-03, -1.79005072e-02],\n",
       "        [-9.95379525e-17,  6.49172701e-03, -6.21682059e-02],\n",
       "        [ 1.72158407e-02,  2.49273391e-02, -1.80900169e-02],\n",
       "        [ 3.13082868e-02, -6.19052797e-03,  1.26882184e-02],\n",
       "        [ 9.54505940e-18, -2.92696256e-02, -3.10374293e-03]],\n",
       "\n",
       "       [[-1.00848316e-01,  2.18405978e-01,  7.80502424e-02],\n",
       "        [ 5.10592372e-02, -3.02687053e-02,  3.19057027e-02],\n",
       "        [ 6.67496076e-02,  5.33148577e-02, -3.61814356e-02],\n",
       "        [-2.59605747e-02,  2.70028274e-02,  4.04028883e-02],\n",
       "        [-2.33798059e-03,  1.77209692e-16,  7.02352038e-02],\n",
       "        [-6.49172701e-03, -2.46153143e-16, -1.60606062e-02],\n",
       "        [ 2.49273391e-02, -2.13476966e-02,  3.43397018e-02],\n",
       "        [-6.19052797e-03, -4.52032230e-02, -1.07501528e-02],\n",
       "        [ 2.92696256e-02, -2.88552932e-17,  1.83287627e-04]],\n",
       "\n",
       "       [[-2.99876514e-02,  7.80502424e-02,  4.03700019e-01],\n",
       "        [ 9.14969049e-02,  3.19057027e-02,  1.09269202e-01],\n",
       "        [ 2.51375552e-02, -3.61814356e-02, -2.89616215e-02],\n",
       "        [ 4.49697344e-02,  4.04028883e-02, -5.37950028e-02],\n",
       "        [ 1.79005072e-02, -7.02352038e-02,  4.56094424e-16],\n",
       "        [ 6.21682059e-02,  1.60606062e-02,  2.28696561e-17],\n",
       "        [-1.80900169e-02,  3.43397018e-02, -7.18582529e-03],\n",
       "        [ 1.26882184e-02, -1.07501528e-02, -2.80812365e-04],\n",
       "        [ 3.10374293e-03, -1.83287627e-04,  2.38880536e-18]]])</details></samp><samp style='font-size: 12px;'><details><summary><b style=\"color: #e55471;\">Tensor</b>(shape=(<b style=\"color: #4da1d2;\">64</b>, <b style=\"color: #8a5bcf;\">3</b>, <b style=\"color: #4da1d2;\">64</b>, <b style=\"color: #8a5bcf;\">3</b>), inds=[<b style=\"color: #dbdf8e;\">_aea46cAAAAg</b>, <b style=\"color: #d26acc;\">_aea46cAAAAW</b>, <b style=\"color: #d69a57;\">_aea46cAAAAe</b>, <b style=\"color: #6cd6be;\">_aea46cAAACl</b>], tags={<b style=\"color: #da8d92;\">I3,2</b>, <b style=\"color: #e5db50;\">X3</b>, <b style=\"color: #3fdd7b;\">Y2</b>, <b style=\"color: #9f93de;\">BRA</b>, <b style=\"color: #48d235;\">I4,2</b>, <b style=\"color: #6ae463;\">X4</b>, <b style=\"color: #e4c44b;\">KET</b>}),</summary>backend=<b style=\"color: #7fdd73;\">numpy</b>, dtype=<b style=\"color: #75d2c6;\">float64</b>, data=...</details></samp><samp style='font-size: 12px;'><details><summary><b style=\"color: #e55471;\">Tensor</b>(shape=(<b style=\"color: #c14bdb;\">9</b>, <b style=\"color: #8a5bcf;\">3</b>, <b style=\"color: #4da1d2;\">64</b>, <b style=\"color: #8a5bcf;\">3</b>), inds=[<b style=\"color: #c730e4;\">_aea46cAAAAi</b>, <b style=\"color: #928bd4;\">_aea46cAAAAY</b>, <b style=\"color: #dbdf8e;\">_aea46cAAAAg</b>, <b style=\"color: #8cd2ba;\">_aea46cAAACn</b>], tags={<b style=\"color: #7fd635;\">I3,3</b>, <b style=\"color: #e5db50;\">X3</b>, <b style=\"color: #63d5a7;\">Y3</b>, <b style=\"color: #9f93de;\">BRA</b>, <b style=\"color: #cfcb31;\">I4,3</b>, <b style=\"color: #6ae463;\">X4</b>, <b style=\"color: #e4c44b;\">KET</b>}),</summary>backend=<b style=\"color: #7fdd73;\">numpy</b>, dtype=<b style=\"color: #75d2c6;\">float64</b>, data=...</details></samp><samp style='font-size: 12px;'><details><summary><b style=\"color: #e55471;\">Tensor</b>(shape=(<b style=\"color: #8a5bcf;\">3</b>, <b style=\"color: #c14bdb;\">9</b>, <b style=\"color: #8a5bcf;\">3</b>), inds=[<b style=\"color: #38a2d0;\">_aea46cAAAAa</b>, <b style=\"color: #c730e4;\">_aea46cAAAAi</b>, <b style=\"color: #cd8f62;\">_aea46cAAACp</b>], tags={<b style=\"color: #9f91da;\">I3,4</b>, <b style=\"color: #e5db50;\">X3</b>, <b style=\"color: #37ce56;\">Y4</b>, <b style=\"color: #9f93de;\">BRA</b>, <b style=\"color: #8556e3;\">I4,4</b>, <b style=\"color: #6ae463;\">X4</b>, <b style=\"color: #e4c44b;\">KET</b>}),</summary>backend=<b style=\"color: #7fdd73;\">numpy</b>, dtype=<b style=\"color: #75d2c6;\">float64</b>, data=array([[[ 5.68399455e-01,  2.42506402e-01,  3.33555033e-01],\n",
       "        [ 1.25079009e-01,  3.22513869e-02, -6.98697546e-02],\n",
       "        [ 1.36470626e-01,  2.04575948e-01,  7.27566005e-02],\n",
       "        [-2.52472701e-15,  7.86496048e-02,  2.75969908e-01],\n",
       "        [-1.37359123e-01, -6.42711321e-02, -1.05580199e-01],\n",
       "        [-1.97268264e-16,  5.12335106e-02,  1.36836294e-02],\n",
       "        [ 7.72843563e-02,  6.63680258e-02, -1.45256898e-01],\n",
       "        [ 1.46159349e-01, -8.93871796e-02, -6.26766907e-03],\n",
       "        [-3.92703429e-15, -1.29140581e-01,  4.03399323e-02]],\n",
       "\n",
       "       [[ 2.42506402e-01,  1.00877466e+00,  3.27177597e-01],\n",
       "        [ 3.22513869e-02,  3.95720591e-01, -3.10805564e-01],\n",
       "        [ 2.04575948e-01,  4.24565134e-02,  1.44756191e-01],\n",
       "        [-7.86496048e-02,  4.75938793e-17,  3.54393752e-02],\n",
       "        [-6.42711321e-02,  1.77794095e-01,  1.21196914e-01],\n",
       "        [-5.12335106e-02, -3.61675374e-16, -2.20256855e-01],\n",
       "        [ 6.63680258e-02, -5.24617194e-02,  5.14089461e-03],\n",
       "        [-8.93871796e-02, -8.18299437e-03,  2.68972269e-02],\n",
       "        [ 1.29140581e-01,  2.83517873e-16, -2.75329848e-02]],\n",
       "\n",
       "       [[ 3.33555033e-01,  3.27177597e-01,  1.27000956e+00],\n",
       "        [-6.98697546e-02, -3.10805564e-01, -1.85779727e-01],\n",
       "        [ 7.27566005e-02,  1.44756191e-01, -2.85729711e-01],\n",
       "        [-2.75969908e-01, -3.54393752e-02,  3.63606034e-15],\n",
       "        [-1.05580199e-01,  1.21196914e-01, -6.21878949e-02],\n",
       "        [-1.36836294e-02,  2.20256855e-01,  6.31910812e-17],\n",
       "        [-1.45256898e-01,  5.14089461e-03,  5.53875299e-02],\n",
       "        [-6.26766907e-03,  2.68972269e-02, -3.53440529e-02],\n",
       "        [-4.03399323e-02,  2.75329848e-02,  8.59657667e-16]]])</details></samp><samp style='font-size: 12px;'><details><summary><b style=\"color: #e55471;\">Tensor</b>(shape=(<b style=\"color: #4da1d2;\">64</b>, <b style=\"color: #4da1d2;\">64</b>), inds=[<b style=\"color: #602ee1;\">_aea46cAAAAL</b>, <b style=\"color: #e0a79a;\">_aea46cAAAAM</b>], tags={<b style=\"color: #c28de0;\">I1,0</b>, <b style=\"color: #6fe251;\">X1</b>, <b style=\"color: #b1d42e;\">Y0</b>, <b style=\"color: #9f93de;\">BRA</b>, <b style=\"color: #8b77de;\">I0,0</b>, <b style=\"color: #d44388;\">X0</b>, <b style=\"color: #e4c44b;\">KET</b>, <b style=\"color: #d67b97;\">I1,1</b>, <b style=\"color: #6c45d0;\">Y1</b>, <b style=\"color: #92d399;\">I0,1</b>}),</summary>backend=<b style=\"color: #7fdd73;\">numpy</b>, dtype=<b style=\"color: #75d2c6;\">float64</b>, data=...</details></samp><samp style='font-size: 12px;'><details><summary><b style=\"color: #e55471;\">Tensor</b>(shape=(<b style=\"color: #4da1d2;\">64</b>, <b style=\"color: #8a5bcf;\">3</b>, <b style=\"color: #4da1d2;\">64</b>, <b style=\"color: #8a5bcf;\">3</b>), inds=[<b style=\"color: #db635e;\">_aea46cAAAAS</b>, <b style=\"color: #8ed580;\">_aea46cAAAAV</b>, <b style=\"color: #602ee1;\">_aea46cAAAAL</b>, <b style=\"color: #d99f81;\">_aea46cAAACd</b>], tags={<b style=\"color: #77df7d;\">I2,1</b>, <b style=\"color: #c654d5;\">X2</b>, <b style=\"color: #6c45d0;\">Y1</b>, <b style=\"color: #9f93de;\">BRA</b>, <b style=\"color: #d472d0;\">I2,0</b>, <b style=\"color: #b1d42e;\">Y0</b>, <b style=\"color: #e4c44b;\">KET</b>}),</summary>backend=<b style=\"color: #7fdd73;\">numpy</b>, dtype=<b style=\"color: #75d2c6;\">float64</b>, data=...</details></samp><samp style='font-size: 12px;'><details><summary><b style=\"color: #e55471;\">Tensor</b>(shape=(<b style=\"color: #4da1d2;\">64</b>, <b style=\"color: #4da1d2;\">64</b>), inds=[<b style=\"color: #db635e;\">_aea46cAAAAS</b>, <b style=\"color: #d69a57;\">_aea46cAAAAe</b>], tags={<b style=\"color: #57ccd3;\">I3,0</b>, <b style=\"color: #e5db50;\">X3</b>, <b style=\"color: #b1d42e;\">Y0</b>, <b style=\"color: #9f93de;\">BRA</b>, <b style=\"color: #d54a8d;\">I4,0</b>, <b style=\"color: #6ae463;\">X4</b>, <b style=\"color: #e4c44b;\">KET</b>, <b style=\"color: #98d482;\">I3,1</b>, <b style=\"color: #6c45d0;\">Y1</b>, <b style=\"color: #6373d7;\">I4,1</b>}),</summary>backend=<b style=\"color: #7fdd73;\">numpy</b>, dtype=<b style=\"color: #75d2c6;\">float64</b>, data=...</details></samp></details></samp>"
      ],
      "text/plain": [
       "TensorNetwork2D(tensors=15, indices=29, Lx=5, Ly=5, max_bond=64)"
      ]
     },
     "execution_count": 15,
     "metadata": {},
     "output_type": "execute_result"
    }
   ],
   "source": [
    "norm.contract_boundary_(max_bond=64, layer_tags=['KET', 'BRA'], around=((2, 2), (2, 3)))"
   ]
  },
  {
   "cell_type": "code",
   "execution_count": 16,
   "id": "5b1ea142-0b7e-47f2-9e9d-33230ba2c7b0",
   "metadata": {},
   "outputs": [
    {
     "data": {
      "image/svg+xml": [
       "<?xml version=\"1.0\" encoding=\"UTF-8\"?><!DOCTYPE svg  PUBLIC '-//W3C//DTD SVG 1.1//EN'  'http://www.w3.org/Graphics/SVG/1.1/DTD/svg11.dtd'><svg width=\"420.3pt\" height=\"188.58pt\" version=\"1.1\" viewBox=\"0 0 420.3 188.58\" xmlns=\"http://www.w3.org/2000/svg\" xmlns:xlink=\"http://www.w3.org/1999/xlink\"><defs><style type=\"text/css\">*{stroke-linejoin: round; stroke-linecap: butt}</style></defs><path d=\"m0 188.58h420.3v-188.58h-420.3v188.58z\" opacity=\"0\"/><path d=\"m37.248 65.138-5.244 10.189-7.3887-8.7596\" clip-path=\"url(#a1e2cc2ecd7)\" fill=\"none\" stroke=\"#737880\" stroke-linecap=\"round\" stroke-opacity=\".5\"/><path d=\"m25.302 16.111 8.936 78.954\" clip-path=\"url(#a1e2cc2ecd7)\" fill=\"none\" stroke=\"#737880\" stroke-linecap=\"round\" stroke-opacity=\".5\" stroke-width=\"6\"/><path d=\"m57.106 27.222-9.7242-8.3775 11.473-5.7541\" clip-path=\"url(#a1e2cc2ecd7)\" fill=\"none\" stroke=\"#737880\" stroke-linecap=\"round\" stroke-opacity=\".5\"/><path d=\"m81.819 15.932 9.7242 8.3775-11.473 5.7541\" clip-path=\"url(#a1e2cc2ecd7)\" fill=\"none\" stroke=\"#737880\" stroke-linecap=\"round\" stroke-opacity=\".5\"/><path d=\"m113.62 27.042-88.322-10.931\" clip-path=\"url(#a1e2cc2ecd7)\" fill=\"none\" stroke=\"#737880\" stroke-linecap=\"round\" stroke-opacity=\".5\" stroke-width=\"6\"/><path d=\"m102.46 51.187 7.3273-7.0014 3.6447 9.4565\" clip-path=\"url(#a1e2cc2ecd7)\" fill=\"none\" stroke=\"#737880\" stroke-linecap=\"round\" stroke-opacity=\".5\"/><path d=\"m98.28 95.617 15.344-68.575\" clip-path=\"url(#a1e2cc2ecd7)\" fill=\"none\" stroke=\"#737880\" stroke-linecap=\"round\" stroke-opacity=\".5\" stroke-width=\"1.585\"/><path d=\"m179.88 21.902 12.133 8.9746-12.951 7.7475\" clip-path=\"url(#a1e2cc2ecd7)\" fill=\"none\" stroke=\"#737880\" stroke-linecap=\"round\" stroke-opacity=\".5\"/><path d=\"m113.62 27.042 104.51 5.1128\" clip-path=\"url(#a1e2cc2ecd7)\" fill=\"none\" stroke=\"#737880\" stroke-linecap=\"round\" stroke-opacity=\".5\" stroke-width=\"6\"/><path d=\"m205.94 55.668 7.6066-6.6327 3.1969 9.5726\" clip-path=\"url(#a1e2cc2ecd7)\" fill=\"none\" stroke=\"#737880\" stroke-linecap=\"round\" stroke-opacity=\".5\"/><path d=\"m199.76 99.677 18.374-67.522\" clip-path=\"url(#a1e2cc2ecd7)\" fill=\"none\" stroke=\"#737880\" stroke-linecap=\"round\" stroke-opacity=\".5\" stroke-width=\"1.585\"/><path d=\"m218.14 32.155 94.004 7.052\" clip-path=\"url(#a1e2cc2ecd7)\" fill=\"none\" stroke=\"#737880\" stroke-linecap=\"round\" stroke-opacity=\".5\" stroke-width=\"3.1699\"/><path d=\"m294.85 103.71 17.286-64.506\" clip-path=\"url(#a1e2cc2ecd7)\" fill=\"none\" stroke=\"#737880\" stroke-linecap=\"round\" stroke-opacity=\".5\" stroke-width=\"1.585\"/><path d=\"m34.238 95.066-16.552 77.404\" clip-path=\"url(#a1e2cc2ecd7)\" fill=\"none\" stroke=\"#737880\" stroke-linecap=\"round\" stroke-opacity=\".5\" stroke-width=\"6\"/><path d=\"m57.889 100.39-7.641-5.1896 7.7292-5.0572\" clip-path=\"url(#a1e2cc2ecd7)\" fill=\"none\" stroke=\"#737880\" stroke-linecap=\"round\" stroke-opacity=\".5\"/><path d=\"m98.28 95.617-64.042-0.55148\" clip-path=\"url(#a1e2cc2ecd7)\" fill=\"none\" stroke=\"#737880\" stroke-linecap=\"round\" stroke-opacity=\".5\" stroke-width=\"1.585\"/><path d=\"m109.19 140.84-4.8567 9.3825-6.7928-8.0917\" clip-path=\"url(#a1e2cc2ecd7)\" fill=\"none\" stroke=\"#737880\" stroke-linecap=\"round\" stroke-opacity=\".5\"/><path d=\"m98.28 95.617 8.0673 72.809\" clip-path=\"url(#a1e2cc2ecd7)\" fill=\"none\" stroke=\"#737880\" stroke-linecap=\"round\" stroke-opacity=\".5\" stroke-width=\"1.585\"/><path d=\"m98.28 95.617 101.48 4.0602\" clip-path=\"url(#a1e2cc2ecd7)\" fill=\"none\" stroke=\"#737880\" stroke-linecap=\"round\" stroke-opacity=\".5\" stroke-width=\"1.585\"/><path d=\"m98.28 95.617 29.048 4.5565\" clip-path=\"url(#a1e2cc2ecd7)\" fill=\"none\" stroke=\"#737880\" stroke-linecap=\"round\" stroke-opacity=\".5\"/><path d=\"m212.44 144.03-4.4242 9.4963-7.0642-7.7363\" clip-path=\"url(#a1e2cc2ecd7)\" fill=\"none\" stroke=\"#737880\" stroke-linecap=\"round\" stroke-opacity=\".5\"/><path d=\"m199.76 99.677 11 71.802\" clip-path=\"url(#a1e2cc2ecd7)\" fill=\"none\" stroke=\"#737880\" stroke-linecap=\"round\" stroke-opacity=\".5\" stroke-width=\"1.585\"/><path d=\"m199.76 99.677 95.091 4.0362\" clip-path=\"url(#a1e2cc2ecd7)\" fill=\"none\" stroke=\"#737880\" stroke-linecap=\"round\" stroke-opacity=\".5\" stroke-width=\"1.585\"/><path d=\"m199.76 99.677 33.836 4.5342\" clip-path=\"url(#a1e2cc2ecd7)\" fill=\"none\" stroke=\"#737880\" stroke-linecap=\"round\" stroke-opacity=\".5\"/><path d=\"m294.85 103.71 10.025 68.035\" clip-path=\"url(#a1e2cc2ecd7)\" fill=\"none\" stroke=\"#737880\" stroke-linecap=\"round\" stroke-opacity=\".5\" stroke-width=\"1.585\"/><path d=\"m294.85 103.71 36.66 3.908\" clip-path=\"url(#a1e2cc2ecd7)\" fill=\"none\" stroke=\"#737880\" stroke-linecap=\"round\" stroke-opacity=\".5\"/><path d=\"m73.219 162.83 10.963 6.6078-10.316 7.578\" clip-path=\"url(#a1e2cc2ecd7)\" fill=\"none\" stroke=\"#737880\" stroke-linecap=\"round\" stroke-opacity=\".5\"/><path d=\"m106.35 168.43-88.661 4.0429\" clip-path=\"url(#a1e2cc2ecd7)\" fill=\"none\" stroke=\"#737880\" stroke-linecap=\"round\" stroke-opacity=\".5\" stroke-width=\"6\"/><path d=\"m172.37 162 12.286 8.7197-12.774 7.9869\" clip-path=\"url(#a1e2cc2ecd7)\" fill=\"none\" stroke=\"#737880\" stroke-linecap=\"round\" stroke-opacity=\".5\"/><path d=\"m106.35 168.43 104.42 3.0533\" clip-path=\"url(#a1e2cc2ecd7)\" fill=\"none\" stroke=\"#737880\" stroke-linecap=\"round\" stroke-opacity=\".5\" stroke-width=\"6\"/><path d=\"m210.76 171.48 94.116 0.26836\" clip-path=\"url(#a1e2cc2ecd7)\" fill=\"none\" stroke=\"#737880\" stroke-linecap=\"round\" stroke-opacity=\".5\" stroke-width=\"3.1699\"/><path d=\"m112.84 55.197 4.206-9.8721 7.495 7.6794\" clip-path=\"url(#a1e2cc2ecd7)\" fill=\"none\" stroke=\"#737880\" stroke-linecap=\"round\" stroke-opacity=\".5\"/><path d=\"m127.33 100.17-13.704-73.131\" clip-path=\"url(#a1e2cc2ecd7)\" fill=\"none\" stroke=\"#737880\" stroke-linecap=\"round\" stroke-opacity=\".5\" stroke-width=\"1.585\"/><path d=\"m218.09 60.053 3.909-9.8837 7.62 7.4098\" clip-path=\"url(#a1e2cc2ecd7)\" fill=\"none\" stroke=\"#737880\" stroke-linecap=\"round\" stroke-opacity=\".5\"/><path d=\"m233.6 104.21-15.462-72.056\" clip-path=\"url(#a1e2cc2ecd7)\" fill=\"none\" stroke=\"#737880\" stroke-linecap=\"round\" stroke-opacity=\".5\" stroke-width=\"1.585\"/><path d=\"m331.51 107.62-19.373-68.414\" clip-path=\"url(#a1e2cc2ecd7)\" fill=\"none\" stroke=\"#737880\" stroke-linecap=\"round\" stroke-opacity=\".5\" stroke-width=\"1.585\"/><path d=\"m68.273 104.4-10.762-8.0602 11.58-6.8343\" clip-path=\"url(#a1e2cc2ecd7)\" fill=\"none\" stroke=\"#737880\" stroke-linecap=\"round\" stroke-opacity=\".5\"/><path d=\"m127.33 100.17-93.091-5.108\" clip-path=\"url(#a1e2cc2ecd7)\" fill=\"none\" stroke=\"#737880\" stroke-linecap=\"round\" stroke-opacity=\".5\" stroke-width=\"1.585\"/><path d=\"m119.57 144.85-7.978 6.5118-2.9425-9.8688\" clip-path=\"url(#a1e2cc2ecd7)\" fill=\"none\" stroke=\"#737880\" stroke-linecap=\"round\" stroke-opacity=\".5\"/><path d=\"m127.33 100.17-20.981 68.253\" clip-path=\"url(#a1e2cc2ecd7)\" fill=\"none\" stroke=\"#737880\" stroke-linecap=\"round\" stroke-opacity=\".5\" stroke-width=\"1.585\"/><path d=\"m127.33 100.17 106.27 4.0379\" clip-path=\"url(#a1e2cc2ecd7)\" fill=\"none\" stroke=\"#737880\" stroke-linecap=\"round\" stroke-opacity=\".5\" stroke-width=\"1.585\"/><path d=\"m224.59 148.42-8.1218 6.2453-2.6411-9.899\" clip-path=\"url(#a1e2cc2ecd7)\" fill=\"none\" stroke=\"#737880\" stroke-linecap=\"round\" stroke-opacity=\".5\"/><path d=\"m233.6 104.21-22.836 67.268\" clip-path=\"url(#a1e2cc2ecd7)\" fill=\"none\" stroke=\"#737880\" stroke-linecap=\"round\" stroke-opacity=\".5\" stroke-width=\"1.585\"/><path d=\"m233.6 104.21 97.915 3.4099\" clip-path=\"url(#a1e2cc2ecd7)\" fill=\"none\" stroke=\"#737880\" stroke-linecap=\"round\" stroke-opacity=\".5\" stroke-width=\"1.585\"/><path d=\"m331.51 107.62-26.634 64.127\" clip-path=\"url(#a1e2cc2ecd7)\" fill=\"none\" stroke=\"#737880\" stroke-linecap=\"round\" stroke-opacity=\".5\" stroke-width=\"1.585\"/><path d=\"m98.28 102.17c1.7368 0 3.4026-0.69003 4.6307-1.9181 1.2281-1.2281 1.9181-2.894 1.9181-4.6307 0-1.7368-0.69003-3.4026-1.9181-4.6307-1.2281-1.2281-2.894-1.9181-4.6307-1.9181s-3.4026 0.69003-4.6307 1.9181c-1.2281 1.2281-1.9181 2.894-1.9181 4.6307 0 1.7368 0.69003 3.4026 1.9181 4.6307 1.2281 1.2281 2.894 1.9181 4.6307 1.9181z\" clip-path=\"url(#a1e2cc2ecd7)\" fill=\"#56b4e9\" stroke=\"#4da2d2\" stroke-width=\"1.2252\"/><path d=\"m199.76 106.23c1.7368 0 3.4026-0.69003 4.6307-1.9181 1.2281-1.2281 1.9181-2.894 1.9181-4.6307 0-1.7368-0.69003-3.4026-1.9181-4.6307-1.2281-1.2281-2.894-1.9181-4.6307-1.9181-1.7368 0-3.4026 0.69003-4.6307 1.9181-1.2281 1.2281-1.9181 2.894-1.9181 4.6307 0 1.7368 0.69003 3.4026 1.9181 4.6307 1.2281 1.2281 2.894 1.9181 4.6307 1.9181z\" clip-path=\"url(#a1e2cc2ecd7)\" fill=\"#e69f00\" stroke=\"#cf8f00\" stroke-width=\"1.2252\"/><path d=\"m294.85 110.26c1.7368 0 3.4026-0.69003 4.6307-1.9181 1.2281-1.2281 1.9181-2.894 1.9181-4.6307 0-1.7368-0.69003-3.4026-1.9181-4.6307-1.2281-1.2281-2.894-1.9181-4.6307-1.9181-1.7368 0-3.4026 0.69003-4.6307 1.9181-1.2281 1.2281-1.9181 2.894-1.9181 4.6307 0 1.7368 0.69003 3.4026 1.9181 4.6307 1.2281 1.2281 2.894 1.9181 4.6307 1.9181z\" clip-path=\"url(#a1e2cc2ecd7)\" fill=\"#737880\" stroke=\"#5d6167\" stroke-width=\"1.2252\"/><path d=\"m127.33 106.72c1.7368 0 3.4026-0.69003 4.6307-1.9181 1.2281-1.2281 1.9181-2.894 1.9181-4.6307 0-1.7368-0.69003-3.4026-1.9181-4.6307-1.2281-1.2281-2.894-1.9181-4.6307-1.9181-1.7368 0-3.4026 0.69003-4.6307 1.9181-1.2281 1.2281-1.9181 2.894-1.9181 4.6307 0 1.7368 0.69003 3.4026 1.9181 4.6307 1.2281 1.2281 2.894 1.9181 4.6307 1.9181z\" clip-path=\"url(#a1e2cc2ecd7)\" fill=\"#56b4e9\" stroke=\"#4da2d2\" stroke-width=\"1.2252\"/><path d=\"m233.6 110.76c1.7368 0 3.4026-0.69003 4.6307-1.9181 1.2281-1.2281 1.9181-2.894 1.9181-4.6307s-0.69003-3.4026-1.9181-4.6307c-1.2281-1.2281-2.894-1.9181-4.6307-1.9181-1.7368 0-3.4026 0.69003-4.6307 1.9181-1.2281 1.2281-1.9181 2.894-1.9181 4.6307s0.69003 3.4026 1.9181 4.6307c1.2281 1.2281 2.894 1.9181 4.6307 1.9181z\" clip-path=\"url(#a1e2cc2ecd7)\" fill=\"#e69f00\" stroke=\"#cf8f00\" stroke-width=\"1.2252\"/><path d=\"m331.51 114.17c1.7368 0 3.4026-0.69003 4.6307-1.9181 1.2281-1.2281 1.9181-2.894 1.9181-4.6307s-0.69003-3.4026-1.9181-4.6307c-1.2281-1.2281-2.894-1.9181-4.6307-1.9181-1.7368 0-3.4026 0.69003-4.6307 1.9181-1.2281 1.2281-1.9181 2.894-1.9181 4.6307s0.69003 3.4026 1.9181 4.6307c1.2281 1.2281 2.894 1.9181 4.6307 1.9181z\" clip-path=\"url(#a1e2cc2ecd7)\" fill=\"#737880\" stroke=\"#5d6167\" stroke-width=\"1.2252\"/><path d=\"m113.62 33.591c1.7368 0 3.4026-0.69003 4.6307-1.9181 1.2281-1.2281 1.9181-2.894 1.9181-4.6307s-0.69003-3.4026-1.9181-4.6307c-1.2281-1.2281-2.894-1.9181-4.6307-1.9181s-3.4026 0.69003-4.6307 1.9181c-1.2281 1.2281-1.9181 2.894-1.9181 4.6307s0.69003 3.4026 1.9181 4.6307c1.2281 1.2281 2.894 1.9181 4.6307 1.9181z\" clip-path=\"url(#a1e2cc2ecd7)\" fill=\"#737880\" stroke=\"#5d6167\" stroke-width=\"1.2252\"/><path d=\"m218.14 38.704c1.7368 0 3.4026-0.69003 4.6307-1.9181 1.2281-1.2281 1.9181-2.894 1.9181-4.6307s-0.69003-3.4026-1.9181-4.6307c-1.2281-1.2281-2.894-1.9181-4.6307-1.9181-1.7368 0-3.4026 0.69003-4.6307 1.9181-1.2281 1.2281-1.9181 2.894-1.9181 4.6307s0.69003 3.4026 1.9181 4.6307c1.2281 1.2281 2.894 1.9181 4.6307 1.9181z\" clip-path=\"url(#a1e2cc2ecd7)\" fill=\"#737880\" stroke=\"#5d6167\" stroke-width=\"1.2252\"/><path d=\"m312.14 45.756c1.7368 0 3.4026-0.69003 4.6307-1.9181 1.2281-1.2281 1.9181-2.894 1.9181-4.6307 0-1.7368-0.69003-3.4026-1.9181-4.6307-1.2281-1.2281-2.894-1.9181-4.6307-1.9181s-3.4026 0.69003-4.6307 1.9181c-1.2281 1.2281-1.9181 2.894-1.9181 4.6307 0 1.7368 0.69003 3.4026 1.9181 4.6307 1.2281 1.2281 2.894 1.9181 4.6307 1.9181z\" clip-path=\"url(#a1e2cc2ecd7)\" fill=\"#737880\" stroke=\"#5d6167\" stroke-width=\"1.2252\"/><path d=\"m106.35 174.98c1.7368 0 3.4026-0.69003 4.6307-1.9181 1.2281-1.2281 1.9181-2.894 1.9181-4.6307s-0.69003-3.4026-1.9181-4.6307c-1.2281-1.2281-2.894-1.9181-4.6307-1.9181-1.7368 0-3.4026 0.69003-4.6307 1.9181-1.2281 1.2281-1.9181 2.894-1.9181 4.6307s0.69003 3.4026 1.9181 4.6307c1.2281 1.2281 2.894 1.9181 4.6307 1.9181z\" clip-path=\"url(#a1e2cc2ecd7)\" fill=\"#737880\" stroke=\"#5d6167\" stroke-width=\"1.2252\"/><path d=\"m210.76 178.03c1.7368 0 3.4026-0.69003 4.6307-1.9181 1.2281-1.2281 1.9181-2.894 1.9181-4.6307s-0.69003-3.4026-1.9181-4.6307c-1.2281-1.2281-2.894-1.9181-4.6307-1.9181s-3.4026 0.69003-4.6307 1.9181c-1.2281 1.2281-1.9181 2.894-1.9181 4.6307s0.69003 3.4026 1.9181 4.6307c1.2281 1.2281 2.894 1.9181 4.6307 1.9181z\" clip-path=\"url(#a1e2cc2ecd7)\" fill=\"#737880\" stroke=\"#5d6167\" stroke-width=\"1.2252\"/><path d=\"m304.88 178.3c1.7368 0 3.4026-0.69003 4.6307-1.9181 1.2281-1.2281 1.9181-2.894 1.9181-4.6307 0-1.7368-0.69003-3.4026-1.9181-4.6307-1.2281-1.2281-2.894-1.9181-4.6307-1.9181-1.7368 0-3.4026 0.69003-4.6307 1.9181-1.2281 1.2281-1.9181 2.894-1.9181 4.6307 0 1.7368 0.69003 3.4026 1.9181 4.6307 1.2281 1.2281 2.894 1.9181 4.6307 1.9181z\" clip-path=\"url(#a1e2cc2ecd7)\" fill=\"#737880\" stroke=\"#5d6167\" stroke-width=\"1.2252\"/><path d=\"m25.302 22.66c1.7368 0 3.4026-0.69003 4.6307-1.9181 1.2281-1.2281 1.9181-2.894 1.9181-4.6307 0-1.7368-0.69003-3.4026-1.9181-4.6307-1.2281-1.2281-2.894-1.9181-4.6307-1.9181-1.7368 0-3.4026 0.69003-4.6307 1.9181-1.2281 1.2281-1.9181 2.894-1.9181 4.6307 0 1.7368 0.69003 3.4026 1.9181 4.6307 1.2281 1.2281 2.894 1.9181 4.6307 1.9181z\" clip-path=\"url(#a1e2cc2ecd7)\" fill=\"#737880\" stroke=\"#5d6167\" stroke-width=\"1.2252\"/><path d=\"m34.238 101.61c1.7368 0 3.4026-0.69003 4.6307-1.9181 1.2281-1.2281 1.9181-2.894 1.9181-4.6307 0-1.7368-0.69003-3.4026-1.9181-4.6307-1.2281-1.2281-2.894-1.9181-4.6307-1.9181-1.7368 0-3.4026 0.69003-4.6307 1.9181-1.2281 1.2281-1.9181 2.894-1.9181 4.6307 0 1.7368 0.69003 3.4026 1.9181 4.6307 1.2281 1.2281 2.894 1.9181 4.6307 1.9181z\" clip-path=\"url(#a1e2cc2ecd7)\" fill=\"#737880\" stroke=\"#5d6167\" stroke-width=\"1.2252\"/><path d=\"m17.686 179.02c1.7368 0 3.4026-0.69003 4.6307-1.9181 1.2281-1.2281 1.9181-2.894 1.9181-4.6307s-0.69003-3.4026-1.9181-4.6307c-1.2281-1.2281-2.894-1.9181-4.6307-1.9181-1.7368 0-3.4026 0.69003-4.6307 1.9181-1.2281 1.2281-1.9181 2.894-1.9181 4.6307s0.69003 3.4026 1.9181 4.6307c1.2281 1.2281 2.894 1.9181 4.6307 1.9181z\" clip-path=\"url(#a1e2cc2ecd7)\" fill=\"#737880\" stroke=\"#5d6167\" stroke-width=\"1.2252\"/><path d=\"m349 110.52h62.102q2 0 2-2v-28.462q0-2-2-2h-62.102q-2 0-2 2v28.462q0 2 2 2z\" fill=\"none\" stroke=\"#999999\" stroke-opacity=\".2\"/><defs><path id=\"28c85a5735c\" d=\"m0 5c1.326 0 2.5979-0.52683 3.5355-1.4645 0.93763-0.93764 1.4645-2.2095 1.4645-3.5355s-0.52683-2.5979-1.4645-3.5355c-0.93764-0.93763-2.2095-1.4645-3.5355-1.4645s-2.5979 0.52683-3.5355 1.4645c-0.93763 0.93764-1.4645 2.2095-1.4645 3.5355s0.52683 2.5979 1.4645 3.5355c0.93764 0.93763 2.2095 1.4645 3.5355 1.4645z\" stroke=\"#4da2d2\"/></defs><use x=\"361\" y=\"86.210527\" fill=\"#56b4e9\" stroke=\"#4da2d2\" xlink:href=\"#28c85a5735c\"/><g transform=\"translate(379 89.711) scale(.1 -.1)\" fill=\"#545759\"><defs><path id=\"DejaVuSansMono-49\" transform=\"scale(.015625)\" d=\"m628 4666h2591v-532h-978v-3603h978v-531h-2591v531h978v3603h-978v532z\"/><path id=\"DejaVuSansMono-32\" transform=\"scale(.015625)\" d=\"m1166 531h2143v-531h-2834v531q584 616 1021 1088 438 472 604 665 313 382 422 618t109 482q0 391-230 613-229 222-629 222-284 0-597-103-312-103-662-313v638q321 153 632 231t614 78q685 0 1102-364t417-955q0-300-139-600t-451-662q-175-203-508-563-333-359-1014-1075z\"/><path id=\"DejaVuSansMono-2c\" transform=\"scale(.015625)\" d=\"m1569 947h787v-647l-615-1197h-482l310 1197v647z\"/></defs><use xlink:href=\"#DejaVuSansMono-20\"/><use x=\"60.205078\" xlink:href=\"#DejaVuSansMono-49\"/><use x=\"120.410156\" xlink:href=\"#DejaVuSansMono-32\"/><use x=\"180.615234\" xlink:href=\"#DejaVuSansMono-2c\"/><use x=\"240.820312\" xlink:href=\"#DejaVuSansMono-32\"/></g><defs><path id=\"9c8e1513688\" d=\"m0 5c1.326 0 2.5979-0.52683 3.5355-1.4645 0.93763-0.93764 1.4645-2.2095 1.4645-3.5355s-0.52683-2.5979-1.4645-3.5355c-0.93764-0.93763-2.2095-1.4645-3.5355-1.4645s-2.5979 0.52683-3.5355 1.4645c-0.93763 0.93764-1.4645 2.2095-1.4645 3.5355s0.52683 2.5979 1.4645 3.5355c0.93764 0.93763 2.2095 1.4645 3.5355 1.4645z\" stroke=\"#cf8f00\"/></defs><use x=\"361\" y=\"100.941777\" fill=\"#e69f00\" stroke=\"#cf8f00\" xlink:href=\"#9c8e1513688\"/><g transform=\"translate(379 104.44) scale(.1 -.1)\" fill=\"#545759\"><defs><path id=\"DejaVuSansMono-33\" transform=\"scale(.015625)\" d=\"m2425 2497q459-122 703-433t244-776q0-644-433-1012-433-367-1198-367-322 0-657 60-334 59-656 172v628q319-166 628-247 310-81 616-81 519 0 797 234t278 675q0 406-278 645t-753 239h-482v519h482q434 0 678 190 244 191 244 532 0 359-227 551-227 193-645 193-278 0-575-63-297-62-622-187v581q378 100 673 150 296 50 524 50 681 0 1089-342t408-908q0-384-215-641-214-256-623-362z\"/></defs><use xlink:href=\"#DejaVuSansMono-20\"/><use x=\"60.205078\" xlink:href=\"#DejaVuSansMono-49\"/><use x=\"120.410156\" xlink:href=\"#DejaVuSansMono-32\"/><use x=\"180.615234\" xlink:href=\"#DejaVuSansMono-2c\"/><use x=\"240.820312\" xlink:href=\"#DejaVuSansMono-33\"/></g><defs><clipPath id=\"a1e2cc2ecd7\"><rect x=\"7.2\" y=\"7.2\" width=\"334.8\" height=\"174.18\"/></clipPath></defs></svg>"
      ],
      "text/plain": [
       "<Figure size 600x600 with 1 Axes>"
      ]
     },
     "metadata": {
      "needs_background": "light"
     },
     "output_type": "display_data"
    }
   ],
   "source": [
    "norm.draw(color=[norm.site_tag(2, 2), norm.site_tag(2, 3)], show_tags=False)"
   ]
  },
  {
   "cell_type": "markdown",
   "id": "546764fc-52f9-4ffc-b4c1-89a8a8883107",
   "metadata": {},
   "source": [
    "Note the tensors on the right haven't been flattened as they on the boundary already."
   ]
  },
  {
   "cell_type": "markdown",
   "id": "9e81151d-0fff-4984-8035-c40e879cc47d",
   "metadata": {
    "raw_mimetype": "text/restructuredtext"
   },
   "source": [
    "## Computing Quantites\n",
    "\n",
    "Contracting the boundary of two sandwiched PEPS around regions (which\n",
    "can be thought of as the approximate partial trace) is also the main routine\n",
    "required inside\n",
    "{meth}`~quimb.tensor.tensor_2d.TensorNetwork2DVector.compute_local_expectation`."
   ]
  },
  {
   "cell_type": "code",
   "execution_count": 17,
   "id": "58066992-5b3b-43ea-b046-172c78c776c8",
   "metadata": {},
   "outputs": [
    {
     "data": {
      "text/plain": [
       "0.0004870786802363588"
      ]
     },
     "execution_count": 17,
     "metadata": {},
     "output_type": "execute_result"
    }
   ],
   "source": [
    "# two spin operator\n",
    "H2 = qu.ham_heis(2)\n",
    "\n",
    "# coordinates to act with operator on\n",
    "coo_a = (2, 2)\n",
    "coo_b = (2, 3)\n",
    "\n",
    "# compute expectation\n",
    "peps.compute_local_expectation(\n",
    "    {(coo_a, coo_b): H2},\n",
    "    max_bond=64,\n",
    "    normalized=True,\n",
    ")"
   ]
  },
  {
   "cell_type": "markdown",
   "id": "2aba03f9-884c-4f37-976c-4fc2492b15c3",
   "metadata": {
    "raw_mimetype": "text/restructuredtext"
   },
   "source": [
    ":::{note}\n",
    "We have specified the boundary contraction option `max_bond`, and also\n",
    "the `normalized=True` option, which computes\n",
    "\n",
    "$$\n",
    "\\langle\\hat{O}\\rangle =\n",
    "\\frac{\n",
    "\\langle \\psi | \\hat{O} | \\psi \\rangle\n",
    "}{\n",
    "\\langle \\psi | \\psi \\rangle\n",
    "}\n",
    "$$\n",
    "\n",
    "which reuses the environments to 'locally' normalize the state rather than doing\n",
    "it in a separate step. By default, two layer boundary contraction is also used\n",
    "since this is more efficient (but this can be turned off).\n",
    ":::\n",
    "\n",
    "Often we want to compute many of these at once, e.g. when computing the energy\n",
    "of a Hamiltonian, without repeating many boundary boundary contractions:"
   ]
  },
  {
   "cell_type": "code",
   "execution_count": 18,
   "id": "e7b354ed-e5b9-4296-b33a-df103b82b5e2",
   "metadata": {},
   "outputs": [
    {
     "data": {
      "text/plain": [
       "0.26752530504966576"
      ]
     },
     "execution_count": 18,
     "metadata": {},
     "output_type": "execute_result"
    }
   ],
   "source": [
    "# compute the heisenberg interaction for every bond in the PEPS lattice\n",
    "terms = {\n",
    "    (coo_a, coo_b): H2\n",
    "    for coo_a, coo_b in peps.gen_bond_coos()\n",
    "}\n",
    "\n",
    "peps.compute_local_expectation(\n",
    "    terms,\n",
    "    max_bond=64,\n",
    "    normalized=True,\n",
    ")"
   ]
  },
  {
   "cell_type": "markdown",
   "id": "8555227f-4a83-4bb4-b130-472c791ebcd5",
   "metadata": {
    "raw_mimetype": "text/restructuredtext"
   },
   "source": [
    "This automatically calculates which 'plaquette' environments are required then\n",
    "computes them in at most one boundary contraction inwards from each direction.\n",
    "There are various options for manually controlling this, with the main driver\n",
    "function being\n",
    "{meth}`~quimb.tensor.tensor_2d.TensorNetwork2D.compute_plaquette_environments`."
   ]
  },
  {
   "cell_type": "markdown",
   "id": "705445fb-a7ee-42eb-a615-bbdb10b9c4bf",
   "metadata": {
    "raw_mimetype": "text/restructuredtext"
   },
   "source": [
    "## Specifying 2D Hamiltonians\n",
    "\n",
    "Such a dictionary of terms can also be generated by instantiating a\n",
    "{class}`~quimb.tensor.tensor_2d_tebd.LocalHam2D`, which additionally\n",
    "\n",
    "- sums two site and one site terms so there is at most one term per pair\n",
    "- can generate commuting term groupings for arbitrary range interactions\n",
    "- can plot the Hamiltonian for interactive usage with\n",
    "  {meth}`~quimb.tensor.tensor_2d_tebd.LocalHam2D.graph`\n",
    "\n",
    "This is the object that is required for both the\n",
    "{class}`~quimb.tensor.tensor_2d_tebd.SimpleUpdate` and\n",
    "{class}`~quimb.tensor.tensor_2d_tebd.FullUpdate`\n",
    "algorithms.\n",
    "\n",
    "Here we'll first make the translationally invariant Heisenberg Hamiltonian:"
   ]
  },
  {
   "cell_type": "code",
   "execution_count": 19,
   "id": "f1043da2-de40-4166-bff0-28d55d4428df",
   "metadata": {},
   "outputs": [
    {
     "data": {
      "image/svg+xml": [
       "<?xml version=\"1.0\" encoding=\"UTF-8\"?><!DOCTYPE svg  PUBLIC '-//W3C//DTD SVG 1.1//EN'  'http://www.w3.org/Graphics/SVG/1.1/DTD/svg11.dtd'><svg width=\"296.4pt\" height=\"215.42pt\" version=\"1.1\" viewBox=\"0 0 296.4 215.42\" xmlns=\"http://www.w3.org/2000/svg\" xmlns:xlink=\"http://www.w3.org/1999/xlink\"><defs><style type=\"text/css\">*{stroke-linejoin: round; stroke-linecap: butt}</style></defs><path d=\"m0 215.42h296.4v-215.42h-296.4v215.42z\" fill=\"none\"/><path d=\"m16.337 199.08h60.915\" clip-path=\"url(#0dce5b92deb)\" fill=\"none\" stroke=\"#56b4e9\" stroke-linecap=\"square\" stroke-width=\"1.8612\"/><path d=\"m138.17 199.08h60.915\" clip-path=\"url(#0dce5b92deb)\" fill=\"none\" stroke=\"#56b4e9\" stroke-linecap=\"square\" stroke-width=\"1.8612\"/><path d=\"m16.337 138.17h60.915\" clip-path=\"url(#0dce5b92deb)\" fill=\"none\" stroke=\"#56b4e9\" stroke-linecap=\"square\" stroke-width=\"1.8612\"/><path d=\"m138.17 138.17h60.915\" clip-path=\"url(#0dce5b92deb)\" fill=\"none\" stroke=\"#56b4e9\" stroke-linecap=\"square\" stroke-width=\"1.8612\"/><path d=\"m16.337 77.252h60.915\" clip-path=\"url(#0dce5b92deb)\" fill=\"none\" stroke=\"#56b4e9\" stroke-linecap=\"square\" stroke-width=\"1.8612\"/><path d=\"m138.17 77.252h60.915\" clip-path=\"url(#0dce5b92deb)\" fill=\"none\" stroke=\"#56b4e9\" stroke-linecap=\"square\" stroke-width=\"1.8612\"/><path d=\"m16.337 16.337h60.915\" clip-path=\"url(#0dce5b92deb)\" fill=\"none\" stroke=\"#56b4e9\" stroke-linecap=\"square\" stroke-width=\"1.8612\"/><path d=\"m138.17 16.337h60.915\" clip-path=\"url(#0dce5b92deb)\" fill=\"none\" stroke=\"#56b4e9\" stroke-linecap=\"square\" stroke-width=\"1.8612\"/><path d=\"m16.337 199.08v-60.915\" clip-path=\"url(#0dce5b92deb)\" fill=\"none\" stroke=\"#e69f00\" stroke-linecap=\"square\" stroke-width=\"1.8612\"/><path d=\"m77.252 199.08h60.915\" clip-path=\"url(#0dce5b92deb)\" fill=\"none\" stroke=\"#e69f00\" stroke-linecap=\"square\" stroke-width=\"1.8612\"/><path d=\"m199.08 199.08v-60.915\" clip-path=\"url(#0dce5b92deb)\" fill=\"none\" stroke=\"#e69f00\" stroke-linecap=\"square\" stroke-width=\"1.8612\"/><path d=\"m77.252 138.17h60.915\" clip-path=\"url(#0dce5b92deb)\" fill=\"none\" stroke=\"#e69f00\" stroke-linecap=\"square\" stroke-width=\"1.8612\"/><path d=\"m16.337 77.252v-60.915\" clip-path=\"url(#0dce5b92deb)\" fill=\"none\" stroke=\"#e69f00\" stroke-linecap=\"square\" stroke-width=\"1.8612\"/><path d=\"m77.252 77.252h60.915\" clip-path=\"url(#0dce5b92deb)\" fill=\"none\" stroke=\"#e69f00\" stroke-linecap=\"square\" stroke-width=\"1.8612\"/><path d=\"m199.08 77.252v-60.915\" clip-path=\"url(#0dce5b92deb)\" fill=\"none\" stroke=\"#e69f00\" stroke-linecap=\"square\" stroke-width=\"1.8612\"/><path d=\"m77.252 16.337h60.915\" clip-path=\"url(#0dce5b92deb)\" fill=\"none\" stroke=\"#e69f00\" stroke-linecap=\"square\" stroke-width=\"1.8612\"/><path d=\"m77.252 199.08v-60.915\" clip-path=\"url(#0dce5b92deb)\" fill=\"none\" stroke=\"#009e73\" stroke-linecap=\"square\" stroke-width=\"1.8612\"/><path d=\"m138.17 199.08v-60.915\" clip-path=\"url(#0dce5b92deb)\" fill=\"none\" stroke=\"#009e73\" stroke-linecap=\"square\" stroke-width=\"1.8612\"/><path d=\"m16.337 138.17v-60.915\" clip-path=\"url(#0dce5b92deb)\" fill=\"none\" stroke=\"#009e73\" stroke-linecap=\"square\" stroke-width=\"1.8612\"/><path d=\"m199.08 138.17v-60.915\" clip-path=\"url(#0dce5b92deb)\" fill=\"none\" stroke=\"#009e73\" stroke-linecap=\"square\" stroke-width=\"1.8612\"/><path d=\"m77.252 77.252v-60.915\" clip-path=\"url(#0dce5b92deb)\" fill=\"none\" stroke=\"#009e73\" stroke-linecap=\"square\" stroke-width=\"1.8612\"/><path d=\"m138.17 77.252v-60.915\" clip-path=\"url(#0dce5b92deb)\" fill=\"none\" stroke=\"#009e73\" stroke-linecap=\"square\" stroke-width=\"1.8612\"/><path d=\"m77.252 138.17v-60.915\" clip-path=\"url(#0dce5b92deb)\" fill=\"none\" stroke=\"#d55e00\" stroke-linecap=\"square\" stroke-width=\"1.8612\"/><path d=\"m138.17 138.17v-60.915\" clip-path=\"url(#0dce5b92deb)\" fill=\"none\" stroke=\"#d55e00\" stroke-linecap=\"square\" stroke-width=\"1.8612\"/><g transform=\"translate(40.703 199.08) scale(.08 -.08)\" fill=\"#56b4e9\"><defs><path id=\"DejaVuSans-30\" transform=\"scale(.015625)\" d=\"m2034 4250q-487 0-733-480-245-479-245-1442 0-959 245-1439 246-480 733-480 491 0 736 480 246 480 246 1439 0 963-246 1442-245 480-736 480zm0 500q785 0 1199-621 414-620 414-1801 0-1178-414-1799-414-620-1199-620-784 0-1198 620-414 621-414 1799 0 1181 414 1801 414 621 1198 621z\"/><path id=\"DejaVuSans-2e\" transform=\"scale(.015625)\" d=\"m684 794h660v-794h-660v794z\"/><path id=\"DejaVuSans-38\" transform=\"scale(.015625)\" d=\"m2034 2216q-450 0-708-241-257-241-257-662 0-422 257-663 258-241 708-241t709 242q260 243 260 662 0 421-258 662-257 241-711 241zm-631 268q-406 100-633 378-226 279-226 679 0 559 398 884 399 325 1092 325 697 0 1094-325t397-884q0-400-227-679-226-278-629-378 456-106 710-416 255-309 255-755 0-679-414-1042-414-362-1186-362-771 0-1186 362-414 363-414 1042 0 446 256 755 257 310 713 416zm-231 997q0-362 226-565 227-203 636-203 407 0 636 203 230 203 230 565 0 363-230 566-229 203-636 203-409 0-636-203-226-203-226-566z\"/><path id=\"DejaVuSans-36\" transform=\"scale(.015625)\" d=\"m2113 2584q-425 0-674-291-248-290-248-796 0-503 248-796 249-292 674-292t673 292q248 293 248 796 0 506-248 796-248 291-673 291zm1253 1979v-575q-238 112-480 171-242 60-480 60-625 0-955-422-329-422-376-1275 184 272 462 417 279 145 613 145 703 0 1111-427 408-426 408-1160 0-719-425-1154-425-434-1131-434-810 0-1238 620-428 621-428 1799 0 1106 525 1764t1409 658q238 0 480-47t505-140z\"/></defs><use xlink:href=\"#DejaVuSans-30\"/><use x=\"63.623047\" xlink:href=\"#DejaVuSans-2e\"/><use x=\"95.410156\" xlink:href=\"#DejaVuSans-38\"/><use x=\"159.033203\" xlink:href=\"#DejaVuSans-36\"/><use x=\"222.65625\" xlink:href=\"#DejaVuSans-36\"/></g><g transform=\"translate(162.53 199.08) scale(.08 -.08)\" fill=\"#56b4e9\"><use xlink:href=\"#DejaVuSans-30\"/><use x=\"63.623047\" xlink:href=\"#DejaVuSans-2e\"/><use x=\"95.410156\" xlink:href=\"#DejaVuSans-38\"/><use x=\"159.033203\" xlink:href=\"#DejaVuSans-36\"/><use x=\"222.65625\" xlink:href=\"#DejaVuSans-36\"/></g><g transform=\"translate(40.703 138.17) scale(.08 -.08)\" fill=\"#56b4e9\"><use xlink:href=\"#DejaVuSans-30\"/><use x=\"63.623047\" xlink:href=\"#DejaVuSans-2e\"/><use x=\"95.410156\" xlink:href=\"#DejaVuSans-38\"/><use x=\"159.033203\" xlink:href=\"#DejaVuSans-36\"/><use x=\"222.65625\" xlink:href=\"#DejaVuSans-36\"/></g><g transform=\"translate(162.53 138.17) scale(.08 -.08)\" fill=\"#56b4e9\"><use xlink:href=\"#DejaVuSans-30\"/><use x=\"63.623047\" xlink:href=\"#DejaVuSans-2e\"/><use x=\"95.410156\" xlink:href=\"#DejaVuSans-38\"/><use x=\"159.033203\" xlink:href=\"#DejaVuSans-36\"/><use x=\"222.65625\" xlink:href=\"#DejaVuSans-36\"/></g><g transform=\"translate(40.703 77.252) scale(.08 -.08)\" fill=\"#56b4e9\"><use xlink:href=\"#DejaVuSans-30\"/><use x=\"63.623047\" xlink:href=\"#DejaVuSans-2e\"/><use x=\"95.410156\" xlink:href=\"#DejaVuSans-38\"/><use x=\"159.033203\" xlink:href=\"#DejaVuSans-36\"/><use x=\"222.65625\" xlink:href=\"#DejaVuSans-36\"/></g><g transform=\"translate(162.53 77.252) scale(.08 -.08)\" fill=\"#56b4e9\"><use xlink:href=\"#DejaVuSans-30\"/><use x=\"63.623047\" xlink:href=\"#DejaVuSans-2e\"/><use x=\"95.410156\" xlink:href=\"#DejaVuSans-38\"/><use x=\"159.033203\" xlink:href=\"#DejaVuSans-36\"/><use x=\"222.65625\" xlink:href=\"#DejaVuSans-36\"/></g><g transform=\"translate(40.703 16.337) scale(.08 -.08)\" fill=\"#56b4e9\"><use xlink:href=\"#DejaVuSans-30\"/><use x=\"63.623047\" xlink:href=\"#DejaVuSans-2e\"/><use x=\"95.410156\" xlink:href=\"#DejaVuSans-38\"/><use x=\"159.033203\" xlink:href=\"#DejaVuSans-36\"/><use x=\"222.65625\" xlink:href=\"#DejaVuSans-36\"/></g><g transform=\"translate(162.53 16.337) scale(.08 -.08)\" fill=\"#56b4e9\"><use xlink:href=\"#DejaVuSans-30\"/><use x=\"63.623047\" xlink:href=\"#DejaVuSans-2e\"/><use x=\"95.410156\" xlink:href=\"#DejaVuSans-38\"/><use x=\"159.033203\" xlink:href=\"#DejaVuSans-36\"/><use x=\"222.65625\" xlink:href=\"#DejaVuSans-36\"/></g><g transform=\"translate(16.337 162.53) scale(.08 -.08)\" fill=\"#e69f00\"><use xlink:href=\"#DejaVuSans-30\"/><use x=\"63.623047\" xlink:href=\"#DejaVuSans-2e\"/><use x=\"95.410156\" xlink:href=\"#DejaVuSans-38\"/><use x=\"159.033203\" xlink:href=\"#DejaVuSans-36\"/><use x=\"222.65625\" xlink:href=\"#DejaVuSans-36\"/></g><g transform=\"translate(101.62 199.08) scale(.08 -.08)\" fill=\"#e69f00\"><use xlink:href=\"#DejaVuSans-30\"/><use x=\"63.623047\" xlink:href=\"#DejaVuSans-2e\"/><use x=\"95.410156\" xlink:href=\"#DejaVuSans-38\"/><use x=\"159.033203\" xlink:href=\"#DejaVuSans-36\"/><use x=\"222.65625\" xlink:href=\"#DejaVuSans-36\"/></g><g transform=\"translate(199.08 162.53) scale(.08 -.08)\" fill=\"#e69f00\"><use xlink:href=\"#DejaVuSans-30\"/><use x=\"63.623047\" xlink:href=\"#DejaVuSans-2e\"/><use x=\"95.410156\" xlink:href=\"#DejaVuSans-38\"/><use x=\"159.033203\" xlink:href=\"#DejaVuSans-36\"/><use x=\"222.65625\" xlink:href=\"#DejaVuSans-36\"/></g><g transform=\"translate(101.62 138.17) scale(.08 -.08)\" fill=\"#e69f00\"><use xlink:href=\"#DejaVuSans-30\"/><use x=\"63.623047\" xlink:href=\"#DejaVuSans-2e\"/><use x=\"95.410156\" xlink:href=\"#DejaVuSans-38\"/><use x=\"159.033203\" xlink:href=\"#DejaVuSans-36\"/><use x=\"222.65625\" xlink:href=\"#DejaVuSans-36\"/></g><g transform=\"translate(16.337 40.703) scale(.08 -.08)\" fill=\"#e69f00\"><use xlink:href=\"#DejaVuSans-30\"/><use x=\"63.623047\" xlink:href=\"#DejaVuSans-2e\"/><use x=\"95.410156\" xlink:href=\"#DejaVuSans-38\"/><use x=\"159.033203\" xlink:href=\"#DejaVuSans-36\"/><use x=\"222.65625\" xlink:href=\"#DejaVuSans-36\"/></g><g transform=\"translate(101.62 77.252) scale(.08 -.08)\" fill=\"#e69f00\"><use xlink:href=\"#DejaVuSans-30\"/><use x=\"63.623047\" xlink:href=\"#DejaVuSans-2e\"/><use x=\"95.410156\" xlink:href=\"#DejaVuSans-38\"/><use x=\"159.033203\" xlink:href=\"#DejaVuSans-36\"/><use x=\"222.65625\" xlink:href=\"#DejaVuSans-36\"/></g><g transform=\"translate(199.08 40.703) scale(.08 -.08)\" fill=\"#e69f00\"><use xlink:href=\"#DejaVuSans-30\"/><use x=\"63.623047\" xlink:href=\"#DejaVuSans-2e\"/><use x=\"95.410156\" xlink:href=\"#DejaVuSans-38\"/><use x=\"159.033203\" xlink:href=\"#DejaVuSans-36\"/><use x=\"222.65625\" xlink:href=\"#DejaVuSans-36\"/></g><g transform=\"translate(101.62 16.337) scale(.08 -.08)\" fill=\"#e69f00\"><use xlink:href=\"#DejaVuSans-30\"/><use x=\"63.623047\" xlink:href=\"#DejaVuSans-2e\"/><use x=\"95.410156\" xlink:href=\"#DejaVuSans-38\"/><use x=\"159.033203\" xlink:href=\"#DejaVuSans-36\"/><use x=\"222.65625\" xlink:href=\"#DejaVuSans-36\"/></g><g transform=\"translate(77.252 162.53) scale(.08 -.08)\" fill=\"#009e73\"><use xlink:href=\"#DejaVuSans-30\"/><use x=\"63.623047\" xlink:href=\"#DejaVuSans-2e\"/><use x=\"95.410156\" xlink:href=\"#DejaVuSans-38\"/><use x=\"159.033203\" xlink:href=\"#DejaVuSans-36\"/><use x=\"222.65625\" xlink:href=\"#DejaVuSans-36\"/></g><g transform=\"translate(138.17 162.53) scale(.08 -.08)\" fill=\"#009e73\"><use xlink:href=\"#DejaVuSans-30\"/><use x=\"63.623047\" xlink:href=\"#DejaVuSans-2e\"/><use x=\"95.410156\" xlink:href=\"#DejaVuSans-38\"/><use x=\"159.033203\" xlink:href=\"#DejaVuSans-36\"/><use x=\"222.65625\" xlink:href=\"#DejaVuSans-36\"/></g><g transform=\"translate(16.337 101.62) scale(.08 -.08)\" fill=\"#009e73\"><use xlink:href=\"#DejaVuSans-30\"/><use x=\"63.623047\" xlink:href=\"#DejaVuSans-2e\"/><use x=\"95.410156\" xlink:href=\"#DejaVuSans-38\"/><use x=\"159.033203\" xlink:href=\"#DejaVuSans-36\"/><use x=\"222.65625\" xlink:href=\"#DejaVuSans-36\"/></g><g transform=\"translate(199.08 101.62) scale(.08 -.08)\" fill=\"#009e73\"><use xlink:href=\"#DejaVuSans-30\"/><use x=\"63.623047\" xlink:href=\"#DejaVuSans-2e\"/><use x=\"95.410156\" xlink:href=\"#DejaVuSans-38\"/><use x=\"159.033203\" xlink:href=\"#DejaVuSans-36\"/><use x=\"222.65625\" xlink:href=\"#DejaVuSans-36\"/></g><g transform=\"translate(77.252 40.703) scale(.08 -.08)\" fill=\"#009e73\"><use xlink:href=\"#DejaVuSans-30\"/><use x=\"63.623047\" xlink:href=\"#DejaVuSans-2e\"/><use x=\"95.410156\" xlink:href=\"#DejaVuSans-38\"/><use x=\"159.033203\" xlink:href=\"#DejaVuSans-36\"/><use x=\"222.65625\" xlink:href=\"#DejaVuSans-36\"/></g><g transform=\"translate(138.17 40.703) scale(.08 -.08)\" fill=\"#009e73\"><use xlink:href=\"#DejaVuSans-30\"/><use x=\"63.623047\" xlink:href=\"#DejaVuSans-2e\"/><use x=\"95.410156\" xlink:href=\"#DejaVuSans-38\"/><use x=\"159.033203\" xlink:href=\"#DejaVuSans-36\"/><use x=\"222.65625\" xlink:href=\"#DejaVuSans-36\"/></g><g transform=\"translate(77.252 101.62) scale(.08 -.08)\" fill=\"#d55e00\"><use xlink:href=\"#DejaVuSans-30\"/><use x=\"63.623047\" xlink:href=\"#DejaVuSans-2e\"/><use x=\"95.410156\" xlink:href=\"#DejaVuSans-38\"/><use x=\"159.033203\" xlink:href=\"#DejaVuSans-36\"/><use x=\"222.65625\" xlink:href=\"#DejaVuSans-36\"/></g><g transform=\"translate(138.17 101.62) scale(.08 -.08)\" fill=\"#d55e00\"><use xlink:href=\"#DejaVuSans-30\"/><use x=\"63.623047\" xlink:href=\"#DejaVuSans-2e\"/><use x=\"95.410156\" xlink:href=\"#DejaVuSans-38\"/><use x=\"159.033203\" xlink:href=\"#DejaVuSans-36\"/><use x=\"222.65625\" xlink:href=\"#DejaVuSans-36\"/></g><defs><path id=\"c8578720725\" d=\"m0 5c1.326 0 2.5979-0.52683 3.5355-1.4645 0.93763-0.93764 1.4645-2.2095 1.4645-3.5355s-0.52683-2.5979-1.4645-3.5355c-0.93764-0.93763-2.2095-1.4645-3.5355-1.4645s-2.5979 0.52683-3.5355 1.4645c-0.93763 0.93764-1.4645 2.2095-1.4645 3.5355s0.52683 2.5979 1.4645 3.5355c0.93764 0.93763 2.2095 1.4645 3.5355 1.4645z\" stroke=\"#56b4e9\"/></defs><use x=\"227.219832\" y=\"84.952104\" fill=\"#56b4e9\" stroke=\"#56b4e9\" xlink:href=\"#c8578720725\"/><g transform=\"translate(245.22 88.452) scale(.1 -.1)\" fill=\"#808080\"><defs><path id=\"DejaVuSans-47\" transform=\"scale(.015625)\" d=\"m3809 666v1253h-1031v519h1656v-2004q-365-259-806-392-440-133-940-133-1094 0-1712 639-617 640-617 1780 0 1144 617 1783 618 639 1712 639 456 0 867-113 411-112 758-331v-672q-350 297-744 447t-828 150q-857 0-1287-478-429-478-429-1425 0-944 429-1422 430-478 1287-478 334 0 596 58 263 58 472 180z\"/><path id=\"DejaVuSans-72\" transform=\"scale(.015625)\" d=\"m2631 2963q-97 56-211 82-114 27-251 27-488 0-749-317t-261-911v-1844h-578v3500h578v-544q182 319 472 473 291 155 707 155 59 0 131-8 72-7 159-23l3-590z\"/><path id=\"DejaVuSans-6f\" transform=\"scale(.015625)\" d=\"m1959 3097q-462 0-731-361t-269-989 267-989q268-361 733-361 460 0 728 362 269 363 269 988 0 622-269 986-268 364-728 364zm0 487q750 0 1178-488 429-487 429-1349 0-859-429-1349-428-489-1178-489-753 0-1180 489-426 490-426 1349 0 862 426 1349 427 488 1180 488z\"/><path id=\"DejaVuSans-75\" transform=\"scale(.015625)\" d=\"m544 1381v2119h575v-2097q0-497 193-746 194-248 582-248 465 0 735 297 271 297 271 810v1984h575v-3500h-575v538q-209-319-486-474-276-155-642-155-603 0-916 375-312 375-312 1097zm1447 2203z\"/><path id=\"DejaVuSans-70\" transform=\"scale(.015625)\" d=\"m1159 525v-1856h-578v4831h578v-531q182 312 458 463 277 152 661 152 638 0 1036-506 399-506 399-1331t-399-1332q-398-506-1036-506-384 0-661 152-276 152-458 464zm1957 1222q0 634-261 995t-717 361q-457 0-718-361t-261-995 261-995 718-361q456 0 717 361t261 995z\"/><path id=\"DejaVuSans-31\" transform=\"scale(.015625)\" d=\"m794 531h1031v3560l-1122-225v575l1116 225h631v-4135h1031v-531h-2687v531z\"/></defs><use xlink:href=\"#DejaVuSans-47\"/><use x=\"77.490234\" xlink:href=\"#DejaVuSans-72\"/><use x=\"116.353516\" xlink:href=\"#DejaVuSans-6f\"/><use x=\"177.535156\" xlink:href=\"#DejaVuSans-75\"/><use x=\"240.914062\" xlink:href=\"#DejaVuSans-70\"/><use x=\"304.390625\" xlink:href=\"#DejaVuSans-20\"/><use x=\"336.177734\" xlink:href=\"#DejaVuSans-31\"/></g><defs><path id=\"0c60ce7feb9\" d=\"m0 5c1.326 0 2.5979-0.52683 3.5355-1.4645 0.93763-0.93764 1.4645-2.2095 1.4645-3.5355s-0.52683-2.5979-1.4645-3.5355c-0.93764-0.93763-2.2095-1.4645-3.5355-1.4645s-2.5979 0.52683-3.5355 1.4645c-0.93763 0.93764-1.4645 2.2095-1.4645 3.5355s0.52683 2.5979 1.4645 3.5355c0.93764 0.93763 2.2095 1.4645 3.5355 1.4645z\" stroke=\"#e69f00\"/></defs><use x=\"227.219832\" y=\"99.630229\" fill=\"#e69f00\" stroke=\"#e69f00\" xlink:href=\"#0c60ce7feb9\"/><g transform=\"translate(245.22 103.13) scale(.1 -.1)\" fill=\"#808080\"><defs><path id=\"DejaVuSans-32\" transform=\"scale(.015625)\" d=\"m1228 531h2203v-531h-2962v531q359 372 979 998 621 627 780 809 303 340 423 576 121 236 121 464 0 372-261 606-261 235-680 235-297 0-627-103-329-103-704-313v638q381 153 712 231 332 78 607 78 725 0 1156-363 431-362 431-968 0-288-108-546-107-257-392-607-78-91-497-524-418-433-1181-1211z\"/></defs><use xlink:href=\"#DejaVuSans-47\"/><use x=\"77.490234\" xlink:href=\"#DejaVuSans-72\"/><use x=\"116.353516\" xlink:href=\"#DejaVuSans-6f\"/><use x=\"177.535156\" xlink:href=\"#DejaVuSans-75\"/><use x=\"240.914062\" xlink:href=\"#DejaVuSans-70\"/><use x=\"304.390625\" xlink:href=\"#DejaVuSans-20\"/><use x=\"336.177734\" xlink:href=\"#DejaVuSans-32\"/></g><defs><path id=\"fba79d48196\" d=\"m0 5c1.326 0 2.5979-0.52683 3.5355-1.4645 0.93763-0.93764 1.4645-2.2095 1.4645-3.5355s-0.52683-2.5979-1.4645-3.5355c-0.93764-0.93763-2.2095-1.4645-3.5355-1.4645s-2.5979 0.52683-3.5355 1.4645c-0.93763 0.93764-1.4645 2.2095-1.4645 3.5355s0.52683 2.5979 1.4645 3.5355c0.93764 0.93763 2.2095 1.4645 3.5355 1.4645z\" stroke=\"#009e73\"/></defs><use x=\"227.219832\" y=\"114.308354\" fill=\"#009e73\" stroke=\"#009e73\" xlink:href=\"#fba79d48196\"/><g transform=\"translate(245.22 117.81) scale(.1 -.1)\" fill=\"#808080\"><defs><path id=\"DejaVuSans-33\" transform=\"scale(.015625)\" d=\"m2597 2516q453-97 707-404 255-306 255-756 0-690-475-1069-475-378-1350-378-293 0-604 58t-642 174v609q262-153 574-231 313-78 654-78 593 0 904 234t311 681q0 413-289 645-289 233-804 233h-544v519h569q465 0 712 186t247 536q0 359-255 551-254 193-729 193-260 0-557-57-297-56-653-174v562q360 100 674 150t592 50q719 0 1137-327 419-326 419-882 0-388-222-655t-631-370z\"/></defs><use xlink:href=\"#DejaVuSans-47\"/><use x=\"77.490234\" xlink:href=\"#DejaVuSans-72\"/><use x=\"116.353516\" xlink:href=\"#DejaVuSans-6f\"/><use x=\"177.535156\" xlink:href=\"#DejaVuSans-75\"/><use x=\"240.914062\" xlink:href=\"#DejaVuSans-70\"/><use x=\"304.390625\" xlink:href=\"#DejaVuSans-20\"/><use x=\"336.177734\" xlink:href=\"#DejaVuSans-33\"/></g><defs><path id=\"bc64cdba277\" d=\"m0 5c1.326 0 2.5979-0.52683 3.5355-1.4645 0.93763-0.93764 1.4645-2.2095 1.4645-3.5355s-0.52683-2.5979-1.4645-3.5355c-0.93764-0.93763-2.2095-1.4645-3.5355-1.4645s-2.5979 0.52683-3.5355 1.4645c-0.93763 0.93764-1.4645 2.2095-1.4645 3.5355s0.52683 2.5979 1.4645 3.5355c0.93764 0.93763 2.2095 1.4645 3.5355 1.4645z\" stroke=\"#d55e00\"/></defs><use x=\"227.219832\" y=\"128.986479\" fill=\"#d55e00\" stroke=\"#d55e00\" xlink:href=\"#bc64cdba277\"/><g transform=\"translate(245.22 132.49) scale(.1 -.1)\" fill=\"#808080\"><defs><path id=\"DejaVuSans-34\" transform=\"scale(.015625)\" d=\"m2419 4116-1594-2491h1594v2491zm-166 550h794v-3041h666v-525h-666v-1100h-628v1100h-2106v609l1940 2957z\"/></defs><use xlink:href=\"#DejaVuSans-47\"/><use x=\"77.490234\" xlink:href=\"#DejaVuSans-72\"/><use x=\"116.353516\" xlink:href=\"#DejaVuSans-6f\"/><use x=\"177.535156\" xlink:href=\"#DejaVuSans-75\"/><use x=\"240.914062\" xlink:href=\"#DejaVuSans-70\"/><use x=\"304.390625\" xlink:href=\"#DejaVuSans-20\"/><use x=\"336.177734\" xlink:href=\"#DejaVuSans-34\"/></g><defs><clipPath id=\"0dce5b92deb\"><rect x=\"7.2\" y=\"7.2\" width=\"201.02\" height=\"201.02\"/></clipPath></defs></svg>"
      ],
      "text/plain": [
       "<Figure size 400x400 with 1 Axes>"
      ]
     },
     "metadata": {
      "needs_background": "light"
     },
     "output_type": "display_data"
    },
    {
     "data": {
      "text/plain": [
       "(<Figure size 400x400 with 1 Axes>, <Axes: >)"
      ]
     },
     "execution_count": 19,
     "metadata": {},
     "output_type": "execute_result"
    }
   ],
   "source": [
    "Lx = 4\n",
    "Ly = 4\n",
    "\n",
    "ham = qtn.LocalHam2D(Lx, Ly, H2=H2)\n",
    "ham.draw()"
   ]
  },
  {
   "cell_type": "markdown",
   "id": "edac27f3-42eb-498b-b034-ceb8267ff595",
   "metadata": {},
   "source": [
    "The ``H2`` kwarg describes two site interactions. If an operator is given directly (as here)\n",
    "it is used as a default term for all nearest neighbor interactions, as can be seen in the\n",
    "visualization above.\n",
    "We can also mix default single and two body terms and those for specific sites:"
   ]
  },
  {
   "cell_type": "code",
   "execution_count": 20,
   "id": "b94625dc-a6f3-4bb5-8c1d-604344577cb0",
   "metadata": {},
   "outputs": [
    {
     "data": {
      "image/svg+xml": [
       "<?xml version=\"1.0\" encoding=\"UTF-8\"?><!DOCTYPE svg  PUBLIC '-//W3C//DTD SVG 1.1//EN'  'http://www.w3.org/Graphics/SVG/1.1/DTD/svg11.dtd'><svg width=\"296.4pt\" height=\"215.42pt\" version=\"1.1\" viewBox=\"0 0 296.4 215.42\" xmlns=\"http://www.w3.org/2000/svg\" xmlns:xlink=\"http://www.w3.org/1999/xlink\"><defs><style type=\"text/css\">*{stroke-linejoin: round; stroke-linecap: butt}</style></defs><path d=\"m0 215.42h296.4v-215.42h-296.4v215.42z\" fill=\"none\"/><path d=\"m16.337 199.08h60.915\" clip-path=\"url(#9548dd3752d)\" fill=\"none\" stroke=\"#0072b2\" stroke-linecap=\"square\" stroke-width=\"1.941\"/><path d=\"m138.17 199.08h60.915\" clip-path=\"url(#9548dd3752d)\" fill=\"none\" stroke=\"#0072b2\" stroke-linecap=\"square\" stroke-width=\"2.0533\"/><path d=\"m16.337 138.17h60.915\" clip-path=\"url(#9548dd3752d)\" fill=\"none\" stroke=\"#0072b2\" stroke-linecap=\"square\" stroke-width=\"1.9096\"/><path d=\"m138.17 138.17h60.915\" clip-path=\"url(#9548dd3752d)\" fill=\"none\" stroke=\"#0072b2\" stroke-linecap=\"square\" stroke-width=\"1.8643\"/><path d=\"m16.337 77.252h60.915\" clip-path=\"url(#9548dd3752d)\" fill=\"none\" stroke=\"#0072b2\" stroke-linecap=\"square\" stroke-width=\"1.9109\"/><path d=\"m138.17 77.252h60.915\" clip-path=\"url(#9548dd3752d)\" fill=\"none\" stroke=\"#0072b2\" stroke-linecap=\"square\" stroke-width=\"1.9072\"/><path d=\"m16.337 16.337h60.915\" clip-path=\"url(#9548dd3752d)\" fill=\"none\" stroke=\"#0072b2\" stroke-linecap=\"square\" stroke-width=\"1.9297\"/><path d=\"m138.17 16.337h60.915\" clip-path=\"url(#9548dd3752d)\" fill=\"none\" stroke=\"#0072b2\" stroke-linecap=\"square\" stroke-width=\"1.8666\"/><path d=\"m16.337 199.08v-60.915\" clip-path=\"url(#9548dd3752d)\" fill=\"none\" stroke=\"#4cabe1\" stroke-linecap=\"square\" stroke-width=\"1.8934\"/><path d=\"m77.252 199.08h60.915\" clip-path=\"url(#9548dd3752d)\" fill=\"none\" stroke=\"#4cabe1\" stroke-linecap=\"square\" stroke-width=\"1.9338\"/><path d=\"m199.08 199.08-60.915-60.915\" clip-path=\"url(#9548dd3752d)\" fill=\"none\" stroke=\"#4cabe1\" stroke-linecap=\"square\" stroke-width=\"1.6903\"/><path d=\"m77.252 138.17-60.915-60.915\" clip-path=\"url(#9548dd3752d)\" fill=\"none\" stroke=\"#4cabe1\" stroke-linecap=\"square\" stroke-width=\"1.5112\"/><path d=\"m199.08 138.17-60.915-60.915\" clip-path=\"url(#9548dd3752d)\" fill=\"none\" stroke=\"#4cabe1\" stroke-linecap=\"square\" stroke-width=\"1.3842\"/><path d=\"m77.252 77.252-60.915-60.915\" clip-path=\"url(#9548dd3752d)\" fill=\"none\" stroke=\"#4cabe1\" stroke-linecap=\"square\" stroke-width=\"1.3691\"/><path d=\"m199.08 77.252-60.915-60.915\" clip-path=\"url(#9548dd3752d)\" fill=\"none\" stroke=\"#4cabe1\" stroke-linecap=\"square\" stroke-width=\"1.3906\"/><path d=\"m16.337 199.08 60.915-60.915\" clip-path=\"url(#9548dd3752d)\" fill=\"none\" stroke=\"#24a496\" stroke-linecap=\"square\" stroke-width=\"1.5034\"/><path d=\"m77.252 199.08-60.915-60.915\" clip-path=\"url(#9548dd3752d)\" fill=\"none\" stroke=\"#24a496\" stroke-linecap=\"square\" stroke-width=\"1.4469\"/><path d=\"m138.17 199.08v-60.915\" clip-path=\"url(#9548dd3752d)\" fill=\"none\" stroke=\"#24a496\" stroke-linecap=\"square\" stroke-width=\"1.8852\"/><path d=\"m199.08 199.08v-60.915\" clip-path=\"url(#9548dd3752d)\" fill=\"none\" stroke=\"#24a496\" stroke-linecap=\"square\" stroke-width=\"2.0372\"/><path d=\"m16.337 77.252v-60.915\" clip-path=\"url(#9548dd3752d)\" fill=\"none\" stroke=\"#24a496\" stroke-linecap=\"square\" stroke-width=\"1.9007\"/><path d=\"m77.252 77.252h60.915\" clip-path=\"url(#9548dd3752d)\" fill=\"none\" stroke=\"#24a496\" stroke-linecap=\"square\" stroke-width=\"1.8988\"/><path d=\"m199.08 77.252v-60.915\" clip-path=\"url(#9548dd3752d)\" fill=\"none\" stroke=\"#24a496\" stroke-linecap=\"square\" stroke-width=\"1.8864\"/><path d=\"m77.252 16.337h60.915\" clip-path=\"url(#9548dd3752d)\" fill=\"none\" stroke=\"#24a496\" stroke-linecap=\"square\" stroke-width=\"1.9295\"/><path d=\"m77.252 199.08v-60.915\" clip-path=\"url(#9548dd3752d)\" fill=\"none\" stroke=\"#90c667\" stroke-linecap=\"square\" stroke-width=\"1.9561\"/><path d=\"m138.17 199.08 60.915-60.915\" clip-path=\"url(#9548dd3752d)\" fill=\"none\" stroke=\"#90c667\" stroke-linecap=\"square\" stroke-width=\"1.3862\"/><path d=\"m16.337 138.17v-60.915\" clip-path=\"url(#9548dd3752d)\" fill=\"none\" stroke=\"#90c667\" stroke-linecap=\"square\" stroke-width=\"1.8973\"/><path d=\"m138.17 138.17-60.915-60.915\" clip-path=\"url(#9548dd3752d)\" fill=\"none\" stroke=\"#90c667\" stroke-linecap=\"square\" stroke-width=\"1.3587\"/><path d=\"m138.17 77.252-60.915-60.915\" clip-path=\"url(#9548dd3752d)\" fill=\"none\" stroke=\"#90c667\" stroke-linecap=\"square\" stroke-width=\"1.5209\"/><path d=\"m77.252 199.08 60.915-60.915\" clip-path=\"url(#9548dd3752d)\" fill=\"none\" stroke=\"#eccc46\" stroke-linecap=\"square\" stroke-width=\"1.4461\"/><path d=\"m138.17 199.08-60.915-60.915\" clip-path=\"url(#9548dd3752d)\" fill=\"none\" stroke=\"#eccc46\" stroke-linecap=\"square\" stroke-width=\"1.4878\"/><path d=\"m16.337 138.17 60.915-60.915\" clip-path=\"url(#9548dd3752d)\" fill=\"none\" stroke=\"#eccc46\" stroke-linecap=\"square\" stroke-width=\"1.3597\"/><path d=\"m199.08 138.17v-60.915\" clip-path=\"url(#9548dd3752d)\" fill=\"none\" stroke=\"#eccc46\" stroke-linecap=\"square\" stroke-width=\"1.8879\"/><path d=\"m16.337 77.252 60.915-60.915\" clip-path=\"url(#9548dd3752d)\" fill=\"none\" stroke=\"#eccc46\" stroke-linecap=\"square\" stroke-width=\"1.5443\"/><path d=\"m138.17 77.252v-60.915\" clip-path=\"url(#9548dd3752d)\" fill=\"none\" stroke=\"#eccc46\" stroke-linecap=\"square\" stroke-width=\"1.8881\"/><path d=\"m77.252 138.17h60.915\" clip-path=\"url(#9548dd3752d)\" fill=\"none\" stroke=\"#e1981f\" stroke-linecap=\"square\" stroke-width=\"1.9093\"/><path d=\"m77.252 77.252v-60.915\" clip-path=\"url(#9548dd3752d)\" fill=\"none\" stroke=\"#e1981f\" stroke-linecap=\"square\" stroke-width=\"1.9395\"/><path d=\"m138.17 77.252 60.915-60.915\" clip-path=\"url(#9548dd3752d)\" fill=\"none\" stroke=\"#e1981f\" stroke-linecap=\"square\" stroke-width=\"1.3804\"/><path d=\"m77.252 138.17v-60.915\" clip-path=\"url(#9548dd3752d)\" fill=\"none\" stroke=\"#d46b29\" stroke-linecap=\"square\" stroke-width=\"1.923\"/><path d=\"m138.17 138.17v-60.915\" clip-path=\"url(#9548dd3752d)\" fill=\"none\" stroke=\"#d46b29\" stroke-linecap=\"square\" stroke-width=\"1.8844\"/><path d=\"m77.252 138.17 60.915-60.915\" clip-path=\"url(#9548dd3752d)\" fill=\"none\" stroke=\"#cc7ba8\" stroke-linecap=\"square\" stroke-width=\"1.4861\"/><path d=\"m138.17 138.17 60.915-60.915\" clip-path=\"url(#9548dd3752d)\" fill=\"none\" stroke=\"#cc7ba8\" stroke-linecap=\"square\" stroke-width=\"1.3814\"/><path d=\"m77.252 77.252 60.915-60.915\" clip-path=\"url(#9548dd3752d)\" fill=\"none\" stroke=\"#cc7ba8\" stroke-linecap=\"square\" stroke-width=\"1.3684\"/><g transform=\"translate(40.703 199.08) scale(.08 -.08)\" fill=\"#0072b2\"><defs><path id=\"DejaVuSans-30\" transform=\"scale(.015625)\" d=\"m2034 4250q-487 0-733-480-245-479-245-1442 0-959 245-1439 246-480 733-480 491 0 736 480 246 480 246 1439 0 963-246 1442-245 480-736 480zm0 500q785 0 1199-621 414-620 414-1801 0-1178-414-1799-414-620-1199-620-784 0-1198 620-414 621-414 1799 0 1181 414 1801 414 621 1198 621z\"/><path id=\"DejaVuSans-2e\" transform=\"scale(.015625)\" d=\"m684 794h660v-794h-660v794z\"/><path id=\"DejaVuSans-39\" transform=\"scale(.015625)\" d=\"m703 97v575q238-113 481-172 244-59 479-59 625 0 954 420 330 420 377 1277-181-269-460-413-278-144-615-144-700 0-1108 423-408 424-408 1159 0 718 425 1152 425 435 1131 435 810 0 1236-621 427-620 427-1801 0-1103-524-1761-523-658-1407-658-238 0-482 47-243 47-506 141zm1256 1978q425 0 673 290 249 291 249 798 0 503-249 795-248 292-673 292t-673-292-248-795q0-507 248-798 248-290 673-290z\"/><path id=\"DejaVuSans-34\" transform=\"scale(.015625)\" d=\"m2419 4116-1594-2491h1594v2491zm-166 550h794v-3041h666v-525h-666v-1100h-628v1100h-2106v609l1940 2957z\"/><path id=\"DejaVuSans-32\" transform=\"scale(.015625)\" d=\"m1228 531h2203v-531h-2962v531q359 372 979 998 621 627 780 809 303 340 423 576 121 236 121 464 0 372-261 606-261 235-680 235-297 0-627-103-329-103-704-313v638q381 153 712 231 332 78 607 78 725 0 1156-363 431-362 431-968 0-288-108-546-107-257-392-607-78-91-497-524-418-433-1181-1211z\"/></defs><use xlink:href=\"#DejaVuSans-30\"/><use x=\"63.623047\" xlink:href=\"#DejaVuSans-2e\"/><use x=\"95.410156\" xlink:href=\"#DejaVuSans-39\"/><use x=\"159.033203\" xlink:href=\"#DejaVuSans-34\"/><use x=\"222.65625\" xlink:href=\"#DejaVuSans-32\"/></g><g transform=\"translate(162.53 199.08) scale(.08 -.08)\" fill=\"#0072b2\"><defs><path id=\"DejaVuSans-31\" transform=\"scale(.015625)\" d=\"m794 531h1031v3560l-1122-225v575l1116 225h631v-4135h1031v-531h-2687v531z\"/><path id=\"DejaVuSans-35\" transform=\"scale(.015625)\" d=\"m691 4666h2478v-532h-1900v-1143q137 47 274 70 138 23 276 23 781 0 1237-428 457-428 457-1159 0-753-469-1171-469-417-1322-417-294 0-599 50-304 50-629 150v635q281-153 581-228t634-75q541 0 856 284 316 284 316 772 0 487-316 771-315 285-856 285-253 0-505-56-251-56-513-175v2344z\"/></defs><use xlink:href=\"#DejaVuSans-31\"/><use x=\"63.623047\" xlink:href=\"#DejaVuSans-2e\"/><use x=\"95.410156\" xlink:href=\"#DejaVuSans-30\"/><use x=\"159.033203\" xlink:href=\"#DejaVuSans-35\"/><use x=\"222.65625\" xlink:href=\"#DejaVuSans-34\"/></g><g transform=\"translate(40.703 138.17) scale(.08 -.08)\" fill=\"#0072b2\"><use xlink:href=\"#DejaVuSans-30\"/><use x=\"63.623047\" xlink:href=\"#DejaVuSans-2e\"/><use x=\"95.410156\" xlink:href=\"#DejaVuSans-39\"/><use x=\"159.033203\" xlink:href=\"#DejaVuSans-31\"/><use x=\"222.65625\" xlink:href=\"#DejaVuSans-32\"/></g><g transform=\"translate(162.53 138.17) scale(.08 -.08)\" fill=\"#0072b2\"><defs><path id=\"DejaVuSans-38\" transform=\"scale(.015625)\" d=\"m2034 2216q-450 0-708-241-257-241-257-662 0-422 257-663 258-241 708-241t709 242q260 243 260 662 0 421-258 662-257 241-711 241zm-631 268q-406 100-633 378-226 279-226 679 0 559 398 884 399 325 1092 325 697 0 1094-325t397-884q0-400-227-679-226-278-629-378 456-106 710-416 255-309 255-755 0-679-414-1042-414-362-1186-362-771 0-1186 362-414 363-414 1042 0 446 256 755 257 310 713 416zm-231 997q0-362 226-565 227-203 636-203 407 0 636 203 230 203 230 565 0 363-230 566-229 203-636 203-409 0-636-203-226-203-226-566z\"/><path id=\"DejaVuSans-36\" transform=\"scale(.015625)\" d=\"m2113 2584q-425 0-674-291-248-290-248-796 0-503 248-796 249-292 674-292t673 292q248 293 248 796 0 506-248 796-248 291-673 291zm1253 1979v-575q-238 112-480 171-242 60-480 60-625 0-955-422-329-422-376-1275 184 272 462 417 279 145 613 145 703 0 1111-427 408-426 408-1160 0-719-425-1154-425-434-1131-434-810 0-1238 620-428 621-428 1799 0 1106 525 1764t1409 658q238 0 480-47t505-140z\"/></defs><use xlink:href=\"#DejaVuSans-30\"/><use x=\"63.623047\" xlink:href=\"#DejaVuSans-2e\"/><use x=\"95.410156\" xlink:href=\"#DejaVuSans-38\"/><use x=\"159.033203\" xlink:href=\"#DejaVuSans-36\"/><use x=\"222.65625\" xlink:href=\"#DejaVuSans-39\"/></g><g transform=\"translate(40.703 77.252) scale(.08 -.08)\" fill=\"#0072b2\"><defs><path id=\"DejaVuSans-33\" transform=\"scale(.015625)\" d=\"m2597 2516q453-97 707-404 255-306 255-756 0-690-475-1069-475-378-1350-378-293 0-604 58t-642 174v609q262-153 574-231 313-78 654-78 593 0 904 234t311 681q0 413-289 645-289 233-804 233h-544v519h569q465 0 712 186t247 536q0 359-255 551-254 193-729 193-260 0-557-57-297-56-653-174v562q360 100 674 150t592 50q719 0 1137-327 419-326 419-882 0-388-222-655t-631-370z\"/></defs><use xlink:href=\"#DejaVuSans-30\"/><use x=\"63.623047\" xlink:href=\"#DejaVuSans-2e\"/><use x=\"95.410156\" xlink:href=\"#DejaVuSans-39\"/><use x=\"159.033203\" xlink:href=\"#DejaVuSans-31\"/><use x=\"222.65625\" xlink:href=\"#DejaVuSans-33\"/></g><g transform=\"translate(162.53 77.252) scale(.08 -.08)\" fill=\"#0072b2\"><use xlink:href=\"#DejaVuSans-30\"/><use x=\"63.623047\" xlink:href=\"#DejaVuSans-2e\"/><use x=\"95.410156\" xlink:href=\"#DejaVuSans-39\"/><use x=\"159.033203\" xlink:href=\"#DejaVuSans-30\"/><use x=\"222.65625\" xlink:href=\"#DejaVuSans-39\"/></g><g transform=\"translate(40.703 16.337) scale(.08 -.08)\" fill=\"#0072b2\"><use xlink:href=\"#DejaVuSans-30\"/><use x=\"63.623047\" xlink:href=\"#DejaVuSans-2e\"/><use x=\"95.410156\" xlink:href=\"#DejaVuSans-39\"/><use x=\"159.033203\" xlink:href=\"#DejaVuSans-33\"/><use x=\"222.65625\" xlink:href=\"#DejaVuSans-31\"/></g><g transform=\"translate(162.53 16.337) scale(.08 -.08)\" fill=\"#0072b2\"><defs><path id=\"DejaVuSans-37\" transform=\"scale(.015625)\" d=\"m525 4666h3e3v-269l-1694-4397h-659l1594 4134h-2241v532z\"/></defs><use xlink:href=\"#DejaVuSans-30\"/><use x=\"63.623047\" xlink:href=\"#DejaVuSans-2e\"/><use x=\"95.410156\" xlink:href=\"#DejaVuSans-38\"/><use x=\"159.033203\" xlink:href=\"#DejaVuSans-37\"/><use x=\"222.65625\" xlink:href=\"#DejaVuSans-31\"/></g><g transform=\"translate(16.337 162.53) scale(.08 -.08)\" fill=\"#4cabe1\"><use xlink:href=\"#DejaVuSans-30\"/><use x=\"63.623047\" xlink:href=\"#DejaVuSans-2e\"/><use x=\"95.410156\" xlink:href=\"#DejaVuSans-38\"/><use x=\"159.033203\" xlink:href=\"#DejaVuSans-39\"/><use x=\"222.65625\" xlink:href=\"#DejaVuSans-36\"/></g><g transform=\"translate(101.62 199.08) scale(.08 -.08)\" fill=\"#4cabe1\"><use xlink:href=\"#DejaVuSans-30\"/><use x=\"63.623047\" xlink:href=\"#DejaVuSans-2e\"/><use x=\"95.410156\" xlink:href=\"#DejaVuSans-39\"/><use x=\"159.033203\" xlink:href=\"#DejaVuSans-33\"/><use x=\"222.65625\" xlink:href=\"#DejaVuSans-35\"/></g><g transform=\"translate(162.53 162.53) scale(.08 -.08)\" fill=\"#4cabe1\"><use xlink:href=\"#DejaVuSans-30\"/><use x=\"63.623047\" xlink:href=\"#DejaVuSans-2e\"/><use x=\"95.410156\" xlink:href=\"#DejaVuSans-37\"/><use x=\"159.033203\" xlink:href=\"#DejaVuSans-31\"/><use x=\"222.65625\" xlink:href=\"#DejaVuSans-34\"/></g><g transform=\"translate(40.703 101.62) scale(.08 -.08)\" fill=\"#4cabe1\"><use xlink:href=\"#DejaVuSans-30\"/><use x=\"63.623047\" xlink:href=\"#DejaVuSans-2e\"/><use x=\"95.410156\" xlink:href=\"#DejaVuSans-35\"/><use x=\"159.033203\" xlink:href=\"#DejaVuSans-37\"/><use x=\"222.65625\" xlink:href=\"#DejaVuSans-31\"/></g><g transform=\"translate(162.53 101.62) scale(.08 -.08)\" fill=\"#4cabe1\"><use xlink:href=\"#DejaVuSans-30\"/><use x=\"63.623047\" xlink:href=\"#DejaVuSans-2e\"/><use x=\"95.410156\" xlink:href=\"#DejaVuSans-34\"/><use x=\"159.033203\" xlink:href=\"#DejaVuSans-37\"/><use x=\"222.65625\" xlink:href=\"#DejaVuSans-39\"/></g><g transform=\"translate(40.703 40.703) scale(.08 -.08)\" fill=\"#4cabe1\"><use xlink:href=\"#DejaVuSans-30\"/><use x=\"63.623047\" xlink:href=\"#DejaVuSans-2e\"/><use x=\"95.410156\" xlink:href=\"#DejaVuSans-34\"/><use x=\"159.033203\" xlink:href=\"#DejaVuSans-36\"/><use x=\"222.65625\" xlink:href=\"#DejaVuSans-39\"/></g><g transform=\"translate(162.53 40.703) scale(.08 -.08)\" fill=\"#4cabe1\"><use xlink:href=\"#DejaVuSans-30\"/><use x=\"63.623047\" xlink:href=\"#DejaVuSans-2e\"/><use x=\"95.410156\" xlink:href=\"#DejaVuSans-34\"/><use x=\"159.033203\" xlink:href=\"#DejaVuSans-38\"/><use x=\"222.65625\" xlink:href=\"#DejaVuSans-33\"/></g><g transform=\"translate(40.703 174.72) scale(.08 -.08)\" fill=\"#24a496\"><use xlink:href=\"#DejaVuSans-30\"/><use x=\"63.623047\" xlink:href=\"#DejaVuSans-2e\"/><use x=\"95.410156\" xlink:href=\"#DejaVuSans-35\"/><use x=\"159.033203\" xlink:href=\"#DejaVuSans-36\"/><use x=\"222.65625\" xlink:href=\"#DejaVuSans-35\"/></g><g transform=\"translate(40.703 162.53) scale(.08 -.08)\" fill=\"#24a496\"><use xlink:href=\"#DejaVuSans-30\"/><use x=\"63.623047\" xlink:href=\"#DejaVuSans-2e\"/><use x=\"95.410156\" xlink:href=\"#DejaVuSans-35\"/><use x=\"159.033203\" xlink:href=\"#DejaVuSans-32\"/><use x=\"222.65625\" xlink:href=\"#DejaVuSans-33\"/></g><g transform=\"translate(138.17 162.53) scale(.08 -.08)\" fill=\"#24a496\"><use xlink:href=\"#DejaVuSans-30\"/><use x=\"63.623047\" xlink:href=\"#DejaVuSans-2e\"/><use x=\"95.410156\" xlink:href=\"#DejaVuSans-38\"/><use x=\"159.033203\" xlink:href=\"#DejaVuSans-38\"/><use x=\"222.65625\" xlink:href=\"#DejaVuSans-39\"/></g><g transform=\"translate(199.08 162.53) scale(.08 -.08)\" fill=\"#24a496\"><use xlink:href=\"#DejaVuSans-31\"/><use x=\"63.623047\" xlink:href=\"#DejaVuSans-2e\"/><use x=\"95.410156\" xlink:href=\"#DejaVuSans-30\"/><use x=\"159.033203\" xlink:href=\"#DejaVuSans-33\"/><use x=\"222.65625\" xlink:href=\"#DejaVuSans-38\"/></g><g transform=\"translate(16.337 40.703) scale(.08 -.08)\" fill=\"#24a496\"><use xlink:href=\"#DejaVuSans-30\"/><use x=\"63.623047\" xlink:href=\"#DejaVuSans-2e\"/><use x=\"95.410156\" xlink:href=\"#DejaVuSans-39\"/><use x=\"159.033203\" xlink:href=\"#DejaVuSans-30\"/><use x=\"222.65625\" xlink:href=\"#DejaVuSans-33\"/></g><g transform=\"translate(101.62 77.252) scale(.08 -.08)\" fill=\"#24a496\"><use xlink:href=\"#DejaVuSans-30\"/><use x=\"63.623047\" xlink:href=\"#DejaVuSans-2e\"/><use x=\"95.410156\" xlink:href=\"#DejaVuSans-39\"/><use x=\"159.033203\" xlink:href=\"#DejaVuSans-30\"/><use x=\"222.65625\" xlink:href=\"#DejaVuSans-31\"/></g><g transform=\"translate(199.08 40.703) scale(.08 -.08)\" fill=\"#24a496\"><use xlink:href=\"#DejaVuSans-30\"/><use x=\"63.623047\" xlink:href=\"#DejaVuSans-2e\"/><use x=\"95.410156\" xlink:href=\"#DejaVuSans-38\"/><use x=\"159.033203\" xlink:href=\"#DejaVuSans-39\"/><use x=\"222.65625\" xlink:href=\"#DejaVuSans-30\"/></g><g transform=\"translate(101.62 16.337) scale(.08 -.08)\" fill=\"#24a496\"><use xlink:href=\"#DejaVuSans-30\"/><use x=\"63.623047\" xlink:href=\"#DejaVuSans-2e\"/><use x=\"95.410156\" xlink:href=\"#DejaVuSans-39\"/><use x=\"159.033203\" xlink:href=\"#DejaVuSans-33\"/><use x=\"222.65625\" xlink:href=\"#DejaVuSans-31\"/></g><g transform=\"translate(77.252 162.53) scale(.08 -.08)\" fill=\"#90c667\"><use xlink:href=\"#DejaVuSans-30\"/><use x=\"63.623047\" xlink:href=\"#DejaVuSans-2e\"/><use x=\"95.410156\" xlink:href=\"#DejaVuSans-39\"/><use x=\"159.033203\" xlink:href=\"#DejaVuSans-35\"/><use x=\"222.65625\" xlink:href=\"#DejaVuSans-37\"/></g><g transform=\"translate(162.53 174.72) scale(.08 -.08)\" fill=\"#90c667\"><use xlink:href=\"#DejaVuSans-30\"/><use x=\"63.623047\" xlink:href=\"#DejaVuSans-2e\"/><use x=\"95.410156\" xlink:href=\"#DejaVuSans-34\"/><use x=\"159.033203\" xlink:href=\"#DejaVuSans-38\"/><use x=\"222.65625\" xlink:href=\"#DejaVuSans-30\"/></g><g transform=\"translate(16.337 101.62) scale(.08 -.08)\" fill=\"#90c667\"><use xlink:href=\"#DejaVuSans-30\"/><use x=\"63.623047\" xlink:href=\"#DejaVuSans-2e\"/><use x=\"95.410156\" xlink:href=\"#DejaVuSans-39\"/><use x=\"159.033203\" xlink:href=\"#DejaVuSans-30\"/><use x=\"222.65625\" xlink:href=\"#DejaVuSans-30\"/></g><g transform=\"translate(101.62 101.62) scale(.08 -.08)\" fill=\"#90c667\"><use xlink:href=\"#DejaVuSans-30\"/><use x=\"63.623047\" xlink:href=\"#DejaVuSans-2e\"/><use x=\"95.410156\" xlink:href=\"#DejaVuSans-34\"/><use x=\"159.033203\" xlink:href=\"#DejaVuSans-36\"/><use x=\"222.65625\" xlink:href=\"#DejaVuSans-32\"/></g><g transform=\"translate(101.62 40.703) scale(.08 -.08)\" fill=\"#90c667\"><use xlink:href=\"#DejaVuSans-30\"/><use x=\"63.623047\" xlink:href=\"#DejaVuSans-2e\"/><use x=\"95.410156\" xlink:href=\"#DejaVuSans-35\"/><use x=\"159.033203\" xlink:href=\"#DejaVuSans-37\"/><use x=\"222.65625\" xlink:href=\"#DejaVuSans-38\"/></g><g transform=\"translate(101.62 174.72) scale(.08 -.08)\" fill=\"#eccc46\"><use xlink:href=\"#DejaVuSans-30\"/><use x=\"63.623047\" xlink:href=\"#DejaVuSans-2e\"/><use x=\"95.410156\" xlink:href=\"#DejaVuSans-35\"/><use x=\"159.033203\" xlink:href=\"#DejaVuSans-32\"/><use x=\"222.65625\" xlink:href=\"#DejaVuSans-33\"/></g><g transform=\"translate(101.62 162.53) scale(.08 -.08)\" fill=\"#eccc46\"><use xlink:href=\"#DejaVuSans-30\"/><use x=\"63.623047\" xlink:href=\"#DejaVuSans-2e\"/><use x=\"95.410156\" xlink:href=\"#DejaVuSans-35\"/><use x=\"159.033203\" xlink:href=\"#DejaVuSans-35\"/><use x=\"222.65625\" xlink:href=\"#DejaVuSans-33\"/></g><g transform=\"translate(40.703 113.8) scale(.08 -.08)\" fill=\"#eccc46\"><use xlink:href=\"#DejaVuSans-30\"/><use x=\"63.623047\" xlink:href=\"#DejaVuSans-2e\"/><use x=\"95.410156\" xlink:href=\"#DejaVuSans-34\"/><use x=\"159.033203\" xlink:href=\"#DejaVuSans-36\"/><use x=\"222.65625\" xlink:href=\"#DejaVuSans-32\"/></g><g transform=\"translate(199.08 101.62) scale(.08 -.08)\" fill=\"#eccc46\"><use xlink:href=\"#DejaVuSans-30\"/><use x=\"63.623047\" xlink:href=\"#DejaVuSans-2e\"/><use x=\"95.410156\" xlink:href=\"#DejaVuSans-38\"/><use x=\"159.033203\" xlink:href=\"#DejaVuSans-39\"/><use x=\"222.65625\" xlink:href=\"#DejaVuSans-31\"/></g><g transform=\"translate(40.703 52.886) scale(.08 -.08)\" fill=\"#eccc46\"><use xlink:href=\"#DejaVuSans-30\"/><use x=\"63.623047\" xlink:href=\"#DejaVuSans-2e\"/><use x=\"95.410156\" xlink:href=\"#DejaVuSans-35\"/><use x=\"159.033203\" xlink:href=\"#DejaVuSans-39\"/><use x=\"222.65625\" xlink:href=\"#DejaVuSans-36\"/></g><g transform=\"translate(138.17 40.703) scale(.08 -.08)\" fill=\"#eccc46\"><use xlink:href=\"#DejaVuSans-30\"/><use x=\"63.623047\" xlink:href=\"#DejaVuSans-2e\"/><use x=\"95.410156\" xlink:href=\"#DejaVuSans-38\"/><use x=\"159.033203\" xlink:href=\"#DejaVuSans-39\"/><use x=\"222.65625\" xlink:href=\"#DejaVuSans-31\"/></g><g transform=\"translate(101.62 138.17) scale(.08 -.08)\" fill=\"#e1981f\"><use xlink:href=\"#DejaVuSans-30\"/><use x=\"63.623047\" xlink:href=\"#DejaVuSans-2e\"/><use x=\"95.410156\" xlink:href=\"#DejaVuSans-39\"/><use x=\"159.033203\" xlink:href=\"#DejaVuSans-31\"/><use x=\"222.65625\" xlink:href=\"#DejaVuSans-31\"/></g><g transform=\"translate(77.252 40.703) scale(.08 -.08)\" fill=\"#e1981f\"><use xlink:href=\"#DejaVuSans-30\"/><use x=\"63.623047\" xlink:href=\"#DejaVuSans-2e\"/><use x=\"95.410156\" xlink:href=\"#DejaVuSans-39\"/><use x=\"159.033203\" xlink:href=\"#DejaVuSans-34\"/><use x=\"222.65625\" xlink:href=\"#DejaVuSans-30\"/></g><g transform=\"translate(162.53 52.886) scale(.08 -.08)\" fill=\"#e1981f\"><use xlink:href=\"#DejaVuSans-30\"/><use x=\"63.623047\" xlink:href=\"#DejaVuSans-2e\"/><use x=\"95.410156\" xlink:href=\"#DejaVuSans-34\"/><use x=\"159.033203\" xlink:href=\"#DejaVuSans-37\"/><use x=\"222.65625\" xlink:href=\"#DejaVuSans-36\"/></g><g transform=\"translate(77.252 101.62) scale(.08 -.08)\" fill=\"#d46b29\"><use xlink:href=\"#DejaVuSans-30\"/><use x=\"63.623047\" xlink:href=\"#DejaVuSans-2e\"/><use x=\"95.410156\" xlink:href=\"#DejaVuSans-39\"/><use x=\"159.033203\" xlink:href=\"#DejaVuSans-32\"/><use x=\"222.65625\" xlink:href=\"#DejaVuSans-35\"/></g><g transform=\"translate(138.17 101.62) scale(.08 -.08)\" fill=\"#d46b29\"><use xlink:href=\"#DejaVuSans-30\"/><use x=\"63.623047\" xlink:href=\"#DejaVuSans-2e\"/><use x=\"95.410156\" xlink:href=\"#DejaVuSans-38\"/><use x=\"159.033203\" xlink:href=\"#DejaVuSans-38\"/><use x=\"222.65625\" xlink:href=\"#DejaVuSans-38\"/></g><g transform=\"translate(101.62 113.8) scale(.08 -.08)\" fill=\"#cc7ba8\"><use xlink:href=\"#DejaVuSans-30\"/><use x=\"63.623047\" xlink:href=\"#DejaVuSans-2e\"/><use x=\"95.410156\" xlink:href=\"#DejaVuSans-35\"/><use x=\"159.033203\" xlink:href=\"#DejaVuSans-35\"/><use x=\"222.65625\" xlink:href=\"#DejaVuSans-32\"/></g><g transform=\"translate(162.53 113.8) scale(.08 -.08)\" fill=\"#cc7ba8\"><use xlink:href=\"#DejaVuSans-30\"/><use x=\"63.623047\" xlink:href=\"#DejaVuSans-2e\"/><use x=\"95.410156\" xlink:href=\"#DejaVuSans-34\"/><use x=\"159.033203\" xlink:href=\"#DejaVuSans-37\"/><use x=\"222.65625\" xlink:href=\"#DejaVuSans-37\"/></g><g transform=\"translate(101.62 52.886) scale(.08 -.08)\" fill=\"#cc7ba8\"><use xlink:href=\"#DejaVuSans-30\"/><use x=\"63.623047\" xlink:href=\"#DejaVuSans-2e\"/><use x=\"95.410156\" xlink:href=\"#DejaVuSans-34\"/><use x=\"159.033203\" xlink:href=\"#DejaVuSans-36\"/><use x=\"222.65625\" xlink:href=\"#DejaVuSans-38\"/></g><defs><path id=\"85b29bbb863\" d=\"m0 5c1.326 0 2.5979-0.52683 3.5355-1.4645 0.93763-0.93764 1.4645-2.2095 1.4645-3.5355s-0.52683-2.5979-1.4645-3.5355c-0.93764-0.93763-2.2095-1.4645-3.5355-1.4645s-2.5979 0.52683-3.5355 1.4645c-0.93763 0.93764-1.4645 2.2095-1.4645 3.5355s0.52683 2.5979 1.4645 3.5355c0.93764 0.93763 2.2095 1.4645 3.5355 1.4645z\" stroke=\"#0072b2\"/></defs><use x=\"227.219832\" y=\"55.595854\" fill=\"#0072b2\" stroke=\"#0072b2\" xlink:href=\"#85b29bbb863\"/><g transform=\"translate(245.22 59.096) scale(.1 -.1)\" fill=\"#808080\"><defs><path id=\"DejaVuSans-47\" transform=\"scale(.015625)\" d=\"m3809 666v1253h-1031v519h1656v-2004q-365-259-806-392-440-133-940-133-1094 0-1712 639-617 640-617 1780 0 1144 617 1783 618 639 1712 639 456 0 867-113 411-112 758-331v-672q-350 297-744 447t-828 150q-857 0-1287-478-429-478-429-1425 0-944 429-1422 430-478 1287-478 334 0 596 58 263 58 472 180z\"/><path id=\"DejaVuSans-72\" transform=\"scale(.015625)\" d=\"m2631 2963q-97 56-211 82-114 27-251 27-488 0-749-317t-261-911v-1844h-578v3500h578v-544q182 319 472 473 291 155 707 155 59 0 131-8 72-7 159-23l3-590z\"/><path id=\"DejaVuSans-6f\" transform=\"scale(.015625)\" d=\"m1959 3097q-462 0-731-361t-269-989 267-989q268-361 733-361 460 0 728 362 269 363 269 988 0 622-269 986-268 364-728 364zm0 487q750 0 1178-488 429-487 429-1349 0-859-429-1349-428-489-1178-489-753 0-1180 489-426 490-426 1349 0 862 426 1349 427 488 1180 488z\"/><path id=\"DejaVuSans-75\" transform=\"scale(.015625)\" d=\"m544 1381v2119h575v-2097q0-497 193-746 194-248 582-248 465 0 735 297 271 297 271 810v1984h575v-3500h-575v538q-209-319-486-474-276-155-642-155-603 0-916 375-312 375-312 1097zm1447 2203z\"/><path id=\"DejaVuSans-70\" transform=\"scale(.015625)\" d=\"m1159 525v-1856h-578v4831h578v-531q182 312 458 463 277 152 661 152 638 0 1036-506 399-506 399-1331t-399-1332q-398-506-1036-506-384 0-661 152-276 152-458 464zm1957 1222q0 634-261 995t-717 361q-457 0-718-361t-261-995 261-995 718-361q456 0 717 361t261 995z\"/></defs><use xlink:href=\"#DejaVuSans-47\"/><use x=\"77.490234\" xlink:href=\"#DejaVuSans-72\"/><use x=\"116.353516\" xlink:href=\"#DejaVuSans-6f\"/><use x=\"177.535156\" xlink:href=\"#DejaVuSans-75\"/><use x=\"240.914062\" xlink:href=\"#DejaVuSans-70\"/><use x=\"304.390625\" xlink:href=\"#DejaVuSans-20\"/><use x=\"336.177734\" xlink:href=\"#DejaVuSans-31\"/></g><defs><path id=\"958c81f4015\" d=\"m0 5c1.326 0 2.5979-0.52683 3.5355-1.4645 0.93763-0.93764 1.4645-2.2095 1.4645-3.5355s-0.52683-2.5979-1.4645-3.5355c-0.93764-0.93763-2.2095-1.4645-3.5355-1.4645s-2.5979 0.52683-3.5355 1.4645c-0.93763 0.93764-1.4645 2.2095-1.4645 3.5355s0.52683 2.5979 1.4645 3.5355c0.93764 0.93763 2.2095 1.4645 3.5355 1.4645z\" stroke=\"#4cabe1\"/></defs><use x=\"227.219832\" y=\"70.273979\" fill=\"#4cabe1\" stroke=\"#4cabe1\" xlink:href=\"#958c81f4015\"/><g transform=\"translate(245.22 73.774) scale(.1 -.1)\" fill=\"#808080\"><use xlink:href=\"#DejaVuSans-47\"/><use x=\"77.490234\" xlink:href=\"#DejaVuSans-72\"/><use x=\"116.353516\" xlink:href=\"#DejaVuSans-6f\"/><use x=\"177.535156\" xlink:href=\"#DejaVuSans-75\"/><use x=\"240.914062\" xlink:href=\"#DejaVuSans-70\"/><use x=\"304.390625\" xlink:href=\"#DejaVuSans-20\"/><use x=\"336.177734\" xlink:href=\"#DejaVuSans-32\"/></g><defs><path id=\"cd212ef83c1\" d=\"m0 5c1.326 0 2.5979-0.52683 3.5355-1.4645 0.93763-0.93764 1.4645-2.2095 1.4645-3.5355s-0.52683-2.5979-1.4645-3.5355c-0.93764-0.93763-2.2095-1.4645-3.5355-1.4645s-2.5979 0.52683-3.5355 1.4645c-0.93763 0.93764-1.4645 2.2095-1.4645 3.5355s0.52683 2.5979 1.4645 3.5355c0.93764 0.93763 2.2095 1.4645 3.5355 1.4645z\" stroke=\"#24a496\"/></defs><use x=\"227.219832\" y=\"84.952104\" fill=\"#24a496\" stroke=\"#24a496\" xlink:href=\"#cd212ef83c1\"/><g transform=\"translate(245.22 88.452) scale(.1 -.1)\" fill=\"#808080\"><use xlink:href=\"#DejaVuSans-47\"/><use x=\"77.490234\" xlink:href=\"#DejaVuSans-72\"/><use x=\"116.353516\" xlink:href=\"#DejaVuSans-6f\"/><use x=\"177.535156\" xlink:href=\"#DejaVuSans-75\"/><use x=\"240.914062\" xlink:href=\"#DejaVuSans-70\"/><use x=\"304.390625\" xlink:href=\"#DejaVuSans-20\"/><use x=\"336.177734\" xlink:href=\"#DejaVuSans-33\"/></g><defs><path id=\"624ddc6fe36\" d=\"m0 5c1.326 0 2.5979-0.52683 3.5355-1.4645 0.93763-0.93764 1.4645-2.2095 1.4645-3.5355s-0.52683-2.5979-1.4645-3.5355c-0.93764-0.93763-2.2095-1.4645-3.5355-1.4645s-2.5979 0.52683-3.5355 1.4645c-0.93763 0.93764-1.4645 2.2095-1.4645 3.5355s0.52683 2.5979 1.4645 3.5355c0.93764 0.93763 2.2095 1.4645 3.5355 1.4645z\" stroke=\"#90c667\"/></defs><use x=\"227.219832\" y=\"99.630229\" fill=\"#90c667\" stroke=\"#90c667\" xlink:href=\"#624ddc6fe36\"/><g transform=\"translate(245.22 103.13) scale(.1 -.1)\" fill=\"#808080\"><use xlink:href=\"#DejaVuSans-47\"/><use x=\"77.490234\" xlink:href=\"#DejaVuSans-72\"/><use x=\"116.353516\" xlink:href=\"#DejaVuSans-6f\"/><use x=\"177.535156\" xlink:href=\"#DejaVuSans-75\"/><use x=\"240.914062\" xlink:href=\"#DejaVuSans-70\"/><use x=\"304.390625\" xlink:href=\"#DejaVuSans-20\"/><use x=\"336.177734\" xlink:href=\"#DejaVuSans-34\"/></g><defs><path id=\"57045e4a139\" d=\"m0 5c1.326 0 2.5979-0.52683 3.5355-1.4645 0.93763-0.93764 1.4645-2.2095 1.4645-3.5355s-0.52683-2.5979-1.4645-3.5355c-0.93764-0.93763-2.2095-1.4645-3.5355-1.4645s-2.5979 0.52683-3.5355 1.4645c-0.93763 0.93764-1.4645 2.2095-1.4645 3.5355s0.52683 2.5979 1.4645 3.5355c0.93764 0.93763 2.2095 1.4645 3.5355 1.4645z\" stroke=\"#eccc46\"/></defs><use x=\"227.219832\" y=\"114.308354\" fill=\"#eccc46\" stroke=\"#eccc46\" xlink:href=\"#57045e4a139\"/><g transform=\"translate(245.22 117.81) scale(.1 -.1)\" fill=\"#808080\"><use xlink:href=\"#DejaVuSans-47\"/><use x=\"77.490234\" xlink:href=\"#DejaVuSans-72\"/><use x=\"116.353516\" xlink:href=\"#DejaVuSans-6f\"/><use x=\"177.535156\" xlink:href=\"#DejaVuSans-75\"/><use x=\"240.914062\" xlink:href=\"#DejaVuSans-70\"/><use x=\"304.390625\" xlink:href=\"#DejaVuSans-20\"/><use x=\"336.177734\" xlink:href=\"#DejaVuSans-35\"/></g><defs><path id=\"3728d5d18e9\" d=\"m0 5c1.326 0 2.5979-0.52683 3.5355-1.4645 0.93763-0.93764 1.4645-2.2095 1.4645-3.5355s-0.52683-2.5979-1.4645-3.5355c-0.93764-0.93763-2.2095-1.4645-3.5355-1.4645s-2.5979 0.52683-3.5355 1.4645c-0.93763 0.93764-1.4645 2.2095-1.4645 3.5355s0.52683 2.5979 1.4645 3.5355c0.93764 0.93763 2.2095 1.4645 3.5355 1.4645z\" stroke=\"#e1981f\"/></defs><use x=\"227.219832\" y=\"128.986479\" fill=\"#e1981f\" stroke=\"#e1981f\" xlink:href=\"#3728d5d18e9\"/><g transform=\"translate(245.22 132.49) scale(.1 -.1)\" fill=\"#808080\"><use xlink:href=\"#DejaVuSans-47\"/><use x=\"77.490234\" xlink:href=\"#DejaVuSans-72\"/><use x=\"116.353516\" xlink:href=\"#DejaVuSans-6f\"/><use x=\"177.535156\" xlink:href=\"#DejaVuSans-75\"/><use x=\"240.914062\" xlink:href=\"#DejaVuSans-70\"/><use x=\"304.390625\" xlink:href=\"#DejaVuSans-20\"/><use x=\"336.177734\" xlink:href=\"#DejaVuSans-36\"/></g><defs><path id=\"9e9e6092d2c\" d=\"m0 5c1.326 0 2.5979-0.52683 3.5355-1.4645 0.93763-0.93764 1.4645-2.2095 1.4645-3.5355s-0.52683-2.5979-1.4645-3.5355c-0.93764-0.93763-2.2095-1.4645-3.5355-1.4645s-2.5979 0.52683-3.5355 1.4645c-0.93763 0.93764-1.4645 2.2095-1.4645 3.5355s0.52683 2.5979 1.4645 3.5355c0.93764 0.93763 2.2095 1.4645 3.5355 1.4645z\" stroke=\"#d46b29\"/></defs><use x=\"227.219832\" y=\"143.664604\" fill=\"#d46b29\" stroke=\"#d46b29\" xlink:href=\"#9e9e6092d2c\"/><g transform=\"translate(245.22 147.16) scale(.1 -.1)\" fill=\"#808080\"><use xlink:href=\"#DejaVuSans-47\"/><use x=\"77.490234\" xlink:href=\"#DejaVuSans-72\"/><use x=\"116.353516\" xlink:href=\"#DejaVuSans-6f\"/><use x=\"177.535156\" xlink:href=\"#DejaVuSans-75\"/><use x=\"240.914062\" xlink:href=\"#DejaVuSans-70\"/><use x=\"304.390625\" xlink:href=\"#DejaVuSans-20\"/><use x=\"336.177734\" xlink:href=\"#DejaVuSans-37\"/></g><defs><path id=\"a43652deb12\" d=\"m0 5c1.326 0 2.5979-0.52683 3.5355-1.4645 0.93763-0.93764 1.4645-2.2095 1.4645-3.5355s-0.52683-2.5979-1.4645-3.5355c-0.93764-0.93763-2.2095-1.4645-3.5355-1.4645s-2.5979 0.52683-3.5355 1.4645c-0.93763 0.93764-1.4645 2.2095-1.4645 3.5355s0.52683 2.5979 1.4645 3.5355c0.93764 0.93763 2.2095 1.4645 3.5355 1.4645z\" stroke=\"#cc7ba8\"/></defs><use x=\"227.219832\" y=\"158.342729\" fill=\"#cc7ba8\" stroke=\"#cc7ba8\" xlink:href=\"#a43652deb12\"/><g transform=\"translate(245.22 161.84) scale(.1 -.1)\" fill=\"#808080\"><use xlink:href=\"#DejaVuSans-47\"/><use x=\"77.490234\" xlink:href=\"#DejaVuSans-72\"/><use x=\"116.353516\" xlink:href=\"#DejaVuSans-6f\"/><use x=\"177.535156\" xlink:href=\"#DejaVuSans-75\"/><use x=\"240.914062\" xlink:href=\"#DejaVuSans-70\"/><use x=\"304.390625\" xlink:href=\"#DejaVuSans-20\"/><use x=\"336.177734\" xlink:href=\"#DejaVuSans-38\"/></g><defs><clipPath id=\"9548dd3752d\"><rect x=\"7.2\" y=\"7.2\" width=\"201.02\" height=\"201.02\"/></clipPath></defs></svg>"
      ],
      "text/plain": [
       "<Figure size 400x400 with 1 Axes>"
      ]
     },
     "metadata": {
      "needs_background": "light"
     },
     "output_type": "display_data"
    },
    {
     "data": {
      "text/plain": [
       "(<Figure size 400x400 with 1 Axes>, <Axes: >)"
      ]
     },
     "execution_count": 20,
     "metadata": {},
     "output_type": "execute_result"
    }
   ],
   "source": [
    "# the default two body term\n",
    "H2 = {None: qu.ham_heis(2)}\n",
    "\n",
    "# single site terms\n",
    "H1 = {}\n",
    "\n",
    "for i in range(Lx):\n",
    "    for j in range(Ly):\n",
    "\n",
    "        # add next nearest neighbor interactions\n",
    "        if (i + 1 < Lx) and (j - 1 >= 0):\n",
    "            H2[(i, j), (i + 1, j - 1)] = 0.5 * qu.ham_heis(2)\n",
    "        if (i + 1 < Lx) and (j + 1 < Ly):\n",
    "            H2[(i, j), (i + 1, j + 1)] = 0.5 * qu.ham_heis(2)\n",
    "\n",
    "        # add a random field\n",
    "        H1[i, j] = qu.randn() * qu.spin_operator('Z')\n",
    "\n",
    "ham_nn_r = qtn.LocalHam2D(Lx, Ly, H2=H2, H1=H1)\n",
    "ham_nn_r.draw()"
   ]
  },
  {
   "cell_type": "markdown",
   "id": "55e450ef-7bd6-4cb1-8855-67719f3642db",
   "metadata": {
    "raw_mimetype": "text/restructuredtext"
   },
   "source": [
    "The coloring shows a potential grouping of commuting two site terms.\n",
    "\n",
    "This object has the `.terms` attribute which can be supplied to\n",
    "{meth}`~quimb.tensor.tensor_2d.TensorNetwork2DVector.compute_local_expectation`"
   ]
  },
  {
   "cell_type": "code",
   "execution_count": 21,
   "id": "da7f631f-126a-47c6-b26f-b49197d91a12",
   "metadata": {},
   "outputs": [
    {
     "data": {
      "text/plain": [
       "0.1123889724020653"
      ]
     },
     "execution_count": 21,
     "metadata": {},
     "output_type": "execute_result"
    }
   ],
   "source": [
    "peps.compute_local_expectation(ham_nn_r.terms, max_bond=32)"
   ]
  },
  {
   "cell_type": "markdown",
   "id": "1490db22-c778-4f86-be33-e182c591aedc",
   "metadata": {},
   "source": [
    "In the next few sections we'll try and find the groundstate of the\n",
    "4x4 Heisenberg lattice:"
   ]
  },
  {
   "cell_type": "code",
   "execution_count": 22,
   "id": "01fc5b2b-6dd8-47c2-ae0e-d4911e0863d7",
   "metadata": {},
   "outputs": [],
   "source": [
    "Lx = 4\n",
    "Ly = 4\n",
    "\n",
    "ham = qtn.LocalHam2D(Lx, Ly, H2=qu.ham_heis(2))"
   ]
  },
  {
   "cell_type": "markdown",
   "id": "5fc6aaf0-29b3-476e-ad43-c0e9692d0e42",
   "metadata": {},
   "source": [
    "This is small enough to easily compute the exact groundstate energy:"
   ]
  },
  {
   "cell_type": "code",
   "execution_count": 23,
   "id": "3abe3b2a-fa7e-4d0c-86da-bb6a3f39ea05",
   "metadata": {},
   "outputs": [
    {
     "data": {
      "text/plain": [
       "-0.5743254415745597"
      ]
     },
     "execution_count": 23,
     "metadata": {},
     "output_type": "execute_result"
    }
   ],
   "source": [
    "energy_exact = qu.groundenergy(qu.ham_heis_2D(Lx, Ly, sparse=True)) / (Lx * Ly)\n",
    "energy_exact"
   ]
  },
  {
   "cell_type": "markdown",
   "id": "5cff2f49-f0c5-469b-8987-934d73f82d76",
   "metadata": {
    "raw_mimetype": "text/restructuredtext"
   },
   "source": [
    "## Simple Update\n",
    "\n",
    "We can use our {class}`~quimb.tensor.tensor_2d_tebd.LocalHam2D` object as the\n",
    "input to the 'Simple Update' (SU) algorithm, for performing imaginary time evolution.\n",
    "Here we'll find the \\$D=4\\$ SU groundstate of the Heisenberg Hamiltonian:"
   ]
  },
  {
   "cell_type": "code",
   "execution_count": 24,
   "id": "a63ac600-608e-42c4-8de8-c9cd36ff8ac3",
   "metadata": {},
   "outputs": [],
   "source": [
    "D = 4\n",
    "psi0 = qtn.PEPS.rand(Lx, Ly, bond_dim=D, seed=666)"
   ]
  },
  {
   "cell_type": "code",
   "execution_count": 25,
   "id": "728836c0-2091-4bcc-9eac-05cd6011b7c2",
   "metadata": {},
   "outputs": [],
   "source": [
    "su = qtn.SimpleUpdate(\n",
    "    psi0,\n",
    "    ham,\n",
    "    chi=32,  # boundary contraction bond dim for computing energy\n",
    "    compute_energy_every=10,\n",
    "    compute_energy_per_site=True,\n",
    "    keep_best=True,\n",
    ")"
   ]
  },
  {
   "cell_type": "code",
   "execution_count": 26,
   "id": "266f7504-465b-4023-8687-cda1f6a2323d",
   "metadata": {},
   "outputs": [
    {
     "name": "stderr",
     "output_type": "stream",
     "text": [
      "n=100, tau=0.3000, energy~-0.560196: 100%|##########| 100/100 [00:11<00:00,  8.39it/s]\n",
      "n=200, tau=0.1000, energy~-0.562994: 100%|##########| 100/100 [00:09<00:00, 11.08it/s]\n",
      "n=300, tau=0.0300, energy~-0.562883: 100%|##########| 100/100 [00:06<00:00, 15.06it/s]\n",
      "n=400, tau=0.0100, energy~-0.562843: 100%|##########| 100/100 [00:07<00:00, 13.68it/s]\n"
     ]
    }
   ],
   "source": [
    "for tau in [0.3, 0.1, 0.03, 0.01]:\n",
    "    su.evolve(100, tau=tau)"
   ]
  },
  {
   "cell_type": "markdown",
   "id": "98564239-dc7c-487d-9f04-1dcf312c572e",
   "metadata": {},
   "source": [
    "The current state can be retrieved from `su.state`, or, if you have specified the\n",
    "`keep_best` option, the lowest energy state seen can be found in `su.best['state']`."
   ]
  },
  {
   "cell_type": "code",
   "execution_count": 27,
   "id": "db9475eb-bc35-41fa-b42e-24b06fc71d60",
   "metadata": {},
   "outputs": [
    {
     "data": {
      "text/plain": [
       "{'energy': -0.5633772517149431,\n",
       " 'state': <PEPS(tensors=16, indices=40, Lx=4, Ly=4, max_bond=4)>,\n",
       " 'it': 110}"
      ]
     },
     "execution_count": 27,
     "metadata": {},
     "output_type": "execute_result"
    }
   ],
   "source": [
    "su.best"
   ]
  },
  {
   "cell_type": "code",
   "execution_count": 28,
   "id": "04154313-a521-4a63-ae86-6e255f3cd2d7",
   "metadata": {},
   "outputs": [
    {
     "data": {
      "image/svg+xml": [
       "<?xml version=\"1.0\" encoding=\"UTF-8\"?><!DOCTYPE svg  PUBLIC '-//W3C//DTD SVG 1.1//EN'  'http://www.w3.org/Graphics/SVG/1.1/DTD/svg11.dtd'><svg width=\"416.48pt\" height=\"325.99pt\" version=\"1.1\" viewBox=\"0 0 416.48 325.99\" xmlns=\"http://www.w3.org/2000/svg\" xmlns:xlink=\"http://www.w3.org/1999/xlink\"><defs><style type=\"text/css\">*{stroke-linejoin: round; stroke-linecap: butt}</style></defs><path d=\"m0 325.99h416.48v-325.99h-416.48v325.99z\" fill=\"none\"/><path d=\"m52.161 288.43h357.12v-266.11h-357.12v266.11z\" fill=\"none\"/><path d=\"m68.394 288.43v-266.11\" clip-path=\"url(#a3af6d72ab7)\" fill=\"none\" stroke=\"#808080\" stroke-linecap=\"square\" stroke-opacity=\".1\" stroke-width=\".8\"/><defs><path id=\"4b4ff4a91de\" d=\"m0 0v3.5\" stroke=\"#808080\" stroke-width=\".8\"/></defs><use x=\"68.393665\" y=\"288.430125\" fill=\"#808080\" stroke=\"#808080\" stroke-width=\".8\" xlink:href=\"#4b4ff4a91de\"/><g transform=\"translate(65.212 303.03) scale(.1 -.1)\" fill=\"#808080\"><defs><path id=\"DejaVuSans-30\" transform=\"scale(.015625)\" d=\"m2034 4250q-487 0-733-480-245-479-245-1442 0-959 245-1439 246-480 733-480 491 0 736 480 246 480 246 1439 0 963-246 1442-245 480-736 480zm0 500q785 0 1199-621 414-620 414-1801 0-1178-414-1799-414-620-1199-620-784 0-1198 620-414 621-414 1799 0 1181 414 1801 414 621 1198 621z\"/></defs><use xlink:href=\"#DejaVuSans-30\"/></g><path d=\"m108.98 288.43v-266.11\" clip-path=\"url(#a3af6d72ab7)\" fill=\"none\" stroke=\"#808080\" stroke-linecap=\"square\" stroke-opacity=\".1\" stroke-width=\".8\"/><use x=\"108.975483\" y=\"288.430125\" fill=\"#808080\" stroke=\"#808080\" stroke-width=\".8\" xlink:href=\"#4b4ff4a91de\"/><g transform=\"translate(102.61 303.03) scale(.1 -.1)\" fill=\"#808080\"><defs><path id=\"DejaVuSans-35\" transform=\"scale(.015625)\" d=\"m691 4666h2478v-532h-1900v-1143q137 47 274 70 138 23 276 23 781 0 1237-428 457-428 457-1159 0-753-469-1171-469-417-1322-417-294 0-599 50-304 50-629 150v635q281-153 581-228t634-75q541 0 856 284 316 284 316 772 0 487-316 771-315 285-856 285-253 0-505-56-251-56-513-175v2344z\"/></defs><use xlink:href=\"#DejaVuSans-35\"/><use x=\"63.623047\" xlink:href=\"#DejaVuSans-30\"/></g><path d=\"m149.56 288.43v-266.11\" clip-path=\"url(#a3af6d72ab7)\" fill=\"none\" stroke=\"#808080\" stroke-linecap=\"square\" stroke-opacity=\".1\" stroke-width=\".8\"/><use x=\"149.557301\" y=\"288.430125\" fill=\"#808080\" stroke=\"#808080\" stroke-width=\".8\" xlink:href=\"#4b4ff4a91de\"/><g transform=\"translate(140.01 303.03) scale(.1 -.1)\" fill=\"#808080\"><defs><path id=\"DejaVuSans-31\" transform=\"scale(.015625)\" d=\"m794 531h1031v3560l-1122-225v575l1116 225h631v-4135h1031v-531h-2687v531z\"/></defs><use xlink:href=\"#DejaVuSans-31\"/><use x=\"63.623047\" xlink:href=\"#DejaVuSans-30\"/><use x=\"127.246094\" xlink:href=\"#DejaVuSans-30\"/></g><path d=\"m190.14 288.43v-266.11\" clip-path=\"url(#a3af6d72ab7)\" fill=\"none\" stroke=\"#808080\" stroke-linecap=\"square\" stroke-opacity=\".1\" stroke-width=\".8\"/><use x=\"190.139119\" y=\"288.430125\" fill=\"#808080\" stroke=\"#808080\" stroke-width=\".8\" xlink:href=\"#4b4ff4a91de\"/><g transform=\"translate(180.6 303.03) scale(.1 -.1)\" fill=\"#808080\"><use xlink:href=\"#DejaVuSans-31\"/><use x=\"63.623047\" xlink:href=\"#DejaVuSans-35\"/><use x=\"127.246094\" xlink:href=\"#DejaVuSans-30\"/></g><path d=\"m230.72 288.43v-266.11\" clip-path=\"url(#a3af6d72ab7)\" fill=\"none\" stroke=\"#808080\" stroke-linecap=\"square\" stroke-opacity=\".1\" stroke-width=\".8\"/><use x=\"230.720938\" y=\"288.430125\" fill=\"#808080\" stroke=\"#808080\" stroke-width=\".8\" xlink:href=\"#4b4ff4a91de\"/><g transform=\"translate(221.18 303.03) scale(.1 -.1)\" fill=\"#808080\"><defs><path id=\"DejaVuSans-32\" transform=\"scale(.015625)\" d=\"m1228 531h2203v-531h-2962v531q359 372 979 998 621 627 780 809 303 340 423 576 121 236 121 464 0 372-261 606-261 235-680 235-297 0-627-103-329-103-704-313v638q381 153 712 231 332 78 607 78 725 0 1156-363 431-362 431-968 0-288-108-546-107-257-392-607-78-91-497-524-418-433-1181-1211z\"/></defs><use xlink:href=\"#DejaVuSans-32\"/><use x=\"63.623047\" xlink:href=\"#DejaVuSans-30\"/><use x=\"127.246094\" xlink:href=\"#DejaVuSans-30\"/></g><path d=\"m271.3 288.43v-266.11\" clip-path=\"url(#a3af6d72ab7)\" fill=\"none\" stroke=\"#808080\" stroke-linecap=\"square\" stroke-opacity=\".1\" stroke-width=\".8\"/><use x=\"271.302756\" y=\"288.430125\" fill=\"#808080\" stroke=\"#808080\" stroke-width=\".8\" xlink:href=\"#4b4ff4a91de\"/><g transform=\"translate(261.76 303.03) scale(.1 -.1)\" fill=\"#808080\"><use xlink:href=\"#DejaVuSans-32\"/><use x=\"63.623047\" xlink:href=\"#DejaVuSans-35\"/><use x=\"127.246094\" xlink:href=\"#DejaVuSans-30\"/></g><path d=\"m311.88 288.43v-266.11\" clip-path=\"url(#a3af6d72ab7)\" fill=\"none\" stroke=\"#808080\" stroke-linecap=\"square\" stroke-opacity=\".1\" stroke-width=\".8\"/><use x=\"311.884574\" y=\"288.430125\" fill=\"#808080\" stroke=\"#808080\" stroke-width=\".8\" xlink:href=\"#4b4ff4a91de\"/><g transform=\"translate(302.34 303.03) scale(.1 -.1)\" fill=\"#808080\"><defs><path id=\"DejaVuSans-33\" transform=\"scale(.015625)\" d=\"m2597 2516q453-97 707-404 255-306 255-756 0-690-475-1069-475-378-1350-378-293 0-604 58t-642 174v609q262-153 574-231 313-78 654-78 593 0 904 234t311 681q0 413-289 645-289 233-804 233h-544v519h569q465 0 712 186t247 536q0 359-255 551-254 193-729 193-260 0-557-57-297-56-653-174v562q360 100 674 150t592 50q719 0 1137-327 419-326 419-882 0-388-222-655t-631-370z\"/></defs><use xlink:href=\"#DejaVuSans-33\"/><use x=\"63.623047\" xlink:href=\"#DejaVuSans-30\"/><use x=\"127.246094\" xlink:href=\"#DejaVuSans-30\"/></g><path d=\"m352.47 288.43v-266.11\" clip-path=\"url(#a3af6d72ab7)\" fill=\"none\" stroke=\"#808080\" stroke-linecap=\"square\" stroke-opacity=\".1\" stroke-width=\".8\"/><use x=\"352.466392\" y=\"288.430125\" fill=\"#808080\" stroke=\"#808080\" stroke-width=\".8\" xlink:href=\"#4b4ff4a91de\"/><g transform=\"translate(342.92 303.03) scale(.1 -.1)\" fill=\"#808080\"><use xlink:href=\"#DejaVuSans-33\"/><use x=\"63.623047\" xlink:href=\"#DejaVuSans-35\"/><use x=\"127.246094\" xlink:href=\"#DejaVuSans-30\"/></g><path d=\"m393.05 288.43v-266.11\" clip-path=\"url(#a3af6d72ab7)\" fill=\"none\" stroke=\"#808080\" stroke-linecap=\"square\" stroke-opacity=\".1\" stroke-width=\".8\"/><use x=\"393.04821\" y=\"288.430125\" fill=\"#808080\" stroke=\"#808080\" stroke-width=\".8\" xlink:href=\"#4b4ff4a91de\"/><g transform=\"translate(383.5 303.03) scale(.1 -.1)\" fill=\"#808080\"><defs><path id=\"DejaVuSans-34\" transform=\"scale(.015625)\" d=\"m2419 4116-1594-2491h1594v2491zm-166 550h794v-3041h666v-525h-666v-1100h-628v1100h-2106v609l1940 2957z\"/></defs><use xlink:href=\"#DejaVuSans-34\"/><use x=\"63.623047\" xlink:href=\"#DejaVuSans-30\"/><use x=\"127.246094\" xlink:href=\"#DejaVuSans-30\"/></g><defs><path id=\"a58ef98b6f3\" d=\"m0 0v2\" stroke=\"#808080\" stroke-width=\".6\"/></defs><use x=\"60.277301\" y=\"288.430125\" fill=\"#808080\" stroke=\"#808080\" stroke-width=\".6\" xlink:href=\"#a58ef98b6f3\"/><use x=\"76.510028\" y=\"288.430125\" fill=\"#808080\" stroke=\"#808080\" stroke-width=\".6\" xlink:href=\"#a58ef98b6f3\"/><use x=\"84.626392\" y=\"288.430125\" fill=\"#808080\" stroke=\"#808080\" stroke-width=\".6\" xlink:href=\"#a58ef98b6f3\"/><use x=\"92.742756\" y=\"288.430125\" fill=\"#808080\" stroke=\"#808080\" stroke-width=\".6\" xlink:href=\"#a58ef98b6f3\"/><use x=\"100.859119\" y=\"288.430125\" fill=\"#808080\" stroke=\"#808080\" stroke-width=\".6\" xlink:href=\"#a58ef98b6f3\"/><use x=\"117.091847\" y=\"288.430125\" fill=\"#808080\" stroke=\"#808080\" stroke-width=\".6\" xlink:href=\"#a58ef98b6f3\"/><use x=\"125.20821\" y=\"288.430125\" fill=\"#808080\" stroke=\"#808080\" stroke-width=\".6\" xlink:href=\"#a58ef98b6f3\"/><use x=\"133.324574\" y=\"288.430125\" fill=\"#808080\" stroke=\"#808080\" stroke-width=\".6\" xlink:href=\"#a58ef98b6f3\"/><use x=\"141.440938\" y=\"288.430125\" fill=\"#808080\" stroke=\"#808080\" stroke-width=\".6\" xlink:href=\"#a58ef98b6f3\"/><use x=\"157.673665\" y=\"288.430125\" fill=\"#808080\" stroke=\"#808080\" stroke-width=\".6\" xlink:href=\"#a58ef98b6f3\"/><use x=\"165.790028\" y=\"288.430125\" fill=\"#808080\" stroke=\"#808080\" stroke-width=\".6\" xlink:href=\"#a58ef98b6f3\"/><use x=\"173.906392\" y=\"288.430125\" fill=\"#808080\" stroke=\"#808080\" stroke-width=\".6\" xlink:href=\"#a58ef98b6f3\"/><use x=\"182.022756\" y=\"288.430125\" fill=\"#808080\" stroke=\"#808080\" stroke-width=\".6\" xlink:href=\"#a58ef98b6f3\"/><use x=\"198.255483\" y=\"288.430125\" fill=\"#808080\" stroke=\"#808080\" stroke-width=\".6\" xlink:href=\"#a58ef98b6f3\"/><use x=\"206.371847\" y=\"288.430125\" fill=\"#808080\" stroke=\"#808080\" stroke-width=\".6\" xlink:href=\"#a58ef98b6f3\"/><use x=\"214.48821\" y=\"288.430125\" fill=\"#808080\" stroke=\"#808080\" stroke-width=\".6\" xlink:href=\"#a58ef98b6f3\"/><use x=\"222.604574\" y=\"288.430125\" fill=\"#808080\" stroke=\"#808080\" stroke-width=\".6\" xlink:href=\"#a58ef98b6f3\"/><use x=\"238.837301\" y=\"288.430125\" fill=\"#808080\" stroke=\"#808080\" stroke-width=\".6\" xlink:href=\"#a58ef98b6f3\"/><use x=\"246.953665\" y=\"288.430125\" fill=\"#808080\" stroke=\"#808080\" stroke-width=\".6\" xlink:href=\"#a58ef98b6f3\"/><use x=\"255.070028\" y=\"288.430125\" fill=\"#808080\" stroke=\"#808080\" stroke-width=\".6\" xlink:href=\"#a58ef98b6f3\"/><use x=\"263.186392\" y=\"288.430125\" fill=\"#808080\" stroke=\"#808080\" stroke-width=\".6\" xlink:href=\"#a58ef98b6f3\"/><use x=\"279.419119\" y=\"288.430125\" fill=\"#808080\" stroke=\"#808080\" stroke-width=\".6\" xlink:href=\"#a58ef98b6f3\"/><use x=\"287.535483\" y=\"288.430125\" fill=\"#808080\" stroke=\"#808080\" stroke-width=\".6\" xlink:href=\"#a58ef98b6f3\"/><use x=\"295.651847\" y=\"288.430125\" fill=\"#808080\" stroke=\"#808080\" stroke-width=\".6\" xlink:href=\"#a58ef98b6f3\"/><use x=\"303.76821\" y=\"288.430125\" fill=\"#808080\" stroke=\"#808080\" stroke-width=\".6\" xlink:href=\"#a58ef98b6f3\"/><use x=\"320.000938\" y=\"288.430125\" fill=\"#808080\" stroke=\"#808080\" stroke-width=\".6\" xlink:href=\"#a58ef98b6f3\"/><use x=\"328.117301\" y=\"288.430125\" fill=\"#808080\" stroke=\"#808080\" stroke-width=\".6\" xlink:href=\"#a58ef98b6f3\"/><use x=\"336.233665\" y=\"288.430125\" fill=\"#808080\" stroke=\"#808080\" stroke-width=\".6\" xlink:href=\"#a58ef98b6f3\"/><use x=\"344.350028\" y=\"288.430125\" fill=\"#808080\" stroke=\"#808080\" stroke-width=\".6\" xlink:href=\"#a58ef98b6f3\"/><use x=\"360.582756\" y=\"288.430125\" fill=\"#808080\" stroke=\"#808080\" stroke-width=\".6\" xlink:href=\"#a58ef98b6f3\"/><use x=\"368.699119\" y=\"288.430125\" fill=\"#808080\" stroke=\"#808080\" stroke-width=\".6\" xlink:href=\"#a58ef98b6f3\"/><use x=\"376.815483\" y=\"288.430125\" fill=\"#808080\" stroke=\"#808080\" stroke-width=\".6\" xlink:href=\"#a58ef98b6f3\"/><use x=\"384.931847\" y=\"288.430125\" fill=\"#808080\" stroke=\"#808080\" stroke-width=\".6\" xlink:href=\"#a58ef98b6f3\"/><use x=\"401.164574\" y=\"288.430125\" fill=\"#808080\" stroke=\"#808080\" stroke-width=\".6\" xlink:href=\"#a58ef98b6f3\"/><use x=\"409.280938\" y=\"288.430125\" fill=\"#808080\" stroke=\"#808080\" stroke-width=\".6\" xlink:href=\"#a58ef98b6f3\"/><g transform=\"translate(209.51 316.71) scale(.1 -.1)\" fill=\"#808080\"><defs><path id=\"DejaVuSans-49\" transform=\"scale(.015625)\" d=\"m628 4666h631v-4666h-631v4666z\"/><path id=\"DejaVuSans-74\" transform=\"scale(.015625)\" d=\"m1172 4494v-994h1184v-447h-1184v-1900q0-428 117-550t477-122h590v-481h-590q-666 0-919 248-253 249-253 905v1900h-422v447h422v994h578z\"/><path id=\"DejaVuSans-65\" transform=\"scale(.015625)\" d=\"m3597 1894v-281h-2644q38-594 358-905t892-311q331 0 642 81t618 244v-544q-310-131-635-200t-659-69q-838 0-1327 487-489 488-489 1320 0 859 464 1363 464 505 1252 505 706 0 1117-455 411-454 411-1235zm-575 169q-6 471-264 752-258 282-683 282-481 0-770-272t-333-766l2050 4z\"/><path id=\"DejaVuSans-72\" transform=\"scale(.015625)\" d=\"m2631 2963q-97 56-211 82-114 27-251 27-488 0-749-317t-261-911v-1844h-578v3500h578v-544q182 319 472 473 291 155 707 155 59 0 131-8 72-7 159-23l3-590z\"/><path id=\"DejaVuSans-61\" transform=\"scale(.015625)\" d=\"m2194 1759q-697 0-966-159t-269-544q0-306 202-486 202-179 548-179 479 0 768 339t289 901v128h-572zm1147 238v-1997h-575v531q-197-318-491-470t-719-152q-537 0-855 302-317 302-317 808 0 590 395 890 396 300 1180 300h807v57q0 397-261 614t-733 217q-300 0-585-72-284-72-546-216v532q315 122 612 182 297 61 578 61 760 0 1135-394 375-393 375-1193z\"/><path id=\"DejaVuSans-69\" transform=\"scale(.015625)\" d=\"m603 3500h575v-3500h-575v3500zm0 1363h575v-729h-575v729z\"/><path id=\"DejaVuSans-6f\" transform=\"scale(.015625)\" d=\"m1959 3097q-462 0-731-361t-269-989 267-989q268-361 733-361 460 0 728 362 269 363 269 988 0 622-269 986-268 364-728 364zm0 487q750 0 1178-488 429-487 429-1349 0-859-429-1349-428-489-1178-489-753 0-1180 489-426 490-426 1349 0 862 426 1349 427 488 1180 488z\"/><path id=\"DejaVuSans-6e\" transform=\"scale(.015625)\" d=\"m3513 2113v-2113h-575v2094q0 497-194 743-194 247-581 247-466 0-735-297-269-296-269-809v-1978h-578v3500h578v-544q207 316 486 472 280 156 646 156 603 0 912-373 310-373 310-1098z\"/></defs><use xlink:href=\"#DejaVuSans-49\"/><use x=\"29.492188\" xlink:href=\"#DejaVuSans-74\"/><use x=\"68.701172\" xlink:href=\"#DejaVuSans-65\"/><use x=\"130.224609\" xlink:href=\"#DejaVuSans-72\"/><use x=\"171.337891\" xlink:href=\"#DejaVuSans-61\"/><use x=\"232.617188\" xlink:href=\"#DejaVuSans-74\"/><use x=\"271.826172\" xlink:href=\"#DejaVuSans-69\"/><use x=\"299.609375\" xlink:href=\"#DejaVuSans-6f\"/><use x=\"360.791016\" xlink:href=\"#DejaVuSans-6e\"/></g><path d=\"m52.161 249.63h357.12\" clip-path=\"url(#a3af6d72ab7)\" fill=\"none\" stroke=\"#808080\" stroke-linecap=\"square\" stroke-opacity=\".1\" stroke-width=\".8\"/><defs><path id=\"f527461e03f\" d=\"m0 0h-3.5\" stroke=\"#808080\" stroke-width=\".8\"/></defs><use x=\"52.160938\" y=\"249.627735\" fill=\"#808080\" stroke=\"#808080\" stroke-width=\".8\" xlink:href=\"#f527461e03f\"/><g transform=\"translate(20.878 253.43) scale(.1 -.1)\" fill=\"#808080\"><defs><path id=\"DejaVuSans-2212\" transform=\"scale(.015625)\" d=\"m678 2272h4006v-531h-4006v531z\"/><path id=\"DejaVuSans-2e\" transform=\"scale(.015625)\" d=\"m684 794h660v-794h-660v794z\"/></defs><use xlink:href=\"#DejaVuSans-2212\"/><use x=\"83.789062\" xlink:href=\"#DejaVuSans-30\"/><use x=\"147.412109\" xlink:href=\"#DejaVuSans-2e\"/><use x=\"179.199219\" xlink:href=\"#DejaVuSans-35\"/></g><path d=\"m52.161 207.49h357.12\" clip-path=\"url(#a3af6d72ab7)\" fill=\"none\" stroke=\"#808080\" stroke-linecap=\"square\" stroke-opacity=\".1\" stroke-width=\".8\"/><use x=\"52.160938\" y=\"207.488972\" fill=\"#808080\" stroke=\"#808080\" stroke-width=\".8\" xlink:href=\"#f527461e03f\"/><g transform=\"translate(20.878 211.29) scale(.1 -.1)\" fill=\"#808080\"><use xlink:href=\"#DejaVuSans-2212\"/><use x=\"83.789062\" xlink:href=\"#DejaVuSans-30\"/><use x=\"147.412109\" xlink:href=\"#DejaVuSans-2e\"/><use x=\"179.199219\" xlink:href=\"#DejaVuSans-34\"/></g><path d=\"m52.161 165.35h357.12\" clip-path=\"url(#a3af6d72ab7)\" fill=\"none\" stroke=\"#808080\" stroke-linecap=\"square\" stroke-opacity=\".1\" stroke-width=\".8\"/><use x=\"52.160938\" y=\"165.35021\" fill=\"#808080\" stroke=\"#808080\" stroke-width=\".8\" xlink:href=\"#f527461e03f\"/><g transform=\"translate(20.878 169.15) scale(.1 -.1)\" fill=\"#808080\"><use xlink:href=\"#DejaVuSans-2212\"/><use x=\"83.789062\" xlink:href=\"#DejaVuSans-30\"/><use x=\"147.412109\" xlink:href=\"#DejaVuSans-2e\"/><use x=\"179.199219\" xlink:href=\"#DejaVuSans-33\"/></g><path d=\"m52.161 123.21h357.12\" clip-path=\"url(#a3af6d72ab7)\" fill=\"none\" stroke=\"#808080\" stroke-linecap=\"square\" stroke-opacity=\".1\" stroke-width=\".8\"/><use x=\"52.160938\" y=\"123.211447\" fill=\"#808080\" stroke=\"#808080\" stroke-width=\".8\" xlink:href=\"#f527461e03f\"/><g transform=\"translate(20.878 127.01) scale(.1 -.1)\" fill=\"#808080\"><use xlink:href=\"#DejaVuSans-2212\"/><use x=\"83.789062\" xlink:href=\"#DejaVuSans-30\"/><use x=\"147.412109\" xlink:href=\"#DejaVuSans-2e\"/><use x=\"179.199219\" xlink:href=\"#DejaVuSans-32\"/></g><path d=\"m52.161 81.073h357.12\" clip-path=\"url(#a3af6d72ab7)\" fill=\"none\" stroke=\"#808080\" stroke-linecap=\"square\" stroke-opacity=\".1\" stroke-width=\".8\"/><use x=\"52.160938\" y=\"81.072684\" fill=\"#808080\" stroke=\"#808080\" stroke-width=\".8\" xlink:href=\"#f527461e03f\"/><g transform=\"translate(20.878 84.872) scale(.1 -.1)\" fill=\"#808080\"><use xlink:href=\"#DejaVuSans-2212\"/><use x=\"83.789062\" xlink:href=\"#DejaVuSans-30\"/><use x=\"147.412109\" xlink:href=\"#DejaVuSans-2e\"/><use x=\"179.199219\" xlink:href=\"#DejaVuSans-31\"/></g><path d=\"m52.161 38.934h357.12\" clip-path=\"url(#a3af6d72ab7)\" fill=\"none\" stroke=\"#808080\" stroke-linecap=\"square\" stroke-opacity=\".1\" stroke-width=\".8\"/><use x=\"52.160938\" y=\"38.933921\" fill=\"#808080\" stroke=\"#808080\" stroke-width=\".8\" xlink:href=\"#f527461e03f\"/><g transform=\"translate(29.258 42.733) scale(.1 -.1)\" fill=\"#808080\"><use xlink:href=\"#DejaVuSans-30\"/><use x=\"63.623047\" xlink:href=\"#DejaVuSans-2e\"/><use x=\"95.410156\" xlink:href=\"#DejaVuSans-30\"/></g><defs><path id=\"fbfb5d5b693\" d=\"m0 0h-2\" stroke=\"#808080\" stroke-width=\".6\"/></defs><use x=\"52.160938\" y=\"283.338745\" fill=\"#808080\" stroke=\"#808080\" stroke-width=\".6\" xlink:href=\"#fbfb5d5b693\"/><use x=\"52.160938\" y=\"274.910993\" fill=\"#808080\" stroke=\"#808080\" stroke-width=\".6\" xlink:href=\"#fbfb5d5b693\"/><use x=\"52.160938\" y=\"266.48324\" fill=\"#808080\" stroke=\"#808080\" stroke-width=\".6\" xlink:href=\"#fbfb5d5b693\"/><use x=\"52.160938\" y=\"258.055488\" fill=\"#808080\" stroke=\"#808080\" stroke-width=\".6\" xlink:href=\"#fbfb5d5b693\"/><use x=\"52.160938\" y=\"241.199983\" fill=\"#808080\" stroke=\"#808080\" stroke-width=\".6\" xlink:href=\"#fbfb5d5b693\"/><use x=\"52.160938\" y=\"232.77223\" fill=\"#808080\" stroke=\"#808080\" stroke-width=\".6\" xlink:href=\"#fbfb5d5b693\"/><use x=\"52.160938\" y=\"224.344478\" fill=\"#808080\" stroke=\"#808080\" stroke-width=\".6\" xlink:href=\"#fbfb5d5b693\"/><use x=\"52.160938\" y=\"215.916725\" fill=\"#808080\" stroke=\"#808080\" stroke-width=\".6\" xlink:href=\"#fbfb5d5b693\"/><use x=\"52.160938\" y=\"199.06122\" fill=\"#808080\" stroke=\"#808080\" stroke-width=\".6\" xlink:href=\"#fbfb5d5b693\"/><use x=\"52.160938\" y=\"190.633467\" fill=\"#808080\" stroke=\"#808080\" stroke-width=\".6\" xlink:href=\"#fbfb5d5b693\"/><use x=\"52.160938\" y=\"182.205715\" fill=\"#808080\" stroke=\"#808080\" stroke-width=\".6\" xlink:href=\"#fbfb5d5b693\"/><use x=\"52.160938\" y=\"173.777962\" fill=\"#808080\" stroke=\"#808080\" stroke-width=\".6\" xlink:href=\"#fbfb5d5b693\"/><use x=\"52.160938\" y=\"156.922457\" fill=\"#808080\" stroke=\"#808080\" stroke-width=\".6\" xlink:href=\"#fbfb5d5b693\"/><use x=\"52.160938\" y=\"148.494705\" fill=\"#808080\" stroke=\"#808080\" stroke-width=\".6\" xlink:href=\"#fbfb5d5b693\"/><use x=\"52.160938\" y=\"140.066952\" fill=\"#808080\" stroke=\"#808080\" stroke-width=\".6\" xlink:href=\"#fbfb5d5b693\"/><use x=\"52.160938\" y=\"131.639199\" fill=\"#808080\" stroke=\"#808080\" stroke-width=\".6\" xlink:href=\"#fbfb5d5b693\"/><use x=\"52.160938\" y=\"114.783694\" fill=\"#808080\" stroke=\"#808080\" stroke-width=\".6\" xlink:href=\"#fbfb5d5b693\"/><use x=\"52.160938\" y=\"106.355942\" fill=\"#808080\" stroke=\"#808080\" stroke-width=\".6\" xlink:href=\"#fbfb5d5b693\"/><use x=\"52.160938\" y=\"97.928189\" fill=\"#808080\" stroke=\"#808080\" stroke-width=\".6\" xlink:href=\"#fbfb5d5b693\"/><use x=\"52.160938\" y=\"89.500437\" fill=\"#808080\" stroke=\"#808080\" stroke-width=\".6\" xlink:href=\"#fbfb5d5b693\"/><use x=\"52.160938\" y=\"72.644931\" fill=\"#808080\" stroke=\"#808080\" stroke-width=\".6\" xlink:href=\"#fbfb5d5b693\"/><use x=\"52.160938\" y=\"64.217179\" fill=\"#808080\" stroke=\"#808080\" stroke-width=\".6\" xlink:href=\"#fbfb5d5b693\"/><use x=\"52.160938\" y=\"55.789426\" fill=\"#808080\" stroke=\"#808080\" stroke-width=\".6\" xlink:href=\"#fbfb5d5b693\"/><use x=\"52.160938\" y=\"47.361674\" fill=\"#808080\" stroke=\"#808080\" stroke-width=\".6\" xlink:href=\"#fbfb5d5b693\"/><use x=\"52.160938\" y=\"30.506169\" fill=\"#808080\" stroke=\"#808080\" stroke-width=\".6\" xlink:href=\"#fbfb5d5b693\"/><g transform=\"translate(14.798 172.88) rotate(-90) scale(.1 -.1)\" fill=\"#808080\"><defs><path id=\"DejaVuSans-45\" transform=\"scale(.015625)\" d=\"m628 4666h2950v-532h-2319v-1381h2222v-531h-2222v-1691h2375v-531h-3006v4666z\"/><path id=\"DejaVuSans-67\" transform=\"scale(.015625)\" d=\"m2906 1791q0 625-258 968-257 344-723 344-462 0-720-344-258-343-258-968 0-622 258-966t720-344q466 0 723 344 258 344 258 966zm575-1357q0-893-397-1329-396-436-1215-436-303 0-572 45t-522 139v559q253-137 500-202 247-66 503-66 566 0 847 295t281 892v285q-178-310-456-463t-666-153q-643 0-1037 490-394 491-394 1301 0 812 394 1302 394 491 1037 491 388 0 666-153t456-462v531h575v-3066z\"/><path id=\"DejaVuSans-79\" transform=\"scale(.015625)\" d=\"m2059-325q-243-625-475-815-231-191-618-191h-460v481h338q237 0 368 113 132 112 291 531l103 262-1415 3444h609l1094-2737 1094 2737h609l-1538-3825z\"/></defs><use xlink:href=\"#DejaVuSans-45\"/><use x=\"63.183594\" xlink:href=\"#DejaVuSans-6e\"/><use x=\"126.5625\" xlink:href=\"#DejaVuSans-65\"/><use x=\"188.085938\" xlink:href=\"#DejaVuSans-72\"/><use x=\"227.449219\" xlink:href=\"#DejaVuSans-67\"/><use x=\"290.925781\" xlink:href=\"#DejaVuSans-79\"/></g><path d=\"m68.394 34.414 8.1164 233 8.1164 7.0284 8.1164 0.73607 8.1164-1.0856 8.1164 0.56601 8.1164 0.22954 8.1164 0.30059 8.1164 0.10738 8.1164 0.061254 8.1164-0.36301 8.1164 1.3403 8.1164-0.22709 8.1164 0.037788 8.1164 0.015705 8.1164 0.011126 8.1164-0.072739 8.1164 0.025446 8.1164 0.037209 8.1164 0.026368 8.1164-0.015301 8.1164-0.005656 8.1164-0.02004 8.1164-0.013756 8.1164-0.010298 8.1164-7.25e-4 8.1164 7.3e-4 8.1164-0.001764 16.233 0.001515 8.1164 0.003115 8.1164-0.002085 8.1164-0.002726 16.233-0.004665 8.1164-0.001986 8.1164-0.001516 8.1164-0.001373 8.1164-0.001243 8.1164-7.96e-4 8.1164-5e-4\" clip-path=\"url(#a3af6d72ab7)\" fill=\"none\" stroke=\"#1f77b4\" stroke-linecap=\"square\" stroke-width=\"1.5\"/><path d=\"m52.161 280.95h357.12\" clip-path=\"url(#a3af6d72ab7)\" fill=\"none\" stroke=\"#000000\" stroke-linecap=\"square\" stroke-width=\"1.5\"/><path d=\"m52.161 288.43v-266.11\" fill=\"none\" stroke=\"#808080\" stroke-linecap=\"square\" stroke-width=\".8\"/><path d=\"m52.161 288.43h357.12\" fill=\"none\" stroke=\"#808080\" stroke-linecap=\"square\" stroke-width=\".8\"/><g transform=\"translate(145.13 16.318) scale(.12 -.12)\" fill=\"#808080\"><defs><path id=\"DejaVuSans-53\" transform=\"scale(.015625)\" d=\"m3425 4513v-616q-359 172-678 256-319 85-616 85-515 0-795-200t-280-569q0-310 186-468 186-157 705-254l381-78q706-135 1042-474t336-907q0-679-455-1029-454-350-1332-350-331 0-705 75-373 75-773 222v650q384-215 753-325 369-109 725-109 540 0 834 212 294 213 294 607 0 343-211 537t-692 291l-385 75q-706 140-1022 440-315 300-315 835 0 619 436 975t1201 356q329 0 669-60 341-59 697-177z\"/><path id=\"DejaVuSans-6d\" transform=\"scale(.015625)\" d=\"m3328 2828q216 388 516 572t706 184q547 0 844-383 297-382 297-1088v-2113h-578v2094q0 503-179 746-178 244-543 244-447 0-707-297-259-296-259-809v-1978h-578v2094q0 506-178 748t-550 242q-441 0-701-298-259-298-259-808v-1978h-578v3500h578v-544q197 322 472 475t653 153q382 0 649-194 267-193 395-562z\"/><path id=\"DejaVuSans-70\" transform=\"scale(.015625)\" d=\"m1159 525v-1856h-578v4831h578v-531q182 312 458 463 277 152 661 152 638 0 1036-506 399-506 399-1331t-399-1332q-398-506-1036-506-384 0-661 152-276 152-458 464zm1957 1222q0 634-261 995t-717 361q-457 0-718-361t-261-995 261-995 718-361q456 0 717 361t261 995z\"/><path id=\"DejaVuSans-6c\" transform=\"scale(.015625)\" d=\"m603 4863h575v-4863h-575v4863z\"/><path id=\"DejaVuSans-55\" transform=\"scale(.015625)\" d=\"m556 4666h635v-2835q0-750 271-1080 272-329 882-329 606 0 878 329 272 330 272 1080v2835h634v-2913q0-912-452-1378-451-466-1332-466-885 0-1337 466-451 466-451 1378v2913z\"/><path id=\"DejaVuSans-64\" transform=\"scale(.015625)\" d=\"m2906 2969v1894h575v-4863h-575v525q-181-312-458-464-276-152-664-152-634 0-1033 506-398 507-398 1332t398 1331q399 506 1033 506 388 0 664-152 277-151 458-463zm-1959-1222q0-634 261-995t717-361 718 361q263 361 263 995t-263 995q-262 361-718 361t-717-361-261-995z\"/><path id=\"DejaVuSans-43\" transform=\"scale(.015625)\" d=\"m4122 4306v-665q-319 297-680 443-361 147-767 147-800 0-1225-489t-425-1414q0-922 425-1411t1225-489q406 0 767 147t680 444v-660q-331-225-702-338-370-112-782-112-1060 0-1670 648-609 649-609 1771 0 1125 609 1773 610 649 1670 649 418 0 788-111 371-111 696-333z\"/><path id=\"DejaVuSans-76\" transform=\"scale(.015625)\" d=\"m191 3500h609l1094-2937 1094 2937h609l-1313-3500h-781l-1312 3500z\"/><path id=\"DejaVuSans-63\" transform=\"scale(.015625)\" d=\"m3122 3366v-538q-244 135-489 202t-495 67q-560 0-870-355-309-354-309-995t309-996q310-354 870-354 250 0 495 67t489 202v-532q-241-112-499-168-257-57-548-57-791 0-1257 497-465 497-465 1341 0 856 470 1346 471 491 1290 491 265 0 518-55 253-54 491-163z\"/></defs><use xlink:href=\"#DejaVuSans-53\"/><use x=\"63.476562\" xlink:href=\"#DejaVuSans-69\"/><use x=\"91.259766\" xlink:href=\"#DejaVuSans-6d\"/><use x=\"188.671875\" xlink:href=\"#DejaVuSans-70\"/><use x=\"252.148438\" xlink:href=\"#DejaVuSans-6c\"/><use x=\"279.931641\" xlink:href=\"#DejaVuSans-65\"/><use x=\"341.455078\" xlink:href=\"#DejaVuSans-20\"/><use x=\"373.242188\" xlink:href=\"#DejaVuSans-55\"/><use x=\"446.435547\" xlink:href=\"#DejaVuSans-70\"/><use x=\"509.912109\" xlink:href=\"#DejaVuSans-64\"/><use x=\"573.388672\" xlink:href=\"#DejaVuSans-61\"/><use x=\"634.667969\" xlink:href=\"#DejaVuSans-74\"/><use x=\"673.876953\" xlink:href=\"#DejaVuSans-65\"/><use x=\"735.400391\" xlink:href=\"#DejaVuSans-20\"/><use x=\"767.1875\" xlink:href=\"#DejaVuSans-43\"/><use x=\"837.011719\" xlink:href=\"#DejaVuSans-6f\"/><use x=\"898.193359\" xlink:href=\"#DejaVuSans-6e\"/><use x=\"961.572266\" xlink:href=\"#DejaVuSans-76\"/><use x=\"1020.751953\" xlink:href=\"#DejaVuSans-65\"/><use x=\"1082.275391\" xlink:href=\"#DejaVuSans-72\"/><use x=\"1121.638672\" xlink:href=\"#DejaVuSans-67\"/><use x=\"1185.115234\" xlink:href=\"#DejaVuSans-65\"/><use x=\"1246.638672\" xlink:href=\"#DejaVuSans-6e\"/><use x=\"1310.017578\" xlink:href=\"#DejaVuSans-63\"/><use x=\"1364.998047\" xlink:href=\"#DejaVuSans-65\"/></g><defs><clipPath id=\"a3af6d72ab7\"><rect x=\"52.161\" y=\"22.318\" width=\"357.12\" height=\"266.11\"/></clipPath></defs></svg>"
      ],
      "text/plain": [
       "<Figure size 640x480 with 1 Axes>"
      ]
     },
     "metadata": {
      "needs_background": "light"
     },
     "output_type": "display_data"
    }
   ],
   "source": [
    "from matplotlib import pyplot as plt\n",
    "\n",
    "with plt.style.context(qu.NEUTRAL_STYLE):\n",
    "    plt.plot(su.its, su.energies)\n",
    "    plt.axhline(energy_exact, color='black')\n",
    "    plt.title('Simple Update Convergence')\n",
    "    plt.ylabel('Energy')\n",
    "    plt.xlabel('Iteration');"
   ]
  },
  {
   "cell_type": "markdown",
   "id": "1397bac1-bf70-4306-a9e1-e37f16e794fb",
   "metadata": {
    "raw_mimetype": "text/restructuredtext"
   },
   "source": [
    "## Full Update\n",
    "\n",
    "Simple Update assumes a particular environment when truncating after each local application\n",
    "of the imaginary time evolution operators - a product of diagonal operators - while very cheap\n",
    "this can be innacurate. Full Update instead fits the new PEPS after each local evolution using\n",
    "the local tensors as well as a boundary contracted environment."
   ]
  },
  {
   "cell_type": "code",
   "execution_count": 29,
   "id": "e123fa65-7aad-4a33-b118-2d22e646207c",
   "metadata": {},
   "outputs": [],
   "source": [
    "# use the best SU state as the starting point for FU\n",
    "psi0 = su.best['state'].copy()"
   ]
  },
  {
   "cell_type": "markdown",
   "id": "8753aaf3-9832-4a8c-b574-36738b855333",
   "metadata": {},
   "source": [
    "The way these algorithms are written using\n",
    "[autoray](https://github.com/jcmgray/autoray) means that we can convert\n",
    "the backend arrays of our PEPS and Hamiltonian to e.g. GPU arrays and\n",
    "everything should still run smoothly.\n",
    "\n",
    "In the following (optional) cell, we convert to the arrays to single\n",
    "precision ``cupy`` arrays, since FU is a good candidate for GPU acceleration."
   ]
  },
  {
   "cell_type": "code",
   "execution_count": 30,
   "id": "fbc58c1d-95e3-4b2b-8973-ffb4354833bb",
   "metadata": {},
   "outputs": [],
   "source": [
    "def to_backend(x):\n",
    "    import cupy as cp\n",
    "    return cp.asarray(x).astype('float32')\n",
    "\n",
    "psi0.apply_to_arrays(to_backend)\n",
    "ham.apply_to_arrays(to_backend)"
   ]
  },
  {
   "cell_type": "code",
   "execution_count": 31,
   "id": "853d03fd-c7a3-49b7-8422-cd88243f0a92",
   "metadata": {},
   "outputs": [],
   "source": [
    "fu = qtn.FullUpdate(\n",
    "    psi0=psi0,\n",
    "    ham=ham,\n",
    "    # chi again is the boundary contraction max_bond\n",
    "    # now used for the envs as well as any energy calc\n",
    "    chi=32,\n",
    "    # we thus can cheaply compute the energy at every step\n",
    "    compute_energy_every=1,\n",
    "    compute_energy_per_site=True,\n",
    "    keep_best=True,\n",
    ")"
   ]
  },
  {
   "cell_type": "code",
   "execution_count": 32,
   "id": "8b532e15-cea2-49c1-804f-e8c09c744e47",
   "metadata": {},
   "outputs": [
    {
     "name": "stderr",
     "output_type": "stream",
     "text": [
      "n=50, tau=0.1000, energy~-0.571752: 100%|##########| 50/50 [01:10<00:00,  1.42s/it]\n"
     ]
    }
   ],
   "source": [
    "fu.evolve(50, tau=0.1)"
   ]
  },
  {
   "cell_type": "code",
   "execution_count": 33,
   "id": "4812105c-6fd8-4c3b-acef-9a541a34e912",
   "metadata": {},
   "outputs": [
    {
     "name": "stderr",
     "output_type": "stream",
     "text": [
      "n=100, tau=0.0300, energy~-0.573182: 100%|##########| 50/50 [00:57<00:00,  1.14s/it]\n"
     ]
    }
   ],
   "source": [
    "fu.evolve(50, tau=0.03)"
   ]
  },
  {
   "cell_type": "code",
   "execution_count": 34,
   "id": "2140e50f-794d-4ecb-a0cb-743cb1107361",
   "metadata": {},
   "outputs": [
    {
     "name": "stderr",
     "output_type": "stream",
     "text": [
      "n=150, tau=0.0100, energy~-0.573563: 100%|##########| 50/50 [00:55<00:00,  1.11s/it]\n"
     ]
    }
   ],
   "source": [
    "fu.evolve(50, tau=0.01)"
   ]
  },
  {
   "cell_type": "markdown",
   "id": "2b8f50b4-c1da-4b6f-9276-63ed765d66b8",
   "metadata": {},
   "source": [
    "We can see we have improved on the SU groundstate significantly."
   ]
  },
  {
   "cell_type": "code",
   "execution_count": 35,
   "id": "221441d4-bf28-4f23-a25c-ab051b47e3a4",
   "metadata": {},
   "outputs": [
    {
     "data": {
      "image/svg+xml": [
       "<?xml version=\"1.0\" encoding=\"UTF-8\"?><!DOCTYPE svg  PUBLIC '-//W3C//DTD SVG 1.1//EN'  'http://www.w3.org/Graphics/SVG/1.1/DTD/svg11.dtd'><svg width=\"429.21pt\" height=\"325.99pt\" version=\"1.1\" viewBox=\"0 0 429.21 325.99\" xmlns=\"http://www.w3.org/2000/svg\" xmlns:xlink=\"http://www.w3.org/1999/xlink\"><defs><style type=\"text/css\">*{stroke-linejoin: round; stroke-linecap: butt}</style></defs><path d=\"m0 325.99h429.21v-325.99h-429.21v325.99z\" fill=\"none\"/><path d=\"m64.886 288.43h357.12v-266.11h-357.12v266.11z\" fill=\"none\"/><path d=\"m81.119 288.43v-266.11\" clip-path=\"url(#bb0976b01e5)\" fill=\"none\" stroke=\"#808080\" stroke-linecap=\"square\" stroke-opacity=\".1\" stroke-width=\".8\"/><defs><path id=\"efbb3a1ef22\" d=\"m0 0v3.5\" stroke=\"#808080\" stroke-width=\".8\"/></defs><use x=\"81.118665\" y=\"288.430125\" fill=\"#808080\" stroke=\"#808080\" stroke-width=\".8\" xlink:href=\"#efbb3a1ef22\"/><g transform=\"translate(77.937 303.03) scale(.1 -.1)\" fill=\"#808080\"><defs><path id=\"DejaVuSans-30\" transform=\"scale(.015625)\" d=\"m2034 4250q-487 0-733-480-245-479-245-1442 0-959 245-1439 246-480 733-480 491 0 736 480 246 480 246 1439 0 963-246 1442-245 480-736 480zm0 500q785 0 1199-621 414-620 414-1801 0-1178-414-1799-414-620-1199-620-784 0-1198 620-414 621-414 1799 0 1181 414 1801 414 621 1198 621z\"/></defs><use xlink:href=\"#DejaVuSans-30\"/></g><path d=\"m124.41 288.43v-266.11\" clip-path=\"url(#bb0976b01e5)\" fill=\"none\" stroke=\"#808080\" stroke-linecap=\"square\" stroke-opacity=\".1\" stroke-width=\".8\"/><use x=\"124.405937\" y=\"288.430125\" fill=\"#808080\" stroke=\"#808080\" stroke-width=\".8\" xlink:href=\"#efbb3a1ef22\"/><g transform=\"translate(118.04 303.03) scale(.1 -.1)\" fill=\"#808080\"><defs><path id=\"DejaVuSans-32\" transform=\"scale(.015625)\" d=\"m1228 531h2203v-531h-2962v531q359 372 979 998 621 627 780 809 303 340 423 576 121 236 121 464 0 372-261 606-261 235-680 235-297 0-627-103-329-103-704-313v638q381 153 712 231 332 78 607 78 725 0 1156-363 431-362 431-968 0-288-108-546-107-257-392-607-78-91-497-524-418-433-1181-1211z\"/></defs><use xlink:href=\"#DejaVuSans-32\"/><use x=\"63.623047\" xlink:href=\"#DejaVuSans-30\"/></g><path d=\"m167.69 288.43v-266.11\" clip-path=\"url(#bb0976b01e5)\" fill=\"none\" stroke=\"#808080\" stroke-linecap=\"square\" stroke-opacity=\".1\" stroke-width=\".8\"/><use x=\"167.69321\" y=\"288.430125\" fill=\"#808080\" stroke=\"#808080\" stroke-width=\".8\" xlink:href=\"#efbb3a1ef22\"/><g transform=\"translate(161.33 303.03) scale(.1 -.1)\" fill=\"#808080\"><defs><path id=\"DejaVuSans-34\" transform=\"scale(.015625)\" d=\"m2419 4116-1594-2491h1594v2491zm-166 550h794v-3041h666v-525h-666v-1100h-628v1100h-2106v609l1940 2957z\"/></defs><use xlink:href=\"#DejaVuSans-34\"/><use x=\"63.623047\" xlink:href=\"#DejaVuSans-30\"/></g><path d=\"m210.98 288.43v-266.11\" clip-path=\"url(#bb0976b01e5)\" fill=\"none\" stroke=\"#808080\" stroke-linecap=\"square\" stroke-opacity=\".1\" stroke-width=\".8\"/><use x=\"210.980483\" y=\"288.430125\" fill=\"#808080\" stroke=\"#808080\" stroke-width=\".8\" xlink:href=\"#efbb3a1ef22\"/><g transform=\"translate(204.62 303.03) scale(.1 -.1)\" fill=\"#808080\"><defs><path id=\"DejaVuSans-36\" transform=\"scale(.015625)\" d=\"m2113 2584q-425 0-674-291-248-290-248-796 0-503 248-796 249-292 674-292t673 292q248 293 248 796 0 506-248 796-248 291-673 291zm1253 1979v-575q-238 112-480 171-242 60-480 60-625 0-955-422-329-422-376-1275 184 272 462 417 279 145 613 145 703 0 1111-427 408-426 408-1160 0-719-425-1154-425-434-1131-434-810 0-1238 620-428 621-428 1799 0 1106 525 1764t1409 658q238 0 480-47t505-140z\"/></defs><use xlink:href=\"#DejaVuSans-36\"/><use x=\"63.623047\" xlink:href=\"#DejaVuSans-30\"/></g><path d=\"m254.27 288.43v-266.11\" clip-path=\"url(#bb0976b01e5)\" fill=\"none\" stroke=\"#808080\" stroke-linecap=\"square\" stroke-opacity=\".1\" stroke-width=\".8\"/><use x=\"254.267756\" y=\"288.430125\" fill=\"#808080\" stroke=\"#808080\" stroke-width=\".8\" xlink:href=\"#efbb3a1ef22\"/><g transform=\"translate(247.91 303.03) scale(.1 -.1)\" fill=\"#808080\"><defs><path id=\"DejaVuSans-38\" transform=\"scale(.015625)\" d=\"m2034 2216q-450 0-708-241-257-241-257-662 0-422 257-663 258-241 708-241t709 242q260 243 260 662 0 421-258 662-257 241-711 241zm-631 268q-406 100-633 378-226 279-226 679 0 559 398 884 399 325 1092 325 697 0 1094-325t397-884q0-400-227-679-226-278-629-378 456-106 710-416 255-309 255-755 0-679-414-1042-414-362-1186-362-771 0-1186 362-414 363-414 1042 0 446 256 755 257 310 713 416zm-231 997q0-362 226-565 227-203 636-203 407 0 636 203 230 203 230 565 0 363-230 566-229 203-636 203-409 0-636-203-226-203-226-566z\"/></defs><use xlink:href=\"#DejaVuSans-38\"/><use x=\"63.623047\" xlink:href=\"#DejaVuSans-30\"/></g><path d=\"m297.56 288.43v-266.11\" clip-path=\"url(#bb0976b01e5)\" fill=\"none\" stroke=\"#808080\" stroke-linecap=\"square\" stroke-opacity=\".1\" stroke-width=\".8\"/><use x=\"297.555028\" y=\"288.430125\" fill=\"#808080\" stroke=\"#808080\" stroke-width=\".8\" xlink:href=\"#efbb3a1ef22\"/><g transform=\"translate(288.01 303.03) scale(.1 -.1)\" fill=\"#808080\"><defs><path id=\"DejaVuSans-31\" transform=\"scale(.015625)\" d=\"m794 531h1031v3560l-1122-225v575l1116 225h631v-4135h1031v-531h-2687v531z\"/></defs><use xlink:href=\"#DejaVuSans-31\"/><use x=\"63.623047\" xlink:href=\"#DejaVuSans-30\"/><use x=\"127.246094\" xlink:href=\"#DejaVuSans-30\"/></g><path d=\"m340.84 288.43v-266.11\" clip-path=\"url(#bb0976b01e5)\" fill=\"none\" stroke=\"#808080\" stroke-linecap=\"square\" stroke-opacity=\".1\" stroke-width=\".8\"/><use x=\"340.842301\" y=\"288.430125\" fill=\"#808080\" stroke=\"#808080\" stroke-width=\".8\" xlink:href=\"#efbb3a1ef22\"/><g transform=\"translate(331.3 303.03) scale(.1 -.1)\" fill=\"#808080\"><use xlink:href=\"#DejaVuSans-31\"/><use x=\"63.623047\" xlink:href=\"#DejaVuSans-32\"/><use x=\"127.246094\" xlink:href=\"#DejaVuSans-30\"/></g><path d=\"m384.13 288.43v-266.11\" clip-path=\"url(#bb0976b01e5)\" fill=\"none\" stroke=\"#808080\" stroke-linecap=\"square\" stroke-opacity=\".1\" stroke-width=\".8\"/><use x=\"384.129574\" y=\"288.430125\" fill=\"#808080\" stroke=\"#808080\" stroke-width=\".8\" xlink:href=\"#efbb3a1ef22\"/><g transform=\"translate(374.59 303.03) scale(.1 -.1)\" fill=\"#808080\"><use xlink:href=\"#DejaVuSans-31\"/><use x=\"63.623047\" xlink:href=\"#DejaVuSans-34\"/><use x=\"127.246094\" xlink:href=\"#DejaVuSans-30\"/></g><defs><path id=\"3faa76013a1\" d=\"m0 0v2\" stroke=\"#808080\" stroke-width=\".6\"/></defs><use x=\"70.296847\" y=\"288.430125\" fill=\"#808080\" stroke=\"#808080\" stroke-width=\".6\" xlink:href=\"#3faa76013a1\"/><use x=\"91.940483\" y=\"288.430125\" fill=\"#808080\" stroke=\"#808080\" stroke-width=\".6\" xlink:href=\"#3faa76013a1\"/><use x=\"102.762301\" y=\"288.430125\" fill=\"#808080\" stroke=\"#808080\" stroke-width=\".6\" xlink:href=\"#3faa76013a1\"/><use x=\"113.584119\" y=\"288.430125\" fill=\"#808080\" stroke=\"#808080\" stroke-width=\".6\" xlink:href=\"#3faa76013a1\"/><use x=\"135.227756\" y=\"288.430125\" fill=\"#808080\" stroke=\"#808080\" stroke-width=\".6\" xlink:href=\"#3faa76013a1\"/><use x=\"146.049574\" y=\"288.430125\" fill=\"#808080\" stroke=\"#808080\" stroke-width=\".6\" xlink:href=\"#3faa76013a1\"/><use x=\"156.871392\" y=\"288.430125\" fill=\"#808080\" stroke=\"#808080\" stroke-width=\".6\" xlink:href=\"#3faa76013a1\"/><use x=\"178.515028\" y=\"288.430125\" fill=\"#808080\" stroke=\"#808080\" stroke-width=\".6\" xlink:href=\"#3faa76013a1\"/><use x=\"189.336847\" y=\"288.430125\" fill=\"#808080\" stroke=\"#808080\" stroke-width=\".6\" xlink:href=\"#3faa76013a1\"/><use x=\"200.158665\" y=\"288.430125\" fill=\"#808080\" stroke=\"#808080\" stroke-width=\".6\" xlink:href=\"#3faa76013a1\"/><use x=\"221.802301\" y=\"288.430125\" fill=\"#808080\" stroke=\"#808080\" stroke-width=\".6\" xlink:href=\"#3faa76013a1\"/><use x=\"232.624119\" y=\"288.430125\" fill=\"#808080\" stroke=\"#808080\" stroke-width=\".6\" xlink:href=\"#3faa76013a1\"/><use x=\"243.445937\" y=\"288.430125\" fill=\"#808080\" stroke=\"#808080\" stroke-width=\".6\" xlink:href=\"#3faa76013a1\"/><use x=\"265.089574\" y=\"288.430125\" fill=\"#808080\" stroke=\"#808080\" stroke-width=\".6\" xlink:href=\"#3faa76013a1\"/><use x=\"275.911392\" y=\"288.430125\" fill=\"#808080\" stroke=\"#808080\" stroke-width=\".6\" xlink:href=\"#3faa76013a1\"/><use x=\"286.73321\" y=\"288.430125\" fill=\"#808080\" stroke=\"#808080\" stroke-width=\".6\" xlink:href=\"#3faa76013a1\"/><use x=\"308.376847\" y=\"288.430125\" fill=\"#808080\" stroke=\"#808080\" stroke-width=\".6\" xlink:href=\"#3faa76013a1\"/><use x=\"319.198665\" y=\"288.430125\" fill=\"#808080\" stroke=\"#808080\" stroke-width=\".6\" xlink:href=\"#3faa76013a1\"/><use x=\"330.020483\" y=\"288.430125\" fill=\"#808080\" stroke=\"#808080\" stroke-width=\".6\" xlink:href=\"#3faa76013a1\"/><use x=\"351.664119\" y=\"288.430125\" fill=\"#808080\" stroke=\"#808080\" stroke-width=\".6\" xlink:href=\"#3faa76013a1\"/><use x=\"362.485937\" y=\"288.430125\" fill=\"#808080\" stroke=\"#808080\" stroke-width=\".6\" xlink:href=\"#3faa76013a1\"/><use x=\"373.307756\" y=\"288.430125\" fill=\"#808080\" stroke=\"#808080\" stroke-width=\".6\" xlink:href=\"#3faa76013a1\"/><use x=\"394.951392\" y=\"288.430125\" fill=\"#808080\" stroke=\"#808080\" stroke-width=\".6\" xlink:href=\"#3faa76013a1\"/><use x=\"405.77321\" y=\"288.430125\" fill=\"#808080\" stroke=\"#808080\" stroke-width=\".6\" xlink:href=\"#3faa76013a1\"/><use x=\"416.595028\" y=\"288.430125\" fill=\"#808080\" stroke=\"#808080\" stroke-width=\".6\" xlink:href=\"#3faa76013a1\"/><g transform=\"translate(222.24 316.71) scale(.1 -.1)\" fill=\"#808080\"><defs><path id=\"DejaVuSans-49\" transform=\"scale(.015625)\" d=\"m628 4666h631v-4666h-631v4666z\"/><path id=\"DejaVuSans-74\" transform=\"scale(.015625)\" d=\"m1172 4494v-994h1184v-447h-1184v-1900q0-428 117-550t477-122h590v-481h-590q-666 0-919 248-253 249-253 905v1900h-422v447h422v994h578z\"/><path id=\"DejaVuSans-65\" transform=\"scale(.015625)\" d=\"m3597 1894v-281h-2644q38-594 358-905t892-311q331 0 642 81t618 244v-544q-310-131-635-200t-659-69q-838 0-1327 487-489 488-489 1320 0 859 464 1363 464 505 1252 505 706 0 1117-455 411-454 411-1235zm-575 169q-6 471-264 752-258 282-683 282-481 0-770-272t-333-766l2050 4z\"/><path id=\"DejaVuSans-72\" transform=\"scale(.015625)\" d=\"m2631 2963q-97 56-211 82-114 27-251 27-488 0-749-317t-261-911v-1844h-578v3500h578v-544q182 319 472 473 291 155 707 155 59 0 131-8 72-7 159-23l3-590z\"/><path id=\"DejaVuSans-61\" transform=\"scale(.015625)\" d=\"m2194 1759q-697 0-966-159t-269-544q0-306 202-486 202-179 548-179 479 0 768 339t289 901v128h-572zm1147 238v-1997h-575v531q-197-318-491-470t-719-152q-537 0-855 302-317 302-317 808 0 590 395 890 396 300 1180 300h807v57q0 397-261 614t-733 217q-300 0-585-72-284-72-546-216v532q315 122 612 182 297 61 578 61 760 0 1135-394 375-393 375-1193z\"/><path id=\"DejaVuSans-69\" transform=\"scale(.015625)\" d=\"m603 3500h575v-3500h-575v3500zm0 1363h575v-729h-575v729z\"/><path id=\"DejaVuSans-6f\" transform=\"scale(.015625)\" d=\"m1959 3097q-462 0-731-361t-269-989 267-989q268-361 733-361 460 0 728 362 269 363 269 988 0 622-269 986-268 364-728 364zm0 487q750 0 1178-488 429-487 429-1349 0-859-429-1349-428-489-1178-489-753 0-1180 489-426 490-426 1349 0 862 426 1349 427 488 1180 488z\"/><path id=\"DejaVuSans-6e\" transform=\"scale(.015625)\" d=\"m3513 2113v-2113h-575v2094q0 497-194 743-194 247-581 247-466 0-735-297-269-296-269-809v-1978h-578v3500h578v-544q207 316 486 472 280 156 646 156 603 0 912-373 310-373 310-1098z\"/></defs><use xlink:href=\"#DejaVuSans-49\"/><use x=\"29.492188\" xlink:href=\"#DejaVuSans-74\"/><use x=\"68.701172\" xlink:href=\"#DejaVuSans-65\"/><use x=\"130.224609\" xlink:href=\"#DejaVuSans-72\"/><use x=\"171.337891\" xlink:href=\"#DejaVuSans-61\"/><use x=\"232.617188\" xlink:href=\"#DejaVuSans-74\"/><use x=\"271.826172\" xlink:href=\"#DejaVuSans-69\"/><use x=\"299.609375\" xlink:href=\"#DejaVuSans-6f\"/><use x=\"360.791016\" xlink:href=\"#DejaVuSans-6e\"/></g><path d=\"m64.886 269.14h357.12\" clip-path=\"url(#bb0976b01e5)\" fill=\"none\" stroke=\"#808080\" stroke-linecap=\"square\" stroke-opacity=\".1\" stroke-width=\".8\"/><defs><path id=\"3bd16d54971\" d=\"m0 0h-3.5\" stroke=\"#808080\" stroke-width=\".8\"/></defs><use x=\"64.885937\" y=\"269.142078\" fill=\"#808080\" stroke=\"#808080\" stroke-width=\".8\" xlink:href=\"#3bd16d54971\"/><g transform=\"translate(20.878 272.94) scale(.1 -.1)\" fill=\"#808080\"><defs><path id=\"DejaVuSans-2212\" transform=\"scale(.015625)\" d=\"m678 2272h4006v-531h-4006v531z\"/><path id=\"DejaVuSans-2e\" transform=\"scale(.015625)\" d=\"m684 794h660v-794h-660v794z\"/><path id=\"DejaVuSans-35\" transform=\"scale(.015625)\" d=\"m691 4666h2478v-532h-1900v-1143q137 47 274 70 138 23 276 23 781 0 1237-428 457-428 457-1159 0-753-469-1171-469-417-1322-417-294 0-599 50-304 50-629 150v635q281-153 581-228t634-75q541 0 856 284 316 284 316 772 0 487-316 771-315 285-856 285-253 0-505-56-251-56-513-175v2344z\"/><path id=\"DejaVuSans-37\" transform=\"scale(.015625)\" d=\"m525 4666h3e3v-269l-1694-4397h-659l1594 4134h-2241v532z\"/></defs><use xlink:href=\"#DejaVuSans-2212\"/><use x=\"83.789062\" xlink:href=\"#DejaVuSans-30\"/><use x=\"147.412109\" xlink:href=\"#DejaVuSans-2e\"/><use x=\"179.199219\" xlink:href=\"#DejaVuSans-35\"/><use x=\"242.822266\" xlink:href=\"#DejaVuSans-37\"/><use x=\"306.445312\" xlink:href=\"#DejaVuSans-34\"/></g><path d=\"m64.886 224.94h357.12\" clip-path=\"url(#bb0976b01e5)\" fill=\"none\" stroke=\"#808080\" stroke-linecap=\"square\" stroke-opacity=\".1\" stroke-width=\".8\"/><use x=\"64.885937\" y=\"224.94338\" fill=\"#808080\" stroke=\"#808080\" stroke-width=\".8\" xlink:href=\"#3bd16d54971\"/><g transform=\"translate(20.878 228.74) scale(.1 -.1)\" fill=\"#808080\"><use xlink:href=\"#DejaVuSans-2212\"/><use x=\"83.789062\" xlink:href=\"#DejaVuSans-30\"/><use x=\"147.412109\" xlink:href=\"#DejaVuSans-2e\"/><use x=\"179.199219\" xlink:href=\"#DejaVuSans-35\"/><use x=\"242.822266\" xlink:href=\"#DejaVuSans-37\"/><use x=\"306.445312\" xlink:href=\"#DejaVuSans-32\"/></g><path d=\"m64.886 180.74h357.12\" clip-path=\"url(#bb0976b01e5)\" fill=\"none\" stroke=\"#808080\" stroke-linecap=\"square\" stroke-opacity=\".1\" stroke-width=\".8\"/><use x=\"64.885937\" y=\"180.744681\" fill=\"#808080\" stroke=\"#808080\" stroke-width=\".8\" xlink:href=\"#3bd16d54971\"/><g transform=\"translate(20.878 184.54) scale(.1 -.1)\" fill=\"#808080\"><use xlink:href=\"#DejaVuSans-2212\"/><use x=\"83.789062\" xlink:href=\"#DejaVuSans-30\"/><use x=\"147.412109\" xlink:href=\"#DejaVuSans-2e\"/><use x=\"179.199219\" xlink:href=\"#DejaVuSans-35\"/><use x=\"242.822266\" xlink:href=\"#DejaVuSans-37\"/><use x=\"306.445312\" xlink:href=\"#DejaVuSans-30\"/></g><path d=\"m64.886 136.55h357.12\" clip-path=\"url(#bb0976b01e5)\" fill=\"none\" stroke=\"#808080\" stroke-linecap=\"square\" stroke-opacity=\".1\" stroke-width=\".8\"/><use x=\"64.885937\" y=\"136.545983\" fill=\"#808080\" stroke=\"#808080\" stroke-width=\".8\" xlink:href=\"#3bd16d54971\"/><g transform=\"translate(20.878 140.35) scale(.1 -.1)\" fill=\"#808080\"><use xlink:href=\"#DejaVuSans-2212\"/><use x=\"83.789062\" xlink:href=\"#DejaVuSans-30\"/><use x=\"147.412109\" xlink:href=\"#DejaVuSans-2e\"/><use x=\"179.199219\" xlink:href=\"#DejaVuSans-35\"/><use x=\"242.822266\" xlink:href=\"#DejaVuSans-36\"/><use x=\"306.445312\" xlink:href=\"#DejaVuSans-38\"/></g><path d=\"m64.886 92.347h357.12\" clip-path=\"url(#bb0976b01e5)\" fill=\"none\" stroke=\"#808080\" stroke-linecap=\"square\" stroke-opacity=\".1\" stroke-width=\".8\"/><use x=\"64.885937\" y=\"92.347285\" fill=\"#808080\" stroke=\"#808080\" stroke-width=\".8\" xlink:href=\"#3bd16d54971\"/><g transform=\"translate(20.878 96.147) scale(.1 -.1)\" fill=\"#808080\"><use xlink:href=\"#DejaVuSans-2212\"/><use x=\"83.789062\" xlink:href=\"#DejaVuSans-30\"/><use x=\"147.412109\" xlink:href=\"#DejaVuSans-2e\"/><use x=\"179.199219\" xlink:href=\"#DejaVuSans-35\"/><use x=\"242.822266\" xlink:href=\"#DejaVuSans-36\"/><use x=\"306.445312\" xlink:href=\"#DejaVuSans-36\"/></g><path d=\"m64.886 48.149h357.12\" clip-path=\"url(#bb0976b01e5)\" fill=\"none\" stroke=\"#808080\" stroke-linecap=\"square\" stroke-opacity=\".1\" stroke-width=\".8\"/><use x=\"64.885937\" y=\"48.148586\" fill=\"#808080\" stroke=\"#808080\" stroke-width=\".8\" xlink:href=\"#3bd16d54971\"/><g transform=\"translate(20.878 51.948) scale(.1 -.1)\" fill=\"#808080\"><use xlink:href=\"#DejaVuSans-2212\"/><use x=\"83.789062\" xlink:href=\"#DejaVuSans-30\"/><use x=\"147.412109\" xlink:href=\"#DejaVuSans-2e\"/><use x=\"179.199219\" xlink:href=\"#DejaVuSans-35\"/><use x=\"242.822266\" xlink:href=\"#DejaVuSans-36\"/><use x=\"306.445312\" xlink:href=\"#DejaVuSans-34\"/></g><defs><path id=\"3c31674ca9e\" d=\"m0 0h-2\" stroke=\"#808080\" stroke-width=\".6\"/></defs><use x=\"64.885937\" y=\"280.191753\" fill=\"#808080\" stroke=\"#808080\" stroke-width=\".6\" xlink:href=\"#3c31674ca9e\"/><use x=\"64.885937\" y=\"258.092403\" fill=\"#808080\" stroke=\"#808080\" stroke-width=\".6\" xlink:href=\"#3c31674ca9e\"/><use x=\"64.885937\" y=\"247.042729\" fill=\"#808080\" stroke=\"#808080\" stroke-width=\".6\" xlink:href=\"#3c31674ca9e\"/><use x=\"64.885937\" y=\"235.993054\" fill=\"#808080\" stroke=\"#808080\" stroke-width=\".6\" xlink:href=\"#3c31674ca9e\"/><use x=\"64.885937\" y=\"213.893705\" fill=\"#808080\" stroke=\"#808080\" stroke-width=\".6\" xlink:href=\"#3c31674ca9e\"/><use x=\"64.885937\" y=\"202.844031\" fill=\"#808080\" stroke=\"#808080\" stroke-width=\".6\" xlink:href=\"#3c31674ca9e\"/><use x=\"64.885937\" y=\"191.794356\" fill=\"#808080\" stroke=\"#808080\" stroke-width=\".6\" xlink:href=\"#3c31674ca9e\"/><use x=\"64.885937\" y=\"169.695007\" fill=\"#808080\" stroke=\"#808080\" stroke-width=\".6\" xlink:href=\"#3c31674ca9e\"/><use x=\"64.885937\" y=\"158.645332\" fill=\"#808080\" stroke=\"#808080\" stroke-width=\".6\" xlink:href=\"#3c31674ca9e\"/><use x=\"64.885937\" y=\"147.595658\" fill=\"#808080\" stroke=\"#808080\" stroke-width=\".6\" xlink:href=\"#3c31674ca9e\"/><use x=\"64.885937\" y=\"125.496308\" fill=\"#808080\" stroke=\"#808080\" stroke-width=\".6\" xlink:href=\"#3c31674ca9e\"/><use x=\"64.885937\" y=\"114.446634\" fill=\"#808080\" stroke=\"#808080\" stroke-width=\".6\" xlink:href=\"#3c31674ca9e\"/><use x=\"64.885937\" y=\"103.396959\" fill=\"#808080\" stroke=\"#808080\" stroke-width=\".6\" xlink:href=\"#3c31674ca9e\"/><use x=\"64.885937\" y=\"81.29761\" fill=\"#808080\" stroke=\"#808080\" stroke-width=\".6\" xlink:href=\"#3c31674ca9e\"/><use x=\"64.885937\" y=\"70.247935\" fill=\"#808080\" stroke=\"#808080\" stroke-width=\".6\" xlink:href=\"#3c31674ca9e\"/><use x=\"64.885937\" y=\"59.198261\" fill=\"#808080\" stroke=\"#808080\" stroke-width=\".6\" xlink:href=\"#3c31674ca9e\"/><use x=\"64.885937\" y=\"37.098912\" fill=\"#808080\" stroke=\"#808080\" stroke-width=\".6\" xlink:href=\"#3c31674ca9e\"/><use x=\"64.885937\" y=\"26.049237\" fill=\"#808080\" stroke=\"#808080\" stroke-width=\".6\" xlink:href=\"#3c31674ca9e\"/><g transform=\"translate(14.798 172.88) rotate(-90) scale(.1 -.1)\" fill=\"#808080\"><defs><path id=\"DejaVuSans-45\" transform=\"scale(.015625)\" d=\"m628 4666h2950v-532h-2319v-1381h2222v-531h-2222v-1691h2375v-531h-3006v4666z\"/><path id=\"DejaVuSans-67\" transform=\"scale(.015625)\" d=\"m2906 1791q0 625-258 968-257 344-723 344-462 0-720-344-258-343-258-968 0-622 258-966t720-344q466 0 723 344 258 344 258 966zm575-1357q0-893-397-1329-396-436-1215-436-303 0-572 45t-522 139v559q253-137 500-202 247-66 503-66 566 0 847 295t281 892v285q-178-310-456-463t-666-153q-643 0-1037 490-394 491-394 1301 0 812 394 1302 394 491 1037 491 388 0 666-153t456-462v531h575v-3066z\"/><path id=\"DejaVuSans-79\" transform=\"scale(.015625)\" d=\"m2059-325q-243-625-475-815-231-191-618-191h-460v481h338q237 0 368 113 132 112 291 531l103 262-1415 3444h609l1094-2737 1094 2737h609l-1538-3825z\"/></defs><use xlink:href=\"#DejaVuSans-45\"/><use x=\"63.183594\" xlink:href=\"#DejaVuSans-6e\"/><use x=\"126.5625\" xlink:href=\"#DejaVuSans-65\"/><use x=\"188.085938\" xlink:href=\"#DejaVuSans-72\"/><use x=\"227.449219\" xlink:href=\"#DejaVuSans-67\"/><use x=\"290.925781\" xlink:href=\"#DejaVuSans-79\"/></g><path d=\"m81.119 34.414 2.1644 17.551 2.1644 13.15 2.1644 11.941 2.1644 13.124 4.3287 20.981 2.1644 12.311 2.1644 8.014 2.1644 4.4114 2.1644 10.074 2.1644 6.8812 2.1644 5.2636 2.1644 7.9284 2.1644 3.185 2.1644-1.005 2.1644 5.8103 2.1644-2.7372 4.3287 8.7661 2.1644 4.0188 4.3287 9.3694 2.1644-1.4898 2.1644 7.1999 2.1644 4.8816 2.1644 10.149 2.1644 0.21207 2.1644 5.1846 2.1644 3.131 2.1644 4.771 2.1644 1.5741 2.1644-3.16 2.1644-4.6775 2.1644 2.5686 4.3287 3.3892 2.1644-0.49923 2.1644 2.5857 2.1644 3.4459 2.1644-0.21998 2.1644 1.5069 2.1644 1.6558 2.1644 2.0404 2.1644-2.6305 2.1644-5.3703 2.1644 2.6871 2.1644-1.4858 2.1644-2.4316 2.1644-4.991 2.1644-4.007 2.1644 2.0759 2.1644 3.7343 2.1644 5.1016 2.1644 4.0834 2.1644 1.8599 2.1644 2.4263 4.3287 5.4612 2.1644 2.0575 2.1644 0.9866 2.1644-0.13831 2.1644 1.8533 2.1644 1.4134 2.1644 1.1657 2.1644 0.86542 2.1644-0.035565 8.6575 2.5712 4.3287-0.33194 2.1644 0.16334 2.1644 0.31745 2.1644-1.2461 2.1644-0.45312 4.3287 1.4898 2.1644 1.391 2.1644 0.40044 2.1644-0.1686 2.1644 0.54665 2.1644 0.8259 2.1644-1.5754 4.3287-1.1012 2.1644 0.089571 2.1644-1.2606 2.1644-1.005 2.1644-0.65598 2.1644-0.12777 4.3287 1.2514 2.1644 0.25818 2.1644-0.71525 2.1644 0.56114 2.1644-1.5148 2.1644-1.0749 2.1644-1.2329 2.1644 1.2751 2.1644-0.036882 4.3287 0.59012 2.1644 0.50713 15.151 1.3594 6.4931 0.97343 2.1644 0.23578 6.4931 1.0143 2.1644 0.18309 4.3287 0.031614 4.3287 0.59802 8.6575 0.90888 4.3287 0.36487 8.6575 0.28189 2.1644-0.15016 2.1644-0.032931 2.1644 0.088254 2.1644-0.14885 6.4931 0.53348 2.1644 0.1225 4.3287-0.035565 6.4931 0.41229 8.6575 0.627v0\" clip-path=\"url(#bb0976b01e5)\" fill=\"none\" stroke=\"#008000\" stroke-linecap=\"square\" stroke-width=\"1.5\"/><path d=\"m64.886 276.33h357.12\" clip-path=\"url(#bb0976b01e5)\" fill=\"none\" stroke=\"#000000\" stroke-linecap=\"square\" stroke-width=\"1.5\"/><path d=\"m64.886 288.43v-266.11\" fill=\"none\" stroke=\"#808080\" stroke-linecap=\"square\" stroke-width=\".8\"/><path d=\"m64.886 288.43h357.12\" fill=\"none\" stroke=\"#808080\" stroke-linecap=\"square\" stroke-width=\".8\"/><g transform=\"translate(168.08 16.318) scale(.12 -.12)\" fill=\"#808080\"><defs><path id=\"DejaVuSans-46\" transform=\"scale(.015625)\" d=\"m628 4666h2681v-532h-2050v-1375h1850v-531h-1850v-2228h-631v4666z\"/><path id=\"DejaVuSans-75\" transform=\"scale(.015625)\" d=\"m544 1381v2119h575v-2097q0-497 193-746 194-248 582-248 465 0 735 297 271 297 271 810v1984h575v-3500h-575v538q-209-319-486-474-276-155-642-155-603 0-916 375-312 375-312 1097zm1447 2203z\"/><path id=\"DejaVuSans-6c\" transform=\"scale(.015625)\" d=\"m603 4863h575v-4863h-575v4863z\"/><path id=\"DejaVuSans-55\" transform=\"scale(.015625)\" d=\"m556 4666h635v-2835q0-750 271-1080 272-329 882-329 606 0 878 329 272 330 272 1080v2835h634v-2913q0-912-452-1378-451-466-1332-466-885 0-1337 466-451 466-451 1378v2913z\"/><path id=\"DejaVuSans-70\" transform=\"scale(.015625)\" d=\"m1159 525v-1856h-578v4831h578v-531q182 312 458 463 277 152 661 152 638 0 1036-506 399-506 399-1331t-399-1332q-398-506-1036-506-384 0-661 152-276 152-458 464zm1957 1222q0 634-261 995t-717 361q-457 0-718-361t-261-995 261-995 718-361q456 0 717 361t261 995z\"/><path id=\"DejaVuSans-64\" transform=\"scale(.015625)\" d=\"m2906 2969v1894h575v-4863h-575v525q-181-312-458-464-276-152-664-152-634 0-1033 506-398 507-398 1332t398 1331q399 506 1033 506 388 0 664-152 277-151 458-463zm-1959-1222q0-634 261-995t717-361 718 361q263 361 263 995t-263 995q-262 361-718 361t-717-361-261-995z\"/><path id=\"DejaVuSans-43\" transform=\"scale(.015625)\" d=\"m4122 4306v-665q-319 297-680 443-361 147-767 147-800 0-1225-489t-425-1414q0-922 425-1411t1225-489q406 0 767 147t680 444v-660q-331-225-702-338-370-112-782-112-1060 0-1670 648-609 649-609 1771 0 1125 609 1773 610 649 1670 649 418 0 788-111 371-111 696-333z\"/><path id=\"DejaVuSans-76\" transform=\"scale(.015625)\" d=\"m191 3500h609l1094-2937 1094 2937h609l-1313-3500h-781l-1312 3500z\"/><path id=\"DejaVuSans-63\" transform=\"scale(.015625)\" d=\"m3122 3366v-538q-244 135-489 202t-495 67q-560 0-870-355-309-354-309-995t309-996q310-354 870-354 250 0 495 67t489 202v-532q-241-112-499-168-257-57-548-57-791 0-1257 497-465 497-465 1341 0 856 470 1346 471 491 1290 491 265 0 518-55 253-54 491-163z\"/></defs><use xlink:href=\"#DejaVuSans-46\"/><use x=\"52.019531\" xlink:href=\"#DejaVuSans-75\"/><use x=\"115.398438\" xlink:href=\"#DejaVuSans-6c\"/><use x=\"143.181641\" xlink:href=\"#DejaVuSans-6c\"/><use x=\"170.964844\" xlink:href=\"#DejaVuSans-20\"/><use x=\"202.751953\" xlink:href=\"#DejaVuSans-55\"/><use x=\"275.945312\" xlink:href=\"#DejaVuSans-70\"/><use x=\"339.421875\" xlink:href=\"#DejaVuSans-64\"/><use x=\"402.898438\" xlink:href=\"#DejaVuSans-61\"/><use x=\"464.177734\" xlink:href=\"#DejaVuSans-74\"/><use x=\"503.386719\" xlink:href=\"#DejaVuSans-65\"/><use x=\"564.910156\" xlink:href=\"#DejaVuSans-20\"/><use x=\"596.697266\" xlink:href=\"#DejaVuSans-43\"/><use x=\"666.521484\" xlink:href=\"#DejaVuSans-6f\"/><use x=\"727.703125\" xlink:href=\"#DejaVuSans-6e\"/><use x=\"791.082031\" xlink:href=\"#DejaVuSans-76\"/><use x=\"850.261719\" xlink:href=\"#DejaVuSans-65\"/><use x=\"911.785156\" xlink:href=\"#DejaVuSans-72\"/><use x=\"951.148438\" xlink:href=\"#DejaVuSans-67\"/><use x=\"1014.625\" xlink:href=\"#DejaVuSans-65\"/><use x=\"1076.148438\" xlink:href=\"#DejaVuSans-6e\"/><use x=\"1139.527344\" xlink:href=\"#DejaVuSans-63\"/><use x=\"1194.507812\" xlink:href=\"#DejaVuSans-65\"/></g><defs><clipPath id=\"bb0976b01e5\"><rect x=\"64.886\" y=\"22.318\" width=\"357.12\" height=\"266.11\"/></clipPath></defs></svg>"
      ],
      "text/plain": [
       "<Figure size 640x480 with 1 Axes>"
      ]
     },
     "metadata": {
      "needs_background": "light"
     },
     "output_type": "display_data"
    }
   ],
   "source": [
    "with plt.style.context(qu.NEUTRAL_STYLE):\n",
    "    plt.plot(fu.its, fu.energies, color='green')\n",
    "    plt.axhline(energy_exact, color='black')\n",
    "    plt.title('Full Update Convergence')\n",
    "    plt.ylabel('Energy')\n",
    "    plt.xlabel('Iteration');"
   ]
  },
  {
   "cell_type": "markdown",
   "id": "03305813-8d47-407e-81e4-00a9e3b6d9ee",
   "metadata": {},
   "source": [
    "Full Update has many options relating to the fitting of the imaginary\n",
    "time evolution gates, controlling tradeoff between efficiency\n",
    "and accuracy, you can view them like so:"
   ]
  },
  {
   "cell_type": "code",
   "execution_count": 36,
   "id": "7d7588de-7173-4764-99c1-590a7db3238a",
   "metadata": {},
   "outputs": [
    {
     "data": {
      "text/plain": [
       "{'tol': 1e-10,\n",
       " 'steps': 20,\n",
       " 'init_simple_guess': True,\n",
       " 'condition_tensors': True,\n",
       " 'condition_maintain_norms': True,\n",
       " 'als_dense': True,\n",
       " 'als_solver': 'solve',\n",
       " 'als_enforce_pos': False,\n",
       " 'als_enforce_pos_smudge': 1e-06,\n",
       " 'autodiff_backend': 'autograd',\n",
       " 'autodiff_optimizer': 'L-BFGS-B'}"
      ]
     },
     "execution_count": 36,
     "metadata": {},
     "output_type": "execute_result"
    }
   ],
   "source": [
    "fu.fit_opts"
   ]
  },
  {
   "cell_type": "markdown",
   "id": "e0827125-5059-4008-957d-94dc4f536501",
   "metadata": {},
   "source": [
    "For example, the following might be helpful to converge to very high accuracy:"
   ]
  },
  {
   "cell_type": "code",
   "execution_count": 37,
   "id": "c114839b-b8a4-4091-be95-71377f5e3dbe",
   "metadata": {},
   "outputs": [],
   "source": [
    "fu.fit_opts['als_enforce_pos'] = True"
   ]
  },
  {
   "cell_type": "markdown",
   "id": "1dd4e8ad-0276-4324-bae2-fd306783885a",
   "metadata": {
    "raw_mimetype": "text/restructuredtext"
   },
   "source": [
    "## Global Autodiff Optmization\n",
    "\n",
    "Because of the aforementioned array agnoticism that `quimb` tries to adopt, we can\n",
    "also perform nearly all 2D calculations using arrays/tensors from an autodiff library,\n",
    "to compute gradients and thus efficiently optimize entire tensor networks at once.\n",
    "The {class}`~quimb.tensor.optimize.TNOptimizer` object handles injecting autodiff\n",
    "arrays from one of several libraries currently):\n",
    "\n",
    "- [autograd](https://github.com/HIPS/autograd)\n",
    "- [jax](https://github.com/google/jax)\n",
    "- [tensorflow](https://www.tensorflow.org/)\n",
    "- [pytorch](https://pytorch.org/)\n",
    "\n",
    "then using the automatically generated gradients from any expression to feed to\n",
    "scipy's optimize function. Optimizing for a 2D PEPS energy is a great example\n",
    "of this.\n",
    "All we need to do is setup a function (a 'loss') that returns a real scalar\n",
    "to minimize."
   ]
  },
  {
   "cell_type": "code",
   "execution_count": 2,
   "id": "0ac26233-bf08-4c9d-b913-4a0a806f0d16",
   "metadata": {},
   "outputs": [],
   "source": [
    "Lx = Ly = 4\n",
    "psi0 = qtn.PEPS.rand(Lx, Ly, bond_dim=4)\n",
    "ham = qtn.LocalHam2D(Lx, Ly, H2=qu.ham_heis(2))\n",
    "\n",
    "def loss(psi, terms):\n",
    "    # the following functions simply scale the various tensors\n",
    "    #     for the sake of numerical stability\n",
    "    psi.balance_bonds_()\n",
    "    psi.equalize_norms_(1.0)\n",
    "\n",
    "    # then we just compute the energy of all the terms\n",
    "    return psi.compute_local_expectation(\n",
    "        terms,\n",
    "        max_bond=32,\n",
    "        cutoff=0.0,\n",
    "        normalized=True\n",
    "    ) / (Lx * Ly)"
   ]
  },
  {
   "cell_type": "markdown",
   "id": "f25a4078-572d-4ce2-9f45-cfd95992e5d8",
   "metadata": {
    "raw_mimetype": "text/restructuredtext"
   },
   "source": [
    "(Setting `cutoff=0.0` is required here so that the autodiff doesn't encounter\n",
    "bahavior/shapes dependent on actual array values.)\n",
    "Next we create a {class}`~quimb.tensor.optimize.TNOptimizer` object:"
   ]
  },
  {
   "cell_type": "code",
   "execution_count": 3,
   "id": "1467af0b-8383-4e14-85f5-9c94d780b064",
   "metadata": {},
   "outputs": [],
   "source": [
    "tnopt = qtn.TNOptimizer(\n",
    "    # initial TN to optimize\n",
    "    psi0,\n",
    "    # the function to minimize\n",
    "    loss_fn=loss,\n",
    "    # constant TNs, tensors, arrays\n",
    "    loss_constants={'terms': ham.terms},\n",
    "    # the library that computes the gradient\n",
    "    autodiff_backend='jax',\n",
    "    # the scipy optimizer that makes use of the gradient\n",
    "    optimizer='L-BFGS-B',\n",
    ")"
   ]
  },
  {
   "cell_type": "markdown",
   "id": "88192095-41b5-418b-b13a-1cfa5c8ef52a",
   "metadata": {},
   "source": [
    "The first step might be slow (e.g. with ``'jax'``) as it compiles the whole\n",
    "energy and gradient computation:"
   ]
  },
  {
   "cell_type": "code",
   "execution_count": 4,
   "id": "b7c594a1-fc11-44fc-a16c-22b47dce592d",
   "metadata": {},
   "outputs": [
    {
     "name": "stderr",
     "output_type": "stream",
     "text": [
      "-0.103467911482 [best: -0.103467911482] : : 2it [00:48, 24.42s/it]                     \n"
     ]
    },
    {
     "data": {
      "text/plain": [
       "<PEPS(tensors=16, indices=40, Lx=4, Ly=4, max_bond=4)>"
      ]
     },
     "execution_count": 4,
     "metadata": {},
     "output_type": "execute_result"
    }
   ],
   "source": [
    "tnopt.optimize(1)"
   ]
  },
  {
   "cell_type": "markdown",
   "id": "d445da62-17b6-4662-9188-c19557b446c2",
   "metadata": {},
   "source": [
    "Subsequent optimization steps should be very quick, especially on a GPU:"
   ]
  },
  {
   "cell_type": "code",
   "execution_count": 5,
   "id": "eac7101d-bf06-4242-88ff-94238aeaa4db",
   "metadata": {},
   "outputs": [
    {
     "name": "stderr",
     "output_type": "stream",
     "text": [
      "-0.574177205563 [best: -0.574177205563] :  20%|█▉        | 198/999 [00:32<02:12,  6.06it/s]\n"
     ]
    }
   ],
   "source": [
    "psi_opt = tnopt.optimize(999)"
   ]
  },
  {
   "cell_type": "markdown",
   "id": "d1ef4f46-1fa5-47f9-94de-d01fc16233d1",
   "metadata": {},
   "source": [
    "We can then check the convergence:"
   ]
  },
  {
   "cell_type": "code",
   "execution_count": 10,
   "id": "6bd2c48e-fd40-42ae-a7d4-a088d8402d87",
   "metadata": {},
   "outputs": [
    {
     "data": {
      "image/svg+xml": [
       "<?xml version=\"1.0\" encoding=\"UTF-8\"?><!DOCTYPE svg  PUBLIC '-//W3C//DTD SVG 1.1//EN'  'http://www.w3.org/Graphics/SVG/1.1/DTD/svg11.dtd'><svg width=\"429.21pt\" height=\"325.99pt\" version=\"1.1\" viewBox=\"0 0 429.21 325.99\" xmlns=\"http://www.w3.org/2000/svg\" xmlns:xlink=\"http://www.w3.org/1999/xlink\"><defs><style type=\"text/css\">*{stroke-linejoin: round; stroke-linecap: butt}</style></defs><path d=\"m0 325.99h429.21v-325.99h-429.21v325.99z\" fill=\"none\"/><path d=\"m64.886 288.43h357.12v-266.11h-357.12v266.11z\" fill=\"none\"/><path d=\"m81.119 288.43v-266.11\" clip-path=\"url(#59df0672126)\" fill=\"none\" stroke=\"#808080\" stroke-linecap=\"square\" stroke-opacity=\".1\" stroke-width=\".8\"/><defs><path id=\"9cf04bb55ea\" d=\"m0 0v3.5\" stroke=\"#808080\" stroke-width=\".8\"/></defs><use x=\"81.118665\" y=\"288.430125\" fill=\"#808080\" stroke=\"#808080\" stroke-width=\".8\" xlink:href=\"#9cf04bb55ea\"/><g transform=\"translate(77.937 303.03) scale(.1 -.1)\" fill=\"#808080\"><defs><path id=\"DejaVuSans-30\" transform=\"scale(.015625)\" d=\"m2034 4250q-487 0-733-480-245-479-245-1442 0-959 245-1439 246-480 733-480 491 0 736 480 246 480 246 1439 0 963-246 1442-245 480-736 480zm0 500q785 0 1199-621 414-620 414-1801 0-1178-414-1799-414-620-1199-620-784 0-1198 620-414 621-414 1799 0 1181 414 1801 414 621 1198 621z\"/></defs><use xlink:href=\"#DejaVuSans-30\"/></g><path d=\"m121.9 288.43v-266.11\" clip-path=\"url(#59df0672126)\" fill=\"none\" stroke=\"#808080\" stroke-linecap=\"square\" stroke-opacity=\".1\" stroke-width=\".8\"/><use x=\"121.904412\" y=\"288.430125\" fill=\"#808080\" stroke=\"#808080\" stroke-width=\".8\" xlink:href=\"#9cf04bb55ea\"/><g transform=\"translate(115.54 303.03) scale(.1 -.1)\" fill=\"#808080\"><defs><path id=\"DejaVuSans-32\" transform=\"scale(.015625)\" d=\"m1228 531h2203v-531h-2962v531q359 372 979 998 621 627 780 809 303 340 423 576 121 236 121 464 0 372-261 606-261 235-680 235-297 0-627-103-329-103-704-313v638q381 153 712 231 332 78 607 78 725 0 1156-363 431-362 431-968 0-288-108-546-107-257-392-607-78-91-497-524-418-433-1181-1211z\"/><path id=\"DejaVuSans-35\" transform=\"scale(.015625)\" d=\"m691 4666h2478v-532h-1900v-1143q137 47 274 70 138 23 276 23 781 0 1237-428 457-428 457-1159 0-753-469-1171-469-417-1322-417-294 0-599 50-304 50-629 150v635q281-153 581-228t634-75q541 0 856 284 316 284 316 772 0 487-316 771-315 285-856 285-253 0-505-56-251-56-513-175v2344z\"/></defs><use xlink:href=\"#DejaVuSans-32\"/><use x=\"63.623047\" xlink:href=\"#DejaVuSans-35\"/></g><path d=\"m162.69 288.43v-266.11\" clip-path=\"url(#59df0672126)\" fill=\"none\" stroke=\"#808080\" stroke-linecap=\"square\" stroke-opacity=\".1\" stroke-width=\".8\"/><use x=\"162.690159\" y=\"288.430125\" fill=\"#808080\" stroke=\"#808080\" stroke-width=\".8\" xlink:href=\"#9cf04bb55ea\"/><g transform=\"translate(156.33 303.03) scale(.1 -.1)\" fill=\"#808080\"><use xlink:href=\"#DejaVuSans-35\"/><use x=\"63.623047\" xlink:href=\"#DejaVuSans-30\"/></g><path d=\"m203.48 288.43v-266.11\" clip-path=\"url(#59df0672126)\" fill=\"none\" stroke=\"#808080\" stroke-linecap=\"square\" stroke-opacity=\".1\" stroke-width=\".8\"/><use x=\"203.475906\" y=\"288.430125\" fill=\"#808080\" stroke=\"#808080\" stroke-width=\".8\" xlink:href=\"#9cf04bb55ea\"/><g transform=\"translate(197.11 303.03) scale(.1 -.1)\" fill=\"#808080\"><defs><path id=\"DejaVuSans-37\" transform=\"scale(.015625)\" d=\"m525 4666h3e3v-269l-1694-4397h-659l1594 4134h-2241v532z\"/></defs><use xlink:href=\"#DejaVuSans-37\"/><use x=\"63.623047\" xlink:href=\"#DejaVuSans-35\"/></g><path d=\"m244.26 288.43v-266.11\" clip-path=\"url(#59df0672126)\" fill=\"none\" stroke=\"#808080\" stroke-linecap=\"square\" stroke-opacity=\".1\" stroke-width=\".8\"/><use x=\"244.261652\" y=\"288.430125\" fill=\"#808080\" stroke=\"#808080\" stroke-width=\".8\" xlink:href=\"#9cf04bb55ea\"/><g transform=\"translate(234.72 303.03) scale(.1 -.1)\" fill=\"#808080\"><defs><path id=\"DejaVuSans-31\" transform=\"scale(.015625)\" d=\"m794 531h1031v3560l-1122-225v575l1116 225h631v-4135h1031v-531h-2687v531z\"/></defs><use xlink:href=\"#DejaVuSans-31\"/><use x=\"63.623047\" xlink:href=\"#DejaVuSans-30\"/><use x=\"127.246094\" xlink:href=\"#DejaVuSans-30\"/></g><path d=\"m285.05 288.43v-266.11\" clip-path=\"url(#59df0672126)\" fill=\"none\" stroke=\"#808080\" stroke-linecap=\"square\" stroke-opacity=\".1\" stroke-width=\".8\"/><use x=\"285.047399\" y=\"288.430125\" fill=\"#808080\" stroke=\"#808080\" stroke-width=\".8\" xlink:href=\"#9cf04bb55ea\"/><g transform=\"translate(275.5 303.03) scale(.1 -.1)\" fill=\"#808080\"><use xlink:href=\"#DejaVuSans-31\"/><use x=\"63.623047\" xlink:href=\"#DejaVuSans-32\"/><use x=\"127.246094\" xlink:href=\"#DejaVuSans-35\"/></g><path d=\"m325.83 288.43v-266.11\" clip-path=\"url(#59df0672126)\" fill=\"none\" stroke=\"#808080\" stroke-linecap=\"square\" stroke-opacity=\".1\" stroke-width=\".8\"/><use x=\"325.833146\" y=\"288.430125\" fill=\"#808080\" stroke=\"#808080\" stroke-width=\".8\" xlink:href=\"#9cf04bb55ea\"/><g transform=\"translate(316.29 303.03) scale(.1 -.1)\" fill=\"#808080\"><use xlink:href=\"#DejaVuSans-31\"/><use x=\"63.623047\" xlink:href=\"#DejaVuSans-35\"/><use x=\"127.246094\" xlink:href=\"#DejaVuSans-30\"/></g><path d=\"m366.62 288.43v-266.11\" clip-path=\"url(#59df0672126)\" fill=\"none\" stroke=\"#808080\" stroke-linecap=\"square\" stroke-opacity=\".1\" stroke-width=\".8\"/><use x=\"366.618893\" y=\"288.430125\" fill=\"#808080\" stroke=\"#808080\" stroke-width=\".8\" xlink:href=\"#9cf04bb55ea\"/><g transform=\"translate(357.08 303.03) scale(.1 -.1)\" fill=\"#808080\"><use xlink:href=\"#DejaVuSans-31\"/><use x=\"63.623047\" xlink:href=\"#DejaVuSans-37\"/><use x=\"127.246094\" xlink:href=\"#DejaVuSans-35\"/></g><path d=\"m407.4 288.43v-266.11\" clip-path=\"url(#59df0672126)\" fill=\"none\" stroke=\"#808080\" stroke-linecap=\"square\" stroke-opacity=\".1\" stroke-width=\".8\"/><use x=\"407.40464\" y=\"288.430125\" fill=\"#808080\" stroke=\"#808080\" stroke-width=\".8\" xlink:href=\"#9cf04bb55ea\"/><g transform=\"translate(397.86 303.03) scale(.1 -.1)\" fill=\"#808080\"><use xlink:href=\"#DejaVuSans-32\"/><use x=\"63.623047\" xlink:href=\"#DejaVuSans-30\"/><use x=\"127.246094\" xlink:href=\"#DejaVuSans-30\"/></g><defs><path id=\"29938c6f0c0\" d=\"m0 0v2\" stroke=\"#808080\" stroke-width=\".6\"/></defs><use x=\"72.961515\" y=\"288.430125\" fill=\"#808080\" stroke=\"#808080\" stroke-width=\".6\" xlink:href=\"#29938c6f0c0\"/><use x=\"89.275814\" y=\"288.430125\" fill=\"#808080\" stroke=\"#808080\" stroke-width=\".6\" xlink:href=\"#29938c6f0c0\"/><use x=\"97.432964\" y=\"288.430125\" fill=\"#808080\" stroke=\"#808080\" stroke-width=\".6\" xlink:href=\"#29938c6f0c0\"/><use x=\"105.590113\" y=\"288.430125\" fill=\"#808080\" stroke=\"#808080\" stroke-width=\".6\" xlink:href=\"#29938c6f0c0\"/><use x=\"113.747262\" y=\"288.430125\" fill=\"#808080\" stroke=\"#808080\" stroke-width=\".6\" xlink:href=\"#29938c6f0c0\"/><use x=\"130.061561\" y=\"288.430125\" fill=\"#808080\" stroke=\"#808080\" stroke-width=\".6\" xlink:href=\"#29938c6f0c0\"/><use x=\"138.21871\" y=\"288.430125\" fill=\"#808080\" stroke=\"#808080\" stroke-width=\".6\" xlink:href=\"#29938c6f0c0\"/><use x=\"146.37586\" y=\"288.430125\" fill=\"#808080\" stroke=\"#808080\" stroke-width=\".6\" xlink:href=\"#29938c6f0c0\"/><use x=\"154.533009\" y=\"288.430125\" fill=\"#808080\" stroke=\"#808080\" stroke-width=\".6\" xlink:href=\"#29938c6f0c0\"/><use x=\"170.847308\" y=\"288.430125\" fill=\"#808080\" stroke=\"#808080\" stroke-width=\".6\" xlink:href=\"#29938c6f0c0\"/><use x=\"179.004457\" y=\"288.430125\" fill=\"#808080\" stroke=\"#808080\" stroke-width=\".6\" xlink:href=\"#29938c6f0c0\"/><use x=\"187.161607\" y=\"288.430125\" fill=\"#808080\" stroke=\"#808080\" stroke-width=\".6\" xlink:href=\"#29938c6f0c0\"/><use x=\"195.318756\" y=\"288.430125\" fill=\"#808080\" stroke=\"#808080\" stroke-width=\".6\" xlink:href=\"#29938c6f0c0\"/><use x=\"211.633055\" y=\"288.430125\" fill=\"#808080\" stroke=\"#808080\" stroke-width=\".6\" xlink:href=\"#29938c6f0c0\"/><use x=\"219.790204\" y=\"288.430125\" fill=\"#808080\" stroke=\"#808080\" stroke-width=\".6\" xlink:href=\"#29938c6f0c0\"/><use x=\"227.947354\" y=\"288.430125\" fill=\"#808080\" stroke=\"#808080\" stroke-width=\".6\" xlink:href=\"#29938c6f0c0\"/><use x=\"236.104503\" y=\"288.430125\" fill=\"#808080\" stroke=\"#808080\" stroke-width=\".6\" xlink:href=\"#29938c6f0c0\"/><use x=\"252.418802\" y=\"288.430125\" fill=\"#808080\" stroke=\"#808080\" stroke-width=\".6\" xlink:href=\"#29938c6f0c0\"/><use x=\"260.575951\" y=\"288.430125\" fill=\"#808080\" stroke=\"#808080\" stroke-width=\".6\" xlink:href=\"#29938c6f0c0\"/><use x=\"268.733101\" y=\"288.430125\" fill=\"#808080\" stroke=\"#808080\" stroke-width=\".6\" xlink:href=\"#29938c6f0c0\"/><use x=\"276.89025\" y=\"288.430125\" fill=\"#808080\" stroke=\"#808080\" stroke-width=\".6\" xlink:href=\"#29938c6f0c0\"/><use x=\"293.204549\" y=\"288.430125\" fill=\"#808080\" stroke=\"#808080\" stroke-width=\".6\" xlink:href=\"#29938c6f0c0\"/><use x=\"301.361698\" y=\"288.430125\" fill=\"#808080\" stroke=\"#808080\" stroke-width=\".6\" xlink:href=\"#29938c6f0c0\"/><use x=\"309.518848\" y=\"288.430125\" fill=\"#808080\" stroke=\"#808080\" stroke-width=\".6\" xlink:href=\"#29938c6f0c0\"/><use x=\"317.675997\" y=\"288.430125\" fill=\"#808080\" stroke=\"#808080\" stroke-width=\".6\" xlink:href=\"#29938c6f0c0\"/><use x=\"333.990296\" y=\"288.430125\" fill=\"#808080\" stroke=\"#808080\" stroke-width=\".6\" xlink:href=\"#29938c6f0c0\"/><use x=\"342.147445\" y=\"288.430125\" fill=\"#808080\" stroke=\"#808080\" stroke-width=\".6\" xlink:href=\"#29938c6f0c0\"/><use x=\"350.304594\" y=\"288.430125\" fill=\"#808080\" stroke=\"#808080\" stroke-width=\".6\" xlink:href=\"#29938c6f0c0\"/><use x=\"358.461744\" y=\"288.430125\" fill=\"#808080\" stroke=\"#808080\" stroke-width=\".6\" xlink:href=\"#29938c6f0c0\"/><use x=\"374.776043\" y=\"288.430125\" fill=\"#808080\" stroke=\"#808080\" stroke-width=\".6\" xlink:href=\"#29938c6f0c0\"/><use x=\"382.933192\" y=\"288.430125\" fill=\"#808080\" stroke=\"#808080\" stroke-width=\".6\" xlink:href=\"#29938c6f0c0\"/><use x=\"391.090341\" y=\"288.430125\" fill=\"#808080\" stroke=\"#808080\" stroke-width=\".6\" xlink:href=\"#29938c6f0c0\"/><use x=\"399.247491\" y=\"288.430125\" fill=\"#808080\" stroke=\"#808080\" stroke-width=\".6\" xlink:href=\"#29938c6f0c0\"/><use x=\"415.561789\" y=\"288.430125\" fill=\"#808080\" stroke=\"#808080\" stroke-width=\".6\" xlink:href=\"#29938c6f0c0\"/><g transform=\"translate(222.24 316.71) scale(.1 -.1)\" fill=\"#808080\"><defs><path id=\"DejaVuSans-49\" transform=\"scale(.015625)\" d=\"m628 4666h631v-4666h-631v4666z\"/><path id=\"DejaVuSans-74\" transform=\"scale(.015625)\" d=\"m1172 4494v-994h1184v-447h-1184v-1900q0-428 117-550t477-122h590v-481h-590q-666 0-919 248-253 249-253 905v1900h-422v447h422v994h578z\"/><path id=\"DejaVuSans-65\" transform=\"scale(.015625)\" d=\"m3597 1894v-281h-2644q38-594 358-905t892-311q331 0 642 81t618 244v-544q-310-131-635-200t-659-69q-838 0-1327 487-489 488-489 1320 0 859 464 1363 464 505 1252 505 706 0 1117-455 411-454 411-1235zm-575 169q-6 471-264 752-258 282-683 282-481 0-770-272t-333-766l2050 4z\"/><path id=\"DejaVuSans-72\" transform=\"scale(.015625)\" d=\"m2631 2963q-97 56-211 82-114 27-251 27-488 0-749-317t-261-911v-1844h-578v3500h578v-544q182 319 472 473 291 155 707 155 59 0 131-8 72-7 159-23l3-590z\"/><path id=\"DejaVuSans-61\" transform=\"scale(.015625)\" d=\"m2194 1759q-697 0-966-159t-269-544q0-306 202-486 202-179 548-179 479 0 768 339t289 901v128h-572zm1147 238v-1997h-575v531q-197-318-491-470t-719-152q-537 0-855 302-317 302-317 808 0 590 395 890 396 300 1180 300h807v57q0 397-261 614t-733 217q-300 0-585-72-284-72-546-216v532q315 122 612 182 297 61 578 61 760 0 1135-394 375-393 375-1193z\"/><path id=\"DejaVuSans-69\" transform=\"scale(.015625)\" d=\"m603 3500h575v-3500h-575v3500zm0 1363h575v-729h-575v729z\"/><path id=\"DejaVuSans-6f\" transform=\"scale(.015625)\" d=\"m1959 3097q-462 0-731-361t-269-989 267-989q268-361 733-361 460 0 728 362 269 363 269 988 0 622-269 986-268 364-728 364zm0 487q750 0 1178-488 429-487 429-1349 0-859-429-1349-428-489-1178-489-753 0-1180 489-426 490-426 1349 0 862 426 1349 427 488 1180 488z\"/><path id=\"DejaVuSans-6e\" transform=\"scale(.015625)\" d=\"m3513 2113v-2113h-575v2094q0 497-194 743-194 247-581 247-466 0-735-297-269-296-269-809v-1978h-578v3500h578v-544q207 316 486 472 280 156 646 156 603 0 912-373 310-373 310-1098z\"/></defs><use xlink:href=\"#DejaVuSans-49\"/><use x=\"29.492188\" xlink:href=\"#DejaVuSans-74\"/><use x=\"68.701172\" xlink:href=\"#DejaVuSans-65\"/><use x=\"130.224609\" xlink:href=\"#DejaVuSans-72\"/><use x=\"171.337891\" xlink:href=\"#DejaVuSans-61\"/><use x=\"232.617188\" xlink:href=\"#DejaVuSans-74\"/><use x=\"271.826172\" xlink:href=\"#DejaVuSans-69\"/><use x=\"299.609375\" xlink:href=\"#DejaVuSans-6f\"/><use x=\"360.791016\" xlink:href=\"#DejaVuSans-6e\"/></g><path d=\"m64.886 266.25h357.12\" clip-path=\"url(#59df0672126)\" fill=\"none\" stroke=\"#808080\" stroke-linecap=\"square\" stroke-opacity=\".1\" stroke-width=\".8\"/><defs><path id=\"d15329b0215\" d=\"m0 0h-3.5\" stroke=\"#808080\" stroke-width=\".8\"/></defs><use x=\"64.885937\" y=\"266.254125\" fill=\"#808080\" stroke=\"#808080\" stroke-width=\".8\" xlink:href=\"#d15329b0215\"/><g transform=\"translate(20.878 270.05) scale(.1 -.1)\" fill=\"#808080\"><defs><path id=\"DejaVuSans-2212\" transform=\"scale(.015625)\" d=\"m678 2272h4006v-531h-4006v531z\"/><path id=\"DejaVuSans-2e\" transform=\"scale(.015625)\" d=\"m684 794h660v-794h-660v794z\"/><path id=\"DejaVuSans-34\" transform=\"scale(.015625)\" d=\"m2419 4116-1594-2491h1594v2491zm-166 550h794v-3041h666v-525h-666v-1100h-628v1100h-2106v609l1940 2957z\"/></defs><use xlink:href=\"#DejaVuSans-2212\"/><use x=\"83.789062\" xlink:href=\"#DejaVuSans-30\"/><use x=\"147.412109\" xlink:href=\"#DejaVuSans-2e\"/><use x=\"179.199219\" xlink:href=\"#DejaVuSans-35\"/><use x=\"242.822266\" xlink:href=\"#DejaVuSans-37\"/><use x=\"306.445312\" xlink:href=\"#DejaVuSans-34\"/></g><path d=\"m64.886 221.9h357.12\" clip-path=\"url(#59df0672126)\" fill=\"none\" stroke=\"#808080\" stroke-linecap=\"square\" stroke-opacity=\".1\" stroke-width=\".8\"/><use x=\"64.885937\" y=\"221.902125\" fill=\"#808080\" stroke=\"#808080\" stroke-width=\".8\" xlink:href=\"#d15329b0215\"/><g transform=\"translate(20.878 225.7) scale(.1 -.1)\" fill=\"#808080\"><use xlink:href=\"#DejaVuSans-2212\"/><use x=\"83.789062\" xlink:href=\"#DejaVuSans-30\"/><use x=\"147.412109\" xlink:href=\"#DejaVuSans-2e\"/><use x=\"179.199219\" xlink:href=\"#DejaVuSans-35\"/><use x=\"242.822266\" xlink:href=\"#DejaVuSans-37\"/><use x=\"306.445312\" xlink:href=\"#DejaVuSans-32\"/></g><path d=\"m64.886 177.55h357.12\" clip-path=\"url(#59df0672126)\" fill=\"none\" stroke=\"#808080\" stroke-linecap=\"square\" stroke-opacity=\".1\" stroke-width=\".8\"/><use x=\"64.885937\" y=\"177.550125\" fill=\"#808080\" stroke=\"#808080\" stroke-width=\".8\" xlink:href=\"#d15329b0215\"/><g transform=\"translate(20.878 181.35) scale(.1 -.1)\" fill=\"#808080\"><use xlink:href=\"#DejaVuSans-2212\"/><use x=\"83.789062\" xlink:href=\"#DejaVuSans-30\"/><use x=\"147.412109\" xlink:href=\"#DejaVuSans-2e\"/><use x=\"179.199219\" xlink:href=\"#DejaVuSans-35\"/><use x=\"242.822266\" xlink:href=\"#DejaVuSans-37\"/><use x=\"306.445312\" xlink:href=\"#DejaVuSans-30\"/></g><path d=\"m64.886 133.2h357.12\" clip-path=\"url(#59df0672126)\" fill=\"none\" stroke=\"#808080\" stroke-linecap=\"square\" stroke-opacity=\".1\" stroke-width=\".8\"/><use x=\"64.885937\" y=\"133.198125\" fill=\"#808080\" stroke=\"#808080\" stroke-width=\".8\" xlink:href=\"#d15329b0215\"/><g transform=\"translate(20.878 137) scale(.1 -.1)\" fill=\"#808080\"><defs><path id=\"DejaVuSans-36\" transform=\"scale(.015625)\" d=\"m2113 2584q-425 0-674-291-248-290-248-796 0-503 248-796 249-292 674-292t673 292q248 293 248 796 0 506-248 796-248 291-673 291zm1253 1979v-575q-238 112-480 171-242 60-480 60-625 0-955-422-329-422-376-1275 184 272 462 417 279 145 613 145 703 0 1111-427 408-426 408-1160 0-719-425-1154-425-434-1131-434-810 0-1238 620-428 621-428 1799 0 1106 525 1764t1409 658q238 0 480-47t505-140z\"/><path id=\"DejaVuSans-38\" transform=\"scale(.015625)\" d=\"m2034 2216q-450 0-708-241-257-241-257-662 0-422 257-663 258-241 708-241t709 242q260 243 260 662 0 421-258 662-257 241-711 241zm-631 268q-406 100-633 378-226 279-226 679 0 559 398 884 399 325 1092 325 697 0 1094-325t397-884q0-400-227-679-226-278-629-378 456-106 710-416 255-309 255-755 0-679-414-1042-414-362-1186-362-771 0-1186 362-414 363-414 1042 0 446 256 755 257 310 713 416zm-231 997q0-362 226-565 227-203 636-203 407 0 636 203 230 203 230 565 0 363-230 566-229 203-636 203-409 0-636-203-226-203-226-566z\"/></defs><use xlink:href=\"#DejaVuSans-2212\"/><use x=\"83.789062\" xlink:href=\"#DejaVuSans-30\"/><use x=\"147.412109\" xlink:href=\"#DejaVuSans-2e\"/><use x=\"179.199219\" xlink:href=\"#DejaVuSans-35\"/><use x=\"242.822266\" xlink:href=\"#DejaVuSans-36\"/><use x=\"306.445312\" xlink:href=\"#DejaVuSans-38\"/></g><path d=\"m64.886 88.846h357.12\" clip-path=\"url(#59df0672126)\" fill=\"none\" stroke=\"#808080\" stroke-linecap=\"square\" stroke-opacity=\".1\" stroke-width=\".8\"/><use x=\"64.885937\" y=\"88.846125\" fill=\"#808080\" stroke=\"#808080\" stroke-width=\".8\" xlink:href=\"#d15329b0215\"/><g transform=\"translate(20.878 92.645) scale(.1 -.1)\" fill=\"#808080\"><use xlink:href=\"#DejaVuSans-2212\"/><use x=\"83.789062\" xlink:href=\"#DejaVuSans-30\"/><use x=\"147.412109\" xlink:href=\"#DejaVuSans-2e\"/><use x=\"179.199219\" xlink:href=\"#DejaVuSans-35\"/><use x=\"242.822266\" xlink:href=\"#DejaVuSans-36\"/><use x=\"306.445312\" xlink:href=\"#DejaVuSans-36\"/></g><path d=\"m64.886 44.494h357.12\" clip-path=\"url(#59df0672126)\" fill=\"none\" stroke=\"#808080\" stroke-linecap=\"square\" stroke-opacity=\".1\" stroke-width=\".8\"/><use x=\"64.885937\" y=\"44.494125\" fill=\"#808080\" stroke=\"#808080\" stroke-width=\".8\" xlink:href=\"#d15329b0215\"/><g transform=\"translate(20.878 48.293) scale(.1 -.1)\" fill=\"#808080\"><use xlink:href=\"#DejaVuSans-2212\"/><use x=\"83.789062\" xlink:href=\"#DejaVuSans-30\"/><use x=\"147.412109\" xlink:href=\"#DejaVuSans-2e\"/><use x=\"179.199219\" xlink:href=\"#DejaVuSans-35\"/><use x=\"242.822266\" xlink:href=\"#DejaVuSans-36\"/><use x=\"306.445312\" xlink:href=\"#DejaVuSans-34\"/></g><defs><path id=\"35245e0c1d9\" d=\"m0 0h-2\" stroke=\"#808080\" stroke-width=\".6\"/></defs><use x=\"64.885937\" y=\"277.342125\" fill=\"#808080\" stroke=\"#808080\" stroke-width=\".6\" xlink:href=\"#35245e0c1d9\"/><use x=\"64.885937\" y=\"255.166125\" fill=\"#808080\" stroke=\"#808080\" stroke-width=\".6\" xlink:href=\"#35245e0c1d9\"/><use x=\"64.885937\" y=\"244.078125\" fill=\"#808080\" stroke=\"#808080\" stroke-width=\".6\" xlink:href=\"#35245e0c1d9\"/><use x=\"64.885937\" y=\"232.990125\" fill=\"#808080\" stroke=\"#808080\" stroke-width=\".6\" xlink:href=\"#35245e0c1d9\"/><use x=\"64.885937\" y=\"210.814125\" fill=\"#808080\" stroke=\"#808080\" stroke-width=\".6\" xlink:href=\"#35245e0c1d9\"/><use x=\"64.885937\" y=\"199.726125\" fill=\"#808080\" stroke=\"#808080\" stroke-width=\".6\" xlink:href=\"#35245e0c1d9\"/><use x=\"64.885937\" y=\"188.638125\" fill=\"#808080\" stroke=\"#808080\" stroke-width=\".6\" xlink:href=\"#35245e0c1d9\"/><use x=\"64.885937\" y=\"166.462125\" fill=\"#808080\" stroke=\"#808080\" stroke-width=\".6\" xlink:href=\"#35245e0c1d9\"/><use x=\"64.885937\" y=\"155.374125\" fill=\"#808080\" stroke=\"#808080\" stroke-width=\".6\" xlink:href=\"#35245e0c1d9\"/><use x=\"64.885937\" y=\"144.286125\" fill=\"#808080\" stroke=\"#808080\" stroke-width=\".6\" xlink:href=\"#35245e0c1d9\"/><use x=\"64.885937\" y=\"122.110125\" fill=\"#808080\" stroke=\"#808080\" stroke-width=\".6\" xlink:href=\"#35245e0c1d9\"/><use x=\"64.885937\" y=\"111.022125\" fill=\"#808080\" stroke=\"#808080\" stroke-width=\".6\" xlink:href=\"#35245e0c1d9\"/><use x=\"64.885937\" y=\"99.934125\" fill=\"#808080\" stroke=\"#808080\" stroke-width=\".6\" xlink:href=\"#35245e0c1d9\"/><use x=\"64.885937\" y=\"77.758125\" fill=\"#808080\" stroke=\"#808080\" stroke-width=\".6\" xlink:href=\"#35245e0c1d9\"/><use x=\"64.885937\" y=\"66.670125\" fill=\"#808080\" stroke=\"#808080\" stroke-width=\".6\" xlink:href=\"#35245e0c1d9\"/><use x=\"64.885937\" y=\"55.582125\" fill=\"#808080\" stroke=\"#808080\" stroke-width=\".6\" xlink:href=\"#35245e0c1d9\"/><use x=\"64.885937\" y=\"33.406125\" fill=\"#808080\" stroke=\"#808080\" stroke-width=\".6\" xlink:href=\"#35245e0c1d9\"/><use x=\"64.885937\" y=\"22.318125\" fill=\"#808080\" stroke=\"#808080\" stroke-width=\".6\" xlink:href=\"#35245e0c1d9\"/><g transform=\"translate(14.798 172.88) rotate(-90) scale(.1 -.1)\" fill=\"#808080\"><defs><path id=\"DejaVuSans-45\" transform=\"scale(.015625)\" d=\"m628 4666h2950v-532h-2319v-1381h2222v-531h-2222v-1691h2375v-531h-3006v4666z\"/><path id=\"DejaVuSans-67\" transform=\"scale(.015625)\" d=\"m2906 1791q0 625-258 968-257 344-723 344-462 0-720-344-258-343-258-968 0-622 258-966t720-344q466 0 723 344 258 344 258 966zm575-1357q0-893-397-1329-396-436-1215-436-303 0-572 45t-522 139v559q253-137 500-202 247-66 503-66 566 0 847 295t281 892v285q-178-310-456-463t-666-153q-643 0-1037 490-394 491-394 1301 0 812 394 1302 394 491 1037 491 388 0 666-153t456-462v531h575v-3066z\"/><path id=\"DejaVuSans-79\" transform=\"scale(.015625)\" d=\"m2059-325q-243-625-475-815-231-191-618-191h-460v481h338q237 0 368 113 132 112 291 531l103 262-1415 3444h609l1094-2737 1094 2737h609l-1538-3825z\"/></defs><use xlink:href=\"#DejaVuSans-45\"/><use x=\"63.183594\" xlink:href=\"#DejaVuSans-6e\"/><use x=\"126.5625\" xlink:href=\"#DejaVuSans-65\"/><use x=\"188.085938\" xlink:href=\"#DejaVuSans-72\"/><use x=\"227.449219\" xlink:href=\"#DejaVuSans-67\"/><use x=\"290.925781\" xlink:href=\"#DejaVuSans-79\"/></g><path d=\"m119.64-1 2.2606 45.02 3.2629 69.533 1.6314 26.814 1.6314 19.848 3.2629 29.625 1.6314 9.7905 1.6314 7.6241 3.2629 10.274 1.6314 4.3527 1.6314 3.8504 1.6314 3.3203 1.6314 3.7645 1.6314 2.1426 3.2629 3.5014 3.2629 2.5749 1.6314 1.6496 1.6314 0.97284 1.6314 0.7825 1.6314 1.0521 1.6314 0.91204 1.6314 0.32913 1.6314 1.5478 1.6314 0.45338 6.5257 3.4182 1.6314 0.79836 3.2629 1.1169 1.6314 0.71509 3.2629 0.8552 1.6314 0.76796 6.5257 1.4526 3.2629 0.88164 8.1572 1.6192 3.2629 0.50625 6.5257 1.2028 8.1571 1.0852 1.6314 0.01454 4.8943 0.47717 6.5257 0.59216 6.5257 0.56308 9.7886 0.76267 14.683 0.86445 1.6314-0.044941 4.8943 0.26304 13.051 0.56044 53.837 1.6787 24.471 0.55515 44.049 0.74285v0\" clip-path=\"url(#59df0672126)\" fill=\"none\" stroke=\"#800080\" stroke-linecap=\"square\" stroke-width=\"1.5\"/><path d=\"m64.886 273.47h357.12\" clip-path=\"url(#59df0672126)\" fill=\"none\" stroke=\"#000000\" stroke-linecap=\"square\" stroke-width=\"1.5\"/><path d=\"m64.886 288.43v-266.11\" fill=\"none\" stroke=\"#808080\" stroke-linecap=\"square\" stroke-width=\".8\"/><path d=\"m64.886 288.43h357.12\" fill=\"none\" stroke=\"#808080\" stroke-linecap=\"square\" stroke-width=\".8\"/><g transform=\"translate(128.49 16.318) scale(.12 -.12)\" fill=\"#808080\"><defs><path id=\"DejaVuSans-47\" transform=\"scale(.015625)\" d=\"m3809 666v1253h-1031v519h1656v-2004q-365-259-806-392-440-133-940-133-1094 0-1712 639-617 640-617 1780 0 1144 617 1783 618 639 1712 639 456 0 867-113 411-112 758-331v-672q-350 297-744 447t-828 150q-857 0-1287-478-429-478-429-1425 0-944 429-1422 430-478 1287-478 334 0 596 58 263 58 472 180z\"/><path id=\"DejaVuSans-6c\" transform=\"scale(.015625)\" d=\"m603 4863h575v-4863h-575v4863z\"/><path id=\"DejaVuSans-62\" transform=\"scale(.015625)\" d=\"m3116 1747q0 634-261 995t-717 361q-457 0-718-361t-261-995 261-995 718-361q456 0 717 361t261 995zm-1957 1222q182 312 458 463 277 152 661 152 638 0 1036-506 399-506 399-1331t-399-1332q-398-506-1036-506-384 0-661 152-276 152-458 464v-525h-578v4863h578v-1894z\"/><path id=\"DejaVuSans-41\" transform=\"scale(.015625)\" d=\"m2188 4044-857-2322h1716l-859 2322zm-357 622h716l1778-4666h-656l-425 1197h-2103l-425-1197h-666l1781 4666z\"/><path id=\"DejaVuSans-75\" transform=\"scale(.015625)\" d=\"m544 1381v2119h575v-2097q0-497 193-746 194-248 582-248 465 0 735 297 271 297 271 810v1984h575v-3500h-575v538q-209-319-486-474-276-155-642-155-603 0-916 375-312 375-312 1097zm1447 2203z\"/><path id=\"DejaVuSans-64\" transform=\"scale(.015625)\" d=\"m2906 2969v1894h575v-4863h-575v525q-181-312-458-464-276-152-664-152-634 0-1033 506-398 507-398 1332t398 1331q399 506 1033 506 388 0 664-152 277-151 458-463zm-1959-1222q0-634 261-995t717-361 718 361q263 361 263 995t-263 995q-262 361-718 361t-717-361-261-995z\"/><path id=\"DejaVuSans-66\" transform=\"scale(.015625)\" d=\"m2375 4863v-479h-550q-309 0-430-125-120-125-120-450v-309h947v-447h-947v-3053h-578v3053h-550v447h550v244q0 584 272 851 272 268 862 268h544z\"/><path id=\"DejaVuSans-4f\" transform=\"scale(.015625)\" d=\"m2522 4238q-688 0-1093-513-404-512-404-1397 0-881 404-1394 405-512 1093-512 687 0 1089 512 402 513 402 1394 0 885-402 1397-402 513-1089 513zm0 512q981 0 1568-658 588-658 588-1764 0-1103-588-1761-587-658-1568-658-984 0-1574 656-589 657-589 1763t589 1764q590 658 1574 658z\"/><path id=\"DejaVuSans-70\" transform=\"scale(.015625)\" d=\"m1159 525v-1856h-578v4831h578v-531q182 312 458 463 277 152 661 152 638 0 1036-506 399-506 399-1331t-399-1332q-398-506-1036-506-384 0-661 152-276 152-458 464zm1957 1222q0 634-261 995t-717 361q-457 0-718-361t-261-995 261-995 718-361q456 0 717 361t261 995z\"/><path id=\"DejaVuSans-6d\" transform=\"scale(.015625)\" d=\"m3328 2828q216 388 516 572t706 184q547 0 844-383 297-382 297-1088v-2113h-578v2094q0 503-179 746-178 244-543 244-447 0-707-297-259-296-259-809v-1978h-578v2094q0 506-178 748t-550 242q-441 0-701-298-259-298-259-808v-1978h-578v3500h578v-544q197 322 472 475t653 153q382 0 649-194 267-193 395-562z\"/><path id=\"DejaVuSans-7a\" transform=\"scale(.015625)\" d=\"m353 3500h2731v-525l-2162-2516h2162v-459h-2809v525l2163 2516h-2085v459z\"/><path id=\"DejaVuSans-43\" transform=\"scale(.015625)\" d=\"m4122 4306v-665q-319 297-680 443-361 147-767 147-800 0-1225-489t-425-1414q0-922 425-1411t1225-489q406 0 767 147t680 444v-660q-331-225-702-338-370-112-782-112-1060 0-1670 648-609 649-609 1771 0 1125 609 1773 610 649 1670 649 418 0 788-111 371-111 696-333z\"/><path id=\"DejaVuSans-76\" transform=\"scale(.015625)\" d=\"m191 3500h609l1094-2937 1094 2937h609l-1313-3500h-781l-1312 3500z\"/><path id=\"DejaVuSans-63\" transform=\"scale(.015625)\" d=\"m3122 3366v-538q-244 135-489 202t-495 67q-560 0-870-355-309-354-309-995t309-996q310-354 870-354 250 0 495 67t489 202v-532q-241-112-499-168-257-57-548-57-791 0-1257 497-465 497-465 1341 0 856 470 1346 471 491 1290 491 265 0 518-55 253-54 491-163z\"/></defs><use xlink:href=\"#DejaVuSans-47\"/><use x=\"77.490234\" xlink:href=\"#DejaVuSans-6c\"/><use x=\"105.273438\" xlink:href=\"#DejaVuSans-6f\"/><use x=\"166.455078\" xlink:href=\"#DejaVuSans-62\"/><use x=\"229.931641\" xlink:href=\"#DejaVuSans-61\"/><use x=\"291.210938\" xlink:href=\"#DejaVuSans-6c\"/><use x=\"318.994141\" xlink:href=\"#DejaVuSans-20\"/><use x=\"350.78125\" xlink:href=\"#DejaVuSans-41\"/><use x=\"419.189453\" xlink:href=\"#DejaVuSans-75\"/><use x=\"482.568359\" xlink:href=\"#DejaVuSans-74\"/><use x=\"521.777344\" xlink:href=\"#DejaVuSans-6f\"/><use x=\"582.958984\" xlink:href=\"#DejaVuSans-64\"/><use x=\"646.435547\" xlink:href=\"#DejaVuSans-69\"/><use x=\"674.21875\" xlink:href=\"#DejaVuSans-66\"/><use x=\"709.423828\" xlink:href=\"#DejaVuSans-66\"/><use x=\"744.628906\" xlink:href=\"#DejaVuSans-20\"/><use x=\"776.416016\" xlink:href=\"#DejaVuSans-4f\"/><use x=\"855.126953\" xlink:href=\"#DejaVuSans-70\"/><use x=\"918.603516\" xlink:href=\"#DejaVuSans-74\"/><use x=\"957.8125\" xlink:href=\"#DejaVuSans-69\"/><use x=\"985.595703\" xlink:href=\"#DejaVuSans-6d\"/><use x=\"1083.007812\" xlink:href=\"#DejaVuSans-69\"/><use x=\"1110.791016\" xlink:href=\"#DejaVuSans-7a\"/><use x=\"1163.28125\" xlink:href=\"#DejaVuSans-65\"/><use x=\"1224.804688\" xlink:href=\"#DejaVuSans-20\"/><use x=\"1256.591797\" xlink:href=\"#DejaVuSans-43\"/><use x=\"1326.416016\" xlink:href=\"#DejaVuSans-6f\"/><use x=\"1387.597656\" xlink:href=\"#DejaVuSans-6e\"/><use x=\"1450.976562\" xlink:href=\"#DejaVuSans-76\"/><use x=\"1510.15625\" xlink:href=\"#DejaVuSans-65\"/><use x=\"1571.679688\" xlink:href=\"#DejaVuSans-72\"/><use x=\"1611.042969\" xlink:href=\"#DejaVuSans-67\"/><use x=\"1674.519531\" xlink:href=\"#DejaVuSans-65\"/><use x=\"1736.042969\" xlink:href=\"#DejaVuSans-6e\"/><use x=\"1799.421875\" xlink:href=\"#DejaVuSans-63\"/><use x=\"1854.402344\" xlink:href=\"#DejaVuSans-65\"/></g><defs><clipPath id=\"59df0672126\"><rect x=\"64.886\" y=\"22.318\" width=\"357.12\" height=\"266.11\"/></clipPath></defs></svg>"
      ],
      "text/plain": [
       "<Figure size 640x480 with 1 Axes>"
      ]
     },
     "metadata": {
      "needs_background": "light"
     },
     "output_type": "display_data"
    }
   ],
   "source": [
    "with plt.style.context(qu.NEUTRAL_STYLE):\n",
    "    plt.plot(tnopt.losses, color='purple')\n",
    "    plt.axhline(energy_exact, color='black')\n",
    "    plt.title('Global Autodiff Optimize Convergence')\n",
    "    plt.ylabel('Energy')\n",
    "    plt.ylim(-0.575, -0.563)\n",
    "    plt.xlabel('Iteration');"
   ]
  },
  {
   "cell_type": "markdown",
   "id": "ec703954-7510-4947-84e4-1bc81b93023e",
   "metadata": {
    "raw_mimetype": "text/restructuredtext"
   },
   "source": [
    "We can see that we have rapidly achieved a lower energy than Full Update.\n",
    "\n",
    ":::{warning}\n",
    "Global autodiff optimization can be **too powerful** for TN computations\n",
    "that involve approximate contraction in the sense that the optimization\n",
    "starts to exploit the small errors in the approximation to yield wildly\n",
    "low but innacurate energies. That is part of the reason for including\n",
    "the conditioning steps:\n",
    "\n",
    "```{code} python3\n",
    "psi.balance_bonds_()\n",
    "psi.equalize_norms_(1.0)\n",
    "```\n",
    "\n",
    "in our loss function as well as 'locally normalizing' the energies.\n",
    "It is also thus worth checking with a large bond dimension what our final\n",
    "energy is more accurately. We can see below it matches well here.\n",
    ":::"
   ]
  },
  {
   "cell_type": "code",
   "execution_count": 11,
   "id": "38e2c0f9-4262-4d54-ac83-bc02be0a612b",
   "metadata": {},
   "outputs": [
    {
     "data": {
      "text/plain": [
       "-0.5741719873138484"
      ]
     },
     "execution_count": 11,
     "metadata": {},
     "output_type": "execute_result"
    }
   ],
   "source": [
    "psi_opt.compute_local_expectation(\n",
    "    ham.terms, normalized=True, max_bond=100\n",
    ") / (Lx * Ly)"
   ]
  }
 ],
 "metadata": {
  "kernelspec": {
   "display_name": "Python 3",
   "language": "python",
   "name": "python3"
  },
  "language_info": {
   "codemirror_mode": {
    "name": "ipython",
    "version": 3
   },
   "file_extension": ".py",
   "mimetype": "text/x-python",
   "name": "python",
   "nbconvert_exporter": "python",
   "pygments_lexer": "ipython3",
   "version": "3"
  },
  "vscode": {
   "interpreter": {
    "hash": "6132c5c0a7d26b7c311caf7f55df83b87474b489906668e67e2d71a3b39ab16a"
   }
  }
 },
 "nbformat": 4,
 "nbformat_minor": 4
}
