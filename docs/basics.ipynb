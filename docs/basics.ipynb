{
 "cells": [
  {
   "cell_type": "markdown",
   "metadata": {
    "raw_mimetype": "text/restructuredtext"
   },
   "source": [
    "# Basics\n",
    "\n",
    "## Basic Representation\n",
    "\n",
    "States and operators in {py:mod}`quimb` are simply dense numpy arrays\n",
    "or sparse scipy matrices. All functions should directly work with these\n",
    "but the class {class}`~quimb.core.qarray` is also provided as a very\n",
    "thin subclass of {class}`numpy.ndarray` with a few helpful methods and\n",
    "attributes. The {py:func}`~quimb.core.quimbify` function (aliased to\n",
    "{py:func}`~quimb.core.qu`) can convert between the various representations."
   ]
  },
  {
   "cell_type": "code",
   "execution_count": 1,
   "metadata": {
    "raw_mimetype": "text/restructuredtext"
   },
   "outputs": [],
   "source": [
    "from quimb import *\n",
    "data = [1, 2j, -3]"
   ]
  },
  {
   "cell_type": "markdown",
   "metadata": {},
   "source": [
    "Kets are column vectors, i.e. with shape ``(d, 1)``:"
   ]
  },
  {
   "cell_type": "code",
   "execution_count": 2,
   "metadata": {},
   "outputs": [
    {
     "data": {
      "text/plain": [
       "[[ 1.+0.j]\n",
       " [ 0.+2.j]\n",
       " [-3.+0.j]]"
      ]
     },
     "execution_count": 2,
     "metadata": {},
     "output_type": "execute_result"
    }
   ],
   "source": [
    "qu(data, qtype='ket')"
   ]
  },
  {
   "cell_type": "markdown",
   "metadata": {},
   "source": [
    "The ``normalized=True`` option can be used to ensure a normalized output.\n",
    "\n",
    "Bras are row vectors, i.e. with shape ``(1, d)``:"
   ]
  },
  {
   "cell_type": "code",
   "execution_count": 3,
   "metadata": {},
   "outputs": [
    {
     "data": {
      "text/plain": [
       "[[ 1.-0.j  0.-2.j -3.-0.j]]"
      ]
     },
     "execution_count": 3,
     "metadata": {},
     "output_type": "execute_result"
    }
   ],
   "source": [
    "qu(data, qtype='bra')  # also conjugates the data"
   ]
  },
  {
   "cell_type": "markdown",
   "metadata": {},
   "source": [
    "And operators are square matrices, i.e. have shape ``(d, d)``:"
   ]
  },
  {
   "cell_type": "code",
   "execution_count": 4,
   "metadata": {},
   "outputs": [
    {
     "data": {
      "text/plain": [
       "[[ 1.+0.j  0.-2.j -3.+0.j]\n",
       " [ 0.+2.j  4.+0.j  0.-6.j]\n",
       " [-3.+0.j  0.+6.j  9.+0.j]]"
      ]
     },
     "execution_count": 4,
     "metadata": {},
     "output_type": "execute_result"
    }
   ],
   "source": [
    "qu(data, qtype='dop')"
   ]
  },
  {
   "cell_type": "markdown",
   "metadata": {},
   "source": [
    "Which can also be sparse:"
   ]
  },
  {
   "cell_type": "code",
   "execution_count": 5,
   "metadata": {},
   "outputs": [
    {
     "data": {
      "text/plain": [
       "<3x3 sparse matrix of type '<class 'numpy.complex128'>'\n",
       "\twith 9 stored elements in Compressed Sparse Row format>"
      ]
     },
     "execution_count": 5,
     "metadata": {},
     "output_type": "execute_result"
    }
   ],
   "source": [
    "qu(data, qtype='dop', sparse=True)"
   ]
  },
  {
   "cell_type": "markdown",
   "metadata": {
    "raw_mimetype": "text/restructuredtext"
   },
   "source": [
    "The sparse format can be specified with the `stype` keyword. The partial\n",
    "function versions of each of the above are also available:\n",
    "\n",
    "- {func}`~quimb.core.ket`\n",
    "- {func}`~quimb.core.bra`\n",
    "- {func}`~quimb.core.dop`\n",
    "- {func}`~quimb.core.sparse`\n",
    "\n",
    ":::{note}\n",
    "If a simple 1d-list is supplied and no `qtype` is given, `'ket'` is\n",
    "assumed.\n",
    ":::\n",
    "\n",
    "## Basic Operations\n",
    "\n",
    "The 'dagger', or hermitian conjugate, operation is performed with the `.H`\n",
    "attribute:"
   ]
  },
  {
   "cell_type": "code",
   "execution_count": 6,
   "metadata": {},
   "outputs": [
    {
     "data": {
      "text/plain": [
       "[[ 0.+0.j      ]\n",
       " [ 0.+0.707107j]\n",
       " [-0.-0.707107j]\n",
       " [ 0.+0.j      ]]"
      ]
     },
     "execution_count": 6,
     "metadata": {},
     "output_type": "execute_result"
    }
   ],
   "source": [
    "psi = 1.0j * bell_state('psi-')\n",
    "psi"
   ]
  },
  {
   "cell_type": "code",
   "execution_count": 7,
   "metadata": {},
   "outputs": [
    {
     "data": {
      "text/plain": [
       "[[ 0.-0.j        0.-0.707107j -0.+0.707107j  0.-0.j      ]]"
      ]
     },
     "execution_count": 7,
     "metadata": {},
     "output_type": "execute_result"
    }
   ],
   "source": [
    "psi.H"
   ]
  },
  {
   "cell_type": "markdown",
   "metadata": {
    "raw_mimetype": "text/restructuredtext"
   },
   "source": [
    "This is just the combination of `.conj()` and `.T`, but only available for\n",
    "{mod}`scipy.sparse` matrices  and {class}`~quimb.core.qarray` s (not\n",
    "{class}`numpy.ndarray` s).\n",
    "\n",
    "The product of two quantum objects is the dot or matrix product, which, since\n",
    "python 3.5, has been overloaded with the `@` symbol. Using it is recommended:"
   ]
  },
  {
   "cell_type": "code",
   "execution_count": 8,
   "metadata": {},
   "outputs": [
    {
     "data": {
      "text/plain": [
       "[[1.+0.j]\n",
       " [0.+0.j]]"
      ]
     },
     "execution_count": 8,
     "metadata": {},
     "output_type": "execute_result"
    }
   ],
   "source": [
    "psi = up()\n",
    "psi"
   ]
  },
  {
   "cell_type": "code",
   "execution_count": 9,
   "metadata": {},
   "outputs": [
    {
     "data": {
      "text/plain": [
       "[[1.+0.j]]"
      ]
     },
     "execution_count": 9,
     "metadata": {},
     "output_type": "execute_result"
    }
   ],
   "source": [
    "psi.H @ psi  # inner product"
   ]
  },
  {
   "cell_type": "code",
   "execution_count": 10,
   "metadata": {},
   "outputs": [
    {
     "data": {
      "text/plain": [
       "[[0.+0.j]\n",
       " [1.+0.j]]"
      ]
     },
     "execution_count": 10,
     "metadata": {},
     "output_type": "execute_result"
    }
   ],
   "source": [
    "X = pauli('X')\n",
    "X @ psi  # act as gate"
   ]
  },
  {
   "cell_type": "code",
   "execution_count": 11,
   "metadata": {},
   "outputs": [
    {
     "data": {
      "text/plain": [
       "[[0.+0.j]]"
      ]
     },
     "execution_count": 11,
     "metadata": {},
     "output_type": "execute_result"
    }
   ],
   "source": [
    "(psi.H @ X @ psi)  # operator expectation"
   ]
  },
  {
   "cell_type": "markdown",
   "metadata": {
    "raw_mimetype": "text/restructuredtext"
   },
   "source": [
    "Scalar expectation values might best be computed using the\n",
    "{func}`~quimb.core.expectation` function (aliased to\n",
    "{func}`~quimb.core.expec`) which dispatches to accelerated\n",
    "methods:"
   ]
  },
  {
   "cell_type": "code",
   "execution_count": 12,
   "metadata": {},
   "outputs": [
    {
     "data": {
      "text/plain": [
       "1.0"
      ]
     },
     "execution_count": 12,
     "metadata": {},
     "output_type": "execute_result"
    }
   ],
   "source": [
    "expec(psi, psi)"
   ]
  },
  {
   "cell_type": "code",
   "execution_count": 13,
   "metadata": {},
   "outputs": [
    {
     "data": {
      "text/plain": [
       "0j"
      ]
     },
     "execution_count": 13,
     "metadata": {},
     "output_type": "execute_result"
    }
   ],
   "source": [
    "expec(psi, X)"
   ]
  },
  {
   "cell_type": "markdown",
   "metadata": {},
   "source": [
    "Here's an example for a much larger (20 qubit), sparse operator expecation,\n",
    "which will be automatically parallelized:"
   ]
  },
  {
   "cell_type": "code",
   "execution_count": 14,
   "metadata": {},
   "outputs": [
    {
     "data": {
      "text/plain": [
       "<1048576x1048576 sparse matrix of type '<class 'numpy.complex128'>'\n",
       "\twith 11534268 stored elements in Compressed Sparse Row format>"
      ]
     },
     "execution_count": 14,
     "metadata": {},
     "output_type": "execute_result"
    }
   ],
   "source": [
    "psi = rand_ket(2**20)\n",
    "A = rand_herm(2**20, sparse=True) + speye(2**20)\n",
    "A"
   ]
  },
  {
   "cell_type": "code",
   "execution_count": 15,
   "metadata": {},
   "outputs": [
    {
     "data": {
      "text/plain": [
       "0.9998770131258168"
      ]
     },
     "execution_count": 15,
     "metadata": {},
     "output_type": "execute_result"
    }
   ],
   "source": [
    "expec(A, psi)  # should be ~ 1"
   ]
  },
  {
   "cell_type": "code",
   "execution_count": 16,
   "metadata": {},
   "outputs": [
    {
     "name": "stdout",
     "output_type": "stream",
     "text": [
      "59 ms ± 3.85 ms per loop (mean ± std. dev. of 7 runs, 10 loops each)\n"
     ]
    }
   ],
   "source": [
    "%%timeit\n",
    "expec(A, psi)"
   ]
  },
  {
   "cell_type": "markdown",
   "metadata": {
    "raw_mimetype": "text/restructuredtext"
   },
   "source": [
    "## Combining Objects - Tensor Products\n",
    "\n",
    "There are a number of ways to combine states and operators, i.e. tensoring them\n",
    "together.\n",
    "\n",
    "Functional form using {func}`~quimb.core.kron`:\n",
    "\n",
    "```python\n",
    ">>> kron(psi1, psi2, psi3, ...)\n",
    "...\n",
    "```\n",
    "\n",
    "This can also be done using the `&` overload on `qarray` and scipy matrices:\n",
    "\n",
    "```python\n",
    ">>> psi1 & psi2 & psi3\n",
    "...\n",
    "```\n",
    "\n",
    ":::{warning}\n",
    "When {mod}`quimb` is imported, it monkey patches the otherwise unused\n",
    "method of `&`/`__and__` of scipy sparse matrices to {func}`~quimb.core.kron`.\n",
    ":::\n",
    "\n",
    "Often one wants to sandwich an operator with many identities,\n",
    "{func}`~quimb.core.ikron` can be used for this:\n"
   ]
  },
  {
   "cell_type": "code",
   "execution_count": 17,
   "metadata": {},
   "outputs": [
    {
     "data": {
      "text/plain": [
       "(1024, 1024)"
      ]
     },
     "execution_count": 17,
     "metadata": {},
     "output_type": "execute_result"
    }
   ],
   "source": [
    "dims = [2] * 10  # overall space of 10 qubits\n",
    "X = pauli('X')\n",
    "IIIXXIIIII = ikron(X, dims, inds=[3, 4])  # act on 4th and 5th spin only\n",
    "IIIXXIIIII.shape"
   ]
  },
  {
   "cell_type": "markdown",
   "metadata": {
    "raw_mimetype": "text/restructuredtext"
   },
   "source": [
    "For more advanced tensor constructions, such as reversing and interleaving\n",
    "identities within operators {func}`~quimb.core.pkron` can be used:"
   ]
  },
  {
   "cell_type": "code",
   "execution_count": 18,
   "metadata": {},
   "outputs": [
    {
     "data": {
      "text/plain": [
       "[[ 0  1  0  0  0  0  0  0]\n",
       " [ 1  0  0  0  0  0  0  0]\n",
       " [ 0  0  0  1  0  0  0  0]\n",
       " [ 0  0  1  0  0  0  0  0]\n",
       " [ 0  0  0  0  0 -1  0  0]\n",
       " [ 0  0  0  0 -1  0  0  0]\n",
       " [ 0  0  0  0  0  0  0 -1]\n",
       " [ 0  0  0  0  0  0 -1  0]]"
      ]
     },
     "execution_count": 18,
     "metadata": {},
     "output_type": "execute_result"
    }
   ],
   "source": [
    "dims = [2] * 3\n",
    "XZ = pauli('X') & pauli('Z')\n",
    "ZIX = pkron(XZ, dims, inds=[2, 0])\n",
    "ZIX.real.astype(int)"
   ]
  },
  {
   "cell_type": "markdown",
   "metadata": {
    "raw_mimetype": "text/restructuredtext"
   },
   "source": [
    "`ZIX` would then act with Z on first spin, and X on 3rd.\n",
    "\n",
    "## Removing Objects - Partial Trace\n",
    "\n",
    "To remove, or ignore, certain parts of a quantum state the partial trace\n",
    "function {func}`~quimb.core.partial_trace` (aliased to {func}`~quimb.core.ptr`)\n",
    "is used. Here, the internal dimensions of a state must be supplied as well as\n",
    "the indicies of which of these subsystems to *keep*.\n",
    "\n",
    "For example, if we have a random system of 10 qubits (hilbert space of dimension\n",
    "`2**10`), and we want just the reduced density matrix describing the first and\n",
    "last spins:"
   ]
  },
  {
   "cell_type": "code",
   "execution_count": 19,
   "metadata": {},
   "outputs": [
    {
     "data": {
      "text/plain": [
       "[[ 0.256+0.j    -0.013-0.007j  0.02 +0.008j -0.014+0.007j]\n",
       " [-0.013+0.007j  0.263+0.j    -0.011+0.008j  0.016+0.004j]\n",
       " [ 0.02 -0.008j -0.011-0.008j  0.231+0.j     0.01 +0.008j]\n",
       " [-0.014-0.007j  0.016-0.004j  0.01 -0.008j  0.25 +0.j   ]]"
      ]
     },
     "execution_count": 19,
     "metadata": {},
     "output_type": "execute_result"
    }
   ],
   "source": [
    "dims = [2] * 10\n",
    "D = prod(dims)\n",
    "psi = rand_ket(D)\n",
    "rho_ab = ptr(psi, dims, [0, 9])\n",
    "rho_ab.round(3)  # probably pretty close to identity"
   ]
  },
  {
   "cell_type": "markdown",
   "metadata": {
    "raw_mimetype": "text/restructuredtext"
   },
   "source": [
    "{func}`~quimb.core.partial_trace` accepts dense or sparse, operators or vectors."
   ]
  }
 ],
 "metadata": {
  "celltoolbar": "Raw Cell Format",
  "kernelspec": {
   "display_name": "Python 3.10.8 ('numpy')",
   "language": "python",
   "name": "python3"
  },
  "language_info": {
   "codemirror_mode": {
    "name": "ipython",
    "version": 3
   },
   "file_extension": ".py",
   "mimetype": "text/x-python",
   "name": "python",
   "nbconvert_exporter": "python",
   "pygments_lexer": "ipython3",
   "version": "3.10.8 (main, Nov  4 2022, 13:48:29) [GCC 11.2.0]"
  },
  "vscode": {
   "interpreter": {
    "hash": "39c10650315d977fb13868ea1402e99f3e10e9885c2c202e692ae90b8995050d"
   }
  }
 },
 "nbformat": 4,
 "nbformat_minor": 2
}
