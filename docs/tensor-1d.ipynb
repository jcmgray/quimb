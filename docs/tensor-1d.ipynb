{
 "cells": [
  {
   "cell_type": "markdown",
   "id": "fbf7e57b-99e8-4d77-a076-e4fb6187198d",
   "metadata": {
    "raw_mimetype": "text/restructuredtext"
   },
   "source": [
    "(tensor-network-1d)=\n",
    "\n",
    "# 1D Algorithms\n",
    "\n",
    "Although `quimb.tensor` aims to be an interactive and general\n",
    "base for arbitrary tensor networks, it also has fast\n",
    "implementations of the following:\n",
    "\n",
    "Static:\n",
    "\n",
    "- 1-site {class}`~quimb.tensor.tensor_dmrg.DMRG1` (OBC and PBC)\n",
    "- 2-site {class}`~quimb.tensor.tensor_dmrg.DMRG2` (OBC and PBC)\n",
    "- 1-site {class}`~quimb.tensor.tensor_dmrg.DMRGX`\n",
    "\n",
    "Time Evolving:\n",
    "\n",
    "- {class}`~quimb.tensor.tensor_1d_tebd.TEBD`\n",
    "\n",
    "Two site DMRGX and TDVP slot into the same framework and should be\n",
    "easy to implement. All of these are based on 1D tensor networks, the\n",
    "primary representation of which is the *matrix product state*.\n",
    "\n",
    "## Matrix Product States\n",
    "\n",
    "The basic constructor for MPS is {class}`~quimb.tensor.tensor_1d.MatrixProductState`.\n",
    "This is a subclass of {class}`~quimb.tensor.tensor_core.TensorNetwork`,\n",
    "with a special tagging scheme (`MPS.site_tag_id`) and special index\n",
    "naming sceme (`MPS.site_ind_id`).\n",
    "It is also possible to instantiate a MPS directly from a dense vector using\n",
    "{meth}`~quimb.tensor.tensor_1d.MatrixProductState.from_dense`, though\n",
    "this is obviously not efficient for many sites.\n",
    "\n",
    "In the following, we just generate a random MPS, and demonstrate some basic functionality."
   ]
  },
  {
   "cell_type": "code",
   "execution_count": 1,
   "id": "a09fbeac-937c-4a10-a45f-10ef039501aa",
   "metadata": {
    "tags": []
   },
   "outputs": [],
   "source": [
    "%config InlineBackend.figure_formats = ['svg']\n",
    "import quimb.tensor as qtn"
   ]
  },
  {
   "cell_type": "code",
   "execution_count": 2,
   "id": "5605fc1f-ec6f-4a3c-8ed3-a9beba7b2f27",
   "metadata": {
    "tags": []
   },
   "outputs": [
    {
     "name": "stdout",
     "output_type": "stream",
     "text": [
      "Site tags: 'I{}', site inds: 'k{}'\n"
     ]
    }
   ],
   "source": [
    "p = qtn.MPS_rand_state(L=20, bond_dim=50)\n",
    "print(f\"Site tags: '{p.site_tag_id}', site inds: '{p.site_ind_id}'\")"
   ]
  },
  {
   "cell_type": "code",
   "execution_count": 3,
   "id": "15a60b40-e9fd-4977-abbe-c20f45ffae2e",
   "metadata": {
    "tags": []
   },
   "outputs": [
    {
     "data": {
      "text/html": [
       "<samp style='font-size: 12px;'><details><summary><b style=\"color: #d75692;\">MatrixProductState</b>(tensors=20, indices=39, L=20, max_bond=50)</summary><samp style='font-size: 12px;'><details><summary><b style=\"color: #e55471;\">Tensor</b>(shape=(<b style=\"color: #8acfcf;\">50</b>, <b style=\"color: #828fdd;\">2</b>), inds=[<b style=\"color: #dd79a4;\">_5f4cf2AAAAB</b>, <b style=\"color: #b1dc61;\">k0</b>], tags={<b style=\"color: #d2b137;\">I0</b>}),</summary>backend=<b style=\"color: #7fdd73;\">numpy</b>, dtype=<b style=\"color: #75d2c6;\">float64</b>, data=array([[ 0.11497926, -0.03301575],\n",
       "       [ 0.14287527,  0.09528585],\n",
       "       [ 0.00901042,  0.2894635 ],\n",
       "       [ 0.16597057, -0.21087768],\n",
       "       [ 0.06840515,  0.12352524],\n",
       "       [-0.22859016, -0.17975555],\n",
       "       [ 0.05865437, -0.06229958],\n",
       "       [-0.22543584,  0.3537363 ],\n",
       "       [-0.06192183,  0.28997241],\n",
       "       [ 0.26098978,  0.22142932],\n",
       "       [-0.0009746 ,  0.27116365],\n",
       "       [-0.15374373,  0.15679591],\n",
       "       [-0.20771046, -0.08438128],\n",
       "       [-0.25183218,  0.09779763],\n",
       "       [ 0.03309358,  0.25402115],\n",
       "       [ 0.1227192 , -0.03237239],\n",
       "       [ 0.02314386,  0.02195231],\n",
       "       [-0.14617185,  0.06040895],\n",
       "       [ 0.17080921,  0.20391648],\n",
       "       [-0.00561205,  0.0351818 ],\n",
       "       [-0.03369533,  0.00391024],\n",
       "       [-0.09223657, -0.26126876],\n",
       "       [ 0.14816727,  0.02891876],\n",
       "       [-0.3639576 ,  0.20622844],\n",
       "       [-0.23466335, -0.14550278],\n",
       "       [ 0.06237061,  0.05168888],\n",
       "       [ 0.26869372,  0.10526992],\n",
       "       [ 0.21123979,  0.01902058],\n",
       "       [ 0.23698972, -0.10852923],\n",
       "       [ 0.07679655, -0.18927693],\n",
       "       [ 0.06330614, -0.28509499],\n",
       "       [ 0.17135434,  0.18174649],\n",
       "       [-0.11352344,  0.16434296],\n",
       "       [ 0.01546874, -0.07752756],\n",
       "       [ 0.26005355,  0.15271884],\n",
       "       [-0.32407436, -0.21623951],\n",
       "       [ 0.05711339,  0.05123744],\n",
       "       [-0.10898201, -0.09929992],\n",
       "       [-0.11903359, -0.07486332],\n",
       "       [-0.02304992,  0.33368523],\n",
       "       [ 0.17590111,  0.11170404],\n",
       "       [-0.29728279, -0.3769343 ],\n",
       "       [ 0.05783727, -0.12450645],\n",
       "       [-0.09915666,  0.18961208],\n",
       "       [ 0.17556912, -0.140988  ],\n",
       "       [ 0.15249451,  0.13108079],\n",
       "       [ 0.3249881 , -0.12510249],\n",
       "       [ 0.02966852, -0.14102299],\n",
       "       [ 0.01672216, -0.31966811],\n",
       "       [-0.15577892, -0.25972279]])</details></samp><samp style='font-size: 12px;'><details><summary><b style=\"color: #e55471;\">Tensor</b>(shape=(<b style=\"color: #8acfcf;\">50</b>, <b style=\"color: #8acfcf;\">50</b>, <b style=\"color: #828fdd;\">2</b>), inds=[<b style=\"color: #dd79a4;\">_5f4cf2AAAAB</b>, <b style=\"color: #33daa8;\">_5f4cf2AAAAC</b>, <b style=\"color: #8aa5db;\">k1</b>], tags={<b style=\"color: #d19b78;\">I1</b>}),</summary>backend=<b style=\"color: #7fdd73;\">numpy</b>, dtype=<b style=\"color: #75d2c6;\">float64</b>, data=...</details></samp><samp style='font-size: 12px;'><details><summary><b style=\"color: #e55471;\">Tensor</b>(shape=(<b style=\"color: #8acfcf;\">50</b>, <b style=\"color: #8acfcf;\">50</b>, <b style=\"color: #828fdd;\">2</b>), inds=[<b style=\"color: #33daa8;\">_5f4cf2AAAAC</b>, <b style=\"color: #7ed08a;\">_5f4cf2AAAAD</b>, <b style=\"color: #df546d;\">k2</b>], tags={<b style=\"color: #dd5dd7;\">I2</b>}),</summary>backend=<b style=\"color: #7fdd73;\">numpy</b>, dtype=<b style=\"color: #75d2c6;\">float64</b>, data=...</details></samp><samp style='font-size: 12px;'><details><summary><b style=\"color: #e55471;\">Tensor</b>(shape=(<b style=\"color: #8acfcf;\">50</b>, <b style=\"color: #8acfcf;\">50</b>, <b style=\"color: #828fdd;\">2</b>), inds=[<b style=\"color: #7ed08a;\">_5f4cf2AAAAD</b>, <b style=\"color: #66d172;\">_5f4cf2AAAAE</b>, <b style=\"color: #4c7be1;\">k3</b>], tags={<b style=\"color: #dd65d9;\">I3</b>}),</summary>backend=<b style=\"color: #7fdd73;\">numpy</b>, dtype=<b style=\"color: #75d2c6;\">float64</b>, data=...</details></samp><samp style='font-size: 12px;'><details><summary><b style=\"color: #e55471;\">Tensor</b>(shape=(<b style=\"color: #8acfcf;\">50</b>, <b style=\"color: #8acfcf;\">50</b>, <b style=\"color: #828fdd;\">2</b>), inds=[<b style=\"color: #66d172;\">_5f4cf2AAAAE</b>, <b style=\"color: #5bd774;\">_5f4cf2AAAAF</b>, <b style=\"color: #462edc;\">k4</b>], tags={<b style=\"color: #998ad1;\">I4</b>}),</summary>backend=<b style=\"color: #7fdd73;\">numpy</b>, dtype=<b style=\"color: #75d2c6;\">float64</b>, data=...</details></samp><samp style='font-size: 12px;'><details><summary><b style=\"color: #e55471;\">Tensor</b>(shape=(<b style=\"color: #8acfcf;\">50</b>, <b style=\"color: #8acfcf;\">50</b>, <b style=\"color: #828fdd;\">2</b>), inds=[<b style=\"color: #5bd774;\">_5f4cf2AAAAF</b>, <b style=\"color: #e264ce;\">_5f4cf2AAAAG</b>, <b style=\"color: #85dfdf;\">k5</b>], tags={<b style=\"color: #97dddc;\">I5</b>}),</summary>backend=<b style=\"color: #7fdd73;\">numpy</b>, dtype=<b style=\"color: #75d2c6;\">float64</b>, data=...</details></samp><samp style='font-size: 12px;'><details><summary><b style=\"color: #e55471;\">Tensor</b>(shape=(<b style=\"color: #8acfcf;\">50</b>, <b style=\"color: #8acfcf;\">50</b>, <b style=\"color: #828fdd;\">2</b>), inds=[<b style=\"color: #e264ce;\">_5f4cf2AAAAG</b>, <b style=\"color: #a1dd71;\">_5f4cf2AAAAH</b>, <b style=\"color: #2cb7d3;\">k6</b>], tags={<b style=\"color: #b2de5f;\">I6</b>}),</summary>backend=<b style=\"color: #7fdd73;\">numpy</b>, dtype=<b style=\"color: #75d2c6;\">float64</b>, data=...</details></samp><samp style='font-size: 12px;'><details><summary><b style=\"color: #e55471;\">Tensor</b>(shape=(<b style=\"color: #8acfcf;\">50</b>, <b style=\"color: #8acfcf;\">50</b>, <b style=\"color: #828fdd;\">2</b>), inds=[<b style=\"color: #a1dd71;\">_5f4cf2AAAAH</b>, <b style=\"color: #cdb350;\">_5f4cf2AAAAI</b>, <b style=\"color: #53e08f;\">k7</b>], tags={<b style=\"color: #5582d6;\">I7</b>}),</summary>backend=<b style=\"color: #7fdd73;\">numpy</b>, dtype=<b style=\"color: #75d2c6;\">float64</b>, data=...</details></samp><samp style='font-size: 12px;'><details><summary><b style=\"color: #e55471;\">Tensor</b>(shape=(<b style=\"color: #8acfcf;\">50</b>, <b style=\"color: #8acfcf;\">50</b>, <b style=\"color: #828fdd;\">2</b>), inds=[<b style=\"color: #cdb350;\">_5f4cf2AAAAI</b>, <b style=\"color: #8ad555;\">_5f4cf2AAAAJ</b>, <b style=\"color: #7bcd9f;\">k8</b>], tags={<b style=\"color: #8a3dd8;\">I8</b>}),</summary>backend=<b style=\"color: #7fdd73;\">numpy</b>, dtype=<b style=\"color: #75d2c6;\">float64</b>, data=...</details></samp><samp style='font-size: 12px;'><details><summary><b style=\"color: #e55471;\">Tensor</b>(shape=(<b style=\"color: #8acfcf;\">50</b>, <b style=\"color: #8acfcf;\">50</b>, <b style=\"color: #828fdd;\">2</b>), inds=[<b style=\"color: #8ad555;\">_5f4cf2AAAAJ</b>, <b style=\"color: #d68be0;\">_5f4cf2AAAAK</b>, <b style=\"color: #cc70c1;\">k9</b>], tags={<b style=\"color: #d74979;\">I9</b>}),</summary>backend=<b style=\"color: #7fdd73;\">numpy</b>, dtype=<b style=\"color: #75d2c6;\">float64</b>, data=...</details></samp><samp style='font-size: 12px;'><details><summary><b style=\"color: #e55471;\">Tensor</b>(shape=(<b style=\"color: #8acfcf;\">50</b>, <b style=\"color: #8acfcf;\">50</b>, <b style=\"color: #828fdd;\">2</b>), inds=[<b style=\"color: #d68be0;\">_5f4cf2AAAAK</b>, <b style=\"color: #dd60a3;\">_5f4cf2AAAAL</b>, <b style=\"color: #3fcf58;\">k10</b>], tags={<b style=\"color: #4e2bd3;\">I10</b>}),</summary>backend=<b style=\"color: #7fdd73;\">numpy</b>, dtype=<b style=\"color: #75d2c6;\">float64</b>, data=...</details></samp><samp style='font-size: 12px;'><details><summary><b style=\"color: #e55471;\">Tensor</b>(shape=(<b style=\"color: #8acfcf;\">50</b>, <b style=\"color: #8acfcf;\">50</b>, <b style=\"color: #828fdd;\">2</b>), inds=[<b style=\"color: #dd60a3;\">_5f4cf2AAAAL</b>, <b style=\"color: #c8cd85;\">_5f4cf2AAAAM</b>, <b style=\"color: #6d6fcf;\">k11</b>], tags={<b style=\"color: #cc3988;\">I11</b>}),</summary>backend=<b style=\"color: #7fdd73;\">numpy</b>, dtype=<b style=\"color: #75d2c6;\">float64</b>, data=...</details></samp><samp style='font-size: 12px;'><details><summary><b style=\"color: #e55471;\">Tensor</b>(shape=(<b style=\"color: #8acfcf;\">50</b>, <b style=\"color: #8acfcf;\">50</b>, <b style=\"color: #828fdd;\">2</b>), inds=[<b style=\"color: #c8cd85;\">_5f4cf2AAAAM</b>, <b style=\"color: #825eda;\">_5f4cf2AAAAN</b>, <b style=\"color: #70c0d6;\">k12</b>], tags={<b style=\"color: #30a0d2;\">I12</b>}),</summary>backend=<b style=\"color: #7fdd73;\">numpy</b>, dtype=<b style=\"color: #75d2c6;\">float64</b>, data=...</details></samp><samp style='font-size: 12px;'><details><summary><b style=\"color: #e55471;\">Tensor</b>(shape=(<b style=\"color: #8acfcf;\">50</b>, <b style=\"color: #8acfcf;\">50</b>, <b style=\"color: #828fdd;\">2</b>), inds=[<b style=\"color: #825eda;\">_5f4cf2AAAAN</b>, <b style=\"color: #49e092;\">_5f4cf2AAAAO</b>, <b style=\"color: #67b9df;\">k13</b>], tags={<b style=\"color: #59aad4;\">I13</b>}),</summary>backend=<b style=\"color: #7fdd73;\">numpy</b>, dtype=<b style=\"color: #75d2c6;\">float64</b>, data=...</details></samp><samp style='font-size: 12px;'><details><summary><b style=\"color: #e55471;\">Tensor</b>(shape=(<b style=\"color: #8acfcf;\">50</b>, <b style=\"color: #8acfcf;\">50</b>, <b style=\"color: #828fdd;\">2</b>), inds=[<b style=\"color: #49e092;\">_5f4cf2AAAAO</b>, <b style=\"color: #d22c30;\">_5f4cf2AAAAP</b>, <b style=\"color: #d58d74;\">k14</b>], tags={<b style=\"color: #e4d13e;\">I14</b>}),</summary>backend=<b style=\"color: #7fdd73;\">numpy</b>, dtype=<b style=\"color: #75d2c6;\">float64</b>, data=...</details></samp><samp style='font-size: 12px;'><details><summary><b style=\"color: #e55471;\">Tensor</b>(shape=(<b style=\"color: #8acfcf;\">50</b>, <b style=\"color: #8acfcf;\">50</b>, <b style=\"color: #828fdd;\">2</b>), inds=[<b style=\"color: #d22c30;\">_5f4cf2AAAAP</b>, <b style=\"color: #84d64f;\">_5f4cf2AAAAQ</b>, <b style=\"color: #ce6937;\">k15</b>], tags={<b style=\"color: #d54955;\">I15</b>}),</summary>backend=<b style=\"color: #7fdd73;\">numpy</b>, dtype=<b style=\"color: #75d2c6;\">float64</b>, data=...</details></samp><samp style='font-size: 12px;'><details><summary><b style=\"color: #e55471;\">Tensor</b>(shape=(<b style=\"color: #8acfcf;\">50</b>, <b style=\"color: #8acfcf;\">50</b>, <b style=\"color: #828fdd;\">2</b>), inds=[<b style=\"color: #84d64f;\">_5f4cf2AAAAQ</b>, <b style=\"color: #5fbdd4;\">_5f4cf2AAAAR</b>, <b style=\"color: #dc53a2;\">k16</b>], tags={<b style=\"color: #d8af59;\">I16</b>}),</summary>backend=<b style=\"color: #7fdd73;\">numpy</b>, dtype=<b style=\"color: #75d2c6;\">float64</b>, data=...</details></samp><samp style='font-size: 12px;'><details><summary><b style=\"color: #e55471;\">Tensor</b>(shape=(<b style=\"color: #8acfcf;\">50</b>, <b style=\"color: #8acfcf;\">50</b>, <b style=\"color: #828fdd;\">2</b>), inds=[<b style=\"color: #5fbdd4;\">_5f4cf2AAAAR</b>, <b style=\"color: #62cf60;\">_5f4cf2AAAAS</b>, <b style=\"color: #d0b441;\">k17</b>], tags={<b style=\"color: #84a0d7;\">I17</b>}),</summary>backend=<b style=\"color: #7fdd73;\">numpy</b>, dtype=<b style=\"color: #75d2c6;\">float64</b>, data=...</details></samp><samp style='font-size: 12px;'><details><summary><b style=\"color: #e55471;\">Tensor</b>(shape=(<b style=\"color: #8acfcf;\">50</b>, <b style=\"color: #8acfcf;\">50</b>, <b style=\"color: #828fdd;\">2</b>), inds=[<b style=\"color: #62cf60;\">_5f4cf2AAAAS</b>, <b style=\"color: #cfa62e;\">_5f4cf2AAAAT</b>, <b style=\"color: #da44a5;\">k18</b>], tags={<b style=\"color: #d360b6;\">I18</b>}),</summary>backend=<b style=\"color: #7fdd73;\">numpy</b>, dtype=<b style=\"color: #75d2c6;\">float64</b>, data=...</details></samp><samp style='font-size: 12px;'><details><summary><b style=\"color: #e55471;\">Tensor</b>(shape=(<b style=\"color: #8acfcf;\">50</b>, <b style=\"color: #828fdd;\">2</b>), inds=[<b style=\"color: #cfa62e;\">_5f4cf2AAAAT</b>, <b style=\"color: #48d040;\">k19</b>], tags={<b style=\"color: #90e14b;\">I19</b>}),</summary>backend=<b style=\"color: #7fdd73;\">numpy</b>, dtype=<b style=\"color: #75d2c6;\">float64</b>, data=array([[-0.01865475,  0.01300301],\n",
       "       [ 0.02495254,  0.00097399],\n",
       "       [ 0.00848525, -0.00144896],\n",
       "       [-0.00096869, -0.03214158],\n",
       "       [ 0.03487788,  0.00254655],\n",
       "       [-0.00812462,  0.00177065],\n",
       "       [-0.03328353,  0.02973276],\n",
       "       [ 0.00054345,  0.03585691],\n",
       "       [ 0.01457306,  0.00283571],\n",
       "       [ 0.01791563,  0.00535112],\n",
       "       [ 0.01077653, -0.01792025],\n",
       "       [-0.03232937, -0.01825245],\n",
       "       [ 0.0166193 , -0.00704982],\n",
       "       [ 0.00776656, -0.00770383],\n",
       "       [ 0.01284421, -0.03308349],\n",
       "       [ 0.02487397,  0.03179995],\n",
       "       [ 0.0362839 , -0.00196856],\n",
       "       [-0.00203145, -0.01783675],\n",
       "       [ 0.02933126,  0.00379016],\n",
       "       [ 0.01829577, -0.00144067],\n",
       "       [ 0.00951322,  0.00955651],\n",
       "       [-0.02108138,  0.0173931 ],\n",
       "       [ 0.00055177,  0.03024101],\n",
       "       [-0.0208759 ,  0.0027221 ],\n",
       "       [-0.01316994,  0.02733795],\n",
       "       [ 0.00213805,  0.01541775],\n",
       "       [ 0.00456172, -0.00833056],\n",
       "       [-0.00757534, -0.00348482],\n",
       "       [ 0.01824206, -0.00121908],\n",
       "       [-0.02637555, -0.00039397],\n",
       "       [-0.02000728, -0.00591133],\n",
       "       [ 0.00689531,  0.00956602],\n",
       "       [ 0.02826997,  0.00185794],\n",
       "       [-0.00230382, -0.01326473],\n",
       "       [ 0.01851884, -0.00885802],\n",
       "       [ 0.03197927,  0.01166369],\n",
       "       [-0.0113239 , -0.01783043],\n",
       "       [ 0.02129273,  0.01501489],\n",
       "       [ 0.00314024,  0.01877841],\n",
       "       [ 0.0119419 , -0.00188692],\n",
       "       [-0.01856547,  0.00473795],\n",
       "       [-0.01303102,  0.01257095],\n",
       "       [-0.01253511, -0.01038849],\n",
       "       [-0.00914257, -0.014063  ],\n",
       "       [-0.01275447,  0.01772058],\n",
       "       [ 0.01692373, -0.01584735],\n",
       "       [-0.01224494,  0.00804811],\n",
       "       [-0.00668428, -0.01034734],\n",
       "       [-0.01417805, -0.01249803],\n",
       "       [-0.00142995, -0.01114324]])</details></samp></details></samp>"
      ],
      "text/plain": [
       "MatrixProductState(tensors=20, indices=39, L=20, max_bond=50)"
      ]
     },
     "execution_count": 3,
     "metadata": {},
     "output_type": "execute_result"
    }
   ],
   "source": [
    "# in a notebook we can explore a colorized representation:\n",
    "p"
   ]
  },
  {
   "cell_type": "code",
   "execution_count": 4,
   "id": "99ba3a10-2090-48d2-bfbf-759a88332d99",
   "metadata": {
    "tags": []
   },
   "outputs": [
    {
     "name": "stdout",
     "output_type": "stream",
     "text": [
      " 50 50 50 50 50 50 50 50 50 50 50 50 50 50 50 50 50 50 50 \n",
      "●──●──●──●──●──●──●──●──●──●──●──●──●──●──●──●──●──●──●──●\n",
      "│  │  │  │  │  │  │  │  │  │  │  │  │  │  │  │  │  │  │  │\n"
     ]
    }
   ],
   "source": [
    "p.show()  # 1D tensor networks also have a ascii ``show`` method"
   ]
  },
  {
   "cell_type": "markdown",
   "id": "a76f8b8a-d7b6-4b96-9742-b4a9936f452f",
   "metadata": {},
   "source": [
    "We can then __canonicalize__ the MPS:"
   ]
  },
  {
   "cell_type": "code",
   "execution_count": 5,
   "id": "e3a5c98d-e02b-4db8-a586-4c89c3c8cf46",
   "metadata": {
    "tags": []
   },
   "outputs": [
    {
     "name": "stdout",
     "output_type": "stream",
     "text": [
      " 2 4 8 16 32 50 50 50 50 50 50 50 50 50 50 50 50 50 50 \n",
      ">─>─>─>──>──>──>──>──>──>──>──>──>──>──>──>──>──>──>──●\n",
      "│ │ │ │  │  │  │  │  │  │  │  │  │  │  │  │  │  │  │  │\n"
     ]
    }
   ],
   "source": [
    "p.left_canonize()\n",
    "p.show()"
   ]
  },
  {
   "cell_type": "markdown",
   "id": "69d9afea-8a02-4d53-afcc-2867c065a3b6",
   "metadata": {},
   "source": [
    "And we can compute the inner product as:"
   ]
  },
  {
   "cell_type": "code",
   "execution_count": 6,
   "id": "238abe86-fda6-49bd-95e6-b6167feac56e",
   "metadata": {
    "tags": []
   },
   "outputs": [
    {
     "data": {
      "text/plain": [
       "np.float64(0.9999999999999998)"
      ]
     },
     "execution_count": 6,
     "metadata": {},
     "output_type": "execute_result"
    }
   ],
   "source": [
    "p.H @ p"
   ]
  },
  {
   "cell_type": "markdown",
   "id": "dc75ccd4-0288-4598-9411-024ec9fb71e8",
   "metadata": {},
   "source": [
    "This relies on them sharing the same physical indices, ``site_ind_id``,\n",
    "which the conjugated copy ``p.H`` naturally does.\n",
    "\n",
    "Like any TN, we can __graph__ the overlap for example, and make use of the\n",
    "site tags to color it:"
   ]
  },
  {
   "cell_type": "code",
   "execution_count": 7,
   "id": "cbb444e7-7232-44b6-9987-55ac8c361c29",
   "metadata": {
    "tags": []
   },
   "outputs": [
    {
     "data": {
      "image/svg+xml": [
       "<?xml version=\"1.0\" encoding=\"UTF-8\"?><!DOCTYPE svg  PUBLIC '-//W3C//DTD SVG 1.1//EN'  'http://www.w3.org/Graphics/SVG/1.1/DTD/svg11.dtd'><svg width=\"414.28pt\" height=\"312.02pt\" version=\"1.1\" viewBox=\"0 0 414.28 312.02\" xmlns=\"http://www.w3.org/2000/svg\" xmlns:xlink=\"http://www.w3.org/1999/xlink\"><defs><style type=\"text/css\">*{stroke-linejoin: round; stroke-linecap: butt}</style></defs><path d=\"m0 312.02h414.28v-312.02h-414.28v312.02z\" opacity=\"0\"/><path d=\"m19.844 159.74 1.138 0.78084-1.1585 0.7501\" clip-path=\"url(#2613f6259f3)\" fill=\"none\" stroke=\"#737880\" stroke-linecap=\"round\" stroke-opacity=\".5\"/><path d=\"m13.806 160.43 9.5684 0.12809\" clip-path=\"url(#2613f6259f3)\" fill=\"none\" stroke=\"#737880\" stroke-linecap=\"round\" stroke-opacity=\".5\"/><path d=\"m12.847 154.81 0.67147-1.1069 0.76348 1.0455\" clip-path=\"url(#2613f6259f3)\" fill=\"none\" stroke=\"#737880\" stroke-linecap=\"round\" stroke-opacity=\".5\"/><path d=\"m14.381 157.08-0.67147 1.1069-0.76348-1.0455\" clip-path=\"url(#2613f6259f3)\" fill=\"none\" stroke=\"#737880\" stroke-linecap=\"round\" stroke-opacity=\".5\"/><path d=\"m13.806 160.43-0.38341-8.9685\" clip-path=\"url(#2613f6259f3)\" fill=\"none\" stroke=\"#737880\" stroke-linecap=\"round\" stroke-opacity=\".5\"/><path d=\"m30.954 159.5 1.4578 0.94633-1.4342 0.98173\" clip-path=\"url(#2613f6259f3)\" fill=\"none\" stroke=\"#737880\" stroke-linecap=\"round\" stroke-opacity=\".5\"/><path d=\"m23.374 160.56 12.05-0.1475\" clip-path=\"url(#2613f6259f3)\" fill=\"none\" stroke=\"#737880\" stroke-linecap=\"round\" stroke-opacity=\".5\" stroke-width=\"2\"/><path d=\"m21.698 154.84 0.56287-1.23 0.91894 0.99267\" clip-path=\"url(#2613f6259f3)\" fill=\"none\" stroke=\"#737880\" stroke-linecap=\"round\" stroke-opacity=\".5\"/><path d=\"m23.566 157.01-0.56287 1.23-0.91894-0.99267\" clip-path=\"url(#2613f6259f3)\" fill=\"none\" stroke=\"#737880\" stroke-linecap=\"round\" stroke-opacity=\".5\"/><path d=\"m23.374 160.56-1.4836-9.2613\" clip-path=\"url(#2613f6259f3)\" fill=\"none\" stroke=\"#737880\" stroke-linecap=\"round\" stroke-opacity=\".5\"/><path d=\"m44.746 159.15 1.7871 1.1704-1.7677 1.1995\" clip-path=\"url(#2613f6259f3)\" fill=\"none\" stroke=\"#737880\" stroke-linecap=\"round\" stroke-opacity=\".5\"/><path d=\"m35.424 160.41 14.812-0.12119\" clip-path=\"url(#2613f6259f3)\" fill=\"none\" stroke=\"#737880\" stroke-linecap=\"round\" stroke-opacity=\".5\" stroke-width=\"3\"/><path d=\"m34.224 154.73 0.63924-1.1534 0.81883 1.0337\" clip-path=\"url(#2613f6259f3)\" fill=\"none\" stroke=\"#737880\" stroke-linecap=\"round\" stroke-opacity=\".5\"/><path d=\"m35.877 156.98-0.63924 1.1534-0.81883-1.0337\" clip-path=\"url(#2613f6259f3)\" fill=\"none\" stroke=\"#737880\" stroke-linecap=\"round\" stroke-opacity=\".5\"/><path d=\"m35.424 160.41-0.74827-9.1129\" clip-path=\"url(#2613f6259f3)\" fill=\"none\" stroke=\"#737880\" stroke-linecap=\"round\" stroke-opacity=\".5\"/><path d=\"m60.625 158.87 1.9929 1.3031-1.9693 1.3384\" clip-path=\"url(#2613f6259f3)\" fill=\"none\" stroke=\"#737880\" stroke-linecap=\"round\" stroke-opacity=\".5\"/><path d=\"m50.236 160.29 16.509-0.1475\" clip-path=\"url(#2613f6259f3)\" fill=\"none\" stroke=\"#737880\" stroke-linecap=\"round\" stroke-opacity=\".5\" stroke-width=\"4\"/><path d=\"m49.26 154.71 0.66217-1.102 0.76257 1.0351\" clip-path=\"url(#2613f6259f3)\" fill=\"none\" stroke=\"#737880\" stroke-linecap=\"round\" stroke-opacity=\".5\"/><path d=\"m50.794 156.96-0.66217 1.102-0.76257-1.0351\" clip-path=\"url(#2613f6259f3)\" fill=\"none\" stroke=\"#737880\" stroke-linecap=\"round\" stroke-opacity=\".5\"/><path d=\"m50.236 160.29-0.41834-8.9046\" clip-path=\"url(#2613f6259f3)\" fill=\"none\" stroke=\"#737880\" stroke-linecap=\"round\" stroke-opacity=\".5\"/><path d=\"m77.868 158.61 2.1366 1.3914-2.1061 1.4371\" clip-path=\"url(#2613f6259f3)\" fill=\"none\" stroke=\"#737880\" stroke-linecap=\"round\" stroke-opacity=\".5\"/><path d=\"m66.746 160.14 17.678-0.19062\" clip-path=\"url(#2613f6259f3)\" fill=\"none\" stroke=\"#737880\" stroke-linecap=\"round\" stroke-opacity=\".5\" stroke-width=\"5\"/><path d=\"m65.883 154.65 0.66876-1.0704 0.73086 1.029\" clip-path=\"url(#2613f6259f3)\" fill=\"none\" stroke=\"#737880\" stroke-linecap=\"round\" stroke-opacity=\".5\"/><path d=\"m67.35 156.88-0.66876 1.0704-0.73086-1.029\" clip-path=\"url(#2613f6259f3)\" fill=\"none\" stroke=\"#737880\" stroke-linecap=\"round\" stroke-opacity=\".5\"/><path d=\"m66.746 160.14-0.25877-8.7476\" clip-path=\"url(#2613f6259f3)\" fill=\"none\" stroke=\"#737880\" stroke-linecap=\"round\" stroke-opacity=\".5\"/><path d=\"m96.065 158.33 2.2385 1.4538-2.2029 1.5072\" clip-path=\"url(#2613f6259f3)\" fill=\"none\" stroke=\"#737880\" stroke-linecap=\"round\" stroke-opacity=\".5\"/><path d=\"m84.424 159.95 18.506-0.22254\" clip-path=\"url(#2613f6259f3)\" fill=\"none\" stroke=\"#737880\" stroke-linecap=\"round\" stroke-opacity=\".5\" stroke-width=\"5.6439\"/><path d=\"m83.613 154.52 0.66821-1.0516 0.71375 1.0213\" clip-path=\"url(#2613f6259f3)\" fill=\"none\" stroke=\"#737880\" stroke-linecap=\"round\" stroke-opacity=\".5\"/><path d=\"m85.045 156.74-0.66821 1.0516-0.71375-1.0213\" clip-path=\"url(#2613f6259f3)\" fill=\"none\" stroke=\"#737880\" stroke-linecap=\"round\" stroke-opacity=\".5\"/><path d=\"m84.424 159.95-0.18976-8.6372\" clip-path=\"url(#2613f6259f3)\" fill=\"none\" stroke=\"#737880\" stroke-linecap=\"round\" stroke-opacity=\".5\"/><path d=\"m114.94 158.04 2.3111 1.4963-2.2701 1.5578\" clip-path=\"url(#2613f6259f3)\" fill=\"none\" stroke=\"#737880\" stroke-linecap=\"round\" stroke-opacity=\".5\"/><path d=\"m102.93 159.73 19.088-0.25618\" clip-path=\"url(#2613f6259f3)\" fill=\"none\" stroke=\"#737880\" stroke-linecap=\"round\" stroke-opacity=\".5\" stroke-width=\"5.6439\"/><path d=\"m102.15 154.35 0.66541-1.0385 0.70268 1.0136\" clip-path=\"url(#2613f6259f3)\" fill=\"none\" stroke=\"#737880\" stroke-linecap=\"round\" stroke-opacity=\".5\"/><path d=\"m103.56 156.55-0.66541 1.0385-0.70268-1.0136\" clip-path=\"url(#2613f6259f3)\" fill=\"none\" stroke=\"#737880\" stroke-linecap=\"round\" stroke-opacity=\".5\"/><path d=\"m102.93 159.73-0.15526-8.5505\" clip-path=\"url(#2613f6259f3)\" fill=\"none\" stroke=\"#737880\" stroke-linecap=\"round\" stroke-opacity=\".5\"/><path d=\"m134.28 157.78 2.3547 1.5341-2.3218 1.5835\" clip-path=\"url(#2613f6259f3)\" fill=\"none\" stroke=\"#737880\" stroke-linecap=\"round\" stroke-opacity=\".5\"/><path d=\"m122.02 159.47 19.485-0.20572\" clip-path=\"url(#2613f6259f3)\" fill=\"none\" stroke=\"#737880\" stroke-linecap=\"round\" stroke-opacity=\".5\" stroke-width=\"5.6439\"/><path d=\"m121.27 154.14 0.66517-1.0269 0.69208 1.009\" clip-path=\"url(#2613f6259f3)\" fill=\"none\" stroke=\"#737880\" stroke-linecap=\"round\" stroke-opacity=\".5\"/><path d=\"m122.66 156.32-0.66517 1.0269-0.69208-1.009\" clip-path=\"url(#2613f6259f3)\" fill=\"none\" stroke=\"#737880\" stroke-linecap=\"round\" stroke-opacity=\".5\"/><path d=\"m122.02 159.47-0.11213-8.4828\" clip-path=\"url(#2613f6259f3)\" fill=\"none\" stroke=\"#737880\" stroke-linecap=\"round\" stroke-opacity=\".5\"/><path d=\"m153.9 157.58 2.3776 1.5559-2.3506 1.5963\" clip-path=\"url(#2613f6259f3)\" fill=\"none\" stroke=\"#737880\" stroke-linecap=\"round\" stroke-opacity=\".5\"/><path d=\"m141.5 159.27 19.701-0.1682\" clip-path=\"url(#2613f6259f3)\" fill=\"none\" stroke=\"#737880\" stroke-linecap=\"round\" stroke-opacity=\".5\" stroke-width=\"5.6439\"/><path d=\"m140.78 153.95 0.66703-1.0207 0.68566 1.0083\" clip-path=\"url(#2613f6259f3)\" fill=\"none\" stroke=\"#737880\" stroke-linecap=\"round\" stroke-opacity=\".5\"/><path d=\"m142.15 156.13-0.66703 1.0207-0.68566-1.0083\" clip-path=\"url(#2613f6259f3)\" fill=\"none\" stroke=\"#737880\" stroke-linecap=\"round\" stroke-opacity=\".5\"/><path d=\"m141.5 159.27-0.07763-8.4544\" clip-path=\"url(#2613f6259f3)\" fill=\"none\" stroke=\"#737880\" stroke-linecap=\"round\" stroke-opacity=\".5\"/><path d=\"m173.68 157.38 2.3966 1.561-2.3627 1.6119\" clip-path=\"url(#2613f6259f3)\" fill=\"none\" stroke=\"#737880\" stroke-linecap=\"round\" stroke-opacity=\".5\"/><path d=\"m161.2 159.1 19.83-0.21219\" clip-path=\"url(#2613f6259f3)\" fill=\"none\" stroke=\"#737880\" stroke-linecap=\"round\" stroke-opacity=\".5\" stroke-width=\"5.6439\"/><path d=\"m160.52 153.77 0.67638-1.0157 0.67742 1.015\" clip-path=\"url(#2613f6259f3)\" fill=\"none\" stroke=\"#737880\" stroke-linecap=\"round\" stroke-opacity=\".5\"/><path d=\"m161.88 155.97-0.67638 1.0157-0.67742-1.015\" clip-path=\"url(#2613f6259f3)\" fill=\"none\" stroke=\"#737880\" stroke-linecap=\"round\" stroke-opacity=\".5\"/><path d=\"m161.2 159.1-0.004313-8.4613\" clip-path=\"url(#2613f6259f3)\" fill=\"none\" stroke=\"#737880\" stroke-linecap=\"round\" stroke-opacity=\".5\"/><path d=\"m193.46 157.2 2.3819 1.5595-2.3556 1.5989\" clip-path=\"url(#2613f6259f3)\" fill=\"none\" stroke=\"#737880\" stroke-linecap=\"round\" stroke-opacity=\".5\"/><path d=\"m181.03 158.89 19.74-0.16432\" clip-path=\"url(#2613f6259f3)\" fill=\"none\" stroke=\"#737880\" stroke-linecap=\"round\" stroke-opacity=\".5\" stroke-width=\"5.6439\"/><path d=\"m180.37 153.57 0.67662-1.0105 0.67248 1.0132\" clip-path=\"url(#2613f6259f3)\" fill=\"none\" stroke=\"#737880\" stroke-linecap=\"round\" stroke-opacity=\".5\"/><path d=\"m181.72 155.77-0.67662 1.0105-0.67249-1.0132\" clip-path=\"url(#2613f6259f3)\" fill=\"none\" stroke=\"#737880\" stroke-linecap=\"round\" stroke-opacity=\".5\"/><path d=\"m181.03 158.89 0.017251-8.4319\" clip-path=\"url(#2613f6259f3)\" fill=\"none\" stroke=\"#737880\" stroke-linecap=\"round\" stroke-opacity=\".5\"/><path d=\"m213.03 157.12 2.3413 1.5475-2.3289 1.566\" clip-path=\"url(#2613f6259f3)\" fill=\"none\" stroke=\"#737880\" stroke-linecap=\"round\" stroke-opacity=\".5\"/><path d=\"m200.77 158.72 19.459-0.077199\" clip-path=\"url(#2613f6259f3)\" fill=\"none\" stroke=\"#737880\" stroke-linecap=\"round\" stroke-opacity=\".5\" stroke-width=\"5.6439\"/><path d=\"m200.14 153.41 0.68142-1.0064 0.66693 1.0161\" clip-path=\"url(#2613f6259f3)\" fill=\"none\" stroke=\"#737880\" stroke-linecap=\"round\" stroke-opacity=\".5\"/><path d=\"m201.47 155.61-0.68142 1.0064-0.66693-1.0161\" clip-path=\"url(#2613f6259f3)\" fill=\"none\" stroke=\"#737880\" stroke-linecap=\"round\" stroke-opacity=\".5\"/><path d=\"m200.77 158.72 0.060379-8.4272\" clip-path=\"url(#2613f6259f3)\" fill=\"none\" stroke=\"#737880\" stroke-linecap=\"round\" stroke-opacity=\".5\"/><path d=\"m232.27 157.11 2.2929 1.527-2.2914 1.5292\" clip-path=\"url(#2613f6259f3)\" fill=\"none\" stroke=\"#737880\" stroke-linecap=\"round\" stroke-opacity=\".5\"/><path d=\"m220.23 158.64 19.101-0.009057\" clip-path=\"url(#2613f6259f3)\" fill=\"none\" stroke=\"#737880\" stroke-linecap=\"round\" stroke-opacity=\".5\" stroke-width=\"5.6439\"/><path d=\"m219.67 153.3 0.69778-1.0007 0.65534 1.029\" clip-path=\"url(#2613f6259f3)\" fill=\"none\" stroke=\"#737880\" stroke-linecap=\"round\" stroke-opacity=\".5\"/><path d=\"m220.98 155.53-0.69778 1.0007-0.65534-1.029\" clip-path=\"url(#2613f6259f3)\" fill=\"none\" stroke=\"#737880\" stroke-linecap=\"round\" stroke-opacity=\".5\"/><path d=\"m220.23 158.64 0.17682-8.457\" clip-path=\"url(#2613f6259f3)\" fill=\"none\" stroke=\"#737880\" stroke-linecap=\"round\" stroke-opacity=\".5\"/><path d=\"m250.97 157.24 2.2037 1.4904-2.2233 1.4609\" clip-path=\"url(#2613f6259f3)\" fill=\"none\" stroke=\"#737880\" stroke-linecap=\"round\" stroke-opacity=\".5\"/><path d=\"m239.34 158.63 18.446 0.12291\" clip-path=\"url(#2613f6259f3)\" fill=\"none\" stroke=\"#737880\" stroke-linecap=\"round\" stroke-opacity=\".5\" stroke-width=\"5.6439\"/><path d=\"m238.89 153.26 0.72279-0.98887 0.63481 1.0475\" clip-path=\"url(#2613f6259f3)\" fill=\"none\" stroke=\"#737880\" stroke-linecap=\"round\" stroke-opacity=\".5\"/><path d=\"m240.15 155.52-0.72279 0.98887-0.63481-1.0475\" clip-path=\"url(#2613f6259f3)\" fill=\"none\" stroke=\"#737880\" stroke-linecap=\"round\" stroke-opacity=\".5\"/><path d=\"m239.34 158.63 0.36659-8.485\" clip-path=\"url(#2613f6259f3)\" fill=\"none\" stroke=\"#737880\" stroke-linecap=\"round\" stroke-opacity=\".5\"/><path d=\"m268.93 157.51 2.0978 1.4451-2.1408 1.3807\" clip-path=\"url(#2613f6259f3)\" fill=\"none\" stroke=\"#737880\" stroke-linecap=\"round\" stroke-opacity=\".5\"/><path d=\"m257.78 158.76 17.661 0.26826\" clip-path=\"url(#2613f6259f3)\" fill=\"none\" stroke=\"#737880\" stroke-linecap=\"round\" stroke-opacity=\".5\" stroke-width=\"5.6439\"/><path d=\"m257.49 153.33 0.75826-0.97367 0.60714 1.0744\" clip-path=\"url(#2613f6259f3)\" fill=\"none\" stroke=\"#737880\" stroke-linecap=\"round\" stroke-opacity=\".5\"/><path d=\"m258.7 155.65-0.75826 0.97367-0.60714-1.0744\" clip-path=\"url(#2613f6259f3)\" fill=\"none\" stroke=\"#737880\" stroke-linecap=\"round\" stroke-opacity=\".5\"/><path d=\"m257.78 158.76 0.62967-8.5337\" clip-path=\"url(#2613f6259f3)\" fill=\"none\" stroke=\"#737880\" stroke-linecap=\"round\" stroke-opacity=\".5\"/><path d=\"m285.93 157.99 1.9539 1.3817-2.0269 1.2722\" clip-path=\"url(#2613f6259f3)\" fill=\"none\" stroke=\"#737880\" stroke-linecap=\"round\" stroke-opacity=\".5\"/><path d=\"m275.44 159.03 16.587 0.45629\" clip-path=\"url(#2613f6259f3)\" fill=\"none\" stroke=\"#737880\" stroke-linecap=\"round\" stroke-opacity=\".5\" stroke-width=\"5.6439\"/><path d=\"m275.37 153.55 0.80232-0.95006 0.56839 1.106\" clip-path=\"url(#2613f6259f3)\" fill=\"none\" stroke=\"#737880\" stroke-linecap=\"round\" stroke-opacity=\".5\"/><path d=\"m276.49 155.93-0.80232 0.95006-0.56839-1.106\" clip-path=\"url(#2613f6259f3)\" fill=\"none\" stroke=\"#737880\" stroke-linecap=\"round\" stroke-opacity=\".5\"/><path d=\"m275.44 159.03 0.97469-8.5669\" clip-path=\"url(#2613f6259f3)\" fill=\"none\" stroke=\"#737880\" stroke-linecap=\"round\" stroke-opacity=\".5\"/><path d=\"m302.03 158.65 1.84 1.3463-1.9505 1.1806\" clip-path=\"url(#2613f6259f3)\" fill=\"none\" stroke=\"#737880\" stroke-linecap=\"round\" stroke-opacity=\".5\"/><path d=\"m292.03 159.48 15.793 0.69048\" clip-path=\"url(#2613f6259f3)\" fill=\"none\" stroke=\"#737880\" stroke-linecap=\"round\" stroke-opacity=\".5\" stroke-width=\"5.6439\"/><path d=\"m292.62 153.93 0.92722-0.86492 0.44177 1.1886\" clip-path=\"url(#2613f6259f3)\" fill=\"none\" stroke=\"#737880\" stroke-linecap=\"round\" stroke-opacity=\".5\"/><path d=\"m293.46 156.48-0.92722 0.86492-0.44177-1.1886\" clip-path=\"url(#2613f6259f3)\" fill=\"none\" stroke=\"#737880\" stroke-linecap=\"round\" stroke-opacity=\".5\"/><path d=\"m292.03 159.48 2.0227-8.5562\" clip-path=\"url(#2613f6259f3)\" fill=\"none\" stroke=\"#737880\" stroke-linecap=\"round\" stroke-opacity=\".5\"/><path d=\"m316.86 159.62 1.6331 1.2496-1.7816 1.0269\" clip-path=\"url(#2613f6259f3)\" fill=\"none\" stroke=\"#737880\" stroke-linecap=\"round\" stroke-opacity=\".5\"/><path d=\"m307.82 160.17 14.228 0.92768\" clip-path=\"url(#2613f6259f3)\" fill=\"none\" stroke=\"#737880\" stroke-linecap=\"round\" stroke-opacity=\".5\" stroke-width=\"5.6439\"/><path d=\"m308.8 154.57 1.0015-0.81605 0.36807 1.2384\" clip-path=\"url(#2613f6259f3)\" fill=\"none\" stroke=\"#737880\" stroke-linecap=\"round\" stroke-opacity=\".5\"/><path d=\"m309.48 157.22-1.0015 0.81605-0.36807-1.2384\" clip-path=\"url(#2613f6259f3)\" fill=\"none\" stroke=\"#737880\" stroke-linecap=\"round\" stroke-opacity=\".5\"/><path d=\"m307.82 160.17 2.6394-8.56\" clip-path=\"url(#2613f6259f3)\" fill=\"none\" stroke=\"#737880\" stroke-linecap=\"round\" stroke-opacity=\".5\"/><path d=\"m322.05 161.1 13.081 0.77544\" clip-path=\"url(#2613f6259f3)\" fill=\"none\" stroke=\"#737880\" stroke-linecap=\"round\" stroke-opacity=\".5\" stroke-width=\"5.6439\"/><path d=\"m323.16 155.47 1.0282-0.80223 0.34506 1.2577\" clip-path=\"url(#2613f6259f3)\" fill=\"none\" stroke=\"#737880\" stroke-linecap=\"round\" stroke-opacity=\".5\"/><path d=\"m323.79 158.15-1.0282 0.80223-0.34506-1.2577\" clip-path=\"url(#2613f6259f3)\" fill=\"none\" stroke=\"#737880\" stroke-linecap=\"round\" stroke-opacity=\".5\"/><path d=\"m322.05 161.1 2.8464-8.5829\" clip-path=\"url(#2613f6259f3)\" fill=\"none\" stroke=\"#737880\" stroke-linecap=\"round\" stroke-opacity=\".5\"/><path d=\"m335.13 161.88 0.64692-8.447\" clip-path=\"url(#2613f6259f3)\" fill=\"none\" stroke=\"#737880\" stroke-linecap=\"round\" stroke-opacity=\".5\"/><path d=\"m18.744 150.68 1.0294 0.65768-1.003 0.69722\" clip-path=\"url(#2613f6259f3)\" fill=\"none\" stroke=\"#737880\" stroke-linecap=\"round\" stroke-opacity=\".5\"/><path d=\"m13.422 151.46 8.4682-0.16475\" clip-path=\"url(#2613f6259f3)\" fill=\"none\" stroke=\"#737880\" stroke-linecap=\"round\" stroke-opacity=\".5\"/><path d=\"m29.946 150.27 1.5342 1.023-1.5344 1.0228\" clip-path=\"url(#2613f6259f3)\" fill=\"none\" stroke=\"#737880\" stroke-linecap=\"round\" stroke-opacity=\".5\"/><path d=\"m21.89 151.3 12.786 8.63e-4\" clip-path=\"url(#2613f6259f3)\" fill=\"none\" stroke=\"#737880\" stroke-linecap=\"round\" stroke-opacity=\".5\" stroke-width=\"2\"/><path d=\"m44.222 150.14 1.81 1.2218-1.824 1.2009\" clip-path=\"url(#2613f6259f3)\" fill=\"none\" stroke=\"#737880\" stroke-linecap=\"round\" stroke-opacity=\".5\"/><path d=\"m34.676 151.3 15.142 0.087118\" clip-path=\"url(#2613f6259f3)\" fill=\"none\" stroke=\"#737880\" stroke-linecap=\"round\" stroke-opacity=\".5\" stroke-width=\"3\"/><path d=\"m60.32 150.06 1.9995 1.3347-2.001 1.3324\" clip-path=\"url(#2613f6259f3)\" fill=\"none\" stroke=\"#737880\" stroke-linecap=\"round\" stroke-opacity=\".5\"/><path d=\"m49.818 151.38 16.669 0.009488\" clip-path=\"url(#2613f6259f3)\" fill=\"none\" stroke=\"#737880\" stroke-linecap=\"round\" stroke-opacity=\".5\" stroke-width=\"4\"/><path d=\"m77.661 149.92 2.1361 1.4101-2.1232 1.4294\" clip-path=\"url(#2613f6259f3)\" fill=\"none\" stroke=\"#737880\" stroke-linecap=\"round\" stroke-opacity=\".5\"/><path d=\"m66.487 151.39 17.747-0.080218\" clip-path=\"url(#2613f6259f3)\" fill=\"none\" stroke=\"#737880\" stroke-linecap=\"round\" stroke-opacity=\".5\" stroke-width=\"5\"/><path d=\"m95.904 149.74 2.2358 1.467-2.214 1.4996\" clip-path=\"url(#2613f6259f3)\" fill=\"none\" stroke=\"#737880\" stroke-linecap=\"round\" stroke-opacity=\".5\"/><path d=\"m84.234 151.31 18.541-0.13585\" clip-path=\"url(#2613f6259f3)\" fill=\"none\" stroke=\"#737880\" stroke-linecap=\"round\" stroke-opacity=\".5\" stroke-width=\"5.6439\"/><path d=\"m114.81 149.53 2.3109 1.5079-2.2807 1.5531\" clip-path=\"url(#2613f6259f3)\" fill=\"none\" stroke=\"#737880\" stroke-linecap=\"round\" stroke-opacity=\".5\"/><path d=\"m102.77 151.18 19.132-0.18847\" clip-path=\"url(#2613f6259f3)\" fill=\"none\" stroke=\"#737880\" stroke-linecap=\"round\" stroke-opacity=\".5\" stroke-width=\"5.6439\"/><path d=\"m134.19 149.32 2.3565 1.5403-2.3282 1.5828\" clip-path=\"url(#2613f6259f3)\" fill=\"none\" stroke=\"#737880\" stroke-linecap=\"round\" stroke-opacity=\".5\"/><path d=\"m121.91 150.99 19.52-0.17726\" clip-path=\"url(#2613f6259f3)\" fill=\"none\" stroke=\"#737880\" stroke-linecap=\"round\" stroke-opacity=\".5\" stroke-width=\"5.6439\"/><path d=\"m153.87 149.12 2.3869 1.5609-2.3589 1.6029\" clip-path=\"url(#2613f6259f3)\" fill=\"none\" stroke=\"#737880\" stroke-linecap=\"round\" stroke-opacity=\".5\"/><path d=\"m141.43 150.81 19.774-0.1751\" clip-path=\"url(#2613f6259f3)\" fill=\"none\" stroke=\"#737880\" stroke-linecap=\"round\" stroke-opacity=\".5\" stroke-width=\"5.6439\"/><path d=\"m173.69 148.93 2.3968 1.5662-2.3676 1.6101\" clip-path=\"url(#2613f6259f3)\" fill=\"none\" stroke=\"#737880\" stroke-linecap=\"round\" stroke-opacity=\".5\"/><path d=\"m161.2 150.64 19.852-0.18286\" clip-path=\"url(#2613f6259f3)\" fill=\"none\" stroke=\"#737880\" stroke-linecap=\"round\" stroke-opacity=\".5\" stroke-width=\"5.6439\"/><path d=\"m193.5 148.77 2.3867 1.5635-2.3612 1.6018\" clip-path=\"url(#2613f6259f3)\" fill=\"none\" stroke=\"#737880\" stroke-linecap=\"round\" stroke-opacity=\".5\"/><path d=\"m181.05 150.45 19.783-0.15957\" clip-path=\"url(#2613f6259f3)\" fill=\"none\" stroke=\"#737880\" stroke-linecap=\"round\" stroke-opacity=\".5\" stroke-width=\"5.6439\"/><path d=\"m213.16 148.66 2.3576 1.5532-2.3405 1.5789\" clip-path=\"url(#2613f6259f3)\" fill=\"none\" stroke=\"#737880\" stroke-linecap=\"round\" stroke-opacity=\".5\"/><path d=\"m200.83 150.29 19.576-0.10696\" clip-path=\"url(#2613f6259f3)\" fill=\"none\" stroke=\"#737880\" stroke-linecap=\"round\" stroke-opacity=\".5\" stroke-width=\"5.6439\"/><path d=\"m232.56 148.62 2.3179 1.5388-2.312 1.5477\" clip-path=\"url(#2613f6259f3)\" fill=\"none\" stroke=\"#737880\" stroke-linecap=\"round\" stroke-opacity=\".5\"/><path d=\"m220.41 150.19 19.291-0.03709\" clip-path=\"url(#2613f6259f3)\" fill=\"none\" stroke=\"#737880\" stroke-linecap=\"round\" stroke-opacity=\".5\" stroke-width=\"5.6439\"/><path d=\"m251.49 148.7 2.2391 1.5056-2.251 1.4878\" clip-path=\"url(#2613f6259f3)\" fill=\"none\" stroke=\"#737880\" stroke-linecap=\"round\" stroke-opacity=\".5\"/><path d=\"m239.7 150.15 18.709 0.07418\" clip-path=\"url(#2613f6259f3)\" fill=\"none\" stroke=\"#737880\" stroke-linecap=\"round\" stroke-opacity=\".5\" stroke-width=\"5.6439\"/><path d=\"m269.77 148.93 2.1419 1.4687-2.1795 1.4123\" clip-path=\"url(#2613f6259f3)\" fill=\"none\" stroke=\"#737880\" stroke-linecap=\"round\" stroke-opacity=\".5\"/><path d=\"m258.41 150.22 18.006 0.23505\" clip-path=\"url(#2613f6259f3)\" fill=\"none\" stroke=\"#737880\" stroke-linecap=\"round\" stroke-opacity=\".5\" stroke-width=\"5.6439\"/><path d=\"m287.56 149.34 2.0788 1.4668-2.1536 1.3548\" clip-path=\"url(#2613f6259f3)\" fill=\"none\" stroke=\"#737880\" stroke-linecap=\"round\" stroke-opacity=\".5\"/><path d=\"m276.42 150.46 17.635 0.46708\" clip-path=\"url(#2613f6259f3)\" fill=\"none\" stroke=\"#737880\" stroke-linecap=\"round\" stroke-opacity=\".5\" stroke-width=\"5.6439\"/><path d=\"m304.44 150.05 1.9143 1.3952-2.0242 1.2304\" clip-path=\"url(#2613f6259f3)\" fill=\"none\" stroke=\"#737880\" stroke-linecap=\"round\" stroke-opacity=\".5\"/><path d=\"m294.05 150.93 16.41 0.6866\" clip-path=\"url(#2613f6259f3)\" fill=\"none\" stroke=\"#737880\" stroke-linecap=\"round\" stroke-opacity=\".5\" stroke-width=\"5.6439\"/><path d=\"m319.63 151.03 1.6598 1.2634-1.8046 1.0462\" clip-path=\"url(#2613f6259f3)\" fill=\"none\" stroke=\"#737880\" stroke-linecap=\"round\" stroke-opacity=\".5\"/><path d=\"m310.46 151.61 14.435 0.90482\" clip-path=\"url(#2613f6259f3)\" fill=\"none\" stroke=\"#737880\" stroke-linecap=\"round\" stroke-opacity=\".5\" stroke-width=\"5.6439\"/><path d=\"m324.9 152.52 10.881 0.91129\" clip-path=\"url(#2613f6259f3)\" fill=\"none\" stroke=\"#737880\" stroke-linecap=\"round\" stroke-opacity=\".5\" stroke-width=\"5.6439\"/><path d=\"m13.806 163.1c0.7088 0 1.3887-0.28161 1.8899-0.78281 0.5012-0.5012 0.7828-1.1811 0.7828-1.8899s-0.28161-1.3887-0.7828-1.8899c-0.5012-0.5012-1.1811-0.7828-1.8899-0.7828s-1.3887 0.28161-1.8899 0.7828c-0.5012 0.5012-0.7828 1.1811-0.7828 1.8899s0.28161 1.3887 0.7828 1.8899c0.5012 0.5012 1.1811 0.78281 1.8899 0.78281z\" clip-path=\"url(#2613f6259f3)\" fill=\"#0072b2\" stroke=\"#0067a0\" stroke-width=\".77263\"/><path d=\"m23.374 163.23c0.7088 0 1.3887-0.28161 1.8899-0.78281 0.5012-0.5012 0.78281-1.1811 0.78281-1.8899s-0.28161-1.3887-0.78281-1.8899c-0.5012-0.5012-1.1811-0.7828-1.8899-0.7828s-1.3887 0.28161-1.8899 0.7828c-0.5012 0.5012-0.78281 1.1811-0.78281 1.8899s0.28161 1.3887 0.78281 1.8899c0.5012 0.5012 1.1811 0.78281 1.8899 0.78281z\" clip-path=\"url(#2613f6259f3)\" fill=\"#73a6c3\" stroke=\"#6896af\" stroke-width=\".77263\"/><path d=\"m35.424 163.08c0.7088 0 1.3887-0.28161 1.8899-0.7828 0.5012-0.5012 0.7828-1.1811 0.7828-1.8899s-0.28161-1.3887-0.7828-1.8899c-0.5012-0.5012-1.1811-0.78281-1.8899-0.78281s-1.3887 0.28161-1.8899 0.78281c-0.5012 0.5012-0.78281 1.1811-0.78281 1.8899s0.28161 1.3887 0.78281 1.8899c0.5012 0.5012 1.1811 0.7828 1.8899 0.7828z\" clip-path=\"url(#2613f6259f3)\" fill=\"#7ab3d4\" stroke=\"#6ea1be\" stroke-width=\".77263\"/><path d=\"m50.236 162.96c0.7088 0 1.3887-0.28161 1.8899-0.78281 0.5012-0.5012 0.78281-1.1811 0.78281-1.8899s-0.28161-1.3887-0.78281-1.8899c-0.5012-0.5012-1.1811-0.7828-1.8899-0.7828s-1.3887 0.28161-1.8899 0.7828c-0.5012 0.5012-0.7828 1.1811-0.7828 1.8899s0.28161 1.3887 0.7828 1.8899c0.5012 0.5012 1.1811 0.78281 1.8899 0.78281z\" clip-path=\"url(#2613f6259f3)\" fill=\"#53b1e6\" stroke=\"#4b9fcf\" stroke-width=\".77263\"/><path d=\"m66.746 162.81c0.7088 0 1.3887-0.28161 1.8899-0.7828 0.5012-0.5012 0.7828-1.1811 0.7828-1.8899s-0.28161-1.3887-0.7828-1.8899c-0.5012-0.5012-1.1811-0.78281-1.8899-0.78281s-1.3887 0.28161-1.8899 0.78281c-0.5012 0.5012-0.78281 1.1811-0.78281 1.8899s0.28161 1.3887 0.78281 1.8899c0.5012 0.5012 1.1811 0.7828 1.8899 0.7828z\" clip-path=\"url(#2613f6259f3)\" fill=\"#94c0cc\" stroke=\"#86adb7\" stroke-width=\".77263\"/><path d=\"m84.424 162.62c0.7088 0 1.3887-0.28161 1.8899-0.78281 0.5012-0.5012 0.7828-1.1811 0.7828-1.8899s-0.28161-1.3887-0.7828-1.8899c-0.5012-0.5012-1.1811-0.7828-1.8899-0.7828s-1.3887 0.28161-1.8899 0.7828c-0.5012 0.5012-0.7828 1.1811-0.7828 1.8899s0.28161 1.3887 0.7828 1.8899c0.5012 0.5012 1.1811 0.78281 1.8899 0.78281z\" clip-path=\"url(#2613f6259f3)\" fill=\"#50a7a6\" stroke=\"#489795\" stroke-width=\".77263\"/><path d=\"m102.93 162.4c0.7088 0 1.3887-0.28161 1.8899-0.7828 0.5012-0.5012 0.78281-1.1811 0.78281-1.8899s-0.28161-1.3887-0.78281-1.8899c-0.5012-0.5012-1.1811-0.7828-1.8899-0.7828s-1.3887 0.28161-1.8899 0.7828c-0.5012 0.5012-0.7828 1.1811-0.7828 1.8899s0.28161 1.3887 0.7828 1.8899c0.5012 0.5012 1.1811 0.7828 1.8899 0.7828z\" clip-path=\"url(#2613f6259f3)\" fill=\"#14a183\" stroke=\"#129176\" stroke-width=\".77263\"/><path d=\"m122.02 162.14c0.7088 0 1.3887-0.28161 1.8899-0.78281 0.5012-0.5012 0.7828-1.1811 0.7828-1.8899s-0.28161-1.3887-0.7828-1.8899c-0.5012-0.5012-1.1811-0.7828-1.8899-0.7828s-1.3887 0.28161-1.8899 0.7828c-0.5012 0.5012-0.7828 1.1811-0.7828 1.8899s0.28161 1.3887 0.7828 1.8899c0.5012 0.5012 1.1811 0.78281 1.8899 0.78281z\" clip-path=\"url(#2613f6259f3)\" fill=\"#82ad95\" stroke=\"#759c86\" stroke-width=\".77263\"/><path d=\"m141.5 161.94c0.7088 0 1.3887-0.28161 1.8899-0.7828 0.5012-0.5012 0.7828-1.1811 0.7828-1.8899s-0.28161-1.3887-0.7828-1.8899c-0.5012-0.5012-1.1811-0.7828-1.8899-0.7828s-1.3887 0.28161-1.8899 0.7828c-0.5012 0.5012-0.78281 1.1811-0.78281 1.8899s0.28161 1.3887 0.78281 1.8899c0.5012 0.5012 1.1811 0.7828 1.8899 0.7828z\" clip-path=\"url(#2613f6259f3)\" fill=\"#8cc272\" stroke=\"#7eaf66\" stroke-width=\".77263\"/><path d=\"m161.2 161.77c0.7088 0 1.3887-0.28161 1.8899-0.7828 0.5012-0.5012 0.7828-1.1811 0.7828-1.8899s-0.28161-1.3887-0.7828-1.8899-1.1811-0.7828-1.8899-0.7828-1.3887 0.28161-1.8899 0.7828c-0.5012 0.5012-0.7828 1.1811-0.7828 1.8899s0.28161 1.3887 0.7828 1.8899c0.5012 0.5012 1.1811 0.7828 1.8899 0.7828z\" clip-path=\"url(#2613f6259f3)\" fill=\"#cdd95d\" stroke=\"#b9c454\" stroke-width=\".77263\"/><path d=\"m181.03 161.56c0.7088 0 1.3887-0.28161 1.8899-0.78281 0.5012-0.5012 0.78281-1.1811 0.78281-1.8899s-0.28161-1.3887-0.78281-1.8899c-0.5012-0.5012-1.1811-0.78281-1.8899-0.78281s-1.3887 0.28161-1.8899 0.78281c-0.5012 0.5012-0.7828 1.1811-0.7828 1.8899s0.28161 1.3887 0.7828 1.8899c0.5012 0.5012 1.1811 0.78281 1.8899 0.78281z\" clip-path=\"url(#2613f6259f3)\" fill=\"#eee7b1\" stroke=\"#d7d0a0\" stroke-width=\".77263\"/><path d=\"m200.77 161.39c0.7088 0 1.3887-0.28161 1.8899-0.7828 0.5012-0.5012 0.7828-1.1811 0.7828-1.8899s-0.28161-1.3887-0.7828-1.8899c-0.5012-0.5012-1.1811-0.7828-1.8899-0.7828s-1.3887 0.28161-1.8899 0.7828c-0.5012 0.5012-0.78281 1.1811-0.78281 1.8899s0.28161 1.3887 0.78281 1.8899c0.5012 0.5012 1.1811 0.7828 1.8899 0.7828z\" clip-path=\"url(#2613f6259f3)\" fill=\"#ebc83e\" stroke=\"#d4b438\" stroke-width=\".77263\"/><path d=\"m220.23 161.32c0.7088 0 1.3887-0.28161 1.8899-0.7828 0.5012-0.5012 0.7828-1.1811 0.7828-1.8899s-0.28161-1.3887-0.7828-1.8899c-0.5012-0.5012-1.1811-0.7828-1.8899-0.7828s-1.3887 0.28161-1.8899 0.7828c-0.5012 0.5012-0.78281 1.1811-0.78281 1.8899s0.28161 1.3887 0.78281 1.8899c0.5012 0.5012 1.1811 0.7828 1.8899 0.7828z\" clip-path=\"url(#2613f6259f3)\" fill=\"#e8bb40\" stroke=\"#d1a83a\" stroke-width=\".77263\"/><path d=\"m239.34 161.31c0.7088 0 1.3887-0.28161 1.8899-0.78281 0.5012-0.5012 0.7828-1.1811 0.7828-1.8899s-0.28161-1.3887-0.7828-1.8899c-0.5012-0.5012-1.1811-0.7828-1.8899-0.7828s-1.3887 0.28161-1.8899 0.7828c-0.5012 0.5012-0.78281 1.1811-0.78281 1.8899s0.28161 1.3887 0.78281 1.8899c0.5012 0.5012 1.1811 0.78281 1.8899 0.78281z\" clip-path=\"url(#2613f6259f3)\" fill=\"#e4c994\" stroke=\"#cdb585\" stroke-width=\".77263\"/><path d=\"m257.78 161.43c0.7088 0 1.3887-0.28161 1.8899-0.7828 0.5012-0.5012 0.78281-1.1811 0.78281-1.8899s-0.28161-1.3887-0.78281-1.8899c-0.5012-0.5012-1.1811-0.7828-1.8899-0.7828s-1.3887 0.28161-1.8899 0.7828c-0.5012 0.5012-0.7828 1.1811-0.7828 1.8899s0.28161 1.3887 0.7828 1.8899c0.5012 0.5012 1.1811 0.7828 1.8899 0.7828z\" clip-path=\"url(#2613f6259f3)\" fill=\"#df890e\" stroke=\"#c97c0d\" stroke-width=\".77263\"/><path d=\"m275.44 161.7c0.7088 0 1.3887-0.28161 1.8899-0.7828 0.5012-0.5012 0.78281-1.1811 0.78281-1.8899s-0.28161-1.3887-0.78281-1.8899c-0.5012-0.5012-1.1811-0.78281-1.8899-0.78281s-1.3887 0.28161-1.8899 0.78281c-0.5012 0.5012-0.7828 1.1811-0.7828 1.8899s0.28161 1.3887 0.7828 1.8899c0.5012 0.5012 1.1811 0.7828 1.8899 0.7828z\" clip-path=\"url(#2613f6259f3)\" fill=\"#d99248\" stroke=\"#c38341\" stroke-width=\".77263\"/><path d=\"m292.03 162.15c0.7088 0 1.3887-0.28161 1.8899-0.7828 0.5012-0.5012 0.7828-1.1811 0.7828-1.8899s-0.28161-1.3887-0.7828-1.8899c-0.5012-0.5012-1.1811-0.7828-1.8899-0.7828s-1.3887 0.28161-1.8899 0.7828c-0.5012 0.5012-0.78281 1.1811-0.78281 1.8899s0.28161 1.3887 0.78281 1.8899c0.5012 0.5012 1.1811 0.7828 1.8899 0.7828z\" clip-path=\"url(#2613f6259f3)\" fill=\"#d4a684\" stroke=\"#bf9576\" stroke-width=\".77263\"/><path d=\"m307.82 162.85c0.7088 0 1.3887-0.28161 1.8899-0.78281 0.5012-0.5012 0.78281-1.1811 0.78281-1.8899s-0.28161-1.3887-0.78281-1.8899c-0.5012-0.5012-1.1811-0.7828-1.8899-0.7828s-1.3887 0.28161-1.8899 0.7828c-0.5012 0.5012-0.7828 1.1811-0.7828 1.8899s0.28161 1.3887 0.7828 1.8899c0.5012 0.5012 1.1811 0.78281 1.8899 0.78281z\" clip-path=\"url(#2613f6259f3)\" fill=\"#d26a43\" stroke=\"#bd603c\" stroke-width=\".77263\"/><path d=\"m322.05 163.77c0.7088 0 1.3887-0.28161 1.8899-0.78281 0.5012-0.5012 0.7828-1.1811 0.7828-1.8899s-0.28161-1.3887-0.7828-1.8899c-0.5012-0.5012-1.1811-0.7828-1.8899-0.7828s-1.3887 0.28161-1.8899 0.7828c-0.5012 0.5012-0.78281 1.1811-0.78281 1.8899s0.28161 1.3887 0.78281 1.8899c0.5012 0.5012 1.1811 0.78281 1.8899 0.78281z\" clip-path=\"url(#2613f6259f3)\" fill=\"#cf9a9b\" stroke=\"#ba8a8c\" stroke-width=\".77263\"/><path d=\"m335.13 164.55c0.7088 0 1.3887-0.28161 1.8899-0.78281 0.5012-0.5012 0.78281-1.1811 0.78281-1.8899s-0.28161-1.3887-0.78281-1.8899c-0.5012-0.5012-1.1811-0.78281-1.8899-0.78281s-1.3887 0.28161-1.8899 0.78281c-0.5012 0.5012-0.7828 1.1811-0.7828 1.8899s0.28161 1.3887 0.7828 1.8899c0.5012 0.5012 1.1811 0.78281 1.8899 0.78281z\" clip-path=\"url(#2613f6259f3)\" fill=\"#cca5bb\" stroke=\"#b894a8\" stroke-width=\".77263\"/><path d=\"m13.422 154.13c0.7088 0 1.3887-0.28161 1.8899-0.78281 0.5012-0.5012 0.7828-1.1811 0.7828-1.8899s-0.28161-1.3887-0.7828-1.8899c-0.5012-0.5012-1.1811-0.7828-1.8899-0.7828s-1.3887 0.28161-1.8899 0.7828c-0.5012 0.5012-0.78281 1.1811-0.78281 1.8899s0.28161 1.3887 0.78281 1.8899c0.5012 0.5012 1.1811 0.78281 1.8899 0.78281z\" clip-path=\"url(#2613f6259f3)\" fill=\"#0072b2\" stroke=\"#0067a0\" stroke-width=\".77263\"/><path d=\"m21.89 153.97c0.7088 0 1.3887-0.28161 1.8899-0.7828 0.5012-0.5012 0.7828-1.1811 0.7828-1.8899s-0.28161-1.3887-0.7828-1.8899c-0.5012-0.5012-1.1811-0.78281-1.8899-0.78281s-1.3887 0.28161-1.8899 0.78281c-0.5012 0.5012-0.78281 1.1811-0.78281 1.8899s0.28161 1.3887 0.78281 1.8899c0.5012 0.5012 1.1811 0.7828 1.8899 0.7828z\" clip-path=\"url(#2613f6259f3)\" fill=\"#73a6c3\" stroke=\"#6896af\" stroke-width=\".77263\"/><path d=\"m34.676 153.97c0.7088 0 1.3887-0.28161 1.8899-0.78281 0.5012-0.5012 0.7828-1.1811 0.7828-1.8899s-0.28161-1.3887-0.7828-1.8899c-0.5012-0.5012-1.1811-0.7828-1.8899-0.7828s-1.3887 0.28161-1.8899 0.7828c-0.5012 0.5012-0.7828 1.1811-0.7828 1.8899s0.28161 1.3887 0.7828 1.8899c0.5012 0.5012 1.1811 0.78281 1.8899 0.78281z\" clip-path=\"url(#2613f6259f3)\" fill=\"#7ab3d4\" stroke=\"#6ea1be\" stroke-width=\".77263\"/><path d=\"m49.818 154.06c0.7088 0 1.3887-0.28161 1.8899-0.7828 0.5012-0.5012 0.78281-1.1811 0.78281-1.8899s-0.28161-1.3887-0.78281-1.8899c-0.5012-0.5012-1.1811-0.78281-1.8899-0.78281s-1.3887 0.28161-1.8899 0.78281c-0.5012 0.5012-0.78281 1.1811-0.78281 1.8899s0.28161 1.3887 0.78281 1.8899c0.5012 0.5012 1.1811 0.7828 1.8899 0.7828z\" clip-path=\"url(#2613f6259f3)\" fill=\"#53b1e6\" stroke=\"#4b9fcf\" stroke-width=\".77263\"/><path d=\"m66.487 154.07c0.7088 0 1.3887-0.28161 1.8899-0.7828 0.5012-0.5012 0.7828-1.1811 0.7828-1.8899s-0.28161-1.3887-0.7828-1.8899c-0.5012-0.5012-1.1811-0.7828-1.8899-0.7828s-1.3887 0.28161-1.8899 0.7828c-0.5012 0.5012-0.7828 1.1811-0.7828 1.8899s0.28161 1.3887 0.7828 1.8899c0.5012 0.5012 1.1811 0.7828 1.8899 0.7828z\" clip-path=\"url(#2613f6259f3)\" fill=\"#94c0cc\" stroke=\"#86adb7\" stroke-width=\".77263\"/><path d=\"m84.234 153.99c0.7088 0 1.3887-0.28161 1.8899-0.7828 0.5012-0.5012 0.7828-1.1811 0.7828-1.8899s-0.28161-1.3887-0.7828-1.8899c-0.5012-0.5012-1.1811-0.7828-1.8899-0.7828s-1.3887 0.28161-1.8899 0.7828-0.7828 1.1811-0.7828 1.8899 0.28161 1.3887 0.7828 1.8899c0.5012 0.5012 1.1811 0.7828 1.8899 0.7828z\" clip-path=\"url(#2613f6259f3)\" fill=\"#50a7a6\" stroke=\"#489795\" stroke-width=\".77263\"/><path d=\"m102.77 153.85c0.7088 0 1.3887-0.28161 1.8899-0.7828 0.5012-0.5012 0.7828-1.1811 0.7828-1.8899s-0.28161-1.3887-0.7828-1.8899c-0.5012-0.5012-1.1811-0.7828-1.8899-0.7828s-1.3887 0.28161-1.8899 0.7828-0.7828 1.1811-0.7828 1.8899 0.28161 1.3887 0.7828 1.8899c0.5012 0.5012 1.1811 0.7828 1.8899 0.7828z\" clip-path=\"url(#2613f6259f3)\" fill=\"#14a183\" stroke=\"#129176\" stroke-width=\".77263\"/><path d=\"m121.91 153.66c0.7088 0 1.3887-0.28161 1.8899-0.7828 0.5012-0.5012 0.78281-1.1811 0.78281-1.8899s-0.28161-1.3887-0.78281-1.8899c-0.5012-0.5012-1.1811-0.78281-1.8899-0.78281s-1.3887 0.28161-1.8899 0.78281c-0.5012 0.5012-0.78281 1.1811-0.78281 1.8899s0.28161 1.3887 0.78281 1.8899c0.5012 0.5012 1.1811 0.7828 1.8899 0.7828z\" clip-path=\"url(#2613f6259f3)\" fill=\"#82ad95\" stroke=\"#759c86\" stroke-width=\".77263\"/><path d=\"m141.43 153.48c0.7088 0 1.3887-0.28161 1.8899-0.7828 0.5012-0.5012 0.78281-1.1811 0.78281-1.8899s-0.28161-1.3887-0.78281-1.8899c-0.5012-0.5012-1.1811-0.7828-1.8899-0.7828s-1.3887 0.28161-1.8899 0.7828c-0.5012 0.5012-0.78281 1.1811-0.78281 1.8899s0.28161 1.3887 0.78281 1.8899c0.5012 0.5012 1.1811 0.7828 1.8899 0.7828z\" clip-path=\"url(#2613f6259f3)\" fill=\"#8cc272\" stroke=\"#7eaf66\" stroke-width=\".77263\"/><path d=\"m161.2 153.31c0.7088 0 1.3887-0.28161 1.8899-0.7828 0.5012-0.5012 0.78281-1.1811 0.78281-1.8899s-0.28161-1.3887-0.78281-1.8899c-0.5012-0.5012-1.1811-0.78281-1.8899-0.78281s-1.3887 0.28161-1.8899 0.78281c-0.5012 0.5012-0.7828 1.1811-0.7828 1.8899s0.28161 1.3887 0.7828 1.8899c0.5012 0.5012 1.1811 0.7828 1.8899 0.7828z\" clip-path=\"url(#2613f6259f3)\" fill=\"#cdd95d\" stroke=\"#b9c454\" stroke-width=\".77263\"/><path d=\"m181.05 153.13c0.7088 0 1.3887-0.28161 1.8899-0.7828 0.5012-0.5012 0.78281-1.1811 0.78281-1.8899s-0.28161-1.3887-0.78281-1.8899c-0.5012-0.5012-1.1811-0.7828-1.8899-0.7828s-1.3887 0.28161-1.8899 0.7828c-0.5012 0.5012-0.78281 1.1811-0.78281 1.8899s0.28161 1.3887 0.78281 1.8899c0.5012 0.5012 1.1811 0.7828 1.8899 0.7828z\" clip-path=\"url(#2613f6259f3)\" fill=\"#eee7b1\" stroke=\"#d7d0a0\" stroke-width=\".77263\"/><path d=\"m200.83 152.97c0.7088 0 1.3887-0.28161 1.8899-0.7828 0.5012-0.5012 0.7828-1.1811 0.7828-1.8899s-0.28161-1.3887-0.7828-1.8899c-0.5012-0.5012-1.1811-0.78281-1.8899-0.78281s-1.3887 0.28161-1.8899 0.78281c-0.5012 0.5012-0.7828 1.1811-0.7828 1.8899s0.28161 1.3887 0.7828 1.8899c0.5012 0.5012 1.1811 0.7828 1.8899 0.7828z\" clip-path=\"url(#2613f6259f3)\" fill=\"#ebc83e\" stroke=\"#d4b438\" stroke-width=\".77263\"/><path d=\"m220.41 152.86c0.7088 0 1.3887-0.28161 1.8899-0.78281 0.5012-0.5012 0.78281-1.1811 0.78281-1.8899s-0.28161-1.3887-0.78281-1.8899c-0.5012-0.5012-1.1811-0.78281-1.8899-0.78281s-1.3887 0.28161-1.8899 0.78281c-0.5012 0.5012-0.7828 1.1811-0.7828 1.8899s0.28161 1.3887 0.7828 1.8899c0.5012 0.5012 1.1811 0.78281 1.8899 0.78281z\" clip-path=\"url(#2613f6259f3)\" fill=\"#e8bb40\" stroke=\"#d1a83a\" stroke-width=\".77263\"/><path d=\"m239.7 152.82c0.7088 0 1.3887-0.28161 1.8899-0.78281 0.5012-0.5012 0.78281-1.1811 0.78281-1.8899s-0.28161-1.3887-0.78281-1.8899c-0.5012-0.5012-1.1811-0.78281-1.8899-0.78281s-1.3887 0.28161-1.8899 0.78281c-0.5012 0.5012-0.7828 1.1811-0.7828 1.8899s0.28161 1.3887 0.7828 1.8899c0.5012 0.5012 1.1811 0.78281 1.8899 0.78281z\" clip-path=\"url(#2613f6259f3)\" fill=\"#e4c994\" stroke=\"#cdb585\" stroke-width=\".77263\"/><path d=\"m258.41 152.9c0.7088 0 1.3887-0.28161 1.8899-0.78281 0.5012-0.5012 0.7828-1.1811 0.7828-1.8899s-0.28161-1.3887-0.7828-1.8899c-0.5012-0.5012-1.1811-0.78281-1.8899-0.78281s-1.3887 0.28161-1.8899 0.78281c-0.5012 0.5012-0.7828 1.1811-0.7828 1.8899s0.28161 1.3887 0.7828 1.8899c0.5012 0.5012 1.1811 0.78281 1.8899 0.78281z\" clip-path=\"url(#2613f6259f3)\" fill=\"#df890e\" stroke=\"#c97c0d\" stroke-width=\".77263\"/><path d=\"m276.42 153.13c0.7088 0 1.3887-0.28161 1.8899-0.7828 0.5012-0.5012 0.7828-1.1811 0.7828-1.8899s-0.28161-1.3887-0.7828-1.8899c-0.5012-0.5012-1.1811-0.78281-1.8899-0.78281s-1.3887 0.28161-1.8899 0.78281c-0.5012 0.5012-0.78281 1.1811-0.78281 1.8899s0.28161 1.3887 0.78281 1.8899c0.5012 0.5012 1.1811 0.7828 1.8899 0.7828z\" clip-path=\"url(#2613f6259f3)\" fill=\"#d99248\" stroke=\"#c38341\" stroke-width=\".77263\"/><path d=\"m294.05 153.6c0.7088 0 1.3887-0.28161 1.8899-0.78281 0.5012-0.5012 0.7828-1.1811 0.7828-1.8899s-0.28161-1.3887-0.7828-1.8899c-0.5012-0.5012-1.1811-0.7828-1.8899-0.7828s-1.3887 0.28161-1.8899 0.7828c-0.5012 0.5012-0.7828 1.1811-0.7828 1.8899s0.28161 1.3887 0.7828 1.8899c0.5012 0.5012 1.1811 0.78281 1.8899 0.78281z\" clip-path=\"url(#2613f6259f3)\" fill=\"#d4a684\" stroke=\"#bf9576\" stroke-width=\".77263\"/><path d=\"m310.46 154.29c0.7088 0 1.3887-0.28161 1.8899-0.7828 0.5012-0.5012 0.7828-1.1811 0.7828-1.8899s-0.28161-1.3887-0.7828-1.8899c-0.5012-0.5012-1.1811-0.7828-1.8899-0.7828s-1.3887 0.28161-1.8899 0.7828c-0.5012 0.5012-0.7828 1.1811-0.7828 1.8899s0.28161 1.3887 0.7828 1.8899 1.1811 0.7828 1.8899 0.7828z\" clip-path=\"url(#2613f6259f3)\" fill=\"#d26a43\" stroke=\"#bd603c\" stroke-width=\".77263\"/><path d=\"m324.9 155.19c0.7088 0 1.3887-0.28161 1.8899-0.7828 0.5012-0.5012 0.78281-1.1811 0.78281-1.8899s-0.28161-1.3887-0.78281-1.8899c-0.5012-0.5012-1.1811-0.7828-1.8899-0.7828s-1.3887 0.28161-1.8899 0.7828c-0.5012 0.5012-0.78281 1.1811-0.78281 1.8899s0.28161 1.3887 0.78281 1.8899c0.5012 0.5012 1.1811 0.7828 1.8899 0.7828z\" clip-path=\"url(#2613f6259f3)\" fill=\"#cf9a9b\" stroke=\"#ba8a8c\" stroke-width=\".77263\"/><path d=\"m335.78 156.1c0.7088 0 1.3887-0.28161 1.8899-0.78281 0.5012-0.5012 0.78281-1.1811 0.78281-1.8899s-0.28161-1.3887-0.78281-1.8899c-0.5012-0.5012-1.1811-0.7828-1.8899-0.7828s-1.3887 0.28161-1.8899 0.7828c-0.5012 0.5012-0.7828 1.1811-0.7828 1.8899s0.28161 1.3887 0.7828 1.8899c0.5012 0.5012 1.1811 0.78281 1.8899 0.78281z\" clip-path=\"url(#2613f6259f3)\" fill=\"#cca5bb\" stroke=\"#b894a8\" stroke-width=\".77263\"/><g transform=\"translate(7.7854 163.21) scale(.1 -.1)\" fill=\"#545759\"><defs><path id=\"DejaVuSansMono-49\" transform=\"scale(.015625)\" d=\"m628 4666h2591v-532h-978v-3603h978v-531h-2591v531h978v3603h-978v532z\"/><path id=\"DejaVuSansMono-30\" transform=\"scale(.015625)\" d=\"m1509 2344q0 172 120 297 121 125 290 125 175 0 300-125t125-297q0-175-124-297-123-122-301-122-175 0-293 119-117 119-117 300zm416 1906q-441 0-658-475t-217-1447q0-969 217-1444t658-475q444 0 661 475t217 1444q0 972-217 1447t-661 475zm0 500q747 0 1130-613 383-612 383-1809 0-1194-383-1807-383-612-1130-612t-1128 612q-381 613-381 1807 0 1197 381 1809 381 613 1128 613z\"/></defs><use xlink:href=\"#DejaVuSansMono-49\"/><use x=\"60.205078\" xlink:href=\"#DejaVuSansMono-30\"/></g><g transform=\"translate(17.354 163.34) scale(.1 -.1)\" fill=\"#545759\"><defs><path id=\"DejaVuSansMono-31\" transform=\"scale(.015625)\" d=\"m844 531h981v3566l-1056-238v575l1050 232h631v-4135h969v-531h-2575v531z\"/></defs><use xlink:href=\"#DejaVuSansMono-49\"/><use x=\"60.205078\" xlink:href=\"#DejaVuSansMono-31\"/></g><g transform=\"translate(29.404 163.2) scale(.1 -.1)\" fill=\"#545759\"><defs><path id=\"DejaVuSansMono-32\" transform=\"scale(.015625)\" d=\"m1166 531h2143v-531h-2834v531q584 616 1021 1088 438 472 604 665 313 382 422 618t109 482q0 391-230 613-229 222-629 222-284 0-597-103-312-103-662-313v638q321 153 632 231t614 78q685 0 1102-364t417-955q0-300-139-600t-451-662q-175-203-508-563-333-359-1014-1075z\"/></defs><use xlink:href=\"#DejaVuSansMono-49\"/><use x=\"60.205078\" xlink:href=\"#DejaVuSansMono-32\"/></g><g transform=\"translate(44.216 163.07) scale(.1 -.1)\" fill=\"#545759\"><defs><path id=\"DejaVuSansMono-33\" transform=\"scale(.015625)\" d=\"m2425 2497q459-122 703-433t244-776q0-644-433-1012-433-367-1198-367-322 0-657 60-334 59-656 172v628q319-166 628-247 310-81 616-81 519 0 797 234t278 675q0 406-278 645t-753 239h-482v519h482q434 0 678 190 244 191 244 532 0 359-227 551-227 193-645 193-278 0-575-63-297-62-622-187v581q378 100 673 150 296 50 524 50 681 0 1089-342t408-908q0-384-215-641-214-256-623-362z\"/></defs><use xlink:href=\"#DejaVuSansMono-49\"/><use x=\"60.205078\" xlink:href=\"#DejaVuSansMono-33\"/></g><g transform=\"translate(60.725 162.93) scale(.1 -.1)\" fill=\"#545759\"><defs><path id=\"DejaVuSansMono-34\" transform=\"scale(.015625)\" d=\"m2297 4091-1472-2466h1472v2466zm-103 575h731v-3041h622v-512h-622v-1113h-628v1113h-1978v596l1875 2957z\"/></defs><use xlink:href=\"#DejaVuSansMono-49\"/><use x=\"60.205078\" xlink:href=\"#DejaVuSansMono-34\"/></g><g transform=\"translate(78.403 162.74) scale(.1 -.1)\" fill=\"#545759\"><defs><path id=\"DejaVuSansMono-35\" transform=\"scale(.015625)\" d=\"m647 4666h2362v-532h-1787v-1146q134 50 270 73t274 23q725 0 1150-428t425-1159q0-738-446-1163-445-425-1217-425-372 0-680 50-307 50-551 150v641q287-156 578-233 291-76 594-76 522 0 804 275 283 275 283 781 0 500-292 778t-814 278q-253 0-494-58-240-57-459-173v2344z\"/></defs><use xlink:href=\"#DejaVuSansMono-49\"/><use x=\"60.205078\" xlink:href=\"#DejaVuSansMono-35\"/></g><g transform=\"translate(96.91 162.51) scale(.1 -.1)\" fill=\"#545759\"><defs><path id=\"DejaVuSansMono-36\" transform=\"scale(.015625)\" d=\"m3097 4563v-582q-197 116-419 177t-462 61q-600 0-910-452-309-451-309-1329 150 312 415 479 266 167 610 167 675 0 1045-414 371-414 371-1173 0-756-382-1172-381-416-1072-416-812 0-1190 583t-378 1836q0 1181 454 1801 455 621 1318 621 231 0 462-49 231-48 447-138zm-1125-1972q-403 0-635-291-231-291-231-803 0-513 231-804 232-290 635-290 419 0 631 276 213 277 213 818 0 544-213 819-212 275-631 275z\"/></defs><use xlink:href=\"#DejaVuSansMono-49\"/><use x=\"60.205078\" xlink:href=\"#DejaVuSansMono-36\"/></g><g transform=\"translate(116 162.26) scale(.1 -.1)\" fill=\"#545759\"><defs><path id=\"DejaVuSansMono-37\" transform=\"scale(.015625)\" d=\"m434 4666h2938v-269l-1669-4397h-659l1625 4134h-2235v532z\"/></defs><use xlink:href=\"#DejaVuSansMono-49\"/><use x=\"60.205078\" xlink:href=\"#DejaVuSansMono-37\"/></g><g transform=\"translate(135.48 162.05) scale(.1 -.1)\" fill=\"#545759\"><defs><path id=\"DejaVuSansMono-38\" transform=\"scale(.015625)\" d=\"m1925 2216q-422 0-652-236-229-236-229-667 0-432 232-671 233-239 649-239 425 0 654 236 230 236 230 674 0 428-233 665-232 238-651 238zm-550 262q-403 103-630 384-226 282-226 679 0 556 378 882 378 327 1028 327 653 0 1031-327 378-326 378-882 0-397-227-679-226-281-629-384 469-103 717-416 249-312 249-809 0-631-403-988-403-356-1116-356-712 0-1114 355t-402 983q0 500 248 814 249 314 718 417zm-228 1003q0-375 200-572 200-196 578-196 381 0 581 196 200 197 200 572 0 382-199 582-198 200-582 200-378 0-578-202t-200-580z\"/></defs><use xlink:href=\"#DejaVuSansMono-49\"/><use x=\"60.205078\" xlink:href=\"#DejaVuSansMono-38\"/></g><g transform=\"translate(155.18 161.88) scale(.1 -.1)\" fill=\"#545759\"><defs><path id=\"DejaVuSansMono-39\" transform=\"scale(.015625)\" d=\"m1863 2069q403 0 632 290 230 291 230 804 0 512-230 802-229 291-632 291-419 0-632-277-212-276-212-816 0-544 211-819t633-275zm-1125-1972v581q196-115 418-176t463-61q600 0 907 451 308 452 308 1330-146-313-412-480t-609-167q-675 0-1046 415-370 416-370 1179 0 753 379 1167 380 414 1074 414 813 0 1191-585 378-584 378-1837 0-1178-455-1799-455-620-1320-620-228 0-460 49-231 48-446 139z\"/></defs><use xlink:href=\"#DejaVuSansMono-49\"/><use x=\"60.205078\" xlink:href=\"#DejaVuSansMono-39\"/></g><g transform=\"translate(172 161.67) scale(.1 -.1)\" fill=\"#545759\"><use xlink:href=\"#DejaVuSansMono-49\"/><use x=\"60.205078\" xlink:href=\"#DejaVuSansMono-31\"/><use x=\"120.410156\" xlink:href=\"#DejaVuSansMono-30\"/></g><g transform=\"translate(191.74 161.51) scale(.1 -.1)\" fill=\"#545759\"><use xlink:href=\"#DejaVuSansMono-49\"/><use x=\"60.205078\" xlink:href=\"#DejaVuSansMono-31\"/><use x=\"120.410156\" xlink:href=\"#DejaVuSansMono-31\"/></g><g transform=\"translate(211.2 161.43) scale(.1 -.1)\" fill=\"#545759\"><use xlink:href=\"#DejaVuSansMono-49\"/><use x=\"60.205078\" xlink:href=\"#DejaVuSansMono-31\"/><use x=\"120.410156\" xlink:href=\"#DejaVuSansMono-32\"/></g><g transform=\"translate(230.3 161.42) scale(.1 -.1)\" fill=\"#545759\"><use xlink:href=\"#DejaVuSansMono-49\"/><use x=\"60.205078\" xlink:href=\"#DejaVuSansMono-31\"/><use x=\"120.410156\" xlink:href=\"#DejaVuSansMono-33\"/></g><g transform=\"translate(248.75 161.54) scale(.1 -.1)\" fill=\"#545759\"><use xlink:href=\"#DejaVuSansMono-49\"/><use x=\"60.205078\" xlink:href=\"#DejaVuSansMono-31\"/><use x=\"120.410156\" xlink:href=\"#DejaVuSansMono-34\"/></g><g transform=\"translate(266.41 161.81) scale(.1 -.1)\" fill=\"#545759\"><use xlink:href=\"#DejaVuSansMono-49\"/><use x=\"60.205078\" xlink:href=\"#DejaVuSansMono-31\"/><use x=\"120.410156\" xlink:href=\"#DejaVuSansMono-35\"/></g><g transform=\"translate(283 162.27) scale(.1 -.1)\" fill=\"#545759\"><use xlink:href=\"#DejaVuSansMono-49\"/><use x=\"60.205078\" xlink:href=\"#DejaVuSansMono-31\"/><use x=\"120.410156\" xlink:href=\"#DejaVuSansMono-36\"/></g><g transform=\"translate(298.79 162.96) scale(.1 -.1)\" fill=\"#545759\"><use xlink:href=\"#DejaVuSansMono-49\"/><use x=\"60.205078\" xlink:href=\"#DejaVuSansMono-31\"/><use x=\"120.410156\" xlink:href=\"#DejaVuSansMono-37\"/></g><g transform=\"translate(313.02 163.89) scale(.1 -.1)\" fill=\"#545759\"><use xlink:href=\"#DejaVuSansMono-49\"/><use x=\"60.205078\" xlink:href=\"#DejaVuSansMono-31\"/><use x=\"120.410156\" xlink:href=\"#DejaVuSansMono-38\"/></g><g transform=\"translate(326.1 164.66) scale(.1 -.1)\" fill=\"#545759\"><use xlink:href=\"#DejaVuSansMono-49\"/><use x=\"60.205078\" xlink:href=\"#DejaVuSansMono-31\"/><use x=\"120.410156\" xlink:href=\"#DejaVuSansMono-39\"/></g><g transform=\"translate(7.402 154.25) scale(.1 -.1)\" fill=\"#545759\"><use xlink:href=\"#DejaVuSansMono-49\"/><use x=\"60.205078\" xlink:href=\"#DejaVuSansMono-30\"/></g><g transform=\"translate(15.87 154.08) scale(.1 -.1)\" fill=\"#545759\"><use xlink:href=\"#DejaVuSansMono-49\"/><use x=\"60.205078\" xlink:href=\"#DejaVuSansMono-31\"/></g><g transform=\"translate(28.656 154.08) scale(.1 -.1)\" fill=\"#545759\"><use xlink:href=\"#DejaVuSansMono-49\"/><use x=\"60.205078\" xlink:href=\"#DejaVuSansMono-32\"/></g><g transform=\"translate(43.798 154.17) scale(.1 -.1)\" fill=\"#545759\"><use xlink:href=\"#DejaVuSansMono-49\"/><use x=\"60.205078\" xlink:href=\"#DejaVuSansMono-33\"/></g><g transform=\"translate(60.467 154.18) scale(.1 -.1)\" fill=\"#545759\"><use xlink:href=\"#DejaVuSansMono-49\"/><use x=\"60.205078\" xlink:href=\"#DejaVuSansMono-34\"/></g><g transform=\"translate(78.214 154.1) scale(.1 -.1)\" fill=\"#545759\"><use xlink:href=\"#DejaVuSansMono-49\"/><use x=\"60.205078\" xlink:href=\"#DejaVuSansMono-35\"/></g><g transform=\"translate(96.754 153.96) scale(.1 -.1)\" fill=\"#545759\"><use xlink:href=\"#DejaVuSansMono-49\"/><use x=\"60.205078\" xlink:href=\"#DejaVuSansMono-36\"/></g><g transform=\"translate(115.89 153.77) scale(.1 -.1)\" fill=\"#545759\"><use xlink:href=\"#DejaVuSansMono-49\"/><use x=\"60.205078\" xlink:href=\"#DejaVuSansMono-37\"/></g><g transform=\"translate(135.41 153.6) scale(.1 -.1)\" fill=\"#545759\"><use xlink:href=\"#DejaVuSansMono-49\"/><use x=\"60.205078\" xlink:href=\"#DejaVuSansMono-38\"/></g><g transform=\"translate(155.18 153.42) scale(.1 -.1)\" fill=\"#545759\"><use xlink:href=\"#DejaVuSansMono-49\"/><use x=\"60.205078\" xlink:href=\"#DejaVuSansMono-39\"/></g><g transform=\"translate(172.02 153.24) scale(.1 -.1)\" fill=\"#545759\"><use xlink:href=\"#DejaVuSansMono-49\"/><use x=\"60.205078\" xlink:href=\"#DejaVuSansMono-31\"/><use x=\"120.410156\" xlink:href=\"#DejaVuSansMono-30\"/></g><g transform=\"translate(191.8 153.08) scale(.1 -.1)\" fill=\"#545759\"><use xlink:href=\"#DejaVuSansMono-49\"/><use x=\"60.205078\" xlink:href=\"#DejaVuSansMono-31\"/><use x=\"120.410156\" xlink:href=\"#DejaVuSansMono-31\"/></g><g transform=\"translate(211.38 152.97) scale(.1 -.1)\" fill=\"#545759\"><use xlink:href=\"#DejaVuSansMono-49\"/><use x=\"60.205078\" xlink:href=\"#DejaVuSansMono-31\"/><use x=\"120.410156\" xlink:href=\"#DejaVuSansMono-32\"/></g><g transform=\"translate(230.67 152.94) scale(.1 -.1)\" fill=\"#545759\"><use xlink:href=\"#DejaVuSansMono-49\"/><use x=\"60.205078\" xlink:href=\"#DejaVuSansMono-31\"/><use x=\"120.410156\" xlink:href=\"#DejaVuSansMono-33\"/></g><g transform=\"translate(249.38 153.01) scale(.1 -.1)\" fill=\"#545759\"><use xlink:href=\"#DejaVuSansMono-49\"/><use x=\"60.205078\" xlink:href=\"#DejaVuSansMono-31\"/><use x=\"120.410156\" xlink:href=\"#DejaVuSansMono-34\"/></g><g transform=\"translate(267.39 153.24) scale(.1 -.1)\" fill=\"#545759\"><use xlink:href=\"#DejaVuSansMono-49\"/><use x=\"60.205078\" xlink:href=\"#DejaVuSansMono-31\"/><use x=\"120.410156\" xlink:href=\"#DejaVuSansMono-35\"/></g><g transform=\"translate(285.02 153.71) scale(.1 -.1)\" fill=\"#545759\"><use xlink:href=\"#DejaVuSansMono-49\"/><use x=\"60.205078\" xlink:href=\"#DejaVuSansMono-31\"/><use x=\"120.410156\" xlink:href=\"#DejaVuSansMono-36\"/></g><g transform=\"translate(301.43 154.4) scale(.1 -.1)\" fill=\"#545759\"><use xlink:href=\"#DejaVuSansMono-49\"/><use x=\"60.205078\" xlink:href=\"#DejaVuSansMono-31\"/><use x=\"120.410156\" xlink:href=\"#DejaVuSansMono-37\"/></g><g transform=\"translate(315.87 155.3) scale(.1 -.1)\" fill=\"#545759\"><use xlink:href=\"#DejaVuSansMono-49\"/><use x=\"60.205078\" xlink:href=\"#DejaVuSansMono-31\"/><use x=\"120.410156\" xlink:href=\"#DejaVuSansMono-38\"/></g><g transform=\"translate(326.75 156.21) scale(.1 -.1)\" fill=\"#545759\"><use xlink:href=\"#DejaVuSansMono-49\"/><use x=\"60.205078\" xlink:href=\"#DejaVuSansMono-31\"/><use x=\"120.410156\" xlink:href=\"#DejaVuSansMono-39\"/></g><path d=\"m349 304.82h56.081q2 0 2-2v-293.62q0-2-2-2h-56.081q-2 0-2 2v293.62q0 2 2 2z\" fill=\"none\" stroke=\"#999999\" stroke-opacity=\".2\"/><defs><path id=\"c387d0029cb\" d=\"m0 5c1.326 0 2.5979-0.52683 3.5355-1.4645 0.93763-0.93764 1.4645-2.2095 1.4645-3.5355s-0.52683-2.5979-1.4645-3.5355c-0.93764-0.93763-2.2095-1.4645-3.5355-1.4645s-2.5979 0.52683-3.5355 1.4645c-0.93763 0.93764-1.4645 2.2095-1.4645 3.5355s0.52683 2.5979 1.4645 3.5355c0.93764 0.93763 2.2095 1.4645 3.5355 1.4645z\" stroke=\"#0067a0\"/></defs><use x=\"361\" y=\"15.351562\" fill=\"#0072b2\" stroke=\"#0067a0\" xlink:href=\"#c387d0029cb\"/><g transform=\"translate(379 18.852) scale(.1 -.1)\" fill=\"#545759\"><defs></defs><use xlink:href=\"#DejaVuSansMono-20\"/><use x=\"60.205078\" xlink:href=\"#DejaVuSansMono-49\"/><use x=\"120.410156\" xlink:href=\"#DejaVuSansMono-30\"/></g><defs><path id=\"4e91d5d0a3e\" d=\"m0 5c1.326 0 2.5979-0.52683 3.5355-1.4645 0.93763-0.93764 1.4645-2.2095 1.4645-3.5355s-0.52683-2.5979-1.4645-3.5355c-0.93764-0.93763-2.2095-1.4645-3.5355-1.4645s-2.5979 0.52683-3.5355 1.4645c-0.93763 0.93764-1.4645 2.2095-1.4645 3.5355s0.52683 2.5979 1.4645 3.5355c0.93764 0.93763 2.2095 1.4645 3.5355 1.4645z\" stroke=\"#6896af\"/></defs><use x=\"361\" y=\"30.082812\" fill=\"#73a6c3\" stroke=\"#6896af\" xlink:href=\"#4e91d5d0a3e\"/><g transform=\"translate(379 33.583) scale(.1 -.1)\" fill=\"#545759\"><use xlink:href=\"#DejaVuSansMono-20\"/><use x=\"60.205078\" xlink:href=\"#DejaVuSansMono-49\"/><use x=\"120.410156\" xlink:href=\"#DejaVuSansMono-31\"/></g><defs><path id=\"4ee4281e73b\" d=\"m0 5c1.326 0 2.5979-0.52683 3.5355-1.4645 0.93763-0.93764 1.4645-2.2095 1.4645-3.5355s-0.52683-2.5979-1.4645-3.5355c-0.93764-0.93763-2.2095-1.4645-3.5355-1.4645s-2.5979 0.52683-3.5355 1.4645c-0.93763 0.93764-1.4645 2.2095-1.4645 3.5355s0.52683 2.5979 1.4645 3.5355c0.93764 0.93763 2.2095 1.4645 3.5355 1.4645z\" stroke=\"#6ea1be\"/></defs><use x=\"361\" y=\"44.814062\" fill=\"#7ab3d4\" stroke=\"#6ea1be\" xlink:href=\"#4ee4281e73b\"/><g transform=\"translate(379 48.314) scale(.1 -.1)\" fill=\"#545759\"><use xlink:href=\"#DejaVuSansMono-20\"/><use x=\"60.205078\" xlink:href=\"#DejaVuSansMono-49\"/><use x=\"120.410156\" xlink:href=\"#DejaVuSansMono-32\"/></g><defs><path id=\"201824926d9\" d=\"m0 5c1.326 0 2.5979-0.52683 3.5355-1.4645 0.93763-0.93764 1.4645-2.2095 1.4645-3.5355s-0.52683-2.5979-1.4645-3.5355c-0.93764-0.93763-2.2095-1.4645-3.5355-1.4645s-2.5979 0.52683-3.5355 1.4645c-0.93763 0.93764-1.4645 2.2095-1.4645 3.5355s0.52683 2.5979 1.4645 3.5355c0.93764 0.93763 2.2095 1.4645 3.5355 1.4645z\" stroke=\"#4b9fcf\"/></defs><use x=\"361\" y=\"59.545312\" fill=\"#53b1e6\" stroke=\"#4b9fcf\" xlink:href=\"#201824926d9\"/><g transform=\"translate(379 63.045) scale(.1 -.1)\" fill=\"#545759\"><use xlink:href=\"#DejaVuSansMono-20\"/><use x=\"60.205078\" xlink:href=\"#DejaVuSansMono-49\"/><use x=\"120.410156\" xlink:href=\"#DejaVuSansMono-33\"/></g><defs><path id=\"1acfcb3af71\" d=\"m0 5c1.326 0 2.5979-0.52683 3.5355-1.4645 0.93763-0.93764 1.4645-2.2095 1.4645-3.5355s-0.52683-2.5979-1.4645-3.5355c-0.93764-0.93763-2.2095-1.4645-3.5355-1.4645s-2.5979 0.52683-3.5355 1.4645c-0.93763 0.93764-1.4645 2.2095-1.4645 3.5355s0.52683 2.5979 1.4645 3.5355c0.93764 0.93763 2.2095 1.4645 3.5355 1.4645z\" stroke=\"#86adb7\"/></defs><use x=\"361\" y=\"74.276563\" fill=\"#94c0cc\" stroke=\"#86adb7\" xlink:href=\"#1acfcb3af71\"/><g transform=\"translate(379 77.777) scale(.1 -.1)\" fill=\"#545759\"><use xlink:href=\"#DejaVuSansMono-20\"/><use x=\"60.205078\" xlink:href=\"#DejaVuSansMono-49\"/><use x=\"120.410156\" xlink:href=\"#DejaVuSansMono-34\"/></g><defs><path id=\"b3e4ec9ab10\" d=\"m0 5c1.326 0 2.5979-0.52683 3.5355-1.4645 0.93763-0.93764 1.4645-2.2095 1.4645-3.5355s-0.52683-2.5979-1.4645-3.5355c-0.93764-0.93763-2.2095-1.4645-3.5355-1.4645s-2.5979 0.52683-3.5355 1.4645c-0.93763 0.93764-1.4645 2.2095-1.4645 3.5355s0.52683 2.5979 1.4645 3.5355c0.93764 0.93763 2.2095 1.4645 3.5355 1.4645z\" stroke=\"#489795\"/></defs><use x=\"361\" y=\"89.007812\" fill=\"#50a7a6\" stroke=\"#489795\" xlink:href=\"#b3e4ec9ab10\"/><g transform=\"translate(379 92.508) scale(.1 -.1)\" fill=\"#545759\"><use xlink:href=\"#DejaVuSansMono-20\"/><use x=\"60.205078\" xlink:href=\"#DejaVuSansMono-49\"/><use x=\"120.410156\" xlink:href=\"#DejaVuSansMono-35\"/></g><defs><path id=\"1a6200be264\" d=\"m0 5c1.326 0 2.5979-0.52683 3.5355-1.4645 0.93763-0.93764 1.4645-2.2095 1.4645-3.5355s-0.52683-2.5979-1.4645-3.5355c-0.93764-0.93763-2.2095-1.4645-3.5355-1.4645s-2.5979 0.52683-3.5355 1.4645c-0.93763 0.93764-1.4645 2.2095-1.4645 3.5355s0.52683 2.5979 1.4645 3.5355c0.93764 0.93763 2.2095 1.4645 3.5355 1.4645z\" stroke=\"#129176\"/></defs><use x=\"361\" y=\"103.739062\" fill=\"#14a183\" stroke=\"#129176\" xlink:href=\"#1a6200be264\"/><g transform=\"translate(379 107.24) scale(.1 -.1)\" fill=\"#545759\"><use xlink:href=\"#DejaVuSansMono-20\"/><use x=\"60.205078\" xlink:href=\"#DejaVuSansMono-49\"/><use x=\"120.410156\" xlink:href=\"#DejaVuSansMono-36\"/></g><defs><path id=\"dcf8bbb52ed\" d=\"m0 5c1.326 0 2.5979-0.52683 3.5355-1.4645 0.93763-0.93764 1.4645-2.2095 1.4645-3.5355s-0.52683-2.5979-1.4645-3.5355c-0.93764-0.93763-2.2095-1.4645-3.5355-1.4645s-2.5979 0.52683-3.5355 1.4645c-0.93763 0.93764-1.4645 2.2095-1.4645 3.5355s0.52683 2.5979 1.4645 3.5355c0.93764 0.93763 2.2095 1.4645 3.5355 1.4645z\" stroke=\"#759c86\"/></defs><use x=\"361\" y=\"118.470312\" fill=\"#82ad95\" stroke=\"#759c86\" xlink:href=\"#dcf8bbb52ed\"/><g transform=\"translate(379 121.97) scale(.1 -.1)\" fill=\"#545759\"><use xlink:href=\"#DejaVuSansMono-20\"/><use x=\"60.205078\" xlink:href=\"#DejaVuSansMono-49\"/><use x=\"120.410156\" xlink:href=\"#DejaVuSansMono-37\"/></g><defs><path id=\"91faafb9c2b\" d=\"m0 5c1.326 0 2.5979-0.52683 3.5355-1.4645 0.93763-0.93764 1.4645-2.2095 1.4645-3.5355s-0.52683-2.5979-1.4645-3.5355c-0.93764-0.93763-2.2095-1.4645-3.5355-1.4645s-2.5979 0.52683-3.5355 1.4645c-0.93763 0.93764-1.4645 2.2095-1.4645 3.5355s0.52683 2.5979 1.4645 3.5355c0.93764 0.93763 2.2095 1.4645 3.5355 1.4645z\" stroke=\"#7eaf66\"/></defs><use x=\"361\" y=\"133.201562\" fill=\"#8cc272\" stroke=\"#7eaf66\" xlink:href=\"#91faafb9c2b\"/><g transform=\"translate(379 136.7) scale(.1 -.1)\" fill=\"#545759\"><use xlink:href=\"#DejaVuSansMono-20\"/><use x=\"60.205078\" xlink:href=\"#DejaVuSansMono-49\"/><use x=\"120.410156\" xlink:href=\"#DejaVuSansMono-38\"/></g><defs><path id=\"b00919717f5\" d=\"m0 5c1.326 0 2.5979-0.52683 3.5355-1.4645 0.93763-0.93764 1.4645-2.2095 1.4645-3.5355s-0.52683-2.5979-1.4645-3.5355c-0.93764-0.93763-2.2095-1.4645-3.5355-1.4645s-2.5979 0.52683-3.5355 1.4645c-0.93763 0.93764-1.4645 2.2095-1.4645 3.5355s0.52683 2.5979 1.4645 3.5355c0.93764 0.93763 2.2095 1.4645 3.5355 1.4645z\" stroke=\"#b9c454\"/></defs><use x=\"361\" y=\"147.932813\" fill=\"#cdd95d\" stroke=\"#b9c454\" xlink:href=\"#b00919717f5\"/><g transform=\"translate(379 151.43) scale(.1 -.1)\" fill=\"#545759\"><use xlink:href=\"#DejaVuSansMono-20\"/><use x=\"60.205078\" xlink:href=\"#DejaVuSansMono-49\"/><use x=\"120.410156\" xlink:href=\"#DejaVuSansMono-39\"/></g><defs><path id=\"fd0386ffcf6\" d=\"m0 5c1.326 0 2.5979-0.52683 3.5355-1.4645 0.93763-0.93764 1.4645-2.2095 1.4645-3.5355s-0.52683-2.5979-1.4645-3.5355c-0.93764-0.93763-2.2095-1.4645-3.5355-1.4645s-2.5979 0.52683-3.5355 1.4645c-0.93763 0.93764-1.4645 2.2095-1.4645 3.5355s0.52683 2.5979 1.4645 3.5355c0.93764 0.93763 2.2095 1.4645 3.5355 1.4645z\" stroke=\"#d7d0a0\"/></defs><use x=\"361\" y=\"162.664062\" fill=\"#eee7b1\" stroke=\"#d7d0a0\" xlink:href=\"#fd0386ffcf6\"/><g transform=\"translate(379 166.16) scale(.1 -.1)\" fill=\"#545759\"><use xlink:href=\"#DejaVuSansMono-20\"/><use x=\"60.205078\" xlink:href=\"#DejaVuSansMono-49\"/><use x=\"120.410156\" xlink:href=\"#DejaVuSansMono-31\"/><use x=\"180.615234\" xlink:href=\"#DejaVuSansMono-30\"/></g><defs><path id=\"2acb71954c6\" d=\"m0 5c1.326 0 2.5979-0.52683 3.5355-1.4645 0.93763-0.93764 1.4645-2.2095 1.4645-3.5355s-0.52683-2.5979-1.4645-3.5355c-0.93764-0.93763-2.2095-1.4645-3.5355-1.4645s-2.5979 0.52683-3.5355 1.4645c-0.93763 0.93764-1.4645 2.2095-1.4645 3.5355s0.52683 2.5979 1.4645 3.5355c0.93764 0.93763 2.2095 1.4645 3.5355 1.4645z\" stroke=\"#d4b438\"/></defs><use x=\"361\" y=\"177.395312\" fill=\"#ebc83e\" stroke=\"#d4b438\" xlink:href=\"#2acb71954c6\"/><g transform=\"translate(379 180.9) scale(.1 -.1)\" fill=\"#545759\"><use xlink:href=\"#DejaVuSansMono-20\"/><use x=\"60.205078\" xlink:href=\"#DejaVuSansMono-49\"/><use x=\"120.410156\" xlink:href=\"#DejaVuSansMono-31\"/><use x=\"180.615234\" xlink:href=\"#DejaVuSansMono-31\"/></g><defs><path id=\"205330c87e5\" d=\"m0 5c1.326 0 2.5979-0.52683 3.5355-1.4645 0.93763-0.93764 1.4645-2.2095 1.4645-3.5355s-0.52683-2.5979-1.4645-3.5355c-0.93764-0.93763-2.2095-1.4645-3.5355-1.4645s-2.5979 0.52683-3.5355 1.4645c-0.93763 0.93764-1.4645 2.2095-1.4645 3.5355s0.52683 2.5979 1.4645 3.5355c0.93764 0.93763 2.2095 1.4645 3.5355 1.4645z\" stroke=\"#d1a83a\"/></defs><use x=\"361\" y=\"192.126562\" fill=\"#e8bb40\" stroke=\"#d1a83a\" xlink:href=\"#205330c87e5\"/><g transform=\"translate(379 195.63) scale(.1 -.1)\" fill=\"#545759\"><use xlink:href=\"#DejaVuSansMono-20\"/><use x=\"60.205078\" xlink:href=\"#DejaVuSansMono-49\"/><use x=\"120.410156\" xlink:href=\"#DejaVuSansMono-31\"/><use x=\"180.615234\" xlink:href=\"#DejaVuSansMono-32\"/></g><defs><path id=\"e1358751b11\" d=\"m0 5c1.326 0 2.5979-0.52683 3.5355-1.4645 0.93763-0.93764 1.4645-2.2095 1.4645-3.5355s-0.52683-2.5979-1.4645-3.5355c-0.93764-0.93763-2.2095-1.4645-3.5355-1.4645s-2.5979 0.52683-3.5355 1.4645c-0.93763 0.93764-1.4645 2.2095-1.4645 3.5355s0.52683 2.5979 1.4645 3.5355c0.93764 0.93763 2.2095 1.4645 3.5355 1.4645z\" stroke=\"#cdb585\"/></defs><use x=\"361\" y=\"206.857812\" fill=\"#e4c994\" stroke=\"#cdb585\" xlink:href=\"#e1358751b11\"/><g transform=\"translate(379 210.36) scale(.1 -.1)\" fill=\"#545759\"><use xlink:href=\"#DejaVuSansMono-20\"/><use x=\"60.205078\" xlink:href=\"#DejaVuSansMono-49\"/><use x=\"120.410156\" xlink:href=\"#DejaVuSansMono-31\"/><use x=\"180.615234\" xlink:href=\"#DejaVuSansMono-33\"/></g><defs><path id=\"560552cdeb5\" d=\"m0 5c1.326 0 2.5979-0.52683 3.5355-1.4645 0.93763-0.93764 1.4645-2.2095 1.4645-3.5355s-0.52683-2.5979-1.4645-3.5355c-0.93764-0.93763-2.2095-1.4645-3.5355-1.4645s-2.5979 0.52683-3.5355 1.4645c-0.93763 0.93764-1.4645 2.2095-1.4645 3.5355s0.52683 2.5979 1.4645 3.5355c0.93764 0.93763 2.2095 1.4645 3.5355 1.4645z\" stroke=\"#c97c0d\"/></defs><use x=\"361\" y=\"221.589062\" fill=\"#df890e\" stroke=\"#c97c0d\" xlink:href=\"#560552cdeb5\"/><g transform=\"translate(379 225.09) scale(.1 -.1)\" fill=\"#545759\"><use xlink:href=\"#DejaVuSansMono-20\"/><use x=\"60.205078\" xlink:href=\"#DejaVuSansMono-49\"/><use x=\"120.410156\" xlink:href=\"#DejaVuSansMono-31\"/><use x=\"180.615234\" xlink:href=\"#DejaVuSansMono-34\"/></g><defs><path id=\"c5a02ace560\" d=\"m0 5c1.326 0 2.5979-0.52683 3.5355-1.4645 0.93763-0.93764 1.4645-2.2095 1.4645-3.5355s-0.52683-2.5979-1.4645-3.5355c-0.93764-0.93763-2.2095-1.4645-3.5355-1.4645s-2.5979 0.52683-3.5355 1.4645c-0.93763 0.93764-1.4645 2.2095-1.4645 3.5355s0.52683 2.5979 1.4645 3.5355c0.93764 0.93763 2.2095 1.4645 3.5355 1.4645z\" stroke=\"#c38341\"/></defs><use x=\"361\" y=\"236.320312\" fill=\"#d99248\" stroke=\"#c38341\" xlink:href=\"#c5a02ace560\"/><g transform=\"translate(379 239.82) scale(.1 -.1)\" fill=\"#545759\"><use xlink:href=\"#DejaVuSansMono-20\"/><use x=\"60.205078\" xlink:href=\"#DejaVuSansMono-49\"/><use x=\"120.410156\" xlink:href=\"#DejaVuSansMono-31\"/><use x=\"180.615234\" xlink:href=\"#DejaVuSansMono-35\"/></g><defs><path id=\"409930c5716\" d=\"m0 5c1.326 0 2.5979-0.52683 3.5355-1.4645 0.93763-0.93764 1.4645-2.2095 1.4645-3.5355s-0.52683-2.5979-1.4645-3.5355c-0.93764-0.93763-2.2095-1.4645-3.5355-1.4645s-2.5979 0.52683-3.5355 1.4645c-0.93763 0.93764-1.4645 2.2095-1.4645 3.5355s0.52683 2.5979 1.4645 3.5355c0.93764 0.93763 2.2095 1.4645 3.5355 1.4645z\" stroke=\"#bf9576\"/></defs><use x=\"361\" y=\"251.051562\" fill=\"#d4a684\" stroke=\"#bf9576\" xlink:href=\"#409930c5716\"/><g transform=\"translate(379 254.55) scale(.1 -.1)\" fill=\"#545759\"><use xlink:href=\"#DejaVuSansMono-20\"/><use x=\"60.205078\" xlink:href=\"#DejaVuSansMono-49\"/><use x=\"120.410156\" xlink:href=\"#DejaVuSansMono-31\"/><use x=\"180.615234\" xlink:href=\"#DejaVuSansMono-36\"/></g><defs><path id=\"353b5abad90\" d=\"m0 5c1.326 0 2.5979-0.52683 3.5355-1.4645 0.93763-0.93764 1.4645-2.2095 1.4645-3.5355s-0.52683-2.5979-1.4645-3.5355c-0.93764-0.93763-2.2095-1.4645-3.5355-1.4645s-2.5979 0.52683-3.5355 1.4645c-0.93763 0.93764-1.4645 2.2095-1.4645 3.5355s0.52683 2.5979 1.4645 3.5355c0.93764 0.93763 2.2095 1.4645 3.5355 1.4645z\" stroke=\"#bd603c\"/></defs><use x=\"361\" y=\"265.782812\" fill=\"#d26a43\" stroke=\"#bd603c\" xlink:href=\"#353b5abad90\"/><g transform=\"translate(379 269.28) scale(.1 -.1)\" fill=\"#545759\"><use xlink:href=\"#DejaVuSansMono-20\"/><use x=\"60.205078\" xlink:href=\"#DejaVuSansMono-49\"/><use x=\"120.410156\" xlink:href=\"#DejaVuSansMono-31\"/><use x=\"180.615234\" xlink:href=\"#DejaVuSansMono-37\"/></g><defs><path id=\"5581e57ad92\" d=\"m0 5c1.326 0 2.5979-0.52683 3.5355-1.4645 0.93763-0.93764 1.4645-2.2095 1.4645-3.5355s-0.52683-2.5979-1.4645-3.5355c-0.93764-0.93763-2.2095-1.4645-3.5355-1.4645s-2.5979 0.52683-3.5355 1.4645c-0.93763 0.93764-1.4645 2.2095-1.4645 3.5355s0.52683 2.5979 1.4645 3.5355c0.93764 0.93763 2.2095 1.4645 3.5355 1.4645z\" stroke=\"#ba8a8c\"/></defs><use x=\"361\" y=\"280.514062\" fill=\"#cf9a9b\" stroke=\"#ba8a8c\" xlink:href=\"#5581e57ad92\"/><g transform=\"translate(379 284.01) scale(.1 -.1)\" fill=\"#545759\"><use xlink:href=\"#DejaVuSansMono-20\"/><use x=\"60.205078\" xlink:href=\"#DejaVuSansMono-49\"/><use x=\"120.410156\" xlink:href=\"#DejaVuSansMono-31\"/><use x=\"180.615234\" xlink:href=\"#DejaVuSansMono-38\"/></g><defs><path id=\"ecf072dd3c8\" d=\"m0 5c1.326 0 2.5979-0.52683 3.5355-1.4645 0.93763-0.93764 1.4645-2.2095 1.4645-3.5355s-0.52683-2.5979-1.4645-3.5355c-0.93764-0.93763-2.2095-1.4645-3.5355-1.4645s-2.5979 0.52683-3.5355 1.4645c-0.93763 0.93764-1.4645 2.2095-1.4645 3.5355s0.52683 2.5979 1.4645 3.5355c0.93764 0.93763 2.2095 1.4645 3.5355 1.4645z\" stroke=\"#b894a8\"/></defs><use x=\"361\" y=\"295.245312\" fill=\"#cca5bb\" stroke=\"#b894a8\" xlink:href=\"#ecf072dd3c8\"/><g transform=\"translate(379 298.75) scale(.1 -.1)\" fill=\"#545759\"><use xlink:href=\"#DejaVuSansMono-20\"/><use x=\"60.205078\" xlink:href=\"#DejaVuSansMono-49\"/><use x=\"120.410156\" xlink:href=\"#DejaVuSansMono-31\"/><use x=\"180.615234\" xlink:href=\"#DejaVuSansMono-39\"/></g><defs><clipPath id=\"2613f6259f3\"><rect x=\"7.2\" y=\"147.03\" width=\"334.8\" height=\"17.958\"/></clipPath></defs></svg>"
      ],
      "text/plain": [
       "<Figure size 600x600 with 1 Axes>"
      ]
     },
     "metadata": {
      "needs_background": "light"
     },
     "output_type": "display_data"
    }
   ],
   "source": [
    "(p.H & p).draw(color=[f'I{i}' for i in range(20)], layout=\"sfdp\")"
   ]
  },
  {
   "cell_type": "markdown",
   "id": "e5af2481-8ff8-45ca-9041-68bed470e193",
   "metadata": {
    "raw_mimetype": "text/restructuredtext"
   },
   "source": [
    "I.e. we used the fact that 1D tensor networks are tagged with the structure `\"I{}\"`\n",
    "denoting their sites. See the {ref}`examples` for how to fix the positions of tensors when drawing them.\n",
    "\n",
    "We can also **add** MPS, and **multiply/divide** them by scalars:"
   ]
  },
  {
   "cell_type": "code",
   "execution_count": 8,
   "id": "b4b8d8d0-85dc-4e78-b865-43733f8a2af7",
   "metadata": {
    "tags": []
   },
   "outputs": [
    {
     "name": "stdout",
     "output_type": "stream",
     "text": [
      " 4 8 16 32 64 100 100 100 100 100 100 100 100 100 100 100 100 100 100 \n",
      "●─●─●──●──●──●━━━●━━━●━━━●━━━●━━━●━━━●━━━●━━━●━━━●━━━●━━━●━━━●━━━●━━━●\n",
      "│ │ │  │  │  │   │   │   │   │   │   │   │   │   │   │   │   │   │   │\n"
     ]
    }
   ],
   "source": [
    "p2 = (p + p) / 2\n",
    "p2.show()"
   ]
  },
  {
   "cell_type": "markdown",
   "id": "7d7dd30d-0cd4-4aab-866d-c49ba7260cbc",
   "metadata": {},
   "source": [
    "Which doubles the bond dimension, as expected, but should still be normalized:"
   ]
  },
  {
   "cell_type": "code",
   "execution_count": 9,
   "id": "a6421495-74b6-4970-82a6-c7d36b506c7a",
   "metadata": {
    "tags": []
   },
   "outputs": [
    {
     "data": {
      "text/plain": [
       "np.float64(0.9999999999999998)"
      ]
     },
     "execution_count": 9,
     "metadata": {},
     "output_type": "execute_result"
    }
   ],
   "source": [
    "p2.H @ p2"
   ]
  },
  {
   "cell_type": "markdown",
   "id": "a239c40d-f76e-491d-89e4-6b376464b0ab",
   "metadata": {},
   "source": [
    "Because the MPS is the addition of two identical states, it should also __compress__ right back down:"
   ]
  },
  {
   "cell_type": "code",
   "execution_count": 10,
   "id": "9361b405-9cad-4d5a-93db-4c8998525965",
   "metadata": {
    "tags": []
   },
   "outputs": [
    {
     "name": "stdout",
     "output_type": "stream",
     "text": [
      " 2 4 8 16 32 50 50 50 50 50 50 50 50 50 32 16 8 4 2 \n",
      ">─>─>─>──>──>──>──>──>──>──●──<──<──<──<──<──<─<─<─<\n",
      "│ │ │ │  │  │  │  │  │  │  │  │  │  │  │  │  │ │ │ │\n"
     ]
    }
   ],
   "source": [
    "p2.compress(form=10)\n",
    "p2.show()"
   ]
  },
  {
   "cell_type": "markdown",
   "id": "7a45b76a-71f8-4a55-aa92-a83b73bc6e71",
   "metadata": {},
   "source": [
    "Where we have also set the __orthogonality center__ at the site 10.\n",
    "\n",
    "When tensor networks are imbued with a ``structure``, they\n",
    "can be indexed with integers and slices, which automatically get\n",
    "converted using ``TN.site_tag_id``:"
   ]
  },
  {
   "cell_type": "code",
   "execution_count": 11,
   "id": "4d71a98c-2ecc-4305-abe9-efbefac78a62",
   "metadata": {
    "tags": []
   },
   "outputs": [
    {
     "data": {
      "text/html": [
       "<samp style='font-size: 12px;'><details><summary><b style=\"color: #e55471;\">Tensor</b>(shape=(<b style=\"color: #8acfcf;\">50</b>, <b style=\"color: #8acfcf;\">50</b>, <b style=\"color: #828fdd;\">2</b>), inds=[<b style=\"color: #d68be0;\">_5f4cf2AAAAK</b>, <b style=\"color: #dd60a3;\">_5f4cf2AAAAL</b>, <b style=\"color: #3fcf58;\">k10</b>], tags={<b style=\"color: #4e2bd3;\">I10</b>}),</summary>backend=<b style=\"color: #7fdd73;\">numpy</b>, dtype=<b style=\"color: #75d2c6;\">float64</b>, data=...</details></samp>"
      ],
      "text/plain": [
       "Tensor(shape=(50, 50, 2), inds=('_5f4cf2AAAAK', '_5f4cf2AAAAL', 'k10'), tags=oset(['I10']))"
      ]
     },
     "execution_count": 11,
     "metadata": {},
     "output_type": "execute_result"
    }
   ],
   "source": [
    "p2[10]  # get the tensor(s) with tag 'I10'."
   ]
  },
  {
   "cell_type": "markdown",
   "id": "e0698a3d-0895-42ba-a246-a5ece63e2ca3",
   "metadata": {},
   "source": [
    "Note the tensor has matching physical index ``'k10'``.\n",
    "\n",
    "This tensor is the orthogonality center so:\n",
    "\n",
    "       ─>─>─●─<─<─        ╭─●─╮\n",
    "    ... │ │ │ │ │ ...  =  │ │ │\n",
    "       ─>─>─●─<─<─        ╰─●─╯\n",
    "           i=10            i=10\n",
    "\n",
    "should compute the normalization of the *whole* state:"
   ]
  },
  {
   "cell_type": "code",
   "execution_count": 12,
   "id": "e8f7f02b-ce1c-46cf-b598-1889eb3f58e0",
   "metadata": {
    "tags": []
   },
   "outputs": [
    {
     "data": {
      "text/plain": [
       "1.0000000000000036"
      ]
     },
     "execution_count": 12,
     "metadata": {},
     "output_type": "execute_result"
    }
   ],
   "source": [
    "p2[10].H @ p2[10]  # all indices match -> inner product"
   ]
  },
  {
   "cell_type": "markdown",
   "id": "8f4cec48-edf9-4c49-a272-f2f34f468f4d",
   "metadata": {},
   "source": [
    "Or equivalently:"
   ]
  },
  {
   "cell_type": "code",
   "execution_count": 13,
   "id": "02f1dc94-2b90-4e5b-8de1-b96798c17d97",
   "metadata": {
    "tags": []
   },
   "outputs": [
    {
     "data": {
      "text/plain": [
       "np.float64(1.0000000000000018)"
      ]
     },
     "execution_count": 13,
     "metadata": {},
     "output_type": "execute_result"
    }
   ],
   "source": [
    "p2[10].norm()"
   ]
  },
  {
   "cell_type": "markdown",
   "id": "de2bf4e3-881a-4faa-8f2b-1915ddfabe1c",
   "metadata": {},
   "source": [
    "If two tensor networks with the same ``structure`` are combined, it is propagated.\n",
    "For example ``(p2.H & p2)`` can still be sliced.\n",
    "\n",
    "Since the MPS is in canonical form, left and right pieces of the overlap\n",
    "should form the identity. The following forms a TN of the inner product,\n",
    "selects the *2* tensors corresponding to the last site (``-1``), contracts them,\n",
    "then gets the underlying data:"
   ]
  },
  {
   "cell_type": "code",
   "execution_count": 14,
   "id": "1fdc3b10-0586-4d15-a544-362d3ce1bbeb",
   "metadata": {
    "tags": []
   },
   "outputs": [
    {
     "data": {
      "text/plain": [
       "array([[1., 0.],\n",
       "       [0., 1.]])"
      ]
     },
     "execution_count": 14,
     "metadata": {},
     "output_type": "execute_result"
    }
   ],
   "source": [
    "((p2.H & p2).select(-1) ^ all).data.round(12)  # should be close to the identity"
   ]
  },
  {
   "cell_type": "markdown",
   "id": "73266c89-b80b-4ada-939c-2b16b96146bf",
   "metadata": {
    "raw_mimetype": "text/restructuredtext"
   },
   "source": [
    "Various builtin quantities are available to compute too:\n",
    "\n",
    "- {meth}`~quimb.tensor.tensor_1d.MatrixProductState.entropy`\n",
    "- {meth}`~quimb.tensor.tensor_1d.MatrixProductState.schmidt_gap`\n",
    "- {meth}`~quimb.tensor.tensor_1d.MatrixProductState.magnetization`\n",
    "- {meth}`~quimb.tensor.tensor_1d.TensorNetwork1DVector.correlation`\n",
    "- {meth}`~quimb.tensor.tensor_1d.MatrixProductState.logneg_subsys`\n",
    "\n",
    "and other non-trivial quantities such as the mutual information\n",
    "can be easily calculated using a combination of -\n",
    "{meth}`~quimb.tensor.tensor_1d.MatrixProductState.partial_trace_compress`\n",
    "and {func}`~quimb.approx_spectral_function` (see {ref}`Examples`).\n",
    "Finally, many quantities can be computed using local 'gates' see the section\n",
    "{ref}`gating`."
   ]
  },
  {
   "cell_type": "markdown",
   "id": "e7daa1f6-29d2-4158-83c8-3d73356376b6",
   "metadata": {
    "raw_mimetype": "text/restructuredtext"
   },
   "source": [
    "## Matrix Product Operators\n",
    "\n",
    "The raw MPO class is {class}`~quimb.tensor.tensor_1d.MatrixProductOperator`,\n",
    "which shares many features with {class}`~quimb.tensor.tensor_1d.MatrixProductState`,\n",
    "but has both a `MPO.upper_ind_id` and a `MPO.lower_ind_id`.\n",
    "\n",
    "Here we generate a random hermitian MPO and form a 'overlap' network with our MPS:"
   ]
  },
  {
   "cell_type": "code",
   "execution_count": 15,
   "id": "60c7c66b-4b20-41b2-89ba-5866c26556c6",
   "metadata": {
    "tags": []
   },
   "outputs": [
    {
     "data": {
      "image/svg+xml": [
       "<?xml version=\"1.0\" encoding=\"UTF-8\"?><!DOCTYPE svg  PUBLIC '-//W3C//DTD SVG 1.1//EN'  'http://www.w3.org/Graphics/SVG/1.1/DTD/svg11.dtd'><svg width=\"414.28pt\" height=\"65.336pt\" version=\"1.1\" viewBox=\"0 0 414.28 65.336\" xmlns=\"http://www.w3.org/2000/svg\" xmlns:xlink=\"http://www.w3.org/1999/xlink\"><defs><style type=\"text/css\">*{stroke-linejoin: round; stroke-linecap: butt}</style></defs><path d=\"m0 65.336h414.28v-65.336h-414.28v65.336z\" opacity=\"0\"/><path d=\"m18.014 53.862 0.93823 0.35366-0.68732 0.73003\" clip-path=\"url(#57245853361)\" fill=\"none\" stroke=\"#737880\" stroke-linecap=\"round\" stroke-opacity=\".5\"/><path d=\"m13.872 55.391 6.7731-1.5682\" clip-path=\"url(#57245853361)\" fill=\"none\" stroke=\"#737880\" stroke-linecap=\"round\" stroke-opacity=\".5\"/><path d=\"m14.695 50.776-0.9359 1.5214-1.0444-1.4491\" clip-path=\"url(#57245853361)\" fill=\"none\" stroke=\"#737880\" stroke-linecap=\"round\" stroke-opacity=\".5\"/><path d=\"m13.872 55.391-0.45217-12.377\" clip-path=\"url(#57245853361)\" fill=\"none\" stroke=\"#737880\" stroke-linecap=\"round\" stroke-opacity=\".5\"/><path d=\"m28.996 51.592 1.7647 0.85956-1.4722 1.2984\" clip-path=\"url(#57245853361)\" fill=\"none\" stroke=\"#737880\" stroke-linecap=\"round\" stroke-opacity=\".5\"/><path d=\"m20.645 53.823 13.487-1.8283\" clip-path=\"url(#57245853361)\" fill=\"none\" stroke=\"#737880\" stroke-linecap=\"round\" stroke-opacity=\".5\" stroke-width=\"2\"/><path d=\"m21.837 48.825-1.1201 1.6056-1.0513-1.6515\" clip-path=\"url(#57245853361)\" fill=\"none\" stroke=\"#737880\" stroke-linecap=\"round\" stroke-opacity=\".5\"/><path d=\"m20.645 53.823 0.28688-13.571\" clip-path=\"url(#57245853361)\" fill=\"none\" stroke=\"#737880\" stroke-linecap=\"round\" stroke-opacity=\".5\"/><path d=\"m44.417 48.624 2.2662 0.95159-1.75 1.7259\" clip-path=\"url(#57245853361)\" fill=\"none\" stroke=\"#737880\" stroke-linecap=\"round\" stroke-opacity=\".5\"/><path d=\"m34.132 51.995 16.734-3.2262\" clip-path=\"url(#57245853361)\" fill=\"none\" stroke=\"#737880\" stroke-linecap=\"round\" stroke-opacity=\".5\" stroke-width=\"3\"/><path d=\"m35.208 46.955-1.0849 1.6364-1.0933-1.6308\" clip-path=\"url(#57245853361)\" fill=\"none\" stroke=\"#737880\" stroke-linecap=\"round\" stroke-opacity=\".5\"/><path d=\"m34.132 51.995-0.035115-13.613\" clip-path=\"url(#57245853361)\" fill=\"none\" stroke=\"#737880\" stroke-linecap=\"round\" stroke-opacity=\".5\"/><path d=\"m59.879 43.64 2.3094 0.46082-1.3136 1.9545\" clip-path=\"url(#57245853361)\" fill=\"none\" stroke=\"#737880\" stroke-linecap=\"round\" stroke-opacity=\".5\"/><path d=\"m50.866 48.769 15.096-6.2236\" clip-path=\"url(#57245853361)\" fill=\"none\" stroke=\"#737880\" stroke-linecap=\"round\" stroke-opacity=\".5\" stroke-width=\"4\"/><path d=\"m50.817 43.177-0.76289 1.989-1.5426-1.4692\" clip-path=\"url(#57245853361)\" fill=\"none\" stroke=\"#737880\" stroke-linecap=\"round\" stroke-opacity=\".5\"/><path d=\"m50.866 48.769-3.2486-14.409\" clip-path=\"url(#57245853361)\" fill=\"none\" stroke=\"#737880\" stroke-linecap=\"round\" stroke-opacity=\".5\"/><path d=\"m76.496 38.531 2.4045 0.87842-1.7357 1.8817\" clip-path=\"url(#57245853361)\" fill=\"none\" stroke=\"#737880\" stroke-linecap=\"round\" stroke-opacity=\".5\"/><path d=\"m65.962 42.545 17.251-4.1804\" clip-path=\"url(#57245853361)\" fill=\"none\" stroke=\"#737880\" stroke-linecap=\"round\" stroke-opacity=\".5\" stroke-width=\"5\"/><path d=\"m66.155 37.42-0.78371 1.7899-1.3508-1.4118\" clip-path=\"url(#57245853361)\" fill=\"none\" stroke=\"#737880\" stroke-linecap=\"round\" stroke-opacity=\".5\"/><path d=\"m65.962 42.545-2.3627-13.34\" clip-path=\"url(#57245853361)\" fill=\"none\" stroke=\"#737880\" stroke-linecap=\"round\" stroke-opacity=\".5\"/><path d=\"m94.92 35.573 2.4241 1.2625-2.0978 1.752\" clip-path=\"url(#57245853361)\" fill=\"none\" stroke=\"#737880\" stroke-linecap=\"round\" stroke-opacity=\".5\"/><path d=\"m83.213 38.365 18.841-2.0394\" clip-path=\"url(#57245853361)\" fill=\"none\" stroke=\"#737880\" stroke-linecap=\"round\" stroke-opacity=\".5\" stroke-width=\"5.6439\"/><path d=\"m83.675 33.466-0.84733 1.6722-1.2176-1.4253\" clip-path=\"url(#57245853361)\" fill=\"none\" stroke=\"#737880\" stroke-linecap=\"round\" stroke-opacity=\".5\"/><path d=\"m83.213 38.365-1.543-12.906\" clip-path=\"url(#57245853361)\" fill=\"none\" stroke=\"#737880\" stroke-linecap=\"round\" stroke-opacity=\".5\"/><path d=\"m114.3 33.915 2.4601 1.4086-2.2464 1.729\" clip-path=\"url(#57245853361)\" fill=\"none\" stroke=\"#737880\" stroke-linecap=\"round\" stroke-opacity=\".5\"/><path d=\"m102.05 36.325 19.61-1.335\" clip-path=\"url(#57245853361)\" fill=\"none\" stroke=\"#737880\" stroke-linecap=\"round\" stroke-opacity=\".5\" stroke-width=\"5.6439\"/><path d=\"m102.66 31.479-0.89199 1.633-1.1643-1.4515\" clip-path=\"url(#57245853361)\" fill=\"none\" stroke=\"#737880\" stroke-linecap=\"round\" stroke-opacity=\".5\"/><path d=\"m102.05 36.325-1.1348-12.852\" clip-path=\"url(#57245853361)\" fill=\"none\" stroke=\"#737880\" stroke-linecap=\"round\" stroke-opacity=\".5\"/><path d=\"m134.5 33.497 2.424 1.653-2.4582 1.6018\" clip-path=\"url(#57245853361)\" fill=\"none\" stroke=\"#737880\" stroke-linecap=\"round\" stroke-opacity=\".5\"/><path d=\"m121.66 34.99 20.343 0.21371\" clip-path=\"url(#57245853361)\" fill=\"none\" stroke=\"#737880\" stroke-linecap=\"round\" stroke-opacity=\".5\" stroke-width=\"5.6439\"/><path d=\"m122.52 30.282-0.96025 1.5497-1.0611-1.4824\" clip-path=\"url(#57245853361)\" fill=\"none\" stroke=\"#737880\" stroke-linecap=\"round\" stroke-opacity=\".5\"/><path d=\"m121.66 34.99-0.42041-12.634\" clip-path=\"url(#57245853361)\" fill=\"none\" stroke=\"#737880\" stroke-linecap=\"round\" stroke-opacity=\".5\"/><path d=\"m155 34.604 2.3179 1.8294-2.5802 1.4359\" clip-path=\"url(#57245853361)\" fill=\"none\" stroke=\"#737880\" stroke-linecap=\"round\" stroke-opacity=\".5\"/><path d=\"m142.01 35.204 20.409 1.6395\" clip-path=\"url(#57245853361)\" fill=\"none\" stroke=\"#737880\" stroke-linecap=\"round\" stroke-opacity=\".5\" stroke-width=\"5.6439\"/><path d=\"m143.02 30.576-1.0057 1.499-0.99686-1.5048\" clip-path=\"url(#57245853361)\" fill=\"none\" stroke=\"#737880\" stroke-linecap=\"round\" stroke-opacity=\".5\"/><path d=\"m142.01 35.204 0.036639-12.516\" clip-path=\"url(#57245853361)\" fill=\"none\" stroke=\"#737880\" stroke-linecap=\"round\" stroke-opacity=\".5\"/><path d=\"m175.64 36.557 2.311 1.9176-2.659 1.3957\" clip-path=\"url(#57245853361)\" fill=\"none\" stroke=\"#737880\" stroke-linecap=\"round\" stroke-opacity=\".5\"/><path d=\"m162.42 36.843 20.708 2.1747\" clip-path=\"url(#57245853361)\" fill=\"none\" stroke=\"#737880\" stroke-linecap=\"round\" stroke-opacity=\".5\" stroke-width=\"5.6439\"/><path d=\"m163.58 32.191-1.0618 1.4869-0.96408-1.552\" clip-path=\"url(#57245853361)\" fill=\"none\" stroke=\"#737880\" stroke-linecap=\"round\" stroke-opacity=\".5\"/><path d=\"m162.42 36.843 0.40739-12.662\" clip-path=\"url(#57245853361)\" fill=\"none\" stroke=\"#737880\" stroke-linecap=\"round\" stroke-opacity=\".5\"/><path d=\"m196.36 38.78 2.3067 1.9285-2.6673 1.3875\" clip-path=\"url(#57245853361)\" fill=\"none\" stroke=\"#737880\" stroke-linecap=\"round\" stroke-opacity=\".5\"/><path d=\"m183.12 39.018 20.725 2.2541\" clip-path=\"url(#57245853361)\" fill=\"none\" stroke=\"#737880\" stroke-linecap=\"round\" stroke-opacity=\".5\" stroke-width=\"5.6439\"/><path d=\"m184.38 34.428-1.0843 1.4525-0.92376-1.5596\" clip-path=\"url(#57245853361)\" fill=\"none\" stroke=\"#737880\" stroke-linecap=\"round\" stroke-opacity=\".5\"/><path d=\"m183.12 39.018 0.66909-12.551\" clip-path=\"url(#57245853361)\" fill=\"none\" stroke=\"#737880\" stroke-linecap=\"round\" stroke-opacity=\".5\"/><path d=\"m217.01 41.107 2.2832 1.9301-2.6598 1.3652\" clip-path=\"url(#57245853361)\" fill=\"none\" stroke=\"#737880\" stroke-linecap=\"round\" stroke-opacity=\".5\"/><path d=\"m203.85 41.272 20.596 2.3537\" clip-path=\"url(#57245853361)\" fill=\"none\" stroke=\"#737880\" stroke-linecap=\"round\" stroke-opacity=\".5\" stroke-width=\"5.6439\"/><path d=\"m205.19 36.712-1.1114 1.4294-0.89202-1.5757\" clip-path=\"url(#57245853361)\" fill=\"none\" stroke=\"#737880\" stroke-linecap=\"round\" stroke-opacity=\".5\"/><path d=\"m203.85 41.272 0.91404-12.521\" clip-path=\"url(#57245853361)\" fill=\"none\" stroke=\"#737880\" stroke-linecap=\"round\" stroke-opacity=\".5\"/><path d=\"m237.14 43.729 2.1632 1.9066-2.592 1.2634\" clip-path=\"url(#57245853361)\" fill=\"none\" stroke=\"#737880\" stroke-linecap=\"round\" stroke-opacity=\".5\"/><path d=\"m224.44 43.626 19.813 2.68\" clip-path=\"url(#57245853361)\" fill=\"none\" stroke=\"#737880\" stroke-linecap=\"round\" stroke-opacity=\".5\" stroke-width=\"5.6439\"/><path d=\"m225.87 39.117-1.1358 1.3991-0.8546-1.5865\" clip-path=\"url(#57245853361)\" fill=\"none\" stroke=\"#737880\" stroke-linecap=\"round\" stroke-opacity=\".5\"/><path d=\"m224.44 43.626 1.1717-12.44\" clip-path=\"url(#57245853361)\" fill=\"none\" stroke=\"#737880\" stroke-linecap=\"round\" stroke-opacity=\".5\"/><path d=\"m256.27 46.684 2.0055 1.8523-2.4812 1.1388\" clip-path=\"url(#57245853361)\" fill=\"none\" stroke=\"#737880\" stroke-linecap=\"round\" stroke-opacity=\".5\"/><path d=\"m244.26 46.306 18.694 2.9732\" clip-path=\"url(#57245853361)\" fill=\"none\" stroke=\"#737880\" stroke-linecap=\"round\" stroke-opacity=\".5\" stroke-width=\"5.6439\"/><path d=\"m245.84 41.802-1.1904 1.3754-0.81176-1.6278\" clip-path=\"url(#57245853361)\" fill=\"none\" stroke=\"#737880\" stroke-linecap=\"round\" stroke-opacity=\".5\"/><path d=\"m244.26 46.306 1.5776-12.513\" clip-path=\"url(#57245853361)\" fill=\"none\" stroke=\"#737880\" stroke-linecap=\"round\" stroke-opacity=\".5\"/><path d=\"m275.09 49.123 2.1063 1.7793-2.4525 1.2599\" clip-path=\"url(#57245853361)\" fill=\"none\" stroke=\"#737880\" stroke-linecap=\"round\" stroke-opacity=\".5\"/><path d=\"m262.95 49.279 18.995 2.1639\" clip-path=\"url(#57245853361)\" fill=\"none\" stroke=\"#737880\" stroke-linecap=\"round\" stroke-opacity=\".5\" stroke-width=\"5.6439\"/><path d=\"m264.86 44.701-1.3136 1.3576-0.74793-1.7347\" clip-path=\"url(#57245853361)\" fill=\"none\" stroke=\"#737880\" stroke-linecap=\"round\" stroke-opacity=\".5\"/><path d=\"m262.95 49.279 2.3568-12.884\" clip-path=\"url(#57245853361)\" fill=\"none\" stroke=\"#737880\" stroke-linecap=\"round\" stroke-opacity=\".5\"/><path d=\"m293.03 51.013 1.966 1.5753-2.2103 1.2089\" clip-path=\"url(#57245853361)\" fill=\"none\" stroke=\"#737880\" stroke-linecap=\"round\" stroke-opacity=\".5\"/><path d=\"m281.95 51.443 17.401 1.5265\" clip-path=\"url(#57245853361)\" fill=\"none\" stroke=\"#737880\" stroke-linecap=\"round\" stroke-opacity=\".5\" stroke-width=\"5.6439\"/><path d=\"m283.67 46.776-1.2612 1.4143-0.82047-1.7081\" clip-path=\"url(#57245853361)\" fill=\"none\" stroke=\"#737880\" stroke-linecap=\"round\" stroke-opacity=\".5\"/><path d=\"m281.95 51.443 1.8362-13.01\" clip-path=\"url(#57245853361)\" fill=\"none\" stroke=\"#737880\" stroke-linecap=\"round\" stroke-opacity=\".5\"/><path d=\"m309.26 52.47 1.7748 1.3887-1.9646 1.1042\" clip-path=\"url(#57245853361)\" fill=\"none\" stroke=\"#737880\" stroke-linecap=\"round\" stroke-opacity=\".5\"/><path d=\"m299.35 52.97 15.581 1.1856\" clip-path=\"url(#57245853361)\" fill=\"none\" stroke=\"#737880\" stroke-linecap=\"round\" stroke-opacity=\".5\" stroke-width=\"5.6439\"/><path d=\"m301.09 48.137-1.2906 1.4707-0.86115-1.757\" clip-path=\"url(#57245853361)\" fill=\"none\" stroke=\"#737880\" stroke-linecap=\"round\" stroke-opacity=\".5\"/><path d=\"m299.35 52.97 1.7894-13.448\" clip-path=\"url(#57245853361)\" fill=\"none\" stroke=\"#737880\" stroke-linecap=\"round\" stroke-opacity=\".5\"/><path d=\"m322.11 53.167 1.379 0.89869-1.3599 0.92724\" clip-path=\"url(#57245853361)\" fill=\"none\" stroke=\"#737880\" stroke-linecap=\"round\" stroke-opacity=\".5\"/><path d=\"m314.93 54.155 11.412-0.119\" clip-path=\"url(#57245853361)\" fill=\"none\" stroke=\"#737880\" stroke-linecap=\"round\" stroke-opacity=\".5\" stroke-width=\"5.6439\"/><path d=\"m316.75 49.228-1.3332 1.4926-0.86495-1.8048\" clip-path=\"url(#57245853361)\" fill=\"none\" stroke=\"#737880\" stroke-linecap=\"round\" stroke-opacity=\".5\"/><path d=\"m314.93 54.155 1.9512-13.739\" clip-path=\"url(#57245853361)\" fill=\"none\" stroke=\"#737880\" stroke-linecap=\"round\" stroke-opacity=\".5\"/><path d=\"m326.34 54.036 8.2099-1.8522\" clip-path=\"url(#57245853361)\" fill=\"none\" stroke=\"#737880\" stroke-linecap=\"round\" stroke-opacity=\".5\" stroke-width=\"5.6439\"/><path d=\"m328.57 49.334-1.4453 1.3562-0.69604-1.8557\" clip-path=\"url(#57245853361)\" fill=\"none\" stroke=\"#737880\" stroke-linecap=\"round\" stroke-opacity=\".5\"/><path d=\"m326.34 54.036 3.1219-13.383\" clip-path=\"url(#57245853361)\" fill=\"none\" stroke=\"#737880\" stroke-linecap=\"round\" stroke-opacity=\".5\"/><path d=\"m334.55 52.184 1.9208-12.202\" clip-path=\"url(#57245853361)\" fill=\"none\" stroke=\"#737880\" stroke-linecap=\"round\" stroke-opacity=\".5\"/><path d=\"m13.42 43.014 7.5121-2.7622\" clip-path=\"url(#57245853361)\" fill=\"none\" stroke=\"#737880\" stroke-linecap=\"round\" stroke-opacity=\".5\" stroke-width=\"2.8074\"/><path d=\"m12.01 35.396 0.89142-1.517 1.0575 1.4063\" clip-path=\"url(#57245853361)\" fill=\"none\" stroke=\"#737880\" stroke-linecap=\"round\" stroke-opacity=\".5\"/><path d=\"m13.42 43.014-0.69197-12.181\" clip-path=\"url(#57245853361)\" fill=\"none\" stroke=\"#737880\" stroke-linecap=\"round\" stroke-opacity=\".5\"/><path d=\"m20.932 40.252 13.165-1.8707\" clip-path=\"url(#57245853361)\" fill=\"none\" stroke=\"#737880\" stroke-linecap=\"round\" stroke-opacity=\".5\" stroke-width=\"2.8074\"/><path d=\"m17.915 31.777 0.74332-1.9031 1.4708 1.4181\" clip-path=\"url(#57245853361)\" fill=\"none\" stroke=\"#737880\" stroke-linecap=\"round\" stroke-opacity=\".5\"/><path d=\"m20.932 40.252-3.0313-13.838\" clip-path=\"url(#57245853361)\" fill=\"none\" stroke=\"#737880\" stroke-linecap=\"round\" stroke-opacity=\".5\"/><path d=\"m34.097 38.382 13.521-4.0219\" clip-path=\"url(#57245853361)\" fill=\"none\" stroke=\"#737880\" stroke-linecap=\"round\" stroke-opacity=\".5\" stroke-width=\"2.8074\"/><path d=\"m30.078 29.77 0.59163-2.0756 1.6883 1.3444\" clip-path=\"url(#57245853361)\" fill=\"none\" stroke=\"#737880\" stroke-linecap=\"round\" stroke-opacity=\".5\"/><path d=\"m34.097 38.382-4.5696-14.25\" clip-path=\"url(#57245853361)\" fill=\"none\" stroke=\"#737880\" stroke-linecap=\"round\" stroke-opacity=\".5\"/><path d=\"m47.618 34.36 15.982-5.1549\" clip-path=\"url(#57245853361)\" fill=\"none\" stroke=\"#737880\" stroke-linecap=\"round\" stroke-opacity=\".5\" stroke-width=\"2.8074\"/><path d=\"m44.401 25.917 0.70414-1.9271 1.5081 1.3912\" clip-path=\"url(#57245853361)\" fill=\"none\" stroke=\"#737880\" stroke-linecap=\"round\" stroke-opacity=\".5\"/><path d=\"m47.618 34.36-3.3497-13.826\" clip-path=\"url(#57245853361)\" fill=\"none\" stroke=\"#737880\" stroke-linecap=\"round\" stroke-opacity=\".5\"/><path d=\"m63.599 29.205 18.071-3.7461\" clip-path=\"url(#57245853361)\" fill=\"none\" stroke=\"#737880\" stroke-linecap=\"round\" stroke-opacity=\".5\" stroke-width=\"2.8074\"/><path d=\"m60.845 21.24 0.71224-1.7764 1.3659 1.3407\" clip-path=\"url(#57245853361)\" fill=\"none\" stroke=\"#737880\" stroke-linecap=\"round\" stroke-opacity=\".5\"/><path d=\"m63.599 29.205-2.7234-12.988\" clip-path=\"url(#57245853361)\" fill=\"none\" stroke=\"#737880\" stroke-linecap=\"round\" stroke-opacity=\".5\"/><path d=\"m81.67 25.459 19.249-1.9855\" clip-path=\"url(#57245853361)\" fill=\"none\" stroke=\"#737880\" stroke-linecap=\"round\" stroke-opacity=\".5\" stroke-width=\"2.8074\"/><path d=\"m79.344 17.752 0.74744-1.6684 1.2526 1.3316\" clip-path=\"url(#57245853361)\" fill=\"none\" stroke=\"#737880\" stroke-linecap=\"round\" stroke-opacity=\".5\"/><path d=\"m81.67 25.459-2.1046-12.5\" clip-path=\"url(#57245853361)\" fill=\"none\" stroke=\"#737880\" stroke-linecap=\"round\" stroke-opacity=\".5\"/><path d=\"m100.92 23.473 20.325-1.1166\" clip-path=\"url(#57245853361)\" fill=\"none\" stroke=\"#737880\" stroke-linecap=\"round\" stroke-opacity=\".5\" stroke-width=\"2.8074\"/><path d=\"m99.069 15.815 0.82188-1.5893 1.151 1.3699\" clip-path=\"url(#57245853361)\" fill=\"none\" stroke=\"#737880\" stroke-linecap=\"round\" stroke-opacity=\".5\"/><path d=\"m100.92 23.473-1.3712-12.33\" clip-path=\"url(#57245853361)\" fill=\"none\" stroke=\"#737880\" stroke-linecap=\"round\" stroke-opacity=\".5\"/><path d=\"m121.24 22.357 20.8 0.33169\" clip-path=\"url(#57245853361)\" fill=\"none\" stroke=\"#737880\" stroke-linecap=\"round\" stroke-opacity=\".5\" stroke-width=\"2.8074\"/><path d=\"m119.84 14.59 0.91418-1.5419 1.0717 1.4369\" clip-path=\"url(#57245853361)\" fill=\"none\" stroke=\"#737880\" stroke-linecap=\"round\" stroke-opacity=\".5\"/><path d=\"m121.24 22.357-0.65612-12.411\" clip-path=\"url(#57245853361)\" fill=\"none\" stroke=\"#737880\" stroke-linecap=\"round\" stroke-opacity=\".5\"/><path d=\"m142.04 22.688 20.779 1.4932\" clip-path=\"url(#57245853361)\" fill=\"none\" stroke=\"#737880\" stroke-linecap=\"round\" stroke-opacity=\".5\" stroke-width=\"2.8074\"/><path d=\"m140.93 14.847 0.97565-1.5109 1.0194 1.4817\" clip-path=\"url(#57245853361)\" fill=\"none\" stroke=\"#737880\" stroke-linecap=\"round\" stroke-opacity=\".5\"/><path d=\"m142.04 22.688-0.18237-12.469\" clip-path=\"url(#57245853361)\" fill=\"none\" stroke=\"#737880\" stroke-linecap=\"round\" stroke-opacity=\".5\"/><path d=\"m162.82 24.181 20.97 2.2861\" clip-path=\"url(#57245853361)\" fill=\"none\" stroke=\"#737880\" stroke-linecap=\"round\" stroke-opacity=\".5\" stroke-width=\"2.8074\"/><path d=\"m162.06 16.353 1.0343-1.4563 0.94643 1.5148\" clip-path=\"url(#57245853361)\" fill=\"none\" stroke=\"#737880\" stroke-linecap=\"round\" stroke-opacity=\".5\"/><path d=\"m162.82 24.181 0.36609-12.38\" clip-path=\"url(#57245853361)\" fill=\"none\" stroke=\"#737880\" stroke-linecap=\"round\" stroke-opacity=\".5\"/><path d=\"m183.79 26.468 20.97 2.2834\" clip-path=\"url(#57245853361)\" fill=\"none\" stroke=\"#737880\" stroke-linecap=\"round\" stroke-opacity=\".5\" stroke-width=\"2.8074\"/><path d=\"m183.23 18.589 1.0757-1.4354 0.91129 1.545\" clip-path=\"url(#57245853361)\" fill=\"none\" stroke=\"#737880\" stroke-linecap=\"round\" stroke-opacity=\".5\"/><path d=\"m183.79 26.468 0.68497-12.419\" clip-path=\"url(#57245853361)\" fill=\"none\" stroke=\"#737880\" stroke-linecap=\"round\" stroke-opacity=\".5\"/><path d=\"m204.76 28.751 20.854 2.435\" clip-path=\"url(#57245853361)\" fill=\"none\" stroke=\"#737880\" stroke-linecap=\"round\" stroke-opacity=\".5\" stroke-width=\"2.8074\"/><path d=\"m204.37 20.844 1.1083-1.4158 0.8806 1.5676\" clip-path=\"url(#57245853361)\" fill=\"none\" stroke=\"#737880\" stroke-linecap=\"round\" stroke-opacity=\".5\"/><path d=\"m204.76 28.751 0.94883-12.431\" clip-path=\"url(#57245853361)\" fill=\"none\" stroke=\"#737880\" stroke-linecap=\"round\" stroke-opacity=\".5\"/><path d=\"m225.62 31.186 20.219 2.6066\" clip-path=\"url(#57245853361)\" fill=\"none\" stroke=\"#737880\" stroke-linecap=\"round\" stroke-opacity=\".5\" stroke-width=\"2.8074\"/><path d=\"m225.17 23.26 1.1033-1.4257 0.89174 1.5668\" clip-path=\"url(#57245853361)\" fill=\"none\" stroke=\"#737880\" stroke-linecap=\"round\" stroke-opacity=\".5\"/><path d=\"m225.62 31.186 0.8813-12.469\" clip-path=\"url(#57245853361)\" fill=\"none\" stroke=\"#737880\" stroke-linecap=\"round\" stroke-opacity=\".5\"/><path d=\"m245.84 33.793 19.474 2.6023\" clip-path=\"url(#57245853361)\" fill=\"none\" stroke=\"#737880\" stroke-linecap=\"round\" stroke-opacity=\".5\" stroke-width=\"2.8074\"/><path d=\"m245.33 25.819 1.099-1.4438 0.91005 1.5698\" clip-path=\"url(#57245853361)\" fill=\"none\" stroke=\"#737880\" stroke-linecap=\"round\" stroke-opacity=\".5\"/><path d=\"m245.84 33.793 0.78738-12.557\" clip-path=\"url(#57245853361)\" fill=\"none\" stroke=\"#737880\" stroke-linecap=\"round\" stroke-opacity=\".5\"/><path d=\"m265.31 36.395 18.474 2.038\" clip-path=\"url(#57245853361)\" fill=\"none\" stroke=\"#737880\" stroke-linecap=\"round\" stroke-opacity=\".5\" stroke-width=\"2.8074\"/><path d=\"m264.74 28.247 1.1152-1.4822 0.93925 1.5995\" clip-path=\"url(#57245853361)\" fill=\"none\" stroke=\"#737880\" stroke-linecap=\"round\" stroke-opacity=\".5\"/><path d=\"m265.31 36.395 0.73324-12.84\" clip-path=\"url(#57245853361)\" fill=\"none\" stroke=\"#737880\" stroke-linecap=\"round\" stroke-opacity=\".5\"/><path d=\"m283.78 38.433 17.354 1.0884\" clip-path=\"url(#57245853361)\" fill=\"none\" stroke=\"#737880\" stroke-linecap=\"round\" stroke-opacity=\".5\" stroke-width=\"2.8074\"/><path d=\"m283.43 30.02 1.1905-1.4964 0.92346 1.6744\" clip-path=\"url(#57245853361)\" fill=\"none\" stroke=\"#737880\" stroke-linecap=\"round\" stroke-opacity=\".5\"/><path d=\"m283.78 38.433 1.1125-13.212\" clip-path=\"url(#57245853361)\" fill=\"none\" stroke=\"#737880\" stroke-linecap=\"round\" stroke-opacity=\".5\"/><path d=\"m301.14 39.521 15.743 0.89527\" clip-path=\"url(#57245853361)\" fill=\"none\" stroke=\"#737880\" stroke-linecap=\"round\" stroke-opacity=\".5\" stroke-width=\"2.8074\"/><path d=\"m300.52 30.982 1.1641-1.5574 0.98985 1.6735\" clip-path=\"url(#57245853361)\" fill=\"none\" stroke=\"#737880\" stroke-linecap=\"round\" stroke-opacity=\".5\"/><path d=\"m301.14 39.521 0.72591-13.462\" clip-path=\"url(#57245853361)\" fill=\"none\" stroke=\"#737880\" stroke-linecap=\"round\" stroke-opacity=\".5\"/><path d=\"m316.88 40.416 12.583 0.23645\" clip-path=\"url(#57245853361)\" fill=\"none\" stroke=\"#737880\" stroke-linecap=\"round\" stroke-opacity=\".5\" stroke-width=\"2.8074\"/><path d=\"m315.66 31.719 1.085-1.6734 1.1273 1.6452\" clip-path=\"url(#57245853361)\" fill=\"none\" stroke=\"#737880\" stroke-linecap=\"round\" stroke-opacity=\".5\"/><path d=\"m316.88 40.416-0.17639-13.827\" clip-path=\"url(#57245853361)\" fill=\"none\" stroke=\"#737880\" stroke-linecap=\"round\" stroke-opacity=\".5\"/><path d=\"m329.46 40.653 7.0088-0.67133\" clip-path=\"url(#57245853361)\" fill=\"none\" stroke=\"#737880\" stroke-linecap=\"round\" stroke-opacity=\".5\" stroke-width=\"2.8074\"/><path d=\"m327.87 31.818 1.0417-1.7523 1.2169 1.6355\" clip-path=\"url(#57245853361)\" fill=\"none\" stroke=\"#737880\" stroke-linecap=\"round\" stroke-opacity=\".5\"/><path d=\"m329.46 40.653-0.73001-14.116\" clip-path=\"url(#57245853361)\" fill=\"none\" stroke=\"#737880\" stroke-linecap=\"round\" stroke-opacity=\".5\"/><path d=\"m336.47 39.982-2.0873-11.802\" clip-path=\"url(#57245853361)\" fill=\"none\" stroke=\"#737880\" stroke-linecap=\"round\" stroke-opacity=\".5\"/><path d=\"m15.633 27.635 0.97433-0.11656-0.26715 0.94421\" clip-path=\"url(#57245853361)\" fill=\"none\" stroke=\"#737880\" stroke-linecap=\"round\" stroke-opacity=\".5\"/><path d=\"m12.728 30.834 5.1728-4.4199\" clip-path=\"url(#57245853361)\" fill=\"none\" stroke=\"#737880\" stroke-linecap=\"round\" stroke-opacity=\".5\"/><path d=\"m25.043 24.046 1.5778 0.65627-1.2126 1.204\" clip-path=\"url(#57245853361)\" fill=\"none\" stroke=\"#737880\" stroke-linecap=\"round\" stroke-opacity=\".5\"/><path d=\"m17.901 26.414 11.627-2.2822\" clip-path=\"url(#57245853361)\" fill=\"none\" stroke=\"#737880\" stroke-linecap=\"round\" stroke-opacity=\".5\" stroke-width=\"2\"/><path d=\"m38.526 20.685 2.0567 0.74746-1.481 1.611\" clip-path=\"url(#57245853361)\" fill=\"none\" stroke=\"#737880\" stroke-linecap=\"round\" stroke-opacity=\".5\"/><path d=\"m29.527 24.132 14.741-3.5983\" clip-path=\"url(#57245853361)\" fill=\"none\" stroke=\"#737880\" stroke-linecap=\"round\" stroke-opacity=\".5\" stroke-width=\"3\"/><path d=\"m54.386 16.485 2.3383 0.81063-1.6476 1.8466\" clip-path=\"url(#57245853361)\" fill=\"none\" stroke=\"#737880\" stroke-linecap=\"round\" stroke-opacity=\".5\"/><path d=\"m44.268 20.533 16.608-4.3167\" clip-path=\"url(#57245853361)\" fill=\"none\" stroke=\"#737880\" stroke-linecap=\"round\" stroke-opacity=\".5\" stroke-width=\"4\"/><path d=\"m72.39 12.669 2.5034 1.1042-1.9821 1.8861\" clip-path=\"url(#57245853361)\" fill=\"none\" stroke=\"#737880\" stroke-linecap=\"round\" stroke-opacity=\".5\"/><path d=\"m60.876 16.217 18.689-3.258\" clip-path=\"url(#57245853361)\" fill=\"none\" stroke=\"#737880\" stroke-linecap=\"round\" stroke-opacity=\".5\" stroke-width=\"5\"/><path d=\"m92.009 10.216 2.5432 1.3807-2.2526 1.8165\" clip-path=\"url(#57245853361)\" fill=\"none\" stroke=\"#737880\" stroke-linecap=\"round\" stroke-opacity=\".5\"/><path d=\"m79.565 12.959 19.982-1.8158\" clip-path=\"url(#57245853361)\" fill=\"none\" stroke=\"#737880\" stroke-linecap=\"round\" stroke-opacity=\".5\" stroke-width=\"5.6439\"/><path d=\"m112.71 8.705 2.6206 1.5395-2.429 1.8269\" clip-path=\"url(#57245853361)\" fill=\"none\" stroke=\"#737880\" stroke-linecap=\"round\" stroke-opacity=\".5\"/><path d=\"m99.548 11.143 21.04-1.1978\" clip-path=\"url(#57245853361)\" fill=\"none\" stroke=\"#737880\" stroke-linecap=\"round\" stroke-opacity=\".5\" stroke-width=\"5.6439\"/><path d=\"m134.01 8.4158 2.5309 1.7348-2.5747 1.669\" clip-path=\"url(#57245853361)\" fill=\"none\" stroke=\"#737880\" stroke-linecap=\"round\" stroke-opacity=\".5\"/><path d=\"m120.59 9.945 21.273 0.27405\" clip-path=\"url(#57245853361)\" fill=\"none\" stroke=\"#737880\" stroke-linecap=\"round\" stroke-opacity=\".5\" stroke-width=\"5.6439\"/><path d=\"m155.42 9.51 2.4327 1.8962-2.686 1.5163\" clip-path=\"url(#57245853361)\" fill=\"none\" stroke=\"#737880\" stroke-linecap=\"round\" stroke-opacity=\".5\"/><path d=\"m141.86 10.219 21.328 1.5828\" clip-path=\"url(#57245853361)\" fill=\"none\" stroke=\"#737880\" stroke-linecap=\"round\" stroke-opacity=\".5\" stroke-width=\"5.6439\"/><path d=\"m176.78 11.514 2.3749 1.9728-2.7344 1.4335\" clip-path=\"url(#57245853361)\" fill=\"none\" stroke=\"#737880\" stroke-linecap=\"round\" stroke-opacity=\".5\"/><path d=\"m163.19 11.802 21.289 2.2471\" clip-path=\"url(#57245853361)\" fill=\"none\" stroke=\"#737880\" stroke-linecap=\"round\" stroke-opacity=\".5\" stroke-width=\"5.6439\"/><path d=\"m198.04 13.781 2.3664 1.9713-2.7298 1.4262\" clip-path=\"url(#57245853361)\" fill=\"none\" stroke=\"#737880\" stroke-linecap=\"round\" stroke-opacity=\".5\"/><path d=\"m184.48 14.049 21.234 2.2712\" clip-path=\"url(#57245853361)\" fill=\"none\" stroke=\"#737880\" stroke-linecap=\"round\" stroke-opacity=\".5\" stroke-width=\"5.6439\"/><path d=\"m219 16.167 2.3026 1.9505-2.6861 1.3753\" clip-path=\"url(#57245853361)\" fill=\"none\" stroke=\"#737880\" stroke-linecap=\"round\" stroke-opacity=\".5\"/><path d=\"m205.71 16.32 20.786 2.397\" clip-path=\"url(#57245853361)\" fill=\"none\" stroke=\"#737880\" stroke-linecap=\"round\" stroke-opacity=\".5\" stroke-width=\"5.6439\"/><path d=\"m239.38 18.694 2.2135 1.9122-2.6165 1.3078\" clip-path=\"url(#57245853361)\" fill=\"none\" stroke=\"#737880\" stroke-linecap=\"round\" stroke-opacity=\".5\"/><path d=\"m226.5 18.717 20.125 2.5186\" clip-path=\"url(#57245853361)\" fill=\"none\" stroke=\"#737880\" stroke-linecap=\"round\" stroke-opacity=\".5\" stroke-width=\"5.6439\"/><path d=\"m259.04 21.143 2.1448 1.8318-2.5158 1.2753\" clip-path=\"url(#57245853361)\" fill=\"none\" stroke=\"#737880\" stroke-linecap=\"round\" stroke-opacity=\".5\"/><path d=\"m246.62 21.236 19.419 2.3186\" clip-path=\"url(#57245853361)\" fill=\"none\" stroke=\"#737880\" stroke-linecap=\"round\" stroke-opacity=\".5\" stroke-width=\"5.6439\"/><path d=\"m278.05 23.096 2.1291 1.7082-2.3957 1.3083\" clip-path=\"url(#57245853361)\" fill=\"none\" stroke=\"#737880\" stroke-linecap=\"round\" stroke-opacity=\".5\"/><path d=\"m266.04 23.554 18.853 1.6664\" clip-path=\"url(#57245853361)\" fill=\"none\" stroke=\"#737880\" stroke-linecap=\"round\" stroke-opacity=\".5\" stroke-width=\"5.6439\"/><path d=\"m295.65 24.392 1.9691 1.458-2.1032 1.2568\" clip-path=\"url(#57245853361)\" fill=\"none\" stroke=\"#737880\" stroke-linecap=\"round\" stroke-opacity=\".5\"/><path d=\"m284.9 25.221 16.968 0.83847\" clip-path=\"url(#57245853361)\" fill=\"none\" stroke=\"#737880\" stroke-linecap=\"round\" stroke-opacity=\".5\" stroke-width=\"5.6439\"/><path d=\"m311.26 25.206 1.7385 1.2508-1.8232 1.1236\" clip-path=\"url(#57245853361)\" fill=\"none\" stroke=\"#737880\" stroke-linecap=\"round\" stroke-opacity=\".5\"/><path d=\"m301.86 26.059 14.84 0.52996\" clip-path=\"url(#57245853361)\" fill=\"none\" stroke=\"#737880\" stroke-linecap=\"round\" stroke-opacity=\".5\" stroke-width=\"5.6439\"/><path d=\"m324.28 25.594 1.4477 0.95605-1.4393 0.96861\" clip-path=\"url(#57245853361)\" fill=\"none\" stroke=\"#737880\" stroke-linecap=\"round\" stroke-opacity=\".5\"/><path d=\"m316.7 26.589 12.029-0.052315\" clip-path=\"url(#57245853361)\" fill=\"none\" stroke=\"#737880\" stroke-linecap=\"round\" stroke-opacity=\".5\" stroke-width=\"5.6439\"/><path d=\"m328.73 26.537 5.6516 1.6423\" clip-path=\"url(#57245853361)\" fill=\"none\" stroke=\"#737880\" stroke-linecap=\"round\" stroke-opacity=\".5\" stroke-width=\"5.6439\"/><path d=\"m13.872 57.433c0.54141 0 1.0607-0.21511 1.4436-0.59794 0.38284-0.38284 0.59794-0.90215 0.59794-1.4436 0-0.54141-0.2151-1.0607-0.59794-1.4436-0.38284-0.38284-0.90215-0.59794-1.4436-0.59794-0.54141 0-1.0607 0.2151-1.4436 0.59794-0.38284 0.38284-0.59794 0.90215-0.59794 1.4436 0 0.54141 0.21511 1.0607 0.59794 1.4436s0.90215 0.59794 1.4436 0.59794z\" clip-path=\"url(#57245853361)\" fill=\"#737880\" stroke=\"#5d6167\" stroke-width=\".67381\"/><path d=\"m20.645 55.865c0.54141 0 1.0607-0.2151 1.4436-0.59794 0.38284-0.38284 0.59794-0.90215 0.59794-1.4436 0-0.54141-0.21511-1.0607-0.59794-1.4436-0.38284-0.38284-0.90215-0.59794-1.4436-0.59794-0.54141 0-1.0607 0.21511-1.4436 0.59794-0.38284 0.38284-0.59794 0.90215-0.59794 1.4436 0 0.54141 0.21511 1.0607 0.59794 1.4436 0.38284 0.38284 0.90215 0.59794 1.4436 0.59794z\" clip-path=\"url(#57245853361)\" fill=\"#737880\" stroke=\"#5d6167\" stroke-width=\".67381\"/><path d=\"m34.132 54.036c0.54141 0 1.0607-0.2151 1.4436-0.59794 0.38284-0.38284 0.59794-0.90215 0.59794-1.4436s-0.2151-1.0607-0.59794-1.4436c-0.38284-0.38284-0.90215-0.59794-1.4436-0.59794-0.54141 0-1.0607 0.2151-1.4436 0.59794-0.38284 0.38284-0.59794 0.90215-0.59794 1.4436s0.21511 1.0607 0.59794 1.4436c0.38284 0.38284 0.90215 0.59794 1.4436 0.59794z\" clip-path=\"url(#57245853361)\" fill=\"#737880\" stroke=\"#5d6167\" stroke-width=\".67381\"/><path d=\"m50.866 50.81c0.54141 0 1.0607-0.2151 1.4436-0.59794 0.38284-0.38284 0.59794-0.90215 0.59794-1.4436 0-0.54141-0.2151-1.0607-0.59794-1.4436-0.38284-0.38284-0.90215-0.59794-1.4436-0.59794s-1.0607 0.2151-1.4436 0.59794c-0.38284 0.38284-0.59794 0.90215-0.59794 1.4436 0 0.54141 0.2151 1.0607 0.59794 1.4436 0.38284 0.38284 0.90215 0.59794 1.4436 0.59794z\" clip-path=\"url(#57245853361)\" fill=\"#737880\" stroke=\"#5d6167\" stroke-width=\".67381\"/><path d=\"m65.962 44.587c0.54141 0 1.0607-0.21511 1.4436-0.59794 0.38284-0.38284 0.59794-0.90215 0.59794-1.4436 0-0.54141-0.2151-1.0607-0.59794-1.4436-0.38284-0.38284-0.90215-0.59794-1.4436-0.59794s-1.0607 0.21511-1.4436 0.59794c-0.38284 0.38284-0.59794 0.90215-0.59794 1.4436 0 0.54141 0.2151 1.0607 0.59794 1.4436 0.38284 0.38284 0.90215 0.59794 1.4436 0.59794z\" clip-path=\"url(#57245853361)\" fill=\"#737880\" stroke=\"#5d6167\" stroke-width=\".67381\"/><path d=\"m83.213 40.406c0.54141 0 1.0607-0.2151 1.4436-0.59794 0.38284-0.38284 0.59794-0.90215 0.59794-1.4436 0-0.54141-0.2151-1.0607-0.59794-1.4436-0.38284-0.38284-0.90215-0.59794-1.4436-0.59794s-1.0607 0.21511-1.4436 0.59794c-0.38284 0.38284-0.59794 0.90215-0.59794 1.4436 0 0.54141 0.2151 1.0607 0.59794 1.4436 0.38284 0.38284 0.90215 0.59794 1.4436 0.59794z\" clip-path=\"url(#57245853361)\" fill=\"#737880\" stroke=\"#5d6167\" stroke-width=\".67381\"/><path d=\"m102.05 38.367c0.54141 0 1.0607-0.2151 1.4436-0.59794 0.38284-0.38284 0.59794-0.90215 0.59794-1.4436s-0.2151-1.0607-0.59794-1.4436c-0.38284-0.38284-0.90215-0.59794-1.4436-0.59794-0.54141 0-1.0607 0.2151-1.4436 0.59794-0.38284 0.38284-0.59794 0.90215-0.59794 1.4436s0.21511 1.0607 0.59794 1.4436c0.38284 0.38284 0.90215 0.59794 1.4436 0.59794z\" clip-path=\"url(#57245853361)\" fill=\"#737880\" stroke=\"#5d6167\" stroke-width=\".67381\"/><path d=\"m121.66 37.032c0.54141 0 1.0607-0.21511 1.4436-0.59794s0.59794-0.90215 0.59794-1.4436c0-0.54141-0.21511-1.0607-0.59794-1.4436-0.38284-0.38284-0.90215-0.59794-1.4436-0.59794-0.54141 0-1.0607 0.2151-1.4436 0.59794-0.38284 0.38284-0.59794 0.90215-0.59794 1.4436 0 0.54141 0.2151 1.0607 0.59794 1.4436 0.38284 0.38284 0.90215 0.59794 1.4436 0.59794z\" clip-path=\"url(#57245853361)\" fill=\"#737880\" stroke=\"#5d6167\" stroke-width=\".67381\"/><path d=\"m142.01 37.245c0.54141 0 1.0607-0.21511 1.4436-0.59794 0.38284-0.38284 0.59794-0.90215 0.59794-1.4436 0-0.54141-0.21511-1.0607-0.59794-1.4436-0.38284-0.38284-0.90215-0.59794-1.4436-0.59794-0.54141 0-1.0607 0.21511-1.4436 0.59794-0.38284 0.38284-0.59794 0.90215-0.59794 1.4436 0 0.54141 0.21511 1.0607 0.59794 1.4436 0.38284 0.38284 0.90215 0.59794 1.4436 0.59794z\" clip-path=\"url(#57245853361)\" fill=\"#737880\" stroke=\"#5d6167\" stroke-width=\".67381\"/><path d=\"m162.42 38.885c0.54141 0 1.0607-0.21511 1.4436-0.59794 0.38284-0.38284 0.59794-0.90215 0.59794-1.4436 0-0.54141-0.2151-1.0607-0.59794-1.4436-0.38284-0.38284-0.90215-0.59794-1.4436-0.59794-0.54141 0-1.0607 0.21511-1.4436 0.59794-0.38284 0.38284-0.59794 0.90215-0.59794 1.4436 0 0.54141 0.21511 1.0607 0.59794 1.4436 0.38284 0.38284 0.90215 0.59794 1.4436 0.59794z\" clip-path=\"url(#57245853361)\" fill=\"#737880\" stroke=\"#5d6167\" stroke-width=\".67381\"/><path d=\"m183.12 41.06c0.54141 0 1.0607-0.21511 1.4436-0.59794 0.38284-0.38284 0.59794-0.90215 0.59794-1.4436 0-0.54141-0.2151-1.0607-0.59794-1.4436-0.38284-0.38284-0.90215-0.59794-1.4436-0.59794-0.54141 0-1.0607 0.2151-1.4436 0.59794-0.38284 0.38284-0.59794 0.90215-0.59794 1.4436 0 0.54141 0.21511 1.0607 0.59794 1.4436s0.90215 0.59794 1.4436 0.59794z\" clip-path=\"url(#57245853361)\" fill=\"#737880\" stroke=\"#5d6167\" stroke-width=\".67381\"/><path d=\"m203.85 43.314c0.54141 0 1.0607-0.2151 1.4436-0.59794 0.38284-0.38284 0.59794-0.90215 0.59794-1.4436 0-0.54141-0.2151-1.0607-0.59794-1.4436-0.38284-0.38284-0.90215-0.59794-1.4436-0.59794-0.54141 0-1.0607 0.2151-1.4436 0.59794-0.38284 0.38284-0.59794 0.90215-0.59794 1.4436 0 0.54141 0.2151 1.0607 0.59794 1.4436 0.38284 0.38284 0.90215 0.59794 1.4436 0.59794z\" clip-path=\"url(#57245853361)\" fill=\"#737880\" stroke=\"#5d6167\" stroke-width=\".67381\"/><path d=\"m224.44 45.667c0.54141 0 1.0607-0.21511 1.4436-0.59794 0.38284-0.38284 0.59794-0.90215 0.59794-1.4436 0-0.54141-0.2151-1.0607-0.59794-1.4436-0.38284-0.38284-0.90215-0.59794-1.4436-0.59794-0.54141 0-1.0607 0.2151-1.4436 0.59794-0.38284 0.38284-0.59794 0.90215-0.59794 1.4436 0 0.54141 0.2151 1.0607 0.59794 1.4436 0.38284 0.38284 0.90215 0.59794 1.4436 0.59794z\" clip-path=\"url(#57245853361)\" fill=\"#737880\" stroke=\"#5d6167\" stroke-width=\".67381\"/><path d=\"m244.26 48.347c0.54141 0 1.0607-0.21511 1.4436-0.59794 0.38284-0.38284 0.59794-0.90215 0.59794-1.4436 0-0.54141-0.21511-1.0607-0.59794-1.4436-0.38284-0.38284-0.90215-0.59794-1.4436-0.59794-0.54141 0-1.0607 0.21511-1.4436 0.59794-0.38284 0.38284-0.59794 0.90215-0.59794 1.4436 0 0.54141 0.21511 1.0607 0.59794 1.4436 0.38284 0.38284 0.90215 0.59794 1.4436 0.59794z\" clip-path=\"url(#57245853361)\" fill=\"#737880\" stroke=\"#5d6167\" stroke-width=\".67381\"/><path d=\"m262.95 51.321c0.54141 0 1.0607-0.2151 1.4436-0.59794 0.38284-0.38284 0.59794-0.90215 0.59794-1.4436s-0.21511-1.0607-0.59794-1.4436c-0.38284-0.38284-0.90215-0.59794-1.4436-0.59794-0.54141 0-1.0607 0.2151-1.4436 0.59794-0.38284 0.38284-0.59794 0.90215-0.59794 1.4436s0.21511 1.0607 0.59794 1.4436c0.38284 0.38284 0.90215 0.59794 1.4436 0.59794z\" clip-path=\"url(#57245853361)\" fill=\"#737880\" stroke=\"#5d6167\" stroke-width=\".67381\"/><path d=\"m281.95 53.485c0.54141 0 1.0607-0.21511 1.4436-0.59794 0.38284-0.38284 0.59794-0.90215 0.59794-1.4436 0-0.54141-0.21511-1.0607-0.59794-1.4436-0.38284-0.38284-0.90215-0.59794-1.4436-0.59794-0.54141 0-1.0607 0.21511-1.4436 0.59794-0.38284 0.38284-0.59794 0.90215-0.59794 1.4436 0 0.54141 0.21511 1.0607 0.59794 1.4436 0.38284 0.38284 0.90215 0.59794 1.4436 0.59794z\" clip-path=\"url(#57245853361)\" fill=\"#737880\" stroke=\"#5d6167\" stroke-width=\".67381\"/><path d=\"m299.35 55.011c0.54141 0 1.0607-0.2151 1.4436-0.59794 0.38284-0.38284 0.59794-0.90215 0.59794-1.4436 0-0.54141-0.21511-1.0607-0.59794-1.4436-0.38284-0.38284-0.90215-0.59794-1.4436-0.59794-0.54141 0-1.0607 0.2151-1.4436 0.59794-0.38284 0.38284-0.59794 0.90215-0.59794 1.4436 0 0.54141 0.21511 1.0607 0.59794 1.4436 0.38284 0.38284 0.90215 0.59794 1.4436 0.59794z\" clip-path=\"url(#57245853361)\" fill=\"#737880\" stroke=\"#5d6167\" stroke-width=\".67381\"/><path d=\"m314.93 56.197c0.54141 0 1.0607-0.21511 1.4436-0.59794s0.59794-0.90215 0.59794-1.4436c0-0.54141-0.21511-1.0607-0.59794-1.4436-0.38284-0.38284-0.90215-0.59794-1.4436-0.59794-0.54141 0-1.0607 0.21511-1.4436 0.59794-0.38284 0.38284-0.59794 0.90215-0.59794 1.4436 0 0.54141 0.2151 1.0607 0.59794 1.4436 0.38284 0.38284 0.90215 0.59794 1.4436 0.59794z\" clip-path=\"url(#57245853361)\" fill=\"#737880\" stroke=\"#5d6167\" stroke-width=\".67381\"/><path d=\"m326.34 56.078c0.54141 0 1.0607-0.21511 1.4436-0.59794s0.59794-0.90215 0.59794-1.4436c0-0.54141-0.21511-1.0607-0.59794-1.4436-0.38284-0.38284-0.90215-0.59794-1.4436-0.59794-0.54141 0-1.0607 0.2151-1.4436 0.59794-0.38284 0.38284-0.59794 0.90215-0.59794 1.4436 0 0.54141 0.2151 1.0607 0.59794 1.4436 0.38284 0.38284 0.90215 0.59794 1.4436 0.59794z\" clip-path=\"url(#57245853361)\" fill=\"#737880\" stroke=\"#5d6167\" stroke-width=\".67381\"/><path d=\"m334.55 54.226c0.54141 0 1.0607-0.2151 1.4436-0.59794 0.38284-0.38284 0.59794-0.90215 0.59794-1.4436 0-0.54141-0.21511-1.0607-0.59794-1.4436-0.38284-0.38284-0.90215-0.59794-1.4436-0.59794-0.54141 0-1.0607 0.21511-1.4436 0.59794-0.38284 0.38284-0.59794 0.90215-0.59794 1.4436 0 0.54141 0.21511 1.0607 0.59794 1.4436 0.38284 0.38284 0.90215 0.59794 1.4436 0.59794z\" clip-path=\"url(#57245853361)\" fill=\"#737880\" stroke=\"#5d6167\" stroke-width=\".67381\"/><path d=\"m13.42 45.056c0.54141 0 1.0607-0.21511 1.4436-0.59794 0.38284-0.38284 0.59794-0.90215 0.59794-1.4436 0-0.54141-0.21511-1.0607-0.59794-1.4436-0.38284-0.38284-0.90215-0.59794-1.4436-0.59794-0.54141 0-1.0607 0.21511-1.4436 0.59794-0.38284 0.38284-0.59794 0.90215-0.59794 1.4436 0 0.54141 0.2151 1.0607 0.59794 1.4436 0.38284 0.38284 0.90215 0.59794 1.4436 0.59794z\" clip-path=\"url(#57245853361)\" fill=\"#56b4e9\" stroke=\"#4da2d2\" stroke-width=\".67381\"/><path d=\"m20.932 42.294c0.54141 0 1.0607-0.21511 1.4436-0.59794 0.38284-0.38284 0.59794-0.90215 0.59794-1.4436 0-0.54141-0.2151-1.0607-0.59794-1.4436-0.38284-0.38284-0.90215-0.59794-1.4436-0.59794s-1.0607 0.21511-1.4436 0.59794c-0.38284 0.38284-0.59794 0.90215-0.59794 1.4436 0 0.54141 0.2151 1.0607 0.59794 1.4436 0.38284 0.38284 0.90215 0.59794 1.4436 0.59794z\" clip-path=\"url(#57245853361)\" fill=\"#56b4e9\" stroke=\"#4da2d2\" stroke-width=\".67381\"/><path d=\"m34.097 40.423c0.54141 0 1.0607-0.2151 1.4436-0.59794 0.38284-0.38284 0.59794-0.90215 0.59794-1.4436s-0.21511-1.0607-0.59794-1.4436c-0.38284-0.38284-0.90215-0.59794-1.4436-0.59794-0.54141 0-1.0607 0.2151-1.4436 0.59794-0.38284 0.38284-0.59794 0.90215-0.59794 1.4436s0.21511 1.0607 0.59794 1.4436c0.38284 0.38284 0.90215 0.59794 1.4436 0.59794z\" clip-path=\"url(#57245853361)\" fill=\"#56b4e9\" stroke=\"#4da2d2\" stroke-width=\".67381\"/><path d=\"m47.618 36.401c0.54141 0 1.0607-0.2151 1.4436-0.59794 0.38284-0.38284 0.59794-0.90215 0.59794-1.4436 0-0.54141-0.21511-1.0607-0.59794-1.4436s-0.90215-0.59794-1.4436-0.59794c-0.54141 0-1.0607 0.21511-1.4436 0.59794-0.38284 0.38284-0.59794 0.90215-0.59794 1.4436 0 0.54141 0.2151 1.0607 0.59794 1.4436 0.38284 0.38284 0.90215 0.59794 1.4436 0.59794z\" clip-path=\"url(#57245853361)\" fill=\"#56b4e9\" stroke=\"#4da2d2\" stroke-width=\".67381\"/><path d=\"m63.599 31.246c0.54141 0 1.0607-0.2151 1.4436-0.59794 0.38284-0.38284 0.59794-0.90215 0.59794-1.4436 0-0.54141-0.21511-1.0607-0.59794-1.4436s-0.90215-0.59794-1.4436-0.59794c-0.54141 0-1.0607 0.21511-1.4436 0.59794-0.38284 0.38284-0.59794 0.90215-0.59794 1.4436 0 0.54141 0.2151 1.0607 0.59794 1.4436 0.38284 0.38284 0.90215 0.59794 1.4436 0.59794z\" clip-path=\"url(#57245853361)\" fill=\"#56b4e9\" stroke=\"#4da2d2\" stroke-width=\".67381\"/><path d=\"m81.67 27.5c0.54141 0 1.0607-0.2151 1.4436-0.59794 0.38284-0.38284 0.59794-0.90215 0.59794-1.4436 0-0.54141-0.2151-1.0607-0.59794-1.4436-0.38284-0.38284-0.90215-0.59794-1.4436-0.59794-0.54141 0-1.0607 0.2151-1.4436 0.59794-0.38284 0.38284-0.59794 0.90215-0.59794 1.4436 0 0.54141 0.2151 1.0607 0.59794 1.4436 0.38284 0.38284 0.90215 0.59794 1.4436 0.59794z\" clip-path=\"url(#57245853361)\" fill=\"#56b4e9\" stroke=\"#4da2d2\" stroke-width=\".67381\"/><path d=\"m100.92 25.515c0.54141 0 1.0607-0.2151 1.4436-0.59794 0.38284-0.38284 0.59794-0.90215 0.59794-1.4436 0-0.54141-0.21511-1.0607-0.59794-1.4436-0.38284-0.38284-0.90215-0.59794-1.4436-0.59794-0.54141 0-1.0607 0.2151-1.4436 0.59794-0.38284 0.38284-0.59794 0.90215-0.59794 1.4436 0 0.54141 0.21511 1.0607 0.59794 1.4436 0.38284 0.38284 0.90215 0.59794 1.4436 0.59794z\" clip-path=\"url(#57245853361)\" fill=\"#56b4e9\" stroke=\"#4da2d2\" stroke-width=\".67381\"/><path d=\"m121.24 24.398c0.54141 0 1.0607-0.2151 1.4436-0.59794 0.38284-0.38284 0.59794-0.90215 0.59794-1.4436 0-0.54141-0.2151-1.0607-0.59794-1.4436-0.38284-0.38284-0.90215-0.59794-1.4436-0.59794-0.54141 0-1.0607 0.2151-1.4436 0.59794-0.38284 0.38284-0.59794 0.90215-0.59794 1.4436 0 0.54141 0.21511 1.0607 0.59794 1.4436 0.38284 0.38284 0.90215 0.59794 1.4436 0.59794z\" clip-path=\"url(#57245853361)\" fill=\"#56b4e9\" stroke=\"#4da2d2\" stroke-width=\".67381\"/><path d=\"m142.04 24.73c0.54141 0 1.0607-0.2151 1.4436-0.59794 0.38284-0.38284 0.59794-0.90215 0.59794-1.4436s-0.21511-1.0607-0.59794-1.4436c-0.38284-0.38284-0.90215-0.59794-1.4436-0.59794-0.54141 0-1.0607 0.2151-1.4436 0.59794-0.38284 0.38284-0.59794 0.90215-0.59794 1.4436s0.21511 1.0607 0.59794 1.4436c0.38284 0.38284 0.90215 0.59794 1.4436 0.59794z\" clip-path=\"url(#57245853361)\" fill=\"#56b4e9\" stroke=\"#4da2d2\" stroke-width=\".67381\"/><path d=\"m162.82 26.223c0.54141 0 1.0607-0.2151 1.4436-0.59794 0.38284-0.38284 0.59794-0.90215 0.59794-1.4436 0-0.54141-0.21511-1.0607-0.59794-1.4436-0.38284-0.38284-0.90215-0.59794-1.4436-0.59794-0.54141 0-1.0607 0.2151-1.4436 0.59794-0.38284 0.38284-0.59794 0.90215-0.59794 1.4436 0 0.54141 0.2151 1.0607 0.59794 1.4436 0.38284 0.38284 0.90215 0.59794 1.4436 0.59794z\" clip-path=\"url(#57245853361)\" fill=\"#56b4e9\" stroke=\"#4da2d2\" stroke-width=\".67381\"/><path d=\"m183.79 28.509c0.54141 0 1.0607-0.21511 1.4436-0.59794 0.38284-0.38284 0.59794-0.90215 0.59794-1.4436 0-0.54141-0.2151-1.0607-0.59794-1.4436-0.38284-0.38284-0.90215-0.59794-1.4436-0.59794-0.54141 0-1.0607 0.2151-1.4436 0.59794-0.38284 0.38284-0.59794 0.90215-0.59794 1.4436 0 0.54141 0.2151 1.0607 0.59794 1.4436 0.38284 0.38284 0.90215 0.59794 1.4436 0.59794z\" clip-path=\"url(#57245853361)\" fill=\"#56b4e9\" stroke=\"#4da2d2\" stroke-width=\".67381\"/><path d=\"m204.76 30.792c0.54141 0 1.0607-0.21511 1.4436-0.59794 0.38284-0.38284 0.59794-0.90215 0.59794-1.4436 0-0.54141-0.2151-1.0607-0.59794-1.4436-0.38284-0.38284-0.90215-0.59794-1.4436-0.59794-0.54141 0-1.0607 0.2151-1.4436 0.59794-0.38284 0.38284-0.59794 0.90215-0.59794 1.4436 0 0.54141 0.2151 1.0607 0.59794 1.4436 0.38284 0.38284 0.90215 0.59794 1.4436 0.59794z\" clip-path=\"url(#57245853361)\" fill=\"#56b4e9\" stroke=\"#4da2d2\" stroke-width=\".67381\"/><path d=\"m225.62 33.227c0.54141 0 1.0607-0.21511 1.4436-0.59794 0.38284-0.38284 0.59794-0.90215 0.59794-1.4436 0-0.54141-0.2151-1.0607-0.59794-1.4436-0.38284-0.38284-0.90215-0.59794-1.4436-0.59794-0.54141 0-1.0607 0.21511-1.4436 0.59794-0.38284 0.38284-0.59794 0.90215-0.59794 1.4436 0 0.54141 0.2151 1.0607 0.59794 1.4436 0.38284 0.38284 0.90215 0.59794 1.4436 0.59794z\" clip-path=\"url(#57245853361)\" fill=\"#56b4e9\" stroke=\"#4da2d2\" stroke-width=\".67381\"/><path d=\"m245.84 35.834c0.54141 0 1.0607-0.21511 1.4436-0.59794 0.38284-0.38284 0.59794-0.90215 0.59794-1.4436 0-0.54141-0.2151-1.0607-0.59794-1.4436-0.38284-0.38284-0.90215-0.59794-1.4436-0.59794-0.54141 0-1.0607 0.21511-1.4436 0.59794-0.38284 0.38284-0.59794 0.90215-0.59794 1.4436 0 0.54141 0.21511 1.0607 0.59794 1.4436 0.38284 0.38284 0.90215 0.59794 1.4436 0.59794z\" clip-path=\"url(#57245853361)\" fill=\"#56b4e9\" stroke=\"#4da2d2\" stroke-width=\".67381\"/><path d=\"m265.31 38.436c0.54141 0 1.0607-0.2151 1.4436-0.59794 0.38284-0.38284 0.59794-0.90215 0.59794-1.4436s-0.2151-1.0607-0.59794-1.4436c-0.38284-0.38284-0.90215-0.59794-1.4436-0.59794-0.54141 0-1.0607 0.2151-1.4436 0.59794-0.38284 0.38284-0.59794 0.90215-0.59794 1.4436s0.21511 1.0607 0.59794 1.4436c0.38284 0.38284 0.90215 0.59794 1.4436 0.59794z\" clip-path=\"url(#57245853361)\" fill=\"#56b4e9\" stroke=\"#4da2d2\" stroke-width=\".67381\"/><path d=\"m283.78 40.474c0.54141 0 1.0607-0.2151 1.4436-0.59794 0.38284-0.38284 0.59794-0.90215 0.59794-1.4436 0-0.54141-0.2151-1.0607-0.59794-1.4436-0.38284-0.38284-0.90215-0.59794-1.4436-0.59794-0.54141 0-1.0607 0.21511-1.4436 0.59794-0.38284 0.38284-0.59794 0.90215-0.59794 1.4436 0 0.54141 0.2151 1.0607 0.59794 1.4436 0.38284 0.38284 0.90215 0.59794 1.4436 0.59794z\" clip-path=\"url(#57245853361)\" fill=\"#56b4e9\" stroke=\"#4da2d2\" stroke-width=\".67381\"/><path d=\"m301.14 41.563c0.54141 0 1.0607-0.2151 1.4436-0.59794 0.38284-0.38284 0.59794-0.90215 0.59794-1.4436 0-0.54141-0.21511-1.0607-0.59794-1.4436-0.38284-0.38284-0.90215-0.59794-1.4436-0.59794-0.54141 0-1.0607 0.2151-1.4436 0.59794-0.38284 0.38284-0.59794 0.90215-0.59794 1.4436 0 0.54141 0.21511 1.0607 0.59794 1.4436 0.38284 0.38284 0.90215 0.59794 1.4436 0.59794z\" clip-path=\"url(#57245853361)\" fill=\"#56b4e9\" stroke=\"#4da2d2\" stroke-width=\".67381\"/><path d=\"m316.88 42.458c0.54141 0 1.0607-0.2151 1.4436-0.59794 0.38284-0.38284 0.59794-0.90215 0.59794-1.4436 0-0.54141-0.21511-1.0607-0.59794-1.4436s-0.90215-0.59794-1.4436-0.59794c-0.54141 0-1.0607 0.21511-1.4436 0.59794-0.38284 0.38284-0.59794 0.90215-0.59794 1.4436 0 0.54141 0.2151 1.0607 0.59794 1.4436 0.38284 0.38284 0.90215 0.59794 1.4436 0.59794z\" clip-path=\"url(#57245853361)\" fill=\"#56b4e9\" stroke=\"#4da2d2\" stroke-width=\".67381\"/><path d=\"m329.46 42.694c0.54141 0 1.0607-0.21511 1.4436-0.59794 0.38284-0.38284 0.59794-0.90215 0.59794-1.4436 0-0.54141-0.2151-1.0607-0.59794-1.4436-0.38284-0.38284-0.90215-0.59794-1.4436-0.59794-0.54141 0-1.0607 0.21511-1.4436 0.59794-0.38284 0.38284-0.59794 0.90215-0.59794 1.4436 0 0.54141 0.2151 1.0607 0.59794 1.4436 0.38284 0.38284 0.90215 0.59794 1.4436 0.59794z\" clip-path=\"url(#57245853361)\" fill=\"#56b4e9\" stroke=\"#4da2d2\" stroke-width=\".67381\"/><path d=\"m336.47 42.023c0.54141 0 1.0607-0.2151 1.4436-0.59794 0.38284-0.38284 0.59794-0.90215 0.59794-1.4436 0-0.54141-0.2151-1.0607-0.59794-1.4436-0.38284-0.38284-0.90215-0.59794-1.4436-0.59794-0.54141 0-1.0607 0.21511-1.4436 0.59794-0.38284 0.38284-0.59794 0.90215-0.59794 1.4436 0 0.54141 0.2151 1.0607 0.59794 1.4436 0.38284 0.38284 0.90215 0.59794 1.4436 0.59794z\" clip-path=\"url(#57245853361)\" fill=\"#56b4e9\" stroke=\"#4da2d2\" stroke-width=\".67381\"/><path d=\"m12.728 32.875c0.54141 0 1.0607-0.2151 1.4436-0.59794 0.38284-0.38284 0.59794-0.90215 0.59794-1.4436 0-0.54141-0.2151-1.0607-0.59794-1.4436-0.38284-0.38284-0.90215-0.59794-1.4436-0.59794-0.54141 0-1.0607 0.2151-1.4436 0.59794-0.38284 0.38284-0.59794 0.90215-0.59794 1.4436 0 0.54141 0.2151 1.0607 0.59794 1.4436 0.38284 0.38284 0.90215 0.59794 1.4436 0.59794z\" clip-path=\"url(#57245853361)\" fill=\"#737880\" stroke=\"#5d6167\" stroke-width=\".67381\"/><path d=\"m17.901 28.455c0.54141 0 1.0607-0.2151 1.4436-0.59794 0.38284-0.38284 0.59794-0.90215 0.59794-1.4436 0-0.54141-0.2151-1.0607-0.59794-1.4436-0.38284-0.38284-0.90215-0.59794-1.4436-0.59794-0.54141 0-1.0607 0.2151-1.4436 0.59794-0.38284 0.38284-0.59794 0.90215-0.59794 1.4436 0 0.54141 0.2151 1.0607 0.59794 1.4436 0.38284 0.38284 0.90215 0.59794 1.4436 0.59794z\" clip-path=\"url(#57245853361)\" fill=\"#737880\" stroke=\"#5d6167\" stroke-width=\".67381\"/><path d=\"m29.527 26.173c0.54141 0 1.0607-0.2151 1.4436-0.59794 0.38284-0.38284 0.59794-0.90215 0.59794-1.4436s-0.2151-1.0607-0.59794-1.4436c-0.38284-0.38284-0.90215-0.59794-1.4436-0.59794-0.54141 0-1.0607 0.2151-1.4436 0.59794-0.38284 0.38284-0.59794 0.90215-0.59794 1.4436s0.2151 1.0607 0.59794 1.4436c0.38284 0.38284 0.90215 0.59794 1.4436 0.59794z\" clip-path=\"url(#57245853361)\" fill=\"#737880\" stroke=\"#5d6167\" stroke-width=\".67381\"/><path d=\"m44.268 22.575c0.54141 0 1.0607-0.21511 1.4436-0.59794s0.59794-0.90215 0.59794-1.4436c0-0.54141-0.21511-1.0607-0.59794-1.4436-0.38284-0.38284-0.90215-0.59794-1.4436-0.59794-0.54141 0-1.0607 0.2151-1.4436 0.59794-0.38284 0.38284-0.59794 0.90215-0.59794 1.4436 0 0.54141 0.2151 1.0607 0.59794 1.4436 0.38284 0.38284 0.90215 0.59794 1.4436 0.59794z\" clip-path=\"url(#57245853361)\" fill=\"#737880\" stroke=\"#5d6167\" stroke-width=\".67381\"/><path d=\"m60.876 18.258c0.54141 0 1.0607-0.2151 1.4436-0.59794 0.38284-0.38284 0.59794-0.90215 0.59794-1.4436 0-0.54141-0.21511-1.0607-0.59794-1.4436-0.38284-0.38284-0.90215-0.59794-1.4436-0.59794-0.54141 0-1.0607 0.2151-1.4436 0.59794-0.38284 0.38284-0.59794 0.90215-0.59794 1.4436 0 0.54141 0.2151 1.0607 0.59794 1.4436 0.38284 0.38284 0.90215 0.59794 1.4436 0.59794z\" clip-path=\"url(#57245853361)\" fill=\"#737880\" stroke=\"#5d6167\" stroke-width=\".67381\"/><path d=\"m79.565 15c0.54141 0 1.0607-0.2151 1.4436-0.59794 0.38284-0.38284 0.59794-0.90215 0.59794-1.4436 0-0.54141-0.21511-1.0607-0.59794-1.4436-0.38284-0.38284-0.90215-0.59794-1.4436-0.59794-0.54141 0-1.0607 0.2151-1.4436 0.59794-0.38284 0.38284-0.59794 0.90215-0.59794 1.4436 0 0.54141 0.2151 1.0607 0.59794 1.4436 0.38284 0.38284 0.90215 0.59794 1.4436 0.59794z\" clip-path=\"url(#57245853361)\" fill=\"#737880\" stroke=\"#5d6167\" stroke-width=\".67381\"/><path d=\"m99.548 13.184c0.54141 0 1.0607-0.2151 1.4436-0.59794 0.38284-0.38284 0.59794-0.90215 0.59794-1.4436 0-0.54141-0.2151-1.0607-0.59794-1.4436-0.38284-0.38284-0.90215-0.59794-1.4436-0.59794-0.54141 0-1.0607 0.2151-1.4436 0.59794-0.38284 0.38284-0.59794 0.90215-0.59794 1.4436 0 0.54141 0.2151 1.0607 0.59794 1.4436 0.38284 0.38284 0.90215 0.59794 1.4436 0.59794z\" clip-path=\"url(#57245853361)\" fill=\"#737880\" stroke=\"#5d6167\" stroke-width=\".67381\"/><path d=\"m120.59 11.987c0.54141 0 1.0607-0.2151 1.4436-0.59794 0.38284-0.38284 0.59794-0.90215 0.59794-1.4436 0-0.54141-0.2151-1.0607-0.59794-1.4436-0.38284-0.38284-0.90215-0.59794-1.4436-0.59794-0.54141 0-1.0607 0.21511-1.4436 0.59794-0.38284 0.38284-0.59794 0.90215-0.59794 1.4436 0 0.54141 0.2151 1.0607 0.59794 1.4436 0.38284 0.38284 0.90215 0.59794 1.4436 0.59794z\" clip-path=\"url(#57245853361)\" fill=\"#737880\" stroke=\"#5d6167\" stroke-width=\".67381\"/><path d=\"m141.86 12.261c0.54141 0 1.0607-0.2151 1.4436-0.59794 0.38284-0.38284 0.59794-0.90215 0.59794-1.4436 0-0.54141-0.2151-1.0607-0.59794-1.4436-0.38284-0.38284-0.90215-0.59794-1.4436-0.59794-0.54141 0-1.0607 0.2151-1.4436 0.59794-0.38284 0.38284-0.59794 0.90215-0.59794 1.4436 0 0.54141 0.21511 1.0607 0.59794 1.4436 0.38284 0.38284 0.90215 0.59794 1.4436 0.59794z\" clip-path=\"url(#57245853361)\" fill=\"#737880\" stroke=\"#5d6167\" stroke-width=\".67381\"/><path d=\"m163.19 13.843c0.54141 0 1.0607-0.21511 1.4436-0.59794 0.38284-0.38284 0.59794-0.90215 0.59794-1.4436 0-0.54141-0.21511-1.0607-0.59794-1.4436-0.38284-0.38284-0.90215-0.59794-1.4436-0.59794-0.54141 0-1.0607 0.2151-1.4436 0.59794-0.38284 0.38284-0.59794 0.90215-0.59794 1.4436 0 0.54141 0.21511 1.0607 0.59794 1.4436 0.38284 0.38284 0.90215 0.59794 1.4436 0.59794z\" clip-path=\"url(#57245853361)\" fill=\"#737880\" stroke=\"#5d6167\" stroke-width=\".67381\"/><path d=\"m184.48 16.09c0.54141 0 1.0607-0.2151 1.4436-0.59794 0.38284-0.38284 0.59794-0.90215 0.59794-1.4436 0-0.54141-0.21511-1.0607-0.59794-1.4436-0.38284-0.38284-0.90215-0.59794-1.4436-0.59794-0.54141 0-1.0607 0.2151-1.4436 0.59794-0.38284 0.38284-0.59794 0.90215-0.59794 1.4436 0 0.54141 0.2151 1.0607 0.59794 1.4436 0.38284 0.38284 0.90215 0.59794 1.4436 0.59794z\" clip-path=\"url(#57245853361)\" fill=\"#737880\" stroke=\"#5d6167\" stroke-width=\".67381\"/><path d=\"m205.71 18.362c0.54141 0 1.0607-0.2151 1.4436-0.59794 0.38284-0.38284 0.59794-0.90215 0.59794-1.4436s-0.21511-1.0607-0.59794-1.4436c-0.38284-0.38284-0.90215-0.59794-1.4436-0.59794-0.54141 0-1.0607 0.2151-1.4436 0.59794-0.38284 0.38284-0.59794 0.90215-0.59794 1.4436s0.2151 1.0607 0.59794 1.4436c0.38284 0.38284 0.90215 0.59794 1.4436 0.59794z\" clip-path=\"url(#57245853361)\" fill=\"#737880\" stroke=\"#5d6167\" stroke-width=\".67381\"/><path d=\"m226.5 20.759c0.54141 0 1.0607-0.21511 1.4436-0.59794 0.38284-0.38284 0.59794-0.90215 0.59794-1.4436 0-0.54141-0.2151-1.0607-0.59794-1.4436-0.38284-0.38284-0.90215-0.59794-1.4436-0.59794-0.54141 0-1.0607 0.21511-1.4436 0.59794-0.38284 0.38284-0.59794 0.90215-0.59794 1.4436 0 0.54141 0.2151 1.0607 0.59794 1.4436 0.38284 0.38284 0.90215 0.59794 1.4436 0.59794z\" clip-path=\"url(#57245853361)\" fill=\"#737880\" stroke=\"#5d6167\" stroke-width=\".67381\"/><path d=\"m246.62 23.277c0.54141 0 1.0607-0.2151 1.4436-0.59794 0.38284-0.38284 0.59794-0.90215 0.59794-1.4436s-0.21511-1.0607-0.59794-1.4436c-0.38284-0.38284-0.90215-0.59794-1.4436-0.59794-0.54141 0-1.0607 0.2151-1.4436 0.59794-0.38284 0.38284-0.59794 0.90215-0.59794 1.4436s0.21511 1.0607 0.59794 1.4436c0.38284 0.38284 0.90215 0.59794 1.4436 0.59794z\" clip-path=\"url(#57245853361)\" fill=\"#737880\" stroke=\"#5d6167\" stroke-width=\".67381\"/><path d=\"m266.04 25.596c0.54141 0 1.0607-0.2151 1.4436-0.59794 0.38284-0.38284 0.59794-0.90215 0.59794-1.4436 0-0.54141-0.2151-1.0607-0.59794-1.4436-0.38284-0.38284-0.90215-0.59794-1.4436-0.59794-0.54141 0-1.0607 0.2151-1.4436 0.59794-0.38284 0.38284-0.59794 0.90215-0.59794 1.4436 0 0.54141 0.2151 1.0607 0.59794 1.4436 0.38284 0.38284 0.90215 0.59794 1.4436 0.59794z\" clip-path=\"url(#57245853361)\" fill=\"#737880\" stroke=\"#5d6167\" stroke-width=\".67381\"/><path d=\"m284.9 27.262c0.54141 0 1.0607-0.2151 1.4436-0.59794 0.38284-0.38284 0.59794-0.90215 0.59794-1.4436 0-0.54141-0.21511-1.0607-0.59794-1.4436-0.38284-0.38284-0.90215-0.59794-1.4436-0.59794-0.54141 0-1.0607 0.2151-1.4436 0.59794-0.38284 0.38284-0.59794 0.90215-0.59794 1.4436 0 0.54141 0.21511 1.0607 0.59794 1.4436 0.38284 0.38284 0.90215 0.59794 1.4436 0.59794z\" clip-path=\"url(#57245853361)\" fill=\"#737880\" stroke=\"#5d6167\" stroke-width=\".67381\"/><path d=\"m301.86 28.101c0.54141 0 1.0607-0.2151 1.4436-0.59794 0.38284-0.38284 0.59794-0.90215 0.59794-1.4436 0-0.54141-0.2151-1.0607-0.59794-1.4436-0.38284-0.38284-0.90215-0.59794-1.4436-0.59794-0.54141 0-1.0607 0.2151-1.4436 0.59794-0.38284 0.38284-0.59794 0.90215-0.59794 1.4436 0 0.54141 0.21511 1.0607 0.59794 1.4436 0.38284 0.38284 0.90215 0.59794 1.4436 0.59794z\" clip-path=\"url(#57245853361)\" fill=\"#737880\" stroke=\"#5d6167\" stroke-width=\".67381\"/><path d=\"m316.7 28.631c0.54141 0 1.0607-0.21511 1.4436-0.59794 0.38284-0.38284 0.59794-0.90215 0.59794-1.4436 0-0.54141-0.21511-1.0607-0.59794-1.4436-0.38284-0.38284-0.90215-0.59794-1.4436-0.59794-0.54141 0-1.0607 0.21511-1.4436 0.59794-0.38284 0.38284-0.59794 0.90215-0.59794 1.4436 0 0.54141 0.2151 1.0607 0.59794 1.4436 0.38284 0.38284 0.90215 0.59794 1.4436 0.59794z\" clip-path=\"url(#57245853361)\" fill=\"#737880\" stroke=\"#5d6167\" stroke-width=\".67381\"/><path d=\"m328.73 28.578c0.54141 0 1.0607-0.21511 1.4436-0.59794 0.38284-0.38284 0.59794-0.90215 0.59794-1.4436 0-0.54141-0.2151-1.0607-0.59794-1.4436-0.38284-0.38284-0.90215-0.59794-1.4436-0.59794s-1.0607 0.21511-1.4436 0.59794c-0.38284 0.38284-0.59794 0.90215-0.59794 1.4436 0 0.54141 0.2151 1.0607 0.59794 1.4436 0.38284 0.38284 0.90215 0.59794 1.4436 0.59794z\" clip-path=\"url(#57245853361)\" fill=\"#737880\" stroke=\"#5d6167\" stroke-width=\".67381\"/><path d=\"m334.38 30.221c0.54141 0 1.0607-0.2151 1.4436-0.59794 0.38284-0.38284 0.59794-0.90215 0.59794-1.4436 0-0.54141-0.21511-1.0607-0.59794-1.4436-0.38284-0.38284-0.90215-0.59794-1.4436-0.59794-0.54141 0-1.0607 0.2151-1.4436 0.59794-0.38284 0.38284-0.59794 0.90215-0.59794 1.4436 0 0.54141 0.21511 1.0607 0.59794 1.4436 0.38284 0.38284 0.90215 0.59794 1.4436 0.59794z\" clip-path=\"url(#57245853361)\" fill=\"#737880\" stroke=\"#5d6167\" stroke-width=\".67381\"/><path d=\"m349 41.534h56.081q2 0 2-2v-13.731q0-2-2-2h-56.081q-2 0-2 2v13.731q0 2 2 2z\" fill=\"none\" stroke=\"#999999\" stroke-opacity=\".2\"/><defs><path id=\"4a2ea0381e9\" d=\"m0 5c1.326 0 2.5979-0.52683 3.5355-1.4645 0.93763-0.93764 1.4645-2.2095 1.4645-3.5355s-0.52683-2.5979-1.4645-3.5355c-0.93764-0.93763-2.2095-1.4645-3.5355-1.4645s-2.5979 0.52683-3.5355 1.4645c-0.93763 0.93764-1.4645 2.2095-1.4645 3.5355s0.52683 2.5979 1.4645 3.5355c0.93764 0.93763 2.2095 1.4645 3.5355 1.4645z\" stroke=\"#4da2d2\"/></defs><use x=\"361\" y=\"31.95417\" fill=\"#56b4e9\" stroke=\"#4da2d2\" xlink:href=\"#4a2ea0381e9\"/><g transform=\"translate(379 35.454) scale(.1 -.1)\" fill=\"#545759\"><defs><path id=\"DejaVuSansMono-48\" transform=\"scale(.015625)\" d=\"m428 4666h635v-1913h1728v1913h634v-4666h-634v2222h-1728v-2222h-635v4666z\"/><path id=\"DejaVuSansMono-41\" transform=\"scale(.015625)\" d=\"m1925 4109-666-2387h1332l-666 2387zm-381 557h765l1429-4666h-654l-343 1216h-1635l-337-1216h-653l1428 4666z\"/><path id=\"DejaVuSansMono-4d\" transform=\"scale(.015625)\" d=\"m269 4666h844l806-2375 812 2375h847v-4666h-584v4122l-831-2459h-479l-834 2459v-4122h-581v4666z\"/></defs><use xlink:href=\"#DejaVuSansMono-20\"/><use x=\"60.205078\" xlink:href=\"#DejaVuSansMono-48\"/><use x=\"120.410156\" xlink:href=\"#DejaVuSansMono-41\"/><use x=\"180.615234\" xlink:href=\"#DejaVuSansMono-4d\"/></g><defs><clipPath id=\"57245853361\"><rect x=\"7.2\" y=\"7.2\" width=\"334.8\" height=\"50.936\"/></clipPath></defs></svg>"
      ],
      "text/plain": [
       "<Figure size 600x600 with 1 Axes>"
      ]
     },
     "metadata": {
      "needs_background": "light"
     },
     "output_type": "display_data"
    }
   ],
   "source": [
    "A = qtn.MPO_rand_herm(20, bond_dim=7, tags=['HAM'])\n",
    "pH = p.H\n",
    "\n",
    "# This inplace modifies the indices of each to form overlap\n",
    "p.align_(A, pH)\n",
    "\n",
    "(pH & A & p).draw(color='HAM', iterations=20, layout='sfdp')"
   ]
  },
  {
   "cell_type": "markdown",
   "id": "9f3b016f-343c-4f6c-b37e-9ee8085f1ee9",
   "metadata": {},
   "source": [
    "Compute the actual contraction (``...`` means contract everything, but use the structure if possible):"
   ]
  },
  {
   "cell_type": "code",
   "execution_count": 16,
   "id": "3d026049-ae22-4d22-ba86-f7a97051a5ff",
   "metadata": {
    "tags": []
   },
   "outputs": [
    {
     "data": {
      "text/plain": [
       "4.956509909557158e-07"
      ]
     },
     "execution_count": 16,
     "metadata": {},
     "output_type": "execute_result"
    }
   ],
   "source": [
    "(pH & A & p) ^ ..."
   ]
  },
  {
   "cell_type": "markdown",
   "id": "fa0d2290-4d72-48e8-bb7a-fff2b3be203e",
   "metadata": {
    "raw_mimetype": "text/restructuredtext"
   },
   "source": [
    "## Building Hamiltonians\n",
    "\n",
    "There are various built-in MPO hamiltoanians:\n",
    "\n",
    "- {class}`~quimb.tensor.tensor_builder.MPO_ham_heis`\n",
    "- {class}`~quimb.tensor.tensor_builder.MPO_ham_ising`\n",
    "- {class}`~quimb.tensor.tensor_builder.MPO_ham_XY`\n",
    "- {class}`~quimb.tensor.tensor_builder.MPO_ham_mbl`\n",
    "- ...\n",
    "\n",
    "These all accept a `cyclic` argument to enable periodic boundary\n",
    "conditions (PBC), and a `S` argument to set the size of spin.\n",
    "\n",
    "For generating other spin Hamiltonians see\n",
    "{class}`~quimb.tensor.tensor_builder.SpinHam1D`, or consider using the raw\n",
    "constructor of {class}`~quimb.tensor.tensor_1d.MatrixProductOperator`.\n",
    "\n",
    "## Quick DMRG2 Intro\n",
    "\n",
    "First we build a Hamiltonian term by term (though we could just use {class}`~quimb.tensor.tensor_builder.MPO_ham_heis`):"
   ]
  },
  {
   "cell_type": "code",
   "execution_count": 17,
   "id": "e780c69c-1b19-4e3d-81ed-f4eb3495aca4",
   "metadata": {
    "tags": []
   },
   "outputs": [],
   "source": [
    "builder = qtn.SpinHam1D(S=1)\n",
    "builder += 1/2, '+', '-'\n",
    "builder += 1/2, '-', '+'\n",
    "builder += 1, 'Z', 'Z'\n",
    "H = builder.build_mpo(L=100)"
   ]
  },
  {
   "cell_type": "markdown",
   "id": "107900a3-fdc6-49c9-8f9d-bcd651749285",
   "metadata": {
    "raw_mimetype": "text/restructuredtext"
   },
   "source": [
    "Then we construct the 2-site DMRG object ({class}`~quimb.tensor.tensor_dmrg.DMRG2`), with the Hamiltonian MPO and a default sequence of maximum bond dimensions and a bond compression cutoff:"
   ]
  },
  {
   "cell_type": "code",
   "execution_count": 18,
   "id": "3c4d4e39-611b-4a0b-8d2c-e12e21cd0bb7",
   "metadata": {
    "tags": []
   },
   "outputs": [],
   "source": [
    "dmrg = qtn.DMRG2(H, bond_dims=[10, 20, 100, 100, 200], cutoffs=1e-10)"
   ]
  },
  {
   "cell_type": "markdown",
   "id": "15169e22-6b6c-4562-ae44-96394d499eae",
   "metadata": {},
   "source": [
    "The ``DMRG`` object will automatically detect OBC/PBC. Now we can solve to a certain absolute energy tolerance, showing progress and a schematic of the final state:"
   ]
  },
  {
   "cell_type": "code",
   "execution_count": 19,
   "id": "badbf285-7f94-46d1-bb1b-abfd9f2f201e",
   "metadata": {
    "tags": []
   },
   "outputs": [
    {
     "name": "stdout",
     "output_type": "stream",
     "text": [
      "1, R, max_bond=(10/10), cutoff:1e-10\n"
     ]
    },
    {
     "name": "stderr",
     "output_type": "stream",
     "text": [
      "100%|##########################################| 99/99 [00:00<00:00, 157.48it/s]"
     ]
    },
    {
     "name": "stdout",
     "output_type": "stream",
     "text": [
      "Energy: -138.6528032133996 ... not converged.\n",
      "2, R, max_bond=(10/20), cutoff:1e-10\n"
     ]
    },
    {
     "name": "stderr",
     "output_type": "stream",
     "text": [
      "\n",
      "100%|##########################################| 99/99 [00:00<00:00, 347.86it/s]"
     ]
    },
    {
     "name": "stdout",
     "output_type": "stream",
     "text": [
      "Energy: -138.93658456328583 ... not converged.\n",
      "3, R, max_bond=(20/100), cutoff:1e-10\n"
     ]
    },
    {
     "name": "stderr",
     "output_type": "stream",
     "text": [
      "\n",
      "100%|##########################################| 99/99 [00:00<00:00, 165.66it/s]"
     ]
    },
    {
     "name": "stdout",
     "output_type": "stream",
     "text": [
      "Energy: -138.94004900802756 ... not converged.\n",
      "4, R, max_bond=(58/100), cutoff:1e-10\n"
     ]
    },
    {
     "name": "stderr",
     "output_type": "stream",
     "text": [
      "\n",
      "100%|###########################################| 99/99 [00:01<00:00, 67.19it/s]"
     ]
    },
    {
     "name": "stdout",
     "output_type": "stream",
     "text": [
      "Energy: -138.94008561923397 ... not converged.\n",
      "5, R, max_bond=(91/200), cutoff:1e-10\n"
     ]
    },
    {
     "name": "stderr",
     "output_type": "stream",
     "text": [
      "\n",
      "100%|###########################################| 99/99 [00:03<00:00, 29.17it/s]"
     ]
    },
    {
     "name": "stdout",
     "output_type": "stream",
     "text": [
      "Energy: -138.94008606447912 ... converged!\n"
     ]
    },
    {
     "name": "stderr",
     "output_type": "stream",
     "text": [
      "\n"
     ]
    },
    {
     "data": {
      "text/plain": [
       "np.True_"
      ]
     },
     "execution_count": 19,
     "metadata": {},
     "output_type": "execute_result"
    }
   ],
   "source": [
    "dmrg.solve(tol=1e-6, verbosity=1)"
   ]
  },
  {
   "cell_type": "code",
   "execution_count": 20,
   "id": "9ba953d0-cf43-4213-9071-561058a57fb9",
   "metadata": {
    "tags": []
   },
   "outputs": [
    {
     "name": "stdout",
     "output_type": "stream",
     "text": [
      "     3 9 27 54 64 73 78 83 86 90 91 92 93 95 95 94 94 94 94 94 93 93 92 92    \n",
      "... >─>─>──>──>──>──>──>──>──>──>──>──>──>──>──>──>──>──>──>──>──>──>──>── ...\n",
      "    │ │ │  │  │  │  │  │  │  │  │  │  │  │  │  │  │  │  │  │  │  │  │  │      \n",
      "                                 ...                                  \n",
      "     91 91 91 90 90 90 90 90 90 90 90 90 90 90 90 90 90 90 90 90 90 90 90     \n",
      "... >──>──>──>──>──>──>──>──>──>──>──>──>──>──>──>──>──>──>──>──>──>──>──> ...\n",
      "    │  │  │  │  │  │  │  │  │  │  │  │  │  │  │  │  │  │  │  │  │  │  │  │    \n",
      "                                 ...                                  \n",
      "    90 90 90 90 90 90 90 90 90 90 90 90 90 90 90 90 90 90 90 90 90 90 90 9    \n",
      "... ──>──>──>──>──>──>──>──>──>──>──>──>──>──>──>──>──>──>──>──>──>──>──>─ ...\n",
      "      │  │  │  │  │  │  │  │  │  │  │  │  │  │  │  │  │  │  │  │  │  │  │     \n",
      "                                 ...                                  \n",
      "    0 90 90 90 90 90 90 90 91 93 96 96 95 96 95 96 96 94 92 90 87 83 78 73    \n",
      "... ─>──>──>──>──>──>──>──>──>──>──>──>──>──>──>──>──>──>──>──>──>──>──>── ...\n",
      "     │  │  │  │  │  │  │  │  │  │  │  │  │  │  │  │  │  │  │  │  │  │  │      \n",
      "                                 ...                                  \n",
      "     64 53 27 9 3 \n",
      "    >──>──>──>─>─●\n",
      "    │  │  │  │ │ │\n"
     ]
    }
   ],
   "source": [
    "dmrg.state.show(max_width=80)"
   ]
  },
  {
   "cell_type": "markdown",
   "id": "e8164206-872c-4b0d-b35d-805bb991c839",
   "metadata": {
    "raw_mimetype": "text/restructuredtext"
   },
   "source": [
    "There are many options stored in the dict `DMRG.opts` - an explanation of each of\n",
    "these is given in {func}`~quimb.tensor.tensor_dmrg.get_default_opts`, and it may be\n",
    "necessary to tweak these to achieve the best performance/accuracy, especially for\n",
    "PBC (see {ref}`examples`).\n",
    "\n",
    ":::{note}\n",
    "Performance Tips\n",
    "\n",
    "1. Make sure numpy is linked to a fast BLAS (e.g. MKL version that comes with conda).\n",
    "2. Install slepc4py, to use as the iterative eigensolver, it's faster than scipy.\n",
    "3. If the hamiltonian is real, compile and use a real version of SLEPC\n",
    "   (set the environment variable PETSC_ARCH before launch).\n",
    "4. Periodic systems are in some ways easier to solve if *longer*, since this\n",
    "   reduces correlations the 'long way round'.\n",
    ":::\n",
    "\n",
    "\n",
    "## Quick TEBD Intro\n",
    "\n",
    "Time Evolving Block Decimation ({class}`~quimb.tensor.tensor_tebd.TEBD`) requires not a\n",
    "MPO but a specficiation of the local, interacting term(s) of a Hamiltonian.\n",
    "This is encapsulated in the {class}`~quimb.tensor.tensor_tebd.LocalHam1D` object, which is\n",
    "initialized with the sum of two site terms `H2` and one-site terms (if any), `H1`.\n",
    "\n",
    "{class}`~quimb.tensor.tensor_tebd.LocalHam1D` objects can also be built directly\n",
    "from a {class}`~quimb.tensor.tensor_builder.SpinHam1D` instance\n",
    "using the {meth}`~quimb.tensor.tensor_builder.SpinHam1D.build_local_ham` method.\n",
    "There are also the following built-in LocalHam1D Hamiltonians:\n",
    "\n",
    "- {class}`~quimb.tensor.tensor_builder.ham1d_heis`\n",
    "- {class}`~quimb.tensor.tensor_builder.ham1d_ising`\n",
    "- {class}`~quimb.tensor.tensor_builder.ham1d_XY`\n",
    "\n",
    "Here we build a {class}`~quimb.tensor.tensor_tebd.LocalHam1D` using a\n",
    "`SpinHam1D`:"
   ]
  },
  {
   "cell_type": "code",
   "execution_count": 21,
   "id": "bac273c7-a5fa-4d2c-861c-833f38ccf722",
   "metadata": {
    "tags": []
   },
   "outputs": [
    {
     "data": {
      "text/plain": [
       "array([[ 0.175,  0.   ,  0.   ,  0.   ],\n",
       "       [ 0.   , -0.275,  0.5  ,  0.   ],\n",
       "       [ 0.   ,  0.5  , -0.225,  0.   ],\n",
       "       [ 0.   ,  0.   ,  0.   ,  0.325]])"
      ]
     },
     "execution_count": 21,
     "metadata": {},
     "output_type": "execute_result"
    }
   ],
   "source": [
    "builder = qtn.SpinHam1D(S=1 / 2)\n",
    "builder.add_term(1.0, 'Z', 'Z')\n",
    "builder.add_term(0.9, 'Y', 'Y')\n",
    "builder.add_term(0.8, 'X', 'X')\n",
    "builder.add_term(0.6, 'Z')\n",
    "\n",
    "H = qtn.ham_1d_heis(20, bz=0.1)\n",
    "\n",
    "# check the two site term\n",
    "H.terms[0, 1]"
   ]
  },
  {
   "cell_type": "markdown",
   "id": "6698cb4d-980e-4ba5-be79-ea0b0795e045",
   "metadata": {
    "raw_mimetype": "text/restructuredtext"
   },
   "source": [
    "Then we set up an initial state and the {class}`~quimb.tensor.tensor_tebd.TEBD` object itself -\n",
    "which mimics the general api of {class}`quimb.Evolution`:"
   ]
  },
  {
   "cell_type": "code",
   "execution_count": 22,
   "id": "1ad5422a-785c-4a68-beab-268a55a71ad8",
   "metadata": {
    "tags": []
   },
   "outputs": [],
   "source": [
    "psi0 = qtn.MPS_neel_state(20)\n",
    "tebd = qtn.TEBD(psi0, H)"
   ]
  },
  {
   "cell_type": "markdown",
   "id": "de74d837-f9b9-4195-9b2c-8fe9c1b0cfca",
   "metadata": {},
   "source": [
    "Now we are ready to evolve. By setting a ``tol``, the required timestep ``dt`` is computed for us:"
   ]
  },
  {
   "cell_type": "code",
   "execution_count": 23,
   "id": "0bb74593-6568-463f-8ecf-8660e6b1b788",
   "metadata": {
    "tags": []
   },
   "outputs": [
    {
     "name": "stderr",
     "output_type": "stream",
     "text": [
      "t=3, max-bond=34: 100%|##########| 100/100 [00:01<00:00, 70.82%/s]    \n"
     ]
    }
   ],
   "source": [
    "tebd.update_to(T=3, tol=1e-3)"
   ]
  },
  {
   "cell_type": "markdown",
   "id": "53150b8e-4edd-4ea5-a5d4-a15e16c9ed42",
   "metadata": {},
   "source": [
    "After the evolution we can see that entanglement has been generated throughout the chain:"
   ]
  },
  {
   "cell_type": "code",
   "execution_count": 24,
   "id": "de23771b-7f54-40c7-b5e7-0674a9e168cb",
   "metadata": {
    "tags": []
   },
   "outputs": [
    {
     "name": "stdout",
     "output_type": "stream",
     "text": [
      " 2 4 8 16 29 34 33 34 33 34 33 34 33 34 29 16 8 4 2 \n",
      ">─>─>─>──>──>──>──>──>──>──>──>──>──>──>──>──>─>─>─●\n",
      "│ │ │ │  │  │  │  │  │  │  │  │  │  │  │  │  │ │ │ │\n"
     ]
    }
   ],
   "source": [
    "tebd.pt.show()"
   ]
  },
  {
   "cell_type": "markdown",
   "id": "a3c17c88-81d0-49c1-aef7-d0e2914606b3",
   "metadata": {},
   "source": [
    "We can estimate the fidelity (and so error) by tracking the norm of the MPS,\n",
    "making use of the canonical form:"
   ]
  },
  {
   "cell_type": "code",
   "execution_count": 25,
   "id": "77d705e0-f2f0-4235-9f38-69b15bdc6513",
   "metadata": {},
   "outputs": [
    {
     "data": {
      "text/plain": [
       "np.float64(4.891306415455432e-08)"
      ]
     },
     "execution_count": 25,
     "metadata": {},
     "output_type": "execute_result"
    }
   ],
   "source": [
    "nrm = tebd._pt[-1].norm()\n",
    "err = 1 - nrm**2\n",
    "err"
   ]
  },
  {
   "cell_type": "markdown",
   "id": "0688c7d1-1de5-414f-bb91-92f107faf689",
   "metadata": {
    "raw_mimetype": "text/restructuredtext"
   },
   "source": [
    "Which approximates $1 - |\\langle \\psi(t) | \\psi_\\mathrm{truncated}(t) \\rangle|^2$. Note this only approximates error coming from the truncations, not the trotterization.\n",
    "\n",
    "A more complete demonstration can be found in the {ref}`examples`."
   ]
  },
  {
   "cell_type": "markdown",
   "id": "e2917b46-d815-44dd-aaf5-bb39702dac53",
   "metadata": {
    "raw_mimetype": "text/restructuredtext"
   },
   "source": [
    "(gating)=\n",
    "\n",
    "## Gates: compute local quantities and simulate circuits\n",
    "\n",
    "On top of the builtin methods mentioned earlier\n",
    "({meth}`~quimb.tensor.tensor_1d.MatrixProductState.entropy`,\n",
    "{meth}`~quimb.tensor.tensor_1d.MatrixProductState.schmidt_gap`,\n",
    "{meth}`~quimb.tensor.tensor_1d.MatrixProductState.magnetization`,\n",
    "{meth}`~quimb.tensor.tensor_1d.TensorNetwork1DVector.correlation`,\n",
    "{meth}`~quimb.tensor.tensor_1d.MatrixProductState.logneg_subsys`, etc.),\n",
    "many other quantities are encapsulated by the\n",
    "{meth}`~quimb.tensor.tensor_1d.TensorNetwork1DVector.gate` method,\n",
    "which works on any 1D tensor network vector (MPS, MERA, etc.).\n",
    "This 'applies' a given operator to 1 or more sites, whilst maintaining\n",
    "the 'physical', outer indices.\n",
    "This not only directly allows quantum circuit style computation simulation\n",
    "but also makes local quantities (i.e. non-MPO) easy to compute:"
   ]
  },
  {
   "cell_type": "code",
   "execution_count": 26,
   "id": "ed4b95ca-d75d-486a-8ab3-afb3306b7411",
   "metadata": {
    "tags": []
   },
   "outputs": [
    {
     "data": {
      "text/plain": [
       "[np.complex128(1+0j),\n",
       " np.complex128(-1+0j),\n",
       " np.complex128(1+0j),\n",
       " np.complex128(-1+0j),\n",
       " np.complex128(1+0j),\n",
       " np.complex128(-1+0j),\n",
       " np.complex128(1+0j),\n",
       " np.complex128(-1+0j),\n",
       " np.complex128(1+0j),\n",
       " np.complex128(-1+0j)]"
      ]
     },
     "execution_count": 26,
     "metadata": {},
     "output_type": "execute_result"
    }
   ],
   "source": [
    "import quimb as qu\n",
    "Z = qu.pauli('Z')\n",
    "\n",
    "# compute <psi0|Z_i|psi0> for neel state above\n",
    "[\n",
    "    psi0.gate(Z, i).H @ psi0\n",
    "    for i in range(10)\n",
    "]"
   ]
  },
  {
   "cell_type": "markdown",
   "id": "48443f9e-7a2a-4f01-8aa0-871b0189eab1",
   "metadata": {
    "raw_mimetype": "text/restructuredtext"
   },
   "source": [
    "There are four ways in which a gate can be applied:\n",
    "\n",
    "- Lazily (`contract=False`) - the gate is added to the tensor network\n",
    "  but nothing is contracted. This is the default.\n",
    "- Lazily with split (`contract='split-gate'`) - the gate is split before\n",
    "  it is added to the network.\n",
    "- Eagerly (`contract=True`) - the gate is contracted into the tensor\n",
    "  network. If the gate acts on more than one site this will produce\n",
    "  larger tensors.\n",
    "- Swap and Split (`contract='swap+split'`) - sites will be swapped\n",
    "  until adjacent, the gate will be applied and the resulting\n",
    "  tensor split, then the sites swapped back into their original positions.\n",
    "  This explicitly maintains the exact structure of an MPS (at the cost of\n",
    "  increasing bond dimension), unlike the other two methods.\n",
    "\n",
    "Here's a quantum computation style demonstration of the lazy method:"
   ]
  },
  {
   "cell_type": "code",
   "execution_count": 27,
   "id": "d33e9dbc-a47b-4d98-b823-c3f7143cdb8a",
   "metadata": {
    "tags": []
   },
   "outputs": [],
   "source": [
    "import quimb as qu\n",
    "\n",
    "# some operators to apply\n",
    "H = qu.hadamard()\n",
    "CNOT = qu.controlled('not')\n",
    "\n",
    "# setup an intitial register of qubits\n",
    "n = 10\n",
    "psi0 = qtn.MPS_computational_state('0' * n, tags='PSI0')\n",
    "\n",
    "# apply hadamard to each site\n",
    "for i in range(n):\n",
    "    psi0.gate_(H, i, tags='H')\n",
    "\n",
    "# apply CNOT to even pairs\n",
    "for i in range(0, n, 2):\n",
    "    psi0.gate_(CNOT, (i, i + 1), tags='CNOT')\n",
    "\n",
    "# apply CNOT to odd pairs\n",
    "for i in range(1, n - 1, 2):\n",
    "    psi0.gate_(CNOT, (i, i + 1), tags='CNOT')"
   ]
  },
  {
   "cell_type": "markdown",
   "id": "b084dc1e-008d-437f-a59e-7bddf5bfddba",
   "metadata": {},
   "source": [
    "Note we have used the inplace ``gate_`` (with a trailing\n",
    "underscore) which modifies the original ``psi0`` object.\n",
    "However ``psi0`` has its physical site indices mantained\n",
    "such that it overall looks like the same object:"
   ]
  },
  {
   "cell_type": "code",
   "execution_count": 28,
   "id": "97ef9be3-853f-49b5-a5dd-6437b80199df",
   "metadata": {
    "tags": []
   },
   "outputs": [
    {
     "data": {
      "text/plain": [
       "['k0', 'k1', 'k2', 'k3', 'k4', 'k5', 'k6', 'k7', 'k8', 'k9']"
      ]
     },
     "execution_count": 28,
     "metadata": {},
     "output_type": "execute_result"
    }
   ],
   "source": [
    "sorted(psi0.outer_inds())"
   ]
  },
  {
   "cell_type": "code",
   "execution_count": 29,
   "id": "323e9f2c-9ba2-4fc9-b6ae-3593c8b6cffa",
   "metadata": {
    "tags": []
   },
   "outputs": [
    {
     "data": {
      "text/plain": [
       "np.complex128(0.9999999999999981+0j)"
      ]
     },
     "execution_count": 29,
     "metadata": {},
     "output_type": "execute_result"
    }
   ],
   "source": [
    "(psi0.H & psi0) ^ all"
   ]
  },
  {
   "cell_type": "markdown",
   "id": "7a97ed53-76e2-4dbe-b767-49250c1f3a1f",
   "metadata": {},
   "source": [
    "But the network now contains the gates as additional tensors:"
   ]
  },
  {
   "cell_type": "code",
   "execution_count": 30,
   "id": "ea3d0822-c281-4a59-95ec-a5358d06b6b4",
   "metadata": {
    "tags": []
   },
   "outputs": [
    {
     "data": {
      "image/svg+xml": [
       "<?xml version=\"1.0\" encoding=\"UTF-8\"?><!DOCTYPE svg  PUBLIC '-//W3C//DTD SVG 1.1//EN'  'http://www.w3.org/Graphics/SVG/1.1/DTD/svg11.dtd'><svg width=\"421.23pt\" height=\"149.23pt\" version=\"1.1\" viewBox=\"0 0 421.23 149.23\" xmlns=\"http://www.w3.org/2000/svg\" xmlns:xlink=\"http://www.w3.org/1999/xlink\"><defs><style type=\"text/css\">*{stroke-linejoin: round; stroke-linecap: butt}</style></defs><path d=\"m0 149.23h421.23v-149.23h-421.23v149.23z\" opacity=\"0\"/><path d=\"m321.03 134.92-31.973-1.7226\" clip-path=\"url(#7e40e30ee06)\" fill=\"none\"/><path d=\"m289.06 133.2-32.702-5.7437\" clip-path=\"url(#7e40e30ee06)\" fill=\"none\"/><path d=\"m256.36 127.46-31.622-2.0872\" clip-path=\"url(#7e40e30ee06)\" fill=\"none\"/><path d=\"m224.74 125.37-33.182-1.7203\" clip-path=\"url(#7e40e30ee06)\" fill=\"none\"/><path d=\"m191.56 123.65-31.635 0.14072\" clip-path=\"url(#7e40e30ee06)\" fill=\"none\"/><path d=\"m159.92 123.79-33.176 1.9741\" clip-path=\"url(#7e40e30ee06)\" fill=\"none\"/><path d=\"m126.75 125.76-31.623 2.3276\" clip-path=\"url(#7e40e30ee06)\" fill=\"none\"/><path d=\"m95.122 128.09-32.694 5.9216\" clip-path=\"url(#7e40e30ee06)\" fill=\"none\"/><path d=\"m62.428 134.01-32.001 1.8117\" clip-path=\"url(#7e40e30ee06)\" fill=\"none\"/><path d=\"m325.12 112.1 4.0967-3.3087 1.4785 5.0542\" clip-path=\"url(#7e40e30ee06)\" fill=\"none\" stroke=\"#737880\" stroke-linecap=\"round\" stroke-opacity=\".5\"/><path d=\"m321.03 134.92 10.909-34.845\" clip-path=\"url(#7e40e30ee06)\" fill=\"none\" stroke=\"#737880\" stroke-linecap=\"round\" stroke-opacity=\".5\"/><path d=\"m297.58 114.03 4.312-2.0218 0.20786 4.7579\" clip-path=\"url(#7e40e30ee06)\" fill=\"none\" stroke=\"#737880\" stroke-linecap=\"round\" stroke-opacity=\".5\"/><path d=\"m289.06 133.2 17.1-28.249\" clip-path=\"url(#7e40e30ee06)\" fill=\"none\" stroke=\"#737880\" stroke-linecap=\"round\" stroke-opacity=\".5\"/><path d=\"m253.75 105.07 2.8823-4.2281 2.7943 4.2868\" clip-path=\"url(#7e40e30ee06)\" fill=\"none\" stroke=\"#737880\" stroke-linecap=\"round\" stroke-opacity=\".5\"/><path d=\"m256.36 127.46 0.36662-35.479\" clip-path=\"url(#7e40e30ee06)\" fill=\"none\" stroke=\"#737880\" stroke-linecap=\"round\" stroke-opacity=\".5\"/><path d=\"m228 103.78 3.7712-3.2184 1.5204 4.719\" clip-path=\"url(#7e40e30ee06)\" fill=\"none\" stroke=\"#737880\" stroke-linecap=\"round\" stroke-opacity=\".5\"/><path d=\"m224.74 125.37 9.3783-33.073\" clip-path=\"url(#7e40e30ee06)\" fill=\"none\" stroke=\"#737880\" stroke-linecap=\"round\" stroke-opacity=\".5\"/><path d=\"m185.62 102.14 2.1815-4.5732 3.3824 3.7726\" clip-path=\"url(#7e40e30ee06)\" fill=\"none\" stroke=\"#737880\" stroke-linecap=\"round\" stroke-opacity=\".5\"/><path d=\"m191.56 123.65-5.0037-34.774\" clip-path=\"url(#7e40e30ee06)\" fill=\"none\" stroke=\"#737880\" stroke-linecap=\"round\" stroke-opacity=\".5\"/><path d=\"m160.12 101.48 3.3533-3.7984 2.2165 4.5563\" clip-path=\"url(#7e40e30ee06)\" fill=\"none\" stroke=\"#737880\" stroke-linecap=\"round\" stroke-opacity=\".5\"/><path d=\"m159.92 123.79 4.7366-34.811\" clip-path=\"url(#7e40e30ee06)\" fill=\"none\" stroke=\"#737880\" stroke-linecap=\"round\" stroke-opacity=\".5\"/><path d=\"m118.05 105.74 1.4879-4.7292 3.7932 3.1924\" clip-path=\"url(#7e40e30ee06)\" fill=\"none\" stroke=\"#737880\" stroke-linecap=\"round\" stroke-opacity=\".5\"/><path d=\"m126.75 125.76-9.6052-33.007\" clip-path=\"url(#7e40e30ee06)\" fill=\"none\" stroke=\"#737880\" stroke-linecap=\"round\" stroke-opacity=\".5\"/><path d=\"m91.918 105.79 2.7678-4.3028 2.9073 4.2098\" clip-path=\"url(#7e40e30ee06)\" fill=\"none\" stroke=\"#737880\" stroke-linecap=\"round\" stroke-opacity=\".5\"/><path d=\"m95.122 128.09-0.58157-35.469\" clip-path=\"url(#7e40e30ee06)\" fill=\"none\" stroke=\"#737880\" stroke-linecap=\"round\" stroke-opacity=\".5\"/><path d=\"m49.302 117.67 0.17963-4.7575 4.3225 1.9956\" clip-path=\"url(#7e40e30ee06)\" fill=\"none\" stroke=\"#737880\" stroke-linecap=\"round\" stroke-opacity=\".5\"/><path d=\"m62.428 134.01-17.262-28.138\" clip-path=\"url(#7e40e30ee06)\" fill=\"none\" stroke=\"#737880\" stroke-linecap=\"round\" stroke-opacity=\".5\"/><path d=\"m20.648 114.8 1.4496-5.062 4.1151 3.285\" clip-path=\"url(#7e40e30ee06)\" fill=\"none\" stroke=\"#737880\" stroke-linecap=\"round\" stroke-opacity=\".5\"/><path d=\"m30.427 135.82-11.106-34.779\" clip-path=\"url(#7e40e30ee06)\" fill=\"none\" stroke=\"#737880\" stroke-linecap=\"round\" stroke-opacity=\".5\"/><path d=\"m315.75 84.803-0.50644-5.0301 4.8379 1.4672\" clip-path=\"url(#7e40e30ee06)\" fill=\"none\" stroke=\"#737880\" stroke-linecap=\"round\" stroke-opacity=\".5\"/><path d=\"m331.94 100.08-22.268-27.072\" clip-path=\"url(#7e40e30ee06)\" fill=\"none\" stroke=\"#737880\" stroke-linecap=\"round\" stroke-opacity=\".5\"/><path d=\"m305.82 84.543 2.9773-3.5524 2.1341 4.1146\" clip-path=\"url(#7e40e30ee06)\" fill=\"none\" stroke=\"#737880\" stroke-linecap=\"round\" stroke-opacity=\".5\"/><path d=\"m306.16 104.95 3.5133-31.946\" clip-path=\"url(#7e40e30ee06)\" fill=\"none\" stroke=\"#737880\" stroke-linecap=\"round\" stroke-opacity=\".5\"/><path d=\"m309.68 73.004 29.974-15.68\" clip-path=\"url(#7e40e30ee06)\" fill=\"none\" stroke=\"#737880\" stroke-linecap=\"round\" stroke-opacity=\".5\"/><path d=\"m246.21 73.773 0.90441-4.6876 3.9792 2.6378\" clip-path=\"url(#7e40e30ee06)\" fill=\"none\" stroke=\"#737880\" stroke-linecap=\"round\" stroke-opacity=\".5\"/><path d=\"m256.73 91.977-12.811-30.522\" clip-path=\"url(#7e40e30ee06)\" fill=\"none\" stroke=\"#737880\" stroke-linecap=\"round\" stroke-opacity=\".5\"/><path d=\"m237.82 72.082 3.6431-2.9171 1.2915 4.4848\" clip-path=\"url(#7e40e30ee06)\" fill=\"none\" stroke=\"#737880\" stroke-linecap=\"round\" stroke-opacity=\".5\"/><path d=\"m234.12 92.296 9.7984-30.841\" clip-path=\"url(#7e40e30ee06)\" fill=\"none\" stroke=\"#737880\" stroke-linecap=\"round\" stroke-opacity=\".5\"/><path d=\"m177.12 70.401 1.1304-4.5725 3.786 2.8021\" clip-path=\"url(#7e40e30ee06)\" fill=\"none\" stroke=\"#737880\" stroke-linecap=\"round\" stroke-opacity=\".5\"/><path d=\"m186.55 88.874-11.065-30.728\" clip-path=\"url(#7e40e30ee06)\" fill=\"none\" stroke=\"#737880\" stroke-linecap=\"round\" stroke-opacity=\".5\"/><path d=\"m169.01 68.687 3.7661-2.8334 1.1669 4.5662\" clip-path=\"url(#7e40e30ee06)\" fill=\"none\" stroke=\"#737880\" stroke-linecap=\"round\" stroke-opacity=\".5\"/><path d=\"m164.66 88.978 10.83-30.831\" clip-path=\"url(#7e40e30ee06)\" fill=\"none\" stroke=\"#737880\" stroke-linecap=\"round\" stroke-opacity=\".5\"/><path d=\"m108.37 74.165 1.261-4.4947 3.6639 2.8927\" clip-path=\"url(#7e40e30ee06)\" fill=\"none\" stroke=\"#737880\" stroke-linecap=\"round\" stroke-opacity=\".5\"/><path d=\"m117.14 92.756-10.012-30.781\" clip-path=\"url(#7e40e30ee06)\" fill=\"none\" stroke=\"#737880\" stroke-linecap=\"round\" stroke-opacity=\".5\"/><path d=\"m100.02 72.307 3.9621-2.6706 0.94124 4.6845\" clip-path=\"url(#7e40e30ee06)\" fill=\"none\" stroke=\"#737880\" stroke-linecap=\"round\" stroke-opacity=\".5\"/><path d=\"m94.541 92.621 12.587-30.646\" clip-path=\"url(#7e40e30ee06)\" fill=\"none\" stroke=\"#737880\" stroke-linecap=\"round\" stroke-opacity=\".5\"/><path d=\"m40.28 86.048 2.111-4.1288 2.9992 3.5366\" clip-path=\"url(#7e40e30ee06)\" fill=\"none\" stroke=\"#737880\" stroke-linecap=\"round\" stroke-opacity=\".5\"/><path d=\"m45.166 105.87-3.7011-31.939\" clip-path=\"url(#7e40e30ee06)\" fill=\"none\" stroke=\"#737880\" stroke-linecap=\"round\" stroke-opacity=\".5\"/><path d=\"m31.103 82.194 4.8262-1.4816-0.48861 5.0248\" clip-path=\"url(#7e40e30ee06)\" fill=\"none\" stroke=\"#737880\" stroke-linecap=\"round\" stroke-opacity=\".5\"/><path d=\"m19.321 101.04 22.145-27.11\" clip-path=\"url(#7e40e30ee06)\" fill=\"none\" stroke=\"#737880\" stroke-linecap=\"round\" stroke-opacity=\".5\"/><path d=\"m41.465 73.935-30.051-15.594\" clip-path=\"url(#7e40e30ee06)\" fill=\"none\" stroke=\"#737880\" stroke-linecap=\"round\" stroke-opacity=\".5\"/><path d=\"m288.68 61.675-1.9177-5.068 5.4157 0.17904\" clip-path=\"url(#7e40e30ee06)\" fill=\"none\" stroke=\"#737880\" stroke-linecap=\"round\" stroke-opacity=\".5\"/><path d=\"m309.68 73.004-30.556-21.863\" clip-path=\"url(#7e40e30ee06)\" fill=\"none\" stroke=\"#737880\" stroke-linecap=\"round\" stroke-opacity=\".5\"/><path d=\"m265.27 52.141 5.0496 1.5788-3.3995 4.0539\" clip-path=\"url(#7e40e30ee06)\" fill=\"none\" stroke=\"#737880\" stroke-linecap=\"round\" stroke-opacity=\".5\"/><path d=\"m243.91 61.455 35.205-10.313\" clip-path=\"url(#7e40e30ee06)\" fill=\"none\" stroke=\"#737880\" stroke-linecap=\"round\" stroke-opacity=\".5\"/><path d=\"m279.12 51.142 5.0606-34.462\" clip-path=\"url(#7e40e30ee06)\" fill=\"none\" stroke=\"#737880\" stroke-linecap=\"round\" stroke-opacity=\".5\"/><path d=\"m279.12 51.142 22.005-23.608\" clip-path=\"url(#7e40e30ee06)\" fill=\"none\" stroke=\"#737880\" stroke-linecap=\"round\" stroke-opacity=\".5\"/><path d=\"m221.35 53.673-2.714-4.6923 5.3752-0.70053\" clip-path=\"url(#7e40e30ee06)\" fill=\"none\" stroke=\"#737880\" stroke-linecap=\"round\" stroke-opacity=\".5\"/><path d=\"m243.91 61.455-33.705-16.632\" clip-path=\"url(#7e40e30ee06)\" fill=\"none\" stroke=\"#737880\" stroke-linecap=\"round\" stroke-opacity=\".5\"/><path d=\"m196.3 46.974 5.2325 1.1789-3.1007 4.3766\" clip-path=\"url(#7e40e30ee06)\" fill=\"none\" stroke=\"#737880\" stroke-linecap=\"round\" stroke-opacity=\".5\"/><path d=\"m175.49 58.146 34.722-13.324\" clip-path=\"url(#7e40e30ee06)\" fill=\"none\" stroke=\"#737880\" stroke-linecap=\"round\" stroke-opacity=\".5\"/><path d=\"m210.21 44.822 11.835-30.227\" clip-path=\"url(#7e40e30ee06)\" fill=\"none\" stroke=\"#737880\" stroke-linecap=\"round\" stroke-opacity=\".5\"/><path d=\"m210.21 44.822-4.3607-34.216\" clip-path=\"url(#7e40e30ee06)\" fill=\"none\" stroke=\"#737880\" stroke-linecap=\"round\" stroke-opacity=\".5\"/><path d=\"m152.48 52.697-3.1362-4.3573 5.2284-1.2191\" clip-path=\"url(#7e40e30ee06)\" fill=\"none\" stroke=\"#737880\" stroke-linecap=\"round\" stroke-opacity=\".5\"/><path d=\"m175.49 58.146-34.853-13.076\" clip-path=\"url(#7e40e30ee06)\" fill=\"none\" stroke=\"#737880\" stroke-linecap=\"round\" stroke-opacity=\".5\"/><path d=\"m126.89 48.645 5.3733 0.65204-2.6685 4.7092\" clip-path=\"url(#7e40e30ee06)\" fill=\"none\" stroke=\"#737880\" stroke-linecap=\"round\" stroke-opacity=\".5\"/><path d=\"m107.13 61.975 33.508-16.905\" clip-path=\"url(#7e40e30ee06)\" fill=\"none\" stroke=\"#737880\" stroke-linecap=\"round\" stroke-opacity=\".5\"/><path d=\"m140.64 45.071 4.4134-33.824\" clip-path=\"url(#7e40e30ee06)\" fill=\"none\" stroke=\"#737880\" stroke-linecap=\"round\" stroke-opacity=\".5\"/><path d=\"m140.64 45.071-11.968-30.601\" clip-path=\"url(#7e40e30ee06)\" fill=\"none\" stroke=\"#737880\" stroke-linecap=\"round\" stroke-opacity=\".5\"/><path d=\"m84.12 58.436-3.4213-4.0302 5.0361-1.608\" clip-path=\"url(#7e40e30ee06)\" fill=\"none\" stroke=\"#737880\" stroke-linecap=\"round\" stroke-opacity=\".5\"/><path d=\"m107.13 61.975-35.239-10.093\" clip-path=\"url(#7e40e30ee06)\" fill=\"none\" stroke=\"#737880\" stroke-linecap=\"round\" stroke-opacity=\".5\"/><path d=\"m58.868 57.608 5.415-0.21241-1.8866 5.0801\" clip-path=\"url(#7e40e30ee06)\" fill=\"none\" stroke=\"#737880\" stroke-linecap=\"round\" stroke-opacity=\".5\"/><path d=\"m41.465 73.935 30.423-22.052\" clip-path=\"url(#7e40e30ee06)\" fill=\"none\" stroke=\"#737880\" stroke-linecap=\"round\" stroke-opacity=\".5\"/><path d=\"m71.889 51.883-5.3658-34.444\" clip-path=\"url(#7e40e30ee06)\" fill=\"none\" stroke=\"#737880\" stroke-linecap=\"round\" stroke-opacity=\".5\"/><path d=\"m71.889 51.883-22.181-23.383\" clip-path=\"url(#7e40e30ee06)\" fill=\"none\" stroke=\"#737880\" stroke-linecap=\"round\" stroke-opacity=\".5\"/><path d=\"m339.65 57.325z\" clip-path=\"url(#7e40e30ee06)\" fill=\"#ffffff\"/><path d=\"m11.414 58.341z\" clip-path=\"url(#7e40e30ee06)\" fill=\"#ffffff\"/><path d=\"m284.18 16.679z\" clip-path=\"url(#7e40e30ee06)\" fill=\"#ffffff\"/><path d=\"m301.12 27.533z\" clip-path=\"url(#7e40e30ee06)\" fill=\"#ffffff\"/><path d=\"m222.05 14.596z\" clip-path=\"url(#7e40e30ee06)\" fill=\"#ffffff\"/><path d=\"m205.85 10.606z\" clip-path=\"url(#7e40e30ee06)\" fill=\"#ffffff\"/><path d=\"m145.05 11.247z\" clip-path=\"url(#7e40e30ee06)\" fill=\"#ffffff\"/><path d=\"m128.67 14.47z\" clip-path=\"url(#7e40e30ee06)\" fill=\"#ffffff\"/><path d=\"m66.523 17.439z\" clip-path=\"url(#7e40e30ee06)\" fill=\"#ffffff\"/><path d=\"m49.708 28.5z\" clip-path=\"url(#7e40e30ee06)\" fill=\"#ffffff\"/><path d=\"m321.03 139.38c1.1815 0 2.3147-0.46941 3.1502-1.3048 0.83543-0.83543 1.3048-1.9687 1.3048-3.1502 0-1.1815-0.46941-2.3147-1.3048-3.1502-0.83543-0.83543-1.9687-1.3048-3.1502-1.3048-1.1815 0-2.3147 0.46941-3.1502 1.3048-0.83543 0.83543-1.3048 1.9687-1.3048 3.1502 0 1.1815 0.46941 2.3147 1.3048 3.1502 0.83543 0.83543 1.9687 1.3048 3.1502 1.3048z\" clip-path=\"url(#7e40e30ee06)\" fill=\"#56b4e9\" stroke=\"#4da2d2\" stroke-width=\".98855\"/><path d=\"m289.06 137.65c1.1815 0 2.3147-0.46941 3.1502-1.3048 0.83543-0.83543 1.3048-1.9687 1.3048-3.1502s-0.46941-2.3147-1.3048-3.1502c-0.83543-0.83543-1.9687-1.3048-3.1502-1.3048s-2.3147 0.46941-3.1502 1.3048c-0.83543 0.83543-1.3048 1.9687-1.3048 3.1502s0.46941 2.3147 1.3048 3.1502c0.83543 0.83543 1.9687 1.3048 3.1502 1.3048z\" clip-path=\"url(#7e40e30ee06)\" fill=\"#56b4e9\" stroke=\"#4da2d2\" stroke-width=\".98855\"/><path d=\"m256.36 131.91c1.1815 0 2.3147-0.46941 3.1502-1.3048 0.83543-0.83543 1.3048-1.9687 1.3048-3.1502s-0.46941-2.3147-1.3048-3.1502c-0.83543-0.83543-1.9687-1.3048-3.1502-1.3048s-2.3147 0.46941-3.1502 1.3048c-0.83543 0.83543-1.3048 1.9687-1.3048 3.1502s0.46941 2.3147 1.3048 3.1502c0.83543 0.83543 1.9687 1.3048 3.1502 1.3048z\" clip-path=\"url(#7e40e30ee06)\" fill=\"#56b4e9\" stroke=\"#4da2d2\" stroke-width=\".98855\"/><path d=\"m224.74 129.82c1.1815 0 2.3147-0.46941 3.1502-1.3048 0.83543-0.83543 1.3048-1.9687 1.3048-3.1502s-0.46941-2.3147-1.3048-3.1502c-0.83543-0.83543-1.9687-1.3048-3.1502-1.3048s-2.3147 0.46941-3.1502 1.3048c-0.83543 0.83543-1.3048 1.9687-1.3048 3.1502s0.46941 2.3147 1.3048 3.1502c0.83543 0.83543 1.9687 1.3048 3.1502 1.3048z\" clip-path=\"url(#7e40e30ee06)\" fill=\"#56b4e9\" stroke=\"#4da2d2\" stroke-width=\".98855\"/><path d=\"m191.56 128.1c1.1815 0 2.3147-0.46941 3.1502-1.3048 0.83543-0.83543 1.3048-1.9687 1.3048-3.1502 0-1.1815-0.4694-2.3147-1.3048-3.1502-0.83543-0.83543-1.9687-1.3048-3.1502-1.3048s-2.3147 0.4694-3.1502 1.3048c-0.83543 0.83543-1.3048 1.9687-1.3048 3.1502 0 1.1815 0.46941 2.3147 1.3048 3.1502 0.83543 0.83543 1.9687 1.3048 3.1502 1.3048z\" clip-path=\"url(#7e40e30ee06)\" fill=\"#56b4e9\" stroke=\"#4da2d2\" stroke-width=\".98855\"/><path d=\"m159.92 128.24c1.1815 0 2.3147-0.4694 3.1502-1.3048 0.83543-0.83543 1.3048-1.9687 1.3048-3.1502 0-1.1815-0.46941-2.3147-1.3048-3.1502-0.83543-0.83543-1.9687-1.3048-3.1502-1.3048-1.1815 0-2.3147 0.46941-3.1502 1.3048-0.83543 0.83543-1.3048 1.9687-1.3048 3.1502 0 1.1815 0.4694 2.3147 1.3048 3.1502 0.83543 0.83543 1.9687 1.3048 3.1502 1.3048z\" clip-path=\"url(#7e40e30ee06)\" fill=\"#56b4e9\" stroke=\"#4da2d2\" stroke-width=\".98855\"/><path d=\"m126.75 130.22c1.1815 0 2.3147-0.46941 3.1502-1.3048 0.83543-0.83543 1.3048-1.9687 1.3048-3.1502s-0.46941-2.3147-1.3048-3.1502c-0.83543-0.83543-1.9687-1.3048-3.1502-1.3048s-2.3147 0.46941-3.1502 1.3048c-0.83543 0.83543-1.3048 1.9687-1.3048 3.1502s0.46941 2.3147 1.3048 3.1502c0.83543 0.83543 1.9687 1.3048 3.1502 1.3048z\" clip-path=\"url(#7e40e30ee06)\" fill=\"#56b4e9\" stroke=\"#4da2d2\" stroke-width=\".98855\"/><path d=\"m95.122 132.55c1.1815 0 2.3147-0.4694 3.1502-1.3048 0.83543-0.83543 1.3048-1.9687 1.3048-3.1502s-0.46941-2.3147-1.3048-3.1502c-0.83543-0.83543-1.9687-1.3048-3.1502-1.3048-1.1815 0-2.3147 0.46941-3.1502 1.3048-0.83543 0.83543-1.3048 1.9687-1.3048 3.1502s0.46941 2.3147 1.3048 3.1502c0.83543 0.83543 1.9687 1.3048 3.1502 1.3048z\" clip-path=\"url(#7e40e30ee06)\" fill=\"#56b4e9\" stroke=\"#4da2d2\" stroke-width=\".98855\"/><path d=\"m62.428 138.47c1.1815 0 2.3147-0.46941 3.1502-1.3048 0.83543-0.83543 1.3048-1.9687 1.3048-3.1502s-0.46941-2.3147-1.3048-3.1502c-0.83543-0.83543-1.9687-1.3048-3.1502-1.3048s-2.3147 0.46941-3.1502 1.3048c-0.83543 0.83543-1.3048 1.9687-1.3048 3.1502s0.46941 2.3147 1.3048 3.1502c0.83543 0.83543 1.9687 1.3048 3.1502 1.3048z\" clip-path=\"url(#7e40e30ee06)\" fill=\"#56b4e9\" stroke=\"#4da2d2\" stroke-width=\".98855\"/><path d=\"m30.427 140.28c1.1815 0 2.3147-0.4694 3.1502-1.3048 0.83543-0.83543 1.3048-1.9687 1.3048-3.1502s-0.46941-2.3147-1.3048-3.1502c-0.83543-0.83543-1.9687-1.3048-3.1502-1.3048s-2.3147 0.46941-3.1502 1.3048c-0.83543 0.83543-1.3048 1.9687-1.3048 3.1502s0.46941 2.3147 1.3048 3.1502c0.83543 0.83543 1.9687 1.3048 3.1502 1.3048z\" clip-path=\"url(#7e40e30ee06)\" fill=\"#56b4e9\" stroke=\"#4da2d2\" stroke-width=\".98855\"/><path d=\"m331.94 104.53c1.1815 0 2.3147-0.46941 3.1502-1.3048 0.83543-0.83543 1.3048-1.9687 1.3048-3.1502s-0.46941-2.3147-1.3048-3.1502c-0.83543-0.83543-1.9687-1.3048-3.1502-1.3048-1.1815 0-2.3147 0.46941-3.1502 1.3048-0.83543 0.83543-1.3048 1.9687-1.3048 3.1502s0.4694 2.3147 1.3048 3.1502c0.83543 0.83543 1.9687 1.3048 3.1502 1.3048z\" clip-path=\"url(#7e40e30ee06)\" fill=\"#e69f00\" stroke=\"#cf8f00\" stroke-width=\".98855\"/><path d=\"m306.16 109.41c1.1815 0 2.3147-0.46941 3.1502-1.3048 0.83543-0.83543 1.3048-1.9687 1.3048-3.1502s-0.46941-2.3147-1.3048-3.1502c-0.83543-0.83543-1.9687-1.3048-3.1502-1.3048s-2.3147 0.46941-3.1502 1.3048c-0.83543 0.83543-1.3048 1.9687-1.3048 3.1502s0.46941 2.3147 1.3048 3.1502c0.83543 0.83543 1.9687 1.3048 3.1502 1.3048z\" clip-path=\"url(#7e40e30ee06)\" fill=\"#e69f00\" stroke=\"#cf8f00\" stroke-width=\".98855\"/><path d=\"m256.73 96.432c1.1815 0 2.3147-0.46941 3.1502-1.3048 0.83543-0.83543 1.3048-1.9687 1.3048-3.1502s-0.46941-2.3147-1.3048-3.1502c-0.83543-0.83543-1.9687-1.3048-3.1502-1.3048-1.1815 0-2.3147 0.46941-3.1502 1.3048-0.83543 0.83543-1.3048 1.9687-1.3048 3.1502s0.46941 2.3147 1.3048 3.1502c0.83543 0.83543 1.9687 1.3048 3.1502 1.3048z\" clip-path=\"url(#7e40e30ee06)\" fill=\"#e69f00\" stroke=\"#cf8f00\" stroke-width=\".98855\"/><path d=\"m234.12 96.751c1.1815 0 2.3147-0.46941 3.1502-1.3048 0.83543-0.83543 1.3048-1.9687 1.3048-3.1502s-0.46941-2.3147-1.3048-3.1502c-0.83543-0.83543-1.9687-1.3048-3.1502-1.3048-1.1815 0-2.3147 0.46941-3.1502 1.3048-0.83543 0.83543-1.3048 1.9687-1.3048 3.1502s0.46941 2.3147 1.3048 3.1502c0.83543 0.83543 1.9687 1.3048 3.1502 1.3048z\" clip-path=\"url(#7e40e30ee06)\" fill=\"#e69f00\" stroke=\"#cf8f00\" stroke-width=\".98855\"/><path d=\"m186.55 93.329c1.1815 0 2.3147-0.4694 3.1502-1.3048 0.83543-0.83543 1.3048-1.9687 1.3048-3.1502 0-1.1815-0.46941-2.3147-1.3048-3.1502-0.83543-0.83543-1.9687-1.3048-3.1502-1.3048-1.1815 0-2.3147 0.46941-3.1502 1.3048-0.83543 0.83543-1.3048 1.9687-1.3048 3.1502 0 1.1815 0.46941 2.3147 1.3048 3.1502 0.83543 0.83543 1.9687 1.3048 3.1502 1.3048z\" clip-path=\"url(#7e40e30ee06)\" fill=\"#e69f00\" stroke=\"#cf8f00\" stroke-width=\".98855\"/><path d=\"m164.66 93.433c1.1815 0 2.3147-0.46941 3.1502-1.3048 0.83543-0.83543 1.3048-1.9687 1.3048-3.1502s-0.46941-2.3147-1.3048-3.1502c-0.83543-0.83543-1.9687-1.3048-3.1502-1.3048s-2.3147 0.46941-3.1502 1.3048c-0.83543 0.83543-1.3048 1.9687-1.3048 3.1502s0.46941 2.3147 1.3048 3.1502c0.83543 0.83543 1.9687 1.3048 3.1502 1.3048z\" clip-path=\"url(#7e40e30ee06)\" fill=\"#e69f00\" stroke=\"#cf8f00\" stroke-width=\".98855\"/><path d=\"m117.14 97.211c1.1815 0 2.3147-0.46941 3.1502-1.3048 0.83543-0.83543 1.3048-1.9687 1.3048-3.1502 0-1.1815-0.46941-2.3147-1.3048-3.1502-0.83543-0.83543-1.9687-1.3048-3.1502-1.3048s-2.3147 0.46941-3.1502 1.3048c-0.83543 0.83543-1.3048 1.9687-1.3048 3.1502 0 1.1815 0.46941 2.3147 1.3048 3.1502 0.83543 0.83543 1.9687 1.3048 3.1502 1.3048z\" clip-path=\"url(#7e40e30ee06)\" fill=\"#e69f00\" stroke=\"#cf8f00\" stroke-width=\".98855\"/><path d=\"m94.541 97.076c1.1815 0 2.3147-0.46941 3.1502-1.3048 0.83543-0.83543 1.3048-1.9687 1.3048-3.1502s-0.46941-2.3147-1.3048-3.1502c-0.83543-0.83543-1.9687-1.3048-3.1502-1.3048s-2.3147 0.46941-3.1502 1.3048c-0.83543 0.83543-1.3048 1.9687-1.3048 3.1502s0.46941 2.3147 1.3048 3.1502c0.83543 0.83543 1.9687 1.3048 3.1502 1.3048z\" clip-path=\"url(#7e40e30ee06)\" fill=\"#e69f00\" stroke=\"#cf8f00\" stroke-width=\".98855\"/><path d=\"m45.166 110.33c1.1815 0 2.3147-0.46941 3.1502-1.3048 0.83543-0.83543 1.3048-1.9687 1.3048-3.1502 0-1.1815-0.46941-2.3147-1.3048-3.1502-0.83543-0.83543-1.9687-1.3048-3.1502-1.3048-1.1815 0-2.3147 0.4694-3.1502 1.3048-0.83543 0.83543-1.3048 1.9687-1.3048 3.1502 0 1.1815 0.46941 2.3147 1.3048 3.1502 0.83543 0.83543 1.9687 1.3048 3.1502 1.3048z\" clip-path=\"url(#7e40e30ee06)\" fill=\"#e69f00\" stroke=\"#cf8f00\" stroke-width=\".98855\"/><path d=\"m19.321 105.5c1.1815 0 2.3147-0.46941 3.1502-1.3048 0.83543-0.83543 1.3048-1.9687 1.3048-3.1502s-0.46941-2.3147-1.3048-3.1502c-0.83543-0.83543-1.9687-1.3048-3.1502-1.3048s-2.3147 0.46941-3.1502 1.3048c-0.83543 0.83543-1.3048 1.9687-1.3048 3.1502s0.46941 2.3147 1.3048 3.1502c0.83543 0.83543 1.9687 1.3048 3.1502 1.3048z\" clip-path=\"url(#7e40e30ee06)\" fill=\"#e69f00\" stroke=\"#cf8f00\" stroke-width=\".98855\"/><path d=\"m309.68 77.459c1.1815 0 2.3147-0.46941 3.1502-1.3048 0.83543-0.83543 1.3048-1.9687 1.3048-3.1502s-0.46941-2.3147-1.3048-3.1502c-0.83543-0.83543-1.9687-1.3048-3.1502-1.3048-1.1815 0-2.3147 0.46941-3.1502 1.3048-0.83543 0.83543-1.3048 1.9687-1.3048 3.1502s0.46941 2.3147 1.3048 3.1502c0.83543 0.83543 1.9687 1.3048 3.1502 1.3048z\" clip-path=\"url(#7e40e30ee06)\" fill=\"#009e73\" stroke=\"#008e68\" stroke-width=\".98855\"/><path d=\"m243.91 65.91c1.1815 0 2.3147-0.46941 3.1502-1.3048 0.83543-0.83543 1.3048-1.9687 1.3048-3.1502s-0.46941-2.3147-1.3048-3.1502c-0.83543-0.83543-1.9687-1.3048-3.1502-1.3048-1.1815 0-2.3147 0.46941-3.1502 1.3048-0.83543 0.83543-1.3048 1.9687-1.3048 3.1502s0.46941 2.3147 1.3048 3.1502c0.83543 0.83543 1.9687 1.3048 3.1502 1.3048z\" clip-path=\"url(#7e40e30ee06)\" fill=\"#009e73\" stroke=\"#008e68\" stroke-width=\".98855\"/><path d=\"m175.49 62.601c1.1815 0 2.3147-0.46941 3.1502-1.3048 0.83543-0.83543 1.3048-1.9687 1.3048-3.1502 0-1.1815-0.46941-2.3147-1.3048-3.1502-0.83543-0.83543-1.9687-1.3048-3.1502-1.3048s-2.3147 0.4694-3.1502 1.3048c-0.83543 0.83543-1.3048 1.9687-1.3048 3.1502 0 1.1815 0.46941 2.3147 1.3048 3.1502 0.83543 0.83543 1.9687 1.3048 3.1502 1.3048z\" clip-path=\"url(#7e40e30ee06)\" fill=\"#009e73\" stroke=\"#008e68\" stroke-width=\".98855\"/><path d=\"m107.13 66.43c1.1815 0 2.3147-0.4694 3.1502-1.3048 0.83543-0.83543 1.3048-1.9687 1.3048-3.1502 0-1.1815-0.46941-2.3147-1.3048-3.1502-0.83543-0.83543-1.9687-1.3048-3.1502-1.3048s-2.3147 0.46941-3.1502 1.3048c-0.83543 0.83543-1.3048 1.9687-1.3048 3.1502 0 1.1815 0.46941 2.3147 1.3048 3.1502 0.83543 0.83543 1.9687 1.3048 3.1502 1.3048z\" clip-path=\"url(#7e40e30ee06)\" fill=\"#009e73\" stroke=\"#008e68\" stroke-width=\".98855\"/><path d=\"m41.465 78.39c1.1815 0 2.3147-0.4694 3.1502-1.3048 0.83543-0.83543 1.3048-1.9687 1.3048-3.1502s-0.46941-2.3147-1.3048-3.1502c-0.83543-0.83543-1.9687-1.3048-3.1502-1.3048s-2.3147 0.46941-3.1502 1.3048c-0.83543 0.83543-1.3048 1.9687-1.3048 3.1502s0.46941 2.3147 1.3048 3.1502c0.83543 0.83543 1.9687 1.3048 3.1502 1.3048z\" clip-path=\"url(#7e40e30ee06)\" fill=\"#009e73\" stroke=\"#008e68\" stroke-width=\".98855\"/><path d=\"m279.12 55.597c1.1815 0 2.3147-0.46941 3.1502-1.3048 0.83543-0.83543 1.3048-1.9687 1.3048-3.1502s-0.4694-2.3147-1.3048-3.1502-1.9687-1.3048-3.1502-1.3048-2.3147 0.4694-3.1502 1.3048c-0.83543 0.83543-1.3048 1.9687-1.3048 3.1502s0.46941 2.3147 1.3048 3.1502c0.83543 0.83543 1.9687 1.3048 3.1502 1.3048z\" clip-path=\"url(#7e40e30ee06)\" fill=\"#009e73\" stroke=\"#008e68\" stroke-width=\".98855\"/><path d=\"m210.21 49.277c1.1815 0 2.3147-0.46941 3.1502-1.3048 0.83543-0.83543 1.3048-1.9687 1.3048-3.1502 0-1.1815-0.46941-2.3147-1.3048-3.1502-0.83543-0.83543-1.9687-1.3048-3.1502-1.3048s-2.3147 0.46941-3.1502 1.3048c-0.83543 0.83543-1.3048 1.9687-1.3048 3.1502 0 1.1815 0.46941 2.3147 1.3048 3.1502 0.83543 0.83543 1.9687 1.3048 3.1502 1.3048z\" clip-path=\"url(#7e40e30ee06)\" fill=\"#009e73\" stroke=\"#008e68\" stroke-width=\".98855\"/><path d=\"m140.64 49.526c1.1815 0 2.3147-0.46941 3.1502-1.3048 0.83543-0.83543 1.3048-1.9687 1.3048-3.1502s-0.46941-2.3147-1.3048-3.1502c-0.83543-0.83543-1.9687-1.3048-3.1502-1.3048-1.1815 0-2.3147 0.46941-3.1502 1.3048-0.83543 0.83543-1.3048 1.9687-1.3048 3.1502s0.46941 2.3147 1.3048 3.1502c0.83543 0.83543 1.9687 1.3048 3.1502 1.3048z\" clip-path=\"url(#7e40e30ee06)\" fill=\"#009e73\" stroke=\"#008e68\" stroke-width=\".98855\"/><path d=\"m71.889 56.338c1.1815 0 2.3147-0.46941 3.1502-1.3048 0.83543-0.83543 1.3048-1.9687 1.3048-3.1502s-0.46941-2.3147-1.3048-3.1502c-0.83543-0.83543-1.9687-1.3048-3.1502-1.3048s-2.3147 0.4694-3.1502 1.3048c-0.83543 0.83543-1.3048 1.9687-1.3048 3.1502s0.46941 2.3147 1.3048 3.1502c0.83543 0.83543 1.9687 1.3048 3.1502 1.3048z\" clip-path=\"url(#7e40e30ee06)\" fill=\"#009e73\" stroke=\"#008e68\" stroke-width=\".98855\"/><g transform=\"translate(335.44 59.275) scale(.07 -.07)\" fill=\"#545759\"><defs><path id=\"DejaVuSansMono-6b\" transform=\"scale(.015625)\" d=\"m738 4863h593v-2816l1510 1453h700l-1378-1319 1593-2181h-703l-1294 1806-428-403v-1403h-593v4863z\"/><path id=\"DejaVuSansMono-30\" transform=\"scale(.015625)\" d=\"m1509 2344q0 172 120 297 121 125 290 125 175 0 300-125t125-297q0-175-124-297-123-122-301-122-175 0-293 119-117 119-117 300zm416 1906q-441 0-658-475t-217-1447q0-969 217-1444t658-475q444 0 661 475t217 1444q0 972-217 1447t-661 475zm0 500q747 0 1130-613 383-612 383-1809 0-1194-383-1807-383-612-1130-612t-1128 612q-381 613-381 1807 0 1197 381 1809 381 613 1128 613z\"/></defs><use xlink:href=\"#DejaVuSansMono-6b\"/><use x=\"60.205078\" xlink:href=\"#DejaVuSansMono-30\"/></g><g transform=\"translate(7.2 60.291) scale(.07 -.07)\" fill=\"#545759\"><defs><path id=\"DejaVuSansMono-39\" transform=\"scale(.015625)\" d=\"m1863 2069q403 0 632 290 230 291 230 804 0 512-230 802-229 291-632 291-419 0-632-277-212-276-212-816 0-544 211-819t633-275zm-1125-1972v581q196-115 418-176t463-61q600 0 907 451 308 452 308 1330-146-313-412-480t-609-167q-675 0-1046 415-370 416-370 1179 0 753 379 1167 380 414 1074 414 813 0 1191-585 378-584 378-1837 0-1178-455-1799-455-620-1320-620-228 0-460 49-231 48-446 139z\"/></defs><use xlink:href=\"#DejaVuSansMono-6b\"/><use x=\"60.205078\" xlink:href=\"#DejaVuSansMono-39\"/></g><g transform=\"translate(279.97 18.63) scale(.07 -.07)\" fill=\"#545759\"><defs><path id=\"DejaVuSansMono-31\" transform=\"scale(.015625)\" d=\"m844 531h981v3566l-1056-238v575l1050 232h631v-4135h969v-531h-2575v531z\"/></defs><use xlink:href=\"#DejaVuSansMono-6b\"/><use x=\"60.205078\" xlink:href=\"#DejaVuSansMono-31\"/></g><g transform=\"translate(296.91 29.484) scale(.07 -.07)\" fill=\"#545759\"><defs><path id=\"DejaVuSansMono-32\" transform=\"scale(.015625)\" d=\"m1166 531h2143v-531h-2834v531q584 616 1021 1088 438 472 604 665 313 382 422 618t109 482q0 391-230 613-229 222-629 222-284 0-597-103-312-103-662-313v638q321 153 632 231t614 78q685 0 1102-364t417-955q0-300-139-600t-451-662q-175-203-508-563-333-359-1014-1075z\"/></defs><use xlink:href=\"#DejaVuSansMono-6b\"/><use x=\"60.205078\" xlink:href=\"#DejaVuSansMono-32\"/></g><g transform=\"translate(217.83 16.546) scale(.07 -.07)\" fill=\"#545759\"><defs><path id=\"DejaVuSansMono-33\" transform=\"scale(.015625)\" d=\"m2425 2497q459-122 703-433t244-776q0-644-433-1012-433-367-1198-367-322 0-657 60-334 59-656 172v628q319-166 628-247 310-81 616-81 519 0 797 234t278 675q0 406-278 645t-753 239h-482v519h482q434 0 678 190 244 191 244 532 0 359-227 551-227 193-645 193-278 0-575-63-297-62-622-187v581q378 100 673 150 296 50 524 50 681 0 1089-342t408-908q0-384-215-641-214-256-623-362z\"/></defs><use xlink:href=\"#DejaVuSansMono-6b\"/><use x=\"60.205078\" xlink:href=\"#DejaVuSansMono-33\"/></g><g transform=\"translate(201.63 12.556) scale(.07 -.07)\" fill=\"#545759\"><defs><path id=\"DejaVuSansMono-34\" transform=\"scale(.015625)\" d=\"m2297 4091-1472-2466h1472v2466zm-103 575h731v-3041h622v-512h-622v-1113h-628v1113h-1978v596l1875 2957z\"/></defs><use xlink:href=\"#DejaVuSansMono-6b\"/><use x=\"60.205078\" xlink:href=\"#DejaVuSansMono-34\"/></g><g transform=\"translate(140.83 13.197) scale(.07 -.07)\" fill=\"#545759\"><defs><path id=\"DejaVuSansMono-35\" transform=\"scale(.015625)\" d=\"m647 4666h2362v-532h-1787v-1146q134 50 270 73t274 23q725 0 1150-428t425-1159q0-738-446-1163-445-425-1217-425-372 0-680 50-307 50-551 150v641q287-156 578-233 291-76 594-76 522 0 804 275 283 275 283 781 0 500-292 778t-814 278q-253 0-494-58-240-57-459-173v2344z\"/></defs><use xlink:href=\"#DejaVuSansMono-6b\"/><use x=\"60.205078\" xlink:href=\"#DejaVuSansMono-35\"/></g><g transform=\"translate(124.45 16.42) scale(.07 -.07)\" fill=\"#545759\"><defs><path id=\"DejaVuSansMono-36\" transform=\"scale(.015625)\" d=\"m3097 4563v-582q-197 116-419 177t-462 61q-600 0-910-452-309-451-309-1329 150 312 415 479 266 167 610 167 675 0 1045-414 371-414 371-1173 0-756-382-1172-381-416-1072-416-812 0-1190 583t-378 1836q0 1181 454 1801 455 621 1318 621 231 0 462-49 231-48 447-138zm-1125-1972q-403 0-635-291-231-291-231-803 0-513 231-804 232-290 635-290 419 0 631 276 213 277 213 818 0 544-213 819-212 275-631 275z\"/></defs><use xlink:href=\"#DejaVuSansMono-6b\"/><use x=\"60.205078\" xlink:href=\"#DejaVuSansMono-36\"/></g><g transform=\"translate(62.309 19.389) scale(.07 -.07)\" fill=\"#545759\"><defs><path id=\"DejaVuSansMono-37\" transform=\"scale(.015625)\" d=\"m434 4666h2938v-269l-1669-4397h-659l1625 4134h-2235v532z\"/></defs><use xlink:href=\"#DejaVuSansMono-6b\"/><use x=\"60.205078\" xlink:href=\"#DejaVuSansMono-37\"/></g><g transform=\"translate(45.493 30.45) scale(.07 -.07)\" fill=\"#545759\"><defs><path id=\"DejaVuSansMono-38\" transform=\"scale(.015625)\" d=\"m1925 2216q-422 0-652-236-229-236-229-667 0-432 232-671 233-239 649-239 425 0 654 236 230 236 230 674 0 428-233 665-232 238-651 238zm-550 262q-403 103-630 384-226 282-226 679 0 556 378 882 378 327 1028 327 653 0 1031-327 378-326 378-882 0-397-227-679-226-281-629-384 469-103 717-416 249-312 249-809 0-631-403-988-403-356-1116-356-712 0-1114 355t-402 983q0 500 248 814 249 314 718 417zm-228 1003q0-375 200-572 200-196 578-196 381 0 581 196 200 197 200 572 0 382-199 582-198 200-582 200-378 0-578-202t-200-580z\"/></defs><use xlink:href=\"#DejaVuSansMono-6b\"/><use x=\"60.205078\" xlink:href=\"#DejaVuSansMono-38\"/></g><path d=\"m349.93 99.262h62.102q2 0 2-2v-43.194q0-2-2-2h-62.102q-2 0-2 2v43.194q0 2 2 2z\" fill=\"none\" stroke=\"#999999\" stroke-opacity=\".2\"/><defs><path id=\"a99ecc406cb\" d=\"m0 5c1.326 0 2.5979-0.52683 3.5355-1.4645 0.93763-0.93764 1.4645-2.2095 1.4645-3.5355s-0.52683-2.5979-1.4645-3.5355c-0.93764-0.93763-2.2095-1.4645-3.5355-1.4645s-2.5979 0.52683-3.5355 1.4645c-0.93763 0.93764-1.4645 2.2095-1.4645 3.5355s0.52683 2.5979 1.4645 3.5355c0.93764 0.93763 2.2095 1.4645 3.5355 1.4645z\" stroke=\"#4da2d2\"/></defs><use x=\"361.931866\" y=\"60.219819\" fill=\"#56b4e9\" stroke=\"#4da2d2\" xlink:href=\"#a99ecc406cb\"/><g transform=\"translate(379.93 63.72) scale(.1 -.1)\" fill=\"#545759\"><defs><path id=\"DejaVuSansMono-50\" transform=\"scale(.015625)\" d=\"m1247 4147v-1753h731q438 0 683 231t245 647-244 645q-243 230-684 230h-731zm-631 519h1362q781 0 1184-355 404-355 404-1039 0-691-402-1044-401-353-1186-353h-731v-1875h-631v4666z\"/><path id=\"DejaVuSansMono-53\" transform=\"scale(.015625)\" d=\"m3163 4506v-640q-288 184-577 278t-583 94q-447 0-706-208t-259-561q0-310 170-473 170-162 636-271l331-75q656-153 956-481t300-894q0-666-413-1016-412-350-1199-350-328 0-660 71-331 70-665 211v672q359-229 679-335 321-106 646-106 478 0 743 214 266 214 266 598 0 350-183 534-182 185-636 285l-337 78q-650 147-944 444t-294 797q0 625 420 1001 421 377 1118 377 269 0 565-61 297-61 626-183z\"/><path id=\"DejaVuSansMono-49\" transform=\"scale(.015625)\" d=\"m628 4666h2591v-532h-978v-3603h978v-531h-2591v531h978v3603h-978v532z\"/></defs><use xlink:href=\"#DejaVuSansMono-20\"/><use x=\"60.205078\" xlink:href=\"#DejaVuSansMono-50\"/><use x=\"120.410156\" xlink:href=\"#DejaVuSansMono-53\"/><use x=\"180.615234\" xlink:href=\"#DejaVuSansMono-49\"/><use x=\"240.820312\" xlink:href=\"#DejaVuSansMono-30\"/></g><defs><path id=\"7d2a4e535ee\" d=\"m0 5c1.326 0 2.5979-0.52683 3.5355-1.4645 0.93763-0.93764 1.4645-2.2095 1.4645-3.5355s-0.52683-2.5979-1.4645-3.5355c-0.93764-0.93763-2.2095-1.4645-3.5355-1.4645s-2.5979 0.52683-3.5355 1.4645c-0.93763 0.93764-1.4645 2.2095-1.4645 3.5355s0.52683 2.5979 1.4645 3.5355c0.93764 0.93763 2.2095 1.4645 3.5355 1.4645z\" stroke=\"#cf8f00\"/></defs><use x=\"361.931866\" y=\"74.951069\" fill=\"#e69f00\" stroke=\"#cf8f00\" xlink:href=\"#7d2a4e535ee\"/><g transform=\"translate(379.93 78.451) scale(.1 -.1)\" fill=\"#545759\"><defs><path id=\"DejaVuSansMono-48\" transform=\"scale(.015625)\" d=\"m428 4666h635v-1913h1728v1913h634v-4666h-634v2222h-1728v-2222h-635v4666z\"/></defs><use xlink:href=\"#DejaVuSansMono-20\"/><use x=\"60.205078\" xlink:href=\"#DejaVuSansMono-48\"/></g><defs><path id=\"b20b88277b6\" d=\"m0 5c1.326 0 2.5979-0.52683 3.5355-1.4645 0.93763-0.93764 1.4645-2.2095 1.4645-3.5355s-0.52683-2.5979-1.4645-3.5355c-0.93764-0.93763-2.2095-1.4645-3.5355-1.4645s-2.5979 0.52683-3.5355 1.4645c-0.93763 0.93764-1.4645 2.2095-1.4645 3.5355s0.52683 2.5979 1.4645 3.5355c0.93764 0.93763 2.2095 1.4645 3.5355 1.4645z\" stroke=\"#008e68\"/></defs><use x=\"361.931866\" y=\"89.682319\" fill=\"#009e73\" stroke=\"#008e68\" xlink:href=\"#b20b88277b6\"/><g transform=\"translate(379.93 93.182) scale(.1 -.1)\" fill=\"#545759\"><defs><path id=\"DejaVuSansMono-43\" transform=\"scale(.015625)\" d=\"m3353 166q-240-128-494-192-253-65-537-65-897 0-1393 634-495 635-495 1785 0 1144 498 1783 499 639 1390 639 284 0 537-64 254-64 494-192v-647q-231 191-497 291-265 100-534 100-616 0-922-475t-306-1435q0-956 306-1431t922-475q275 0 539 100t492 291v-647z\"/><path id=\"DejaVuSansMono-4e\" transform=\"scale(.015625)\" d=\"m434 4666h800l1575-3841v3841h610v-4666h-800l-1575 3841v-3841h-610v4666z\"/><path id=\"DejaVuSansMono-4f\" transform=\"scale(.015625)\" d=\"m2828 2328q0 1028-211 1469t-692 441q-478 0-689-441t-211-1469q0-1025 211-1466 211-440 689-440 481 0 692 439t211 1467zm660 0q0-1219-386-1819t-1177-600-1175 597-384 1822q0 1222 386 1822t1173 600q791 0 1177-600t386-1822z\"/><path id=\"DejaVuSansMono-54\" transform=\"scale(.015625)\" d=\"m147 4666h3559v-532h-1459v-4134h-634v4134h-1466v532z\"/></defs><use xlink:href=\"#DejaVuSansMono-20\"/><use x=\"60.205078\" xlink:href=\"#DejaVuSansMono-43\"/><use x=\"120.410156\" xlink:href=\"#DejaVuSansMono-4e\"/><use x=\"180.615234\" xlink:href=\"#DejaVuSansMono-4f\"/><use x=\"240.820312\" xlink:href=\"#DejaVuSansMono-54\"/></g><defs><clipPath id=\"7e40e30ee06\"><rect x=\"8.1319\" y=\"9.3048\" width=\"334.8\" height=\"132.72\"/></clipPath></defs></svg>"
      ],
      "text/plain": [
       "<Figure size 600x600 with 1 Axes>"
      ]
     },
     "metadata": {
      "needs_background": "light"
     },
     "output_type": "display_data"
    }
   ],
   "source": [
    "psi0.draw(color=['PSI0', 'H', 'CNOT'], show_tags=False, layout='neato')"
   ]
  },
  {
   "cell_type": "markdown",
   "id": "85c93d01-5fe2-4144-a44a-7d36883b5221",
   "metadata": {},
   "source": [
    "With the swap and split method MPS form is always maintained, which\n",
    "allows a canonical form and thus optimal trimming of singular values:"
   ]
  },
  {
   "cell_type": "code",
   "execution_count": 31,
   "id": "a2eaee46-cd1a-401e-b783-8690b9a11100",
   "metadata": {
    "tags": []
   },
   "outputs": [
    {
     "data": {
      "text/html": [
       "<samp style='font-size: 12px;'><details><summary><b style=\"color: #d75692;\">MatrixProductState</b>(tensors=10, indices=19, L=10, max_bond=4)</summary><samp style='font-size: 12px;'><details><summary><b style=\"color: #e55471;\">Tensor</b>(shape=(<b style=\"color: #828fdd;\">2</b>, <b style=\"color: #828fdd;\">2</b>), inds=[<b style=\"color: #8facd0;\">_5f4cf2AADAL</b>, <b style=\"color: #b1dc61;\">k0</b>], tags={<b style=\"color: #d2b137;\">I0</b>}),</summary>backend=<b style=\"color: #7fdd73;\">numpy</b>, dtype=<b style=\"color: #443ce1;\">complex128</b>, data=array([[-0.69157229-0.14740341j, -0.57136173-0.41658825j],\n",
       "       [ 0.14740341-0.69157229j, -0.41658825+0.57136173j]])</details></samp><samp style='font-size: 12px;'><details><summary><b style=\"color: #e55471;\">Tensor</b>(shape=(<b style=\"color: #828fdd;\">2</b>, <b style=\"color: #828fdd;\">2</b>, <b style=\"color: #828fdd;\">2</b>), inds=[<b style=\"color: #8facd0;\">_5f4cf2AADAL</b>, <b style=\"color: #a747d0;\">_5f4cf2AADAM</b>, <b style=\"color: #8aa5db;\">k1</b>], tags={<b style=\"color: #d19b78;\">I1</b>}),</summary>backend=<b style=\"color: #7fdd73;\">numpy</b>, dtype=<b style=\"color: #443ce1;\">complex128</b>, data=array([[[-0.63146701-0.28199583j, -0.63146701-0.28199583j],\n",
       "        [ 0.28199583-0.63146701j, -0.28199583+0.63146701j]],\n",
       "\n",
       "       [[ 0.13459242+0.06010528j, -0.13459242-0.06010528j],\n",
       "        [-0.06010528+0.13459242j, -0.06010528+0.13459242j]]])</details></samp><samp style='font-size: 12px;'><details><summary><b style=\"color: #e55471;\">Tensor</b>(shape=(<b style=\"color: #828fdd;\">2</b>, <b style=\"color: #80d749;\">4</b>, <b style=\"color: #828fdd;\">2</b>), inds=[<b style=\"color: #a747d0;\">_5f4cf2AADAM</b>, <b style=\"color: #d56e3c;\">_5f4cf2AADAN</b>, <b style=\"color: #df546d;\">k2</b>], tags={<b style=\"color: #dd5dd7;\">I2</b>}),</summary>backend=<b style=\"color: #7fdd73;\">numpy</b>, dtype=<b style=\"color: #443ce1;\">complex128</b>, data=array([[[-0.69157229+0.00000000e+00j, -0.69157229-1.92200763e-16j],\n",
       "        [ 0.69157229-3.24057678e-32j, -0.69157229-3.44222998e-16j],\n",
       "        [-0.14740341-1.29623071e-31j, -0.14740341-6.38089810e-16j],\n",
       "        [-0.14740341-7.56134582e-32j,  0.14740341-7.51526232e-17j]],\n",
       "\n",
       "       [[ 0.14740341+3.02452747e-17j, -0.14740341-7.43374196e-17j],\n",
       "        [-0.14740341-3.97552691e-16j, -0.14740341+2.71597597e-16j],\n",
       "        [-0.69157229-1.89107190e-15j,  0.69157229+1.40112251e-15j],\n",
       "        [-0.69157229-1.16027005e-16j, -0.69157229+2.21900145e-16j]]])</details></samp><samp style='font-size: 12px;'><details><summary><b style=\"color: #e55471;\">Tensor</b>(shape=(<b style=\"color: #80d749;\">4</b>, <b style=\"color: #80d749;\">4</b>, <b style=\"color: #828fdd;\">2</b>), inds=[<b style=\"color: #d56e3c;\">_5f4cf2AADAN</b>, <b style=\"color: #c668d5;\">_5f4cf2AADAO</b>, <b style=\"color: #4c7be1;\">k3</b>], tags={<b style=\"color: #dd65d9;\">I3</b>}),</summary>backend=<b style=\"color: #7fdd73;\">numpy</b>, dtype=<b style=\"color: #443ce1;\">complex128</b>, data=array([[[-6.31467011e-01-2.81995831e-01j,\n",
       "         -6.31467011e-01-2.81995831e-01j],\n",
       "        [-4.43422420e-02+1.34187125e-02j,\n",
       "          4.43422420e-02-1.34187125e-02j],\n",
       "        [-6.16249504e-01-3.10423079e-01j,\n",
       "          6.16249504e-01+3.10423079e-01j],\n",
       "        [-2.30224128e-17+2.37605136e-17j,\n",
       "         -8.39388094e-17+1.39084791e-16j]],\n",
       "\n",
       "       [[ 1.18292190e-16-1.18292292e-16j,\n",
       "         -2.30706319e-16+5.88643844e-17j],\n",
       "        [-5.67616265e-01-3.92348970e-01j,\n",
       "         -5.67616265e-01-3.92348970e-01j],\n",
       "        [ 9.45370719e-03+4.53533206e-02j,\n",
       "          9.45370719e-03+4.53533206e-02j],\n",
       "        [ 2.25392330e-01+6.53812307e-01j,\n",
       "         -2.25392330e-01-6.53812307e-01j]],\n",
       "\n",
       "       [[ 1.34592422e-01+6.01052807e-02j,\n",
       "         -1.34592422e-01-6.01052807e-02j],\n",
       "        [ 9.45121385e-03-2.86009717e-03j,\n",
       "          9.45121385e-03-2.86009717e-03j],\n",
       "        [ 1.31348926e-01+6.61643337e-02j,\n",
       "          1.31348926e-01+6.61643337e-02j],\n",
       "        [ 2.39847456e-16-2.73585521e-16j,\n",
       "         -2.33327540e-16+5.19373496e-16j]],\n",
       "\n",
       "       [[-1.87848567e-17-1.33775720e-17j,\n",
       "          1.80532536e-17+1.01860403e-17j],\n",
       "        [-1.20983118e-01-8.36262186e-02j,\n",
       "          1.20983118e-01+8.36262186e-02j],\n",
       "        [ 2.01498626e-03+9.66671762e-03j,\n",
       "         -2.01498626e-03-9.66671762e-03j],\n",
       "        [ 4.80406723e-02+1.39355153e-01j,\n",
       "          4.80406723e-02+1.39355153e-01j]]])</details></samp><samp style='font-size: 12px;'><details><summary><b style=\"color: #e55471;\">Tensor</b>(shape=(<b style=\"color: #80d749;\">4</b>, <b style=\"color: #80d749;\">4</b>, <b style=\"color: #828fdd;\">2</b>), inds=[<b style=\"color: #c668d5;\">_5f4cf2AADAO</b>, <b style=\"color: #a8d671;\">_5f4cf2AADAP</b>, <b style=\"color: #462edc;\">k4</b>], tags={<b style=\"color: #998ad1;\">I4</b>}),</summary>backend=<b style=\"color: #7fdd73;\">numpy</b>, dtype=<b style=\"color: #443ce1;\">complex128</b>, data=array([[[-6.91572292e-01+2.33774154e-17j,\n",
       "         -6.91572292e-01-2.14415947e-16j],\n",
       "        [ 1.21580135e-16+3.07063397e-17j,\n",
       "         -1.86205197e-16-5.03093435e-17j],\n",
       "        [ 1.44673123e-01-2.82391996e-02j,\n",
       "          1.44673123e-01-2.82391996e-02j],\n",
       "        [-2.50524625e-16-8.86124285e-17j,\n",
       "          2.54477847e-16+7.69517183e-17j]],\n",
       "\n",
       "       [[-6.46535434e-03+7.46356432e-03j,\n",
       "          6.46535434e-03-7.46356432e-03j],\n",
       "        [ 6.89760290e-01+1.88860077e-02j,\n",
       "          6.89760290e-01+1.88860077e-02j],\n",
       "        [-2.30632026e-02+4.01794096e-02j,\n",
       "          2.30632026e-02-4.01794096e-02j],\n",
       "        [ 1.45873807e-01+1.87374461e-02j,\n",
       "          1.45873807e-01+1.87374461e-02j]],\n",
       "\n",
       "       [[ 6.85502397e-03+1.46912450e-01j,\n",
       "         -6.85502397e-03-1.46912450e-01j],\n",
       "        [-3.44263234e-02+3.10020085e-02j,\n",
       "         -3.44263234e-02+3.10020085e-02j],\n",
       "        [ 1.63614500e-01+6.70340387e-01j,\n",
       "         -1.63614500e-01-6.70340387e-01j],\n",
       "        [-7.96293521e-03+5.83928609e-03j,\n",
       "         -7.96293521e-03+5.83928609e-03j]],\n",
       "\n",
       "       [[-9.86764738e-18-1.60450901e-17j,\n",
       "          1.32312102e-17+1.46154604e-17j],\n",
       "        [ 8.40355753e-02+1.21102382e-01j,\n",
       "         -8.40355753e-02-1.21102382e-01j],\n",
       "        [-2.43479473e-17-7.39381597e-17j,\n",
       "          4.18529171e-17+9.52415259e-17j],\n",
       "        [-3.35349238e-01-6.04824870e-01j,\n",
       "          3.35349238e-01+6.04824870e-01j]]])</details></samp><samp style='font-size: 12px;'><details><summary><b style=\"color: #e55471;\">Tensor</b>(shape=(<b style=\"color: #80d749;\">4</b>, <b style=\"color: #80d749;\">4</b>, <b style=\"color: #828fdd;\">2</b>), inds=[<b style=\"color: #a8d671;\">_5f4cf2AADAP</b>, <b style=\"color: #e140e1;\">_5f4cf2AADAQ</b>, <b style=\"color: #85dfdf;\">k5</b>], tags={<b style=\"color: #97dddc;\">I5</b>}),</summary>backend=<b style=\"color: #7fdd73;\">numpy</b>, dtype=<b style=\"color: #443ce1;\">complex128</b>, data=array([[[-6.37043484e-01-2.69161353e-01j,\n",
       "         -6.37043484e-01-2.69161353e-01j],\n",
       "        [ 6.83902712e-01+1.02709861e-01j,\n",
       "         -6.83902712e-01-1.02709861e-01j],\n",
       "        [-1.26634814e-15+3.71237653e-16j,\n",
       "          1.31039650e-15-3.37047042e-16j],\n",
       "        [ 1.99483809e-17+8.95352913e-17j,\n",
       "          9.12636202e-18-9.19128784e-17j]],\n",
       "\n",
       "       [[ 1.08108324e-17+7.78973755e-18j,\n",
       "          2.39890221e-17+2.46729250e-17j],\n",
       "        [-7.29244663e-16+1.05679617e-15j,\n",
       "         -7.36384475e-16+1.09355767e-15j],\n",
       "        [-1.28966374e-01+6.79440880e-01j,\n",
       "         -1.28966374e-01+6.79440880e-01j],\n",
       "        [-6.78885723e-01-1.31857537e-01j,\n",
       "          6.78885723e-01+1.31857537e-01j]],\n",
       "\n",
       "       [[-1.22275242e-01-8.23196827e-02j,\n",
       "          1.22275242e-01+8.23196827e-02j],\n",
       "        [ 1.38874703e-01+4.94123636e-02j,\n",
       "          1.38874703e-01+4.94123636e-02j],\n",
       "        [-3.40615138e-16+2.43576392e-17j,\n",
       "         -1.81191878e-16-4.71773520e-17j],\n",
       "        [ 1.57670259e-17-1.40816102e-16j,\n",
       "          5.43958851e-17-1.13098033e-16j]],\n",
       "\n",
       "       [[-1.83380157e-17-3.59165792e-18j,\n",
       "          1.32480315e-17+7.94836478e-18j],\n",
       "        [ 1.02324291e-16-2.67717461e-16j,\n",
       "         -4.59595226e-17+2.29418624e-16j],\n",
       "        [ 1.28379565e-02-1.46843290e-01j,\n",
       "         -1.28379565e-02+1.46843290e-01j],\n",
       "        [ 1.46787309e-01+1.34629416e-02j,\n",
       "          1.46787309e-01+1.34629416e-02j]]])</details></samp><samp style='font-size: 12px;'><details><summary><b style=\"color: #e55471;\">Tensor</b>(shape=(<b style=\"color: #80d749;\">4</b>, <b style=\"color: #80d749;\">4</b>, <b style=\"color: #828fdd;\">2</b>), inds=[<b style=\"color: #e140e1;\">_5f4cf2AADAQ</b>, <b style=\"color: #d2a680;\">_5f4cf2AADAR</b>, <b style=\"color: #2cb7d3;\">k6</b>], tags={<b style=\"color: #b2de5f;\">I6</b>}),</summary>backend=<b style=\"color: #7fdd73;\">numpy</b>, dtype=<b style=\"color: #443ce1;\">complex128</b>, data=array([[[-6.25631994e-01-2.94714850e-01j,\n",
       "         -6.25631994e-01-2.94714850e-01j],\n",
       "        [-4.05481713e-18+2.44966954e-17j,\n",
       "          1.29809761e-17-1.42022029e-17j],\n",
       "        [-2.15332057e-02+1.45822104e-01j,\n",
       "         -2.15332057e-02+1.45822104e-01j],\n",
       "        [ 8.04911693e-16-1.67659106e-17j,\n",
       "         -2.35073872e-16+3.06637867e-16j]],\n",
       "\n",
       "       [[ 9.39336731e-02-1.13596787e-01j,\n",
       "         -9.39336731e-02+1.13596787e-01j],\n",
       "        [ 3.29582028e-16-1.18564047e-15j,\n",
       "          2.94168347e-16-1.14773437e-15j],\n",
       "        [ 6.37703635e-01+2.67593552e-01j,\n",
       "         -6.37703635e-01-2.67593552e-01j],\n",
       "        [ 3.07367486e-16+1.46546772e-16j,\n",
       "          3.34815572e-16-4.20113798e-18j]],\n",
       "\n",
       "       [[-1.67578126e-16+1.34053224e-16j,\n",
       "          2.91981056e-16-7.79568283e-17j],\n",
       "        [ 4.46871322e-01-5.27805132e-01j,\n",
       "          4.46871322e-01-5.27805132e-01j],\n",
       "        [-7.95810243e-16-9.12430551e-16j,\n",
       "          7.69749507e-16+9.22781282e-16j],\n",
       "        [ 1.33348733e-01+6.28162436e-02j,\n",
       "          1.33348733e-01+6.28162436e-02j]],\n",
       "\n",
       "       [[ 2.99618669e-16+1.40938991e-16j,\n",
       "         -2.97552502e-16-1.34366828e-16j],\n",
       "        [-9.47674882e-02+1.12902117e-01j,\n",
       "          9.47674882e-02-1.12902117e-01j],\n",
       "        [ 4.11696377e-17-6.47277436e-17j,\n",
       "          7.62672842e-17+2.72874078e-17j],\n",
       "        [ 6.26880905e-01+2.92048909e-01j,\n",
       "         -6.26880905e-01-2.92048909e-01j]]])</details></samp><samp style='font-size: 12px;'><details><summary><b style=\"color: #e55471;\">Tensor</b>(shape=(<b style=\"color: #80d749;\">4</b>, <b style=\"color: #828fdd;\">2</b>, <b style=\"color: #828fdd;\">2</b>), inds=[<b style=\"color: #d2a680;\">_5f4cf2AADAR</b>, <b style=\"color: #90ce2a;\">_5f4cf2AADAS</b>, <b style=\"color: #53e08f;\">k7</b>], tags={<b style=\"color: #5582d6;\">I7</b>}),</summary>backend=<b style=\"color: #7fdd73;\">numpy</b>, dtype=<b style=\"color: #443ce1;\">complex128</b>, data=array([[[-6.91572292e-01-1.05149020e-16j,\n",
       "         -6.91572292e-01+1.66996973e-16j],\n",
       "        [ 1.15557254e-15-1.08480257e-15j,\n",
       "          3.96170892e-16+1.10392349e-15j]],\n",
       "\n",
       "       [[ 3.39077831e-16+1.61110002e-15j,\n",
       "         -5.38364629e-16-1.53543397e-15j],\n",
       "        [ 1.79337702e-01+6.67914833e-01j,\n",
       "         -1.79337702e-01-6.67914833e-01j]],\n",
       "\n",
       "       [[-4.26623181e-02+1.41094619e-01j,\n",
       "          4.26623181e-02-1.41094619e-01j],\n",
       "        [ 8.48212361e-16-3.41949244e-15j,\n",
       "         -1.26027277e-15+3.49278967e-15j]],\n",
       "\n",
       "       [[-3.12672327e-17-1.80482807e-17j,\n",
       "         -4.14174925e-17+1.81688921e-17j],\n",
       "        [-1.47403409e-01+3.05827721e-16j,\n",
       "         -1.47403409e-01-4.14227662e-17j]]])</details></samp><samp style='font-size: 12px;'><details><summary><b style=\"color: #e55471;\">Tensor</b>(shape=(<b style=\"color: #828fdd;\">2</b>, <b style=\"color: #828fdd;\">2</b>, <b style=\"color: #828fdd;\">2</b>), inds=[<b style=\"color: #90ce2a;\">_5f4cf2AADAS</b>, <b style=\"color: #de8858;\">_5f4cf2AADAT</b>, <b style=\"color: #7bcd9f;\">k8</b>], tags={<b style=\"color: #8a3dd8;\">I8</b>}),</summary>backend=<b style=\"color: #7fdd73;\">numpy</b>, dtype=<b style=\"color: #443ce1;\">complex128</b>, data=array([[[-0.67637908+0.00000000e+00j, -0.67637908-1.36438116e-16j],\n",
       "        [-0.0307277 -3.73587769e-17j, -0.0307277 -3.46082528e-17j]],\n",
       "\n",
       "       [[-0.14416509+0.00000000e+00j,  0.14416509+2.90787437e-17j],\n",
       "        [ 0.14416509-6.51903894e-18j, -0.14416509+1.94679072e-17j]]])</details></samp><samp style='font-size: 12px;'><details><summary><b style=\"color: #e55471;\">Tensor</b>(shape=(<b style=\"color: #828fdd;\">2</b>, <b style=\"color: #828fdd;\">2</b>), inds=[<b style=\"color: #de8858;\">_5f4cf2AADAT</b>, <b style=\"color: #cc70c1;\">k9</b>], tags={<b style=\"color: #d74979;\">I9</b>}),</summary>backend=<b style=\"color: #7fdd73;\">numpy</b>, dtype=<b style=\"color: #443ce1;\">complex128</b>, data=array([[-0.70710678+0.00000000e+00j, -0.70710678+3.03974502e-17j],\n",
       "       [ 0.70710678-1.54308049e-33j, -0.70710678+3.03974502e-17j]])</details></samp></details></samp>"
      ],
      "text/plain": [
       "MatrixProductState(tensors=10, indices=19, L=10, max_bond=4)"
      ]
     },
     "execution_count": 31,
     "metadata": {},
     "output_type": "execute_result"
    }
   ],
   "source": [
    "n = 10\n",
    "psi0 = qtn.MPS_computational_state('0' * n)\n",
    "\n",
    "for i in range(n):\n",
    "    # 'swap+split' will be ignore to one-site gates\n",
    "    psi0.gate_(H, i, contract='swap+split')\n",
    "\n",
    "# use Z-phase to create entanglement\n",
    "Rz = qu.phase_gate(0.42)\n",
    "for i in range(n):\n",
    "    psi0.gate_(Rz, i, contract='swap+split')\n",
    "\n",
    "for i in range(0, n, 2):\n",
    "    psi0.gate_(CNOT, (i, i + 1), contract='swap+split')\n",
    "\n",
    "for i in range(1, n - 1, 2):\n",
    "    psi0.gate_(CNOT, (i, i + 1), contract='swap+split')\n",
    "\n",
    "# act with one long-range CNOT\n",
    "psi0.gate_(CNOT, (2, n - 2), contract='swap+split')"
   ]
  },
  {
   "cell_type": "markdown",
   "id": "c47ed534-b987-456d-922a-dc8e50fa1ef0",
   "metadata": {},
   "source": [
    "We now still have an MPS, but with increased bond dimension:"
   ]
  },
  {
   "cell_type": "code",
   "execution_count": 32,
   "id": "5822d28a-a12f-4c7a-9452-75d4b0777cbc",
   "metadata": {
    "tags": []
   },
   "outputs": [
    {
     "name": "stdout",
     "output_type": "stream",
     "text": [
      " 2 2 4 4 4 4 4 2 2 \n",
      ">─>─>─>─>─>─>─>─●─<\n",
      "│ │ │ │ │ │ │ │ │ │\n"
     ]
    }
   ],
   "source": [
    "psi0.show()"
   ]
  },
  {
   "cell_type": "markdown",
   "id": "b3e94387-9804-4c70-894f-4111a596dd2f",
   "metadata": {},
   "source": [
    "Finally, the eager (``contract=True``) method works fairly simply:"
   ]
  },
  {
   "cell_type": "code",
   "execution_count": 33,
   "id": "6fe1d16f-ed63-46c4-9e2a-be80e7cb722b",
   "metadata": {
    "tags": []
   },
   "outputs": [
    {
     "data": {
      "image/svg+xml": [
       "<?xml version=\"1.0\" encoding=\"UTF-8\"?><!DOCTYPE svg  PUBLIC '-//W3C//DTD SVG 1.1//EN'  'http://www.w3.org/Graphics/SVG/1.1/DTD/svg11.dtd'><svg width=\"409.19pt\" height=\"225.2pt\" version=\"1.1\" viewBox=\"0 0 409.19 225.2\" xmlns=\"http://www.w3.org/2000/svg\" xmlns:xlink=\"http://www.w3.org/1999/xlink\"><defs><style type=\"text/css\">*{stroke-linejoin: round; stroke-linecap: butt}</style></defs><path d=\"m0 225.2h409.19v-225.2h-409.19v225.2z\" opacity=\"0\"/><path d=\"m297.63 62.951-57.369 34.184\" clip-path=\"url(#ec3d0f91ae0)\" fill=\"none\" stroke=\"#737880\" stroke-linecap=\"round\" stroke-opacity=\".5\"/><path d=\"m315.15 57.199-7.0131-0.40589 3.072-6.3176\" clip-path=\"url(#ec3d0f91ae0)\" fill=\"none\" stroke=\"#737880\" stroke-linecap=\"round\" stroke-opacity=\".5\"/><path d=\"m297.63 62.951 42.022-24.632\" clip-path=\"url(#ec3d0f91ae0)\" fill=\"none\" stroke=\"#737880\" stroke-linecap=\"round\" stroke-opacity=\".5\"/><path d=\"m175.77 56.104 64.49 41.031\" clip-path=\"url(#ec3d0f91ae0)\" fill=\"none\" stroke=\"#737880\" stroke-linecap=\"round\" stroke-opacity=\".5\"/><path d=\"m175.77 56.104-69.308-5.589\" clip-path=\"url(#ec3d0f91ae0)\" fill=\"none\" stroke=\"#737880\" stroke-linecap=\"round\" stroke-opacity=\".5\" stroke-width=\"2\"/><path d=\"m175.77 56.104 1.0861-45.498\" clip-path=\"url(#ec3d0f91ae0)\" fill=\"none\" stroke=\"#737880\" stroke-linecap=\"round\" stroke-opacity=\".5\"/><path d=\"m106.46 50.515-49.447 37.094\" clip-path=\"url(#ec3d0f91ae0)\" fill=\"none\" stroke=\"#737880\" stroke-linecap=\"round\" stroke-opacity=\".5\" stroke-width=\"2\"/><path d=\"m106.46 50.515-24.442-39.892\" clip-path=\"url(#ec3d0f91ae0)\" fill=\"none\" stroke=\"#737880\" stroke-linecap=\"round\" stroke-opacity=\".5\"/><path d=\"m57.014 87.609 6.2273 57.176\" clip-path=\"url(#ec3d0f91ae0)\" fill=\"none\" stroke=\"#737880\" stroke-linecap=\"round\" stroke-opacity=\".5\" stroke-width=\"2\"/><path d=\"m57.014 87.609-45.6-13.538\" clip-path=\"url(#ec3d0f91ae0)\" fill=\"none\" stroke=\"#737880\" stroke-linecap=\"round\" stroke-opacity=\".5\"/><path d=\"m63.241 144.79 56.269 25.688\" clip-path=\"url(#ec3d0f91ae0)\" fill=\"none\" stroke=\"#737880\" stroke-linecap=\"round\" stroke-opacity=\".5\" stroke-width=\"2\"/><path d=\"m63.241 144.79-41.806 22.918\" clip-path=\"url(#ec3d0f91ae0)\" fill=\"none\" stroke=\"#737880\" stroke-linecap=\"round\" stroke-opacity=\".5\"/><path d=\"m119.51 170.47 66.643-20.129\" clip-path=\"url(#ec3d0f91ae0)\" fill=\"none\" stroke=\"#737880\" stroke-linecap=\"round\" stroke-opacity=\".5\" stroke-width=\"2\"/><path d=\"m119.51 170.47-15.664 44.125\" clip-path=\"url(#ec3d0f91ae0)\" fill=\"none\" stroke=\"#737880\" stroke-linecap=\"round\" stroke-opacity=\".5\"/><path d=\"m186.15 150.34 54.106-53.209\" clip-path=\"url(#ec3d0f91ae0)\" fill=\"none\" stroke=\"#737880\" stroke-linecap=\"round\" stroke-opacity=\".5\"/><path d=\"m186.15 150.34 10.699 43.638\" clip-path=\"url(#ec3d0f91ae0)\" fill=\"none\" stroke=\"#737880\" stroke-linecap=\"round\" stroke-opacity=\".5\"/><path d=\"m293.14 136.15-52.881-39.017\" clip-path=\"url(#ec3d0f91ae0)\" fill=\"none\" stroke=\"#737880\" stroke-linecap=\"round\" stroke-opacity=\".5\"/><path d=\"m306.16 149.04-2.8148-6.3865 6.9779-0.14192\" clip-path=\"url(#ec3d0f91ae0)\" fill=\"none\" stroke=\"#737880\" stroke-linecap=\"round\" stroke-opacity=\".5\"/><path d=\"m293.14 136.15 40.803 26.019\" clip-path=\"url(#ec3d0f91ae0)\" fill=\"none\" stroke=\"#737880\" stroke-linecap=\"round\" stroke-opacity=\".5\"/><path d=\"m240.26 97.135 35.97 7.0496\" clip-path=\"url(#ec3d0f91ae0)\" fill=\"none\" stroke=\"#737880\" stroke-linecap=\"round\" stroke-opacity=\".5\"/><path d=\"m240.26 97.135 12.021-39.438\" clip-path=\"url(#ec3d0f91ae0)\" fill=\"none\" stroke=\"#737880\" stroke-linecap=\"round\" stroke-opacity=\".5\"/><path d=\"m339.65 38.319z\" clip-path=\"url(#ec3d0f91ae0)\" fill=\"#ffffff\"/><path d=\"m176.86 10.606z\" clip-path=\"url(#ec3d0f91ae0)\" fill=\"#ffffff\"/><path d=\"m82.018 10.623z\" clip-path=\"url(#ec3d0f91ae0)\" fill=\"#ffffff\"/><path d=\"m11.414 74.071z\" clip-path=\"url(#ec3d0f91ae0)\" fill=\"#ffffff\"/><path d=\"m21.435 167.7z\" clip-path=\"url(#ec3d0f91ae0)\" fill=\"#ffffff\"/><path d=\"m103.85 214.6z\" clip-path=\"url(#ec3d0f91ae0)\" fill=\"#ffffff\"/><path d=\"m196.85 193.98z\" clip-path=\"url(#ec3d0f91ae0)\" fill=\"#ffffff\"/><path d=\"m333.94 162.17z\" clip-path=\"url(#ec3d0f91ae0)\" fill=\"#ffffff\"/><path d=\"m276.23 104.19z\" clip-path=\"url(#ec3d0f91ae0)\" fill=\"#ffffff\"/><path d=\"m252.28 57.698z\" clip-path=\"url(#ec3d0f91ae0)\" fill=\"#ffffff\"/><path d=\"m297.63 72.578c2.5531 0 5.002-1.0144 6.8073-2.8197 1.8053-1.8053 2.8197-4.2542 2.8197-6.8073 0-2.5531-1.0144-5.002-2.8197-6.8073-1.8053-1.8053-4.2542-2.8197-6.8073-2.8197s-5.002 1.0144-6.8073 2.8197c-1.8053 1.8053-2.8197 4.2542-2.8197 6.8073 0 2.5531 1.0144 5.002 2.8197 6.8073 1.8053 1.8053 4.2542 2.8197 6.8073 2.8197z\" clip-path=\"url(#ec3d0f91ae0)\" fill=\"#0072b2\" stroke=\"#0067a0\" stroke-width=\"1.421\"/><path d=\"m175.77 65.731c2.5531 0 5.002-1.0144 6.8073-2.8197 1.8053-1.8053 2.8197-4.2542 2.8197-6.8073 0-2.5531-1.0144-5.002-2.8197-6.8073-1.8053-1.8053-4.2542-2.8197-6.8073-2.8197-2.5531 0-5.002 1.0144-6.8073 2.8197-1.8053 1.8053-2.8197 4.2542-2.8197 6.8073 0 2.5531 1.0144 5.002 2.8197 6.8073 1.8053 1.8053 4.2542 2.8197 6.8073 2.8197z\" clip-path=\"url(#ec3d0f91ae0)\" fill=\"#6fb6c4\" stroke=\"#64a3b0\" stroke-width=\"1.421\"/><path d=\"m106.46 60.142c2.5531 0 5.002-1.0144 6.8073-2.8197 1.8053-1.8053 2.8197-4.2542 2.8197-6.8073 0-2.5531-1.0144-5.002-2.8197-6.8073-1.8053-1.8053-4.2542-2.8197-6.8073-2.8197-2.5531 0-5.002 1.0144-6.8073 2.8197-1.8053 1.8053-2.8197 4.2542-2.8197 6.8073 0 2.5531 1.0144 5.002 2.8197 6.8073 1.8053 1.8053 4.2542 2.8197 6.8073 2.8197z\" clip-path=\"url(#ec3d0f91ae0)\" fill=\"#069e75\" stroke=\"#068e69\" stroke-width=\"1.421\"/><path d=\"m57.014 97.236c2.5531 0 5.002-1.0144 6.8073-2.8197 1.8053-1.8053 2.8197-4.2542 2.8197-6.8073s-1.0144-5.002-2.8197-6.8073c-1.8053-1.8053-4.2542-2.8197-6.8073-2.8197s-5.002 1.0144-6.8073 2.8197c-1.8053 1.8053-2.8197 4.2542-2.8197 6.8073s1.0144 5.002 2.8197 6.8073c1.8053 1.8053 4.2542 2.8197 6.8073 2.8197z\" clip-path=\"url(#ec3d0f91ae0)\" fill=\"#a5cc64\" stroke=\"#94b85a\" stroke-width=\"1.421\"/><path d=\"m63.241 154.41c2.5531 0 5.002-1.0144 6.8073-2.8197 1.8053-1.8053 2.8197-4.2542 2.8197-6.8073 0-2.5531-1.0144-5.002-2.8197-6.8073-1.8053-1.8053-4.2542-2.8197-6.8073-2.8197-2.5531 0-5.002 1.0144-6.8073 2.8197-1.8053 1.8053-2.8197 4.2542-2.8197 6.8073 0 2.5531 1.0144 5.002 2.8197 6.8073 1.8053 1.8053 4.2542 2.8197 6.8073 2.8197z\" clip-path=\"url(#ec3d0f91ae0)\" fill=\"#edda7d\" stroke=\"#d5c471\" stroke-width=\"1.421\"/><path d=\"m119.51 180.1c2.5531 0 5.002-1.0144 6.8073-2.8197 1.8053-1.8053 2.8197-4.2542 2.8197-6.8073 0-2.5531-1.0144-5.002-2.8197-6.8073-1.8053-1.8053-4.2542-2.8197-6.8073-2.8197s-5.002 1.0144-6.8073 2.8197c-1.8053 1.8053-2.8197 4.2542-2.8197 6.8073 0 2.5531 1.0144 5.002 2.8197 6.8073 1.8053 1.8053 4.2542 2.8197 6.8073 2.8197z\" clip-path=\"url(#ec3d0f91ae0)\" fill=\"#e6a922\" stroke=\"#cf981e\" stroke-width=\"1.421\"/><path d=\"m186.15 159.97c2.5531 0 5.002-1.0144 6.8073-2.8197 1.8053-1.8053 2.8197-4.2542 2.8197-6.8073 0-2.5531-1.0144-5.002-2.8197-6.8073-1.8053-1.8053-4.2542-2.8197-6.8073-2.8197-2.5531 0-5.002 1.0144-6.8073 2.8197-1.8053 1.8053-2.8197 4.2542-2.8197 6.8073 0 2.5531 1.0144 5.002 2.8197 6.8073 1.8053 1.8053 4.2542 2.8197 6.8073 2.8197z\" clip-path=\"url(#ec3d0f91ae0)\" fill=\"#da7709\" stroke=\"#c56b08\" stroke-width=\"1.421\"/><path d=\"m293.14 145.78c2.5531 0 5.002-1.0144 6.8073-2.8197 1.8053-1.8053 2.8197-4.2542 2.8197-6.8073 0-2.5531-1.0144-5.002-2.8197-6.8073s-4.2542-2.8197-6.8073-2.8197c-2.5531 0-5.002 1.0144-6.8073 2.8197s-2.8197 4.2542-2.8197 6.8073c0 2.5531 1.0144 5.002 2.8197 6.8073 1.8053 1.8053 4.2542 2.8197 6.8073 2.8197z\" clip-path=\"url(#ec3d0f91ae0)\" fill=\"#cc90b1\" stroke=\"#b882a0\" stroke-width=\"1.421\"/><path d=\"m243.94 106.03c2.358-0.97671 4.2334-2.8521 5.2101-5.2101 0.97671-2.358 0.97671-5.0102 0-7.3682-0.97671-2.358-2.8521-4.2334-5.2101-5.2101s-5.0102-0.97671-7.3682 0l3.6841 8.8942z\" clip-path=\"url(#ec3d0f91ae0)\" fill=\"#64add6\" stroke=\"#5a9cc1\" stroke-width=\"1.421\"/><path d=\"m236.57 88.241c-1.168 0.48379-2.2293 1.1929-3.1232 2.0869-0.89393 0.89393-1.6031 1.9552-2.0869 3.1232-0.48379 1.168-0.73281 2.4199-0.73281 3.6841 0 1.2642 0.24902 2.5161 0.73281 3.6841 0.48379 1.168 1.1929 2.2293 2.0869 3.1232 0.89393 0.89393 1.9552 1.6031 3.1232 2.0869 1.168 0.48379 2.4199 0.73281 3.6841 0.73281s2.5161-0.24902 3.6841-0.73281l-3.6841-8.8942z\" clip-path=\"url(#ec3d0f91ae0)\" fill=\"#d29074\" stroke=\"#bd8268\" stroke-width=\"1.421\"/><g transform=\"translate(335.44 40.269) scale(.07 -.07)\" fill=\"#545759\"><defs><path id=\"DejaVuSansMono-6b\" transform=\"scale(.015625)\" d=\"m738 4863h593v-2816l1510 1453h700l-1378-1319 1593-2181h-703l-1294 1806-428-403v-1403h-593v4863z\"/><path id=\"DejaVuSansMono-30\" transform=\"scale(.015625)\" d=\"m1509 2344q0 172 120 297 121 125 290 125 175 0 300-125t125-297q0-175-124-297-123-122-301-122-175 0-293 119-117 119-117 300zm416 1906q-441 0-658-475t-217-1447q0-969 217-1444t658-475q444 0 661 475t217 1444q0 972-217 1447t-661 475zm0 500q747 0 1130-613 383-612 383-1809 0-1194-383-1807-383-612-1130-612t-1128 612q-381 613-381 1807 0 1197 381 1809 381 613 1128 613z\"/></defs><use xlink:href=\"#DejaVuSansMono-6b\"/><use x=\"60.205078\" xlink:href=\"#DejaVuSansMono-30\"/></g><g transform=\"translate(172.64 12.556) scale(.07 -.07)\" fill=\"#545759\"><defs><path id=\"DejaVuSansMono-32\" transform=\"scale(.015625)\" d=\"m1166 531h2143v-531h-2834v531q584 616 1021 1088 438 472 604 665 313 382 422 618t109 482q0 391-230 613-229 222-629 222-284 0-597-103-312-103-662-313v638q321 153 632 231t614 78q685 0 1102-364t417-955q0-300-139-600t-451-662q-175-203-508-563-333-359-1014-1075z\"/></defs><use xlink:href=\"#DejaVuSansMono-6b\"/><use x=\"60.205078\" xlink:href=\"#DejaVuSansMono-32\"/></g><g transform=\"translate(77.804 12.573) scale(.07 -.07)\" fill=\"#545759\"><defs><path id=\"DejaVuSansMono-33\" transform=\"scale(.015625)\" d=\"m2425 2497q459-122 703-433t244-776q0-644-433-1012-433-367-1198-367-322 0-657 60-334 59-656 172v628q319-166 628-247 310-81 616-81 519 0 797 234t278 675q0 406-278 645t-753 239h-482v519h482q434 0 678 190 244 191 244 532 0 359-227 551-227 193-645 193-278 0-575-63-297-62-622-187v581q378 100 673 150 296 50 524 50 681 0 1089-342t408-908q0-384-215-641-214-256-623-362z\"/></defs><use xlink:href=\"#DejaVuSansMono-6b\"/><use x=\"60.205078\" xlink:href=\"#DejaVuSansMono-33\"/></g><g transform=\"translate(7.2 76.021) scale(.07 -.07)\" fill=\"#545759\"><defs><path id=\"DejaVuSansMono-34\" transform=\"scale(.015625)\" d=\"m2297 4091-1472-2466h1472v2466zm-103 575h731v-3041h622v-512h-622v-1113h-628v1113h-1978v596l1875 2957z\"/></defs><use xlink:href=\"#DejaVuSansMono-6b\"/><use x=\"60.205078\" xlink:href=\"#DejaVuSansMono-34\"/></g><g transform=\"translate(17.221 169.65) scale(.07 -.07)\" fill=\"#545759\"><defs><path id=\"DejaVuSansMono-35\" transform=\"scale(.015625)\" d=\"m647 4666h2362v-532h-1787v-1146q134 50 270 73t274 23q725 0 1150-428t425-1159q0-738-446-1163-445-425-1217-425-372 0-680 50-307 50-551 150v641q287-156 578-233 291-76 594-76 522 0 804 275 283 275 283 781 0 500-292 778t-814 278q-253 0-494-58-240-57-459-173v2344z\"/></defs><use xlink:href=\"#DejaVuSansMono-6b\"/><use x=\"60.205078\" xlink:href=\"#DejaVuSansMono-35\"/></g><g transform=\"translate(99.632 216.55) scale(.07 -.07)\" fill=\"#545759\"><defs><path id=\"DejaVuSansMono-36\" transform=\"scale(.015625)\" d=\"m3097 4563v-582q-197 116-419 177t-462 61q-600 0-910-452-309-451-309-1329 150 312 415 479 266 167 610 167 675 0 1045-414 371-414 371-1173 0-756-382-1172-381-416-1072-416-812 0-1190 583t-378 1836q0 1181 454 1801 455 621 1318 621 231 0 462-49 231-48 447-138zm-1125-1972q-403 0-635-291-231-291-231-803 0-513 231-804 232-290 635-290 419 0 631 276 213 277 213 818 0 544-213 819-212 275-631 275z\"/></defs><use xlink:href=\"#DejaVuSansMono-6b\"/><use x=\"60.205078\" xlink:href=\"#DejaVuSansMono-36\"/></g><g transform=\"translate(192.64 195.93) scale(.07 -.07)\" fill=\"#545759\"><defs><path id=\"DejaVuSansMono-37\" transform=\"scale(.015625)\" d=\"m434 4666h2938v-269l-1669-4397h-659l1625 4134h-2235v532z\"/></defs><use xlink:href=\"#DejaVuSansMono-6b\"/><use x=\"60.205078\" xlink:href=\"#DejaVuSansMono-37\"/></g><g transform=\"translate(329.73 164.12) scale(.07 -.07)\" fill=\"#545759\"><defs><path id=\"DejaVuSansMono-39\" transform=\"scale(.015625)\" d=\"m1863 2069q403 0 632 290 230 291 230 804 0 512-230 802-229 291-632 291-419 0-632-277-212-276-212-816 0-544 211-819t633-275zm-1125-1972v581q196-115 418-176t463-61q600 0 907 451 308 452 308 1330-146-313-412-480t-609-167q-675 0-1046 415-370 416-370 1179 0 753 379 1167 380 414 1074 414 813 0 1191-585 378-584 378-1837 0-1178-455-1799-455-620-1320-620-228 0-460 49-231 48-446 139z\"/></defs><use xlink:href=\"#DejaVuSansMono-6b\"/><use x=\"60.205078\" xlink:href=\"#DejaVuSansMono-39\"/></g><g transform=\"translate(272.01 106.14) scale(.07 -.07)\" fill=\"#545759\"><defs><path id=\"DejaVuSansMono-31\" transform=\"scale(.015625)\" d=\"m844 531h981v3566l-1056-238v575l1050 232h631v-4135h969v-531h-2575v531z\"/></defs><use xlink:href=\"#DejaVuSansMono-6b\"/><use x=\"60.205078\" xlink:href=\"#DejaVuSansMono-31\"/></g><g transform=\"translate(248.07 59.648) scale(.07 -.07)\" fill=\"#545759\"><defs><path id=\"DejaVuSansMono-38\" transform=\"scale(.015625)\" d=\"m1925 2216q-422 0-652-236-229-236-229-667 0-432 232-671 233-239 649-239 425 0 654 236 230 236 230 674 0 428-233 665-232 238-651 238zm-550 262q-403 103-630 384-226 282-226 679 0 556 378 882 378 327 1028 327 653 0 1031-327 378-326 378-882 0-397-227-679-226-281-629-384 469-103 717-416 249-312 249-809 0-631-403-988-403-356-1116-356-712 0-1114 355t-402 983q0 500 248 814 249 314 718 417zm-228 1003q0-375 200-572 200-196 578-196 381 0 581 196 200 197 200 572 0 382-199 582-198 200-582 200-378 0-578-202t-200-580z\"/></defs><use xlink:href=\"#DejaVuSansMono-6b\"/><use x=\"60.205078\" xlink:href=\"#DejaVuSansMono-38\"/></g><g transform=\"translate(291.61 65.737) scale(.1 -.1)\" fill=\"#545759\"><defs><path id=\"DejaVuSansMono-49\" transform=\"scale(.015625)\" d=\"m628 4666h2591v-532h-978v-3603h978v-531h-2591v531h978v3603h-978v532z\"/></defs><use xlink:href=\"#DejaVuSansMono-49\"/><use x=\"60.205078\" xlink:href=\"#DejaVuSansMono-30\"/></g><g transform=\"translate(169.75 58.89) scale(.1 -.1)\" fill=\"#545759\"><use xlink:href=\"#DejaVuSansMono-49\"/><use x=\"60.205078\" xlink:href=\"#DejaVuSansMono-32\"/></g><g transform=\"translate(100.44 53.301) scale(.1 -.1)\" fill=\"#545759\"><use xlink:href=\"#DejaVuSansMono-49\"/><use x=\"60.205078\" xlink:href=\"#DejaVuSansMono-33\"/></g><g transform=\"translate(50.994 90.395) scale(.1 -.1)\" fill=\"#545759\"><use xlink:href=\"#DejaVuSansMono-49\"/><use x=\"60.205078\" xlink:href=\"#DejaVuSansMono-34\"/></g><g transform=\"translate(57.221 147.57) scale(.1 -.1)\" fill=\"#545759\"><use xlink:href=\"#DejaVuSansMono-49\"/><use x=\"60.205078\" xlink:href=\"#DejaVuSansMono-35\"/></g><g transform=\"translate(113.49 173.26) scale(.1 -.1)\" fill=\"#545759\"><use xlink:href=\"#DejaVuSansMono-49\"/><use x=\"60.205078\" xlink:href=\"#DejaVuSansMono-36\"/></g><g transform=\"translate(180.13 153.13) scale(.1 -.1)\" fill=\"#545759\"><use xlink:href=\"#DejaVuSansMono-49\"/><use x=\"60.205078\" xlink:href=\"#DejaVuSansMono-37\"/></g><g transform=\"translate(287.12 138.94) scale(.1 -.1)\" fill=\"#545759\"><use xlink:href=\"#DejaVuSansMono-49\"/><use x=\"60.205078\" xlink:href=\"#DejaVuSansMono-39\"/></g><g transform=\"translate(222.2 99.921) scale(.1 -.1)\" fill=\"#545759\"><defs><path id=\"DejaVuSansMono-2c\" transform=\"scale(.015625)\" d=\"m1569 947h787v-647l-615-1197h-482l310 1197v647z\"/></defs><use xlink:href=\"#DejaVuSansMono-49\"/><use x=\"60.205078\" xlink:href=\"#DejaVuSansMono-31\"/><use x=\"120.410156\" xlink:href=\"#DejaVuSansMono-2c\"/><use x=\"180.615234\" xlink:href=\"#DejaVuSansMono-20\"/><use x=\"240.820312\" xlink:href=\"#DejaVuSansMono-49\"/><use x=\"301.025391\" xlink:href=\"#DejaVuSansMono-38\"/></g><path d=\"m349.93 187.76h50.061q2 0 2-2v-146.31q0-2-2-2h-50.061q-2 0-2 2v146.31q0 2 2 2z\" fill=\"none\" stroke=\"#999999\" stroke-opacity=\".2\"/><defs><path id=\"989eeadf78d\" d=\"m0 5c1.326 0 2.5979-0.52683 3.5355-1.4645 0.93763-0.93764 1.4645-2.2095 1.4645-3.5355s-0.52683-2.5979-1.4645-3.5355c-0.93764-0.93763-2.2095-1.4645-3.5355-1.4645s-2.5979 0.52683-3.5355 1.4645c-0.93763 0.93764-1.4645 2.2095-1.4645 3.5355s0.52683 2.5979 1.4645 3.5355c0.93764 0.93763 2.2095 1.4645 3.5355 1.4645z\" stroke=\"#0067a0\"/></defs><use x=\"361.931866\" y=\"45.597536\" fill=\"#0072b2\" stroke=\"#0067a0\" xlink:href=\"#989eeadf78d\"/><g transform=\"translate(379.93 49.098) scale(.1 -.1)\" fill=\"#545759\"><use xlink:href=\"#DejaVuSansMono-20\"/><use x=\"60.205078\" xlink:href=\"#DejaVuSansMono-49\"/><use x=\"120.410156\" xlink:href=\"#DejaVuSansMono-30\"/></g><defs><path id=\"449f564f405\" d=\"m0 5c1.326 0 2.5979-0.52683 3.5355-1.4645 0.93763-0.93764 1.4645-2.2095 1.4645-3.5355s-0.52683-2.5979-1.4645-3.5355c-0.93764-0.93763-2.2095-1.4645-3.5355-1.4645s-2.5979 0.52683-3.5355 1.4645c-0.93763 0.93764-1.4645 2.2095-1.4645 3.5355s0.52683 2.5979 1.4645 3.5355c0.93764 0.93763 2.2095 1.4645 3.5355 1.4645z\" stroke=\"#5a9cc1\"/></defs><use x=\"361.931866\" y=\"60.328786\" fill=\"#64add6\" stroke=\"#5a9cc1\" xlink:href=\"#449f564f405\"/><g transform=\"translate(379.93 63.829) scale(.1 -.1)\" fill=\"#545759\"><use xlink:href=\"#DejaVuSansMono-20\"/><use x=\"60.205078\" xlink:href=\"#DejaVuSansMono-49\"/><use x=\"120.410156\" xlink:href=\"#DejaVuSansMono-31\"/></g><defs><path id=\"1bc0e4c6616\" d=\"m0 5c1.326 0 2.5979-0.52683 3.5355-1.4645 0.93763-0.93764 1.4645-2.2095 1.4645-3.5355s-0.52683-2.5979-1.4645-3.5355c-0.93764-0.93763-2.2095-1.4645-3.5355-1.4645s-2.5979 0.52683-3.5355 1.4645c-0.93763 0.93764-1.4645 2.2095-1.4645 3.5355s0.52683 2.5979 1.4645 3.5355c0.93764 0.93763 2.2095 1.4645 3.5355 1.4645z\" stroke=\"#64a3b0\"/></defs><use x=\"361.931866\" y=\"75.060036\" fill=\"#6fb6c4\" stroke=\"#64a3b0\" xlink:href=\"#1bc0e4c6616\"/><g transform=\"translate(379.93 78.56) scale(.1 -.1)\" fill=\"#545759\"><use xlink:href=\"#DejaVuSansMono-20\"/><use x=\"60.205078\" xlink:href=\"#DejaVuSansMono-49\"/><use x=\"120.410156\" xlink:href=\"#DejaVuSansMono-32\"/></g><defs><path id=\"8648fd6a4c7\" d=\"m0 5c1.326 0 2.5979-0.52683 3.5355-1.4645 0.93763-0.93764 1.4645-2.2095 1.4645-3.5355s-0.52683-2.5979-1.4645-3.5355c-0.93764-0.93763-2.2095-1.4645-3.5355-1.4645s-2.5979 0.52683-3.5355 1.4645c-0.93763 0.93764-1.4645 2.2095-1.4645 3.5355s0.52683 2.5979 1.4645 3.5355c0.93764 0.93763 2.2095 1.4645 3.5355 1.4645z\" stroke=\"#068e69\"/></defs><use x=\"361.931866\" y=\"89.791286\" fill=\"#069e75\" stroke=\"#068e69\" xlink:href=\"#8648fd6a4c7\"/><g transform=\"translate(379.93 93.291) scale(.1 -.1)\" fill=\"#545759\"><use xlink:href=\"#DejaVuSansMono-20\"/><use x=\"60.205078\" xlink:href=\"#DejaVuSansMono-49\"/><use x=\"120.410156\" xlink:href=\"#DejaVuSansMono-33\"/></g><defs><path id=\"fddcdea97d6\" d=\"m0 5c1.326 0 2.5979-0.52683 3.5355-1.4645 0.93763-0.93764 1.4645-2.2095 1.4645-3.5355s-0.52683-2.5979-1.4645-3.5355c-0.93764-0.93763-2.2095-1.4645-3.5355-1.4645s-2.5979 0.52683-3.5355 1.4645c-0.93763 0.93764-1.4645 2.2095-1.4645 3.5355s0.52683 2.5979 1.4645 3.5355c0.93764 0.93763 2.2095 1.4645 3.5355 1.4645z\" stroke=\"#94b85a\"/></defs><use x=\"361.931866\" y=\"104.522536\" fill=\"#a5cc64\" stroke=\"#94b85a\" xlink:href=\"#fddcdea97d6\"/><g transform=\"translate(379.93 108.02) scale(.1 -.1)\" fill=\"#545759\"><use xlink:href=\"#DejaVuSansMono-20\"/><use x=\"60.205078\" xlink:href=\"#DejaVuSansMono-49\"/><use x=\"120.410156\" xlink:href=\"#DejaVuSansMono-34\"/></g><defs><path id=\"960fb6db921\" d=\"m0 5c1.326 0 2.5979-0.52683 3.5355-1.4645 0.93763-0.93764 1.4645-2.2095 1.4645-3.5355s-0.52683-2.5979-1.4645-3.5355c-0.93764-0.93763-2.2095-1.4645-3.5355-1.4645s-2.5979 0.52683-3.5355 1.4645c-0.93763 0.93764-1.4645 2.2095-1.4645 3.5355s0.52683 2.5979 1.4645 3.5355c0.93764 0.93763 2.2095 1.4645 3.5355 1.4645z\" stroke=\"#d5c471\"/></defs><use x=\"361.931866\" y=\"119.253786\" fill=\"#edda7d\" stroke=\"#d5c471\" xlink:href=\"#960fb6db921\"/><g transform=\"translate(379.93 122.75) scale(.1 -.1)\" fill=\"#545759\"><use xlink:href=\"#DejaVuSansMono-20\"/><use x=\"60.205078\" xlink:href=\"#DejaVuSansMono-49\"/><use x=\"120.410156\" xlink:href=\"#DejaVuSansMono-35\"/></g><defs><path id=\"782a419c029\" d=\"m0 5c1.326 0 2.5979-0.52683 3.5355-1.4645 0.93763-0.93764 1.4645-2.2095 1.4645-3.5355s-0.52683-2.5979-1.4645-3.5355c-0.93764-0.93763-2.2095-1.4645-3.5355-1.4645s-2.5979 0.52683-3.5355 1.4645c-0.93763 0.93764-1.4645 2.2095-1.4645 3.5355s0.52683 2.5979 1.4645 3.5355c0.93764 0.93763 2.2095 1.4645 3.5355 1.4645z\" stroke=\"#cf981e\"/></defs><use x=\"361.931866\" y=\"133.985036\" fill=\"#e6a922\" stroke=\"#cf981e\" xlink:href=\"#782a419c029\"/><g transform=\"translate(379.93 137.49) scale(.1 -.1)\" fill=\"#545759\"><use xlink:href=\"#DejaVuSansMono-20\"/><use x=\"60.205078\" xlink:href=\"#DejaVuSansMono-49\"/><use x=\"120.410156\" xlink:href=\"#DejaVuSansMono-36\"/></g><defs><path id=\"fe7af182276\" d=\"m0 5c1.326 0 2.5979-0.52683 3.5355-1.4645 0.93763-0.93764 1.4645-2.2095 1.4645-3.5355s-0.52683-2.5979-1.4645-3.5355c-0.93764-0.93763-2.2095-1.4645-3.5355-1.4645s-2.5979 0.52683-3.5355 1.4645c-0.93763 0.93764-1.4645 2.2095-1.4645 3.5355s0.52683 2.5979 1.4645 3.5355c0.93764 0.93763 2.2095 1.4645 3.5355 1.4645z\" stroke=\"#c56b08\"/></defs><use x=\"361.931866\" y=\"148.716286\" fill=\"#da7709\" stroke=\"#c56b08\" xlink:href=\"#fe7af182276\"/><g transform=\"translate(379.93 152.22) scale(.1 -.1)\" fill=\"#545759\"><use xlink:href=\"#DejaVuSansMono-20\"/><use x=\"60.205078\" xlink:href=\"#DejaVuSansMono-49\"/><use x=\"120.410156\" xlink:href=\"#DejaVuSansMono-37\"/></g><defs><path id=\"7708b04ba29\" d=\"m0 5c1.326 0 2.5979-0.52683 3.5355-1.4645 0.93763-0.93764 1.4645-2.2095 1.4645-3.5355s-0.52683-2.5979-1.4645-3.5355c-0.93764-0.93763-2.2095-1.4645-3.5355-1.4645s-2.5979 0.52683-3.5355 1.4645c-0.93763 0.93764-1.4645 2.2095-1.4645 3.5355s0.52683 2.5979 1.4645 3.5355c0.93764 0.93763 2.2095 1.4645 3.5355 1.4645z\" stroke=\"#bd8268\"/></defs><use x=\"361.931866\" y=\"163.447536\" fill=\"#d29074\" stroke=\"#bd8268\" xlink:href=\"#7708b04ba29\"/><g transform=\"translate(379.93 166.95) scale(.1 -.1)\" fill=\"#545759\"><use xlink:href=\"#DejaVuSansMono-20\"/><use x=\"60.205078\" xlink:href=\"#DejaVuSansMono-49\"/><use x=\"120.410156\" xlink:href=\"#DejaVuSansMono-38\"/></g><defs><path id=\"83c7dbe7408\" d=\"m0 5c1.326 0 2.5979-0.52683 3.5355-1.4645 0.93763-0.93764 1.4645-2.2095 1.4645-3.5355s-0.52683-2.5979-1.4645-3.5355c-0.93764-0.93763-2.2095-1.4645-3.5355-1.4645s-2.5979 0.52683-3.5355 1.4645c-0.93763 0.93764-1.4645 2.2095-1.4645 3.5355s0.52683 2.5979 1.4645 3.5355c0.93764 0.93763 2.2095 1.4645 3.5355 1.4645z\" stroke=\"#b882a0\"/></defs><use x=\"361.931866\" y=\"178.178786\" fill=\"#cc90b1\" stroke=\"#b882a0\" xlink:href=\"#83c7dbe7408\"/><g transform=\"translate(379.93 181.68) scale(.1 -.1)\" fill=\"#545759\"><use xlink:href=\"#DejaVuSansMono-20\"/><use x=\"60.205078\" xlink:href=\"#DejaVuSansMono-49\"/><use x=\"120.410156\" xlink:href=\"#DejaVuSansMono-39\"/></g><defs><clipPath id=\"ec3d0f91ae0\"><rect x=\"8.1319\" y=\"8.566\" width=\"334.8\" height=\"208.07\"/></clipPath></defs></svg>"
      ],
      "text/plain": [
       "<Figure size 600x600 with 1 Axes>"
      ]
     },
     "metadata": {
      "needs_background": "light"
     },
     "output_type": "display_data"
    }
   ],
   "source": [
    "psi0_CNOT = psi0.gate(CNOT, (1, n - 2), contract=True)\n",
    "psi0_CNOT.draw(color=[psi0.site_tag(i) for i in range(n)])"
   ]
  },
  {
   "cell_type": "markdown",
   "id": "5651a865-a453-4b5b-908d-cceeea9ac629",
   "metadata": {
    "raw_mimetype": "text/restructuredtext"
   },
   "source": [
    "Where we can see that the gate, site 1, and site 8 have been combined\n",
    "into a new rank-6 tensor.\n",
    "\n",
    "A much more detailed run-through of quantum circuit simulation using\n",
    "tensor networks and the {class}`~quimb.tensor.circuit.Circuit` object\n",
    "can be found in the example {ref}`quantum-circuit-example`."
   ]
  }
 ],
 "metadata": {
  "celltoolbar": "Raw Cell Format",
  "kernel_info": {
   "name": "python3"
  },
  "kernelspec": {
   "display_name": "Python 3",
   "language": "python",
   "name": "python3"
  },
  "language_info": {
   "codemirror_mode": {
    "name": "ipython",
    "version": 3
   },
   "file_extension": ".py",
   "mimetype": "text/x-python",
   "name": "python",
   "nbconvert_exporter": "python",
   "pygments_lexer": "ipython3",
   "version": "3"
  }
 },
 "nbformat": 4,
 "nbformat_minor": 4
}
