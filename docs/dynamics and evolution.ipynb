{
 "cells": [
  {
   "cell_type": "markdown",
   "metadata": {
    "raw_mimetype": "text/restructuredtext"
   },
   "source": [
    "# Time Evolution\n",
    "\n",
    "Time evolutions in `quimb` are handled by the class {class}`~quimb.evo.Evolution`, which is initialized with a starting state and hamiltonian.\n",
    "\n",
    "## Basic Usage\n",
    "\n",
    "Set up the {class}`~quimb.evo.Evolution` object with a initial state and hamiltonian."
   ]
  },
  {
   "cell_type": "code",
   "execution_count": 1,
   "metadata": {},
   "outputs": [],
   "source": [
    "from quimb import *\n",
    "\n",
    "p0 = rand_ket(2**10)\n",
    "h = ham_heis(10, sparse=True)\n",
    "evo = Evolution(p0, h)"
   ]
  },
  {
   "cell_type": "markdown",
   "metadata": {},
   "source": [
    "\n",
    "Update it in a single shot to a new time and get the state,"
   ]
  },
  {
   "cell_type": "code",
   "execution_count": 2,
   "metadata": {},
   "outputs": [
    {
     "data": {
      "text/plain": [
       "[[0.006074+0.011257j]\n",
       " [0.028495+0.016557j]\n",
       " [0.01617 -0.015705j]\n",
       " ...\n",
       " [0.018271+0.026071j]\n",
       " [0.018582-0.016482j]\n",
       " [0.027511+0.048377j]]"
      ]
     },
     "execution_count": 2,
     "metadata": {},
     "output_type": "execute_result"
    }
   ],
   "source": [
    "evo.update_to(1)\n",
    "evo.pt"
   ]
  },
  {
   "cell_type": "markdown",
   "metadata": {},
   "source": [
    "Lazily generate the state at multiple times:"
   ]
  },
  {
   "cell_type": "code",
   "execution_count": 3,
   "metadata": {},
   "outputs": [
    {
     "name": "stdout",
     "output_type": "stream",
     "text": [
      "0.003244693043705576\n",
      "0.008360765055266119\n",
      "0.009413166876677937\n"
     ]
    }
   ],
   "source": [
    "for pt in evo.at_times([2, 3, 4]):\n",
    "    print(expec(pt, p0))"
   ]
  },
  {
   "cell_type": "markdown",
   "metadata": {
    "raw_mimetype": "text/restructuredtext"
   },
   "source": [
    "## Methods of Updating\n",
    "\n",
    "There are three methods of updating the state:\n",
    "\n",
    "> - `Evolution(..., method='integrate')`: use definite integration.\n",
    ">   Get system at each time step, only need action of Hamiltonian on\n",
    ">   state. Generally efficient. For pure and mixed states. The\n",
    ">   additional option `int_small_step={False, True}` determines\n",
    ">   whether a low or high order adaptive stepping scheme is used,\n",
    ">   giving naturally smaller or larger times steps. See\n",
    ">   {class}`scipy.integrate.ode` for details, `False` corresponds\n",
    ">   to `\"dop853\"`, `True` to `\"dopri5\"`.\n",
    "> - `Evolution(..., method='solve')`. Diagonalize the hamiltonian,\n",
    ">   which once done, allows quickly updating to arbitrary times.\n",
    ">   Supports pure and mixed states, recomended for small systems.\n",
    "> - `Evolution(..., method='expm')`: compute the evolved state\n",
    ">   using the action of the matrix exponential in a 'single shot'\n",
    ">   style. Only needs action of Hamiltonian, for very large systems\n",
    ">   can use distributed MPI. Only for pure states.\n",
    "\n",
    "## Computing on the fly\n",
    "\n",
    "Sometimes, if integrating, it is best to just query the state at time-steps chosen dynamically by the adaptive scheme. This is achieved using the `compute` keyword supplied to `Evolution`. It can also just be a convenient way to set up calculations as well:\n"
   ]
  },
  {
   "cell_type": "code",
   "execution_count": 4,
   "metadata": {},
   "outputs": [
    {
     "name": "stderr",
     "output_type": "stream",
     "text": [
      "100%|##########| 100/100 [00:00<00:00, 20144.58%/s]\n"
     ]
    }
   ],
   "source": [
    "p0 = rand_product_state(10)\n",
    "h = ham_heis(10, sparse=True)\n",
    "\n",
    "dims = [2] * 10\n",
    "sysa, sysb = (0, 1), (2, 3)\n",
    "\n",
    "def calc_t_and_logneg(t, pt):\n",
    "    ln = logneg_subsys(pt, dims, sysa, sysb)\n",
    "    return t, ln\n",
    "\n",
    "evo = Evolution(p0, h, compute=calc_t_and_logneg, progbar=True)\n",
    "evo.update_to(1)\n",
    "\n",
    "ts, lns = zip(*evo.results)"
   ]
  },
  {
   "cell_type": "code",
   "execution_count": 5,
   "metadata": {},
   "outputs": [
    {
     "data": {
      "text/plain": [
       "(0.0,\n",
       " 0.2494153162899183,\n",
       " 0.4631400312076022,\n",
       " 0.6768647461252861,\n",
       " 0.9475557600771725,\n",
       " 1.0)"
      ]
     },
     "execution_count": 5,
     "metadata": {},
     "output_type": "execute_result"
    }
   ],
   "source": [
    "ts"
   ]
  },
  {
   "cell_type": "code",
   "execution_count": 6,
   "metadata": {},
   "outputs": [
    {
     "data": {
      "text/plain": [
       "(0.0,\n",
       " 0.2589846231770502,\n",
       " 0.4423181326621942,\n",
       " 0.592697104829058,\n",
       " 0.7379099150663264,\n",
       " 0.7601643146969251)"
      ]
     },
     "execution_count": 6,
     "metadata": {},
     "output_type": "execute_result"
    }
   ],
   "source": [
    "lns"
   ]
  },
  {
   "cell_type": "markdown",
   "metadata": {
    "raw_mimetype": "text/restructuredtext"
   },
   "source": [
    "If a dict of callables is supplied to `compute`, (each should take two arguments, the time, and the state, as above), `Evolution.results` will itself be a dictionary containing the results of each function at each time step, under the respective key. This can be more convenient:"
   ]
  },
  {
   "cell_type": "code",
   "execution_count": 7,
   "metadata": {},
   "outputs": [
    {
     "name": "stderr",
     "output_type": "stream",
     "text": [
      "100%|##########| 100/100 [00:00<00:00, 18631.41%/s]\n"
     ]
    }
   ],
   "source": [
    "def calc_t(t, _):\n",
    "    return t\n",
    "\n",
    "def calc_logneg(_, pt):\n",
    "    return logneg_subsys(pt, [2]*10, 0, 1)\n",
    "\n",
    "evo = Evolution(p0, h, compute={'t': calc_t, 'ln': calc_logneg}, progbar=True)\n",
    "evo.update_to(1)"
   ]
  },
  {
   "cell_type": "code",
   "execution_count": 8,
   "metadata": {},
   "outputs": [
    {
     "data": {
      "text/plain": [
       "{'t': [0.0,\n",
       "  0.2494153162899183,\n",
       "  0.4631400312076022,\n",
       "  0.6768647461252861,\n",
       "  0.9475557600771725,\n",
       "  1.0],\n",
       " 'ln': [0.0,\n",
       "  0.150158101589196,\n",
       "  0.23732495484813082,\n",
       "  0.2922696608578911,\n",
       "  0.3242059171688551,\n",
       "  0.3263498611123527]}"
      ]
     },
     "execution_count": 8,
     "metadata": {},
     "output_type": "execute_result"
    }
   ],
   "source": [
    "evo.results"
   ]
  },
  {
   "cell_type": "markdown",
   "metadata": {
    "raw_mimetype": "text/restructuredtext"
   },
   "source": [
    "(time-dependent-evolution)=\n",
    "\n",
    "## Time-Dependent Evolutions\n",
    "\n",
    "If you are using `method='integrate'` you can supply a callable to `ham` to evolve the state with a time dependent Hamiltonian. It should take a single argument `t` and return the Hamiltonian at the time. It probably makes sense to use a custom class here to avoid reconstructing as much of the Hamiltonian as possible at each step.\n",
    "\n",
    "Here we'll evolve the Neel state:\n",
    "\n",
    "$$\n",
    "| \\psi(0) \\rangle  = | \\uparrow \\downarrow \\uparrow \\downarrow \\uparrow \\ldots \\rangle\n",
    "$$\n",
    "\n",
    "with the Hamiltonian:\n",
    "\n",
    "$$\n",
    "H(t) = \\sum_{i = 0}^{L - 1} S^Z_{i} S^Z_{i + 1} + \\cos(t) \\sum_{i}^{L} S^X_i\n",
    "$$\n"
   ]
  },
  {
   "cell_type": "code",
   "execution_count": 9,
   "metadata": {},
   "outputs": [],
   "source": [
    "class MyTimeDepIsingHam:\n",
    "    \n",
    "    def __init__(self, L):\n",
    "        self.h_interaction = ham_ising(L, sparse=True, jz=1.0, bx=0.0, cyclic=False)\n",
    "        self.h_field = ham_ising(L, sparse=True, jz=0.0, bx=1.0, cyclic=False)\n",
    "    \n",
    "    def __call__(self, t):\n",
    "        return self.h_interaction + cos(t) * self.h_field"
   ]
  },
  {
   "cell_type": "code",
   "execution_count": 10,
   "metadata": {},
   "outputs": [],
   "source": [
    "L = 16\n",
    "\n",
    "# our initial state\n",
    "psi0 = neel_state(L)\n",
    "\n",
    "# instantiate the ham object, it's __call__ method will be used by Evolution\n",
    "fn_ham_t = MyTimeDepIsingHam(L)"
   ]
  },
  {
   "cell_type": "markdown",
   "metadata": {},
   "source": [
    "We still want to compute some properties during the evolution:"
   ]
  },
  {
   "cell_type": "code",
   "execution_count": 11,
   "metadata": {},
   "outputs": [],
   "source": [
    "compute = {\n",
    "    'time': lambda t, p: t,\n",
    "    'entropy': lambda t, p: entropy_subsys(p, dims=[2] * L, sysa=range(L // 2))\n",
    "}"
   ]
  },
  {
   "cell_type": "markdown",
   "metadata": {},
   "source": [
    "Now we set up the evolution object again:"
   ]
  },
  {
   "cell_type": "code",
   "execution_count": 12,
   "metadata": {},
   "outputs": [],
   "source": [
    "evo = Evolution(psi0, fn_ham_t, progbar=True, compute=compute)"
   ]
  },
  {
   "cell_type": "code",
   "execution_count": 13,
   "metadata": {},
   "outputs": [
    {
     "name": "stderr",
     "output_type": "stream",
     "text": [
      "100%|##########| 100/100 [00:07<00:00, 12.53%/s]\n"
     ]
    }
   ],
   "source": [
    "evo.update_to(10)"
   ]
  },
  {
   "cell_type": "markdown",
   "metadata": {},
   "source": [
    "We can plot the half chain entropy that we computed on the fly:"
   ]
  },
  {
   "cell_type": "code",
   "execution_count": 14,
   "metadata": {},
   "outputs": [
    {
     "data": {
      "image/png": "[encoded data removed]",
      "image/svg+xml": "<?xml version=\"1.0\" encoding=\"utf-8\" standalone=\"no\"?>\n<!DOCTYPE svg PUBLIC \"-//W3C//DTD SVG 1.1//EN\"\n  \"http://www.w3.org/Graphics/SVG/1.1/DTD/svg11.dtd\">\n<svg xmlns:xlink=\"http://www.w3.org/1999/xlink\" width=\"394.423125pt\" height=\"297.190125pt\" viewBox=\"0 0 394.423125 297.190125\" xmlns=\"http://www.w3.org/2000/svg\" version=\"1.1\">\n <metadata>\n  <rdf:RDF xmlns:dc=\"http://purl.org/dc/elements/1.1/\" xmlns:cc=\"http://creativecommons.org/ns#\" xmlns:rdf=\"http://www.w3.org/1999/02/22-rdf-syntax-ns#\">\n   <cc:Work>\n    <dc:type rdf:resource=\"http://purl.org/dc/dcmitype/StillImage\"/>\n    <dc:date>2022-12-06T18:33:18.886879</dc:date>\n    <dc:format>image/svg+xml</dc:format>\n    <dc:creator>\n     <cc:Agent>\n      <dc:title>Matplotlib v3.5.3, https://matplotlib.org/</dc:title>\n     </cc:Agent>\n    </dc:creator>\n   </cc:Work>\n  </rdf:RDF>\n </metadata>\n <defs>\n  <style type=\"text/css\">*{stroke-linejoin: round; stroke-linecap: butt}</style>\n </defs>\n <g id=\"figure_1\">\n  <g id=\"patch_1\">\n   <path d=\"M 0 297.190125 \nL 394.423125 297.190125 \nL 394.423125 0 \nL 0 0 \nL 0 297.190125 \nz\n\" style=\"fill: none\"/>\n  </g>\n  <g id=\"axes_1\">\n   <g id=\"patch_2\">\n    <path d=\"M 30.103125 273.312 \nL 387.223125 273.312 \nL 387.223125 7.2 \nL 30.103125 7.2 \nL 30.103125 273.312 \nz\n\" style=\"fill: none\"/>\n   </g>\n   <g id=\"matplotlib.axis_1\">\n    <g id=\"xtick_1\">\n     <g id=\"line2d_1\">\n      <path d=\"M 46.335852 273.312 \nL 46.335852 7.2 \n\" clip-path=\"url(#pfe9f2197d1)\" style=\"fill: none; stroke: #808080; stroke-opacity: 0.1; stroke-width: 0.8; stroke-linecap: square\"/>\n     </g>\n     <g id=\"line2d_2\">\n      <defs>\n       <path id=\"m9736984406\" d=\"M 0 0 \nL 0 3.5 \n\" style=\"stroke: #808080; stroke-width: 0.8\"/>\n      </defs>\n      <g>\n       <use xlink:href=\"#m9736984406\" x=\"46.335852\" y=\"273.312\" style=\"fill: #808080; stroke: #808080; stroke-width: 0.8\"/>\n      </g>\n     </g>\n     <g id=\"text_1\">\n      <!-- 0 -->\n      <g style=\"fill: #808080\" transform=\"translate(43.154602 287.910437)scale(0.1 -0.1)\">\n       <defs>\n        <path id=\"DejaVuSans-30\" d=\"M 2034 4250 \nQ 1547 4250 1301 3770 \nQ 1056 3291 1056 2328 \nQ 1056 1369 1301 889 \nQ 1547 409 2034 409 \nQ 2525 409 2770 889 \nQ 3016 1369 3016 2328 \nQ 3016 3291 2770 3770 \nQ 2525 4250 2034 4250 \nz\nM 2034 4750 \nQ 2819 4750 3233 4129 \nQ 3647 3509 3647 2328 \nQ 3647 1150 3233 529 \nQ 2819 -91 2034 -91 \nQ 1250 -91 836 529 \nQ 422 1150 422 2328 \nQ 422 3509 836 4129 \nQ 1250 4750 2034 4750 \nz\n\" transform=\"scale(0.015625)\"/>\n       </defs>\n       <use xlink:href=\"#DejaVuSans-30\"/>\n      </g>\n     </g>\n    </g>\n    <g id=\"xtick_2\">\n     <g id=\"line2d_3\">\n      <path d=\"M 111.266761 273.312 \nL 111.266761 7.2 \n\" clip-path=\"url(#pfe9f2197d1)\" style=\"fill: none; stroke: #808080; stroke-opacity: 0.1; stroke-width: 0.8; stroke-linecap: square\"/>\n     </g>\n     <g id=\"line2d_4\">\n      <g>\n       <use xlink:href=\"#m9736984406\" x=\"111.266761\" y=\"273.312\" style=\"fill: #808080; stroke: #808080; stroke-width: 0.8\"/>\n      </g>\n     </g>\n     <g id=\"text_2\">\n      <!-- 2 -->\n      <g style=\"fill: #808080\" transform=\"translate(108.085511 287.910437)scale(0.1 -0.1)\">\n       <defs>\n        <path id=\"DejaVuSans-32\" d=\"M 1228 531 \nL 3431 531 \nL 3431 0 \nL 469 0 \nL 469 531 \nQ 828 903 1448 1529 \nQ 2069 2156 2228 2338 \nQ 2531 2678 2651 2914 \nQ 2772 3150 2772 3378 \nQ 2772 3750 2511 3984 \nQ 2250 4219 1831 4219 \nQ 1534 4219 1204 4116 \nQ 875 4013 500 3803 \nL 500 4441 \nQ 881 4594 1212 4672 \nQ 1544 4750 1819 4750 \nQ 2544 4750 2975 4387 \nQ 3406 4025 3406 3419 \nQ 3406 3131 3298 2873 \nQ 3191 2616 2906 2266 \nQ 2828 2175 2409 1742 \nQ 1991 1309 1228 531 \nz\n\" transform=\"scale(0.015625)\"/>\n       </defs>\n       <use xlink:href=\"#DejaVuSans-32\"/>\n      </g>\n     </g>\n    </g>\n    <g id=\"xtick_3\">\n     <g id=\"line2d_5\">\n      <path d=\"M 176.19767 273.312 \nL 176.19767 7.2 \n\" clip-path=\"url(#pfe9f2197d1)\" style=\"fill: none; stroke: #808080; stroke-opacity: 0.1; stroke-width: 0.8; stroke-linecap: square\"/>\n     </g>\n     <g id=\"line2d_6\">\n      <g>\n       <use xlink:href=\"#m9736984406\" x=\"176.19767\" y=\"273.312\" style=\"fill: #808080; stroke: #808080; stroke-width: 0.8\"/>\n      </g>\n     </g>\n     <g id=\"text_3\">\n      <!-- 4 -->\n      <g style=\"fill: #808080\" transform=\"translate(173.01642 287.910437)scale(0.1 -0.1)\">\n       <defs>\n        <path id=\"DejaVuSans-34\" d=\"M 2419 4116 \nL 825 1625 \nL 2419 1625 \nL 2419 4116 \nz\nM 2253 4666 \nL 3047 4666 \nL 3047 1625 \nL 3713 1625 \nL 3713 1100 \nL 3047 1100 \nL 3047 0 \nL 2419 0 \nL 2419 1100 \nL 313 1100 \nL 313 1709 \nL 2253 4666 \nz\n\" transform=\"scale(0.015625)\"/>\n       </defs>\n       <use xlink:href=\"#DejaVuSans-34\"/>\n      </g>\n     </g>\n    </g>\n    <g id=\"xtick_4\">\n     <g id=\"line2d_7\">\n      <path d=\"M 241.12858 273.312 \nL 241.12858 7.2 \n\" clip-path=\"url(#pfe9f2197d1)\" style=\"fill: none; stroke: #808080; stroke-opacity: 0.1; stroke-width: 0.8; stroke-linecap: square\"/>\n     </g>\n     <g id=\"line2d_8\">\n      <g>\n       <use xlink:href=\"#m9736984406\" x=\"241.12858\" y=\"273.312\" style=\"fill: #808080; stroke: #808080; stroke-width: 0.8\"/>\n      </g>\n     </g>\n     <g id=\"text_4\">\n      <!-- 6 -->\n      <g style=\"fill: #808080\" transform=\"translate(237.94733 287.910437)scale(0.1 -0.1)\">\n       <defs>\n        <path id=\"DejaVuSans-36\" d=\"M 2113 2584 \nQ 1688 2584 1439 2293 \nQ 1191 2003 1191 1497 \nQ 1191 994 1439 701 \nQ 1688 409 2113 409 \nQ 2538 409 2786 701 \nQ 3034 994 3034 1497 \nQ 3034 2003 2786 2293 \nQ 2538 2584 2113 2584 \nz\nM 3366 4563 \nL 3366 3988 \nQ 3128 4100 2886 4159 \nQ 2644 4219 2406 4219 \nQ 1781 4219 1451 3797 \nQ 1122 3375 1075 2522 \nQ 1259 2794 1537 2939 \nQ 1816 3084 2150 3084 \nQ 2853 3084 3261 2657 \nQ 3669 2231 3669 1497 \nQ 3669 778 3244 343 \nQ 2819 -91 2113 -91 \nQ 1303 -91 875 529 \nQ 447 1150 447 2328 \nQ 447 3434 972 4092 \nQ 1497 4750 2381 4750 \nQ 2619 4750 2861 4703 \nQ 3103 4656 3366 4563 \nz\n\" transform=\"scale(0.015625)\"/>\n       </defs>\n       <use xlink:href=\"#DejaVuSans-36\"/>\n      </g>\n     </g>\n    </g>\n    <g id=\"xtick_5\">\n     <g id=\"line2d_9\">\n      <path d=\"M 306.059489 273.312 \nL 306.059489 7.2 \n\" clip-path=\"url(#pfe9f2197d1)\" style=\"fill: none; stroke: #808080; stroke-opacity: 0.1; stroke-width: 0.8; stroke-linecap: square\"/>\n     </g>\n     <g id=\"line2d_10\">\n      <g>\n       <use xlink:href=\"#m9736984406\" x=\"306.059489\" y=\"273.312\" style=\"fill: #808080; stroke: #808080; stroke-width: 0.8\"/>\n      </g>\n     </g>\n     <g id=\"text_5\">\n      <!-- 8 -->\n      <g style=\"fill: #808080\" transform=\"translate(302.878239 287.910437)scale(0.1 -0.1)\">\n       <defs>\n        <path id=\"DejaVuSans-38\" d=\"M 2034 2216 \nQ 1584 2216 1326 1975 \nQ 1069 1734 1069 1313 \nQ 1069 891 1326 650 \nQ 1584 409 2034 409 \nQ 2484 409 2743 651 \nQ 3003 894 3003 1313 \nQ 3003 1734 2745 1975 \nQ 2488 2216 2034 2216 \nz\nM 1403 2484 \nQ 997 2584 770 2862 \nQ 544 3141 544 3541 \nQ 544 4100 942 4425 \nQ 1341 4750 2034 4750 \nQ 2731 4750 3128 4425 \nQ 3525 4100 3525 3541 \nQ 3525 3141 3298 2862 \nQ 3072 2584 2669 2484 \nQ 3125 2378 3379 2068 \nQ 3634 1759 3634 1313 \nQ 3634 634 3220 271 \nQ 2806 -91 2034 -91 \nQ 1263 -91 848 271 \nQ 434 634 434 1313 \nQ 434 1759 690 2068 \nQ 947 2378 1403 2484 \nz\nM 1172 3481 \nQ 1172 3119 1398 2916 \nQ 1625 2713 2034 2713 \nQ 2441 2713 2670 2916 \nQ 2900 3119 2900 3481 \nQ 2900 3844 2670 4047 \nQ 2441 4250 2034 4250 \nQ 1625 4250 1398 4047 \nQ 1172 3844 1172 3481 \nz\n\" transform=\"scale(0.015625)\"/>\n       </defs>\n       <use xlink:href=\"#DejaVuSans-38\"/>\n      </g>\n     </g>\n    </g>\n    <g id=\"xtick_6\">\n     <g id=\"line2d_11\">\n      <path d=\"M 370.990398 273.312 \nL 370.990398 7.2 \n\" clip-path=\"url(#pfe9f2197d1)\" style=\"fill: none; stroke: #808080; stroke-opacity: 0.1; stroke-width: 0.8; stroke-linecap: square\"/>\n     </g>\n     <g id=\"line2d_12\">\n      <g>\n       <use xlink:href=\"#m9736984406\" x=\"370.990398\" y=\"273.312\" style=\"fill: #808080; stroke: #808080; stroke-width: 0.8\"/>\n      </g>\n     </g>\n     <g id=\"text_6\">\n      <!-- 10 -->\n      <g style=\"fill: #808080\" transform=\"translate(364.627898 287.910437)scale(0.1 -0.1)\">\n       <defs>\n        <path id=\"DejaVuSans-31\" d=\"M 794 531 \nL 1825 531 \nL 1825 4091 \nL 703 3866 \nL 703 4441 \nL 1819 4666 \nL 2450 4666 \nL 2450 531 \nL 3481 531 \nL 3481 0 \nL 794 0 \nL 794 531 \nz\n\" transform=\"scale(0.015625)\"/>\n       </defs>\n       <use xlink:href=\"#DejaVuSans-31\"/>\n       <use xlink:href=\"#DejaVuSans-30\" x=\"63.623047\"/>\n      </g>\n     </g>\n    </g>\n    <g id=\"xtick_7\">\n     <g id=\"line2d_13\">\n      <defs>\n       <path id=\"mea604d24d6\" d=\"M 0 0 \nL 0 2 \n\" style=\"stroke: #808080; stroke-width: 0.6\"/>\n      </defs>\n      <g>\n       <use xlink:href=\"#mea604d24d6\" x=\"62.56858\" y=\"273.312\" style=\"fill: #808080; stroke: #808080; stroke-width: 0.6\"/>\n      </g>\n     </g>\n    </g>\n    <g id=\"xtick_8\">\n     <g id=\"line2d_14\">\n      <g>\n       <use xlink:href=\"#mea604d24d6\" x=\"78.801307\" y=\"273.312\" style=\"fill: #808080; stroke: #808080; stroke-width: 0.6\"/>\n      </g>\n     </g>\n    </g>\n    <g id=\"xtick_9\">\n     <g id=\"line2d_15\">\n      <g>\n       <use xlink:href=\"#mea604d24d6\" x=\"95.034034\" y=\"273.312\" style=\"fill: #808080; stroke: #808080; stroke-width: 0.6\"/>\n      </g>\n     </g>\n    </g>\n    <g id=\"xtick_10\">\n     <g id=\"line2d_16\">\n      <g>\n       <use xlink:href=\"#mea604d24d6\" x=\"127.499489\" y=\"273.312\" style=\"fill: #808080; stroke: #808080; stroke-width: 0.6\"/>\n      </g>\n     </g>\n    </g>\n    <g id=\"xtick_11\">\n     <g id=\"line2d_17\">\n      <g>\n       <use xlink:href=\"#mea604d24d6\" x=\"143.732216\" y=\"273.312\" style=\"fill: #808080; stroke: #808080; stroke-width: 0.6\"/>\n      </g>\n     </g>\n    </g>\n    <g id=\"xtick_12\">\n     <g id=\"line2d_18\">\n      <g>\n       <use xlink:href=\"#mea604d24d6\" x=\"159.964943\" y=\"273.312\" style=\"fill: #808080; stroke: #808080; stroke-width: 0.6\"/>\n      </g>\n     </g>\n    </g>\n    <g id=\"xtick_13\">\n     <g id=\"line2d_19\">\n      <g>\n       <use xlink:href=\"#mea604d24d6\" x=\"192.430398\" y=\"273.312\" style=\"fill: #808080; stroke: #808080; stroke-width: 0.6\"/>\n      </g>\n     </g>\n    </g>\n    <g id=\"xtick_14\">\n     <g id=\"line2d_20\">\n      <g>\n       <use xlink:href=\"#mea604d24d6\" x=\"208.663125\" y=\"273.312\" style=\"fill: #808080; stroke: #808080; stroke-width: 0.6\"/>\n      </g>\n     </g>\n    </g>\n    <g id=\"xtick_15\">\n     <g id=\"line2d_21\">\n      <g>\n       <use xlink:href=\"#mea604d24d6\" x=\"224.895852\" y=\"273.312\" style=\"fill: #808080; stroke: #808080; stroke-width: 0.6\"/>\n      </g>\n     </g>\n    </g>\n    <g id=\"xtick_16\">\n     <g id=\"line2d_22\">\n      <g>\n       <use xlink:href=\"#mea604d24d6\" x=\"257.361307\" y=\"273.312\" style=\"fill: #808080; stroke: #808080; stroke-width: 0.6\"/>\n      </g>\n     </g>\n    </g>\n    <g id=\"xtick_17\">\n     <g id=\"line2d_23\">\n      <g>\n       <use xlink:href=\"#mea604d24d6\" x=\"273.594034\" y=\"273.312\" style=\"fill: #808080; stroke: #808080; stroke-width: 0.6\"/>\n      </g>\n     </g>\n    </g>\n    <g id=\"xtick_18\">\n     <g id=\"line2d_24\">\n      <g>\n       <use xlink:href=\"#mea604d24d6\" x=\"289.826761\" y=\"273.312\" style=\"fill: #808080; stroke: #808080; stroke-width: 0.6\"/>\n      </g>\n     </g>\n    </g>\n    <g id=\"xtick_19\">\n     <g id=\"line2d_25\">\n      <g>\n       <use xlink:href=\"#mea604d24d6\" x=\"322.292216\" y=\"273.312\" style=\"fill: #808080; stroke: #808080; stroke-width: 0.6\"/>\n      </g>\n     </g>\n    </g>\n    <g id=\"xtick_20\">\n     <g id=\"line2d_26\">\n      <g>\n       <use xlink:href=\"#mea604d24d6\" x=\"338.524943\" y=\"273.312\" style=\"fill: #808080; stroke: #808080; stroke-width: 0.6\"/>\n      </g>\n     </g>\n    </g>\n    <g id=\"xtick_21\">\n     <g id=\"line2d_27\">\n      <g>\n       <use xlink:href=\"#mea604d24d6\" x=\"354.75767\" y=\"273.312\" style=\"fill: #808080; stroke: #808080; stroke-width: 0.6\"/>\n      </g>\n     </g>\n    </g>\n    <g id=\"xtick_22\">\n     <g id=\"line2d_28\">\n      <g>\n       <use xlink:href=\"#mea604d24d6\" x=\"387.223125\" y=\"273.312\" style=\"fill: #808080; stroke: #808080; stroke-width: 0.6\"/>\n      </g>\n     </g>\n    </g>\n   </g>\n   <g id=\"matplotlib.axis_2\">\n    <g id=\"ytick_1\">\n     <g id=\"line2d_29\">\n      <path d=\"M 30.103125 261.216 \nL 387.223125 261.216 \n\" clip-path=\"url(#pfe9f2197d1)\" style=\"fill: none; stroke: #808080; stroke-opacity: 0.1; stroke-width: 0.8; stroke-linecap: square\"/>\n     </g>\n     <g id=\"line2d_30\">\n      <defs>\n       <path id=\"m22b31cc3e8\" d=\"M 0 0 \nL -3.5 0 \n\" style=\"stroke: #808080; stroke-width: 0.8\"/>\n      </defs>\n      <g>\n       <use xlink:href=\"#m22b31cc3e8\" x=\"30.103125\" y=\"261.216\" style=\"fill: #808080; stroke: #808080; stroke-width: 0.8\"/>\n      </g>\n     </g>\n     <g id=\"text_7\">\n      <!-- 0.0 -->\n      <g style=\"fill: #808080\" transform=\"translate(7.2 265.015219)scale(0.1 -0.1)\">\n       <defs>\n        <path id=\"DejaVuSans-2e\" d=\"M 684 794 \nL 1344 794 \nL 1344 0 \nL 684 0 \nL 684 794 \nz\n\" transform=\"scale(0.015625)\"/>\n       </defs>\n       <use xlink:href=\"#DejaVuSans-30\"/>\n       <use xlink:href=\"#DejaVuSans-2e\" x=\"63.623047\"/>\n       <use xlink:href=\"#DejaVuSans-30\" x=\"95.410156\"/>\n      </g>\n     </g>\n    </g>\n    <g id=\"ytick_2\">\n     <g id=\"line2d_31\">\n      <path d=\"M 30.103125 230.042009 \nL 387.223125 230.042009 \n\" clip-path=\"url(#pfe9f2197d1)\" style=\"fill: none; stroke: #808080; stroke-opacity: 0.1; stroke-width: 0.8; stroke-linecap: square\"/>\n     </g>\n     <g id=\"line2d_32\">\n      <g>\n       <use xlink:href=\"#m22b31cc3e8\" x=\"30.103125\" y=\"230.042009\" style=\"fill: #808080; stroke: #808080; stroke-width: 0.8\"/>\n      </g>\n     </g>\n     <g id=\"text_8\">\n      <!-- 0.2 -->\n      <g style=\"fill: #808080\" transform=\"translate(7.2 233.841228)scale(0.1 -0.1)\">\n       <use xlink:href=\"#DejaVuSans-30\"/>\n       <use xlink:href=\"#DejaVuSans-2e\" x=\"63.623047\"/>\n       <use xlink:href=\"#DejaVuSans-32\" x=\"95.410156\"/>\n      </g>\n     </g>\n    </g>\n    <g id=\"ytick_3\">\n     <g id=\"line2d_33\">\n      <path d=\"M 30.103125 198.868019 \nL 387.223125 198.868019 \n\" clip-path=\"url(#pfe9f2197d1)\" style=\"fill: none; stroke: #808080; stroke-opacity: 0.1; stroke-width: 0.8; stroke-linecap: square\"/>\n     </g>\n     <g id=\"line2d_34\">\n      <g>\n       <use xlink:href=\"#m22b31cc3e8\" x=\"30.103125\" y=\"198.868019\" style=\"fill: #808080; stroke: #808080; stroke-width: 0.8\"/>\n      </g>\n     </g>\n     <g id=\"text_9\">\n      <!-- 0.4 -->\n      <g style=\"fill: #808080\" transform=\"translate(7.2 202.667238)scale(0.1 -0.1)\">\n       <use xlink:href=\"#DejaVuSans-30\"/>\n       <use xlink:href=\"#DejaVuSans-2e\" x=\"63.623047\"/>\n       <use xlink:href=\"#DejaVuSans-34\" x=\"95.410156\"/>\n      </g>\n     </g>\n    </g>\n    <g id=\"ytick_4\">\n     <g id=\"line2d_35\">\n      <path d=\"M 30.103125 167.694028 \nL 387.223125 167.694028 \n\" clip-path=\"url(#pfe9f2197d1)\" style=\"fill: none; stroke: #808080; stroke-opacity: 0.1; stroke-width: 0.8; stroke-linecap: square\"/>\n     </g>\n     <g id=\"line2d_36\">\n      <g>\n       <use xlink:href=\"#m22b31cc3e8\" x=\"30.103125\" y=\"167.694028\" style=\"fill: #808080; stroke: #808080; stroke-width: 0.8\"/>\n      </g>\n     </g>\n     <g id=\"text_10\">\n      <!-- 0.6 -->\n      <g style=\"fill: #808080\" transform=\"translate(7.2 171.493247)scale(0.1 -0.1)\">\n       <use xlink:href=\"#DejaVuSans-30\"/>\n       <use xlink:href=\"#DejaVuSans-2e\" x=\"63.623047\"/>\n       <use xlink:href=\"#DejaVuSans-36\" x=\"95.410156\"/>\n      </g>\n     </g>\n    </g>\n    <g id=\"ytick_5\">\n     <g id=\"line2d_37\">\n      <path d=\"M 30.103125 136.520038 \nL 387.223125 136.520038 \n\" clip-path=\"url(#pfe9f2197d1)\" style=\"fill: none; stroke: #808080; stroke-opacity: 0.1; stroke-width: 0.8; stroke-linecap: square\"/>\n     </g>\n     <g id=\"line2d_38\">\n      <g>\n       <use xlink:href=\"#m22b31cc3e8\" x=\"30.103125\" y=\"136.520038\" style=\"fill: #808080; stroke: #808080; stroke-width: 0.8\"/>\n      </g>\n     </g>\n     <g id=\"text_11\">\n      <!-- 0.8 -->\n      <g style=\"fill: #808080\" transform=\"translate(7.2 140.319257)scale(0.1 -0.1)\">\n       <use xlink:href=\"#DejaVuSans-30\"/>\n       <use xlink:href=\"#DejaVuSans-2e\" x=\"63.623047\"/>\n       <use xlink:href=\"#DejaVuSans-38\" x=\"95.410156\"/>\n      </g>\n     </g>\n    </g>\n    <g id=\"ytick_6\">\n     <g id=\"line2d_39\">\n      <path d=\"M 30.103125 105.346047 \nL 387.223125 105.346047 \n\" clip-path=\"url(#pfe9f2197d1)\" style=\"fill: none; stroke: #808080; stroke-opacity: 0.1; stroke-width: 0.8; stroke-linecap: square\"/>\n     </g>\n     <g id=\"line2d_40\">\n      <g>\n       <use xlink:href=\"#m22b31cc3e8\" x=\"30.103125\" y=\"105.346047\" style=\"fill: #808080; stroke: #808080; stroke-width: 0.8\"/>\n      </g>\n     </g>\n     <g id=\"text_12\">\n      <!-- 1.0 -->\n      <g style=\"fill: #808080\" transform=\"translate(7.2 109.145266)scale(0.1 -0.1)\">\n       <use xlink:href=\"#DejaVuSans-31\"/>\n       <use xlink:href=\"#DejaVuSans-2e\" x=\"63.623047\"/>\n       <use xlink:href=\"#DejaVuSans-30\" x=\"95.410156\"/>\n      </g>\n     </g>\n    </g>\n    <g id=\"ytick_7\">\n     <g id=\"line2d_41\">\n      <path d=\"M 30.103125 74.172057 \nL 387.223125 74.172057 \n\" clip-path=\"url(#pfe9f2197d1)\" style=\"fill: none; stroke: #808080; stroke-opacity: 0.1; stroke-width: 0.8; stroke-linecap: square\"/>\n     </g>\n     <g id=\"line2d_42\">\n      <g>\n       <use xlink:href=\"#m22b31cc3e8\" x=\"30.103125\" y=\"74.172057\" style=\"fill: #808080; stroke: #808080; stroke-width: 0.8\"/>\n      </g>\n     </g>\n     <g id=\"text_13\">\n      <!-- 1.2 -->\n      <g style=\"fill: #808080\" transform=\"translate(7.2 77.971276)scale(0.1 -0.1)\">\n       <use xlink:href=\"#DejaVuSans-31\"/>\n       <use xlink:href=\"#DejaVuSans-2e\" x=\"63.623047\"/>\n       <use xlink:href=\"#DejaVuSans-32\" x=\"95.410156\"/>\n      </g>\n     </g>\n    </g>\n    <g id=\"ytick_8\">\n     <g id=\"line2d_43\">\n      <path d=\"M 30.103125 42.998066 \nL 387.223125 42.998066 \n\" clip-path=\"url(#pfe9f2197d1)\" style=\"fill: none; stroke: #808080; stroke-opacity: 0.1; stroke-width: 0.8; stroke-linecap: square\"/>\n     </g>\n     <g id=\"line2d_44\">\n      <g>\n       <use xlink:href=\"#m22b31cc3e8\" x=\"30.103125\" y=\"42.998066\" style=\"fill: #808080; stroke: #808080; stroke-width: 0.8\"/>\n      </g>\n     </g>\n     <g id=\"text_14\">\n      <!-- 1.4 -->\n      <g style=\"fill: #808080\" transform=\"translate(7.2 46.797285)scale(0.1 -0.1)\">\n       <use xlink:href=\"#DejaVuSans-31\"/>\n       <use xlink:href=\"#DejaVuSans-2e\" x=\"63.623047\"/>\n       <use xlink:href=\"#DejaVuSans-34\" x=\"95.410156\"/>\n      </g>\n     </g>\n    </g>\n    <g id=\"ytick_9\">\n     <g id=\"line2d_45\">\n      <path d=\"M 30.103125 11.824076 \nL 387.223125 11.824076 \n\" clip-path=\"url(#pfe9f2197d1)\" style=\"fill: none; stroke: #808080; stroke-opacity: 0.1; stroke-width: 0.8; stroke-linecap: square\"/>\n     </g>\n     <g id=\"line2d_46\">\n      <g>\n       <use xlink:href=\"#m22b31cc3e8\" x=\"30.103125\" y=\"11.824076\" style=\"fill: #808080; stroke: #808080; stroke-width: 0.8\"/>\n      </g>\n     </g>\n     <g id=\"text_15\">\n      <!-- 1.6 -->\n      <g style=\"fill: #808080\" transform=\"translate(7.2 15.623295)scale(0.1 -0.1)\">\n       <use xlink:href=\"#DejaVuSans-31\"/>\n       <use xlink:href=\"#DejaVuSans-2e\" x=\"63.623047\"/>\n       <use xlink:href=\"#DejaVuSans-36\" x=\"95.410156\"/>\n      </g>\n     </g>\n    </g>\n    <g id=\"ytick_10\">\n     <g id=\"line2d_47\">\n      <defs>\n       <path id=\"m0ea89a30c6\" d=\"M 0 0 \nL -2 0 \n\" style=\"stroke: #808080; stroke-width: 0.6\"/>\n      </defs>\n      <g>\n       <use xlink:href=\"#m0ea89a30c6\" x=\"30.103125\" y=\"269.009498\" style=\"fill: #808080; stroke: #808080; stroke-width: 0.6\"/>\n      </g>\n     </g>\n    </g>\n    <g id=\"ytick_11\">\n     <g id=\"line2d_48\">\n      <g>\n       <use xlink:href=\"#m0ea89a30c6\" x=\"30.103125\" y=\"253.422502\" style=\"fill: #808080; stroke: #808080; stroke-width: 0.6\"/>\n      </g>\n     </g>\n    </g>\n    <g id=\"ytick_12\">\n     <g id=\"line2d_49\">\n      <g>\n       <use xlink:href=\"#m0ea89a30c6\" x=\"30.103125\" y=\"245.629005\" style=\"fill: #808080; stroke: #808080; stroke-width: 0.6\"/>\n      </g>\n     </g>\n    </g>\n    <g id=\"ytick_13\">\n     <g id=\"line2d_50\">\n      <g>\n       <use xlink:href=\"#m0ea89a30c6\" x=\"30.103125\" y=\"237.835507\" style=\"fill: #808080; stroke: #808080; stroke-width: 0.6\"/>\n      </g>\n     </g>\n    </g>\n    <g id=\"ytick_14\">\n     <g id=\"line2d_51\">\n      <g>\n       <use xlink:href=\"#m0ea89a30c6\" x=\"30.103125\" y=\"222.248512\" style=\"fill: #808080; stroke: #808080; stroke-width: 0.6\"/>\n      </g>\n     </g>\n    </g>\n    <g id=\"ytick_15\">\n     <g id=\"line2d_52\">\n      <g>\n       <use xlink:href=\"#m0ea89a30c6\" x=\"30.103125\" y=\"214.455014\" style=\"fill: #808080; stroke: #808080; stroke-width: 0.6\"/>\n      </g>\n     </g>\n    </g>\n    <g id=\"ytick_16\">\n     <g id=\"line2d_53\">\n      <g>\n       <use xlink:href=\"#m0ea89a30c6\" x=\"30.103125\" y=\"206.661517\" style=\"fill: #808080; stroke: #808080; stroke-width: 0.6\"/>\n      </g>\n     </g>\n    </g>\n    <g id=\"ytick_17\">\n     <g id=\"line2d_54\">\n      <g>\n       <use xlink:href=\"#m0ea89a30c6\" x=\"30.103125\" y=\"191.074521\" style=\"fill: #808080; stroke: #808080; stroke-width: 0.6\"/>\n      </g>\n     </g>\n    </g>\n    <g id=\"ytick_18\">\n     <g id=\"line2d_55\">\n      <g>\n       <use xlink:href=\"#m0ea89a30c6\" x=\"30.103125\" y=\"183.281024\" style=\"fill: #808080; stroke: #808080; stroke-width: 0.6\"/>\n      </g>\n     </g>\n    </g>\n    <g id=\"ytick_19\">\n     <g id=\"line2d_56\">\n      <g>\n       <use xlink:href=\"#m0ea89a30c6\" x=\"30.103125\" y=\"175.487526\" style=\"fill: #808080; stroke: #808080; stroke-width: 0.6\"/>\n      </g>\n     </g>\n    </g>\n    <g id=\"ytick_20\">\n     <g id=\"line2d_57\">\n      <g>\n       <use xlink:href=\"#m0ea89a30c6\" x=\"30.103125\" y=\"159.900531\" style=\"fill: #808080; stroke: #808080; stroke-width: 0.6\"/>\n      </g>\n     </g>\n    </g>\n    <g id=\"ytick_21\">\n     <g id=\"line2d_58\">\n      <g>\n       <use xlink:href=\"#m0ea89a30c6\" x=\"30.103125\" y=\"152.107033\" style=\"fill: #808080; stroke: #808080; stroke-width: 0.6\"/>\n      </g>\n     </g>\n    </g>\n    <g id=\"ytick_22\">\n     <g id=\"line2d_59\">\n      <g>\n       <use xlink:href=\"#m0ea89a30c6\" x=\"30.103125\" y=\"144.313536\" style=\"fill: #808080; stroke: #808080; stroke-width: 0.6\"/>\n      </g>\n     </g>\n    </g>\n    <g id=\"ytick_23\">\n     <g id=\"line2d_60\">\n      <g>\n       <use xlink:href=\"#m0ea89a30c6\" x=\"30.103125\" y=\"128.72654\" style=\"fill: #808080; stroke: #808080; stroke-width: 0.6\"/>\n      </g>\n     </g>\n    </g>\n    <g id=\"ytick_24\">\n     <g id=\"line2d_61\">\n      <g>\n       <use xlink:href=\"#m0ea89a30c6\" x=\"30.103125\" y=\"120.933043\" style=\"fill: #808080; stroke: #808080; stroke-width: 0.6\"/>\n      </g>\n     </g>\n    </g>\n    <g id=\"ytick_25\">\n     <g id=\"line2d_62\">\n      <g>\n       <use xlink:href=\"#m0ea89a30c6\" x=\"30.103125\" y=\"113.139545\" style=\"fill: #808080; stroke: #808080; stroke-width: 0.6\"/>\n      </g>\n     </g>\n    </g>\n    <g id=\"ytick_26\">\n     <g id=\"line2d_63\">\n      <g>\n       <use xlink:href=\"#m0ea89a30c6\" x=\"30.103125\" y=\"97.55255\" style=\"fill: #808080; stroke: #808080; stroke-width: 0.6\"/>\n      </g>\n     </g>\n    </g>\n    <g id=\"ytick_27\">\n     <g id=\"line2d_64\">\n      <g>\n       <use xlink:href=\"#m0ea89a30c6\" x=\"30.103125\" y=\"89.759052\" style=\"fill: #808080; stroke: #808080; stroke-width: 0.6\"/>\n      </g>\n     </g>\n    </g>\n    <g id=\"ytick_28\">\n     <g id=\"line2d_65\">\n      <g>\n       <use xlink:href=\"#m0ea89a30c6\" x=\"30.103125\" y=\"81.965555\" style=\"fill: #808080; stroke: #808080; stroke-width: 0.6\"/>\n      </g>\n     </g>\n    </g>\n    <g id=\"ytick_29\">\n     <g id=\"line2d_66\">\n      <g>\n       <use xlink:href=\"#m0ea89a30c6\" x=\"30.103125\" y=\"66.378559\" style=\"fill: #808080; stroke: #808080; stroke-width: 0.6\"/>\n      </g>\n     </g>\n    </g>\n    <g id=\"ytick_30\">\n     <g id=\"line2d_67\">\n      <g>\n       <use xlink:href=\"#m0ea89a30c6\" x=\"30.103125\" y=\"58.585062\" style=\"fill: #808080; stroke: #808080; stroke-width: 0.6\"/>\n      </g>\n     </g>\n    </g>\n    <g id=\"ytick_31\">\n     <g id=\"line2d_68\">\n      <g>\n       <use xlink:href=\"#m0ea89a30c6\" x=\"30.103125\" y=\"50.791564\" style=\"fill: #808080; stroke: #808080; stroke-width: 0.6\"/>\n      </g>\n     </g>\n    </g>\n    <g id=\"ytick_32\">\n     <g id=\"line2d_69\">\n      <g>\n       <use xlink:href=\"#m0ea89a30c6\" x=\"30.103125\" y=\"35.204569\" style=\"fill: #808080; stroke: #808080; stroke-width: 0.6\"/>\n      </g>\n     </g>\n    </g>\n    <g id=\"ytick_33\">\n     <g id=\"line2d_70\">\n      <g>\n       <use xlink:href=\"#m0ea89a30c6\" x=\"30.103125\" y=\"27.411071\" style=\"fill: #808080; stroke: #808080; stroke-width: 0.6\"/>\n      </g>\n     </g>\n    </g>\n    <g id=\"ytick_34\">\n     <g id=\"line2d_71\">\n      <g>\n       <use xlink:href=\"#m0ea89a30c6\" x=\"30.103125\" y=\"19.617574\" style=\"fill: #808080; stroke: #808080; stroke-width: 0.6\"/>\n      </g>\n     </g>\n    </g>\n   </g>\n   <g id=\"line2d_72\">\n    <path d=\"M 46.335852 261.216 \nL 48.64721 261.215996 \nL 50.904734 261.215788 \nL 53.426459 261.213541 \nL 56.453704 261.19887 \nL 59.939687 261.133831 \nL 63.898432 260.914969 \nL 68.284791 260.334648 \nL 72.876059 259.13963 \nL 77.678299 257.054858 \nL 83.042047 253.603617 \nL 89.377433 248.074611 \nL 97.246087 239.539045 \nL 106.250786 228.781429 \nL 112.817403 221.323315 \nL 118.219688 216.091979 \nL 122.66929 212.743215 \nL 127.118893 210.486309 \nL 130.444946 209.585225 \nL 133.770998 209.354614 \nL 136.925922 209.695302 \nL 140.246717 210.513012 \nL 143.724332 211.655361 \nL 147.516335 212.887759 \nL 151.694402 213.736703 \nL 156.107673 213.524341 \nL 160.869506 211.640076 \nL 165.701948 207.978162 \nL 170.527981 202.941064 \nL 175.388341 197.036393 \nL 180.389952 190.656576 \nL 185.635814 184.095084 \nL 191.499286 177.225694 \nL 198.331705 169.906496 \nL 207.502108 160.826458 \nL 215.202444 153.34724 \nL 221.398145 147.290735 \nL 226.892308 142.007843 \nL 232.352172 137.03139 \nL 236.791178 133.28603 \nL 241.230183 129.807403 \nL 245.341303 126.733557 \nL 249.126361 123.904405 \nL 252.821433 121.019666 \nL 256.507681 117.918472 \nL 260.288359 114.435083 \nL 264.212766 110.463181 \nL 268.243633 106.016075 \nL 272.54395 100.910901 \nL 277.095331 95.185794 \nL 281.818324 88.999593 \nL 286.916762 82.159923 \nL 292.579087 74.494742 \nL 299.116513 65.692552 \nL 307.330332 54.91237 \nL 315.340935 45.064243 \nL 321.739674 38.134337 \nL 327.818058 32.819498 \nL 333.391536 29.401402 \nL 338.498671 27.632767 \nL 343.26349 27.048281 \nL 347.196651 27.096558 \nL 351.129812 27.29723 \nL 355.114136 27.276687 \nL 359.117766 26.656292 \nL 363.154966 25.139067 \nL 367.12663 22.646595 \nL 370.990398 19.296 \n\" clip-path=\"url(#pfe9f2197d1)\" style=\"fill: none; stroke: #1f77b4; stroke-width: 1.5; stroke-linecap: square\"/>\n   </g>\n   <g id=\"patch_3\">\n    <path d=\"M 30.103125 273.312 \nL 30.103125 7.2 \n\" style=\"fill: none; stroke: #808080; stroke-width: 0.8; stroke-linejoin: miter; stroke-linecap: square\"/>\n   </g>\n   <g id=\"patch_4\">\n    <path d=\"M 30.103125 273.312 \nL 387.223125 273.312 \n\" style=\"fill: none; stroke: #808080; stroke-width: 0.8; stroke-linejoin: miter; stroke-linecap: square\"/>\n   </g>\n  </g>\n </g>\n <defs>\n  <clipPath id=\"pfe9f2197d1\">\n   <rect x=\"30.103125\" y=\"7.2\" width=\"357.12\" height=\"266.112\"/>\n  </clipPath>\n </defs>\n</svg>\n",
      "text/plain": [
       "<Figure size 640x480 with 1 Axes>"
      ]
     },
     "metadata": {
      "needs_background": "light"
     },
     "output_type": "display_data"
    }
   ],
   "source": [
    "%matplotlib inline\n",
    "\n",
    "import matplotlib.pyplot as plt\n",
    "\n",
    "with plt.style.context(NEUTRAL_STYLE):\n",
    "    plt.plot(evo.results['time'], evo.results['entropy'])"
   ]
  },
  {
   "cell_type": "markdown",
   "metadata": {},
   "source": [
    "Or we can use the final state:"
   ]
  },
  {
   "cell_type": "code",
   "execution_count": 15,
   "metadata": {},
   "outputs": [
    {
     "data": {
      "text/plain": [
       "0.003302180752068547"
      ]
     },
     "execution_count": 15,
     "metadata": {},
     "output_type": "execute_result"
    }
   ],
   "source": [
    "fidelity(psi0, evo.pt)"
   ]
  }
 ],
 "metadata": {
  "celltoolbar": "Raw Cell Format",
  "kernelspec": {
   "display_name": "Python 3.10.8 ('numpy')",
   "language": "python",
   "name": "python3"
  },
  "language_info": {
   "codemirror_mode": {
    "name": "ipython",
    "version": 3
   },
   "file_extension": ".py",
   "mimetype": "text/x-python",
   "name": "python",
   "nbconvert_exporter": "python",
   "pygments_lexer": "ipython3",
   "version": "3.10.8 (main, Nov  4 2022, 13:48:29) [GCC 11.2.0]"
  },
  "vscode": {
   "interpreter": {
    "hash": "39c10650315d977fb13868ea1402e99f3e10e9885c2c202e692ae90b8995050d"
   }
  }
 },
 "nbformat": 4,
 "nbformat_minor": 4
}
