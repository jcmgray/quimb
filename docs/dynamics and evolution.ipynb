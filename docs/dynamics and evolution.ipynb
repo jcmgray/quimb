{
 "cells": [
  {
   "cell_type": "raw",
   "metadata": {
    "raw_mimetype": "text/restructuredtext"
   },
   "source": [
    "##############\n",
    "Time Evolution\n",
    "##############\n",
    "\n",
    "Time evolutions in ``quimb`` are handled by the class :class:`~quimb.evo.Evolution`, which is initialized with a starting state and hamiltonian.\n",
    "\n",
    "Basic Usage\n",
    "~~~~~~~~~~~\n",
    "\n",
    "Set up the :class:`~quimb.evo.Evolution` object with a initial state and hamiltonian."
   ]
  },
  {
   "cell_type": "code",
   "execution_count": 1,
   "metadata": {},
   "outputs": [],
   "source": [
    "from quimb import *\n",
    "\n",
    "p0 = rand_ket(2**10)\n",
    "h = ham_heis(10, sparse=True)\n",
    "evo = Evolution(p0, h)"
   ]
  },
  {
   "cell_type": "markdown",
   "metadata": {},
   "source": [
    "\n",
    "Update it in a single shot to a new time and get the state,"
   ]
  },
  {
   "cell_type": "code",
   "execution_count": 2,
   "metadata": {},
   "outputs": [
    {
     "data": {
      "text/plain": [
       "[[ 0.001538+0.012379j]\n",
       " [-0.00541 +0.02611j ]\n",
       " [-0.012026+0.015335j]\n",
       " ...\n",
       " [-0.041381+0.02054j ]\n",
       " [-0.004961-0.001546j]\n",
       " [-0.019127+0.002967j]]"
      ]
     },
     "execution_count": 2,
     "metadata": {},
     "output_type": "execute_result"
    }
   ],
   "source": [
    "evo.update_to(1)\n",
    "evo.pt"
   ]
  },
  {
   "cell_type": "markdown",
   "metadata": {},
   "source": [
    "Lazily generate the state at multiple times:"
   ]
  },
  {
   "cell_type": "code",
   "execution_count": 3,
   "metadata": {},
   "outputs": [
    {
     "name": "stdout",
     "output_type": "stream",
     "text": [
      "0.0005106405568608293\n",
      "0.009995197474010302\n",
      "0.00525130789898347\n"
     ]
    }
   ],
   "source": [
    "for pt in evo.at_times([2, 3, 4]):\n",
    "    print(expec(pt, p0))"
   ]
  },
  {
   "cell_type": "raw",
   "metadata": {
    "raw_mimetype": "text/restructuredtext"
   },
   "source": [
    "Methods of Updating\n",
    "~~~~~~~~~~~~~~~~~~~\n",
    "\n",
    "There are three methods of updating the state:\n",
    "\n",
    "    - ``Evolution(..., method='integrate')``: use definite integration. \n",
    "      Get system at each time step, only need action of Hamiltonian on \n",
    "      state. Generally efficient. For pure and mixed states. The \n",
    "      additional option ``int_small_step={False, True}`` determines \n",
    "      whether a low or high order adaptive stepping scheme is used, \n",
    "      giving naturally smaller or larger times steps. See \n",
    "      :class:`scipy.integrate.ode` for details, ``False`` corresponds \n",
    "      to ``\"dop853\"``, ``True`` to ``\"dopri5\"``.\n",
    "\n",
    "    - ``Evolution(..., method='solve')``. Diagonalize the hamiltonian, \n",
    "      which once done, allows quickly updating to arbitrary times. \n",
    "      Supports pure and mixed states, recomended for small systems.\n",
    "\n",
    "    -  ``Evolution(..., method='expm')``: compute the evolved state \n",
    "       using the action of the matrix exponential in a 'single shot' \n",
    "       style. Only needs action of Hamiltonian, for very large systems \n",
    "       can use distributed MPI. Only for pure states.\n",
    "\n",
    "Computing on the fly\n",
    "~~~~~~~~~~~~~~~~~~~~\n",
    "\n",
    "Sometimes, if integrating, it is best to just query the state at time-steps chosen dynamically by the adaptive scheme. This is achieved using the ``compute`` keyword supplied to ``Evolution``. It can also just be a convenient way to set up calculations as well:"
   ]
  },
  {
   "cell_type": "code",
   "execution_count": 4,
   "metadata": {},
   "outputs": [
    {
     "name": "stderr",
     "output_type": "stream",
     "text": [
      "100%|##########| 100/100 [00:00<00:00, 6697.06%/s]\n"
     ]
    }
   ],
   "source": [
    "p0 = rand_product_state(10)\n",
    "h = ham_heis(10, sparse=True)\n",
    "\n",
    "dims = [2] * 10\n",
    "sysa, sysb = (0, 1), (2, 3)\n",
    "\n",
    "def calc_t_and_logneg(t, pt):\n",
    "    ln = logneg_subsys(pt, dims, sysa, sysb)\n",
    "    return t, ln\n",
    "\n",
    "evo = Evolution(p0, h, compute=calc_t_and_logneg, progbar=True)\n",
    "evo.update_to(1)\n",
    "\n",
    "ts, lns = zip(*evo.results)"
   ]
  },
  {
   "cell_type": "code",
   "execution_count": 5,
   "metadata": {},
   "outputs": [
    {
     "data": {
      "text/plain": [
       "(0.0,\n",
       " 0.2312290367760555,\n",
       " 0.4377093533282588,\n",
       " 0.6399835221505082,\n",
       " 0.8549423071920399,\n",
       " 1.0)"
      ]
     },
     "execution_count": 5,
     "metadata": {},
     "output_type": "execute_result"
    }
   ],
   "source": [
    "ts"
   ]
  },
  {
   "cell_type": "code",
   "execution_count": 6,
   "metadata": {},
   "outputs": [
    {
     "data": {
      "text/plain": [
       "(0.0,\n",
       " 0.16992190183490394,\n",
       " 0.2865537529923966,\n",
       " 0.3808698480199881,\n",
       " 0.4716243573297176,\n",
       " 0.5295261025477127)"
      ]
     },
     "execution_count": 6,
     "metadata": {},
     "output_type": "execute_result"
    }
   ],
   "source": [
    "lns"
   ]
  },
  {
   "cell_type": "raw",
   "metadata": {
    "raw_mimetype": "text/restructuredtext"
   },
   "source": [
    "If a dict of callables is supplied to ``compute``, (each should take two arguments, the time, and the state, as above), ``Evolution.results`` will itself be a dictionary containing the results of each function at each time step, under the respective key. This can be more convenient:"
   ]
  },
  {
   "cell_type": "code",
   "execution_count": 7,
   "metadata": {},
   "outputs": [
    {
     "name": "stderr",
     "output_type": "stream",
     "text": [
      "100%|##########| 100/100 [00:00<00:00, 4243.44%/s]\n"
     ]
    }
   ],
   "source": [
    "def calc_t(t, _):\n",
    "    return t\n",
    "\n",
    "def calc_logneg(_, pt):\n",
    "    return logneg_subsys(pt, [2]*10, 0, 1)\n",
    "\n",
    "evo = Evolution(p0, h, compute={'t': calc_t, 'ln': calc_logneg}, progbar=True)\n",
    "evo.update_to(1)"
   ]
  },
  {
   "cell_type": "code",
   "execution_count": 8,
   "metadata": {},
   "outputs": [
    {
     "data": {
      "text/plain": [
       "{'t': [0.0,\n",
       "  0.2312290367760555,\n",
       "  0.4377093533282588,\n",
       "  0.6399835221505082,\n",
       "  0.8549423071920399,\n",
       "  1.0],\n",
       " 'ln': [0.0,\n",
       "  0.15268909733170494,\n",
       "  0.2827184207625697,\n",
       "  0.40032861740248604,\n",
       "  0.5081441062956807,\n",
       "  0.5669364519710873]}"
      ]
     },
     "execution_count": 8,
     "metadata": {},
     "output_type": "execute_result"
    }
   ],
   "source": [
    "evo.results"
   ]
  },
  {
   "cell_type": "raw",
   "metadata": {
    "raw_mimetype": "text/restructuredtext"
   },
   "source": [
    ".. _time-dependent-evolution:\n",
    "\n",
    "Time-Dependent Evolutions\n",
    "~~~~~~~~~~~~~~~~~~~~~~~~~\n",
    "\n",
    "If you are using ``method='integrate'`` you can supply a callable to ``ham`` to evolve the state with a time dependent Hamiltonian. It should take a single argument ``t`` and return the Hamiltonian at the time. It probably makes sense to use a custom class here to avoid reconstructing as much of the Hamiltonian as possible at each step.\n",
    "\n",
    "Here we'll evolve the Neel state:\n",
    "\n",
    ".. math::\n",
    "\n",
    "    | \\psi(0) \\rangle  = | \\uparrow \\downarrow \\uparrow \\downarrow \\uparrow \\ldots \\rangle\n",
    "    \n",
    "with the Hamiltonian:\n",
    "\n",
    ".. math::\n",
    "\n",
    "    H(t) = \\sum_{i = 0}^{L - 1} S^Z_{i} S^Z_{i + 1} + \\cos(t) \\sum_{i}^{L} S^X_i"
   ]
  },
  {
   "cell_type": "code",
   "execution_count": 9,
   "metadata": {},
   "outputs": [],
   "source": [
    "class MyTimeDepIsingHam:\n",
    "    \n",
    "    def __init__(self, L):\n",
    "        self.h_interaction = ham_ising(L, sparse=True, jz=1.0, bx=0.0, cyclic=False)\n",
    "        self.h_field = ham_ising(L, sparse=True, jz=0.0, bx=1.0, cyclic=False)\n",
    "    \n",
    "    def __call__(self, t):\n",
    "        return self.h_interaction + cos(t) * self.h_field"
   ]
  },
  {
   "cell_type": "code",
   "execution_count": 10,
   "metadata": {},
   "outputs": [],
   "source": [
    "L = 16\n",
    "\n",
    "# our initial state\n",
    "psi0 = neel_state(L)\n",
    "\n",
    "# instantiate the ham object, it's __call__ method will be used by Evolution\n",
    "fn_ham_t = MyTimeDepIsingHam(L)"
   ]
  },
  {
   "cell_type": "markdown",
   "metadata": {},
   "source": [
    "We still want to compute some properties during the evolution:"
   ]
  },
  {
   "cell_type": "code",
   "execution_count": 11,
   "metadata": {},
   "outputs": [],
   "source": [
    "compute = {\n",
    "    'time': lambda t, p: t,\n",
    "    'entropy': lambda t, p: entropy_subsys(p, dims=[2] * L, sysa=range(L // 2))\n",
    "}"
   ]
  },
  {
   "cell_type": "markdown",
   "metadata": {},
   "source": [
    "Now we set up the evolution object again:"
   ]
  },
  {
   "cell_type": "code",
   "execution_count": 12,
   "metadata": {},
   "outputs": [],
   "source": [
    "evo = Evolution(psi0, fn_ham_t, progbar=True, compute=compute)"
   ]
  },
  {
   "cell_type": "code",
   "execution_count": 13,
   "metadata": {},
   "outputs": [
    {
     "name": "stderr",
     "output_type": "stream",
     "text": [
      "100%|##########| 100/100 [00:11<00:00,  8.77%/s]\n"
     ]
    }
   ],
   "source": [
    "evo.update_to(10)"
   ]
  },
  {
   "cell_type": "markdown",
   "metadata": {},
   "source": [
    "We can plot the half chain entropy that we computed on the fly:"
   ]
  },
  {
   "cell_type": "code",
   "execution_count": 14,
   "metadata": {},
   "outputs": [
    {
     "data": {
      "text/plain": [
       "[<matplotlib.lines.Line2D at 0x7f2501956fd0>]"
      ]
     },
     "execution_count": 14,
     "metadata": {},
     "output_type": "execute_result"
    },
    {
     "data": {
      "image/png": "[encoded data removed]",
      "text/plain": [
       "<Figure size 432x288 with 1 Axes>"
      ]
     },
     "metadata": {
      "needs_background": "light"
     },
     "output_type": "display_data"
    }
   ],
   "source": [
    "%matplotlib inline\n",
    "\n",
    "from matplotlib import pyplot as plt\n",
    "\n",
    "plt.plot(evo.results['time'], evo.results['entropy'])"
   ]
  },
  {
   "cell_type": "markdown",
   "metadata": {},
   "source": [
    "Or we can use the final state:"
   ]
  },
  {
   "cell_type": "code",
   "execution_count": 15,
   "metadata": {},
   "outputs": [
    {
     "data": {
      "text/plain": [
       "0.003302180752068526"
      ]
     },
     "execution_count": 15,
     "metadata": {},
     "output_type": "execute_result"
    }
   ],
   "source": [
    "fidelity(psi0, evo.pt)"
   ]
  }
 ],
 "metadata": {
  "celltoolbar": "Raw Cell Format",
  "kernelspec": {
   "display_name": "Python 3",
   "language": "python",
   "name": "python3"
  },
  "language_info": {
   "codemirror_mode": {
    "name": "ipython",
    "version": 3
   },
   "file_extension": ".py",
   "mimetype": "text/x-python",
   "name": "python",
   "nbconvert_exporter": "python",
   "pygments_lexer": "ipython3",
   "version": "3.7.5"
  }
 },
 "nbformat": 4,
 "nbformat_minor": 4
}
