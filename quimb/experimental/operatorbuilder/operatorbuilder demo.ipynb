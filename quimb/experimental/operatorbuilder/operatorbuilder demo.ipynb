{
 "cells": [
  {
   "cell_type": "code",
   "execution_count": 1,
   "id": "4a710af5-02be-4322-a55a-9d979516beae",
   "metadata": {
    "tags": []
   },
   "outputs": [],
   "source": [
    "%config InlineBackend.figure_formats = ['svg']\n",
    "import xyzpy as xyz\n",
    "import quimb as qu\n",
    "import quimb.tensor as qtn\n",
    "from quimb.experimental.operatorbuilder import *"
   ]
  },
  {
   "cell_type": "code",
   "execution_count": 2,
   "id": "4cc54b1f-7143-4847-9503-3a2bab6859ea",
   "metadata": {
    "tags": []
   },
   "outputs": [
    {
     "name": "stdout",
     "output_type": "stream",
     "text": [
      "SparseOperatorBuilder(nsites=2, nterms=2, locality=2))\n",
      "+ -  +1.0\n",
      "- +  +1.0\n"
     ]
    }
   ],
   "source": [
    "H = SparseOperatorBuilder()\n",
    "H += 1.0, ('+', 0), ('-', 1)\n",
    "H += 1.0, ('+', 1), ('-', 0)\n",
    "H.jordan_wigner_transform()\n",
    "H.show()"
   ]
  },
  {
   "cell_type": "code",
   "execution_count": 3,
   "id": "5d7ddb28-e581-465a-9558-4fe3acc77e10",
   "metadata": {
    "tags": []
   },
   "outputs": [
    {
     "name": "stdout",
     "output_type": "stream",
     "text": [
      "SparseOperatorBuilder(nsites=24, nterms=80, locality=4))\n",
      "+ - . . . . . . . . . . . . . . . . . . . . . .  -1.0\n",
      "- + . . . . . . . . . . . . . . . . . . . . . .  -1.0\n",
      ". . . . . . . . . . . . + - . . . . . . . . . .  -1.0\n",
      ". . . . . . . . . . . . - + . . . . . . . . . .  -1.0\n",
      "+ z z - . . . . . . . . . . . . . . . . . . . .  -1.0\n",
      "- z z + . . . . . . . . . . . . . . . . . . . .  -1.0\n",
      ". . . . . . . . . . . . + z z - . . . . . . . .  -1.0\n",
      ". . . . . . . . . . . . - z z + . . . . . . . .  -1.0\n",
      ". + - . . . . . . . . . . . . . . . . . . . . .  -1.0\n",
      ". - + . . . . . . . . . . . . . . . . . . . . .  -1.0\n",
      ". . . . . . . . . . . . . + - . . . . . . . . .  -1.0\n",
      ". . . . . . . . . . . . . - + . . . . . . . . .  -1.0\n",
      ". + z z - . . . . . . . . . . . . . . . . . . .  -1.0\n",
      ". - z z + . . . . . . . . . . . . . . . . . . .  -1.0\n",
      ". . . . . . . . . . . . . + z z - . . . . . . .  -1.0\n",
      ". . . . . . . . . . . . . - z z + . . . . . . .  -1.0\n",
      ". . + z z - . . . . . . . . . . . . . . . . . .  -1.0\n",
      ". . - z z + . . . . . . . . . . . . . . . . . .  -1.0\n",
      ". . . . . . . . . . . . . . + z z - . . . . . .  -1.0\n",
      ". . . . . . . . . . . . . . - z z + . . . . . .  -1.0\n",
      ". . . + - . . . . . . . . . . . . . . . . . . .  -1.0\n",
      ". . . - + . . . . . . . . . . . . . . . . . . .  -1.0\n",
      ". . . . . . . . . . . . . . . + - . . . . . . .  -1.0\n",
      ". . . . . . . . . . . . . . . - + . . . . . . .  -1.0\n",
      ". . . + z z - . . . . . . . . . . . . . . . . .  -1.0\n",
      ". . . - z z + . . . . . . . . . . . . . . . . .  -1.0\n",
      ". . . . . . . . . . . . . . . + z z - . . . . .  -1.0\n",
      ". . . . . . . . . . . . . . . - z z + . . . . .  -1.0\n",
      ". . . . + - . . . . . . . . . . . . . . . . . .  -1.0\n",
      ". . . . - + . . . . . . . . . . . . . . . . . .  -1.0\n",
      ". . . . . . . . . . . . . . . . + - . . . . . .  -1.0\n",
      ". . . . . . . . . . . . . . . . - + . . . . . .  -1.0\n",
      ". . . . + z z - . . . . . . . . . . . . . . . .  -1.0\n",
      ". . . . - z z + . . . . . . . . . . . . . . . .  -1.0\n",
      ". . . . . . . . . . . . . . . . + z z - . . . .  -1.0\n",
      ". . . . . . . . . . . . . . . . - z z + . . . .  -1.0\n",
      ". . . . . + z z - . . . . . . . . . . . . . . .  -1.0\n",
      ". . . . . - z z + . . . . . . . . . . . . . . .  -1.0\n",
      ". . . . . . . . . . . . . . . . . + z z - . . .  -1.0\n",
      ". . . . . . . . . . . . . . . . . - z z + . . .  -1.0\n",
      ". . . . . . + - . . . . . . . . . . . . . . . .  -1.0\n",
      ". . . . . . - + . . . . . . . . . . . . . . . .  -1.0\n",
      ". . . . . . . . . . . . . . . . . . + - . . . .  -1.0\n",
      ". . . . . . . . . . . . . . . . . . - + . . . .  -1.0\n",
      ". . . . . . + z z - . . . . . . . . . . . . . .  -1.0\n",
      ". . . . . . - z z + . . . . . . . . . . . . . .  -1.0\n",
      ". . . . . . . . . . . . . . . . . . + z z - . .  -1.0\n",
      ". . . . . . . . . . . . . . . . . . - z z + . .  -1.0\n",
      ". . . . . . . + - . . . . . . . . . . . . . . .  -1.0\n",
      ". . . . . . . - + . . . . . . . . . . . . . . .  -1.0\n",
      ". . . . . . . . . . . . . . . . . . . + - . . .  -1.0\n",
      ". . . . . . . . . . . . . . . . . . . - + . . .  -1.0\n",
      ". . . . . . . + z z - . . . . . . . . . . . . .  -1.0\n",
      ". . . . . . . - z z + . . . . . . . . . . . . .  -1.0\n",
      ". . . . . . . . . . . . . . . . . . . + z z - .  -1.0\n",
      ". . . . . . . . . . . . . . . . . . . - z z + .  -1.0\n",
      ". . . . . . . . + z z - . . . . . . . . . . . .  -1.0\n",
      ". . . . . . . . - z z + . . . . . . . . . . . .  -1.0\n",
      ". . . . . . . . . . . . . . . . . . . . + z z -  -1.0\n",
      ". . . . . . . . . . . . . . . . . . . . - z z +  -1.0\n",
      ". . . . . . . . . + - . . . . . . . . . . . . .  -1.0\n",
      ". . . . . . . . . - + . . . . . . . . . . . . .  -1.0\n",
      ". . . . . . . . . . . . . . . . . . . . . + - .  -1.0\n",
      ". . . . . . . . . . . . . . . . . . . . . - + .  -1.0\n",
      ". . . . . . . . . . + - . . . . . . . . . . . .  -1.0\n",
      ". . . . . . . . . . - + . . . . . . . . . . . .  -1.0\n",
      ". . . . . . . . . . . . . . . . . . . . . . + -  -1.0\n",
      ". . . . . . . . . . . . . . . . . . . . . . - +  -1.0\n",
      "n . . . . . . . . . . . n . . . . . . . . . . .  +2.0\n",
      ". n . . . . . . . . . . . n . . . . . . . . . .  +2.0\n",
      ". . n . . . . . . . . . . . n . . . . . . . . .  +2.0\n",
      ". . . n . . . . . . . . . . . n . . . . . . . .  +2.0\n",
      ". . . . n . . . . . . . . . . . n . . . . . . .  +2.0\n",
      ". . . . . n . . . . . . . . . . . n . . . . . .  +2.0\n",
      ". . . . . . n . . . . . . . . . . . n . . . . .  +2.0\n",
      ". . . . . . . n . . . . . . . . . . . n . . . .  +2.0\n",
      ". . . . . . . . n . . . . . . . . . . . n . . .  +2.0\n",
      ". . . . . . . . . n . . . . . . . . . . . n . .  +2.0\n",
      ". . . . . . . . . . n . . . . . . . . . . . n .  +2.0\n",
      ". . . . . . . . . . . n . . . . . . . . . . . n  +2.0\n"
     ]
    }
   ],
   "source": [
    "Lx = 4\n",
    "Ly = 3\n",
    "N = Lx * Ly\n",
    "num_up = 6\n",
    "num_down = 6\n",
    "subspace = ((N, num_up), (N, num_down))\n",
    "\n",
    "edges = qtn.edges_2d_square(Lx, Ly)\n",
    "H = fermi_hubbard_from_edges(edges, t=1.0, U=2.0)\n",
    "H.show()"
   ]
  },
  {
   "cell_type": "code",
   "execution_count": 4,
   "id": "8bbd8cdd-cbd8-479f-a620-94f4af0fb478",
   "metadata": {
    "tags": []
   },
   "outputs": [
    {
     "ename": "TypeError",
     "evalue": "Cannot interpret '12' as a data type",
     "output_type": "error",
     "traceback": [
      "\u001b[0;31m---------------------------------------------------------------------------\u001b[0m",
      "\u001b[0;31mTypeError\u001b[0m                                 Traceback (most recent call last)",
      "Cell \u001b[0;32mIn[4], line 1\u001b[0m\n\u001b[0;32m----> 1\u001b[0m sH \u001b[38;5;241m=\u001b[39m \u001b[43mH\u001b[49m\u001b[38;5;241;43m.\u001b[39;49m\u001b[43mbuild_sparse_matrix\u001b[49m\u001b[43m(\u001b[49m\u001b[38;5;241;43m*\u001b[39;49m\u001b[43msubspace\u001b[49m\u001b[43m,\u001b[49m\u001b[43m \u001b[49m\u001b[43mparallel\u001b[49m\u001b[38;5;241;43m=\u001b[39;49m\u001b[38;5;28;43;01mTrue\u001b[39;49;00m\u001b[43m)\u001b[49m\n\u001b[1;32m      2\u001b[0m sH\n",
      "File \u001b[0;32m/media/johnnie/Storage2TB/Sync/dev/python/quimb/quimb/experimental/operatorbuilder/operatorbuilder.py:589\u001b[0m, in \u001b[0;36mSparseOperatorBuilder.build_sparse_matrix\u001b[0;34m(self, stype, dtype, parallel)\u001b[0m\n\u001b[1;32m    570\u001b[0m \u001b[38;5;250m\u001b[39m\u001b[38;5;124;03m\"\"\"Build a sparse matrix in the given format. Optionally in parallel.\u001b[39;00m\n\u001b[1;32m    571\u001b[0m \n\u001b[1;32m    572\u001b[0m \u001b[38;5;124;03mParameters\u001b[39;00m\n\u001b[0;32m   (...)\u001b[0m\n\u001b[1;32m    585\u001b[0m \u001b[38;5;124;03mscipy.sparse matrix\u001b[39;00m\n\u001b[1;32m    586\u001b[0m \u001b[38;5;124;03m\"\"\"\u001b[39;00m\n\u001b[1;32m    587\u001b[0m \u001b[38;5;28;01mimport\u001b[39;00m\u001b[38;5;250m \u001b[39m\u001b[38;5;21;01mscipy\u001b[39;00m\u001b[38;5;21;01m.\u001b[39;00m\u001b[38;5;21;01msparse\u001b[39;00m\u001b[38;5;250m \u001b[39m\u001b[38;5;28;01mas\u001b[39;00m\u001b[38;5;250m \u001b[39m\u001b[38;5;21;01msp\u001b[39;00m\n\u001b[0;32m--> 589\u001b[0m coo, cis, cjs, d \u001b[38;5;241m=\u001b[39m \u001b[38;5;28;43mself\u001b[39;49m\u001b[38;5;241;43m.\u001b[39;49m\u001b[43mbuild_coo_data\u001b[49m\u001b[43m(\u001b[49m\n\u001b[1;32m    590\u001b[0m \u001b[43m    \u001b[49m\u001b[43mdtype\u001b[49m\u001b[38;5;241;43m=\u001b[39;49m\u001b[43mdtype\u001b[49m\u001b[43m,\u001b[49m\n\u001b[1;32m    591\u001b[0m \u001b[43m    \u001b[49m\u001b[43mparallel\u001b[49m\u001b[38;5;241;43m=\u001b[39;49m\u001b[43mparallel\u001b[49m\u001b[43m,\u001b[49m\n\u001b[1;32m    592\u001b[0m \u001b[43m\u001b[49m\u001b[43m)\u001b[49m\n\u001b[1;32m    593\u001b[0m A \u001b[38;5;241m=\u001b[39m sp\u001b[38;5;241m.\u001b[39mcoo_matrix((coo, (cis, cjs)), shape\u001b[38;5;241m=\u001b[39m(d, d))\n\u001b[1;32m    594\u001b[0m \u001b[38;5;28;01mif\u001b[39;00m stype \u001b[38;5;241m!=\u001b[39m \u001b[38;5;124m\"\u001b[39m\u001b[38;5;124mcoo\u001b[39m\u001b[38;5;124m\"\u001b[39m:\n",
      "File \u001b[0;32m/media/johnnie/Storage2TB/Sync/dev/python/quimb/quimb/experimental/operatorbuilder/operatorbuilder.py:510\u001b[0m, in \u001b[0;36mSparseOperatorBuilder.build_coo_data\u001b[0;34m(self, dtype, parallel)\u001b[0m\n\u001b[1;32m    484\u001b[0m \u001b[38;5;28;01mdef\u001b[39;00m\u001b[38;5;250m \u001b[39m\u001b[38;5;21mbuild_coo_data\u001b[39m(\u001b[38;5;28mself\u001b[39m, dtype\u001b[38;5;241m=\u001b[39m\u001b[38;5;28;01mNone\u001b[39;00m, parallel\u001b[38;5;241m=\u001b[39m\u001b[38;5;28;01mFalse\u001b[39;00m):\n\u001b[1;32m    485\u001b[0m \u001b[38;5;250m    \u001b[39m\u001b[38;5;124;03m\"\"\"Build the raw data for a sparse matrix in COO format, optionally\u001b[39;00m\n\u001b[1;32m    486\u001b[0m \u001b[38;5;124;03m    in parallel.\u001b[39;00m\n\u001b[1;32m    487\u001b[0m \n\u001b[0;32m   (...)\u001b[0m\n\u001b[1;32m    508\u001b[0m \u001b[38;5;124;03m        The total number of basis states.\u001b[39;00m\n\u001b[1;32m    509\u001b[0m \u001b[38;5;124;03m    \"\"\"\u001b[39;00m\n\u001b[0;32m--> 510\u001b[0m     dtype \u001b[38;5;241m=\u001b[39m \u001b[38;5;28;43mself\u001b[39;49m\u001b[38;5;241;43m.\u001b[39;49m\u001b[43mcalc_dtype\u001b[49m\u001b[43m(\u001b[49m\u001b[43mdtype\u001b[49m\u001b[43m)\u001b[49m\n\u001b[1;32m    511\u001b[0m     coupling_map \u001b[38;5;241m=\u001b[39m \u001b[38;5;28mself\u001b[39m\u001b[38;5;241m.\u001b[39mbuild_coupling_map(dtype\u001b[38;5;241m=\u001b[39mdtype)\n\u001b[1;32m    512\u001b[0m     kwargs \u001b[38;5;241m=\u001b[39m {\n\u001b[1;32m    513\u001b[0m         \u001b[38;5;124m\"\u001b[39m\u001b[38;5;124mcoupling_map\u001b[39m\u001b[38;5;124m\"\u001b[39m: coupling_map,\n\u001b[1;32m    514\u001b[0m         \u001b[38;5;124m\"\u001b[39m\u001b[38;5;124msector\u001b[39m\u001b[38;5;124m\"\u001b[39m: \u001b[38;5;28mself\u001b[39m\u001b[38;5;241m.\u001b[39mhilbert_space\u001b[38;5;241m.\u001b[39msector_numba,\n\u001b[1;32m    515\u001b[0m         \u001b[38;5;124m\"\u001b[39m\u001b[38;5;124msymmetry\u001b[39m\u001b[38;5;124m\"\u001b[39m: \u001b[38;5;28mself\u001b[39m\u001b[38;5;241m.\u001b[39mhilbert_space\u001b[38;5;241m.\u001b[39msymmetry,\n\u001b[1;32m    516\u001b[0m         \u001b[38;5;124m\"\u001b[39m\u001b[38;5;124mdtype\u001b[39m\u001b[38;5;124m\"\u001b[39m: dtype,\n\u001b[1;32m    517\u001b[0m     }\n",
      "File \u001b[0;32m/media/johnnie/Storage2TB/Sync/dev/python/quimb/quimb/experimental/operatorbuilder/operatorbuilder.py:453\u001b[0m, in \u001b[0;36mSparseOperatorBuilder.calc_dtype\u001b[0;34m(self, dtype)\u001b[0m\n\u001b[1;32m    439\u001b[0m \u001b[38;5;28;01mdef\u001b[39;00m\u001b[38;5;250m \u001b[39m\u001b[38;5;21mcalc_dtype\u001b[39m(\u001b[38;5;28mself\u001b[39m, dtype\u001b[38;5;241m=\u001b[39m\u001b[38;5;28;01mNone\u001b[39;00m):\n\u001b[1;32m    440\u001b[0m \u001b[38;5;250m    \u001b[39m\u001b[38;5;124;03m\"\"\"Calculate the numpy data type of the operator to use.\u001b[39;00m\n\u001b[1;32m    441\u001b[0m \n\u001b[1;32m    442\u001b[0m \u001b[38;5;124;03m    Parameters\u001b[39;00m\n\u001b[0;32m   (...)\u001b[0m\n\u001b[1;32m    451\u001b[0m \u001b[38;5;124;03m        The data type of the coefficients.\u001b[39;00m\n\u001b[1;32m    452\u001b[0m \u001b[38;5;124;03m    \"\"\"\u001b[39;00m\n\u001b[0;32m--> 453\u001b[0m     \u001b[38;5;28;01mreturn\u001b[39;00m \u001b[43mcalc_dtype_cached\u001b[49m\u001b[43m(\u001b[49m\u001b[43mdtype\u001b[49m\u001b[43m,\u001b[49m\u001b[43m \u001b[49m\u001b[38;5;28;43mself\u001b[39;49m\u001b[38;5;241;43m.\u001b[39;49m\u001b[43m_iscomplex\u001b[49m\u001b[43m)\u001b[49m\n",
      "File \u001b[0;32m/media/johnnie/Storage2TB/Sync/dev/python/quimb/quimb/experimental/operatorbuilder/operatorbuilder.py:228\u001b[0m, in \u001b[0;36mcalc_dtype_cached\u001b[0;34m(dtype, iscomplex)\u001b[0m\n\u001b[1;32m    226\u001b[0m         dtype \u001b[38;5;241m=\u001b[39m np\u001b[38;5;241m.\u001b[39mfloat64\n\u001b[1;32m    227\u001b[0m \u001b[38;5;28;01melse\u001b[39;00m:\n\u001b[0;32m--> 228\u001b[0m     \u001b[38;5;28;01mif\u001b[39;00m \u001b[43mnp\u001b[49m\u001b[38;5;241;43m.\u001b[39;49m\u001b[43missubdtype\u001b[49m\u001b[43m(\u001b[49m\u001b[43mdtype\u001b[49m\u001b[43m,\u001b[49m\u001b[43m \u001b[49m\u001b[43mnp\u001b[49m\u001b[38;5;241;43m.\u001b[39;49m\u001b[43mfloat64\u001b[49m\u001b[43m)\u001b[49m:\n\u001b[1;32m    229\u001b[0m         dtype \u001b[38;5;241m=\u001b[39m np\u001b[38;5;241m.\u001b[39mfloat64\n\u001b[1;32m    230\u001b[0m     \u001b[38;5;28;01melif\u001b[39;00m np\u001b[38;5;241m.\u001b[39missubdtype(dtype, np\u001b[38;5;241m.\u001b[39mcomplex128):\n",
      "File \u001b[0;32m~/miniforge3/envs/py311/lib/python3.11/site-packages/numpy/_core/numerictypes.py:529\u001b[0m, in \u001b[0;36missubdtype\u001b[0;34m(arg1, arg2)\u001b[0m\n\u001b[1;32m    472\u001b[0m \u001b[38;5;250m\u001b[39m\u001b[38;5;124mr\u001b[39m\u001b[38;5;124;03m\"\"\"\u001b[39;00m\n\u001b[1;32m    473\u001b[0m \u001b[38;5;124;03mReturns True if first argument is a typecode lower/equal in type hierarchy.\u001b[39;00m\n\u001b[1;32m    474\u001b[0m \n\u001b[0;32m   (...)\u001b[0m\n\u001b[1;32m    526\u001b[0m \n\u001b[1;32m    527\u001b[0m \u001b[38;5;124;03m\"\"\"\u001b[39;00m\n\u001b[1;32m    528\u001b[0m \u001b[38;5;28;01mif\u001b[39;00m \u001b[38;5;129;01mnot\u001b[39;00m issubclass_(arg1, generic):\n\u001b[0;32m--> 529\u001b[0m     arg1 \u001b[38;5;241m=\u001b[39m \u001b[43mdtype\u001b[49m\u001b[43m(\u001b[49m\u001b[43marg1\u001b[49m\u001b[43m)\u001b[49m\u001b[38;5;241m.\u001b[39mtype\n\u001b[1;32m    530\u001b[0m \u001b[38;5;28;01mif\u001b[39;00m \u001b[38;5;129;01mnot\u001b[39;00m issubclass_(arg2, generic):\n\u001b[1;32m    531\u001b[0m     arg2 \u001b[38;5;241m=\u001b[39m dtype(arg2)\u001b[38;5;241m.\u001b[39mtype\n",
      "\u001b[0;31mTypeError\u001b[0m: Cannot interpret '12' as a data type"
     ]
    }
   ],
   "source": [
    "sH = H.build_sparse_matrix(*subspace, parallel=True)\n",
    "sH"
   ]
  },
  {
   "cell_type": "code",
   "execution_count": 5,
   "id": "79e25430-781c-40b9-8c59-1e7ceaf039f2",
   "metadata": {
    "tags": []
   },
   "outputs": [
    {
     "data": {
      "text/plain": [
       "np.float64(-11.48187571377616)"
      ]
     },
     "execution_count": 5,
     "metadata": {},
     "output_type": "execute_result"
    }
   ],
   "source": [
    "qu.groundenergy(sH)"
   ]
  },
  {
   "cell_type": "code",
   "execution_count": 6,
   "id": "97e5641a-c714-4a03-8006-c7f3cda77b70",
   "metadata": {
    "tags": []
   },
   "outputs": [],
   "source": [
    "from quimb.gates import *"
   ]
  },
  {
   "cell_type": "code",
   "execution_count": 7,
   "id": "a9715111-aaff-4061-ae7d-c426538f7b98",
   "metadata": {
    "tags": []
   },
   "outputs": [
    {
     "data": {
      "text/plain": [
       "((3.0, (('z', 0), ('z', 2))),\n",
       " (2.0, (('z', 2),)),\n",
       " (np.float64(-1.0), (('z', 2), ('z', 1))))"
      ]
     },
     "execution_count": 7,
     "metadata": {},
     "output_type": "execute_result"
    }
   ],
   "source": [
    "builder = SparseOperatorBuilder()\n",
    "builder.add_term(3, ('z', 0), ('z', 2))\n",
    "builder.add_term(2, ['z', 2])\n",
    "builder.add_term(-1, ('z', 2), ('z', 1))\n",
    "builder.terms"
   ]
  },
  {
   "cell_type": "code",
   "execution_count": 8,
   "id": "5639d3bf-b00b-4bac-93c1-6e29a2a0ae80",
   "metadata": {},
   "outputs": [],
   "source": [
    "H_MPO = builder.build_mpo()"
   ]
  },
  {
   "cell_type": "code",
   "execution_count": 9,
   "id": "3a7578ed-733a-4150-94d9-048bcfc75c34",
   "metadata": {},
   "outputs": [
    {
     "data": {
      "text/plain": [
       "{(('z', 0), ('z', 2)): 3.0,\n",
       " (('z', 2),): 2.0,\n",
       " (('z', 2), ('z', 1)): np.float64(-1.0)}"
      ]
     },
     "execution_count": 9,
     "metadata": {},
     "output_type": "execute_result"
    }
   ],
   "source": [
    "builder._term_store"
   ]
  },
  {
   "cell_type": "code",
   "execution_count": 10,
   "id": "1442b3cb-4ccb-400c-a34d-baf7a94e063a",
   "metadata": {},
   "outputs": [
    {
     "name": "stdout",
     "output_type": "stream",
     "text": [
      "SparseOperatorBuilder(nsites=3, nterms=3, locality=2))\n",
      "z   z  +3.0\n",
      "    z  +2.0\n",
      "  z z  -1.0\n"
     ]
    }
   ],
   "source": [
    "builder.show(' ')"
   ]
  },
  {
   "cell_type": "code",
   "execution_count": 11,
   "id": "5b8651ca-e544-4cb0-8e56-f753f981dd95",
   "metadata": {},
   "outputs": [
    {
     "data": {
      "text/plain": [
       "[[ 4.+0.j  0.+0.j  0.+0.j  0.+0.j  0.+0.j  0.+0.j  0.+0.j  0.+0.j]\n",
       " [ 0.+0.j -2.+0.j  0.+0.j  0.+0.j  0.+0.j  0.+0.j  0.+0.j  0.+0.j]\n",
       " [ 0.+0.j  0.+0.j  6.+0.j  0.+0.j  0.+0.j  0.+0.j  0.+0.j  0.+0.j]\n",
       " [ 0.+0.j  0.+0.j  0.+0.j  0.+0.j  0.+0.j  0.+0.j  0.+0.j  0.+0.j]\n",
       " [ 0.+0.j  0.+0.j  0.+0.j  0.+0.j -4.+0.j  0.+0.j  0.+0.j  0.+0.j]\n",
       " [ 0.+0.j  0.+0.j  0.+0.j  0.+0.j  0.+0.j  2.+0.j  0.+0.j  0.+0.j]\n",
       " [ 0.+0.j  0.+0.j  0.+0.j  0.+0.j  0.+0.j  0.+0.j -6.+0.j -0.+0.j]\n",
       " [ 0.+0.j  0.+0.j  0.+0.j  0.+0.j  0.+0.j  0.+0.j -0.+0.j  0.+0.j]]"
      ]
     },
     "execution_count": 11,
     "metadata": {},
     "output_type": "execute_result"
    }
   ],
   "source": [
    "ex = 3 * (Z & I & Z) + 2 * (Z & I & I) - 1 * (Z & Z & I)\n",
    "ex"
   ]
  },
  {
   "cell_type": "code",
   "execution_count": 13,
   "id": "dabdee7c-3d9b-498a-a499-9dde528f9220",
   "metadata": {},
   "outputs": [
    {
     "data": {
      "text/plain": [
       "{0: {0: {0: (0, 3.0), 1: (1, -3.0)}, 2: {0: (0, 1.0), 1: (1, -1.0)}},\n",
       " 1: {2: {0: (0, 2.0), 1: (1, -2.0)}},\n",
       " 2: {2: {0: (0, -1.0), 1: (1, 1.0)}, 1: {0: (0, 1.0), 1: (1, -1.0)}}}"
      ]
     },
     "execution_count": 13,
     "metadata": {},
     "output_type": "execute_result"
    }
   ],
   "source": [
    "{\n",
    "    k: {kk: dict(vv) for kk, vv in v.items()}\n",
    "    for k, v in builder.build_coupling_map().items()\n",
    "}"
   ]
  },
  {
   "cell_type": "code",
   "execution_count": 14,
   "id": "0d3a7387-5d4f-4952-a472-8f3ebc98965e",
   "metadata": {},
   "outputs": [
    {
     "data": {
      "text/plain": [
       "([{0: np.int64(0), 1: np.int64(0), 2: np.int64(0)}], array([6.]))"
      ]
     },
     "execution_count": 14,
     "metadata": {},
     "output_type": "execute_result"
    }
   ],
   "source": [
    "builder.config_coupling({0: 0, 1: 0, 2: 0})"
   ]
  },
  {
   "cell_type": "code",
   "execution_count": 14,
   "id": "92995886-3049-40e8-bfe2-cc75b3478684",
   "metadata": {},
   "outputs": [
    {
     "name": "stderr",
     "output_type": "stream",
     "text": [
      "/media/johnnie/Storage2TB/Sync/dev/python/quimb/quimb/experimental/operatorbuilder/operatorbuilder.py:1435: NumbaTypeSafetyWarning: \u001b[1m\u001b[1m\u001b[1munsafe cast from int64 to undefined. Precision may be lost.\u001b[0m\u001b[0m\u001b[0m\n",
      "  ci = bitmap[bi]\n"
     ]
    },
    {
     "data": {
      "text/plain": [
       "[[ 0.+0.j  0.+0.j  0.+0.j  0.+0.j  0.+0.j  0.+0.j  0.+0.j  0.+0.j]\n",
       " [ 0.+0.j  0.+0.j  0.+0.j  0.+0.j  0.+0.j  0.+0.j  0.+0.j  0.+0.j]\n",
       " [ 0.+0.j  0.+0.j  0.+0.j  0.+0.j  0.+0.j  0.+0.j  0.+0.j  0.+0.j]\n",
       " [ 0.+0.j  0.+0.j  0.+0.j  0.+0.j  0.+0.j  0.+0.j  0.+0.j  0.+0.j]\n",
       " [ 0.+0.j  0.+0.j  0.+0.j  0.+0.j  0.+0.j  0.+0.j  0.+0.j  0.+0.j]\n",
       " [ 0.+0.j  0.+0.j  0.+0.j  0.+0.j  0.+0.j  0.+0.j  0.+0.j  0.+0.j]\n",
       " [ 0.+0.j  0.+0.j  0.+0.j  0.+0.j  0.+0.j  0.+0.j  0.+0.j -0.+0.j]\n",
       " [ 0.+0.j  0.+0.j  0.+0.j  0.+0.j  0.+0.j  0.+0.j -0.+0.j  0.+0.j]]"
      ]
     },
     "execution_count": 14,
     "metadata": {},
     "output_type": "execute_result"
    }
   ],
   "source": [
    "ex - builder.build_dense()"
   ]
  },
  {
   "cell_type": "code",
   "execution_count": 15,
   "id": "7e8e9f5c-5c7b-4a65-b193-08c94e1256d3",
   "metadata": {},
   "outputs": [
    {
     "data": {
      "image/svg+xml": [
       "<?xml version=\"1.0\" encoding=\"UTF-8\"?><!DOCTYPE svg  PUBLIC '-//W3C//DTD SVG 1.1//EN'  'http://www.w3.org/Graphics/SVG/1.1/DTD/svg11.dtd'><svg width=\"181.8pt\" height=\"84.887pt\" version=\"1.1\" viewBox=\"0 0 181.8 84.887\" xmlns=\"http://www.w3.org/2000/svg\" xmlns:xlink=\"http://www.w3.org/1999/xlink\"><defs><style type=\"text/css\">*{stroke-linejoin: round; stroke-linecap: butt}</style></defs><path d=\"m0 84.887h181.8v-84.887h-181.8v84.887z\" opacity=\"0\"/><g fill=\"none\" stroke=\"#0072b2\" stroke-linecap=\"round\"><path d=\"m30.125 53.4q18.925 0 36.733 0\" opacity=\".75\"/><path d=\"m62.858 51.4 4 2-4 2\" opacity=\".75\"/></g><g transform=\"translate(32.796 50.56) scale(.1 -.1)\" fill=\"#0072b2\"><defs><path id=\"DejaVuSans-7a\" transform=\"scale(.015625)\" d=\"m353 3500h2731v-525l-2162-2516h2162v-459h-2809v525l2163 2516h-2085v459z\"/><path id=\"DejaVuSans-2a\" transform=\"scale(.015625)\" d=\"m3009 3897-1121-606 1121-610-181-306-1050 634v-1178h-356v1178l-1050-634-181 306 1122 610-1122 606 181 309 1050-634v1178h356v-1178l1050 634 181-309z\"/><path id=\"DejaVuSans-33\" transform=\"scale(.015625)\" d=\"m2597 2516q453-97 707-404 255-306 255-756 0-690-475-1069-475-378-1350-378-293 0-604 58t-642 174v609q262-153 574-231 313-78 654-78 593 0 904 234t311 681q0 413-289 645-289 233-804 233h-544v519h569q465 0 712 186t247 536q0 359-255 551-254 193-729 193-260 0-557-57-297-56-653-174v562q360 100 674 150t592 50q719 0 1137-327 419-326 419-882 0-388-222-655t-631-370z\"/><path id=\"DejaVuSans-2e\" transform=\"scale(.015625)\" d=\"m684 794h660v-794h-660v794z\"/><path id=\"DejaVuSans-30\" transform=\"scale(.015625)\" d=\"m2034 4250q-487 0-733-480-245-479-245-1442 0-959 245-1439 246-480 733-480 491 0 736 480 246 480 246 1439 0 963-246 1442-245 480-736 480zm0 500q785 0 1199-621 414-620 414-1801 0-1178-414-1799-414-620-1199-620-784 0-1198 620-414 621-414 1799 0 1181 414 1801 414 621 1198 621z\"/></defs><use xlink:href=\"#DejaVuSans-7a\"/><use x=\"52.490234\" xlink:href=\"#DejaVuSans-20\"/><use x=\"84.277344\" xlink:href=\"#DejaVuSans-2a\"/><use x=\"134.277344\" xlink:href=\"#DejaVuSans-20\"/><use x=\"166.064453\" xlink:href=\"#DejaVuSans-33\"/><use x=\"229.6875\" xlink:href=\"#DejaVuSans-2e\"/><use x=\"261.474609\" xlink:href=\"#DejaVuSans-30\"/></g><g fill=\"none\" stroke=\"#808080\" stroke-linecap=\"round\" stroke-width=\"1.585\"><path d=\"m29.956 52.591q19.095-8.4317 36.568-16.148\" opacity=\".75\"/><path d=\"m62.057 36.23 4.467 0.21378-2.8512 3.4454\" opacity=\".75\"/></g><g transform=\"translate(46.554 42.158) rotate(-23.825) scale(.1 -.1)\" fill=\"#808080\"><defs><path id=\"DejaVuSans-49\" transform=\"scale(.015625)\" d=\"m628 4666h631v-4666h-631v4666z\"/></defs><use xlink:href=\"#DejaVuSans-49\"/></g><g fill=\"none\" stroke=\"#808080\" stroke-linecap=\"round\"><path d=\"m71.975 53.4q18.925 0 36.733 0\" opacity=\".75\"/><path d=\"m104.71 51.4 4 2-4 2\" opacity=\".75\"/></g><g transform=\"translate(89.425 50.56) scale(.1 -.1)\" fill=\"#808080\"><use xlink:href=\"#DejaVuSans-49\"/></g><g fill=\"none\" stroke=\"#0072b2\" stroke-linecap=\"round\" stroke-width=\"1.585\"><path d=\"m113.83 53.4q18.925 0 36.079 0\" opacity=\".75\"/><path d=\"m145.9 51.4 4 2-4 2\" opacity=\".75\"/></g><g transform=\"translate(130.13 50.56) scale(.1 -.1)\" fill=\"#0072b2\"><use xlink:href=\"#DejaVuSans-7a\"/></g><g fill=\"none\" stroke=\"#808080\" stroke-linecap=\"round\"><path d=\"m71.806 35.729q19.095 8.4317 37.166 16.412\" opacity=\".75\"/><path d=\"m106.12 48.695 2.8512 3.4454-4.467 0.21378\" opacity=\".75\"/></g><g transform=\"translate(78.23 35.461) rotate(23.825) scale(.1 -.1)\" fill=\"#808080\"><defs><path id=\"DejaVuSans-32\" transform=\"scale(.015625)\" d=\"m1228 531h2203v-531h-2962v531q359 372 979 998 621 627 780 809 303 340 423 576 121 236 121 464 0 372-261 606-261 235-680 235-297 0-627-103-329-103-704-313v638q381 153 712 231 332 78 607 78 725 0 1156-363 431-362 431-968 0-288-108-546-107-257-392-607-78-91-497-524-418-433-1181-1211z\"/></defs><use xlink:href=\"#DejaVuSans-49\"/><use x=\"29.492188\" xlink:href=\"#DejaVuSans-20\"/><use x=\"61.279297\" xlink:href=\"#DejaVuSans-2a\"/><use x=\"111.279297\" xlink:href=\"#DejaVuSans-20\"/><use x=\"143.066406\" xlink:href=\"#DejaVuSans-32\"/><use x=\"206.689453\" xlink:href=\"#DejaVuSans-2e\"/><use x=\"238.476562\" xlink:href=\"#DejaVuSans-30\"/></g><g fill=\"none\" stroke=\"#0072b2\" stroke-linecap=\"round\"><path d=\"m71.975 34.92q18.925 0 36.733 0\" opacity=\".75\"/><path d=\"m104.71 32.92 4 2-4 2\" opacity=\".75\"/></g><g transform=\"translate(72.842 32.08) scale(.1 -.1)\" fill=\"#0072b2\"><defs><path id=\"DejaVuSans-2d\" transform=\"scale(.015625)\" d=\"m313 2009h1684v-512h-1684v512z\"/><path id=\"DejaVuSans-31\" transform=\"scale(.015625)\" d=\"m794 531h1031v3560l-1122-225v575l1116 225h631v-4135h1031v-531h-2687v531z\"/></defs><use xlink:href=\"#DejaVuSans-7a\"/><use x=\"52.490234\" xlink:href=\"#DejaVuSans-20\"/><use x=\"84.277344\" xlink:href=\"#DejaVuSans-2a\"/><use x=\"134.277344\" xlink:href=\"#DejaVuSans-20\"/><use x=\"166.064453\" xlink:href=\"#DejaVuSans-2d\"/><use x=\"202.148438\" xlink:href=\"#DejaVuSans-31\"/><use x=\"265.771484\" xlink:href=\"#DejaVuSans-2e\"/><use x=\"297.558594\" xlink:href=\"#DejaVuSans-30\"/></g><g fill=\"none\" stroke=\"#0072b2\" stroke-linecap=\"round\"><path d=\"m113.66 35.729q19.095 8.4317 37.166 16.412\" opacity=\".75\"/><path d=\"m147.97 48.695 2.8512 3.4454-4.467 0.21378\" opacity=\".75\"/></g><g transform=\"translate(131.5 40.502) rotate(23.825) scale(.1 -.1)\" fill=\"#0072b2\"><use xlink:href=\"#DejaVuSans-7a\"/></g><g transform=\"translate(40.23 75.191) scale(.12 -.12)\" fill=\"#808080\"><defs><path id=\"DejaVuSans-Oblique-57\" transform=\"scale(.015625)\" d=\"m616 4666h612l225-3969 1760 3969h703l231-3969 1741 3969h640l-2075-4666h-794l-215 3891-1747-3891h-794l-287 4666z\"/></defs><use transform=\"translate(0 .09375)\" xlink:href=\"#DejaVuSans-Oblique-57\"/><use transform=\"translate(98.877 -16.312) scale(.7)\" xlink:href=\"#DejaVuSans-30\"/></g><g transform=\"translate(82.08 75.191) scale(.12 -.12)\" fill=\"#808080\"><use transform=\"translate(0 .09375)\" xlink:href=\"#DejaVuSans-Oblique-57\"/><use transform=\"translate(98.877 -16.312) scale(.7)\" xlink:href=\"#DejaVuSans-31\"/></g><g transform=\"translate(123.93 75.191) scale(.12 -.12)\" fill=\"#808080\"><use transform=\"translate(0 .09375)\" xlink:href=\"#DejaVuSans-Oblique-57\"/><use transform=\"translate(98.877 -16.312) scale(.7)\" xlink:href=\"#DejaVuSans-32\"/></g></svg>"
      ],
      "text/plain": [
       "<Figure size 300x100 with 1 Axes>"
      ]
     },
     "metadata": {
      "needs_background": "light"
     },
     "output_type": "display_data"
    }
   ],
   "source": [
    "builder.draw_state_machine()"
   ]
  },
  {
   "cell_type": "code",
   "execution_count": 18,
   "id": "2cfdb1be-f898-423a-906b-0fab3d31faeb",
   "metadata": {},
   "outputs": [],
   "source": [
    "Lx = 4\n",
    "Ly = 3\n",
    "N = Lx * Ly\n",
    "num_up = 6\n",
    "num_down = 6\n",
    "subspace = ((N, num_up), (N, num_down))"
   ]
  },
  {
   "cell_type": "code",
   "execution_count": 19,
   "id": "7798182d-7c64-4546-8c90-e75d78eaecc5",
   "metadata": {},
   "outputs": [
    {
     "name": "stdout",
     "output_type": "stream",
     "text": [
      "SparseOperatorBuilder(nsites=24, nterms=80, locality=4))\n",
      "+ - . . . . . . . . . . . . . . . . . . . . . .  -1.0\n",
      "- + . . . . . . . . . . . . . . . . . . . . . .  -1.0\n",
      ". . . . . . . . . . . . + - . . . . . . . . . .  -1.0\n",
      ". . . . . . . . . . . . - + . . . . . . . . . .  -1.0\n",
      "+ z z - . . . . . . . . . . . . . . . . . . . .  -1.0\n",
      "- z z + . . . . . . . . . . . . . . . . . . . .  -1.0\n",
      ". . . . . . . . . . . . + z z - . . . . . . . .  -1.0\n",
      ". . . . . . . . . . . . - z z + . . . . . . . .  -1.0\n",
      ". + - . . . . . . . . . . . . . . . . . . . . .  -1.0\n",
      ". - + . . . . . . . . . . . . . . . . . . . . .  -1.0\n",
      ". . . . . . . . . . . . . + - . . . . . . . . .  -1.0\n",
      ". . . . . . . . . . . . . - + . . . . . . . . .  -1.0\n",
      ". + z z - . . . . . . . . . . . . . . . . . . .  -1.0\n",
      ". - z z + . . . . . . . . . . . . . . . . . . .  -1.0\n",
      ". . . . . . . . . . . . . + z z - . . . . . . .  -1.0\n",
      ". . . . . . . . . . . . . - z z + . . . . . . .  -1.0\n",
      ". . + z z - . . . . . . . . . . . . . . . . . .  -1.0\n",
      ". . - z z + . . . . . . . . . . . . . . . . . .  -1.0\n",
      ". . . . . . . . . . . . . . + z z - . . . . . .  -1.0\n",
      ". . . . . . . . . . . . . . - z z + . . . . . .  -1.0\n",
      ". . . + - . . . . . . . . . . . . . . . . . . .  -1.0\n",
      ". . . - + . . . . . . . . . . . . . . . . . . .  -1.0\n",
      ". . . . . . . . . . . . . . . + - . . . . . . .  -1.0\n",
      ". . . . . . . . . . . . . . . - + . . . . . . .  -1.0\n",
      ". . . + z z - . . . . . . . . . . . . . . . . .  -1.0\n",
      ". . . - z z + . . . . . . . . . . . . . . . . .  -1.0\n",
      ". . . . . . . . . . . . . . . + z z - . . . . .  -1.0\n",
      ". . . . . . . . . . . . . . . - z z + . . . . .  -1.0\n",
      ". . . . + - . . . . . . . . . . . . . . . . . .  -1.0\n",
      ". . . . - + . . . . . . . . . . . . . . . . . .  -1.0\n",
      ". . . . . . . . . . . . . . . . + - . . . . . .  -1.0\n",
      ". . . . . . . . . . . . . . . . - + . . . . . .  -1.0\n",
      ". . . . + z z - . . . . . . . . . . . . . . . .  -1.0\n",
      ". . . . - z z + . . . . . . . . . . . . . . . .  -1.0\n",
      ". . . . . . . . . . . . . . . . + z z - . . . .  -1.0\n",
      ". . . . . . . . . . . . . . . . - z z + . . . .  -1.0\n",
      ". . . . . + z z - . . . . . . . . . . . . . . .  -1.0\n",
      ". . . . . - z z + . . . . . . . . . . . . . . .  -1.0\n",
      ". . . . . . . . . . . . . . . . . + z z - . . .  -1.0\n",
      ". . . . . . . . . . . . . . . . . - z z + . . .  -1.0\n",
      ". . . . . . + - . . . . . . . . . . . . . . . .  -1.0\n",
      ". . . . . . - + . . . . . . . . . . . . . . . .  -1.0\n",
      ". . . . . . . . . . . . . . . . . . + - . . . .  -1.0\n",
      ". . . . . . . . . . . . . . . . . . - + . . . .  -1.0\n",
      ". . . . . . + z z - . . . . . . . . . . . . . .  -1.0\n",
      ". . . . . . - z z + . . . . . . . . . . . . . .  -1.0\n",
      ". . . . . . . . . . . . . . . . . . + z z - . .  -1.0\n",
      ". . . . . . . . . . . . . . . . . . - z z + . .  -1.0\n",
      ". . . . . . . + - . . . . . . . . . . . . . . .  -1.0\n",
      ". . . . . . . - + . . . . . . . . . . . . . . .  -1.0\n",
      ". . . . . . . . . . . . . . . . . . . + - . . .  -1.0\n",
      ". . . . . . . . . . . . . . . . . . . - + . . .  -1.0\n",
      ". . . . . . . + z z - . . . . . . . . . . . . .  -1.0\n",
      ". . . . . . . - z z + . . . . . . . . . . . . .  -1.0\n",
      ". . . . . . . . . . . . . . . . . . . + z z - .  -1.0\n",
      ". . . . . . . . . . . . . . . . . . . - z z + .  -1.0\n",
      ". . . . . . . . + z z - . . . . . . . . . . . .  -1.0\n",
      ". . . . . . . . - z z + . . . . . . . . . . . .  -1.0\n",
      ". . . . . . . . . . . . . . . . . . . . + z z -  -1.0\n",
      ". . . . . . . . . . . . . . . . . . . . - z z +  -1.0\n",
      ". . . . . . . . . + - . . . . . . . . . . . . .  -1.0\n",
      ". . . . . . . . . - + . . . . . . . . . . . . .  -1.0\n",
      ". . . . . . . . . . . . . . . . . . . . . + - .  -1.0\n",
      ". . . . . . . . . . . . . . . . . . . . . - + .  -1.0\n",
      ". . . . . . . . . . + - . . . . . . . . . . . .  -1.0\n",
      ". . . . . . . . . . - + . . . . . . . . . . . .  -1.0\n",
      ". . . . . . . . . . . . . . . . . . . . . . + -  -1.0\n",
      ". . . . . . . . . . . . . . . . . . . . . . - +  -1.0\n",
      "n . . . . . . . . . . . n . . . . . . . . . . .  +1.0\n",
      ". n . . . . . . . . . . . n . . . . . . . . . .  +1.0\n",
      ". . n . . . . . . . . . . . n . . . . . . . . .  +1.0\n",
      ". . . n . . . . . . . . . . . n . . . . . . . .  +1.0\n",
      ". . . . n . . . . . . . . . . . n . . . . . . .  +1.0\n",
      ". . . . . n . . . . . . . . . . . n . . . . . .  +1.0\n",
      ". . . . . . n . . . . . . . . . . . n . . . . .  +1.0\n",
      ". . . . . . . n . . . . . . . . . . . n . . . .  +1.0\n",
      ". . . . . . . . n . . . . . . . . . . . n . . .  +1.0\n",
      ". . . . . . . . . n . . . . . . . . . . . n . .  +1.0\n",
      ". . . . . . . . . . n . . . . . . . . . . . n .  +1.0\n",
      ". . . . . . . . . . . n . . . . . . . . . . . n  +1.0\n"
     ]
    }
   ],
   "source": [
    "edges = qtn.edges_2d_square(Lx, Ly)\n",
    "H = fermi_hubbard_from_edges(edges)\n",
    "H.show('.')"
   ]
  },
  {
   "cell_type": "code",
   "execution_count": 20,
   "id": "2eaae283-b56f-4a80-aecc-c7bd1291dd4b",
   "metadata": {},
   "outputs": [],
   "source": [
    "H._term_store\n",
    "\n",
    "\n",
    "old_term_store = H._term_store.copy()\n",
    "H._term_store.clear()\n",
    "\n",
    "for term, coeff in old_term_store.items():\n",
    "    ops, site = zip(*term)\n",
    "    if {'+', '-'}.intersection(ops):\n",
    "\n",
    "        new_term = []\n",
    "        for op, site in term:\n",
    "            reg = H.site_to_reg(site)\n",
    "            if op in {'+', '-'}:\n",
    "                for r in range(reg):\n",
    "                    new_term.append(('z', H.reg_to_site(r)))\n",
    "            new_term.append((op, site))\n",
    "\n",
    "        H.add_term(coeff, *new_term)\n",
    "    else:\n",
    "        H.add_term(coeff, *term)"
   ]
  },
  {
   "cell_type": "code",
   "execution_count": 21,
   "id": "c33f56c3-2aa1-44d9-95af-689ff829d3f0",
   "metadata": {},
   "outputs": [
    {
     "name": "stdout",
     "output_type": "stream",
     "text": [
      "SparseOperatorBuilder(nsites=24, nterms=80, locality=2))\n",
      "+ -                                              -1.0\n",
      "- +                                              +1.0\n",
      "                        + -                      -1.0\n",
      "                        - +                      +1.0\n",
      "+     -                                          -1.0\n",
      "-     +                                          +1.0\n",
      "                        +     -                  -1.0\n",
      "                        -     +                  +1.0\n",
      "  + -                                            -1.0\n",
      "  - +                                            +1.0\n",
      "                          + -                    -1.0\n",
      "                          - +                    +1.0\n",
      "  +     -                                        -1.0\n",
      "  -     +                                        +1.0\n",
      "                          +     -                -1.0\n",
      "                          -     +                +1.0\n",
      "    +     -                                      -1.0\n",
      "    -     +                                      +1.0\n",
      "                            +     -              -1.0\n",
      "                            -     +              +1.0\n",
      "      + -                                        -1.0\n",
      "      - +                                        +1.0\n",
      "                              + -                -1.0\n",
      "                              - +                +1.0\n",
      "      +     -                                    -1.0\n",
      "      -     +                                    +1.0\n",
      "                              +     -            -1.0\n",
      "                              -     +            +1.0\n",
      "        + -                                      -1.0\n",
      "        - +                                      +1.0\n",
      "                                + -              -1.0\n",
      "                                - +              +1.0\n",
      "        +     -                                  -1.0\n",
      "        -     +                                  +1.0\n",
      "                                +     -          -1.0\n",
      "                                -     +          +1.0\n",
      "          +     -                                -1.0\n",
      "          -     +                                +1.0\n",
      "                                  +     -        -1.0\n",
      "                                  -     +        +1.0\n",
      "            + -                                  -1.0\n",
      "            - +                                  +1.0\n",
      "                                    + -          -1.0\n",
      "                                    - +          +1.0\n",
      "            +     -                              -1.0\n",
      "            -     +                              +1.0\n",
      "                                    +     -      -1.0\n",
      "                                    -     +      +1.0\n",
      "              + -                                -1.0\n",
      "              - +                                +1.0\n",
      "                                      + -        -1.0\n",
      "                                      - +        +1.0\n",
      "              +     -                            -1.0\n",
      "              -     +                            +1.0\n",
      "                                      +     -    -1.0\n",
      "                                      -     +    +1.0\n",
      "                +     -                          -1.0\n",
      "                -     +                          +1.0\n",
      "                                        +     -  -1.0\n",
      "                                        -     +  +1.0\n",
      "                  + -                            -1.0\n",
      "                  - +                            +1.0\n",
      "                                          + -    -1.0\n",
      "                                          - +    +1.0\n",
      "                    + -                          -1.0\n",
      "                    - +                          +1.0\n",
      "                                            + -  -1.0\n",
      "                                            - +  +1.0\n",
      "n                       n                        +1.0\n",
      "  n                       n                      +1.0\n",
      "    n                       n                    +1.0\n",
      "      n                       n                  +1.0\n",
      "        n                       n                +1.0\n",
      "          n                       n              +1.0\n",
      "            n                       n            +1.0\n",
      "              n                       n          +1.0\n",
      "                n                       n        +1.0\n",
      "                  n                       n      +1.0\n",
      "                    n                       n    +1.0\n",
      "                      n                       n  +1.0\n"
     ]
    }
   ],
   "source": [
    "H.show(' ')"
   ]
  },
  {
   "cell_type": "markdown",
   "id": "7711d4d1-27b2-4bd2-bc26-35fe09e90e26",
   "metadata": {},
   "source": [
    "# build a sparse matrix to find groundstate of"
   ]
  },
  {
   "cell_type": "code",
   "execution_count": 22,
   "id": "f691720e-4c74-4c9e-a107-f528dc9ef0fe",
   "metadata": {},
   "outputs": [
    {
     "name": "stdout",
     "output_type": "stream",
     "text": [
      "CPU times: user 11.1 s, sys: 1.02 s, total: 12.1 s\n",
      "Wall time: 3.11 s\n"
     ]
    },
    {
     "data": {
      "text/plain": [
       "<Compressed Sparse Row sparse matrix of dtype 'float64'\n",
       "\twith 16686516 stored elements and shape (853776, 853776)>"
      ]
     },
     "execution_count": 22,
     "metadata": {},
     "output_type": "execute_result"
    }
   ],
   "source": [
    "%%time\n",
    "S = H.build_sparse_matrix(*subspace, parallel=True)\n",
    "S"
   ]
  },
  {
   "cell_type": "code",
   "execution_count": 23,
   "id": "0a883698-5a15-4726-95b1-0293f3dccf97",
   "metadata": {},
   "outputs": [
    {
     "name": "stdout",
     "output_type": "stream",
     "text": [
      "CPU times: user 2min 48s, sys: 2.84 s, total: 2min 51s\n",
      "Wall time: 24 s\n"
     ]
    },
    {
     "data": {
      "text/plain": [
       "array([-17.53174229])"
      ]
     },
     "execution_count": 23,
     "metadata": {},
     "output_type": "execute_result"
    }
   ],
   "source": [
    "%%time\n",
    "ge, gs = qu.eigh(S, k=1, which='SA')\n",
    "ge"
   ]
  },
  {
   "cell_type": "markdown",
   "id": "226f1150-543a-44fe-bd83-0bafb3f3c417",
   "metadata": {},
   "source": [
    "# construct and find the expectation value of a different operator"
   ]
  },
  {
   "cell_type": "code",
   "execution_count": 24,
   "id": "a53940f3-3195-43b4-8048-aa1a2cac46cd",
   "metadata": {},
   "outputs": [
    {
     "data": {
      "text/plain": [
       "853776"
      ]
     },
     "execution_count": 24,
     "metadata": {},
     "output_type": "execute_result"
    }
   ],
   "source": [
    "hs = H.hilbert_space\n",
    "hs.get_size(*subspace)"
   ]
  },
  {
   "cell_type": "code",
   "execution_count": 25,
   "id": "8dcae470-ff1a-45c7-b62a-d5636c711658",
   "metadata": {},
   "outputs": [],
   "source": [
    "C = SparseOperatorBuilder(\n",
    "    terms=[\n",
    "        (1.0, ('+', ('↑', (1, 1))), ('-', ('↑', (2, 1)))),\n",
    "    ],\n",
    "    # need to embed into larger Hilbert space of Hamiltonian\n",
    "    hilbert_space=hs\n",
    ")\n",
    "\n",
    "# ensure fermionic\n",
    "C.jordan_wigner_transform()"
   ]
  },
  {
   "cell_type": "code",
   "execution_count": 26,
   "id": "8974d469-cf9b-417e-aada-dea44bc73d4d",
   "metadata": {},
   "outputs": [
    {
     "name": "stdout",
     "output_type": "stream",
     "text": [
      "SparseOperatorBuilder(nsites=24, nterms=1, locality=4))\n",
      ". . . . + z z - . . . . . . . . . . . . . . . .  +1.0\n"
     ]
    }
   ],
   "source": [
    "C.show()"
   ]
  },
  {
   "cell_type": "code",
   "execution_count": 27,
   "id": "25912957-fdb1-461e-9db8-916acdf66f69",
   "metadata": {},
   "outputs": [
    {
     "data": {
      "text/plain": [
       "<Compressed Sparse Row sparse matrix of dtype 'float64'\n",
       "\twith 232848 stored elements and shape (853776, 853776)>"
      ]
     },
     "execution_count": 27,
     "metadata": {},
     "output_type": "execute_result"
    }
   ],
   "source": [
    "# build sparse matrix\n",
    "CS = C.build_sparse_matrix(*subspace, parallel=True)\n",
    "CS"
   ]
  },
  {
   "cell_type": "code",
   "execution_count": 28,
   "id": "3fefdb98-9daf-4b09-b5a3-368841ef65cf",
   "metadata": {},
   "outputs": [
    {
     "data": {
      "text/plain": [
       "np.float64(-0.001535823796000976)"
      ]
     },
     "execution_count": 28,
     "metadata": {},
     "output_type": "execute_result"
    }
   ],
   "source": [
    "# find the groundstate expectation\n",
    "qu.expec(CS, gs)"
   ]
  },
  {
   "cell_type": "markdown",
   "id": "43d9f1b8-2c2d-42ef-ab71-e19bb9782594",
   "metadata": {},
   "source": [
    "# VMC usage\n",
    "\n",
    "For VMC we just need to compute coupling between computation basis\n",
    "configurations (i.e. a single row of the sparse matrix)."
   ]
  },
  {
   "cell_type": "code",
   "execution_count": 29,
   "id": "81cc49d3-222b-408e-97ff-7efb91efec2b",
   "metadata": {},
   "outputs": [
    {
     "data": {
      "text/plain": [
       "{('↑', (0, 0)): 0,\n",
       " ('↑', (0, 1)): 0,\n",
       " ('↑', (0, 2)): 0,\n",
       " ('↑', (1, 0)): 1,\n",
       " ('↑', (1, 1)): 1,\n",
       " ('↑', (1, 2)): 0,\n",
       " ('↑', (2, 0)): 1,\n",
       " ('↑', (2, 1)): 0,\n",
       " ('↑', (2, 2)): 0,\n",
       " ('↑', (3, 0)): 0,\n",
       " ('↑', (3, 1)): 1,\n",
       " ('↑', (3, 2)): 1,\n",
       " ('↓', (0, 0)): 1,\n",
       " ('↓', (0, 1)): 1,\n",
       " ('↓', (0, 2)): 0,\n",
       " ('↓', (1, 0)): 0,\n",
       " ('↓', (1, 1)): 1,\n",
       " ('↓', (1, 2)): 0,\n",
       " ('↓', (2, 0)): 0,\n",
       " ('↓', (2, 1)): 0,\n",
       " ('↓', (2, 2)): 1,\n",
       " ('↓', (3, 0)): 0,\n",
       " ('↓', (3, 1)): 0,\n",
       " ('↓', (3, 2)): 1}"
      ]
     },
     "execution_count": 29,
     "metadata": {},
     "output_type": "execute_result"
    }
   ],
   "source": [
    "config = hs.rand_config()\n",
    "config"
   ]
  },
  {
   "cell_type": "code",
   "execution_count": 30,
   "id": "73ce7587-5a44-4e2e-878c-afe20a8d6139",
   "metadata": {},
   "outputs": [],
   "source": [
    "configs, coeffs = H.config_coupling(config)"
   ]
  },
  {
   "cell_type": "code",
   "execution_count": 31,
   "id": "5f2fe452-ccb3-4e9f-bf8a-4885a992cd10",
   "metadata": {},
   "outputs": [
    {
     "name": "stdout",
     "output_type": "stream",
     "text": [
      "[{('↑', (0, 0)): np.int64(1), ('↑', (0, 1)): np.int64(0), ('↑', (0, 2)): np.int64(0), ('↑', (1, 0)): np.int64(0), ('↑', (1, 1)): np.int64(1), ('↑', (1, 2)): np.int64(0), ('↑', (2, 0)): np.int64(1), ('↑', (2, 1)): np.int64(0), ('↑', (2, 2)): np.int64(0), ('↑', (3, 0)): np.int64(0), ('↑', (3, 1)): np.int64(1), ('↑', (3, 2)): np.int64(1), ('↓', (0, 0)): np.int64(1), ('↓', (0, 1)): np.int64(1), ('↓', (0, 2)): np.int64(0), ('↓', (1, 0)): np.int64(0), ('↓', (1, 1)): np.int64(1), ('↓', (1, 2)): np.int64(0), ('↓', (2, 0)): np.int64(0), ('↓', (2, 1)): np.int64(0), ('↓', (2, 2)): np.int64(1), ('↓', (3, 0)): np.int64(0), ('↓', (3, 1)): np.int64(0), ('↓', (3, 2)): np.int64(1)}, {('↑', (0, 0)): np.int64(0), ('↑', (0, 1)): np.int64(0), ('↑', (0, 2)): np.int64(0), ('↑', (1, 0)): np.int64(1), ('↑', (1, 1)): np.int64(1), ('↑', (1, 2)): np.int64(0), ('↑', (2, 0)): np.int64(1), ('↑', (2, 1)): np.int64(0), ('↑', (2, 2)): np.int64(0), ('↑', (3, 0)): np.int64(0), ('↑', (3, 1)): np.int64(1), ('↑', (3, 2)): np.int64(1), ('↓', (0, 0)): np.int64(0), ('↓', (0, 1)): np.int64(1), ('↓', (0, 2)): np.int64(0), ('↓', (1, 0)): np.int64(1), ('↓', (1, 1)): np.int64(1), ('↓', (1, 2)): np.int64(0), ('↓', (2, 0)): np.int64(0), ('↓', (2, 1)): np.int64(0), ('↓', (2, 2)): np.int64(1), ('↓', (3, 0)): np.int64(0), ('↓', (3, 1)): np.int64(0), ('↓', (3, 2)): np.int64(1)}] ...\n"
     ]
    },
    {
     "data": {
      "text/plain": [
       "array([1., 1., 1., 1., 1., 1., 1., 1., 1., 1., 1., 1., 1., 1., 1., 1., 1.,\n",
       "       2.])"
      ]
     },
     "execution_count": 31,
     "metadata": {},
     "output_type": "execute_result"
    }
   ],
   "source": [
    "print(configs[:2], '...')\n",
    "coeffs"
   ]
  },
  {
   "cell_type": "markdown",
   "id": "654f649a-0b34-4626-842a-4758b260e550",
   "metadata": {},
   "source": [
    "# MPO building"
   ]
  },
  {
   "cell_type": "markdown",
   "id": "909dcf6d-2767-426d-a82f-26f64623bb1e",
   "metadata": {},
   "source": [
    "Note you would want to more carefully order the hilbert space sites for non-1D and also\n",
    "fermionic systems."
   ]
  },
  {
   "cell_type": "code",
   "execution_count": 32,
   "id": "4442c00c-cdb8-49f6-9f27-c2660a40ae11",
   "metadata": {},
   "outputs": [
    {
     "data": {
      "image/svg+xml": [
       "<?xml version=\"1.0\" encoding=\"UTF-8\"?><!DOCTYPE svg  PUBLIC '-//W3C//DTD SVG 1.1//EN'  'http://www.w3.org/Graphics/SVG/1.1/DTD/svg11.dtd'><svg width=\"1353.6pt\" height=\"504.54pt\" version=\"1.1\" viewBox=\"0 0 1353.6 504.54\" xmlns=\"http://www.w3.org/2000/svg\" xmlns:xlink=\"http://www.w3.org/1999/xlink\"><defs><style type=\"text/css\">*{stroke-linejoin: round; stroke-linecap: butt}</style></defs><path d=\"m0 504.54h1353.6v-504.54h-1353.6v504.54z\" opacity=\"0\"/><g fill=\"none\" stroke=\"#0072b2\" stroke-linecap=\"round\" stroke-width=\"1.585\"><path d=\"m35.982 465.35q24.786 0 47.8 0\" opacity=\".75\"/><path d=\"m79.781 463.35 4 2-4 2\" opacity=\".75\"/></g><g transform=\"translate(56.578 462.51) scale(.1 -.1)\" fill=\"#0072b2\"><defs><path id=\"DejaVuSans-2b\" transform=\"scale(.015625)\" d=\"m2944 4013v-1741h1740v-531h-1740v-1741h-525v1741h-1741v531h1741v1741h525z\"/></defs><use xlink:href=\"#DejaVuSans-2b\"/></g><g fill=\"none\" stroke=\"#f0e341\" stroke-linecap=\"round\" stroke-width=\"1.585\"><path d=\"m35.779 464.47q24.988-12.212 48.383-23.646\" opacity=\".75\"/><path d=\"m79.69 440.79 4.472 0.040521-2.7156 3.5532\" opacity=\".75\"/></g><g transform=\"translate(57.9 450.5) rotate(-26.046) scale(.1 -.1)\" fill=\"#f0e341\"><defs><path id=\"DejaVuSans-2d\" transform=\"scale(.015625)\" d=\"m313 2009h1684v-512h-1684v512z\"/></defs><use xlink:href=\"#DejaVuSans-2d\"/></g><g fill=\"none\" stroke=\"#808080\" stroke-linecap=\"round\" stroke-width=\"6.2479\"><path d=\"m35.413 463.95q25.355-24.783 45.715-44.684\" opacity=\".75\"/><path d=\"m76.869 420.64 4.2585-1.3657-1.4625 4.2262\" opacity=\".75\"/></g><g transform=\"translate(57.728 438.17) rotate(-44.347) scale(.1 -.1)\" fill=\"#808080\"><defs><path id=\"DejaVuSans-49\" transform=\"scale(.015625)\" d=\"m628 4666h631v-4666h-631v4666z\"/></defs><use xlink:href=\"#DejaVuSans-49\"/></g><g fill=\"none\" stroke=\"#cc79a7\" stroke-linecap=\"round\"><path d=\"m35.11 463.7q25.657-37.617 50.683-74.311\" opacity=\".75\"/><path d=\"m81.888 391.57 3.9061-2.1776-0.60158 4.4315\" opacity=\".75\"/></g><g transform=\"translate(56.637 427.1) rotate(-55.704) scale(.1 -.1)\" fill=\"#cc79a7\"><defs><path id=\"DejaVuSans-6e\" transform=\"scale(.015625)\" d=\"m3513 2113v-2113h-575v2094q0 497-194 743-194 247-581 247-466 0-735-297-269-296-269-809v-1978h-578v3500h578v-544q207 316 486 472 280 156 646 156 603 0 912-373 310-373 310-1098z\"/></defs><use xlink:href=\"#DejaVuSans-6e\"/></g><g fill=\"none\" stroke=\"#f0e341\" stroke-linecap=\"round\"><path d=\"m89.55 465.35q24.786 0 48.454 0\" opacity=\".75\"/><path d=\"m134 463.35 4 2-4 2\" opacity=\".75\"/></g><g transform=\"translate(101.87 462.51) scale(.1 -.1)\" fill=\"#f0e341\"><defs><path id=\"DejaVuSans-2a\" transform=\"scale(.015625)\" d=\"m3009 3897-1121-606 1121-610-181-306-1050 634v-1178h-356v1178l-1050-634-181 306 1122 610-1122 606 181 309 1050-634v1178h356v-1178l1050 634 181-309z\"/><path id=\"DejaVuSans-31\" transform=\"scale(.015625)\" d=\"m794 531h1031v3560l-1122-225v575l1116 225h631v-4135h1031v-531h-2687v531z\"/></defs><use xlink:href=\"#DejaVuSans-2d\"/><use transform=\"translate(36.084)\" xlink:href=\"#DejaVuSans-20\"/><use transform=\"translate(67.871)\" xlink:href=\"#DejaVuSans-2a\"/><use transform=\"translate(117.87)\" xlink:href=\"#DejaVuSans-20\"/><use transform=\"translate(149.66)\" xlink:href=\"#DejaVuSans-2d\"/><use transform=\"translate(185.74)\" xlink:href=\"#DejaVuSans-31\"/></g><g fill=\"none\" stroke=\"#808080\" stroke-linecap=\"round\"><path d=\"m88.981 463.95q25.355-24.783 49.911-48.785\" opacity=\".75\"/><path d=\"m134.63 416.53 4.2585-1.3657-1.4625 4.2262\" opacity=\".75\"/></g><g transform=\"translate(111.3 438.17) rotate(-44.347) scale(.1 -.1)\" fill=\"#808080\"><use xlink:href=\"#DejaVuSans-49\"/></g><g fill=\"none\" stroke=\"#808080\" stroke-linecap=\"round\" stroke-width=\"1.585\"><path d=\"m143.12 465.35q24.786 0 47.8 0\" opacity=\".75\"/><path d=\"m186.92 463.35 4 2-4 2\" opacity=\".75\"/></g><g transform=\"translate(166.43 462.51) scale(.1 -.1)\" fill=\"#808080\"><use xlink:href=\"#DejaVuSans-49\"/></g><g fill=\"none\" stroke=\"#808080\" stroke-linecap=\"round\" stroke-width=\"2.3219\"><path d=\"m196.69 465.35q24.786 0 46.976 0\" opacity=\".75\"/><path d=\"m239.66 463.35 4 2-4 2\" opacity=\".75\"/></g><g transform=\"translate(220 462.51) scale(.1 -.1)\" fill=\"#808080\"><use xlink:href=\"#DejaVuSans-49\"/></g><g fill=\"none\" stroke=\"#808080\" stroke-linecap=\"round\" stroke-width=\"2.8074\"><path d=\"m250.25 465.35q24.786 0 46.433 0\" opacity=\".75\"/><path d=\"m292.69 463.35 4 2-4 2\" opacity=\".75\"/></g><g transform=\"translate(273.56 462.51) scale(.1 -.1)\" fill=\"#808080\"><use xlink:href=\"#DejaVuSans-49\"/></g><g fill=\"none\" stroke=\"#808080\" stroke-linecap=\"round\" stroke-width=\"3.4594\"><path d=\"m303.82 465.35q24.786 0 45.704 0\" opacity=\".75\"/><path d=\"m345.53 463.35 4 2-4 2\" opacity=\".75\"/></g><g transform=\"translate(327.13 462.51) scale(.1 -.1)\" fill=\"#808080\"><use xlink:href=\"#DejaVuSans-49\"/></g><g fill=\"none\" stroke=\"#808080\" stroke-linecap=\"round\" stroke-width=\"3.9069\"><path d=\"m357.39 465.35q24.786 0 45.204 0\" opacity=\".75\"/><path d=\"m398.59 463.35 4 2-4 2\" opacity=\".75\"/></g><g transform=\"translate(380.7 462.51) scale(.1 -.1)\" fill=\"#808080\"><use xlink:href=\"#DejaVuSans-49\"/></g><g fill=\"none\" stroke=\"#808080\" stroke-linecap=\"round\" stroke-width=\"4.0875\"><path d=\"m410.96 465.35q24.786 0 45.002 0\" opacity=\".75\"/><path d=\"m451.96 463.35 4 2-4 2\" opacity=\".75\"/></g><g transform=\"translate(434.27 462.51) scale(.1 -.1)\" fill=\"#808080\"><use xlink:href=\"#DejaVuSans-49\"/></g><g fill=\"none\" stroke=\"#808080\" stroke-linecap=\"round\" stroke-width=\"4.3923\"><path d=\"m464.53 465.35q24.786 0 44.661 0\" opacity=\".75\"/><path d=\"m505.19 463.35 4 2-4 2\" opacity=\".75\"/></g><g transform=\"translate(487.84 462.51) scale(.1 -.1)\" fill=\"#808080\"><use xlink:href=\"#DejaVuSans-49\"/></g><g fill=\"none\" stroke=\"#808080\" stroke-linecap=\"round\" stroke-width=\"4.6439\"><path d=\"m518.09 465.35q24.786 0 44.38 0\" opacity=\".75\"/><path d=\"m558.47 463.35 4 2-4 2\" opacity=\".75\"/></g><g transform=\"translate(541.4 462.51) scale(.1 -.1)\" fill=\"#808080\"><use xlink:href=\"#DejaVuSans-49\"/></g><g fill=\"none\" stroke=\"#808080\" stroke-linecap=\"round\" stroke-width=\"4.7549\"><path d=\"m571.66 465.35q24.786 0 44.255 0\" opacity=\".75\"/><path d=\"m611.92 463.35 4 2-4 2\" opacity=\".75\"/></g><g transform=\"translate(594.97 462.51) scale(.1 -.1)\" fill=\"#808080\"><use xlink:href=\"#DejaVuSans-49\"/></g><g fill=\"none\" stroke=\"#808080\" stroke-linecap=\"round\" stroke-width=\"4.9542\"><path d=\"m625.23 465.35q24.786 0 44.033 0\" opacity=\".75\"/><path d=\"m665.26 463.35 4 2-4 2\" opacity=\".75\"/></g><g transform=\"translate(648.54 462.51) scale(.1 -.1)\" fill=\"#808080\"><use xlink:href=\"#DejaVuSans-49\"/></g><g fill=\"none\" stroke=\"#808080\" stroke-linecap=\"round\" stroke-width=\"5.1293\"><path d=\"m678.8 465.35q24.786 0 43.837 0\" opacity=\".75\"/><path d=\"m718.63 463.35 4 2-4 2\" opacity=\".75\"/></g><g transform=\"translate(702.11 462.51) scale(.1 -.1)\" fill=\"#808080\"><use xlink:href=\"#DejaVuSans-49\"/></g><g fill=\"none\" stroke=\"#808080\" stroke-linecap=\"round\" stroke-width=\"5.1699\"><path d=\"m732.37 465.35q24.786 0 43.791 0\" opacity=\".75\"/><path d=\"m772.16 463.35 4 2-4 2\" opacity=\".75\"/></g><g transform=\"translate(755.68 462.51) scale(.1 -.1)\" fill=\"#808080\"><use xlink:href=\"#DejaVuSans-49\"/></g><g fill=\"none\" stroke=\"#808080\" stroke-linecap=\"round\" stroke-width=\"5.2854\"><path d=\"m785.93 465.35q24.786 0 43.662 0\" opacity=\".75\"/><path d=\"m825.6 463.35 4 2-4 2\" opacity=\".75\"/></g><g transform=\"translate(809.24 462.51) scale(.1 -.1)\" fill=\"#808080\"><use xlink:href=\"#DejaVuSans-49\"/></g><g fill=\"none\" stroke=\"#808080\" stroke-linecap=\"round\" stroke-width=\"5.3923\"><path d=\"m839.5 465.35q24.786 0 43.543 0\" opacity=\".75\"/><path d=\"m879.04 463.35 4 2-4 2\" opacity=\".75\"/></g><g transform=\"translate(862.81 462.51) scale(.1 -.1)\" fill=\"#808080\"><use xlink:href=\"#DejaVuSans-49\"/></g><g fill=\"none\" stroke=\"#808080\" stroke-linecap=\"round\" stroke-width=\"5.4919\"><path d=\"m893.07 465.35q24.786 0 43.432 0\" opacity=\".75\"/><path d=\"m932.5 463.35 4 2-4 2\" opacity=\".75\"/></g><g transform=\"translate(916.38 462.51) scale(.1 -.1)\" fill=\"#808080\"><use xlink:href=\"#DejaVuSans-49\"/></g><g fill=\"none\" stroke=\"#808080\" stroke-linecap=\"round\" stroke-width=\"5.6439\"><path d=\"m946.64 465.35q24.786 0 43.262 0\" opacity=\".75\"/><path d=\"m985.9 463.35 4 2-4 2\" opacity=\".75\"/></g><g transform=\"translate(969.95 462.51) scale(.1 -.1)\" fill=\"#808080\"><use xlink:href=\"#DejaVuSans-49\"/></g><g fill=\"none\" stroke=\"#808080\" stroke-linecap=\"round\" stroke-width=\"5.7814\"><path d=\"m1000.2 465.35q24.786 0 43.108 0\" opacity=\".75\"/><path d=\"m1039.3 463.35 4 2-4 2\" opacity=\".75\"/></g><g transform=\"translate(1023.5 462.51) scale(.1 -.1)\" fill=\"#808080\"><use xlink:href=\"#DejaVuSans-49\"/></g><g fill=\"none\" stroke=\"#808080\" stroke-linecap=\"round\" stroke-width=\"5.858\"><path d=\"m1053.8 465.35q24.786 0 43.022 0\" opacity=\".75\"/><path d=\"m1092.8 463.35 4 2-4 2\" opacity=\".75\"/></g><g transform=\"translate(1077.1 462.51) scale(.1 -.1)\" fill=\"#808080\"><use xlink:href=\"#DejaVuSans-49\"/></g><g fill=\"none\" stroke=\"#808080\" stroke-linecap=\"round\" stroke-width=\"5.9773\"><path d=\"m1107.3 465.35q24.786 0 42.889 0\" opacity=\".75\"/><path d=\"m1146.2 463.35 4 2-4 2\" opacity=\".75\"/></g><g transform=\"translate(1130.7 462.51) scale(.1 -.1)\" fill=\"#808080\"><use xlink:href=\"#DejaVuSans-49\"/></g><g fill=\"none\" stroke=\"#808080\" stroke-linecap=\"round\" stroke-width=\"6.0875\"><path d=\"m1160.9 465.35q24.786 0 42.766 0\" opacity=\".75\"/><path d=\"m1199.7 463.35 4 2-4 2\" opacity=\".75\"/></g><g transform=\"translate(1184.2 462.51) scale(.1 -.1)\" fill=\"#808080\"><use xlink:href=\"#DejaVuSans-49\"/></g><g fill=\"none\" stroke=\"#808080\" stroke-linecap=\"round\" stroke-width=\"6.1497\"><path d=\"m1214.5 465.35q24.786 0 42.696 0\" opacity=\".75\"/><path d=\"m1253.2 463.35 4 2-4 2\" opacity=\".75\"/></g><g transform=\"translate(1237.8 462.51) scale(.1 -.1)\" fill=\"#808080\"><use xlink:href=\"#DejaVuSans-49\"/></g><g fill=\"none\" stroke=\"#808080\" stroke-linecap=\"round\" stroke-width=\"6.2479\"><path d=\"m1268 465.35q24.786 0 42.586 0\" opacity=\".75\"/><path d=\"m1306.6 463.35 4 2-4 2\" opacity=\".75\"/></g><g transform=\"translate(1291.4 462.51) scale(.1 -.1)\" fill=\"#808080\"><use xlink:href=\"#DejaVuSans-49\"/></g><g fill=\"none\" stroke=\"#0072b2\" stroke-linecap=\"round\"><path d=\"m89.347 440.05q24.988 12.212 48.971 23.933\" opacity=\".75\"/><path d=\"m135.6 460.43 2.7156 3.5532-4.472 0.040521\" opacity=\".75\"/></g><g transform=\"translate(111.82 447.87) rotate(26.046) scale(.1 -.1)\" fill=\"#0072b2\"><use xlink:href=\"#DejaVuSans-2b\"/></g><g fill=\"none\" stroke=\"#808080\" stroke-linecap=\"round\"><path d=\"m88.981 437.77q25.355-24.783 49.911-48.785\" opacity=\".75\"/><path d=\"m134.63 390.35 4.2585-1.3657-1.4625 4.2262\" opacity=\".75\"/></g><g transform=\"translate(111.3 411.99) rotate(-44.347) scale(.1 -.1)\" fill=\"#808080\"><use xlink:href=\"#DejaVuSans-49\"/></g><g fill=\"none\" stroke=\"#808080\" stroke-linecap=\"round\" stroke-width=\"6.1497\"><path d=\"m89.347 413.87q24.988 12.212 43.798 21.405\" opacity=\".75\"/><path d=\"m130.43 431.72 2.7156 3.5532-4.472 0.040521\" opacity=\".75\"/></g><g transform=\"translate(114.26 422.88) rotate(26.046) scale(.1 -.1)\" fill=\"#808080\"><use xlink:href=\"#DejaVuSans-49\"/></g><g fill=\"none\" stroke=\"#0072b2\" stroke-linecap=\"round\" stroke-width=\"1.585\"><path d=\"m88.981 411.59q25.355-24.783 49.443-48.328\" opacity=\".75\"/><path d=\"m134.17 364.63 4.2585-1.3657-1.4625 4.2262\" opacity=\".75\"/></g><g transform=\"translate(109.35 387.71) rotate(-44.347) scale(.1 -.1)\" fill=\"#0072b2\"><use xlink:href=\"#DejaVuSans-2b\"/></g><g fill=\"none\" stroke=\"#f0e341\" stroke-linecap=\"round\" stroke-width=\"1.585\"><path d=\"m88.678 411.34q25.657-37.617 50.315-73.77\" opacity=\".75\"/><path d=\"m135.09 339.75 3.9061-2.1776-0.60159 4.4315\" opacity=\".75\"/></g><g transform=\"translate(110.97 373.61) rotate(-55.704) scale(.1 -.1)\" fill=\"#f0e341\"><use xlink:href=\"#DejaVuSans-2d\"/></g><g fill=\"none\" stroke=\"#cc79a7\" stroke-linecap=\"round\"><path d=\"m88.309 411.14q26.026-63.598 51.629-126.16\" opacity=\".75\"/><path d=\"m136.57 287.92 3.366-2.9445 0.33604 4.4595\" opacity=\".75\"/></g><g transform=\"translate(110.51 349.4) rotate(-67.744) scale(.1 -.1)\" fill=\"#cc79a7\"><use xlink:href=\"#DejaVuSans-6e\"/></g><g fill=\"none\" stroke=\"#808080\" stroke-linecap=\"round\" stroke-width=\"6.0875\"><path d=\"m143.12 439.17q24.786 0 42.766 0\" opacity=\".75\"/><path d=\"m181.88 437.17 4 2-4 2\" opacity=\".75\"/></g><g transform=\"translate(166.43 436.33) scale(.1 -.1)\" fill=\"#808080\"><use xlink:href=\"#DejaVuSans-49\"/></g><g fill=\"none\" stroke=\"#0072b2\" stroke-linecap=\"round\"><path d=\"m141.88 437.32q26.026-63.598 51.629-126.16\" opacity=\".75\"/><path d=\"m190.14 314.1 3.366-2.9445 0.33604 4.4595\" opacity=\".75\"/></g><g transform=\"translate(159.65 386.39) rotate(-67.744) scale(.1 -.1)\" fill=\"#0072b2\"><use xlink:href=\"#DejaVuSans-2b\"/><use transform=\"translate(83.789)\" xlink:href=\"#DejaVuSans-20\"/><use transform=\"translate(115.58)\" xlink:href=\"#DejaVuSans-2a\"/><use transform=\"translate(165.58)\" xlink:href=\"#DejaVuSans-20\"/><use transform=\"translate(197.36)\" xlink:href=\"#DejaVuSans-2d\"/><use transform=\"translate(233.45)\" xlink:href=\"#DejaVuSans-31\"/></g><g fill=\"none\" stroke=\"#f0e341\" stroke-linecap=\"round\"><path d=\"m141.76 437.28q26.139-76.648 51.917-152.24\" opacity=\".75\"/><path d=\"m190.5 288.18 3.184-3.1404 0.60187 4.4315\" opacity=\".75\"/></g><g transform=\"translate(164.63 361.42) rotate(-71.169) scale(.1 -.1)\" fill=\"#f0e341\"><use xlink:href=\"#DejaVuSans-2d\"/></g><g fill=\"none\" stroke=\"#cc79a7\" stroke-linecap=\"round\"><path d=\"m141.56 437.22q26.34-115.86 52.433-230.63\" opacity=\".75\"/><path d=\"m191.16 210.05 2.837-3.4571 1.0635 4.3439\" opacity=\".75\"/></g><g transform=\"translate(164.43 323.82) rotate(-77.192) scale(.1 -.1)\" fill=\"#cc79a7\"><use xlink:href=\"#DejaVuSans-6e\"/></g><g fill=\"none\" stroke=\"#808080\" stroke-linecap=\"round\" stroke-width=\"5.9773\"><path d=\"m196.69 439.17q24.786 0 42.889 0\" opacity=\".75\"/><path d=\"m235.57 437.17 4 2-4 2\" opacity=\".75\"/></g><g transform=\"translate(220 436.33) scale(.1 -.1)\" fill=\"#808080\"><use xlink:href=\"#DejaVuSans-49\"/></g><g fill=\"none\" stroke=\"#0072b2\" stroke-linecap=\"round\"><path d=\"m196.48 438.29q24.988-12.212 48.971-23.933\" opacity=\".75\"/><path d=\"m240.98 414.32 4.472 0.040521-2.7156 3.5532\" opacity=\".75\"/></g><g transform=\"translate(206.88 430.05) rotate(-26.046) scale(.1 -.1)\" fill=\"#0072b2\"><use xlink:href=\"#DejaVuSans-2b\"/><use transform=\"translate(83.789)\" xlink:href=\"#DejaVuSans-20\"/><use transform=\"translate(115.58)\" xlink:href=\"#DejaVuSans-2a\"/><use transform=\"translate(165.58)\" xlink:href=\"#DejaVuSans-20\"/><use transform=\"translate(197.36)\" xlink:href=\"#DejaVuSans-2d\"/><use transform=\"translate(233.45)\" xlink:href=\"#DejaVuSans-31\"/></g><g fill=\"none\" stroke=\"#f0e341\" stroke-linecap=\"round\"><path d=\"m196.12 437.77q25.355-24.783 49.911-48.785\" opacity=\".75\"/><path d=\"m241.77 390.35 4.2585-1.3657-1.4625 4.2262\" opacity=\".75\"/></g><g transform=\"translate(218.2 412.22) rotate(-44.347) scale(.1 -.1)\" fill=\"#f0e341\"><use xlink:href=\"#DejaVuSans-2d\"/></g><g fill=\"none\" stroke=\"#0072b2\" stroke-linecap=\"round\"><path d=\"m195.44 437.32q26.026-63.598 51.629-126.16\" opacity=\".75\"/><path d=\"m243.71 314.1 3.366-2.9445 0.33604 4.4595\" opacity=\".75\"/></g><g transform=\"translate(217.26 376.52) rotate(-67.744) scale(.1 -.1)\" fill=\"#0072b2\"><use xlink:href=\"#DejaVuSans-2b\"/></g><g fill=\"none\" stroke=\"#f0e341\" stroke-linecap=\"round\"><path d=\"m195.33 437.28q26.139-76.648 51.917-152.24\" opacity=\".75\"/><path d=\"m244.07 288.18 3.184-3.1404 0.60187 4.4315\" opacity=\".75\"/></g><g transform=\"translate(218.2 361.42) rotate(-71.169) scale(.1 -.1)\" fill=\"#f0e341\"><use xlink:href=\"#DejaVuSans-2d\"/></g><g fill=\"none\" stroke=\"#cc79a7\" stroke-linecap=\"round\"><path d=\"m195.09 437.21q26.383-128.94 52.541-256.78\" opacity=\".75\"/><path d=\"m244.87 183.95 2.7612-3.5179 1.1576 4.3197\" opacity=\".75\"/></g><g transform=\"translate(218.05 310.81) rotate(-78.436) scale(.1 -.1)\" fill=\"#cc79a7\"><use xlink:href=\"#DejaVuSans-6e\"/></g><g fill=\"none\" stroke=\"#808080\" stroke-linecap=\"round\" stroke-width=\"5.858\"><path d=\"m250.25 439.17q24.786 0 43.022 0\" opacity=\".75\"/><path d=\"m289.28 437.17 4 2-4 2\" opacity=\".75\"/></g><g transform=\"translate(273.56 436.33) scale(.1 -.1)\" fill=\"#808080\"><use xlink:href=\"#DejaVuSans-49\"/></g><g fill=\"none\" stroke=\"#0072b2\" stroke-linecap=\"round\"><path d=\"m250.05 438.29q24.988-12.212 48.971-23.933\" opacity=\".75\"/><path d=\"m294.55 414.32 4.472 0.040521-2.7156 3.5532\" opacity=\".75\"/></g><g transform=\"translate(260.45 430.05) rotate(-26.046) scale(.1 -.1)\" fill=\"#0072b2\"><use xlink:href=\"#DejaVuSans-2b\"/><use transform=\"translate(83.789)\" xlink:href=\"#DejaVuSans-20\"/><use transform=\"translate(115.58)\" xlink:href=\"#DejaVuSans-2a\"/><use transform=\"translate(165.58)\" xlink:href=\"#DejaVuSans-20\"/><use transform=\"translate(197.36)\" xlink:href=\"#DejaVuSans-2d\"/><use transform=\"translate(233.45)\" xlink:href=\"#DejaVuSans-31\"/></g><g fill=\"none\" stroke=\"#f0e341\" stroke-linecap=\"round\"><path d=\"m249.68 437.77q25.355-24.783 49.911-48.785\" opacity=\".75\"/><path d=\"m295.34 390.35 4.2585-1.3657-1.4625 4.2262\" opacity=\".75\"/></g><g transform=\"translate(271.77 412.22) rotate(-44.347) scale(.1 -.1)\" fill=\"#f0e341\"><use xlink:href=\"#DejaVuSans-2d\"/></g><g fill=\"none\" stroke=\"#0072b2\" stroke-linecap=\"round\"><path d=\"m249.01 437.32q26.026-63.598 51.629-126.16\" opacity=\".75\"/><path d=\"m297.28 314.1 3.366-2.9445 0.33604 4.4595\" opacity=\".75\"/></g><g transform=\"translate(266.79 386.39) rotate(-67.744) scale(.1 -.1)\" fill=\"#0072b2\"><use xlink:href=\"#DejaVuSans-2b\"/><use transform=\"translate(83.789)\" xlink:href=\"#DejaVuSans-20\"/><use transform=\"translate(115.58)\" xlink:href=\"#DejaVuSans-2a\"/><use transform=\"translate(165.58)\" xlink:href=\"#DejaVuSans-20\"/><use transform=\"translate(197.36)\" xlink:href=\"#DejaVuSans-2d\"/><use transform=\"translate(233.45)\" xlink:href=\"#DejaVuSans-31\"/></g><g fill=\"none\" stroke=\"#f0e341\" stroke-linecap=\"round\"><path d=\"m248.9 437.28q26.139-76.648 51.917-152.24\" opacity=\".75\"/><path d=\"m297.63 288.18 3.184-3.1404 0.60187 4.4315\" opacity=\".75\"/></g><g transform=\"translate(271.77 361.42) rotate(-71.169) scale(.1 -.1)\" fill=\"#f0e341\"><use xlink:href=\"#DejaVuSans-2d\"/></g><g fill=\"none\" stroke=\"#cc79a7\" stroke-linecap=\"round\"><path d=\"m248.62 437.21q26.418-142.02 52.632-282.95\" opacity=\".75\"/><path d=\"m298.56 157.82 2.6978-3.5668 1.2348 4.2983\" opacity=\".75\"/></g><g transform=\"translate(271.67 297.78) rotate(-79.463) scale(.1 -.1)\" fill=\"#cc79a7\"><use xlink:href=\"#DejaVuSans-6e\"/></g><g fill=\"none\" stroke=\"#808080\" stroke-linecap=\"round\" stroke-width=\"5.7814\"><path d=\"m303.82 439.17q24.786 0 43.108 0\" opacity=\".75\"/><path d=\"m342.93 437.17 4 2-4 2\" opacity=\".75\"/></g><g transform=\"translate(327.13 436.33) scale(.1 -.1)\" fill=\"#808080\"><use xlink:href=\"#DejaVuSans-49\"/></g><g fill=\"none\" stroke=\"#0072b2\" stroke-linecap=\"round\"><path d=\"m302.58 437.32q26.026-63.598 51.629-126.16\" opacity=\".75\"/><path d=\"m350.84 314.1 3.366-2.9445 0.33604 4.4595\" opacity=\".75\"/></g><g transform=\"translate(324.39 376.52) rotate(-67.744) scale(.1 -.1)\" fill=\"#0072b2\"><use xlink:href=\"#DejaVuSans-2b\"/></g><g fill=\"none\" stroke=\"#f0e341\" stroke-linecap=\"round\"><path d=\"m302.47 437.28q26.139-76.648 51.917-152.24\" opacity=\".75\"/><path d=\"m351.2 288.18 3.184-3.1404 0.60187 4.4315\" opacity=\".75\"/></g><g transform=\"translate(325.34 361.42) rotate(-71.169) scale(.1 -.1)\" fill=\"#f0e341\"><use xlink:href=\"#DejaVuSans-2d\"/></g><g fill=\"none\" stroke=\"#cc79a7\" stroke-linecap=\"round\"><path d=\"m302.16 437.2q26.448-155.11 52.709-309.12\" opacity=\".75\"/><path d=\"m352.22 131.69 2.6439-3.6069 1.2992 4.2793\" opacity=\".75\"/></g><g transform=\"translate(325.28 284.74) rotate(-80.323) scale(.1 -.1)\" fill=\"#cc79a7\"><use xlink:href=\"#DejaVuSans-6e\"/></g><g fill=\"none\" stroke=\"#808080\" stroke-linecap=\"round\" stroke-width=\"5.6439\"><path d=\"m357.39 439.17q24.786 0 43.262 0\" opacity=\".75\"/><path d=\"m396.65 437.17 4 2-4 2\" opacity=\".75\"/></g><g transform=\"translate(380.7 436.33) scale(.1 -.1)\" fill=\"#808080\"><use xlink:href=\"#DejaVuSans-49\"/></g><g fill=\"none\" stroke=\"#0072b2\" stroke-linecap=\"round\"><path d=\"m357.19 438.29q24.988-12.212 48.971-23.933\" opacity=\".75\"/><path d=\"m401.69 414.32 4.472 0.040521-2.7156 3.5532\" opacity=\".75\"/></g><g transform=\"translate(367.58 430.05) rotate(-26.046) scale(.1 -.1)\" fill=\"#0072b2\"><use xlink:href=\"#DejaVuSans-2b\"/><use transform=\"translate(83.789)\" xlink:href=\"#DejaVuSans-20\"/><use transform=\"translate(115.58)\" xlink:href=\"#DejaVuSans-2a\"/><use transform=\"translate(165.58)\" xlink:href=\"#DejaVuSans-20\"/><use transform=\"translate(197.36)\" xlink:href=\"#DejaVuSans-2d\"/><use transform=\"translate(233.45)\" xlink:href=\"#DejaVuSans-31\"/></g><g fill=\"none\" stroke=\"#f0e341\" stroke-linecap=\"round\"><path d=\"m356.82 437.77q25.355-24.783 49.911-48.785\" opacity=\".75\"/><path d=\"m402.47 390.35 4.2585-1.3657-1.4625 4.2262\" opacity=\".75\"/></g><g transform=\"translate(378.9 412.22) rotate(-44.347) scale(.1 -.1)\" fill=\"#f0e341\"><use xlink:href=\"#DejaVuSans-2d\"/></g><g fill=\"none\" stroke=\"#0072b2\" stroke-linecap=\"round\"><path d=\"m356.15 437.32q26.026-63.598 51.629-126.16\" opacity=\".75\"/><path d=\"m404.41 314.1 3.366-2.9445 0.33604 4.4595\" opacity=\".75\"/></g><g transform=\"translate(373.92 386.39) rotate(-67.744) scale(.1 -.1)\" fill=\"#0072b2\"><use xlink:href=\"#DejaVuSans-2b\"/><use transform=\"translate(83.789)\" xlink:href=\"#DejaVuSans-20\"/><use transform=\"translate(115.58)\" xlink:href=\"#DejaVuSans-2a\"/><use transform=\"translate(165.58)\" xlink:href=\"#DejaVuSans-20\"/><use transform=\"translate(197.36)\" xlink:href=\"#DejaVuSans-2d\"/><use transform=\"translate(233.45)\" xlink:href=\"#DejaVuSans-31\"/></g><g fill=\"none\" stroke=\"#f0e341\" stroke-linecap=\"round\"><path d=\"m356.04 437.28q26.139-76.648 51.917-152.24\" opacity=\".75\"/><path d=\"m404.77 288.18 3.184-3.1404 0.60187 4.4315\" opacity=\".75\"/></g><g transform=\"translate(378.91 361.42) rotate(-71.169) scale(.1 -.1)\" fill=\"#f0e341\"><use xlink:href=\"#DejaVuSans-2d\"/></g><g fill=\"none\" stroke=\"#cc79a7\" stroke-linecap=\"round\"><path d=\"m355.7 437.19q26.473-168.19 52.772-335.28\" opacity=\".75\"/><path d=\"m405.88 105.55 2.5976-3.6404 1.3538 4.2623\" opacity=\".75\"/></g><g transform=\"translate(378.88 271.69) rotate(-81.055) scale(.1 -.1)\" fill=\"#cc79a7\"><use xlink:href=\"#DejaVuSans-6e\"/></g><g fill=\"none\" stroke=\"#808080\" stroke-linecap=\"round\" stroke-width=\"5.4919\"><path d=\"m410.96 439.17q24.786 0 43.432 0\" opacity=\".75\"/><path d=\"m450.39 437.17 4 2-4 2\" opacity=\".75\"/></g><g transform=\"translate(434.27 436.33) scale(.1 -.1)\" fill=\"#808080\"><use xlink:href=\"#DejaVuSans-49\"/></g><g fill=\"none\" stroke=\"#0072b2\" stroke-linecap=\"round\"><path d=\"m410.75 438.29q24.988-12.212 48.971-23.933\" opacity=\".75\"/><path d=\"m455.25 414.32 4.472 0.040521-2.7156 3.5532\" opacity=\".75\"/></g><g transform=\"translate(421.15 430.05) rotate(-26.046) scale(.1 -.1)\" fill=\"#0072b2\"><use xlink:href=\"#DejaVuSans-2b\"/><use transform=\"translate(83.789)\" xlink:href=\"#DejaVuSans-20\"/><use transform=\"translate(115.58)\" xlink:href=\"#DejaVuSans-2a\"/><use transform=\"translate(165.58)\" xlink:href=\"#DejaVuSans-20\"/><use transform=\"translate(197.36)\" xlink:href=\"#DejaVuSans-2d\"/><use transform=\"translate(233.45)\" xlink:href=\"#DejaVuSans-31\"/></g><g fill=\"none\" stroke=\"#f0e341\" stroke-linecap=\"round\"><path d=\"m410.39 437.77q25.355-24.783 49.911-48.785\" opacity=\".75\"/><path d=\"m456.04 390.35 4.2585-1.3657-1.4625 4.2262\" opacity=\".75\"/></g><g transform=\"translate(432.47 412.22) rotate(-44.347) scale(.1 -.1)\" fill=\"#f0e341\"><use xlink:href=\"#DejaVuSans-2d\"/></g><g fill=\"none\" stroke=\"#0072b2\" stroke-linecap=\"round\"><path d=\"m409.72 437.32q26.026-63.598 51.629-126.16\" opacity=\".75\"/><path d=\"m457.98 314.1 3.366-2.9445 0.33604 4.4595\" opacity=\".75\"/></g><g transform=\"translate(431.53 376.52) rotate(-67.744) scale(.1 -.1)\" fill=\"#0072b2\"><use xlink:href=\"#DejaVuSans-2b\"/></g><g fill=\"none\" stroke=\"#f0e341\" stroke-linecap=\"round\"><path d=\"m409.6 437.28q26.139-76.648 51.917-152.24\" opacity=\".75\"/><path d=\"m458.34 288.18 3.184-3.1404 0.60187 4.4315\" opacity=\".75\"/></g><g transform=\"translate(432.47 361.42) rotate(-71.169) scale(.1 -.1)\" fill=\"#f0e341\"><use xlink:href=\"#DejaVuSans-2d\"/></g><g fill=\"none\" stroke=\"#cc79a7\" stroke-linecap=\"round\"><path d=\"m409.25 437.19q26.495-181.28 52.828-361.46\" opacity=\".75\"/><path d=\"m459.52 79.402 2.5574-3.6687 1.4005 4.2472\" opacity=\".75\"/></g><g transform=\"translate(432.48 258.63) rotate(-81.685) scale(.1 -.1)\" fill=\"#cc79a7\"><use xlink:href=\"#DejaVuSans-6e\"/></g><g fill=\"none\" stroke=\"#808080\" stroke-linecap=\"round\" stroke-width=\"5.3923\"><path d=\"m464.53 439.17q24.786 0 43.543 0\" opacity=\".75\"/><path d=\"m504.07 437.17 4 2-4 2\" opacity=\".75\"/></g><g transform=\"translate(487.84 436.33) scale(.1 -.1)\" fill=\"#808080\"><use xlink:href=\"#DejaVuSans-49\"/></g><g fill=\"none\" stroke=\"#0072b2\" stroke-linecap=\"round\"><path d=\"m463.28 437.32q26.026-63.598 51.629-126.16\" opacity=\".75\"/><path d=\"m511.55 314.1 3.366-2.9445 0.33604 4.4595\" opacity=\".75\"/></g><g transform=\"translate(485.1 376.52) rotate(-67.744) scale(.1 -.1)\" fill=\"#0072b2\"><use xlink:href=\"#DejaVuSans-2b\"/></g><g fill=\"none\" stroke=\"#f0e341\" stroke-linecap=\"round\"><path d=\"m463.17 437.28q26.139-76.648 51.917-152.24\" opacity=\".75\"/><path d=\"m511.91 288.18 3.184-3.1404 0.60187 4.4315\" opacity=\".75\"/></g><g transform=\"translate(486.04 361.42) rotate(-71.169) scale(.1 -.1)\" fill=\"#f0e341\"><use xlink:href=\"#DejaVuSans-2d\"/></g><g fill=\"none\" stroke=\"#cc79a7\" stroke-linecap=\"round\"><path d=\"m462.8 437.19q26.514-194.37 52.876-387.63\" opacity=\".75\"/><path d=\"m513.15 53.253 2.5223-3.693 1.441 4.2336\" opacity=\".75\"/></g><g transform=\"translate(486.07 245.58) rotate(-82.232) scale(.1 -.1)\" fill=\"#cc79a7\"><use xlink:href=\"#DejaVuSans-6e\"/></g><g fill=\"none\" stroke=\"#808080\" stroke-linecap=\"round\" stroke-width=\"5.2854\"><path d=\"m518.09 439.17q24.786 0 43.662 0\" opacity=\".75\"/><path d=\"m557.76 437.17 4 2-4 2\" opacity=\".75\"/></g><g transform=\"translate(541.4 436.33) scale(.1 -.1)\" fill=\"#808080\"><use xlink:href=\"#DejaVuSans-49\"/></g><g fill=\"none\" stroke=\"#0072b2\" stroke-linecap=\"round\"><path d=\"m517.89 438.29q24.988-12.212 48.971-23.933\" opacity=\".75\"/><path d=\"m562.39 414.32 4.472 0.040521-2.7156 3.5532\" opacity=\".75\"/></g><g transform=\"translate(528.29 430.05) rotate(-26.046) scale(.1 -.1)\" fill=\"#0072b2\"><use xlink:href=\"#DejaVuSans-2b\"/><use transform=\"translate(83.789)\" xlink:href=\"#DejaVuSans-20\"/><use transform=\"translate(115.58)\" xlink:href=\"#DejaVuSans-2a\"/><use transform=\"translate(165.58)\" xlink:href=\"#DejaVuSans-20\"/><use transform=\"translate(197.36)\" xlink:href=\"#DejaVuSans-2d\"/><use transform=\"translate(233.45)\" xlink:href=\"#DejaVuSans-31\"/></g><g fill=\"none\" stroke=\"#f0e341\" stroke-linecap=\"round\"><path d=\"m517.52 437.77q25.355-24.783 49.911-48.785\" opacity=\".75\"/><path d=\"m563.18 390.35 4.2585-1.3657-1.4625 4.2262\" opacity=\".75\"/></g><g transform=\"translate(539.61 412.22) rotate(-44.347) scale(.1 -.1)\" fill=\"#f0e341\"><use xlink:href=\"#DejaVuSans-2d\"/></g><g fill=\"none\" stroke=\"#cc79a7\" stroke-linecap=\"round\"><path d=\"m516.38 437.19q26.495-181.28 52.828-361.46\" opacity=\".75\"/><path d=\"m566.66 79.402 2.5574-3.6687 1.4005 4.2472\" opacity=\".75\"/></g><g transform=\"translate(539.61 258.63) rotate(-81.685) scale(.1 -.1)\" fill=\"#cc79a7\"><use xlink:href=\"#DejaVuSans-6e\"/></g><g fill=\"none\" stroke=\"#808080\" stroke-linecap=\"round\" stroke-width=\"5.1699\"><path d=\"m571.66 439.17q24.786 0 43.791 0\" opacity=\".75\"/><path d=\"m611.45 437.17 4 2-4 2\" opacity=\".75\"/></g><g transform=\"translate(594.97 436.33) scale(.1 -.1)\" fill=\"#808080\"><use xlink:href=\"#DejaVuSans-49\"/></g><g fill=\"none\" stroke=\"#0072b2\" stroke-linecap=\"round\"><path d=\"m571.46 438.29q24.988-12.212 48.971-23.933\" opacity=\".75\"/><path d=\"m615.96 414.32 4.472 0.040521-2.7156 3.5532\" opacity=\".75\"/></g><g transform=\"translate(581.86 430.05) rotate(-26.046) scale(.1 -.1)\" fill=\"#0072b2\"><use xlink:href=\"#DejaVuSans-2b\"/><use transform=\"translate(83.789)\" xlink:href=\"#DejaVuSans-20\"/><use transform=\"translate(115.58)\" xlink:href=\"#DejaVuSans-2a\"/><use transform=\"translate(165.58)\" xlink:href=\"#DejaVuSans-20\"/><use transform=\"translate(197.36)\" xlink:href=\"#DejaVuSans-2d\"/><use transform=\"translate(233.45)\" xlink:href=\"#DejaVuSans-31\"/></g><g fill=\"none\" stroke=\"#f0e341\" stroke-linecap=\"round\"><path d=\"m571.09 437.77q25.355-24.783 49.911-48.785\" opacity=\".75\"/><path d=\"m616.75 390.35 4.2585-1.3657-1.4625 4.2262\" opacity=\".75\"/></g><g transform=\"translate(593.17 412.22) rotate(-44.347) scale(.1 -.1)\" fill=\"#f0e341\"><use xlink:href=\"#DejaVuSans-2d\"/></g><g fill=\"none\" stroke=\"#cc79a7\" stroke-linecap=\"round\"><path d=\"m569.98 437.19q26.473-168.19 52.772-335.28\" opacity=\".75\"/><path d=\"m620.15 105.55 2.5976-3.6404 1.3538 4.2623\" opacity=\".75\"/></g><g transform=\"translate(593.15 271.69) rotate(-81.055) scale(.1 -.1)\" fill=\"#cc79a7\"><use xlink:href=\"#DejaVuSans-6e\"/></g><g fill=\"none\" stroke=\"#808080\" stroke-linecap=\"round\" stroke-width=\"5.1293\"><path d=\"m625.23 439.17q24.786 0 43.837 0\" opacity=\".75\"/><path d=\"m665.07 437.17 4 2-4 2\" opacity=\".75\"/></g><g transform=\"translate(648.54 436.33) scale(.1 -.1)\" fill=\"#808080\"><use xlink:href=\"#DejaVuSans-49\"/></g><g fill=\"none\" stroke=\"#cc79a7\" stroke-linecap=\"round\"><path d=\"m623.57 437.2q26.448-155.11 52.709-309.12\" opacity=\".75\"/><path d=\"m673.63 131.69 2.6439-3.6069 1.2992 4.2793\" opacity=\".75\"/></g><g transform=\"translate(646.68 284.74) rotate(-80.323) scale(.1 -.1)\" fill=\"#cc79a7\"><use xlink:href=\"#DejaVuSans-6e\"/></g><g fill=\"none\" stroke=\"#0072b2\" stroke-linecap=\"round\" stroke-width=\"1.585\"><path d=\"m678.8 439.17q24.786 0 47.8 0\" opacity=\".75\"/><path d=\"m722.6 437.17 4 2-4 2\" opacity=\".75\"/></g><g transform=\"translate(699.39 436.33) scale(.1 -.1)\" fill=\"#0072b2\"><use xlink:href=\"#DejaVuSans-2b\"/></g><g fill=\"none\" stroke=\"#f0e341\" stroke-linecap=\"round\" stroke-width=\"1.585\"><path d=\"m678.59 438.29q24.988-12.212 48.383-23.646\" opacity=\".75\"/><path d=\"m722.51 414.61 4.472 0.040521-2.7156 3.5532\" opacity=\".75\"/></g><g transform=\"translate(700.72 424.32) rotate(-26.046) scale(.1 -.1)\" fill=\"#f0e341\"><use xlink:href=\"#DejaVuSans-2d\"/></g><g fill=\"none\" stroke=\"#808080\" stroke-linecap=\"round\" stroke-width=\"4.9542\"><path d=\"m678.23 437.77q25.355-24.783 46.749-45.695\" opacity=\".75\"/><path d=\"m720.72 393.44 4.2585-1.3657-1.4625 4.2262\" opacity=\".75\"/></g><g transform=\"translate(700.54 411.99) rotate(-44.347) scale(.1 -.1)\" fill=\"#808080\"><use xlink:href=\"#DejaVuSans-49\"/></g><g fill=\"none\" stroke=\"#f0e341\" stroke-linecap=\"round\"><path d=\"m732.16 440.05q24.988 12.212 48.971 23.933\" opacity=\".75\"/><path d=\"m778.42 460.43 2.7156 3.5532-4.472 0.040521\" opacity=\".75\"/></g><g transform=\"translate(747.2 444.23) rotate(26.046) scale(.1 -.1)\" fill=\"#f0e341\"><use xlink:href=\"#DejaVuSans-2d\"/><use transform=\"translate(36.084)\" xlink:href=\"#DejaVuSans-20\"/><use transform=\"translate(67.871)\" xlink:href=\"#DejaVuSans-2a\"/><use transform=\"translate(117.87)\" xlink:href=\"#DejaVuSans-20\"/><use transform=\"translate(149.66)\" xlink:href=\"#DejaVuSans-2d\"/><use transform=\"translate(185.74)\" xlink:href=\"#DejaVuSans-31\"/></g><g fill=\"none\" stroke=\"#808080\" stroke-linecap=\"round\"><path d=\"m732.37 439.17q24.786 0 48.454 0\" opacity=\".75\"/><path d=\"m776.82 437.17 4 2-4 2\" opacity=\".75\"/></g><g transform=\"translate(745.01 436.33) scale(.1 -.1)\" fill=\"#808080\"><use xlink:href=\"#DejaVuSans-49\"/><use transform=\"translate(29.492)\" xlink:href=\"#DejaVuSans-20\"/><use transform=\"translate(61.279)\" xlink:href=\"#DejaVuSans-2a\"/><use transform=\"translate(111.28)\" xlink:href=\"#DejaVuSans-20\"/><use transform=\"translate(143.07)\" xlink:href=\"#DejaVuSans-2d\"/><use transform=\"translate(179.15)\" xlink:href=\"#DejaVuSans-31\"/></g><g fill=\"none\" stroke=\"#0072b2\" stroke-linecap=\"round\"><path d=\"m731.8 414.39q25.355 24.783 49.911 48.785\" opacity=\".75\"/><path d=\"m780.25 458.95 1.4625 4.2262-4.2585-1.3657\" opacity=\".75\"/></g><g transform=\"translate(756.14 434.21) rotate(44.347) scale(.1 -.1)\" fill=\"#0072b2\"><use xlink:href=\"#DejaVuSans-2b\"/></g><g fill=\"none\" stroke=\"#808080\" stroke-linecap=\"round\"><path d=\"m732.37 412.99q24.786 0 48.454 0\" opacity=\".75\"/><path d=\"m776.82 410.99 4 2-4 2\" opacity=\".75\"/></g><g transform=\"translate(755.68 410.15) scale(.1 -.1)\" fill=\"#808080\"><use xlink:href=\"#DejaVuSans-49\"/></g><g fill=\"none\" stroke=\"#808080\" stroke-linecap=\"round\"><path d=\"m143.12 412.99q24.786 0 48.454 0\" opacity=\".75\"/><path d=\"m187.57 410.99 4 2-4 2\" opacity=\".75\"/></g><g transform=\"translate(155.77 410.15) scale(.1 -.1)\" fill=\"#808080\"><use xlink:href=\"#DejaVuSans-49\"/><use transform=\"translate(29.492)\" xlink:href=\"#DejaVuSans-20\"/><use transform=\"translate(61.279)\" xlink:href=\"#DejaVuSans-2a\"/><use transform=\"translate(111.28)\" xlink:href=\"#DejaVuSans-20\"/><use transform=\"translate(143.07)\" xlink:href=\"#DejaVuSans-2d\"/><use transform=\"translate(179.15)\" xlink:href=\"#DejaVuSans-31\"/></g><g fill=\"none\" stroke=\"#f0e341\" stroke-linecap=\"round\"><path d=\"m196.12 414.39q25.355 24.783 49.911 48.785\" opacity=\".75\"/><path d=\"m244.57 458.95 1.4625 4.2262-4.2585-1.3657\" opacity=\".75\"/></g><g transform=\"translate(222.17 435.88) rotate(44.347) scale(.1 -.1)\" fill=\"#f0e341\"><use xlink:href=\"#DejaVuSans-2d\"/></g><g fill=\"none\" stroke=\"#808080\" stroke-linecap=\"round\"><path d=\"m143.12 386.81q24.786 0 48.454 0\" opacity=\".75\"/><path d=\"m187.57 384.81 4 2-4 2\" opacity=\".75\"/></g><g transform=\"translate(166.43 383.97) scale(.1 -.1)\" fill=\"#808080\"><use xlink:href=\"#DejaVuSans-49\"/></g><g fill=\"none\" stroke=\"#0072b2\" stroke-linecap=\"round\"><path d=\"m195.81 388.46q25.657 37.617 50.683 74.311\" opacity=\".75\"/><path d=\"m245.9 458.34 0.60158 4.4315-3.9061-2.1776\" opacity=\".75\"/></g><g transform=\"translate(221.46 421.02) rotate(55.704) scale(.1 -.1)\" fill=\"#0072b2\"><use xlink:href=\"#DejaVuSans-2b\"/></g><g fill=\"none\" stroke=\"#808080\" stroke-linecap=\"round\"><path d=\"m785.93 439.17q24.786 0 48.454 0\" opacity=\".75\"/><path d=\"m830.39 437.17 4 2-4 2\" opacity=\".75\"/></g><g transform=\"translate(809.24 436.33) scale(.1 -.1)\" fill=\"#808080\"><use xlink:href=\"#DejaVuSans-49\"/></g><g fill=\"none\" stroke=\"#f0e341\" stroke-linecap=\"round\"><path d=\"m839.3 440.05q24.988 12.212 48.971 23.933\" opacity=\".75\"/><path d=\"m885.55 460.43 2.7156 3.5532-4.472 0.040521\" opacity=\".75\"/></g><g transform=\"translate(863.91 448.92) rotate(26.046) scale(.1 -.1)\" fill=\"#f0e341\"><use xlink:href=\"#DejaVuSans-2d\"/></g><g fill=\"none\" stroke=\"#808080\" stroke-linecap=\"round\"><path d=\"m785.93 412.99q24.786 0 48.454 0\" opacity=\".75\"/><path d=\"m830.39 410.99 4 2-4 2\" opacity=\".75\"/></g><g transform=\"translate(809.24 410.15) scale(.1 -.1)\" fill=\"#808080\"><use xlink:href=\"#DejaVuSans-49\"/></g><g fill=\"none\" stroke=\"#0072b2\" stroke-linecap=\"round\"><path d=\"m838.93 414.39q25.355 24.783 49.911 48.785\" opacity=\".75\"/><path d=\"m887.38 458.95 1.4625 4.2262-4.2585-1.3657\" opacity=\".75\"/></g><g transform=\"translate(863.28 434.21) rotate(44.347) scale(.1 -.1)\" fill=\"#0072b2\"><use xlink:href=\"#DejaVuSans-2b\"/></g><g fill=\"none\" stroke=\"#f0e341\" stroke-linecap=\"round\"><path d=\"m142.03 362.41q25.873 50.579 51.237 100.16\" opacity=\".75\"/><path d=\"m193.23 458.1 0.041079 4.4719-3.6022-2.6503\" opacity=\".75\"/></g><g transform=\"translate(164.75 400.6) rotate(62.909) scale(.1 -.1)\" fill=\"#f0e341\"><use xlink:href=\"#DejaVuSans-2d\"/><use transform=\"translate(36.084)\" xlink:href=\"#DejaVuSans-20\"/><use transform=\"translate(67.871)\" xlink:href=\"#DejaVuSans-2a\"/><use transform=\"translate(117.87)\" xlink:href=\"#DejaVuSans-20\"/><use transform=\"translate(149.66)\" xlink:href=\"#DejaVuSans-2d\"/><use transform=\"translate(185.74)\" xlink:href=\"#DejaVuSans-31\"/></g><g fill=\"none\" stroke=\"#808080\" stroke-linecap=\"round\"><path d=\"m143.12 360.63q24.786 0 48.454 0\" opacity=\".75\"/><path d=\"m187.57 358.63 4 2-4 2\" opacity=\".75\"/></g><g transform=\"translate(166.43 357.79) scale(.1 -.1)\" fill=\"#808080\"><use xlink:href=\"#DejaVuSans-49\"/></g><g fill=\"none\" stroke=\"#0072b2\" stroke-linecap=\"round\"><path d=\"m141.88 336.3q26.026 63.598 51.629 126.16\" opacity=\".75\"/><path d=\"m193.84 458-0.33604 4.4595-3.366-2.9445\" opacity=\".75\"/></g><g transform=\"translate(168.95 394.95) rotate(67.744) scale(.1 -.1)\" fill=\"#0072b2\"><use xlink:href=\"#DejaVuSans-2b\"/></g><g fill=\"none\" stroke=\"#808080\" stroke-linecap=\"round\"><path d=\"m143.12 334.45q24.786 0 48.454 0\" opacity=\".75\"/><path d=\"m187.57 332.45 4 2-4 2\" opacity=\".75\"/></g><g transform=\"translate(166.43 331.61) scale(.1 -.1)\" fill=\"#808080\"><use xlink:href=\"#DejaVuSans-49\"/></g><g fill=\"none\" stroke=\"#0072b2\" stroke-linecap=\"round\" stroke-width=\"1.585\"><path d=\"m732.37 386.81q24.786 0 47.8 0\" opacity=\".75\"/><path d=\"m776.17 384.81 4 2-4 2\" opacity=\".75\"/></g><g transform=\"translate(752.96 383.97) scale(.1 -.1)\" fill=\"#0072b2\"><use xlink:href=\"#DejaVuSans-2b\"/></g><g fill=\"none\" stroke=\"#f0e341\" stroke-linecap=\"round\" stroke-width=\"1.585\"><path d=\"m732.16 385.93q24.988-12.212 48.383-23.646\" opacity=\".75\"/><path d=\"m776.07 362.25 4.472 0.040521-2.7156 3.5532\" opacity=\".75\"/></g><g transform=\"translate(754.28 371.96) rotate(-26.046) scale(.1 -.1)\" fill=\"#f0e341\"><use xlink:href=\"#DejaVuSans-2d\"/></g><g fill=\"none\" stroke=\"#808080\" stroke-linecap=\"round\" stroke-width=\"4.7549\"><path d=\"m731.8 385.41q25.355-24.783 46.909-45.851\" opacity=\".75\"/><path d=\"m774.45 340.93 4.2585-1.3657-1.4625 4.2262\" opacity=\".75\"/></g><g transform=\"translate(754.11 359.63) rotate(-44.347) scale(.1 -.1)\" fill=\"#808080\"><use xlink:href=\"#DejaVuSans-49\"/></g><g fill=\"none\" stroke=\"#f0e341\" stroke-linecap=\"round\"><path d=\"m785.06 388.46q25.657 37.617 50.683 74.311\" opacity=\".75\"/><path d=\"m835.14 458.34 0.60158 4.4315-3.9061-2.1776\" opacity=\".75\"/></g><g transform=\"translate(806.04 414.18) rotate(55.704) scale(.1 -.1)\" fill=\"#f0e341\"><use xlink:href=\"#DejaVuSans-2d\"/><use transform=\"translate(36.084)\" xlink:href=\"#DejaVuSans-20\"/><use transform=\"translate(67.871)\" xlink:href=\"#DejaVuSans-2a\"/><use transform=\"translate(117.87)\" xlink:href=\"#DejaVuSans-20\"/><use transform=\"translate(149.66)\" xlink:href=\"#DejaVuSans-2d\"/><use transform=\"translate(185.74)\" xlink:href=\"#DejaVuSans-31\"/></g><g fill=\"none\" stroke=\"#808080\" stroke-linecap=\"round\"><path d=\"m785.93 386.81q24.786 0 48.454 0\" opacity=\".75\"/><path d=\"m830.39 384.81 4 2-4 2\" opacity=\".75\"/></g><g transform=\"translate(809.24 383.97) scale(.1 -.1)\" fill=\"#808080\"><use xlink:href=\"#DejaVuSans-49\"/></g><g fill=\"none\" stroke=\"#0072b2\" stroke-linecap=\"round\"><path d=\"m784.85 362.41q25.873 50.579 51.237 100.16\" opacity=\".75\"/><path d=\"m836.04 458.1 0.041079 4.4719-3.6022-2.6503\" opacity=\".75\"/></g><g transform=\"translate(811.34 407.97) rotate(62.909) scale(.1 -.1)\" fill=\"#0072b2\"><use xlink:href=\"#DejaVuSans-2b\"/></g><g fill=\"none\" stroke=\"#808080\" stroke-linecap=\"round\"><path d=\"m785.93 360.63q24.786 0 48.454 0\" opacity=\".75\"/><path d=\"m830.39 358.63 4 2-4 2\" opacity=\".75\"/></g><g transform=\"translate(809.24 357.79) scale(.1 -.1)\" fill=\"#808080\"><use xlink:href=\"#DejaVuSans-49\"/></g><g fill=\"none\" stroke=\"#808080\" stroke-linecap=\"round\"><path d=\"m196.12 362.03q25.355 24.783 49.911 48.785\" opacity=\".75\"/><path d=\"m244.57 406.59 1.4625 4.2262-4.2585-1.3657\" opacity=\".75\"/></g><g transform=\"translate(214.78 376.29) rotate(44.347) scale(.1 -.1)\" fill=\"#808080\"><use xlink:href=\"#DejaVuSans-49\"/><use transform=\"translate(29.492)\" xlink:href=\"#DejaVuSans-20\"/><use transform=\"translate(61.279)\" xlink:href=\"#DejaVuSans-2a\"/><use transform=\"translate(111.28)\" xlink:href=\"#DejaVuSans-20\"/><use transform=\"translate(143.07)\" xlink:href=\"#DejaVuSans-2d\"/><use transform=\"translate(179.15)\" xlink:href=\"#DejaVuSans-31\"/></g><g fill=\"none\" stroke=\"#f0e341\" stroke-linecap=\"round\" stroke-width=\"1.585\"><path d=\"m249.68 414.39q25.355 24.783 49.443 48.328\" opacity=\".75\"/><path d=\"m297.67 458.49 1.4625 4.2262-4.2585-1.3657\" opacity=\".75\"/></g><g transform=\"translate(275.73 435.88) rotate(44.347) scale(.1 -.1)\" fill=\"#f0e341\"><use xlink:href=\"#DejaVuSans-2d\"/></g><g fill=\"none\" stroke=\"#808080\" stroke-linecap=\"round\"><path d=\"m196.12 335.85q25.355 24.783 49.911 48.785\" opacity=\".75\"/><path d=\"m244.57 380.41 1.4625 4.2262-4.2585-1.3657\" opacity=\".75\"/></g><g transform=\"translate(222.4 357.57) rotate(44.347) scale(.1 -.1)\" fill=\"#808080\"><use xlink:href=\"#DejaVuSans-49\"/></g><g fill=\"none\" stroke=\"#0072b2\" stroke-linecap=\"round\" stroke-width=\"1.585\"><path d=\"m249.38 388.46q25.657 37.617 50.315 73.77\" opacity=\".75\"/><path d=\"m299.1 457.8 0.60159 4.4315-3.9061-2.1776\" opacity=\".75\"/></g><g transform=\"translate(275.03 421.02) rotate(55.704) scale(.1 -.1)\" fill=\"#0072b2\"><use xlink:href=\"#DejaVuSans-2b\"/></g><g fill=\"none\" stroke=\"#808080\" stroke-linecap=\"round\"><path d=\"m838.93 388.21q25.355 24.783 49.911 48.785\" opacity=\".75\"/><path d=\"m887.38 432.77 1.4625 4.2262-4.2585-1.3657\" opacity=\".75\"/></g><g transform=\"translate(857.59 402.47) rotate(44.347) scale(.1 -.1)\" fill=\"#808080\"><use xlink:href=\"#DejaVuSans-49\"/><use transform=\"translate(29.492)\" xlink:href=\"#DejaVuSans-20\"/><use transform=\"translate(61.279)\" xlink:href=\"#DejaVuSans-2a\"/><use transform=\"translate(111.28)\" xlink:href=\"#DejaVuSans-20\"/><use transform=\"translate(143.07)\" xlink:href=\"#DejaVuSans-2d\"/><use transform=\"translate(179.15)\" xlink:href=\"#DejaVuSans-31\"/></g><g fill=\"none\" stroke=\"#f0e341\" stroke-linecap=\"round\" stroke-width=\"1.585\"><path d=\"m892.87 440.05q24.988 12.212 48.383 23.646\" opacity=\".75\"/><path d=\"m938.53 460.14 2.7156 3.5532-4.472 0.040521\" opacity=\".75\"/></g><g transform=\"translate(917.48 448.92) rotate(26.046) scale(.1 -.1)\" fill=\"#f0e341\"><use xlink:href=\"#DejaVuSans-2d\"/></g><g fill=\"none\" stroke=\"#808080\" stroke-linecap=\"round\"><path d=\"m838.93 362.03q25.355 24.783 49.911 48.785\" opacity=\".75\"/><path d=\"m887.38 406.59 1.4625 4.2262-4.2585-1.3657\" opacity=\".75\"/></g><g transform=\"translate(865.22 383.75) rotate(44.347) scale(.1 -.1)\" fill=\"#808080\"><use xlink:href=\"#DejaVuSans-49\"/></g><g fill=\"none\" stroke=\"#0072b2\" stroke-linecap=\"round\" stroke-width=\"1.585\"><path d=\"m892.5 414.39q25.355 24.783 49.443 48.328\" opacity=\".75\"/><path d=\"m940.48 458.49 1.4625 4.2262-4.2585-1.3657\" opacity=\".75\"/></g><g transform=\"translate(916.84 434.21) rotate(44.347) scale(.1 -.1)\" fill=\"#0072b2\"><use xlink:href=\"#DejaVuSans-2b\"/></g><g fill=\"none\" stroke=\"#808080\" stroke-linecap=\"round\"><path d=\"m196.12 309.67q25.355 24.783 49.911 48.785\" opacity=\".75\"/><path d=\"m244.57 354.23 1.4625 4.2262-4.2585-1.3657\" opacity=\".75\"/></g><g transform=\"translate(222.4 331.39) rotate(44.347) scale(.1 -.1)\" fill=\"#808080\"><use xlink:href=\"#DejaVuSans-49\"/></g><g fill=\"none\" stroke=\"#808080\" stroke-linecap=\"round\"><path d=\"m249.68 362.03q25.355 24.783 49.911 48.785\" opacity=\".75\"/><path d=\"m298.13 406.59 1.4625 4.2262-4.2585-1.3657\" opacity=\".75\"/></g><g transform=\"translate(275.97 383.75) rotate(44.347) scale(.1 -.1)\" fill=\"#808080\"><use xlink:href=\"#DejaVuSans-49\"/></g><g fill=\"none\" stroke=\"#f0e341\" stroke-linecap=\"round\" stroke-width=\"1.585\"><path d=\"m303.25 414.39q25.355 24.783 49.443 48.328\" opacity=\".75\"/><path d=\"m351.23 458.49 1.4625 4.2262-4.2585-1.3657\" opacity=\".75\"/></g><g transform=\"translate(329.3 435.88) rotate(44.347) scale(.1 -.1)\" fill=\"#f0e341\"><use xlink:href=\"#DejaVuSans-2d\"/></g><g fill=\"none\" stroke=\"#808080\" stroke-linecap=\"round\"><path d=\"m196.12 283.49q25.355 24.783 49.911 48.785\" opacity=\".75\"/><path d=\"m244.57 328.05 1.4625 4.2262-4.2585-1.3657\" opacity=\".75\"/></g><g transform=\"translate(222.4 305.21) rotate(44.347) scale(.1 -.1)\" fill=\"#808080\"><use xlink:href=\"#DejaVuSans-49\"/></g><g fill=\"none\" stroke=\"#808080\" stroke-linecap=\"round\"><path d=\"m249.68 335.85q25.355 24.783 49.911 48.785\" opacity=\".75\"/><path d=\"m298.13 380.41 1.4625 4.2262-4.2585-1.3657\" opacity=\".75\"/></g><g transform=\"translate(275.97 357.57) rotate(44.347) scale(.1 -.1)\" fill=\"#808080\"><use xlink:href=\"#DejaVuSans-49\"/></g><g fill=\"none\" stroke=\"#0072b2\" stroke-linecap=\"round\" stroke-width=\"1.585\"><path d=\"m302.95 388.46q25.657 37.617 50.315 73.77\" opacity=\".75\"/><path d=\"m352.66 457.8 0.60159 4.4315-3.9061-2.1776\" opacity=\".75\"/></g><g transform=\"translate(328.59 421.02) rotate(55.704) scale(.1 -.1)\" fill=\"#0072b2\"><use xlink:href=\"#DejaVuSans-2b\"/></g><g fill=\"none\" stroke=\"#0072b2\" stroke-linecap=\"round\"><path d=\"m785.93 334.45q24.786 0 48.454 0\" opacity=\".75\"/><path d=\"m830.39 332.45 4 2-4 2\" opacity=\".75\"/></g><g transform=\"translate(806.53 331.61) scale(.1 -.1)\" fill=\"#0072b2\"><use xlink:href=\"#DejaVuSans-2b\"/></g><g fill=\"none\" stroke=\"#f0e341\" stroke-linecap=\"round\"><path d=\"m785.73 333.57q24.988-12.212 48.971-23.933\" opacity=\".75\"/><path d=\"m830.23 309.6 4.472 0.040521-2.7156 3.5532\" opacity=\".75\"/></g><g transform=\"translate(807.85 319.6) rotate(-26.046) scale(.1 -.1)\" fill=\"#f0e341\"><use xlink:href=\"#DejaVuSans-2d\"/></g><g fill=\"none\" stroke=\"#808080\" stroke-linecap=\"round\" stroke-width=\"4.6439\"><path d=\"m785.36 333.05q25.355-24.783 46.997-45.938\" opacity=\".75\"/><path d=\"m828.1 288.48 4.2585-1.3657-1.4625 4.2262\" opacity=\".75\"/></g><g transform=\"translate(807.68 307.27) rotate(-44.347) scale(.1 -.1)\" fill=\"#808080\"><use xlink:href=\"#DejaVuSans-49\"/></g><g fill=\"none\" stroke=\"#808080\" stroke-linecap=\"round\"><path d=\"m838.93 335.85q25.355 24.783 49.911 48.785\" opacity=\".75\"/><path d=\"m887.38 380.41 1.4625 4.2262-4.2585-1.3657\" opacity=\".75\"/></g><g transform=\"translate(857.59 350.11) rotate(44.347) scale(.1 -.1)\" fill=\"#808080\"><use xlink:href=\"#DejaVuSans-49\"/><use transform=\"translate(29.492)\" xlink:href=\"#DejaVuSans-20\"/><use transform=\"translate(61.279)\" xlink:href=\"#DejaVuSans-2a\"/><use transform=\"translate(111.28)\" xlink:href=\"#DejaVuSans-20\"/><use transform=\"translate(143.07)\" xlink:href=\"#DejaVuSans-2d\"/><use transform=\"translate(179.15)\" xlink:href=\"#DejaVuSans-31\"/></g><g fill=\"none\" stroke=\"#808080\" stroke-linecap=\"round\"><path d=\"m892.5 388.21q25.355 24.783 49.911 48.785\" opacity=\".75\"/><path d=\"m940.95 432.77 1.4625 4.2262-4.2585-1.3657\" opacity=\".75\"/></g><g transform=\"translate(918.79 409.93) rotate(44.347) scale(.1 -.1)\" fill=\"#808080\"><use xlink:href=\"#DejaVuSans-49\"/></g><g fill=\"none\" stroke=\"#f0e341\" stroke-linecap=\"round\" stroke-width=\"1.585\"><path d=\"m946.43 440.05q24.988 12.212 48.383 23.646\" opacity=\".75\"/><path d=\"m992.1 460.14 2.7156 3.5532-4.472 0.040521\" opacity=\".75\"/></g><g transform=\"translate(971.05 448.92) rotate(26.046) scale(.1 -.1)\" fill=\"#f0e341\"><use xlink:href=\"#DejaVuSans-2d\"/></g><g fill=\"none\" stroke=\"#808080\" stroke-linecap=\"round\"><path d=\"m838.93 309.67q25.355 24.783 49.911 48.785\" opacity=\".75\"/><path d=\"m887.38 354.23 1.4625 4.2262-4.2585-1.3657\" opacity=\".75\"/></g><g transform=\"translate(865.22 331.39) rotate(44.347) scale(.1 -.1)\" fill=\"#808080\"><use xlink:href=\"#DejaVuSans-49\"/></g><g fill=\"none\" stroke=\"#808080\" stroke-linecap=\"round\"><path d=\"m892.5 362.03q25.355 24.783 49.911 48.785\" opacity=\".75\"/><path d=\"m940.95 406.59 1.4625 4.2262-4.2585-1.3657\" opacity=\".75\"/></g><g transform=\"translate(918.79 383.75) rotate(44.347) scale(.1 -.1)\" fill=\"#808080\"><use xlink:href=\"#DejaVuSans-49\"/></g><g fill=\"none\" stroke=\"#0072b2\" stroke-linecap=\"round\" stroke-width=\"1.585\"><path d=\"m946.07 414.39q25.355 24.783 49.443 48.328\" opacity=\".75\"/><path d=\"m994.05 458.49 1.4625 4.2262-4.2585-1.3657\" opacity=\".75\"/></g><g transform=\"translate(970.41 434.21) rotate(44.347) scale(.1 -.1)\" fill=\"#0072b2\"><use xlink:href=\"#DejaVuSans-2b\"/></g><g fill=\"none\" stroke=\"#0072b2\" stroke-linecap=\"round\"><path d=\"m838.15 283.98q26.139 76.648 51.917 152.24\" opacity=\".75\"/><path d=\"m890.67 431.79-0.60187 4.4315-3.184-3.1404\" opacity=\".75\"/></g><g transform=\"translate(862.18 345.66) rotate(71.169) scale(.1 -.1)\" fill=\"#0072b2\"><use xlink:href=\"#DejaVuSans-2b\"/><use transform=\"translate(83.789)\" xlink:href=\"#DejaVuSans-20\"/><use transform=\"translate(115.58)\" xlink:href=\"#DejaVuSans-2a\"/><use transform=\"translate(165.58)\" xlink:href=\"#DejaVuSans-20\"/><use transform=\"translate(197.36)\" xlink:href=\"#DejaVuSans-2d\"/><use transform=\"translate(233.45)\" xlink:href=\"#DejaVuSans-31\"/></g><g fill=\"none\" stroke=\"#f0e341\" stroke-linecap=\"round\"><path d=\"m838.26 283.94q26.026 63.598 51.629 126.16\" opacity=\".75\"/><path d=\"m890.23 405.64-0.33604 4.4595-3.366-2.9445\" opacity=\".75\"/></g><g transform=\"translate(866.23 344.8) rotate(67.744) scale(.1 -.1)\" fill=\"#f0e341\"><use xlink:href=\"#DejaVuSans-2d\"/></g><g fill=\"none\" stroke=\"#0072b2\" stroke-linecap=\"round\"><path d=\"m838.93 283.49q25.355 24.783 49.911 48.785\" opacity=\".75\"/><path d=\"m887.38 328.05 1.4625 4.2262-4.2585-1.3657\" opacity=\".75\"/></g><g transform=\"translate(863.28 303.31) rotate(44.347) scale(.1 -.1)\" fill=\"#0072b2\"><use xlink:href=\"#DejaVuSans-2b\"/></g><g fill=\"none\" stroke=\"#f0e341\" stroke-linecap=\"round\"><path d=\"m839.3 282.97q24.988 12.212 48.971 23.933\" opacity=\".75\"/><path d=\"m885.55 303.35 2.7156 3.5532-4.472 0.040521\" opacity=\".75\"/></g><g transform=\"translate(863.91 291.84) rotate(26.046) scale(.1 -.1)\" fill=\"#f0e341\"><use xlink:href=\"#DejaVuSans-2d\"/></g><g fill=\"none\" stroke=\"#808080\" stroke-linecap=\"round\" stroke-width=\"4.3923\"><path d=\"m839.5 282.09q24.786 0 44.661 0\" opacity=\".75\"/><path d=\"m880.16 280.09 4 2-4 2\" opacity=\".75\"/></g><g transform=\"translate(862.81 279.25) scale(.1 -.1)\" fill=\"#808080\"><use xlink:href=\"#DejaVuSans-49\"/></g><g fill=\"none\" stroke=\"#808080\" stroke-linecap=\"round\"><path d=\"m249.68 309.67q25.355 24.783 49.911 48.785\" opacity=\".75\"/><path d=\"m298.13 354.23 1.4625 4.2262-4.2585-1.3657\" opacity=\".75\"/></g><g transform=\"translate(275.97 331.39) rotate(44.347) scale(.1 -.1)\" fill=\"#808080\"><use xlink:href=\"#DejaVuSans-49\"/></g><g fill=\"none\" stroke=\"#808080\" stroke-linecap=\"round\"><path d=\"m303.25 362.03q25.355 24.783 49.911 48.785\" opacity=\".75\"/><path d=\"m351.7 406.59 1.4625 4.2262-4.2585-1.3657\" opacity=\".75\"/></g><g transform=\"translate(329.54 383.75) rotate(44.347) scale(.1 -.1)\" fill=\"#808080\"><use xlink:href=\"#DejaVuSans-49\"/></g><g fill=\"none\" stroke=\"#f0e341\" stroke-linecap=\"round\"><path d=\"m356.82 414.39q25.355 24.783 49.911 48.785\" opacity=\".75\"/><path d=\"m405.27 458.95 1.4625 4.2262-4.2585-1.3657\" opacity=\".75\"/></g><g transform=\"translate(375.25 428.42) rotate(44.347) scale(.1 -.1)\" fill=\"#f0e341\"><use xlink:href=\"#DejaVuSans-2d\"/><use transform=\"translate(36.084)\" xlink:href=\"#DejaVuSans-20\"/><use transform=\"translate(67.871)\" xlink:href=\"#DejaVuSans-2a\"/><use transform=\"translate(117.87)\" xlink:href=\"#DejaVuSans-20\"/><use transform=\"translate(149.66)\" xlink:href=\"#DejaVuSans-2d\"/><use transform=\"translate(185.74)\" xlink:href=\"#DejaVuSans-31\"/></g><g fill=\"none\" stroke=\"#808080\" stroke-linecap=\"round\"><path d=\"m249.68 283.49q25.355 24.783 49.911 48.785\" opacity=\".75\"/><path d=\"m298.13 328.05 1.4625 4.2262-4.2585-1.3657\" opacity=\".75\"/></g><g transform=\"translate(275.97 305.21) rotate(44.347) scale(.1 -.1)\" fill=\"#808080\"><use xlink:href=\"#DejaVuSans-49\"/></g><g fill=\"none\" stroke=\"#808080\" stroke-linecap=\"round\"><path d=\"m303.25 335.85q25.355 24.783 49.911 48.785\" opacity=\".75\"/><path d=\"m351.7 380.41 1.4625 4.2262-4.2585-1.3657\" opacity=\".75\"/></g><g transform=\"translate(329.54 357.57) rotate(44.347) scale(.1 -.1)\" fill=\"#808080\"><use xlink:href=\"#DejaVuSans-49\"/></g><g fill=\"none\" stroke=\"#0072b2\" stroke-linecap=\"round\"><path d=\"m356.52 388.46q25.657 37.617 50.683 74.311\" opacity=\".75\"/><path d=\"m406.6 458.34 0.60158 4.4315-3.9061-2.1776\" opacity=\".75\"/></g><g transform=\"translate(382.16 421.02) rotate(55.704) scale(.1 -.1)\" fill=\"#0072b2\"><use xlink:href=\"#DejaVuSans-2b\"/></g><g fill=\"none\" stroke=\"#808080\" stroke-linecap=\"round\"><path d=\"m892.5 335.85q25.355 24.783 49.911 48.785\" opacity=\".75\"/><path d=\"m940.95 380.41 1.4625 4.2262-4.2585-1.3657\" opacity=\".75\"/></g><g transform=\"translate(918.79 357.57) rotate(44.347) scale(.1 -.1)\" fill=\"#808080\"><use xlink:href=\"#DejaVuSans-49\"/></g><g fill=\"none\" stroke=\"#808080\" stroke-linecap=\"round\"><path d=\"m946.07 388.21q25.355 24.783 49.911 48.785\" opacity=\".75\"/><path d=\"m994.52 432.77 1.4625 4.2262-4.2585-1.3657\" opacity=\".75\"/></g><g transform=\"translate(972.35 409.93) rotate(44.347) scale(.1 -.1)\" fill=\"#808080\"><use xlink:href=\"#DejaVuSans-49\"/></g><g fill=\"none\" stroke=\"#f0e341\" stroke-linecap=\"round\"><path d=\"m1e3 440.05q24.988 12.212 48.971 23.933\" opacity=\".75\"/><path d=\"m1046.3 460.43 2.7156 3.5532-4.472 0.040521\" opacity=\".75\"/></g><g transform=\"translate(1015 444.23) rotate(26.046) scale(.1 -.1)\" fill=\"#f0e341\"><use xlink:href=\"#DejaVuSans-2d\"/><use transform=\"translate(36.084)\" xlink:href=\"#DejaVuSans-20\"/><use transform=\"translate(67.871)\" xlink:href=\"#DejaVuSans-2a\"/><use transform=\"translate(117.87)\" xlink:href=\"#DejaVuSans-20\"/><use transform=\"translate(149.66)\" xlink:href=\"#DejaVuSans-2d\"/><use transform=\"translate(185.74)\" xlink:href=\"#DejaVuSans-31\"/></g><g fill=\"none\" stroke=\"#808080\" stroke-linecap=\"round\"><path d=\"m892.5 309.67q25.355 24.783 49.911 48.785\" opacity=\".75\"/><path d=\"m940.95 354.23 1.4625 4.2262-4.2585-1.3657\" opacity=\".75\"/></g><g transform=\"translate(918.79 331.39) rotate(44.347) scale(.1 -.1)\" fill=\"#808080\"><use xlink:href=\"#DejaVuSans-49\"/></g><g fill=\"none\" stroke=\"#808080\" stroke-linecap=\"round\"><path d=\"m946.07 362.03q25.355 24.783 49.911 48.785\" opacity=\".75\"/><path d=\"m994.52 406.59 1.4625 4.2262-4.2585-1.3657\" opacity=\".75\"/></g><g transform=\"translate(972.35 383.75) rotate(44.347) scale(.1 -.1)\" fill=\"#808080\"><use xlink:href=\"#DejaVuSans-49\"/></g><g fill=\"none\" stroke=\"#0072b2\" stroke-linecap=\"round\"><path d=\"m999.64 414.39q25.355 24.783 49.911 48.785\" opacity=\".75\"/><path d=\"m1048.1 458.95 1.4625 4.2262-4.2585-1.3657\" opacity=\".75\"/></g><g transform=\"translate(1024 434.21) rotate(44.347) scale(.1 -.1)\" fill=\"#0072b2\"><use xlink:href=\"#DejaVuSans-2b\"/></g><g fill=\"none\" stroke=\"#0072b2\" stroke-linecap=\"round\"><path d=\"m891.72 283.98q26.139 76.648 51.917 152.24\" opacity=\".75\"/><path d=\"m944.24 431.79-0.60187 4.4315-3.184-3.1404\" opacity=\".75\"/></g><g transform=\"translate(915.75 345.66) rotate(71.169) scale(.1 -.1)\" fill=\"#0072b2\"><use xlink:href=\"#DejaVuSans-2b\"/><use transform=\"translate(83.789)\" xlink:href=\"#DejaVuSans-20\"/><use transform=\"translate(115.58)\" xlink:href=\"#DejaVuSans-2a\"/><use transform=\"translate(165.58)\" xlink:href=\"#DejaVuSans-20\"/><use transform=\"translate(197.36)\" xlink:href=\"#DejaVuSans-2d\"/><use transform=\"translate(233.45)\" xlink:href=\"#DejaVuSans-31\"/></g><g fill=\"none\" stroke=\"#f0e341\" stroke-linecap=\"round\"><path d=\"m891.83 283.94q26.026 63.598 51.629 126.16\" opacity=\".75\"/><path d=\"m943.79 405.64-0.33604 4.4595-3.366-2.9445\" opacity=\".75\"/></g><g transform=\"translate(919.8 344.8) rotate(67.744) scale(.1 -.1)\" fill=\"#f0e341\"><use xlink:href=\"#DejaVuSans-2d\"/></g><g fill=\"none\" stroke=\"#0072b2\" stroke-linecap=\"round\"><path d=\"m892.5 283.49q25.355 24.783 49.911 48.785\" opacity=\".75\"/><path d=\"m940.95 328.05 1.4625 4.2262-4.2585-1.3657\" opacity=\".75\"/></g><g transform=\"translate(909.22 295.86) rotate(44.347) scale(.1 -.1)\" fill=\"#0072b2\"><use xlink:href=\"#DejaVuSans-2b\"/><use transform=\"translate(83.789)\" xlink:href=\"#DejaVuSans-20\"/><use transform=\"translate(115.58)\" xlink:href=\"#DejaVuSans-2a\"/><use transform=\"translate(165.58)\" xlink:href=\"#DejaVuSans-20\"/><use transform=\"translate(197.36)\" xlink:href=\"#DejaVuSans-2d\"/><use transform=\"translate(233.45)\" xlink:href=\"#DejaVuSans-31\"/></g><g fill=\"none\" stroke=\"#f0e341\" stroke-linecap=\"round\"><path d=\"m892.87 282.97q24.988 12.212 48.971 23.933\" opacity=\".75\"/><path d=\"m939.12 303.35 2.7156 3.5532-4.472 0.040521\" opacity=\".75\"/></g><g transform=\"translate(917.48 291.84) rotate(26.046) scale(.1 -.1)\" fill=\"#f0e341\"><use xlink:href=\"#DejaVuSans-2d\"/></g><g fill=\"none\" stroke=\"#808080\" stroke-linecap=\"round\" stroke-width=\"4.0875\"><path d=\"m893.07 282.09q24.786 0 45.002 0\" opacity=\".75\"/><path d=\"m934.07 280.09 4 2-4 2\" opacity=\".75\"/></g><g transform=\"translate(916.38 279.25) scale(.1 -.1)\" fill=\"#808080\"><use xlink:href=\"#DejaVuSans-49\"/></g><g fill=\"none\" stroke=\"#808080\" stroke-linecap=\"round\"><path d=\"m303.25 309.67q25.355 24.783 49.911 48.785\" opacity=\".75\"/><path d=\"m351.7 354.23 1.4625 4.2262-4.2585-1.3657\" opacity=\".75\"/></g><g transform=\"translate(329.54 331.39) rotate(44.347) scale(.1 -.1)\" fill=\"#808080\"><use xlink:href=\"#DejaVuSans-49\"/></g><g fill=\"none\" stroke=\"#808080\" stroke-linecap=\"round\"><path d=\"m356.82 362.03q25.355 24.783 49.911 48.785\" opacity=\".75\"/><path d=\"m405.27 406.59 1.4625 4.2262-4.2585-1.3657\" opacity=\".75\"/></g><g transform=\"translate(383.11 383.75) rotate(44.347) scale(.1 -.1)\" fill=\"#808080\"><use xlink:href=\"#DejaVuSans-49\"/></g><g fill=\"none\" stroke=\"#f0e341\" stroke-linecap=\"round\" stroke-width=\"1.585\"><path d=\"m410.39 414.39q25.355 24.783 49.443 48.328\" opacity=\".75\"/><path d=\"m458.37 458.49 1.4625 4.2262-4.2585-1.3657\" opacity=\".75\"/></g><g transform=\"translate(436.44 435.88) rotate(44.347) scale(.1 -.1)\" fill=\"#f0e341\"><use xlink:href=\"#DejaVuSans-2d\"/></g><g fill=\"none\" stroke=\"#808080\" stroke-linecap=\"round\"><path d=\"m303.25 283.49q25.355 24.783 49.911 48.785\" opacity=\".75\"/><path d=\"m351.7 328.05 1.4625 4.2262-4.2585-1.3657\" opacity=\".75\"/></g><g transform=\"translate(329.54 305.21) rotate(44.347) scale(.1 -.1)\" fill=\"#808080\"><use xlink:href=\"#DejaVuSans-49\"/></g><g fill=\"none\" stroke=\"#808080\" stroke-linecap=\"round\"><path d=\"m356.82 335.85q25.355 24.783 49.911 48.785\" opacity=\".75\"/><path d=\"m405.27 380.41 1.4625 4.2262-4.2585-1.3657\" opacity=\".75\"/></g><g transform=\"translate(383.11 357.57) rotate(44.347) scale(.1 -.1)\" fill=\"#808080\"><use xlink:href=\"#DejaVuSans-49\"/></g><g fill=\"none\" stroke=\"#0072b2\" stroke-linecap=\"round\" stroke-width=\"1.585\"><path d=\"m410.09 388.46q25.657 37.617 50.315 73.77\" opacity=\".75\"/><path d=\"m459.8 457.8 0.60159 4.4315-3.9061-2.1776\" opacity=\".75\"/></g><g transform=\"translate(435.73 421.02) rotate(55.704) scale(.1 -.1)\" fill=\"#0072b2\"><use xlink:href=\"#DejaVuSans-2b\"/></g><g fill=\"none\" stroke=\"#808080\" stroke-linecap=\"round\"><path d=\"m946.07 335.85q25.355 24.783 49.911 48.785\" opacity=\".75\"/><path d=\"m994.52 380.41 1.4625 4.2262-4.2585-1.3657\" opacity=\".75\"/></g><g transform=\"translate(972.35 357.57) rotate(44.347) scale(.1 -.1)\" fill=\"#808080\"><use xlink:href=\"#DejaVuSans-49\"/></g><g fill=\"none\" stroke=\"#808080\" stroke-linecap=\"round\"><path d=\"m999.64 388.21q25.355 24.783 49.911 48.785\" opacity=\".75\"/><path d=\"m1048.1 432.77 1.4625 4.2262-4.2585-1.3657\" opacity=\".75\"/></g><g transform=\"translate(1025.9 409.93) rotate(44.347) scale(.1 -.1)\" fill=\"#808080\"><use xlink:href=\"#DejaVuSans-49\"/></g><g fill=\"none\" stroke=\"#f0e341\" stroke-linecap=\"round\" stroke-width=\"1.585\"><path d=\"m1053.6 440.05q24.988 12.212 48.383 23.646\" opacity=\".75\"/><path d=\"m1099.2 460.14 2.7156 3.5532-4.472 0.040521\" opacity=\".75\"/></g><g transform=\"translate(1078.2 448.92) rotate(26.046) scale(.1 -.1)\" fill=\"#f0e341\"><use xlink:href=\"#DejaVuSans-2d\"/></g><g fill=\"none\" stroke=\"#808080\" stroke-linecap=\"round\"><path d=\"m946.07 309.67q25.355 24.783 49.911 48.785\" opacity=\".75\"/><path d=\"m994.52 354.23 1.4625 4.2262-4.2585-1.3657\" opacity=\".75\"/></g><g transform=\"translate(972.35 331.39) rotate(44.347) scale(.1 -.1)\" fill=\"#808080\"><use xlink:href=\"#DejaVuSans-49\"/></g><g fill=\"none\" stroke=\"#808080\" stroke-linecap=\"round\"><path d=\"m999.64 362.03q25.355 24.783 49.911 48.785\" opacity=\".75\"/><path d=\"m1048.1 406.59 1.4625 4.2262-4.2585-1.3657\" opacity=\".75\"/></g><g transform=\"translate(1025.9 383.75) rotate(44.347) scale(.1 -.1)\" fill=\"#808080\"><use xlink:href=\"#DejaVuSans-49\"/></g><g fill=\"none\" stroke=\"#0072b2\" stroke-linecap=\"round\" stroke-width=\"1.585\"><path d=\"m1053.2 414.39q25.355 24.783 49.443 48.328\" opacity=\".75\"/><path d=\"m1101.2 458.49 1.4625 4.2262-4.2585-1.3657\" opacity=\".75\"/></g><g transform=\"translate(1077.5 434.21) rotate(44.347) scale(.1 -.1)\" fill=\"#0072b2\"><use xlink:href=\"#DejaVuSans-2b\"/></g><g fill=\"none\" stroke=\"#808080\" stroke-linecap=\"round\"><path d=\"m356.82 309.67q25.355 24.783 49.911 48.785\" opacity=\".75\"/><path d=\"m405.27 354.23 1.4625 4.2262-4.2585-1.3657\" opacity=\".75\"/></g><g transform=\"translate(375.48 323.93) rotate(44.347) scale(.1 -.1)\" fill=\"#808080\"><use xlink:href=\"#DejaVuSans-49\"/><use transform=\"translate(29.492)\" xlink:href=\"#DejaVuSans-20\"/><use transform=\"translate(61.279)\" xlink:href=\"#DejaVuSans-2a\"/><use transform=\"translate(111.28)\" xlink:href=\"#DejaVuSans-20\"/><use transform=\"translate(143.07)\" xlink:href=\"#DejaVuSans-2d\"/><use transform=\"translate(179.15)\" xlink:href=\"#DejaVuSans-31\"/></g><g fill=\"none\" stroke=\"#808080\" stroke-linecap=\"round\"><path d=\"m410.39 362.03q25.355 24.783 49.911 48.785\" opacity=\".75\"/><path d=\"m458.84 406.59 1.4625 4.2262-4.2585-1.3657\" opacity=\".75\"/></g><g transform=\"translate(436.67 383.75) rotate(44.347) scale(.1 -.1)\" fill=\"#808080\"><use xlink:href=\"#DejaVuSans-49\"/></g><g fill=\"none\" stroke=\"#f0e341\" stroke-linecap=\"round\" stroke-width=\"1.585\"><path d=\"m463.96 414.39q25.355 24.783 49.443 48.328\" opacity=\".75\"/><path d=\"m511.94 458.49 1.4625 4.2262-4.2585-1.3657\" opacity=\".75\"/></g><g transform=\"translate(490.01 435.88) rotate(44.347) scale(.1 -.1)\" fill=\"#f0e341\"><use xlink:href=\"#DejaVuSans-2d\"/></g><g fill=\"none\" stroke=\"#808080\" stroke-linecap=\"round\"><path d=\"m356.82 283.49q25.355 24.783 49.911 48.785\" opacity=\".75\"/><path d=\"m405.27 328.05 1.4625 4.2262-4.2585-1.3657\" opacity=\".75\"/></g><g transform=\"translate(383.11 305.21) rotate(44.347) scale(.1 -.1)\" fill=\"#808080\"><use xlink:href=\"#DejaVuSans-49\"/></g><g fill=\"none\" stroke=\"#808080\" stroke-linecap=\"round\"><path d=\"m410.39 335.85q25.355 24.783 49.911 48.785\" opacity=\".75\"/><path d=\"m458.84 380.41 1.4625 4.2262-4.2585-1.3657\" opacity=\".75\"/></g><g transform=\"translate(436.67 357.57) rotate(44.347) scale(.1 -.1)\" fill=\"#808080\"><use xlink:href=\"#DejaVuSans-49\"/></g><g fill=\"none\" stroke=\"#0072b2\" stroke-linecap=\"round\" stroke-width=\"1.585\"><path d=\"m463.65 388.46q25.657 37.617 50.315 73.77\" opacity=\".75\"/><path d=\"m513.37 457.8 0.60159 4.4315-3.9061-2.1776\" opacity=\".75\"/></g><g transform=\"translate(489.3 421.02) rotate(55.704) scale(.1 -.1)\" fill=\"#0072b2\"><use xlink:href=\"#DejaVuSans-2b\"/></g><g fill=\"none\" stroke=\"#0072b2\" stroke-linecap=\"round\"><path d=\"m946.07 283.49q25.355 24.783 49.911 48.785\" opacity=\".75\"/><path d=\"m994.52 328.05 1.4625 4.2262-4.2585-1.3657\" opacity=\".75\"/></g><g transform=\"translate(970.41 303.31) rotate(44.347) scale(.1 -.1)\" fill=\"#0072b2\"><use xlink:href=\"#DejaVuSans-2b\"/></g><g fill=\"none\" stroke=\"#f0e341\" stroke-linecap=\"round\"><path d=\"m946.43 282.97q24.988 12.212 48.971 23.933\" opacity=\".75\"/><path d=\"m992.69 303.35 2.7156 3.5532-4.472 0.040521\" opacity=\".75\"/></g><g transform=\"translate(971.05 291.84) rotate(26.046) scale(.1 -.1)\" fill=\"#f0e341\"><use xlink:href=\"#DejaVuSans-2d\"/></g><g fill=\"none\" stroke=\"#808080\" stroke-linecap=\"round\" stroke-width=\"3.9069\"><path d=\"m946.64 282.09q24.786 0 45.204 0\" opacity=\".75\"/><path d=\"m987.84 280.09 4 2-4 2\" opacity=\".75\"/></g><g transform=\"translate(969.95 279.25) scale(.1 -.1)\" fill=\"#808080\"><use xlink:href=\"#DejaVuSans-49\"/></g><g fill=\"none\" stroke=\"#808080\" stroke-linecap=\"round\"><path d=\"m999.64 335.85q25.355 24.783 49.911 48.785\" opacity=\".75\"/><path d=\"m1048.1 380.41 1.4625 4.2262-4.2585-1.3657\" opacity=\".75\"/></g><g transform=\"translate(1025.9 357.57) rotate(44.347) scale(.1 -.1)\" fill=\"#808080\"><use xlink:href=\"#DejaVuSans-49\"/></g><g fill=\"none\" stroke=\"#808080\" stroke-linecap=\"round\"><path d=\"m1053.2 388.21q25.355 24.783 49.911 48.785\" opacity=\".75\"/><path d=\"m1101.7 432.77 1.4625 4.2262-4.2585-1.3657\" opacity=\".75\"/></g><g transform=\"translate(1071.9 402.47) rotate(44.347) scale(.1 -.1)\" fill=\"#808080\"><use xlink:href=\"#DejaVuSans-49\"/><use transform=\"translate(29.492)\" xlink:href=\"#DejaVuSans-20\"/><use transform=\"translate(61.279)\" xlink:href=\"#DejaVuSans-2a\"/><use transform=\"translate(111.28)\" xlink:href=\"#DejaVuSans-20\"/><use transform=\"translate(143.07)\" xlink:href=\"#DejaVuSans-2d\"/><use transform=\"translate(179.15)\" xlink:href=\"#DejaVuSans-31\"/></g><g fill=\"none\" stroke=\"#f0e341\" stroke-linecap=\"round\" stroke-width=\"1.585\"><path d=\"m1107.1 440.05q24.988 12.212 48.383 23.646\" opacity=\".75\"/><path d=\"m1152.8 460.14 2.7156 3.5532-4.472 0.040521\" opacity=\".75\"/></g><g transform=\"translate(1131.8 448.92) rotate(26.046) scale(.1 -.1)\" fill=\"#f0e341\"><use xlink:href=\"#DejaVuSans-2d\"/></g><g fill=\"none\" stroke=\"#808080\" stroke-linecap=\"round\"><path d=\"m999.64 309.67q25.355 24.783 49.911 48.785\" opacity=\".75\"/><path d=\"m1048.1 354.23 1.4625 4.2262-4.2585-1.3657\" opacity=\".75\"/></g><g transform=\"translate(1025.9 331.39) rotate(44.347) scale(.1 -.1)\" fill=\"#808080\"><use xlink:href=\"#DejaVuSans-49\"/></g><g fill=\"none\" stroke=\"#808080\" stroke-linecap=\"round\"><path d=\"m1053.2 362.03q25.355 24.783 49.911 48.785\" opacity=\".75\"/><path d=\"m1101.7 406.59 1.4625 4.2262-4.2585-1.3657\" opacity=\".75\"/></g><g transform=\"translate(1079.5 383.75) rotate(44.347) scale(.1 -.1)\" fill=\"#808080\"><use xlink:href=\"#DejaVuSans-49\"/></g><g fill=\"none\" stroke=\"#0072b2\" stroke-linecap=\"round\" stroke-width=\"1.585\"><path d=\"m1106.8 414.39q25.355 24.783 49.443 48.328\" opacity=\".75\"/><path d=\"m1154.8 458.49 1.4625 4.2262-4.2585-1.3657\" opacity=\".75\"/></g><g transform=\"translate(1131.1 434.21) rotate(44.347) scale(.1 -.1)\" fill=\"#0072b2\"><use xlink:href=\"#DejaVuSans-2b\"/></g><g fill=\"none\" stroke=\"#0072b2\" stroke-linecap=\"round\"><path d=\"m998.85 283.98q26.139 76.648 51.917 152.24\" opacity=\".75\"/><path d=\"m1051.4 431.79-0.60187 4.4315-3.184-3.1404\" opacity=\".75\"/></g><g transform=\"translate(1022.9 345.66) rotate(71.169) scale(.1 -.1)\" fill=\"#0072b2\"><use xlink:href=\"#DejaVuSans-2b\"/><use transform=\"translate(83.789)\" xlink:href=\"#DejaVuSans-20\"/><use transform=\"translate(115.58)\" xlink:href=\"#DejaVuSans-2a\"/><use transform=\"translate(165.58)\" xlink:href=\"#DejaVuSans-20\"/><use transform=\"translate(197.36)\" xlink:href=\"#DejaVuSans-2d\"/><use transform=\"translate(233.45)\" xlink:href=\"#DejaVuSans-31\"/></g><g fill=\"none\" stroke=\"#f0e341\" stroke-linecap=\"round\"><path d=\"m998.96 283.94q26.026 63.598 51.629 126.16\" opacity=\".75\"/><path d=\"m1050.9 405.64-0.33604 4.4595-3.366-2.9445\" opacity=\".75\"/></g><g transform=\"translate(1026.9 344.8) rotate(67.744) scale(.1 -.1)\" fill=\"#f0e341\"><use xlink:href=\"#DejaVuSans-2d\"/></g><g fill=\"none\" stroke=\"#0072b2\" stroke-linecap=\"round\"><path d=\"m999.64 283.49q25.355 24.783 49.911 48.785\" opacity=\".75\"/><path d=\"m1048.1 328.05 1.4625 4.2262-4.2585-1.3657\" opacity=\".75\"/></g><g transform=\"translate(1016.4 295.86) rotate(44.347) scale(.1 -.1)\" fill=\"#0072b2\"><use xlink:href=\"#DejaVuSans-2b\"/><use transform=\"translate(83.789)\" xlink:href=\"#DejaVuSans-20\"/><use transform=\"translate(115.58)\" xlink:href=\"#DejaVuSans-2a\"/><use transform=\"translate(165.58)\" xlink:href=\"#DejaVuSans-20\"/><use transform=\"translate(197.36)\" xlink:href=\"#DejaVuSans-2d\"/><use transform=\"translate(233.45)\" xlink:href=\"#DejaVuSans-31\"/></g><g fill=\"none\" stroke=\"#f0e341\" stroke-linecap=\"round\"><path d=\"m1e3 282.97q24.988 12.212 48.971 23.933\" opacity=\".75\"/><path d=\"m1046.3 303.35 2.7156 3.5532-4.472 0.040521\" opacity=\".75\"/></g><g transform=\"translate(1024.6 291.84) rotate(26.046) scale(.1 -.1)\" fill=\"#f0e341\"><use xlink:href=\"#DejaVuSans-2d\"/></g><g fill=\"none\" stroke=\"#808080\" stroke-linecap=\"round\" stroke-width=\"3.4594\"><path d=\"m1000.2 282.09q24.786 0 45.704 0\" opacity=\".75\"/><path d=\"m1041.9 280.09 4 2-4 2\" opacity=\".75\"/></g><g transform=\"translate(1023.5 279.25) scale(.1 -.1)\" fill=\"#808080\"><use xlink:href=\"#DejaVuSans-49\"/></g><g fill=\"none\" stroke=\"#808080\" stroke-linecap=\"round\"><path d=\"m410.39 309.67q25.355 24.783 49.911 48.785\" opacity=\".75\"/><path d=\"m458.84 354.23 1.4625 4.2262-4.2585-1.3657\" opacity=\".75\"/></g><g transform=\"translate(436.67 331.39) rotate(44.347) scale(.1 -.1)\" fill=\"#808080\"><use xlink:href=\"#DejaVuSans-49\"/></g><g fill=\"none\" stroke=\"#808080\" stroke-linecap=\"round\"><path d=\"m463.96 362.03q25.355 24.783 49.911 48.785\" opacity=\".75\"/><path d=\"m512.41 406.59 1.4625 4.2262-4.2585-1.3657\" opacity=\".75\"/></g><g transform=\"translate(490.24 383.75) rotate(44.347) scale(.1 -.1)\" fill=\"#808080\"><use xlink:href=\"#DejaVuSans-49\"/></g><g fill=\"none\" stroke=\"#f0e341\" stroke-linecap=\"round\"><path d=\"m517.52 414.39q25.355 24.783 49.911 48.785\" opacity=\".75\"/><path d=\"m565.97 458.95 1.4625 4.2262-4.2585-1.3657\" opacity=\".75\"/></g><g transform=\"translate(543.57 435.88) rotate(44.347) scale(.1 -.1)\" fill=\"#f0e341\"><use xlink:href=\"#DejaVuSans-2d\"/></g><g fill=\"none\" stroke=\"#808080\" stroke-linecap=\"round\"><path d=\"m410.39 283.49q25.355 24.783 49.911 48.785\" opacity=\".75\"/><path d=\"m458.84 328.05 1.4625 4.2262-4.2585-1.3657\" opacity=\".75\"/></g><g transform=\"translate(436.67 305.21) rotate(44.347) scale(.1 -.1)\" fill=\"#808080\"><use xlink:href=\"#DejaVuSans-49\"/></g><g fill=\"none\" stroke=\"#808080\" stroke-linecap=\"round\"><path d=\"m463.96 335.85q25.355 24.783 49.911 48.785\" opacity=\".75\"/><path d=\"m512.41 380.41 1.4625 4.2262-4.2585-1.3657\" opacity=\".75\"/></g><g transform=\"translate(490.24 357.57) rotate(44.347) scale(.1 -.1)\" fill=\"#808080\"><use xlink:href=\"#DejaVuSans-49\"/></g><g fill=\"none\" stroke=\"#0072b2\" stroke-linecap=\"round\"><path d=\"m517.22 388.46q25.657 37.617 50.683 74.311\" opacity=\".75\"/><path d=\"m567.3 458.34 0.60158 4.4315-3.9061-2.1776\" opacity=\".75\"/></g><g transform=\"translate(542.87 421.02) rotate(55.704) scale(.1 -.1)\" fill=\"#0072b2\"><use xlink:href=\"#DejaVuSans-2b\"/></g><g fill=\"none\" stroke=\"#808080\" stroke-linecap=\"round\"><path d=\"m1053.2 335.85q25.355 24.783 49.911 48.785\" opacity=\".75\"/><path d=\"m1101.7 380.41 1.4625 4.2262-4.2585-1.3657\" opacity=\".75\"/></g><g transform=\"translate(1079.5 357.57) rotate(44.347) scale(.1 -.1)\" fill=\"#808080\"><use xlink:href=\"#DejaVuSans-49\"/></g><g fill=\"none\" stroke=\"#808080\" stroke-linecap=\"round\"><path d=\"m1106.8 388.21q25.355 24.783 49.911 48.785\" opacity=\".75\"/><path d=\"m1155.2 432.77 1.4625 4.2262-4.2585-1.3657\" opacity=\".75\"/></g><g transform=\"translate(1133.1 409.93) rotate(44.347) scale(.1 -.1)\" fill=\"#808080\"><use xlink:href=\"#DejaVuSans-49\"/></g><g fill=\"none\" stroke=\"#f0e341\" stroke-linecap=\"round\"><path d=\"m1160.7 440.05q24.988 12.212 48.971 23.933\" opacity=\".75\"/><path d=\"m1207 460.43 2.7156 3.5532-4.472 0.040521\" opacity=\".75\"/></g><g transform=\"translate(1185.3 448.92) rotate(26.046) scale(.1 -.1)\" fill=\"#f0e341\"><use xlink:href=\"#DejaVuSans-2d\"/></g><g fill=\"none\" stroke=\"#808080\" stroke-linecap=\"round\"><path d=\"m1053.2 309.67q25.355 24.783 49.911 48.785\" opacity=\".75\"/><path d=\"m1101.7 354.23 1.4625 4.2262-4.2585-1.3657\" opacity=\".75\"/></g><g transform=\"translate(1079.5 331.39) rotate(44.347) scale(.1 -.1)\" fill=\"#808080\"><use xlink:href=\"#DejaVuSans-49\"/></g><g fill=\"none\" stroke=\"#808080\" stroke-linecap=\"round\"><path d=\"m1106.8 362.03q25.355 24.783 49.911 48.785\" opacity=\".75\"/><path d=\"m1155.2 406.59 1.4625 4.2262-4.2585-1.3657\" opacity=\".75\"/></g><g transform=\"translate(1133.1 383.75) rotate(44.347) scale(.1 -.1)\" fill=\"#808080\"><use xlink:href=\"#DejaVuSans-49\"/></g><g fill=\"none\" stroke=\"#0072b2\" stroke-linecap=\"round\"><path d=\"m1160.3 414.39q25.355 24.783 49.911 48.785\" opacity=\".75\"/><path d=\"m1208.8 458.95 1.4625 4.2262-4.2585-1.3657\" opacity=\".75\"/></g><g transform=\"translate(1184.7 434.21) rotate(44.347) scale(.1 -.1)\" fill=\"#0072b2\"><use xlink:href=\"#DejaVuSans-2b\"/></g><g fill=\"none\" stroke=\"#0072b2\" stroke-linecap=\"round\"><path d=\"m1052.4 283.98q26.139 76.648 51.917 152.24\" opacity=\".75\"/><path d=\"m1104.9 431.79-0.60187 4.4315-3.184-3.1404\" opacity=\".75\"/></g><g transform=\"translate(1076.5 345.66) rotate(71.169) scale(.1 -.1)\" fill=\"#0072b2\"><use xlink:href=\"#DejaVuSans-2b\"/><use transform=\"translate(83.789)\" xlink:href=\"#DejaVuSans-20\"/><use transform=\"translate(115.58)\" xlink:href=\"#DejaVuSans-2a\"/><use transform=\"translate(165.58)\" xlink:href=\"#DejaVuSans-20\"/><use transform=\"translate(197.36)\" xlink:href=\"#DejaVuSans-2d\"/><use transform=\"translate(233.45)\" xlink:href=\"#DejaVuSans-31\"/></g><g fill=\"none\" stroke=\"#f0e341\" stroke-linecap=\"round\"><path d=\"m1052.5 283.94q26.026 63.598 51.629 126.16\" opacity=\".75\"/><path d=\"m1104.5 405.64-0.33604 4.4595-3.366-2.9445\" opacity=\".75\"/></g><g transform=\"translate(1080.5 344.8) rotate(67.744) scale(.1 -.1)\" fill=\"#f0e341\"><use xlink:href=\"#DejaVuSans-2d\"/></g><g fill=\"none\" stroke=\"#0072b2\" stroke-linecap=\"round\"><path d=\"m1053.2 283.49q25.355 24.783 49.911 48.785\" opacity=\".75\"/><path d=\"m1101.7 328.05 1.4625 4.2262-4.2585-1.3657\" opacity=\".75\"/></g><g transform=\"translate(1077.5 303.31) rotate(44.347) scale(.1 -.1)\" fill=\"#0072b2\"><use xlink:href=\"#DejaVuSans-2b\"/></g><g fill=\"none\" stroke=\"#f0e341\" stroke-linecap=\"round\"><path d=\"m1053.6 282.97q24.988 12.212 48.971 23.933\" opacity=\".75\"/><path d=\"m1099.8 303.35 2.7156 3.5532-4.472 0.040521\" opacity=\".75\"/></g><g transform=\"translate(1078.2 291.84) rotate(26.046) scale(.1 -.1)\" fill=\"#f0e341\"><use xlink:href=\"#DejaVuSans-2d\"/></g><g fill=\"none\" stroke=\"#808080\" stroke-linecap=\"round\" stroke-width=\"2.8074\"><path d=\"m1053.8 282.09q24.786 0 46.433 0\" opacity=\".75\"/><path d=\"m1096.2 280.09 4 2-4 2\" opacity=\".75\"/></g><g transform=\"translate(1077.1 279.25) scale(.1 -.1)\" fill=\"#808080\"><use xlink:href=\"#DejaVuSans-49\"/></g><g fill=\"none\" stroke=\"#808080\" stroke-linecap=\"round\"><path d=\"m463.96 309.67q25.355 24.783 49.911 48.785\" opacity=\".75\"/><path d=\"m512.41 354.23 1.4625 4.2262-4.2585-1.3657\" opacity=\".75\"/></g><g transform=\"translate(482.62 323.93) rotate(44.347) scale(.1 -.1)\" fill=\"#808080\"><use xlink:href=\"#DejaVuSans-49\"/><use transform=\"translate(29.492)\" xlink:href=\"#DejaVuSans-20\"/><use transform=\"translate(61.279)\" xlink:href=\"#DejaVuSans-2a\"/><use transform=\"translate(111.28)\" xlink:href=\"#DejaVuSans-20\"/><use transform=\"translate(143.07)\" xlink:href=\"#DejaVuSans-2d\"/><use transform=\"translate(179.15)\" xlink:href=\"#DejaVuSans-31\"/></g><g fill=\"none\" stroke=\"#808080\" stroke-linecap=\"round\"><path d=\"m517.52 362.03q25.355 24.783 49.911 48.785\" opacity=\".75\"/><path d=\"m565.97 406.59 1.4625 4.2262-4.2585-1.3657\" opacity=\".75\"/></g><g transform=\"translate(543.81 383.75) rotate(44.347) scale(.1 -.1)\" fill=\"#808080\"><use xlink:href=\"#DejaVuSans-49\"/></g><g fill=\"none\" stroke=\"#f0e341\" stroke-linecap=\"round\" stroke-width=\"1.585\"><path d=\"m571.09 414.39q25.355 24.783 49.443 48.328\" opacity=\".75\"/><path d=\"m619.07 458.49 1.4625 4.2262-4.2585-1.3657\" opacity=\".75\"/></g><g transform=\"translate(597.14 435.88) rotate(44.347) scale(.1 -.1)\" fill=\"#f0e341\"><use xlink:href=\"#DejaVuSans-2d\"/></g><g fill=\"none\" stroke=\"#808080\" stroke-linecap=\"round\"><path d=\"m463.96 283.49q25.355 24.783 49.911 48.785\" opacity=\".75\"/><path d=\"m512.41 328.05 1.4625 4.2262-4.2585-1.3657\" opacity=\".75\"/></g><g transform=\"translate(490.24 305.21) rotate(44.347) scale(.1 -.1)\" fill=\"#808080\"><use xlink:href=\"#DejaVuSans-49\"/></g><g fill=\"none\" stroke=\"#808080\" stroke-linecap=\"round\"><path d=\"m517.52 335.85q25.355 24.783 49.911 48.785\" opacity=\".75\"/><path d=\"m565.97 380.41 1.4625 4.2262-4.2585-1.3657\" opacity=\".75\"/></g><g transform=\"translate(543.81 357.57) rotate(44.347) scale(.1 -.1)\" fill=\"#808080\"><use xlink:href=\"#DejaVuSans-49\"/></g><g fill=\"none\" stroke=\"#0072b2\" stroke-linecap=\"round\" stroke-width=\"1.585\"><path d=\"m570.79 388.46q25.657 37.617 50.315 73.77\" opacity=\".75\"/><path d=\"m620.5 457.8 0.60159 4.4315-3.9061-2.1776\" opacity=\".75\"/></g><g transform=\"translate(596.43 421.02) rotate(55.704) scale(.1 -.1)\" fill=\"#0072b2\"><use xlink:href=\"#DejaVuSans-2b\"/></g><g fill=\"none\" stroke=\"#808080\" stroke-linecap=\"round\"><path d=\"m1106.8 335.85q25.355 24.783 49.911 48.785\" opacity=\".75\"/><path d=\"m1155.2 380.41 1.4625 4.2262-4.2585-1.3657\" opacity=\".75\"/></g><g transform=\"translate(1133.1 357.57) rotate(44.347) scale(.1 -.1)\" fill=\"#808080\"><use xlink:href=\"#DejaVuSans-49\"/></g><g fill=\"none\" stroke=\"#808080\" stroke-linecap=\"round\"><path d=\"m1160.3 388.21q25.355 24.783 49.911 48.785\" opacity=\".75\"/><path d=\"m1208.8 432.77 1.4625 4.2262-4.2585-1.3657\" opacity=\".75\"/></g><g transform=\"translate(1179 402.47) rotate(44.347) scale(.1 -.1)\" fill=\"#808080\"><use xlink:href=\"#DejaVuSans-49\"/><use transform=\"translate(29.492)\" xlink:href=\"#DejaVuSans-20\"/><use transform=\"translate(61.279)\" xlink:href=\"#DejaVuSans-2a\"/><use transform=\"translate(111.28)\" xlink:href=\"#DejaVuSans-20\"/><use transform=\"translate(143.07)\" xlink:href=\"#DejaVuSans-2d\"/><use transform=\"translate(179.15)\" xlink:href=\"#DejaVuSans-31\"/></g><g fill=\"none\" stroke=\"#f0e341\" stroke-linecap=\"round\" stroke-width=\"1.585\"><path d=\"m1214.3 440.05q24.988 12.212 48.383 23.646\" opacity=\".75\"/><path d=\"m1259.9 460.14 2.7156 3.5532-4.472 0.040521\" opacity=\".75\"/></g><g transform=\"translate(1238.9 448.92) rotate(26.046) scale(.1 -.1)\" fill=\"#f0e341\"><use xlink:href=\"#DejaVuSans-2d\"/></g><g fill=\"none\" stroke=\"#808080\" stroke-linecap=\"round\"><path d=\"m1106.8 309.67q25.355 24.783 49.911 48.785\" opacity=\".75\"/><path d=\"m1155.2 354.23 1.4625 4.2262-4.2585-1.3657\" opacity=\".75\"/></g><g transform=\"translate(1133.1 331.39) rotate(44.347) scale(.1 -.1)\" fill=\"#808080\"><use xlink:href=\"#DejaVuSans-49\"/></g><g fill=\"none\" stroke=\"#808080\" stroke-linecap=\"round\"><path d=\"m1160.3 362.03q25.355 24.783 49.911 48.785\" opacity=\".75\"/><path d=\"m1208.8 406.59 1.4625 4.2262-4.2585-1.3657\" opacity=\".75\"/></g><g transform=\"translate(1186.6 383.75) rotate(44.347) scale(.1 -.1)\" fill=\"#808080\"><use xlink:href=\"#DejaVuSans-49\"/></g><g fill=\"none\" stroke=\"#0072b2\" stroke-linecap=\"round\" stroke-width=\"1.585\"><path d=\"m1213.9 414.39q25.355 24.783 49.443 48.328\" opacity=\".75\"/><path d=\"m1261.9 458.49 1.4625 4.2262-4.2585-1.3657\" opacity=\".75\"/></g><g transform=\"translate(1238.3 434.21) rotate(44.347) scale(.1 -.1)\" fill=\"#0072b2\"><use xlink:href=\"#DejaVuSans-2b\"/></g><g fill=\"none\" stroke=\"#808080\" stroke-linecap=\"round\"><path d=\"m517.52 309.67q25.355 24.783 49.911 48.785\" opacity=\".75\"/><path d=\"m565.97 354.23 1.4625 4.2262-4.2585-1.3657\" opacity=\".75\"/></g><g transform=\"translate(543.81 331.39) rotate(44.347) scale(.1 -.1)\" fill=\"#808080\"><use xlink:href=\"#DejaVuSans-49\"/></g><g fill=\"none\" stroke=\"#808080\" stroke-linecap=\"round\"><path d=\"m571.09 362.03q25.355 24.783 49.911 48.785\" opacity=\".75\"/><path d=\"m619.54 406.59 1.4625 4.2262-4.2585-1.3657\" opacity=\".75\"/></g><g transform=\"translate(589.75 376.29) rotate(44.347) scale(.1 -.1)\" fill=\"#808080\"><use xlink:href=\"#DejaVuSans-49\"/><use transform=\"translate(29.492)\" xlink:href=\"#DejaVuSans-20\"/><use transform=\"translate(61.279)\" xlink:href=\"#DejaVuSans-2a\"/><use transform=\"translate(111.28)\" xlink:href=\"#DejaVuSans-20\"/><use transform=\"translate(143.07)\" xlink:href=\"#DejaVuSans-2d\"/><use transform=\"translate(179.15)\" xlink:href=\"#DejaVuSans-31\"/></g><g fill=\"none\" stroke=\"#f0e341\" stroke-linecap=\"round\" stroke-width=\"1.585\"><path d=\"m624.66 414.39q25.355 24.783 49.443 48.328\" opacity=\".75\"/><path d=\"m672.64 458.49 1.4625 4.2262-4.2585-1.3657\" opacity=\".75\"/></g><g transform=\"translate(650.71 435.88) rotate(44.347) scale(.1 -.1)\" fill=\"#f0e341\"><use xlink:href=\"#DejaVuSans-2d\"/></g><g fill=\"none\" stroke=\"#808080\" stroke-linecap=\"round\"><path d=\"m517.52 283.49q25.355 24.783 49.911 48.785\" opacity=\".75\"/><path d=\"m565.97 328.05 1.4625 4.2262-4.2585-1.3657\" opacity=\".75\"/></g><g transform=\"translate(543.81 305.21) rotate(44.347) scale(.1 -.1)\" fill=\"#808080\"><use xlink:href=\"#DejaVuSans-49\"/></g><g fill=\"none\" stroke=\"#808080\" stroke-linecap=\"round\"><path d=\"m571.09 335.85q25.355 24.783 49.911 48.785\" opacity=\".75\"/><path d=\"m619.54 380.41 1.4625 4.2262-4.2585-1.3657\" opacity=\".75\"/></g><g transform=\"translate(597.38 357.57) rotate(44.347) scale(.1 -.1)\" fill=\"#808080\"><use xlink:href=\"#DejaVuSans-49\"/></g><g fill=\"none\" stroke=\"#0072b2\" stroke-linecap=\"round\" stroke-width=\"1.585\"><path d=\"m624.36 388.46q25.657 37.617 50.315 73.77\" opacity=\".75\"/><path d=\"m674.07 457.8 0.60159 4.4315-3.9061-2.1776\" opacity=\".75\"/></g><g transform=\"translate(650 421.02) rotate(55.704) scale(.1 -.1)\" fill=\"#0072b2\"><use xlink:href=\"#DejaVuSans-2b\"/></g><g fill=\"none\" stroke=\"#0072b2\" stroke-linecap=\"round\"><path d=\"m1106.8 283.49q25.355 24.783 49.911 48.785\" opacity=\".75\"/><path d=\"m1155.2 328.05 1.4625 4.2262-4.2585-1.3657\" opacity=\".75\"/></g><g transform=\"translate(1123.5 295.86) rotate(44.347) scale(.1 -.1)\" fill=\"#0072b2\"><use xlink:href=\"#DejaVuSans-2b\"/><use transform=\"translate(83.789)\" xlink:href=\"#DejaVuSans-20\"/><use transform=\"translate(115.58)\" xlink:href=\"#DejaVuSans-2a\"/><use transform=\"translate(165.58)\" xlink:href=\"#DejaVuSans-20\"/><use transform=\"translate(197.36)\" xlink:href=\"#DejaVuSans-2d\"/><use transform=\"translate(233.45)\" xlink:href=\"#DejaVuSans-31\"/></g><g fill=\"none\" stroke=\"#f0e341\" stroke-linecap=\"round\"><path d=\"m1107.1 282.97q24.988 12.212 48.971 23.933\" opacity=\".75\"/><path d=\"m1153.4 303.35 2.7156 3.5532-4.472 0.040521\" opacity=\".75\"/></g><g transform=\"translate(1131.8 291.84) rotate(26.046) scale(.1 -.1)\" fill=\"#f0e341\"><use xlink:href=\"#DejaVuSans-2d\"/></g><g fill=\"none\" stroke=\"#808080\" stroke-linecap=\"round\" stroke-width=\"2.3219\"><path d=\"m1107.3 282.09q24.786 0 46.976 0\" opacity=\".75\"/><path d=\"m1150.3 280.09 4 2-4 2\" opacity=\".75\"/></g><g transform=\"translate(1130.7 279.25) scale(.1 -.1)\" fill=\"#808080\"><use xlink:href=\"#DejaVuSans-49\"/></g><g fill=\"none\" stroke=\"#808080\" stroke-linecap=\"round\"><path d=\"m1160.3 335.85q25.355 24.783 49.911 48.785\" opacity=\".75\"/><path d=\"m1208.8 380.41 1.4625 4.2262-4.2585-1.3657\" opacity=\".75\"/></g><g transform=\"translate(1186.6 357.57) rotate(44.347) scale(.1 -.1)\" fill=\"#808080\"><use xlink:href=\"#DejaVuSans-49\"/></g><g fill=\"none\" stroke=\"#808080\" stroke-linecap=\"round\"><path d=\"m1213.9 388.21q25.355 24.783 49.911 48.785\" opacity=\".75\"/><path d=\"m1262.4 432.77 1.4625 4.2262-4.2585-1.3657\" opacity=\".75\"/></g><g transform=\"translate(1240.2 409.93) rotate(44.347) scale(.1 -.1)\" fill=\"#808080\"><use xlink:href=\"#DejaVuSans-49\"/></g><g fill=\"none\" stroke=\"#f0e341\" stroke-linecap=\"round\" stroke-width=\"1.585\"><path d=\"m1267.8 440.05q24.988 12.212 48.383 23.646\" opacity=\".75\"/><path d=\"m1313.5 460.14 2.7156 3.5532-4.472 0.040521\" opacity=\".75\"/></g><g transform=\"translate(1292.5 448.92) rotate(26.046) scale(.1 -.1)\" fill=\"#f0e341\"><use xlink:href=\"#DejaVuSans-2d\"/></g><g fill=\"none\" stroke=\"#808080\" stroke-linecap=\"round\"><path d=\"m1160.3 309.67q25.355 24.783 49.911 48.785\" opacity=\".75\"/><path d=\"m1208.8 354.23 1.4625 4.2262-4.2585-1.3657\" opacity=\".75\"/></g><g transform=\"translate(1186.6 331.39) rotate(44.347) scale(.1 -.1)\" fill=\"#808080\"><use xlink:href=\"#DejaVuSans-49\"/></g><g fill=\"none\" stroke=\"#808080\" stroke-linecap=\"round\"><path d=\"m1213.9 362.03q25.355 24.783 49.911 48.785\" opacity=\".75\"/><path d=\"m1262.4 406.59 1.4625 4.2262-4.2585-1.3657\" opacity=\".75\"/></g><g transform=\"translate(1240.2 383.75) rotate(44.347) scale(.1 -.1)\" fill=\"#808080\"><use xlink:href=\"#DejaVuSans-49\"/></g><g fill=\"none\" stroke=\"#0072b2\" stroke-linecap=\"round\" stroke-width=\"1.585\"><path d=\"m1267.5 414.39q25.355 24.783 49.443 48.328\" opacity=\".75\"/><path d=\"m1315.5 458.49 1.4625 4.2262-4.2585-1.3657\" opacity=\".75\"/></g><g transform=\"translate(1291.8 434.21) rotate(44.347) scale(.1 -.1)\" fill=\"#0072b2\"><use xlink:href=\"#DejaVuSans-2b\"/></g><g fill=\"none\" stroke=\"#0072b2\" stroke-linecap=\"round\"><path d=\"m1159.6 283.98q26.139 76.648 51.917 152.24\" opacity=\".75\"/><path d=\"m1212.1 431.79-0.60187 4.4315-3.184-3.1404\" opacity=\".75\"/></g><g transform=\"translate(1183.6 345.66) rotate(71.169) scale(.1 -.1)\" fill=\"#0072b2\"><use xlink:href=\"#DejaVuSans-2b\"/><use transform=\"translate(83.789)\" xlink:href=\"#DejaVuSans-20\"/><use transform=\"translate(115.58)\" xlink:href=\"#DejaVuSans-2a\"/><use transform=\"translate(165.58)\" xlink:href=\"#DejaVuSans-20\"/><use transform=\"translate(197.36)\" xlink:href=\"#DejaVuSans-2d\"/><use transform=\"translate(233.45)\" xlink:href=\"#DejaVuSans-31\"/></g><g fill=\"none\" stroke=\"#f0e341\" stroke-linecap=\"round\"><path d=\"m1159.7 283.94q26.026 63.598 51.629 126.16\" opacity=\".75\"/><path d=\"m1211.6 405.64-0.33604 4.4595-3.366-2.9445\" opacity=\".75\"/></g><g transform=\"translate(1187.6 344.8) rotate(67.744) scale(.1 -.1)\" fill=\"#f0e341\"><use xlink:href=\"#DejaVuSans-2d\"/></g><g fill=\"none\" stroke=\"#808080\" stroke-linecap=\"round\" stroke-width=\"1.585\"><path d=\"m1160.3 283.49q25.355 24.783 49.443 48.328\" opacity=\".75\"/><path d=\"m1208.3 327.59 1.4625 4.2262-4.2585-1.3657\" opacity=\".75\"/></g><g transform=\"translate(1186.6 305.21) rotate(44.347) scale(.1 -.1)\" fill=\"#808080\"><use xlink:href=\"#DejaVuSans-49\"/></g><g fill=\"none\" stroke=\"#0072b2\" stroke-linecap=\"round\"><path d=\"m1213.4 336.23q25.873 50.579 51.237 100.16\" opacity=\".75\"/><path d=\"m1264.6 431.92 0.041079 4.4719-3.6022-2.6503\" opacity=\".75\"/></g><g transform=\"translate(1235 372.29) rotate(62.909) scale(.1 -.1)\" fill=\"#0072b2\"><use xlink:href=\"#DejaVuSans-2b\"/><use transform=\"translate(83.789)\" xlink:href=\"#DejaVuSans-20\"/><use transform=\"translate(115.58)\" xlink:href=\"#DejaVuSans-2a\"/><use transform=\"translate(165.58)\" xlink:href=\"#DejaVuSans-20\"/><use transform=\"translate(197.36)\" xlink:href=\"#DejaVuSans-2d\"/><use transform=\"translate(233.45)\" xlink:href=\"#DejaVuSans-31\"/></g><g fill=\"none\" stroke=\"#f0e341\" stroke-linecap=\"round\"><path d=\"m1213.6 336.1q25.657 37.617 50.683 74.311\" opacity=\".75\"/><path d=\"m1263.7 405.98 0.60158 4.4315-3.9061-2.1776\" opacity=\".75\"/></g><g transform=\"translate(1240.6 370.63) rotate(55.704) scale(.1 -.1)\" fill=\"#f0e341\"><use xlink:href=\"#DejaVuSans-2d\"/></g><g fill=\"none\" stroke=\"#808080\" stroke-linecap=\"round\"><path d=\"m88.678 385.16q25.657-37.617 50.683-74.311\" opacity=\".75\"/><path d=\"m135.46 313.03 3.9061-2.1776-0.60158 4.4315\" opacity=\".75\"/></g><g transform=\"translate(111.16 347.16) rotate(-55.704) scale(.1 -.1)\" fill=\"#808080\"><use xlink:href=\"#DejaVuSans-49\"/></g><g fill=\"none\" stroke=\"#808080\" stroke-linecap=\"round\"><path d=\"m142.55 306.87q25.355-24.783 49.911-48.785\" opacity=\".75\"/><path d=\"m188.2 259.45 4.2585-1.3657-1.4625 4.2262\" opacity=\".75\"/></g><g transform=\"translate(164.86 281.09) rotate(-44.347) scale(.1 -.1)\" fill=\"#808080\"><use xlink:href=\"#DejaVuSans-49\"/></g><g fill=\"none\" stroke=\"#808080\" stroke-linecap=\"round\"><path d=\"m196.69 255.91q24.786 0 48.454 0\" opacity=\".75\"/><path d=\"m241.14 253.91 4 2-4 2\" opacity=\".75\"/></g><g transform=\"translate(220 253.07) scale(.1 -.1)\" fill=\"#808080\"><use xlink:href=\"#DejaVuSans-49\"/></g><g fill=\"none\" stroke=\"#808080\" stroke-linecap=\"round\"><path d=\"m250.25 255.91q24.786 0 48.454 0\" opacity=\".75\"/><path d=\"m294.71 253.91 4 2-4 2\" opacity=\".75\"/></g><g transform=\"translate(273.56 253.07) scale(.1 -.1)\" fill=\"#808080\"><use xlink:href=\"#DejaVuSans-49\"/></g><g fill=\"none\" stroke=\"#808080\" stroke-linecap=\"round\"><path d=\"m303.82 255.91q24.786 0 48.454 0\" opacity=\".75\"/><path d=\"m348.28 253.91 4 2-4 2\" opacity=\".75\"/></g><g transform=\"translate(327.13 253.07) scale(.1 -.1)\" fill=\"#808080\"><use xlink:href=\"#DejaVuSans-49\"/></g><g fill=\"none\" stroke=\"#808080\" stroke-linecap=\"round\"><path d=\"m357.39 255.91q24.786 0 48.454 0\" opacity=\".75\"/><path d=\"m401.84 253.91 4 2-4 2\" opacity=\".75\"/></g><g transform=\"translate(380.7 253.07) scale(.1 -.1)\" fill=\"#808080\"><use xlink:href=\"#DejaVuSans-49\"/></g><g fill=\"none\" stroke=\"#808080\" stroke-linecap=\"round\"><path d=\"m410.96 255.91q24.786 0 48.454 0\" opacity=\".75\"/><path d=\"m455.41 253.91 4 2-4 2\" opacity=\".75\"/></g><g transform=\"translate(434.27 253.07) scale(.1 -.1)\" fill=\"#808080\"><use xlink:href=\"#DejaVuSans-49\"/></g><g fill=\"none\" stroke=\"#808080\" stroke-linecap=\"round\"><path d=\"m464.53 255.91q24.786 0 48.454 0\" opacity=\".75\"/><path d=\"m508.98 253.91 4 2-4 2\" opacity=\".75\"/></g><g transform=\"translate(487.84 253.07) scale(.1 -.1)\" fill=\"#808080\"><use xlink:href=\"#DejaVuSans-49\"/></g><g fill=\"none\" stroke=\"#808080\" stroke-linecap=\"round\"><path d=\"m517.52 257.31q25.355 24.783 49.911 48.785\" opacity=\".75\"/><path d=\"m565.97 301.87 1.4625 4.2262-4.2585-1.3657\" opacity=\".75\"/></g><g transform=\"translate(543.81 279.03) rotate(44.347) scale(.1 -.1)\" fill=\"#808080\"><use xlink:href=\"#DejaVuSans-49\"/></g><g fill=\"none\" stroke=\"#808080\" stroke-linecap=\"round\"><path d=\"m571.09 309.67q25.355 24.783 49.911 48.785\" opacity=\".75\"/><path d=\"m619.54 354.23 1.4625 4.2262-4.2585-1.3657\" opacity=\".75\"/></g><g transform=\"translate(597.38 331.39) rotate(44.347) scale(.1 -.1)\" fill=\"#808080\"><use xlink:href=\"#DejaVuSans-49\"/></g><g fill=\"none\" stroke=\"#808080\" stroke-linecap=\"round\"><path d=\"m624.66 362.03q25.355 24.783 49.911 48.785\" opacity=\".75\"/><path d=\"m673.11 406.59 1.4625 4.2262-4.2585-1.3657\" opacity=\".75\"/></g><g transform=\"translate(650.95 383.75) rotate(44.347) scale(.1 -.1)\" fill=\"#808080\"><use xlink:href=\"#DejaVuSans-49\"/></g><g fill=\"none\" stroke=\"#cc79a7\" stroke-linecap=\"round\"><path d=\"m678.23 414.39q25.355 24.783 49.911 48.785\" opacity=\".75\"/><path d=\"m726.68 458.95 1.4625 4.2262-4.2585-1.3657\" opacity=\".75\"/></g><g transform=\"translate(703.3 434.92) rotate(44.347) scale(.1 -.1)\" fill=\"#cc79a7\"><use xlink:href=\"#DejaVuSans-6e\"/></g><g fill=\"none\" stroke=\"#808080\" stroke-linecap=\"round\"><path d=\"m142.55 280.69q25.355-24.783 49.911-48.785\" opacity=\".75\"/><path d=\"m188.2 233.27 4.2585-1.3657-1.4625 4.2262\" opacity=\".75\"/></g><g transform=\"translate(164.86 254.91) rotate(-44.347) scale(.1 -.1)\" fill=\"#808080\"><use xlink:href=\"#DejaVuSans-49\"/></g><g fill=\"none\" stroke=\"#808080\" stroke-linecap=\"round\"><path d=\"m196.69 229.73q24.786 0 48.454 0\" opacity=\".75\"/><path d=\"m241.14 227.73 4 2-4 2\" opacity=\".75\"/></g><g transform=\"translate(220 226.89) scale(.1 -.1)\" fill=\"#808080\"><use xlink:href=\"#DejaVuSans-49\"/></g><g fill=\"none\" stroke=\"#808080\" stroke-linecap=\"round\"><path d=\"m250.25 229.73q24.786 0 48.454 0\" opacity=\".75\"/><path d=\"m294.71 227.73 4 2-4 2\" opacity=\".75\"/></g><g transform=\"translate(273.56 226.89) scale(.1 -.1)\" fill=\"#808080\"><use xlink:href=\"#DejaVuSans-49\"/></g><g fill=\"none\" stroke=\"#808080\" stroke-linecap=\"round\"><path d=\"m303.82 229.73q24.786 0 48.454 0\" opacity=\".75\"/><path d=\"m348.28 227.73 4 2-4 2\" opacity=\".75\"/></g><g transform=\"translate(327.13 226.89) scale(.1 -.1)\" fill=\"#808080\"><use xlink:href=\"#DejaVuSans-49\"/></g><g fill=\"none\" stroke=\"#808080\" stroke-linecap=\"round\"><path d=\"m357.39 229.73q24.786 0 48.454 0\" opacity=\".75\"/><path d=\"m401.84 227.73 4 2-4 2\" opacity=\".75\"/></g><g transform=\"translate(380.7 226.89) scale(.1 -.1)\" fill=\"#808080\"><use xlink:href=\"#DejaVuSans-49\"/></g><g fill=\"none\" stroke=\"#808080\" stroke-linecap=\"round\"><path d=\"m410.96 229.73q24.786 0 48.454 0\" opacity=\".75\"/><path d=\"m455.41 227.73 4 2-4 2\" opacity=\".75\"/></g><g transform=\"translate(434.27 226.89) scale(.1 -.1)\" fill=\"#808080\"><use xlink:href=\"#DejaVuSans-49\"/></g><g fill=\"none\" stroke=\"#808080\" stroke-linecap=\"round\"><path d=\"m464.53 229.73q24.786 0 48.454 0\" opacity=\".75\"/><path d=\"m508.98 227.73 4 2-4 2\" opacity=\".75\"/></g><g transform=\"translate(487.84 226.89) scale(.1 -.1)\" fill=\"#808080\"><use xlink:href=\"#DejaVuSans-49\"/></g><g fill=\"none\" stroke=\"#808080\" stroke-linecap=\"round\"><path d=\"m517.52 231.13q25.355 24.783 49.911 48.785\" opacity=\".75\"/><path d=\"m565.97 275.69 1.4625 4.2262-4.2585-1.3657\" opacity=\".75\"/></g><g transform=\"translate(543.81 252.85) rotate(44.347) scale(.1 -.1)\" fill=\"#808080\"><use xlink:href=\"#DejaVuSans-49\"/></g><g fill=\"none\" stroke=\"#808080\" stroke-linecap=\"round\"><path d=\"m571.09 283.49q25.355 24.783 49.911 48.785\" opacity=\".75\"/><path d=\"m619.54 328.05 1.4625 4.2262-4.2585-1.3657\" opacity=\".75\"/></g><g transform=\"translate(597.38 305.21) rotate(44.347) scale(.1 -.1)\" fill=\"#808080\"><use xlink:href=\"#DejaVuSans-49\"/></g><g fill=\"none\" stroke=\"#808080\" stroke-linecap=\"round\"><path d=\"m624.66 335.85q25.355 24.783 49.911 48.785\" opacity=\".75\"/><path d=\"m673.11 380.41 1.4625 4.2262-4.2585-1.3657\" opacity=\".75\"/></g><g transform=\"translate(650.95 357.57) rotate(44.347) scale(.1 -.1)\" fill=\"#808080\"><use xlink:href=\"#DejaVuSans-49\"/></g><g fill=\"none\" stroke=\"#808080\" stroke-linecap=\"round\"><path d=\"m678.59 385.93q24.988-12.212 48.971-23.933\" opacity=\".75\"/><path d=\"m723.09 361.96 4.472 0.040521-2.7156 3.5532\" opacity=\".75\"/></g><g transform=\"translate(701.01 371.82) rotate(-26.046) scale(.1 -.1)\" fill=\"#808080\"><use xlink:href=\"#DejaVuSans-49\"/></g><g fill=\"none\" stroke=\"#cc79a7\" stroke-linecap=\"round\"><path d=\"m731.28 362.41q25.873 50.579 51.237 100.16\" opacity=\".75\"/><path d=\"m782.47 458.1 0.041079 4.4719-3.6022-2.6503\" opacity=\".75\"/></g><g transform=\"translate(758.24 408.88) rotate(62.909) scale(.1 -.1)\" fill=\"#cc79a7\"><use xlink:href=\"#DejaVuSans-6e\"/></g><g fill=\"none\" stroke=\"#808080\" stroke-linecap=\"round\"><path d=\"m196.69 203.55q24.786 0 48.454 0\" opacity=\".75\"/><path d=\"m241.14 201.55 4 2-4 2\" opacity=\".75\"/></g><g transform=\"translate(220 200.71) scale(.1 -.1)\" fill=\"#808080\"><use xlink:href=\"#DejaVuSans-49\"/></g><g fill=\"none\" stroke=\"#808080\" stroke-linecap=\"round\"><path d=\"m250.25 203.55q24.786 0 48.454 0\" opacity=\".75\"/><path d=\"m294.71 201.55 4 2-4 2\" opacity=\".75\"/></g><g transform=\"translate(273.56 200.71) scale(.1 -.1)\" fill=\"#808080\"><use xlink:href=\"#DejaVuSans-49\"/></g><g fill=\"none\" stroke=\"#808080\" stroke-linecap=\"round\"><path d=\"m303.82 203.55q24.786 0 48.454 0\" opacity=\".75\"/><path d=\"m348.28 201.55 4 2-4 2\" opacity=\".75\"/></g><g transform=\"translate(327.13 200.71) scale(.1 -.1)\" fill=\"#808080\"><use xlink:href=\"#DejaVuSans-49\"/></g><g fill=\"none\" stroke=\"#808080\" stroke-linecap=\"round\"><path d=\"m357.39 203.55q24.786 0 48.454 0\" opacity=\".75\"/><path d=\"m401.84 201.55 4 2-4 2\" opacity=\".75\"/></g><g transform=\"translate(380.7 200.71) scale(.1 -.1)\" fill=\"#808080\"><use xlink:href=\"#DejaVuSans-49\"/></g><g fill=\"none\" stroke=\"#808080\" stroke-linecap=\"round\"><path d=\"m410.96 203.55q24.786 0 48.454 0\" opacity=\".75\"/><path d=\"m455.41 201.55 4 2-4 2\" opacity=\".75\"/></g><g transform=\"translate(434.27 200.71) scale(.1 -.1)\" fill=\"#808080\"><use xlink:href=\"#DejaVuSans-49\"/></g><g fill=\"none\" stroke=\"#808080\" stroke-linecap=\"round\"><path d=\"m464.53 203.55q24.786 0 48.454 0\" opacity=\".75\"/><path d=\"m508.98 201.55 4 2-4 2\" opacity=\".75\"/></g><g transform=\"translate(487.84 200.71) scale(.1 -.1)\" fill=\"#808080\"><use xlink:href=\"#DejaVuSans-49\"/></g><g fill=\"none\" stroke=\"#808080\" stroke-linecap=\"round\"><path d=\"m517.52 204.95q25.355 24.783 49.911 48.785\" opacity=\".75\"/><path d=\"m565.97 249.51 1.4625 4.2262-4.2585-1.3657\" opacity=\".75\"/></g><g transform=\"translate(543.81 226.67) rotate(44.347) scale(.1 -.1)\" fill=\"#808080\"><use xlink:href=\"#DejaVuSans-49\"/></g><g fill=\"none\" stroke=\"#808080\" stroke-linecap=\"round\"><path d=\"m571.09 257.31q25.355 24.783 49.911 48.785\" opacity=\".75\"/><path d=\"m619.54 301.87 1.4625 4.2262-4.2585-1.3657\" opacity=\".75\"/></g><g transform=\"translate(597.38 279.03) rotate(44.347) scale(.1 -.1)\" fill=\"#808080\"><use xlink:href=\"#DejaVuSans-49\"/></g><g fill=\"none\" stroke=\"#808080\" stroke-linecap=\"round\"><path d=\"m624.66 309.67q25.355 24.783 49.911 48.785\" opacity=\".75\"/><path d=\"m673.11 354.23 1.4625 4.2262-4.2585-1.3657\" opacity=\".75\"/></g><g transform=\"translate(650.95 331.39) rotate(44.347) scale(.1 -.1)\" fill=\"#808080\"><use xlink:href=\"#DejaVuSans-49\"/></g><g fill=\"none\" stroke=\"#808080\" stroke-linecap=\"round\"><path d=\"m678.59 359.75q24.988-12.212 48.971-23.933\" opacity=\".75\"/><path d=\"m723.09 335.78 4.472 0.040521-2.7156 3.5532\" opacity=\".75\"/></g><g transform=\"translate(701.01 345.64) rotate(-26.046) scale(.1 -.1)\" fill=\"#808080\"><use xlink:href=\"#DejaVuSans-49\"/></g><g fill=\"none\" stroke=\"#808080\" stroke-linecap=\"round\"><path d=\"m732.16 333.57q24.988-12.212 48.971-23.933\" opacity=\".75\"/><path d=\"m776.66 309.6 4.472 0.040521-2.7156 3.5532\" opacity=\".75\"/></g><g transform=\"translate(754.58 319.46) rotate(-26.046) scale(.1 -.1)\" fill=\"#808080\"><use xlink:href=\"#DejaVuSans-49\"/></g><g fill=\"none\" stroke=\"#cc79a7\" stroke-linecap=\"round\"><path d=\"m784.58 310.16q26.139 76.648 51.917 152.24\" opacity=\".75\"/><path d=\"m837.1 457.97-0.60187 4.4315-3.184-3.1404\" opacity=\".75\"/></g><g transform=\"translate(812.38 382.89) rotate(71.169) scale(.1 -.1)\" fill=\"#cc79a7\"><use xlink:href=\"#DejaVuSans-6e\"/></g><g fill=\"none\" stroke=\"#808080\" stroke-linecap=\"round\"><path d=\"m250.25 177.37q24.786 0 48.454 0\" opacity=\".75\"/><path d=\"m294.71 175.37 4 2-4 2\" opacity=\".75\"/></g><g transform=\"translate(273.56 174.53) scale(.1 -.1)\" fill=\"#808080\"><use xlink:href=\"#DejaVuSans-49\"/></g><g fill=\"none\" stroke=\"#808080\" stroke-linecap=\"round\"><path d=\"m303.82 177.37q24.786 0 48.454 0\" opacity=\".75\"/><path d=\"m348.28 175.37 4 2-4 2\" opacity=\".75\"/></g><g transform=\"translate(327.13 174.53) scale(.1 -.1)\" fill=\"#808080\"><use xlink:href=\"#DejaVuSans-49\"/></g><g fill=\"none\" stroke=\"#808080\" stroke-linecap=\"round\"><path d=\"m357.39 177.37q24.786 0 48.454 0\" opacity=\".75\"/><path d=\"m401.84 175.37 4 2-4 2\" opacity=\".75\"/></g><g transform=\"translate(380.7 174.53) scale(.1 -.1)\" fill=\"#808080\"><use xlink:href=\"#DejaVuSans-49\"/></g><g fill=\"none\" stroke=\"#808080\" stroke-linecap=\"round\"><path d=\"m410.96 177.37q24.786 0 48.454 0\" opacity=\".75\"/><path d=\"m455.41 175.37 4 2-4 2\" opacity=\".75\"/></g><g transform=\"translate(434.27 174.53) scale(.1 -.1)\" fill=\"#808080\"><use xlink:href=\"#DejaVuSans-49\"/></g><g fill=\"none\" stroke=\"#808080\" stroke-linecap=\"round\"><path d=\"m464.53 177.37q24.786 0 48.454 0\" opacity=\".75\"/><path d=\"m508.98 175.37 4 2-4 2\" opacity=\".75\"/></g><g transform=\"translate(487.84 174.53) scale(.1 -.1)\" fill=\"#808080\"><use xlink:href=\"#DejaVuSans-49\"/></g><g fill=\"none\" stroke=\"#808080\" stroke-linecap=\"round\"><path d=\"m517.52 178.77q25.355 24.783 49.911 48.785\" opacity=\".75\"/><path d=\"m565.97 223.33 1.4625 4.2262-4.2585-1.3657\" opacity=\".75\"/></g><g transform=\"translate(543.81 200.49) rotate(44.347) scale(.1 -.1)\" fill=\"#808080\"><use xlink:href=\"#DejaVuSans-49\"/></g><g fill=\"none\" stroke=\"#808080\" stroke-linecap=\"round\"><path d=\"m571.09 231.13q25.355 24.783 49.911 48.785\" opacity=\".75\"/><path d=\"m619.54 275.69 1.4625 4.2262-4.2585-1.3657\" opacity=\".75\"/></g><g transform=\"translate(597.38 252.85) rotate(44.347) scale(.1 -.1)\" fill=\"#808080\"><use xlink:href=\"#DejaVuSans-49\"/></g><g fill=\"none\" stroke=\"#808080\" stroke-linecap=\"round\"><path d=\"m624.66 283.49q25.355 24.783 49.911 48.785\" opacity=\".75\"/><path d=\"m673.11 328.05 1.4625 4.2262-4.2585-1.3657\" opacity=\".75\"/></g><g transform=\"translate(650.95 305.21) rotate(44.347) scale(.1 -.1)\" fill=\"#808080\"><use xlink:href=\"#DejaVuSans-49\"/></g><g fill=\"none\" stroke=\"#808080\" stroke-linecap=\"round\"><path d=\"m678.59 333.57q24.988-12.212 48.971-23.933\" opacity=\".75\"/><path d=\"m723.09 309.6 4.472 0.040521-2.7156 3.5532\" opacity=\".75\"/></g><g transform=\"translate(701.01 319.46) rotate(-26.046) scale(.1 -.1)\" fill=\"#808080\"><use xlink:href=\"#DejaVuSans-49\"/></g><g fill=\"none\" stroke=\"#808080\" stroke-linecap=\"round\"><path d=\"m732.16 307.39q24.988-12.212 48.971-23.933\" opacity=\".75\"/><path d=\"m776.66 283.42 4.472 0.040521-2.7156 3.5532\" opacity=\".75\"/></g><g transform=\"translate(754.58 293.28) rotate(-26.046) scale(.1 -.1)\" fill=\"#808080\"><use xlink:href=\"#DejaVuSans-49\"/></g><g fill=\"none\" stroke=\"#808080\" stroke-linecap=\"round\"><path d=\"m785.73 281.21q24.988-12.212 48.971-23.933\" opacity=\".75\"/><path d=\"m830.23 257.24 4.472 0.040521-2.7156 3.5532\" opacity=\".75\"/></g><g transform=\"translate(808.15 267.1) rotate(-26.046) scale(.1 -.1)\" fill=\"#808080\"><use xlink:href=\"#DejaVuSans-49\"/></g><g fill=\"none\" stroke=\"#cc79a7\" stroke-linecap=\"round\"><path d=\"m838 257.85q26.289 102.78 52.3 204.48\" opacity=\".75\"/><path d=\"m891.25 457.96-0.94646 4.3708-2.9288-3.3797\" opacity=\".75\"/></g><g transform=\"translate(866.25 356.86) rotate(75.653) scale(.1 -.1)\" fill=\"#cc79a7\"><use xlink:href=\"#DejaVuSans-6e\"/></g><g fill=\"none\" stroke=\"#808080\" stroke-linecap=\"round\"><path d=\"m303.82 151.19q24.786 0 48.454 0\" opacity=\".75\"/><path d=\"m348.28 149.19 4 2-4 2\" opacity=\".75\"/></g><g transform=\"translate(327.13 148.35) scale(.1 -.1)\" fill=\"#808080\"><use xlink:href=\"#DejaVuSans-49\"/></g><g fill=\"none\" stroke=\"#808080\" stroke-linecap=\"round\"><path d=\"m357.39 151.19q24.786 0 48.454 0\" opacity=\".75\"/><path d=\"m401.84 149.19 4 2-4 2\" opacity=\".75\"/></g><g transform=\"translate(380.7 148.35) scale(.1 -.1)\" fill=\"#808080\"><use xlink:href=\"#DejaVuSans-49\"/></g><g fill=\"none\" stroke=\"#808080\" stroke-linecap=\"round\"><path d=\"m410.96 151.19q24.786 0 48.454 0\" opacity=\".75\"/><path d=\"m455.41 149.19 4 2-4 2\" opacity=\".75\"/></g><g transform=\"translate(434.27 148.35) scale(.1 -.1)\" fill=\"#808080\"><use xlink:href=\"#DejaVuSans-49\"/></g><g fill=\"none\" stroke=\"#808080\" stroke-linecap=\"round\"><path d=\"m464.53 151.19q24.786 0 48.454 0\" opacity=\".75\"/><path d=\"m508.98 149.19 4 2-4 2\" opacity=\".75\"/></g><g transform=\"translate(487.84 148.35) scale(.1 -.1)\" fill=\"#808080\"><use xlink:href=\"#DejaVuSans-49\"/></g><g fill=\"none\" stroke=\"#808080\" stroke-linecap=\"round\"><path d=\"m517.52 152.59q25.355 24.783 49.911 48.785\" opacity=\".75\"/><path d=\"m565.97 197.15 1.4625 4.2262-4.2585-1.3657\" opacity=\".75\"/></g><g transform=\"translate(543.81 174.31) rotate(44.347) scale(.1 -.1)\" fill=\"#808080\"><use xlink:href=\"#DejaVuSans-49\"/></g><g fill=\"none\" stroke=\"#808080\" stroke-linecap=\"round\"><path d=\"m571.09 204.95q25.355 24.783 49.911 48.785\" opacity=\".75\"/><path d=\"m619.54 249.51 1.4625 4.2262-4.2585-1.3657\" opacity=\".75\"/></g><g transform=\"translate(597.38 226.67) rotate(44.347) scale(.1 -.1)\" fill=\"#808080\"><use xlink:href=\"#DejaVuSans-49\"/></g><g fill=\"none\" stroke=\"#808080\" stroke-linecap=\"round\"><path d=\"m624.66 257.31q25.355 24.783 49.911 48.785\" opacity=\".75\"/><path d=\"m673.11 301.87 1.4625 4.2262-4.2585-1.3657\" opacity=\".75\"/></g><g transform=\"translate(650.95 279.03) rotate(44.347) scale(.1 -.1)\" fill=\"#808080\"><use xlink:href=\"#DejaVuSans-49\"/></g><g fill=\"none\" stroke=\"#808080\" stroke-linecap=\"round\"><path d=\"m678.59 307.39q24.988-12.212 48.971-23.933\" opacity=\".75\"/><path d=\"m723.09 283.42 4.472 0.040521-2.7156 3.5532\" opacity=\".75\"/></g><g transform=\"translate(701.01 293.28) rotate(-26.046) scale(.1 -.1)\" fill=\"#808080\"><use xlink:href=\"#DejaVuSans-49\"/></g><g fill=\"none\" stroke=\"#808080\" stroke-linecap=\"round\"><path d=\"m732.16 281.21q24.988-12.212 48.971-23.933\" opacity=\".75\"/><path d=\"m776.66 257.24 4.472 0.040521-2.7156 3.5532\" opacity=\".75\"/></g><g transform=\"translate(754.58 267.1) rotate(-26.046) scale(.1 -.1)\" fill=\"#808080\"><use xlink:href=\"#DejaVuSans-49\"/></g><g fill=\"none\" stroke=\"#808080\" stroke-linecap=\"round\"><path d=\"m785.73 255.03q24.988-12.212 48.971-23.933\" opacity=\".75\"/><path d=\"m830.23 231.06 4.472 0.040521-2.7156 3.5532\" opacity=\".75\"/></g><g transform=\"translate(808.15 240.92) rotate(-26.046) scale(.1 -.1)\" fill=\"#808080\"><use xlink:href=\"#DejaVuSans-49\"/></g><g fill=\"none\" stroke=\"#808080\" stroke-linecap=\"round\"><path d=\"m839.3 230.61q24.988 12.212 48.971 23.933\" opacity=\".75\"/><path d=\"m885.55 250.99 2.7156 3.5532-4.472 0.040521\" opacity=\".75\"/></g><g transform=\"translate(864.21 239.62) rotate(26.046) scale(.1 -.1)\" fill=\"#808080\"><use xlink:href=\"#DejaVuSans-49\"/></g><g fill=\"none\" stroke=\"#cc79a7\" stroke-linecap=\"round\"><path d=\"m891.57 257.85q26.289 102.78 52.3 204.48\" opacity=\".75\"/><path d=\"m944.81 457.96-0.94646 4.3708-2.9288-3.3797\" opacity=\".75\"/></g><g transform=\"translate(919.82 356.86) rotate(75.653) scale(.1 -.1)\" fill=\"#cc79a7\"><use xlink:href=\"#DejaVuSans-6e\"/></g><g fill=\"none\" stroke=\"#808080\" stroke-linecap=\"round\"><path d=\"m357.39 125.01q24.786 0 48.454 0\" opacity=\".75\"/><path d=\"m401.84 123.01 4 2-4 2\" opacity=\".75\"/></g><g transform=\"translate(380.7 122.17) scale(.1 -.1)\" fill=\"#808080\"><use xlink:href=\"#DejaVuSans-49\"/></g><g fill=\"none\" stroke=\"#808080\" stroke-linecap=\"round\"><path d=\"m410.96 125.01q24.786 0 48.454 0\" opacity=\".75\"/><path d=\"m455.41 123.01 4 2-4 2\" opacity=\".75\"/></g><g transform=\"translate(434.27 122.17) scale(.1 -.1)\" fill=\"#808080\"><use xlink:href=\"#DejaVuSans-49\"/></g><g fill=\"none\" stroke=\"#808080\" stroke-linecap=\"round\"><path d=\"m464.53 125.01q24.786 0 48.454 0\" opacity=\".75\"/><path d=\"m508.98 123.01 4 2-4 2\" opacity=\".75\"/></g><g transform=\"translate(487.84 122.17) scale(.1 -.1)\" fill=\"#808080\"><use xlink:href=\"#DejaVuSans-49\"/></g><g fill=\"none\" stroke=\"#808080\" stroke-linecap=\"round\"><path d=\"m517.52 126.41q25.355 24.783 49.911 48.785\" opacity=\".75\"/><path d=\"m565.97 170.97 1.4625 4.2262-4.2585-1.3657\" opacity=\".75\"/></g><g transform=\"translate(543.81 148.13) rotate(44.347) scale(.1 -.1)\" fill=\"#808080\"><use xlink:href=\"#DejaVuSans-49\"/></g><g fill=\"none\" stroke=\"#808080\" stroke-linecap=\"round\"><path d=\"m571.09 178.77q25.355 24.783 49.911 48.785\" opacity=\".75\"/><path d=\"m619.54 223.33 1.4625 4.2262-4.2585-1.3657\" opacity=\".75\"/></g><g transform=\"translate(597.38 200.49) rotate(44.347) scale(.1 -.1)\" fill=\"#808080\"><use xlink:href=\"#DejaVuSans-49\"/></g><g fill=\"none\" stroke=\"#808080\" stroke-linecap=\"round\"><path d=\"m624.66 231.13q25.355 24.783 49.911 48.785\" opacity=\".75\"/><path d=\"m673.11 275.69 1.4625 4.2262-4.2585-1.3657\" opacity=\".75\"/></g><g transform=\"translate(650.95 252.85) rotate(44.347) scale(.1 -.1)\" fill=\"#808080\"><use xlink:href=\"#DejaVuSans-49\"/></g><g fill=\"none\" stroke=\"#808080\" stroke-linecap=\"round\"><path d=\"m678.59 281.21q24.988-12.212 48.971-23.933\" opacity=\".75\"/><path d=\"m723.09 257.24 4.472 0.040521-2.7156 3.5532\" opacity=\".75\"/></g><g transform=\"translate(701.01 267.1) rotate(-26.046) scale(.1 -.1)\" fill=\"#808080\"><use xlink:href=\"#DejaVuSans-49\"/></g><g fill=\"none\" stroke=\"#808080\" stroke-linecap=\"round\"><path d=\"m732.16 255.03q24.988-12.212 48.971-23.933\" opacity=\".75\"/><path d=\"m776.66 231.06 4.472 0.040521-2.7156 3.5532\" opacity=\".75\"/></g><g transform=\"translate(754.58 240.92) rotate(-26.046) scale(.1 -.1)\" fill=\"#808080\"><use xlink:href=\"#DejaVuSans-49\"/></g><g fill=\"none\" stroke=\"#808080\" stroke-linecap=\"round\"><path d=\"m785.73 228.85q24.988-12.212 48.971-23.933\" opacity=\".75\"/><path d=\"m830.23 204.88 4.472 0.040521-2.7156 3.5532\" opacity=\".75\"/></g><g transform=\"translate(808.15 214.74) rotate(-26.046) scale(.1 -.1)\" fill=\"#808080\"><use xlink:href=\"#DejaVuSans-49\"/></g><g fill=\"none\" stroke=\"#808080\" stroke-linecap=\"round\"><path d=\"m839.3 204.43q24.988 12.212 48.971 23.933\" opacity=\".75\"/><path d=\"m885.55 224.81 2.7156 3.5532-4.472 0.040521\" opacity=\".75\"/></g><g transform=\"translate(864.21 213.44) rotate(26.046) scale(.1 -.1)\" fill=\"#808080\"><use xlink:href=\"#DejaVuSans-49\"/></g><g fill=\"none\" stroke=\"#808080\" stroke-linecap=\"round\"><path d=\"m892.87 230.61q24.988 12.212 48.971 23.933\" opacity=\".75\"/><path d=\"m939.12 250.99 2.7156 3.5532-4.472 0.040521\" opacity=\".75\"/></g><g transform=\"translate(917.78 239.62) rotate(26.046) scale(.1 -.1)\" fill=\"#808080\"><use xlink:href=\"#DejaVuSans-49\"/></g><g fill=\"none\" stroke=\"#cc79a7\" stroke-linecap=\"round\"><path d=\"m945.14 257.85q26.289 102.78 52.3 204.48\" opacity=\".75\"/><path d=\"m998.38 457.96-0.94646 4.3708-2.9288-3.3797\" opacity=\".75\"/></g><g transform=\"translate(973.39 356.86) rotate(75.653) scale(.1 -.1)\" fill=\"#cc79a7\"><use xlink:href=\"#DejaVuSans-6e\"/></g><g fill=\"none\" stroke=\"#808080\" stroke-linecap=\"round\"><path d=\"m410.96 98.83q24.786 0 48.454 0\" opacity=\".75\"/><path d=\"m455.41 96.83 4 2-4 2\" opacity=\".75\"/></g><g transform=\"translate(434.27 95.99) scale(.1 -.1)\" fill=\"#808080\"><use xlink:href=\"#DejaVuSans-49\"/></g><g fill=\"none\" stroke=\"#808080\" stroke-linecap=\"round\"><path d=\"m464.53 98.83q24.786 0 48.454 0\" opacity=\".75\"/><path d=\"m508.98 96.83 4 2-4 2\" opacity=\".75\"/></g><g transform=\"translate(487.84 95.99) scale(.1 -.1)\" fill=\"#808080\"><use xlink:href=\"#DejaVuSans-49\"/></g><g fill=\"none\" stroke=\"#808080\" stroke-linecap=\"round\"><path d=\"m517.52 100.23q25.355 24.783 49.911 48.785\" opacity=\".75\"/><path d=\"m565.97 144.79 1.4625 4.2262-4.2585-1.3657\" opacity=\".75\"/></g><g transform=\"translate(543.81 121.95) rotate(44.347) scale(.1 -.1)\" fill=\"#808080\"><use xlink:href=\"#DejaVuSans-49\"/></g><g fill=\"none\" stroke=\"#808080\" stroke-linecap=\"round\"><path d=\"m571.09 152.59q25.355 24.783 49.911 48.785\" opacity=\".75\"/><path d=\"m619.54 197.15 1.4625 4.2262-4.2585-1.3657\" opacity=\".75\"/></g><g transform=\"translate(597.38 174.31) rotate(44.347) scale(.1 -.1)\" fill=\"#808080\"><use xlink:href=\"#DejaVuSans-49\"/></g><g fill=\"none\" stroke=\"#808080\" stroke-linecap=\"round\"><path d=\"m624.66 204.95q25.355 24.783 49.911 48.785\" opacity=\".75\"/><path d=\"m673.11 249.51 1.4625 4.2262-4.2585-1.3657\" opacity=\".75\"/></g><g transform=\"translate(650.95 226.67) rotate(44.347) scale(.1 -.1)\" fill=\"#808080\"><use xlink:href=\"#DejaVuSans-49\"/></g><g fill=\"none\" stroke=\"#808080\" stroke-linecap=\"round\"><path d=\"m678.59 255.03q24.988-12.212 48.971-23.933\" opacity=\".75\"/><path d=\"m723.09 231.06 4.472 0.040521-2.7156 3.5532\" opacity=\".75\"/></g><g transform=\"translate(701.01 240.92) rotate(-26.046) scale(.1 -.1)\" fill=\"#808080\"><use xlink:href=\"#DejaVuSans-49\"/></g><g fill=\"none\" stroke=\"#808080\" stroke-linecap=\"round\"><path d=\"m732.16 228.85q24.988-12.212 48.971-23.933\" opacity=\".75\"/><path d=\"m776.66 204.88 4.472 0.040521-2.7156 3.5532\" opacity=\".75\"/></g><g transform=\"translate(754.58 214.74) rotate(-26.046) scale(.1 -.1)\" fill=\"#808080\"><use xlink:href=\"#DejaVuSans-49\"/></g><g fill=\"none\" stroke=\"#808080\" stroke-linecap=\"round\"><path d=\"m785.73 202.67q24.988-12.212 48.971-23.933\" opacity=\".75\"/><path d=\"m830.23 178.7 4.472 0.040521-2.7156 3.5532\" opacity=\".75\"/></g><g transform=\"translate(808.15 188.56) rotate(-26.046) scale(.1 -.1)\" fill=\"#808080\"><use xlink:href=\"#DejaVuSans-49\"/></g><g fill=\"none\" stroke=\"#808080\" stroke-linecap=\"round\"><path d=\"m839.3 178.25q24.988 12.212 48.971 23.933\" opacity=\".75\"/><path d=\"m885.55 198.63 2.7156 3.5532-4.472 0.040521\" opacity=\".75\"/></g><g transform=\"translate(864.21 187.26) rotate(26.046) scale(.1 -.1)\" fill=\"#808080\"><use xlink:href=\"#DejaVuSans-49\"/></g><g fill=\"none\" stroke=\"#808080\" stroke-linecap=\"round\"><path d=\"m892.87 204.43q24.988 12.212 48.971 23.933\" opacity=\".75\"/><path d=\"m939.12 224.81 2.7156 3.5532-4.472 0.040521\" opacity=\".75\"/></g><g transform=\"translate(917.78 213.44) rotate(26.046) scale(.1 -.1)\" fill=\"#808080\"><use xlink:href=\"#DejaVuSans-49\"/></g><g fill=\"none\" stroke=\"#808080\" stroke-linecap=\"round\"><path d=\"m946.43 230.61q24.988 12.212 48.971 23.933\" opacity=\".75\"/><path d=\"m992.69 250.99 2.7156 3.5532-4.472 0.040521\" opacity=\".75\"/></g><g transform=\"translate(971.35 239.62) rotate(26.046) scale(.1 -.1)\" fill=\"#808080\"><use xlink:href=\"#DejaVuSans-49\"/></g><g fill=\"none\" stroke=\"#cc79a7\" stroke-linecap=\"round\"><path d=\"m998.7 257.85q26.289 102.78 52.3 204.48\" opacity=\".75\"/><path d=\"m1052 457.96-0.94646 4.3708-2.9288-3.3797\" opacity=\".75\"/></g><g transform=\"translate(1027 356.86) rotate(75.653) scale(.1 -.1)\" fill=\"#cc79a7\"><use xlink:href=\"#DejaVuSans-6e\"/></g><g fill=\"none\" stroke=\"#808080\" stroke-linecap=\"round\"><path d=\"m464.53 72.65q24.786 0 48.454 0\" opacity=\".75\"/><path d=\"m508.98 70.65 4 2-4 2\" opacity=\".75\"/></g><g transform=\"translate(487.84 69.81) scale(.1 -.1)\" fill=\"#808080\"><use xlink:href=\"#DejaVuSans-49\"/></g><g fill=\"none\" stroke=\"#808080\" stroke-linecap=\"round\"><path d=\"m517.52 74.047q25.355 24.783 49.911 48.785\" opacity=\".75\"/><path d=\"m565.97 118.61 1.4625 4.2262-4.2585-1.3657\" opacity=\".75\"/></g><g transform=\"translate(543.81 95.768) rotate(44.347) scale(.1 -.1)\" fill=\"#808080\"><use xlink:href=\"#DejaVuSans-49\"/></g><g fill=\"none\" stroke=\"#808080\" stroke-linecap=\"round\"><path d=\"m571.09 126.41q25.355 24.783 49.911 48.785\" opacity=\".75\"/><path d=\"m619.54 170.97 1.4625 4.2262-4.2585-1.3657\" opacity=\".75\"/></g><g transform=\"translate(597.38 148.13) rotate(44.347) scale(.1 -.1)\" fill=\"#808080\"><use xlink:href=\"#DejaVuSans-49\"/></g><g fill=\"none\" stroke=\"#808080\" stroke-linecap=\"round\"><path d=\"m624.66 178.77q25.355 24.783 49.911 48.785\" opacity=\".75\"/><path d=\"m673.11 223.33 1.4625 4.2262-4.2585-1.3657\" opacity=\".75\"/></g><g transform=\"translate(650.95 200.49) rotate(44.347) scale(.1 -.1)\" fill=\"#808080\"><use xlink:href=\"#DejaVuSans-49\"/></g><g fill=\"none\" stroke=\"#808080\" stroke-linecap=\"round\"><path d=\"m678.59 228.85q24.988-12.212 48.971-23.933\" opacity=\".75\"/><path d=\"m723.09 204.88 4.472 0.040521-2.7156 3.5532\" opacity=\".75\"/></g><g transform=\"translate(701.01 214.74) rotate(-26.046) scale(.1 -.1)\" fill=\"#808080\"><use xlink:href=\"#DejaVuSans-49\"/></g><g fill=\"none\" stroke=\"#808080\" stroke-linecap=\"round\"><path d=\"m732.16 202.67q24.988-12.212 48.971-23.933\" opacity=\".75\"/><path d=\"m776.66 178.7 4.472 0.040521-2.7156 3.5532\" opacity=\".75\"/></g><g transform=\"translate(754.58 188.56) rotate(-26.046) scale(.1 -.1)\" fill=\"#808080\"><use xlink:href=\"#DejaVuSans-49\"/></g><g fill=\"none\" stroke=\"#808080\" stroke-linecap=\"round\"><path d=\"m785.73 176.49q24.988-12.212 48.971-23.933\" opacity=\".75\"/><path d=\"m830.23 152.52 4.472 0.040521-2.7156 3.5532\" opacity=\".75\"/></g><g transform=\"translate(808.15 162.38) rotate(-26.046) scale(.1 -.1)\" fill=\"#808080\"><use xlink:href=\"#DejaVuSans-49\"/></g><g fill=\"none\" stroke=\"#808080\" stroke-linecap=\"round\"><path d=\"m839.3 152.07q24.988 12.212 48.971 23.933\" opacity=\".75\"/><path d=\"m885.55 172.45 2.7156 3.5532-4.472 0.040521\" opacity=\".75\"/></g><g transform=\"translate(864.21 161.08) rotate(26.046) scale(.1 -.1)\" fill=\"#808080\"><use xlink:href=\"#DejaVuSans-49\"/></g><g fill=\"none\" stroke=\"#808080\" stroke-linecap=\"round\"><path d=\"m892.87 178.25q24.988 12.212 48.971 23.933\" opacity=\".75\"/><path d=\"m939.12 198.63 2.7156 3.5532-4.472 0.040521\" opacity=\".75\"/></g><g transform=\"translate(917.78 187.26) rotate(26.046) scale(.1 -.1)\" fill=\"#808080\"><use xlink:href=\"#DejaVuSans-49\"/></g><g fill=\"none\" stroke=\"#808080\" stroke-linecap=\"round\"><path d=\"m946.43 204.43q24.988 12.212 48.971 23.933\" opacity=\".75\"/><path d=\"m992.69 224.81 2.7156 3.5532-4.472 0.040521\" opacity=\".75\"/></g><g transform=\"translate(971.35 213.44) rotate(26.046) scale(.1 -.1)\" fill=\"#808080\"><use xlink:href=\"#DejaVuSans-49\"/></g><g fill=\"none\" stroke=\"#808080\" stroke-linecap=\"round\"><path d=\"m1e3 230.61q24.988 12.212 48.971 23.933\" opacity=\".75\"/><path d=\"m1046.3 250.99 2.7156 3.5532-4.472 0.040521\" opacity=\".75\"/></g><g transform=\"translate(1024.9 239.62) rotate(26.046) scale(.1 -.1)\" fill=\"#808080\"><use xlink:href=\"#DejaVuSans-49\"/></g><g fill=\"none\" stroke=\"#cc79a7\" stroke-linecap=\"round\"><path d=\"m1052.3 257.85q26.289 102.78 52.3 204.48\" opacity=\".75\"/><path d=\"m1105.5 457.96-0.94646 4.3708-2.9288-3.3797\" opacity=\".75\"/></g><g transform=\"translate(1080.5 356.86) rotate(75.653) scale(.1 -.1)\" fill=\"#cc79a7\"><use xlink:href=\"#DejaVuSans-6e\"/></g><g fill=\"none\" stroke=\"#808080\" stroke-linecap=\"round\"><path d=\"m517.52 47.867q25.355 24.783 49.911 48.785\" opacity=\".75\"/><path d=\"m565.97 92.426 1.4625 4.2262-4.2585-1.3657\" opacity=\".75\"/></g><g transform=\"translate(543.81 69.588) rotate(44.347) scale(.1 -.1)\" fill=\"#808080\"><use xlink:href=\"#DejaVuSans-49\"/></g><g fill=\"none\" stroke=\"#808080\" stroke-linecap=\"round\"><path d=\"m571.09 100.23q25.355 24.783 49.911 48.785\" opacity=\".75\"/><path d=\"m619.54 144.79 1.4625 4.2262-4.2585-1.3657\" opacity=\".75\"/></g><g transform=\"translate(597.38 121.95) rotate(44.347) scale(.1 -.1)\" fill=\"#808080\"><use xlink:href=\"#DejaVuSans-49\"/></g><g fill=\"none\" stroke=\"#808080\" stroke-linecap=\"round\"><path d=\"m624.66 152.59q25.355 24.783 49.911 48.785\" opacity=\".75\"/><path d=\"m673.11 197.15 1.4625 4.2262-4.2585-1.3657\" opacity=\".75\"/></g><g transform=\"translate(650.95 174.31) rotate(44.347) scale(.1 -.1)\" fill=\"#808080\"><use xlink:href=\"#DejaVuSans-49\"/></g><g fill=\"none\" stroke=\"#808080\" stroke-linecap=\"round\"><path d=\"m678.59 202.67q24.988-12.212 48.971-23.933\" opacity=\".75\"/><path d=\"m723.09 178.7 4.472 0.040521-2.7156 3.5532\" opacity=\".75\"/></g><g transform=\"translate(701.01 188.56) rotate(-26.046) scale(.1 -.1)\" fill=\"#808080\"><use xlink:href=\"#DejaVuSans-49\"/></g><g fill=\"none\" stroke=\"#808080\" stroke-linecap=\"round\"><path d=\"m732.16 176.49q24.988-12.212 48.971-23.933\" opacity=\".75\"/><path d=\"m776.66 152.52 4.472 0.040521-2.7156 3.5532\" opacity=\".75\"/></g><g transform=\"translate(754.58 162.38) rotate(-26.046) scale(.1 -.1)\" fill=\"#808080\"><use xlink:href=\"#DejaVuSans-49\"/></g><g fill=\"none\" stroke=\"#808080\" stroke-linecap=\"round\"><path d=\"m785.73 150.31q24.988-12.212 48.971-23.933\" opacity=\".75\"/><path d=\"m830.23 126.34 4.472 0.040521-2.7156 3.5532\" opacity=\".75\"/></g><g transform=\"translate(808.15 136.2) rotate(-26.046) scale(.1 -.1)\" fill=\"#808080\"><use xlink:href=\"#DejaVuSans-49\"/></g><g fill=\"none\" stroke=\"#808080\" stroke-linecap=\"round\"><path d=\"m839.3 125.89q24.988 12.212 48.971 23.933\" opacity=\".75\"/><path d=\"m885.55 146.27 2.7156 3.5532-4.472 0.040521\" opacity=\".75\"/></g><g transform=\"translate(864.21 134.9) rotate(26.046) scale(.1 -.1)\" fill=\"#808080\"><use xlink:href=\"#DejaVuSans-49\"/></g><g fill=\"none\" stroke=\"#808080\" stroke-linecap=\"round\"><path d=\"m892.87 152.07q24.988 12.212 48.971 23.933\" opacity=\".75\"/><path d=\"m939.12 172.45 2.7156 3.5532-4.472 0.040521\" opacity=\".75\"/></g><g transform=\"translate(917.78 161.08) rotate(26.046) scale(.1 -.1)\" fill=\"#808080\"><use xlink:href=\"#DejaVuSans-49\"/></g><g fill=\"none\" stroke=\"#808080\" stroke-linecap=\"round\"><path d=\"m946.43 178.25q24.988 12.212 48.971 23.933\" opacity=\".75\"/><path d=\"m992.69 198.63 2.7156 3.5532-4.472 0.040521\" opacity=\".75\"/></g><g transform=\"translate(971.35 187.26) rotate(26.046) scale(.1 -.1)\" fill=\"#808080\"><use xlink:href=\"#DejaVuSans-49\"/></g><g fill=\"none\" stroke=\"#808080\" stroke-linecap=\"round\"><path d=\"m1e3 204.43q24.988 12.212 48.971 23.933\" opacity=\".75\"/><path d=\"m1046.3 224.81 2.7156 3.5532-4.472 0.040521\" opacity=\".75\"/></g><g transform=\"translate(1024.9 213.44) rotate(26.046) scale(.1 -.1)\" fill=\"#808080\"><use xlink:href=\"#DejaVuSans-49\"/></g><g fill=\"none\" stroke=\"#808080\" stroke-linecap=\"round\"><path d=\"m1053.6 230.61q24.988 12.212 48.971 23.933\" opacity=\".75\"/><path d=\"m1099.8 250.99 2.7156 3.5532-4.472 0.040521\" opacity=\".75\"/></g><g transform=\"translate(1078.5 239.62) rotate(26.046) scale(.1 -.1)\" fill=\"#808080\"><use xlink:href=\"#DejaVuSans-49\"/></g><g fill=\"none\" stroke=\"#cc79a7\" stroke-linecap=\"round\"><path d=\"m1105.8 257.85q26.289 102.78 52.3 204.48\" opacity=\".75\"/><path d=\"m1159.1 457.96-0.94646 4.3708-2.9288-3.3797\" opacity=\".75\"/></g><g transform=\"translate(1134.1 356.86) rotate(75.653) scale(.1 -.1)\" fill=\"#cc79a7\"><use xlink:href=\"#DejaVuSans-6e\"/></g><g fill=\"none\" stroke=\"#808080\" stroke-linecap=\"round\"><path d=\"m571.09 74.047q25.355 24.783 49.911 48.785\" opacity=\".75\"/><path d=\"m619.54 118.61 1.4625 4.2262-4.2585-1.3657\" opacity=\".75\"/></g><g transform=\"translate(597.38 95.768) rotate(44.347) scale(.1 -.1)\" fill=\"#808080\"><use xlink:href=\"#DejaVuSans-49\"/></g><g fill=\"none\" stroke=\"#808080\" stroke-linecap=\"round\"><path d=\"m624.66 126.41q25.355 24.783 49.911 48.785\" opacity=\".75\"/><path d=\"m673.11 170.97 1.4625 4.2262-4.2585-1.3657\" opacity=\".75\"/></g><g transform=\"translate(650.95 148.13) rotate(44.347) scale(.1 -.1)\" fill=\"#808080\"><use xlink:href=\"#DejaVuSans-49\"/></g><g fill=\"none\" stroke=\"#808080\" stroke-linecap=\"round\"><path d=\"m678.59 176.49q24.988-12.212 48.971-23.933\" opacity=\".75\"/><path d=\"m723.09 152.52 4.472 0.040521-2.7156 3.5532\" opacity=\".75\"/></g><g transform=\"translate(701.01 162.38) rotate(-26.046) scale(.1 -.1)\" fill=\"#808080\"><use xlink:href=\"#DejaVuSans-49\"/></g><g fill=\"none\" stroke=\"#808080\" stroke-linecap=\"round\"><path d=\"m732.16 150.31q24.988-12.212 48.971-23.933\" opacity=\".75\"/><path d=\"m776.66 126.34 4.472 0.040521-2.7156 3.5532\" opacity=\".75\"/></g><g transform=\"translate(754.58 136.2) rotate(-26.046) scale(.1 -.1)\" fill=\"#808080\"><use xlink:href=\"#DejaVuSans-49\"/></g><g fill=\"none\" stroke=\"#808080\" stroke-linecap=\"round\"><path d=\"m785.73 124.13q24.988-12.212 48.971-23.933\" opacity=\".75\"/><path d=\"m830.23 100.16 4.472 0.040521-2.7156 3.5532\" opacity=\".75\"/></g><g transform=\"translate(808.15 110.02) rotate(-26.046) scale(.1 -.1)\" fill=\"#808080\"><use xlink:href=\"#DejaVuSans-49\"/></g><g fill=\"none\" stroke=\"#808080\" stroke-linecap=\"round\"><path d=\"m839.3 99.707q24.988 12.212 48.971 23.933\" opacity=\".75\"/><path d=\"m885.55 120.09 2.7156 3.5532-4.472 0.040521\" opacity=\".75\"/></g><g transform=\"translate(864.21 108.72) rotate(26.046) scale(.1 -.1)\" fill=\"#808080\"><use xlink:href=\"#DejaVuSans-49\"/></g><g fill=\"none\" stroke=\"#808080\" stroke-linecap=\"round\"><path d=\"m892.87 125.89q24.988 12.212 48.971 23.933\" opacity=\".75\"/><path d=\"m939.12 146.27 2.7156 3.5532-4.472 0.040521\" opacity=\".75\"/></g><g transform=\"translate(917.78 134.9) rotate(26.046) scale(.1 -.1)\" fill=\"#808080\"><use xlink:href=\"#DejaVuSans-49\"/></g><g fill=\"none\" stroke=\"#808080\" stroke-linecap=\"round\"><path d=\"m946.43 152.07q24.988 12.212 48.971 23.933\" opacity=\".75\"/><path d=\"m992.69 172.45 2.7156 3.5532-4.472 0.040521\" opacity=\".75\"/></g><g transform=\"translate(971.35 161.08) rotate(26.046) scale(.1 -.1)\" fill=\"#808080\"><use xlink:href=\"#DejaVuSans-49\"/></g><g fill=\"none\" stroke=\"#808080\" stroke-linecap=\"round\"><path d=\"m1e3 178.25q24.988 12.212 48.971 23.933\" opacity=\".75\"/><path d=\"m1046.3 198.63 2.7156 3.5532-4.472 0.040521\" opacity=\".75\"/></g><g transform=\"translate(1024.9 187.26) rotate(26.046) scale(.1 -.1)\" fill=\"#808080\"><use xlink:href=\"#DejaVuSans-49\"/></g><g fill=\"none\" stroke=\"#808080\" stroke-linecap=\"round\"><path d=\"m1053.6 204.43q24.988 12.212 48.971 23.933\" opacity=\".75\"/><path d=\"m1099.8 224.81 2.7156 3.5532-4.472 0.040521\" opacity=\".75\"/></g><g transform=\"translate(1078.5 213.44) rotate(26.046) scale(.1 -.1)\" fill=\"#808080\"><use xlink:href=\"#DejaVuSans-49\"/></g><g fill=\"none\" stroke=\"#808080\" stroke-linecap=\"round\"><path d=\"m1107.1 230.61q24.988 12.212 48.971 23.933\" opacity=\".75\"/><path d=\"m1153.4 250.99 2.7156 3.5532-4.472 0.040521\" opacity=\".75\"/></g><g transform=\"translate(1132 239.62) rotate(26.046) scale(.1 -.1)\" fill=\"#808080\"><use xlink:href=\"#DejaVuSans-49\"/></g><g fill=\"none\" stroke=\"#cc79a7\" stroke-linecap=\"round\"><path d=\"m1159.4 257.85q26.289 102.78 52.3 204.48\" opacity=\".75\"/><path d=\"m1212.7 457.96-0.94646 4.3708-2.9288-3.3797\" opacity=\".75\"/></g><g transform=\"translate(1187.7 356.86) rotate(75.653) scale(.1 -.1)\" fill=\"#cc79a7\"><use xlink:href=\"#DejaVuSans-6e\"/></g><g fill=\"none\" stroke=\"#808080\" stroke-linecap=\"round\"><path d=\"m624.66 100.23q25.355 24.783 49.911 48.785\" opacity=\".75\"/><path d=\"m673.11 144.79 1.4625 4.2262-4.2585-1.3657\" opacity=\".75\"/></g><g transform=\"translate(650.95 121.95) rotate(44.347) scale(.1 -.1)\" fill=\"#808080\"><use xlink:href=\"#DejaVuSans-49\"/></g><g fill=\"none\" stroke=\"#808080\" stroke-linecap=\"round\"><path d=\"m678.59 150.31q24.988-12.212 48.971-23.933\" opacity=\".75\"/><path d=\"m723.09 126.34 4.472 0.040521-2.7156 3.5532\" opacity=\".75\"/></g><g transform=\"translate(701.01 136.2) rotate(-26.046) scale(.1 -.1)\" fill=\"#808080\"><use xlink:href=\"#DejaVuSans-49\"/></g><g fill=\"none\" stroke=\"#808080\" stroke-linecap=\"round\"><path d=\"m732.16 124.13q24.988-12.212 48.971-23.933\" opacity=\".75\"/><path d=\"m776.66 100.16 4.472 0.040521-2.7156 3.5532\" opacity=\".75\"/></g><g transform=\"translate(754.58 110.02) rotate(-26.046) scale(.1 -.1)\" fill=\"#808080\"><use xlink:href=\"#DejaVuSans-49\"/></g><g fill=\"none\" stroke=\"#808080\" stroke-linecap=\"round\"><path d=\"m785.73 97.953q24.988-12.212 48.971-23.933\" opacity=\".75\"/><path d=\"m830.23 73.979 4.472 0.040521-2.7156 3.5532\" opacity=\".75\"/></g><g transform=\"translate(808.15 83.837) rotate(-26.046) scale(.1 -.1)\" fill=\"#808080\"><use xlink:href=\"#DejaVuSans-49\"/></g><g fill=\"none\" stroke=\"#808080\" stroke-linecap=\"round\"><path d=\"m839.3 73.527q24.988 12.212 48.971 23.933\" opacity=\".75\"/><path d=\"m885.55 93.907 2.7156 3.5532-4.472 0.040521\" opacity=\".75\"/></g><g transform=\"translate(864.21 82.541) rotate(26.046) scale(.1 -.1)\" fill=\"#808080\"><use xlink:href=\"#DejaVuSans-49\"/></g><g fill=\"none\" stroke=\"#808080\" stroke-linecap=\"round\"><path d=\"m892.87 99.707q24.988 12.212 48.971 23.933\" opacity=\".75\"/><path d=\"m939.12 120.09 2.7156 3.5532-4.472 0.040521\" opacity=\".75\"/></g><g transform=\"translate(917.78 108.72) rotate(26.046) scale(.1 -.1)\" fill=\"#808080\"><use xlink:href=\"#DejaVuSans-49\"/></g><g fill=\"none\" stroke=\"#808080\" stroke-linecap=\"round\"><path d=\"m946.43 125.89q24.988 12.212 48.971 23.933\" opacity=\".75\"/><path d=\"m992.69 146.27 2.7156 3.5532-4.472 0.040521\" opacity=\".75\"/></g><g transform=\"translate(971.35 134.9) rotate(26.046) scale(.1 -.1)\" fill=\"#808080\"><use xlink:href=\"#DejaVuSans-49\"/></g><g fill=\"none\" stroke=\"#808080\" stroke-linecap=\"round\"><path d=\"m1e3 152.07q24.988 12.212 48.971 23.933\" opacity=\".75\"/><path d=\"m1046.3 172.45 2.7156 3.5532-4.472 0.040521\" opacity=\".75\"/></g><g transform=\"translate(1024.9 161.08) rotate(26.046) scale(.1 -.1)\" fill=\"#808080\"><use xlink:href=\"#DejaVuSans-49\"/></g><g fill=\"none\" stroke=\"#808080\" stroke-linecap=\"round\"><path d=\"m1053.6 178.25q24.988 12.212 48.971 23.933\" opacity=\".75\"/><path d=\"m1099.8 198.63 2.7156 3.5532-4.472 0.040521\" opacity=\".75\"/></g><g transform=\"translate(1078.5 187.26) rotate(26.046) scale(.1 -.1)\" fill=\"#808080\"><use xlink:href=\"#DejaVuSans-49\"/></g><g fill=\"none\" stroke=\"#808080\" stroke-linecap=\"round\"><path d=\"m1107.1 204.43q24.988 12.212 48.971 23.933\" opacity=\".75\"/><path d=\"m1153.4 224.81 2.7156 3.5532-4.472 0.040521\" opacity=\".75\"/></g><g transform=\"translate(1132 213.44) rotate(26.046) scale(.1 -.1)\" fill=\"#808080\"><use xlink:href=\"#DejaVuSans-49\"/></g><g fill=\"none\" stroke=\"#808080\" stroke-linecap=\"round\"><path d=\"m1160 231.38q25.657 37.617 50.683 74.311\" opacity=\".75\"/><path d=\"m1210.1 301.26 0.60158 4.4315-3.9061-2.1776\" opacity=\".75\"/></g><g transform=\"translate(1187.2 266.18) rotate(55.704) scale(.1 -.1)\" fill=\"#808080\"><use xlink:href=\"#DejaVuSans-49\"/></g><g fill=\"none\" stroke=\"#cc79a7\" stroke-linecap=\"round\"><path d=\"m1213.1 310.16q26.139 76.648 51.917 152.24\" opacity=\".75\"/><path d=\"m1265.6 457.97-0.60187 4.4315-3.184-3.1404\" opacity=\".75\"/></g><g transform=\"translate(1240.9 382.89) rotate(71.169) scale(.1 -.1)\" fill=\"#cc79a7\"><use xlink:href=\"#DejaVuSans-6e\"/></g><g fill=\"none\" stroke=\"#808080\" stroke-linecap=\"round\"><path d=\"m678.59 124.13q24.988-12.212 48.971-23.933\" opacity=\".75\"/><path d=\"m723.09 100.16 4.472 0.040521-2.7156 3.5532\" opacity=\".75\"/></g><g transform=\"translate(701.01 110.02) rotate(-26.046) scale(.1 -.1)\" fill=\"#808080\"><use xlink:href=\"#DejaVuSans-49\"/></g><g fill=\"none\" stroke=\"#808080\" stroke-linecap=\"round\"><path d=\"m732.16 97.953q24.988-12.212 48.971-23.933\" opacity=\".75\"/><path d=\"m776.66 73.979 4.472 0.040521-2.7156 3.5532\" opacity=\".75\"/></g><g transform=\"translate(754.58 83.837) rotate(-26.046) scale(.1 -.1)\" fill=\"#808080\"><use xlink:href=\"#DejaVuSans-49\"/></g><g fill=\"none\" stroke=\"#808080\" stroke-linecap=\"round\"><path d=\"m785.73 71.773q24.988-12.212 48.971-23.933\" opacity=\".75\"/><path d=\"m830.23 47.799 4.472 0.040521-2.7156 3.5532\" opacity=\".75\"/></g><g transform=\"translate(808.15 57.657) rotate(-26.046) scale(.1 -.1)\" fill=\"#808080\"><use xlink:href=\"#DejaVuSans-49\"/></g><g fill=\"none\" stroke=\"#808080\" stroke-linecap=\"round\"><path d=\"m839.3 47.347q24.988 12.212 48.971 23.933\" opacity=\".75\"/><path d=\"m885.55 67.727 2.7156 3.5532-4.472 0.040521\" opacity=\".75\"/></g><g transform=\"translate(864.21 56.361) rotate(26.046) scale(.1 -.1)\" fill=\"#808080\"><use xlink:href=\"#DejaVuSans-49\"/></g><g fill=\"none\" stroke=\"#808080\" stroke-linecap=\"round\"><path d=\"m892.87 73.527q24.988 12.212 48.971 23.933\" opacity=\".75\"/><path d=\"m939.12 93.907 2.7156 3.5532-4.472 0.040521\" opacity=\".75\"/></g><g transform=\"translate(917.78 82.541) rotate(26.046) scale(.1 -.1)\" fill=\"#808080\"><use xlink:href=\"#DejaVuSans-49\"/></g><g fill=\"none\" stroke=\"#808080\" stroke-linecap=\"round\"><path d=\"m946.43 99.707q24.988 12.212 48.971 23.933\" opacity=\".75\"/><path d=\"m992.69 120.09 2.7156 3.5532-4.472 0.040521\" opacity=\".75\"/></g><g transform=\"translate(971.35 108.72) rotate(26.046) scale(.1 -.1)\" fill=\"#808080\"><use xlink:href=\"#DejaVuSans-49\"/></g><g fill=\"none\" stroke=\"#808080\" stroke-linecap=\"round\"><path d=\"m1e3 125.89q24.988 12.212 48.971 23.933\" opacity=\".75\"/><path d=\"m1046.3 146.27 2.7156 3.5532-4.472 0.040521\" opacity=\".75\"/></g><g transform=\"translate(1024.9 134.9) rotate(26.046) scale(.1 -.1)\" fill=\"#808080\"><use xlink:href=\"#DejaVuSans-49\"/></g><g fill=\"none\" stroke=\"#808080\" stroke-linecap=\"round\"><path d=\"m1053.6 152.07q24.988 12.212 48.971 23.933\" opacity=\".75\"/><path d=\"m1099.8 172.45 2.7156 3.5532-4.472 0.040521\" opacity=\".75\"/></g><g transform=\"translate(1078.5 161.08) rotate(26.046) scale(.1 -.1)\" fill=\"#808080\"><use xlink:href=\"#DejaVuSans-49\"/></g><g fill=\"none\" stroke=\"#808080\" stroke-linecap=\"round\"><path d=\"m1107.1 178.25q24.988 12.212 48.971 23.933\" opacity=\".75\"/><path d=\"m1153.4 198.63 2.7156 3.5532-4.472 0.040521\" opacity=\".75\"/></g><g transform=\"translate(1132 187.26) rotate(26.046) scale(.1 -.1)\" fill=\"#808080\"><use xlink:href=\"#DejaVuSans-49\"/></g><g fill=\"none\" stroke=\"#808080\" stroke-linecap=\"round\"><path d=\"m1160 205.2q25.657 37.617 50.683 74.311\" opacity=\".75\"/><path d=\"m1210.1 275.08 0.60158 4.4315-3.9061-2.1776\" opacity=\".75\"/></g><g transform=\"translate(1187.2 240) rotate(55.704) scale(.1 -.1)\" fill=\"#808080\"><use xlink:href=\"#DejaVuSans-49\"/></g><g fill=\"none\" stroke=\"#808080\" stroke-linecap=\"round\"><path d=\"m1213.4 283.87q25.873 50.579 51.237 100.16\" opacity=\".75\"/><path d=\"m1264.6 379.56 0.041079 4.4719-3.6022-2.6503\" opacity=\".75\"/></g><g transform=\"translate(1241.1 331.84) rotate(62.909) scale(.1 -.1)\" fill=\"#808080\"><use xlink:href=\"#DejaVuSans-49\"/></g><g fill=\"none\" stroke=\"#cc79a7\" stroke-linecap=\"round\"><path d=\"m1267.2 388.46q25.657 37.617 50.683 74.311\" opacity=\".75\"/><path d=\"m1317.3 458.34 0.60158 4.4315-3.9061-2.1776\" opacity=\".75\"/></g><g transform=\"translate(1293.4 421.86) rotate(55.704) scale(.1 -.1)\" fill=\"#cc79a7\"><use xlink:href=\"#DejaVuSans-6e\"/></g><g transform=\"translate(51.948 494.84) scale(.12 -.12)\" fill=\"#808080\"><defs><path id=\"DejaVuSans-Oblique-57\" transform=\"scale(.015625)\" d=\"m616 4666h612l225-3969 1760 3969h703l231-3969 1741 3969h640l-2075-4666h-794l-215 3891-1747-3891h-794l-287 4666z\"/><path id=\"DejaVuSans-30\" transform=\"scale(.015625)\" d=\"m2034 4250q-487 0-733-480-245-479-245-1442 0-959 245-1439 246-480 733-480 491 0 736 480 246 480 246 1439 0 963-246 1442-245 480-736 480zm0 500q785 0 1199-621 414-620 414-1801 0-1178-414-1799-414-620-1199-620-784 0-1198 620-414 621-414 1799 0 1181 414 1801 414 621 1198 621z\"/></defs><use transform=\"translate(0 .09375)\" xlink:href=\"#DejaVuSans-Oblique-57\"/><use transform=\"translate(98.877 -16.312) scale(.7)\" xlink:href=\"#DejaVuSans-30\"/></g><g transform=\"translate(105.52 494.84) scale(.12 -.12)\" fill=\"#808080\"><use transform=\"translate(0 .09375)\" xlink:href=\"#DejaVuSans-Oblique-57\"/><use transform=\"translate(98.877 -16.312) scale(.7)\" xlink:href=\"#DejaVuSans-31\"/></g><g transform=\"translate(159.08 494.84) scale(.12 -.12)\" fill=\"#808080\"><defs><path id=\"DejaVuSans-32\" transform=\"scale(.015625)\" d=\"m1228 531h2203v-531h-2962v531q359 372 979 998 621 627 780 809 303 340 423 576 121 236 121 464 0 372-261 606-261 235-680 235-297 0-627-103-329-103-704-313v638q381 153 712 231 332 78 607 78 725 0 1156-363 431-362 431-968 0-288-108-546-107-257-392-607-78-91-497-524-418-433-1181-1211z\"/></defs><use transform=\"translate(0 .09375)\" xlink:href=\"#DejaVuSans-Oblique-57\"/><use transform=\"translate(98.877 -16.312) scale(.7)\" xlink:href=\"#DejaVuSans-32\"/></g><g transform=\"translate(212.65 494.84) scale(.12 -.12)\" fill=\"#808080\"><defs><path id=\"DejaVuSans-33\" transform=\"scale(.015625)\" d=\"m2597 2516q453-97 707-404 255-306 255-756 0-690-475-1069-475-378-1350-378-293 0-604 58t-642 174v609q262-153 574-231 313-78 654-78 593 0 904 234t311 681q0 413-289 645-289 233-804 233h-544v519h569q465 0 712 186t247 536q0 359-255 551-254 193-729 193-260 0-557-57-297-56-653-174v562q360 100 674 150t592 50q719 0 1137-327 419-326 419-882 0-388-222-655t-631-370z\"/></defs><use transform=\"translate(0 .09375)\" xlink:href=\"#DejaVuSans-Oblique-57\"/><use transform=\"translate(98.877 -16.312) scale(.7)\" xlink:href=\"#DejaVuSans-33\"/></g><g transform=\"translate(266.22 494.84) scale(.12 -.12)\" fill=\"#808080\"><defs><path id=\"DejaVuSans-34\" transform=\"scale(.015625)\" d=\"m2419 4116-1594-2491h1594v2491zm-166 550h794v-3041h666v-525h-666v-1100h-628v1100h-2106v609l1940 2957z\"/></defs><use transform=\"translate(0 .09375)\" xlink:href=\"#DejaVuSans-Oblique-57\"/><use transform=\"translate(98.877 -16.312) scale(.7)\" xlink:href=\"#DejaVuSans-34\"/></g><g transform=\"translate(319.79 494.84) scale(.12 -.12)\" fill=\"#808080\"><defs><path id=\"DejaVuSans-35\" transform=\"scale(.015625)\" d=\"m691 4666h2478v-532h-1900v-1143q137 47 274 70 138 23 276 23 781 0 1237-428 457-428 457-1159 0-753-469-1171-469-417-1322-417-294 0-599 50-304 50-629 150v635q281-153 581-228t634-75q541 0 856 284 316 284 316 772 0 487-316 771-315 285-856 285-253 0-505-56-251-56-513-175v2344z\"/></defs><use transform=\"translate(0 .09375)\" xlink:href=\"#DejaVuSans-Oblique-57\"/><use transform=\"translate(98.877 -16.312) scale(.7)\" xlink:href=\"#DejaVuSans-35\"/></g><g transform=\"translate(373.36 494.84) scale(.12 -.12)\" fill=\"#808080\"><defs><path id=\"DejaVuSans-36\" transform=\"scale(.015625)\" d=\"m2113 2584q-425 0-674-291-248-290-248-796 0-503 248-796 249-292 674-292t673 292q248 293 248 796 0 506-248 796-248 291-673 291zm1253 1979v-575q-238 112-480 171-242 60-480 60-625 0-955-422-329-422-376-1275 184 272 462 417 279 145 613 145 703 0 1111-427 408-426 408-1160 0-719-425-1154-425-434-1131-434-810 0-1238 620-428 621-428 1799 0 1106 525 1764t1409 658q238 0 480-47t505-140z\"/></defs><use transform=\"translate(0 .09375)\" xlink:href=\"#DejaVuSans-Oblique-57\"/><use transform=\"translate(98.877 -16.312) scale(.7)\" xlink:href=\"#DejaVuSans-36\"/></g><g transform=\"translate(426.92 494.84) scale(.12 -.12)\" fill=\"#808080\"><defs><path id=\"DejaVuSans-37\" transform=\"scale(.015625)\" d=\"m525 4666h3e3v-269l-1694-4397h-659l1594 4134h-2241v532z\"/></defs><use transform=\"translate(0 .09375)\" xlink:href=\"#DejaVuSans-Oblique-57\"/><use transform=\"translate(98.877 -16.312) scale(.7)\" xlink:href=\"#DejaVuSans-37\"/></g><g transform=\"translate(480.49 494.84) scale(.12 -.12)\" fill=\"#808080\"><defs><path id=\"DejaVuSans-38\" transform=\"scale(.015625)\" d=\"m2034 2216q-450 0-708-241-257-241-257-662 0-422 257-663 258-241 708-241t709 242q260 243 260 662 0 421-258 662-257 241-711 241zm-631 268q-406 100-633 378-226 279-226 679 0 559 398 884 399 325 1092 325 697 0 1094-325t397-884q0-400-227-679-226-278-629-378 456-106 710-416 255-309 255-755 0-679-414-1042-414-362-1186-362-771 0-1186 362-414 363-414 1042 0 446 256 755 257 310 713 416zm-231 997q0-362 226-565 227-203 636-203 407 0 636 203 230 203 230 565 0 363-230 566-229 203-636 203-409 0-636-203-226-203-226-566z\"/></defs><use transform=\"translate(0 .09375)\" xlink:href=\"#DejaVuSans-Oblique-57\"/><use transform=\"translate(98.877 -16.312) scale(.7)\" xlink:href=\"#DejaVuSans-38\"/></g><g transform=\"translate(534.06 494.84) scale(.12 -.12)\" fill=\"#808080\"><defs><path id=\"DejaVuSans-39\" transform=\"scale(.015625)\" d=\"m703 97v575q238-113 481-172 244-59 479-59 625 0 954 420 330 420 377 1277-181-269-460-413-278-144-615-144-700 0-1108 423-408 424-408 1159 0 718 425 1152 425 435 1131 435 810 0 1236-621 427-620 427-1801 0-1103-524-1761-523-658-1407-658-238 0-482 47-243 47-506 141zm1256 1978q425 0 673 290 249 291 249 798 0 503-249 795-248 292-673 292t-673-292-248-795q0-507 248-798 248-290 673-290z\"/></defs><use transform=\"translate(0 .09375)\" xlink:href=\"#DejaVuSans-Oblique-57\"/><use transform=\"translate(98.877 -16.312) scale(.7)\" xlink:href=\"#DejaVuSans-39\"/></g><g transform=\"translate(584.99 494.84) scale(.12 -.12)\" fill=\"#808080\"><use transform=\"translate(0 .09375)\" xlink:href=\"#DejaVuSans-Oblique-57\"/><use transform=\"translate(98.877 -16.312) scale(.7)\" xlink:href=\"#DejaVuSans-31\"/><use transform=\"translate(143.41 -16.312) scale(.7)\" xlink:href=\"#DejaVuSans-30\"/></g><g transform=\"translate(638.56 494.84) scale(.12 -.12)\" fill=\"#808080\"><use transform=\"translate(0 .09375)\" xlink:href=\"#DejaVuSans-Oblique-57\"/><use transform=\"translate(98.877 -16.312) scale(.7)\" xlink:href=\"#DejaVuSans-31\"/><use transform=\"translate(143.41 -16.312) scale(.7)\" xlink:href=\"#DejaVuSans-31\"/></g><g transform=\"translate(692.12 494.84) scale(.12 -.12)\" fill=\"#808080\"><use transform=\"translate(0 .09375)\" xlink:href=\"#DejaVuSans-Oblique-57\"/><use transform=\"translate(98.877 -16.312) scale(.7)\" xlink:href=\"#DejaVuSans-31\"/><use transform=\"translate(143.41 -16.312) scale(.7)\" xlink:href=\"#DejaVuSans-32\"/></g><g transform=\"translate(745.69 494.84) scale(.12 -.12)\" fill=\"#808080\"><use transform=\"translate(0 .09375)\" xlink:href=\"#DejaVuSans-Oblique-57\"/><use transform=\"translate(98.877 -16.312) scale(.7)\" xlink:href=\"#DejaVuSans-31\"/><use transform=\"translate(143.41 -16.312) scale(.7)\" xlink:href=\"#DejaVuSans-33\"/></g><g transform=\"translate(799.26 494.84) scale(.12 -.12)\" fill=\"#808080\"><use transform=\"translate(0 .09375)\" xlink:href=\"#DejaVuSans-Oblique-57\"/><use transform=\"translate(98.877 -16.312) scale(.7)\" xlink:href=\"#DejaVuSans-31\"/><use transform=\"translate(143.41 -16.312) scale(.7)\" xlink:href=\"#DejaVuSans-34\"/></g><g transform=\"translate(852.83 494.84) scale(.12 -.12)\" fill=\"#808080\"><use transform=\"translate(0 .09375)\" xlink:href=\"#DejaVuSans-Oblique-57\"/><use transform=\"translate(98.877 -16.312) scale(.7)\" xlink:href=\"#DejaVuSans-31\"/><use transform=\"translate(143.41 -16.312) scale(.7)\" xlink:href=\"#DejaVuSans-35\"/></g><g transform=\"translate(906.4 494.84) scale(.12 -.12)\" fill=\"#808080\"><use transform=\"translate(0 .09375)\" xlink:href=\"#DejaVuSans-Oblique-57\"/><use transform=\"translate(98.877 -16.312) scale(.7)\" xlink:href=\"#DejaVuSans-31\"/><use transform=\"translate(143.41 -16.312) scale(.7)\" xlink:href=\"#DejaVuSans-36\"/></g><g transform=\"translate(959.96 494.84) scale(.12 -.12)\" fill=\"#808080\"><use transform=\"translate(0 .09375)\" xlink:href=\"#DejaVuSans-Oblique-57\"/><use transform=\"translate(98.877 -16.312) scale(.7)\" xlink:href=\"#DejaVuSans-31\"/><use transform=\"translate(143.41 -16.312) scale(.7)\" xlink:href=\"#DejaVuSans-37\"/></g><g transform=\"translate(1013.5 494.84) scale(.12 -.12)\" fill=\"#808080\"><use transform=\"translate(0 .09375)\" xlink:href=\"#DejaVuSans-Oblique-57\"/><use transform=\"translate(98.877 -16.312) scale(.7)\" xlink:href=\"#DejaVuSans-31\"/><use transform=\"translate(143.41 -16.312) scale(.7)\" xlink:href=\"#DejaVuSans-38\"/></g><g transform=\"translate(1067.1 494.84) scale(.12 -.12)\" fill=\"#808080\"><use transform=\"translate(0 .09375)\" xlink:href=\"#DejaVuSans-Oblique-57\"/><use transform=\"translate(98.877 -16.312) scale(.7)\" xlink:href=\"#DejaVuSans-31\"/><use transform=\"translate(143.41 -16.312) scale(.7)\" xlink:href=\"#DejaVuSans-39\"/></g><g transform=\"translate(1120.7 494.84) scale(.12 -.12)\" fill=\"#808080\"><use transform=\"translate(0 .09375)\" xlink:href=\"#DejaVuSans-Oblique-57\"/><use transform=\"translate(98.877 -16.312) scale(.7)\" xlink:href=\"#DejaVuSans-32\"/><use transform=\"translate(143.41 -16.312) scale(.7)\" xlink:href=\"#DejaVuSans-30\"/></g><g transform=\"translate(1174.2 494.84) scale(.12 -.12)\" fill=\"#808080\"><use transform=\"translate(0 .09375)\" xlink:href=\"#DejaVuSans-Oblique-57\"/><use transform=\"translate(98.877 -16.312) scale(.7)\" xlink:href=\"#DejaVuSans-32\"/><use transform=\"translate(143.41 -16.312) scale(.7)\" xlink:href=\"#DejaVuSans-31\"/></g><g transform=\"translate(1227.8 494.84) scale(.12 -.12)\" fill=\"#808080\"><use transform=\"translate(0 .09375)\" xlink:href=\"#DejaVuSans-Oblique-57\"/><use transform=\"translate(98.877 -16.312) scale(.7)\" xlink:href=\"#DejaVuSans-32\"/><use transform=\"translate(143.41 -16.312) scale(.7)\" xlink:href=\"#DejaVuSans-32\"/></g><g transform=\"translate(1281.4 494.84) scale(.12 -.12)\" fill=\"#808080\"><use transform=\"translate(0 .09375)\" xlink:href=\"#DejaVuSans-Oblique-57\"/><use transform=\"translate(98.877 -16.312) scale(.7)\" xlink:href=\"#DejaVuSans-32\"/><use transform=\"translate(143.41 -16.312) scale(.7)\" xlink:href=\"#DejaVuSans-33\"/></g></svg>"
      ],
      "text/plain": [
       "<Figure size 2400x850 with 1 Axes>"
      ]
     },
     "metadata": {
      "needs_background": "light"
     },
     "output_type": "display_data"
    }
   ],
   "source": [
    "H.draw_state_machine()"
   ]
  },
  {
   "cell_type": "code",
   "execution_count": 33,
   "id": "fef8714a-4216-4f0f-a6f9-10d057a380f0",
   "metadata": {},
   "outputs": [
    {
     "name": "stdout",
     "output_type": "stream",
     "text": [
      "│4│8│11│12│13│14│15│16│17│16│15│14│15│16│17│16│15│14│13│12│11│8│4│\n",
      "●─●─●──●──●──●──●──●──●──●──●──●──●──●──●──●──●──●──●──●──●──●─●─●\n",
      "│ │ │  │  │  │  │  │  │  │  │  │  │  │  │  │  │  │  │  │  │  │ │ │\n"
     ]
    }
   ],
   "source": [
    "mpo = H.build_mpo()\n",
    "mpo.show()"
   ]
  },
  {
   "cell_type": "code",
   "execution_count": 34,
   "id": "0782078b-52a3-4aa4-b8d9-63ab8f771e45",
   "metadata": {},
   "outputs": [
    {
     "name": "stdout",
     "output_type": "stream",
     "text": [
      "│4│8│11│12│13│14│15│16│17│16│15│14│15│16│17│16│15│14│13│12│11│8│4│\n",
      "●─<─<──<──<──<──<──<──<──<──<──<──<──<──<──<──<──<──<──<──<──<─<─<\n",
      "│ │ │  │  │  │  │  │  │  │  │  │  │  │  │  │  │  │  │  │  │  │ │ │\n"
     ]
    }
   ],
   "source": [
    "mpo.compress()\n",
    "mpo.show()"
   ]
  },
  {
   "cell_type": "markdown",
   "id": "46ee90ad-b7a8-4d48-93b6-4d1b96b3095f",
   "metadata": {},
   "source": [
    "Althought the method is a simple greedy one, for semi-local hamiltonians like\n",
    "here it can find the optimal solution (thus compressing hasn't changed\n",
    "anything)."
   ]
  }
 ],
 "metadata": {
  "kernelspec": {
   "display_name": "Python 3",
   "language": "python",
   "name": "python3"
  },
  "language_info": {
   "codemirror_mode": {
    "name": "ipython",
    "version": 3
   },
   "file_extension": ".py",
   "mimetype": "text/x-python",
   "name": "python",
   "nbconvert_exporter": "python",
   "pygments_lexer": "ipython3",
   "version": "3"
  }
 },
 "nbformat": 4,
 "nbformat_minor": 4
}
