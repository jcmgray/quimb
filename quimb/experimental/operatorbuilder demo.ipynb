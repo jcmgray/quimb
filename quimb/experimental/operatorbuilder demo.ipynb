{
 "cells": [
  {
   "cell_type": "code",
   "execution_count": 1,
   "metadata": {},
   "outputs": [],
   "source": [
    "import xyzpy as xyz\n",
    "import quimb as qu\n",
    "import quimb.tensor as qtn\n",
    "from quimb.experimental.operatorbuilder import *"
   ]
  },
  {
   "cell_type": "code",
   "execution_count": 2,
   "metadata": {},
   "outputs": [],
   "source": [
    "Lx = 4\n",
    "Ly = 3\n",
    "N = Lx * Ly\n",
    "num_up = 6\n",
    "num_down = 6\n",
    "subspace = ((N, num_up), (N, num_down))"
   ]
  },
  {
   "cell_type": "code",
   "execution_count": 3,
   "metadata": {},
   "outputs": [
    {
     "name": "stdout",
     "output_type": "stream",
     "text": [
      "SparseOperatorBuilder(nsites=24, nterms=80, locality=4))\n",
      "+-...................... -1.0\n",
      "-+...................... -1.0\n",
      "............+-.......... -1.0\n",
      "............-+.......... -1.0\n",
      "+zz-.................... -1.0\n",
      "-zz+.................... -1.0\n",
      "............+zz-........ -1.0\n",
      "............-zz+........ -1.0\n",
      ".+-..................... -1.0\n",
      ".-+..................... -1.0\n",
      ".............+-......... -1.0\n",
      ".............-+......... -1.0\n",
      ".+zz-................... -1.0\n",
      ".-zz+................... -1.0\n",
      ".............+zz-....... -1.0\n",
      ".............-zz+....... -1.0\n",
      "..+zz-.................. -1.0\n",
      "..-zz+.................. -1.0\n",
      "..............+zz-...... -1.0\n",
      "..............-zz+...... -1.0\n",
      "...+-................... -1.0\n",
      "...-+................... -1.0\n",
      "...............+-....... -1.0\n",
      "...............-+....... -1.0\n",
      "...+zz-................. -1.0\n",
      "...-zz+................. -1.0\n",
      "...............+zz-..... -1.0\n",
      "...............-zz+..... -1.0\n",
      "....+-.................. -1.0\n",
      "....-+.................. -1.0\n",
      "................+-...... -1.0\n",
      "................-+...... -1.0\n",
      "....+zz-................ -1.0\n",
      "....-zz+................ -1.0\n",
      "................+zz-.... -1.0\n",
      "................-zz+.... -1.0\n",
      ".....+zz-............... -1.0\n",
      ".....-zz+............... -1.0\n",
      ".................+zz-... -1.0\n",
      ".................-zz+... -1.0\n",
      "......+-................ -1.0\n",
      "......-+................ -1.0\n",
      "..................+-.... -1.0\n",
      "..................-+.... -1.0\n",
      "......+zz-.............. -1.0\n",
      "......-zz+.............. -1.0\n",
      "..................+zz-.. -1.0\n",
      "..................-zz+.. -1.0\n",
      ".......+-............... -1.0\n",
      ".......-+............... -1.0\n",
      "...................+-... -1.0\n",
      "...................-+... -1.0\n",
      ".......+zz-............. -1.0\n",
      ".......-zz+............. -1.0\n",
      "...................+zz-. -1.0\n",
      "...................-zz+. -1.0\n",
      "........+zz-............ -1.0\n",
      "........-zz+............ -1.0\n",
      "....................+zz- -1.0\n",
      "....................-zz+ -1.0\n",
      ".........+-............. -1.0\n",
      ".........-+............. -1.0\n",
      ".....................+-. -1.0\n",
      ".....................-+. -1.0\n",
      "..........+-............ -1.0\n",
      "..........-+............ -1.0\n",
      "......................+- -1.0\n",
      "......................-+ -1.0\n",
      "n...........n........... +1.0\n",
      ".n...........n.......... +1.0\n",
      "..n...........n......... +1.0\n",
      "...n...........n........ +1.0\n",
      "....n...........n....... +1.0\n",
      ".....n...........n...... +1.0\n",
      "......n...........n..... +1.0\n",
      ".......n...........n.... +1.0\n",
      "........n...........n... +1.0\n",
      ".........n...........n.. +1.0\n",
      "..........n...........n. +1.0\n",
      "...........n...........n +1.0\n"
     ]
    }
   ],
   "source": [
    "edges = qtn.edges_2d_square(Lx, Ly)\n",
    "H = fermi_hubbard_from_edges(edges)\n",
    "H.show()"
   ]
  },
  {
   "cell_type": "markdown",
   "metadata": {},
   "source": [
    "# build a sparse matrix to find groundstate of"
   ]
  },
  {
   "cell_type": "code",
   "execution_count": 4,
   "metadata": {},
   "outputs": [
    {
     "name": "stdout",
     "output_type": "stream",
     "text": [
      "CPU times: user 10.4 s, sys: 625 ms, total: 11 s\n",
      "Wall time: 11.3 s\n"
     ]
    },
    {
     "data": {
      "text/plain": [
       "<853776x853776 sparse matrix of type '<class 'numpy.float64'>'\n",
       "\twith 16686516 stored elements in Compressed Sparse Row format>"
      ]
     },
     "execution_count": 4,
     "metadata": {},
     "output_type": "execute_result"
    }
   ],
   "source": [
    "%%time\n",
    "S = H.build_sparse_matrix(*subspace, parallel=True)\n",
    "S"
   ]
  },
  {
   "cell_type": "code",
   "execution_count": 5,
   "metadata": {},
   "outputs": [
    {
     "name": "stdout",
     "output_type": "stream",
     "text": [
      "CPU times: user 27.7 s, sys: 27.5 s, total: 55.1 s\n",
      "Wall time: 8.18 s\n"
     ]
    },
    {
     "data": {
      "text/plain": [
       "array([-13.81834891])"
      ]
     },
     "execution_count": 5,
     "metadata": {},
     "output_type": "execute_result"
    }
   ],
   "source": [
    "%%time\n",
    "ge, gs = qu.eigh(S, k=1, which='SA')\n",
    "ge"
   ]
  },
  {
   "cell_type": "markdown",
   "metadata": {},
   "source": [
    "# construct and find the expectation value of a different operator"
   ]
  },
  {
   "cell_type": "code",
   "execution_count": 6,
   "metadata": {},
   "outputs": [
    {
     "data": {
      "text/plain": [
       "853776"
      ]
     },
     "execution_count": 6,
     "metadata": {},
     "output_type": "execute_result"
    }
   ],
   "source": [
    "hs = H.hilbert_space\n",
    "hs.get_size(*subspace)"
   ]
  },
  {
   "cell_type": "code",
   "execution_count": 7,
   "metadata": {},
   "outputs": [],
   "source": [
    "C = SparseOperatorBuilder(\n",
    "    terms=[\n",
    "        (1.0, '+-', ('↑', 1, 1), ('↑', 2, 1)),\n",
    "    ], \n",
    "    # need to embed into larger Hilbert space of Hamiltonian\n",
    "    hilbert_space=hs\n",
    ")\n",
    "\n",
    "# ensure fermionic\n",
    "C.jordan_wigner_transform()"
   ]
  },
  {
   "cell_type": "code",
   "execution_count": 8,
   "metadata": {},
   "outputs": [
    {
     "name": "stdout",
     "output_type": "stream",
     "text": [
      "SparseOperatorBuilder(nsites=24, nterms=1, locality=4))\n",
      "....+zz-................ +1.0\n"
     ]
    }
   ],
   "source": [
    "C.show()"
   ]
  },
  {
   "cell_type": "code",
   "execution_count": 9,
   "metadata": {},
   "outputs": [
    {
     "data": {
      "text/plain": [
       "<853776x853776 sparse matrix of type '<class 'numpy.float64'>'\n",
       "\twith 232848 stored elements in Compressed Sparse Row format>"
      ]
     },
     "execution_count": 9,
     "metadata": {},
     "output_type": "execute_result"
    }
   ],
   "source": [
    "# build sparse matrix\n",
    "CS = C.build_sparse_matrix(*subspace, parallel=True)\n",
    "CS"
   ]
  },
  {
   "cell_type": "code",
   "execution_count": 10,
   "metadata": {},
   "outputs": [
    {
     "data": {
      "text/plain": [
       "0.3473426081278192"
      ]
     },
     "execution_count": 10,
     "metadata": {},
     "output_type": "execute_result"
    }
   ],
   "source": [
    "# find the groundstate expectation\n",
    "qu.expec(CS, gs)"
   ]
  },
  {
   "cell_type": "markdown",
   "metadata": {},
   "source": [
    "# VMC usage\n",
    "\n",
    "For VMC we just need to compute coupling between computation basis\n",
    "configurations (i.e. a single row of the sparse matrix)."
   ]
  },
  {
   "cell_type": "code",
   "execution_count": 11,
   "metadata": {},
   "outputs": [
    {
     "data": {
      "text/plain": [
       "{('↑', 0, 0): 1,\n",
       " ('↑', 0, 1): 1,\n",
       " ('↑', 0, 2): 0,\n",
       " ('↑', 1, 0): 1,\n",
       " ('↑', 1, 1): 0,\n",
       " ('↑', 1, 2): 1,\n",
       " ('↑', 2, 0): 1,\n",
       " ('↑', 2, 1): 0,\n",
       " ('↑', 2, 2): 0,\n",
       " ('↑', 3, 0): 1,\n",
       " ('↑', 3, 1): 1,\n",
       " ('↑', 3, 2): 1,\n",
       " ('↓', 0, 0): 0,\n",
       " ('↓', 0, 1): 1,\n",
       " ('↓', 0, 2): 1,\n",
       " ('↓', 1, 0): 0,\n",
       " ('↓', 1, 1): 0,\n",
       " ('↓', 1, 2): 1,\n",
       " ('↓', 2, 0): 1,\n",
       " ('↓', 2, 1): 1,\n",
       " ('↓', 2, 2): 1,\n",
       " ('↓', 3, 0): 0,\n",
       " ('↓', 3, 1): 0,\n",
       " ('↓', 3, 2): 0}"
      ]
     },
     "execution_count": 11,
     "metadata": {},
     "output_type": "execute_result"
    }
   ],
   "source": [
    "config = hs.rand_config()\n",
    "config"
   ]
  },
  {
   "cell_type": "code",
   "execution_count": 12,
   "metadata": {},
   "outputs": [],
   "source": [
    "configs, coeffs = H.config_coupling(config)"
   ]
  },
  {
   "cell_type": "code",
   "execution_count": 21,
   "metadata": {},
   "outputs": [
    {
     "name": "stdout",
     "output_type": "stream",
     "text": [
      "[{('↑', 0, 0): 1, ('↑', 0, 1): 1, ('↑', 0, 2): 0, ('↑', 1, 0): 1, ('↑', 1, 1): 0, ('↑', 1, 2): 1, ('↑', 2, 0): 1, ('↑', 2, 1): 0, ('↑', 2, 2): 0, ('↑', 3, 0): 1, ('↑', 3, 1): 1, ('↑', 3, 2): 1, ('↓', 0, 0): 1, ('↓', 0, 1): 0, ('↓', 0, 2): 1, ('↓', 1, 0): 0, ('↓', 1, 1): 0, ('↓', 1, 2): 1, ('↓', 2, 0): 1, ('↓', 2, 1): 1, ('↓', 2, 2): 1, ('↓', 3, 0): 0, ('↓', 3, 1): 0, ('↓', 3, 2): 0}, {('↑', 0, 0): 1, ('↑', 0, 1): 0, ('↑', 0, 2): 1, ('↑', 1, 0): 1, ('↑', 1, 1): 0, ('↑', 1, 2): 1, ('↑', 2, 0): 1, ('↑', 2, 1): 0, ('↑', 2, 2): 0, ('↑', 3, 0): 1, ('↑', 3, 1): 1, ('↑', 3, 2): 1, ('↓', 0, 0): 0, ('↓', 0, 1): 1, ('↓', 0, 2): 1, ('↓', 1, 0): 0, ('↓', 1, 1): 0, ('↓', 1, 2): 1, ('↓', 2, 0): 1, ('↓', 2, 1): 1, ('↓', 2, 2): 1, ('↓', 3, 0): 0, ('↓', 3, 1): 0, ('↓', 3, 2): 0}] ...\n"
     ]
    },
    {
     "data": {
      "text/plain": [
       "array([1., 1., 1., 1., 1., 1., 1., 1., 1., 1., 1., 1., 1., 1., 1., 1., 1.,\n",
       "       3.])"
      ]
     },
     "execution_count": 21,
     "metadata": {},
     "output_type": "execute_result"
    }
   ],
   "source": [
    "print(configs[:2], '...')\n",
    "coeffs"
   ]
  }
 ],
 "metadata": {
  "kernelspec": {
   "display_name": "Python 3.10.6 ('numpy')",
   "language": "python",
   "name": "python3"
  },
  "language_info": {
   "codemirror_mode": {
    "name": "ipython",
    "version": 3
   },
   "file_extension": ".py",
   "mimetype": "text/x-python",
   "name": "python",
   "nbconvert_exporter": "python",
   "pygments_lexer": "ipython3",
   "version": "3.10.6"
  },
  "orig_nbformat": 4,
  "vscode": {
   "interpreter": {
    "hash": "39c10650315d977fb13868ea1402e99f3e10e9885c2c202e692ae90b8995050d"
   }
  }
 },
 "nbformat": 4,
 "nbformat_minor": 2
}
