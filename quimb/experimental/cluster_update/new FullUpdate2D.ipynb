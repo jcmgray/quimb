{
 "cells": [
  {
   "cell_type": "code",
   "execution_count": 1,
   "id": "b981ce6f-4b5b-4d94-9864-2bc0c4a43a05",
   "metadata": {},
   "outputs": [],
   "source": [
    "%config InlineBackend.figure_formats = ['svg']\n",
    "import math # noqa\n",
    "import random # noqa\n",
    "import itertools # noqa\n",
    "import functools # noqa\n",
    "import collections # noqa\n",
    "import tqdm # noqa\n",
    "import numpy as np # noqa\n",
    "import matplotlib as mpl # noqa\n",
    "import matplotlib.pyplot as plt # noqa\n",
    "import quimb as qu # noqa\n",
    "import xyzpy as xyz # noqa\n",
    "import autoray as ar # noqa\n",
    "import cotengra as ctg # noqa\n",
    "import quimb.tensor as qtn # noqa"
   ]
  },
  {
   "cell_type": "code",
   "execution_count": 2,
   "id": "c16cd00e-483d-4bec-954d-b4eaf59299fb",
   "metadata": {},
   "outputs": [],
   "source": [
    "%config InlineBackend.figure_formats = ['svg']\n",
    "\n",
    "import xyzpy as xyz  # noqa\n",
    "import matplotlib as mpl # noqa\n",
    "import matplotlib.pyplot as plt # noqa\n",
    "\n",
    "mpl.style.use(xyz.get_neutral_style())"
   ]
  },
  {
   "cell_type": "code",
   "execution_count": 3,
   "id": "344672cf-5827-4e13-8bbb-61885ff02bb3",
   "metadata": {},
   "outputs": [
    {
     "data": {
      "text/plain": [
       "3373912"
      ]
     },
     "execution_count": 3,
     "metadata": {},
     "output_type": "execute_result"
    }
   ],
   "source": [
    "import os\n",
    "\n",
    "os.environ[\"MKL_NUM_THREADS\"] = \"8\"\n",
    "os.environ[\"OMP_NUM_THREADS\"] = \"8\"\n",
    "os.environ[\"OPENBLAS_NUM_THREADS\"] = \"8\"\n",
    "\n",
    "os.getpid()"
   ]
  },
  {
   "cell_type": "code",
   "execution_count": 4,
   "id": "9d5219c7-48a6-4142-96d4-16144a3bc3ba",
   "metadata": {},
   "outputs": [],
   "source": [
    "def check_stop() -> bool:\n",
    "    from pathlib import Path\n",
    "\n",
    "    stop_file = Path(\"STOP\")\n",
    "    if stop_file.exists():\n",
    "        stop_file.unlink()  # Delete the file\n",
    "        return True\n",
    "    return False"
   ]
  },
  {
   "cell_type": "code",
   "execution_count": 5,
   "id": "e6eb7a15-8564-4d73-bb91-14374093c21f",
   "metadata": {},
   "outputs": [],
   "source": [
    "L = 10\n",
    "ham = qtn.ham_2d_heis(L, L)"
   ]
  },
  {
   "cell_type": "code",
   "execution_count": 6,
   "id": "f23cdcc6-6b25-4092-8e8f-6e96ccbfb497",
   "metadata": {},
   "outputs": [],
   "source": [
    "def to_backend(x):\n",
    "    import torch\n",
    "\n",
    "    return torch.tensor(x, dtype=torch.float32, device=\"cuda\")\n",
    "\n",
    "ham.apply_to_arrays(to_backend)"
   ]
  },
  {
   "cell_type": "code",
   "execution_count": 7,
   "id": "769bdfbf-9039-4efb-bb6b-8d9ad3dd8e1c",
   "metadata": {},
   "outputs": [],
   "source": [
    "D = 4\n",
    "# Dinit = D - 1\n",
    "Dinit = D\n",
    "updateinit = \"fu\"\n",
    "# Dinit = 2\n",
    "# updateinit = \"su\"\n",
    "\n",
    "# psi0 = qtn.PEPS.rand(L, L, 7, seed=42)\n",
    "\n",
    "# psi0 = qu.load_from_disk(\"test.psi\")\n",
    "# psi0 = qu.load_from_disk(\"new_SU_psi.dmp\")\n",
    "# psi0 = qu.load_from_disk(\"new_FU_psi.dmp\")\n",
    "\n",
    "psi0 = qu.load_from_disk(f\"psi_heis_{updateinit}_{L}x{L}_D{Dinit}.dmp\")"
   ]
  },
  {
   "cell_type": "code",
   "execution_count": 8,
   "id": "01098e41-394a-461f-aaa8-556acbc5b9ef",
   "metadata": {},
   "outputs": [],
   "source": [
    "psi0.apply_to_arrays(to_backend)"
   ]
  },
  {
   "cell_type": "code",
   "execution_count": 9,
   "id": "408adc99-96bf-4143-9b4b-0ca70c18f61e",
   "metadata": {},
   "outputs": [
    {
     "name": "stderr",
     "output_type": "stream",
     "text": [
      "max|dS|=8.57e-07, nfact=0.00: : 20it [00:02,  7.75it/s] "
     ]
    },
    {
     "name": "stdout",
     "output_type": "stream",
     "text": [
      "tensor(0.9997, device='cuda:0')\n"
     ]
    },
    {
     "name": "stderr",
     "output_type": "stream",
     "text": [
      "\n"
     ]
    }
   ],
   "source": [
    "gauges = {}\n",
    "psi0.gauge_all_simple_(100, 1e-6, smudge=1e-6, damping=1/3, gauges=gauges, progbar=True)\n",
    "print(psi0.normalize_simple(gauges))\n",
    "psi0.gauge_simple_insert(gauges, True);"
   ]
  },
  {
   "cell_type": "code",
   "execution_count": 10,
   "id": "95d9b7f5-d305-40ef-94c2-70ee0a980356",
   "metadata": {},
   "outputs": [],
   "source": [
    "from quimb.tensor.decomp import compute_bondenv_projectors"
   ]
  },
  {
   "cell_type": "code",
   "execution_count": 11,
   "id": "3805159b-482d-4f22-bc00-ed317cbbfb52",
   "metadata": {},
   "outputs": [],
   "source": [
    "norm, ket, bra = psi0.make_norm(return_all=True)"
   ]
  },
  {
   "cell_type": "code",
   "execution_count": 12,
   "id": "3361063e-4772-4719-9f09-3508d439d05f",
   "metadata": {},
   "outputs": [],
   "source": [
    "xe_pairs = tuple(ket.gen_vertical_even_bond_coos())\n",
    "ye_pairs = tuple(ket.gen_horizontal_even_bond_coos())\n",
    "xo_pairs = tuple(ket.gen_vertical_odd_bond_coos())\n",
    "yo_pairs = tuple(ket.gen_horizontal_odd_bond_coos())"
   ]
  },
  {
   "cell_type": "code",
   "execution_count": 13,
   "id": "cb2b4fde-5c09-4c64-8c37-eec266a13763",
   "metadata": {},
   "outputs": [],
   "source": [
    "from autoray import do, dag\n",
    "\n",
    "energies = []\n",
    "max_fit_iterations = []\n",
    "max_fit_distances = []"
   ]
  },
  {
   "cell_type": "code",
   "execution_count": 15,
   "id": "e7156bd1-afd9-44ee-983a-8720fefe4763",
   "metadata": {},
   "outputs": [
    {
     "data": {
      "text/plain": [
       "(4, 0.0625, 16)"
      ]
     },
     "execution_count": 15,
     "metadata": {},
     "output_type": "execute_result"
    }
   ],
   "source": [
    "# D = psi0.max_bond()\n",
    "# D = psi0.max_bond() + 1\n",
    "chi = max(16, D**2)\n",
    "tau = D**-1.5 / 2\n",
    "D, tau, chi"
   ]
  },
  {
   "cell_type": "code",
   "execution_count": 16,
   "id": "b8a04dc3-7791-412e-b7e8-56180c65b97f",
   "metadata": {},
   "outputs": [],
   "source": [
    "contract_boundary_opts = dict(\n",
    "    max_bond=chi,\n",
    "    cutoff=0.0,\n",
    "    equalize_norms=1.0,\n",
    "    # layer_tags=[\"KET\", \"BRA\"],\n",
    "    # layer_tags=['KET', 'BRA'], mode=\"zipup\",\n",
    "    layer_tags=None, mode=\"fit-zipup\", bsz=1,\n",
    ")"
   ]
  },
  {
   "cell_type": "code",
   "execution_count": 17,
   "id": "b9bd8290-ed2e-47cf-8e6f-fe4eb3f9e182",
   "metadata": {},
   "outputs": [
    {
     "data": {
      "text/plain": [
       "tensor(-0.6263, device='cuda:0')"
      ]
     },
     "execution_count": 17,
     "metadata": {},
     "output_type": "execute_result"
    }
   ],
   "source": [
    "ket.compute_local_expectation(\n",
    "    ham.terms,\n",
    "    normalized=True,\n",
    "    **contract_boundary_opts\n",
    ") / ket.nsites"
   ]
  },
  {
   "cell_type": "code",
   "execution_count": 18,
   "id": "9867354c-1cc1-4209-87df-6ce1bbdf8262",
   "metadata": {},
   "outputs": [],
   "source": [
    "tol = 1e-8"
   ]
  },
  {
   "cell_type": "code",
   "execution_count": 19,
   "id": "23b9646b-0486-4c9c-89b0-846fef24e4ce",
   "metadata": {},
   "outputs": [
    {
     "data": {
      "image/svg+xml": [
       "<?xml version=\"1.0\" encoding=\"UTF-8\"?><!DOCTYPE svg  PUBLIC '-//W3C//DTD SVG 1.1//EN'  'http://www.w3.org/Graphics/SVG/1.1/DTD/svg11.dtd'><svg width=\"593.35pt\" height=\"313pt\" version=\"1.1\" viewBox=\"0 0 593.35 313\" xmlns=\"http://www.w3.org/2000/svg\" xmlns:xlink=\"http://www.w3.org/1999/xlink\"><defs><style type=\"text/css\">*{stroke-linejoin: round; stroke-linecap: butt}</style></defs><path d=\"m0 313h593.35v-313h-593.35v313z\" fill=\"none\"/><path d=\"m70.295 91.869h261.31v-83.445h-261.31v83.445z\" fill=\"none\"/><path d=\"m225.75 91.869h103.39v-83.445h-103.39z\" clip-path=\"url(#a2b91d14da6)\" fill=\"#808080\" opacity=\".15\" stroke=\"#808080\"/><path d=\"m75.176 91.869v-83.445\" clip-path=\"url(#a2b91d14da6)\" fill=\"none\" stroke=\"#808080\" stroke-linecap=\"square\" stroke-opacity=\".1\" stroke-width=\".8\"/><defs><path id=\"c59785f48ee\" d=\"m0 0v3.5\" stroke=\"#808080\" stroke-width=\".8\"/></defs><use x=\"75.175679\" y=\"91.869462\" fill=\"#808080\" stroke=\"#808080\" stroke-width=\".8\" xlink:href=\"#c59785f48ee\"/><path d=\"m84.933 91.869v-83.445\" clip-path=\"url(#a2b91d14da6)\" fill=\"none\" stroke=\"#808080\" stroke-linecap=\"square\" stroke-opacity=\".1\" stroke-width=\".8\"/><use x=\"84.933367\" y=\"91.869462\" fill=\"#808080\" stroke=\"#808080\" stroke-width=\".8\" xlink:href=\"#c59785f48ee\"/><path d=\"m94.667 91.869v-83.445\" clip-path=\"url(#a2b91d14da6)\" fill=\"none\" stroke=\"#808080\" stroke-linecap=\"square\" stroke-opacity=\".1\" stroke-width=\".8\"/><use x=\"94.666787\" y=\"91.869462\" fill=\"#808080\" stroke=\"#808080\" stroke-width=\".8\" xlink:href=\"#c59785f48ee\"/><path d=\"m104.35 91.869v-83.445\" clip-path=\"url(#a2b91d14da6)\" fill=\"none\" stroke=\"#808080\" stroke-linecap=\"square\" stroke-opacity=\".1\" stroke-width=\".8\"/><use x=\"104.352208\" y=\"91.869462\" fill=\"#808080\" stroke=\"#808080\" stroke-width=\".8\" xlink:href=\"#c59785f48ee\"/><path d=\"m113.97 91.869v-83.445\" clip-path=\"url(#a2b91d14da6)\" fill=\"none\" stroke=\"#808080\" stroke-linecap=\"square\" stroke-opacity=\".1\" stroke-width=\".8\"/><use x=\"113.966945\" y=\"91.869462\" fill=\"#808080\" stroke=\"#808080\" stroke-width=\".8\" xlink:href=\"#c59785f48ee\"/><path d=\"m123.49 91.869v-83.445\" clip-path=\"url(#a2b91d14da6)\" fill=\"none\" stroke=\"#808080\" stroke-linecap=\"square\" stroke-opacity=\".1\" stroke-width=\".8\"/><use x=\"123.489796\" y=\"91.869462\" fill=\"#808080\" stroke=\"#808080\" stroke-width=\".8\" xlink:href=\"#c59785f48ee\"/><path d=\"m132.9 91.869v-83.445\" clip-path=\"url(#a2b91d14da6)\" fill=\"none\" stroke=\"#808080\" stroke-linecap=\"square\" stroke-opacity=\".1\" stroke-width=\".8\"/><use x=\"132.901409\" y=\"91.869462\" fill=\"#808080\" stroke=\"#808080\" stroke-width=\".8\" xlink:href=\"#c59785f48ee\"/><path d=\"m142.18 91.869v-83.445\" clip-path=\"url(#a2b91d14da6)\" fill=\"none\" stroke=\"#808080\" stroke-linecap=\"square\" stroke-opacity=\".1\" stroke-width=\".8\"/><use x=\"142.184542\" y=\"91.869462\" fill=\"#808080\" stroke=\"#808080\" stroke-width=\".8\" xlink:href=\"#c59785f48ee\"/><path d=\"m151.32 91.869v-83.445\" clip-path=\"url(#a2b91d14da6)\" fill=\"none\" stroke=\"#808080\" stroke-linecap=\"square\" stroke-opacity=\".1\" stroke-width=\".8\"/><use x=\"151.324228\" y=\"91.869462\" fill=\"#808080\" stroke=\"#808080\" stroke-width=\".8\" xlink:href=\"#c59785f48ee\"/><path d=\"m160.31 91.869v-83.445\" clip-path=\"url(#a2b91d14da6)\" fill=\"none\" stroke=\"#808080\" stroke-linecap=\"square\" stroke-opacity=\".1\" stroke-width=\".8\"/><use x=\"160.30784\" y=\"91.869462\" fill=\"#808080\" stroke=\"#808080\" stroke-width=\".8\" xlink:href=\"#c59785f48ee\"/><path d=\"m169.13 91.869v-83.445\" clip-path=\"url(#a2b91d14da6)\" fill=\"none\" stroke=\"#808080\" stroke-linecap=\"square\" stroke-opacity=\".1\" stroke-width=\".8\"/><use x=\"169.125074\" y=\"91.869462\" fill=\"#808080\" stroke=\"#808080\" stroke-width=\".8\" xlink:href=\"#c59785f48ee\"/><path d=\"m247.25 91.869v-83.445\" clip-path=\"url(#a2b91d14da6)\" fill=\"none\" stroke=\"#808080\" stroke-linecap=\"square\" stroke-opacity=\".1\" stroke-width=\".8\"/><use x=\"247.250658\" y=\"91.869462\" fill=\"#808080\" stroke=\"#808080\" stroke-width=\".8\" xlink:href=\"#c59785f48ee\"/><path d=\"m308.44 91.869v-83.445\" clip-path=\"url(#a2b91d14da6)\" fill=\"none\" stroke=\"#808080\" stroke-linecap=\"square\" stroke-opacity=\".1\" stroke-width=\".8\"/><use x=\"308.435285\" y=\"91.869462\" fill=\"#808080\" stroke=\"#808080\" stroke-width=\".8\" xlink:href=\"#c59785f48ee\"/><path d=\"m70.295 70.559h261.31\" clip-path=\"url(#a2b91d14da6)\" fill=\"none\" stroke=\"#808080\" stroke-linecap=\"square\" stroke-opacity=\".1\" stroke-width=\".8\"/><defs><path id=\"d747437773b\" d=\"m0 0h-3.5\" stroke=\"#d6a284\" stroke-width=\".8\"/></defs><use x=\"70.295313\" y=\"70.558942\" fill=\"#d6a284\" stroke=\"#d6a284\" stroke-width=\".8\" xlink:href=\"#d747437773b\"/><g transform=\"translate(7.2 74.358) scale(.1 -.1)\" fill=\"#d6a284\"><defs><path id=\"DejaVuSans-2212\" transform=\"scale(.015625)\" d=\"m678 2272h4006v-531h-4006v531z\"/><path id=\"DejaVuSans-30\" transform=\"scale(.015625)\" d=\"m2034 4250q-487 0-733-480-245-479-245-1442 0-959 245-1439 246-480 733-480 491 0 736 480 246 480 246 1439 0 963-246 1442-245 480-736 480zm0 500q785 0 1199-621 414-620 414-1801 0-1178-414-1799-414-620-1199-620-784 0-1198 620-414 621-414 1799 0 1181 414 1801 414 621 1198 621z\"/><path id=\"DejaVuSans-2e\" transform=\"scale(.015625)\" d=\"m684 794h660v-794h-660v794z\"/><path id=\"DejaVuSans-36\" transform=\"scale(.015625)\" d=\"m2113 2584q-425 0-674-291-248-290-248-796 0-503 248-796 249-292 674-292t673 292q248 293 248 796 0 506-248 796-248 291-673 291zm1253 1979v-575q-238 112-480 171-242 60-480 60-625 0-955-422-329-422-376-1275 184 272 462 417 279 145 613 145 703 0 1111-427 408-426 408-1160 0-719-425-1154-425-434-1131-434-810 0-1238 620-428 621-428 1799 0 1106 525 1764t1409 658q238 0 480-47t505-140z\"/><path id=\"DejaVuSans-32\" transform=\"scale(.015625)\" d=\"m1228 531h2203v-531h-2962v531q359 372 979 998 621 627 780 809 303 340 423 576 121 236 121 464 0 372-261 606-261 235-680 235-297 0-627-103-329-103-704-313v638q381 153 712 231 332 78 607 78 725 0 1156-363 431-362 431-968 0-288-108-546-107-257-392-607-78-91-497-524-418-433-1181-1211z\"/><path id=\"DejaVuSans-33\" transform=\"scale(.015625)\" d=\"m2597 2516q453-97 707-404 255-306 255-756 0-690-475-1069-475-378-1350-378-293 0-604 58t-642 174v609q262-153 574-231 313-78 654-78 593 0 904 234t311 681q0 413-289 645-289 233-804 233h-544v519h569q465 0 712 186t247 536q0 359-255 551-254 193-729 193-260 0-557-57-297-56-653-174v562q360 100 674 150t592 50q719 0 1137-327 419-326 419-882 0-388-222-655t-631-370z\"/><path id=\"DejaVuSans-38\" transform=\"scale(.015625)\" d=\"m2034 2216q-450 0-708-241-257-241-257-662 0-422 257-663 258-241 708-241t709 242q260 243 260 662 0 421-258 662-257 241-711 241zm-631 268q-406 100-633 378-226 279-226 679 0 559 398 884 399 325 1092 325 697 0 1094-325t397-884q0-400-227-679-226-278-629-378 456-106 710-416 255-309 255-755 0-679-414-1042-414-362-1186-362-771 0-1186 362-414 363-414 1042 0 446 256 755 257 310 713 416zm-231 997q0-362 226-565 227-203 636-203 407 0 636 203 230 203 230 565 0 363-230 566-229 203-636 203-409 0-636-203-226-203-226-566z\"/></defs><use xlink:href=\"#DejaVuSans-2212\"/><use transform=\"translate(83.789)\" xlink:href=\"#DejaVuSans-30\"/><use transform=\"translate(147.41)\" xlink:href=\"#DejaVuSans-2e\"/><use transform=\"translate(179.2)\" xlink:href=\"#DejaVuSans-36\"/><use transform=\"translate(242.82)\" xlink:href=\"#DejaVuSans-32\"/><use transform=\"translate(306.45)\" xlink:href=\"#DejaVuSans-36\"/><use transform=\"translate(370.07)\" xlink:href=\"#DejaVuSans-33\"/><use transform=\"translate(433.69)\" xlink:href=\"#DejaVuSans-30\"/><use transform=\"translate(497.31)\" xlink:href=\"#DejaVuSans-38\"/></g><path d=\"m70.295 47.419h261.31\" clip-path=\"url(#a2b91d14da6)\" fill=\"none\" stroke=\"#808080\" stroke-linecap=\"square\" stroke-opacity=\".1\" stroke-width=\".8\"/><use x=\"70.295313\" y=\"47.418867\" fill=\"#d6a284\" stroke=\"#d6a284\" stroke-width=\".8\" xlink:href=\"#d747437773b\"/><g transform=\"translate(7.2 51.218) scale(.1 -.1)\" fill=\"#d6a284\"><use xlink:href=\"#DejaVuSans-2212\"/><use transform=\"translate(83.789)\" xlink:href=\"#DejaVuSans-30\"/><use transform=\"translate(147.41)\" xlink:href=\"#DejaVuSans-2e\"/><use transform=\"translate(179.2)\" xlink:href=\"#DejaVuSans-36\"/><use transform=\"translate(242.82)\" xlink:href=\"#DejaVuSans-32\"/><use transform=\"translate(306.45)\" xlink:href=\"#DejaVuSans-36\"/><use transform=\"translate(370.07)\" xlink:href=\"#DejaVuSans-33\"/><use transform=\"translate(433.69)\" xlink:href=\"#DejaVuSans-30\"/><use transform=\"translate(497.31)\" xlink:href=\"#DejaVuSans-36\"/></g><path d=\"m70.295 24.279h261.31\" clip-path=\"url(#a2b91d14da6)\" fill=\"none\" stroke=\"#808080\" stroke-linecap=\"square\" stroke-opacity=\".1\" stroke-width=\".8\"/><use x=\"70.295313\" y=\"24.278792\" fill=\"#d6a284\" stroke=\"#d6a284\" stroke-width=\".8\" xlink:href=\"#d747437773b\"/><g transform=\"translate(7.2 28.078) scale(.1 -.1)\" fill=\"#d6a284\"><defs><path id=\"DejaVuSans-34\" transform=\"scale(.015625)\" d=\"m2419 4116-1594-2491h1594v2491zm-166 550h794v-3041h666v-525h-666v-1100h-628v1100h-2106v609l1940 2957z\"/></defs><use xlink:href=\"#DejaVuSans-2212\"/><use transform=\"translate(83.789)\" xlink:href=\"#DejaVuSans-30\"/><use transform=\"translate(147.41)\" xlink:href=\"#DejaVuSans-2e\"/><use transform=\"translate(179.2)\" xlink:href=\"#DejaVuSans-36\"/><use transform=\"translate(242.82)\" xlink:href=\"#DejaVuSans-32\"/><use transform=\"translate(306.45)\" xlink:href=\"#DejaVuSans-36\"/><use transform=\"translate(370.07)\" xlink:href=\"#DejaVuSans-33\"/><use transform=\"translate(433.69)\" xlink:href=\"#DejaVuSans-30\"/><use transform=\"translate(497.31)\" xlink:href=\"#DejaVuSans-34\"/></g><defs><path id=\"0e0341bb6e1\" d=\"m0 0h-2\" stroke=\"#d6a284\" stroke-width=\".6\"/></defs><use x=\"70.295313\" y=\"87.913999\" fill=\"#d6a284\" stroke=\"#d6a284\" stroke-width=\".6\" xlink:href=\"#0e0341bb6e1\"/><use x=\"70.295313\" y=\"82.12898\" fill=\"#d6a284\" stroke=\"#d6a284\" stroke-width=\".6\" xlink:href=\"#0e0341bb6e1\"/><use x=\"70.295313\" y=\"76.343961\" fill=\"#d6a284\" stroke=\"#d6a284\" stroke-width=\".6\" xlink:href=\"#0e0341bb6e1\"/><use x=\"70.295313\" y=\"64.773924\" fill=\"#d6a284\" stroke=\"#d6a284\" stroke-width=\".6\" xlink:href=\"#0e0341bb6e1\"/><use x=\"70.295313\" y=\"58.988905\" fill=\"#d6a284\" stroke=\"#d6a284\" stroke-width=\".6\" xlink:href=\"#0e0341bb6e1\"/><use x=\"70.295313\" y=\"53.203886\" fill=\"#d6a284\" stroke=\"#d6a284\" stroke-width=\".6\" xlink:href=\"#0e0341bb6e1\"/><use x=\"70.295313\" y=\"41.633849\" fill=\"#d6a284\" stroke=\"#d6a284\" stroke-width=\".6\" xlink:href=\"#0e0341bb6e1\"/><use x=\"70.295313\" y=\"35.84883\" fill=\"#d6a284\" stroke=\"#d6a284\" stroke-width=\".6\" xlink:href=\"#0e0341bb6e1\"/><use x=\"70.295313\" y=\"30.063811\" fill=\"#d6a284\" stroke=\"#d6a284\" stroke-width=\".6\" xlink:href=\"#0e0341bb6e1\"/><use x=\"70.295313\" y=\"18.493773\" fill=\"#d6a284\" stroke=\"#d6a284\" stroke-width=\".6\" xlink:href=\"#0e0341bb6e1\"/><use x=\"70.295313\" y=\"12.708755\" fill=\"#d6a284\" stroke=\"#d6a284\" stroke-width=\".6\" xlink:href=\"#0e0341bb6e1\"/><path d=\"m75.176 12.217 9.7577 12.413 9.7334 11.034 9.6854 6.8963 9.6147 3.4481 9.5229 4.1378 9.4116 1.3793 9.2831 4.1378 9.1397-0.68963 8.9836 8.2755 8.8172 4.8274 8.6428 0.68963 8.4624-7.5859 8.2778 3.4481 8.091 10.344 7.9032-7.5859 7.7159 6.2067 7.5301-2.7585 7.3466 2.0689 7.1662 9.6548 6.9896-8.2755 6.817 4.1378 6.649-6.2067 6.4856 2.0689 6.327 2.7585 6.1733 6.2067 6.0246-4.1378 5.8807 2.7585 5.7418-2.7585 5.6076 1.3793 5.4781 3.4481 5.3531 4.1378 5.2326-2.7585 5.1163 1.3793 5.0041-6.2067\" clip-path=\"url(#a2b91d14da6)\" fill=\"none\" stroke=\"#d6a284\" stroke-linecap=\"square\"/><path d=\"m70.295 91.869v-83.445\" fill=\"none\" stroke=\"#808080\" stroke-linecap=\"square\" stroke-width=\".8\"/><path d=\"m70.295 91.869h261.31\" fill=\"none\" stroke=\"#808080\" stroke-linecap=\"square\" stroke-width=\".8\"/><g transform=\"translate(83.361 16.023) scale(.1 -.1)\" fill=\"#d6a284\"><defs><path id=\"DejaVuSans-65\" transform=\"scale(.015625)\" d=\"m3597 1894v-281h-2644q38-594 358-905t892-311q331 0 642 81t618 244v-544q-310-131-635-200t-659-69q-838 0-1327 487-489 488-489 1320 0 859 464 1363 464 505 1252 505 706 0 1117-455 411-454 411-1235zm-575 169q-6 471-264 752-258 282-683 282-481 0-770-272t-333-766l2050 4z\"/><path id=\"DejaVuSans-6e\" transform=\"scale(.015625)\" d=\"m3513 2113v-2113h-575v2094q0 497-194 743-194 247-581 247-466 0-735-297-269-296-269-809v-1978h-578v3500h578v-544q207 316 486 472 280 156 646 156 603 0 912-373 310-373 310-1098z\"/><path id=\"DejaVuSans-72\" transform=\"scale(.015625)\" d=\"m2631 2963q-97 56-211 82-114 27-251 27-488 0-749-317t-261-911v-1844h-578v3500h578v-544q182 319 472 473 291 155 707 155 59 0 131-8 72-7 159-23l3-590z\"/><path id=\"DejaVuSans-67\" transform=\"scale(.015625)\" d=\"m2906 1791q0 625-258 968-257 344-723 344-462 0-720-344-258-343-258-968 0-622 258-966t720-344q466 0 723 344 258 344 258 966zm575-1357q0-893-397-1329-396-436-1215-436-303 0-572 45t-522 139v559q253-137 500-202 247-66 503-66 566 0 847 295t281 892v285q-178-310-456-463t-666-153q-643 0-1037 490-394 491-394 1301 0 812 394 1302 394 491 1037 491 388 0 666-153t456-462v531h575v-3066z\"/><path id=\"DejaVuSans-69\" transform=\"scale(.015625)\" d=\"m603 3500h575v-3500h-575v3500zm0 1363h575v-729h-575v729z\"/><path id=\"DejaVuSans-73\" transform=\"scale(.015625)\" d=\"m2834 3397v-544q-243 125-506 187-262 63-544 63-428 0-642-131t-214-394q0-200 153-314t616-217l197-44q612-131 870-370t258-667q0-488-386-773-386-284-1061-284-281 0-586 55t-642 164v594q319-166 628-249 309-82 613-82 406 0 624 139 219 139 219 392 0 234-158 359-157 125-692 241l-200 47q-534 112-772 345-237 233-237 639 0 494 350 762 350 269 994 269 318 0 599-47 282-46 519-140z\"/></defs><use xlink:href=\"#DejaVuSans-65\"/><use transform=\"translate(61.523)\" xlink:href=\"#DejaVuSans-6e\"/><use transform=\"translate(124.9)\" xlink:href=\"#DejaVuSans-65\"/><use transform=\"translate(186.43)\" xlink:href=\"#DejaVuSans-72\"/><use transform=\"translate(225.79)\" xlink:href=\"#DejaVuSans-67\"/><use transform=\"translate(289.27)\" xlink:href=\"#DejaVuSans-69\"/><use transform=\"translate(317.05)\" xlink:href=\"#DejaVuSans-65\"/><use transform=\"translate(378.57)\" xlink:href=\"#DejaVuSans-73\"/></g><path d=\"m342.49 91.869h174.2v-83.445h-174.2v83.445z\" fill=\"none\"/><path d=\"m376.36 91.869v-83.445\" clip-path=\"url(#e3bac8d0e10)\" fill=\"none\" stroke=\"#808080\" stroke-linecap=\"square\" stroke-opacity=\".1\" stroke-width=\".8\"/><use x=\"376.363605\" y=\"91.869462\" fill=\"#808080\" stroke=\"#808080\" stroke-width=\".8\" xlink:href=\"#c59785f48ee\"/><path d=\"m424.75 91.869v-83.445\" clip-path=\"url(#e3bac8d0e10)\" fill=\"none\" stroke=\"#808080\" stroke-linecap=\"square\" stroke-opacity=\".1\" stroke-width=\".8\"/><use x=\"424.753849\" y=\"91.869462\" fill=\"#808080\" stroke=\"#808080\" stroke-width=\".8\" xlink:href=\"#c59785f48ee\"/><path d=\"m473.14 91.869v-83.445\" clip-path=\"url(#e3bac8d0e10)\" fill=\"none\" stroke=\"#808080\" stroke-linecap=\"square\" stroke-opacity=\".1\" stroke-width=\".8\"/><use x=\"473.144093\" y=\"91.869462\" fill=\"#808080\" stroke=\"#808080\" stroke-width=\".8\" xlink:href=\"#c59785f48ee\"/><defs><path id=\"772668354ca\" d=\"m0 0v2\" stroke=\"#808080\" stroke-width=\".6\"/></defs><use x=\"347.329459\" y=\"91.869462\" fill=\"#808080\" stroke=\"#808080\" stroke-width=\".6\" xlink:href=\"#772668354ca\"/><use x=\"357.007508\" y=\"91.869462\" fill=\"#808080\" stroke=\"#808080\" stroke-width=\".6\" xlink:href=\"#772668354ca\"/><use x=\"366.685556\" y=\"91.869462\" fill=\"#808080\" stroke=\"#808080\" stroke-width=\".6\" xlink:href=\"#772668354ca\"/><use x=\"386.041654\" y=\"91.869462\" fill=\"#808080\" stroke=\"#808080\" stroke-width=\".6\" xlink:href=\"#772668354ca\"/><use x=\"395.719703\" y=\"91.869462\" fill=\"#808080\" stroke=\"#808080\" stroke-width=\".6\" xlink:href=\"#772668354ca\"/><use x=\"405.397752\" y=\"91.869462\" fill=\"#808080\" stroke=\"#808080\" stroke-width=\".6\" xlink:href=\"#772668354ca\"/><use x=\"415.0758\" y=\"91.869462\" fill=\"#808080\" stroke=\"#808080\" stroke-width=\".6\" xlink:href=\"#772668354ca\"/><use x=\"434.431898\" y=\"91.869462\" fill=\"#808080\" stroke=\"#808080\" stroke-width=\".6\" xlink:href=\"#772668354ca\"/><use x=\"444.109947\" y=\"91.869462\" fill=\"#808080\" stroke=\"#808080\" stroke-width=\".6\" xlink:href=\"#772668354ca\"/><use x=\"453.787995\" y=\"91.869462\" fill=\"#808080\" stroke=\"#808080\" stroke-width=\".6\" xlink:href=\"#772668354ca\"/><use x=\"463.466044\" y=\"91.869462\" fill=\"#808080\" stroke=\"#808080\" stroke-width=\".6\" xlink:href=\"#772668354ca\"/><use x=\"482.822142\" y=\"91.869462\" fill=\"#808080\" stroke=\"#808080\" stroke-width=\".6\" xlink:href=\"#772668354ca\"/><use x=\"492.500191\" y=\"91.869462\" fill=\"#808080\" stroke=\"#808080\" stroke-width=\".6\" xlink:href=\"#772668354ca\"/><use x=\"502.178239\" y=\"91.869462\" fill=\"#808080\" stroke=\"#808080\" stroke-width=\".6\" xlink:href=\"#772668354ca\"/><use x=\"511.856288\" y=\"91.869462\" fill=\"#808080\" stroke=\"#808080\" stroke-width=\".6\" xlink:href=\"#772668354ca\"/><path d=\"m342.49 87.361h174.2\" clip-path=\"url(#e3bac8d0e10)\" fill=\"none\" stroke=\"#808080\" stroke-linecap=\"square\" stroke-opacity=\".1\" stroke-width=\".8\"/><defs><path id=\"746fc23435b\" d=\"m0 0h3.5\" stroke=\"#d6a284\" stroke-width=\".8\"/></defs><use x=\"516.695313\" y=\"87.361467\" fill=\"#d6a284\" stroke=\"#d6a284\" stroke-width=\".8\" xlink:href=\"#746fc23435b\"/><g transform=\"translate(523.7 91.161) scale(.1 -.1)\" fill=\"#d6a284\"><defs><path id=\"DejaVuSans-39\" transform=\"scale(.015625)\" d=\"m703 97v575q238-113 481-172 244-59 479-59 625 0 954 420 330 420 377 1277-181-269-460-413-278-144-615-144-700 0-1108 423-408 424-408 1159 0 718 425 1152 425 435 1131 435 810 0 1236-621 427-620 427-1801 0-1103-524-1761-523-658-1407-658-238 0-482 47-243 47-506 141zm1256 1978q425 0 673 290 249 291 249 798 0 503-249 795-248 292-673 292t-673-292-248-795q0-507 248-798 248-290 673-290z\"/><path id=\"DejaVuSans-35\" transform=\"scale(.015625)\" d=\"m691 4666h2478v-532h-1900v-1143q137 47 274 70 138 23 276 23 781 0 1237-428 457-428 457-1159 0-753-469-1171-469-417-1322-417-294 0-599 50-304 50-629 150v635q281-153 581-228t634-75q541 0 856 284 316 284 316 772 0 487-316 771-315 285-856 285-253 0-505-56-251-56-513-175v2344z\"/></defs><use xlink:href=\"#DejaVuSans-2212\"/><use transform=\"translate(83.789)\" xlink:href=\"#DejaVuSans-30\"/><use transform=\"translate(147.41)\" xlink:href=\"#DejaVuSans-2e\"/><use transform=\"translate(179.2)\" xlink:href=\"#DejaVuSans-36\"/><use transform=\"translate(242.82)\" xlink:href=\"#DejaVuSans-32\"/><use transform=\"translate(306.45)\" xlink:href=\"#DejaVuSans-36\"/><use transform=\"translate(370.07)\" xlink:href=\"#DejaVuSans-33\"/><use transform=\"translate(433.69)\" xlink:href=\"#DejaVuSans-30\"/><use transform=\"translate(497.31)\" xlink:href=\"#DejaVuSans-39\"/><use transform=\"translate(560.94)\" xlink:href=\"#DejaVuSans-35\"/></g><path d=\"m342.49 61.907h174.2\" clip-path=\"url(#e3bac8d0e10)\" fill=\"none\" stroke=\"#808080\" stroke-linecap=\"square\" stroke-opacity=\".1\" stroke-width=\".8\"/><use x=\"516.695313\" y=\"61.907384\" fill=\"#d6a284\" stroke=\"#d6a284\" stroke-width=\".8\" xlink:href=\"#746fc23435b\"/><g transform=\"translate(523.7 65.707) scale(.1 -.1)\" fill=\"#d6a284\"><use xlink:href=\"#DejaVuSans-2212\"/><use transform=\"translate(83.789)\" xlink:href=\"#DejaVuSans-30\"/><use transform=\"translate(147.41)\" xlink:href=\"#DejaVuSans-2e\"/><use transform=\"translate(179.2)\" xlink:href=\"#DejaVuSans-36\"/><use transform=\"translate(242.82)\" xlink:href=\"#DejaVuSans-32\"/><use transform=\"translate(306.45)\" xlink:href=\"#DejaVuSans-36\"/><use transform=\"translate(370.07)\" xlink:href=\"#DejaVuSans-33\"/><use transform=\"translate(433.69)\" xlink:href=\"#DejaVuSans-30\"/><use transform=\"translate(497.31)\" xlink:href=\"#DejaVuSans-39\"/><use transform=\"translate(560.94)\" xlink:href=\"#DejaVuSans-30\"/></g><path d=\"m342.49 36.453h174.2\" clip-path=\"url(#e3bac8d0e10)\" fill=\"none\" stroke=\"#808080\" stroke-linecap=\"square\" stroke-opacity=\".1\" stroke-width=\".8\"/><use x=\"516.695313\" y=\"36.453301\" fill=\"#d6a284\" stroke=\"#d6a284\" stroke-width=\".8\" xlink:href=\"#746fc23435b\"/><g transform=\"translate(523.7 40.253) scale(.1 -.1)\" fill=\"#d6a284\"><use xlink:href=\"#DejaVuSans-2212\"/><use transform=\"translate(83.789)\" xlink:href=\"#DejaVuSans-30\"/><use transform=\"translate(147.41)\" xlink:href=\"#DejaVuSans-2e\"/><use transform=\"translate(179.2)\" xlink:href=\"#DejaVuSans-36\"/><use transform=\"translate(242.82)\" xlink:href=\"#DejaVuSans-32\"/><use transform=\"translate(306.45)\" xlink:href=\"#DejaVuSans-36\"/><use transform=\"translate(370.07)\" xlink:href=\"#DejaVuSans-33\"/><use transform=\"translate(433.69)\" xlink:href=\"#DejaVuSans-30\"/><use transform=\"translate(497.31)\" xlink:href=\"#DejaVuSans-38\"/><use transform=\"translate(560.94)\" xlink:href=\"#DejaVuSans-35\"/></g><path d=\"m342.49 10.999h174.2\" clip-path=\"url(#e3bac8d0e10)\" fill=\"none\" stroke=\"#808080\" stroke-linecap=\"square\" stroke-opacity=\".1\" stroke-width=\".8\"/><use x=\"516.695313\" y=\"10.999219\" fill=\"#d6a284\" stroke=\"#d6a284\" stroke-width=\".8\" xlink:href=\"#746fc23435b\"/><g transform=\"translate(523.7 14.798) scale(.1 -.1)\" fill=\"#d6a284\"><use xlink:href=\"#DejaVuSans-2212\"/><use transform=\"translate(83.789)\" xlink:href=\"#DejaVuSans-30\"/><use transform=\"translate(147.41)\" xlink:href=\"#DejaVuSans-2e\"/><use transform=\"translate(179.2)\" xlink:href=\"#DejaVuSans-36\"/><use transform=\"translate(242.82)\" xlink:href=\"#DejaVuSans-32\"/><use transform=\"translate(306.45)\" xlink:href=\"#DejaVuSans-36\"/><use transform=\"translate(370.07)\" xlink:href=\"#DejaVuSans-33\"/><use transform=\"translate(433.69)\" xlink:href=\"#DejaVuSans-30\"/><use transform=\"translate(497.31)\" xlink:href=\"#DejaVuSans-38\"/><use transform=\"translate(560.94)\" xlink:href=\"#DejaVuSans-30\"/></g><defs><path id=\"4e7b4f9ba39\" d=\"m0 0h2\" stroke=\"#d6a284\" stroke-width=\".6\"/></defs><use x=\"516.695313\" y=\"82.27065\" fill=\"#d6a284\" stroke=\"#d6a284\" stroke-width=\".6\" xlink:href=\"#4e7b4f9ba39\"/><use x=\"516.695313\" y=\"77.179834\" fill=\"#d6a284\" stroke=\"#d6a284\" stroke-width=\".6\" xlink:href=\"#4e7b4f9ba39\"/><use x=\"516.695313\" y=\"72.089017\" fill=\"#d6a284\" stroke=\"#d6a284\" stroke-width=\".6\" xlink:href=\"#4e7b4f9ba39\"/><use x=\"516.695313\" y=\"66.9982\" fill=\"#d6a284\" stroke=\"#d6a284\" stroke-width=\".6\" xlink:href=\"#4e7b4f9ba39\"/><use x=\"516.695313\" y=\"56.816567\" fill=\"#d6a284\" stroke=\"#d6a284\" stroke-width=\".6\" xlink:href=\"#4e7b4f9ba39\"/><use x=\"516.695313\" y=\"51.725751\" fill=\"#d6a284\" stroke=\"#d6a284\" stroke-width=\".6\" xlink:href=\"#4e7b4f9ba39\"/><use x=\"516.695313\" y=\"46.634934\" fill=\"#d6a284\" stroke=\"#d6a284\" stroke-width=\".6\" xlink:href=\"#4e7b4f9ba39\"/><use x=\"516.695313\" y=\"41.544118\" fill=\"#d6a284\" stroke=\"#d6a284\" stroke-width=\".6\" xlink:href=\"#4e7b4f9ba39\"/><use x=\"516.695313\" y=\"31.362485\" fill=\"#d6a284\" stroke=\"#d6a284\" stroke-width=\".6\" xlink:href=\"#4e7b4f9ba39\"/><use x=\"516.695313\" y=\"26.271668\" fill=\"#d6a284\" stroke=\"#d6a284\" stroke-width=\".6\" xlink:href=\"#4e7b4f9ba39\"/><use x=\"516.695313\" y=\"21.180852\" fill=\"#d6a284\" stroke=\"#d6a284\" stroke-width=\".6\" xlink:href=\"#4e7b4f9ba39\"/><use x=\"516.695313\" y=\"16.090035\" fill=\"#d6a284\" stroke=\"#d6a284\" stroke-width=\".6\" xlink:href=\"#4e7b4f9ba39\"/><path d=\"m347.33 12.217 9.678 9.1031 9.678 42.481 9.678-36.412 9.678 18.206 9.678-27.309 9.678 9.1031 9.678 12.137 9.678 27.309 9.678-18.206 9.678 12.137 9.678-12.137 9.678 6.0687 9.678 15.172 9.678 18.206 9.678-12.137 9.678 6.0687 9.678-27.309\" clip-path=\"url(#e3bac8d0e10)\" fill=\"none\" stroke=\"#d6a284\" stroke-linecap=\"square\" stroke-width=\"1.5\"/><defs><path id=\"66be835fedc\" d=\"m0 1.5v-3\" stroke=\"#d6a284\"/></defs><g clip-path=\"url(#e3bac8d0e10)\" fill=\"#d6a284\" stroke=\"#d6a284\"><use x=\"347.329459\" y=\"12.217431\" xlink:href=\"#66be835fedc\"/><use x=\"357.007508\" y=\"21.32052\" xlink:href=\"#66be835fedc\"/><use x=\"366.685556\" y=\"63.801603\" xlink:href=\"#66be835fedc\"/><use x=\"376.363605\" y=\"27.389246\" xlink:href=\"#66be835fedc\"/><use x=\"386.041654\" y=\"45.595425\" xlink:href=\"#66be835fedc\"/><use x=\"395.719703\" y=\"18.286157\" xlink:href=\"#66be835fedc\"/><use x=\"405.397752\" y=\"27.389246\" xlink:href=\"#66be835fedc\"/><use x=\"415.0758\" y=\"39.526698\" xlink:href=\"#66be835fedc\"/><use x=\"424.753849\" y=\"66.835966\" xlink:href=\"#66be835fedc\"/><use x=\"434.431898\" y=\"48.629788\" xlink:href=\"#66be835fedc\"/><use x=\"444.109947\" y=\"60.76724\" xlink:href=\"#66be835fedc\"/><use x=\"453.787995\" y=\"48.629788\" xlink:href=\"#66be835fedc\"/><use x=\"463.466044\" y=\"54.698514\" xlink:href=\"#66be835fedc\"/><use x=\"473.144093\" y=\"69.87033\" xlink:href=\"#66be835fedc\"/><use x=\"482.822142\" y=\"88.076508\" xlink:href=\"#66be835fedc\"/><use x=\"492.500191\" y=\"75.939056\" xlink:href=\"#66be835fedc\"/><use x=\"502.178239\" y=\"82.007782\" xlink:href=\"#66be835fedc\"/><use x=\"511.856288\" y=\"54.698514\" xlink:href=\"#66be835fedc\"/></g><path d=\"m516.7 91.869v-83.445\" fill=\"none\" stroke=\"#808080\" stroke-linecap=\"square\" stroke-width=\".8\"/><path d=\"m342.49 91.869h174.2\" fill=\"none\" stroke=\"#808080\" stroke-linecap=\"square\" stroke-width=\".8\"/><path d=\"m70.295 183.66h261.31v-83.445h-261.31v83.445z\" fill=\"none\"/><path d=\"m225.75 183.66h103.39v-83.445h-103.39z\" clip-path=\"url(#c44e4217e55)\" fill=\"#808080\" opacity=\".15\" stroke=\"#808080\"/><path d=\"m75.176 183.66v-83.445\" clip-path=\"url(#c44e4217e55)\" fill=\"none\" stroke=\"#808080\" stroke-linecap=\"square\" stroke-opacity=\".1\" stroke-width=\".8\"/><use x=\"75.175679\" y=\"183.658946\" fill=\"#808080\" stroke=\"#808080\" stroke-width=\".8\" xlink:href=\"#c59785f48ee\"/><path d=\"m84.933 183.66v-83.445\" clip-path=\"url(#c44e4217e55)\" fill=\"none\" stroke=\"#808080\" stroke-linecap=\"square\" stroke-opacity=\".1\" stroke-width=\".8\"/><use x=\"84.933367\" y=\"183.658946\" fill=\"#808080\" stroke=\"#808080\" stroke-width=\".8\" xlink:href=\"#c59785f48ee\"/><path d=\"m94.667 183.66v-83.445\" clip-path=\"url(#c44e4217e55)\" fill=\"none\" stroke=\"#808080\" stroke-linecap=\"square\" stroke-opacity=\".1\" stroke-width=\".8\"/><use x=\"94.666787\" y=\"183.658946\" fill=\"#808080\" stroke=\"#808080\" stroke-width=\".8\" xlink:href=\"#c59785f48ee\"/><path d=\"m104.35 183.66v-83.445\" clip-path=\"url(#c44e4217e55)\" fill=\"none\" stroke=\"#808080\" stroke-linecap=\"square\" stroke-opacity=\".1\" stroke-width=\".8\"/><use x=\"104.352208\" y=\"183.658946\" fill=\"#808080\" stroke=\"#808080\" stroke-width=\".8\" xlink:href=\"#c59785f48ee\"/><path d=\"m113.97 183.66v-83.445\" clip-path=\"url(#c44e4217e55)\" fill=\"none\" stroke=\"#808080\" stroke-linecap=\"square\" stroke-opacity=\".1\" stroke-width=\".8\"/><use x=\"113.966945\" y=\"183.658946\" fill=\"#808080\" stroke=\"#808080\" stroke-width=\".8\" xlink:href=\"#c59785f48ee\"/><path d=\"m123.49 183.66v-83.445\" clip-path=\"url(#c44e4217e55)\" fill=\"none\" stroke=\"#808080\" stroke-linecap=\"square\" stroke-opacity=\".1\" stroke-width=\".8\"/><use x=\"123.489796\" y=\"183.658946\" fill=\"#808080\" stroke=\"#808080\" stroke-width=\".8\" xlink:href=\"#c59785f48ee\"/><path d=\"m132.9 183.66v-83.445\" clip-path=\"url(#c44e4217e55)\" fill=\"none\" stroke=\"#808080\" stroke-linecap=\"square\" stroke-opacity=\".1\" stroke-width=\".8\"/><use x=\"132.901409\" y=\"183.658946\" fill=\"#808080\" stroke=\"#808080\" stroke-width=\".8\" xlink:href=\"#c59785f48ee\"/><path d=\"m142.18 183.66v-83.445\" clip-path=\"url(#c44e4217e55)\" fill=\"none\" stroke=\"#808080\" stroke-linecap=\"square\" stroke-opacity=\".1\" stroke-width=\".8\"/><use x=\"142.184542\" y=\"183.658946\" fill=\"#808080\" stroke=\"#808080\" stroke-width=\".8\" xlink:href=\"#c59785f48ee\"/><path d=\"m151.32 183.66v-83.445\" clip-path=\"url(#c44e4217e55)\" fill=\"none\" stroke=\"#808080\" stroke-linecap=\"square\" stroke-opacity=\".1\" stroke-width=\".8\"/><use x=\"151.324228\" y=\"183.658946\" fill=\"#808080\" stroke=\"#808080\" stroke-width=\".8\" xlink:href=\"#c59785f48ee\"/><path d=\"m160.31 183.66v-83.445\" clip-path=\"url(#c44e4217e55)\" fill=\"none\" stroke=\"#808080\" stroke-linecap=\"square\" stroke-opacity=\".1\" stroke-width=\".8\"/><use x=\"160.30784\" y=\"183.658946\" fill=\"#808080\" stroke=\"#808080\" stroke-width=\".8\" xlink:href=\"#c59785f48ee\"/><path d=\"m169.13 183.66v-83.445\" clip-path=\"url(#c44e4217e55)\" fill=\"none\" stroke=\"#808080\" stroke-linecap=\"square\" stroke-opacity=\".1\" stroke-width=\".8\"/><use x=\"169.125074\" y=\"183.658946\" fill=\"#808080\" stroke=\"#808080\" stroke-width=\".8\" xlink:href=\"#c59785f48ee\"/><path d=\"m247.25 183.66v-83.445\" clip-path=\"url(#c44e4217e55)\" fill=\"none\" stroke=\"#808080\" stroke-linecap=\"square\" stroke-opacity=\".1\" stroke-width=\".8\"/><use x=\"247.250658\" y=\"183.658946\" fill=\"#808080\" stroke=\"#808080\" stroke-width=\".8\" xlink:href=\"#c59785f48ee\"/><path d=\"m308.44 183.66v-83.445\" clip-path=\"url(#c44e4217e55)\" fill=\"none\" stroke=\"#808080\" stroke-linecap=\"square\" stroke-opacity=\".1\" stroke-width=\".8\"/><use x=\"308.435285\" y=\"183.658946\" fill=\"#808080\" stroke=\"#808080\" stroke-width=\".8\" xlink:href=\"#c59785f48ee\"/><path d=\"m70.295 169.03h261.31\" clip-path=\"url(#c44e4217e55)\" fill=\"none\" stroke=\"#808080\" stroke-linecap=\"square\" stroke-opacity=\".1\" stroke-width=\".8\"/><defs><path id=\"c58d29c224b\" d=\"m0 0h-3.5\" stroke=\"#3fcc52\" stroke-width=\".8\"/></defs><use x=\"70.295313\" y=\"169.028981\" fill=\"#3fcc52\" stroke=\"#3fcc52\" stroke-width=\".8\" xlink:href=\"#c58d29c224b\"/><g transform=\"translate(50.57 172.83) scale(.1 -.1)\" fill=\"#3fcc52\"><defs><path id=\"DejaVuSans-31\" transform=\"scale(.015625)\" d=\"m794 531h1031v3560l-1122-225v575l1116 225h631v-4135h1031v-531h-2687v531z\"/></defs><use xlink:href=\"#DejaVuSans-31\"/><use transform=\"translate(63.623)\" xlink:href=\"#DejaVuSans-32\"/></g><path d=\"m70.295 147.35h261.31\" clip-path=\"url(#c44e4217e55)\" fill=\"none\" stroke=\"#808080\" stroke-linecap=\"square\" stroke-opacity=\".1\" stroke-width=\".8\"/><use x=\"70.295313\" y=\"147.354959\" fill=\"#3fcc52\" stroke=\"#3fcc52\" stroke-width=\".8\" xlink:href=\"#c58d29c224b\"/><g transform=\"translate(50.57 151.15) scale(.1 -.1)\" fill=\"#3fcc52\"><use xlink:href=\"#DejaVuSans-31\"/><use transform=\"translate(63.623)\" xlink:href=\"#DejaVuSans-34\"/></g><path d=\"m70.295 125.68h261.31\" clip-path=\"url(#c44e4217e55)\" fill=\"none\" stroke=\"#808080\" stroke-linecap=\"square\" stroke-opacity=\".1\" stroke-width=\".8\"/><use x=\"70.295313\" y=\"125.680937\" fill=\"#3fcc52\" stroke=\"#3fcc52\" stroke-width=\".8\" xlink:href=\"#c58d29c224b\"/><g transform=\"translate(50.57 129.48) scale(.1 -.1)\" fill=\"#3fcc52\"><use xlink:href=\"#DejaVuSans-31\"/><use transform=\"translate(63.623)\" xlink:href=\"#DejaVuSans-36\"/></g><path d=\"m70.295 104.01h261.31\" clip-path=\"url(#c44e4217e55)\" fill=\"none\" stroke=\"#808080\" stroke-linecap=\"square\" stroke-opacity=\".1\" stroke-width=\".8\"/><use x=\"70.295313\" y=\"104.006914\" fill=\"#3fcc52\" stroke=\"#3fcc52\" stroke-width=\".8\" xlink:href=\"#c58d29c224b\"/><g transform=\"translate(50.57 107.81) scale(.1 -.1)\" fill=\"#3fcc52\"><use xlink:href=\"#DejaVuSans-31\"/><use transform=\"translate(63.623)\" xlink:href=\"#DejaVuSans-38\"/></g><defs><path id=\"0ed1f0342cd\" d=\"m0 0h-2\" stroke=\"#3fcc52\" stroke-width=\".6\"/></defs><use x=\"70.295313\" y=\"179.865992\" fill=\"#3fcc52\" stroke=\"#3fcc52\" stroke-width=\".6\" xlink:href=\"#0ed1f0342cd\"/><use x=\"70.295313\" y=\"174.447486\" fill=\"#3fcc52\" stroke=\"#3fcc52\" stroke-width=\".6\" xlink:href=\"#0ed1f0342cd\"/><use x=\"70.295313\" y=\"163.610475\" fill=\"#3fcc52\" stroke=\"#3fcc52\" stroke-width=\".6\" xlink:href=\"#0ed1f0342cd\"/><use x=\"70.295313\" y=\"158.19197\" fill=\"#3fcc52\" stroke=\"#3fcc52\" stroke-width=\".6\" xlink:href=\"#0ed1f0342cd\"/><use x=\"70.295313\" y=\"152.773464\" fill=\"#3fcc52\" stroke=\"#3fcc52\" stroke-width=\".6\" xlink:href=\"#0ed1f0342cd\"/><use x=\"70.295313\" y=\"141.936453\" fill=\"#3fcc52\" stroke=\"#3fcc52\" stroke-width=\".6\" xlink:href=\"#0ed1f0342cd\"/><use x=\"70.295313\" y=\"136.517948\" fill=\"#3fcc52\" stroke=\"#3fcc52\" stroke-width=\".6\" xlink:href=\"#0ed1f0342cd\"/><use x=\"70.295313\" y=\"131.099442\" fill=\"#3fcc52\" stroke=\"#3fcc52\" stroke-width=\".6\" xlink:href=\"#0ed1f0342cd\"/><use x=\"70.295313\" y=\"120.262431\" fill=\"#3fcc52\" stroke=\"#3fcc52\" stroke-width=\".6\" xlink:href=\"#0ed1f0342cd\"/><use x=\"70.295313\" y=\"114.843926\" fill=\"#3fcc52\" stroke=\"#3fcc52\" stroke-width=\".6\" xlink:href=\"#0ed1f0342cd\"/><use x=\"70.295313\" y=\"109.42542\" fill=\"#3fcc52\" stroke=\"#3fcc52\" stroke-width=\".6\" xlink:href=\"#0ed1f0342cd\"/><path d=\"m75.176 158.19 9.7577-10.837 9.7334 10.837h9.6854 9.6147l9.5229 10.837 9.4116 10.837 9.2831-21.674 9.1397-21.674 8.9836 43.348 8.8172-10.837h8.6428l8.4624-21.674 8.2778-32.511 8.091 32.511 7.9032-32.511 7.7159 32.511 7.5301-21.674h7.3466l7.1662 54.185 6.9896-10.837 6.817-32.511 6.649-10.837 6.4856 21.674 6.327-10.837 6.1733 10.837 6.0246-10.837 5.8807 21.674 5.7418-43.348 5.6076 32.511 5.4781 21.674h5.3531l5.2326-43.348 5.1163-21.674 5.0041 54.185\" clip-path=\"url(#c44e4217e55)\" fill=\"none\" stroke=\"#3fcc52\" stroke-linecap=\"square\"/><path d=\"m70.295 183.66v-83.445\" fill=\"none\" stroke=\"#808080\" stroke-linecap=\"square\" stroke-width=\".8\"/><path d=\"m70.295 183.66h261.31\" fill=\"none\" stroke=\"#808080\" stroke-linecap=\"square\" stroke-width=\".8\"/><g transform=\"translate(83.361 107.81) scale(.1 -.1)\" fill=\"#3fcc52\"><defs><path id=\"DejaVuSans-6d\" transform=\"scale(.015625)\" d=\"m3328 2828q216 388 516 572t706 184q547 0 844-383 297-382 297-1088v-2113h-578v2094q0 503-179 746-178 244-543 244-447 0-707-297-259-296-259-809v-1978h-578v2094q0 506-178 748t-550 242q-441 0-701-298-259-298-259-808v-1978h-578v3500h578v-544q197 322 472 475t653 153q382 0 649-194 267-193 395-562z\"/><path id=\"DejaVuSans-61\" transform=\"scale(.015625)\" d=\"m2194 1759q-697 0-966-159t-269-544q0-306 202-486 202-179 548-179 479 0 768 339t289 901v128h-572zm1147 238v-1997h-575v531q-197-318-491-470t-719-152q-537 0-855 302-317 302-317 808 0 590 395 890 396 300 1180 300h807v57q0 397-261 614t-733 217q-300 0-585-72-284-72-546-216v532q315 122 612 182 297 61 578 61 760 0 1135-394 375-393 375-1193z\"/><path id=\"DejaVuSans-78\" transform=\"scale(.015625)\" d=\"m3513 3500-1266-1703 1331-1797h-678l-1019 1375-1018-1375h-679l1360 1831-1244 1669h678l928-1247 928 1247h679z\"/><path id=\"DejaVuSans-5f\" transform=\"scale(.015625)\" d=\"m3263-1063v-446h-3326v446h3326z\"/><path id=\"DejaVuSans-66\" transform=\"scale(.015625)\" d=\"m2375 4863v-479h-550q-309 0-430-125-120-125-120-450v-309h947v-447h-947v-3053h-578v3053h-550v447h550v244q0 584 272 851 272 268 862 268h544z\"/><path id=\"DejaVuSans-74\" transform=\"scale(.015625)\" d=\"m1172 4494v-994h1184v-447h-1184v-1900q0-428 117-550t477-122h590v-481h-590q-666 0-919 248-253 249-253 905v1900h-422v447h422v994h578z\"/><path id=\"DejaVuSans-6f\" transform=\"scale(.015625)\" d=\"m1959 3097q-462 0-731-361t-269-989 267-989q268-361 733-361 460 0 728 362 269 363 269 988 0 622-269 986-268 364-728 364zm0 487q750 0 1178-488 429-487 429-1349 0-859-429-1349-428-489-1178-489-753 0-1180 489-426 490-426 1349 0 862 426 1349 427 488 1180 488z\"/></defs><use xlink:href=\"#DejaVuSans-6d\"/><use transform=\"translate(97.412)\" xlink:href=\"#DejaVuSans-61\"/><use transform=\"translate(158.69)\" xlink:href=\"#DejaVuSans-78\"/><use transform=\"translate(217.87)\" xlink:href=\"#DejaVuSans-5f\"/><use transform=\"translate(267.87)\" xlink:href=\"#DejaVuSans-66\"/><use transform=\"translate(303.08)\" xlink:href=\"#DejaVuSans-69\"/><use transform=\"translate(330.86)\" xlink:href=\"#DejaVuSans-74\"/><use transform=\"translate(370.07)\" xlink:href=\"#DejaVuSans-5f\"/><use transform=\"translate(420.07)\" xlink:href=\"#DejaVuSans-69\"/><use transform=\"translate(447.85)\" xlink:href=\"#DejaVuSans-74\"/><use transform=\"translate(487.06)\" xlink:href=\"#DejaVuSans-65\"/><use transform=\"translate(548.58)\" xlink:href=\"#DejaVuSans-72\"/><use transform=\"translate(589.7)\" xlink:href=\"#DejaVuSans-61\"/><use transform=\"translate(650.98)\" xlink:href=\"#DejaVuSans-74\"/><use transform=\"translate(690.19)\" xlink:href=\"#DejaVuSans-69\"/><use transform=\"translate(717.97)\" xlink:href=\"#DejaVuSans-6f\"/><use transform=\"translate(779.15)\" xlink:href=\"#DejaVuSans-6e\"/><use transform=\"translate(842.53)\" xlink:href=\"#DejaVuSans-73\"/></g><path d=\"m342.49 183.66h174.2v-83.445h-174.2v83.445z\" fill=\"none\"/><path d=\"m376.36 183.66v-83.445\" clip-path=\"url(#05bdc76085b)\" fill=\"none\" stroke=\"#808080\" stroke-linecap=\"square\" stroke-opacity=\".1\" stroke-width=\".8\"/><use x=\"376.363605\" y=\"183.658946\" fill=\"#808080\" stroke=\"#808080\" stroke-width=\".8\" xlink:href=\"#c59785f48ee\"/><path d=\"m424.75 183.66v-83.445\" clip-path=\"url(#05bdc76085b)\" fill=\"none\" stroke=\"#808080\" stroke-linecap=\"square\" stroke-opacity=\".1\" stroke-width=\".8\"/><use x=\"424.753849\" y=\"183.658946\" fill=\"#808080\" stroke=\"#808080\" stroke-width=\".8\" xlink:href=\"#c59785f48ee\"/><path d=\"m473.14 183.66v-83.445\" clip-path=\"url(#05bdc76085b)\" fill=\"none\" stroke=\"#808080\" stroke-linecap=\"square\" stroke-opacity=\".1\" stroke-width=\".8\"/><use x=\"473.144093\" y=\"183.658946\" fill=\"#808080\" stroke=\"#808080\" stroke-width=\".8\" xlink:href=\"#c59785f48ee\"/><use x=\"347.329459\" y=\"183.658946\" fill=\"#808080\" stroke=\"#808080\" stroke-width=\".6\" xlink:href=\"#772668354ca\"/><use x=\"357.007508\" y=\"183.658946\" fill=\"#808080\" stroke=\"#808080\" stroke-width=\".6\" xlink:href=\"#772668354ca\"/><use x=\"366.685556\" y=\"183.658946\" fill=\"#808080\" stroke=\"#808080\" stroke-width=\".6\" xlink:href=\"#772668354ca\"/><use x=\"386.041654\" y=\"183.658946\" fill=\"#808080\" stroke=\"#808080\" stroke-width=\".6\" xlink:href=\"#772668354ca\"/><use x=\"395.719703\" y=\"183.658946\" fill=\"#808080\" stroke=\"#808080\" stroke-width=\".6\" xlink:href=\"#772668354ca\"/><use x=\"405.397752\" y=\"183.658946\" fill=\"#808080\" stroke=\"#808080\" stroke-width=\".6\" xlink:href=\"#772668354ca\"/><use x=\"415.0758\" y=\"183.658946\" fill=\"#808080\" stroke=\"#808080\" stroke-width=\".6\" xlink:href=\"#772668354ca\"/><use x=\"434.431898\" y=\"183.658946\" fill=\"#808080\" stroke=\"#808080\" stroke-width=\".6\" xlink:href=\"#772668354ca\"/><use x=\"444.109947\" y=\"183.658946\" fill=\"#808080\" stroke=\"#808080\" stroke-width=\".6\" xlink:href=\"#772668354ca\"/><use x=\"453.787995\" y=\"183.658946\" fill=\"#808080\" stroke=\"#808080\" stroke-width=\".6\" xlink:href=\"#772668354ca\"/><use x=\"463.466044\" y=\"183.658946\" fill=\"#808080\" stroke=\"#808080\" stroke-width=\".6\" xlink:href=\"#772668354ca\"/><use x=\"482.822142\" y=\"183.658946\" fill=\"#808080\" stroke=\"#808080\" stroke-width=\".6\" xlink:href=\"#772668354ca\"/><use x=\"492.500191\" y=\"183.658946\" fill=\"#808080\" stroke=\"#808080\" stroke-width=\".6\" xlink:href=\"#772668354ca\"/><use x=\"502.178239\" y=\"183.658946\" fill=\"#808080\" stroke=\"#808080\" stroke-width=\".6\" xlink:href=\"#772668354ca\"/><use x=\"511.856288\" y=\"183.658946\" fill=\"#808080\" stroke=\"#808080\" stroke-width=\".6\" xlink:href=\"#772668354ca\"/><path d=\"m342.49 169.03h174.2\" clip-path=\"url(#05bdc76085b)\" fill=\"none\" stroke=\"#808080\" stroke-linecap=\"square\" stroke-opacity=\".1\" stroke-width=\".8\"/><defs><path id=\"6c996508088\" d=\"m0 0h3.5\" stroke=\"#3fcc52\" stroke-width=\".8\"/></defs><use x=\"516.695313\" y=\"169.028981\" fill=\"#3fcc52\" stroke=\"#3fcc52\" stroke-width=\".8\" xlink:href=\"#6c996508088\"/><g transform=\"translate(523.7 172.83) scale(.1 -.1)\" fill=\"#3fcc52\"><use xlink:href=\"#DejaVuSans-31\"/><use transform=\"translate(63.623)\" xlink:href=\"#DejaVuSans-32\"/></g><path d=\"m342.49 147.35h174.2\" clip-path=\"url(#05bdc76085b)\" fill=\"none\" stroke=\"#808080\" stroke-linecap=\"square\" stroke-opacity=\".1\" stroke-width=\".8\"/><use x=\"516.695313\" y=\"147.354959\" fill=\"#3fcc52\" stroke=\"#3fcc52\" stroke-width=\".8\" xlink:href=\"#6c996508088\"/><g transform=\"translate(523.7 151.15) scale(.1 -.1)\" fill=\"#3fcc52\"><use xlink:href=\"#DejaVuSans-31\"/><use transform=\"translate(63.623)\" xlink:href=\"#DejaVuSans-34\"/></g><path d=\"m342.49 125.68h174.2\" clip-path=\"url(#05bdc76085b)\" fill=\"none\" stroke=\"#808080\" stroke-linecap=\"square\" stroke-opacity=\".1\" stroke-width=\".8\"/><use x=\"516.695313\" y=\"125.680937\" fill=\"#3fcc52\" stroke=\"#3fcc52\" stroke-width=\".8\" xlink:href=\"#6c996508088\"/><g transform=\"translate(523.7 129.48) scale(.1 -.1)\" fill=\"#3fcc52\"><use xlink:href=\"#DejaVuSans-31\"/><use transform=\"translate(63.623)\" xlink:href=\"#DejaVuSans-36\"/></g><path d=\"m342.49 104.01h174.2\" clip-path=\"url(#05bdc76085b)\" fill=\"none\" stroke=\"#808080\" stroke-linecap=\"square\" stroke-opacity=\".1\" stroke-width=\".8\"/><use x=\"516.695313\" y=\"104.006914\" fill=\"#3fcc52\" stroke=\"#3fcc52\" stroke-width=\".8\" xlink:href=\"#6c996508088\"/><g transform=\"translate(523.7 107.81) scale(.1 -.1)\" fill=\"#3fcc52\"><use xlink:href=\"#DejaVuSans-31\"/><use transform=\"translate(63.623)\" xlink:href=\"#DejaVuSans-38\"/></g><defs><path id=\"f06d1431a7f\" d=\"m0 0h2\" stroke=\"#3fcc52\" stroke-width=\".6\"/></defs><use x=\"516.695313\" y=\"179.865992\" fill=\"#3fcc52\" stroke=\"#3fcc52\" stroke-width=\".6\" xlink:href=\"#f06d1431a7f\"/><use x=\"516.695313\" y=\"174.447486\" fill=\"#3fcc52\" stroke=\"#3fcc52\" stroke-width=\".6\" xlink:href=\"#f06d1431a7f\"/><use x=\"516.695313\" y=\"163.610475\" fill=\"#3fcc52\" stroke=\"#3fcc52\" stroke-width=\".6\" xlink:href=\"#f06d1431a7f\"/><use x=\"516.695313\" y=\"158.19197\" fill=\"#3fcc52\" stroke=\"#3fcc52\" stroke-width=\".6\" xlink:href=\"#f06d1431a7f\"/><use x=\"516.695313\" y=\"152.773464\" fill=\"#3fcc52\" stroke=\"#3fcc52\" stroke-width=\".6\" xlink:href=\"#f06d1431a7f\"/><use x=\"516.695313\" y=\"141.936453\" fill=\"#3fcc52\" stroke=\"#3fcc52\" stroke-width=\".6\" xlink:href=\"#f06d1431a7f\"/><use x=\"516.695313\" y=\"136.517948\" fill=\"#3fcc52\" stroke=\"#3fcc52\" stroke-width=\".6\" xlink:href=\"#f06d1431a7f\"/><use x=\"516.695313\" y=\"131.099442\" fill=\"#3fcc52\" stroke=\"#3fcc52\" stroke-width=\".6\" xlink:href=\"#f06d1431a7f\"/><use x=\"516.695313\" y=\"120.262431\" fill=\"#3fcc52\" stroke=\"#3fcc52\" stroke-width=\".6\" xlink:href=\"#f06d1431a7f\"/><use x=\"516.695313\" y=\"114.843926\" fill=\"#3fcc52\" stroke=\"#3fcc52\" stroke-width=\".6\" xlink:href=\"#f06d1431a7f\"/><use x=\"516.695313\" y=\"109.42542\" fill=\"#3fcc52\" stroke=\"#3fcc52\" stroke-width=\".6\" xlink:href=\"#f06d1431a7f\"/><path d=\"m347.33 125.68h9.678l9.678 54.185 9.678-10.837 9.678-32.511 9.678-10.837 9.678 21.674 9.678-10.837 9.678 10.837 9.678-10.837 9.678 21.674 9.678-43.348 9.678 32.511 9.678 21.674h9.678l9.678-43.348 9.678-21.674 9.678 54.185\" clip-path=\"url(#05bdc76085b)\" fill=\"none\" stroke=\"#3fcc52\" stroke-linecap=\"square\" stroke-width=\"1.5\"/><defs><path id=\"297109dfd4a\" d=\"m0 1.5v-3\" stroke=\"#3fcc52\"/></defs><g clip-path=\"url(#05bdc76085b)\" fill=\"#3fcc52\" stroke=\"#3fcc52\"><use x=\"347.329459\" y=\"125.680937\" xlink:href=\"#297109dfd4a\"/><use x=\"357.007508\" y=\"125.680937\" xlink:href=\"#297109dfd4a\"/><use x=\"366.685556\" y=\"179.865992\" xlink:href=\"#297109dfd4a\"/><use x=\"376.363605\" y=\"169.028981\" xlink:href=\"#297109dfd4a\"/><use x=\"386.041654\" y=\"136.517948\" xlink:href=\"#297109dfd4a\"/><use x=\"395.719703\" y=\"125.680937\" xlink:href=\"#297109dfd4a\"/><use x=\"405.397752\" y=\"147.354959\" xlink:href=\"#297109dfd4a\"/><use x=\"415.0758\" y=\"136.517948\" xlink:href=\"#297109dfd4a\"/><use x=\"424.753849\" y=\"147.354959\" xlink:href=\"#297109dfd4a\"/><use x=\"434.431898\" y=\"136.517948\" xlink:href=\"#297109dfd4a\"/><use x=\"444.109947\" y=\"158.19197\" xlink:href=\"#297109dfd4a\"/><use x=\"453.787995\" y=\"114.843926\" xlink:href=\"#297109dfd4a\"/><use x=\"463.466044\" y=\"147.354959\" xlink:href=\"#297109dfd4a\"/><use x=\"473.144093\" y=\"169.028981\" xlink:href=\"#297109dfd4a\"/><use x=\"482.822142\" y=\"169.028981\" xlink:href=\"#297109dfd4a\"/><use x=\"492.500191\" y=\"125.680937\" xlink:href=\"#297109dfd4a\"/><use x=\"502.178239\" y=\"104.006914\" xlink:href=\"#297109dfd4a\"/><use x=\"511.856288\" y=\"158.19197\" xlink:href=\"#297109dfd4a\"/></g><path d=\"m516.7 183.66v-83.445\" fill=\"none\" stroke=\"#808080\" stroke-linecap=\"square\" stroke-width=\".8\"/><path d=\"m342.49 183.66h174.2\" fill=\"none\" stroke=\"#808080\" stroke-linecap=\"square\" stroke-width=\".8\"/><path d=\"m70.295 275.45h261.31v-83.445h-261.31v83.445z\" fill=\"none\"/><path d=\"m225.75 275.45h103.39v-83.445h-103.39z\" clip-path=\"url(#0d1a981d06a)\" fill=\"#808080\" opacity=\".15\" stroke=\"#808080\"/><path d=\"m75.176 275.45v-83.445\" clip-path=\"url(#0d1a981d06a)\" fill=\"none\" stroke=\"#808080\" stroke-linecap=\"square\" stroke-opacity=\".1\" stroke-width=\".8\"/><use x=\"75.175679\" y=\"275.44843\" fill=\"#808080\" stroke=\"#808080\" stroke-width=\".8\" xlink:href=\"#c59785f48ee\"/><g transform=\"translate(71.994 290.05) scale(.1 -.1)\" fill=\"#808080\"><use xlink:href=\"#DejaVuSans-30\"/></g><path d=\"m84.933 275.45v-83.445\" clip-path=\"url(#0d1a981d06a)\" fill=\"none\" stroke=\"#808080\" stroke-linecap=\"square\" stroke-opacity=\".1\" stroke-width=\".8\"/><use x=\"84.933367\" y=\"275.44843\" fill=\"#808080\" stroke=\"#808080\" stroke-width=\".8\" xlink:href=\"#c59785f48ee\"/><path d=\"m94.667 275.45v-83.445\" clip-path=\"url(#0d1a981d06a)\" fill=\"none\" stroke=\"#808080\" stroke-linecap=\"square\" stroke-opacity=\".1\" stroke-width=\".8\"/><use x=\"94.666787\" y=\"275.44843\" fill=\"#808080\" stroke=\"#808080\" stroke-width=\".8\" xlink:href=\"#c59785f48ee\"/><path d=\"m104.35 275.45v-83.445\" clip-path=\"url(#0d1a981d06a)\" fill=\"none\" stroke=\"#808080\" stroke-linecap=\"square\" stroke-opacity=\".1\" stroke-width=\".8\"/><use x=\"104.352208\" y=\"275.44843\" fill=\"#808080\" stroke=\"#808080\" stroke-width=\".8\" xlink:href=\"#c59785f48ee\"/><path d=\"m113.97 275.45v-83.445\" clip-path=\"url(#0d1a981d06a)\" fill=\"none\" stroke=\"#808080\" stroke-linecap=\"square\" stroke-opacity=\".1\" stroke-width=\".8\"/><use x=\"113.966945\" y=\"275.44843\" fill=\"#808080\" stroke=\"#808080\" stroke-width=\".8\" xlink:href=\"#c59785f48ee\"/><path d=\"m123.49 275.45v-83.445\" clip-path=\"url(#0d1a981d06a)\" fill=\"none\" stroke=\"#808080\" stroke-linecap=\"square\" stroke-opacity=\".1\" stroke-width=\".8\"/><use x=\"123.489796\" y=\"275.44843\" fill=\"#808080\" stroke=\"#808080\" stroke-width=\".8\" xlink:href=\"#c59785f48ee\"/><path d=\"m132.9 275.45v-83.445\" clip-path=\"url(#0d1a981d06a)\" fill=\"none\" stroke=\"#808080\" stroke-linecap=\"square\" stroke-opacity=\".1\" stroke-width=\".8\"/><use x=\"132.901409\" y=\"275.44843\" fill=\"#808080\" stroke=\"#808080\" stroke-width=\".8\" xlink:href=\"#c59785f48ee\"/><path d=\"m142.18 275.45v-83.445\" clip-path=\"url(#0d1a981d06a)\" fill=\"none\" stroke=\"#808080\" stroke-linecap=\"square\" stroke-opacity=\".1\" stroke-width=\".8\"/><use x=\"142.184542\" y=\"275.44843\" fill=\"#808080\" stroke=\"#808080\" stroke-width=\".8\" xlink:href=\"#c59785f48ee\"/><path d=\"m151.32 275.45v-83.445\" clip-path=\"url(#0d1a981d06a)\" fill=\"none\" stroke=\"#808080\" stroke-linecap=\"square\" stroke-opacity=\".1\" stroke-width=\".8\"/><use x=\"151.324228\" y=\"275.44843\" fill=\"#808080\" stroke=\"#808080\" stroke-width=\".8\" xlink:href=\"#c59785f48ee\"/><path d=\"m160.31 275.45v-83.445\" clip-path=\"url(#0d1a981d06a)\" fill=\"none\" stroke=\"#808080\" stroke-linecap=\"square\" stroke-opacity=\".1\" stroke-width=\".8\"/><use x=\"160.30784\" y=\"275.44843\" fill=\"#808080\" stroke=\"#808080\" stroke-width=\".8\" xlink:href=\"#c59785f48ee\"/><path d=\"m169.13 275.45v-83.445\" clip-path=\"url(#0d1a981d06a)\" fill=\"none\" stroke=\"#808080\" stroke-linecap=\"square\" stroke-opacity=\".1\" stroke-width=\".8\"/><use x=\"169.125074\" y=\"275.44843\" fill=\"#808080\" stroke=\"#808080\" stroke-width=\".8\" xlink:href=\"#c59785f48ee\"/><g transform=\"translate(162.76 290.05) scale(.1 -.1)\" fill=\"#808080\"><use xlink:href=\"#DejaVuSans-31\"/><use transform=\"translate(63.623)\" xlink:href=\"#DejaVuSans-30\"/></g><path d=\"m247.25 275.45v-83.445\" clip-path=\"url(#0d1a981d06a)\" fill=\"none\" stroke=\"#808080\" stroke-linecap=\"square\" stroke-opacity=\".1\" stroke-width=\".8\"/><use x=\"247.250658\" y=\"275.44843\" fill=\"#808080\" stroke=\"#808080\" stroke-width=\".8\" xlink:href=\"#c59785f48ee\"/><path d=\"m308.44 275.45v-83.445\" clip-path=\"url(#0d1a981d06a)\" fill=\"none\" stroke=\"#808080\" stroke-linecap=\"square\" stroke-opacity=\".1\" stroke-width=\".8\"/><use x=\"308.435285\" y=\"275.44843\" fill=\"#808080\" stroke=\"#808080\" stroke-width=\".8\" xlink:href=\"#c59785f48ee\"/><g transform=\"translate(166.54 303.72) scale(.1 -.1)\" fill=\"#808080\"><defs><path id=\"DejaVuSans-49\" transform=\"scale(.015625)\" d=\"m628 4666h631v-4666h-631v4666z\"/><path id=\"DejaVuSans-28\" transform=\"scale(.015625)\" d=\"m1984 4856q-418-718-622-1422-203-703-203-1425 0-721 205-1429t620-1424h-500q-468 735-701 1444t-233 1409q0 697 231 1403 232 707 703 1444h500z\"/><path id=\"DejaVuSans-75\" transform=\"scale(.015625)\" d=\"m544 1381v2119h575v-2097q0-497 193-746 194-248 582-248 465 0 735 297 271 297 271 810v1984h575v-3500h-575v538q-209-319-486-474-276-155-642-155-603 0-916 375-312 375-312 1097zm1447 2203z\"/><path id=\"DejaVuSans-6c\" transform=\"scale(.015625)\" d=\"m603 4863h575v-4863h-575v4863z\"/><path id=\"DejaVuSans-29\" transform=\"scale(.015625)\" d=\"m513 4856h500q468-737 701-1444 233-706 233-1403 0-700-233-1409t-701-1444h-500q415 716 620 1424t205 1429q0 722-205 1425-205 704-620 1422z\"/></defs><use xlink:href=\"#DejaVuSans-49\"/><use transform=\"translate(29.492)\" xlink:href=\"#DejaVuSans-74\"/><use transform=\"translate(68.701)\" xlink:href=\"#DejaVuSans-65\"/><use transform=\"translate(130.22)\" xlink:href=\"#DejaVuSans-72\"/><use transform=\"translate(171.34)\" xlink:href=\"#DejaVuSans-61\"/><use transform=\"translate(232.62)\" xlink:href=\"#DejaVuSans-74\"/><use transform=\"translate(271.83)\" xlink:href=\"#DejaVuSans-69\"/><use transform=\"translate(299.61)\" xlink:href=\"#DejaVuSans-6f\"/><use transform=\"translate(360.79)\" xlink:href=\"#DejaVuSans-6e\"/><use transform=\"translate(424.17)\" xlink:href=\"#DejaVuSans-20\"/><use transform=\"translate(455.96)\" xlink:href=\"#DejaVuSans-28\"/><use transform=\"translate(494.97)\" xlink:href=\"#DejaVuSans-66\"/><use transform=\"translate(530.18)\" xlink:href=\"#DejaVuSans-75\"/><use transform=\"translate(593.55)\" xlink:href=\"#DejaVuSans-6c\"/><use transform=\"translate(621.34)\" xlink:href=\"#DejaVuSans-6c\"/><use transform=\"translate(649.12)\" xlink:href=\"#DejaVuSans-29\"/></g><path d=\"m70.295 254.4h261.31\" clip-path=\"url(#0d1a981d06a)\" fill=\"none\" stroke=\"#808080\" stroke-linecap=\"square\" stroke-opacity=\".1\" stroke-width=\".8\"/><defs><path id=\"e9242c599c8\" d=\"m0 0h-3.5\" stroke=\"#c0a177\" stroke-width=\".8\"/></defs><use x=\"70.295313\" y=\"254.402398\" fill=\"#c0a177\" stroke=\"#c0a177\" stroke-width=\".8\" xlink:href=\"#e9242c599c8\"/><g transform=\"translate(21.942 258.2) scale(.1 -.1)\" fill=\"#c0a177\"><use xlink:href=\"#DejaVuSans-30\"/><use transform=\"translate(63.623)\" xlink:href=\"#DejaVuSans-2e\"/><use transform=\"translate(95.41)\" xlink:href=\"#DejaVuSans-30\"/><use transform=\"translate(159.03)\" xlink:href=\"#DejaVuSans-30\"/><use transform=\"translate(222.66)\" xlink:href=\"#DejaVuSans-31\"/><use transform=\"translate(286.28)\" xlink:href=\"#DejaVuSans-35\"/><use transform=\"translate(349.9)\" xlink:href=\"#DejaVuSans-30\"/></g><path d=\"m70.295 229.87h261.31\" clip-path=\"url(#0d1a981d06a)\" fill=\"none\" stroke=\"#808080\" stroke-linecap=\"square\" stroke-opacity=\".1\" stroke-width=\".8\"/><use x=\"70.295313\" y=\"229.868342\" fill=\"#c0a177\" stroke=\"#c0a177\" stroke-width=\".8\" xlink:href=\"#e9242c599c8\"/><g transform=\"translate(21.942 233.67) scale(.1 -.1)\" fill=\"#c0a177\"><use xlink:href=\"#DejaVuSans-30\"/><use transform=\"translate(63.623)\" xlink:href=\"#DejaVuSans-2e\"/><use transform=\"translate(95.41)\" xlink:href=\"#DejaVuSans-30\"/><use transform=\"translate(159.03)\" xlink:href=\"#DejaVuSans-30\"/><use transform=\"translate(222.66)\" xlink:href=\"#DejaVuSans-31\"/><use transform=\"translate(286.28)\" xlink:href=\"#DejaVuSans-35\"/><use transform=\"translate(349.9)\" xlink:href=\"#DejaVuSans-35\"/></g><path d=\"m70.295 205.33h261.31\" clip-path=\"url(#0d1a981d06a)\" fill=\"none\" stroke=\"#808080\" stroke-linecap=\"square\" stroke-opacity=\".1\" stroke-width=\".8\"/><use x=\"70.295313\" y=\"205.334287\" fill=\"#c0a177\" stroke=\"#c0a177\" stroke-width=\".8\" xlink:href=\"#e9242c599c8\"/><g transform=\"translate(21.942 209.13) scale(.1 -.1)\" fill=\"#c0a177\"><use xlink:href=\"#DejaVuSans-30\"/><use transform=\"translate(63.623)\" xlink:href=\"#DejaVuSans-2e\"/><use transform=\"translate(95.41)\" xlink:href=\"#DejaVuSans-30\"/><use transform=\"translate(159.03)\" xlink:href=\"#DejaVuSans-30\"/><use transform=\"translate(222.66)\" xlink:href=\"#DejaVuSans-31\"/><use transform=\"translate(286.28)\" xlink:href=\"#DejaVuSans-36\"/><use transform=\"translate(349.9)\" xlink:href=\"#DejaVuSans-30\"/></g><defs><path id=\"9eabd40741e\" d=\"m0 0h-2\" stroke=\"#c0a177\" stroke-width=\".6\"/></defs><use x=\"70.295313\" y=\"274.029642\" fill=\"#c0a177\" stroke=\"#c0a177\" stroke-width=\".6\" xlink:href=\"#9eabd40741e\"/><use x=\"70.295313\" y=\"269.122831\" fill=\"#c0a177\" stroke=\"#c0a177\" stroke-width=\".6\" xlink:href=\"#9eabd40741e\"/><use x=\"70.295313\" y=\"264.21602\" fill=\"#c0a177\" stroke=\"#c0a177\" stroke-width=\".6\" xlink:href=\"#9eabd40741e\"/><use x=\"70.295313\" y=\"259.309209\" fill=\"#c0a177\" stroke=\"#c0a177\" stroke-width=\".6\" xlink:href=\"#9eabd40741e\"/><use x=\"70.295313\" y=\"249.495586\" fill=\"#c0a177\" stroke=\"#c0a177\" stroke-width=\".6\" xlink:href=\"#9eabd40741e\"/><use x=\"70.295313\" y=\"244.588775\" fill=\"#c0a177\" stroke=\"#c0a177\" stroke-width=\".6\" xlink:href=\"#9eabd40741e\"/><use x=\"70.295313\" y=\"239.681964\" fill=\"#c0a177\" stroke=\"#c0a177\" stroke-width=\".6\" xlink:href=\"#9eabd40741e\"/><use x=\"70.295313\" y=\"234.775153\" fill=\"#c0a177\" stroke=\"#c0a177\" stroke-width=\".6\" xlink:href=\"#9eabd40741e\"/><use x=\"70.295313\" y=\"224.961531\" fill=\"#c0a177\" stroke=\"#c0a177\" stroke-width=\".6\" xlink:href=\"#9eabd40741e\"/><use x=\"70.295313\" y=\"220.05472\" fill=\"#c0a177\" stroke=\"#c0a177\" stroke-width=\".6\" xlink:href=\"#9eabd40741e\"/><use x=\"70.295313\" y=\"215.147909\" fill=\"#c0a177\" stroke=\"#c0a177\" stroke-width=\".6\" xlink:href=\"#9eabd40741e\"/><use x=\"70.295313\" y=\"210.241098\" fill=\"#c0a177\" stroke=\"#c0a177\" stroke-width=\".6\" xlink:href=\"#9eabd40741e\"/><use x=\"70.295313\" y=\"200.427475\" fill=\"#c0a177\" stroke=\"#c0a177\" stroke-width=\".6\" xlink:href=\"#9eabd40741e\"/><use x=\"70.295313\" y=\"195.520664\" fill=\"#c0a177\" stroke=\"#c0a177\" stroke-width=\".6\" xlink:href=\"#9eabd40741e\"/><path d=\"m75.176 232.78 9.7577-7.42e-4 9.7334 9.14e-4 9.6854 1.14e-4 9.6147-4.57e-4 9.5229 3.43e-4 9.4116-6.29e-4 9.2831 9.14e-4 9.1397 3.43e-4 8.9836-6.28e-4h8.8172l8.6428 38.879 8.4624-38.879 16.369 0.001257 7.9032-0.001257 7.7159 3.43e-4 7.5301-0.001257 7.3466 0.001657 7.1662 1.71e-4 20.456-9.14e-4 6.4856-7.43e-4 6.327 9.14e-4 6.1733 38.879 6.0246-38.879 5.8807 5.14e-4 5.7418-5.14e-4 5.6076-1.14e-4 5.4781 1.14e-4 5.3531-9.71e-4 5.2326 0.001142 5.1163-36.98 5.0041 36.978\" clip-path=\"url(#0d1a981d06a)\" fill=\"none\" stroke=\"#c0a177\" stroke-linecap=\"square\"/><path d=\"m70.295 275.45v-83.445\" fill=\"none\" stroke=\"#808080\" stroke-linecap=\"square\" stroke-width=\".8\"/><path d=\"m70.295 275.45h261.31\" fill=\"none\" stroke=\"#808080\" stroke-linecap=\"square\" stroke-width=\".8\"/><g transform=\"translate(83.361 199.6) scale(.1 -.1)\" fill=\"#c0a177\"><defs><path id=\"DejaVuSans-64\" transform=\"scale(.015625)\" d=\"m2906 2969v1894h575v-4863h-575v525q-181-312-458-464-276-152-664-152-634 0-1033 506-398 507-398 1332t398 1331q399 506 1033 506 388 0 664-152 277-151 458-463zm-1959-1222q0-634 261-995t717-361 718 361q263 361 263 995t-263 995q-262 361-718 361t-717-361-261-995z\"/><path id=\"DejaVuSans-63\" transform=\"scale(.015625)\" d=\"m3122 3366v-538q-244 135-489 202t-495 67q-560 0-870-355-309-354-309-995t309-996q310-354 870-354 250 0 495 67t489 202v-532q-241-112-499-168-257-57-548-57-791 0-1257 497-465 497-465 1341 0 856 470 1346 471 491 1290 491 265 0 518-55 253-54 491-163z\"/></defs><use xlink:href=\"#DejaVuSans-6d\"/><use transform=\"translate(97.412)\" xlink:href=\"#DejaVuSans-61\"/><use transform=\"translate(158.69)\" xlink:href=\"#DejaVuSans-78\"/><use transform=\"translate(217.87)\" xlink:href=\"#DejaVuSans-5f\"/><use transform=\"translate(267.87)\" xlink:href=\"#DejaVuSans-66\"/><use transform=\"translate(303.08)\" xlink:href=\"#DejaVuSans-69\"/><use transform=\"translate(330.86)\" xlink:href=\"#DejaVuSans-74\"/><use transform=\"translate(370.07)\" xlink:href=\"#DejaVuSans-5f\"/><use transform=\"translate(420.07)\" xlink:href=\"#DejaVuSans-64\"/><use transform=\"translate(483.54)\" xlink:href=\"#DejaVuSans-69\"/><use transform=\"translate(511.33)\" xlink:href=\"#DejaVuSans-73\"/><use transform=\"translate(563.43)\" xlink:href=\"#DejaVuSans-74\"/><use transform=\"translate(602.64)\" xlink:href=\"#DejaVuSans-61\"/><use transform=\"translate(663.92)\" xlink:href=\"#DejaVuSans-6e\"/><use transform=\"translate(727.29)\" xlink:href=\"#DejaVuSans-63\"/><use transform=\"translate(782.28)\" xlink:href=\"#DejaVuSans-65\"/><use transform=\"translate(843.8)\" xlink:href=\"#DejaVuSans-73\"/></g><path d=\"m342.49 275.45h174.2v-83.445h-174.2v83.445z\" fill=\"none\"/><path d=\"m376.36 275.45v-83.445\" clip-path=\"url(#3b001df1517)\" fill=\"none\" stroke=\"#808080\" stroke-linecap=\"square\" stroke-opacity=\".1\" stroke-width=\".8\"/><use x=\"376.363605\" y=\"275.44843\" fill=\"#808080\" stroke=\"#808080\" stroke-width=\".8\" xlink:href=\"#c59785f48ee\"/><g transform=\"translate(370 290.05) scale(.1 -.1)\" fill=\"#808080\"><use xlink:href=\"#DejaVuSans-32\"/><use transform=\"translate(63.623)\" xlink:href=\"#DejaVuSans-30\"/></g><path d=\"m424.75 275.45v-83.445\" clip-path=\"url(#3b001df1517)\" fill=\"none\" stroke=\"#808080\" stroke-linecap=\"square\" stroke-opacity=\".1\" stroke-width=\".8\"/><use x=\"424.753849\" y=\"275.44843\" fill=\"#808080\" stroke=\"#808080\" stroke-width=\".8\" xlink:href=\"#c59785f48ee\"/><g transform=\"translate(418.39 290.05) scale(.1 -.1)\" fill=\"#808080\"><use xlink:href=\"#DejaVuSans-32\"/><use transform=\"translate(63.623)\" xlink:href=\"#DejaVuSans-35\"/></g><path d=\"m473.14 275.45v-83.445\" clip-path=\"url(#3b001df1517)\" fill=\"none\" stroke=\"#808080\" stroke-linecap=\"square\" stroke-opacity=\".1\" stroke-width=\".8\"/><use x=\"473.144093\" y=\"275.44843\" fill=\"#808080\" stroke=\"#808080\" stroke-width=\".8\" xlink:href=\"#c59785f48ee\"/><g transform=\"translate(466.78 290.05) scale(.1 -.1)\" fill=\"#808080\"><use xlink:href=\"#DejaVuSans-33\"/><use transform=\"translate(63.623)\" xlink:href=\"#DejaVuSans-30\"/></g><use x=\"347.329459\" y=\"275.44843\" fill=\"#808080\" stroke=\"#808080\" stroke-width=\".6\" xlink:href=\"#772668354ca\"/><use x=\"357.007508\" y=\"275.44843\" fill=\"#808080\" stroke=\"#808080\" stroke-width=\".6\" xlink:href=\"#772668354ca\"/><use x=\"366.685556\" y=\"275.44843\" fill=\"#808080\" stroke=\"#808080\" stroke-width=\".6\" xlink:href=\"#772668354ca\"/><use x=\"386.041654\" y=\"275.44843\" fill=\"#808080\" stroke=\"#808080\" stroke-width=\".6\" xlink:href=\"#772668354ca\"/><use x=\"395.719703\" y=\"275.44843\" fill=\"#808080\" stroke=\"#808080\" stroke-width=\".6\" xlink:href=\"#772668354ca\"/><use x=\"405.397752\" y=\"275.44843\" fill=\"#808080\" stroke=\"#808080\" stroke-width=\".6\" xlink:href=\"#772668354ca\"/><use x=\"415.0758\" y=\"275.44843\" fill=\"#808080\" stroke=\"#808080\" stroke-width=\".6\" xlink:href=\"#772668354ca\"/><use x=\"434.431898\" y=\"275.44843\" fill=\"#808080\" stroke=\"#808080\" stroke-width=\".6\" xlink:href=\"#772668354ca\"/><use x=\"444.109947\" y=\"275.44843\" fill=\"#808080\" stroke=\"#808080\" stroke-width=\".6\" xlink:href=\"#772668354ca\"/><use x=\"453.787995\" y=\"275.44843\" fill=\"#808080\" stroke=\"#808080\" stroke-width=\".6\" xlink:href=\"#772668354ca\"/><use x=\"463.466044\" y=\"275.44843\" fill=\"#808080\" stroke=\"#808080\" stroke-width=\".6\" xlink:href=\"#772668354ca\"/><use x=\"482.822142\" y=\"275.44843\" fill=\"#808080\" stroke=\"#808080\" stroke-width=\".6\" xlink:href=\"#772668354ca\"/><use x=\"492.500191\" y=\"275.44843\" fill=\"#808080\" stroke=\"#808080\" stroke-width=\".6\" xlink:href=\"#772668354ca\"/><use x=\"502.178239\" y=\"275.44843\" fill=\"#808080\" stroke=\"#808080\" stroke-width=\".6\" xlink:href=\"#772668354ca\"/><use x=\"511.856288\" y=\"275.44843\" fill=\"#808080\" stroke=\"#808080\" stroke-width=\".6\" xlink:href=\"#772668354ca\"/><g transform=\"translate(389.28 303.72) scale(.1 -.1)\" fill=\"#808080\"><defs><path id=\"DejaVuSans-7a\" transform=\"scale(.015625)\" d=\"m353 3500h2731v-525l-2162-2516h2162v-459h-2809v525l2163 2516h-2085v459z\"/></defs><use xlink:href=\"#DejaVuSans-49\"/><use transform=\"translate(29.492)\" xlink:href=\"#DejaVuSans-74\"/><use transform=\"translate(68.701)\" xlink:href=\"#DejaVuSans-65\"/><use transform=\"translate(130.22)\" xlink:href=\"#DejaVuSans-72\"/><use transform=\"translate(171.34)\" xlink:href=\"#DejaVuSans-61\"/><use transform=\"translate(232.62)\" xlink:href=\"#DejaVuSans-74\"/><use transform=\"translate(271.83)\" xlink:href=\"#DejaVuSans-69\"/><use transform=\"translate(299.61)\" xlink:href=\"#DejaVuSans-6f\"/><use transform=\"translate(360.79)\" xlink:href=\"#DejaVuSans-6e\"/><use transform=\"translate(424.17)\" xlink:href=\"#DejaVuSans-20\"/><use transform=\"translate(455.96)\" xlink:href=\"#DejaVuSans-28\"/><use transform=\"translate(494.97)\" xlink:href=\"#DejaVuSans-7a\"/><use transform=\"translate(547.46)\" xlink:href=\"#DejaVuSans-6f\"/><use transform=\"translate(608.64)\" xlink:href=\"#DejaVuSans-6f\"/><use transform=\"translate(669.82)\" xlink:href=\"#DejaVuSans-6d\"/><use transform=\"translate(767.24)\" xlink:href=\"#DejaVuSans-29\"/></g><path d=\"m342.49 254.4h174.2\" clip-path=\"url(#3b001df1517)\" fill=\"none\" stroke=\"#808080\" stroke-linecap=\"square\" stroke-opacity=\".1\" stroke-width=\".8\"/><defs><path id=\"f11ab5571f7\" d=\"m0 0h3.5\" stroke=\"#c0a177\" stroke-width=\".8\"/></defs><use x=\"516.695313\" y=\"254.40253\" fill=\"#c0a177\" stroke=\"#c0a177\" stroke-width=\".8\" xlink:href=\"#f11ab5571f7\"/><g transform=\"translate(523.7 258.2) scale(.1 -.1)\" fill=\"#c0a177\"><use xlink:href=\"#DejaVuSans-30\"/><use transform=\"translate(63.623)\" xlink:href=\"#DejaVuSans-2e\"/><use transform=\"translate(95.41)\" xlink:href=\"#DejaVuSans-30\"/><use transform=\"translate(159.03)\" xlink:href=\"#DejaVuSans-30\"/><use transform=\"translate(222.66)\" xlink:href=\"#DejaVuSans-31\"/><use transform=\"translate(286.28)\" xlink:href=\"#DejaVuSans-35\"/><use transform=\"translate(349.9)\" xlink:href=\"#DejaVuSans-30\"/></g><path d=\"m342.49 229.87h174.2\" clip-path=\"url(#3b001df1517)\" fill=\"none\" stroke=\"#808080\" stroke-linecap=\"square\" stroke-opacity=\".1\" stroke-width=\".8\"/><use x=\"516.695313\" y=\"229.868419\" fill=\"#c0a177\" stroke=\"#c0a177\" stroke-width=\".8\" xlink:href=\"#f11ab5571f7\"/><g transform=\"translate(523.7 233.67) scale(.1 -.1)\" fill=\"#c0a177\"><use xlink:href=\"#DejaVuSans-30\"/><use transform=\"translate(63.623)\" xlink:href=\"#DejaVuSans-2e\"/><use transform=\"translate(95.41)\" xlink:href=\"#DejaVuSans-30\"/><use transform=\"translate(159.03)\" xlink:href=\"#DejaVuSans-30\"/><use transform=\"translate(222.66)\" xlink:href=\"#DejaVuSans-31\"/><use transform=\"translate(286.28)\" xlink:href=\"#DejaVuSans-35\"/><use transform=\"translate(349.9)\" xlink:href=\"#DejaVuSans-35\"/></g><path d=\"m342.49 205.33h174.2\" clip-path=\"url(#3b001df1517)\" fill=\"none\" stroke=\"#808080\" stroke-linecap=\"square\" stroke-opacity=\".1\" stroke-width=\".8\"/><use x=\"516.695313\" y=\"205.334308\" fill=\"#c0a177\" stroke=\"#c0a177\" stroke-width=\".8\" xlink:href=\"#f11ab5571f7\"/><g transform=\"translate(523.7 209.13) scale(.1 -.1)\" fill=\"#c0a177\"><use xlink:href=\"#DejaVuSans-30\"/><use transform=\"translate(63.623)\" xlink:href=\"#DejaVuSans-2e\"/><use transform=\"translate(95.41)\" xlink:href=\"#DejaVuSans-30\"/><use transform=\"translate(159.03)\" xlink:href=\"#DejaVuSans-30\"/><use transform=\"translate(222.66)\" xlink:href=\"#DejaVuSans-31\"/><use transform=\"translate(286.28)\" xlink:href=\"#DejaVuSans-36\"/><use transform=\"translate(349.9)\" xlink:href=\"#DejaVuSans-30\"/></g><defs><path id=\"b7f3e8f85eb\" d=\"m0 0h2\" stroke=\"#c0a177\" stroke-width=\".6\"/></defs><use x=\"516.695313\" y=\"274.029819\" fill=\"#c0a177\" stroke=\"#c0a177\" stroke-width=\".6\" xlink:href=\"#b7f3e8f85eb\"/><use x=\"516.695313\" y=\"269.122997\" fill=\"#c0a177\" stroke=\"#c0a177\" stroke-width=\".6\" xlink:href=\"#b7f3e8f85eb\"/><use x=\"516.695313\" y=\"264.216174\" fill=\"#c0a177\" stroke=\"#c0a177\" stroke-width=\".6\" xlink:href=\"#b7f3e8f85eb\"/><use x=\"516.695313\" y=\"259.309352\" fill=\"#c0a177\" stroke=\"#c0a177\" stroke-width=\".6\" xlink:href=\"#b7f3e8f85eb\"/><use x=\"516.695313\" y=\"249.495708\" fill=\"#c0a177\" stroke=\"#c0a177\" stroke-width=\".6\" xlink:href=\"#b7f3e8f85eb\"/><use x=\"516.695313\" y=\"244.588886\" fill=\"#c0a177\" stroke=\"#c0a177\" stroke-width=\".6\" xlink:href=\"#b7f3e8f85eb\"/><use x=\"516.695313\" y=\"239.682063\" fill=\"#c0a177\" stroke=\"#c0a177\" stroke-width=\".6\" xlink:href=\"#b7f3e8f85eb\"/><use x=\"516.695313\" y=\"234.775241\" fill=\"#c0a177\" stroke=\"#c0a177\" stroke-width=\".6\" xlink:href=\"#b7f3e8f85eb\"/><use x=\"516.695313\" y=\"224.961597\" fill=\"#c0a177\" stroke=\"#c0a177\" stroke-width=\".6\" xlink:href=\"#b7f3e8f85eb\"/><use x=\"516.695313\" y=\"220.054775\" fill=\"#c0a177\" stroke=\"#c0a177\" stroke-width=\".6\" xlink:href=\"#b7f3e8f85eb\"/><use x=\"516.695313\" y=\"215.147952\" fill=\"#c0a177\" stroke=\"#c0a177\" stroke-width=\".6\" xlink:href=\"#b7f3e8f85eb\"/><use x=\"516.695313\" y=\"210.24113\" fill=\"#c0a177\" stroke=\"#c0a177\" stroke-width=\".6\" xlink:href=\"#b7f3e8f85eb\"/><use x=\"516.695313\" y=\"200.427486\" fill=\"#c0a177\" stroke=\"#c0a177\" stroke-width=\".6\" xlink:href=\"#b7f3e8f85eb\"/><use x=\"516.695313\" y=\"195.520664\" fill=\"#c0a177\" stroke=\"#c0a177\" stroke-width=\".6\" xlink:href=\"#b7f3e8f85eb\"/><path d=\"m347.33 232.78 9.678 0.001656 9.678 1.71e-4 38.712-0.001656 9.678 9.14e-4 9.678 38.879 9.678-38.879 9.678 5.14e-4 9.678-5.14e-4 9.678-1.15e-4 9.678 1.15e-4 9.678-9.72e-4 9.678 0.001143 9.678-36.98 9.678 36.978\" clip-path=\"url(#3b001df1517)\" fill=\"none\" stroke=\"#c0a177\" stroke-linecap=\"square\" stroke-width=\"1.5\"/><defs><path id=\"96c54098e5f\" d=\"m0 1.5v-3\" stroke=\"#c0a177\"/></defs><g clip-path=\"url(#3b001df1517)\" fill=\"#c0a177\" stroke=\"#c0a177\"><use x=\"347.329459\" y=\"232.775155\" xlink:href=\"#96c54098e5f\"/><use x=\"357.007508\" y=\"232.776811\" xlink:href=\"#96c54098e5f\"/><use x=\"366.685556\" y=\"232.776982\" xlink:href=\"#96c54098e5f\"/><use x=\"376.363605\" y=\"232.776811\" xlink:href=\"#96c54098e5f\"/><use x=\"386.041654\" y=\"232.776411\" xlink:href=\"#96c54098e5f\"/><use x=\"395.719703\" y=\"232.776069\" xlink:href=\"#96c54098e5f\"/><use x=\"405.397752\" y=\"232.775326\" xlink:href=\"#96c54098e5f\"/><use x=\"415.0758\" y=\"232.77624\" xlink:href=\"#96c54098e5f\"/><use x=\"424.753849\" y=\"271.655476\" xlink:href=\"#96c54098e5f\"/><use x=\"434.431898\" y=\"232.776069\" xlink:href=\"#96c54098e5f\"/><use x=\"444.109947\" y=\"232.776583\" xlink:href=\"#96c54098e5f\"/><use x=\"453.787995\" y=\"232.776069\" xlink:href=\"#96c54098e5f\"/><use x=\"463.466044\" y=\"232.775954\" xlink:href=\"#96c54098e5f\"/><use x=\"473.144093\" y=\"232.776069\" xlink:href=\"#96c54098e5f\"/><use x=\"482.822142\" y=\"232.775097\" xlink:href=\"#96c54098e5f\"/><use x=\"492.500191\" y=\"232.77624\" xlink:href=\"#96c54098e5f\"/><use x=\"502.178239\" y=\"195.796398\" xlink:href=\"#96c54098e5f\"/><use x=\"511.856288\" y=\"232.774812\" xlink:href=\"#96c54098e5f\"/></g><path d=\"m516.7 275.45v-83.445\" fill=\"none\" stroke=\"#808080\" stroke-linecap=\"square\" stroke-width=\".8\"/><path d=\"m342.49 275.45h174.2\" fill=\"none\" stroke=\"#808080\" stroke-linecap=\"square\" stroke-width=\".8\"/><defs><clipPath id=\"a2b91d14da6\"><rect x=\"70.295\" y=\"8.4245\" width=\"261.31\" height=\"83.445\"/></clipPath><clipPath id=\"e3bac8d0e10\"><rect x=\"342.49\" y=\"8.4245\" width=\"174.2\" height=\"83.445\"/></clipPath><clipPath id=\"c44e4217e55\"><rect x=\"70.295\" y=\"100.21\" width=\"261.31\" height=\"83.445\"/></clipPath><clipPath id=\"05bdc76085b\"><rect x=\"342.49\" y=\"100.21\" width=\"174.2\" height=\"83.445\"/></clipPath><clipPath id=\"0d1a981d06a\"><rect x=\"70.295\" y=\"192\" width=\"261.31\" height=\"83.445\"/></clipPath><clipPath id=\"3b001df1517\"><rect x=\"342.49\" y=\"192\" width=\"174.2\" height=\"83.445\"/></clipPath></defs></svg>"
      ],
      "text/plain": [
       "<Figure size 800x481.645 with 6 Axes>"
      ]
     },
     "metadata": {},
     "output_type": "display_data"
    },
    {
     "name": "stdout",
     "output_type": "stream",
     "text": [
      "done! found STOP file\n"
     ]
    }
   ],
   "source": [
    "pbar = tqdm.trange(100)\n",
    "\n",
    "for i in pbar:\n",
    "\n",
    "    ordering = [\n",
    "        (xe_pairs, 2, 1),\n",
    "        (ye_pairs, 1, 2),\n",
    "        (xo_pairs, 2, 1),\n",
    "        (yo_pairs, 1, 2),\n",
    "    ]\n",
    "    # random.shuffle(ordering)\n",
    "\n",
    "    ordering = [\n",
    "        (*ordering[0], tau / 2),\n",
    "        (*ordering[1], tau / 2),\n",
    "        (*ordering[2], tau / 2),\n",
    "        (*ordering[3], tau),\n",
    "        (*ordering[2], tau / 2),\n",
    "        (*ordering[1], tau / 2),\n",
    "        (*ordering[0], tau / 2),\n",
    "    ]\n",
    "\n",
    "    # ordering = [\n",
    "    #     (xe_pairs, 2, 1, tau / 2),\n",
    "    #     (ye_pairs, 1, 2, tau / 2),\n",
    "    #     (xo_pairs, 2, 1, tau / 2),\n",
    "    #     (yo_pairs, 1, 2, tau),\n",
    "    #     (xo_pairs, 2, 1, tau / 2),\n",
    "    #     (ye_pairs, 1, 2, tau / 2),\n",
    "    #     (xe_pairs, 2, 1, tau / 2),\n",
    "    # ]\n",
    "\n",
    "    # ordering = [\n",
    "    #     (xe_pairs, 2, 1, tau),\n",
    "    #     (ye_pairs, 1, 2, tau),\n",
    "    #     (xo_pairs, 2, 1, tau),\n",
    "    #     (yo_pairs, 1, 2, tau),\n",
    "    # ]\n",
    "\n",
    "    # envs |= norm.compute_plaquette_environments(\n",
    "    #     x_bsz=2,\n",
    "    #     y_bsz=1,\n",
    "    #     **contract_boundary_opts\n",
    "    # )\n",
    "    # envs |= norm.compute_plaquette_environments(\n",
    "    #     x_bsz=1,\n",
    "    #     y_bsz=2,\n",
    "    #     **contract_boundary_opts\n",
    "    # )\n",
    "\n",
    "    # energy = ket.compute_local_expectation(\n",
    "    #     ham.terms,\n",
    "    #     normalized=True,\n",
    "    #     plaquette_envs=envs,\n",
    "    #     **contract_boundary_opts\n",
    "    # ) / ket.nsites\n",
    "\n",
    "    max_fit_iterations.append(0)\n",
    "    max_fit_distances.append(0.0)\n",
    "\n",
    "    for pairs, x_bsz, y_bsz, tau_l in ordering:\n",
    "\n",
    "        envs = norm.compute_plaquette_environments(\n",
    "            x_bsz=x_bsz,\n",
    "            y_bsz=y_bsz,\n",
    "            **contract_boundary_opts\n",
    "        )\n",
    "\n",
    "        for cooa, coob in pairs:\n",
    "            taga, tagb = map(ket.site_tag, [cooa, coob])\n",
    "\n",
    "            # apply gate uncompressed\n",
    "            G = ham.get_gate_expm([cooa, coob], -tau_l)\n",
    "            ket.gate_(\n",
    "                G, [cooa, coob],\n",
    "                max_bond=None,\n",
    "                cutoff=0.0,\n",
    "                contract=\"reduce-split\",\n",
    "            )\n",
    "\n",
    "            # reflect changes into bra\n",
    "            tkl = ket[taga]\n",
    "            tkr = ket[tagb]\n",
    "            tbl = bra[taga]\n",
    "            tbr = bra[tagb]\n",
    "            tbl.modify(data=tkl.data.conj())\n",
    "            tbr.modify(data=tkr.data.conj())\n",
    "\n",
    "            # form local plaquette with boundary\n",
    "            tn = (\n",
    "                norm.select_any([taga, tagb], virtual=False) |\n",
    "                envs[cooa, (x_bsz, y_bsz)]\n",
    "            )\n",
    "            # cut open bond in ket and bra\n",
    "            tn.cut_between([\"KET\", taga], [\"KET\", tagb], \"kl\", \"kr\")\n",
    "            tn.cut_between([\"BRA\", taga], [\"BRA\", tagb], \"bl\", \"br\")\n",
    "\n",
    "            # contract bond environment\n",
    "            tE = tn.contract(\n",
    "                optimize=\"auto-hq\",\n",
    "                output_inds=[\"kl\", \"kr\", \"bl\", \"br\"]\n",
    "            )\n",
    "\n",
    "            # compute projectors!\n",
    "            info = {}\n",
    "            Pl, _, Pr = compute_bondenv_projectors(\n",
    "                tE.data,\n",
    "                max_bond=D,\n",
    "                max_iterations=100,\n",
    "                tol=tol,\n",
    "                prenormalize=True,\n",
    "                condition=True,\n",
    "                enforce_pos=True,\n",
    "                pos_smudge=tol,\n",
    "                solver=\"solve\",\n",
    "                info=info,\n",
    "                init=\"svd\",\n",
    "            )\n",
    "\n",
    "            max_fit_iterations[-1] = max(\n",
    "                int(info[\"iterations\"]),\n",
    "                max_fit_iterations[-1]\n",
    "            )\n",
    "            max_fit_distances[-1] = max(\n",
    "                float(info[\"distance\"]),\n",
    "                max_fit_distances[-1],\n",
    "            )\n",
    "\n",
    "            # absorb projectors, reflect into bra as well\n",
    "            bix, = tkl.bonds(tkr)\n",
    "            tkl.gate_(Pl, bix, transposed=True)\n",
    "            tkr.gate_(Pr, bix)\n",
    "            tbl.modify(data=tkl.data.conj())\n",
    "            tbr.modify(data=tkr.data.conj())\n",
    "\n",
    "    # condition and gauge\n",
    "    gauges = {}\n",
    "    ket.gauge_all_simple_(1000, tol, gauges=gauges, progbar=False)\n",
    "    ket.normalize_simple(gauges)\n",
    "    ket.gauge_simple_insert(gauges)\n",
    "\n",
    "    # ket.balance_bonds_()\n",
    "    # ket.equalize_norms_(value=1.0)\n",
    "    # ket.exponent = 0.0\n",
    "\n",
    "    for tk, tb in zip(ket, bra):\n",
    "        tb.modify(data=tk.data.conj())\n",
    "\n",
    "    energy = ket.compute_local_expectation(\n",
    "        ham.terms,\n",
    "        normalized=True,\n",
    "        **contract_boundary_opts\n",
    "    ) / ket.nsites\n",
    "\n",
    "    energies.append(float(energy))\n",
    "    pbar.set_description(f\"{energy}\")\n",
    "\n",
    "    if i % 1 == 0:\n",
    "        qu.plot_multi_series_zoom(\n",
    "            {\n",
    "                \"energies\": energies,\n",
    "                \"max_fit_iterations\": max_fit_iterations,\n",
    "                \"max_fit_distances\": max_fit_distances,\n",
    "            },\n",
    "            clear_previous=True\n",
    "        );\n",
    "\n",
    "    if len(energies) >= 5 and np.std(energies[-6:]) < 1e-8:\n",
    "        msg = \"energy converged!\"\n",
    "        break\n",
    "\n",
    "    if (len(energies) >= 4) and all(\n",
    "        e1 < e2 for e1, e2 in zip(energies[-4:-1], energies[-3:])\n",
    "    ):\n",
    "        msg = \"energy went up!\"\n",
    "        break\n",
    "\n",
    "    if check_stop():\n",
    "        msg = \"found STOP file\"\n",
    "        break\n",
    "\n",
    "pbar.close()\n",
    "qu.plot_multi_series_zoom(\n",
    "    {\n",
    "        \"energies\": energies,\n",
    "        \"max_fit_iterations\": max_fit_iterations,\n",
    "        \"max_fit_distances\": max_fit_distances,\n",
    "    },\n",
    "    clear_previous=True\n",
    ");\n",
    "print(f\"done! {msg}\")"
   ]
  },
  {
   "cell_type": "code",
   "execution_count": 23,
   "id": "2ffddd9c-0187-4eca-8f18-1f073040778a",
   "metadata": {},
   "outputs": [
    {
     "data": {
      "text/plain": [
       "np.float64(2.497395890946495e-07)"
      ]
     },
     "execution_count": 23,
     "metadata": {},
     "output_type": "execute_result"
    }
   ],
   "source": [
    "np.std(energies[-6:])"
   ]
  },
  {
   "cell_type": "code",
   "execution_count": 24,
   "id": "6fe2b852-7767-42ce-9f6b-9857773f6e2e",
   "metadata": {},
   "outputs": [
    {
     "data": {
      "text/plain": [
       "5.364418029785156e-07"
      ]
     },
     "execution_count": 24,
     "metadata": {},
     "output_type": "execute_result"
    }
   ],
   "source": [
    "energies[-1] - energies[-2]"
   ]
  },
  {
   "cell_type": "code",
   "execution_count": 25,
   "id": "34d22a9c-266c-41c0-9f77-0785bdd97aa6",
   "metadata": {},
   "outputs": [
    {
     "data": {
      "text/plain": [
       "0.0037605267052620572"
      ]
     },
     "execution_count": 25,
     "metadata": {},
     "output_type": "execute_result"
    }
   ],
   "source": [
    "1 - (energies[-1] / -0.628673)"
   ]
  },
  {
   "cell_type": "code",
   "execution_count": 26,
   "id": "d50a3d5d-c3d3-46e7-a43a-9595cf32ec1c",
   "metadata": {},
   "outputs": [
    {
     "data": {
      "text/plain": [
       "(10, 4)"
      ]
     },
     "execution_count": 26,
     "metadata": {},
     "output_type": "execute_result"
    }
   ],
   "source": [
    "L, D"
   ]
  },
  {
   "cell_type": "code",
   "execution_count": 27,
   "id": "d5e849c2-7608-4a95-8edc-cf7aacd2516f",
   "metadata": {},
   "outputs": [
    {
     "data": {
      "text/plain": [
       "['psi_heis_fu_10x10_D4.dmp']"
      ]
     },
     "execution_count": 27,
     "metadata": {},
     "output_type": "execute_result"
    }
   ],
   "source": [
    "ket_save = ket.copy()\n",
    "ket_save.apply_to_arrays(lambda x: ar.do(\"to_numpy\", x))\n",
    "# fname = \"test.psi\"\n",
    "fname = f\"psi_heis_fu_{L}x{L}_D{D}.dmp\"\n",
    "# print(fname)\n",
    "qu.save_to_disk(ket_save, fname)"
   ]
  },
  {
   "cell_type": "code",
   "execution_count": 67,
   "id": "2ca9ceef-a6b7-4e33-abea-2178d2e468c3",
   "metadata": {},
   "outputs": [],
   "source": [
    "results = {}\n",
    "times = {}"
   ]
  },
  {
   "cell_type": "code",
   "execution_count": 31,
   "id": "9cb613e2-05ea-449e-bcb5-ee26e66f7059",
   "metadata": {},
   "outputs": [],
   "source": [
    "results_alt = {}\n",
    "times_alt = {}"
   ]
  },
  {
   "cell_type": "code",
   "execution_count": 32,
   "id": "6a3e39c2-fd60-4c64-9027-df931372d1a9",
   "metadata": {},
   "outputs": [],
   "source": [
    "results_mps = {}\n",
    "times_mps = {}"
   ]
  },
  {
   "cell_type": "code",
   "execution_count": 33,
   "id": "b9de48b9-986e-4eee-ae94-2f5d56f964ca",
   "metadata": {},
   "outputs": [],
   "source": [
    "results_sl = {}\n",
    "times_sl = {}"
   ]
  },
  {
   "cell_type": "code",
   "execution_count": 34,
   "id": "1797bc49-0b58-494d-8b04-cc43992cc87d",
   "metadata": {},
   "outputs": [],
   "source": [
    "results_zp = {}\n",
    "times_zp = {}"
   ]
  },
  {
   "cell_type": "code",
   "execution_count": 35,
   "id": "83baadc9-a8c0-4352-8873-0499fc589370",
   "metadata": {},
   "outputs": [
    {
     "data": {
      "text/plain": [
       "{128: -0.6276381207999371}"
      ]
     },
     "execution_count": 35,
     "metadata": {},
     "output_type": "execute_result"
    }
   ],
   "source": [
    "mb = 128\n",
    "with xyz.Timer() as timer:\n",
    "    results[mb] = float(ket.compute_local_expectation(\n",
    "        ham.terms,\n",
    "        max_bond=mb,\n",
    "        cutoff=0.0,\n",
    "        # layer_tags=['KET', 'BRA'], mode=\"mps\",\n",
    "        layer_tags=None,\n",
    "        mode=\"fit-zipup\", bsz=1,\n",
    "        normalized=True,\n",
    "        equalize_norms=1.0,\n",
    "    )) / ket.nsites\n",
    "times[mb] = timer.time\n",
    "results"
   ]
  },
  {
   "cell_type": "code",
   "execution_count": 1,
   "id": "f0668f0e-7de0-4080-8424-d436ffee87c4",
   "metadata": {},
   "outputs": [],
   "source": [
    "# mb = 128\n",
    "# with xyz.Timer() as timer:\n",
    "#     results_alt[mb] = float(ket.compute_local_expectation(\n",
    "#         ham.terms,\n",
    "#         max_bond=mb,\n",
    "#         cutoff=0.0,\n",
    "#         # layer_tags=['KET', 'BRA'], mode=\"mps\",\n",
    "#         layer_tags=None,\n",
    "#         mode=\"fit-zipup\", bsz=1, max_iterations=100, tol=1e-6, progbar=True,\n",
    "#         normalized=True,\n",
    "#         equalize_norms=1.0,\n",
    "#     )) / ket.nsites\n",
    "# times_alt[mb] = timer.time\n",
    "# results_alt"
   ]
  },
  {
   "cell_type": "code",
   "execution_count": 95,
   "id": "f4f16070-19ee-42c9-ba9e-013a182d4cd2",
   "metadata": {},
   "outputs": [
    {
     "data": {
      "text/plain": [
       "{12: -0.618023338317871,\n",
       " 16: -0.6213775634765625,\n",
       " 20: -0.623693962097168,\n",
       " 24: -0.6249089431762695,\n",
       " 32: -0.626212272644043,\n",
       " 40: -0.6269072723388672,\n",
       " 48: -0.6272005462646484,\n",
       " 64: -0.6273913192749023,\n",
       " 80: -0.6274674224853516,\n",
       " 96: -0.6274972152709961,\n",
       " 128: -0.6275207138061524}"
      ]
     },
     "execution_count": 95,
     "metadata": {},
     "output_type": "execute_result"
    }
   ],
   "source": [
    "with xyz.Timer() as timer:\n",
    "    results_mps[mb] = float(ket.compute_local_expectation(\n",
    "        ham.terms,\n",
    "        max_bond=mb,\n",
    "        cutoff=0.0,\n",
    "        layer_tags=['KET', 'BRA'], mode=\"mps\",\n",
    "        normalized=True,\n",
    "        equalize_norms=1.0,\n",
    "    )) / ket.nsites\n",
    "times_mps[mb] = timer.time\n",
    "results_mps"
   ]
  },
  {
   "cell_type": "code",
   "execution_count": 96,
   "id": "980f71d7-5c53-4859-831e-785f08697e74",
   "metadata": {},
   "outputs": [
    {
     "data": {
      "text/plain": [
       "{12: -0.6186043930053711,\n",
       " 16: -0.6213700485229492,\n",
       " 20: -0.6235730743408203,\n",
       " 24: -0.6248972702026367,\n",
       " 32: -0.6262614059448243,\n",
       " 40: -0.6269118118286133,\n",
       " 48: -0.6271938705444335,\n",
       " 64: -0.6273900604248047,\n",
       " 80: -0.6274678039550782,\n",
       " 96: -0.6274980163574219,\n",
       " 128: -0.6275214385986329}"
      ]
     },
     "execution_count": 96,
     "metadata": {},
     "output_type": "execute_result"
    }
   ],
   "source": [
    "with xyz.Timer() as timer:\n",
    "    results_sl[mb] = float(ket.compute_local_expectation(\n",
    "        ham.terms,\n",
    "        max_bond=mb,\n",
    "        cutoff=0.0,\n",
    "        layer_tags=['KET', 'BRA'], mode=\"fit-zipup\", bsz=1,\n",
    "        normalized=True,\n",
    "        equalize_norms=1.0,\n",
    "    )) / ket.nsites\n",
    "times_sl[mb] = timer.time\n",
    "results_sl"
   ]
  },
  {
   "cell_type": "code",
   "execution_count": 97,
   "id": "422ba7c3-5094-4b8b-a326-537afed740d3",
   "metadata": {},
   "outputs": [
    {
     "data": {
      "text/plain": [
       "{12: -0.6116277694702148,\n",
       " 16: -0.6167369079589844,\n",
       " 20: -0.6199177551269531,\n",
       " 24: -0.6225700378417969,\n",
       " 32: -0.6251069259643555,\n",
       " 40: -0.6262606048583984,\n",
       " 48: -0.626738166809082,\n",
       " 64: -0.6270943832397461,\n",
       " 80: -0.627299919128418,\n",
       " 96: -0.627377815246582,\n",
       " 128: -0.627459716796875}"
      ]
     },
     "execution_count": 97,
     "metadata": {},
     "output_type": "execute_result"
    }
   ],
   "source": [
    "with xyz.Timer() as timer:\n",
    "    results_zp[mb] = float(ket.compute_local_expectation(\n",
    "        ham.terms,\n",
    "        max_bond=mb,\n",
    "        cutoff=0.0,\n",
    "        layer_tags=['KET', 'BRA'], mode=\"zipup\",\n",
    "        normalized=True,\n",
    "        equalize_norms=1.0,\n",
    "    )) / ket.nsites\n",
    "times_zp[mb] = timer.time\n",
    "results_zp"
   ]
  },
  {
   "cell_type": "code",
   "execution_count": 54,
   "id": "7c9d2c35-7cea-478a-b7bb-29ff06de9dc8",
   "metadata": {},
   "outputs": [
    {
     "data": {
      "image/svg+xml": [
       "<?xml version=\"1.0\" encoding=\"UTF-8\"?><!DOCTYPE svg  PUBLIC '-//W3C//DTD SVG 1.1//EN'  'http://www.w3.org/Graphics/SVG/1.1/DTD/svg11.dtd'><svg width=\"385.31pt\" height=\"297.19pt\" version=\"1.1\" viewBox=\"0 0 385.31 297.19\" xmlns=\"http://www.w3.org/2000/svg\" xmlns:xlink=\"http://www.w3.org/1999/xlink\"><defs><style type=\"text/css\">*{stroke-linejoin: round; stroke-linecap: butt}</style></defs><path d=\"m0 297.19h385.31v-297.19h-385.31v297.19z\" fill=\"none\"/><path d=\"m20.986 273.31h357.12v-266.11h-357.12v266.11z\" fill=\"none\"/><path d=\"m37.219 273.31v-266.11\" clip-path=\"url(#03f5099c9a5)\" fill=\"none\" stroke=\"#808080\" stroke-linecap=\"square\" stroke-opacity=\".1\" stroke-width=\".8\"/><defs><path id=\"41fa4e7d473\" d=\"m0 0v3.5\" stroke=\"#808080\" stroke-width=\".8\"/></defs><use x=\"37.218665\" y=\"273.312\" fill=\"#808080\" stroke=\"#808080\" stroke-width=\".8\" xlink:href=\"#41fa4e7d473\"/><g transform=\"translate(34.037 287.91) scale(.1 -.1)\" fill=\"#808080\"><defs><path id=\"DejaVuSans-30\" transform=\"scale(.015625)\" d=\"m2034 4250q-487 0-733-480-245-479-245-1442 0-959 245-1439 246-480 733-480 491 0 736 480 246 480 246 1439 0 963-246 1442-245 480-736 480zm0 500q785 0 1199-621 414-620 414-1801 0-1178-414-1799-414-620-1199-620-784 0-1198 620-414 621-414 1799 0 1181 414 1801 414 621 1198 621z\"/></defs><use xlink:href=\"#DejaVuSans-30\"/></g><path d=\"m87.946 273.31v-266.11\" clip-path=\"url(#03f5099c9a5)\" fill=\"none\" stroke=\"#808080\" stroke-linecap=\"square\" stroke-opacity=\".1\" stroke-width=\".8\"/><use x=\"87.945938\" y=\"273.312\" fill=\"#808080\" stroke=\"#808080\" stroke-width=\".8\" xlink:href=\"#41fa4e7d473\"/><g transform=\"translate(81.583 287.91) scale(.1 -.1)\" fill=\"#808080\"><defs><path id=\"DejaVuSans-32\" transform=\"scale(.015625)\" d=\"m1228 531h2203v-531h-2962v531q359 372 979 998 621 627 780 809 303 340 423 576 121 236 121 464 0 372-261 606-261 235-680 235-297 0-627-103-329-103-704-313v638q381 153 712 231 332 78 607 78 725 0 1156-363 431-362 431-968 0-288-108-546-107-257-392-607-78-91-497-524-418-433-1181-1211z\"/></defs><use xlink:href=\"#DejaVuSans-32\"/><use x=\"63.623047\" xlink:href=\"#DejaVuSans-30\"/></g><path d=\"m138.67 273.31v-266.11\" clip-path=\"url(#03f5099c9a5)\" fill=\"none\" stroke=\"#808080\" stroke-linecap=\"square\" stroke-opacity=\".1\" stroke-width=\".8\"/><use x=\"138.67321\" y=\"273.312\" fill=\"#808080\" stroke=\"#808080\" stroke-width=\".8\" xlink:href=\"#41fa4e7d473\"/><g transform=\"translate(132.31 287.91) scale(.1 -.1)\" fill=\"#808080\"><defs><path id=\"DejaVuSans-34\" transform=\"scale(.015625)\" d=\"m2419 4116-1594-2491h1594v2491zm-166 550h794v-3041h666v-525h-666v-1100h-628v1100h-2106v609l1940 2957z\"/></defs><use xlink:href=\"#DejaVuSans-34\"/><use x=\"63.623047\" xlink:href=\"#DejaVuSans-30\"/></g><path d=\"m189.4 273.31v-266.11\" clip-path=\"url(#03f5099c9a5)\" fill=\"none\" stroke=\"#808080\" stroke-linecap=\"square\" stroke-opacity=\".1\" stroke-width=\".8\"/><use x=\"189.400483\" y=\"273.312\" fill=\"#808080\" stroke=\"#808080\" stroke-width=\".8\" xlink:href=\"#41fa4e7d473\"/><g transform=\"translate(183.04 287.91) scale(.1 -.1)\" fill=\"#808080\"><defs><path id=\"DejaVuSans-36\" transform=\"scale(.015625)\" d=\"m2113 2584q-425 0-674-291-248-290-248-796 0-503 248-796 249-292 674-292t673 292q248 293 248 796 0 506-248 796-248 291-673 291zm1253 1979v-575q-238 112-480 171-242 60-480 60-625 0-955-422-329-422-376-1275 184 272 462 417 279 145 613 145 703 0 1111-427 408-426 408-1160 0-719-425-1154-425-434-1131-434-810 0-1238 620-428 621-428 1799 0 1106 525 1764t1409 658q238 0 480-47t505-140z\"/></defs><use xlink:href=\"#DejaVuSans-36\"/><use x=\"63.623047\" xlink:href=\"#DejaVuSans-30\"/></g><path d=\"m240.13 273.31v-266.11\" clip-path=\"url(#03f5099c9a5)\" fill=\"none\" stroke=\"#808080\" stroke-linecap=\"square\" stroke-opacity=\".1\" stroke-width=\".8\"/><use x=\"240.127756\" y=\"273.312\" fill=\"#808080\" stroke=\"#808080\" stroke-width=\".8\" xlink:href=\"#41fa4e7d473\"/><g transform=\"translate(233.77 287.91) scale(.1 -.1)\" fill=\"#808080\"><defs><path id=\"DejaVuSans-38\" transform=\"scale(.015625)\" d=\"m2034 2216q-450 0-708-241-257-241-257-662 0-422 257-663 258-241 708-241t709 242q260 243 260 662 0 421-258 662-257 241-711 241zm-631 268q-406 100-633 378-226 279-226 679 0 559 398 884 399 325 1092 325 697 0 1094-325t397-884q0-400-227-679-226-278-629-378 456-106 710-416 255-309 255-755 0-679-414-1042-414-362-1186-362-771 0-1186 362-414 363-414 1042 0 446 256 755 257 310 713 416zm-231 997q0-362 226-565 227-203 636-203 407 0 636 203 230 203 230 565 0 363-230 566-229 203-636 203-409 0-636-203-226-203-226-566z\"/></defs><use xlink:href=\"#DejaVuSans-38\"/><use x=\"63.623047\" xlink:href=\"#DejaVuSans-30\"/></g><path d=\"m290.86 273.31v-266.11\" clip-path=\"url(#03f5099c9a5)\" fill=\"none\" stroke=\"#808080\" stroke-linecap=\"square\" stroke-opacity=\".1\" stroke-width=\".8\"/><use x=\"290.855028\" y=\"273.312\" fill=\"#808080\" stroke=\"#808080\" stroke-width=\".8\" xlink:href=\"#41fa4e7d473\"/><g transform=\"translate(281.31 287.91) scale(.1 -.1)\" fill=\"#808080\"><defs><path id=\"DejaVuSans-31\" transform=\"scale(.015625)\" d=\"m794 531h1031v3560l-1122-225v575l1116 225h631v-4135h1031v-531h-2687v531z\"/></defs><use xlink:href=\"#DejaVuSans-31\"/><use x=\"63.623047\" xlink:href=\"#DejaVuSans-30\"/><use x=\"127.246094\" xlink:href=\"#DejaVuSans-30\"/></g><path d=\"m341.58 273.31v-266.11\" clip-path=\"url(#03f5099c9a5)\" fill=\"none\" stroke=\"#808080\" stroke-linecap=\"square\" stroke-opacity=\".1\" stroke-width=\".8\"/><use x=\"341.582301\" y=\"273.312\" fill=\"#808080\" stroke=\"#808080\" stroke-width=\".8\" xlink:href=\"#41fa4e7d473\"/><g transform=\"translate(332.04 287.91) scale(.1 -.1)\" fill=\"#808080\"><use xlink:href=\"#DejaVuSans-31\"/><use x=\"63.623047\" xlink:href=\"#DejaVuSans-32\"/><use x=\"127.246094\" xlink:href=\"#DejaVuSans-30\"/></g><defs><path id=\"78543a2fed8\" d=\"m0 0v2\" stroke=\"#808080\" stroke-width=\".6\"/></defs><use x=\"24.536847\" y=\"273.312\" fill=\"#808080\" stroke=\"#808080\" stroke-width=\".6\" xlink:href=\"#78543a2fed8\"/><use x=\"49.900483\" y=\"273.312\" fill=\"#808080\" stroke=\"#808080\" stroke-width=\".6\" xlink:href=\"#78543a2fed8\"/><use x=\"62.582301\" y=\"273.312\" fill=\"#808080\" stroke=\"#808080\" stroke-width=\".6\" xlink:href=\"#78543a2fed8\"/><use x=\"75.264119\" y=\"273.312\" fill=\"#808080\" stroke=\"#808080\" stroke-width=\".6\" xlink:href=\"#78543a2fed8\"/><use x=\"100.627756\" y=\"273.312\" fill=\"#808080\" stroke=\"#808080\" stroke-width=\".6\" xlink:href=\"#78543a2fed8\"/><use x=\"113.309574\" y=\"273.312\" fill=\"#808080\" stroke=\"#808080\" stroke-width=\".6\" xlink:href=\"#78543a2fed8\"/><use x=\"125.991392\" y=\"273.312\" fill=\"#808080\" stroke=\"#808080\" stroke-width=\".6\" xlink:href=\"#78543a2fed8\"/><use x=\"151.355028\" y=\"273.312\" fill=\"#808080\" stroke=\"#808080\" stroke-width=\".6\" xlink:href=\"#78543a2fed8\"/><use x=\"164.036847\" y=\"273.312\" fill=\"#808080\" stroke=\"#808080\" stroke-width=\".6\" xlink:href=\"#78543a2fed8\"/><use x=\"176.718665\" y=\"273.312\" fill=\"#808080\" stroke=\"#808080\" stroke-width=\".6\" xlink:href=\"#78543a2fed8\"/><use x=\"202.082301\" y=\"273.312\" fill=\"#808080\" stroke=\"#808080\" stroke-width=\".6\" xlink:href=\"#78543a2fed8\"/><use x=\"214.764119\" y=\"273.312\" fill=\"#808080\" stroke=\"#808080\" stroke-width=\".6\" xlink:href=\"#78543a2fed8\"/><use x=\"227.445938\" y=\"273.312\" fill=\"#808080\" stroke=\"#808080\" stroke-width=\".6\" xlink:href=\"#78543a2fed8\"/><use x=\"252.809574\" y=\"273.312\" fill=\"#808080\" stroke=\"#808080\" stroke-width=\".6\" xlink:href=\"#78543a2fed8\"/><use x=\"265.491392\" y=\"273.312\" fill=\"#808080\" stroke=\"#808080\" stroke-width=\".6\" xlink:href=\"#78543a2fed8\"/><use x=\"278.17321\" y=\"273.312\" fill=\"#808080\" stroke=\"#808080\" stroke-width=\".6\" xlink:href=\"#78543a2fed8\"/><use x=\"303.536847\" y=\"273.312\" fill=\"#808080\" stroke=\"#808080\" stroke-width=\".6\" xlink:href=\"#78543a2fed8\"/><use x=\"316.218665\" y=\"273.312\" fill=\"#808080\" stroke=\"#808080\" stroke-width=\".6\" xlink:href=\"#78543a2fed8\"/><use x=\"328.900483\" y=\"273.312\" fill=\"#808080\" stroke=\"#808080\" stroke-width=\".6\" xlink:href=\"#78543a2fed8\"/><use x=\"354.264119\" y=\"273.312\" fill=\"#808080\" stroke=\"#808080\" stroke-width=\".6\" xlink:href=\"#78543a2fed8\"/><use x=\"366.945938\" y=\"273.312\" fill=\"#808080\" stroke=\"#808080\" stroke-width=\".6\" xlink:href=\"#78543a2fed8\"/><path d=\"m20.986 19.296h357.12\" clip-path=\"url(#03f5099c9a5)\" fill=\"none\" stroke=\"#808080\" stroke-linecap=\"square\" stroke-opacity=\".1\" stroke-width=\".8\"/><defs><path id=\"d9ce6f08815\" d=\"m0 0h-3.5\" stroke=\"#808080\" stroke-width=\".8\"/></defs><use x=\"20.985937\" y=\"19.296\" fill=\"#808080\" stroke=\"#808080\" stroke-width=\".8\" xlink:href=\"#d9ce6f08815\"/><g transform=\"translate(7.2 23.095) scale(.1 -.1)\" fill=\"#808080\"><defs><path id=\"DejaVuSans-2e\" transform=\"scale(.015625)\" d=\"m684 794h660v-794h-660v794z\"/><path id=\"DejaVuSans-2d\" transform=\"scale(.015625)\" d=\"m313 2009h1684v-512h-1684v512z\"/></defs><use xlink:href=\"#DejaVuSans-2e\"/><use x=\"31.787109\" xlink:href=\"#DejaVuSans-2d\"/></g><path d=\"m240.13 261.2 40.582 0.006442 81.164 0.00575\" clip-path=\"url(#03f5099c9a5)\" fill=\"none\" stroke=\"#1f77b4\" stroke-linecap=\"square\" stroke-width=\"1.5\"/><defs><path id=\"fa76eed717f\" d=\"m0 1.5c0.3978 0 0.77937-0.15805 1.0607-0.43934 0.28129-0.28129 0.43934-0.66286 0.43934-1.0607s-0.15805-0.77937-0.43934-1.0607c-0.28129-0.28129-0.66286-0.43934-1.0607-0.43934s-0.77937 0.15805-1.0607 0.43934c-0.28129 0.28129-0.43934 0.66286-0.43934 1.0607s0.15805 0.77937 0.43934 1.0607c0.28129 0.28129 0.66286 0.43934 1.0607 0.43934z\" stroke=\"#1f77b4\"/></defs><g clip-path=\"url(#03f5099c9a5)\" fill=\"#1f77b4\" stroke=\"#1f77b4\"><use x=\"240.127756\" y=\"261.203808\" xlink:href=\"#fa76eed717f\"/><use x=\"280.709574\" y=\"261.21025\" xlink:href=\"#fa76eed717f\"/><use x=\"361.87321\" y=\"261.216\" xlink:href=\"#fa76eed717f\"/></g><path d=\"m37.219 19.296\" clip-path=\"url(#03f5099c9a5)\" fill=\"none\" stroke=\"#ff7f0e\" stroke-linecap=\"square\" stroke-width=\"1.5\"/><path d=\"m37.219 19.296\" clip-path=\"url(#03f5099c9a5)\" fill=\"none\" stroke=\"#2ca02c\" stroke-linecap=\"square\" stroke-width=\"1.5\"/><path d=\"m37.219 19.296\" clip-path=\"url(#03f5099c9a5)\" fill=\"none\" stroke=\"#d62728\" stroke-linecap=\"square\" stroke-width=\"1.5\"/><path d=\"m37.219 19.296\" clip-path=\"url(#03f5099c9a5)\" fill=\"none\" stroke=\"#9467bd\" stroke-linecap=\"square\" stroke-width=\"1.5\"/><path d=\"m20.986 273.31v-266.11\" fill=\"none\" stroke=\"#808080\" stroke-linecap=\"square\" stroke-width=\".8\"/><path d=\"m20.986 273.31h357.12\" fill=\"none\" stroke=\"#808080\" stroke-linecap=\"square\" stroke-width=\".8\"/><defs><clipPath id=\"03f5099c9a5\"><rect x=\"20.986\" y=\"7.2\" width=\"357.12\" height=\"266.11\"/></clipPath></defs></svg>"
      ],
      "text/plain": [
       "<Figure size 640x480 with 1 Axes>"
      ]
     },
     "metadata": {
      "needs_background": "light"
     },
     "output_type": "display_data"
    }
   ],
   "source": [
    "plt.plot(*zip(*sorted(results.items())), \".-\")\n",
    "plt.plot(*zip(*sorted(results_alt.items())), \".-\")\n",
    "plt.plot(*zip(*sorted(results_mps.items())), \".-\")\n",
    "plt.plot(*zip(*sorted(results_sl.items())), \".-\")\n",
    "plt.plot(*zip(*sorted(results_zp.items())), \".-\")\n",
    "plt.show()\n",
    "plt.close()"
   ]
  },
  {
   "cell_type": "code",
   "execution_count": 53,
   "id": "27f2eb72-bb6d-434b-9136-e13311eac0e4",
   "metadata": {},
   "outputs": [
    {
     "data": {
      "image/svg+xml": [
       "<?xml version=\"1.0\" encoding=\"UTF-8\"?><!DOCTYPE svg  PUBLIC '-//W3C//DTD SVG 1.1//EN'  'http://www.w3.org/Graphics/SVG/1.1/DTD/svg11.dtd'><svg width=\"413.2pt\" height=\"307.79pt\" version=\"1.1\" viewBox=\"0 0 413.2 307.79\" xmlns=\"http://www.w3.org/2000/svg\" xmlns:xlink=\"http://www.w3.org/1999/xlink\"><defs><style type=\"text/css\">*{stroke-linejoin: round; stroke-linecap: butt}</style></defs><path d=\"m0 307.79h413.2v-307.79h-413.2v307.79z\" fill=\"none\"/><path d=\"m44.845 283.91h357.12v-266.11h-357.12v266.11z\" fill=\"none\"/><path d=\"m48.792 283.91v-266.11\" clip-path=\"url(#58fc8e2823a)\" fill=\"none\" stroke=\"#808080\" stroke-linecap=\"square\" stroke-opacity=\".1\" stroke-width=\".8\"/><defs><path id=\"910f29444c8\" d=\"m0 0v3.5\" stroke=\"#808080\" stroke-width=\".8\"/></defs><use x=\"48.79243\" y=\"283.910437\" fill=\"#808080\" stroke=\"#808080\" stroke-width=\".8\" xlink:href=\"#910f29444c8\"/><g transform=\"translate(42.43 298.51) scale(.1 -.1)\" fill=\"#808080\"><defs><path id=\"DejaVuSans-34\" transform=\"scale(.015625)\" d=\"m2419 4116-1594-2491h1594v2491zm-166 550h794v-3041h666v-525h-666v-1100h-628v1100h-2106v609l1940 2957z\"/><path id=\"DejaVuSans-32\" transform=\"scale(.015625)\" d=\"m1228 531h2203v-531h-2962v531q359 372 979 998 621 627 780 809 303 340 423 576 121 236 121 464 0 372-261 606-261 235-680 235-297 0-627-103-329-103-704-313v638q381 153 712 231 332 78 607 78 725 0 1156-363 431-362 431-968 0-288-108-546-107-257-392-607-78-91-497-524-418-433-1181-1211z\"/></defs><use xlink:href=\"#DejaVuSans-34\"/><use x=\"63.623047\" xlink:href=\"#DejaVuSans-32\"/></g><path d=\"m98.913 283.91v-266.11\" clip-path=\"url(#58fc8e2823a)\" fill=\"none\" stroke=\"#808080\" stroke-linecap=\"square\" stroke-opacity=\".1\" stroke-width=\".8\"/><use x=\"98.912753\" y=\"283.910437\" fill=\"#808080\" stroke=\"#808080\" stroke-width=\".8\" xlink:href=\"#910f29444c8\"/><g transform=\"translate(92.55 298.51) scale(.1 -.1)\" fill=\"#808080\"><use xlink:href=\"#DejaVuSans-34\"/><use x=\"63.623047\" xlink:href=\"#DejaVuSans-34\"/></g><path d=\"m149.03 283.91v-266.11\" clip-path=\"url(#58fc8e2823a)\" fill=\"none\" stroke=\"#808080\" stroke-linecap=\"square\" stroke-opacity=\".1\" stroke-width=\".8\"/><use x=\"149.033076\" y=\"283.910437\" fill=\"#808080\" stroke=\"#808080\" stroke-width=\".8\" xlink:href=\"#910f29444c8\"/><g transform=\"translate(142.67 298.51) scale(.1 -.1)\" fill=\"#808080\"><defs><path id=\"DejaVuSans-36\" transform=\"scale(.015625)\" d=\"m2113 2584q-425 0-674-291-248-290-248-796 0-503 248-796 249-292 674-292t673 292q248 293 248 796 0 506-248 796-248 291-673 291zm1253 1979v-575q-238 112-480 171-242 60-480 60-625 0-955-422-329-422-376-1275 184 272 462 417 279 145 613 145 703 0 1111-427 408-426 408-1160 0-719-425-1154-425-434-1131-434-810 0-1238 620-428 621-428 1799 0 1106 525 1764t1409 658q238 0 480-47t505-140z\"/></defs><use xlink:href=\"#DejaVuSans-34\"/><use x=\"63.623047\" xlink:href=\"#DejaVuSans-36\"/></g><path d=\"m199.15 283.91v-266.11\" clip-path=\"url(#58fc8e2823a)\" fill=\"none\" stroke=\"#808080\" stroke-linecap=\"square\" stroke-opacity=\".1\" stroke-width=\".8\"/><use x=\"199.153399\" y=\"283.910437\" fill=\"#808080\" stroke=\"#808080\" stroke-width=\".8\" xlink:href=\"#910f29444c8\"/><g transform=\"translate(192.79 298.51) scale(.1 -.1)\" fill=\"#808080\"><defs><path id=\"DejaVuSans-38\" transform=\"scale(.015625)\" d=\"m2034 2216q-450 0-708-241-257-241-257-662 0-422 257-663 258-241 708-241t709 242q260 243 260 662 0 421-258 662-257 241-711 241zm-631 268q-406 100-633 378-226 279-226 679 0 559 398 884 399 325 1092 325 697 0 1094-325t397-884q0-400-227-679-226-278-629-378 456-106 710-416 255-309 255-755 0-679-414-1042-414-362-1186-362-771 0-1186 362-414 363-414 1042 0 446 256 755 257 310 713 416zm-231 997q0-362 226-565 227-203 636-203 407 0 636 203 230 203 230 565 0 363-230 566-229 203-636 203-409 0-636-203-226-203-226-566z\"/></defs><use xlink:href=\"#DejaVuSans-34\"/><use x=\"63.623047\" xlink:href=\"#DejaVuSans-38\"/></g><path d=\"m249.27 283.91v-266.11\" clip-path=\"url(#58fc8e2823a)\" fill=\"none\" stroke=\"#808080\" stroke-linecap=\"square\" stroke-opacity=\".1\" stroke-width=\".8\"/><use x=\"249.273722\" y=\"283.910437\" fill=\"#808080\" stroke=\"#808080\" stroke-width=\".8\" xlink:href=\"#910f29444c8\"/><g transform=\"translate(242.91 298.51) scale(.1 -.1)\" fill=\"#808080\"><defs><path id=\"DejaVuSans-35\" transform=\"scale(.015625)\" d=\"m691 4666h2478v-532h-1900v-1143q137 47 274 70 138 23 276 23 781 0 1237-428 457-428 457-1159 0-753-469-1171-469-417-1322-417-294 0-599 50-304 50-629 150v635q281-153 581-228t634-75q541 0 856 284 316 284 316 772 0 487-316 771-315 285-856 285-253 0-505-56-251-56-513-175v2344z\"/><path id=\"DejaVuSans-30\" transform=\"scale(.015625)\" d=\"m2034 4250q-487 0-733-480-245-479-245-1442 0-959 245-1439 246-480 733-480 491 0 736 480 246 480 246 1439 0 963-246 1442-245 480-736 480zm0 500q785 0 1199-621 414-620 414-1801 0-1178-414-1799-414-620-1199-620-784 0-1198 620-414 621-414 1799 0 1181 414 1801 414 621 1198 621z\"/></defs><use xlink:href=\"#DejaVuSans-35\"/><use x=\"63.623047\" xlink:href=\"#DejaVuSans-30\"/></g><path d=\"m299.39 283.91v-266.11\" clip-path=\"url(#58fc8e2823a)\" fill=\"none\" stroke=\"#808080\" stroke-linecap=\"square\" stroke-opacity=\".1\" stroke-width=\".8\"/><use x=\"299.394045\" y=\"283.910437\" fill=\"#808080\" stroke=\"#808080\" stroke-width=\".8\" xlink:href=\"#910f29444c8\"/><g transform=\"translate(293.03 298.51) scale(.1 -.1)\" fill=\"#808080\"><use xlink:href=\"#DejaVuSans-35\"/><use x=\"63.623047\" xlink:href=\"#DejaVuSans-32\"/></g><path d=\"m349.51 283.91v-266.11\" clip-path=\"url(#58fc8e2823a)\" fill=\"none\" stroke=\"#808080\" stroke-linecap=\"square\" stroke-opacity=\".1\" stroke-width=\".8\"/><use x=\"349.514368\" y=\"283.910437\" fill=\"#808080\" stroke=\"#808080\" stroke-width=\".8\" xlink:href=\"#910f29444c8\"/><g transform=\"translate(343.15 298.51) scale(.1 -.1)\" fill=\"#808080\"><use xlink:href=\"#DejaVuSans-35\"/><use x=\"63.623047\" xlink:href=\"#DejaVuSans-34\"/></g><path d=\"m399.63 283.91v-266.11\" clip-path=\"url(#58fc8e2823a)\" fill=\"none\" stroke=\"#808080\" stroke-linecap=\"square\" stroke-opacity=\".1\" stroke-width=\".8\"/><use x=\"399.634691\" y=\"283.910437\" fill=\"#808080\" stroke=\"#808080\" stroke-width=\".8\" xlink:href=\"#910f29444c8\"/><g transform=\"translate(393.27 298.51) scale(.1 -.1)\" fill=\"#808080\"><use xlink:href=\"#DejaVuSans-35\"/><use x=\"63.623047\" xlink:href=\"#DejaVuSans-36\"/></g><defs><path id=\"c19e0b39faf\" d=\"m0 0v2\" stroke=\"#808080\" stroke-width=\".6\"/></defs><use x=\"61.322511\" y=\"283.910437\" fill=\"#808080\" stroke=\"#808080\" stroke-width=\".6\" xlink:href=\"#c19e0b39faf\"/><use x=\"73.852592\" y=\"283.910437\" fill=\"#808080\" stroke=\"#808080\" stroke-width=\".6\" xlink:href=\"#c19e0b39faf\"/><use x=\"86.382672\" y=\"283.910437\" fill=\"#808080\" stroke=\"#808080\" stroke-width=\".6\" xlink:href=\"#c19e0b39faf\"/><use x=\"111.442834\" y=\"283.910437\" fill=\"#808080\" stroke=\"#808080\" stroke-width=\".6\" xlink:href=\"#c19e0b39faf\"/><use x=\"123.972915\" y=\"283.910437\" fill=\"#808080\" stroke=\"#808080\" stroke-width=\".6\" xlink:href=\"#c19e0b39faf\"/><use x=\"136.502995\" y=\"283.910437\" fill=\"#808080\" stroke=\"#808080\" stroke-width=\".6\" xlink:href=\"#c19e0b39faf\"/><use x=\"161.563157\" y=\"283.910437\" fill=\"#808080\" stroke=\"#808080\" stroke-width=\".6\" xlink:href=\"#c19e0b39faf\"/><use x=\"174.093238\" y=\"283.910437\" fill=\"#808080\" stroke=\"#808080\" stroke-width=\".6\" xlink:href=\"#c19e0b39faf\"/><use x=\"186.623318\" y=\"283.910437\" fill=\"#808080\" stroke=\"#808080\" stroke-width=\".6\" xlink:href=\"#c19e0b39faf\"/><use x=\"211.68348\" y=\"283.910437\" fill=\"#808080\" stroke=\"#808080\" stroke-width=\".6\" xlink:href=\"#c19e0b39faf\"/><use x=\"224.213561\" y=\"283.910437\" fill=\"#808080\" stroke=\"#808080\" stroke-width=\".6\" xlink:href=\"#c19e0b39faf\"/><use x=\"236.743641\" y=\"283.910437\" fill=\"#808080\" stroke=\"#808080\" stroke-width=\".6\" xlink:href=\"#c19e0b39faf\"/><use x=\"261.803803\" y=\"283.910437\" fill=\"#808080\" stroke=\"#808080\" stroke-width=\".6\" xlink:href=\"#c19e0b39faf\"/><use x=\"274.333884\" y=\"283.910437\" fill=\"#808080\" stroke=\"#808080\" stroke-width=\".6\" xlink:href=\"#c19e0b39faf\"/><use x=\"286.863964\" y=\"283.910437\" fill=\"#808080\" stroke=\"#808080\" stroke-width=\".6\" xlink:href=\"#c19e0b39faf\"/><use x=\"311.924126\" y=\"283.910437\" fill=\"#808080\" stroke=\"#808080\" stroke-width=\".6\" xlink:href=\"#c19e0b39faf\"/><use x=\"324.454207\" y=\"283.910437\" fill=\"#808080\" stroke=\"#808080\" stroke-width=\".6\" xlink:href=\"#c19e0b39faf\"/><use x=\"336.984287\" y=\"283.910437\" fill=\"#808080\" stroke=\"#808080\" stroke-width=\".6\" xlink:href=\"#c19e0b39faf\"/><use x=\"362.044449\" y=\"283.910437\" fill=\"#808080\" stroke=\"#808080\" stroke-width=\".6\" xlink:href=\"#c19e0b39faf\"/><use x=\"374.57453\" y=\"283.910437\" fill=\"#808080\" stroke=\"#808080\" stroke-width=\".6\" xlink:href=\"#c19e0b39faf\"/><use x=\"387.10461\" y=\"283.910437\" fill=\"#808080\" stroke=\"#808080\" stroke-width=\".6\" xlink:href=\"#c19e0b39faf\"/><path d=\"m44.845 246.43h357.12\" clip-path=\"url(#58fc8e2823a)\" fill=\"none\" stroke=\"#808080\" stroke-linecap=\"square\" stroke-opacity=\".1\" stroke-width=\".8\"/><defs><path id=\"d405fa0533e\" d=\"m0 0h-3.5\" stroke=\"#808080\" stroke-width=\".8\"/></defs><use x=\"44.845313\" y=\"246.425969\" fill=\"#808080\" stroke=\"#808080\" stroke-width=\".8\" xlink:href=\"#d405fa0533e\"/><g transform=\"translate(7.2 250.23) scale(.1 -.1)\" fill=\"#808080\"><defs><path id=\"DejaVuSans-2212\" transform=\"scale(.015625)\" d=\"m678 2272h4006v-531h-4006v531z\"/><path id=\"DejaVuSans-31\" transform=\"scale(.015625)\" d=\"m794 531h1031v3560l-1122-225v575l1116 225h631v-4135h1031v-531h-2687v531z\"/><path id=\"DejaVuSans-2e\" transform=\"scale(.015625)\" d=\"m684 794h660v-794h-660v794z\"/></defs><use xlink:href=\"#DejaVuSans-2212\"/><use x=\"83.789062\" xlink:href=\"#DejaVuSans-31\"/><use x=\"147.412109\" xlink:href=\"#DejaVuSans-30\"/><use x=\"211.035156\" xlink:href=\"#DejaVuSans-2e\"/><use x=\"242.822266\" xlink:href=\"#DejaVuSans-30\"/></g><path d=\"m44.845 208.18h357.12\" clip-path=\"url(#58fc8e2823a)\" fill=\"none\" stroke=\"#808080\" stroke-linecap=\"square\" stroke-opacity=\".1\" stroke-width=\".8\"/><use x=\"44.845313\" y=\"208.176346\" fill=\"#808080\" stroke=\"#808080\" stroke-width=\".8\" xlink:href=\"#d405fa0533e\"/><g transform=\"translate(13.562 211.98) scale(.1 -.1)\" fill=\"#808080\"><defs><path id=\"DejaVuSans-39\" transform=\"scale(.015625)\" d=\"m703 97v575q238-113 481-172 244-59 479-59 625 0 954 420 330 420 377 1277-181-269-460-413-278-144-615-144-700 0-1108 423-408 424-408 1159 0 718 425 1152 425 435 1131 435 810 0 1236-621 427-620 427-1801 0-1103-524-1761-523-658-1407-658-238 0-482 47-243 47-506 141zm1256 1978q425 0 673 290 249 291 249 798 0 503-249 795-248 292-673 292t-673-292-248-795q0-507 248-798 248-290 673-290z\"/></defs><use xlink:href=\"#DejaVuSans-2212\"/><use x=\"83.789062\" xlink:href=\"#DejaVuSans-39\"/><use x=\"147.412109\" xlink:href=\"#DejaVuSans-2e\"/><use x=\"179.199219\" xlink:href=\"#DejaVuSans-35\"/></g><path d=\"m44.845 169.93h357.12\" clip-path=\"url(#58fc8e2823a)\" fill=\"none\" stroke=\"#808080\" stroke-linecap=\"square\" stroke-opacity=\".1\" stroke-width=\".8\"/><use x=\"44.845313\" y=\"169.926722\" fill=\"#808080\" stroke=\"#808080\" stroke-width=\".8\" xlink:href=\"#d405fa0533e\"/><g transform=\"translate(13.562 173.73) scale(.1 -.1)\" fill=\"#808080\"><use xlink:href=\"#DejaVuSans-2212\"/><use x=\"83.789062\" xlink:href=\"#DejaVuSans-39\"/><use x=\"147.412109\" xlink:href=\"#DejaVuSans-2e\"/><use x=\"179.199219\" xlink:href=\"#DejaVuSans-30\"/></g><path d=\"m44.845 131.68h357.12\" clip-path=\"url(#58fc8e2823a)\" fill=\"none\" stroke=\"#808080\" stroke-linecap=\"square\" stroke-opacity=\".1\" stroke-width=\".8\"/><use x=\"44.845313\" y=\"131.677098\" fill=\"#808080\" stroke=\"#808080\" stroke-width=\".8\" xlink:href=\"#d405fa0533e\"/><g transform=\"translate(13.562 135.48) scale(.1 -.1)\" fill=\"#808080\"><use xlink:href=\"#DejaVuSans-2212\"/><use x=\"83.789062\" xlink:href=\"#DejaVuSans-38\"/><use x=\"147.412109\" xlink:href=\"#DejaVuSans-2e\"/><use x=\"179.199219\" xlink:href=\"#DejaVuSans-35\"/></g><path d=\"m44.845 93.427h357.12\" clip-path=\"url(#58fc8e2823a)\" fill=\"none\" stroke=\"#808080\" stroke-linecap=\"square\" stroke-opacity=\".1\" stroke-width=\".8\"/><use x=\"44.845313\" y=\"93.427474\" fill=\"#808080\" stroke=\"#808080\" stroke-width=\".8\" xlink:href=\"#d405fa0533e\"/><g transform=\"translate(13.562 97.227) scale(.1 -.1)\" fill=\"#808080\"><use xlink:href=\"#DejaVuSans-2212\"/><use x=\"83.789062\" xlink:href=\"#DejaVuSans-38\"/><use x=\"147.412109\" xlink:href=\"#DejaVuSans-2e\"/><use x=\"179.199219\" xlink:href=\"#DejaVuSans-30\"/></g><path d=\"m44.845 55.178h357.12\" clip-path=\"url(#58fc8e2823a)\" fill=\"none\" stroke=\"#808080\" stroke-linecap=\"square\" stroke-opacity=\".1\" stroke-width=\".8\"/><use x=\"44.845313\" y=\"55.17785\" fill=\"#808080\" stroke=\"#808080\" stroke-width=\".8\" xlink:href=\"#d405fa0533e\"/><g transform=\"translate(13.562 58.977) scale(.1 -.1)\" fill=\"#808080\"><defs><path id=\"DejaVuSans-37\" transform=\"scale(.015625)\" d=\"m525 4666h3e3v-269l-1694-4397h-659l1594 4134h-2241v532z\"/></defs><use xlink:href=\"#DejaVuSans-2212\"/><use x=\"83.789062\" xlink:href=\"#DejaVuSans-37\"/><use x=\"147.412109\" xlink:href=\"#DejaVuSans-2e\"/><use x=\"179.199219\" xlink:href=\"#DejaVuSans-35\"/></g><defs><path id=\"a4a1cadc2bc\" d=\"m0 0h-2\" stroke=\"#808080\" stroke-width=\".6\"/></defs><use x=\"44.845313\" y=\"277.025669\" fill=\"#808080\" stroke=\"#808080\" stroke-width=\".6\" xlink:href=\"#a4a1cadc2bc\"/><use x=\"44.845313\" y=\"269.375744\" fill=\"#808080\" stroke=\"#808080\" stroke-width=\".6\" xlink:href=\"#a4a1cadc2bc\"/><use x=\"44.845313\" y=\"261.725819\" fill=\"#808080\" stroke=\"#808080\" stroke-width=\".6\" xlink:href=\"#a4a1cadc2bc\"/><use x=\"44.845313\" y=\"254.075894\" fill=\"#808080\" stroke=\"#808080\" stroke-width=\".6\" xlink:href=\"#a4a1cadc2bc\"/><use x=\"44.845313\" y=\"238.776045\" fill=\"#808080\" stroke=\"#808080\" stroke-width=\".6\" xlink:href=\"#a4a1cadc2bc\"/><use x=\"44.845313\" y=\"231.12612\" fill=\"#808080\" stroke=\"#808080\" stroke-width=\".6\" xlink:href=\"#a4a1cadc2bc\"/><use x=\"44.845313\" y=\"223.476195\" fill=\"#808080\" stroke=\"#808080\" stroke-width=\".6\" xlink:href=\"#a4a1cadc2bc\"/><use x=\"44.845313\" y=\"215.82627\" fill=\"#808080\" stroke=\"#808080\" stroke-width=\".6\" xlink:href=\"#a4a1cadc2bc\"/><use x=\"44.845313\" y=\"200.526421\" fill=\"#808080\" stroke=\"#808080\" stroke-width=\".6\" xlink:href=\"#a4a1cadc2bc\"/><use x=\"44.845313\" y=\"192.876496\" fill=\"#808080\" stroke=\"#808080\" stroke-width=\".6\" xlink:href=\"#a4a1cadc2bc\"/><use x=\"44.845313\" y=\"185.226571\" fill=\"#808080\" stroke=\"#808080\" stroke-width=\".6\" xlink:href=\"#a4a1cadc2bc\"/><use x=\"44.845313\" y=\"177.576646\" fill=\"#808080\" stroke=\"#808080\" stroke-width=\".6\" xlink:href=\"#a4a1cadc2bc\"/><use x=\"44.845313\" y=\"162.276797\" fill=\"#808080\" stroke=\"#808080\" stroke-width=\".6\" xlink:href=\"#a4a1cadc2bc\"/><use x=\"44.845313\" y=\"154.626872\" fill=\"#808080\" stroke=\"#808080\" stroke-width=\".6\" xlink:href=\"#a4a1cadc2bc\"/><use x=\"44.845313\" y=\"146.976947\" fill=\"#808080\" stroke=\"#808080\" stroke-width=\".6\" xlink:href=\"#a4a1cadc2bc\"/><use x=\"44.845313\" y=\"139.327022\" fill=\"#808080\" stroke=\"#808080\" stroke-width=\".6\" xlink:href=\"#a4a1cadc2bc\"/><use x=\"44.845313\" y=\"124.027173\" fill=\"#808080\" stroke=\"#808080\" stroke-width=\".6\" xlink:href=\"#a4a1cadc2bc\"/><use x=\"44.845313\" y=\"116.377248\" fill=\"#808080\" stroke=\"#808080\" stroke-width=\".6\" xlink:href=\"#a4a1cadc2bc\"/><use x=\"44.845313\" y=\"108.727323\" fill=\"#808080\" stroke=\"#808080\" stroke-width=\".6\" xlink:href=\"#a4a1cadc2bc\"/><use x=\"44.845313\" y=\"101.077399\" fill=\"#808080\" stroke=\"#808080\" stroke-width=\".6\" xlink:href=\"#a4a1cadc2bc\"/><use x=\"44.845313\" y=\"85.777549\" fill=\"#808080\" stroke=\"#808080\" stroke-width=\".6\" xlink:href=\"#a4a1cadc2bc\"/><use x=\"44.845313\" y=\"78.127624\" fill=\"#808080\" stroke=\"#808080\" stroke-width=\".6\" xlink:href=\"#a4a1cadc2bc\"/><use x=\"44.845313\" y=\"70.477699\" fill=\"#808080\" stroke=\"#808080\" stroke-width=\".6\" xlink:href=\"#a4a1cadc2bc\"/><use x=\"44.845313\" y=\"62.827775\" fill=\"#808080\" stroke=\"#808080\" stroke-width=\".6\" xlink:href=\"#a4a1cadc2bc\"/><use x=\"44.845313\" y=\"47.527925\" fill=\"#808080\" stroke=\"#808080\" stroke-width=\".6\" xlink:href=\"#a4a1cadc2bc\"/><use x=\"44.845313\" y=\"39.878\" fill=\"#808080\" stroke=\"#808080\" stroke-width=\".6\" xlink:href=\"#a4a1cadc2bc\"/><use x=\"44.845313\" y=\"32.228075\" fill=\"#808080\" stroke=\"#808080\" stroke-width=\".6\" xlink:href=\"#a4a1cadc2bc\"/><use x=\"44.845313\" y=\"24.578151\" fill=\"#808080\" stroke=\"#808080\" stroke-width=\".6\" xlink:href=\"#a4a1cadc2bc\"/><g transform=\"translate(44.845 14.798) scale(.1 -.1)\" fill=\"#808080\"><defs><path id=\"DejaVuSans-65\" transform=\"scale(.015625)\" d=\"m3597 1894v-281h-2644q38-594 358-905t892-311q331 0 642 81t618 244v-544q-310-131-635-200t-659-69q-838 0-1327 487-489 488-489 1320 0 859 464 1363 464 505 1252 505 706 0 1117-455 411-454 411-1235zm-575 169q-6 471-264 752-258 282-683 282-481 0-770-272t-333-766l2050 4z\"/></defs><use xlink:href=\"#DejaVuSans-31\"/><use x=\"63.623047\" xlink:href=\"#DejaVuSans-65\"/><use x=\"125.146484\" xlink:href=\"#DejaVuSans-2212\"/><use x=\"208.935547\" xlink:href=\"#DejaVuSans-35\"/><use x=\"272.558594\" xlink:href=\"#DejaVuSans-2212\"/><use x=\"356.347656\" xlink:href=\"#DejaVuSans-36\"/><use x=\"419.970703\" xlink:href=\"#DejaVuSans-2e\"/><use x=\"451.757812\" xlink:href=\"#DejaVuSans-32\"/><use x=\"515.380859\" xlink:href=\"#DejaVuSans-37\"/><use x=\"579.003906\" xlink:href=\"#DejaVuSans-34\"/><use x=\"642.626953\" xlink:href=\"#DejaVuSans-65\"/><use x=\"704.150391\" xlink:href=\"#DejaVuSans-2212\"/><use x=\"787.939453\" xlink:href=\"#DejaVuSans-31\"/></g><path d=\"m385.73 271.81-191.63-114.1-133.02-127.82\" clip-path=\"url(#58fc8e2823a)\" fill=\"none\" stroke=\"#1f77b4\" stroke-linecap=\"square\" stroke-width=\"1.5\"/><defs><path id=\"1b60ea60f54\" d=\"m0 1.5c0.3978 0 0.77937-0.15805 1.0607-0.43934 0.28129-0.28129 0.43934-0.66286 0.43934-1.0607s-0.15805-0.77937-0.43934-1.0607c-0.28129-0.28129-0.66286-0.43934-1.0607-0.43934s-0.77937 0.15805-1.0607 0.43934c-0.28129 0.28129-0.43934 0.66286-0.43934 1.0607s0.15805 0.77937 0.43934 1.0607c0.28129 0.28129 0.66286 0.43934 1.0607 0.43934z\" stroke=\"#1f77b4\"/></defs><g clip-path=\"url(#58fc8e2823a)\" fill=\"#1f77b4\" stroke=\"#1f77b4\"><use x=\"385.732585\" y=\"271.814438\" xlink:href=\"#1b60ea60f54\"/><use x=\"194.098688\" y=\"157.712242\" xlink:href=\"#1b60ea60f54\"/><use x=\"61.07804\" y=\"29.894438\" xlink:href=\"#1b60ea60f54\"/></g><path d=\"m44.845 283.91v-266.11\" fill=\"none\" stroke=\"#808080\" stroke-linecap=\"square\" stroke-width=\".8\"/><path d=\"m44.845 283.91h357.12\" fill=\"none\" stroke=\"#808080\" stroke-linecap=\"square\" stroke-width=\".8\"/><defs><clipPath id=\"58fc8e2823a\"><rect x=\"44.845\" y=\"17.798\" width=\"357.12\" height=\"266.11\"/></clipPath></defs></svg>"
      ],
      "text/plain": [
       "<Figure size 640x480 with 1 Axes>"
      ]
     },
     "metadata": {
      "needs_background": "light"
     },
     "output_type": "display_data"
    }
   ],
   "source": [
    "plt.plot(times.values(), results.values(), \".-\")\n",
    "plt.plot(times_alt.values(), results_alt.values(), \".-\")\n",
    "plt.plot(times_mps.values(), results_mps.values(), \".-\")\n",
    "plt.plot(times_sl.values(), results_sl.values(), \".-\")\n",
    "plt.plot(times_zp.values(), results_zp.values(), \".-\")\n",
    "plt.show()\n",
    "plt.close()"
   ]
  },
  {
   "cell_type": "code",
   "execution_count": null,
   "id": "951de2da-303a-44f9-b977-50175ced4eeb",
   "metadata": {},
   "outputs": [],
   "source": [
    "plt.plot(sorted(times.values()),     np.abs(np.gradient(*reversed(tuple(zip(*sorted(results.items()     )))))), \".-\", label=\"SL FZ\")\n",
    "# plt.plot(sorted(times_mps.values()), np.abs(np.gradient(*reversed(tuple(zip(*sorted(results_mps.items() )))))), \".-\", label=\"DL MPS\")\n",
    "# plt.plot(sorted(times_sl.values()),  np.abs(np.gradient(*reversed(tuple(zip(*sorted(results_sl.items()  )))))), \".-\", label=\"DL FZ\")\n",
    "# plt.plot(sorted(times_zp.values()),  np.abs(np.gradient(*reversed(tuple(zip(*sorted(results_zp.items()  )))))), \".-\", label=\"DL ZP\")\n",
    "plt.xlabel(\"time\")\n",
    "plt.xscale(\"log\")\n",
    "plt.ylabel(\"dE/dchi\")\n",
    "plt.yscale(\"log\")\n",
    "plt.legend()\n",
    "plt.show()\n",
    "plt.close()"
   ]
  }
 ],
 "metadata": {
  "kernelspec": {
   "display_name": "Python 3",
   "language": "python",
   "name": "python3"
  },
  "language_info": {
   "codemirror_mode": {
    "name": "ipython",
    "version": 3
   },
   "file_extension": ".py",
   "mimetype": "text/x-python",
   "name": "python",
   "nbconvert_exporter": "python",
   "pygments_lexer": "ipython3",
   "version": "3"
  }
 },
 "nbformat": 4,
 "nbformat_minor": 5
}
