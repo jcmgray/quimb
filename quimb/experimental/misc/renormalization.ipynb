{
 "cells": [
  {
   "cell_type": "code",
   "execution_count": null,
   "id": "753b6122-97d3-463c-8fd1-f096d29a6f51",
   "metadata": {},
   "outputs": [],
   "source": [
    "%config InlineBackend.figure_formats = ['svg']\n",
    "import quimb.tensor as qtn\n",
    "import numpy as np\n",
    "import xyzpy as xyz\n",
    "import autoray as ar\n",
    "import cotengra as ctg\n",
    "from quimb.tensor.tensor_core import *"
   ]
  },
  {
   "cell_type": "code",
   "execution_count": null,
   "id": "3145f616-97cb-47ca-8a9e-b6140fe8578f",
   "metadata": {},
   "outputs": [],
   "source": [
    "tn = qtn.TN2D_rand(6, 6, 4, seed=666)"
   ]
  },
  {
   "cell_type": "code",
   "execution_count": null,
   "id": "42ea48f7-6508-4989-99fa-d1f1ad6d8466",
   "metadata": {},
   "outputs": [],
   "source": [
    "# %%timeit\n",
    "tn.apply_to_arrays(ar.lazy.array)\n",
    "Z = tn.contract_compressed(\n",
    "    max_bond=4, cutoff=0.0,\n",
    "    optimize='greedy',\n",
    "    # optimize=ctg.HyperCompressedOptimizer()\n",
    ")\n",
    "# Z = tn.contract(...)\n",
    "# Z.compute()"
   ]
  },
  {
   "cell_type": "code",
   "execution_count": null,
   "id": "249de7f9-6ff2-42a7-b131-2dd3b9a891d2",
   "metadata": {},
   "outputs": [],
   "source": [
    "# %%timeit\n",
    "# tn.apply_to_arrays(ar.lazy.array)\n",
    "# Z = tn.contract_compressed(\n",
    "#     max_bond=4, cutoff=0.0,\n",
    "#     optimize='greedy',\n",
    "# )\n",
    "# list(Z.ascend())"
   ]
  },
  {
   "cell_type": "code",
   "execution_count": null,
   "id": "babaa664-82c7-44f0-b415-cec39523a6fc",
   "metadata": {},
   "outputs": [],
   "source": [
    "# %%timeit\n",
    "# list(Z.ascend())"
   ]
  },
  {
   "cell_type": "code",
   "execution_count": null,
   "id": "840cd49d-462a-4a2b-aa2a-0fe4a2abe949",
   "metadata": {},
   "outputs": [],
   "source": [
    "Z.plot_history_size_footprint()"
   ]
  },
  {
   "cell_type": "code",
   "execution_count": null,
   "id": "0c9c93be-5f81-4d95-86fd-30a2d38beac9",
   "metadata": {},
   "outputs": [],
   "source": [
    "Z.plot_circuit(color_by=\"function\", layout='compact', colors={\"svd_truncated_numba\": \"red\", \"qr_stabilized_numba\": \"orange\"})"
   ]
  },
  {
   "cell_type": "code",
   "execution_count": null,
   "id": "25088f2e-c833-4f77-b2d1-4ccafec1ba0a",
   "metadata": {},
   "outputs": [],
   "source": [
    "Z.plot_circuit(color_by=\"function\", layout='balanced', colors={\"svd_truncated_numba\": \"red\", \"qr_stabilized_numba\": \"orange\"})"
   ]
  },
  {
   "cell_type": "code",
   "execution_count": null,
   "id": "a1a98690-e133-40da-99c6-d1dffb91d8c2",
   "metadata": {},
   "outputs": [],
   "source": [
    "Z.plot_circuit(color_by=\"function\", layout='wide', colors={\"svd_truncated_numba\": \"red\", \"qr_stabilized_numba\": \"orange\"})"
   ]
  },
  {
   "cell_type": "code",
   "execution_count": null,
   "id": "7faab1e3-17cf-4b27-8708-8b1f0053c2a6",
   "metadata": {},
   "outputs": [],
   "source": [
    "Z.plot_graph(colors={\"svd_truncated_numba\": \"red\", \"qr_stabilized_numba\": \"orange\"})"
   ]
  },
  {
   "cell_type": "code",
   "execution_count": null,
   "id": "7911c4de-2632-425f-bd57-cdec3950dc16",
   "metadata": {},
   "outputs": [],
   "source": [
    "# Z.compute()"
   ]
  },
  {
   "cell_type": "code",
   "execution_count": null,
   "id": "99cddf8a-f531-4537-ab65-f66d931adb5a",
   "metadata": {},
   "outputs": [],
   "source": [
    "def frequencies(self):\n",
    "    freq = {}\n",
    "    for node in Z:\n",
    "        freq[node.fn_name] = freq.setdefault(node.fn_name, 0) + 1\n",
    "    return freq\n",
    "\n",
    "def show(self):\n",
    "    line = 0\n",
    "    seen = {}\n",
    "    queue = [(self, ())]\n",
    "    while queue:\n",
    "        t, columns = queue.pop()\n",
    "\n",
    "        prefix = f'{line:>4} '\n",
    "        if columns:\n",
    "            # work out various lines we need to draw based on whether the\n",
    "            # sequence of parents are themselves the last child of their parent\n",
    "            prefix += ''.join('│ ' if not p else '  ' for p in columns[:-1])\n",
    "            prefix += ('└─' if columns[-1] else '├─')\n",
    "\n",
    "        if t.fn_name not in (None, 'None'):\n",
    "            item = f\"{t.fn_name}{list(t.shape)}\"\n",
    "        else:\n",
    "            item = f\"<-{list(t.shape)}\"\n",
    "\n",
    "        if t in seen:\n",
    "            # ignore loops, but point to when it was computed\n",
    "            print(f\"{prefix} ... ({item} from line {seen[t]})\")\n",
    "            continue\n",
    "        print(f\"{prefix}{item}\")\n",
    "        seen[t] = line\n",
    "        line += 1\n",
    "        deps = t.deps\n",
    "        islasts = [True] + [False] * (len(deps) - 1)\n",
    "        for islast, d in zip(islasts, deps):\n",
    "            queue.append((d, columns + (islast,)))"
   ]
  },
  {
   "cell_type": "code",
   "execution_count": null,
   "id": "4b73b14d-fec3-416d-ab60-f72fc6eac4bb",
   "metadata": {},
   "outputs": [],
   "source": [
    "# [\n",
    "#     node.args for node in Z\n",
    "#     if node.fn_name == \"tensordot\"\n",
    "# ]"
   ]
  },
  {
   "cell_type": "code",
   "execution_count": null,
   "id": "8c288045-e41a-422d-9d40-a4174dcb3813",
   "metadata": {},
   "outputs": [],
   "source": [
    "frequencies(Z)"
   ]
  },
  {
   "cell_type": "code",
   "execution_count": null,
   "id": "6400c42a-95cf-4ca7-8d68-1bd48568c9b3",
   "metadata": {},
   "outputs": [],
   "source": [
    "show(Z)"
   ]
  },
  {
   "cell_type": "code",
   "execution_count": null,
   "id": "12bffd57-747f-412a-849a-beb892131fec",
   "metadata": {},
   "outputs": [],
   "source": [
    "{node.fn_name for node in Z}"
   ]
  },
  {
   "cell_type": "code",
   "execution_count": null,
   "id": "018e94e9-114a-4726-b904-1ab037d1a7d1",
   "metadata": {},
   "outputs": [],
   "source": [
    "Z.compute()"
   ]
  },
  {
   "cell_type": "code",
   "execution_count": null,
   "id": "87af8450-befc-4408-8116-d6a198cef5ce",
   "metadata": {},
   "outputs": [],
   "source": [
    "tn.contract_()"
   ]
  },
  {
   "cell_type": "code",
   "execution_count": null,
   "id": "1824fc27-5418-4d75-9bac-e496bdaed80e",
   "metadata": {},
   "outputs": [],
   "source": [
    "import xyzpy as xyz"
   ]
  },
  {
   "cell_type": "code",
   "execution_count": null,
   "id": "8e1577e4-b256-4932-a357-b9755d336300",
   "metadata": {},
   "outputs": [],
   "source": [
    "@xyz.label(['err'], harvester=True)\n",
    "def run(m, n, r, q=1, seed=None):\n",
    "    rng = np.random.default_rng(seed)\n",
    "    X = rng.normal(size=(m, n))\n",
    "    G = np.random.randn(X.shape[1], r)\n",
    "    Q = np.linalg.qr(X @ G)[0]  # m x r\n",
    "    for _ in range(q):\n",
    "        Q = np.linalg.qr(X.T @ Q)[0]\n",
    "        Q = np.linalg.qr(X @ Q)[0]\n",
    "    B = Q.T @ X  # (r, m) (m, n)\n",
    "    Xc = Q @ B  # (m, r) (r, n)\n",
    "    return np.linalg.norm(X - Xc)\n",
    "\n",
    "\n",
    "run.harvest_combos(\n",
    "    cases=[\n",
    "        {\"m\": 10, \"n\": 100},\n",
    "    ],\n",
    "    combos={\n",
    "        \"seed\": range(100),\n",
    "        \"q\": range(4),\n",
    "        \"r\": range(1, 11),\n",
    "    },\n",
    ")"
   ]
  },
  {
   "cell_type": "code",
   "execution_count": null,
   "id": "34998d60-f588-4080-94e3-bbaa2aec26aa",
   "metadata": {},
   "outputs": [],
   "source": [
    "run.full_ds.xyz.infiniplot(\n",
    "    x=\"r\",\n",
    "    y=\"err\",\n",
    "    color=\"q\",\n",
    "    aggregate=\"seed\",\n",
    "    height=10,\n",
    ")[0]"
   ]
  },
  {
   "cell_type": "code",
   "execution_count": null,
   "id": "f9140983-c88f-4f52-a5be-4e33cd91b127",
   "metadata": {},
   "outputs": [],
   "source": [
    "X = np.random.randn(3, 3, 3, 3)\n",
    "XX = np.tensordot(X, X, axes=([0, 1, 2], [0, 1, 2]))\n",
    "XX\n",
    "s2, W = do(\"linalg.eigh\", XX)\n",
    "\n",
    "side = \"right\"\n",
    "\n",
    "# if keep is not None:\n",
    "#     # outer dimension smaller -> exactly low-rank\n",
    "#     s2 = s2[-keep:]\n",
    "#     W = W[:, -keep:]\n",
    "\n",
    "# might have negative eigenvalues due to numerical error from squaring\n",
    "s2 = do(\"clip\", s2, s2[-1] * 1e-12, None)\n",
    "s = do(\"sqrt\", s2)\n",
    "\n",
    "if side == \"right\":\n",
    "    factor = decomp.ldmul(s, dag(W))\n",
    "else:  # 'left'\n",
    "    factor = decomp.rdmul(W, s)\n",
    "\n",
    "factor"
   ]
  },
  {
   "cell_type": "code",
   "execution_count": null,
   "id": "ce13a5df-9e4e-4c57-b7f9-9ab634099a33",
   "metadata": {},
   "outputs": [],
   "source": [
    "Y = np.einsum(\n",
    "    'bi,bj,bk,ijkl->bl',\n",
    "    np.random.randn(3, 3),\n",
    "    np.random.randn(3, 3),\n",
    "    np.random.randn(3, 3),\n",
    "    X\n",
    ")\n",
    "Q = np.linalg.qr(Y)[0]\n",
    "U, s, VH = np.linalg.svd(Q, full_matrices=False)\n",
    "VH"
   ]
  },
  {
   "cell_type": "code",
   "execution_count": null,
   "id": "a88287c8-95e7-4bc4-8954-d20d6113e3b7",
   "metadata": {},
   "outputs": [],
   "source": [
    "Q"
   ]
  },
  {
   "cell_type": "code",
   "execution_count": null,
   "id": "8b9e6058-da43-40bd-aa13-e76059a649f4",
   "metadata": {},
   "outputs": [],
   "source": [
    "L = 8\n",
    "D = 3\n",
    "chi = 9\n",
    "# tn = qtn.TN3D_rand(L, L, L, D)\n",
    "tn = qtn.TN3D_classical_ising_partition_function(L, L, L, 0.3)"
   ]
  },
  {
   "cell_type": "code",
   "execution_count": null,
   "id": "7e4a1756-0eff-4410-80a5-b33d0e1623ad",
   "metadata": {},
   "outputs": [],
   "source": [
    "%%time\n",
    "tn.contract_ctmrg(max_bond=chi, cutoff=0.0).contract(..., optimize='auto-hq')"
   ]
  },
  {
   "cell_type": "code",
   "execution_count": null,
   "id": "1874d0c0-25a7-4056-8747-a5424abb6069",
   "metadata": {},
   "outputs": [],
   "source": [
    "%%time\n",
    "tn.contract_boundary(max_bond=chi, cutoff=0.0)"
   ]
  }
 ],
 "metadata": {
  "kernelspec": {
   "display_name": "Python 3",
   "language": "python",
   "name": "python3"
  },
  "language_info": {
   "codemirror_mode": {
    "name": "ipython",
    "version": 3
   },
   "file_extension": ".py",
   "mimetype": "text/x-python",
   "name": "python",
   "nbconvert_exporter": "python",
   "pygments_lexer": "ipython3",
   "version": "3"
  },
  "vscode": {
   "interpreter": {
    "hash": "769be6f74ca81b4ead01804ae9dca2202c8e847c8db6e9b43fa5f351bb96fc29"
   }
  }
 },
 "nbformat": 4,
 "nbformat_minor": 4
}
