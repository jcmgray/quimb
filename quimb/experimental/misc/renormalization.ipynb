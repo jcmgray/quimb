{
 "cells": [
  {
   "cell_type": "code",
   "execution_count": null,
   "metadata": {},
   "outputs": [],
   "source": [
    "%config InlineBackend.figure_formats = ['svg']\n",
    "import quimb.tensor as qtn\n",
    "import numpy as np \n",
    "import xyzpy as xyz\n",
    "import autoray as ar\n",
    "import cotengra as ctg\n",
    "from quimb.tensor.tensor_core import *"
   ]
  },
  {
   "cell_type": "code",
   "execution_count": null,
   "metadata": {},
   "outputs": [],
   "source": [
    "tn = qtn.TN2D_rand(6, 6, 4, seed=666)"
   ]
  },
  {
   "cell_type": "code",
   "execution_count": null,
   "metadata": {},
   "outputs": [],
   "source": [
    "# %%timeit\n",
    "tn.apply_to_arrays(ar.lazy.array)\n",
    "Z = tn.contract_compressed(\n",
    "    max_bond=4, cutoff=0.0, \n",
    "    optimize='greedy',\n",
    "    # optimize=ctg.HyperCompressedOptimizer()\n",
    ")\n",
    "# Z = tn.contract(...)\n",
    "# Z.compute()"
   ]
  },
  {
   "cell_type": "code",
   "execution_count": null,
   "metadata": {},
   "outputs": [],
   "source": [
    "# %%timeit\n",
    "# tn.apply_to_arrays(ar.lazy.array)\n",
    "# Z = tn.contract_compressed(\n",
    "#     max_bond=4, cutoff=0.0, \n",
    "#     optimize='greedy',\n",
    "# )\n",
    "# list(Z.ascend())"
   ]
  },
  {
   "cell_type": "code",
   "execution_count": null,
   "metadata": {},
   "outputs": [],
   "source": [
    "# %%timeit\n",
    "# list(Z.ascend())"
   ]
  },
  {
   "cell_type": "code",
   "execution_count": null,
   "metadata": {},
   "outputs": [],
   "source": [
    "Z.plot_history_size_footprint()"
   ]
  },
  {
   "cell_type": "code",
   "execution_count": null,
   "metadata": {},
   "outputs": [],
   "source": [
    "Z.plot_circuit(color_by=\"function\", layout='compact', colors={\"svd_truncated_numba\": \"red\", \"qr_stabilized_numba\": \"orange\"})"
   ]
  },
  {
   "cell_type": "code",
   "execution_count": null,
   "metadata": {},
   "outputs": [],
   "source": [
    "Z.plot_circuit(color_by=\"function\", layout='balanced', colors={\"svd_truncated_numba\": \"red\", \"qr_stabilized_numba\": \"orange\"})"
   ]
  },
  {
   "cell_type": "code",
   "execution_count": null,
   "metadata": {},
   "outputs": [],
   "source": [
    "Z.plot_circuit(color_by=\"function\", layout='wide', colors={\"svd_truncated_numba\": \"red\", \"qr_stabilized_numba\": \"orange\"})"
   ]
  },
  {
   "cell_type": "code",
   "execution_count": null,
   "metadata": {},
   "outputs": [],
   "source": [
    "Z.plot_graph(colors={\"svd_truncated_numba\": \"red\", \"qr_stabilized_numba\": \"orange\"})"
   ]
  },
  {
   "cell_type": "code",
   "execution_count": null,
   "metadata": {},
   "outputs": [],
   "source": [
    "# Z.compute()"
   ]
  },
  {
   "cell_type": "code",
   "execution_count": null,
   "metadata": {},
   "outputs": [],
   "source": [
    "def frequencies(self):\n",
    "    freq = {}\n",
    "    for node in Z:\n",
    "        freq[node.fn_name] = freq.setdefault(node.fn_name, 0) + 1\n",
    "    return freq\n",
    "\n",
    "def show(self):\n",
    "    line = 0\n",
    "    seen = {}\n",
    "    queue = [(self, ())]\n",
    "    while queue:\n",
    "        t, columns = queue.pop()\n",
    "\n",
    "        prefix = f'{line:>4} '\n",
    "        if columns:\n",
    "            # work out various lines we need to draw based on whether the \n",
    "            # sequence of parents are themselves the last child of their parent\n",
    "            prefix += ''.join('│ ' if not p else '  ' for p in columns[:-1])\n",
    "            prefix += ('└─' if columns[-1] else '├─')\n",
    "\n",
    "        if t.fn_name not in (None, 'None'):\n",
    "            item = f\"{t.fn_name}{list(t.shape)}\"\n",
    "        else:\n",
    "            item = f\"<-{list(t.shape)}\"\n",
    "\n",
    "        if t in seen:\n",
    "            # ignore loops, but point to when it was computed\n",
    "            print(f\"{prefix} ... ({item} from line {seen[t]})\")\n",
    "            continue\n",
    "        print(f\"{prefix}{item}\")\n",
    "        seen[t] = line\n",
    "        line += 1\n",
    "        deps = t.deps\n",
    "        islasts = [True] + [False] * (len(deps) - 1)\n",
    "        for islast, d in zip(islasts, deps):\n",
    "            queue.append((d, columns + (islast,)))"
   ]
  },
  {
   "cell_type": "code",
   "execution_count": null,
   "metadata": {},
   "outputs": [],
   "source": [
    "# [\n",
    "#     node.args for node in Z\n",
    "#     if node.fn_name == \"tensordot\"\n",
    "# ]"
   ]
  },
  {
   "cell_type": "code",
   "execution_count": null,
   "metadata": {},
   "outputs": [],
   "source": [
    "frequencies(Z)"
   ]
  },
  {
   "cell_type": "code",
   "execution_count": null,
   "metadata": {},
   "outputs": [],
   "source": [
    "show(Z)"
   ]
  },
  {
   "cell_type": "code",
   "execution_count": null,
   "metadata": {},
   "outputs": [],
   "source": [
    "{node.fn_name for node in Z}"
   ]
  },
  {
   "cell_type": "code",
   "execution_count": null,
   "metadata": {},
   "outputs": [],
   "source": [
    "Z.compute()"
   ]
  },
  {
   "cell_type": "code",
   "execution_count": null,
   "metadata": {},
   "outputs": [],
   "source": [
    "tn.contract_()"
   ]
  },
  {
   "cell_type": "code",
   "execution_count": null,
   "metadata": {},
   "outputs": [],
   "source": [
    "import xyzpy as xyz"
   ]
  },
  {
   "cell_type": "code",
   "execution_count": null,
   "metadata": {},
   "outputs": [],
   "source": [
    "@xyz.label(['err'], harvester=True)\n",
    "def run(m, n, r, q=1, seed=None):\n",
    "    rng = np.random.default_rng(seed)\n",
    "    X = rng.normal(size=(m, n))\n",
    "    G = np.random.randn(X.shape[1], r)\n",
    "    Q = np.linalg.qr(X @ G)[0]  # m x r\n",
    "    for _ in range(q):\n",
    "        Q = np.linalg.qr(X.T @ Q)[0]\n",
    "        Q = np.linalg.qr(X @ Q)[0]\n",
    "    B = Q.T @ X  # (r, m) (m, n)\n",
    "    Xc = Q @ B  # (m, r) (r, n)\n",
    "    return np.linalg.norm(X - Xc)\n",
    "\n",
    "\n",
    "run.harvest_combos(\n",
    "    cases=[\n",
    "        {\"m\": 10, \"n\": 100},\n",
    "    ],\n",
    "    combos={\n",
    "        \"seed\": range(100), \n",
    "        \"q\": range(4),\n",
    "        \"r\": range(1, 11),\n",
    "    },\n",
    ")"
   ]
  },
  {
   "cell_type": "code",
   "execution_count": null,
   "metadata": {},
   "outputs": [],
   "source": [
    "run.full_ds.xyz.infiniplot(\n",
    "    x=\"r\", \n",
    "    y=\"err\", \n",
    "    color=\"q\",\n",
    "    aggregate=\"seed\",\n",
    "    height=10,\n",
    ")[0]"
   ]
  },
  {
   "cell_type": "code",
   "execution_count": null,
   "metadata": {},
   "outputs": [],
   "source": [
    "X = np.random.randn(3, 3, 3, 3)\n",
    "XX = np.tensordot(X, X, axes=([0, 1, 2], [0, 1, 2]))\n",
    "XX\n",
    "s2, W = do(\"linalg.eigh\", XX)\n",
    "\n",
    "side = \"right\"\n",
    "\n",
    "# if keep is not None:\n",
    "#     # outer dimension smaller -> exactly low-rank\n",
    "#     s2 = s2[-keep:]\n",
    "#     W = W[:, -keep:]\n",
    "\n",
    "# might have negative eigenvalues due to numerical error from squaring\n",
    "s2 = do(\"clip\", s2, s2[-1] * 1e-12, None)\n",
    "s = do(\"sqrt\", s2)\n",
    "\n",
    "if side == \"right\":\n",
    "    factor = decomp.ldmul(s, dag(W))\n",
    "else:  # 'left'\n",
    "    factor = decomp.rdmul(W, s)\n",
    "\n",
    "factor"
   ]
  },
  {
   "cell_type": "code",
   "execution_count": null,
   "metadata": {},
   "outputs": [],
   "source": [
    "Y = np.einsum(\n",
    "    'bi,bj,bk,ijkl->bl',\n",
    "    np.random.randn(3, 3),\n",
    "    np.random.randn(3, 3),\n",
    "    np.random.randn(3, 3),\n",
    "    X\n",
    ")\n",
    "Q = np.linalg.qr(Y)[0]\n",
    "U, s, VH = np.linalg.svd(Q, full_matrices=False)\n",
    "VH"
   ]
  },
  {
   "cell_type": "code",
   "execution_count": null,
   "metadata": {},
   "outputs": [],
   "source": [
    "Q"
   ]
  },
  {
   "cell_type": "code",
   "execution_count": null,
   "metadata": {},
   "outputs": [],
   "source": [
    "L = 8\n",
    "D = 3\n",
    "chi = 9\n",
    "# tn = qtn.TN3D_rand(L, L, L, D)\n",
    "tn = qtn.TN3D_classical_ising_partition_function(L, L, L, 0.3)"
   ]
  },
  {
   "cell_type": "code",
   "execution_count": null,
   "metadata": {},
   "outputs": [],
   "source": [
    "%%time\n",
    "tn.contract_ctmrg(max_bond=chi, cutoff=0.0).contract(..., optimize='auto-hq')"
   ]
  },
  {
   "cell_type": "code",
   "execution_count": null,
   "metadata": {},
   "outputs": [],
   "source": [
    "%%time\n",
    "tn.contract_boundary(max_bond=chi, cutoff=0.0)"
   ]
  }
 ],
 "metadata": {
  "kernelspec": {
   "display_name": "numpy",
   "language": "python",
   "name": "python3"
  },
  "language_info": {
   "codemirror_mode": {
    "name": "ipython",
    "version": 3
   },
   "file_extension": ".py",
   "mimetype": "text/x-python",
   "name": "python",
   "nbconvert_exporter": "python",
   "pygments_lexer": "ipython3",
   "version": "3.10.6 | packaged by conda-forge | (main, Aug 22 2022, 20:41:22) [Clang 13.0.1 ]"
  },
  "vscode": {
   "interpreter": {
    "hash": "769be6f74ca81b4ead01804ae9dca2202c8e847c8db6e9b43fa5f351bb96fc29"
   }
  }
 },
 "nbformat": 4,
 "nbformat_minor": 4
}
